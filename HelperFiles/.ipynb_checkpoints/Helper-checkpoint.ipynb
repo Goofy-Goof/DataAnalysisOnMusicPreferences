{
 "cells": [
  {
   "cell_type": "code",
   "execution_count": null,
   "metadata": {},
   "outputs": [],
   "source": [
    "import pandas as pd \n",
    "import numpy as np \n",
    "from matplotlib import pyplot \n",
    "import seaborn as sns \n",
    "\n",
    "\n",
    "class helper:\n",
    "    \n",
    "    def data_properties(year):\n",
    "        print(\"properties for year are as follows :\\n\")\n",
    "        print(\"column details:\\n\")\n",
    "        print(year.columns)\n",
    "        print(\"shape:\\n\")\n",
    "        print(year.shape)\n",
    "        print(\"info about dataset:\\n\")\n",
    "        print(year.info())\n",
    "        print(\"\\n\")\n",
    "        \n"
   ]
  }
 ],
 "metadata": {
  "kernelspec": {
   "display_name": "Python 3",
   "language": "python",
   "name": "python3"
  },
  "language_info": {
   "codemirror_mode": {
    "name": "ipython",
    "version": 3
   },
   "file_extension": ".py",
   "mimetype": "text/x-python",
   "name": "python",
   "nbconvert_exporter": "python",
   "pygments_lexer": "ipython3",
   "version": "3.7.4"
  }
 },
 "nbformat": 4,
 "nbformat_minor": 2
}
