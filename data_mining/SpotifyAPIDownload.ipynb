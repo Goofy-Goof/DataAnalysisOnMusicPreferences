{
 "cells": [
  {
   "cell_type": "markdown",
   "metadata": {},
   "source": [
    "# Playlist download with Spotipy"
   ]
  },
  {
   "cell_type": "markdown",
   "metadata": {},
   "source": [
    "# Overview\n",
    "    1) Basic settings\n",
    "    2) Process data\n",
    "    3) Batch execution"
   ]
  },
  {
   "cell_type": "markdown",
   "metadata": {},
   "source": [
    "# 1) Basic settings and class"
   ]
  },
  {
   "cell_type": "code",
   "execution_count": 20,
   "metadata": {},
   "outputs": [],
   "source": [
    "import os\n",
    "import json\n",
    "import pandas as pd\n",
    "import datetime\n",
    "import spotipy\n",
    "import sys\n",
    "from urllib3.exceptions import ReadTimeoutError\n",
    "from spotipy.oauth2 import SpotifyClientCredentials\n",
    "sp = spotipy.Spotify(client_credentials_manager=SpotifyClientCredentials())"
   ]
  },
  {
   "cell_type": "markdown",
   "metadata": {},
   "source": [
    "# Provide Credentials to request Spotify API"
   ]
  },
  {
   "cell_type": "code",
   "execution_count": 21,
   "metadata": {},
   "outputs": [],
   "source": [
    "os.environ['SPOTIPY_CLIENT_SECRET'] = '61536735f1bd40fcbefcf6d9d7e020e0'\n",
    "os.environ['SPOTIPY_CLIENT_ID'] = '204a173aa42349368ddc04651ecc1b1f'"
   ]
  },
  {
   "cell_type": "markdown",
   "metadata": {},
   "source": [
    "# Simple class for reusability"
   ]
  },
  {
   "cell_type": "code",
   "execution_count": 26,
   "metadata": {},
   "outputs": [],
   "source": [
    "class PlaylistDownloader(object):\n",
    "    sp = ''\n",
    "    df_playlist = None\n",
    "    df_playlistid = ''\n",
    "    \n",
    "    def __init__(self, playlistid: str):\n",
    "        self.sp = spotipy.Spotify(client_credentials_manager=SpotifyClientCredentials())\n",
    "        self.playlistid = playlistid\n",
    "    \n",
    "    def get_playlist(self, playlistid: str = '') -> pd.DataFrame:\n",
    "        if playlistid == '':\n",
    "            playlistid = self.playlistid\n",
    "        playlist_2019 = sp.playlist(playlistid)\n",
    "        self.df_playlist = pd.json_normalize(playlist_2019['tracks']['items'])\n",
    "        return self.df_playlist\n",
    "    \n",
    "    def get_audio_features(self) -> pd.DataFrame:\n",
    "        audio_features = None\n",
    "        print(\"Downloading audio features for \" +str(self.playlistid)+\" - This may take a while:\")\n",
    "        while audio_features is None:\n",
    "            try:\n",
    "                audio_features = self.df_playlist['track.id'].apply(lambda x: sp.audio_features(x) if x != None and not isinstance(x,float) else None)\n",
    "            except ReadTimeoutError:\n",
    "                print('timed out')\n",
    "                continue\n",
    "            except KeyboardInterrupt:\n",
    "                exit()\n",
    "            except KeyError:\n",
    "                break\n",
    "            except:\n",
    "                e = sys.exc_info()[0]\n",
    "                print(\"audiofeatures: \",e)\n",
    "        self.df_playlist[\"audio_features\"] = audio_features\n",
    "        print('Flattening Audio features data')\n",
    "        features_list = []\n",
    "        for song_feature in self.df_playlist[\"audio_features\"]:\n",
    "            features_list.append(song_feature[0])\n",
    "            \n",
    "        df_with_audio_features = pd.DataFrame(features_list)\n",
    "        print('Looking for artistnames in subdictionary')\n",
    "        artist_names = []\n",
    "        for artist in self.df_playlist[\"track.album.artists\"]:\n",
    "            artist_names.append(artist[0]['name'])\n",
    "        df_with_audio_features['artists'] = artist_names\n",
    "        self.df_playlist = pd.concat([self.df_playlist, df_with_audio_features],join=\"inner\",axis=1)\n",
    "        return self.df_playlist\n",
    "    \n",
    "    def clean(self) -> pd.DataFrame:\n",
    "        drop_list = ['added_at', 'is_local', 'primary_color', 'added_by.external_urls.spotify', 'added_by.href', 'added_by.id', 'added_by.type', 'track.album.album_type','track.album.artists','track.album.available_markets', 'track.album.external_urls.spotify', 'added_by.uri','track.album.href','track.album.id','track.album.images','track.album.name','track.album.release_date','track.album.release_date_precision', 'track.album.total_tracks','track.album.type','track.album.uri','track.artists','track.available_markets','track.disc_number','track.duration_ms','track.episode','track.explicit','track.external_ids.isrc','track.external_urls.spotify','track.href','track.is_local','track.preview_url','track.track','track.type','track.url','track.uri','video_thumbnail','audio_features','type','url','track.id','track_href','analysis_url','uri','track.track_number','video_thumbnail.url']\n",
    "        rename_dict = {'track.name':'name','track.popularity':'popularity'}\n",
    "        for key in rename_dict:\n",
    "            if key in self.df_playlist:\n",
    "                self.df_playlist.rename(columns={key:rename_dict[key]},inplace=True)\n",
    "        for drop in drop_list:\n",
    "            if drop in self.df_playlist:\n",
    "                self.df_playlist.drop(columns=drop,inplace=True);\n",
    "        return self.df_playlist"
   ]
  },
  {
   "cell_type": "markdown",
   "metadata": {},
   "source": [
    "# 2) Process DATA\n",
    "# Enter playlist ID"
   ]
  },
  {
   "cell_type": "code",
   "execution_count": 5,
   "metadata": {},
   "outputs": [
    {
     "ename": "NameError",
     "evalue": "name 'playlist_id' is not defined",
     "output_type": "error",
     "traceback": [
      "\u001b[0;31m---------------------------------------------------------------------------\u001b[0m",
      "\u001b[0;31mNameError\u001b[0m                                 Traceback (most recent call last)",
      "\u001b[0;32m<ipython-input-5-96f4ea09a606>\u001b[0m in \u001b[0;36m<module>\u001b[0;34m\u001b[0m\n\u001b[1;32m      2\u001b[0m \u001b[0;34m'Top100-Charts-Global-2018'\u001b[0m\u001b[0;34m:\u001b[0m\u001b[0;34m'37i9dQZF1DWSeqc9t1iHgX'\u001b[0m\u001b[0;34m,\u001b[0m\u001b[0;34m\u001b[0m\u001b[0;34m\u001b[0m\u001b[0m\n\u001b[1;32m      3\u001b[0m 'Top100-Charts-USA-2017':'37i9dQZF1DX7Axsg3uaDZb'}\n\u001b[0;32m----> 4\u001b[0;31m \u001b[0mplaylist_d\u001b[0m \u001b[0;34m=\u001b[0m \u001b[0mPlaylistDownloader\u001b[0m\u001b[0;34m(\u001b[0m\u001b[0mplaylist_id\u001b[0m\u001b[0;34m)\u001b[0m\u001b[0;34m\u001b[0m\u001b[0;34m\u001b[0m\u001b[0m\n\u001b[0m\u001b[1;32m      5\u001b[0m \u001b[0mplaylist_d\u001b[0m\u001b[0;34m.\u001b[0m\u001b[0mplaylistid\u001b[0m\u001b[0;34m\u001b[0m\u001b[0;34m\u001b[0m\u001b[0m\n",
      "\u001b[0;31mNameError\u001b[0m: name 'playlist_id' is not defined"
     ]
    }
   ],
   "source": [
    "playlistid = '37i9dQZF1DXcz8eC5kMSWZ'\n",
    "playlist_d = PlaylistDownloader(playlist_id)\n",
    "playlist_d.playlistid\n"
   ]
  },
  {
   "cell_type": "markdown",
   "metadata": {},
   "source": [
    "# Download the playlist"
   ]
  },
  {
   "cell_type": "code",
   "execution_count": null,
   "metadata": {},
   "outputs": [],
   "source": [
    "playlist_d.get_playlist()\n",
    "display(playlist_d.df_playlist)"
   ]
  },
  {
   "cell_type": "markdown",
   "metadata": {},
   "source": [
    "# Download music features"
   ]
  },
  {
   "cell_type": "code",
   "execution_count": null,
   "metadata": {
    "scrolled": true
   },
   "outputs": [],
   "source": [
    "playlist_d.get_audio_features()\n",
    "playlist_d.df_playlist"
   ]
  },
  {
   "cell_type": "markdown",
   "metadata": {},
   "source": [
    "# Cleaning data"
   ]
  },
  {
   "cell_type": "code",
   "execution_count": null,
   "metadata": {},
   "outputs": [],
   "source": [
    "playlist_d.clean()\n",
    "playlist_d.df_playlist"
   ]
  },
  {
   "cell_type": "markdown",
   "metadata": {},
   "source": [
    "# Save to file"
   ]
  },
  {
   "cell_type": "code",
   "execution_count": 6,
   "metadata": {},
   "outputs": [
    {
     "ename": "NameError",
     "evalue": "name 'playlist_d' is not defined",
     "output_type": "error",
     "traceback": [
      "\u001b[0;31m---------------------------------------------------------------------------\u001b[0m",
      "\u001b[0;31mNameError\u001b[0m                                 Traceback (most recent call last)",
      "\u001b[0;32m<ipython-input-6-2532a20e191d>\u001b[0m in \u001b[0;36m<module>\u001b[0;34m\u001b[0m\n\u001b[0;32m----> 1\u001b[0;31m \u001b[0mplaylist_d\u001b[0m\u001b[0;34m.\u001b[0m\u001b[0mdf_playlist\u001b[0m\u001b[0;34m.\u001b[0m\u001b[0mto_csv\u001b[0m\u001b[0;34m(\u001b[0m\u001b[0mplaylist_id\u001b[0m\u001b[0;34m+\u001b[0m\u001b[0;34m'.csv'\u001b[0m\u001b[0;34m,\u001b[0m \u001b[0mmode\u001b[0m\u001b[0;34m=\u001b[0m\u001b[0;34m'a'\u001b[0m\u001b[0;34m,\u001b[0m \u001b[0mheader\u001b[0m\u001b[0;34m=\u001b[0m\u001b[0;32mTrue\u001b[0m\u001b[0;34m)\u001b[0m\u001b[0;34m\u001b[0m\u001b[0;34m\u001b[0m\u001b[0m\n\u001b[0m",
      "\u001b[0;31mNameError\u001b[0m: name 'playlist_d' is not defined"
     ]
    }
   ],
   "source": [
    "playlist_d.df_playlist.to_csv(playlist_id+'.csv', mode='a', header=True)"
   ]
  },
  {
   "cell_type": "markdown",
   "metadata": {},
   "source": [
    "# 3) Batch execution"
   ]
  },
  {
   "cell_type": "code",
   "execution_count": 28,
   "metadata": {},
   "outputs": [],
   "source": [
    "playlist_id_dictonary = {'Top50-Charts-Global-2019':'37i9dQZF1DXcz8eC5kMSWZ',\n",
    "'Top100-Charts-Global-2018':'37i9dQZF1DWSeqc9t1iHgX',\n",
    "'Top100-Charts-USA-2017':'37i9dQZF1DX7Axsg3uaDZb'}\n"
   ]
  },
  {
   "cell_type": "code",
   "execution_count": 29,
   "metadata": {},
   "outputs": [
    {
     "name": "stdout",
     "output_type": "stream",
     "text": [
      "Downloading audio features for 37i9dQZF1DXcz8eC5kMSWZ - This may take a while:\n",
      "Flattening Audio features data\n",
      "Looking for artistnames in subdictionary\n",
      "Downloading audio features for 37i9dQZF1DWSeqc9t1iHgX - This may take a while:\n",
      "Flattening Audio features data\n",
      "Looking for artistnames in subdictionary\n",
      "Downloading audio features for 37i9dQZF1DX7Axsg3uaDZb - This may take a while:\n",
      "Flattening Audio features data\n",
      "Looking for artistnames in subdictionary\n",
      "Done\n"
     ]
    }
   ],
   "source": [
    "for playlist_name in playlist_id_dictonary:\n",
    "    playlist_d = PlaylistDownloader(playlist_id_dictonary[playlist_name])\n",
    "    playlist_d.get_playlist()\n",
    "    playlist_d.get_audio_features()\n",
    "    playlist_d.clean()\n",
    "    playlist_d.df_playlist.to_csv(playlist_name+'.csv', mode='a', header=True)\n",
    "\n",
    "print(\"Done\")"
   ]
  }
 ],
 "metadata": {
  "kernelspec": {
   "display_name": "Python 3",
   "language": "python",
   "name": "python3"
  },
  "language_info": {
   "codemirror_mode": {
    "name": "ipython",
    "version": 3
   },
   "file_extension": ".py",
   "mimetype": "text/x-python",
   "name": "python",
   "nbconvert_exporter": "python",
   "pygments_lexer": "ipython3",
   "version": "3.8.2"
  }
 },
 "nbformat": 4,
 "nbformat_minor": 4
}
