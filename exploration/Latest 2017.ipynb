{
 "cells": [
  {
   "cell_type": "code",
   "execution_count": null,
   "metadata": {},
   "outputs": [],
   "source": []
  },
  {
   "cell_type": "code",
   "execution_count": 1,
   "metadata": {},
   "outputs": [
    {
     "name": "stderr",
     "output_type": "stream",
     "text": [
      "E:\\Anaconda\\lib\\site-packages\\statsmodels\\tools\\_testing.py:19: FutureWarning: pandas.util.testing is deprecated. Use the functions in the public API at pandas.testing instead.\n",
      "  import pandas.util.testing as tm\n"
     ]
    },
    {
     "data": {
      "text/html": [
       "        <script type=\"text/javascript\">\n",
       "        window.PlotlyConfig = {MathJaxConfig: 'local'};\n",
       "        if (window.MathJax) {MathJax.Hub.Config({SVG: {font: \"STIX-Web\"}});}\n",
       "        if (typeof require !== 'undefined') {\n",
       "        require.undef(\"plotly\");\n",
       "        requirejs.config({\n",
       "            paths: {\n",
       "                'plotly': ['https://cdn.plot.ly/plotly-latest.min']\n",
       "            }\n",
       "        });\n",
       "        require(['plotly'], function(Plotly) {\n",
       "            window._Plotly = Plotly;\n",
       "        });\n",
       "        }\n",
       "        </script>\n",
       "        "
      ]
     },
     "metadata": {},
     "output_type": "display_data"
    }
   ],
   "source": [
    "import pandas as pd\n",
    "import numpy as np\n",
    "import seaborn as sns\n",
    "from matplotlib import pyplot as plt\n",
    "%matplotlib inline\n",
    "from textblob import TextBlob\n",
    "from sklearn.model_selection import train_test_split\n",
    "\n",
    "from xgboost import XGBClassifier\n",
    "from sklearn.ensemble import RandomForestClassifier\n",
    "from xgboost import plot_importance\n",
    "from sklearn.preprocessing import MinMaxScaler\n",
    "from sklearn.decomposition import PCA\n",
    "\n",
    "import plotly.offline as py\n",
    "py.init_notebook_mode(connected=True)\n",
    "import plotly.graph_objs as go\n",
    "import plotly.tools as tls\n",
    "from sklearn.manifold import TSNE\n",
    "import time\n",
    "\n"
   ]
  },
  {
   "cell_type": "code",
   "execution_count": null,
   "metadata": {},
   "outputs": [],
   "source": []
  },
  {
   "cell_type": "markdown",
   "metadata": {},
   "source": [
    "# Load the data"
   ]
  },
  {
   "cell_type": "code",
   "execution_count": 2,
   "metadata": {},
   "outputs": [],
   "source": [
    "year='../Data/datasetsFinalaizedForEDA/datasets_top100-2017.csv'\n",
    "df_new=pd.read_csv('../Data/intermediate datasets-ToBeUsedForRanking/df_2017_new.csv')\n",
    "new_dataframe_name=\"../Data/intermediate datasets-ToBeUsedForRanking/df_2017_new.csv\"\n"
   ]
  },
  {
   "cell_type": "code",
   "execution_count": 3,
   "metadata": {},
   "outputs": [],
   "source": [
    "def load(year):\n",
    "    df=pd.read_csv(year)\n",
    "    return df\n",
    "\n",
    "#df_2019=pd.read_csv('../data/datasets_top50-2019.csv',encoding='latin-1')\n"
   ]
  },
  {
   "cell_type": "code",
   "execution_count": 4,
   "metadata": {},
   "outputs": [
    {
     "data": {
      "text/html": [
       "<div>\n",
       "<style scoped>\n",
       "    .dataframe tbody tr th:only-of-type {\n",
       "        vertical-align: middle;\n",
       "    }\n",
       "\n",
       "    .dataframe tbody tr th {\n",
       "        vertical-align: top;\n",
       "    }\n",
       "\n",
       "    .dataframe thead th {\n",
       "        text-align: right;\n",
       "    }\n",
       "</style>\n",
       "<table border=\"1\" class=\"dataframe\">\n",
       "  <thead>\n",
       "    <tr style=\"text-align: right;\">\n",
       "      <th></th>\n",
       "      <th>id</th>\n",
       "      <th>name</th>\n",
       "      <th>artists</th>\n",
       "      <th>danceability</th>\n",
       "      <th>energy</th>\n",
       "      <th>key</th>\n",
       "      <th>loudness</th>\n",
       "      <th>mode</th>\n",
       "      <th>speechiness</th>\n",
       "      <th>acousticness</th>\n",
       "      <th>instrumentalness</th>\n",
       "      <th>liveness</th>\n",
       "      <th>valence</th>\n",
       "      <th>tempo</th>\n",
       "      <th>duration_ms</th>\n",
       "      <th>time_signature</th>\n",
       "    </tr>\n",
       "  </thead>\n",
       "  <tbody>\n",
       "    <tr>\n",
       "      <th>0</th>\n",
       "      <td>7qiZfU4dY1lWllzX7mPBI</td>\n",
       "      <td>Shape of You</td>\n",
       "      <td>Ed Sheeran</td>\n",
       "      <td>0.825</td>\n",
       "      <td>0.652</td>\n",
       "      <td>1.0</td>\n",
       "      <td>-3.183</td>\n",
       "      <td>0.0</td>\n",
       "      <td>0.0802</td>\n",
       "      <td>0.5810</td>\n",
       "      <td>0.000000</td>\n",
       "      <td>0.0931</td>\n",
       "      <td>0.9310</td>\n",
       "      <td>95.977</td>\n",
       "      <td>233713.0</td>\n",
       "      <td>4.0</td>\n",
       "    </tr>\n",
       "    <tr>\n",
       "      <th>1</th>\n",
       "      <td>5CtI0qwDJkDQGwXD1H1cL</td>\n",
       "      <td>Despacito - Remix</td>\n",
       "      <td>Luis Fonsi</td>\n",
       "      <td>0.694</td>\n",
       "      <td>0.815</td>\n",
       "      <td>2.0</td>\n",
       "      <td>-4.328</td>\n",
       "      <td>1.0</td>\n",
       "      <td>0.1200</td>\n",
       "      <td>0.2290</td>\n",
       "      <td>0.000000</td>\n",
       "      <td>0.0924</td>\n",
       "      <td>0.8130</td>\n",
       "      <td>88.931</td>\n",
       "      <td>228827.0</td>\n",
       "      <td>4.0</td>\n",
       "    </tr>\n",
       "    <tr>\n",
       "      <th>2</th>\n",
       "      <td>4aWmUDTfIPGksMNLV2rQP</td>\n",
       "      <td>Despacito (Featuring Daddy Yankee)</td>\n",
       "      <td>Luis Fonsi</td>\n",
       "      <td>0.660</td>\n",
       "      <td>0.786</td>\n",
       "      <td>2.0</td>\n",
       "      <td>-4.757</td>\n",
       "      <td>1.0</td>\n",
       "      <td>0.1700</td>\n",
       "      <td>0.2090</td>\n",
       "      <td>0.000000</td>\n",
       "      <td>0.1120</td>\n",
       "      <td>0.8460</td>\n",
       "      <td>177.833</td>\n",
       "      <td>228200.0</td>\n",
       "      <td>4.0</td>\n",
       "    </tr>\n",
       "    <tr>\n",
       "      <th>3</th>\n",
       "      <td>6RUKPb4LETWmmr3iAEQkt</td>\n",
       "      <td>Something Just Like This</td>\n",
       "      <td>The Chainsmokers</td>\n",
       "      <td>0.617</td>\n",
       "      <td>0.635</td>\n",
       "      <td>11.0</td>\n",
       "      <td>-6.769</td>\n",
       "      <td>0.0</td>\n",
       "      <td>0.0317</td>\n",
       "      <td>0.0498</td>\n",
       "      <td>0.000014</td>\n",
       "      <td>0.1640</td>\n",
       "      <td>0.4460</td>\n",
       "      <td>103.019</td>\n",
       "      <td>247160.0</td>\n",
       "      <td>4.0</td>\n",
       "    </tr>\n",
       "    <tr>\n",
       "      <th>4</th>\n",
       "      <td>3DXncPQOG4VBw3QHh3S81</td>\n",
       "      <td>I'm the One</td>\n",
       "      <td>DJ Khaled</td>\n",
       "      <td>0.609</td>\n",
       "      <td>0.668</td>\n",
       "      <td>7.0</td>\n",
       "      <td>-4.284</td>\n",
       "      <td>1.0</td>\n",
       "      <td>0.0367</td>\n",
       "      <td>0.0552</td>\n",
       "      <td>0.000000</td>\n",
       "      <td>0.1670</td>\n",
       "      <td>0.8110</td>\n",
       "      <td>80.924</td>\n",
       "      <td>288600.0</td>\n",
       "      <td>4.0</td>\n",
       "    </tr>\n",
       "    <tr>\n",
       "      <th>...</th>\n",
       "      <td>...</td>\n",
       "      <td>...</td>\n",
       "      <td>...</td>\n",
       "      <td>...</td>\n",
       "      <td>...</td>\n",
       "      <td>...</td>\n",
       "      <td>...</td>\n",
       "      <td>...</td>\n",
       "      <td>...</td>\n",
       "      <td>...</td>\n",
       "      <td>...</td>\n",
       "      <td>...</td>\n",
       "      <td>...</td>\n",
       "      <td>...</td>\n",
       "      <td>...</td>\n",
       "      <td>...</td>\n",
       "    </tr>\n",
       "    <tr>\n",
       "      <th>95</th>\n",
       "      <td>1PSBzsahR2AKwLJgx8ehB</td>\n",
       "      <td>Bad Things (with Camila Cabello)</td>\n",
       "      <td>Machine Gun Kelly</td>\n",
       "      <td>0.675</td>\n",
       "      <td>0.690</td>\n",
       "      <td>2.0</td>\n",
       "      <td>-4.761</td>\n",
       "      <td>1.0</td>\n",
       "      <td>0.1320</td>\n",
       "      <td>0.2100</td>\n",
       "      <td>0.000000</td>\n",
       "      <td>0.2870</td>\n",
       "      <td>0.2720</td>\n",
       "      <td>137.817</td>\n",
       "      <td>239293.0</td>\n",
       "      <td>4.0</td>\n",
       "    </tr>\n",
       "    <tr>\n",
       "      <th>96</th>\n",
       "      <td>0QsvXIfqM0zZoerQfsI9l</td>\n",
       "      <td>Don't Let Me Down</td>\n",
       "      <td>The Chainsmokers</td>\n",
       "      <td>0.542</td>\n",
       "      <td>0.859</td>\n",
       "      <td>11.0</td>\n",
       "      <td>-5.651</td>\n",
       "      <td>1.0</td>\n",
       "      <td>0.1970</td>\n",
       "      <td>0.1600</td>\n",
       "      <td>0.004660</td>\n",
       "      <td>0.1370</td>\n",
       "      <td>0.4030</td>\n",
       "      <td>159.797</td>\n",
       "      <td>208053.0</td>\n",
       "      <td>4.0</td>\n",
       "    </tr>\n",
       "    <tr>\n",
       "      <th>97</th>\n",
       "      <td>7mldq42yDuxiUNn08nvzH</td>\n",
       "      <td>Body Like A Back Road</td>\n",
       "      <td>Sam Hunt</td>\n",
       "      <td>0.731</td>\n",
       "      <td>0.469</td>\n",
       "      <td>5.0</td>\n",
       "      <td>-7.226</td>\n",
       "      <td>1.0</td>\n",
       "      <td>0.0326</td>\n",
       "      <td>0.4630</td>\n",
       "      <td>0.000001</td>\n",
       "      <td>0.1030</td>\n",
       "      <td>0.6310</td>\n",
       "      <td>98.963</td>\n",
       "      <td>165387.0</td>\n",
       "      <td>4.0</td>\n",
       "    </tr>\n",
       "    <tr>\n",
       "      <th>98</th>\n",
       "      <td>7i2DJ88J7jQ8K7zqFX2fW</td>\n",
       "      <td>Now Or Never</td>\n",
       "      <td>Halsey</td>\n",
       "      <td>0.658</td>\n",
       "      <td>0.588</td>\n",
       "      <td>6.0</td>\n",
       "      <td>-4.902</td>\n",
       "      <td>0.0</td>\n",
       "      <td>0.0367</td>\n",
       "      <td>0.1050</td>\n",
       "      <td>0.000001</td>\n",
       "      <td>0.1250</td>\n",
       "      <td>0.4340</td>\n",
       "      <td>110.075</td>\n",
       "      <td>214802.0</td>\n",
       "      <td>4.0</td>\n",
       "    </tr>\n",
       "    <tr>\n",
       "      <th>99</th>\n",
       "      <td>1j4kHkkpqZRBwE0A4CN4Y</td>\n",
       "      <td>Dusk Till Dawn - Radio Edit</td>\n",
       "      <td>ZAYN</td>\n",
       "      <td>0.258</td>\n",
       "      <td>0.437</td>\n",
       "      <td>11.0</td>\n",
       "      <td>-6.593</td>\n",
       "      <td>0.0</td>\n",
       "      <td>0.0390</td>\n",
       "      <td>0.1010</td>\n",
       "      <td>0.000001</td>\n",
       "      <td>0.1060</td>\n",
       "      <td>0.0967</td>\n",
       "      <td>180.043</td>\n",
       "      <td>239000.0</td>\n",
       "      <td>4.0</td>\n",
       "    </tr>\n",
       "  </tbody>\n",
       "</table>\n",
       "<p>100 rows × 16 columns</p>\n",
       "</div>"
      ],
      "text/plain": [
       "                       id                                name  \\\n",
       "0   7qiZfU4dY1lWllzX7mPBI                        Shape of You   \n",
       "1   5CtI0qwDJkDQGwXD1H1cL                   Despacito - Remix   \n",
       "2   4aWmUDTfIPGksMNLV2rQP  Despacito (Featuring Daddy Yankee)   \n",
       "3   6RUKPb4LETWmmr3iAEQkt            Something Just Like This   \n",
       "4   3DXncPQOG4VBw3QHh3S81                         I'm the One   \n",
       "..                    ...                                 ...   \n",
       "95  1PSBzsahR2AKwLJgx8ehB    Bad Things (with Camila Cabello)   \n",
       "96  0QsvXIfqM0zZoerQfsI9l                   Don't Let Me Down   \n",
       "97  7mldq42yDuxiUNn08nvzH               Body Like A Back Road   \n",
       "98  7i2DJ88J7jQ8K7zqFX2fW                        Now Or Never   \n",
       "99  1j4kHkkpqZRBwE0A4CN4Y         Dusk Till Dawn - Radio Edit   \n",
       "\n",
       "              artists  danceability  energy   key  loudness  mode  \\\n",
       "0          Ed Sheeran         0.825   0.652   1.0    -3.183   0.0   \n",
       "1          Luis Fonsi         0.694   0.815   2.0    -4.328   1.0   \n",
       "2          Luis Fonsi         0.660   0.786   2.0    -4.757   1.0   \n",
       "3    The Chainsmokers         0.617   0.635  11.0    -6.769   0.0   \n",
       "4           DJ Khaled         0.609   0.668   7.0    -4.284   1.0   \n",
       "..                ...           ...     ...   ...       ...   ...   \n",
       "95  Machine Gun Kelly         0.675   0.690   2.0    -4.761   1.0   \n",
       "96   The Chainsmokers         0.542   0.859  11.0    -5.651   1.0   \n",
       "97           Sam Hunt         0.731   0.469   5.0    -7.226   1.0   \n",
       "98             Halsey         0.658   0.588   6.0    -4.902   0.0   \n",
       "99               ZAYN         0.258   0.437  11.0    -6.593   0.0   \n",
       "\n",
       "    speechiness  acousticness  instrumentalness  liveness  valence    tempo  \\\n",
       "0        0.0802        0.5810          0.000000    0.0931   0.9310   95.977   \n",
       "1        0.1200        0.2290          0.000000    0.0924   0.8130   88.931   \n",
       "2        0.1700        0.2090          0.000000    0.1120   0.8460  177.833   \n",
       "3        0.0317        0.0498          0.000014    0.1640   0.4460  103.019   \n",
       "4        0.0367        0.0552          0.000000    0.1670   0.8110   80.924   \n",
       "..          ...           ...               ...       ...      ...      ...   \n",
       "95       0.1320        0.2100          0.000000    0.2870   0.2720  137.817   \n",
       "96       0.1970        0.1600          0.004660    0.1370   0.4030  159.797   \n",
       "97       0.0326        0.4630          0.000001    0.1030   0.6310   98.963   \n",
       "98       0.0367        0.1050          0.000001    0.1250   0.4340  110.075   \n",
       "99       0.0390        0.1010          0.000001    0.1060   0.0967  180.043   \n",
       "\n",
       "    duration_ms  time_signature  \n",
       "0      233713.0             4.0  \n",
       "1      228827.0             4.0  \n",
       "2      228200.0             4.0  \n",
       "3      247160.0             4.0  \n",
       "4      288600.0             4.0  \n",
       "..          ...             ...  \n",
       "95     239293.0             4.0  \n",
       "96     208053.0             4.0  \n",
       "97     165387.0             4.0  \n",
       "98     214802.0             4.0  \n",
       "99     239000.0             4.0  \n",
       "\n",
       "[100 rows x 16 columns]"
      ]
     },
     "execution_count": 4,
     "metadata": {},
     "output_type": "execute_result"
    }
   ],
   "source": [
    "load(year)"
   ]
  },
  {
   "cell_type": "code",
   "execution_count": 5,
   "metadata": {},
   "outputs": [],
   "source": [
    "df=load(year)"
   ]
  },
  {
   "cell_type": "markdown",
   "metadata": {},
   "source": [
    "# data properties"
   ]
  },
  {
   "cell_type": "code",
   "execution_count": 6,
   "metadata": {},
   "outputs": [],
   "source": [
    "def data_properties(year):\n",
    "    print(\"properties for year are as follows :\\n\")\n",
    "    print(\"column details:\\n\")\n",
    "    print(year.columns)\n",
    "    print(\"shape:\\n\")\n",
    "    print(year.shape)\n",
    "    print(\"info about dataset:\\n\")\n",
    "    print(year.info())\n",
    "    print(\"\\n\")\n"
   ]
  },
  {
   "cell_type": "code",
   "execution_count": 7,
   "metadata": {},
   "outputs": [
    {
     "name": "stdout",
     "output_type": "stream",
     "text": [
      "properties for year are as follows :\n",
      "\n",
      "column details:\n",
      "\n",
      "Index(['id', 'name', 'artists', 'danceability', 'energy', 'key', 'loudness',\n",
      "       'mode', 'speechiness', 'acousticness', 'instrumentalness', 'liveness',\n",
      "       'valence', 'tempo', 'duration_ms', 'time_signature'],\n",
      "      dtype='object')\n",
      "shape:\n",
      "\n",
      "(100, 16)\n",
      "info about dataset:\n",
      "\n",
      "<class 'pandas.core.frame.DataFrame'>\n",
      "RangeIndex: 100 entries, 0 to 99\n",
      "Data columns (total 16 columns):\n",
      " #   Column            Non-Null Count  Dtype  \n",
      "---  ------            --------------  -----  \n",
      " 0   id                100 non-null    object \n",
      " 1   name              100 non-null    object \n",
      " 2   artists           100 non-null    object \n",
      " 3   danceability      100 non-null    float64\n",
      " 4   energy            100 non-null    float64\n",
      " 5   key               100 non-null    float64\n",
      " 6   loudness          100 non-null    float64\n",
      " 7   mode              100 non-null    float64\n",
      " 8   speechiness       100 non-null    float64\n",
      " 9   acousticness      100 non-null    float64\n",
      " 10  instrumentalness  100 non-null    float64\n",
      " 11  liveness          100 non-null    float64\n",
      " 12  valence           100 non-null    float64\n",
      " 13  tempo             100 non-null    float64\n",
      " 14  duration_ms       100 non-null    float64\n",
      " 15  time_signature    100 non-null    float64\n",
      "dtypes: float64(13), object(3)\n",
      "memory usage: 12.6+ KB\n",
      "None\n",
      "\n",
      "\n"
     ]
    }
   ],
   "source": [
    "data_properties(df)"
   ]
  },
  {
   "cell_type": "markdown",
   "metadata": {},
   "source": [
    "### Initial calculations on data"
   ]
  },
  {
   "cell_type": "markdown",
   "metadata": {},
   "source": [
    "#### checking if any value is null in the data "
   ]
  },
  {
   "cell_type": "code",
   "execution_count": 8,
   "metadata": {},
   "outputs": [],
   "source": [
    "def checkfornull(year):\n",
    "    print(\"cheking for null values......\")\n",
    "    print(year.columns[year.isnull().any()])\n",
    "    output=year.isnull().sum()\n",
    "    return output "
   ]
  },
  {
   "cell_type": "code",
   "execution_count": 9,
   "metadata": {},
   "outputs": [
    {
     "name": "stdout",
     "output_type": "stream",
     "text": [
      "cheking for null values......\n",
      "Index([], dtype='object')\n"
     ]
    },
    {
     "data": {
      "text/plain": [
       "id                  0\n",
       "name                0\n",
       "artists             0\n",
       "danceability        0\n",
       "energy              0\n",
       "key                 0\n",
       "loudness            0\n",
       "mode                0\n",
       "speechiness         0\n",
       "acousticness        0\n",
       "instrumentalness    0\n",
       "liveness            0\n",
       "valence             0\n",
       "tempo               0\n",
       "duration_ms         0\n",
       "time_signature      0\n",
       "dtype: int64"
      ]
     },
     "execution_count": 9,
     "metadata": {},
     "output_type": "execute_result"
    }
   ],
   "source": [
    "checkfornull(df)"
   ]
  },
  {
   "cell_type": "markdown",
   "metadata": {},
   "source": [
    "#### convert the non float data to float data type"
   ]
  },
  {
   "cell_type": "code",
   "execution_count": 10,
   "metadata": {},
   "outputs": [],
   "source": [
    "# in the data we obsrve that all the data is not in float .So , in order to maintain a symetry,we will \n",
    "# convert the non float data to float data type\n",
    "\n",
    "def float_conversion(column,value):\n",
    "    column= pd.to_numeric(value, downcast=\"float\")\n",
    "    return column\n"
   ]
  },
  {
   "cell_type": "code",
   "execution_count": 11,
   "metadata": {},
   "outputs": [],
   "source": [
    "def execute_float_conversion():\n",
    "    float_conversion(df.mode,df[\"mode\"])\n",
    "    float_conversion(df.duration_ms,df[\"duration_ms\"])\n",
    "    float_conversion(df.time_signature,df[\"time_signature\"])\n",
    "    return df.head()\n"
   ]
  },
  {
   "cell_type": "code",
   "execution_count": 12,
   "metadata": {},
   "outputs": [
    {
     "data": {
      "text/html": [
       "<div>\n",
       "<style scoped>\n",
       "    .dataframe tbody tr th:only-of-type {\n",
       "        vertical-align: middle;\n",
       "    }\n",
       "\n",
       "    .dataframe tbody tr th {\n",
       "        vertical-align: top;\n",
       "    }\n",
       "\n",
       "    .dataframe thead th {\n",
       "        text-align: right;\n",
       "    }\n",
       "</style>\n",
       "<table border=\"1\" class=\"dataframe\">\n",
       "  <thead>\n",
       "    <tr style=\"text-align: right;\">\n",
       "      <th></th>\n",
       "      <th>id</th>\n",
       "      <th>name</th>\n",
       "      <th>artists</th>\n",
       "      <th>danceability</th>\n",
       "      <th>energy</th>\n",
       "      <th>key</th>\n",
       "      <th>loudness</th>\n",
       "      <th>mode</th>\n",
       "      <th>speechiness</th>\n",
       "      <th>acousticness</th>\n",
       "      <th>instrumentalness</th>\n",
       "      <th>liveness</th>\n",
       "      <th>valence</th>\n",
       "      <th>tempo</th>\n",
       "      <th>duration_ms</th>\n",
       "      <th>time_signature</th>\n",
       "    </tr>\n",
       "  </thead>\n",
       "  <tbody>\n",
       "    <tr>\n",
       "      <th>0</th>\n",
       "      <td>7qiZfU4dY1lWllzX7mPBI</td>\n",
       "      <td>Shape of You</td>\n",
       "      <td>Ed Sheeran</td>\n",
       "      <td>0.825</td>\n",
       "      <td>0.652</td>\n",
       "      <td>1.0</td>\n",
       "      <td>-3.183</td>\n",
       "      <td>0.0</td>\n",
       "      <td>0.0802</td>\n",
       "      <td>0.5810</td>\n",
       "      <td>0.000000</td>\n",
       "      <td>0.0931</td>\n",
       "      <td>0.931</td>\n",
       "      <td>95.977</td>\n",
       "      <td>233713.0</td>\n",
       "      <td>4.0</td>\n",
       "    </tr>\n",
       "    <tr>\n",
       "      <th>1</th>\n",
       "      <td>5CtI0qwDJkDQGwXD1H1cL</td>\n",
       "      <td>Despacito - Remix</td>\n",
       "      <td>Luis Fonsi</td>\n",
       "      <td>0.694</td>\n",
       "      <td>0.815</td>\n",
       "      <td>2.0</td>\n",
       "      <td>-4.328</td>\n",
       "      <td>1.0</td>\n",
       "      <td>0.1200</td>\n",
       "      <td>0.2290</td>\n",
       "      <td>0.000000</td>\n",
       "      <td>0.0924</td>\n",
       "      <td>0.813</td>\n",
       "      <td>88.931</td>\n",
       "      <td>228827.0</td>\n",
       "      <td>4.0</td>\n",
       "    </tr>\n",
       "    <tr>\n",
       "      <th>2</th>\n",
       "      <td>4aWmUDTfIPGksMNLV2rQP</td>\n",
       "      <td>Despacito (Featuring Daddy Yankee)</td>\n",
       "      <td>Luis Fonsi</td>\n",
       "      <td>0.660</td>\n",
       "      <td>0.786</td>\n",
       "      <td>2.0</td>\n",
       "      <td>-4.757</td>\n",
       "      <td>1.0</td>\n",
       "      <td>0.1700</td>\n",
       "      <td>0.2090</td>\n",
       "      <td>0.000000</td>\n",
       "      <td>0.1120</td>\n",
       "      <td>0.846</td>\n",
       "      <td>177.833</td>\n",
       "      <td>228200.0</td>\n",
       "      <td>4.0</td>\n",
       "    </tr>\n",
       "    <tr>\n",
       "      <th>3</th>\n",
       "      <td>6RUKPb4LETWmmr3iAEQkt</td>\n",
       "      <td>Something Just Like This</td>\n",
       "      <td>The Chainsmokers</td>\n",
       "      <td>0.617</td>\n",
       "      <td>0.635</td>\n",
       "      <td>11.0</td>\n",
       "      <td>-6.769</td>\n",
       "      <td>0.0</td>\n",
       "      <td>0.0317</td>\n",
       "      <td>0.0498</td>\n",
       "      <td>0.000014</td>\n",
       "      <td>0.1640</td>\n",
       "      <td>0.446</td>\n",
       "      <td>103.019</td>\n",
       "      <td>247160.0</td>\n",
       "      <td>4.0</td>\n",
       "    </tr>\n",
       "    <tr>\n",
       "      <th>4</th>\n",
       "      <td>3DXncPQOG4VBw3QHh3S81</td>\n",
       "      <td>I'm the One</td>\n",
       "      <td>DJ Khaled</td>\n",
       "      <td>0.609</td>\n",
       "      <td>0.668</td>\n",
       "      <td>7.0</td>\n",
       "      <td>-4.284</td>\n",
       "      <td>1.0</td>\n",
       "      <td>0.0367</td>\n",
       "      <td>0.0552</td>\n",
       "      <td>0.000000</td>\n",
       "      <td>0.1670</td>\n",
       "      <td>0.811</td>\n",
       "      <td>80.924</td>\n",
       "      <td>288600.0</td>\n",
       "      <td>4.0</td>\n",
       "    </tr>\n",
       "  </tbody>\n",
       "</table>\n",
       "</div>"
      ],
      "text/plain": [
       "                      id                                name  \\\n",
       "0  7qiZfU4dY1lWllzX7mPBI                        Shape of You   \n",
       "1  5CtI0qwDJkDQGwXD1H1cL                   Despacito - Remix   \n",
       "2  4aWmUDTfIPGksMNLV2rQP  Despacito (Featuring Daddy Yankee)   \n",
       "3  6RUKPb4LETWmmr3iAEQkt            Something Just Like This   \n",
       "4  3DXncPQOG4VBw3QHh3S81                         I'm the One   \n",
       "\n",
       "            artists  danceability  energy   key  loudness  mode  speechiness  \\\n",
       "0        Ed Sheeran         0.825   0.652   1.0    -3.183   0.0       0.0802   \n",
       "1        Luis Fonsi         0.694   0.815   2.0    -4.328   1.0       0.1200   \n",
       "2        Luis Fonsi         0.660   0.786   2.0    -4.757   1.0       0.1700   \n",
       "3  The Chainsmokers         0.617   0.635  11.0    -6.769   0.0       0.0317   \n",
       "4         DJ Khaled         0.609   0.668   7.0    -4.284   1.0       0.0367   \n",
       "\n",
       "   acousticness  instrumentalness  liveness  valence    tempo  duration_ms  \\\n",
       "0        0.5810          0.000000    0.0931    0.931   95.977     233713.0   \n",
       "1        0.2290          0.000000    0.0924    0.813   88.931     228827.0   \n",
       "2        0.2090          0.000000    0.1120    0.846  177.833     228200.0   \n",
       "3        0.0498          0.000014    0.1640    0.446  103.019     247160.0   \n",
       "4        0.0552          0.000000    0.1670    0.811   80.924     288600.0   \n",
       "\n",
       "   time_signature  \n",
       "0             4.0  \n",
       "1             4.0  \n",
       "2             4.0  \n",
       "3             4.0  \n",
       "4             4.0  "
      ]
     },
     "execution_count": 12,
     "metadata": {},
     "output_type": "execute_result"
    }
   ],
   "source": [
    "execute_float_conversion()"
   ]
  },
  {
   "cell_type": "code",
   "execution_count": null,
   "metadata": {},
   "outputs": [],
   "source": []
  },
  {
   "cell_type": "markdown",
   "metadata": {},
   "source": [
    "## Sequential column analysis"
   ]
  },
  {
   "cell_type": "code",
   "execution_count": 13,
   "metadata": {},
   "outputs": [],
   "source": [
    "#Sequential column analysis: for in depth understanding "
   ]
  },
  {
   "cell_type": "code",
   "execution_count": 14,
   "metadata": {},
   "outputs": [],
   "source": [
    "def understand_feature(feature):\n",
    "    return feature.describe()\n"
   ]
  },
  {
   "cell_type": "markdown",
   "metadata": {},
   "source": [
    "#### danceability"
   ]
  },
  {
   "cell_type": "code",
   "execution_count": 15,
   "metadata": {},
   "outputs": [],
   "source": [
    "#The higher the value, the easier it is to dance to this song.\n",
    "def print_overall_dancebility_features():\n",
    "    print(\"overall danceability feature\\n\")\n",
    "    return understand_feature(df[\"danceability\"])\n"
   ]
  },
  {
   "cell_type": "code",
   "execution_count": 16,
   "metadata": {},
   "outputs": [
    {
     "name": "stdout",
     "output_type": "stream",
     "text": [
      "overall danceability feature\n",
      "\n"
     ]
    },
    {
     "data": {
      "text/plain": [
       "count    100.00000\n",
       "mean       0.69682\n",
       "std        0.12508\n",
       "min        0.25800\n",
       "25%        0.63500\n",
       "50%        0.71400\n",
       "75%        0.77025\n",
       "max        0.92700\n",
       "Name: danceability, dtype: float64"
      ]
     },
     "execution_count": 16,
     "metadata": {},
     "output_type": "execute_result"
    }
   ],
   "source": [
    "print_overall_dancebility_features()"
   ]
  },
  {
   "cell_type": "code",
   "execution_count": 17,
   "metadata": {},
   "outputs": [],
   "source": [
    "def top_10_dancebility():\n",
    "    print(\"top 10  danceability feature\\n\")\n",
    "    return understand_feature(df[\"danceability\"].head(10))\n",
    "\n"
   ]
  },
  {
   "cell_type": "code",
   "execution_count": 18,
   "metadata": {},
   "outputs": [
    {
     "name": "stdout",
     "output_type": "stream",
     "text": [
      "top 10  danceability feature\n",
      "\n"
     ]
    },
    {
     "data": {
      "text/plain": [
       "count    10.000000\n",
       "mean      0.726300\n",
       "std       0.103301\n",
       "min       0.609000\n",
       "25%       0.645000\n",
       "50%       0.710000\n",
       "75%       0.802500\n",
       "max       0.904000\n",
       "Name: danceability, dtype: float64"
      ]
     },
     "execution_count": 18,
     "metadata": {},
     "output_type": "execute_result"
    }
   ],
   "source": [
    "top_10_dancebility()"
   ]
  },
  {
   "cell_type": "code",
   "execution_count": 19,
   "metadata": {},
   "outputs": [],
   "source": [
    "#sorting out more danceble songs \n",
    "def sorting_dancebility():\n",
    "    df['dancebility_new']=df['danceability']\n",
    "    df.loc[df['danceability']>=0.6000,'dancebility_new']='1'\n",
    "    df.loc[(df['danceability']<0.6000),'dancebility_new']='0'\n",
    "\n",
    "    return (df['dancebility_new'].value_counts())"
   ]
  },
  {
   "cell_type": "code",
   "execution_count": 20,
   "metadata": {},
   "outputs": [
    {
     "data": {
      "text/plain": [
       "1    83\n",
       "0    17\n",
       "Name: dancebility_new, dtype: int64"
      ]
     },
     "execution_count": 20,
     "metadata": {},
     "output_type": "execute_result"
    }
   ],
   "source": [
    "sorting_dancebility()"
   ]
  },
  {
   "cell_type": "code",
   "execution_count": 21,
   "metadata": {},
   "outputs": [
    {
     "name": "stdout",
     "output_type": "stream",
     "text": [
      "top 10  energy  feature\n",
      "\n"
     ]
    },
    {
     "data": {
      "text/plain": [
       "count    10.00000\n",
       "mean      0.64800\n",
       "std       0.11705\n",
       "min       0.45100\n",
       "25%       0.57275\n",
       "50%       0.64350\n",
       "75%       0.74375\n",
       "max       0.81500\n",
       "Name: energy, dtype: float64"
      ]
     },
     "execution_count": 21,
     "metadata": {},
     "output_type": "execute_result"
    }
   ],
   "source": [
    "print(\"top 10  energy  feature\\n\")\n",
    "understand_feature(df[\"energy\"].head(10))"
   ]
  },
  {
   "cell_type": "markdown",
   "metadata": {},
   "source": [
    "#### In Depth BPM"
   ]
  },
  {
   "cell_type": "markdown",
   "metadata": {},
   "source": [
    "Understanding beats per minute i.e tempo of the song\n",
    "here we do classification of the tempo on the bases of beats per min \n",
    "REf:https://www.musical-u.com/learn/rhythm-tips-for-identifying-music-genres-by-ear/\n",
    "\n",
    "And creating a new feature :tempo_rate \n",
    "tempo_rate:This classifies the song on the basis of bpm like:\n",
    "    - very slow\n",
    "    - slow\n",
    "    - moderate\n",
    "    - fast\n",
    "    - very fast\n"
   ]
  },
  {
   "cell_type": "code",
   "execution_count": 22,
   "metadata": {},
   "outputs": [],
   "source": [
    "def tempo_rate():\n",
    "    df['tempo_rate']=df['tempo']\n",
    "    return df['tempo_rate']"
   ]
  },
  {
   "cell_type": "code",
   "execution_count": 23,
   "metadata": {},
   "outputs": [
    {
     "data": {
      "text/plain": [
       "0      95.977\n",
       "1      88.931\n",
       "2     177.833\n",
       "3     103.019\n",
       "4      80.924\n",
       "       ...   \n",
       "95    137.817\n",
       "96    159.797\n",
       "97     98.963\n",
       "98    110.075\n",
       "99    180.043\n",
       "Name: tempo_rate, Length: 100, dtype: float64"
      ]
     },
     "execution_count": 23,
     "metadata": {},
     "output_type": "execute_result"
    }
   ],
   "source": [
    "tempo_rate()"
   ]
  },
  {
   "cell_type": "code",
   "execution_count": 24,
   "metadata": {},
   "outputs": [],
   "source": [
    "def cateogarise_tempo_rate():\n",
    "    df.loc[df['tempo']<65,'tempo_rate']='very slow'\n",
    "    df.loc[(df['tempo']>=66) & (df['tempo']<=76),'tempo_rate']='slow'\n",
    "    df.loc[(df['tempo']>=77) & (df['tempo']<=108),'tempo_rate']='moderate'\n",
    "    df.loc[(df['tempo']>=109) & (df['tempo']<=168),'tempo_rate']='fast'\n",
    "    df.loc[df['tempo']>168,'tempo_rate']='very fast'\n"
   ]
  },
  {
   "cell_type": "code",
   "execution_count": 25,
   "metadata": {},
   "outputs": [],
   "source": [
    "cateogarise_tempo_rate()"
   ]
  },
  {
   "cell_type": "code",
   "execution_count": 26,
   "metadata": {},
   "outputs": [],
   "source": [
    "def describe_songs_per_tempo_rate():\n",
    "    print(\"Tempo Rate\\tCount\\n\")\n",
    "    print(df['tempo_rate'].value_counts())\n",
    "    print(\"\\n\")\n",
    "    df.head()"
   ]
  },
  {
   "cell_type": "code",
   "execution_count": 27,
   "metadata": {},
   "outputs": [
    {
     "name": "stdout",
     "output_type": "stream",
     "text": [
      "Tempo Rate\tCount\n",
      "\n",
      "moderate     46\n",
      "fast         45\n",
      "very fast     7\n",
      "slow          2\n",
      "Name: tempo_rate, dtype: int64\n",
      "\n",
      "\n"
     ]
    }
   ],
   "source": [
    "describe_songs_per_tempo_rate()"
   ]
  },
  {
   "cell_type": "code",
   "execution_count": 28,
   "metadata": {
    "scrolled": true
   },
   "outputs": [],
   "source": [
    "def barplot_temporate():\n",
    "    sns.barplot(x=pd.DataFrame(df['tempo_rate'].value_counts()).tempo_rate, \n",
    "                y=pd.DataFrame(df['tempo_rate'].value_counts()).index\n",
    "               )\n",
    "    plt.title('music tempo', fontsize=17);"
   ]
  },
  {
   "cell_type": "code",
   "execution_count": 29,
   "metadata": {},
   "outputs": [
    {
     "data": {
      "image/png": "[encoded data removed]",
      "text/plain": [
       "<Figure size 432x288 with 1 Axes>"
      ]
     },
     "metadata": {
      "needs_background": "light"
     },
     "output_type": "display_data"
    }
   ],
   "source": [
    "barplot_temporate()"
   ]
  },
  {
   "cell_type": "markdown",
   "metadata": {},
   "source": [
    "sort the songs on the bases of important parametes like :"
   ]
  },
  {
   "cell_type": "code",
   "execution_count": 30,
   "metadata": {},
   "outputs": [],
   "source": [
    "def sort_imp_parameters():\n",
    "    return df[['name','artists','danceability','valence','tempo','tempo_rate','energy']].sort_values(by=[\"danceability\",\"energy\",\"valence\"],ascending=False).head(10)"
   ]
  },
  {
   "cell_type": "raw",
   "metadata": {},
   "source": [
    "sort_imp-parameters()"
   ]
  },
  {
   "cell_type": "code",
   "execution_count": null,
   "metadata": {},
   "outputs": [],
   "source": []
  },
  {
   "cell_type": "markdown",
   "metadata": {},
   "source": [
    "As we can see that these features collectively couldn't generate the sorted manner of artist as expected.We need to change our approach and include more features "
   ]
  },
  {
   "cell_type": "markdown",
   "metadata": {},
   "source": [
    "\n",
    "#### Analysing top artists\n",
    "Analysing Top artists will give us a better idea about the feature importance "
   ]
  },
  {
   "cell_type": "code",
   "execution_count": 31,
   "metadata": {},
   "outputs": [],
   "source": [
    "#count the value:in terms on songs per year for an  artist\n",
    "def songs_per_artist():\n",
    "    print(\"Artist\\t\\tSongs\\n\")\n",
    "    print(df[\"artists\"].value_counts().head(20))"
   ]
  },
  {
   "cell_type": "code",
   "execution_count": 32,
   "metadata": {},
   "outputs": [
    {
     "name": "stdout",
     "output_type": "stream",
     "text": [
      "Artist\t\tSongs\n",
      "\n",
      "The Chainsmokers    4\n",
      "Ed Sheeran          4\n",
      "Martin Garrix       3\n",
      "Drake               3\n",
      "Imagine Dragons     2\n",
      "DJ Khaled           2\n",
      "Khalid              2\n",
      "Clean Bandit        2\n",
      "Bruno Mars          2\n",
      "Maroon 5            2\n",
      "ZAYN                2\n",
      "Calvin Harris       2\n",
      "The Weeknd          2\n",
      "Luis Fonsi          2\n",
      "Kendrick Lamar      2\n",
      "Post Malone         2\n",
      "Julia Michaels      1\n",
      "Starley             1\n",
      "Demi Lovato         1\n",
      "Liam Payne          1\n",
      "Name: artists, dtype: int64\n"
     ]
    }
   ],
   "source": [
    "songs_per_artist()"
   ]
  },
  {
   "cell_type": "code",
   "execution_count": null,
   "metadata": {},
   "outputs": [],
   "source": []
  },
  {
   "cell_type": "code",
   "execution_count": null,
   "metadata": {},
   "outputs": [],
   "source": []
  },
  {
   "cell_type": "markdown",
   "metadata": {},
   "source": [
    "#### Comparing  the  top artists based on our features \n",
    "lets start with top 5:\n",
    "\n",
    "- Ed Sheeran          4\n",
    "- The Chainsmokers    4\n",
    "- Drake               3\n",
    "- Martin Garrix       3\n",
    "- Kendrick Lamar      2"
   ]
  },
  {
   "cell_type": "code",
   "execution_count": null,
   "metadata": {},
   "outputs": [],
   "source": []
  },
  {
   "cell_type": "code",
   "execution_count": 33,
   "metadata": {},
   "outputs": [],
   "source": [
    "def first():\n",
    "    EdSheeran=df[df['artists']=='Ed Sheeran']\n",
    "    print(\"Ed sheeran:\")\n",
    "    return EdSheeran[['name','danceability','energy','loudness','valence','tempo','tempo_rate']]"
   ]
  },
  {
   "cell_type": "code",
   "execution_count": 34,
   "metadata": {},
   "outputs": [
    {
     "name": "stdout",
     "output_type": "stream",
     "text": [
      "Ed sheeran:\n"
     ]
    },
    {
     "data": {
      "text/html": [
       "<div>\n",
       "<style scoped>\n",
       "    .dataframe tbody tr th:only-of-type {\n",
       "        vertical-align: middle;\n",
       "    }\n",
       "\n",
       "    .dataframe tbody tr th {\n",
       "        vertical-align: top;\n",
       "    }\n",
       "\n",
       "    .dataframe thead th {\n",
       "        text-align: right;\n",
       "    }\n",
       "</style>\n",
       "<table border=\"1\" class=\"dataframe\">\n",
       "  <thead>\n",
       "    <tr style=\"text-align: right;\">\n",
       "      <th></th>\n",
       "      <th>name</th>\n",
       "      <th>danceability</th>\n",
       "      <th>energy</th>\n",
       "      <th>loudness</th>\n",
       "      <th>valence</th>\n",
       "      <th>tempo</th>\n",
       "      <th>tempo_rate</th>\n",
       "    </tr>\n",
       "  </thead>\n",
       "  <tbody>\n",
       "    <tr>\n",
       "      <th>0</th>\n",
       "      <td>Shape of You</td>\n",
       "      <td>0.825</td>\n",
       "      <td>0.652</td>\n",
       "      <td>-3.183</td>\n",
       "      <td>0.931</td>\n",
       "      <td>95.977</td>\n",
       "      <td>moderate</td>\n",
       "    </tr>\n",
       "    <tr>\n",
       "      <th>17</th>\n",
       "      <td>Castle on the Hill</td>\n",
       "      <td>0.461</td>\n",
       "      <td>0.834</td>\n",
       "      <td>-4.868</td>\n",
       "      <td>0.471</td>\n",
       "      <td>135.007</td>\n",
       "      <td>fast</td>\n",
       "    </tr>\n",
       "    <tr>\n",
       "      <th>26</th>\n",
       "      <td>Galway Girl</td>\n",
       "      <td>0.624</td>\n",
       "      <td>0.876</td>\n",
       "      <td>-3.374</td>\n",
       "      <td>0.781</td>\n",
       "      <td>99.943</td>\n",
       "      <td>moderate</td>\n",
       "    </tr>\n",
       "    <tr>\n",
       "      <th>40</th>\n",
       "      <td>Perfect</td>\n",
       "      <td>0.599</td>\n",
       "      <td>0.448</td>\n",
       "      <td>-6.312</td>\n",
       "      <td>0.168</td>\n",
       "      <td>95.050</td>\n",
       "      <td>moderate</td>\n",
       "    </tr>\n",
       "  </tbody>\n",
       "</table>\n",
       "</div>"
      ],
      "text/plain": [
       "                  name  danceability  energy  loudness  valence    tempo  \\\n",
       "0         Shape of You         0.825   0.652    -3.183    0.931   95.977   \n",
       "17  Castle on the Hill         0.461   0.834    -4.868    0.471  135.007   \n",
       "26         Galway Girl         0.624   0.876    -3.374    0.781   99.943   \n",
       "40             Perfect         0.599   0.448    -6.312    0.168   95.050   \n",
       "\n",
       "   tempo_rate  \n",
       "0    moderate  \n",
       "17       fast  \n",
       "26   moderate  \n",
       "40   moderate  "
      ]
     },
     "execution_count": 34,
     "metadata": {},
     "output_type": "execute_result"
    }
   ],
   "source": [
    "first()"
   ]
  },
  {
   "cell_type": "code",
   "execution_count": 35,
   "metadata": {},
   "outputs": [],
   "source": [
    "def second():\n",
    "    TheChainsmokers=df[df['artists']=='The Chainsmokers']\n",
    "    print(\"The Chainsmokers:\")\n",
    "    return TheChainsmokers[['name','danceability','energy','loudness','valence','tempo','tempo_rate']]"
   ]
  },
  {
   "cell_type": "code",
   "execution_count": 36,
   "metadata": {},
   "outputs": [
    {
     "name": "stdout",
     "output_type": "stream",
     "text": [
      "The Chainsmokers:\n"
     ]
    },
    {
     "data": {
      "text/html": [
       "<div>\n",
       "<style scoped>\n",
       "    .dataframe tbody tr th:only-of-type {\n",
       "        vertical-align: middle;\n",
       "    }\n",
       "\n",
       "    .dataframe tbody tr th {\n",
       "        vertical-align: top;\n",
       "    }\n",
       "\n",
       "    .dataframe thead th {\n",
       "        text-align: right;\n",
       "    }\n",
       "</style>\n",
       "<table border=\"1\" class=\"dataframe\">\n",
       "  <thead>\n",
       "    <tr style=\"text-align: right;\">\n",
       "      <th></th>\n",
       "      <th>name</th>\n",
       "      <th>danceability</th>\n",
       "      <th>energy</th>\n",
       "      <th>loudness</th>\n",
       "      <th>valence</th>\n",
       "      <th>tempo</th>\n",
       "      <th>tempo_rate</th>\n",
       "    </tr>\n",
       "  </thead>\n",
       "  <tbody>\n",
       "    <tr>\n",
       "      <th>3</th>\n",
       "      <td>Something Just Like This</td>\n",
       "      <td>0.617</td>\n",
       "      <td>0.635</td>\n",
       "      <td>-6.769</td>\n",
       "      <td>0.446</td>\n",
       "      <td>103.019</td>\n",
       "      <td>moderate</td>\n",
       "    </tr>\n",
       "    <tr>\n",
       "      <th>11</th>\n",
       "      <td>Paris</td>\n",
       "      <td>0.653</td>\n",
       "      <td>0.658</td>\n",
       "      <td>-6.428</td>\n",
       "      <td>0.219</td>\n",
       "      <td>99.990</td>\n",
       "      <td>moderate</td>\n",
       "    </tr>\n",
       "    <tr>\n",
       "      <th>28</th>\n",
       "      <td>Closer</td>\n",
       "      <td>0.748</td>\n",
       "      <td>0.524</td>\n",
       "      <td>-5.599</td>\n",
       "      <td>0.661</td>\n",
       "      <td>95.010</td>\n",
       "      <td>moderate</td>\n",
       "    </tr>\n",
       "    <tr>\n",
       "      <th>96</th>\n",
       "      <td>Don't Let Me Down</td>\n",
       "      <td>0.542</td>\n",
       "      <td>0.859</td>\n",
       "      <td>-5.651</td>\n",
       "      <td>0.403</td>\n",
       "      <td>159.797</td>\n",
       "      <td>fast</td>\n",
       "    </tr>\n",
       "  </tbody>\n",
       "</table>\n",
       "</div>"
      ],
      "text/plain": [
       "                        name  danceability  energy  loudness  valence  \\\n",
       "3   Something Just Like This         0.617   0.635    -6.769    0.446   \n",
       "11                     Paris         0.653   0.658    -6.428    0.219   \n",
       "28                    Closer         0.748   0.524    -5.599    0.661   \n",
       "96         Don't Let Me Down         0.542   0.859    -5.651    0.403   \n",
       "\n",
       "      tempo tempo_rate  \n",
       "3   103.019   moderate  \n",
       "11   99.990   moderate  \n",
       "28   95.010   moderate  \n",
       "96  159.797       fast  "
      ]
     },
     "execution_count": 36,
     "metadata": {},
     "output_type": "execute_result"
    }
   ],
   "source": [
    "second()"
   ]
  },
  {
   "cell_type": "code",
   "execution_count": 37,
   "metadata": {},
   "outputs": [],
   "source": [
    "def third():\n",
    "    Drake=df[df['artists']=='Drake']\n",
    "    print(\"Drake:\")\n",
    "    return Drake[['name','danceability','energy','loudness','valence','tempo','tempo_rate']]"
   ]
  },
  {
   "cell_type": "code",
   "execution_count": 38,
   "metadata": {},
   "outputs": [
    {
     "name": "stdout",
     "output_type": "stream",
     "text": [
      "Drake:\n"
     ]
    },
    {
     "data": {
      "text/html": [
       "<div>\n",
       "<style scoped>\n",
       "    .dataframe tbody tr th:only-of-type {\n",
       "        vertical-align: middle;\n",
       "    }\n",
       "\n",
       "    .dataframe tbody tr th {\n",
       "        vertical-align: top;\n",
       "    }\n",
       "\n",
       "    .dataframe thead th {\n",
       "        text-align: right;\n",
       "    }\n",
       "</style>\n",
       "<table border=\"1\" class=\"dataframe\">\n",
       "  <thead>\n",
       "    <tr style=\"text-align: right;\">\n",
       "      <th></th>\n",
       "      <th>name</th>\n",
       "      <th>danceability</th>\n",
       "      <th>energy</th>\n",
       "      <th>loudness</th>\n",
       "      <th>valence</th>\n",
       "      <th>tempo</th>\n",
       "      <th>tempo_rate</th>\n",
       "    </tr>\n",
       "  </thead>\n",
       "  <tbody>\n",
       "    <tr>\n",
       "      <th>36</th>\n",
       "      <td>Passionfruit</td>\n",
       "      <td>0.809</td>\n",
       "      <td>0.463</td>\n",
       "      <td>-11.377</td>\n",
       "      <td>0.364</td>\n",
       "      <td>111.980</td>\n",
       "      <td>fast</td>\n",
       "    </tr>\n",
       "    <tr>\n",
       "      <th>51</th>\n",
       "      <td>Fake Love</td>\n",
       "      <td>0.927</td>\n",
       "      <td>0.488</td>\n",
       "      <td>-9.433</td>\n",
       "      <td>0.605</td>\n",
       "      <td>133.987</td>\n",
       "      <td>fast</td>\n",
       "    </tr>\n",
       "    <tr>\n",
       "      <th>54</th>\n",
       "      <td>One Dance</td>\n",
       "      <td>0.791</td>\n",
       "      <td>0.619</td>\n",
       "      <td>-5.886</td>\n",
       "      <td>0.371</td>\n",
       "      <td>103.989</td>\n",
       "      <td>moderate</td>\n",
       "    </tr>\n",
       "  </tbody>\n",
       "</table>\n",
       "</div>"
      ],
      "text/plain": [
       "            name  danceability  energy  loudness  valence    tempo tempo_rate\n",
       "36  Passionfruit         0.809   0.463   -11.377    0.364  111.980       fast\n",
       "51     Fake Love         0.927   0.488    -9.433    0.605  133.987       fast\n",
       "54     One Dance         0.791   0.619    -5.886    0.371  103.989   moderate"
      ]
     },
     "execution_count": 38,
     "metadata": {},
     "output_type": "execute_result"
    }
   ],
   "source": [
    "third()"
   ]
  },
  {
   "cell_type": "code",
   "execution_count": 39,
   "metadata": {},
   "outputs": [],
   "source": [
    "def forth():\n",
    "    MartinGarrix  =df[df['artists']=='Martin Garrix']\n",
    "    print(\"Martin Garrix  :\")\n",
    "    return MartinGarrix  [['name','danceability','energy','loudness','valence','tempo','tempo_rate']]"
   ]
  },
  {
   "cell_type": "code",
   "execution_count": 40,
   "metadata": {},
   "outputs": [
    {
     "name": "stdout",
     "output_type": "stream",
     "text": [
      "Martin Garrix  :\n"
     ]
    },
    {
     "data": {
      "text/html": [
       "<div>\n",
       "<style scoped>\n",
       "    .dataframe tbody tr th:only-of-type {\n",
       "        vertical-align: middle;\n",
       "    }\n",
       "\n",
       "    .dataframe tbody tr th {\n",
       "        vertical-align: top;\n",
       "    }\n",
       "\n",
       "    .dataframe thead th {\n",
       "        text-align: right;\n",
       "    }\n",
       "</style>\n",
       "<table border=\"1\" class=\"dataframe\">\n",
       "  <thead>\n",
       "    <tr style=\"text-align: right;\">\n",
       "      <th></th>\n",
       "      <th>name</th>\n",
       "      <th>danceability</th>\n",
       "      <th>energy</th>\n",
       "      <th>loudness</th>\n",
       "      <th>valence</th>\n",
       "      <th>tempo</th>\n",
       "      <th>tempo_rate</th>\n",
       "    </tr>\n",
       "  </thead>\n",
       "  <tbody>\n",
       "    <tr>\n",
       "      <th>27</th>\n",
       "      <td>Scared to Be Lonely</td>\n",
       "      <td>0.584</td>\n",
       "      <td>0.540</td>\n",
       "      <td>-7.786</td>\n",
       "      <td>0.195</td>\n",
       "      <td>137.972</td>\n",
       "      <td>fast</td>\n",
       "    </tr>\n",
       "    <tr>\n",
       "      <th>73</th>\n",
       "      <td>There for You</td>\n",
       "      <td>0.611</td>\n",
       "      <td>0.644</td>\n",
       "      <td>-7.607</td>\n",
       "      <td>0.130</td>\n",
       "      <td>105.969</td>\n",
       "      <td>moderate</td>\n",
       "    </tr>\n",
       "    <tr>\n",
       "      <th>86</th>\n",
       "      <td>In the Name of Love</td>\n",
       "      <td>0.490</td>\n",
       "      <td>0.485</td>\n",
       "      <td>-6.237</td>\n",
       "      <td>0.196</td>\n",
       "      <td>133.889</td>\n",
       "      <td>fast</td>\n",
       "    </tr>\n",
       "  </tbody>\n",
       "</table>\n",
       "</div>"
      ],
      "text/plain": [
       "                   name  danceability  energy  loudness  valence    tempo  \\\n",
       "27  Scared to Be Lonely         0.584   0.540    -7.786    0.195  137.972   \n",
       "73        There for You         0.611   0.644    -7.607    0.130  105.969   \n",
       "86  In the Name of Love         0.490   0.485    -6.237    0.196  133.889   \n",
       "\n",
       "   tempo_rate  \n",
       "27       fast  \n",
       "73   moderate  \n",
       "86       fast  "
      ]
     },
     "execution_count": 40,
     "metadata": {},
     "output_type": "execute_result"
    }
   ],
   "source": [
    "forth()"
   ]
  },
  {
   "cell_type": "code",
   "execution_count": 41,
   "metadata": {},
   "outputs": [],
   "source": [
    "def fifth():\n",
    "    KendrickLamar   =df[df['artists']=='Kendrick Lamar']\n",
    "    print(\"Kendrick Lamar   :\")\n",
    "    return KendrickLamar   [['name','danceability','energy','loudness','valence','tempo','tempo_rate']]"
   ]
  },
  {
   "cell_type": "code",
   "execution_count": 42,
   "metadata": {},
   "outputs": [
    {
     "name": "stdout",
     "output_type": "stream",
     "text": [
      "Kendrick Lamar   :\n"
     ]
    },
    {
     "data": {
      "text/html": [
       "<div>\n",
       "<style scoped>\n",
       "    .dataframe tbody tr th:only-of-type {\n",
       "        vertical-align: middle;\n",
       "    }\n",
       "\n",
       "    .dataframe tbody tr th {\n",
       "        vertical-align: top;\n",
       "    }\n",
       "\n",
       "    .dataframe thead th {\n",
       "        text-align: right;\n",
       "    }\n",
       "</style>\n",
       "<table border=\"1\" class=\"dataframe\">\n",
       "  <thead>\n",
       "    <tr style=\"text-align: right;\">\n",
       "      <th></th>\n",
       "      <th>name</th>\n",
       "      <th>danceability</th>\n",
       "      <th>energy</th>\n",
       "      <th>loudness</th>\n",
       "      <th>valence</th>\n",
       "      <th>tempo</th>\n",
       "      <th>tempo_rate</th>\n",
       "    </tr>\n",
       "  </thead>\n",
       "  <tbody>\n",
       "    <tr>\n",
       "      <th>5</th>\n",
       "      <td>HUMBLE.</td>\n",
       "      <td>0.904</td>\n",
       "      <td>0.611</td>\n",
       "      <td>-6.842</td>\n",
       "      <td>0.400</td>\n",
       "      <td>150.020</td>\n",
       "      <td>fast</td>\n",
       "    </tr>\n",
       "    <tr>\n",
       "      <th>60</th>\n",
       "      <td>DNA.</td>\n",
       "      <td>0.637</td>\n",
       "      <td>0.514</td>\n",
       "      <td>-6.763</td>\n",
       "      <td>0.402</td>\n",
       "      <td>139.931</td>\n",
       "      <td>fast</td>\n",
       "    </tr>\n",
       "  </tbody>\n",
       "</table>\n",
       "</div>"
      ],
      "text/plain": [
       "       name  danceability  energy  loudness  valence    tempo tempo_rate\n",
       "5   HUMBLE.         0.904   0.611    -6.842    0.400  150.020       fast\n",
       "60     DNA.         0.637   0.514    -6.763    0.402  139.931       fast"
      ]
     },
     "execution_count": 42,
     "metadata": {},
     "output_type": "execute_result"
    }
   ],
   "source": [
    "fifth()"
   ]
  },
  {
   "cell_type": "code",
   "execution_count": null,
   "metadata": {},
   "outputs": [],
   "source": []
  },
  {
   "cell_type": "code",
   "execution_count": null,
   "metadata": {},
   "outputs": [],
   "source": []
  },
  {
   "cell_type": "code",
   "execution_count": null,
   "metadata": {},
   "outputs": [],
   "source": []
  },
  {
   "cell_type": "markdown",
   "metadata": {},
   "source": [
    "Here's the observation for the above  top 5 results:\n",
    "- dancebility:Range:0.49-->0.90+\n",
    "- energy:Range:0.48-->0.90+ , in general, the enegy in not very significant but  top songs have energy more than 0.48\n",
    "- loudness:more -ve loudness means more popular the song is \n",
    "- valence:Range:Not a very important criteria\n",
    "- tempo:Range:can not conclude about this, need more EDA\n",
    "- tempo rate:Range: fast and moderate are in top\n",
    "\n"
   ]
  },
  {
   "cell_type": "markdown",
   "metadata": {},
   "source": [
    "# EDA"
   ]
  },
  {
   "cell_type": "markdown",
   "metadata": {},
   "source": [
    "in EDA approach we  try to  analyze data sets to summarize their main characteristics, often with visual methods  and  then Have a good understanding of data quality.. \n",
    "but to come to any conclusions and to decide weather A statistical model can be used we need to dig deeper into data\n",
    "\n",
    "And so we did the best we could do with  EDA  for seeing what the data can tell us beyond the formal modeling or  any hypothesis testing task.\n",
    "\n",
    "We did the a lot of  comparisions  amongst multiple features and here's a few of our results.\n"
   ]
  },
  {
   "cell_type": "markdown",
   "metadata": {},
   "source": [
    "### PCA plot-large features"
   ]
  },
  {
   "cell_type": "markdown",
   "metadata": {},
   "source": [
    "\n",
    "next to this our 3d modelling for detecting the outlier using the pca for our hypothetial top features.And  in the graph u can see  there a few ouliers songs which are not feature vice not closer to the other data  points.This gave us an idea about why perticulate songs are not fitting well.And this is an important thing to discuss to get more closer to assumption.\n"
   ]
  },
  {
   "cell_type": "code",
   "execution_count": 43,
   "metadata": {},
   "outputs": [],
   "source": [
    "def plot_PCA_large():\n",
    "    feture_to_plot = [\"energy\", \"liveness\", \"tempo\", \"valence\", \"loudness\", \"speechiness\", \"acousticness\", \"danceability\", \"instrumentalness\"]\n",
    "    text1 = df[\"artists\"] + \" - \" + df[\"name\"]\n",
    "    text2 = text1.values\n",
    "    X = df[feture_to_plot].values\n",
    "    y = df[\"danceability\"].values\n",
    "    min_maxscaler = MinMaxScaler()\n",
    "    X = min_maxscaler.fit_transform(X)\n",
    "    pca = PCA(n_components=3)\n",
    "    pca.fit(X)\n",
    "    X = pca.transform(X)\n",
    "\n",
    "    plot3d = go.Scatter3d(\n",
    "        x=X[:,0],\n",
    "        y=X[:,1],\n",
    "        z=X[:,2],\n",
    "        text=text2,\n",
    "        mode=\"markers\",\n",
    "        marker=dict(\n",
    "            size=8,\n",
    "            color=y\n",
    "        )\n",
    "    )\n",
    "\n",
    "    fig = go.Figure(data=[plot3d])\n",
    "    py.iplot(fig, filename=\"3d graph\")\n"
   ]
  },
  {
   "cell_type": "code",
   "execution_count": 44,
   "metadata": {},
   "outputs": [
    {
     "data": {
      "application/vnd.plotly.v1+json": {
       "config": {
        "linkText": "Export to plot.ly",
        "plotlyServerURL": "https://plot.ly",
        "showLink": false
       },
       "data": [
        {
         "marker": {
          "color": [
           0.825,
           0.6940000000000001,
           0.66,
           0.617,
           0.609,
           0.904,
           0.64,
           0.726,
           0.853,
           0.735,
           0.732,
           0.653,
           0.679,
           0.774,
           0.833,
           0.627,
           0.696,
           0.461,
           0.72,
           0.779,
           0.5429999999999999,
           0.6,
           0.358,
           0.857,
           0.7440000000000001,
           0.706,
           0.624,
           0.584,
           0.748,
           0.7070000000000001,
           0.768,
           0.6809999999999999,
           0.6709999999999999,
           0.736,
           0.7709999999999999,
           0.629,
           0.809,
           0.5770000000000001,
           0.8690000000000001,
           0.5479999999999999,
           0.599,
           0.6759999999999999,
           0.893,
           0.746,
           0.755,
           0.746,
           0.736,
           0.852,
           0.927,
           0.768,
           0.7440000000000001,
           0.927,
           0.47600000000000003,
           0.644,
           0.7909999999999999,
           0.684,
           0.703,
           0.7040000000000001,
           0.743,
           0.818,
           0.637,
           0.6829999999999999,
           0.8759999999999999,
           0.44799999999999995,
           0.741,
           0.775,
           0.314,
           0.7340000000000001,
           0.747,
           0.77,
           0.516,
           0.841,
           0.7979999999999999,
           0.611,
           0.6970000000000001,
           0.52,
           0.698,
           0.647,
           0.773,
           0.731,
           0.721,
           0.7609999999999999,
           0.6729999999999999,
           0.648,
           0.8320000000000001,
           0.752,
           0.49,
           0.608,
           0.573,
           0.544,
           0.789,
           0.855,
           0.708,
           0.7440000000000001,
           0.884,
           0.675,
           0.542,
           0.731,
           0.6579999999999999,
           0.258
          ],
          "size": 8
         },
         "mode": "markers",
         "text": [
          "Ed Sheeran - Shape of You",
          "Luis Fonsi - Despacito - Remix",
          "Luis Fonsi - Despacito (Featuring Daddy Yankee)",
          "The Chainsmokers - Something Just Like This",
          "DJ Khaled - I'm the One",
          "Kendrick Lamar - HUMBLE.",
          "Kygo - It Ain't Me (with Selena Gomez)",
          "French Montana - Unforgettable",
          "Bruno Mars - That's What I Like",
          "ZAYN - I Don’t Wanna Live Forever (Fifty Shades Darker) - From \"Fifty Shades Darker (Original Motion Picture Soundtrack)\"",
          "Lil Uzi Vert - XO TOUR Llif3",
          "The Chainsmokers - Paris",
          "Zedd - Stay (with Alessia Cara)",
          "Charlie Puth - Attention",
          "Future - Mask Off",
          "Post Malone - Congratulations",
          "Jason Derulo - Swalla (feat. Nicki Minaj & Ty Dolla $ign)",
          "Ed Sheeran - Castle on the Hill",
          "Clean Bandit - Rockabye (feat. Sean Paul & Anne-Marie)",
          "Imagine Dragons - Believer",
          "J Balvin - Mi Gente",
          "Imagine Dragons - Thunder",
          "James Arthur - Say You Won't Let Go",
          "Shawn Mendes - There's Nothing Holdin' Me Back",
          "Danny Ocean - Me Rehúso",
          "Julia Michaels - Issues",
          "Ed Sheeran - Galway Girl",
          "Martin Garrix - Scared to Be Lonely",
          "The Chainsmokers - Closer",
          "Clean Bandit - Symphony (feat. Zara Larsson)",
          "The Weeknd - I Feel It Coming",
          "The Weeknd - Starboy",
          "DJ Khaled - Wild Thoughts",
          "Calvin Harris - Slide",
          "Dua Lipa - New Rules",
          "Logic - 1-800-273-8255",
          "Drake - Passionfruit",
          "Post Malone - rockstar",
          "Liam Payne - Strip That Down",
          "David Guetta - 2U (feat. Justin Bieber)",
          "Ed Sheeran - Perfect",
          "Starley - Call On Me - Ryan Riback Extended Remix",
          "Calvin Harris - Feels",
          "Jonas Blue - Mama",
          "Maluma - Felices los 4",
          "KYLE - iSpy (feat. Lil Yachty)",
          "Khalid - Location",
          "Shakira - Chantaje",
          "Migos - Bad and Boujee (feat. Lil Uzi Vert)",
          "Camila Cabello - Havana",
          "Martin Jensen - Solo Dance",
          "Drake - Fake Love",
          "DJ Snake - Let Me Love You",
          "Axwell /\\ Ingrosso - More Than You Know",
          "Drake - One Dance",
          "Enrique Iglesias - SUBEME LA RADIO",
          "Maggie Lindemann - Pretty Girl - Cheat Codes X CADE Remix",
          "Demi Lovato - Sorry Not Sorry",
          "Childish Gambino - Redbone",
          "Bruno Mars - 24K Magic",
          "Kendrick Lamar - DNA.",
          "Nicky Jam - El Amante",
          "Jax Jones - You Don't Know Me - Radio Edit",
          "Katy Perry - Chained To The Rhythm",
          "Cheat Codes - No Promises (feat. Demi Lovato)",
          "Maroon 5 - Don't Wanna Know (feat. Kendrick Lamar)",
          "Alessia Cara - How Far I'll Go - From \"Moana\"",
          "Niall Horan - Slow Hands",
          "Wisin - Escápate Conmigo",
          "Big Sean - Bounce Back",
          "Harry Styles - Sign of the Times",
          "Travis Scott - goosebumps",
          "Khalid - Young Dumb & Broke",
          "Martin Garrix - There for You",
          "Maroon 5 - Cold (feat. Future)",
          "Marshmello - Silence",
          "Sam Smith - Too Good At Goodbyes",
          "Steve Aoki - Just Hold On",
          "Taylor Swift - Look What You Made Me Do",
          "Macklemore - Glorious (feat. Skylar Grey)",
          "Hailee Steinfeld - Starving",
          "CNCO - Reggaetón Lento (Bailemos)",
          "AJR - Weak",
          "Ariana Grande - Side To Side",
          "Zion & Lennox - Otra Vez (feat. J Balvin)",
          "Lauv - I Like Me Better",
          "Martin Garrix - In the Name of Love",
          "Major Lazer - Cold Water (feat. Justin Bieber & MØ)",
          "Miley Cyrus - Malibu",
          "The Vamps - All Night",
          "Alok - Hear Me Now",
          "Rita Ora - Your Song",
          "Chris Jeday - Ahora Dice",
          "Justin Bieber - Friends (with BloodPop®)",
          "21 Savage - Bank Account",
          "Machine Gun Kelly - Bad Things (with Camila Cabello)",
          "The Chainsmokers - Don't Let Me Down",
          "Sam Hunt - Body Like A Back Road",
          "Halsey - Now Or Never",
          "ZAYN - Dusk Till Dawn - Radio Edit"
         ],
         "type": "scatter3d",
         "x": [
          -0.41993337996873686,
          -0.4144730260077835,
          -0.17549091193670688,
          0.04082356753853333,
          -0.37608595111910087,
          0.17426099030943698,
          0.12344516610463976,
          -0.2918065102935577,
          -0.2126297367209007,
          0.5084084814996155,
          0.18674568112054066,
          0.13003435600088126,
          -0.04873047830056311,
          -0.2876770334131333,
          0.8078597368251754,
          -0.2514501286691134,
          -0.44423496957475833,
          -0.10761275798636909,
          -0.37850738168086107,
          -0.3122304214625793,
          0.06795172482897696,
          -0.003904651078878481,
          0.22704994264980777,
          -0.5211067610531421,
          -0.10149812724563942,
          0.34425402021652546,
          -0.5353653059203666,
          0.41198065725368427,
          -0.05292144441339058,
          -0.021132476886719022,
          -0.17281204618984086,
          0.405430043062664,
          -0.2878260892474837,
          -0.31539273450482347,
          -0.14444568781719233,
          0.2217509989142028,
          0.507023143024586,
          0.5063807083837274,
          0.06533895155931042,
          0.028939539377679242,
          0.34965247163968743,
          -0.46298026697900724,
          -0.540393561839199,
          -0.30324535565107436,
          -0.3596381064661179,
          0.04502770662123458,
          0.838825417751052,
          -0.56899637230604,
          0.25963843728605446,
          0.021430566433707107,
          -0.32491588309686376,
          0.5463156023501281,
          0.3045944467527557,
          -0.19379390252415626,
          0.000534846299732058,
          -0.42602020280653613,
          -0.4235385151994004,
          0.01667836805165493,
          0.5421494731725465,
          -0.3521604007282664,
          0.5301483420591393,
          -0.0898221334478792,
          -0.08926081422966266,
          0.11765218902233716,
          -0.06030722222974865,
          0.028495316992346732,
          0.9555972273604773,
          -0.05032900628324018,
          -0.5590112167450366,
          0.2134367735084352,
          0.1512802786050843,
          -0.19926016356364654,
          0.18011278752040327,
          0.3046413066517052,
          -0.02305931648597907,
          -0.027069136911462354,
          0.3315020818141099,
          -0.29213840273464786,
          0.07407590710500138,
          -0.07203590247177541,
          -0.07031374358731265,
          -0.5072467362938161,
          -0.18177202256254515,
          0.06425244739647851,
          -0.35400615109250133,
          0.408862885501378,
          0.3594171609233055,
          -0.2350262499670472,
          0.06268168861701678,
          -0.1421869143728976,
          0.3342405393376259,
          -0.3829712560838531,
          0.0984426583198074,
          -0.29527910566941107,
          0.5959094216731673,
          0.11348556994312146,
          0.07622936266593539,
          0.11915106191086072,
          0.007083349972338979,
          0.654822671892161
         ],
         "y": [
          0.648521070489763,
          0.18974389807174613,
          -0.1655784859232625,
          -0.07118712301823081,
          0.08641567312619257,
          -0.13689811724203352,
          0.13393282024707284,
          0.0002744975972789383,
          0.0808393732445802,
          -0.12321940262039283,
          -0.32738102037212236,
          -0.13924148959740495,
          0.13112692995995312,
          0.175539650592043,
          -0.0793037536546709,
          -0.17424093460708268,
          -0.04151621166092314,
          -0.4281277002449708,
          0.26206815224048235,
          -0.10964731534689602,
          -0.23413435441952077,
          -0.6367176707027018,
          0.5481911219992566,
          0.32168721723360805,
          -0.11134815807719167,
          0.41106269926286443,
          -0.19198923876405308,
          -0.2476319526493224,
          0.48638215515702643,
          0.05403233955697424,
          0.31782696991855114,
          -0.18433832186740293,
          -0.03736002092199348,
          0.18958354175199743,
          -0.06764563101231882,
          0.4164104425903973,
          0.3142842218146366,
          -0.2850445542312127,
          0.3454129151670416,
          -0.13506239537529058,
          0.08298120006506846,
          -0.12672898422815024,
          0.13176391219765962,
          -0.017153719440589958,
          0.0775203490544513,
          0.4374170018491556,
          0.5231861245144322,
          0.17886231461895508,
          -0.1287836194794614,
          0.15593647927118273,
          -0.31160073243396086,
          0.20060130964296155,
          -0.6658531308817938,
          -0.25596612868900076,
          -0.14702199462693846,
          -0.050422368464699975,
          -0.11133245891606654,
          -0.10769851477169128,
          0.18848689114509748,
          -0.08126706311604626,
          -0.13991448905320708,
          -0.12136093051961769,
          0.1106276898841123,
          -0.5824444328041661,
          -0.004606217603298554,
          0.3102828170960123,
          -0.36909614810423585,
          0.35594505839684915,
          -0.046392023293878606,
          0.11333733940206211,
          -0.273848988580329,
          -0.16128318329990754,
          0.03968176986726569,
          -0.10959102978241367,
          0.057601251709832865,
          -0.2948116919905275,
          0.7474205750752863,
          -0.36410648641462734,
          0.04923158438489122,
          -0.3181862759049902,
          0.3265801722343351,
          0.23318909310787364,
          -0.01748321590859219,
          -0.3567287487652785,
          -0.0732328632416171,
          0.5771726264950562,
          -0.32725761690384575,
          -0.1219757094710678,
          -0.31310837564253374,
          -0.519614790299274,
          0.5665889711191531,
          0.2723274067498544,
          -0.06758981350721166,
          -0.13786013069131378,
          0.3651254872430161,
          -0.22766129921442285,
          -0.39399065970327724,
          0.5602686693764222,
          -0.022485878584386856,
          -0.47939821788102777
         ],
         "z": [
          -0.05767647546164578,
          0.10257397167329071,
          0.22716759285069438,
          -0.13688788803707128,
          -0.010164628018362426,
          0.14351837745681467,
          -0.09007093259015736,
          0.2064947145898581,
          0.18350279199661695,
          -0.14514588088857294,
          0.30831602441864453,
          -0.21486534525933818,
          -0.14436523087240263,
          0.05021966811663916,
          0.6714804162629424,
          -0.17271329819834189,
          0.16930458804142223,
          -0.0801321500026737,
          -0.11666646778164123,
          0.1981159694876838,
          -0.12859434554797033,
          -0.17746321636215423,
          -0.590071339101158,
          0.07740829739045314,
          0.0018239134055832208,
          -0.22735534878368718,
          0.13892412485923702,
          -0.20883607492600523,
          -0.19629183820869567,
          -0.1710911014559672,
          -0.023584492163398012,
          0.34301392182709844,
          0.0027152322216031644,
          -0.2411351142392226,
          0.15660217804878174,
          -0.41333918436950756,
          -0.1411982571883156,
          -0.2262782176440666,
          -0.06132360786483346,
          -0.1580237191786438,
          -0.38144498999429494,
          0.012895361429681139,
          0.20493842454010075,
          -0.06009230227920874,
          0.2030229449434887,
          0.32916597124626834,
          0.450922684815777,
          0.1799569404705653,
          0.294699647271608,
          -0.18386557656449964,
          -0.07779882689221916,
          0.8117785064163658,
          -0.3081544562777136,
          -0.04800216763549059,
          0.020861843667904834,
          0.025572712654165598,
          -0.04644246661273759,
          0.5215286462159049,
          0.02485994523945927,
          0.1471764362974636,
          0.4624369517083395,
          -0.049212570641202304,
          0.2549691665785834,
          0.018545916011139793,
          0.16075789838790647,
          -0.13503115503332447,
          0.13469646614703612,
          0.10201502112715904,
          0.1030431657653627,
          0.07020917811312508,
          -0.31619748879949233,
          -0.021358484646000913,
          -0.11733308228820673,
          -0.2690215673808848,
          0.025191918238955197,
          -0.2932280028820751,
          -0.35572564484252545,
          -0.055072705108272266,
          0.08666052933082408,
          -0.0612422537553395,
          -0.09468953950795184,
          -0.11220796243736951,
          -0.046542435433816295,
          0.38197338057092683,
          0.2729087515196064,
          0.05019219531592683,
          -0.28913509297316053,
          -0.11630648420104235,
          -0.17250508289830133,
          -0.10398870335880836,
          -0.31919044824707277,
          0.1494553994172596,
          -0.0077693645404814556,
          0.08621024862567085,
          0.54737737074951,
          -0.0650772759714953,
          0.059549680329738945,
          -0.23586399347657583,
          -0.16987663137473188,
          -0.5291041755950601
         ]
        }
       ],
       "layout": {
        "template": {
         "data": {
          "bar": [
           {
            "error_x": {
             "color": "#2a3f5f"
            },
            "error_y": {
             "color": "#2a3f5f"
            },
            "marker": {
             "line": {
              "color": "#E5ECF6",
              "width": 0.5
             }
            },
            "type": "bar"
           }
          ],
          "barpolar": [
           {
            "marker": {
             "line": {
              "color": "#E5ECF6",
              "width": 0.5
             }
            },
            "type": "barpolar"
           }
          ],
          "carpet": [
           {
            "aaxis": {
             "endlinecolor": "#2a3f5f",
             "gridcolor": "white",
             "linecolor": "white",
             "minorgridcolor": "white",
             "startlinecolor": "#2a3f5f"
            },
            "baxis": {
             "endlinecolor": "#2a3f5f",
             "gridcolor": "white",
             "linecolor": "white",
             "minorgridcolor": "white",
             "startlinecolor": "#2a3f5f"
            },
            "type": "carpet"
           }
          ],
          "choropleth": [
           {
            "colorbar": {
             "outlinewidth": 0,
             "ticks": ""
            },
            "type": "choropleth"
           }
          ],
          "contour": [
           {
            "colorbar": {
             "outlinewidth": 0,
             "ticks": ""
            },
            "colorscale": [
             [
              0,
              "#0d0887"
             ],
             [
              0.1111111111111111,
              "#46039f"
             ],
             [
              0.2222222222222222,
              "#7201a8"
             ],
             [
              0.3333333333333333,
              "#9c179e"
             ],
             [
              0.4444444444444444,
              "#bd3786"
             ],
             [
              0.5555555555555556,
              "#d8576b"
             ],
             [
              0.6666666666666666,
              "#ed7953"
             ],
             [
              0.7777777777777778,
              "#fb9f3a"
             ],
             [
              0.8888888888888888,
              "#fdca26"
             ],
             [
              1,
              "#f0f921"
             ]
            ],
            "type": "contour"
           }
          ],
          "contourcarpet": [
           {
            "colorbar": {
             "outlinewidth": 0,
             "ticks": ""
            },
            "type": "contourcarpet"
           }
          ],
          "heatmap": [
           {
            "colorbar": {
             "outlinewidth": 0,
             "ticks": ""
            },
            "colorscale": [
             [
              0,
              "#0d0887"
             ],
             [
              0.1111111111111111,
              "#46039f"
             ],
             [
              0.2222222222222222,
              "#7201a8"
             ],
             [
              0.3333333333333333,
              "#9c179e"
             ],
             [
              0.4444444444444444,
              "#bd3786"
             ],
             [
              0.5555555555555556,
              "#d8576b"
             ],
             [
              0.6666666666666666,
              "#ed7953"
             ],
             [
              0.7777777777777778,
              "#fb9f3a"
             ],
             [
              0.8888888888888888,
              "#fdca26"
             ],
             [
              1,
              "#f0f921"
             ]
            ],
            "type": "heatmap"
           }
          ],
          "heatmapgl": [
           {
            "colorbar": {
             "outlinewidth": 0,
             "ticks": ""
            },
            "colorscale": [
             [
              0,
              "#0d0887"
             ],
             [
              0.1111111111111111,
              "#46039f"
             ],
             [
              0.2222222222222222,
              "#7201a8"
             ],
             [
              0.3333333333333333,
              "#9c179e"
             ],
             [
              0.4444444444444444,
              "#bd3786"
             ],
             [
              0.5555555555555556,
              "#d8576b"
             ],
             [
              0.6666666666666666,
              "#ed7953"
             ],
             [
              0.7777777777777778,
              "#fb9f3a"
             ],
             [
              0.8888888888888888,
              "#fdca26"
             ],
             [
              1,
              "#f0f921"
             ]
            ],
            "type": "heatmapgl"
           }
          ],
          "histogram": [
           {
            "marker": {
             "colorbar": {
              "outlinewidth": 0,
              "ticks": ""
             }
            },
            "type": "histogram"
           }
          ],
          "histogram2d": [
           {
            "colorbar": {
             "outlinewidth": 0,
             "ticks": ""
            },
            "colorscale": [
             [
              0,
              "#0d0887"
             ],
             [
              0.1111111111111111,
              "#46039f"
             ],
             [
              0.2222222222222222,
              "#7201a8"
             ],
             [
              0.3333333333333333,
              "#9c179e"
             ],
             [
              0.4444444444444444,
              "#bd3786"
             ],
             [
              0.5555555555555556,
              "#d8576b"
             ],
             [
              0.6666666666666666,
              "#ed7953"
             ],
             [
              0.7777777777777778,
              "#fb9f3a"
             ],
             [
              0.8888888888888888,
              "#fdca26"
             ],
             [
              1,
              "#f0f921"
             ]
            ],
            "type": "histogram2d"
           }
          ],
          "histogram2dcontour": [
           {
            "colorbar": {
             "outlinewidth": 0,
             "ticks": ""
            },
            "colorscale": [
             [
              0,
              "#0d0887"
             ],
             [
              0.1111111111111111,
              "#46039f"
             ],
             [
              0.2222222222222222,
              "#7201a8"
             ],
             [
              0.3333333333333333,
              "#9c179e"
             ],
             [
              0.4444444444444444,
              "#bd3786"
             ],
             [
              0.5555555555555556,
              "#d8576b"
             ],
             [
              0.6666666666666666,
              "#ed7953"
             ],
             [
              0.7777777777777778,
              "#fb9f3a"
             ],
             [
              0.8888888888888888,
              "#fdca26"
             ],
             [
              1,
              "#f0f921"
             ]
            ],
            "type": "histogram2dcontour"
           }
          ],
          "mesh3d": [
           {
            "colorbar": {
             "outlinewidth": 0,
             "ticks": ""
            },
            "type": "mesh3d"
           }
          ],
          "parcoords": [
           {
            "line": {
             "colorbar": {
              "outlinewidth": 0,
              "ticks": ""
             }
            },
            "type": "parcoords"
           }
          ],
          "pie": [
           {
            "automargin": true,
            "type": "pie"
           }
          ],
          "scatter": [
           {
            "marker": {
             "colorbar": {
              "outlinewidth": 0,
              "ticks": ""
             }
            },
            "type": "scatter"
           }
          ],
          "scatter3d": [
           {
            "line": {
             "colorbar": {
              "outlinewidth": 0,
              "ticks": ""
             }
            },
            "marker": {
             "colorbar": {
              "outlinewidth": 0,
              "ticks": ""
             }
            },
            "type": "scatter3d"
           }
          ],
          "scattercarpet": [
           {
            "marker": {
             "colorbar": {
              "outlinewidth": 0,
              "ticks": ""
             }
            },
            "type": "scattercarpet"
           }
          ],
          "scattergeo": [
           {
            "marker": {
             "colorbar": {
              "outlinewidth": 0,
              "ticks": ""
             }
            },
            "type": "scattergeo"
           }
          ],
          "scattergl": [
           {
            "marker": {
             "colorbar": {
              "outlinewidth": 0,
              "ticks": ""
             }
            },
            "type": "scattergl"
           }
          ],
          "scattermapbox": [
           {
            "marker": {
             "colorbar": {
              "outlinewidth": 0,
              "ticks": ""
             }
            },
            "type": "scattermapbox"
           }
          ],
          "scatterpolar": [
           {
            "marker": {
             "colorbar": {
              "outlinewidth": 0,
              "ticks": ""
             }
            },
            "type": "scatterpolar"
           }
          ],
          "scatterpolargl": [
           {
            "marker": {
             "colorbar": {
              "outlinewidth": 0,
              "ticks": ""
             }
            },
            "type": "scatterpolargl"
           }
          ],
          "scatterternary": [
           {
            "marker": {
             "colorbar": {
              "outlinewidth": 0,
              "ticks": ""
             }
            },
            "type": "scatterternary"
           }
          ],
          "surface": [
           {
            "colorbar": {
             "outlinewidth": 0,
             "ticks": ""
            },
            "colorscale": [
             [
              0,
              "#0d0887"
             ],
             [
              0.1111111111111111,
              "#46039f"
             ],
             [
              0.2222222222222222,
              "#7201a8"
             ],
             [
              0.3333333333333333,
              "#9c179e"
             ],
             [
              0.4444444444444444,
              "#bd3786"
             ],
             [
              0.5555555555555556,
              "#d8576b"
             ],
             [
              0.6666666666666666,
              "#ed7953"
             ],
             [
              0.7777777777777778,
              "#fb9f3a"
             ],
             [
              0.8888888888888888,
              "#fdca26"
             ],
             [
              1,
              "#f0f921"
             ]
            ],
            "type": "surface"
           }
          ],
          "table": [
           {
            "cells": {
             "fill": {
              "color": "#EBF0F8"
             },
             "line": {
              "color": "white"
             }
            },
            "header": {
             "fill": {
              "color": "#C8D4E3"
             },
             "line": {
              "color": "white"
             }
            },
            "type": "table"
           }
          ]
         },
         "layout": {
          "annotationdefaults": {
           "arrowcolor": "#2a3f5f",
           "arrowhead": 0,
           "arrowwidth": 1
          },
          "coloraxis": {
           "colorbar": {
            "outlinewidth": 0,
            "ticks": ""
           }
          },
          "colorscale": {
           "diverging": [
            [
             0,
             "#8e0152"
            ],
            [
             0.1,
             "#c51b7d"
            ],
            [
             0.2,
             "#de77ae"
            ],
            [
             0.3,
             "#f1b6da"
            ],
            [
             0.4,
             "#fde0ef"
            ],
            [
             0.5,
             "#f7f7f7"
            ],
            [
             0.6,
             "#e6f5d0"
            ],
            [
             0.7,
             "#b8e186"
            ],
            [
             0.8,
             "#7fbc41"
            ],
            [
             0.9,
             "#4d9221"
            ],
            [
             1,
             "#276419"
            ]
           ],
           "sequential": [
            [
             0,
             "#0d0887"
            ],
            [
             0.1111111111111111,
             "#46039f"
            ],
            [
             0.2222222222222222,
             "#7201a8"
            ],
            [
             0.3333333333333333,
             "#9c179e"
            ],
            [
             0.4444444444444444,
             "#bd3786"
            ],
            [
             0.5555555555555556,
             "#d8576b"
            ],
            [
             0.6666666666666666,
             "#ed7953"
            ],
            [
             0.7777777777777778,
             "#fb9f3a"
            ],
            [
             0.8888888888888888,
             "#fdca26"
            ],
            [
             1,
             "#f0f921"
            ]
           ],
           "sequentialminus": [
            [
             0,
             "#0d0887"
            ],
            [
             0.1111111111111111,
             "#46039f"
            ],
            [
             0.2222222222222222,
             "#7201a8"
            ],
            [
             0.3333333333333333,
             "#9c179e"
            ],
            [
             0.4444444444444444,
             "#bd3786"
            ],
            [
             0.5555555555555556,
             "#d8576b"
            ],
            [
             0.6666666666666666,
             "#ed7953"
            ],
            [
             0.7777777777777778,
             "#fb9f3a"
            ],
            [
             0.8888888888888888,
             "#fdca26"
            ],
            [
             1,
             "#f0f921"
            ]
           ]
          },
          "colorway": [
           "#636efa",
           "#EF553B",
           "#00cc96",
           "#ab63fa",
           "#FFA15A",
           "#19d3f3",
           "#FF6692",
           "#B6E880",
           "#FF97FF",
           "#FECB52"
          ],
          "font": {
           "color": "#2a3f5f"
          },
          "geo": {
           "bgcolor": "white",
           "lakecolor": "white",
           "landcolor": "#E5ECF6",
           "showlakes": true,
           "showland": true,
           "subunitcolor": "white"
          },
          "hoverlabel": {
           "align": "left"
          },
          "hovermode": "closest",
          "mapbox": {
           "style": "light"
          },
          "paper_bgcolor": "white",
          "plot_bgcolor": "#E5ECF6",
          "polar": {
           "angularaxis": {
            "gridcolor": "white",
            "linecolor": "white",
            "ticks": ""
           },
           "bgcolor": "#E5ECF6",
           "radialaxis": {
            "gridcolor": "white",
            "linecolor": "white",
            "ticks": ""
           }
          },
          "scene": {
           "xaxis": {
            "backgroundcolor": "#E5ECF6",
            "gridcolor": "white",
            "gridwidth": 2,
            "linecolor": "white",
            "showbackground": true,
            "ticks": "",
            "zerolinecolor": "white"
           },
           "yaxis": {
            "backgroundcolor": "#E5ECF6",
            "gridcolor": "white",
            "gridwidth": 2,
            "linecolor": "white",
            "showbackground": true,
            "ticks": "",
            "zerolinecolor": "white"
           },
           "zaxis": {
            "backgroundcolor": "#E5ECF6",
            "gridcolor": "white",
            "gridwidth": 2,
            "linecolor": "white",
            "showbackground": true,
            "ticks": "",
            "zerolinecolor": "white"
           }
          },
          "shapedefaults": {
           "line": {
            "color": "#2a3f5f"
           }
          },
          "ternary": {
           "aaxis": {
            "gridcolor": "white",
            "linecolor": "white",
            "ticks": ""
           },
           "baxis": {
            "gridcolor": "white",
            "linecolor": "white",
            "ticks": ""
           },
           "bgcolor": "#E5ECF6",
           "caxis": {
            "gridcolor": "white",
            "linecolor": "white",
            "ticks": ""
           }
          },
          "title": {
           "x": 0.05
          },
          "xaxis": {
           "automargin": true,
           "gridcolor": "white",
           "linecolor": "white",
           "ticks": "",
           "title": {
            "standoff": 15
           },
           "zerolinecolor": "white",
           "zerolinewidth": 2
          },
          "yaxis": {
           "automargin": true,
           "gridcolor": "white",
           "linecolor": "white",
           "ticks": "",
           "title": {
            "standoff": 15
           },
           "zerolinecolor": "white",
           "zerolinewidth": 2
          }
         }
        }
       }
      },
      "text/html": [
       "<div>\n",
       "        \n",
       "        \n",
       "            <div id=\"b745b766-c017-4d87-b21e-c0d44bd8a66b\" class=\"plotly-graph-div\" style=\"height:525px; width:100%;\"></div>\n",
       "            <script type=\"text/javascript\">\n",
       "                require([\"plotly\"], function(Plotly) {\n",
       "                    window.PLOTLYENV=window.PLOTLYENV || {};\n",
       "                    \n",
       "                if (document.getElementById(\"b745b766-c017-4d87-b21e-c0d44bd8a66b\")) {\n",
       "                    Plotly.newPlot(\n",
       "                        'b745b766-c017-4d87-b21e-c0d44bd8a66b',\n",
       "                        [{\"marker\": {\"color\": [0.825, 0.6940000000000001, 0.66, 0.617, 0.609, 0.904, 0.64, 0.726, 0.853, 0.735, 0.732, 0.653, 0.679, 0.774, 0.833, 0.627, 0.696, 0.461, 0.72, 0.779, 0.5429999999999999, 0.6, 0.358, 0.857, 0.7440000000000001, 0.706, 0.624, 0.584, 0.748, 0.7070000000000001, 0.768, 0.6809999999999999, 0.6709999999999999, 0.736, 0.7709999999999999, 0.629, 0.809, 0.5770000000000001, 0.8690000000000001, 0.5479999999999999, 0.599, 0.6759999999999999, 0.893, 0.746, 0.755, 0.746, 0.736, 0.852, 0.927, 0.768, 0.7440000000000001, 0.927, 0.47600000000000003, 0.644, 0.7909999999999999, 0.684, 0.703, 0.7040000000000001, 0.743, 0.818, 0.637, 0.6829999999999999, 0.8759999999999999, 0.44799999999999995, 0.741, 0.775, 0.314, 0.7340000000000001, 0.747, 0.77, 0.516, 0.841, 0.7979999999999999, 0.611, 0.6970000000000001, 0.52, 0.698, 0.647, 0.773, 0.731, 0.721, 0.7609999999999999, 0.6729999999999999, 0.648, 0.8320000000000001, 0.752, 0.49, 0.608, 0.573, 0.544, 0.789, 0.855, 0.708, 0.7440000000000001, 0.884, 0.675, 0.542, 0.731, 0.6579999999999999, 0.258], \"size\": 8}, \"mode\": \"markers\", \"text\": [\"Ed Sheeran - Shape of You\", \"Luis Fonsi - Despacito - Remix\", \"Luis Fonsi - Despacito (Featuring Daddy Yankee)\", \"The Chainsmokers - Something Just Like This\", \"DJ Khaled - I'm the One\", \"Kendrick Lamar - HUMBLE.\", \"Kygo - It Ain't Me (with Selena Gomez)\", \"French Montana - Unforgettable\", \"Bruno Mars - That's What I Like\", \"ZAYN - I Don\\u2019t Wanna Live Forever (Fifty Shades Darker) - From \\\"Fifty Shades Darker (Original Motion Picture Soundtrack)\\\"\", \"Lil Uzi Vert - XO TOUR Llif3\", \"The Chainsmokers - Paris\", \"Zedd - Stay (with Alessia Cara)\", \"Charlie Puth - Attention\", \"Future - Mask Off\", \"Post Malone - Congratulations\", \"Jason Derulo - Swalla (feat. Nicki Minaj & Ty Dolla $ign)\", \"Ed Sheeran - Castle on the Hill\", \"Clean Bandit - Rockabye (feat. Sean Paul & Anne-Marie)\", \"Imagine Dragons - Believer\", \"J Balvin - Mi Gente\", \"Imagine Dragons - Thunder\", \"James Arthur - Say You Won't Let Go\", \"Shawn Mendes - There's Nothing Holdin' Me Back\", \"Danny Ocean - Me Reh\\u00faso\", \"Julia Michaels - Issues\", \"Ed Sheeran - Galway Girl\", \"Martin Garrix - Scared to Be Lonely\", \"The Chainsmokers - Closer\", \"Clean Bandit - Symphony (feat. Zara Larsson)\", \"The Weeknd - I Feel It Coming\", \"The Weeknd - Starboy\", \"DJ Khaled - Wild Thoughts\", \"Calvin Harris - Slide\", \"Dua Lipa - New Rules\", \"Logic - 1-800-273-8255\", \"Drake - Passionfruit\", \"Post Malone - rockstar\", \"Liam Payne - Strip That Down\", \"David Guetta - 2U (feat. Justin Bieber)\", \"Ed Sheeran - Perfect\", \"Starley - Call On Me - Ryan Riback Extended Remix\", \"Calvin Harris - Feels\", \"Jonas Blue - Mama\", \"Maluma - Felices los 4\", \"KYLE - iSpy (feat. Lil Yachty)\", \"Khalid - Location\", \"Shakira - Chantaje\", \"Migos - Bad and Boujee (feat. Lil Uzi Vert)\", \"Camila Cabello - Havana\", \"Martin Jensen - Solo Dance\", \"Drake - Fake Love\", \"DJ Snake - Let Me Love You\", \"Axwell /\\\\ Ingrosso - More Than You Know\", \"Drake - One Dance\", \"Enrique Iglesias - SUBEME LA RADIO\", \"Maggie Lindemann - Pretty Girl - Cheat Codes X CADE Remix\", \"Demi Lovato - Sorry Not Sorry\", \"Childish Gambino - Redbone\", \"Bruno Mars - 24K Magic\", \"Kendrick Lamar - DNA.\", \"Nicky Jam - El Amante\", \"Jax Jones - You Don't Know Me - Radio Edit\", \"Katy Perry - Chained To The Rhythm\", \"Cheat Codes - No Promises (feat. Demi Lovato)\", \"Maroon 5 - Don't Wanna Know (feat. Kendrick Lamar)\", \"Alessia Cara - How Far I'll Go - From \\\"Moana\\\"\", \"Niall Horan - Slow Hands\", \"Wisin - Esc\\u00e1pate Conmigo\", \"Big Sean - Bounce Back\", \"Harry Styles - Sign of the Times\", \"Travis Scott - goosebumps\", \"Khalid - Young Dumb & Broke\", \"Martin Garrix - There for You\", \"Maroon 5 - Cold (feat. Future)\", \"Marshmello - Silence\", \"Sam Smith - Too Good At Goodbyes\", \"Steve Aoki - Just Hold On\", \"Taylor Swift - Look What You Made Me Do\", \"Macklemore - Glorious (feat. Skylar Grey)\", \"Hailee Steinfeld - Starving\", \"CNCO - Reggaet\\u00f3n Lento (Bailemos)\", \"AJR - Weak\", \"Ariana Grande - Side To Side\", \"Zion & Lennox - Otra Vez (feat. J Balvin)\", \"Lauv - I Like Me Better\", \"Martin Garrix - In the Name of Love\", \"Major Lazer - Cold Water (feat. Justin Bieber & M\\u00d8)\", \"Miley Cyrus - Malibu\", \"The Vamps - All Night\", \"Alok - Hear Me Now\", \"Rita Ora - Your Song\", \"Chris Jeday - Ahora Dice\", \"Justin Bieber - Friends (with BloodPop\\u00ae)\", \"21 Savage - Bank Account\", \"Machine Gun Kelly - Bad Things (with Camila Cabello)\", \"The Chainsmokers - Don't Let Me Down\", \"Sam Hunt - Body Like A Back Road\", \"Halsey - Now Or Never\", \"ZAYN - Dusk Till Dawn - Radio Edit\"], \"type\": \"scatter3d\", \"x\": [-0.41993337996873686, -0.4144730260077835, -0.17549091193670688, 0.04082356753853333, -0.37608595111910087, 0.17426099030943698, 0.12344516610463976, -0.2918065102935577, -0.2126297367209007, 0.5084084814996155, 0.18674568112054066, 0.13003435600088126, -0.04873047830056311, -0.2876770334131333, 0.8078597368251754, -0.2514501286691134, -0.44423496957475833, -0.10761275798636909, -0.37850738168086107, -0.3122304214625793, 0.06795172482897696, -0.003904651078878481, 0.22704994264980777, -0.5211067610531421, -0.10149812724563942, 0.34425402021652546, -0.5353653059203666, 0.41198065725368427, -0.05292144441339058, -0.021132476886719022, -0.17281204618984086, 0.405430043062664, -0.2878260892474837, -0.31539273450482347, -0.14444568781719233, 0.2217509989142028, 0.507023143024586, 0.5063807083837274, 0.06533895155931042, 0.028939539377679242, 0.34965247163968743, -0.46298026697900724, -0.540393561839199, -0.30324535565107436, -0.3596381064661179, 0.04502770662123458, 0.838825417751052, -0.56899637230604, 0.25963843728605446, 0.021430566433707107, -0.32491588309686376, 0.5463156023501281, 0.3045944467527557, -0.19379390252415626, 0.000534846299732058, -0.42602020280653613, -0.4235385151994004, 0.01667836805165493, 0.5421494731725465, -0.3521604007282664, 0.5301483420591393, -0.0898221334478792, -0.08926081422966266, 0.11765218902233716, -0.06030722222974865, 0.028495316992346732, 0.9555972273604773, -0.05032900628324018, -0.5590112167450366, 0.2134367735084352, 0.1512802786050843, -0.19926016356364654, 0.18011278752040327, 0.3046413066517052, -0.02305931648597907, -0.027069136911462354, 0.3315020818141099, -0.29213840273464786, 0.07407590710500138, -0.07203590247177541, -0.07031374358731265, -0.5072467362938161, -0.18177202256254515, 0.06425244739647851, -0.35400615109250133, 0.408862885501378, 0.3594171609233055, -0.2350262499670472, 0.06268168861701678, -0.1421869143728976, 0.3342405393376259, -0.3829712560838531, 0.0984426583198074, -0.29527910566941107, 0.5959094216731673, 0.11348556994312146, 0.07622936266593539, 0.11915106191086072, 0.007083349972338979, 0.654822671892161], \"y\": [0.648521070489763, 0.18974389807174613, -0.1655784859232625, -0.07118712301823081, 0.08641567312619257, -0.13689811724203352, 0.13393282024707284, 0.0002744975972789383, 0.0808393732445802, -0.12321940262039283, -0.32738102037212236, -0.13924148959740495, 0.13112692995995312, 0.175539650592043, -0.0793037536546709, -0.17424093460708268, -0.04151621166092314, -0.4281277002449708, 0.26206815224048235, -0.10964731534689602, -0.23413435441952077, -0.6367176707027018, 0.5481911219992566, 0.32168721723360805, -0.11134815807719167, 0.41106269926286443, -0.19198923876405308, -0.2476319526493224, 0.48638215515702643, 0.05403233955697424, 0.31782696991855114, -0.18433832186740293, -0.03736002092199348, 0.18958354175199743, -0.06764563101231882, 0.4164104425903973, 0.3142842218146366, -0.2850445542312127, 0.3454129151670416, -0.13506239537529058, 0.08298120006506846, -0.12672898422815024, 0.13176391219765962, -0.017153719440589958, 0.0775203490544513, 0.4374170018491556, 0.5231861245144322, 0.17886231461895508, -0.1287836194794614, 0.15593647927118273, -0.31160073243396086, 0.20060130964296155, -0.6658531308817938, -0.25596612868900076, -0.14702199462693846, -0.050422368464699975, -0.11133245891606654, -0.10769851477169128, 0.18848689114509748, -0.08126706311604626, -0.13991448905320708, -0.12136093051961769, 0.1106276898841123, -0.5824444328041661, -0.004606217603298554, 0.3102828170960123, -0.36909614810423585, 0.35594505839684915, -0.046392023293878606, 0.11333733940206211, -0.273848988580329, -0.16128318329990754, 0.03968176986726569, -0.10959102978241367, 0.057601251709832865, -0.2948116919905275, 0.7474205750752863, -0.36410648641462734, 0.04923158438489122, -0.3181862759049902, 0.3265801722343351, 0.23318909310787364, -0.01748321590859219, -0.3567287487652785, -0.0732328632416171, 0.5771726264950562, -0.32725761690384575, -0.1219757094710678, -0.31310837564253374, -0.519614790299274, 0.5665889711191531, 0.2723274067498544, -0.06758981350721166, -0.13786013069131378, 0.3651254872430161, -0.22766129921442285, -0.39399065970327724, 0.5602686693764222, -0.022485878584386856, -0.47939821788102777], \"z\": [-0.05767647546164578, 0.10257397167329071, 0.22716759285069438, -0.13688788803707128, -0.010164628018362426, 0.14351837745681467, -0.09007093259015736, 0.2064947145898581, 0.18350279199661695, -0.14514588088857294, 0.30831602441864453, -0.21486534525933818, -0.14436523087240263, 0.05021966811663916, 0.6714804162629424, -0.17271329819834189, 0.16930458804142223, -0.0801321500026737, -0.11666646778164123, 0.1981159694876838, -0.12859434554797033, -0.17746321636215423, -0.590071339101158, 0.07740829739045314, 0.0018239134055832208, -0.22735534878368718, 0.13892412485923702, -0.20883607492600523, -0.19629183820869567, -0.1710911014559672, -0.023584492163398012, 0.34301392182709844, 0.0027152322216031644, -0.2411351142392226, 0.15660217804878174, -0.41333918436950756, -0.1411982571883156, -0.2262782176440666, -0.06132360786483346, -0.1580237191786438, -0.38144498999429494, 0.012895361429681139, 0.20493842454010075, -0.06009230227920874, 0.2030229449434887, 0.32916597124626834, 0.450922684815777, 0.1799569404705653, 0.294699647271608, -0.18386557656449964, -0.07779882689221916, 0.8117785064163658, -0.3081544562777136, -0.04800216763549059, 0.020861843667904834, 0.025572712654165598, -0.04644246661273759, 0.5215286462159049, 0.02485994523945927, 0.1471764362974636, 0.4624369517083395, -0.049212570641202304, 0.2549691665785834, 0.018545916011139793, 0.16075789838790647, -0.13503115503332447, 0.13469646614703612, 0.10201502112715904, 0.1030431657653627, 0.07020917811312508, -0.31619748879949233, -0.021358484646000913, -0.11733308228820673, -0.2690215673808848, 0.025191918238955197, -0.2932280028820751, -0.35572564484252545, -0.055072705108272266, 0.08666052933082408, -0.0612422537553395, -0.09468953950795184, -0.11220796243736951, -0.046542435433816295, 0.38197338057092683, 0.2729087515196064, 0.05019219531592683, -0.28913509297316053, -0.11630648420104235, -0.17250508289830133, -0.10398870335880836, -0.31919044824707277, 0.1494553994172596, -0.0077693645404814556, 0.08621024862567085, 0.54737737074951, -0.0650772759714953, 0.059549680329738945, -0.23586399347657583, -0.16987663137473188, -0.5291041755950601]}],\n",
       "                        {\"template\": {\"data\": {\"bar\": [{\"error_x\": {\"color\": \"#2a3f5f\"}, \"error_y\": {\"color\": \"#2a3f5f\"}, \"marker\": {\"line\": {\"color\": \"#E5ECF6\", \"width\": 0.5}}, \"type\": \"bar\"}], \"barpolar\": [{\"marker\": {\"line\": {\"color\": \"#E5ECF6\", \"width\": 0.5}}, \"type\": \"barpolar\"}], \"carpet\": [{\"aaxis\": {\"endlinecolor\": \"#2a3f5f\", \"gridcolor\": \"white\", \"linecolor\": \"white\", \"minorgridcolor\": \"white\", \"startlinecolor\": \"#2a3f5f\"}, \"baxis\": {\"endlinecolor\": \"#2a3f5f\", \"gridcolor\": \"white\", \"linecolor\": \"white\", \"minorgridcolor\": \"white\", \"startlinecolor\": \"#2a3f5f\"}, \"type\": \"carpet\"}], \"choropleth\": [{\"colorbar\": {\"outlinewidth\": 0, \"ticks\": \"\"}, \"type\": \"choropleth\"}], \"contour\": [{\"colorbar\": {\"outlinewidth\": 0, \"ticks\": \"\"}, \"colorscale\": [[0.0, \"#0d0887\"], [0.1111111111111111, \"#46039f\"], [0.2222222222222222, \"#7201a8\"], [0.3333333333333333, \"#9c179e\"], [0.4444444444444444, \"#bd3786\"], [0.5555555555555556, \"#d8576b\"], [0.6666666666666666, \"#ed7953\"], [0.7777777777777778, \"#fb9f3a\"], [0.8888888888888888, \"#fdca26\"], [1.0, \"#f0f921\"]], \"type\": \"contour\"}], \"contourcarpet\": [{\"colorbar\": {\"outlinewidth\": 0, \"ticks\": \"\"}, \"type\": \"contourcarpet\"}], \"heatmap\": [{\"colorbar\": {\"outlinewidth\": 0, \"ticks\": \"\"}, \"colorscale\": [[0.0, \"#0d0887\"], [0.1111111111111111, \"#46039f\"], [0.2222222222222222, \"#7201a8\"], [0.3333333333333333, \"#9c179e\"], [0.4444444444444444, \"#bd3786\"], [0.5555555555555556, \"#d8576b\"], [0.6666666666666666, \"#ed7953\"], [0.7777777777777778, \"#fb9f3a\"], [0.8888888888888888, \"#fdca26\"], [1.0, \"#f0f921\"]], \"type\": \"heatmap\"}], \"heatmapgl\": [{\"colorbar\": {\"outlinewidth\": 0, \"ticks\": \"\"}, \"colorscale\": [[0.0, \"#0d0887\"], [0.1111111111111111, \"#46039f\"], [0.2222222222222222, \"#7201a8\"], [0.3333333333333333, \"#9c179e\"], [0.4444444444444444, \"#bd3786\"], [0.5555555555555556, \"#d8576b\"], [0.6666666666666666, \"#ed7953\"], [0.7777777777777778, \"#fb9f3a\"], [0.8888888888888888, \"#fdca26\"], [1.0, \"#f0f921\"]], \"type\": \"heatmapgl\"}], \"histogram\": [{\"marker\": {\"colorbar\": {\"outlinewidth\": 0, \"ticks\": \"\"}}, \"type\": \"histogram\"}], \"histogram2d\": [{\"colorbar\": {\"outlinewidth\": 0, \"ticks\": \"\"}, \"colorscale\": [[0.0, \"#0d0887\"], [0.1111111111111111, \"#46039f\"], [0.2222222222222222, \"#7201a8\"], [0.3333333333333333, \"#9c179e\"], [0.4444444444444444, \"#bd3786\"], [0.5555555555555556, \"#d8576b\"], [0.6666666666666666, \"#ed7953\"], [0.7777777777777778, \"#fb9f3a\"], [0.8888888888888888, \"#fdca26\"], [1.0, \"#f0f921\"]], \"type\": \"histogram2d\"}], \"histogram2dcontour\": [{\"colorbar\": {\"outlinewidth\": 0, \"ticks\": \"\"}, \"colorscale\": [[0.0, \"#0d0887\"], [0.1111111111111111, \"#46039f\"], [0.2222222222222222, \"#7201a8\"], [0.3333333333333333, \"#9c179e\"], [0.4444444444444444, \"#bd3786\"], [0.5555555555555556, \"#d8576b\"], [0.6666666666666666, \"#ed7953\"], [0.7777777777777778, \"#fb9f3a\"], [0.8888888888888888, \"#fdca26\"], [1.0, \"#f0f921\"]], \"type\": \"histogram2dcontour\"}], \"mesh3d\": [{\"colorbar\": {\"outlinewidth\": 0, \"ticks\": \"\"}, \"type\": \"mesh3d\"}], \"parcoords\": [{\"line\": {\"colorbar\": {\"outlinewidth\": 0, \"ticks\": \"\"}}, \"type\": \"parcoords\"}], \"pie\": [{\"automargin\": true, \"type\": \"pie\"}], \"scatter\": [{\"marker\": {\"colorbar\": {\"outlinewidth\": 0, \"ticks\": \"\"}}, \"type\": \"scatter\"}], \"scatter3d\": [{\"line\": {\"colorbar\": {\"outlinewidth\": 0, \"ticks\": \"\"}}, \"marker\": {\"colorbar\": {\"outlinewidth\": 0, \"ticks\": \"\"}}, \"type\": \"scatter3d\"}], \"scattercarpet\": [{\"marker\": {\"colorbar\": {\"outlinewidth\": 0, \"ticks\": \"\"}}, \"type\": \"scattercarpet\"}], \"scattergeo\": [{\"marker\": {\"colorbar\": {\"outlinewidth\": 0, \"ticks\": \"\"}}, \"type\": \"scattergeo\"}], \"scattergl\": [{\"marker\": {\"colorbar\": {\"outlinewidth\": 0, \"ticks\": \"\"}}, \"type\": \"scattergl\"}], \"scattermapbox\": [{\"marker\": {\"colorbar\": {\"outlinewidth\": 0, \"ticks\": \"\"}}, \"type\": \"scattermapbox\"}], \"scatterpolar\": [{\"marker\": {\"colorbar\": {\"outlinewidth\": 0, \"ticks\": \"\"}}, \"type\": \"scatterpolar\"}], \"scatterpolargl\": [{\"marker\": {\"colorbar\": {\"outlinewidth\": 0, \"ticks\": \"\"}}, \"type\": \"scatterpolargl\"}], \"scatterternary\": [{\"marker\": {\"colorbar\": {\"outlinewidth\": 0, \"ticks\": \"\"}}, \"type\": \"scatterternary\"}], \"surface\": [{\"colorbar\": {\"outlinewidth\": 0, \"ticks\": \"\"}, \"colorscale\": [[0.0, \"#0d0887\"], [0.1111111111111111, \"#46039f\"], [0.2222222222222222, \"#7201a8\"], [0.3333333333333333, \"#9c179e\"], [0.4444444444444444, \"#bd3786\"], [0.5555555555555556, \"#d8576b\"], [0.6666666666666666, \"#ed7953\"], [0.7777777777777778, \"#fb9f3a\"], [0.8888888888888888, \"#fdca26\"], [1.0, \"#f0f921\"]], \"type\": \"surface\"}], \"table\": [{\"cells\": {\"fill\": {\"color\": \"#EBF0F8\"}, \"line\": {\"color\": \"white\"}}, \"header\": {\"fill\": {\"color\": \"#C8D4E3\"}, \"line\": {\"color\": \"white\"}}, \"type\": \"table\"}]}, \"layout\": {\"annotationdefaults\": {\"arrowcolor\": \"#2a3f5f\", \"arrowhead\": 0, \"arrowwidth\": 1}, \"coloraxis\": {\"colorbar\": {\"outlinewidth\": 0, \"ticks\": \"\"}}, \"colorscale\": {\"diverging\": [[0, \"#8e0152\"], [0.1, \"#c51b7d\"], [0.2, \"#de77ae\"], [0.3, \"#f1b6da\"], [0.4, \"#fde0ef\"], [0.5, \"#f7f7f7\"], [0.6, \"#e6f5d0\"], [0.7, \"#b8e186\"], [0.8, \"#7fbc41\"], [0.9, \"#4d9221\"], [1, \"#276419\"]], \"sequential\": [[0.0, \"#0d0887\"], [0.1111111111111111, \"#46039f\"], [0.2222222222222222, \"#7201a8\"], [0.3333333333333333, \"#9c179e\"], [0.4444444444444444, \"#bd3786\"], [0.5555555555555556, \"#d8576b\"], [0.6666666666666666, \"#ed7953\"], [0.7777777777777778, \"#fb9f3a\"], [0.8888888888888888, \"#fdca26\"], [1.0, \"#f0f921\"]], \"sequentialminus\": [[0.0, \"#0d0887\"], [0.1111111111111111, \"#46039f\"], [0.2222222222222222, \"#7201a8\"], [0.3333333333333333, \"#9c179e\"], [0.4444444444444444, \"#bd3786\"], [0.5555555555555556, \"#d8576b\"], [0.6666666666666666, \"#ed7953\"], [0.7777777777777778, \"#fb9f3a\"], [0.8888888888888888, \"#fdca26\"], [1.0, \"#f0f921\"]]}, \"colorway\": [\"#636efa\", \"#EF553B\", \"#00cc96\", \"#ab63fa\", \"#FFA15A\", \"#19d3f3\", \"#FF6692\", \"#B6E880\", \"#FF97FF\", \"#FECB52\"], \"font\": {\"color\": \"#2a3f5f\"}, \"geo\": {\"bgcolor\": \"white\", \"lakecolor\": \"white\", \"landcolor\": \"#E5ECF6\", \"showlakes\": true, \"showland\": true, \"subunitcolor\": \"white\"}, \"hoverlabel\": {\"align\": \"left\"}, \"hovermode\": \"closest\", \"mapbox\": {\"style\": \"light\"}, \"paper_bgcolor\": \"white\", \"plot_bgcolor\": \"#E5ECF6\", \"polar\": {\"angularaxis\": {\"gridcolor\": \"white\", \"linecolor\": \"white\", \"ticks\": \"\"}, \"bgcolor\": \"#E5ECF6\", \"radialaxis\": {\"gridcolor\": \"white\", \"linecolor\": \"white\", \"ticks\": \"\"}}, \"scene\": {\"xaxis\": {\"backgroundcolor\": \"#E5ECF6\", \"gridcolor\": \"white\", \"gridwidth\": 2, \"linecolor\": \"white\", \"showbackground\": true, \"ticks\": \"\", \"zerolinecolor\": \"white\"}, \"yaxis\": {\"backgroundcolor\": \"#E5ECF6\", \"gridcolor\": \"white\", \"gridwidth\": 2, \"linecolor\": \"white\", \"showbackground\": true, \"ticks\": \"\", \"zerolinecolor\": \"white\"}, \"zaxis\": {\"backgroundcolor\": \"#E5ECF6\", \"gridcolor\": \"white\", \"gridwidth\": 2, \"linecolor\": \"white\", \"showbackground\": true, \"ticks\": \"\", \"zerolinecolor\": \"white\"}}, \"shapedefaults\": {\"line\": {\"color\": \"#2a3f5f\"}}, \"ternary\": {\"aaxis\": {\"gridcolor\": \"white\", \"linecolor\": \"white\", \"ticks\": \"\"}, \"baxis\": {\"gridcolor\": \"white\", \"linecolor\": \"white\", \"ticks\": \"\"}, \"bgcolor\": \"#E5ECF6\", \"caxis\": {\"gridcolor\": \"white\", \"linecolor\": \"white\", \"ticks\": \"\"}}, \"title\": {\"x\": 0.05}, \"xaxis\": {\"automargin\": true, \"gridcolor\": \"white\", \"linecolor\": \"white\", \"ticks\": \"\", \"title\": {\"standoff\": 15}, \"zerolinecolor\": \"white\", \"zerolinewidth\": 2}, \"yaxis\": {\"automargin\": true, \"gridcolor\": \"white\", \"linecolor\": \"white\", \"ticks\": \"\", \"title\": {\"standoff\": 15}, \"zerolinecolor\": \"white\", \"zerolinewidth\": 2}}}},\n",
       "                        {\"responsive\": true}\n",
       "                    ).then(function(){\n",
       "                            \n",
       "var gd = document.getElementById('b745b766-c017-4d87-b21e-c0d44bd8a66b');\n",
       "var x = new MutationObserver(function (mutations, observer) {{\n",
       "        var display = window.getComputedStyle(gd).display;\n",
       "        if (!display || display === 'none') {{\n",
       "            console.log([gd, 'removed!']);\n",
       "            Plotly.purge(gd);\n",
       "            observer.disconnect();\n",
       "        }}\n",
       "}});\n",
       "\n",
       "// Listen for the removal of the full notebook cells\n",
       "var notebookContainer = gd.closest('#notebook-container');\n",
       "if (notebookContainer) {{\n",
       "    x.observe(notebookContainer, {childList: true});\n",
       "}}\n",
       "\n",
       "// Listen for the clearing of the current output cell\n",
       "var outputEl = gd.closest('.output');\n",
       "if (outputEl) {{\n",
       "    x.observe(outputEl, {childList: true});\n",
       "}}\n",
       "\n",
       "                        })\n",
       "                };\n",
       "                });\n",
       "            </script>\n",
       "        </div>"
      ]
     },
     "metadata": {},
     "output_type": "display_data"
    }
   ],
   "source": [
    "plot_PCA_large()"
   ]
  },
  {
   "cell_type": "markdown",
   "metadata": {},
   "source": [
    "### Plot correlation matrix"
   ]
  },
  {
   "cell_type": "code",
   "execution_count": 45,
   "metadata": {
    "scrolled": true
   },
   "outputs": [],
   "source": [
    "def plot_correlation():\n",
    "    correlation = df[['acousticness','danceability','energy','instrumentalness','liveness','tempo','valence',\n",
    "                           'loudness']]\n",
    "    plt.figure(figsize=(12,8))\n",
    "    sns.heatmap(correlation.corr(), annot=True,cmap=\"coolwarm\");"
   ]
  },
  {
   "cell_type": "code",
   "execution_count": 46,
   "metadata": {},
   "outputs": [
    {
     "data": {
      "image/png": "[encoded data removed]",
      "text/plain": [
       "<Figure size 864x576 with 2 Axes>"
      ]
     },
     "metadata": {
      "needs_background": "light"
     },
     "output_type": "display_data"
    }
   ],
   "source": [
    "plot_correlation()"
   ]
  },
  {
   "cell_type": "markdown",
   "metadata": {},
   "source": [
    "We can observe that there is a correlation between the loudness and the perceived energy of the song. The jointplots indicate a correlation between these two. Lets understand  how much one feature si impacted by another feature "
   ]
  },
  {
   "cell_type": "markdown",
   "metadata": {},
   "source": [
    "### Join plots"
   ]
  },
  {
   "cell_type": "markdown",
   "metadata": {},
   "source": [
    "And for the features we again plotted a regression based joinplot. AS The multivariate normal distribution is a nice tool to demonstrate this type of plot and thus  it is sampling from a multidimensional Gaussian and there is natural clustering.\n",
    "Here the line is  not close to flat because we chose our variables to be correlated.\n",
    "So, in nutshell we had our eda as expected to be and it gave us the best features for a song to be at the top."
   ]
  },
  {
   "cell_type": "code",
   "execution_count": 47,
   "metadata": {},
   "outputs": [],
   "source": [
    "def create_joinplot(val1,val2,year,colr):\n",
    "    sns.jointplot(val1,val2, data=year,kind='reg',color=colr)"
   ]
  },
  {
   "cell_type": "code",
   "execution_count": 48,
   "metadata": {},
   "outputs": [
    {
     "data": {
      "image/png": "[encoded data removed]",
      "text/plain": [
       "<Figure size 432x432 with 3 Axes>"
      ]
     },
     "metadata": {
      "needs_background": "light"
     },
     "output_type": "display_data"
    },
    {
     "data": {
      "image/png": "[encoded data removed]",
      "text/plain": [
       "<Figure size 432x432 with 3 Axes>"
      ]
     },
     "metadata": {
      "needs_background": "light"
     },
     "output_type": "display_data"
    },
    {
     "data": {
      "image/png": "[encoded data removed]",
      "text/plain": [
       "<Figure size 432x432 with 3 Axes>"
      ]
     },
     "metadata": {
      "needs_background": "light"
     },
     "output_type": "display_data"
    },
    {
     "data": {
      "image/png": "[encoded data removed]",
      "text/plain": [
       "<Figure size 432x432 with 3 Axes>"
      ]
     },
     "metadata": {
      "needs_background": "light"
     },
     "output_type": "display_data"
    }
   ],
   "source": [
    "\n",
    "create_joinplot('loudness','energy',df,'r')\n",
    "create_joinplot('tempo','danceability',df,'b')\n",
    "create_joinplot('acousticness','energy',df,'y')\n",
    "create_joinplot('valence','energy',df,'b')"
   ]
  },
  {
   "cell_type": "markdown",
   "metadata": {},
   "source": [
    "from the corelation matrix we observe that  \n",
    "- there is a relation between  tempo and dancebility \n",
    "- there is a relation between  acounsticeness and energy \n",
    "- there is a relation between  tempo and acousticeness\n",
    "- there is a relation between  energy and loudness\n",
    "- there is a relation between  tempo and valence\n",
    "- there is a relation between  valence and dancebility \n",
    "- there is a relation between  valence and energy  "
   ]
  },
  {
   "cell_type": "markdown",
   "metadata": {},
   "source": [
    "### dist plot for feature details \n"
   ]
  },
  {
   "cell_type": "code",
   "execution_count": 49,
   "metadata": {},
   "outputs": [],
   "source": [
    "def feature_details(feature):\n",
    "    print(\"Mean value \", feature.mean())\n",
    "    sns.distplot(feature,color=\"r\")\n",
    "    plt.show()\n"
   ]
  },
  {
   "cell_type": "code",
   "execution_count": 50,
   "metadata": {},
   "outputs": [
    {
     "name": "stdout",
     "output_type": "stream",
     "text": [
      "Mean value  0.6968199999999999\n"
     ]
    },
    {
     "data": {
      "image/png": "[encoded data removed]",
      "text/plain": [
       "<Figure size 432x288 with 1 Axes>"
      ]
     },
     "metadata": {
      "needs_background": "light"
     },
     "output_type": "display_data"
    }
   ],
   "source": [
    "feature_details(df['danceability'])"
   ]
  },
  {
   "cell_type": "markdown",
   "metadata": {},
   "source": [
    "*Conclusion*: top songs have high dancebility.And people listen to those songs in which they can dance."
   ]
  },
  {
   "cell_type": "code",
   "execution_count": 51,
   "metadata": {},
   "outputs": [
    {
     "name": "stdout",
     "output_type": "stream",
     "text": [
      "Mean value  0.6606899999999999\n"
     ]
    },
    {
     "data": {
      "image/png": "[encoded data removed]",
      "text/plain": [
       "<Figure size 432x288 with 1 Axes>"
      ]
     },
     "metadata": {
      "needs_background": "light"
     },
     "output_type": "display_data"
    }
   ],
   "source": [
    "feature_details(df['energy'])"
   ]
  },
  {
   "cell_type": "markdown",
   "metadata": {},
   "source": [
    "*Conclusion*:people like energetic songs "
   ]
  },
  {
   "cell_type": "code",
   "execution_count": 52,
   "metadata": {},
   "outputs": [
    {
     "name": "stdout",
     "output_type": "stream",
     "text": [
      "Mean value  -5.652649999999998\n"
     ]
    },
    {
     "data": {
      "image/png": "[encoded data removed]",
      "text/plain": [
       "<Figure size 432x288 with 1 Axes>"
      ]
     },
     "metadata": {
      "needs_background": "light"
     },
     "output_type": "display_data"
    }
   ],
   "source": [
    "feature_details(df['loudness'])"
   ]
  },
  {
   "cell_type": "markdown",
   "metadata": {},
   "source": [
    "*Conclusion*: more noice means more ranking "
   ]
  },
  {
   "cell_type": "code",
   "execution_count": 53,
   "metadata": {},
   "outputs": [
    {
     "name": "stdout",
     "output_type": "stream",
     "text": [
      "Mean value  0.16630649000000006\n"
     ]
    },
    {
     "data": {
      "image/png": "[encoded data removed]",
      "text/plain": [
       "<Figure size 432x288 with 1 Axes>"
      ]
     },
     "metadata": {
      "needs_background": "light"
     },
     "output_type": "display_data"
    }
   ],
   "source": [
    "feature_details(df['acousticness'])"
   ]
  },
  {
   "cell_type": "markdown",
   "metadata": {},
   "source": [
    "*Conclusion*:people don't lisen more to the acoustics "
   ]
  },
  {
   "cell_type": "code",
   "execution_count": 54,
   "metadata": {},
   "outputs": [
    {
     "name": "stdout",
     "output_type": "stream",
     "text": [
      "Mean value  0.5170489999999999\n"
     ]
    },
    {
     "data": {
      "image/png": "[encoded data removed]",
      "text/plain": [
       "<Figure size 432x288 with 1 Axes>"
      ]
     },
     "metadata": {
      "needs_background": "light"
     },
     "output_type": "display_data"
    }
   ],
   "source": [
    "feature_details(df['valence'])"
   ]
  },
  {
   "cell_type": "markdown",
   "metadata": {},
   "source": [
    "*Conclusion*:songs are evenly distributed and totally depends upon the mood "
   ]
  },
  {
   "cell_type": "code",
   "execution_count": 55,
   "metadata": {},
   "outputs": [
    {
     "name": "stdout",
     "output_type": "stream",
     "text": [
      "Mean value  119.20245999999996\n"
     ]
    },
    {
     "data": {
      "image/png": "[encoded data removed]",
      "text/plain": [
       "<Figure size 432x288 with 1 Axes>"
      ]
     },
     "metadata": {
      "needs_background": "light"
     },
     "output_type": "display_data"
    }
   ],
   "source": [
    "feature_details(df['tempo'])"
   ]
  },
  {
   "cell_type": "markdown",
   "metadata": {},
   "source": [
    "*Conclusion*:people listen fast songs more "
   ]
  },
  {
   "cell_type": "code",
   "execution_count": 56,
   "metadata": {},
   "outputs": [],
   "source": [
    "# store mean values of above features\n",
    "a=df['danceability'].mean()\n",
    "b=df['energy'].mean()\n",
    "c=df['loudness'].mean()\n",
    "d=df['acousticness'].mean()\n",
    "e=df['valence'].mean()\n",
    "f=df['tempo'].mean()\n"
   ]
  },
  {
   "cell_type": "markdown",
   "metadata": {},
   "source": [
    "### pca -important features "
   ]
  },
  {
   "cell_type": "code",
   "execution_count": 57,
   "metadata": {},
   "outputs": [],
   "source": [
    "def plot_pca_important_features():\n",
    "    feture_to_plot = [\"energy\", \"liveness\", \"tempo\", \"valence\",\"danceability\"]\n",
    "    text1 = df[\"artists\"] + \" - \" + df[\"name\"]\n",
    "    text2 = text1.values\n",
    "    X = df[feture_to_plot].values\n",
    "    y = df[\"danceability\"].values\n",
    "    min_maxscaler = MinMaxScaler()\n",
    "    X = min_maxscaler.fit_transform(X)\n",
    "    pca = PCA(n_components=3)\n",
    "    pca.fit(X)\n",
    "    X = pca.transform(X)\n",
    "\n",
    "    plot3d = go.Scatter3d(\n",
    "        x=X[:,0],\n",
    "        y=X[:,1],\n",
    "        z=X[:,2],\n",
    "        text=text2,\n",
    "        mode=\"markers\",\n",
    "        marker=dict(\n",
    "            size=8,\n",
    "            color=y\n",
    "        )\n",
    "    )\n",
    "\n",
    "    fig = go.Figure(data=[plot3d])\n",
    "    py.iplot(fig, filename=\"3d graph-2nd\")\n"
   ]
  },
  {
   "cell_type": "code",
   "execution_count": 58,
   "metadata": {},
   "outputs": [
    {
     "data": {
      "application/vnd.plotly.v1+json": {
       "config": {
        "linkText": "Export to plot.ly",
        "plotlyServerURL": "https://plot.ly",
        "showLink": false
       },
       "data": [
        {
         "marker": {
          "color": [
           0.825,
           0.6940000000000001,
           0.66,
           0.617,
           0.609,
           0.904,
           0.64,
           0.726,
           0.853,
           0.735,
           0.732,
           0.653,
           0.679,
           0.774,
           0.833,
           0.627,
           0.696,
           0.461,
           0.72,
           0.779,
           0.5429999999999999,
           0.6,
           0.358,
           0.857,
           0.7440000000000001,
           0.706,
           0.624,
           0.584,
           0.748,
           0.7070000000000001,
           0.768,
           0.6809999999999999,
           0.6709999999999999,
           0.736,
           0.7709999999999999,
           0.629,
           0.809,
           0.5770000000000001,
           0.8690000000000001,
           0.5479999999999999,
           0.599,
           0.6759999999999999,
           0.893,
           0.746,
           0.755,
           0.746,
           0.736,
           0.852,
           0.927,
           0.768,
           0.7440000000000001,
           0.927,
           0.47600000000000003,
           0.644,
           0.7909999999999999,
           0.684,
           0.703,
           0.7040000000000001,
           0.743,
           0.818,
           0.637,
           0.6829999999999999,
           0.8759999999999999,
           0.44799999999999995,
           0.741,
           0.775,
           0.314,
           0.7340000000000001,
           0.747,
           0.77,
           0.516,
           0.841,
           0.7979999999999999,
           0.611,
           0.6970000000000001,
           0.52,
           0.698,
           0.647,
           0.773,
           0.731,
           0.721,
           0.7609999999999999,
           0.6729999999999999,
           0.648,
           0.8320000000000001,
           0.752,
           0.49,
           0.608,
           0.573,
           0.544,
           0.789,
           0.855,
           0.708,
           0.7440000000000001,
           0.884,
           0.675,
           0.542,
           0.731,
           0.6579999999999999,
           0.258
          ],
          "size": 8
         },
         "mode": "markers",
         "text": [
          "Ed Sheeran - Shape of You",
          "Luis Fonsi - Despacito - Remix",
          "Luis Fonsi - Despacito (Featuring Daddy Yankee)",
          "The Chainsmokers - Something Just Like This",
          "DJ Khaled - I'm the One",
          "Kendrick Lamar - HUMBLE.",
          "Kygo - It Ain't Me (with Selena Gomez)",
          "French Montana - Unforgettable",
          "Bruno Mars - That's What I Like",
          "ZAYN - I Don’t Wanna Live Forever (Fifty Shades Darker) - From \"Fifty Shades Darker (Original Motion Picture Soundtrack)\"",
          "Lil Uzi Vert - XO TOUR Llif3",
          "The Chainsmokers - Paris",
          "Zedd - Stay (with Alessia Cara)",
          "Charlie Puth - Attention",
          "Future - Mask Off",
          "Post Malone - Congratulations",
          "Jason Derulo - Swalla (feat. Nicki Minaj & Ty Dolla $ign)",
          "Ed Sheeran - Castle on the Hill",
          "Clean Bandit - Rockabye (feat. Sean Paul & Anne-Marie)",
          "Imagine Dragons - Believer",
          "J Balvin - Mi Gente",
          "Imagine Dragons - Thunder",
          "James Arthur - Say You Won't Let Go",
          "Shawn Mendes - There's Nothing Holdin' Me Back",
          "Danny Ocean - Me Rehúso",
          "Julia Michaels - Issues",
          "Ed Sheeran - Galway Girl",
          "Martin Garrix - Scared to Be Lonely",
          "The Chainsmokers - Closer",
          "Clean Bandit - Symphony (feat. Zara Larsson)",
          "The Weeknd - I Feel It Coming",
          "The Weeknd - Starboy",
          "DJ Khaled - Wild Thoughts",
          "Calvin Harris - Slide",
          "Dua Lipa - New Rules",
          "Logic - 1-800-273-8255",
          "Drake - Passionfruit",
          "Post Malone - rockstar",
          "Liam Payne - Strip That Down",
          "David Guetta - 2U (feat. Justin Bieber)",
          "Ed Sheeran - Perfect",
          "Starley - Call On Me - Ryan Riback Extended Remix",
          "Calvin Harris - Feels",
          "Jonas Blue - Mama",
          "Maluma - Felices los 4",
          "KYLE - iSpy (feat. Lil Yachty)",
          "Khalid - Location",
          "Shakira - Chantaje",
          "Migos - Bad and Boujee (feat. Lil Uzi Vert)",
          "Camila Cabello - Havana",
          "Martin Jensen - Solo Dance",
          "Drake - Fake Love",
          "DJ Snake - Let Me Love You",
          "Axwell /\\ Ingrosso - More Than You Know",
          "Drake - One Dance",
          "Enrique Iglesias - SUBEME LA RADIO",
          "Maggie Lindemann - Pretty Girl - Cheat Codes X CADE Remix",
          "Demi Lovato - Sorry Not Sorry",
          "Childish Gambino - Redbone",
          "Bruno Mars - 24K Magic",
          "Kendrick Lamar - DNA.",
          "Nicky Jam - El Amante",
          "Jax Jones - You Don't Know Me - Radio Edit",
          "Katy Perry - Chained To The Rhythm",
          "Cheat Codes - No Promises (feat. Demi Lovato)",
          "Maroon 5 - Don't Wanna Know (feat. Kendrick Lamar)",
          "Alessia Cara - How Far I'll Go - From \"Moana\"",
          "Niall Horan - Slow Hands",
          "Wisin - Escápate Conmigo",
          "Big Sean - Bounce Back",
          "Harry Styles - Sign of the Times",
          "Travis Scott - goosebumps",
          "Khalid - Young Dumb & Broke",
          "Martin Garrix - There for You",
          "Maroon 5 - Cold (feat. Future)",
          "Marshmello - Silence",
          "Sam Smith - Too Good At Goodbyes",
          "Steve Aoki - Just Hold On",
          "Taylor Swift - Look What You Made Me Do",
          "Macklemore - Glorious (feat. Skylar Grey)",
          "Hailee Steinfeld - Starving",
          "CNCO - Reggaetón Lento (Bailemos)",
          "AJR - Weak",
          "Ariana Grande - Side To Side",
          "Zion & Lennox - Otra Vez (feat. J Balvin)",
          "Lauv - I Like Me Better",
          "Martin Garrix - In the Name of Love",
          "Major Lazer - Cold Water (feat. Justin Bieber & MØ)",
          "Miley Cyrus - Malibu",
          "The Vamps - All Night",
          "Alok - Hear Me Now",
          "Rita Ora - Your Song",
          "Chris Jeday - Ahora Dice",
          "Justin Bieber - Friends (with BloodPop®)",
          "21 Savage - Bank Account",
          "Machine Gun Kelly - Bad Things (with Camila Cabello)",
          "The Chainsmokers - Don't Let Me Down",
          "Sam Hunt - Body Like A Back Road",
          "Halsey - Now Or Never",
          "ZAYN - Dusk Till Dawn - Radio Edit"
         ],
         "type": "scatter3d",
         "x": [
          -0.4871135268121248,
          -0.4453909843747787,
          -0.13210807252789253,
          0.06336930970433498,
          -0.33444515651186846,
          0.12482225674066548,
          0.052320411644357315,
          -0.3361364902276654,
          -0.2536000105577432,
          0.45995242443509,
          0.14579226820833066,
          0.2121438258431376,
          -0.01416282145268703,
          -0.2993859760964572,
          0.3731371277263985,
          -0.038018976801954985,
          -0.3957504920551456,
          0.11122732454922021,
          -0.32706374133714206,
          -0.26524410938615833,
          0.20859796662862234,
          0.3069856636321731,
          0.15752984005064122,
          -0.5395299474253448,
          -0.08535522309559634,
          0.21240984561043807,
          -0.3945875072199698,
          0.46667153362953057,
          -0.14144416090927747,
          0.07819009519350457,
          -0.2756118641252276,
          0.2664894649036507,
          -0.1601629235679432,
          -0.16010620246068444,
          -0.19177734238724514,
          0.13552537098472658,
          0.17083887159656516,
          0.6268510618784621,
          -0.031003020873620408,
          0.13906704782312548,
          0.401432654098725,
          -0.3238571426105876,
          -0.5174583561375382,
          -0.19182330385965998,
          -0.395521802888229,
          -0.30730198361767347,
          0.14342639997851267,
          -0.5423003390743948,
          0.18564653825098495,
          0.08983568426286066,
          -0.023892123165931884,
          -0.04062767304537239,
          0.6757471293025972,
          -0.038977575275291804,
          0.03409352446565181,
          -0.3000410634511604,
          -0.3080444230725684,
          -0.1979723535123123,
          0.25060106099668,
          -0.2957820049767147,
          0.29717778612667595,
          0.017106764609084557,
          -0.22676003682829146,
          0.3345124247067956,
          -0.11236148718267737,
          -0.05078683739043919,
          0.7885733872672067,
          -0.26711682861707403,
          -0.44550987006032344,
          0.10699888655966322,
          0.3927202583001869,
          -0.012079901138408917,
          0.18554746128995936,
          0.3373612527239939,
          -0.08653094023724493,
          0.3026153019796329,
          0.07366303641103018,
          -0.036450473677179504,
          -0.00539664633075216,
          0.10380867894867861,
          -0.08866810106313686,
          -0.3980352673914857,
          -0.091774142606652,
          0.03443319149285635,
          -0.3970858717661062,
          0.06082123093563203,
          0.5344065688173033,
          -0.11631921789869334,
          0.2110122102492507,
          0.12528840031078037,
          0.15850772787527295,
          -0.43385103268806696,
          0.13450187978608308,
          -0.24362756407248684,
          0.06927979126445427,
          0.2543091087258306,
          0.1928248353184818,
          -0.0577922617330173,
          0.10742490421869735,
          0.946145385519468
         ],
         "y": [
          0.1831181092462621,
          -0.0550666348080461,
          -0.39745674860015406,
          0.05196142974650954,
          0.06936044138961647,
          0.08900546561640585,
          0.2601851517872153,
          -0.020002864246929094,
          0.16934044738959436,
          0.18735086301090947,
          -0.20085984640376822,
          0.11619584666703955,
          0.12048145746889924,
          0.19101525821592139,
          0.23922388907436948,
          -0.28842628355524264,
          -0.16100386988723686,
          -0.38754998677706837,
          -0.0877398724134193,
          -0.14854941152067389,
          -0.006962045059166271,
          -0.4198488262767205,
          0.15063637415146133,
          -0.09432524408123108,
          -0.025461044516155756,
          0.3986064906535117,
          -0.38297694569435065,
          -0.03617691020889406,
          0.3165071174716155,
          0.04412604584748017,
          -0.027008956685203356,
          -0.17127820742358443,
          0.07376849361064473,
          -0.17171656067427252,
          -0.026461418258306495,
          0.1330827257581693,
          0.37607173972772706,
          -0.008673686155082135,
          0.41487181154420927,
          -0.21562609398133992,
          0.3738889964448164,
          -0.22314866303257005,
          0.07865226280400842,
          -0.01703342381547511,
          -0.20021194693167238,
          0.13902645766430996,
          0.4998324084069822,
          -0.031126768977300403,
          0.11364077705688659,
          0.3148567610149959,
          -0.210196799313029,
          0.23643356737605736,
          -0.45244413368277053,
          -0.22712119318887014,
          0.017242983779770762,
          -0.08304938189726835,
          -0.24849693152446967,
          -0.1807084304650444,
          0.25738523807473906,
          -0.0855986441498026,
          0.1278483975191605,
          -0.28667847228858667,
          0.02171482025079472,
          -0.5691161347647048,
          0.06630444602942205,
          0.2090843988346732,
          -0.2013676280515091,
          0.5098588985689547,
          -0.09629008896314747,
          0.33635475281823624,
          0.04223991757098712,
          -0.05385968178794153,
          0.13210947076930615,
          0.07329393979899056,
          0.08530474346687189,
          -0.30446384543573973,
          0.45742051439006687,
          -0.2795941859633746,
          -0.0005205697095839357,
          -0.19879454587352957,
          0.16546048258687707,
          -0.12873126726611892,
          -0.033347286655066866,
          -0.3888832750574163,
          -0.21375778161287748,
          0.3734141725351632,
          -0.05108587006078395,
          -0.12006790984612038,
          -0.23401976484861473,
          -0.4895145265773114,
          0.3618816307359527,
          0.1771457582689145,
          -0.11183158228115499,
          -0.145718521821651,
          0.7226470765977961,
          -0.20875430208746623,
          -0.4716614900965889,
          0.3713830844759924,
          0.13430290217338384,
          -0.10327151313725756
         ],
         "z": [
          -0.1498953084407828,
          -0.14604649758720215,
          -0.34549348853584494,
          0.08836415172394613,
          0.06683821013977641,
          -0.15302845666846188,
          -0.07691886948088836,
          -0.11511443599495184,
          -0.21494737728019278,
          0.540728325009449,
          -0.17959864948798837,
          -0.015108725867524696,
          -0.027890031884100573,
          -0.1450415281491012,
          0.05422963105189696,
          0.10073508416476862,
          0.05338798849365258,
          -0.10686859060627298,
          0.04734245009493846,
          -0.09851983965314112,
          0.028494309601794197,
          -0.10685264771939836,
          -0.05043019233800937,
          -0.25590012957297725,
          -0.1953377538576379,
          -0.1272453657850671,
          0.35376408035515067,
          0.2873548609859401,
          -0.029239574931100125,
          -0.018928538199256082,
          -0.07640940828595567,
          -0.21162016518779095,
          -0.04747384459353371,
          0.2587518816475419,
          0.04240305506568103,
          0.18643476828389532,
          0.002544730253942755,
          -0.02516555039088535,
          -0.09151394229856313,
          0.08251614126357848,
          0.07066287289768218,
          0.028893975483320095,
          -0.1587382394759524,
          -0.21245857338397622,
          0.4610115886710586,
          0.2699748619458631,
          0.04934494101690492,
          -0.02898430878444947,
          0.009501843281315935,
          -0.015157999325225437,
          0.11850749129504405,
          0.09444424293897363,
          -0.22760846977516655,
          0.2089397836517854,
          0.5490398283406581,
          -0.07424892925757638,
          -0.19683165778846398,
          0.18176022182187537,
          -0.09917212063407768,
          -0.0028813473767094035,
          -0.1387847934224078,
          -0.24244329555967292,
          0.04230438927810383,
          -0.23385710613733413,
          -0.10058145996836546,
          -0.04677881202137142,
          -0.28721231647464446,
          -0.15498621860801773,
          -0.1620424968218368,
          0.1228790497999719,
          -0.03472942882357477,
          -0.013904222141698966,
          0.04270157408367262,
          0.056885343499178294,
          -0.20402968812331135,
          0.002409422499199737,
          0.172515545750951,
          -0.22357515028822372,
          -0.08241698315197497,
          -0.1299490046373677,
          -0.060642560656337975,
          0.056691492198854235,
          0.030270666982968566,
          0.18021092204634542,
          0.6766138237689365,
          0.02056572576286662,
          0.47498418613590354,
          0.05491043690772354,
          -0.20788136900560367,
          0.30290659194941477,
          -0.07885527876744304,
          -0.3046207000380155,
          -0.10117565635847213,
          0.3556429095337924,
          0.07622112461383515,
          0.3108012685314117,
          -0.16332269329357216,
          -0.043093557402815154,
          -0.005820673125069306,
          -0.1681117693982132
         ]
        }
       ],
       "layout": {
        "template": {
         "data": {
          "bar": [
           {
            "error_x": {
             "color": "#2a3f5f"
            },
            "error_y": {
             "color": "#2a3f5f"
            },
            "marker": {
             "line": {
              "color": "#E5ECF6",
              "width": 0.5
             }
            },
            "type": "bar"
           }
          ],
          "barpolar": [
           {
            "marker": {
             "line": {
              "color": "#E5ECF6",
              "width": 0.5
             }
            },
            "type": "barpolar"
           }
          ],
          "carpet": [
           {
            "aaxis": {
             "endlinecolor": "#2a3f5f",
             "gridcolor": "white",
             "linecolor": "white",
             "minorgridcolor": "white",
             "startlinecolor": "#2a3f5f"
            },
            "baxis": {
             "endlinecolor": "#2a3f5f",
             "gridcolor": "white",
             "linecolor": "white",
             "minorgridcolor": "white",
             "startlinecolor": "#2a3f5f"
            },
            "type": "carpet"
           }
          ],
          "choropleth": [
           {
            "colorbar": {
             "outlinewidth": 0,
             "ticks": ""
            },
            "type": "choropleth"
           }
          ],
          "contour": [
           {
            "colorbar": {
             "outlinewidth": 0,
             "ticks": ""
            },
            "colorscale": [
             [
              0,
              "#0d0887"
             ],
             [
              0.1111111111111111,
              "#46039f"
             ],
             [
              0.2222222222222222,
              "#7201a8"
             ],
             [
              0.3333333333333333,
              "#9c179e"
             ],
             [
              0.4444444444444444,
              "#bd3786"
             ],
             [
              0.5555555555555556,
              "#d8576b"
             ],
             [
              0.6666666666666666,
              "#ed7953"
             ],
             [
              0.7777777777777778,
              "#fb9f3a"
             ],
             [
              0.8888888888888888,
              "#fdca26"
             ],
             [
              1,
              "#f0f921"
             ]
            ],
            "type": "contour"
           }
          ],
          "contourcarpet": [
           {
            "colorbar": {
             "outlinewidth": 0,
             "ticks": ""
            },
            "type": "contourcarpet"
           }
          ],
          "heatmap": [
           {
            "colorbar": {
             "outlinewidth": 0,
             "ticks": ""
            },
            "colorscale": [
             [
              0,
              "#0d0887"
             ],
             [
              0.1111111111111111,
              "#46039f"
             ],
             [
              0.2222222222222222,
              "#7201a8"
             ],
             [
              0.3333333333333333,
              "#9c179e"
             ],
             [
              0.4444444444444444,
              "#bd3786"
             ],
             [
              0.5555555555555556,
              "#d8576b"
             ],
             [
              0.6666666666666666,
              "#ed7953"
             ],
             [
              0.7777777777777778,
              "#fb9f3a"
             ],
             [
              0.8888888888888888,
              "#fdca26"
             ],
             [
              1,
              "#f0f921"
             ]
            ],
            "type": "heatmap"
           }
          ],
          "heatmapgl": [
           {
            "colorbar": {
             "outlinewidth": 0,
             "ticks": ""
            },
            "colorscale": [
             [
              0,
              "#0d0887"
             ],
             [
              0.1111111111111111,
              "#46039f"
             ],
             [
              0.2222222222222222,
              "#7201a8"
             ],
             [
              0.3333333333333333,
              "#9c179e"
             ],
             [
              0.4444444444444444,
              "#bd3786"
             ],
             [
              0.5555555555555556,
              "#d8576b"
             ],
             [
              0.6666666666666666,
              "#ed7953"
             ],
             [
              0.7777777777777778,
              "#fb9f3a"
             ],
             [
              0.8888888888888888,
              "#fdca26"
             ],
             [
              1,
              "#f0f921"
             ]
            ],
            "type": "heatmapgl"
           }
          ],
          "histogram": [
           {
            "marker": {
             "colorbar": {
              "outlinewidth": 0,
              "ticks": ""
             }
            },
            "type": "histogram"
           }
          ],
          "histogram2d": [
           {
            "colorbar": {
             "outlinewidth": 0,
             "ticks": ""
            },
            "colorscale": [
             [
              0,
              "#0d0887"
             ],
             [
              0.1111111111111111,
              "#46039f"
             ],
             [
              0.2222222222222222,
              "#7201a8"
             ],
             [
              0.3333333333333333,
              "#9c179e"
             ],
             [
              0.4444444444444444,
              "#bd3786"
             ],
             [
              0.5555555555555556,
              "#d8576b"
             ],
             [
              0.6666666666666666,
              "#ed7953"
             ],
             [
              0.7777777777777778,
              "#fb9f3a"
             ],
             [
              0.8888888888888888,
              "#fdca26"
             ],
             [
              1,
              "#f0f921"
             ]
            ],
            "type": "histogram2d"
           }
          ],
          "histogram2dcontour": [
           {
            "colorbar": {
             "outlinewidth": 0,
             "ticks": ""
            },
            "colorscale": [
             [
              0,
              "#0d0887"
             ],
             [
              0.1111111111111111,
              "#46039f"
             ],
             [
              0.2222222222222222,
              "#7201a8"
             ],
             [
              0.3333333333333333,
              "#9c179e"
             ],
             [
              0.4444444444444444,
              "#bd3786"
             ],
             [
              0.5555555555555556,
              "#d8576b"
             ],
             [
              0.6666666666666666,
              "#ed7953"
             ],
             [
              0.7777777777777778,
              "#fb9f3a"
             ],
             [
              0.8888888888888888,
              "#fdca26"
             ],
             [
              1,
              "#f0f921"
             ]
            ],
            "type": "histogram2dcontour"
           }
          ],
          "mesh3d": [
           {
            "colorbar": {
             "outlinewidth": 0,
             "ticks": ""
            },
            "type": "mesh3d"
           }
          ],
          "parcoords": [
           {
            "line": {
             "colorbar": {
              "outlinewidth": 0,
              "ticks": ""
             }
            },
            "type": "parcoords"
           }
          ],
          "pie": [
           {
            "automargin": true,
            "type": "pie"
           }
          ],
          "scatter": [
           {
            "marker": {
             "colorbar": {
              "outlinewidth": 0,
              "ticks": ""
             }
            },
            "type": "scatter"
           }
          ],
          "scatter3d": [
           {
            "line": {
             "colorbar": {
              "outlinewidth": 0,
              "ticks": ""
             }
            },
            "marker": {
             "colorbar": {
              "outlinewidth": 0,
              "ticks": ""
             }
            },
            "type": "scatter3d"
           }
          ],
          "scattercarpet": [
           {
            "marker": {
             "colorbar": {
              "outlinewidth": 0,
              "ticks": ""
             }
            },
            "type": "scattercarpet"
           }
          ],
          "scattergeo": [
           {
            "marker": {
             "colorbar": {
              "outlinewidth": 0,
              "ticks": ""
             }
            },
            "type": "scattergeo"
           }
          ],
          "scattergl": [
           {
            "marker": {
             "colorbar": {
              "outlinewidth": 0,
              "ticks": ""
             }
            },
            "type": "scattergl"
           }
          ],
          "scattermapbox": [
           {
            "marker": {
             "colorbar": {
              "outlinewidth": 0,
              "ticks": ""
             }
            },
            "type": "scattermapbox"
           }
          ],
          "scatterpolar": [
           {
            "marker": {
             "colorbar": {
              "outlinewidth": 0,
              "ticks": ""
             }
            },
            "type": "scatterpolar"
           }
          ],
          "scatterpolargl": [
           {
            "marker": {
             "colorbar": {
              "outlinewidth": 0,
              "ticks": ""
             }
            },
            "type": "scatterpolargl"
           }
          ],
          "scatterternary": [
           {
            "marker": {
             "colorbar": {
              "outlinewidth": 0,
              "ticks": ""
             }
            },
            "type": "scatterternary"
           }
          ],
          "surface": [
           {
            "colorbar": {
             "outlinewidth": 0,
             "ticks": ""
            },
            "colorscale": [
             [
              0,
              "#0d0887"
             ],
             [
              0.1111111111111111,
              "#46039f"
             ],
             [
              0.2222222222222222,
              "#7201a8"
             ],
             [
              0.3333333333333333,
              "#9c179e"
             ],
             [
              0.4444444444444444,
              "#bd3786"
             ],
             [
              0.5555555555555556,
              "#d8576b"
             ],
             [
              0.6666666666666666,
              "#ed7953"
             ],
             [
              0.7777777777777778,
              "#fb9f3a"
             ],
             [
              0.8888888888888888,
              "#fdca26"
             ],
             [
              1,
              "#f0f921"
             ]
            ],
            "type": "surface"
           }
          ],
          "table": [
           {
            "cells": {
             "fill": {
              "color": "#EBF0F8"
             },
             "line": {
              "color": "white"
             }
            },
            "header": {
             "fill": {
              "color": "#C8D4E3"
             },
             "line": {
              "color": "white"
             }
            },
            "type": "table"
           }
          ]
         },
         "layout": {
          "annotationdefaults": {
           "arrowcolor": "#2a3f5f",
           "arrowhead": 0,
           "arrowwidth": 1
          },
          "coloraxis": {
           "colorbar": {
            "outlinewidth": 0,
            "ticks": ""
           }
          },
          "colorscale": {
           "diverging": [
            [
             0,
             "#8e0152"
            ],
            [
             0.1,
             "#c51b7d"
            ],
            [
             0.2,
             "#de77ae"
            ],
            [
             0.3,
             "#f1b6da"
            ],
            [
             0.4,
             "#fde0ef"
            ],
            [
             0.5,
             "#f7f7f7"
            ],
            [
             0.6,
             "#e6f5d0"
            ],
            [
             0.7,
             "#b8e186"
            ],
            [
             0.8,
             "#7fbc41"
            ],
            [
             0.9,
             "#4d9221"
            ],
            [
             1,
             "#276419"
            ]
           ],
           "sequential": [
            [
             0,
             "#0d0887"
            ],
            [
             0.1111111111111111,
             "#46039f"
            ],
            [
             0.2222222222222222,
             "#7201a8"
            ],
            [
             0.3333333333333333,
             "#9c179e"
            ],
            [
             0.4444444444444444,
             "#bd3786"
            ],
            [
             0.5555555555555556,
             "#d8576b"
            ],
            [
             0.6666666666666666,
             "#ed7953"
            ],
            [
             0.7777777777777778,
             "#fb9f3a"
            ],
            [
             0.8888888888888888,
             "#fdca26"
            ],
            [
             1,
             "#f0f921"
            ]
           ],
           "sequentialminus": [
            [
             0,
             "#0d0887"
            ],
            [
             0.1111111111111111,
             "#46039f"
            ],
            [
             0.2222222222222222,
             "#7201a8"
            ],
            [
             0.3333333333333333,
             "#9c179e"
            ],
            [
             0.4444444444444444,
             "#bd3786"
            ],
            [
             0.5555555555555556,
             "#d8576b"
            ],
            [
             0.6666666666666666,
             "#ed7953"
            ],
            [
             0.7777777777777778,
             "#fb9f3a"
            ],
            [
             0.8888888888888888,
             "#fdca26"
            ],
            [
             1,
             "#f0f921"
            ]
           ]
          },
          "colorway": [
           "#636efa",
           "#EF553B",
           "#00cc96",
           "#ab63fa",
           "#FFA15A",
           "#19d3f3",
           "#FF6692",
           "#B6E880",
           "#FF97FF",
           "#FECB52"
          ],
          "font": {
           "color": "#2a3f5f"
          },
          "geo": {
           "bgcolor": "white",
           "lakecolor": "white",
           "landcolor": "#E5ECF6",
           "showlakes": true,
           "showland": true,
           "subunitcolor": "white"
          },
          "hoverlabel": {
           "align": "left"
          },
          "hovermode": "closest",
          "mapbox": {
           "style": "light"
          },
          "paper_bgcolor": "white",
          "plot_bgcolor": "#E5ECF6",
          "polar": {
           "angularaxis": {
            "gridcolor": "white",
            "linecolor": "white",
            "ticks": ""
           },
           "bgcolor": "#E5ECF6",
           "radialaxis": {
            "gridcolor": "white",
            "linecolor": "white",
            "ticks": ""
           }
          },
          "scene": {
           "xaxis": {
            "backgroundcolor": "#E5ECF6",
            "gridcolor": "white",
            "gridwidth": 2,
            "linecolor": "white",
            "showbackground": true,
            "ticks": "",
            "zerolinecolor": "white"
           },
           "yaxis": {
            "backgroundcolor": "#E5ECF6",
            "gridcolor": "white",
            "gridwidth": 2,
            "linecolor": "white",
            "showbackground": true,
            "ticks": "",
            "zerolinecolor": "white"
           },
           "zaxis": {
            "backgroundcolor": "#E5ECF6",
            "gridcolor": "white",
            "gridwidth": 2,
            "linecolor": "white",
            "showbackground": true,
            "ticks": "",
            "zerolinecolor": "white"
           }
          },
          "shapedefaults": {
           "line": {
            "color": "#2a3f5f"
           }
          },
          "ternary": {
           "aaxis": {
            "gridcolor": "white",
            "linecolor": "white",
            "ticks": ""
           },
           "baxis": {
            "gridcolor": "white",
            "linecolor": "white",
            "ticks": ""
           },
           "bgcolor": "#E5ECF6",
           "caxis": {
            "gridcolor": "white",
            "linecolor": "white",
            "ticks": ""
           }
          },
          "title": {
           "x": 0.05
          },
          "xaxis": {
           "automargin": true,
           "gridcolor": "white",
           "linecolor": "white",
           "ticks": "",
           "title": {
            "standoff": 15
           },
           "zerolinecolor": "white",
           "zerolinewidth": 2
          },
          "yaxis": {
           "automargin": true,
           "gridcolor": "white",
           "linecolor": "white",
           "ticks": "",
           "title": {
            "standoff": 15
           },
           "zerolinecolor": "white",
           "zerolinewidth": 2
          }
         }
        }
       }
      },
      "text/html": [
       "<div>\n",
       "        \n",
       "        \n",
       "            <div id=\"0c169d03-8148-45f3-8fca-1d8749801705\" class=\"plotly-graph-div\" style=\"height:525px; width:100%;\"></div>\n",
       "            <script type=\"text/javascript\">\n",
       "                require([\"plotly\"], function(Plotly) {\n",
       "                    window.PLOTLYENV=window.PLOTLYENV || {};\n",
       "                    \n",
       "                if (document.getElementById(\"0c169d03-8148-45f3-8fca-1d8749801705\")) {\n",
       "                    Plotly.newPlot(\n",
       "                        '0c169d03-8148-45f3-8fca-1d8749801705',\n",
       "                        [{\"marker\": {\"color\": [0.825, 0.6940000000000001, 0.66, 0.617, 0.609, 0.904, 0.64, 0.726, 0.853, 0.735, 0.732, 0.653, 0.679, 0.774, 0.833, 0.627, 0.696, 0.461, 0.72, 0.779, 0.5429999999999999, 0.6, 0.358, 0.857, 0.7440000000000001, 0.706, 0.624, 0.584, 0.748, 0.7070000000000001, 0.768, 0.6809999999999999, 0.6709999999999999, 0.736, 0.7709999999999999, 0.629, 0.809, 0.5770000000000001, 0.8690000000000001, 0.5479999999999999, 0.599, 0.6759999999999999, 0.893, 0.746, 0.755, 0.746, 0.736, 0.852, 0.927, 0.768, 0.7440000000000001, 0.927, 0.47600000000000003, 0.644, 0.7909999999999999, 0.684, 0.703, 0.7040000000000001, 0.743, 0.818, 0.637, 0.6829999999999999, 0.8759999999999999, 0.44799999999999995, 0.741, 0.775, 0.314, 0.7340000000000001, 0.747, 0.77, 0.516, 0.841, 0.7979999999999999, 0.611, 0.6970000000000001, 0.52, 0.698, 0.647, 0.773, 0.731, 0.721, 0.7609999999999999, 0.6729999999999999, 0.648, 0.8320000000000001, 0.752, 0.49, 0.608, 0.573, 0.544, 0.789, 0.855, 0.708, 0.7440000000000001, 0.884, 0.675, 0.542, 0.731, 0.6579999999999999, 0.258], \"size\": 8}, \"mode\": \"markers\", \"text\": [\"Ed Sheeran - Shape of You\", \"Luis Fonsi - Despacito - Remix\", \"Luis Fonsi - Despacito (Featuring Daddy Yankee)\", \"The Chainsmokers - Something Just Like This\", \"DJ Khaled - I'm the One\", \"Kendrick Lamar - HUMBLE.\", \"Kygo - It Ain't Me (with Selena Gomez)\", \"French Montana - Unforgettable\", \"Bruno Mars - That's What I Like\", \"ZAYN - I Don\\u2019t Wanna Live Forever (Fifty Shades Darker) - From \\\"Fifty Shades Darker (Original Motion Picture Soundtrack)\\\"\", \"Lil Uzi Vert - XO TOUR Llif3\", \"The Chainsmokers - Paris\", \"Zedd - Stay (with Alessia Cara)\", \"Charlie Puth - Attention\", \"Future - Mask Off\", \"Post Malone - Congratulations\", \"Jason Derulo - Swalla (feat. Nicki Minaj & Ty Dolla $ign)\", \"Ed Sheeran - Castle on the Hill\", \"Clean Bandit - Rockabye (feat. Sean Paul & Anne-Marie)\", \"Imagine Dragons - Believer\", \"J Balvin - Mi Gente\", \"Imagine Dragons - Thunder\", \"James Arthur - Say You Won't Let Go\", \"Shawn Mendes - There's Nothing Holdin' Me Back\", \"Danny Ocean - Me Reh\\u00faso\", \"Julia Michaels - Issues\", \"Ed Sheeran - Galway Girl\", \"Martin Garrix - Scared to Be Lonely\", \"The Chainsmokers - Closer\", \"Clean Bandit - Symphony (feat. Zara Larsson)\", \"The Weeknd - I Feel It Coming\", \"The Weeknd - Starboy\", \"DJ Khaled - Wild Thoughts\", \"Calvin Harris - Slide\", \"Dua Lipa - New Rules\", \"Logic - 1-800-273-8255\", \"Drake - Passionfruit\", \"Post Malone - rockstar\", \"Liam Payne - Strip That Down\", \"David Guetta - 2U (feat. Justin Bieber)\", \"Ed Sheeran - Perfect\", \"Starley - Call On Me - Ryan Riback Extended Remix\", \"Calvin Harris - Feels\", \"Jonas Blue - Mama\", \"Maluma - Felices los 4\", \"KYLE - iSpy (feat. Lil Yachty)\", \"Khalid - Location\", \"Shakira - Chantaje\", \"Migos - Bad and Boujee (feat. Lil Uzi Vert)\", \"Camila Cabello - Havana\", \"Martin Jensen - Solo Dance\", \"Drake - Fake Love\", \"DJ Snake - Let Me Love You\", \"Axwell /\\\\ Ingrosso - More Than You Know\", \"Drake - One Dance\", \"Enrique Iglesias - SUBEME LA RADIO\", \"Maggie Lindemann - Pretty Girl - Cheat Codes X CADE Remix\", \"Demi Lovato - Sorry Not Sorry\", \"Childish Gambino - Redbone\", \"Bruno Mars - 24K Magic\", \"Kendrick Lamar - DNA.\", \"Nicky Jam - El Amante\", \"Jax Jones - You Don't Know Me - Radio Edit\", \"Katy Perry - Chained To The Rhythm\", \"Cheat Codes - No Promises (feat. Demi Lovato)\", \"Maroon 5 - Don't Wanna Know (feat. Kendrick Lamar)\", \"Alessia Cara - How Far I'll Go - From \\\"Moana\\\"\", \"Niall Horan - Slow Hands\", \"Wisin - Esc\\u00e1pate Conmigo\", \"Big Sean - Bounce Back\", \"Harry Styles - Sign of the Times\", \"Travis Scott - goosebumps\", \"Khalid - Young Dumb & Broke\", \"Martin Garrix - There for You\", \"Maroon 5 - Cold (feat. Future)\", \"Marshmello - Silence\", \"Sam Smith - Too Good At Goodbyes\", \"Steve Aoki - Just Hold On\", \"Taylor Swift - Look What You Made Me Do\", \"Macklemore - Glorious (feat. Skylar Grey)\", \"Hailee Steinfeld - Starving\", \"CNCO - Reggaet\\u00f3n Lento (Bailemos)\", \"AJR - Weak\", \"Ariana Grande - Side To Side\", \"Zion & Lennox - Otra Vez (feat. J Balvin)\", \"Lauv - I Like Me Better\", \"Martin Garrix - In the Name of Love\", \"Major Lazer - Cold Water (feat. Justin Bieber & M\\u00d8)\", \"Miley Cyrus - Malibu\", \"The Vamps - All Night\", \"Alok - Hear Me Now\", \"Rita Ora - Your Song\", \"Chris Jeday - Ahora Dice\", \"Justin Bieber - Friends (with BloodPop\\u00ae)\", \"21 Savage - Bank Account\", \"Machine Gun Kelly - Bad Things (with Camila Cabello)\", \"The Chainsmokers - Don't Let Me Down\", \"Sam Hunt - Body Like A Back Road\", \"Halsey - Now Or Never\", \"ZAYN - Dusk Till Dawn - Radio Edit\"], \"type\": \"scatter3d\", \"x\": [-0.4871135268121248, -0.4453909843747787, -0.13210807252789253, 0.06336930970433498, -0.33444515651186846, 0.12482225674066548, 0.052320411644357315, -0.3361364902276654, -0.2536000105577432, 0.45995242443509, 0.14579226820833066, 0.2121438258431376, -0.01416282145268703, -0.2993859760964572, 0.3731371277263985, -0.038018976801954985, -0.3957504920551456, 0.11122732454922021, -0.32706374133714206, -0.26524410938615833, 0.20859796662862234, 0.3069856636321731, 0.15752984005064122, -0.5395299474253448, -0.08535522309559634, 0.21240984561043807, -0.3945875072199698, 0.46667153362953057, -0.14144416090927747, 0.07819009519350457, -0.2756118641252276, 0.2664894649036507, -0.1601629235679432, -0.16010620246068444, -0.19177734238724514, 0.13552537098472658, 0.17083887159656516, 0.6268510618784621, -0.031003020873620408, 0.13906704782312548, 0.401432654098725, -0.3238571426105876, -0.5174583561375382, -0.19182330385965998, -0.395521802888229, -0.30730198361767347, 0.14342639997851267, -0.5423003390743948, 0.18564653825098495, 0.08983568426286066, -0.023892123165931884, -0.04062767304537239, 0.6757471293025972, -0.038977575275291804, 0.03409352446565181, -0.3000410634511604, -0.3080444230725684, -0.1979723535123123, 0.25060106099668, -0.2957820049767147, 0.29717778612667595, 0.017106764609084557, -0.22676003682829146, 0.3345124247067956, -0.11236148718267737, -0.05078683739043919, 0.7885733872672067, -0.26711682861707403, -0.44550987006032344, 0.10699888655966322, 0.3927202583001869, -0.012079901138408917, 0.18554746128995936, 0.3373612527239939, -0.08653094023724493, 0.3026153019796329, 0.07366303641103018, -0.036450473677179504, -0.00539664633075216, 0.10380867894867861, -0.08866810106313686, -0.3980352673914857, -0.091774142606652, 0.03443319149285635, -0.3970858717661062, 0.06082123093563203, 0.5344065688173033, -0.11631921789869334, 0.2110122102492507, 0.12528840031078037, 0.15850772787527295, -0.43385103268806696, 0.13450187978608308, -0.24362756407248684, 0.06927979126445427, 0.2543091087258306, 0.1928248353184818, -0.0577922617330173, 0.10742490421869735, 0.946145385519468], \"y\": [0.1831181092462621, -0.0550666348080461, -0.39745674860015406, 0.05196142974650954, 0.06936044138961647, 0.08900546561640585, 0.2601851517872153, -0.020002864246929094, 0.16934044738959436, 0.18735086301090947, -0.20085984640376822, 0.11619584666703955, 0.12048145746889924, 0.19101525821592139, 0.23922388907436948, -0.28842628355524264, -0.16100386988723686, -0.38754998677706837, -0.0877398724134193, -0.14854941152067389, -0.006962045059166271, -0.4198488262767205, 0.15063637415146133, -0.09432524408123108, -0.025461044516155756, 0.3986064906535117, -0.38297694569435065, -0.03617691020889406, 0.3165071174716155, 0.04412604584748017, -0.027008956685203356, -0.17127820742358443, 0.07376849361064473, -0.17171656067427252, -0.026461418258306495, 0.1330827257581693, 0.37607173972772706, -0.008673686155082135, 0.41487181154420927, -0.21562609398133992, 0.3738889964448164, -0.22314866303257005, 0.07865226280400842, -0.01703342381547511, -0.20021194693167238, 0.13902645766430996, 0.4998324084069822, -0.031126768977300403, 0.11364077705688659, 0.3148567610149959, -0.210196799313029, 0.23643356737605736, -0.45244413368277053, -0.22712119318887014, 0.017242983779770762, -0.08304938189726835, -0.24849693152446967, -0.1807084304650444, 0.25738523807473906, -0.0855986441498026, 0.1278483975191605, -0.28667847228858667, 0.02171482025079472, -0.5691161347647048, 0.06630444602942205, 0.2090843988346732, -0.2013676280515091, 0.5098588985689547, -0.09629008896314747, 0.33635475281823624, 0.04223991757098712, -0.05385968178794153, 0.13210947076930615, 0.07329393979899056, 0.08530474346687189, -0.30446384543573973, 0.45742051439006687, -0.2795941859633746, -0.0005205697095839357, -0.19879454587352957, 0.16546048258687707, -0.12873126726611892, -0.033347286655066866, -0.3888832750574163, -0.21375778161287748, 0.3734141725351632, -0.05108587006078395, -0.12006790984612038, -0.23401976484861473, -0.4895145265773114, 0.3618816307359527, 0.1771457582689145, -0.11183158228115499, -0.145718521821651, 0.7226470765977961, -0.20875430208746623, -0.4716614900965889, 0.3713830844759924, 0.13430290217338384, -0.10327151313725756], \"z\": [-0.1498953084407828, -0.14604649758720215, -0.34549348853584494, 0.08836415172394613, 0.06683821013977641, -0.15302845666846188, -0.07691886948088836, -0.11511443599495184, -0.21494737728019278, 0.540728325009449, -0.17959864948798837, -0.015108725867524696, -0.027890031884100573, -0.1450415281491012, 0.05422963105189696, 0.10073508416476862, 0.05338798849365258, -0.10686859060627298, 0.04734245009493846, -0.09851983965314112, 0.028494309601794197, -0.10685264771939836, -0.05043019233800937, -0.25590012957297725, -0.1953377538576379, -0.1272453657850671, 0.35376408035515067, 0.2873548609859401, -0.029239574931100125, -0.018928538199256082, -0.07640940828595567, -0.21162016518779095, -0.04747384459353371, 0.2587518816475419, 0.04240305506568103, 0.18643476828389532, 0.002544730253942755, -0.02516555039088535, -0.09151394229856313, 0.08251614126357848, 0.07066287289768218, 0.028893975483320095, -0.1587382394759524, -0.21245857338397622, 0.4610115886710586, 0.2699748619458631, 0.04934494101690492, -0.02898430878444947, 0.009501843281315935, -0.015157999325225437, 0.11850749129504405, 0.09444424293897363, -0.22760846977516655, 0.2089397836517854, 0.5490398283406581, -0.07424892925757638, -0.19683165778846398, 0.18176022182187537, -0.09917212063407768, -0.0028813473767094035, -0.1387847934224078, -0.24244329555967292, 0.04230438927810383, -0.23385710613733413, -0.10058145996836546, -0.04677881202137142, -0.28721231647464446, -0.15498621860801773, -0.1620424968218368, 0.1228790497999719, -0.03472942882357477, -0.013904222141698966, 0.04270157408367262, 0.056885343499178294, -0.20402968812331135, 0.002409422499199737, 0.172515545750951, -0.22357515028822372, -0.08241698315197497, -0.1299490046373677, -0.060642560656337975, 0.056691492198854235, 0.030270666982968566, 0.18021092204634542, 0.6766138237689365, 0.02056572576286662, 0.47498418613590354, 0.05491043690772354, -0.20788136900560367, 0.30290659194941477, -0.07885527876744304, -0.3046207000380155, -0.10117565635847213, 0.3556429095337924, 0.07622112461383515, 0.3108012685314117, -0.16332269329357216, -0.043093557402815154, -0.005820673125069306, -0.1681117693982132]}],\n",
       "                        {\"template\": {\"data\": {\"bar\": [{\"error_x\": {\"color\": \"#2a3f5f\"}, \"error_y\": {\"color\": \"#2a3f5f\"}, \"marker\": {\"line\": {\"color\": \"#E5ECF6\", \"width\": 0.5}}, \"type\": \"bar\"}], \"barpolar\": [{\"marker\": {\"line\": {\"color\": \"#E5ECF6\", \"width\": 0.5}}, \"type\": \"barpolar\"}], \"carpet\": [{\"aaxis\": {\"endlinecolor\": \"#2a3f5f\", \"gridcolor\": \"white\", \"linecolor\": \"white\", \"minorgridcolor\": \"white\", \"startlinecolor\": \"#2a3f5f\"}, \"baxis\": {\"endlinecolor\": \"#2a3f5f\", \"gridcolor\": \"white\", \"linecolor\": \"white\", \"minorgridcolor\": \"white\", \"startlinecolor\": \"#2a3f5f\"}, \"type\": \"carpet\"}], \"choropleth\": [{\"colorbar\": {\"outlinewidth\": 0, \"ticks\": \"\"}, \"type\": \"choropleth\"}], \"contour\": [{\"colorbar\": {\"outlinewidth\": 0, \"ticks\": \"\"}, \"colorscale\": [[0.0, \"#0d0887\"], [0.1111111111111111, \"#46039f\"], [0.2222222222222222, \"#7201a8\"], [0.3333333333333333, \"#9c179e\"], [0.4444444444444444, \"#bd3786\"], [0.5555555555555556, \"#d8576b\"], [0.6666666666666666, \"#ed7953\"], [0.7777777777777778, \"#fb9f3a\"], [0.8888888888888888, \"#fdca26\"], [1.0, \"#f0f921\"]], \"type\": \"contour\"}], \"contourcarpet\": [{\"colorbar\": {\"outlinewidth\": 0, \"ticks\": \"\"}, \"type\": \"contourcarpet\"}], \"heatmap\": [{\"colorbar\": {\"outlinewidth\": 0, \"ticks\": \"\"}, \"colorscale\": [[0.0, \"#0d0887\"], [0.1111111111111111, \"#46039f\"], [0.2222222222222222, \"#7201a8\"], [0.3333333333333333, \"#9c179e\"], [0.4444444444444444, \"#bd3786\"], [0.5555555555555556, \"#d8576b\"], [0.6666666666666666, \"#ed7953\"], [0.7777777777777778, \"#fb9f3a\"], [0.8888888888888888, \"#fdca26\"], [1.0, \"#f0f921\"]], \"type\": \"heatmap\"}], \"heatmapgl\": [{\"colorbar\": {\"outlinewidth\": 0, \"ticks\": \"\"}, \"colorscale\": [[0.0, \"#0d0887\"], [0.1111111111111111, \"#46039f\"], [0.2222222222222222, \"#7201a8\"], [0.3333333333333333, \"#9c179e\"], [0.4444444444444444, \"#bd3786\"], [0.5555555555555556, \"#d8576b\"], [0.6666666666666666, \"#ed7953\"], [0.7777777777777778, \"#fb9f3a\"], [0.8888888888888888, \"#fdca26\"], [1.0, \"#f0f921\"]], \"type\": \"heatmapgl\"}], \"histogram\": [{\"marker\": {\"colorbar\": {\"outlinewidth\": 0, \"ticks\": \"\"}}, \"type\": \"histogram\"}], \"histogram2d\": [{\"colorbar\": {\"outlinewidth\": 0, \"ticks\": \"\"}, \"colorscale\": [[0.0, \"#0d0887\"], [0.1111111111111111, \"#46039f\"], [0.2222222222222222, \"#7201a8\"], [0.3333333333333333, \"#9c179e\"], [0.4444444444444444, \"#bd3786\"], [0.5555555555555556, \"#d8576b\"], [0.6666666666666666, \"#ed7953\"], [0.7777777777777778, \"#fb9f3a\"], [0.8888888888888888, \"#fdca26\"], [1.0, \"#f0f921\"]], \"type\": \"histogram2d\"}], \"histogram2dcontour\": [{\"colorbar\": {\"outlinewidth\": 0, \"ticks\": \"\"}, \"colorscale\": [[0.0, \"#0d0887\"], [0.1111111111111111, \"#46039f\"], [0.2222222222222222, \"#7201a8\"], [0.3333333333333333, \"#9c179e\"], [0.4444444444444444, \"#bd3786\"], [0.5555555555555556, \"#d8576b\"], [0.6666666666666666, \"#ed7953\"], [0.7777777777777778, \"#fb9f3a\"], [0.8888888888888888, \"#fdca26\"], [1.0, \"#f0f921\"]], \"type\": \"histogram2dcontour\"}], \"mesh3d\": [{\"colorbar\": {\"outlinewidth\": 0, \"ticks\": \"\"}, \"type\": \"mesh3d\"}], \"parcoords\": [{\"line\": {\"colorbar\": {\"outlinewidth\": 0, \"ticks\": \"\"}}, \"type\": \"parcoords\"}], \"pie\": [{\"automargin\": true, \"type\": \"pie\"}], \"scatter\": [{\"marker\": {\"colorbar\": {\"outlinewidth\": 0, \"ticks\": \"\"}}, \"type\": \"scatter\"}], \"scatter3d\": [{\"line\": {\"colorbar\": {\"outlinewidth\": 0, \"ticks\": \"\"}}, \"marker\": {\"colorbar\": {\"outlinewidth\": 0, \"ticks\": \"\"}}, \"type\": \"scatter3d\"}], \"scattercarpet\": [{\"marker\": {\"colorbar\": {\"outlinewidth\": 0, \"ticks\": \"\"}}, \"type\": \"scattercarpet\"}], \"scattergeo\": [{\"marker\": {\"colorbar\": {\"outlinewidth\": 0, \"ticks\": \"\"}}, \"type\": \"scattergeo\"}], \"scattergl\": [{\"marker\": {\"colorbar\": {\"outlinewidth\": 0, \"ticks\": \"\"}}, \"type\": \"scattergl\"}], \"scattermapbox\": [{\"marker\": {\"colorbar\": {\"outlinewidth\": 0, \"ticks\": \"\"}}, \"type\": \"scattermapbox\"}], \"scatterpolar\": [{\"marker\": {\"colorbar\": {\"outlinewidth\": 0, \"ticks\": \"\"}}, \"type\": \"scatterpolar\"}], \"scatterpolargl\": [{\"marker\": {\"colorbar\": {\"outlinewidth\": 0, \"ticks\": \"\"}}, \"type\": \"scatterpolargl\"}], \"scatterternary\": [{\"marker\": {\"colorbar\": {\"outlinewidth\": 0, \"ticks\": \"\"}}, \"type\": \"scatterternary\"}], \"surface\": [{\"colorbar\": {\"outlinewidth\": 0, \"ticks\": \"\"}, \"colorscale\": [[0.0, \"#0d0887\"], [0.1111111111111111, \"#46039f\"], [0.2222222222222222, \"#7201a8\"], [0.3333333333333333, \"#9c179e\"], [0.4444444444444444, \"#bd3786\"], [0.5555555555555556, \"#d8576b\"], [0.6666666666666666, \"#ed7953\"], [0.7777777777777778, \"#fb9f3a\"], [0.8888888888888888, \"#fdca26\"], [1.0, \"#f0f921\"]], \"type\": \"surface\"}], \"table\": [{\"cells\": {\"fill\": {\"color\": \"#EBF0F8\"}, \"line\": {\"color\": \"white\"}}, \"header\": {\"fill\": {\"color\": \"#C8D4E3\"}, \"line\": {\"color\": \"white\"}}, \"type\": \"table\"}]}, \"layout\": {\"annotationdefaults\": {\"arrowcolor\": \"#2a3f5f\", \"arrowhead\": 0, \"arrowwidth\": 1}, \"coloraxis\": {\"colorbar\": {\"outlinewidth\": 0, \"ticks\": \"\"}}, \"colorscale\": {\"diverging\": [[0, \"#8e0152\"], [0.1, \"#c51b7d\"], [0.2, \"#de77ae\"], [0.3, \"#f1b6da\"], [0.4, \"#fde0ef\"], [0.5, \"#f7f7f7\"], [0.6, \"#e6f5d0\"], [0.7, \"#b8e186\"], [0.8, \"#7fbc41\"], [0.9, \"#4d9221\"], [1, \"#276419\"]], \"sequential\": [[0.0, \"#0d0887\"], [0.1111111111111111, \"#46039f\"], [0.2222222222222222, \"#7201a8\"], [0.3333333333333333, \"#9c179e\"], [0.4444444444444444, \"#bd3786\"], [0.5555555555555556, \"#d8576b\"], [0.6666666666666666, \"#ed7953\"], [0.7777777777777778, \"#fb9f3a\"], [0.8888888888888888, \"#fdca26\"], [1.0, \"#f0f921\"]], \"sequentialminus\": [[0.0, \"#0d0887\"], [0.1111111111111111, \"#46039f\"], [0.2222222222222222, \"#7201a8\"], [0.3333333333333333, \"#9c179e\"], [0.4444444444444444, \"#bd3786\"], [0.5555555555555556, \"#d8576b\"], [0.6666666666666666, \"#ed7953\"], [0.7777777777777778, \"#fb9f3a\"], [0.8888888888888888, \"#fdca26\"], [1.0, \"#f0f921\"]]}, \"colorway\": [\"#636efa\", \"#EF553B\", \"#00cc96\", \"#ab63fa\", \"#FFA15A\", \"#19d3f3\", \"#FF6692\", \"#B6E880\", \"#FF97FF\", \"#FECB52\"], \"font\": {\"color\": \"#2a3f5f\"}, \"geo\": {\"bgcolor\": \"white\", \"lakecolor\": \"white\", \"landcolor\": \"#E5ECF6\", \"showlakes\": true, \"showland\": true, \"subunitcolor\": \"white\"}, \"hoverlabel\": {\"align\": \"left\"}, \"hovermode\": \"closest\", \"mapbox\": {\"style\": \"light\"}, \"paper_bgcolor\": \"white\", \"plot_bgcolor\": \"#E5ECF6\", \"polar\": {\"angularaxis\": {\"gridcolor\": \"white\", \"linecolor\": \"white\", \"ticks\": \"\"}, \"bgcolor\": \"#E5ECF6\", \"radialaxis\": {\"gridcolor\": \"white\", \"linecolor\": \"white\", \"ticks\": \"\"}}, \"scene\": {\"xaxis\": {\"backgroundcolor\": \"#E5ECF6\", \"gridcolor\": \"white\", \"gridwidth\": 2, \"linecolor\": \"white\", \"showbackground\": true, \"ticks\": \"\", \"zerolinecolor\": \"white\"}, \"yaxis\": {\"backgroundcolor\": \"#E5ECF6\", \"gridcolor\": \"white\", \"gridwidth\": 2, \"linecolor\": \"white\", \"showbackground\": true, \"ticks\": \"\", \"zerolinecolor\": \"white\"}, \"zaxis\": {\"backgroundcolor\": \"#E5ECF6\", \"gridcolor\": \"white\", \"gridwidth\": 2, \"linecolor\": \"white\", \"showbackground\": true, \"ticks\": \"\", \"zerolinecolor\": \"white\"}}, \"shapedefaults\": {\"line\": {\"color\": \"#2a3f5f\"}}, \"ternary\": {\"aaxis\": {\"gridcolor\": \"white\", \"linecolor\": \"white\", \"ticks\": \"\"}, \"baxis\": {\"gridcolor\": \"white\", \"linecolor\": \"white\", \"ticks\": \"\"}, \"bgcolor\": \"#E5ECF6\", \"caxis\": {\"gridcolor\": \"white\", \"linecolor\": \"white\", \"ticks\": \"\"}}, \"title\": {\"x\": 0.05}, \"xaxis\": {\"automargin\": true, \"gridcolor\": \"white\", \"linecolor\": \"white\", \"ticks\": \"\", \"title\": {\"standoff\": 15}, \"zerolinecolor\": \"white\", \"zerolinewidth\": 2}, \"yaxis\": {\"automargin\": true, \"gridcolor\": \"white\", \"linecolor\": \"white\", \"ticks\": \"\", \"title\": {\"standoff\": 15}, \"zerolinecolor\": \"white\", \"zerolinewidth\": 2}}}},\n",
       "                        {\"responsive\": true}\n",
       "                    ).then(function(){\n",
       "                            \n",
       "var gd = document.getElementById('0c169d03-8148-45f3-8fca-1d8749801705');\n",
       "var x = new MutationObserver(function (mutations, observer) {{\n",
       "        var display = window.getComputedStyle(gd).display;\n",
       "        if (!display || display === 'none') {{\n",
       "            console.log([gd, 'removed!']);\n",
       "            Plotly.purge(gd);\n",
       "            observer.disconnect();\n",
       "        }}\n",
       "}});\n",
       "\n",
       "// Listen for the removal of the full notebook cells\n",
       "var notebookContainer = gd.closest('#notebook-container');\n",
       "if (notebookContainer) {{\n",
       "    x.observe(notebookContainer, {childList: true});\n",
       "}}\n",
       "\n",
       "// Listen for the clearing of the current output cell\n",
       "var outputEl = gd.closest('.output');\n",
       "if (outputEl) {{\n",
       "    x.observe(outputEl, {childList: true});\n",
       "}}\n",
       "\n",
       "                        })\n",
       "                };\n",
       "                });\n",
       "            </script>\n",
       "        </div>"
      ]
     },
     "metadata": {},
     "output_type": "display_data"
    }
   ],
   "source": [
    "plot_pca_important_features()"
   ]
  },
  {
   "cell_type": "code",
   "execution_count": null,
   "metadata": {},
   "outputs": [],
   "source": []
  },
  {
   "cell_type": "markdown",
   "metadata": {},
   "source": [
    " # Create a popularity column"
   ]
  },
  {
   "cell_type": "markdown",
   "metadata": {},
   "source": [
    "So, now if u see we crearted a new feature a.ka popularity adn did our comuputation to device if popularity is 1 or 0 for a song.And for better outcomes we have a graph here in which you an see the distribution of data around meen .For popularity 0 the distribution is scattereed  but for popularity 1 cateogary we have the danceability data around mean and not scaterred too much.\n",
    "Similarly we did comparisions for other featurees."
   ]
  },
  {
   "cell_type": "code",
   "execution_count": 59,
   "metadata": {},
   "outputs": [],
   "source": [
    "\n",
    "#dance ,valence , energy , liveliness\n",
    "\n",
    "def popularity_binary():\n",
    "    if  'popularity'  not in df.columns:\n",
    "         df[\"popularity\"]=\"\"\n",
    "         df.loc[(df['danceability']>=a) | (df['energy']>=b)| (df['loudness']>=c)| (df['acousticness']>=d)| \n",
    "                        (df['valence']>=e)| (df['tempo']>=f),'popularity']='1'\n",
    "         df.loc[(df['danceability']<a) & (df['energy']<b) & (df['loudness']<c),'popularity']='0'\n",
    "         df.head()\n",
    "\n",
    "         df.to_csv(new_dataframe_name,index=False)\n",
    "           \n",
    "    else:\n",
    "        pass\n",
    "        "
   ]
  },
  {
   "cell_type": "code",
   "execution_count": 60,
   "metadata": {},
   "outputs": [],
   "source": [
    "popularity_binary()"
   ]
  },
  {
   "cell_type": "code",
   "execution_count": 61,
   "metadata": {
    "scrolled": true
   },
   "outputs": [
    {
     "data": {
      "text/html": [
       "<div>\n",
       "<style scoped>\n",
       "    .dataframe tbody tr th:only-of-type {\n",
       "        vertical-align: middle;\n",
       "    }\n",
       "\n",
       "    .dataframe tbody tr th {\n",
       "        vertical-align: top;\n",
       "    }\n",
       "\n",
       "    .dataframe thead th {\n",
       "        text-align: right;\n",
       "    }\n",
       "</style>\n",
       "<table border=\"1\" class=\"dataframe\">\n",
       "  <thead>\n",
       "    <tr style=\"text-align: right;\">\n",
       "      <th></th>\n",
       "      <th>id</th>\n",
       "      <th>name</th>\n",
       "      <th>artists</th>\n",
       "      <th>danceability</th>\n",
       "      <th>energy</th>\n",
       "      <th>key</th>\n",
       "      <th>loudness</th>\n",
       "      <th>mode</th>\n",
       "      <th>speechiness</th>\n",
       "      <th>acousticness</th>\n",
       "      <th>instrumentalness</th>\n",
       "      <th>liveness</th>\n",
       "      <th>valence</th>\n",
       "      <th>tempo</th>\n",
       "      <th>duration_ms</th>\n",
       "      <th>time_signature</th>\n",
       "      <th>dancebility_new</th>\n",
       "      <th>tempo_rate</th>\n",
       "      <th>popularity</th>\n",
       "    </tr>\n",
       "  </thead>\n",
       "  <tbody>\n",
       "    <tr>\n",
       "      <th>0</th>\n",
       "      <td>7qiZfU4dY1lWllzX7mPBI</td>\n",
       "      <td>Shape of You</td>\n",
       "      <td>Ed Sheeran</td>\n",
       "      <td>0.825</td>\n",
       "      <td>0.652</td>\n",
       "      <td>1.0</td>\n",
       "      <td>-3.183</td>\n",
       "      <td>0.0</td>\n",
       "      <td>0.0802</td>\n",
       "      <td>0.5810</td>\n",
       "      <td>0.000000</td>\n",
       "      <td>0.0931</td>\n",
       "      <td>0.931</td>\n",
       "      <td>95.977</td>\n",
       "      <td>233713.0</td>\n",
       "      <td>4.0</td>\n",
       "      <td>1</td>\n",
       "      <td>moderate</td>\n",
       "      <td>1</td>\n",
       "    </tr>\n",
       "    <tr>\n",
       "      <th>1</th>\n",
       "      <td>5CtI0qwDJkDQGwXD1H1cL</td>\n",
       "      <td>Despacito - Remix</td>\n",
       "      <td>Luis Fonsi</td>\n",
       "      <td>0.694</td>\n",
       "      <td>0.815</td>\n",
       "      <td>2.0</td>\n",
       "      <td>-4.328</td>\n",
       "      <td>1.0</td>\n",
       "      <td>0.1200</td>\n",
       "      <td>0.2290</td>\n",
       "      <td>0.000000</td>\n",
       "      <td>0.0924</td>\n",
       "      <td>0.813</td>\n",
       "      <td>88.931</td>\n",
       "      <td>228827.0</td>\n",
       "      <td>4.0</td>\n",
       "      <td>1</td>\n",
       "      <td>moderate</td>\n",
       "      <td>1</td>\n",
       "    </tr>\n",
       "    <tr>\n",
       "      <th>2</th>\n",
       "      <td>4aWmUDTfIPGksMNLV2rQP</td>\n",
       "      <td>Despacito (Featuring Daddy Yankee)</td>\n",
       "      <td>Luis Fonsi</td>\n",
       "      <td>0.660</td>\n",
       "      <td>0.786</td>\n",
       "      <td>2.0</td>\n",
       "      <td>-4.757</td>\n",
       "      <td>1.0</td>\n",
       "      <td>0.1700</td>\n",
       "      <td>0.2090</td>\n",
       "      <td>0.000000</td>\n",
       "      <td>0.1120</td>\n",
       "      <td>0.846</td>\n",
       "      <td>177.833</td>\n",
       "      <td>228200.0</td>\n",
       "      <td>4.0</td>\n",
       "      <td>1</td>\n",
       "      <td>very fast</td>\n",
       "      <td>1</td>\n",
       "    </tr>\n",
       "    <tr>\n",
       "      <th>3</th>\n",
       "      <td>6RUKPb4LETWmmr3iAEQkt</td>\n",
       "      <td>Something Just Like This</td>\n",
       "      <td>The Chainsmokers</td>\n",
       "      <td>0.617</td>\n",
       "      <td>0.635</td>\n",
       "      <td>11.0</td>\n",
       "      <td>-6.769</td>\n",
       "      <td>0.0</td>\n",
       "      <td>0.0317</td>\n",
       "      <td>0.0498</td>\n",
       "      <td>0.000014</td>\n",
       "      <td>0.1640</td>\n",
       "      <td>0.446</td>\n",
       "      <td>103.019</td>\n",
       "      <td>247160.0</td>\n",
       "      <td>4.0</td>\n",
       "      <td>1</td>\n",
       "      <td>moderate</td>\n",
       "      <td>0</td>\n",
       "    </tr>\n",
       "    <tr>\n",
       "      <th>4</th>\n",
       "      <td>3DXncPQOG4VBw3QHh3S81</td>\n",
       "      <td>I'm the One</td>\n",
       "      <td>DJ Khaled</td>\n",
       "      <td>0.609</td>\n",
       "      <td>0.668</td>\n",
       "      <td>7.0</td>\n",
       "      <td>-4.284</td>\n",
       "      <td>1.0</td>\n",
       "      <td>0.0367</td>\n",
       "      <td>0.0552</td>\n",
       "      <td>0.000000</td>\n",
       "      <td>0.1670</td>\n",
       "      <td>0.811</td>\n",
       "      <td>80.924</td>\n",
       "      <td>288600.0</td>\n",
       "      <td>4.0</td>\n",
       "      <td>1</td>\n",
       "      <td>moderate</td>\n",
       "      <td>1</td>\n",
       "    </tr>\n",
       "  </tbody>\n",
       "</table>\n",
       "</div>"
      ],
      "text/plain": [
       "                      id                                name  \\\n",
       "0  7qiZfU4dY1lWllzX7mPBI                        Shape of You   \n",
       "1  5CtI0qwDJkDQGwXD1H1cL                   Despacito - Remix   \n",
       "2  4aWmUDTfIPGksMNLV2rQP  Despacito (Featuring Daddy Yankee)   \n",
       "3  6RUKPb4LETWmmr3iAEQkt            Something Just Like This   \n",
       "4  3DXncPQOG4VBw3QHh3S81                         I'm the One   \n",
       "\n",
       "            artists  danceability  energy   key  loudness  mode  speechiness  \\\n",
       "0        Ed Sheeran         0.825   0.652   1.0    -3.183   0.0       0.0802   \n",
       "1        Luis Fonsi         0.694   0.815   2.0    -4.328   1.0       0.1200   \n",
       "2        Luis Fonsi         0.660   0.786   2.0    -4.757   1.0       0.1700   \n",
       "3  The Chainsmokers         0.617   0.635  11.0    -6.769   0.0       0.0317   \n",
       "4         DJ Khaled         0.609   0.668   7.0    -4.284   1.0       0.0367   \n",
       "\n",
       "   acousticness  instrumentalness  liveness  valence    tempo  duration_ms  \\\n",
       "0        0.5810          0.000000    0.0931    0.931   95.977     233713.0   \n",
       "1        0.2290          0.000000    0.0924    0.813   88.931     228827.0   \n",
       "2        0.2090          0.000000    0.1120    0.846  177.833     228200.0   \n",
       "3        0.0498          0.000014    0.1640    0.446  103.019     247160.0   \n",
       "4        0.0552          0.000000    0.1670    0.811   80.924     288600.0   \n",
       "\n",
       "   time_signature dancebility_new tempo_rate popularity  \n",
       "0             4.0               1   moderate          1  \n",
       "1             4.0               1   moderate          1  \n",
       "2             4.0               1  very fast          1  \n",
       "3             4.0               1   moderate          0  \n",
       "4             4.0               1   moderate          1  "
      ]
     },
     "execution_count": 61,
     "metadata": {},
     "output_type": "execute_result"
    }
   ],
   "source": [
    "df.head()"
   ]
  },
  {
   "cell_type": "code",
   "execution_count": 62,
   "metadata": {},
   "outputs": [],
   "source": [
    "df_new=pd.read_csv('../Data/intermediate datasets-ToBeUsedForRanking/df_2017_new.csv')\n"
   ]
  },
  {
   "cell_type": "code",
   "execution_count": null,
   "metadata": {},
   "outputs": [],
   "source": []
  },
  {
   "cell_type": "code",
   "execution_count": null,
   "metadata": {},
   "outputs": [],
   "source": []
  },
  {
   "cell_type": "markdown",
   "metadata": {},
   "source": [
    "## correlation between features and popularity"
   ]
  },
  {
   "cell_type": "code",
   "execution_count": 63,
   "metadata": {},
   "outputs": [],
   "source": [
    "def draw(year,compare_col,color):\n",
    "    graph = sns.FacetGrid(df_new, col = \"popularity\")\n",
    "    graph.map(sns.distplot, compare_col, bins = 25,color=color)\n",
    "    return plt.show()"
   ]
  },
  {
   "cell_type": "code",
   "execution_count": 64,
   "metadata": {},
   "outputs": [
    {
     "data": {
      "image/png": "[encoded data removed]",
      "text/plain": [
       "<Figure size 432x216 with 2 Axes>"
      ]
     },
     "metadata": {
      "needs_background": "light"
     },
     "output_type": "display_data"
    },
    {
     "data": {
      "image/png": "[encoded data removed]",
      "text/plain": [
       "<Figure size 432x216 with 2 Axes>"
      ]
     },
     "metadata": {
      "needs_background": "light"
     },
     "output_type": "display_data"
    },
    {
     "data": {
      "image/png": "[encoded data removed]",
      "text/plain": [
       "<Figure size 432x216 with 2 Axes>"
      ]
     },
     "metadata": {
      "needs_background": "light"
     },
     "output_type": "display_data"
    },
    {
     "data": {
      "image/png": "[encoded data removed]",
      "text/plain": [
       "<Figure size 432x216 with 2 Axes>"
      ]
     },
     "metadata": {
      "needs_background": "light"
     },
     "output_type": "display_data"
    },
    {
     "data": {
      "image/png": "[encoded data removed]",
      "text/plain": [
       "<Figure size 432x216 with 2 Axes>"
      ]
     },
     "metadata": {
      "needs_background": "light"
     },
     "output_type": "display_data"
    }
   ],
   "source": [
    "draw(df_new,\"danceability\",\"b\")\n",
    "draw(df_new,\"acousticness\",\"r\")\n",
    "draw(df_new,\"loudness\",\"m\")\n",
    "draw(df_new,\"valence\",\"r\")\n",
    "draw(df_new,\"tempo\",\"y\")\n"
   ]
  },
  {
   "cell_type": "code",
   "execution_count": 65,
   "metadata": {},
   "outputs": [],
   "source": [
    "def concat_name_popularity():\n",
    "    popularity_data = pd.concat([df_new[\"name\"],df_new[\"popularity\"]],axis=1)\n",
    "    return popularity_data.head()"
   ]
  },
  {
   "cell_type": "code",
   "execution_count": 66,
   "metadata": {},
   "outputs": [
    {
     "data": {
      "text/html": [
       "<div>\n",
       "<style scoped>\n",
       "    .dataframe tbody tr th:only-of-type {\n",
       "        vertical-align: middle;\n",
       "    }\n",
       "\n",
       "    .dataframe tbody tr th {\n",
       "        vertical-align: top;\n",
       "    }\n",
       "\n",
       "    .dataframe thead th {\n",
       "        text-align: right;\n",
       "    }\n",
       "</style>\n",
       "<table border=\"1\" class=\"dataframe\">\n",
       "  <thead>\n",
       "    <tr style=\"text-align: right;\">\n",
       "      <th></th>\n",
       "      <th>name</th>\n",
       "      <th>popularity</th>\n",
       "    </tr>\n",
       "  </thead>\n",
       "  <tbody>\n",
       "    <tr>\n",
       "      <th>0</th>\n",
       "      <td>Shape of You</td>\n",
       "      <td>1</td>\n",
       "    </tr>\n",
       "    <tr>\n",
       "      <th>1</th>\n",
       "      <td>Despacito - Remix</td>\n",
       "      <td>1</td>\n",
       "    </tr>\n",
       "    <tr>\n",
       "      <th>2</th>\n",
       "      <td>Despacito (Featuring Daddy Yankee)</td>\n",
       "      <td>1</td>\n",
       "    </tr>\n",
       "    <tr>\n",
       "      <th>3</th>\n",
       "      <td>Something Just Like This</td>\n",
       "      <td>0</td>\n",
       "    </tr>\n",
       "    <tr>\n",
       "      <th>4</th>\n",
       "      <td>I'm the One</td>\n",
       "      <td>1</td>\n",
       "    </tr>\n",
       "  </tbody>\n",
       "</table>\n",
       "</div>"
      ],
      "text/plain": [
       "                                 name  popularity\n",
       "0                        Shape of You           1\n",
       "1                   Despacito - Remix           1\n",
       "2  Despacito (Featuring Daddy Yankee)           1\n",
       "3            Something Just Like This           0\n",
       "4                         I'm the One           1"
      ]
     },
     "execution_count": 66,
     "metadata": {},
     "output_type": "execute_result"
    }
   ],
   "source": [
    "concat_name_popularity()"
   ]
  },
  {
   "cell_type": "markdown",
   "metadata": {},
   "source": [
    "# calculating scores"
   ]
  },
  {
   "cell_type": "markdown",
   "metadata": {},
   "source": [
    "## data preparation "
   ]
  },
  {
   "cell_type": "code",
   "execution_count": 67,
   "metadata": {},
   "outputs": [],
   "source": [
    "df_final=df_new.copy()"
   ]
  },
  {
   "cell_type": "code",
   "execution_count": 68,
   "metadata": {},
   "outputs": [],
   "source": [
    "\n",
    "def drop():\n",
    "    \n",
    "    df_final.drop([\"id\",\"name\",\"artists\",\"tempo_rate\",\"dancebility_new\"],axis=1,inplace=True)\n",
    "    return df_final.columns\n"
   ]
  },
  {
   "cell_type": "code",
   "execution_count": 69,
   "metadata": {},
   "outputs": [
    {
     "data": {
      "text/plain": [
       "Index(['danceability', 'energy', 'key', 'loudness', 'mode', 'speechiness',\n",
       "       'acousticness', 'instrumentalness', 'liveness', 'valence', 'tempo',\n",
       "       'duration_ms', 'time_signature', 'popularity'],\n",
       "      dtype='object')"
      ]
     },
     "execution_count": 69,
     "metadata": {},
     "output_type": "execute_result"
    }
   ],
   "source": [
    "drop()"
   ]
  },
  {
   "cell_type": "code",
   "execution_count": 70,
   "metadata": {},
   "outputs": [],
   "source": [
    "def cateogarize_keys():\n",
    "    global df_final\n",
    "    df_final[\"key\"] = df_final[\"key\"].astype(\"category\")\n",
    "    df_final = pd.get_dummies(df_final, columns=[\"key\"])\n",
    "    return df_final.head()\n"
   ]
  },
  {
   "cell_type": "code",
   "execution_count": 71,
   "metadata": {},
   "outputs": [
    {
     "data": {
      "text/html": [
       "<div>\n",
       "<style scoped>\n",
       "    .dataframe tbody tr th:only-of-type {\n",
       "        vertical-align: middle;\n",
       "    }\n",
       "\n",
       "    .dataframe tbody tr th {\n",
       "        vertical-align: top;\n",
       "    }\n",
       "\n",
       "    .dataframe thead th {\n",
       "        text-align: right;\n",
       "    }\n",
       "</style>\n",
       "<table border=\"1\" class=\"dataframe\">\n",
       "  <thead>\n",
       "    <tr style=\"text-align: right;\">\n",
       "      <th></th>\n",
       "      <th>danceability</th>\n",
       "      <th>energy</th>\n",
       "      <th>loudness</th>\n",
       "      <th>mode</th>\n",
       "      <th>speechiness</th>\n",
       "      <th>acousticness</th>\n",
       "      <th>instrumentalness</th>\n",
       "      <th>liveness</th>\n",
       "      <th>valence</th>\n",
       "      <th>tempo</th>\n",
       "      <th>...</th>\n",
       "      <th>key_2.0</th>\n",
       "      <th>key_3.0</th>\n",
       "      <th>key_4.0</th>\n",
       "      <th>key_5.0</th>\n",
       "      <th>key_6.0</th>\n",
       "      <th>key_7.0</th>\n",
       "      <th>key_8.0</th>\n",
       "      <th>key_9.0</th>\n",
       "      <th>key_10.0</th>\n",
       "      <th>key_11.0</th>\n",
       "    </tr>\n",
       "  </thead>\n",
       "  <tbody>\n",
       "    <tr>\n",
       "      <th>0</th>\n",
       "      <td>0.825</td>\n",
       "      <td>0.652</td>\n",
       "      <td>-3.183</td>\n",
       "      <td>0.0</td>\n",
       "      <td>0.0802</td>\n",
       "      <td>0.5810</td>\n",
       "      <td>0.000000</td>\n",
       "      <td>0.0931</td>\n",
       "      <td>0.931</td>\n",
       "      <td>95.977</td>\n",
       "      <td>...</td>\n",
       "      <td>0</td>\n",
       "      <td>0</td>\n",
       "      <td>0</td>\n",
       "      <td>0</td>\n",
       "      <td>0</td>\n",
       "      <td>0</td>\n",
       "      <td>0</td>\n",
       "      <td>0</td>\n",
       "      <td>0</td>\n",
       "      <td>0</td>\n",
       "    </tr>\n",
       "    <tr>\n",
       "      <th>1</th>\n",
       "      <td>0.694</td>\n",
       "      <td>0.815</td>\n",
       "      <td>-4.328</td>\n",
       "      <td>1.0</td>\n",
       "      <td>0.1200</td>\n",
       "      <td>0.2290</td>\n",
       "      <td>0.000000</td>\n",
       "      <td>0.0924</td>\n",
       "      <td>0.813</td>\n",
       "      <td>88.931</td>\n",
       "      <td>...</td>\n",
       "      <td>1</td>\n",
       "      <td>0</td>\n",
       "      <td>0</td>\n",
       "      <td>0</td>\n",
       "      <td>0</td>\n",
       "      <td>0</td>\n",
       "      <td>0</td>\n",
       "      <td>0</td>\n",
       "      <td>0</td>\n",
       "      <td>0</td>\n",
       "    </tr>\n",
       "    <tr>\n",
       "      <th>2</th>\n",
       "      <td>0.660</td>\n",
       "      <td>0.786</td>\n",
       "      <td>-4.757</td>\n",
       "      <td>1.0</td>\n",
       "      <td>0.1700</td>\n",
       "      <td>0.2090</td>\n",
       "      <td>0.000000</td>\n",
       "      <td>0.1120</td>\n",
       "      <td>0.846</td>\n",
       "      <td>177.833</td>\n",
       "      <td>...</td>\n",
       "      <td>1</td>\n",
       "      <td>0</td>\n",
       "      <td>0</td>\n",
       "      <td>0</td>\n",
       "      <td>0</td>\n",
       "      <td>0</td>\n",
       "      <td>0</td>\n",
       "      <td>0</td>\n",
       "      <td>0</td>\n",
       "      <td>0</td>\n",
       "    </tr>\n",
       "    <tr>\n",
       "      <th>3</th>\n",
       "      <td>0.617</td>\n",
       "      <td>0.635</td>\n",
       "      <td>-6.769</td>\n",
       "      <td>0.0</td>\n",
       "      <td>0.0317</td>\n",
       "      <td>0.0498</td>\n",
       "      <td>0.000014</td>\n",
       "      <td>0.1640</td>\n",
       "      <td>0.446</td>\n",
       "      <td>103.019</td>\n",
       "      <td>...</td>\n",
       "      <td>0</td>\n",
       "      <td>0</td>\n",
       "      <td>0</td>\n",
       "      <td>0</td>\n",
       "      <td>0</td>\n",
       "      <td>0</td>\n",
       "      <td>0</td>\n",
       "      <td>0</td>\n",
       "      <td>0</td>\n",
       "      <td>1</td>\n",
       "    </tr>\n",
       "    <tr>\n",
       "      <th>4</th>\n",
       "      <td>0.609</td>\n",
       "      <td>0.668</td>\n",
       "      <td>-4.284</td>\n",
       "      <td>1.0</td>\n",
       "      <td>0.0367</td>\n",
       "      <td>0.0552</td>\n",
       "      <td>0.000000</td>\n",
       "      <td>0.1670</td>\n",
       "      <td>0.811</td>\n",
       "      <td>80.924</td>\n",
       "      <td>...</td>\n",
       "      <td>0</td>\n",
       "      <td>0</td>\n",
       "      <td>0</td>\n",
       "      <td>0</td>\n",
       "      <td>0</td>\n",
       "      <td>1</td>\n",
       "      <td>0</td>\n",
       "      <td>0</td>\n",
       "      <td>0</td>\n",
       "      <td>0</td>\n",
       "    </tr>\n",
       "  </tbody>\n",
       "</table>\n",
       "<p>5 rows × 25 columns</p>\n",
       "</div>"
      ],
      "text/plain": [
       "   danceability  energy  loudness  mode  speechiness  acousticness  \\\n",
       "0         0.825   0.652    -3.183   0.0       0.0802        0.5810   \n",
       "1         0.694   0.815    -4.328   1.0       0.1200        0.2290   \n",
       "2         0.660   0.786    -4.757   1.0       0.1700        0.2090   \n",
       "3         0.617   0.635    -6.769   0.0       0.0317        0.0498   \n",
       "4         0.609   0.668    -4.284   1.0       0.0367        0.0552   \n",
       "\n",
       "   instrumentalness  liveness  valence    tempo  ...  key_2.0  key_3.0  \\\n",
       "0          0.000000    0.0931    0.931   95.977  ...        0        0   \n",
       "1          0.000000    0.0924    0.813   88.931  ...        1        0   \n",
       "2          0.000000    0.1120    0.846  177.833  ...        1        0   \n",
       "3          0.000014    0.1640    0.446  103.019  ...        0        0   \n",
       "4          0.000000    0.1670    0.811   80.924  ...        0        0   \n",
       "\n",
       "   key_4.0  key_5.0  key_6.0  key_7.0  key_8.0  key_9.0  key_10.0  key_11.0  \n",
       "0        0        0        0        0        0        0         0         0  \n",
       "1        0        0        0        0        0        0         0         0  \n",
       "2        0        0        0        0        0        0         0         0  \n",
       "3        0        0        0        0        0        0         0         1  \n",
       "4        0        0        0        1        0        0         0         0  \n",
       "\n",
       "[5 rows x 25 columns]"
      ]
     },
     "execution_count": 71,
     "metadata": {},
     "output_type": "execute_result"
    }
   ],
   "source": [
    "cateogarize_keys()"
   ]
  },
  {
   "cell_type": "code",
   "execution_count": 72,
   "metadata": {},
   "outputs": [],
   "source": [
    "def cateogarize_time():\n",
    "    global df_final\n",
    "    df_final[\"time_signature\"] = df_final[\"time_signature\"].astype(\"category\")\n",
    "    df_final = pd.get_dummies(df_final, columns=[\"time_signature\"])\n",
    "    return df_final.head()"
   ]
  },
  {
   "cell_type": "code",
   "execution_count": 73,
   "metadata": {},
   "outputs": [
    {
     "data": {
      "text/html": [
       "<div>\n",
       "<style scoped>\n",
       "    .dataframe tbody tr th:only-of-type {\n",
       "        vertical-align: middle;\n",
       "    }\n",
       "\n",
       "    .dataframe tbody tr th {\n",
       "        vertical-align: top;\n",
       "    }\n",
       "\n",
       "    .dataframe thead th {\n",
       "        text-align: right;\n",
       "    }\n",
       "</style>\n",
       "<table border=\"1\" class=\"dataframe\">\n",
       "  <thead>\n",
       "    <tr style=\"text-align: right;\">\n",
       "      <th></th>\n",
       "      <th>danceability</th>\n",
       "      <th>energy</th>\n",
       "      <th>loudness</th>\n",
       "      <th>mode</th>\n",
       "      <th>speechiness</th>\n",
       "      <th>acousticness</th>\n",
       "      <th>instrumentalness</th>\n",
       "      <th>liveness</th>\n",
       "      <th>valence</th>\n",
       "      <th>tempo</th>\n",
       "      <th>...</th>\n",
       "      <th>key_4.0</th>\n",
       "      <th>key_5.0</th>\n",
       "      <th>key_6.0</th>\n",
       "      <th>key_7.0</th>\n",
       "      <th>key_8.0</th>\n",
       "      <th>key_9.0</th>\n",
       "      <th>key_10.0</th>\n",
       "      <th>key_11.0</th>\n",
       "      <th>time_signature_3.0</th>\n",
       "      <th>time_signature_4.0</th>\n",
       "    </tr>\n",
       "  </thead>\n",
       "  <tbody>\n",
       "    <tr>\n",
       "      <th>0</th>\n",
       "      <td>0.825</td>\n",
       "      <td>0.652</td>\n",
       "      <td>-3.183</td>\n",
       "      <td>0.0</td>\n",
       "      <td>0.0802</td>\n",
       "      <td>0.5810</td>\n",
       "      <td>0.000000</td>\n",
       "      <td>0.0931</td>\n",
       "      <td>0.931</td>\n",
       "      <td>95.977</td>\n",
       "      <td>...</td>\n",
       "      <td>0</td>\n",
       "      <td>0</td>\n",
       "      <td>0</td>\n",
       "      <td>0</td>\n",
       "      <td>0</td>\n",
       "      <td>0</td>\n",
       "      <td>0</td>\n",
       "      <td>0</td>\n",
       "      <td>0</td>\n",
       "      <td>1</td>\n",
       "    </tr>\n",
       "    <tr>\n",
       "      <th>1</th>\n",
       "      <td>0.694</td>\n",
       "      <td>0.815</td>\n",
       "      <td>-4.328</td>\n",
       "      <td>1.0</td>\n",
       "      <td>0.1200</td>\n",
       "      <td>0.2290</td>\n",
       "      <td>0.000000</td>\n",
       "      <td>0.0924</td>\n",
       "      <td>0.813</td>\n",
       "      <td>88.931</td>\n",
       "      <td>...</td>\n",
       "      <td>0</td>\n",
       "      <td>0</td>\n",
       "      <td>0</td>\n",
       "      <td>0</td>\n",
       "      <td>0</td>\n",
       "      <td>0</td>\n",
       "      <td>0</td>\n",
       "      <td>0</td>\n",
       "      <td>0</td>\n",
       "      <td>1</td>\n",
       "    </tr>\n",
       "    <tr>\n",
       "      <th>2</th>\n",
       "      <td>0.660</td>\n",
       "      <td>0.786</td>\n",
       "      <td>-4.757</td>\n",
       "      <td>1.0</td>\n",
       "      <td>0.1700</td>\n",
       "      <td>0.2090</td>\n",
       "      <td>0.000000</td>\n",
       "      <td>0.1120</td>\n",
       "      <td>0.846</td>\n",
       "      <td>177.833</td>\n",
       "      <td>...</td>\n",
       "      <td>0</td>\n",
       "      <td>0</td>\n",
       "      <td>0</td>\n",
       "      <td>0</td>\n",
       "      <td>0</td>\n",
       "      <td>0</td>\n",
       "      <td>0</td>\n",
       "      <td>0</td>\n",
       "      <td>0</td>\n",
       "      <td>1</td>\n",
       "    </tr>\n",
       "    <tr>\n",
       "      <th>3</th>\n",
       "      <td>0.617</td>\n",
       "      <td>0.635</td>\n",
       "      <td>-6.769</td>\n",
       "      <td>0.0</td>\n",
       "      <td>0.0317</td>\n",
       "      <td>0.0498</td>\n",
       "      <td>0.000014</td>\n",
       "      <td>0.1640</td>\n",
       "      <td>0.446</td>\n",
       "      <td>103.019</td>\n",
       "      <td>...</td>\n",
       "      <td>0</td>\n",
       "      <td>0</td>\n",
       "      <td>0</td>\n",
       "      <td>0</td>\n",
       "      <td>0</td>\n",
       "      <td>0</td>\n",
       "      <td>0</td>\n",
       "      <td>1</td>\n",
       "      <td>0</td>\n",
       "      <td>1</td>\n",
       "    </tr>\n",
       "    <tr>\n",
       "      <th>4</th>\n",
       "      <td>0.609</td>\n",
       "      <td>0.668</td>\n",
       "      <td>-4.284</td>\n",
       "      <td>1.0</td>\n",
       "      <td>0.0367</td>\n",
       "      <td>0.0552</td>\n",
       "      <td>0.000000</td>\n",
       "      <td>0.1670</td>\n",
       "      <td>0.811</td>\n",
       "      <td>80.924</td>\n",
       "      <td>...</td>\n",
       "      <td>0</td>\n",
       "      <td>0</td>\n",
       "      <td>0</td>\n",
       "      <td>1</td>\n",
       "      <td>0</td>\n",
       "      <td>0</td>\n",
       "      <td>0</td>\n",
       "      <td>0</td>\n",
       "      <td>0</td>\n",
       "      <td>1</td>\n",
       "    </tr>\n",
       "  </tbody>\n",
       "</table>\n",
       "<p>5 rows × 26 columns</p>\n",
       "</div>"
      ],
      "text/plain": [
       "   danceability  energy  loudness  mode  speechiness  acousticness  \\\n",
       "0         0.825   0.652    -3.183   0.0       0.0802        0.5810   \n",
       "1         0.694   0.815    -4.328   1.0       0.1200        0.2290   \n",
       "2         0.660   0.786    -4.757   1.0       0.1700        0.2090   \n",
       "3         0.617   0.635    -6.769   0.0       0.0317        0.0498   \n",
       "4         0.609   0.668    -4.284   1.0       0.0367        0.0552   \n",
       "\n",
       "   instrumentalness  liveness  valence    tempo  ...  key_4.0  key_5.0  \\\n",
       "0          0.000000    0.0931    0.931   95.977  ...        0        0   \n",
       "1          0.000000    0.0924    0.813   88.931  ...        0        0   \n",
       "2          0.000000    0.1120    0.846  177.833  ...        0        0   \n",
       "3          0.000014    0.1640    0.446  103.019  ...        0        0   \n",
       "4          0.000000    0.1670    0.811   80.924  ...        0        0   \n",
       "\n",
       "   key_6.0  key_7.0  key_8.0  key_9.0  key_10.0  key_11.0  time_signature_3.0  \\\n",
       "0        0        0        0        0         0         0                   0   \n",
       "1        0        0        0        0         0         0                   0   \n",
       "2        0        0        0        0         0         0                   0   \n",
       "3        0        0        0        0         0         1                   0   \n",
       "4        0        1        0        0         0         0                   0   \n",
       "\n",
       "   time_signature_4.0  \n",
       "0                   1  \n",
       "1                   1  \n",
       "2                   1  \n",
       "3                   1  \n",
       "4                   1  \n",
       "\n",
       "[5 rows x 26 columns]"
      ]
     },
     "execution_count": 73,
     "metadata": {},
     "output_type": "execute_result"
    }
   ],
   "source": [
    "cateogarize_time()"
   ]
  },
  {
   "cell_type": "code",
   "execution_count": 74,
   "metadata": {},
   "outputs": [],
   "source": [
    "def change_datatype(var):\n",
    "    df_final[var] = df_final[var].astype(int)\n",
    "    \n",
    "columns= [\"key_0.0\",\"key_1.0\",\"key_2.0\",\n",
    "         \"key_3.0\",\"key_4.0\",\"key_5.0\",\"key_6.0\",\"key_7.0\",\"key_8.0\",\"key_9.0\",\"key_10.0\",\"key_11.0\",\"time_signature_3.0\",\"time_signature_4.0\"]\n",
    "for column in columns:\n",
    "    change_datatype(column)\n",
    "    "
   ]
  },
  {
   "cell_type": "code",
   "execution_count": 75,
   "metadata": {},
   "outputs": [],
   "source": [
    "def load_data():\n",
    "    \n",
    "    y = df_final[\"popularity\"].values\n",
    "    X = df_final.drop([\"popularity\"],axis=1)\n",
    "    return X,y\n",
    "X,y =load_data()\n",
    "\n",
    "feature_cols = X.columns.to_list()"
   ]
  },
  {
   "cell_type": "markdown",
   "metadata": {},
   "source": [
    "*NOTE*:There is not a great  linear correlations in our data So, Decision Tree algorithms will give  better results as compared to linear regression models. Therefore using  Random Forest \n",
    " "
   ]
  },
  {
   "cell_type": "code",
   "execution_count": 76,
   "metadata": {},
   "outputs": [
    {
     "name": "stdout",
     "output_type": "stream",
     "text": [
      "X_train:  (40, 25)\n",
      "X_test:  (60, 25)\n",
      "y_train:  (40,)\n",
      "y_test:  (60,)\n"
     ]
    }
   ],
   "source": [
    "\n",
    "#x_data=X\n",
    "X,y = load_data()\n",
    "X_train, X_test, y_train, y_test = train_test_split(X,y,test_size = 0.6)\n",
    "# X_train = X_train.T\n",
    "# X_test = X_test.T\n",
    "X_train=X_train[:None]\n",
    "X_test=X_test[:None]\n",
    "y_train = y_train.astype(int).T\n",
    "y_test = y_test.astype(int).T\n",
    "print(\"X_train: \",X_train.shape)\n",
    "print(\"X_test: \",X_test.shape)\n",
    "print(\"y_train: \",y_train.shape)\n",
    "print(\"y_test: \",y_test.shape)\n"
   ]
  },
  {
   "cell_type": "markdown",
   "metadata": {},
   "source": [
    "## xgb  top features -for validating  our  hypothesis"
   ]
  },
  {
   "cell_type": "markdown",
   "metadata": {},
   "source": [
    "So after our popularity distributiona and 3d modelling based on pca.Now further we diecided to .Test if our hypothesis features as top ranking as per our eda  are similar\n",
    "when compared to a very standard feature ranking algorithm like XGBoosting for feature engineering .And the outcome was we had our hypothesis prooved very accurate in terms of best features conributing for a song to  be in the top position. "
   ]
  },
  {
   "cell_type": "code",
   "execution_count": 77,
   "metadata": {},
   "outputs": [],
   "source": [
    "def plot_impfeature():\n",
    "    xgb = XGBClassifier()\n",
    "    xgb.fit(X_train, y_train)\n",
    "    ax = plot_importance(xgb,color=\"r\", height=0.15,\n",
    "                         title='  Features Importance ', xlabel='Feature score', ylabel='Features',\n",
    "                         importance_type='weight'\n",
    "                        )\n",
    "\n",
    "    return plt.show()\n",
    "\n",
    "\n"
   ]
  },
  {
   "cell_type": "code",
   "execution_count": 78,
   "metadata": {},
   "outputs": [
    {
     "data": {
      "image/png": "[encoded data removed]",
      "text/plain": [
       "<Figure size 432x288 with 1 Axes>"
      ]
     },
     "metadata": {
      "needs_background": "light"
     },
     "output_type": "display_data"
    }
   ],
   "source": [
    "plot_impfeature()"
   ]
  },
  {
   "cell_type": "markdown",
   "metadata": {},
   "source": [
    "##### The above graph assure that :\n",
    "-  Our proposed ranked features turned out to be  most important for this data  \n",
    "-  Example: we calculated features like :dancebility ,energy,loudness ets of most importance.And hence thus turned out true."
   ]
  },
  {
   "cell_type": "code",
   "execution_count": 79,
   "metadata": {},
   "outputs": [],
   "source": [
    "def calculate_scores():\n",
    "    rf=RandomForestClassifier(random_state = 3)\n",
    "    rf.fit(X_train,y_train)\n",
    "\n",
    "    print(\"Train accuracy \",rf.score(X_train,y_train))\n",
    "    print(\"Test accuracy \",rf.score(X_test,y_test))\n",
    "\n",
    "    RandomForestClassifier_score=rf.score(X_test,y_test)\n",
    "    y_pred=rf.predict(X_test)\n",
    "    t_true=y_test"
   ]
  },
  {
   "cell_type": "code",
   "execution_count": 80,
   "metadata": {},
   "outputs": [
    {
     "name": "stdout",
     "output_type": "stream",
     "text": [
      "Train accuracy  1.0\n",
      "Test accuracy  0.9166666666666666\n"
     ]
    }
   ],
   "source": [
    "calculate_scores()"
   ]
  },
  {
   "cell_type": "markdown",
   "metadata": {},
   "source": [
    "# validating model "
   ]
  },
  {
   "cell_type": "markdown",
   "metadata": {},
   "source": [
    "## plot loudness t-SNE"
   ]
  },
  {
   "cell_type": "code",
   "execution_count": null,
   "metadata": {},
   "outputs": [],
   "source": []
  },
  {
   "cell_type": "code",
   "execution_count": 81,
   "metadata": {},
   "outputs": [],
   "source": [
    "def plot_pca_scaler(y,dataframe):\n",
    "    features = [\"energy\", \"liveness\", \"tempo\", \"valence\", \"loudness\",\"danceability\"]\n",
    "\n",
    "    text1 = dataframe[\"artists\"] + \" - \" + dataframe[\"name\"]\n",
    "    text2 = text1.values\n",
    "    \n",
    "    X = dataframe[features].values\n",
    "    y = dataframe[y].values\n",
    "\n",
    "    minmaxscaler = MinMaxScaler()\n",
    "    X = minmaxscaler.fit_transform(X)\n",
    "\n",
    "    print('t-SNE starting.................')\n",
    "    tsne = TSNE(n_components=3, verbose=1, perplexity=40, n_iter=300)\n",
    "    tsne_results = tsne.fit_transform(X)\n",
    "\n",
    "    print('......................t-SNE done')\n",
    "\n",
    "    fig = {\n",
    "        \"data\": [\n",
    "            {\n",
    "                \"x\": tsne_results[:, 0],\n",
    "                \"y\": tsne_results[:, 1],\n",
    "                \"text\": text2,\n",
    "                \"mode\": \"markers\",\n",
    "                \"marker\": {\"size\": 8, \"color\": y}\n",
    "            }\n",
    "        ],\n",
    "        \"layout\": {\n",
    "            \"xaxis\": {\"title\": \"x-tsne\"},\n",
    "            \"yaxis\": {\"title\": \"y-tsne\"}\n",
    "        }\n",
    "    }\n",
    "\n",
    "    return py.iplot(fig, filename=\"amit\")"
   ]
  },
  {
   "cell_type": "code",
   "execution_count": 82,
   "metadata": {},
   "outputs": [
    {
     "name": "stdout",
     "output_type": "stream",
     "text": [
      "t-SNE starting.................\n",
      "[t-SNE] Computing 99 nearest neighbors...\n",
      "[t-SNE] Indexed 100 samples in 0.000s...\n",
      "[t-SNE] Computed neighbors for 100 samples in 0.064s...\n",
      "[t-SNE] Computed conditional probabilities for sample 100 / 100\n",
      "[t-SNE] Mean sigma: 0.335663\n",
      "[t-SNE] KL divergence after 250 iterations with early exaggeration: 111.032166\n",
      "[t-SNE] KL divergence after 300 iterations: 2.255966\n",
      "......................t-SNE done\n"
     ]
    },
    {
     "data": {
      "application/vnd.plotly.v1+json": {
       "config": {
        "linkText": "Export to plot.ly",
        "plotlyServerURL": "https://plot.ly",
        "showLink": false
       },
       "data": [
        {
         "marker": {
          "color": [
           -3.1830000000000003,
           -4.328,
           -4.757,
           -6.769,
           -4.284,
           -6.8420000000000005,
           -6.596,
           -5.043,
           -4.961,
           -8.374,
           -6.3660000000000005,
           -6.428,
           -5.024,
           -4.4319999999999995,
           -8.795,
           -4.215,
           -3.862,
           -4.868,
           -4.0680000000000005,
           -4.305,
           -4.915,
           -4.749,
           -7.398,
           -4.035,
           -6.327000000000001,
           -6.864,
           -3.3739999999999997,
           -7.7860000000000005,
           -5.599,
           -4.581,
           -5.94,
           -7.028,
           -3.094,
           -3.299,
           -6.257999999999999,
           -7.733,
           -11.377,
           -6.593999999999999,
           -5.595,
           -5.827000000000001,
           -6.312,
           -4.0680000000000005,
           -3.105,
           -4.209,
           -4.502,
           -6.745,
           -11.462,
           -2.9210000000000003,
           -5.313,
           -4.323,
           -2.396,
           -9.433,
           -5.309,
           -5.002,
           -5.886,
           -3.2969999999999997,
           -4.6610000000000005,
           -6.922999999999999,
           -10.401,
           -4.282,
           -6.763,
           -5.535,
           -6.053999999999999,
           -5.3629999999999995,
           -5.445,
           -6.166,
           -9.601,
           -6.678,
           -3.181,
           -5.6979999999999995,
           -4.63,
           -3.37,
           -6.351,
           -7.607,
           -6.287999999999999,
           -3.093,
           -8.279,
           -3.515,
           -6.377999999999999,
           -5.126,
           -4.2,
           -3.073,
           -4.518,
           -5.882999999999999,
           -5.428999999999999,
           -7.621,
           -6.237,
           -5.092,
           -6.406000000000001,
           -5.098,
           -7.843999999999999,
           -4.093,
           -5.516,
           -5.35,
           -8.228,
           -4.761,
           -5.651,
           -7.226,
           -4.902,
           -6.593
          ],
          "size": 8
         },
         "mode": "markers",
         "text": [
          "Ed Sheeran - Shape of You",
          "Luis Fonsi - Despacito - Remix",
          "Luis Fonsi - Despacito (Featuring Daddy Yankee)",
          "The Chainsmokers - Something Just Like This",
          "DJ Khaled - I'm the One",
          "Kendrick Lamar - HUMBLE.",
          "Kygo - It Ain't Me (with Selena Gomez)",
          "French Montana - Unforgettable",
          "Bruno Mars - That's What I Like",
          "ZAYN - I Don’t Wanna Live Forever (Fifty Shades Darker) - From \"Fifty Shades Darker (Original Motion Picture Soundtrack)\"",
          "Lil Uzi Vert - XO TOUR Llif3",
          "The Chainsmokers - Paris",
          "Zedd - Stay (with Alessia Cara)",
          "Charlie Puth - Attention",
          "Future - Mask Off",
          "Post Malone - Congratulations",
          "Jason Derulo - Swalla (feat. Nicki Minaj & Ty Dolla $ign)",
          "Ed Sheeran - Castle on the Hill",
          "Clean Bandit - Rockabye (feat. Sean Paul & Anne-Marie)",
          "Imagine Dragons - Believer",
          "J Balvin - Mi Gente",
          "Imagine Dragons - Thunder",
          "James Arthur - Say You Won't Let Go",
          "Shawn Mendes - There's Nothing Holdin' Me Back",
          "Danny Ocean - Me Rehúso",
          "Julia Michaels - Issues",
          "Ed Sheeran - Galway Girl",
          "Martin Garrix - Scared to Be Lonely",
          "The Chainsmokers - Closer",
          "Clean Bandit - Symphony (feat. Zara Larsson)",
          "The Weeknd - I Feel It Coming",
          "The Weeknd - Starboy",
          "DJ Khaled - Wild Thoughts",
          "Calvin Harris - Slide",
          "Dua Lipa - New Rules",
          "Logic - 1-800-273-8255",
          "Drake - Passionfruit",
          "Post Malone - rockstar",
          "Liam Payne - Strip That Down",
          "David Guetta - 2U (feat. Justin Bieber)",
          "Ed Sheeran - Perfect",
          "Starley - Call On Me - Ryan Riback Extended Remix",
          "Calvin Harris - Feels",
          "Jonas Blue - Mama",
          "Maluma - Felices los 4",
          "KYLE - iSpy (feat. Lil Yachty)",
          "Khalid - Location",
          "Shakira - Chantaje",
          "Migos - Bad and Boujee (feat. Lil Uzi Vert)",
          "Camila Cabello - Havana",
          "Martin Jensen - Solo Dance",
          "Drake - Fake Love",
          "DJ Snake - Let Me Love You",
          "Axwell /\\ Ingrosso - More Than You Know",
          "Drake - One Dance",
          "Enrique Iglesias - SUBEME LA RADIO",
          "Maggie Lindemann - Pretty Girl - Cheat Codes X CADE Remix",
          "Demi Lovato - Sorry Not Sorry",
          "Childish Gambino - Redbone",
          "Bruno Mars - 24K Magic",
          "Kendrick Lamar - DNA.",
          "Nicky Jam - El Amante",
          "Jax Jones - You Don't Know Me - Radio Edit",
          "Katy Perry - Chained To The Rhythm",
          "Cheat Codes - No Promises (feat. Demi Lovato)",
          "Maroon 5 - Don't Wanna Know (feat. Kendrick Lamar)",
          "Alessia Cara - How Far I'll Go - From \"Moana\"",
          "Niall Horan - Slow Hands",
          "Wisin - Escápate Conmigo",
          "Big Sean - Bounce Back",
          "Harry Styles - Sign of the Times",
          "Travis Scott - goosebumps",
          "Khalid - Young Dumb & Broke",
          "Martin Garrix - There for You",
          "Maroon 5 - Cold (feat. Future)",
          "Marshmello - Silence",
          "Sam Smith - Too Good At Goodbyes",
          "Steve Aoki - Just Hold On",
          "Taylor Swift - Look What You Made Me Do",
          "Macklemore - Glorious (feat. Skylar Grey)",
          "Hailee Steinfeld - Starving",
          "CNCO - Reggaetón Lento (Bailemos)",
          "AJR - Weak",
          "Ariana Grande - Side To Side",
          "Zion & Lennox - Otra Vez (feat. J Balvin)",
          "Lauv - I Like Me Better",
          "Martin Garrix - In the Name of Love",
          "Major Lazer - Cold Water (feat. Justin Bieber & MØ)",
          "Miley Cyrus - Malibu",
          "The Vamps - All Night",
          "Alok - Hear Me Now",
          "Rita Ora - Your Song",
          "Chris Jeday - Ahora Dice",
          "Justin Bieber - Friends (with BloodPop®)",
          "21 Savage - Bank Account",
          "Machine Gun Kelly - Bad Things (with Camila Cabello)",
          "The Chainsmokers - Don't Let Me Down",
          "Sam Hunt - Body Like A Back Road",
          "Halsey - Now Or Never",
          "ZAYN - Dusk Till Dawn - Radio Edit"
         ],
         "type": "scatter",
         "x": [
          -10.679235458374023,
          -7.931377410888672,
          27.52017593383789,
          60.16193389892578,
          1.386690378189087,
          -14.477126121520996,
          -28.621675491333008,
          -67.07617950439453,
          -1.6542319059371948,
          13.553035736083984,
          -60.79668426513672,
          -17.167062759399414,
          26.652259826660156,
          -4.232367038726807,
          80.3609619140625,
          -18.117130279541016,
          7.35142183303833,
          19.452640533447266,
          -27.010915756225586,
          -55.04323959350586,
          -16.883319854736328,
          -40.09521484375,
          -18.45621681213379,
          13.88963508605957,
          -0.6112080216407776,
          -12.10159969329834,
          22.258136749267578,
          -14.138195991516113,
          22.57634925842285,
          -36.49286651611328,
          -8.703646659851074,
          14.352951049804688,
          -41.22929382324219,
          37.3542594909668,
          -19.05050277709961,
          -7.371791839599609,
          -30.875673294067383,
          5.762660503387451,
          -23.463985443115234,
          -15.164009094238281,
          -26.90673828125,
          108.48636627197266,
          36.07986068725586,
          -1.9122943878173828,
          20.73146629333496,
          -6.358434677124023,
          10.048026084899902,
          20.96338653564453,
          1.399587869644165,
          4.122607707977295,
          -30.160707473754883,
          -13.884282112121582,
          8.80008316040039,
          26.765670776367188,
          -8.9264497756958,
          9.272302627563477,
          15.640707015991211,
          31.376380920410156,
          -30.2419376373291,
          6.6183061599731445,
          -8.63291072845459,
          4.5064263343811035,
          23.234004974365234,
          10.858309745788574,
          -39.12823486328125,
          86.44618225097656,
          -0.9862262010574341,
          -23.371479034423828,
          -31.597965240478516,
          -31.01199722290039,
          3.576704502105713,
          11.176778793334961,
          -29.440351486206055,
          -4.613950729370117,
          -1.7294505834579468,
          27.39568328857422,
          -20.449275970458984,
          40.09489822387695,
          4.560572624206543,
          16.091392517089844,
          -34.17298126220703,
          25.77855682373047,
          12.3773193359375,
          -7.853851318359375,
          -12.644264221191406,
          -22.349905014038086,
          -20.057504653930664,
          27.11615753173828,
          -20.53803253173828,
          28.39797592163086,
          -50.49542999267578,
          11.39399242401123,
          1.9945416450500488,
          -15.831369400024414,
          -36.26560592651367,
          27.545825958251953,
          20.315980911254883,
          83.60356140136719,
          -45.645423889160156,
          -3.6745333671569824
         ],
         "y": [
          32.55345916748047,
          26.033187866210938,
          -6.844072341918945,
          -1.5301814079284668,
          11.42182731628418,
          -2.328274726867676,
          30.98994255065918,
          51.61269760131836,
          19.761354446411133,
          -0.39418959617614746,
          15.748276710510254,
          -22.975690841674805,
          -14.221712112426758,
          46.9719123840332,
          26.903831481933594,
          47.54232406616211,
          38.48060607910156,
          -22.972726821899414,
          -139.1542205810547,
          1.8135970830917358,
          21.7259464263916,
          15.359125137329102,
          -34.86924362182617,
          22.773277282714844,
          -30.265459060668945,
          -19.120532989501953,
          35.47700500488281,
          -9.974124908447266,
          65.83536529541016,
          -2.5029802322387695,
          37.35348892211914,
          -14.43630313873291,
          -1.947828769683838,
          6.433831691741943,
          17.323354721069336,
          -32.63901901245117,
          -19.128395080566406,
          -14.40853500366211,
          8.916966438293457,
          9.360085487365723,
          -9.215616226196289,
          -4.003694534301758,
          -10.46687126159668,
          3.0402755737304688,
          7.073736667633057,
          13.143712997436523,
          -40.447776794433594,
          -3.999500036239624,
          -20.6954288482666,
          9.570701599121094,
          21.807296752929688,
          -0.24833336472511292,
          -21.510272979736328,
          32.153072357177734,
          23.217153549194336,
          17.843996047973633,
          25.60712242126465,
          21.015466690063477,
          -18.847755432128906,
          3.4301466941833496,
          -41.35299301147461,
          76.50432586669922,
          -6.9563212394714355,
          -36.777435302734375,
          98.28822326660156,
          -35.395938873291016,
          -5.9070587158203125,
          26.278581619262695,
          11.855690956115723,
          -28.142404556274414,
          -1.2307286262512207,
          -30.955102920532227,
          5.455623626708984,
          -23.3094425201416,
          23.862171173095703,
          -12.569585800170898,
          -31.59125328063965,
          22.40496253967285,
          -11.107030868530273,
          -1.4596951007843018,
          -20.95008087158203,
          13.126029014587402,
          6.41648006439209,
          -12.17711067199707,
          8.108219146728516,
          -11.48431396484375,
          -1.927314043045044,
          8.452963829040527,
          -0.592087984085083,
          -23.37361717224121,
          -72.60236358642578,
          23.96727752685547,
          33.71538162231445,
          -24.497154235839844,
          -2.562934398651123,
          -12.924601554870605,
          40.2884407043457,
          113.82718658447266,
          -15.04680061340332,
          -11.510323524475098
         ]
        }
       ],
       "layout": {
        "template": {
         "data": {
          "bar": [
           {
            "error_x": {
             "color": "#2a3f5f"
            },
            "error_y": {
             "color": "#2a3f5f"
            },
            "marker": {
             "line": {
              "color": "#E5ECF6",
              "width": 0.5
             }
            },
            "type": "bar"
           }
          ],
          "barpolar": [
           {
            "marker": {
             "line": {
              "color": "#E5ECF6",
              "width": 0.5
             }
            },
            "type": "barpolar"
           }
          ],
          "carpet": [
           {
            "aaxis": {
             "endlinecolor": "#2a3f5f",
             "gridcolor": "white",
             "linecolor": "white",
             "minorgridcolor": "white",
             "startlinecolor": "#2a3f5f"
            },
            "baxis": {
             "endlinecolor": "#2a3f5f",
             "gridcolor": "white",
             "linecolor": "white",
             "minorgridcolor": "white",
             "startlinecolor": "#2a3f5f"
            },
            "type": "carpet"
           }
          ],
          "choropleth": [
           {
            "colorbar": {
             "outlinewidth": 0,
             "ticks": ""
            },
            "type": "choropleth"
           }
          ],
          "contour": [
           {
            "colorbar": {
             "outlinewidth": 0,
             "ticks": ""
            },
            "colorscale": [
             [
              0,
              "#0d0887"
             ],
             [
              0.1111111111111111,
              "#46039f"
             ],
             [
              0.2222222222222222,
              "#7201a8"
             ],
             [
              0.3333333333333333,
              "#9c179e"
             ],
             [
              0.4444444444444444,
              "#bd3786"
             ],
             [
              0.5555555555555556,
              "#d8576b"
             ],
             [
              0.6666666666666666,
              "#ed7953"
             ],
             [
              0.7777777777777778,
              "#fb9f3a"
             ],
             [
              0.8888888888888888,
              "#fdca26"
             ],
             [
              1,
              "#f0f921"
             ]
            ],
            "type": "contour"
           }
          ],
          "contourcarpet": [
           {
            "colorbar": {
             "outlinewidth": 0,
             "ticks": ""
            },
            "type": "contourcarpet"
           }
          ],
          "heatmap": [
           {
            "colorbar": {
             "outlinewidth": 0,
             "ticks": ""
            },
            "colorscale": [
             [
              0,
              "#0d0887"
             ],
             [
              0.1111111111111111,
              "#46039f"
             ],
             [
              0.2222222222222222,
              "#7201a8"
             ],
             [
              0.3333333333333333,
              "#9c179e"
             ],
             [
              0.4444444444444444,
              "#bd3786"
             ],
             [
              0.5555555555555556,
              "#d8576b"
             ],
             [
              0.6666666666666666,
              "#ed7953"
             ],
             [
              0.7777777777777778,
              "#fb9f3a"
             ],
             [
              0.8888888888888888,
              "#fdca26"
             ],
             [
              1,
              "#f0f921"
             ]
            ],
            "type": "heatmap"
           }
          ],
          "heatmapgl": [
           {
            "colorbar": {
             "outlinewidth": 0,
             "ticks": ""
            },
            "colorscale": [
             [
              0,
              "#0d0887"
             ],
             [
              0.1111111111111111,
              "#46039f"
             ],
             [
              0.2222222222222222,
              "#7201a8"
             ],
             [
              0.3333333333333333,
              "#9c179e"
             ],
             [
              0.4444444444444444,
              "#bd3786"
             ],
             [
              0.5555555555555556,
              "#d8576b"
             ],
             [
              0.6666666666666666,
              "#ed7953"
             ],
             [
              0.7777777777777778,
              "#fb9f3a"
             ],
             [
              0.8888888888888888,
              "#fdca26"
             ],
             [
              1,
              "#f0f921"
             ]
            ],
            "type": "heatmapgl"
           }
          ],
          "histogram": [
           {
            "marker": {
             "colorbar": {
              "outlinewidth": 0,
              "ticks": ""
             }
            },
            "type": "histogram"
           }
          ],
          "histogram2d": [
           {
            "colorbar": {
             "outlinewidth": 0,
             "ticks": ""
            },
            "colorscale": [
             [
              0,
              "#0d0887"
             ],
             [
              0.1111111111111111,
              "#46039f"
             ],
             [
              0.2222222222222222,
              "#7201a8"
             ],
             [
              0.3333333333333333,
              "#9c179e"
             ],
             [
              0.4444444444444444,
              "#bd3786"
             ],
             [
              0.5555555555555556,
              "#d8576b"
             ],
             [
              0.6666666666666666,
              "#ed7953"
             ],
             [
              0.7777777777777778,
              "#fb9f3a"
             ],
             [
              0.8888888888888888,
              "#fdca26"
             ],
             [
              1,
              "#f0f921"
             ]
            ],
            "type": "histogram2d"
           }
          ],
          "histogram2dcontour": [
           {
            "colorbar": {
             "outlinewidth": 0,
             "ticks": ""
            },
            "colorscale": [
             [
              0,
              "#0d0887"
             ],
             [
              0.1111111111111111,
              "#46039f"
             ],
             [
              0.2222222222222222,
              "#7201a8"
             ],
             [
              0.3333333333333333,
              "#9c179e"
             ],
             [
              0.4444444444444444,
              "#bd3786"
             ],
             [
              0.5555555555555556,
              "#d8576b"
             ],
             [
              0.6666666666666666,
              "#ed7953"
             ],
             [
              0.7777777777777778,
              "#fb9f3a"
             ],
             [
              0.8888888888888888,
              "#fdca26"
             ],
             [
              1,
              "#f0f921"
             ]
            ],
            "type": "histogram2dcontour"
           }
          ],
          "mesh3d": [
           {
            "colorbar": {
             "outlinewidth": 0,
             "ticks": ""
            },
            "type": "mesh3d"
           }
          ],
          "parcoords": [
           {
            "line": {
             "colorbar": {
              "outlinewidth": 0,
              "ticks": ""
             }
            },
            "type": "parcoords"
           }
          ],
          "pie": [
           {
            "automargin": true,
            "type": "pie"
           }
          ],
          "scatter": [
           {
            "marker": {
             "colorbar": {
              "outlinewidth": 0,
              "ticks": ""
             }
            },
            "type": "scatter"
           }
          ],
          "scatter3d": [
           {
            "line": {
             "colorbar": {
              "outlinewidth": 0,
              "ticks": ""
             }
            },
            "marker": {
             "colorbar": {
              "outlinewidth": 0,
              "ticks": ""
             }
            },
            "type": "scatter3d"
           }
          ],
          "scattercarpet": [
           {
            "marker": {
             "colorbar": {
              "outlinewidth": 0,
              "ticks": ""
             }
            },
            "type": "scattercarpet"
           }
          ],
          "scattergeo": [
           {
            "marker": {
             "colorbar": {
              "outlinewidth": 0,
              "ticks": ""
             }
            },
            "type": "scattergeo"
           }
          ],
          "scattergl": [
           {
            "marker": {
             "colorbar": {
              "outlinewidth": 0,
              "ticks": ""
             }
            },
            "type": "scattergl"
           }
          ],
          "scattermapbox": [
           {
            "marker": {
             "colorbar": {
              "outlinewidth": 0,
              "ticks": ""
             }
            },
            "type": "scattermapbox"
           }
          ],
          "scatterpolar": [
           {
            "marker": {
             "colorbar": {
              "outlinewidth": 0,
              "ticks": ""
             }
            },
            "type": "scatterpolar"
           }
          ],
          "scatterpolargl": [
           {
            "marker": {
             "colorbar": {
              "outlinewidth": 0,
              "ticks": ""
             }
            },
            "type": "scatterpolargl"
           }
          ],
          "scatterternary": [
           {
            "marker": {
             "colorbar": {
              "outlinewidth": 0,
              "ticks": ""
             }
            },
            "type": "scatterternary"
           }
          ],
          "surface": [
           {
            "colorbar": {
             "outlinewidth": 0,
             "ticks": ""
            },
            "colorscale": [
             [
              0,
              "#0d0887"
             ],
             [
              0.1111111111111111,
              "#46039f"
             ],
             [
              0.2222222222222222,
              "#7201a8"
             ],
             [
              0.3333333333333333,
              "#9c179e"
             ],
             [
              0.4444444444444444,
              "#bd3786"
             ],
             [
              0.5555555555555556,
              "#d8576b"
             ],
             [
              0.6666666666666666,
              "#ed7953"
             ],
             [
              0.7777777777777778,
              "#fb9f3a"
             ],
             [
              0.8888888888888888,
              "#fdca26"
             ],
             [
              1,
              "#f0f921"
             ]
            ],
            "type": "surface"
           }
          ],
          "table": [
           {
            "cells": {
             "fill": {
              "color": "#EBF0F8"
             },
             "line": {
              "color": "white"
             }
            },
            "header": {
             "fill": {
              "color": "#C8D4E3"
             },
             "line": {
              "color": "white"
             }
            },
            "type": "table"
           }
          ]
         },
         "layout": {
          "annotationdefaults": {
           "arrowcolor": "#2a3f5f",
           "arrowhead": 0,
           "arrowwidth": 1
          },
          "coloraxis": {
           "colorbar": {
            "outlinewidth": 0,
            "ticks": ""
           }
          },
          "colorscale": {
           "diverging": [
            [
             0,
             "#8e0152"
            ],
            [
             0.1,
             "#c51b7d"
            ],
            [
             0.2,
             "#de77ae"
            ],
            [
             0.3,
             "#f1b6da"
            ],
            [
             0.4,
             "#fde0ef"
            ],
            [
             0.5,
             "#f7f7f7"
            ],
            [
             0.6,
             "#e6f5d0"
            ],
            [
             0.7,
             "#b8e186"
            ],
            [
             0.8,
             "#7fbc41"
            ],
            [
             0.9,
             "#4d9221"
            ],
            [
             1,
             "#276419"
            ]
           ],
           "sequential": [
            [
             0,
             "#0d0887"
            ],
            [
             0.1111111111111111,
             "#46039f"
            ],
            [
             0.2222222222222222,
             "#7201a8"
            ],
            [
             0.3333333333333333,
             "#9c179e"
            ],
            [
             0.4444444444444444,
             "#bd3786"
            ],
            [
             0.5555555555555556,
             "#d8576b"
            ],
            [
             0.6666666666666666,
             "#ed7953"
            ],
            [
             0.7777777777777778,
             "#fb9f3a"
            ],
            [
             0.8888888888888888,
             "#fdca26"
            ],
            [
             1,
             "#f0f921"
            ]
           ],
           "sequentialminus": [
            [
             0,
             "#0d0887"
            ],
            [
             0.1111111111111111,
             "#46039f"
            ],
            [
             0.2222222222222222,
             "#7201a8"
            ],
            [
             0.3333333333333333,
             "#9c179e"
            ],
            [
             0.4444444444444444,
             "#bd3786"
            ],
            [
             0.5555555555555556,
             "#d8576b"
            ],
            [
             0.6666666666666666,
             "#ed7953"
            ],
            [
             0.7777777777777778,
             "#fb9f3a"
            ],
            [
             0.8888888888888888,
             "#fdca26"
            ],
            [
             1,
             "#f0f921"
            ]
           ]
          },
          "colorway": [
           "#636efa",
           "#EF553B",
           "#00cc96",
           "#ab63fa",
           "#FFA15A",
           "#19d3f3",
           "#FF6692",
           "#B6E880",
           "#FF97FF",
           "#FECB52"
          ],
          "font": {
           "color": "#2a3f5f"
          },
          "geo": {
           "bgcolor": "white",
           "lakecolor": "white",
           "landcolor": "#E5ECF6",
           "showlakes": true,
           "showland": true,
           "subunitcolor": "white"
          },
          "hoverlabel": {
           "align": "left"
          },
          "hovermode": "closest",
          "mapbox": {
           "style": "light"
          },
          "paper_bgcolor": "white",
          "plot_bgcolor": "#E5ECF6",
          "polar": {
           "angularaxis": {
            "gridcolor": "white",
            "linecolor": "white",
            "ticks": ""
           },
           "bgcolor": "#E5ECF6",
           "radialaxis": {
            "gridcolor": "white",
            "linecolor": "white",
            "ticks": ""
           }
          },
          "scene": {
           "xaxis": {
            "backgroundcolor": "#E5ECF6",
            "gridcolor": "white",
            "gridwidth": 2,
            "linecolor": "white",
            "showbackground": true,
            "ticks": "",
            "zerolinecolor": "white"
           },
           "yaxis": {
            "backgroundcolor": "#E5ECF6",
            "gridcolor": "white",
            "gridwidth": 2,
            "linecolor": "white",
            "showbackground": true,
            "ticks": "",
            "zerolinecolor": "white"
           },
           "zaxis": {
            "backgroundcolor": "#E5ECF6",
            "gridcolor": "white",
            "gridwidth": 2,
            "linecolor": "white",
            "showbackground": true,
            "ticks": "",
            "zerolinecolor": "white"
           }
          },
          "shapedefaults": {
           "line": {
            "color": "#2a3f5f"
           }
          },
          "ternary": {
           "aaxis": {
            "gridcolor": "white",
            "linecolor": "white",
            "ticks": ""
           },
           "baxis": {
            "gridcolor": "white",
            "linecolor": "white",
            "ticks": ""
           },
           "bgcolor": "#E5ECF6",
           "caxis": {
            "gridcolor": "white",
            "linecolor": "white",
            "ticks": ""
           }
          },
          "title": {
           "x": 0.05
          },
          "xaxis": {
           "automargin": true,
           "gridcolor": "white",
           "linecolor": "white",
           "ticks": "",
           "title": {
            "standoff": 15
           },
           "zerolinecolor": "white",
           "zerolinewidth": 2
          },
          "yaxis": {
           "automargin": true,
           "gridcolor": "white",
           "linecolor": "white",
           "ticks": "",
           "title": {
            "standoff": 15
           },
           "zerolinecolor": "white",
           "zerolinewidth": 2
          }
         }
        },
        "xaxis": {
         "title": {
          "text": "x-tsne"
         }
        },
        "yaxis": {
         "title": {
          "text": "y-tsne"
         }
        }
       }
      },
      "text/html": [
       "<div>\n",
       "        \n",
       "        \n",
       "            <div id=\"6a151954-8088-47e6-a8e3-0dcce9930dbb\" class=\"plotly-graph-div\" style=\"height:525px; width:100%;\"></div>\n",
       "            <script type=\"text/javascript\">\n",
       "                require([\"plotly\"], function(Plotly) {\n",
       "                    window.PLOTLYENV=window.PLOTLYENV || {};\n",
       "                    \n",
       "                if (document.getElementById(\"6a151954-8088-47e6-a8e3-0dcce9930dbb\")) {\n",
       "                    Plotly.newPlot(\n",
       "                        '6a151954-8088-47e6-a8e3-0dcce9930dbb',\n",
       "                        [{\"marker\": {\"color\": [-3.1830000000000003, -4.328, -4.757, -6.769, -4.284, -6.8420000000000005, -6.596, -5.043, -4.961, -8.374, -6.3660000000000005, -6.428, -5.024, -4.4319999999999995, -8.795, -4.215, -3.862, -4.868, -4.0680000000000005, -4.305, -4.915, -4.749, -7.398, -4.035, -6.327000000000001, -6.864, -3.3739999999999997, -7.7860000000000005, -5.599, -4.581, -5.94, -7.028, -3.094, -3.299, -6.257999999999999, -7.733, -11.377, -6.593999999999999, -5.595, -5.827000000000001, -6.312, -4.0680000000000005, -3.105, -4.209, -4.502, -6.745, -11.462, -2.9210000000000003, -5.313, -4.323, -2.396, -9.433, -5.309, -5.002, -5.886, -3.2969999999999997, -4.6610000000000005, -6.922999999999999, -10.401, -4.282, -6.763, -5.535, -6.053999999999999, -5.3629999999999995, -5.445, -6.166, -9.601, -6.678, -3.181, -5.6979999999999995, -4.63, -3.37, -6.351, -7.607, -6.287999999999999, -3.093, -8.279, -3.515, -6.377999999999999, -5.126, -4.2, -3.073, -4.518, -5.882999999999999, -5.428999999999999, -7.621, -6.237, -5.092, -6.406000000000001, -5.098, -7.843999999999999, -4.093, -5.516, -5.35, -8.228, -4.761, -5.651, -7.226, -4.902, -6.593], \"size\": 8}, \"mode\": \"markers\", \"text\": [\"Ed Sheeran - Shape of You\", \"Luis Fonsi - Despacito - Remix\", \"Luis Fonsi - Despacito (Featuring Daddy Yankee)\", \"The Chainsmokers - Something Just Like This\", \"DJ Khaled - I'm the One\", \"Kendrick Lamar - HUMBLE.\", \"Kygo - It Ain't Me (with Selena Gomez)\", \"French Montana - Unforgettable\", \"Bruno Mars - That's What I Like\", \"ZAYN - I Don\\u2019t Wanna Live Forever (Fifty Shades Darker) - From \\\"Fifty Shades Darker (Original Motion Picture Soundtrack)\\\"\", \"Lil Uzi Vert - XO TOUR Llif3\", \"The Chainsmokers - Paris\", \"Zedd - Stay (with Alessia Cara)\", \"Charlie Puth - Attention\", \"Future - Mask Off\", \"Post Malone - Congratulations\", \"Jason Derulo - Swalla (feat. Nicki Minaj & Ty Dolla $ign)\", \"Ed Sheeran - Castle on the Hill\", \"Clean Bandit - Rockabye (feat. Sean Paul & Anne-Marie)\", \"Imagine Dragons - Believer\", \"J Balvin - Mi Gente\", \"Imagine Dragons - Thunder\", \"James Arthur - Say You Won't Let Go\", \"Shawn Mendes - There's Nothing Holdin' Me Back\", \"Danny Ocean - Me Reh\\u00faso\", \"Julia Michaels - Issues\", \"Ed Sheeran - Galway Girl\", \"Martin Garrix - Scared to Be Lonely\", \"The Chainsmokers - Closer\", \"Clean Bandit - Symphony (feat. Zara Larsson)\", \"The Weeknd - I Feel It Coming\", \"The Weeknd - Starboy\", \"DJ Khaled - Wild Thoughts\", \"Calvin Harris - Slide\", \"Dua Lipa - New Rules\", \"Logic - 1-800-273-8255\", \"Drake - Passionfruit\", \"Post Malone - rockstar\", \"Liam Payne - Strip That Down\", \"David Guetta - 2U (feat. Justin Bieber)\", \"Ed Sheeran - Perfect\", \"Starley - Call On Me - Ryan Riback Extended Remix\", \"Calvin Harris - Feels\", \"Jonas Blue - Mama\", \"Maluma - Felices los 4\", \"KYLE - iSpy (feat. Lil Yachty)\", \"Khalid - Location\", \"Shakira - Chantaje\", \"Migos - Bad and Boujee (feat. Lil Uzi Vert)\", \"Camila Cabello - Havana\", \"Martin Jensen - Solo Dance\", \"Drake - Fake Love\", \"DJ Snake - Let Me Love You\", \"Axwell /\\\\ Ingrosso - More Than You Know\", \"Drake - One Dance\", \"Enrique Iglesias - SUBEME LA RADIO\", \"Maggie Lindemann - Pretty Girl - Cheat Codes X CADE Remix\", \"Demi Lovato - Sorry Not Sorry\", \"Childish Gambino - Redbone\", \"Bruno Mars - 24K Magic\", \"Kendrick Lamar - DNA.\", \"Nicky Jam - El Amante\", \"Jax Jones - You Don't Know Me - Radio Edit\", \"Katy Perry - Chained To The Rhythm\", \"Cheat Codes - No Promises (feat. Demi Lovato)\", \"Maroon 5 - Don't Wanna Know (feat. Kendrick Lamar)\", \"Alessia Cara - How Far I'll Go - From \\\"Moana\\\"\", \"Niall Horan - Slow Hands\", \"Wisin - Esc\\u00e1pate Conmigo\", \"Big Sean - Bounce Back\", \"Harry Styles - Sign of the Times\", \"Travis Scott - goosebumps\", \"Khalid - Young Dumb & Broke\", \"Martin Garrix - There for You\", \"Maroon 5 - Cold (feat. Future)\", \"Marshmello - Silence\", \"Sam Smith - Too Good At Goodbyes\", \"Steve Aoki - Just Hold On\", \"Taylor Swift - Look What You Made Me Do\", \"Macklemore - Glorious (feat. Skylar Grey)\", \"Hailee Steinfeld - Starving\", \"CNCO - Reggaet\\u00f3n Lento (Bailemos)\", \"AJR - Weak\", \"Ariana Grande - Side To Side\", \"Zion & Lennox - Otra Vez (feat. J Balvin)\", \"Lauv - I Like Me Better\", \"Martin Garrix - In the Name of Love\", \"Major Lazer - Cold Water (feat. Justin Bieber & M\\u00d8)\", \"Miley Cyrus - Malibu\", \"The Vamps - All Night\", \"Alok - Hear Me Now\", \"Rita Ora - Your Song\", \"Chris Jeday - Ahora Dice\", \"Justin Bieber - Friends (with BloodPop\\u00ae)\", \"21 Savage - Bank Account\", \"Machine Gun Kelly - Bad Things (with Camila Cabello)\", \"The Chainsmokers - Don't Let Me Down\", \"Sam Hunt - Body Like A Back Road\", \"Halsey - Now Or Never\", \"ZAYN - Dusk Till Dawn - Radio Edit\"], \"type\": \"scatter\", \"x\": [-10.679235458374023, -7.931377410888672, 27.52017593383789, 60.16193389892578, 1.386690378189087, -14.477126121520996, -28.621675491333008, -67.07617950439453, -1.6542319059371948, 13.553035736083984, -60.79668426513672, -17.167062759399414, 26.652259826660156, -4.232367038726807, 80.3609619140625, -18.117130279541016, 7.35142183303833, 19.452640533447266, -27.010915756225586, -55.04323959350586, -16.883319854736328, -40.09521484375, -18.45621681213379, 13.88963508605957, -0.6112080216407776, -12.10159969329834, 22.258136749267578, -14.138195991516113, 22.57634925842285, -36.49286651611328, -8.703646659851074, 14.352951049804688, -41.22929382324219, 37.3542594909668, -19.05050277709961, -7.371791839599609, -30.875673294067383, 5.762660503387451, -23.463985443115234, -15.164009094238281, -26.90673828125, 108.48636627197266, 36.07986068725586, -1.9122943878173828, 20.73146629333496, -6.358434677124023, 10.048026084899902, 20.96338653564453, 1.399587869644165, 4.122607707977295, -30.160707473754883, -13.884282112121582, 8.80008316040039, 26.765670776367188, -8.9264497756958, 9.272302627563477, 15.640707015991211, 31.376380920410156, -30.2419376373291, 6.6183061599731445, -8.63291072845459, 4.5064263343811035, 23.234004974365234, 10.858309745788574, -39.12823486328125, 86.44618225097656, -0.9862262010574341, -23.371479034423828, -31.597965240478516, -31.01199722290039, 3.576704502105713, 11.176778793334961, -29.440351486206055, -4.613950729370117, -1.7294505834579468, 27.39568328857422, -20.449275970458984, 40.09489822387695, 4.560572624206543, 16.091392517089844, -34.17298126220703, 25.77855682373047, 12.3773193359375, -7.853851318359375, -12.644264221191406, -22.349905014038086, -20.057504653930664, 27.11615753173828, -20.53803253173828, 28.39797592163086, -50.49542999267578, 11.39399242401123, 1.9945416450500488, -15.831369400024414, -36.26560592651367, 27.545825958251953, 20.315980911254883, 83.60356140136719, -45.645423889160156, -3.6745333671569824], \"y\": [32.55345916748047, 26.033187866210938, -6.844072341918945, -1.5301814079284668, 11.42182731628418, -2.328274726867676, 30.98994255065918, 51.61269760131836, 19.761354446411133, -0.39418959617614746, 15.748276710510254, -22.975690841674805, -14.221712112426758, 46.9719123840332, 26.903831481933594, 47.54232406616211, 38.48060607910156, -22.972726821899414, -139.1542205810547, 1.8135970830917358, 21.7259464263916, 15.359125137329102, -34.86924362182617, 22.773277282714844, -30.265459060668945, -19.120532989501953, 35.47700500488281, -9.974124908447266, 65.83536529541016, -2.5029802322387695, 37.35348892211914, -14.43630313873291, -1.947828769683838, 6.433831691741943, 17.323354721069336, -32.63901901245117, -19.128395080566406, -14.40853500366211, 8.916966438293457, 9.360085487365723, -9.215616226196289, -4.003694534301758, -10.46687126159668, 3.0402755737304688, 7.073736667633057, 13.143712997436523, -40.447776794433594, -3.999500036239624, -20.6954288482666, 9.570701599121094, 21.807296752929688, -0.24833336472511292, -21.510272979736328, 32.153072357177734, 23.217153549194336, 17.843996047973633, 25.60712242126465, 21.015466690063477, -18.847755432128906, 3.4301466941833496, -41.35299301147461, 76.50432586669922, -6.9563212394714355, -36.777435302734375, 98.28822326660156, -35.395938873291016, -5.9070587158203125, 26.278581619262695, 11.855690956115723, -28.142404556274414, -1.2307286262512207, -30.955102920532227, 5.455623626708984, -23.3094425201416, 23.862171173095703, -12.569585800170898, -31.59125328063965, 22.40496253967285, -11.107030868530273, -1.4596951007843018, -20.95008087158203, 13.126029014587402, 6.41648006439209, -12.17711067199707, 8.108219146728516, -11.48431396484375, -1.927314043045044, 8.452963829040527, -0.592087984085083, -23.37361717224121, -72.60236358642578, 23.96727752685547, 33.71538162231445, -24.497154235839844, -2.562934398651123, -12.924601554870605, 40.2884407043457, 113.82718658447266, -15.04680061340332, -11.510323524475098]}],\n",
       "                        {\"template\": {\"data\": {\"bar\": [{\"error_x\": {\"color\": \"#2a3f5f\"}, \"error_y\": {\"color\": \"#2a3f5f\"}, \"marker\": {\"line\": {\"color\": \"#E5ECF6\", \"width\": 0.5}}, \"type\": \"bar\"}], \"barpolar\": [{\"marker\": {\"line\": {\"color\": \"#E5ECF6\", \"width\": 0.5}}, \"type\": \"barpolar\"}], \"carpet\": [{\"aaxis\": {\"endlinecolor\": \"#2a3f5f\", \"gridcolor\": \"white\", \"linecolor\": \"white\", \"minorgridcolor\": \"white\", \"startlinecolor\": \"#2a3f5f\"}, \"baxis\": {\"endlinecolor\": \"#2a3f5f\", \"gridcolor\": \"white\", \"linecolor\": \"white\", \"minorgridcolor\": \"white\", \"startlinecolor\": \"#2a3f5f\"}, \"type\": \"carpet\"}], \"choropleth\": [{\"colorbar\": {\"outlinewidth\": 0, \"ticks\": \"\"}, \"type\": \"choropleth\"}], \"contour\": [{\"colorbar\": {\"outlinewidth\": 0, \"ticks\": \"\"}, \"colorscale\": [[0.0, \"#0d0887\"], [0.1111111111111111, \"#46039f\"], [0.2222222222222222, \"#7201a8\"], [0.3333333333333333, \"#9c179e\"], [0.4444444444444444, \"#bd3786\"], [0.5555555555555556, \"#d8576b\"], [0.6666666666666666, \"#ed7953\"], [0.7777777777777778, \"#fb9f3a\"], [0.8888888888888888, \"#fdca26\"], [1.0, \"#f0f921\"]], \"type\": \"contour\"}], \"contourcarpet\": [{\"colorbar\": {\"outlinewidth\": 0, \"ticks\": \"\"}, \"type\": \"contourcarpet\"}], \"heatmap\": [{\"colorbar\": {\"outlinewidth\": 0, \"ticks\": \"\"}, \"colorscale\": [[0.0, \"#0d0887\"], [0.1111111111111111, \"#46039f\"], [0.2222222222222222, \"#7201a8\"], [0.3333333333333333, \"#9c179e\"], [0.4444444444444444, \"#bd3786\"], [0.5555555555555556, \"#d8576b\"], [0.6666666666666666, \"#ed7953\"], [0.7777777777777778, \"#fb9f3a\"], [0.8888888888888888, \"#fdca26\"], [1.0, \"#f0f921\"]], \"type\": \"heatmap\"}], \"heatmapgl\": [{\"colorbar\": {\"outlinewidth\": 0, \"ticks\": \"\"}, \"colorscale\": [[0.0, \"#0d0887\"], [0.1111111111111111, \"#46039f\"], [0.2222222222222222, \"#7201a8\"], [0.3333333333333333, \"#9c179e\"], [0.4444444444444444, \"#bd3786\"], [0.5555555555555556, \"#d8576b\"], [0.6666666666666666, \"#ed7953\"], [0.7777777777777778, \"#fb9f3a\"], [0.8888888888888888, \"#fdca26\"], [1.0, \"#f0f921\"]], \"type\": \"heatmapgl\"}], \"histogram\": [{\"marker\": {\"colorbar\": {\"outlinewidth\": 0, \"ticks\": \"\"}}, \"type\": \"histogram\"}], \"histogram2d\": [{\"colorbar\": {\"outlinewidth\": 0, \"ticks\": \"\"}, \"colorscale\": [[0.0, \"#0d0887\"], [0.1111111111111111, \"#46039f\"], [0.2222222222222222, \"#7201a8\"], [0.3333333333333333, \"#9c179e\"], [0.4444444444444444, \"#bd3786\"], [0.5555555555555556, \"#d8576b\"], [0.6666666666666666, \"#ed7953\"], [0.7777777777777778, \"#fb9f3a\"], [0.8888888888888888, \"#fdca26\"], [1.0, \"#f0f921\"]], \"type\": \"histogram2d\"}], \"histogram2dcontour\": [{\"colorbar\": {\"outlinewidth\": 0, \"ticks\": \"\"}, \"colorscale\": [[0.0, \"#0d0887\"], [0.1111111111111111, \"#46039f\"], [0.2222222222222222, \"#7201a8\"], [0.3333333333333333, \"#9c179e\"], [0.4444444444444444, \"#bd3786\"], [0.5555555555555556, \"#d8576b\"], [0.6666666666666666, \"#ed7953\"], [0.7777777777777778, \"#fb9f3a\"], [0.8888888888888888, \"#fdca26\"], [1.0, \"#f0f921\"]], \"type\": \"histogram2dcontour\"}], \"mesh3d\": [{\"colorbar\": {\"outlinewidth\": 0, \"ticks\": \"\"}, \"type\": \"mesh3d\"}], \"parcoords\": [{\"line\": {\"colorbar\": {\"outlinewidth\": 0, \"ticks\": \"\"}}, \"type\": \"parcoords\"}], \"pie\": [{\"automargin\": true, \"type\": \"pie\"}], \"scatter\": [{\"marker\": {\"colorbar\": {\"outlinewidth\": 0, \"ticks\": \"\"}}, \"type\": \"scatter\"}], \"scatter3d\": [{\"line\": {\"colorbar\": {\"outlinewidth\": 0, \"ticks\": \"\"}}, \"marker\": {\"colorbar\": {\"outlinewidth\": 0, \"ticks\": \"\"}}, \"type\": \"scatter3d\"}], \"scattercarpet\": [{\"marker\": {\"colorbar\": {\"outlinewidth\": 0, \"ticks\": \"\"}}, \"type\": \"scattercarpet\"}], \"scattergeo\": [{\"marker\": {\"colorbar\": {\"outlinewidth\": 0, \"ticks\": \"\"}}, \"type\": \"scattergeo\"}], \"scattergl\": [{\"marker\": {\"colorbar\": {\"outlinewidth\": 0, \"ticks\": \"\"}}, \"type\": \"scattergl\"}], \"scattermapbox\": [{\"marker\": {\"colorbar\": {\"outlinewidth\": 0, \"ticks\": \"\"}}, \"type\": \"scattermapbox\"}], \"scatterpolar\": [{\"marker\": {\"colorbar\": {\"outlinewidth\": 0, \"ticks\": \"\"}}, \"type\": \"scatterpolar\"}], \"scatterpolargl\": [{\"marker\": {\"colorbar\": {\"outlinewidth\": 0, \"ticks\": \"\"}}, \"type\": \"scatterpolargl\"}], \"scatterternary\": [{\"marker\": {\"colorbar\": {\"outlinewidth\": 0, \"ticks\": \"\"}}, \"type\": \"scatterternary\"}], \"surface\": [{\"colorbar\": {\"outlinewidth\": 0, \"ticks\": \"\"}, \"colorscale\": [[0.0, \"#0d0887\"], [0.1111111111111111, \"#46039f\"], [0.2222222222222222, \"#7201a8\"], [0.3333333333333333, \"#9c179e\"], [0.4444444444444444, \"#bd3786\"], [0.5555555555555556, \"#d8576b\"], [0.6666666666666666, \"#ed7953\"], [0.7777777777777778, \"#fb9f3a\"], [0.8888888888888888, \"#fdca26\"], [1.0, \"#f0f921\"]], \"type\": \"surface\"}], \"table\": [{\"cells\": {\"fill\": {\"color\": \"#EBF0F8\"}, \"line\": {\"color\": \"white\"}}, \"header\": {\"fill\": {\"color\": \"#C8D4E3\"}, \"line\": {\"color\": \"white\"}}, \"type\": \"table\"}]}, \"layout\": {\"annotationdefaults\": {\"arrowcolor\": \"#2a3f5f\", \"arrowhead\": 0, \"arrowwidth\": 1}, \"coloraxis\": {\"colorbar\": {\"outlinewidth\": 0, \"ticks\": \"\"}}, \"colorscale\": {\"diverging\": [[0, \"#8e0152\"], [0.1, \"#c51b7d\"], [0.2, \"#de77ae\"], [0.3, \"#f1b6da\"], [0.4, \"#fde0ef\"], [0.5, \"#f7f7f7\"], [0.6, \"#e6f5d0\"], [0.7, \"#b8e186\"], [0.8, \"#7fbc41\"], [0.9, \"#4d9221\"], [1, \"#276419\"]], \"sequential\": [[0.0, \"#0d0887\"], [0.1111111111111111, \"#46039f\"], [0.2222222222222222, \"#7201a8\"], [0.3333333333333333, \"#9c179e\"], [0.4444444444444444, \"#bd3786\"], [0.5555555555555556, \"#d8576b\"], [0.6666666666666666, \"#ed7953\"], [0.7777777777777778, \"#fb9f3a\"], [0.8888888888888888, \"#fdca26\"], [1.0, \"#f0f921\"]], \"sequentialminus\": [[0.0, \"#0d0887\"], [0.1111111111111111, \"#46039f\"], [0.2222222222222222, \"#7201a8\"], [0.3333333333333333, \"#9c179e\"], [0.4444444444444444, \"#bd3786\"], [0.5555555555555556, \"#d8576b\"], [0.6666666666666666, \"#ed7953\"], [0.7777777777777778, \"#fb9f3a\"], [0.8888888888888888, \"#fdca26\"], [1.0, \"#f0f921\"]]}, \"colorway\": [\"#636efa\", \"#EF553B\", \"#00cc96\", \"#ab63fa\", \"#FFA15A\", \"#19d3f3\", \"#FF6692\", \"#B6E880\", \"#FF97FF\", \"#FECB52\"], \"font\": {\"color\": \"#2a3f5f\"}, \"geo\": {\"bgcolor\": \"white\", \"lakecolor\": \"white\", \"landcolor\": \"#E5ECF6\", \"showlakes\": true, \"showland\": true, \"subunitcolor\": \"white\"}, \"hoverlabel\": {\"align\": \"left\"}, \"hovermode\": \"closest\", \"mapbox\": {\"style\": \"light\"}, \"paper_bgcolor\": \"white\", \"plot_bgcolor\": \"#E5ECF6\", \"polar\": {\"angularaxis\": {\"gridcolor\": \"white\", \"linecolor\": \"white\", \"ticks\": \"\"}, \"bgcolor\": \"#E5ECF6\", \"radialaxis\": {\"gridcolor\": \"white\", \"linecolor\": \"white\", \"ticks\": \"\"}}, \"scene\": {\"xaxis\": {\"backgroundcolor\": \"#E5ECF6\", \"gridcolor\": \"white\", \"gridwidth\": 2, \"linecolor\": \"white\", \"showbackground\": true, \"ticks\": \"\", \"zerolinecolor\": \"white\"}, \"yaxis\": {\"backgroundcolor\": \"#E5ECF6\", \"gridcolor\": \"white\", \"gridwidth\": 2, \"linecolor\": \"white\", \"showbackground\": true, \"ticks\": \"\", \"zerolinecolor\": \"white\"}, \"zaxis\": {\"backgroundcolor\": \"#E5ECF6\", \"gridcolor\": \"white\", \"gridwidth\": 2, \"linecolor\": \"white\", \"showbackground\": true, \"ticks\": \"\", \"zerolinecolor\": \"white\"}}, \"shapedefaults\": {\"line\": {\"color\": \"#2a3f5f\"}}, \"ternary\": {\"aaxis\": {\"gridcolor\": \"white\", \"linecolor\": \"white\", \"ticks\": \"\"}, \"baxis\": {\"gridcolor\": \"white\", \"linecolor\": \"white\", \"ticks\": \"\"}, \"bgcolor\": \"#E5ECF6\", \"caxis\": {\"gridcolor\": \"white\", \"linecolor\": \"white\", \"ticks\": \"\"}}, \"title\": {\"x\": 0.05}, \"xaxis\": {\"automargin\": true, \"gridcolor\": \"white\", \"linecolor\": \"white\", \"ticks\": \"\", \"title\": {\"standoff\": 15}, \"zerolinecolor\": \"white\", \"zerolinewidth\": 2}, \"yaxis\": {\"automargin\": true, \"gridcolor\": \"white\", \"linecolor\": \"white\", \"ticks\": \"\", \"title\": {\"standoff\": 15}, \"zerolinecolor\": \"white\", \"zerolinewidth\": 2}}}, \"xaxis\": {\"title\": {\"text\": \"x-tsne\"}}, \"yaxis\": {\"title\": {\"text\": \"y-tsne\"}}},\n",
       "                        {\"responsive\": true}\n",
       "                    ).then(function(){\n",
       "                            \n",
       "var gd = document.getElementById('6a151954-8088-47e6-a8e3-0dcce9930dbb');\n",
       "var x = new MutationObserver(function (mutations, observer) {{\n",
       "        var display = window.getComputedStyle(gd).display;\n",
       "        if (!display || display === 'none') {{\n",
       "            console.log([gd, 'removed!']);\n",
       "            Plotly.purge(gd);\n",
       "            observer.disconnect();\n",
       "        }}\n",
       "}});\n",
       "\n",
       "// Listen for the removal of the full notebook cells\n",
       "var notebookContainer = gd.closest('#notebook-container');\n",
       "if (notebookContainer) {{\n",
       "    x.observe(notebookContainer, {childList: true});\n",
       "}}\n",
       "\n",
       "// Listen for the clearing of the current output cell\n",
       "var outputEl = gd.closest('.output');\n",
       "if (outputEl) {{\n",
       "    x.observe(outputEl, {childList: true});\n",
       "}}\n",
       "\n",
       "                        })\n",
       "                };\n",
       "                });\n",
       "            </script>\n",
       "        </div>"
      ]
     },
     "metadata": {},
     "output_type": "display_data"
    }
   ],
   "source": [
    "plot_pca_scaler(\"loudness\",df)"
   ]
  },
  {
   "cell_type": "markdown",
   "metadata": {},
   "source": [
    "## project the 'top' and 'bottom' songs (or 'not-top' songs) "
   ]
  },
  {
   "cell_type": "markdown",
   "metadata": {},
   "source": [
    "project into the t-SNE space and see if they cluster differently."
   ]
  },
  {
   "cell_type": "markdown",
   "metadata": {},
   "source": [
    "1. separate the songs on the basis of popularity--> o and 1 , here 0  are the not top songs and 1 are top songs\n",
    "\n",
    "- EXPECTED 1: Songs having popularity 1 should be tightly coupled  and \n",
    "\n",
    "- EXPECTED 2: Songs having popularity 0 should be loosely coupled  "
   ]
  },
  {
   "cell_type": "code",
   "execution_count": 83,
   "metadata": {},
   "outputs": [],
   "source": [
    "def top_songs(dataframe):\n",
    "    df1 = dataframe[dataframe['popularity'] == 1]\n",
    "    return plot_pca_scaler(\"loudness\",df1)"
   ]
  },
  {
   "cell_type": "code",
   "execution_count": 84,
   "metadata": {},
   "outputs": [
    {
     "name": "stdout",
     "output_type": "stream",
     "text": [
      "t-SNE starting.................\n",
      "[t-SNE] Computing 84 nearest neighbors...\n",
      "[t-SNE] Indexed 85 samples in 0.001s...\n",
      "[t-SNE] Computed neighbors for 85 samples in 0.002s...\n",
      "[t-SNE] Computed conditional probabilities for sample 85 / 85\n",
      "[t-SNE] Mean sigma: 0.369569\n",
      "[t-SNE] KL divergence after 250 iterations with early exaggeration: 103.000732\n",
      "[t-SNE] KL divergence after 300 iterations: 2.868092\n",
      "......................t-SNE done\n"
     ]
    },
    {
     "data": {
      "application/vnd.plotly.v1+json": {
       "config": {
        "linkText": "Export to plot.ly",
        "plotlyServerURL": "https://plot.ly",
        "showLink": false
       },
       "data": [
        {
         "marker": {
          "color": [
           -3.1830000000000003,
           -4.328,
           -4.757,
           -4.284,
           -6.8420000000000005,
           -5.043,
           -4.961,
           -8.374,
           -6.3660000000000005,
           -5.024,
           -4.432,
           -8.795,
           -4.215,
           -3.862,
           -4.868,
           -4.0680000000000005,
           -4.305,
           -4.915,
           -4.749,
           -4.035,
           -6.327000000000001,
           -6.864,
           -3.374,
           -5.599,
           -4.581,
           -5.94,
           -3.094,
           -3.299,
           -6.257999999999999,
           -11.377,
           -5.595,
           -4.0680000000000005,
           -3.105,
           -4.209,
           -4.502,
           -6.745,
           -11.462,
           -2.9210000000000003,
           -5.313,
           -4.323,
           -2.396,
           -9.433,
           -5.309,
           -5.002,
           -5.886,
           -3.297,
           -4.6610000000000005,
           -6.922999999999999,
           -10.401,
           -4.282,
           -5.535,
           -6.0539999999999985,
           -5.363,
           -5.445,
           -6.166,
           -6.678,
           -3.181,
           -5.698,
           -4.63,
           -3.37,
           -6.351,
           -6.2879999999999985,
           -3.093,
           -8.279,
           -3.515,
           -6.377999999999999,
           -5.126,
           -4.2,
           -3.073,
           -4.518,
           -5.882999999999999,
           -5.4289999999999985,
           -7.621,
           -5.092,
           -6.4060000000000015,
           -5.098,
           -7.8439999999999985,
           -4.093,
           -5.516,
           -5.35,
           -8.228,
           -4.761,
           -5.651,
           -7.226,
           -4.902
          ],
          "size": 8
         },
         "mode": "markers",
         "text": [
          "Ed Sheeran - Shape of You",
          "Luis Fonsi - Despacito - Remix",
          "Luis Fonsi - Despacito (Featuring Daddy Yankee)",
          "DJ Khaled - I'm the One",
          "Kendrick Lamar - HUMBLE.",
          "French Montana - Unforgettable",
          "Bruno Mars - That's What I Like",
          "ZAYN - I Don’t Wanna Live Forever (Fifty Shades Darker) - From \"Fifty Shades Darker (Original Motion Picture Soundtrack)\"",
          "Lil Uzi Vert - XO TOUR Llif3",
          "Zedd - Stay (with Alessia Cara)",
          "Charlie Puth - Attention",
          "Future - Mask Off",
          "Post Malone - Congratulations",
          "Jason Derulo - Swalla (feat. Nicki Minaj & Ty Dolla $ign)",
          "Ed Sheeran - Castle on the Hill",
          "Clean Bandit - Rockabye (feat. Sean Paul & Anne-Marie)",
          "Imagine Dragons - Believer",
          "J Balvin - Mi Gente",
          "Imagine Dragons - Thunder",
          "Shawn Mendes - There's Nothing Holdin' Me Back",
          "Danny Ocean - Me Rehúso",
          "Julia Michaels - Issues",
          "Ed Sheeran - Galway Girl",
          "The Chainsmokers - Closer",
          "Clean Bandit - Symphony (feat. Zara Larsson)",
          "The Weeknd - I Feel It Coming",
          "DJ Khaled - Wild Thoughts",
          "Calvin Harris - Slide",
          "Dua Lipa - New Rules",
          "Drake - Passionfruit",
          "Liam Payne - Strip That Down",
          "Starley - Call On Me - Ryan Riback Extended Remix",
          "Calvin Harris - Feels",
          "Jonas Blue - Mama",
          "Maluma - Felices los 4",
          "KYLE - iSpy (feat. Lil Yachty)",
          "Khalid - Location",
          "Shakira - Chantaje",
          "Migos - Bad and Boujee (feat. Lil Uzi Vert)",
          "Camila Cabello - Havana",
          "Martin Jensen - Solo Dance",
          "Drake - Fake Love",
          "DJ Snake - Let Me Love You",
          "Axwell /\\ Ingrosso - More Than You Know",
          "Drake - One Dance",
          "Enrique Iglesias - SUBEME LA RADIO",
          "Maggie Lindemann - Pretty Girl - Cheat Codes X CADE Remix",
          "Demi Lovato - Sorry Not Sorry",
          "Childish Gambino - Redbone",
          "Bruno Mars - 24K Magic",
          "Nicky Jam - El Amante",
          "Jax Jones - You Don't Know Me - Radio Edit",
          "Katy Perry - Chained To The Rhythm",
          "Cheat Codes - No Promises (feat. Demi Lovato)",
          "Maroon 5 - Don't Wanna Know (feat. Kendrick Lamar)",
          "Niall Horan - Slow Hands",
          "Wisin - Escápate Conmigo",
          "Big Sean - Bounce Back",
          "Harry Styles - Sign of the Times",
          "Travis Scott - goosebumps",
          "Khalid - Young Dumb & Broke",
          "Maroon 5 - Cold (feat. Future)",
          "Marshmello - Silence",
          "Sam Smith - Too Good At Goodbyes",
          "Steve Aoki - Just Hold On",
          "Taylor Swift - Look What You Made Me Do",
          "Macklemore - Glorious (feat. Skylar Grey)",
          "Hailee Steinfeld - Starving",
          "CNCO - Reggaetón Lento (Bailemos)",
          "AJR - Weak",
          "Ariana Grande - Side To Side",
          "Zion & Lennox - Otra Vez (feat. J Balvin)",
          "Lauv - I Like Me Better",
          "Major Lazer - Cold Water (feat. Justin Bieber & MØ)",
          "Miley Cyrus - Malibu",
          "The Vamps - All Night",
          "Alok - Hear Me Now",
          "Rita Ora - Your Song",
          "Chris Jeday - Ahora Dice",
          "Justin Bieber - Friends (with BloodPop®)",
          "21 Savage - Bank Account",
          "Machine Gun Kelly - Bad Things (with Camila Cabello)",
          "The Chainsmokers - Don't Let Me Down",
          "Sam Hunt - Body Like A Back Road",
          "Halsey - Now Or Never"
         ],
         "type": "scatter",
         "x": [
          26.18242835998535,
          -11.078989028930664,
          10.156364440917969,
          -2.050442934036255,
          82.92092895507812,
          4.996617317199707,
          -15.507196426391602,
          42.61370849609375,
          167.9052276611328,
          90.39440155029297,
          -68.2193832397461,
          0.7972409129142761,
          -39.99931716918945,
          -6.265964508056641,
          -38.20212173461914,
          -43.76323318481445,
          9.631855964660645,
          -27.76827621459961,
          -2.5443625450134277,
          3.594276189804077,
          25.45925521850586,
          426.2279357910156,
          -39.469505310058594,
          -108.01104736328125,
          -14.94864559173584,
          -7.367085933685303,
          -0.8306845426559448,
          -17.494720458984375,
          -14.870963096618652,
          86.28694152832031,
          14.15748405456543,
          49.56407928466797,
          51.30451202392578,
          37.111900329589844,
          -1.5693422555923462,
          -0.32895034551620483,
          22.126394271850586,
          -22.644197463989258,
          45.44105911254883,
          22.449220657348633,
          -78.5151596069336,
          24.19264030456543,
          -39.155181884765625,
          20.29554557800293,
          78.14311218261719,
          10.996759414672852,
          10.882129669189453,
          -25.813175201416016,
          -21.859394073486328,
          21.07554817199707,
          -46.57057189941406,
          30.677400588989258,
          68.03577423095703,
          25.193206787109375,
          -26.365795135498047,
          22.861190795898438,
          -12.194202423095703,
          0.3887816071510315,
          -15.196028709411621,
          -7.793392658233643,
          8.726288795471191,
          -12.316970825195312,
          -3.724264621734619,
          -91.70828247070312,
          35.14482116699219,
          8.012553215026855,
          0.2612262964248657,
          -138.72454833984375,
          165.95138549804688,
          -22.93034553527832,
          54.025856018066406,
          -74.18319702148438,
          35.725860595703125,
          -225.27650451660156,
          -38.77968978881836,
          -440.40509033203125,
          23.478607177734375,
          14.419357299804688,
          76.55416870117188,
          99.15657806396484,
          31.688701629638672,
          -20.544334411621094,
          -48.92529296875,
          -6.433437824249268,
          -10.392752647399902
         ],
         "y": [
          -79.81732177734375,
          29.423267364501953,
          -71.35643005371094,
          3.720541000366211,
          -47.18342208862305,
          42.46297836303711,
          5.255805492401123,
          2.9194064140319824,
          -68.82063293457031,
          -61.447166442871094,
          -6.6194586753845215,
          -16.89404296875,
          -10.13634204864502,
          43.70928955078125,
          28.421781539916992,
          44.77079391479492,
          -16.47439956665039,
          -16.072969436645508,
          -33.000240325927734,
          -8.641972541809082,
          -13.306377410888672,
          -144.85525512695312,
          -32.82571792602539,
          -79.57301330566406,
          -47.74448013305664,
          29.017396926879883,
          -8.556280136108398,
          -21.001691818237305,
          -10.45953369140625,
          10.971725463867188,
          -41.196067810058594,
          6.17352294921875,
          -10.394867897033691,
          28.69181251525879,
          -4.935578346252441,
          10.646925926208496,
          9.829119682312012,
          53.64937210083008,
          62.91264724731445,
          11.19617748260498,
          -136.69371032714844,
          55.643516540527344,
          -35.88359451293945,
          37.197120666503906,
          -12.077333450317383,
          37.79303741455078,
          -55.60466766357422,
          4.44325065612793,
          171.72813415527344,
          -42.651344299316406,
          11.948344230651855,
          -28.403379440307617,
          48.1249885559082,
          6.226748943328857,
          31.364469528198242,
          1.6562329530715942,
          115.67620849609375,
          11.94748306274414,
          -20.612890243530273,
          -38.08735275268555,
          -12.41414737701416,
          54.85850143432617,
          -33.35820388793945,
          72.64157104492188,
          30.078771591186523,
          -17.26951026916504,
          7.399423122406006,
          -69.75215911865234,
          -222.18902587890625,
          10.244831085205078,
          -13.06937313079834,
          147.02423095703125,
          -48.465675354003906,
          694.659423828125,
          3.8483803272247314,
          84.84602355957031,
          -35.96150207519531,
          15.451385498046875,
          -303.5880126953125,
          -379.77520751953125,
          -7.801766872406006,
          -120.44629669189453,
          -13.269423484802246,
          23.4366512298584,
          0.18579363822937012
         ]
        }
       ],
       "layout": {
        "template": {
         "data": {
          "bar": [
           {
            "error_x": {
             "color": "#2a3f5f"
            },
            "error_y": {
             "color": "#2a3f5f"
            },
            "marker": {
             "line": {
              "color": "#E5ECF6",
              "width": 0.5
             }
            },
            "type": "bar"
           }
          ],
          "barpolar": [
           {
            "marker": {
             "line": {
              "color": "#E5ECF6",
              "width": 0.5
             }
            },
            "type": "barpolar"
           }
          ],
          "carpet": [
           {
            "aaxis": {
             "endlinecolor": "#2a3f5f",
             "gridcolor": "white",
             "linecolor": "white",
             "minorgridcolor": "white",
             "startlinecolor": "#2a3f5f"
            },
            "baxis": {
             "endlinecolor": "#2a3f5f",
             "gridcolor": "white",
             "linecolor": "white",
             "minorgridcolor": "white",
             "startlinecolor": "#2a3f5f"
            },
            "type": "carpet"
           }
          ],
          "choropleth": [
           {
            "colorbar": {
             "outlinewidth": 0,
             "ticks": ""
            },
            "type": "choropleth"
           }
          ],
          "contour": [
           {
            "colorbar": {
             "outlinewidth": 0,
             "ticks": ""
            },
            "colorscale": [
             [
              0,
              "#0d0887"
             ],
             [
              0.1111111111111111,
              "#46039f"
             ],
             [
              0.2222222222222222,
              "#7201a8"
             ],
             [
              0.3333333333333333,
              "#9c179e"
             ],
             [
              0.4444444444444444,
              "#bd3786"
             ],
             [
              0.5555555555555556,
              "#d8576b"
             ],
             [
              0.6666666666666666,
              "#ed7953"
             ],
             [
              0.7777777777777778,
              "#fb9f3a"
             ],
             [
              0.8888888888888888,
              "#fdca26"
             ],
             [
              1,
              "#f0f921"
             ]
            ],
            "type": "contour"
           }
          ],
          "contourcarpet": [
           {
            "colorbar": {
             "outlinewidth": 0,
             "ticks": ""
            },
            "type": "contourcarpet"
           }
          ],
          "heatmap": [
           {
            "colorbar": {
             "outlinewidth": 0,
             "ticks": ""
            },
            "colorscale": [
             [
              0,
              "#0d0887"
             ],
             [
              0.1111111111111111,
              "#46039f"
             ],
             [
              0.2222222222222222,
              "#7201a8"
             ],
             [
              0.3333333333333333,
              "#9c179e"
             ],
             [
              0.4444444444444444,
              "#bd3786"
             ],
             [
              0.5555555555555556,
              "#d8576b"
             ],
             [
              0.6666666666666666,
              "#ed7953"
             ],
             [
              0.7777777777777778,
              "#fb9f3a"
             ],
             [
              0.8888888888888888,
              "#fdca26"
             ],
             [
              1,
              "#f0f921"
             ]
            ],
            "type": "heatmap"
           }
          ],
          "heatmapgl": [
           {
            "colorbar": {
             "outlinewidth": 0,
             "ticks": ""
            },
            "colorscale": [
             [
              0,
              "#0d0887"
             ],
             [
              0.1111111111111111,
              "#46039f"
             ],
             [
              0.2222222222222222,
              "#7201a8"
             ],
             [
              0.3333333333333333,
              "#9c179e"
             ],
             [
              0.4444444444444444,
              "#bd3786"
             ],
             [
              0.5555555555555556,
              "#d8576b"
             ],
             [
              0.6666666666666666,
              "#ed7953"
             ],
             [
              0.7777777777777778,
              "#fb9f3a"
             ],
             [
              0.8888888888888888,
              "#fdca26"
             ],
             [
              1,
              "#f0f921"
             ]
            ],
            "type": "heatmapgl"
           }
          ],
          "histogram": [
           {
            "marker": {
             "colorbar": {
              "outlinewidth": 0,
              "ticks": ""
             }
            },
            "type": "histogram"
           }
          ],
          "histogram2d": [
           {
            "colorbar": {
             "outlinewidth": 0,
             "ticks": ""
            },
            "colorscale": [
             [
              0,
              "#0d0887"
             ],
             [
              0.1111111111111111,
              "#46039f"
             ],
             [
              0.2222222222222222,
              "#7201a8"
             ],
             [
              0.3333333333333333,
              "#9c179e"
             ],
             [
              0.4444444444444444,
              "#bd3786"
             ],
             [
              0.5555555555555556,
              "#d8576b"
             ],
             [
              0.6666666666666666,
              "#ed7953"
             ],
             [
              0.7777777777777778,
              "#fb9f3a"
             ],
             [
              0.8888888888888888,
              "#fdca26"
             ],
             [
              1,
              "#f0f921"
             ]
            ],
            "type": "histogram2d"
           }
          ],
          "histogram2dcontour": [
           {
            "colorbar": {
             "outlinewidth": 0,
             "ticks": ""
            },
            "colorscale": [
             [
              0,
              "#0d0887"
             ],
             [
              0.1111111111111111,
              "#46039f"
             ],
             [
              0.2222222222222222,
              "#7201a8"
             ],
             [
              0.3333333333333333,
              "#9c179e"
             ],
             [
              0.4444444444444444,
              "#bd3786"
             ],
             [
              0.5555555555555556,
              "#d8576b"
             ],
             [
              0.6666666666666666,
              "#ed7953"
             ],
             [
              0.7777777777777778,
              "#fb9f3a"
             ],
             [
              0.8888888888888888,
              "#fdca26"
             ],
             [
              1,
              "#f0f921"
             ]
            ],
            "type": "histogram2dcontour"
           }
          ],
          "mesh3d": [
           {
            "colorbar": {
             "outlinewidth": 0,
             "ticks": ""
            },
            "type": "mesh3d"
           }
          ],
          "parcoords": [
           {
            "line": {
             "colorbar": {
              "outlinewidth": 0,
              "ticks": ""
             }
            },
            "type": "parcoords"
           }
          ],
          "pie": [
           {
            "automargin": true,
            "type": "pie"
           }
          ],
          "scatter": [
           {
            "marker": {
             "colorbar": {
              "outlinewidth": 0,
              "ticks": ""
             }
            },
            "type": "scatter"
           }
          ],
          "scatter3d": [
           {
            "line": {
             "colorbar": {
              "outlinewidth": 0,
              "ticks": ""
             }
            },
            "marker": {
             "colorbar": {
              "outlinewidth": 0,
              "ticks": ""
             }
            },
            "type": "scatter3d"
           }
          ],
          "scattercarpet": [
           {
            "marker": {
             "colorbar": {
              "outlinewidth": 0,
              "ticks": ""
             }
            },
            "type": "scattercarpet"
           }
          ],
          "scattergeo": [
           {
            "marker": {
             "colorbar": {
              "outlinewidth": 0,
              "ticks": ""
             }
            },
            "type": "scattergeo"
           }
          ],
          "scattergl": [
           {
            "marker": {
             "colorbar": {
              "outlinewidth": 0,
              "ticks": ""
             }
            },
            "type": "scattergl"
           }
          ],
          "scattermapbox": [
           {
            "marker": {
             "colorbar": {
              "outlinewidth": 0,
              "ticks": ""
             }
            },
            "type": "scattermapbox"
           }
          ],
          "scatterpolar": [
           {
            "marker": {
             "colorbar": {
              "outlinewidth": 0,
              "ticks": ""
             }
            },
            "type": "scatterpolar"
           }
          ],
          "scatterpolargl": [
           {
            "marker": {
             "colorbar": {
              "outlinewidth": 0,
              "ticks": ""
             }
            },
            "type": "scatterpolargl"
           }
          ],
          "scatterternary": [
           {
            "marker": {
             "colorbar": {
              "outlinewidth": 0,
              "ticks": ""
             }
            },
            "type": "scatterternary"
           }
          ],
          "surface": [
           {
            "colorbar": {
             "outlinewidth": 0,
             "ticks": ""
            },
            "colorscale": [
             [
              0,
              "#0d0887"
             ],
             [
              0.1111111111111111,
              "#46039f"
             ],
             [
              0.2222222222222222,
              "#7201a8"
             ],
             [
              0.3333333333333333,
              "#9c179e"
             ],
             [
              0.4444444444444444,
              "#bd3786"
             ],
             [
              0.5555555555555556,
              "#d8576b"
             ],
             [
              0.6666666666666666,
              "#ed7953"
             ],
             [
              0.7777777777777778,
              "#fb9f3a"
             ],
             [
              0.8888888888888888,
              "#fdca26"
             ],
             [
              1,
              "#f0f921"
             ]
            ],
            "type": "surface"
           }
          ],
          "table": [
           {
            "cells": {
             "fill": {
              "color": "#EBF0F8"
             },
             "line": {
              "color": "white"
             }
            },
            "header": {
             "fill": {
              "color": "#C8D4E3"
             },
             "line": {
              "color": "white"
             }
            },
            "type": "table"
           }
          ]
         },
         "layout": {
          "annotationdefaults": {
           "arrowcolor": "#2a3f5f",
           "arrowhead": 0,
           "arrowwidth": 1
          },
          "coloraxis": {
           "colorbar": {
            "outlinewidth": 0,
            "ticks": ""
           }
          },
          "colorscale": {
           "diverging": [
            [
             0,
             "#8e0152"
            ],
            [
             0.1,
             "#c51b7d"
            ],
            [
             0.2,
             "#de77ae"
            ],
            [
             0.3,
             "#f1b6da"
            ],
            [
             0.4,
             "#fde0ef"
            ],
            [
             0.5,
             "#f7f7f7"
            ],
            [
             0.6,
             "#e6f5d0"
            ],
            [
             0.7,
             "#b8e186"
            ],
            [
             0.8,
             "#7fbc41"
            ],
            [
             0.9,
             "#4d9221"
            ],
            [
             1,
             "#276419"
            ]
           ],
           "sequential": [
            [
             0,
             "#0d0887"
            ],
            [
             0.1111111111111111,
             "#46039f"
            ],
            [
             0.2222222222222222,
             "#7201a8"
            ],
            [
             0.3333333333333333,
             "#9c179e"
            ],
            [
             0.4444444444444444,
             "#bd3786"
            ],
            [
             0.5555555555555556,
             "#d8576b"
            ],
            [
             0.6666666666666666,
             "#ed7953"
            ],
            [
             0.7777777777777778,
             "#fb9f3a"
            ],
            [
             0.8888888888888888,
             "#fdca26"
            ],
            [
             1,
             "#f0f921"
            ]
           ],
           "sequentialminus": [
            [
             0,
             "#0d0887"
            ],
            [
             0.1111111111111111,
             "#46039f"
            ],
            [
             0.2222222222222222,
             "#7201a8"
            ],
            [
             0.3333333333333333,
             "#9c179e"
            ],
            [
             0.4444444444444444,
             "#bd3786"
            ],
            [
             0.5555555555555556,
             "#d8576b"
            ],
            [
             0.6666666666666666,
             "#ed7953"
            ],
            [
             0.7777777777777778,
             "#fb9f3a"
            ],
            [
             0.8888888888888888,
             "#fdca26"
            ],
            [
             1,
             "#f0f921"
            ]
           ]
          },
          "colorway": [
           "#636efa",
           "#EF553B",
           "#00cc96",
           "#ab63fa",
           "#FFA15A",
           "#19d3f3",
           "#FF6692",
           "#B6E880",
           "#FF97FF",
           "#FECB52"
          ],
          "font": {
           "color": "#2a3f5f"
          },
          "geo": {
           "bgcolor": "white",
           "lakecolor": "white",
           "landcolor": "#E5ECF6",
           "showlakes": true,
           "showland": true,
           "subunitcolor": "white"
          },
          "hoverlabel": {
           "align": "left"
          },
          "hovermode": "closest",
          "mapbox": {
           "style": "light"
          },
          "paper_bgcolor": "white",
          "plot_bgcolor": "#E5ECF6",
          "polar": {
           "angularaxis": {
            "gridcolor": "white",
            "linecolor": "white",
            "ticks": ""
           },
           "bgcolor": "#E5ECF6",
           "radialaxis": {
            "gridcolor": "white",
            "linecolor": "white",
            "ticks": ""
           }
          },
          "scene": {
           "xaxis": {
            "backgroundcolor": "#E5ECF6",
            "gridcolor": "white",
            "gridwidth": 2,
            "linecolor": "white",
            "showbackground": true,
            "ticks": "",
            "zerolinecolor": "white"
           },
           "yaxis": {
            "backgroundcolor": "#E5ECF6",
            "gridcolor": "white",
            "gridwidth": 2,
            "linecolor": "white",
            "showbackground": true,
            "ticks": "",
            "zerolinecolor": "white"
           },
           "zaxis": {
            "backgroundcolor": "#E5ECF6",
            "gridcolor": "white",
            "gridwidth": 2,
            "linecolor": "white",
            "showbackground": true,
            "ticks": "",
            "zerolinecolor": "white"
           }
          },
          "shapedefaults": {
           "line": {
            "color": "#2a3f5f"
           }
          },
          "ternary": {
           "aaxis": {
            "gridcolor": "white",
            "linecolor": "white",
            "ticks": ""
           },
           "baxis": {
            "gridcolor": "white",
            "linecolor": "white",
            "ticks": ""
           },
           "bgcolor": "#E5ECF6",
           "caxis": {
            "gridcolor": "white",
            "linecolor": "white",
            "ticks": ""
           }
          },
          "title": {
           "x": 0.05
          },
          "xaxis": {
           "automargin": true,
           "gridcolor": "white",
           "linecolor": "white",
           "ticks": "",
           "title": {
            "standoff": 15
           },
           "zerolinecolor": "white",
           "zerolinewidth": 2
          },
          "yaxis": {
           "automargin": true,
           "gridcolor": "white",
           "linecolor": "white",
           "ticks": "",
           "title": {
            "standoff": 15
           },
           "zerolinecolor": "white",
           "zerolinewidth": 2
          }
         }
        },
        "xaxis": {
         "title": {
          "text": "x-tsne"
         }
        },
        "yaxis": {
         "title": {
          "text": "y-tsne"
         }
        }
       }
      },
      "text/html": [
       "<div>\n",
       "        \n",
       "        \n",
       "            <div id=\"32d1925a-da28-4aec-8c5f-f430d4ab39a7\" class=\"plotly-graph-div\" style=\"height:525px; width:100%;\"></div>\n",
       "            <script type=\"text/javascript\">\n",
       "                require([\"plotly\"], function(Plotly) {\n",
       "                    window.PLOTLYENV=window.PLOTLYENV || {};\n",
       "                    \n",
       "                if (document.getElementById(\"32d1925a-da28-4aec-8c5f-f430d4ab39a7\")) {\n",
       "                    Plotly.newPlot(\n",
       "                        '32d1925a-da28-4aec-8c5f-f430d4ab39a7',\n",
       "                        [{\"marker\": {\"color\": [-3.1830000000000003, -4.328, -4.757, -4.284, -6.8420000000000005, -5.043, -4.961, -8.374, -6.3660000000000005, -5.024, -4.432, -8.795, -4.215, -3.862, -4.868, -4.0680000000000005, -4.305, -4.915, -4.749, -4.035, -6.327000000000001, -6.864, -3.374, -5.599, -4.581, -5.94, -3.094, -3.299, -6.257999999999999, -11.377, -5.595, -4.0680000000000005, -3.105, -4.209, -4.502, -6.745, -11.462, -2.9210000000000003, -5.313, -4.323, -2.396, -9.433, -5.309, -5.002, -5.886, -3.297, -4.6610000000000005, -6.922999999999999, -10.401, -4.282, -5.535, -6.0539999999999985, -5.363, -5.445, -6.166, -6.678, -3.181, -5.698, -4.63, -3.37, -6.351, -6.2879999999999985, -3.093, -8.279, -3.515, -6.377999999999999, -5.126, -4.2, -3.073, -4.518, -5.882999999999999, -5.4289999999999985, -7.621, -5.092, -6.4060000000000015, -5.098, -7.8439999999999985, -4.093, -5.516, -5.35, -8.228, -4.761, -5.651, -7.226, -4.902], \"size\": 8}, \"mode\": \"markers\", \"text\": [\"Ed Sheeran - Shape of You\", \"Luis Fonsi - Despacito - Remix\", \"Luis Fonsi - Despacito (Featuring Daddy Yankee)\", \"DJ Khaled - I'm the One\", \"Kendrick Lamar - HUMBLE.\", \"French Montana - Unforgettable\", \"Bruno Mars - That's What I Like\", \"ZAYN - I Don\\u2019t Wanna Live Forever (Fifty Shades Darker) - From \\\"Fifty Shades Darker (Original Motion Picture Soundtrack)\\\"\", \"Lil Uzi Vert - XO TOUR Llif3\", \"Zedd - Stay (with Alessia Cara)\", \"Charlie Puth - Attention\", \"Future - Mask Off\", \"Post Malone - Congratulations\", \"Jason Derulo - Swalla (feat. Nicki Minaj & Ty Dolla $ign)\", \"Ed Sheeran - Castle on the Hill\", \"Clean Bandit - Rockabye (feat. Sean Paul & Anne-Marie)\", \"Imagine Dragons - Believer\", \"J Balvin - Mi Gente\", \"Imagine Dragons - Thunder\", \"Shawn Mendes - There's Nothing Holdin' Me Back\", \"Danny Ocean - Me Reh\\u00faso\", \"Julia Michaels - Issues\", \"Ed Sheeran - Galway Girl\", \"The Chainsmokers - Closer\", \"Clean Bandit - Symphony (feat. Zara Larsson)\", \"The Weeknd - I Feel It Coming\", \"DJ Khaled - Wild Thoughts\", \"Calvin Harris - Slide\", \"Dua Lipa - New Rules\", \"Drake - Passionfruit\", \"Liam Payne - Strip That Down\", \"Starley - Call On Me - Ryan Riback Extended Remix\", \"Calvin Harris - Feels\", \"Jonas Blue - Mama\", \"Maluma - Felices los 4\", \"KYLE - iSpy (feat. Lil Yachty)\", \"Khalid - Location\", \"Shakira - Chantaje\", \"Migos - Bad and Boujee (feat. Lil Uzi Vert)\", \"Camila Cabello - Havana\", \"Martin Jensen - Solo Dance\", \"Drake - Fake Love\", \"DJ Snake - Let Me Love You\", \"Axwell /\\\\ Ingrosso - More Than You Know\", \"Drake - One Dance\", \"Enrique Iglesias - SUBEME LA RADIO\", \"Maggie Lindemann - Pretty Girl - Cheat Codes X CADE Remix\", \"Demi Lovato - Sorry Not Sorry\", \"Childish Gambino - Redbone\", \"Bruno Mars - 24K Magic\", \"Nicky Jam - El Amante\", \"Jax Jones - You Don't Know Me - Radio Edit\", \"Katy Perry - Chained To The Rhythm\", \"Cheat Codes - No Promises (feat. Demi Lovato)\", \"Maroon 5 - Don't Wanna Know (feat. Kendrick Lamar)\", \"Niall Horan - Slow Hands\", \"Wisin - Esc\\u00e1pate Conmigo\", \"Big Sean - Bounce Back\", \"Harry Styles - Sign of the Times\", \"Travis Scott - goosebumps\", \"Khalid - Young Dumb & Broke\", \"Maroon 5 - Cold (feat. Future)\", \"Marshmello - Silence\", \"Sam Smith - Too Good At Goodbyes\", \"Steve Aoki - Just Hold On\", \"Taylor Swift - Look What You Made Me Do\", \"Macklemore - Glorious (feat. Skylar Grey)\", \"Hailee Steinfeld - Starving\", \"CNCO - Reggaet\\u00f3n Lento (Bailemos)\", \"AJR - Weak\", \"Ariana Grande - Side To Side\", \"Zion & Lennox - Otra Vez (feat. J Balvin)\", \"Lauv - I Like Me Better\", \"Major Lazer - Cold Water (feat. Justin Bieber & M\\u00d8)\", \"Miley Cyrus - Malibu\", \"The Vamps - All Night\", \"Alok - Hear Me Now\", \"Rita Ora - Your Song\", \"Chris Jeday - Ahora Dice\", \"Justin Bieber - Friends (with BloodPop\\u00ae)\", \"21 Savage - Bank Account\", \"Machine Gun Kelly - Bad Things (with Camila Cabello)\", \"The Chainsmokers - Don't Let Me Down\", \"Sam Hunt - Body Like A Back Road\", \"Halsey - Now Or Never\"], \"type\": \"scatter\", \"x\": [26.18242835998535, -11.078989028930664, 10.156364440917969, -2.050442934036255, 82.92092895507812, 4.996617317199707, -15.507196426391602, 42.61370849609375, 167.9052276611328, 90.39440155029297, -68.2193832397461, 0.7972409129142761, -39.99931716918945, -6.265964508056641, -38.20212173461914, -43.76323318481445, 9.631855964660645, -27.76827621459961, -2.5443625450134277, 3.594276189804077, 25.45925521850586, 426.2279357910156, -39.469505310058594, -108.01104736328125, -14.94864559173584, -7.367085933685303, -0.8306845426559448, -17.494720458984375, -14.870963096618652, 86.28694152832031, 14.15748405456543, 49.56407928466797, 51.30451202392578, 37.111900329589844, -1.5693422555923462, -0.32895034551620483, 22.126394271850586, -22.644197463989258, 45.44105911254883, 22.449220657348633, -78.5151596069336, 24.19264030456543, -39.155181884765625, 20.29554557800293, 78.14311218261719, 10.996759414672852, 10.882129669189453, -25.813175201416016, -21.859394073486328, 21.07554817199707, -46.57057189941406, 30.677400588989258, 68.03577423095703, 25.193206787109375, -26.365795135498047, 22.861190795898438, -12.194202423095703, 0.3887816071510315, -15.196028709411621, -7.793392658233643, 8.726288795471191, -12.316970825195312, -3.724264621734619, -91.70828247070312, 35.14482116699219, 8.012553215026855, 0.2612262964248657, -138.72454833984375, 165.95138549804688, -22.93034553527832, 54.025856018066406, -74.18319702148438, 35.725860595703125, -225.27650451660156, -38.77968978881836, -440.40509033203125, 23.478607177734375, 14.419357299804688, 76.55416870117188, 99.15657806396484, 31.688701629638672, -20.544334411621094, -48.92529296875, -6.433437824249268, -10.392752647399902], \"y\": [-79.81732177734375, 29.423267364501953, -71.35643005371094, 3.720541000366211, -47.18342208862305, 42.46297836303711, 5.255805492401123, 2.9194064140319824, -68.82063293457031, -61.447166442871094, -6.6194586753845215, -16.89404296875, -10.13634204864502, 43.70928955078125, 28.421781539916992, 44.77079391479492, -16.47439956665039, -16.072969436645508, -33.000240325927734, -8.641972541809082, -13.306377410888672, -144.85525512695312, -32.82571792602539, -79.57301330566406, -47.74448013305664, 29.017396926879883, -8.556280136108398, -21.001691818237305, -10.45953369140625, 10.971725463867188, -41.196067810058594, 6.17352294921875, -10.394867897033691, 28.69181251525879, -4.935578346252441, 10.646925926208496, 9.829119682312012, 53.64937210083008, 62.91264724731445, 11.19617748260498, -136.69371032714844, 55.643516540527344, -35.88359451293945, 37.197120666503906, -12.077333450317383, 37.79303741455078, -55.60466766357422, 4.44325065612793, 171.72813415527344, -42.651344299316406, 11.948344230651855, -28.403379440307617, 48.1249885559082, 6.226748943328857, 31.364469528198242, 1.6562329530715942, 115.67620849609375, 11.94748306274414, -20.612890243530273, -38.08735275268555, -12.41414737701416, 54.85850143432617, -33.35820388793945, 72.64157104492188, 30.078771591186523, -17.26951026916504, 7.399423122406006, -69.75215911865234, -222.18902587890625, 10.244831085205078, -13.06937313079834, 147.02423095703125, -48.465675354003906, 694.659423828125, 3.8483803272247314, 84.84602355957031, -35.96150207519531, 15.451385498046875, -303.5880126953125, -379.77520751953125, -7.801766872406006, -120.44629669189453, -13.269423484802246, 23.4366512298584, 0.18579363822937012]}],\n",
       "                        {\"template\": {\"data\": {\"bar\": [{\"error_x\": {\"color\": \"#2a3f5f\"}, \"error_y\": {\"color\": \"#2a3f5f\"}, \"marker\": {\"line\": {\"color\": \"#E5ECF6\", \"width\": 0.5}}, \"type\": \"bar\"}], \"barpolar\": [{\"marker\": {\"line\": {\"color\": \"#E5ECF6\", \"width\": 0.5}}, \"type\": \"barpolar\"}], \"carpet\": [{\"aaxis\": {\"endlinecolor\": \"#2a3f5f\", \"gridcolor\": \"white\", \"linecolor\": \"white\", \"minorgridcolor\": \"white\", \"startlinecolor\": \"#2a3f5f\"}, \"baxis\": {\"endlinecolor\": \"#2a3f5f\", \"gridcolor\": \"white\", \"linecolor\": \"white\", \"minorgridcolor\": \"white\", \"startlinecolor\": \"#2a3f5f\"}, \"type\": \"carpet\"}], \"choropleth\": [{\"colorbar\": {\"outlinewidth\": 0, \"ticks\": \"\"}, \"type\": \"choropleth\"}], \"contour\": [{\"colorbar\": {\"outlinewidth\": 0, \"ticks\": \"\"}, \"colorscale\": [[0.0, \"#0d0887\"], [0.1111111111111111, \"#46039f\"], [0.2222222222222222, \"#7201a8\"], [0.3333333333333333, \"#9c179e\"], [0.4444444444444444, \"#bd3786\"], [0.5555555555555556, \"#d8576b\"], [0.6666666666666666, \"#ed7953\"], [0.7777777777777778, \"#fb9f3a\"], [0.8888888888888888, \"#fdca26\"], [1.0, \"#f0f921\"]], \"type\": \"contour\"}], \"contourcarpet\": [{\"colorbar\": {\"outlinewidth\": 0, \"ticks\": \"\"}, \"type\": \"contourcarpet\"}], \"heatmap\": [{\"colorbar\": {\"outlinewidth\": 0, \"ticks\": \"\"}, \"colorscale\": [[0.0, \"#0d0887\"], [0.1111111111111111, \"#46039f\"], [0.2222222222222222, \"#7201a8\"], [0.3333333333333333, \"#9c179e\"], [0.4444444444444444, \"#bd3786\"], [0.5555555555555556, \"#d8576b\"], [0.6666666666666666, \"#ed7953\"], [0.7777777777777778, \"#fb9f3a\"], [0.8888888888888888, \"#fdca26\"], [1.0, \"#f0f921\"]], \"type\": \"heatmap\"}], \"heatmapgl\": [{\"colorbar\": {\"outlinewidth\": 0, \"ticks\": \"\"}, \"colorscale\": [[0.0, \"#0d0887\"], [0.1111111111111111, \"#46039f\"], [0.2222222222222222, \"#7201a8\"], [0.3333333333333333, \"#9c179e\"], [0.4444444444444444, \"#bd3786\"], [0.5555555555555556, \"#d8576b\"], [0.6666666666666666, \"#ed7953\"], [0.7777777777777778, \"#fb9f3a\"], [0.8888888888888888, \"#fdca26\"], [1.0, \"#f0f921\"]], \"type\": \"heatmapgl\"}], \"histogram\": [{\"marker\": {\"colorbar\": {\"outlinewidth\": 0, \"ticks\": \"\"}}, \"type\": \"histogram\"}], \"histogram2d\": [{\"colorbar\": {\"outlinewidth\": 0, \"ticks\": \"\"}, \"colorscale\": [[0.0, \"#0d0887\"], [0.1111111111111111, \"#46039f\"], [0.2222222222222222, \"#7201a8\"], [0.3333333333333333, \"#9c179e\"], [0.4444444444444444, \"#bd3786\"], [0.5555555555555556, \"#d8576b\"], [0.6666666666666666, \"#ed7953\"], [0.7777777777777778, \"#fb9f3a\"], [0.8888888888888888, \"#fdca26\"], [1.0, \"#f0f921\"]], \"type\": \"histogram2d\"}], \"histogram2dcontour\": [{\"colorbar\": {\"outlinewidth\": 0, \"ticks\": \"\"}, \"colorscale\": [[0.0, \"#0d0887\"], [0.1111111111111111, \"#46039f\"], [0.2222222222222222, \"#7201a8\"], [0.3333333333333333, \"#9c179e\"], [0.4444444444444444, \"#bd3786\"], [0.5555555555555556, \"#d8576b\"], [0.6666666666666666, \"#ed7953\"], [0.7777777777777778, \"#fb9f3a\"], [0.8888888888888888, \"#fdca26\"], [1.0, \"#f0f921\"]], \"type\": \"histogram2dcontour\"}], \"mesh3d\": [{\"colorbar\": {\"outlinewidth\": 0, \"ticks\": \"\"}, \"type\": \"mesh3d\"}], \"parcoords\": [{\"line\": {\"colorbar\": {\"outlinewidth\": 0, \"ticks\": \"\"}}, \"type\": \"parcoords\"}], \"pie\": [{\"automargin\": true, \"type\": \"pie\"}], \"scatter\": [{\"marker\": {\"colorbar\": {\"outlinewidth\": 0, \"ticks\": \"\"}}, \"type\": \"scatter\"}], \"scatter3d\": [{\"line\": {\"colorbar\": {\"outlinewidth\": 0, \"ticks\": \"\"}}, \"marker\": {\"colorbar\": {\"outlinewidth\": 0, \"ticks\": \"\"}}, \"type\": \"scatter3d\"}], \"scattercarpet\": [{\"marker\": {\"colorbar\": {\"outlinewidth\": 0, \"ticks\": \"\"}}, \"type\": \"scattercarpet\"}], \"scattergeo\": [{\"marker\": {\"colorbar\": {\"outlinewidth\": 0, \"ticks\": \"\"}}, \"type\": \"scattergeo\"}], \"scattergl\": [{\"marker\": {\"colorbar\": {\"outlinewidth\": 0, \"ticks\": \"\"}}, \"type\": \"scattergl\"}], \"scattermapbox\": [{\"marker\": {\"colorbar\": {\"outlinewidth\": 0, \"ticks\": \"\"}}, \"type\": \"scattermapbox\"}], \"scatterpolar\": [{\"marker\": {\"colorbar\": {\"outlinewidth\": 0, \"ticks\": \"\"}}, \"type\": \"scatterpolar\"}], \"scatterpolargl\": [{\"marker\": {\"colorbar\": {\"outlinewidth\": 0, \"ticks\": \"\"}}, \"type\": \"scatterpolargl\"}], \"scatterternary\": [{\"marker\": {\"colorbar\": {\"outlinewidth\": 0, \"ticks\": \"\"}}, \"type\": \"scatterternary\"}], \"surface\": [{\"colorbar\": {\"outlinewidth\": 0, \"ticks\": \"\"}, \"colorscale\": [[0.0, \"#0d0887\"], [0.1111111111111111, \"#46039f\"], [0.2222222222222222, \"#7201a8\"], [0.3333333333333333, \"#9c179e\"], [0.4444444444444444, \"#bd3786\"], [0.5555555555555556, \"#d8576b\"], [0.6666666666666666, \"#ed7953\"], [0.7777777777777778, \"#fb9f3a\"], [0.8888888888888888, \"#fdca26\"], [1.0, \"#f0f921\"]], \"type\": \"surface\"}], \"table\": [{\"cells\": {\"fill\": {\"color\": \"#EBF0F8\"}, \"line\": {\"color\": \"white\"}}, \"header\": {\"fill\": {\"color\": \"#C8D4E3\"}, \"line\": {\"color\": \"white\"}}, \"type\": \"table\"}]}, \"layout\": {\"annotationdefaults\": {\"arrowcolor\": \"#2a3f5f\", \"arrowhead\": 0, \"arrowwidth\": 1}, \"coloraxis\": {\"colorbar\": {\"outlinewidth\": 0, \"ticks\": \"\"}}, \"colorscale\": {\"diverging\": [[0, \"#8e0152\"], [0.1, \"#c51b7d\"], [0.2, \"#de77ae\"], [0.3, \"#f1b6da\"], [0.4, \"#fde0ef\"], [0.5, \"#f7f7f7\"], [0.6, \"#e6f5d0\"], [0.7, \"#b8e186\"], [0.8, \"#7fbc41\"], [0.9, \"#4d9221\"], [1, \"#276419\"]], \"sequential\": [[0.0, \"#0d0887\"], [0.1111111111111111, \"#46039f\"], [0.2222222222222222, \"#7201a8\"], [0.3333333333333333, \"#9c179e\"], [0.4444444444444444, \"#bd3786\"], [0.5555555555555556, \"#d8576b\"], [0.6666666666666666, \"#ed7953\"], [0.7777777777777778, \"#fb9f3a\"], [0.8888888888888888, \"#fdca26\"], [1.0, \"#f0f921\"]], \"sequentialminus\": [[0.0, \"#0d0887\"], [0.1111111111111111, \"#46039f\"], [0.2222222222222222, \"#7201a8\"], [0.3333333333333333, \"#9c179e\"], [0.4444444444444444, \"#bd3786\"], [0.5555555555555556, \"#d8576b\"], [0.6666666666666666, \"#ed7953\"], [0.7777777777777778, \"#fb9f3a\"], [0.8888888888888888, \"#fdca26\"], [1.0, \"#f0f921\"]]}, \"colorway\": [\"#636efa\", \"#EF553B\", \"#00cc96\", \"#ab63fa\", \"#FFA15A\", \"#19d3f3\", \"#FF6692\", \"#B6E880\", \"#FF97FF\", \"#FECB52\"], \"font\": {\"color\": \"#2a3f5f\"}, \"geo\": {\"bgcolor\": \"white\", \"lakecolor\": \"white\", \"landcolor\": \"#E5ECF6\", \"showlakes\": true, \"showland\": true, \"subunitcolor\": \"white\"}, \"hoverlabel\": {\"align\": \"left\"}, \"hovermode\": \"closest\", \"mapbox\": {\"style\": \"light\"}, \"paper_bgcolor\": \"white\", \"plot_bgcolor\": \"#E5ECF6\", \"polar\": {\"angularaxis\": {\"gridcolor\": \"white\", \"linecolor\": \"white\", \"ticks\": \"\"}, \"bgcolor\": \"#E5ECF6\", \"radialaxis\": {\"gridcolor\": \"white\", \"linecolor\": \"white\", \"ticks\": \"\"}}, \"scene\": {\"xaxis\": {\"backgroundcolor\": \"#E5ECF6\", \"gridcolor\": \"white\", \"gridwidth\": 2, \"linecolor\": \"white\", \"showbackground\": true, \"ticks\": \"\", \"zerolinecolor\": \"white\"}, \"yaxis\": {\"backgroundcolor\": \"#E5ECF6\", \"gridcolor\": \"white\", \"gridwidth\": 2, \"linecolor\": \"white\", \"showbackground\": true, \"ticks\": \"\", \"zerolinecolor\": \"white\"}, \"zaxis\": {\"backgroundcolor\": \"#E5ECF6\", \"gridcolor\": \"white\", \"gridwidth\": 2, \"linecolor\": \"white\", \"showbackground\": true, \"ticks\": \"\", \"zerolinecolor\": \"white\"}}, \"shapedefaults\": {\"line\": {\"color\": \"#2a3f5f\"}}, \"ternary\": {\"aaxis\": {\"gridcolor\": \"white\", \"linecolor\": \"white\", \"ticks\": \"\"}, \"baxis\": {\"gridcolor\": \"white\", \"linecolor\": \"white\", \"ticks\": \"\"}, \"bgcolor\": \"#E5ECF6\", \"caxis\": {\"gridcolor\": \"white\", \"linecolor\": \"white\", \"ticks\": \"\"}}, \"title\": {\"x\": 0.05}, \"xaxis\": {\"automargin\": true, \"gridcolor\": \"white\", \"linecolor\": \"white\", \"ticks\": \"\", \"title\": {\"standoff\": 15}, \"zerolinecolor\": \"white\", \"zerolinewidth\": 2}, \"yaxis\": {\"automargin\": true, \"gridcolor\": \"white\", \"linecolor\": \"white\", \"ticks\": \"\", \"title\": {\"standoff\": 15}, \"zerolinecolor\": \"white\", \"zerolinewidth\": 2}}}, \"xaxis\": {\"title\": {\"text\": \"x-tsne\"}}, \"yaxis\": {\"title\": {\"text\": \"y-tsne\"}}},\n",
       "                        {\"responsive\": true}\n",
       "                    ).then(function(){\n",
       "                            \n",
       "var gd = document.getElementById('32d1925a-da28-4aec-8c5f-f430d4ab39a7');\n",
       "var x = new MutationObserver(function (mutations, observer) {{\n",
       "        var display = window.getComputedStyle(gd).display;\n",
       "        if (!display || display === 'none') {{\n",
       "            console.log([gd, 'removed!']);\n",
       "            Plotly.purge(gd);\n",
       "            observer.disconnect();\n",
       "        }}\n",
       "}});\n",
       "\n",
       "// Listen for the removal of the full notebook cells\n",
       "var notebookContainer = gd.closest('#notebook-container');\n",
       "if (notebookContainer) {{\n",
       "    x.observe(notebookContainer, {childList: true});\n",
       "}}\n",
       "\n",
       "// Listen for the clearing of the current output cell\n",
       "var outputEl = gd.closest('.output');\n",
       "if (outputEl) {{\n",
       "    x.observe(outputEl, {childList: true});\n",
       "}}\n",
       "\n",
       "                        })\n",
       "                };\n",
       "                });\n",
       "            </script>\n",
       "        </div>"
      ]
     },
     "metadata": {},
     "output_type": "display_data"
    }
   ],
   "source": [
    "top_songs(df_new)"
   ]
  },
  {
   "cell_type": "markdown",
   "metadata": {},
   "source": [
    "HENCE:assumption 1 prooved "
   ]
  },
  {
   "cell_type": "code",
   "execution_count": 85,
   "metadata": {},
   "outputs": [],
   "source": [
    "def not_top_songs(dataframe):\n",
    "    df2 = dataframe[dataframe['popularity'] ==0 ]\n",
    "    return plot_pca_scaler(\"loudness\",df2)"
   ]
  },
  {
   "cell_type": "code",
   "execution_count": 86,
   "metadata": {},
   "outputs": [
    {
     "name": "stdout",
     "output_type": "stream",
     "text": [
      "t-SNE starting.................\n",
      "[t-SNE] Computing 14 nearest neighbors...\n",
      "[t-SNE] Indexed 15 samples in 0.000s...\n",
      "[t-SNE] Computed neighbors for 15 samples in 0.002s...\n",
      "[t-SNE] Computed conditional probabilities for sample 15 / 15\n",
      "[t-SNE] Mean sigma: 1125899906842624.000000\n",
      "[t-SNE] KL divergence after 250 iterations with early exaggeration: 73.171875\n",
      "[t-SNE] KL divergence after 300 iterations: 2.719544\n",
      "......................t-SNE done\n"
     ]
    },
    {
     "data": {
      "application/vnd.plotly.v1+json": {
       "config": {
        "linkText": "Export to plot.ly",
        "plotlyServerURL": "https://plot.ly",
        "showLink": false
       },
       "data": [
        {
         "marker": {
          "color": [
           -6.769,
           -6.596,
           -6.428,
           -7.398,
           -7.786,
           -7.028,
           -7.733,
           -6.5939999999999985,
           -5.827000000000001,
           -6.312,
           -6.763,
           -9.601,
           -7.607,
           -6.237,
           -6.593
          ],
          "size": 8
         },
         "mode": "markers",
         "text": [
          "The Chainsmokers - Something Just Like This",
          "Kygo - It Ain't Me (with Selena Gomez)",
          "The Chainsmokers - Paris",
          "James Arthur - Say You Won't Let Go",
          "Martin Garrix - Scared to Be Lonely",
          "The Weeknd - Starboy",
          "Logic - 1-800-273-8255",
          "Post Malone - rockstar",
          "David Guetta - 2U (feat. Justin Bieber)",
          "Ed Sheeran - Perfect",
          "Kendrick Lamar - DNA.",
          "Alessia Cara - How Far I'll Go - From \"Moana\"",
          "Martin Garrix - There for You",
          "Martin Garrix - In the Name of Love",
          "ZAYN - Dusk Till Dawn - Radio Edit"
         ],
         "type": "scatter",
         "x": [
          37.11083984375,
          -323.74127197265625,
          -67.41219329833984,
          101.42173767089844,
          30.717090606689453,
          -140.27786254882812,
          374.5632629394531,
          -80.11318969726562,
          -102.78132629394531,
          107.16130828857422,
          86.22138214111328,
          -164.40748596191406,
          157.22933959960938,
          -172.32595825195312,
          226.39266967773438
         ],
         "y": [
          10.351703643798828,
          -212.16278076171875,
          17.964033126831055,
          -63.87455749511719,
          705.0701904296875,
          14.80737018585205,
          -549.896484375,
          19.21356773376465,
          -192.76751708984375,
          10.14582633972168,
          -83.84477996826172,
          -111.03836822509766,
          -2.7041969299316406,
          301.9802551269531,
          -27.516056060791016
         ]
        }
       ],
       "layout": {
        "template": {
         "data": {
          "bar": [
           {
            "error_x": {
             "color": "#2a3f5f"
            },
            "error_y": {
             "color": "#2a3f5f"
            },
            "marker": {
             "line": {
              "color": "#E5ECF6",
              "width": 0.5
             }
            },
            "type": "bar"
           }
          ],
          "barpolar": [
           {
            "marker": {
             "line": {
              "color": "#E5ECF6",
              "width": 0.5
             }
            },
            "type": "barpolar"
           }
          ],
          "carpet": [
           {
            "aaxis": {
             "endlinecolor": "#2a3f5f",
             "gridcolor": "white",
             "linecolor": "white",
             "minorgridcolor": "white",
             "startlinecolor": "#2a3f5f"
            },
            "baxis": {
             "endlinecolor": "#2a3f5f",
             "gridcolor": "white",
             "linecolor": "white",
             "minorgridcolor": "white",
             "startlinecolor": "#2a3f5f"
            },
            "type": "carpet"
           }
          ],
          "choropleth": [
           {
            "colorbar": {
             "outlinewidth": 0,
             "ticks": ""
            },
            "type": "choropleth"
           }
          ],
          "contour": [
           {
            "colorbar": {
             "outlinewidth": 0,
             "ticks": ""
            },
            "colorscale": [
             [
              0,
              "#0d0887"
             ],
             [
              0.1111111111111111,
              "#46039f"
             ],
             [
              0.2222222222222222,
              "#7201a8"
             ],
             [
              0.3333333333333333,
              "#9c179e"
             ],
             [
              0.4444444444444444,
              "#bd3786"
             ],
             [
              0.5555555555555556,
              "#d8576b"
             ],
             [
              0.6666666666666666,
              "#ed7953"
             ],
             [
              0.7777777777777778,
              "#fb9f3a"
             ],
             [
              0.8888888888888888,
              "#fdca26"
             ],
             [
              1,
              "#f0f921"
             ]
            ],
            "type": "contour"
           }
          ],
          "contourcarpet": [
           {
            "colorbar": {
             "outlinewidth": 0,
             "ticks": ""
            },
            "type": "contourcarpet"
           }
          ],
          "heatmap": [
           {
            "colorbar": {
             "outlinewidth": 0,
             "ticks": ""
            },
            "colorscale": [
             [
              0,
              "#0d0887"
             ],
             [
              0.1111111111111111,
              "#46039f"
             ],
             [
              0.2222222222222222,
              "#7201a8"
             ],
             [
              0.3333333333333333,
              "#9c179e"
             ],
             [
              0.4444444444444444,
              "#bd3786"
             ],
             [
              0.5555555555555556,
              "#d8576b"
             ],
             [
              0.6666666666666666,
              "#ed7953"
             ],
             [
              0.7777777777777778,
              "#fb9f3a"
             ],
             [
              0.8888888888888888,
              "#fdca26"
             ],
             [
              1,
              "#f0f921"
             ]
            ],
            "type": "heatmap"
           }
          ],
          "heatmapgl": [
           {
            "colorbar": {
             "outlinewidth": 0,
             "ticks": ""
            },
            "colorscale": [
             [
              0,
              "#0d0887"
             ],
             [
              0.1111111111111111,
              "#46039f"
             ],
             [
              0.2222222222222222,
              "#7201a8"
             ],
             [
              0.3333333333333333,
              "#9c179e"
             ],
             [
              0.4444444444444444,
              "#bd3786"
             ],
             [
              0.5555555555555556,
              "#d8576b"
             ],
             [
              0.6666666666666666,
              "#ed7953"
             ],
             [
              0.7777777777777778,
              "#fb9f3a"
             ],
             [
              0.8888888888888888,
              "#fdca26"
             ],
             [
              1,
              "#f0f921"
             ]
            ],
            "type": "heatmapgl"
           }
          ],
          "histogram": [
           {
            "marker": {
             "colorbar": {
              "outlinewidth": 0,
              "ticks": ""
             }
            },
            "type": "histogram"
           }
          ],
          "histogram2d": [
           {
            "colorbar": {
             "outlinewidth": 0,
             "ticks": ""
            },
            "colorscale": [
             [
              0,
              "#0d0887"
             ],
             [
              0.1111111111111111,
              "#46039f"
             ],
             [
              0.2222222222222222,
              "#7201a8"
             ],
             [
              0.3333333333333333,
              "#9c179e"
             ],
             [
              0.4444444444444444,
              "#bd3786"
             ],
             [
              0.5555555555555556,
              "#d8576b"
             ],
             [
              0.6666666666666666,
              "#ed7953"
             ],
             [
              0.7777777777777778,
              "#fb9f3a"
             ],
             [
              0.8888888888888888,
              "#fdca26"
             ],
             [
              1,
              "#f0f921"
             ]
            ],
            "type": "histogram2d"
           }
          ],
          "histogram2dcontour": [
           {
            "colorbar": {
             "outlinewidth": 0,
             "ticks": ""
            },
            "colorscale": [
             [
              0,
              "#0d0887"
             ],
             [
              0.1111111111111111,
              "#46039f"
             ],
             [
              0.2222222222222222,
              "#7201a8"
             ],
             [
              0.3333333333333333,
              "#9c179e"
             ],
             [
              0.4444444444444444,
              "#bd3786"
             ],
             [
              0.5555555555555556,
              "#d8576b"
             ],
             [
              0.6666666666666666,
              "#ed7953"
             ],
             [
              0.7777777777777778,
              "#fb9f3a"
             ],
             [
              0.8888888888888888,
              "#fdca26"
             ],
             [
              1,
              "#f0f921"
             ]
            ],
            "type": "histogram2dcontour"
           }
          ],
          "mesh3d": [
           {
            "colorbar": {
             "outlinewidth": 0,
             "ticks": ""
            },
            "type": "mesh3d"
           }
          ],
          "parcoords": [
           {
            "line": {
             "colorbar": {
              "outlinewidth": 0,
              "ticks": ""
             }
            },
            "type": "parcoords"
           }
          ],
          "pie": [
           {
            "automargin": true,
            "type": "pie"
           }
          ],
          "scatter": [
           {
            "marker": {
             "colorbar": {
              "outlinewidth": 0,
              "ticks": ""
             }
            },
            "type": "scatter"
           }
          ],
          "scatter3d": [
           {
            "line": {
             "colorbar": {
              "outlinewidth": 0,
              "ticks": ""
             }
            },
            "marker": {
             "colorbar": {
              "outlinewidth": 0,
              "ticks": ""
             }
            },
            "type": "scatter3d"
           }
          ],
          "scattercarpet": [
           {
            "marker": {
             "colorbar": {
              "outlinewidth": 0,
              "ticks": ""
             }
            },
            "type": "scattercarpet"
           }
          ],
          "scattergeo": [
           {
            "marker": {
             "colorbar": {
              "outlinewidth": 0,
              "ticks": ""
             }
            },
            "type": "scattergeo"
           }
          ],
          "scattergl": [
           {
            "marker": {
             "colorbar": {
              "outlinewidth": 0,
              "ticks": ""
             }
            },
            "type": "scattergl"
           }
          ],
          "scattermapbox": [
           {
            "marker": {
             "colorbar": {
              "outlinewidth": 0,
              "ticks": ""
             }
            },
            "type": "scattermapbox"
           }
          ],
          "scatterpolar": [
           {
            "marker": {
             "colorbar": {
              "outlinewidth": 0,
              "ticks": ""
             }
            },
            "type": "scatterpolar"
           }
          ],
          "scatterpolargl": [
           {
            "marker": {
             "colorbar": {
              "outlinewidth": 0,
              "ticks": ""
             }
            },
            "type": "scatterpolargl"
           }
          ],
          "scatterternary": [
           {
            "marker": {
             "colorbar": {
              "outlinewidth": 0,
              "ticks": ""
             }
            },
            "type": "scatterternary"
           }
          ],
          "surface": [
           {
            "colorbar": {
             "outlinewidth": 0,
             "ticks": ""
            },
            "colorscale": [
             [
              0,
              "#0d0887"
             ],
             [
              0.1111111111111111,
              "#46039f"
             ],
             [
              0.2222222222222222,
              "#7201a8"
             ],
             [
              0.3333333333333333,
              "#9c179e"
             ],
             [
              0.4444444444444444,
              "#bd3786"
             ],
             [
              0.5555555555555556,
              "#d8576b"
             ],
             [
              0.6666666666666666,
              "#ed7953"
             ],
             [
              0.7777777777777778,
              "#fb9f3a"
             ],
             [
              0.8888888888888888,
              "#fdca26"
             ],
             [
              1,
              "#f0f921"
             ]
            ],
            "type": "surface"
           }
          ],
          "table": [
           {
            "cells": {
             "fill": {
              "color": "#EBF0F8"
             },
             "line": {
              "color": "white"
             }
            },
            "header": {
             "fill": {
              "color": "#C8D4E3"
             },
             "line": {
              "color": "white"
             }
            },
            "type": "table"
           }
          ]
         },
         "layout": {
          "annotationdefaults": {
           "arrowcolor": "#2a3f5f",
           "arrowhead": 0,
           "arrowwidth": 1
          },
          "coloraxis": {
           "colorbar": {
            "outlinewidth": 0,
            "ticks": ""
           }
          },
          "colorscale": {
           "diverging": [
            [
             0,
             "#8e0152"
            ],
            [
             0.1,
             "#c51b7d"
            ],
            [
             0.2,
             "#de77ae"
            ],
            [
             0.3,
             "#f1b6da"
            ],
            [
             0.4,
             "#fde0ef"
            ],
            [
             0.5,
             "#f7f7f7"
            ],
            [
             0.6,
             "#e6f5d0"
            ],
            [
             0.7,
             "#b8e186"
            ],
            [
             0.8,
             "#7fbc41"
            ],
            [
             0.9,
             "#4d9221"
            ],
            [
             1,
             "#276419"
            ]
           ],
           "sequential": [
            [
             0,
             "#0d0887"
            ],
            [
             0.1111111111111111,
             "#46039f"
            ],
            [
             0.2222222222222222,
             "#7201a8"
            ],
            [
             0.3333333333333333,
             "#9c179e"
            ],
            [
             0.4444444444444444,
             "#bd3786"
            ],
            [
             0.5555555555555556,
             "#d8576b"
            ],
            [
             0.6666666666666666,
             "#ed7953"
            ],
            [
             0.7777777777777778,
             "#fb9f3a"
            ],
            [
             0.8888888888888888,
             "#fdca26"
            ],
            [
             1,
             "#f0f921"
            ]
           ],
           "sequentialminus": [
            [
             0,
             "#0d0887"
            ],
            [
             0.1111111111111111,
             "#46039f"
            ],
            [
             0.2222222222222222,
             "#7201a8"
            ],
            [
             0.3333333333333333,
             "#9c179e"
            ],
            [
             0.4444444444444444,
             "#bd3786"
            ],
            [
             0.5555555555555556,
             "#d8576b"
            ],
            [
             0.6666666666666666,
             "#ed7953"
            ],
            [
             0.7777777777777778,
             "#fb9f3a"
            ],
            [
             0.8888888888888888,
             "#fdca26"
            ],
            [
             1,
             "#f0f921"
            ]
           ]
          },
          "colorway": [
           "#636efa",
           "#EF553B",
           "#00cc96",
           "#ab63fa",
           "#FFA15A",
           "#19d3f3",
           "#FF6692",
           "#B6E880",
           "#FF97FF",
           "#FECB52"
          ],
          "font": {
           "color": "#2a3f5f"
          },
          "geo": {
           "bgcolor": "white",
           "lakecolor": "white",
           "landcolor": "#E5ECF6",
           "showlakes": true,
           "showland": true,
           "subunitcolor": "white"
          },
          "hoverlabel": {
           "align": "left"
          },
          "hovermode": "closest",
          "mapbox": {
           "style": "light"
          },
          "paper_bgcolor": "white",
          "plot_bgcolor": "#E5ECF6",
          "polar": {
           "angularaxis": {
            "gridcolor": "white",
            "linecolor": "white",
            "ticks": ""
           },
           "bgcolor": "#E5ECF6",
           "radialaxis": {
            "gridcolor": "white",
            "linecolor": "white",
            "ticks": ""
           }
          },
          "scene": {
           "xaxis": {
            "backgroundcolor": "#E5ECF6",
            "gridcolor": "white",
            "gridwidth": 2,
            "linecolor": "white",
            "showbackground": true,
            "ticks": "",
            "zerolinecolor": "white"
           },
           "yaxis": {
            "backgroundcolor": "#E5ECF6",
            "gridcolor": "white",
            "gridwidth": 2,
            "linecolor": "white",
            "showbackground": true,
            "ticks": "",
            "zerolinecolor": "white"
           },
           "zaxis": {
            "backgroundcolor": "#E5ECF6",
            "gridcolor": "white",
            "gridwidth": 2,
            "linecolor": "white",
            "showbackground": true,
            "ticks": "",
            "zerolinecolor": "white"
           }
          },
          "shapedefaults": {
           "line": {
            "color": "#2a3f5f"
           }
          },
          "ternary": {
           "aaxis": {
            "gridcolor": "white",
            "linecolor": "white",
            "ticks": ""
           },
           "baxis": {
            "gridcolor": "white",
            "linecolor": "white",
            "ticks": ""
           },
           "bgcolor": "#E5ECF6",
           "caxis": {
            "gridcolor": "white",
            "linecolor": "white",
            "ticks": ""
           }
          },
          "title": {
           "x": 0.05
          },
          "xaxis": {
           "automargin": true,
           "gridcolor": "white",
           "linecolor": "white",
           "ticks": "",
           "title": {
            "standoff": 15
           },
           "zerolinecolor": "white",
           "zerolinewidth": 2
          },
          "yaxis": {
           "automargin": true,
           "gridcolor": "white",
           "linecolor": "white",
           "ticks": "",
           "title": {
            "standoff": 15
           },
           "zerolinecolor": "white",
           "zerolinewidth": 2
          }
         }
        },
        "xaxis": {
         "title": {
          "text": "x-tsne"
         }
        },
        "yaxis": {
         "title": {
          "text": "y-tsne"
         }
        }
       }
      },
      "text/html": [
       "<div>\n",
       "        \n",
       "        \n",
       "            <div id=\"c958b3af-134d-4029-be83-86b5734df8e5\" class=\"plotly-graph-div\" style=\"height:525px; width:100%;\"></div>\n",
       "            <script type=\"text/javascript\">\n",
       "                require([\"plotly\"], function(Plotly) {\n",
       "                    window.PLOTLYENV=window.PLOTLYENV || {};\n",
       "                    \n",
       "                if (document.getElementById(\"c958b3af-134d-4029-be83-86b5734df8e5\")) {\n",
       "                    Plotly.newPlot(\n",
       "                        'c958b3af-134d-4029-be83-86b5734df8e5',\n",
       "                        [{\"marker\": {\"color\": [-6.769, -6.596, -6.428, -7.398, -7.786, -7.028, -7.733, -6.5939999999999985, -5.827000000000001, -6.312, -6.763, -9.601, -7.607, -6.237, -6.593], \"size\": 8}, \"mode\": \"markers\", \"text\": [\"The Chainsmokers - Something Just Like This\", \"Kygo - It Ain't Me (with Selena Gomez)\", \"The Chainsmokers - Paris\", \"James Arthur - Say You Won't Let Go\", \"Martin Garrix - Scared to Be Lonely\", \"The Weeknd - Starboy\", \"Logic - 1-800-273-8255\", \"Post Malone - rockstar\", \"David Guetta - 2U (feat. Justin Bieber)\", \"Ed Sheeran - Perfect\", \"Kendrick Lamar - DNA.\", \"Alessia Cara - How Far I'll Go - From \\\"Moana\\\"\", \"Martin Garrix - There for You\", \"Martin Garrix - In the Name of Love\", \"ZAYN - Dusk Till Dawn - Radio Edit\"], \"type\": \"scatter\", \"x\": [37.11083984375, -323.74127197265625, -67.41219329833984, 101.42173767089844, 30.717090606689453, -140.27786254882812, 374.5632629394531, -80.11318969726562, -102.78132629394531, 107.16130828857422, 86.22138214111328, -164.40748596191406, 157.22933959960938, -172.32595825195312, 226.39266967773438], \"y\": [10.351703643798828, -212.16278076171875, 17.964033126831055, -63.87455749511719, 705.0701904296875, 14.80737018585205, -549.896484375, 19.21356773376465, -192.76751708984375, 10.14582633972168, -83.84477996826172, -111.03836822509766, -2.7041969299316406, 301.9802551269531, -27.516056060791016]}],\n",
       "                        {\"template\": {\"data\": {\"bar\": [{\"error_x\": {\"color\": \"#2a3f5f\"}, \"error_y\": {\"color\": \"#2a3f5f\"}, \"marker\": {\"line\": {\"color\": \"#E5ECF6\", \"width\": 0.5}}, \"type\": \"bar\"}], \"barpolar\": [{\"marker\": {\"line\": {\"color\": \"#E5ECF6\", \"width\": 0.5}}, \"type\": \"barpolar\"}], \"carpet\": [{\"aaxis\": {\"endlinecolor\": \"#2a3f5f\", \"gridcolor\": \"white\", \"linecolor\": \"white\", \"minorgridcolor\": \"white\", \"startlinecolor\": \"#2a3f5f\"}, \"baxis\": {\"endlinecolor\": \"#2a3f5f\", \"gridcolor\": \"white\", \"linecolor\": \"white\", \"minorgridcolor\": \"white\", \"startlinecolor\": \"#2a3f5f\"}, \"type\": \"carpet\"}], \"choropleth\": [{\"colorbar\": {\"outlinewidth\": 0, \"ticks\": \"\"}, \"type\": \"choropleth\"}], \"contour\": [{\"colorbar\": {\"outlinewidth\": 0, \"ticks\": \"\"}, \"colorscale\": [[0.0, \"#0d0887\"], [0.1111111111111111, \"#46039f\"], [0.2222222222222222, \"#7201a8\"], [0.3333333333333333, \"#9c179e\"], [0.4444444444444444, \"#bd3786\"], [0.5555555555555556, \"#d8576b\"], [0.6666666666666666, \"#ed7953\"], [0.7777777777777778, \"#fb9f3a\"], [0.8888888888888888, \"#fdca26\"], [1.0, \"#f0f921\"]], \"type\": \"contour\"}], \"contourcarpet\": [{\"colorbar\": {\"outlinewidth\": 0, \"ticks\": \"\"}, \"type\": \"contourcarpet\"}], \"heatmap\": [{\"colorbar\": {\"outlinewidth\": 0, \"ticks\": \"\"}, \"colorscale\": [[0.0, \"#0d0887\"], [0.1111111111111111, \"#46039f\"], [0.2222222222222222, \"#7201a8\"], [0.3333333333333333, \"#9c179e\"], [0.4444444444444444, \"#bd3786\"], [0.5555555555555556, \"#d8576b\"], [0.6666666666666666, \"#ed7953\"], [0.7777777777777778, \"#fb9f3a\"], [0.8888888888888888, \"#fdca26\"], [1.0, \"#f0f921\"]], \"type\": \"heatmap\"}], \"heatmapgl\": [{\"colorbar\": {\"outlinewidth\": 0, \"ticks\": \"\"}, \"colorscale\": [[0.0, \"#0d0887\"], [0.1111111111111111, \"#46039f\"], [0.2222222222222222, \"#7201a8\"], [0.3333333333333333, \"#9c179e\"], [0.4444444444444444, \"#bd3786\"], [0.5555555555555556, \"#d8576b\"], [0.6666666666666666, \"#ed7953\"], [0.7777777777777778, \"#fb9f3a\"], [0.8888888888888888, \"#fdca26\"], [1.0, \"#f0f921\"]], \"type\": \"heatmapgl\"}], \"histogram\": [{\"marker\": {\"colorbar\": {\"outlinewidth\": 0, \"ticks\": \"\"}}, \"type\": \"histogram\"}], \"histogram2d\": [{\"colorbar\": {\"outlinewidth\": 0, \"ticks\": \"\"}, \"colorscale\": [[0.0, \"#0d0887\"], [0.1111111111111111, \"#46039f\"], [0.2222222222222222, \"#7201a8\"], [0.3333333333333333, \"#9c179e\"], [0.4444444444444444, \"#bd3786\"], [0.5555555555555556, \"#d8576b\"], [0.6666666666666666, \"#ed7953\"], [0.7777777777777778, \"#fb9f3a\"], [0.8888888888888888, \"#fdca26\"], [1.0, \"#f0f921\"]], \"type\": \"histogram2d\"}], \"histogram2dcontour\": [{\"colorbar\": {\"outlinewidth\": 0, \"ticks\": \"\"}, \"colorscale\": [[0.0, \"#0d0887\"], [0.1111111111111111, \"#46039f\"], [0.2222222222222222, \"#7201a8\"], [0.3333333333333333, \"#9c179e\"], [0.4444444444444444, \"#bd3786\"], [0.5555555555555556, \"#d8576b\"], [0.6666666666666666, \"#ed7953\"], [0.7777777777777778, \"#fb9f3a\"], [0.8888888888888888, \"#fdca26\"], [1.0, \"#f0f921\"]], \"type\": \"histogram2dcontour\"}], \"mesh3d\": [{\"colorbar\": {\"outlinewidth\": 0, \"ticks\": \"\"}, \"type\": \"mesh3d\"}], \"parcoords\": [{\"line\": {\"colorbar\": {\"outlinewidth\": 0, \"ticks\": \"\"}}, \"type\": \"parcoords\"}], \"pie\": [{\"automargin\": true, \"type\": \"pie\"}], \"scatter\": [{\"marker\": {\"colorbar\": {\"outlinewidth\": 0, \"ticks\": \"\"}}, \"type\": \"scatter\"}], \"scatter3d\": [{\"line\": {\"colorbar\": {\"outlinewidth\": 0, \"ticks\": \"\"}}, \"marker\": {\"colorbar\": {\"outlinewidth\": 0, \"ticks\": \"\"}}, \"type\": \"scatter3d\"}], \"scattercarpet\": [{\"marker\": {\"colorbar\": {\"outlinewidth\": 0, \"ticks\": \"\"}}, \"type\": \"scattercarpet\"}], \"scattergeo\": [{\"marker\": {\"colorbar\": {\"outlinewidth\": 0, \"ticks\": \"\"}}, \"type\": \"scattergeo\"}], \"scattergl\": [{\"marker\": {\"colorbar\": {\"outlinewidth\": 0, \"ticks\": \"\"}}, \"type\": \"scattergl\"}], \"scattermapbox\": [{\"marker\": {\"colorbar\": {\"outlinewidth\": 0, \"ticks\": \"\"}}, \"type\": \"scattermapbox\"}], \"scatterpolar\": [{\"marker\": {\"colorbar\": {\"outlinewidth\": 0, \"ticks\": \"\"}}, \"type\": \"scatterpolar\"}], \"scatterpolargl\": [{\"marker\": {\"colorbar\": {\"outlinewidth\": 0, \"ticks\": \"\"}}, \"type\": \"scatterpolargl\"}], \"scatterternary\": [{\"marker\": {\"colorbar\": {\"outlinewidth\": 0, \"ticks\": \"\"}}, \"type\": \"scatterternary\"}], \"surface\": [{\"colorbar\": {\"outlinewidth\": 0, \"ticks\": \"\"}, \"colorscale\": [[0.0, \"#0d0887\"], [0.1111111111111111, \"#46039f\"], [0.2222222222222222, \"#7201a8\"], [0.3333333333333333, \"#9c179e\"], [0.4444444444444444, \"#bd3786\"], [0.5555555555555556, \"#d8576b\"], [0.6666666666666666, \"#ed7953\"], [0.7777777777777778, \"#fb9f3a\"], [0.8888888888888888, \"#fdca26\"], [1.0, \"#f0f921\"]], \"type\": \"surface\"}], \"table\": [{\"cells\": {\"fill\": {\"color\": \"#EBF0F8\"}, \"line\": {\"color\": \"white\"}}, \"header\": {\"fill\": {\"color\": \"#C8D4E3\"}, \"line\": {\"color\": \"white\"}}, \"type\": \"table\"}]}, \"layout\": {\"annotationdefaults\": {\"arrowcolor\": \"#2a3f5f\", \"arrowhead\": 0, \"arrowwidth\": 1}, \"coloraxis\": {\"colorbar\": {\"outlinewidth\": 0, \"ticks\": \"\"}}, \"colorscale\": {\"diverging\": [[0, \"#8e0152\"], [0.1, \"#c51b7d\"], [0.2, \"#de77ae\"], [0.3, \"#f1b6da\"], [0.4, \"#fde0ef\"], [0.5, \"#f7f7f7\"], [0.6, \"#e6f5d0\"], [0.7, \"#b8e186\"], [0.8, \"#7fbc41\"], [0.9, \"#4d9221\"], [1, \"#276419\"]], \"sequential\": [[0.0, \"#0d0887\"], [0.1111111111111111, \"#46039f\"], [0.2222222222222222, \"#7201a8\"], [0.3333333333333333, \"#9c179e\"], [0.4444444444444444, \"#bd3786\"], [0.5555555555555556, \"#d8576b\"], [0.6666666666666666, \"#ed7953\"], [0.7777777777777778, \"#fb9f3a\"], [0.8888888888888888, \"#fdca26\"], [1.0, \"#f0f921\"]], \"sequentialminus\": [[0.0, \"#0d0887\"], [0.1111111111111111, \"#46039f\"], [0.2222222222222222, \"#7201a8\"], [0.3333333333333333, \"#9c179e\"], [0.4444444444444444, \"#bd3786\"], [0.5555555555555556, \"#d8576b\"], [0.6666666666666666, \"#ed7953\"], [0.7777777777777778, \"#fb9f3a\"], [0.8888888888888888, \"#fdca26\"], [1.0, \"#f0f921\"]]}, \"colorway\": [\"#636efa\", \"#EF553B\", \"#00cc96\", \"#ab63fa\", \"#FFA15A\", \"#19d3f3\", \"#FF6692\", \"#B6E880\", \"#FF97FF\", \"#FECB52\"], \"font\": {\"color\": \"#2a3f5f\"}, \"geo\": {\"bgcolor\": \"white\", \"lakecolor\": \"white\", \"landcolor\": \"#E5ECF6\", \"showlakes\": true, \"showland\": true, \"subunitcolor\": \"white\"}, \"hoverlabel\": {\"align\": \"left\"}, \"hovermode\": \"closest\", \"mapbox\": {\"style\": \"light\"}, \"paper_bgcolor\": \"white\", \"plot_bgcolor\": \"#E5ECF6\", \"polar\": {\"angularaxis\": {\"gridcolor\": \"white\", \"linecolor\": \"white\", \"ticks\": \"\"}, \"bgcolor\": \"#E5ECF6\", \"radialaxis\": {\"gridcolor\": \"white\", \"linecolor\": \"white\", \"ticks\": \"\"}}, \"scene\": {\"xaxis\": {\"backgroundcolor\": \"#E5ECF6\", \"gridcolor\": \"white\", \"gridwidth\": 2, \"linecolor\": \"white\", \"showbackground\": true, \"ticks\": \"\", \"zerolinecolor\": \"white\"}, \"yaxis\": {\"backgroundcolor\": \"#E5ECF6\", \"gridcolor\": \"white\", \"gridwidth\": 2, \"linecolor\": \"white\", \"showbackground\": true, \"ticks\": \"\", \"zerolinecolor\": \"white\"}, \"zaxis\": {\"backgroundcolor\": \"#E5ECF6\", \"gridcolor\": \"white\", \"gridwidth\": 2, \"linecolor\": \"white\", \"showbackground\": true, \"ticks\": \"\", \"zerolinecolor\": \"white\"}}, \"shapedefaults\": {\"line\": {\"color\": \"#2a3f5f\"}}, \"ternary\": {\"aaxis\": {\"gridcolor\": \"white\", \"linecolor\": \"white\", \"ticks\": \"\"}, \"baxis\": {\"gridcolor\": \"white\", \"linecolor\": \"white\", \"ticks\": \"\"}, \"bgcolor\": \"#E5ECF6\", \"caxis\": {\"gridcolor\": \"white\", \"linecolor\": \"white\", \"ticks\": \"\"}}, \"title\": {\"x\": 0.05}, \"xaxis\": {\"automargin\": true, \"gridcolor\": \"white\", \"linecolor\": \"white\", \"ticks\": \"\", \"title\": {\"standoff\": 15}, \"zerolinecolor\": \"white\", \"zerolinewidth\": 2}, \"yaxis\": {\"automargin\": true, \"gridcolor\": \"white\", \"linecolor\": \"white\", \"ticks\": \"\", \"title\": {\"standoff\": 15}, \"zerolinecolor\": \"white\", \"zerolinewidth\": 2}}}, \"xaxis\": {\"title\": {\"text\": \"x-tsne\"}}, \"yaxis\": {\"title\": {\"text\": \"y-tsne\"}}},\n",
       "                        {\"responsive\": true}\n",
       "                    ).then(function(){\n",
       "                            \n",
       "var gd = document.getElementById('c958b3af-134d-4029-be83-86b5734df8e5');\n",
       "var x = new MutationObserver(function (mutations, observer) {{\n",
       "        var display = window.getComputedStyle(gd).display;\n",
       "        if (!display || display === 'none') {{\n",
       "            console.log([gd, 'removed!']);\n",
       "            Plotly.purge(gd);\n",
       "            observer.disconnect();\n",
       "        }}\n",
       "}});\n",
       "\n",
       "// Listen for the removal of the full notebook cells\n",
       "var notebookContainer = gd.closest('#notebook-container');\n",
       "if (notebookContainer) {{\n",
       "    x.observe(notebookContainer, {childList: true});\n",
       "}}\n",
       "\n",
       "// Listen for the clearing of the current output cell\n",
       "var outputEl = gd.closest('.output');\n",
       "if (outputEl) {{\n",
       "    x.observe(outputEl, {childList: true});\n",
       "}}\n",
       "\n",
       "                        })\n",
       "                };\n",
       "                });\n",
       "            </script>\n",
       "        </div>"
      ]
     },
     "metadata": {},
     "output_type": "display_data"
    }
   ],
   "source": [
    "not_top_songs(df_new)"
   ]
  },
  {
   "cell_type": "markdown",
   "metadata": {},
   "source": [
    "HENCE:assumption 2 also prooved "
   ]
  }
 ],
 "metadata": {
  "kernelspec": {
   "display_name": "Python 3",
   "language": "python",
   "name": "python3"
  },
  "language_info": {
   "codemirror_mode": {
    "name": "ipython",
    "version": 3
   },
   "file_extension": ".py",
   "mimetype": "text/x-python",
   "name": "python",
   "nbconvert_exporter": "python",
   "pygments_lexer": "ipython3",
   "version": "3.7.4"
  },
  "toc": {
   "base_numbering": 1,
   "nav_menu": {},
   "number_sections": true,
   "sideBar": true,
   "skip_h1_title": false,
   "title_cell": "Table of Contents",
   "title_sidebar": "Contents",
   "toc_cell": false,
   "toc_position": {
    "height": "calc(100% - 180px)",
    "left": "10px",
    "top": "150px",
    "width": "322.2px"
   },
   "toc_section_display": true,
   "toc_window_display": true
  },
  "varInspector": {
   "cols": {
    "lenName": 16,
    "lenType": 16,
    "lenVar": 40
   },
   "kernels_config": {
    "python": {
     "delete_cmd_postfix": "",
     "delete_cmd_prefix": "del ",
     "library": "var_list.py",
     "varRefreshCmd": "print(var_dic_list())"
    },
    "r": {
     "delete_cmd_postfix": ") ",
     "delete_cmd_prefix": "rm(",
     "library": "var_list.r",
     "varRefreshCmd": "cat(var_dic_list()) "
    }
   },
   "types_to_exclude": [
    "module",
    "function",
    "builtin_function_or_method",
    "instance",
    "_Feature"
   ],
   "window_display": false
  }
 },
 "nbformat": 4,
 "nbformat_minor": 2
}
