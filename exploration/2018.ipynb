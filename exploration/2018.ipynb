{
 "cells": [
  {
   "cell_type": "code",
   "execution_count": 1,
   "metadata": {},
   "outputs": [
    {
     "data": {
      "text/html": [
       "        <script type=\"text/javascript\">\n",
       "        window.PlotlyConfig = {MathJaxConfig: 'local'};\n",
       "        if (window.MathJax) {MathJax.Hub.Config({SVG: {font: \"STIX-Web\"}});}\n",
       "        if (typeof require !== 'undefined') {\n",
       "        require.undef(\"plotly\");\n",
       "        requirejs.config({\n",
       "            paths: {\n",
       "                'plotly': ['https://cdn.plot.ly/plotly-latest.min']\n",
       "            }\n",
       "        });\n",
       "        require(['plotly'], function(Plotly) {\n",
       "            window._Plotly = Plotly;\n",
       "        });\n",
       "        }\n",
       "        </script>\n",
       "        "
      ]
     },
     "metadata": {},
     "output_type": "display_data"
    }
   ],
   "source": [
    "import pandas as pd\n",
    "import numpy as np\n",
    "import seaborn as sns\n",
    "from matplotlib import pyplot as plt\n",
    "%matplotlib inline\n",
    "from textblob import TextBlob\n",
    "from sklearn.model_selection import train_test_split\n",
    "\n",
    "from xgboost import XGBClassifier\n",
    "from sklearn.ensemble import RandomForestClassifier\n",
    "from xgboost import plot_importance\n",
    "from sklearn.preprocessing import MinMaxScaler\n",
    "from sklearn.decomposition import PCA\n",
    "\n",
    "import plotly.offline as py\n",
    "py.init_notebook_mode(connected=True)\n",
    "import plotly.graph_objs as go\n",
    "import plotly.tools as tls\n"
   ]
  },
  {
   "cell_type": "code",
   "execution_count": 2,
   "metadata": {},
   "outputs": [],
   "source": [
    "df_2017=pd.read_csv('./Data/datasets_top50-2017.csv')\n",
    "df_2018=pd.read_csv('./Data/datasets_top50-2018.csv')\n",
    "df_2019=pd.read_csv('./Data/datasets_top50-2019.csv',encoding='latin-1')\n"
   ]
  },
  {
   "cell_type": "code",
   "execution_count": 3,
   "metadata": {},
   "outputs": [],
   "source": [
    "def data_properties(year):\n",
    "    print(\"properties for year are as follows :\\n\")\n",
    "    print(\"column details:\\n\")\n",
    "    print(year.columns)\n",
    "    print(\"shape:\\n\")\n",
    "    print(year.shape)\n",
    "    print(\"info about dataset:\\n\")\n",
    "    print(year.info())\n",
    "    print(\"\\n\")\n"
   ]
  },
  {
   "cell_type": "code",
   "execution_count": 4,
   "metadata": {},
   "outputs": [
    {
     "name": "stdout",
     "output_type": "stream",
     "text": [
      "properties for year are as follows :\n",
      "\n",
      "column details:\n",
      "\n",
      "Index(['id', 'name', 'artists', 'danceability', 'energy', 'key', 'loudness',\n",
      "       'mode', 'speechiness', 'acousticness', 'instrumentalness', 'liveness',\n",
      "       'valence', 'tempo', 'duration_ms', 'time_signature'],\n",
      "      dtype='object')\n",
      "shape:\n",
      "\n",
      "(100, 16)\n",
      "info about dataset:\n",
      "\n",
      "<class 'pandas.core.frame.DataFrame'>\n",
      "RangeIndex: 100 entries, 0 to 99\n",
      "Data columns (total 16 columns):\n",
      "id                  100 non-null object\n",
      "name                100 non-null object\n",
      "artists             100 non-null object\n",
      "danceability        100 non-null float64\n",
      "energy              100 non-null float64\n",
      "key                 100 non-null float64\n",
      "loudness            100 non-null float64\n",
      "mode                100 non-null float64\n",
      "speechiness         100 non-null float64\n",
      "acousticness        100 non-null float64\n",
      "instrumentalness    100 non-null float64\n",
      "liveness            100 non-null float64\n",
      "valence             100 non-null float64\n",
      "tempo               100 non-null float64\n",
      "duration_ms         100 non-null float64\n",
      "time_signature      100 non-null float64\n",
      "dtypes: float64(13), object(3)\n",
      "memory usage: 12.6+ KB\n",
      "None\n",
      "\n",
      "\n",
      "properties for year are as follows :\n",
      "\n",
      "column details:\n",
      "\n",
      "Index(['Unnamed: 0', 'Track.Name', 'Artist.Name', 'Genre', 'Beats.Per.Minute',\n",
      "       'Energy', 'Danceability', 'Loudness..dB..', 'Liveness', 'Valence.',\n",
      "       'Length.', 'Acousticness..', 'Speechiness.', 'Popularity'],\n",
      "      dtype='object')\n",
      "shape:\n",
      "\n",
      "(50, 14)\n",
      "info about dataset:\n",
      "\n",
      "<class 'pandas.core.frame.DataFrame'>\n",
      "RangeIndex: 50 entries, 0 to 49\n",
      "Data columns (total 14 columns):\n",
      "Unnamed: 0          50 non-null int64\n",
      "Track.Name          50 non-null object\n",
      "Artist.Name         50 non-null object\n",
      "Genre               50 non-null object\n",
      "Beats.Per.Minute    50 non-null int64\n",
      "Energy              50 non-null int64\n",
      "Danceability        50 non-null int64\n",
      "Loudness..dB..      50 non-null int64\n",
      "Liveness            50 non-null int64\n",
      "Valence.            50 non-null int64\n",
      "Length.             50 non-null int64\n",
      "Acousticness..      50 non-null int64\n",
      "Speechiness.        50 non-null int64\n",
      "Popularity          50 non-null int64\n",
      "dtypes: int64(11), object(3)\n",
      "memory usage: 5.5+ KB\n",
      "None\n",
      "\n",
      "\n"
     ]
    }
   ],
   "source": [
    "data_properties(df_2017)\n",
    "#data_properties(df_2018)\n",
    "data_properties(df_2019)"
   ]
  },
  {
   "cell_type": "markdown",
   "metadata": {},
   "source": [
    "### as we can see2019 data is kind of different so we need to change the columsn name aililar to 2017 and 2018 data .... \n",
    "### will do it later"
   ]
  },
  {
   "cell_type": "code",
   "execution_count": 5,
   "metadata": {},
   "outputs": [],
   "source": [
    "def checkfornull(year):\n",
    "    print(\"cheking for null values......\")\n",
    "    print(year.columns[year.isnull().any()])\n",
    "    output=year.isnull().sum()\n",
    "    return output "
   ]
  },
  {
   "cell_type": "code",
   "execution_count": 6,
   "metadata": {},
   "outputs": [
    {
     "name": "stdout",
     "output_type": "stream",
     "text": [
      "cheking for null values......\n",
      "Index([], dtype='object')\n"
     ]
    },
    {
     "data": {
      "text/plain": [
       "id                  0\n",
       "name                0\n",
       "artists             0\n",
       "danceability        0\n",
       "energy              0\n",
       "key                 0\n",
       "loudness            0\n",
       "mode                0\n",
       "speechiness         0\n",
       "acousticness        0\n",
       "instrumentalness    0\n",
       "liveness            0\n",
       "valence             0\n",
       "tempo               0\n",
       "duration_ms         0\n",
       "time_signature      0\n",
       "dtype: int64"
      ]
     },
     "execution_count": 6,
     "metadata": {},
     "output_type": "execute_result"
    }
   ],
   "source": [
    "checkfornull(df_2018)"
   ]
  },
  {
   "cell_type": "code",
   "execution_count": 7,
   "metadata": {},
   "outputs": [],
   "source": [
    "# in the data we obsrve that all the data is not in float .So , in order to maintain a symetry,we will \n",
    "# convert the non float data to float data type\n",
    "\n",
    "def float_conversion(column,value):\n",
    "    column= pd.to_numeric(value, downcast=\"float\")\n",
    "    return column\n"
   ]
  },
  {
   "cell_type": "code",
   "execution_count": 8,
   "metadata": {},
   "outputs": [
    {
     "data": {
      "text/html": [
       "<div>\n",
       "<style scoped>\n",
       "    .dataframe tbody tr th:only-of-type {\n",
       "        vertical-align: middle;\n",
       "    }\n",
       "\n",
       "    .dataframe tbody tr th {\n",
       "        vertical-align: top;\n",
       "    }\n",
       "\n",
       "    .dataframe thead th {\n",
       "        text-align: right;\n",
       "    }\n",
       "</style>\n",
       "<table border=\"1\" class=\"dataframe\">\n",
       "  <thead>\n",
       "    <tr style=\"text-align: right;\">\n",
       "      <th></th>\n",
       "      <th>id</th>\n",
       "      <th>name</th>\n",
       "      <th>artists</th>\n",
       "      <th>danceability</th>\n",
       "      <th>energy</th>\n",
       "      <th>key</th>\n",
       "      <th>loudness</th>\n",
       "      <th>mode</th>\n",
       "      <th>speechiness</th>\n",
       "      <th>acousticness</th>\n",
       "      <th>instrumentalness</th>\n",
       "      <th>liveness</th>\n",
       "      <th>valence</th>\n",
       "      <th>tempo</th>\n",
       "      <th>duration_ms</th>\n",
       "      <th>time_signature</th>\n",
       "    </tr>\n",
       "  </thead>\n",
       "  <tbody>\n",
       "    <tr>\n",
       "      <th>0</th>\n",
       "      <td>6DCZcSspjsKoFjzjrWoCd</td>\n",
       "      <td>God's Plan</td>\n",
       "      <td>Drake</td>\n",
       "      <td>0.754</td>\n",
       "      <td>0.449</td>\n",
       "      <td>7.0</td>\n",
       "      <td>-9.211</td>\n",
       "      <td>1.0</td>\n",
       "      <td>0.1090</td>\n",
       "      <td>0.0332</td>\n",
       "      <td>0.000083</td>\n",
       "      <td>0.552</td>\n",
       "      <td>0.357</td>\n",
       "      <td>77.169</td>\n",
       "      <td>198973.0</td>\n",
       "      <td>4.0</td>\n",
       "    </tr>\n",
       "    <tr>\n",
       "      <th>1</th>\n",
       "      <td>3ee8Jmje8o58CHK66QrVC</td>\n",
       "      <td>SAD!</td>\n",
       "      <td>XXXTENTACION</td>\n",
       "      <td>0.740</td>\n",
       "      <td>0.613</td>\n",
       "      <td>8.0</td>\n",
       "      <td>-4.880</td>\n",
       "      <td>1.0</td>\n",
       "      <td>0.1450</td>\n",
       "      <td>0.2580</td>\n",
       "      <td>0.003720</td>\n",
       "      <td>0.123</td>\n",
       "      <td>0.473</td>\n",
       "      <td>75.023</td>\n",
       "      <td>166606.0</td>\n",
       "      <td>4.0</td>\n",
       "    </tr>\n",
       "    <tr>\n",
       "      <th>2</th>\n",
       "      <td>0e7ipj03S05BNilyu5bRz</td>\n",
       "      <td>rockstar (feat. 21 Savage)</td>\n",
       "      <td>Post Malone</td>\n",
       "      <td>0.587</td>\n",
       "      <td>0.535</td>\n",
       "      <td>5.0</td>\n",
       "      <td>-6.090</td>\n",
       "      <td>0.0</td>\n",
       "      <td>0.0898</td>\n",
       "      <td>0.1170</td>\n",
       "      <td>0.000066</td>\n",
       "      <td>0.131</td>\n",
       "      <td>0.140</td>\n",
       "      <td>159.847</td>\n",
       "      <td>218147.0</td>\n",
       "      <td>4.0</td>\n",
       "    </tr>\n",
       "    <tr>\n",
       "      <th>3</th>\n",
       "      <td>3swc6WTsr7rl9DqQKQA55</td>\n",
       "      <td>Psycho (feat. Ty Dolla $ign)</td>\n",
       "      <td>Post Malone</td>\n",
       "      <td>0.739</td>\n",
       "      <td>0.559</td>\n",
       "      <td>8.0</td>\n",
       "      <td>-8.011</td>\n",
       "      <td>1.0</td>\n",
       "      <td>0.1170</td>\n",
       "      <td>0.5800</td>\n",
       "      <td>0.000000</td>\n",
       "      <td>0.112</td>\n",
       "      <td>0.439</td>\n",
       "      <td>140.124</td>\n",
       "      <td>221440.0</td>\n",
       "      <td>4.0</td>\n",
       "    </tr>\n",
       "    <tr>\n",
       "      <th>4</th>\n",
       "      <td>2G7V7zsVDxg1yRsu7Ew9R</td>\n",
       "      <td>In My Feelings</td>\n",
       "      <td>Drake</td>\n",
       "      <td>0.835</td>\n",
       "      <td>0.626</td>\n",
       "      <td>1.0</td>\n",
       "      <td>-5.833</td>\n",
       "      <td>1.0</td>\n",
       "      <td>0.1250</td>\n",
       "      <td>0.0589</td>\n",
       "      <td>0.000060</td>\n",
       "      <td>0.396</td>\n",
       "      <td>0.350</td>\n",
       "      <td>91.030</td>\n",
       "      <td>217925.0</td>\n",
       "      <td>4.0</td>\n",
       "    </tr>\n",
       "  </tbody>\n",
       "</table>\n",
       "</div>"
      ],
      "text/plain": [
       "                      id                          name       artists  \\\n",
       "0  6DCZcSspjsKoFjzjrWoCd                    God's Plan         Drake   \n",
       "1  3ee8Jmje8o58CHK66QrVC                          SAD!  XXXTENTACION   \n",
       "2  0e7ipj03S05BNilyu5bRz    rockstar (feat. 21 Savage)   Post Malone   \n",
       "3  3swc6WTsr7rl9DqQKQA55  Psycho (feat. Ty Dolla $ign)   Post Malone   \n",
       "4  2G7V7zsVDxg1yRsu7Ew9R                In My Feelings         Drake   \n",
       "\n",
       "   danceability  energy  key  loudness  mode  speechiness  acousticness  \\\n",
       "0         0.754   0.449  7.0    -9.211   1.0       0.1090        0.0332   \n",
       "1         0.740   0.613  8.0    -4.880   1.0       0.1450        0.2580   \n",
       "2         0.587   0.535  5.0    -6.090   0.0       0.0898        0.1170   \n",
       "3         0.739   0.559  8.0    -8.011   1.0       0.1170        0.5800   \n",
       "4         0.835   0.626  1.0    -5.833   1.0       0.1250        0.0589   \n",
       "\n",
       "   instrumentalness  liveness  valence    tempo  duration_ms  time_signature  \n",
       "0          0.000083     0.552    0.357   77.169     198973.0             4.0  \n",
       "1          0.003720     0.123    0.473   75.023     166606.0             4.0  \n",
       "2          0.000066     0.131    0.140  159.847     218147.0             4.0  \n",
       "3          0.000000     0.112    0.439  140.124     221440.0             4.0  \n",
       "4          0.000060     0.396    0.350   91.030     217925.0             4.0  "
      ]
     },
     "execution_count": 8,
     "metadata": {},
     "output_type": "execute_result"
    }
   ],
   "source": [
    "float_conversion(df_2018.mode,df_2018[\"mode\"])\n",
    "float_conversion(df_2018.duration_ms,df_2018[\"duration_ms\"])\n",
    "float_conversion(df_2018.time_signature,df_2018[\"time_signature\"])\n",
    "\n",
    "df_2018.head()\n"
   ]
  },
  {
   "cell_type": "code",
   "execution_count": null,
   "metadata": {},
   "outputs": [],
   "source": []
  },
  {
   "cell_type": "code",
   "execution_count": 9,
   "metadata": {},
   "outputs": [],
   "source": [
    "#lets analyse  each  columns sequentially for better understanding of the data"
   ]
  },
  {
   "cell_type": "code",
   "execution_count": 9,
   "metadata": {},
   "outputs": [],
   "source": [
    "def understand_feature(feature):\n",
    "    return feature.describe()\n"
   ]
  },
  {
   "cell_type": "code",
   "execution_count": 10,
   "metadata": {},
   "outputs": [
    {
     "name": "stdout",
     "output_type": "stream",
     "text": [
      "overall danceability feature\n",
      "\n"
     ]
    },
    {
     "data": {
      "text/plain": [
       "count    100.00000\n",
       "mean       0.71646\n",
       "std        0.13107\n",
       "min        0.25800\n",
       "25%        0.63550\n",
       "50%        0.73300\n",
       "75%        0.79825\n",
       "max        0.96400\n",
       "Name: danceability, dtype: float64"
      ]
     },
     "execution_count": 10,
     "metadata": {},
     "output_type": "execute_result"
    }
   ],
   "source": [
    "#The higher the value, the easier it is to dance to this song.\n",
    "print(\"overall danceability feature\\n\")\n",
    "understand_feature(df_2018[\"danceability\"])\n"
   ]
  },
  {
   "cell_type": "code",
   "execution_count": 11,
   "metadata": {},
   "outputs": [
    {
     "name": "stdout",
     "output_type": "stream",
     "text": [
      "top 10  danceability feature\n",
      "\n"
     ]
    },
    {
     "data": {
      "text/plain": [
       "count    10.000000\n",
       "mean      0.740400\n",
       "std       0.086164\n",
       "min       0.587000\n",
       "25%       0.694750\n",
       "50%       0.747000\n",
       "75%       0.809750\n",
       "max       0.836000\n",
       "Name: danceability, dtype: float64"
      ]
     },
     "execution_count": 11,
     "metadata": {},
     "output_type": "execute_result"
    }
   ],
   "source": [
    "print(\"top 10  danceability feature\\n\")\n",
    "understand_feature(df_2018[\"danceability\"].head(10))\n",
    "\n"
   ]
  },
  {
   "cell_type": "code",
   "execution_count": 12,
   "metadata": {},
   "outputs": [
    {
     "name": "stdout",
     "output_type": "stream",
     "text": [
      "1    82\n",
      "0    18\n",
      "Name: dancebility_new, dtype: int64\n"
     ]
    }
   ],
   "source": [
    "#sorting out more danceble songs \n",
    "df_2018['dancebility_new']=df_2018['danceability']\n",
    "df_2018.loc[df_2018['danceability']>=0.6000,'dancebility_new']='1'\n",
    "df_2018.loc[(df_2018['danceability']<0.6000),'dancebility_new']='0'\n",
    "\n",
    "print(df_2018['dancebility_new'].value_counts())"
   ]
  },
  {
   "cell_type": "code",
   "execution_count": 13,
   "metadata": {},
   "outputs": [
    {
     "name": "stdout",
     "output_type": "stream",
     "text": [
      "top 10  energy  feature\n",
      "\n"
     ]
    },
    {
     "data": {
      "text/plain": [
       "count    10.000000\n",
       "mean      0.635700\n",
       "std       0.143074\n",
       "min       0.449000\n",
       "25%       0.547750\n",
       "50%       0.588000\n",
       "75%       0.701000\n",
       "max       0.880000\n",
       "Name: energy, dtype: float64"
      ]
     },
     "execution_count": 13,
     "metadata": {},
     "output_type": "execute_result"
    }
   ],
   "source": [
    "print(\"top 10  energy  feature\\n\")\n",
    "understand_feature(df_2018[\"energy\"].head(10))"
   ]
  },
  {
   "cell_type": "code",
   "execution_count": 14,
   "metadata": {},
   "outputs": [],
   "source": [
    "#understanding beats per minute i.e tempo of the song\n",
    "#here we do classification of the tempo on the bases of beats per min \n",
    "#REf:https://www.musical-u.com/learn/rhythm-tips-for-identifying-music-genres-by-ear/\n",
    "df_2018['tempo_rate']=df_2018['tempo']\n"
   ]
  },
  {
   "cell_type": "code",
   "execution_count": 17,
   "metadata": {},
   "outputs": [],
   "source": [
    "df_2018.loc[df_2018['tempo']<65,'tempo_rate']='very slow'\n",
    "df_2018.loc[(df_2018['tempo']>=66) & (df_2018['tempo']<=76),'tempo_rate']='slow'\n",
    "df_2018.loc[(df_2018['tempo']>=76) & (df_2018['tempo']<=108),'tempo_rate']='moderate'\n",
    "df_2018.loc[(df_2018['tempo']>=110) & (df_2018['tempo']<=168),'tempo_rate']='fast'\n",
    "df_2018.loc[df_2018['tempo']>168,'tempo_rate']='very fast'\n"
   ]
  },
  {
   "cell_type": "code",
   "execution_count": 18,
   "metadata": {},
   "outputs": [
    {
     "name": "stdout",
     "output_type": "stream",
     "text": [
      "Tempo Rate\tCount\n",
      "\n",
      "fast         47\n",
      "moderate     44\n",
      "very fast     7\n",
      "very slow     1\n",
      "slow          1\n",
      "Name: tempo_rate, dtype: int64\n",
      "\n",
      "\n"
     ]
    },
    {
     "data": {
      "text/html": [
       "<div>\n",
       "<style scoped>\n",
       "    .dataframe tbody tr th:only-of-type {\n",
       "        vertical-align: middle;\n",
       "    }\n",
       "\n",
       "    .dataframe tbody tr th {\n",
       "        vertical-align: top;\n",
       "    }\n",
       "\n",
       "    .dataframe thead th {\n",
       "        text-align: right;\n",
       "    }\n",
       "</style>\n",
       "<table border=\"1\" class=\"dataframe\">\n",
       "  <thead>\n",
       "    <tr style=\"text-align: right;\">\n",
       "      <th></th>\n",
       "      <th>id</th>\n",
       "      <th>name</th>\n",
       "      <th>artists</th>\n",
       "      <th>danceability</th>\n",
       "      <th>energy</th>\n",
       "      <th>key</th>\n",
       "      <th>loudness</th>\n",
       "      <th>mode</th>\n",
       "      <th>speechiness</th>\n",
       "      <th>acousticness</th>\n",
       "      <th>instrumentalness</th>\n",
       "      <th>liveness</th>\n",
       "      <th>valence</th>\n",
       "      <th>tempo</th>\n",
       "      <th>duration_ms</th>\n",
       "      <th>time_signature</th>\n",
       "      <th>dancebility_new</th>\n",
       "      <th>tempo_rate</th>\n",
       "    </tr>\n",
       "  </thead>\n",
       "  <tbody>\n",
       "    <tr>\n",
       "      <th>0</th>\n",
       "      <td>6DCZcSspjsKoFjzjrWoCd</td>\n",
       "      <td>God's Plan</td>\n",
       "      <td>Drake</td>\n",
       "      <td>0.754</td>\n",
       "      <td>0.449</td>\n",
       "      <td>7.0</td>\n",
       "      <td>-9.211</td>\n",
       "      <td>1.0</td>\n",
       "      <td>0.1090</td>\n",
       "      <td>0.0332</td>\n",
       "      <td>0.000083</td>\n",
       "      <td>0.552</td>\n",
       "      <td>0.357</td>\n",
       "      <td>77.169</td>\n",
       "      <td>198973.0</td>\n",
       "      <td>4.0</td>\n",
       "      <td>1</td>\n",
       "      <td>moderate</td>\n",
       "    </tr>\n",
       "    <tr>\n",
       "      <th>1</th>\n",
       "      <td>3ee8Jmje8o58CHK66QrVC</td>\n",
       "      <td>SAD!</td>\n",
       "      <td>XXXTENTACION</td>\n",
       "      <td>0.740</td>\n",
       "      <td>0.613</td>\n",
       "      <td>8.0</td>\n",
       "      <td>-4.880</td>\n",
       "      <td>1.0</td>\n",
       "      <td>0.1450</td>\n",
       "      <td>0.2580</td>\n",
       "      <td>0.003720</td>\n",
       "      <td>0.123</td>\n",
       "      <td>0.473</td>\n",
       "      <td>75.023</td>\n",
       "      <td>166606.0</td>\n",
       "      <td>4.0</td>\n",
       "      <td>1</td>\n",
       "      <td>slow</td>\n",
       "    </tr>\n",
       "    <tr>\n",
       "      <th>2</th>\n",
       "      <td>0e7ipj03S05BNilyu5bRz</td>\n",
       "      <td>rockstar (feat. 21 Savage)</td>\n",
       "      <td>Post Malone</td>\n",
       "      <td>0.587</td>\n",
       "      <td>0.535</td>\n",
       "      <td>5.0</td>\n",
       "      <td>-6.090</td>\n",
       "      <td>0.0</td>\n",
       "      <td>0.0898</td>\n",
       "      <td>0.1170</td>\n",
       "      <td>0.000066</td>\n",
       "      <td>0.131</td>\n",
       "      <td>0.140</td>\n",
       "      <td>159.847</td>\n",
       "      <td>218147.0</td>\n",
       "      <td>4.0</td>\n",
       "      <td>0</td>\n",
       "      <td>fast</td>\n",
       "    </tr>\n",
       "    <tr>\n",
       "      <th>3</th>\n",
       "      <td>3swc6WTsr7rl9DqQKQA55</td>\n",
       "      <td>Psycho (feat. Ty Dolla $ign)</td>\n",
       "      <td>Post Malone</td>\n",
       "      <td>0.739</td>\n",
       "      <td>0.559</td>\n",
       "      <td>8.0</td>\n",
       "      <td>-8.011</td>\n",
       "      <td>1.0</td>\n",
       "      <td>0.1170</td>\n",
       "      <td>0.5800</td>\n",
       "      <td>0.000000</td>\n",
       "      <td>0.112</td>\n",
       "      <td>0.439</td>\n",
       "      <td>140.124</td>\n",
       "      <td>221440.0</td>\n",
       "      <td>4.0</td>\n",
       "      <td>1</td>\n",
       "      <td>fast</td>\n",
       "    </tr>\n",
       "    <tr>\n",
       "      <th>4</th>\n",
       "      <td>2G7V7zsVDxg1yRsu7Ew9R</td>\n",
       "      <td>In My Feelings</td>\n",
       "      <td>Drake</td>\n",
       "      <td>0.835</td>\n",
       "      <td>0.626</td>\n",
       "      <td>1.0</td>\n",
       "      <td>-5.833</td>\n",
       "      <td>1.0</td>\n",
       "      <td>0.1250</td>\n",
       "      <td>0.0589</td>\n",
       "      <td>0.000060</td>\n",
       "      <td>0.396</td>\n",
       "      <td>0.350</td>\n",
       "      <td>91.030</td>\n",
       "      <td>217925.0</td>\n",
       "      <td>4.0</td>\n",
       "      <td>1</td>\n",
       "      <td>moderate</td>\n",
       "    </tr>\n",
       "  </tbody>\n",
       "</table>\n",
       "</div>"
      ],
      "text/plain": [
       "                      id                          name       artists  \\\n",
       "0  6DCZcSspjsKoFjzjrWoCd                    God's Plan         Drake   \n",
       "1  3ee8Jmje8o58CHK66QrVC                          SAD!  XXXTENTACION   \n",
       "2  0e7ipj03S05BNilyu5bRz    rockstar (feat. 21 Savage)   Post Malone   \n",
       "3  3swc6WTsr7rl9DqQKQA55  Psycho (feat. Ty Dolla $ign)   Post Malone   \n",
       "4  2G7V7zsVDxg1yRsu7Ew9R                In My Feelings         Drake   \n",
       "\n",
       "   danceability  energy  key  loudness  mode  speechiness  acousticness  \\\n",
       "0         0.754   0.449  7.0    -9.211   1.0       0.1090        0.0332   \n",
       "1         0.740   0.613  8.0    -4.880   1.0       0.1450        0.2580   \n",
       "2         0.587   0.535  5.0    -6.090   0.0       0.0898        0.1170   \n",
       "3         0.739   0.559  8.0    -8.011   1.0       0.1170        0.5800   \n",
       "4         0.835   0.626  1.0    -5.833   1.0       0.1250        0.0589   \n",
       "\n",
       "   instrumentalness  liveness  valence    tempo  duration_ms  time_signature  \\\n",
       "0          0.000083     0.552    0.357   77.169     198973.0             4.0   \n",
       "1          0.003720     0.123    0.473   75.023     166606.0             4.0   \n",
       "2          0.000066     0.131    0.140  159.847     218147.0             4.0   \n",
       "3          0.000000     0.112    0.439  140.124     221440.0             4.0   \n",
       "4          0.000060     0.396    0.350   91.030     217925.0             4.0   \n",
       "\n",
       "  dancebility_new tempo_rate  \n",
       "0               1   moderate  \n",
       "1               1       slow  \n",
       "2               0       fast  \n",
       "3               1       fast  \n",
       "4               1   moderate  "
      ]
     },
     "execution_count": 18,
     "metadata": {},
     "output_type": "execute_result"
    }
   ],
   "source": [
    "print(\"Tempo Rate\\tCount\\n\")\n",
    "print(df_2018['tempo_rate'].value_counts())\n",
    "print(\"\\n\")\n",
    "df_2018.head()"
   ]
  },
  {
   "cell_type": "code",
   "execution_count": 19,
   "metadata": {},
   "outputs": [
    {
     "data": {
      "image/png": "[encoded data removed]",
      "text/plain": [
       "<Figure size 432x288 with 1 Axes>"
      ]
     },
     "metadata": {
      "needs_background": "light"
     },
     "output_type": "display_data"
    }
   ],
   "source": [
    "sns.barplot(x=pd.DataFrame(df_2018['tempo_rate'].value_counts()).tempo_rate, \n",
    "            y=pd.DataFrame(df_2018['tempo_rate'].value_counts()).index\n",
    "           )\n",
    "plt.title('music tempo');"
   ]
  },
  {
   "cell_type": "markdown",
   "metadata": {},
   "source": [
    "sort the songs on the bases of important parametes like :"
   ]
  },
  {
   "cell_type": "code",
   "execution_count": 20,
   "metadata": {},
   "outputs": [
    {
     "data": {
      "text/html": [
       "<div>\n",
       "<style scoped>\n",
       "    .dataframe tbody tr th:only-of-type {\n",
       "        vertical-align: middle;\n",
       "    }\n",
       "\n",
       "    .dataframe tbody tr th {\n",
       "        vertical-align: top;\n",
       "    }\n",
       "\n",
       "    .dataframe thead th {\n",
       "        text-align: right;\n",
       "    }\n",
       "</style>\n",
       "<table border=\"1\" class=\"dataframe\">\n",
       "  <thead>\n",
       "    <tr style=\"text-align: right;\">\n",
       "      <th></th>\n",
       "      <th>name</th>\n",
       "      <th>artists</th>\n",
       "      <th>danceability</th>\n",
       "      <th>valence</th>\n",
       "      <th>tempo</th>\n",
       "      <th>tempo_rate</th>\n",
       "      <th>energy</th>\n",
       "    </tr>\n",
       "  </thead>\n",
       "  <tbody>\n",
       "    <tr>\n",
       "      <th>91</th>\n",
       "      <td>Yes Indeed</td>\n",
       "      <td>Lil Baby</td>\n",
       "      <td>0.964</td>\n",
       "      <td>0.562</td>\n",
       "      <td>119.958</td>\n",
       "      <td>fast</td>\n",
       "      <td>0.346</td>\n",
       "    </tr>\n",
       "    <tr>\n",
       "      <th>55</th>\n",
       "      <td>FEFE (feat. Nicki Minaj &amp; Murda Beatz)</td>\n",
       "      <td>6ix9ine</td>\n",
       "      <td>0.931</td>\n",
       "      <td>0.376</td>\n",
       "      <td>125.978</td>\n",
       "      <td>fast</td>\n",
       "      <td>0.387</td>\n",
       "    </tr>\n",
       "    <tr>\n",
       "      <th>19</th>\n",
       "      <td>Look Alive (feat. Drake)</td>\n",
       "      <td>BlocBoy JB</td>\n",
       "      <td>0.922</td>\n",
       "      <td>0.595</td>\n",
       "      <td>140.022</td>\n",
       "      <td>fast</td>\n",
       "      <td>0.581</td>\n",
       "    </tr>\n",
       "    <tr>\n",
       "      <th>18</th>\n",
       "      <td>Moonlight</td>\n",
       "      <td>XXXTENTACION</td>\n",
       "      <td>0.921</td>\n",
       "      <td>0.711</td>\n",
       "      <td>128.009</td>\n",
       "      <td>fast</td>\n",
       "      <td>0.537</td>\n",
       "    </tr>\n",
       "    <tr>\n",
       "      <th>61</th>\n",
       "      <td>Nonstop</td>\n",
       "      <td>Drake</td>\n",
       "      <td>0.912</td>\n",
       "      <td>0.422</td>\n",
       "      <td>154.983</td>\n",
       "      <td>fast</td>\n",
       "      <td>0.412</td>\n",
       "    </tr>\n",
       "    <tr>\n",
       "      <th>73</th>\n",
       "      <td>Walk It Talk It</td>\n",
       "      <td>Migos</td>\n",
       "      <td>0.909</td>\n",
       "      <td>0.406</td>\n",
       "      <td>145.905</td>\n",
       "      <td>fast</td>\n",
       "      <td>0.628</td>\n",
       "    </tr>\n",
       "    <tr>\n",
       "      <th>89</th>\n",
       "      <td>Bella</td>\n",
       "      <td>Wolfine</td>\n",
       "      <td>0.909</td>\n",
       "      <td>0.844</td>\n",
       "      <td>94.016</td>\n",
       "      <td>moderate</td>\n",
       "      <td>0.493</td>\n",
       "    </tr>\n",
       "    <tr>\n",
       "      <th>82</th>\n",
       "      <td>HUMBLE.</td>\n",
       "      <td>Kendrick Lamar</td>\n",
       "      <td>0.908</td>\n",
       "      <td>0.421</td>\n",
       "      <td>150.011</td>\n",
       "      <td>fast</td>\n",
       "      <td>0.621</td>\n",
       "    </tr>\n",
       "    <tr>\n",
       "      <th>21</th>\n",
       "      <td>Te Bot? - Remix</td>\n",
       "      <td>Nio Garcia</td>\n",
       "      <td>0.903</td>\n",
       "      <td>0.442</td>\n",
       "      <td>96.507</td>\n",
       "      <td>moderate</td>\n",
       "      <td>0.675</td>\n",
       "    </tr>\n",
       "    <tr>\n",
       "      <th>30</th>\n",
       "      <td>Taste (feat. Offset)</td>\n",
       "      <td>Tyga</td>\n",
       "      <td>0.884</td>\n",
       "      <td>0.342</td>\n",
       "      <td>97.994</td>\n",
       "      <td>moderate</td>\n",
       "      <td>0.559</td>\n",
       "    </tr>\n",
       "  </tbody>\n",
       "</table>\n",
       "</div>"
      ],
      "text/plain": [
       "                                      name         artists  danceability  \\\n",
       "91                              Yes Indeed        Lil Baby         0.964   \n",
       "55  FEFE (feat. Nicki Minaj & Murda Beatz)         6ix9ine         0.931   \n",
       "19                Look Alive (feat. Drake)      BlocBoy JB         0.922   \n",
       "18                               Moonlight    XXXTENTACION         0.921   \n",
       "61                                 Nonstop           Drake         0.912   \n",
       "73                         Walk It Talk It           Migos         0.909   \n",
       "89                                   Bella         Wolfine         0.909   \n",
       "82                                 HUMBLE.  Kendrick Lamar         0.908   \n",
       "21                         Te Bot? - Remix      Nio Garcia         0.903   \n",
       "30                    Taste (feat. Offset)            Tyga         0.884   \n",
       "\n",
       "    valence    tempo tempo_rate  energy  \n",
       "91    0.562  119.958       fast   0.346  \n",
       "55    0.376  125.978       fast   0.387  \n",
       "19    0.595  140.022       fast   0.581  \n",
       "18    0.711  128.009       fast   0.537  \n",
       "61    0.422  154.983       fast   0.412  \n",
       "73    0.406  145.905       fast   0.628  \n",
       "89    0.844   94.016   moderate   0.493  \n",
       "82    0.421  150.011       fast   0.621  \n",
       "21    0.442   96.507   moderate   0.675  \n",
       "30    0.342   97.994   moderate   0.559  "
      ]
     },
     "execution_count": 20,
     "metadata": {},
     "output_type": "execute_result"
    }
   ],
   "source": [
    "df_2018[['name','artists','danceability','valence','tempo','tempo_rate','energy']].sort_values(by=[\"danceability\",\"energy\",\"valence\"],ascending=False).head(10)"
   ]
  },
  {
   "cell_type": "markdown",
   "metadata": {},
   "source": [
    "as we can see that these features collectively couldn't generate the sorted manner of artist as expected.We need to change our approach and include more features \n",
    "### Analysing top artists\n",
    "Analysing Top artists will give us a better idea about the feature importance "
   ]
  },
  {
   "cell_type": "code",
   "execution_count": 21,
   "metadata": {},
   "outputs": [
    {
     "name": "stdout",
     "output_type": "stream",
     "text": [
      "Artist\t\tSongs\n",
      "\n",
      "Post Malone        6\n",
      "XXXTENTACION       6\n",
      "Drake              4\n",
      "Ed Sheeran         3\n",
      "Marshmello         3\n",
      "Imagine Dragons    2\n",
      "Ozuna              2\n",
      "The Weeknd         2\n",
      "Maroon 5           2\n",
      "Kendrick Lamar     2\n",
      "Khalid             2\n",
      "Migos              2\n",
      "Camila Cabello     2\n",
      "Calvin Harris      2\n",
      "Ariana Grande      2\n",
      "Selena Gomez       2\n",
      "Dua Lipa           2\n",
      "Clean Bandit       2\n",
      "DJ Khaled          1\n",
      "Becky G            1\n",
      "Name: artists, dtype: int64\n"
     ]
    }
   ],
   "source": [
    "#count the value:in terms on songs per year for an  artist\n",
    "print(\"Artist\\t\\tSongs\\n\")\n",
    "print(df_2018[\"artists\"].value_counts().head(20))"
   ]
  },
  {
   "cell_type": "markdown",
   "metadata": {},
   "source": [
    "#### comparing  the  top artists based on our features \n",
    "lets start with top 5:\n",
    "\n",
    "- Post Malone         6\n",
    "- XXXTENTACION        6\n",
    "- Drake               4\n",
    "- Ed Sheeran          3\n",
    "- Marshmello          3"
   ]
  },
  {
   "cell_type": "code",
   "execution_count": 22,
   "metadata": {},
   "outputs": [
    {
     "name": "stdout",
     "output_type": "stream",
     "text": [
      "Post Malone:\n"
     ]
    },
    {
     "data": {
      "text/html": [
       "<div>\n",
       "<style scoped>\n",
       "    .dataframe tbody tr th:only-of-type {\n",
       "        vertical-align: middle;\n",
       "    }\n",
       "\n",
       "    .dataframe tbody tr th {\n",
       "        vertical-align: top;\n",
       "    }\n",
       "\n",
       "    .dataframe thead th {\n",
       "        text-align: right;\n",
       "    }\n",
       "</style>\n",
       "<table border=\"1\" class=\"dataframe\">\n",
       "  <thead>\n",
       "    <tr style=\"text-align: right;\">\n",
       "      <th></th>\n",
       "      <th>name</th>\n",
       "      <th>danceability</th>\n",
       "      <th>energy</th>\n",
       "      <th>loudness</th>\n",
       "      <th>valence</th>\n",
       "      <th>tempo</th>\n",
       "      <th>tempo_rate</th>\n",
       "    </tr>\n",
       "  </thead>\n",
       "  <tbody>\n",
       "    <tr>\n",
       "      <th>2</th>\n",
       "      <td>rockstar (feat. 21 Savage)</td>\n",
       "      <td>0.587</td>\n",
       "      <td>0.535</td>\n",
       "      <td>-6.090</td>\n",
       "      <td>0.140</td>\n",
       "      <td>159.847</td>\n",
       "      <td>fast</td>\n",
       "    </tr>\n",
       "    <tr>\n",
       "      <th>3</th>\n",
       "      <td>Psycho (feat. Ty Dolla $ign)</td>\n",
       "      <td>0.739</td>\n",
       "      <td>0.559</td>\n",
       "      <td>-8.011</td>\n",
       "      <td>0.439</td>\n",
       "      <td>140.124</td>\n",
       "      <td>fast</td>\n",
       "    </tr>\n",
       "    <tr>\n",
       "      <th>5</th>\n",
       "      <td>Better Now</td>\n",
       "      <td>0.680</td>\n",
       "      <td>0.563</td>\n",
       "      <td>-5.843</td>\n",
       "      <td>0.374</td>\n",
       "      <td>145.028</td>\n",
       "      <td>fast</td>\n",
       "    </tr>\n",
       "    <tr>\n",
       "      <th>32</th>\n",
       "      <td>I Fall Apart</td>\n",
       "      <td>0.556</td>\n",
       "      <td>0.538</td>\n",
       "      <td>-5.408</td>\n",
       "      <td>0.291</td>\n",
       "      <td>143.950</td>\n",
       "      <td>fast</td>\n",
       "    </tr>\n",
       "    <tr>\n",
       "      <th>75</th>\n",
       "      <td>Candy Paint</td>\n",
       "      <td>0.670</td>\n",
       "      <td>0.654</td>\n",
       "      <td>-5.944</td>\n",
       "      <td>0.438</td>\n",
       "      <td>180.024</td>\n",
       "      <td>very fast</td>\n",
       "    </tr>\n",
       "    <tr>\n",
       "      <th>76</th>\n",
       "      <td>Congratulations</td>\n",
       "      <td>0.630</td>\n",
       "      <td>0.804</td>\n",
       "      <td>-4.183</td>\n",
       "      <td>0.492</td>\n",
       "      <td>123.146</td>\n",
       "      <td>fast</td>\n",
       "    </tr>\n",
       "  </tbody>\n",
       "</table>\n",
       "</div>"
      ],
      "text/plain": [
       "                            name  danceability  energy  loudness  valence  \\\n",
       "2     rockstar (feat. 21 Savage)         0.587   0.535    -6.090    0.140   \n",
       "3   Psycho (feat. Ty Dolla $ign)         0.739   0.559    -8.011    0.439   \n",
       "5                     Better Now         0.680   0.563    -5.843    0.374   \n",
       "32                  I Fall Apart         0.556   0.538    -5.408    0.291   \n",
       "75                   Candy Paint         0.670   0.654    -5.944    0.438   \n",
       "76               Congratulations         0.630   0.804    -4.183    0.492   \n",
       "\n",
       "      tempo tempo_rate  \n",
       "2   159.847       fast  \n",
       "3   140.124       fast  \n",
       "5   145.028       fast  \n",
       "32  143.950       fast  \n",
       "75  180.024  very fast  \n",
       "76  123.146       fast  "
      ]
     },
     "execution_count": 22,
     "metadata": {},
     "output_type": "execute_result"
    }
   ],
   "source": [
    "PostMalone=df_2018[df_2018['artists']=='Post Malone']\n",
    "print(\"Post Malone:\")\n",
    "PostMalone[['name','danceability','energy','loudness','valence','tempo','tempo_rate']]\n",
    "\n"
   ]
  },
  {
   "cell_type": "code",
   "execution_count": 25,
   "metadata": {},
   "outputs": [
    {
     "name": "stdout",
     "output_type": "stream",
     "text": [
      "XXXTENTACION:\n"
     ]
    },
    {
     "data": {
      "text/html": [
       "<div>\n",
       "<style scoped>\n",
       "    .dataframe tbody tr th:only-of-type {\n",
       "        vertical-align: middle;\n",
       "    }\n",
       "\n",
       "    .dataframe tbody tr th {\n",
       "        vertical-align: top;\n",
       "    }\n",
       "\n",
       "    .dataframe thead th {\n",
       "        text-align: right;\n",
       "    }\n",
       "</style>\n",
       "<table border=\"1\" class=\"dataframe\">\n",
       "  <thead>\n",
       "    <tr style=\"text-align: right;\">\n",
       "      <th></th>\n",
       "      <th>name</th>\n",
       "      <th>danceability</th>\n",
       "      <th>energy</th>\n",
       "      <th>loudness</th>\n",
       "      <th>valence</th>\n",
       "      <th>tempo</th>\n",
       "      <th>tempo_rate</th>\n",
       "    </tr>\n",
       "  </thead>\n",
       "  <tbody>\n",
       "    <tr>\n",
       "      <th>1</th>\n",
       "      <td>SAD!</td>\n",
       "      <td>0.740</td>\n",
       "      <td>0.613</td>\n",
       "      <td>-4.880</td>\n",
       "      <td>0.473</td>\n",
       "      <td>75.023</td>\n",
       "      <td>slow</td>\n",
       "    </tr>\n",
       "    <tr>\n",
       "      <th>18</th>\n",
       "      <td>Moonlight</td>\n",
       "      <td>0.921</td>\n",
       "      <td>0.537</td>\n",
       "      <td>-5.723</td>\n",
       "      <td>0.711</td>\n",
       "      <td>128.009</td>\n",
       "      <td>fast</td>\n",
       "    </tr>\n",
       "    <tr>\n",
       "      <th>28</th>\n",
       "      <td>Jocelyn Flores</td>\n",
       "      <td>0.872</td>\n",
       "      <td>0.391</td>\n",
       "      <td>-9.144</td>\n",
       "      <td>0.437</td>\n",
       "      <td>134.021</td>\n",
       "      <td>fast</td>\n",
       "    </tr>\n",
       "    <tr>\n",
       "      <th>38</th>\n",
       "      <td>changes</td>\n",
       "      <td>0.669</td>\n",
       "      <td>0.308</td>\n",
       "      <td>-10.068</td>\n",
       "      <td>0.520</td>\n",
       "      <td>64.934</td>\n",
       "      <td>very slow</td>\n",
       "    </tr>\n",
       "    <tr>\n",
       "      <th>62</th>\n",
       "      <td>Fuck Love (feat. Trippie Redd)</td>\n",
       "      <td>0.797</td>\n",
       "      <td>0.533</td>\n",
       "      <td>-9.740</td>\n",
       "      <td>0.329</td>\n",
       "      <td>131.036</td>\n",
       "      <td>fast</td>\n",
       "    </tr>\n",
       "    <tr>\n",
       "      <th>94</th>\n",
       "      <td>Everybody Dies In Their Nightmares</td>\n",
       "      <td>0.734</td>\n",
       "      <td>0.570</td>\n",
       "      <td>-7.066</td>\n",
       "      <td>0.689</td>\n",
       "      <td>129.953</td>\n",
       "      <td>fast</td>\n",
       "    </tr>\n",
       "  </tbody>\n",
       "</table>\n",
       "</div>"
      ],
      "text/plain": [
       "                                  name  danceability  energy  loudness  \\\n",
       "1                                 SAD!         0.740   0.613    -4.880   \n",
       "18                           Moonlight         0.921   0.537    -5.723   \n",
       "28                      Jocelyn Flores         0.872   0.391    -9.144   \n",
       "38                             changes         0.669   0.308   -10.068   \n",
       "62      Fuck Love (feat. Trippie Redd)         0.797   0.533    -9.740   \n",
       "94  Everybody Dies In Their Nightmares         0.734   0.570    -7.066   \n",
       "\n",
       "    valence    tempo tempo_rate  \n",
       "1     0.473   75.023       slow  \n",
       "18    0.711  128.009       fast  \n",
       "28    0.437  134.021       fast  \n",
       "38    0.520   64.934  very slow  \n",
       "62    0.329  131.036       fast  \n",
       "94    0.689  129.953       fast  "
      ]
     },
     "execution_count": 25,
     "metadata": {},
     "output_type": "execute_result"
    }
   ],
   "source": [
    "XXXTENTACION = df_2018[df_2018['artists']=='XXXTENTACION']\n",
    "print(\"XXXTENTACION:\")\n",
    "XXXTENTACION[['name','danceability','energy','loudness','valence','tempo','tempo_rate']]"
   ]
  },
  {
   "cell_type": "code",
   "execution_count": 26,
   "metadata": {},
   "outputs": [
    {
     "name": "stdout",
     "output_type": "stream",
     "text": [
      "Drake:\n"
     ]
    },
    {
     "data": {
      "text/html": [
       "<div>\n",
       "<style scoped>\n",
       "    .dataframe tbody tr th:only-of-type {\n",
       "        vertical-align: middle;\n",
       "    }\n",
       "\n",
       "    .dataframe tbody tr th {\n",
       "        vertical-align: top;\n",
       "    }\n",
       "\n",
       "    .dataframe thead th {\n",
       "        text-align: right;\n",
       "    }\n",
       "</style>\n",
       "<table border=\"1\" class=\"dataframe\">\n",
       "  <thead>\n",
       "    <tr style=\"text-align: right;\">\n",
       "      <th></th>\n",
       "      <th>name</th>\n",
       "      <th>danceability</th>\n",
       "      <th>energy</th>\n",
       "      <th>loudness</th>\n",
       "      <th>valence</th>\n",
       "      <th>tempo</th>\n",
       "      <th>tempo_rate</th>\n",
       "    </tr>\n",
       "  </thead>\n",
       "  <tbody>\n",
       "    <tr>\n",
       "      <th>0</th>\n",
       "      <td>God's Plan</td>\n",
       "      <td>0.754</td>\n",
       "      <td>0.449</td>\n",
       "      <td>-9.211</td>\n",
       "      <td>0.357</td>\n",
       "      <td>77.169</td>\n",
       "      <td>moderate</td>\n",
       "    </tr>\n",
       "    <tr>\n",
       "      <th>4</th>\n",
       "      <td>In My Feelings</td>\n",
       "      <td>0.835</td>\n",
       "      <td>0.626</td>\n",
       "      <td>-5.833</td>\n",
       "      <td>0.350</td>\n",
       "      <td>91.030</td>\n",
       "      <td>moderate</td>\n",
       "    </tr>\n",
       "    <tr>\n",
       "      <th>12</th>\n",
       "      <td>Nice For What</td>\n",
       "      <td>0.586</td>\n",
       "      <td>0.909</td>\n",
       "      <td>-6.474</td>\n",
       "      <td>0.757</td>\n",
       "      <td>93.394</td>\n",
       "      <td>moderate</td>\n",
       "    </tr>\n",
       "    <tr>\n",
       "      <th>61</th>\n",
       "      <td>Nonstop</td>\n",
       "      <td>0.912</td>\n",
       "      <td>0.412</td>\n",
       "      <td>-8.074</td>\n",
       "      <td>0.422</td>\n",
       "      <td>154.983</td>\n",
       "      <td>fast</td>\n",
       "    </tr>\n",
       "  </tbody>\n",
       "</table>\n",
       "</div>"
      ],
      "text/plain": [
       "              name  danceability  energy  loudness  valence    tempo  \\\n",
       "0       God's Plan         0.754   0.449    -9.211    0.357   77.169   \n",
       "4   In My Feelings         0.835   0.626    -5.833    0.350   91.030   \n",
       "12   Nice For What         0.586   0.909    -6.474    0.757   93.394   \n",
       "61         Nonstop         0.912   0.412    -8.074    0.422  154.983   \n",
       "\n",
       "   tempo_rate  \n",
       "0    moderate  \n",
       "4    moderate  \n",
       "12   moderate  \n",
       "61       fast  "
      ]
     },
     "execution_count": 26,
     "metadata": {},
     "output_type": "execute_result"
    }
   ],
   "source": [
    "Drake=df_2018[df_2018['artists']=='Drake']\n",
    "print(\"Drake:\")\n",
    "Drake[['name','danceability','energy','loudness','valence','tempo','tempo_rate']]"
   ]
  },
  {
   "cell_type": "code",
   "execution_count": 27,
   "metadata": {},
   "outputs": [
    {
     "name": "stdout",
     "output_type": "stream",
     "text": [
      "Ed Sheeran  :\n"
     ]
    },
    {
     "data": {
      "text/html": [
       "<div>\n",
       "<style scoped>\n",
       "    .dataframe tbody tr th:only-of-type {\n",
       "        vertical-align: middle;\n",
       "    }\n",
       "\n",
       "    .dataframe tbody tr th {\n",
       "        vertical-align: top;\n",
       "    }\n",
       "\n",
       "    .dataframe thead th {\n",
       "        text-align: right;\n",
       "    }\n",
       "</style>\n",
       "<table border=\"1\" class=\"dataframe\">\n",
       "  <thead>\n",
       "    <tr style=\"text-align: right;\">\n",
       "      <th></th>\n",
       "      <th>name</th>\n",
       "      <th>danceability</th>\n",
       "      <th>energy</th>\n",
       "      <th>loudness</th>\n",
       "      <th>valence</th>\n",
       "      <th>tempo</th>\n",
       "      <th>tempo_rate</th>\n",
       "    </tr>\n",
       "  </thead>\n",
       "  <tbody>\n",
       "    <tr>\n",
       "      <th>25</th>\n",
       "      <td>Shape of You</td>\n",
       "      <td>0.825</td>\n",
       "      <td>0.652</td>\n",
       "      <td>-3.183</td>\n",
       "      <td>0.931</td>\n",
       "      <td>95.977</td>\n",
       "      <td>moderate</td>\n",
       "    </tr>\n",
       "    <tr>\n",
       "      <th>29</th>\n",
       "      <td>Perfect</td>\n",
       "      <td>0.599</td>\n",
       "      <td>0.448</td>\n",
       "      <td>-6.312</td>\n",
       "      <td>0.168</td>\n",
       "      <td>95.050</td>\n",
       "      <td>moderate</td>\n",
       "    </tr>\n",
       "    <tr>\n",
       "      <th>84</th>\n",
       "      <td>Perfect Duet (Ed Sheeran &amp; Beyonc?)</td>\n",
       "      <td>0.587</td>\n",
       "      <td>0.299</td>\n",
       "      <td>-7.365</td>\n",
       "      <td>0.356</td>\n",
       "      <td>94.992</td>\n",
       "      <td>moderate</td>\n",
       "    </tr>\n",
       "  </tbody>\n",
       "</table>\n",
       "</div>"
      ],
      "text/plain": [
       "                                   name  danceability  energy  loudness  \\\n",
       "25                         Shape of You         0.825   0.652    -3.183   \n",
       "29                              Perfect         0.599   0.448    -6.312   \n",
       "84  Perfect Duet (Ed Sheeran & Beyonc?)         0.587   0.299    -7.365   \n",
       "\n",
       "    valence   tempo tempo_rate  \n",
       "25    0.931  95.977   moderate  \n",
       "29    0.168  95.050   moderate  \n",
       "84    0.356  94.992   moderate  "
      ]
     },
     "execution_count": 27,
     "metadata": {},
     "output_type": "execute_result"
    }
   ],
   "source": [
    "EdSheeran  =df_2018[df_2018['artists']=='Ed Sheeran']\n",
    "print(\"Ed Sheeran  :\")\n",
    "EdSheeran  [['name','danceability','energy','loudness','valence','tempo','tempo_rate']]"
   ]
  },
  {
   "cell_type": "code",
   "execution_count": 28,
   "metadata": {},
   "outputs": [
    {
     "name": "stdout",
     "output_type": "stream",
     "text": [
      "Marshmello   :\n"
     ]
    },
    {
     "data": {
      "text/html": [
       "<div>\n",
       "<style scoped>\n",
       "    .dataframe tbody tr th:only-of-type {\n",
       "        vertical-align: middle;\n",
       "    }\n",
       "\n",
       "    .dataframe tbody tr th {\n",
       "        vertical-align: top;\n",
       "    }\n",
       "\n",
       "    .dataframe thead th {\n",
       "        text-align: right;\n",
       "    }\n",
       "</style>\n",
       "<table border=\"1\" class=\"dataframe\">\n",
       "  <thead>\n",
       "    <tr style=\"text-align: right;\">\n",
       "      <th></th>\n",
       "      <th>name</th>\n",
       "      <th>danceability</th>\n",
       "      <th>energy</th>\n",
       "      <th>loudness</th>\n",
       "      <th>valence</th>\n",
       "      <th>tempo</th>\n",
       "      <th>tempo_rate</th>\n",
       "    </tr>\n",
       "  </thead>\n",
       "  <tbody>\n",
       "    <tr>\n",
       "      <th>9</th>\n",
       "      <td>FRIENDS</td>\n",
       "      <td>0.626</td>\n",
       "      <td>0.880</td>\n",
       "      <td>-2.384</td>\n",
       "      <td>0.534</td>\n",
       "      <td>95.079</td>\n",
       "      <td>moderate</td>\n",
       "    </tr>\n",
       "    <tr>\n",
       "      <th>51</th>\n",
       "      <td>Happier</td>\n",
       "      <td>0.687</td>\n",
       "      <td>0.792</td>\n",
       "      <td>-2.749</td>\n",
       "      <td>0.671</td>\n",
       "      <td>100.015</td>\n",
       "      <td>moderate</td>\n",
       "    </tr>\n",
       "    <tr>\n",
       "      <th>64</th>\n",
       "      <td>Silence</td>\n",
       "      <td>0.520</td>\n",
       "      <td>0.761</td>\n",
       "      <td>-3.093</td>\n",
       "      <td>0.286</td>\n",
       "      <td>141.971</td>\n",
       "      <td>fast</td>\n",
       "    </tr>\n",
       "  </tbody>\n",
       "</table>\n",
       "</div>"
      ],
      "text/plain": [
       "       name  danceability  energy  loudness  valence    tempo tempo_rate\n",
       "9   FRIENDS         0.626   0.880    -2.384    0.534   95.079   moderate\n",
       "51  Happier         0.687   0.792    -2.749    0.671  100.015   moderate\n",
       "64  Silence         0.520   0.761    -3.093    0.286  141.971       fast"
      ]
     },
     "execution_count": 28,
     "metadata": {},
     "output_type": "execute_result"
    }
   ],
   "source": [
    "Marshmello  =df_2018[df_2018['artists']=='Marshmello']\n",
    "print(\"Marshmello   :\")\n",
    "Marshmello  [['name','danceability','energy','loudness','valence','tempo','tempo_rate']]"
   ]
  },
  {
   "cell_type": "markdown",
   "metadata": {},
   "source": [
    "## Here's the observation for the above  top 5 results:\n",
    "- dancebility:Range:0.49-->0.90+\n",
    "- energy:Range:0.48-->0.90+ , in general, the enegy in not very significant but  top songs have energy more than 0.48\n",
    "- loudness:more -ve loudness means more popular the song is \n",
    "- valence:Range:Not a very important criteria\n",
    "- tempo:Range:can not conclude about this, need more EDA\n",
    "- tempo rate:Range: fast and moderate are in top\n",
    "\n"
   ]
  },
  {
   "cell_type": "code",
   "execution_count": 29,
   "metadata": {},
   "outputs": [
    {
     "data": {
      "application/vnd.plotly.v1+json": {
       "config": {
        "linkText": "Export to plot.ly",
        "plotlyServerURL": "https://plot.ly",
        "showLink": false
       },
       "data": [
        {
         "marker": {
          "color": [
           0.754,
           0.74,
           0.5870000000000001,
           0.7390000000000001,
           0.835,
           0.68,
           0.816,
           0.7909999999999999,
           0.836,
           0.626,
           0.765,
           0.511,
           0.586,
           0.851,
           0.753,
           0.698,
           0.6990000000000001,
           0.595,
           0.9209999999999999,
           0.922,
           0.653,
           0.903,
           0.71,
           0.596,
           0.762,
           0.825,
           0.708,
           0.642,
           0.872,
           0.599,
           0.884,
           0.737,
           0.556,
           0.5920000000000001,
           0.726,
           0.56,
           0.637,
           0.72,
           0.669,
           0.6940000000000001,
           0.748,
           0.7909999999999999,
           0.8340000000000001,
           0.605,
           0.777,
           0.747,
           0.7040000000000001,
           0.601,
           0.6559999999999999,
           0.489,
           0.88,
           0.687,
           0.698,
           0.755,
           0.7759999999999999,
           0.9309999999999999,
           0.687,
           0.752,
           0.732,
           0.7909999999999999,
           0.6970000000000001,
           0.912,
           0.797,
           0.622,
           0.52,
           0.602,
           0.6809999999999999,
           0.631,
           0.799,
           0.841,
           0.6629999999999999,
           0.8009999999999999,
           0.735,
           0.909,
           0.589,
           0.67,
           0.63,
           0.792,
           0.8140000000000001,
           0.8759999999999999,
           0.35100000000000003,
           0.815,
           0.9079999999999999,
           0.754,
           0.5870000000000001,
           0.722,
           0.7979999999999999,
           0.855,
           0.775,
           0.909,
           0.7809999999999999,
           0.9640000000000001,
           0.752,
           0.284,
           0.7340000000000001,
           0.684,
           0.638,
           0.552,
           0.258,
           0.5529999999999999
          ],
          "size": 8
         },
         "mode": "markers",
         "text": [
          "Drake - God's Plan",
          "XXXTENTACION - SAD!",
          "Post Malone - rockstar (feat. 21 Savage)",
          "Post Malone - Psycho (feat. Ty Dolla $ign)",
          "Drake - In My Feelings",
          "Post Malone - Better Now",
          "Cardi B - I Like It",
          "Calvin Harris - One Kiss (with Dua Lipa)",
          "Dua Lipa - IDGAF",
          "Marshmello - FRIENDS",
          "Camila Cabello - Havana",
          "Juice WRLD - Lucid Dreams",
          "Drake - Nice For What",
          "Maroon 5 - Girls Like You (feat. Cardi B)",
          "Zedd - The Middle",
          "Kendrick Lamar - All The Stars (with SZA)",
          "Ariana Grande - no tears left to cry",
          "Nicky Jam - X",
          "XXXTENTACION - Moonlight",
          "BlocBoy JB - Look Alive (feat. Drake)",
          "Rudimental - These Days (feat. Jess Glynne, Macklemore & Dan Caplen)",
          "Nio Garcia - Te Bot? - Remix",
          "Bazzi - Mine",
          "5 Seconds of Summer - Youngblood",
          "Dua Lipa - New Rules",
          "Ed Sheeran - Shape of You",
          "Khalid - Love Lies (with Normani)",
          "Bebe Rexha - Meant to Be (feat. Florida Georgia Line)",
          "XXXTENTACION - Jocelyn Flores",
          "Ed Sheeran - Perfect",
          "Tyga - Taste (feat. Offset)",
          "Clean Bandit - Solo (feat. Demi Lovato)",
          "Post Malone - I Fall Apart",
          "Dennis Lloyd - Nevermind",
          "Luis Fonsi - ?chame La Culpa",
          "benny blanco - Eastside (with Halsey & Khalid)",
          "Camila Cabello - Never Be the Same",
          "Selena Gomez - Wolves",
          "XXXTENTACION - changes",
          "Dynoro - In My Mind",
          "Eminem - River (feat. Ed Sheeran)",
          "Daddy Yankee - Dura",
          "Travis Scott - SICKO MODE",
          "Imagine Dragons - Thunder",
          "Reik - Me Niego",
          "Ti?sto - Jackie Chan",
          "Bruno Mars - Finesse (Remix) [feat. Cardi B]",
          "Selena Gomez - Back To You - From 13 Reasons Why ? Season 2 Soundtrack",
          "NF - Let You Down",
          "The Weeknd - Call Out My Name",
          "Offset - Ric Flair Drip (& Metro Boomin)",
          "Marshmello - Happier",
          "Sam Smith - Too Good At Goodbyes",
          "Lil Dicky - Freaky Friday (feat. Chris Brown)",
          "Imagine Dragons - Believer",
          "6ix9ine - FEFE (feat. Nicki Minaj & Murda Beatz)",
          "Jonas Blue - Rise",
          "Loud Luxury - Body (feat. brando)",
          "Lil Uzi Vert - XO TOUR Llif3",
          "Becky G - Sin Pijama",
          "Anne-Marie - 2002",
          "Drake - Nonstop",
          "XXXTENTACION - Fuck Love (feat. Trippie Redd)",
          "Shawn Mendes - In My Blood",
          "Marshmello - Silence",
          "Ariana Grande - God is a woman",
          "Piso 21 - D?jala que vuelva (feat. Manuel Turizo)",
          "David Guetta - Flames",
          "Maroon 5 - What Lovers Do",
          "DJ Snake - Taki Taki (with Selena Gomez, Ozuna & Cardi B)",
          "Hailee Steinfeld - Let Me Go (with Alesso, Florida Georgia Line & watt)",
          "Portugal. The Man - Feel It Still",
          "The Weeknd - Pray For Me (with Kendrick Lamar)",
          "Migos - Walk It Talk It",
          "G-Eazy - Him & I (with Halsey)",
          "Post Malone - Candy Paint",
          "Post Malone - Congratulations",
          "Sofia Reyes - 1, 2, 3 (feat. Jason Derulo & De La Ghetto)",
          "Natti Natasha - Criminal",
          "Rich The Kid - Plug Walk",
          "Billie Eilish - lovely (with Khalid)",
          "Migos - Stir Fry",
          "Kendrick Lamar - HUMBLE.",
          "Ozuna - Vaina Loca",
          "Ed Sheeran - Perfect Duet (Ed Sheeran & Beyonc?)",
          "Maluma - Coraz?n (feat. Nego do Borel)",
          "Khalid - Young Dumb & Broke",
          "Ozuna - S?guelo Bailando",
          "Anitta - Downtown",
          "Wolfine - Bella",
          "Calvin Harris - Promises (with Sam Smith)",
          "Lil Baby - Yes Indeed",
          "Lauv - I Like Me Better",
          "Keala Settle - This Is Me",
          "XXXTENTACION - Everybody Dies In Their Nightmares",
          "Zac Efron - Rewrite The Stars",
          "Clean Bandit - I Miss You (feat. Julia Michaels)",
          "DJ Khaled - No Brainer",
          "ZAYN - Dusk Till Dawn - Radio Edit",
          "Dean Lewis - Be Alright"
         ],
         "type": "scatter3d",
         "x": [
          0.4376000038300522,
          0.015634024849270293,
          0.31360789005825557,
          0.4342751740962731,
          0.03392141175149955,
          0.21416431838217656,
          -0.3274452238762874,
          -0.49451252728003425,
          0.04697868673373987,
          -0.48010183281020014,
          0.053088367919273655,
          0.42523301553456583,
          -0.35578050977083675,
          0.3267463587698072,
          -0.1914057796406787,
          -0.11937438424999099,
          -0.07146972082003294,
          -0.3547094986088773,
          0.11016501681010747,
          0.09126699139621192,
          -0.30688348183514147,
          -0.030511190590691736,
          -0.4641596979429958,
          -0.041718671280727315,
          -0.16306812840418386,
          -0.28089348786402,
          0.035648230801126696,
          -0.13782892512227263,
          0.6387298550922587,
          0.39801428805502664,
          0.21756365443561915,
          -0.18529906425435858,
          0.15486289542254195,
          0.37221063710186914,
          -0.5293234605393272,
          0.3994112591250614,
          -0.029406271585217324,
          -0.17196184817876295,
          0.8841190328628392,
          0.03582431900433748,
          -0.10150227140193577,
          -0.5637802504676883,
          -0.25140201182220545,
          -0.19814305908780547,
          -0.44198642740900257,
          -0.42522562519640295,
          -0.5385680394811547,
          -0.1708445457809703,
          -0.004679425158692699,
          0.17537354120861148,
          0.47383992829169513,
          -0.4529183892640382,
          0.5948966786338927,
          -0.12325475325836692,
          -0.3546882974859835,
          0.5669341124269409,
          -0.25261550277527245,
          -0.31346006321345393,
          -0.039511137825804496,
          -0.36378650404296836,
          -0.34479088714201106,
          0.3644362353631925,
          0.4134205277662707,
          0.022114758350254775,
          -0.1454699671110299,
          0.06735359757614127,
          -0.4532319234155721,
          0.012643941833782413,
          -0.00765216609693203,
          -0.30263234073414375,
          -0.3541018541664536,
          -0.38939230290181026,
          0.03289674652650558,
          0.007668769967418661,
          0.07533098134074162,
          0.2296296381584306,
          -0.25684988574237627,
          -0.6031108548660298,
          -0.6179663709139511,
          0.3538391462154797,
          1.1660136750808847,
          -0.22132762153216923,
          0.048023009385199024,
          -0.25592841852408627,
          0.7513126467879929,
          -0.10337924093668428,
          0.19022454488315022,
          -0.009501421628754876,
          -0.13865908540040758,
          -0.005034058122221246,
          -0.18270244690459048,
          0.5260653188951706,
          0.47323243094976364,
          0.2795157651739835,
          0.327727566415094,
          0.1842104451623282,
          0.14297600409423245,
          -0.2227220418246534,
          0.4955595536001897,
          0.3323679001710057
         ],
         "y": [
          -0.03355929027518259,
          -0.2255992365787432,
          0.4421767827025983,
          -0.14438846632584615,
          0.010696697350530427,
          0.061758733629491976,
          0.005565466290788018,
          0.04553171375916399,
          -0.12663330889502739,
          -0.0392691991798589,
          -0.07149465597411583,
          0.05213534084482729,
          -0.10195429196013522,
          -0.26829924959075047,
          -0.03940216256133202,
          -0.07696949969707287,
          0.2091750477482743,
          0.27644121315966375,
          -0.45340668361368963,
          0.003868174100489481,
          -0.0854702515930948,
          -0.33216973749247963,
          0.10347307395337409,
          0.47304102836387374,
          -0.009831684735469581,
          -0.660750389083383,
          0.23181765892156592,
          0.1971048990602314,
          -0.18187257658463404,
          0.10103761968312064,
          -0.016371592502786053,
          -0.034572735303254554,
          0.32261065764328156,
          0.31708094148152355,
          -0.0686920550905058,
          -0.10260740471662039,
          0.2512379315692415,
          0.2082036556908844,
          -0.7111997780147575,
          0.28791109550909766,
          -0.14819997298719192,
          -0.2759015090831759,
          0.24092404951426788,
          0.594169171012002,
          -0.15241778985679647,
          -0.18115562717477515,
          -0.20682643764555436,
          0.028324038657180008,
          0.11498789141413157,
          0.34911987868537603,
          -0.09395268904721567,
          -0.1536157172332347,
          -0.47222389324626224,
          -0.1277514068788153,
          -0.02806632695826062,
          0.006495824229623171,
          -0.1924437440305326,
          0.014590604627050568,
          0.32514525822657414,
          -0.4332416411761157,
          -0.07242750981311813,
          0.11085633368103477,
          0.147869785108469,
          0.20063809818535647,
          0.3047326787960607,
          0.3874524260256653,
          0.08265557149071359,
          0.019357852445623495,
          -0.0055543445988168625,
          -0.15535212349103805,
          -0.12710538825491663,
          -0.2743079641419424,
          0.17036415049225498,
          0.123636802913736,
          0.23773406642152528,
          0.04912534851151926,
          0.08099101902040104,
          -0.27125974077298953,
          -0.29819029195381086,
          -0.007052577615295769,
          -0.13101736540452996,
          0.3583019159061864,
          0.15276676059394415,
          -0.1875900827550771,
          -0.39020308687604066,
          0.10481530855417197,
          0.04010283283775854,
          -0.2428487201951558,
          0.07058533441510689,
          -0.4524755742210856,
          0.12010597473614065,
          -0.12604747717125322,
          -0.3007766791233733,
          0.8491067571557475,
          -0.4840997148390823,
          0.20608613472905377,
          0.035168031030347276,
          0.1554121311963217,
          0.6749828843857469,
          -0.18085300014690914
         ],
         "z": [
          0.1276891941730562,
          -0.027637739735226652,
          -0.1060448596592569,
          -0.04418081426046845,
          0.08438561636986361,
          -0.1699070219073707,
          0.09533269700402444,
          0.04122168397321164,
          0.14705419001219228,
          -0.3025109516610129,
          -0.12847414057695428,
          -0.14976174248997634,
          -0.07066732519905966,
          -0.0959008306285772,
          -0.15976799950250362,
          -0.044778513883973706,
          -0.07726576060252661,
          -0.06087879477204691,
          0.030863390841119574,
          0.5566972892010944,
          -0.21901548523375075,
          0.01915887928941383,
          -0.02021505823601195,
          0.32737938633494545,
          0.08730469615674188,
          -0.12277200716928713,
          -0.06822394703915205,
          0.048039351430927336,
          0.30118245900053814,
          -0.23006881832284806,
          0.22746893564419396,
          -0.06275060057009793,
          -0.1830375170545091,
          -0.02345442644719093,
          -0.0936530851011533,
          0.006319318737876058,
          -0.20400409302403358,
          -0.16367995179552225,
          -0.2781198482721041,
          -0.0585305394507936,
          0.5962206484985356,
          -0.09473652358253118,
          0.2559070433159448,
          -0.17551209488346242,
          0.01573296599087235,
          -0.2012563104967171,
          0.09836764270927595,
          -0.16935432518774143,
          -0.07019215937898947,
          -0.37670616109281746,
          0.3297271217244113,
          -0.20171616860080388,
          -0.1823814529767453,
          0.2615402929920561,
          0.1118022841958645,
          0.7289476420287547,
          -0.21490456406592032,
          -0.034602457931336164,
          0.27155875225054366,
          -0.12024931700105145,
          -0.028733914416644298,
          0.363223946419677,
          0.16811239880753368,
          -0.006082356295709008,
          -0.3373731669537894,
          -0.11684729343971136,
          0.061435004448980736,
          -0.13492660814150126,
          0.011383938802875488,
          0.20419454064526577,
          -0.06052017781251803,
          0.04158497299839992,
          -0.07254419625974226,
          0.3095763157082857,
          -0.1697818361754783,
          -0.1110845614863786,
          -0.25174823209688746,
          -0.06276298370297684,
          -0.0072471145654507425,
          0.10369414346982037,
          -0.5718518474368829,
          0.3820147527628487,
          0.2582160647323977,
          -0.15670382719445186,
          -0.4001822640618087,
          0.24670815527827816,
          -0.007678841759967065,
          0.10925524395998468,
          0.12957002092242315,
          0.23767263413577966,
          0.00396045671957293,
          0.9861865157705242,
          0.11520938534686306,
          -0.10692763087789507,
          -0.12350986380347366,
          -0.06091903320181839,
          -0.19053196133405356,
          0.24572278226246408,
          -0.3610525637557797,
          -0.401699072500982
         ]
        }
       ],
       "layout": {
        "template": {
         "data": {
          "bar": [
           {
            "error_x": {
             "color": "#2a3f5f"
            },
            "error_y": {
             "color": "#2a3f5f"
            },
            "marker": {
             "line": {
              "color": "#E5ECF6",
              "width": 0.5
             }
            },
            "type": "bar"
           }
          ],
          "barpolar": [
           {
            "marker": {
             "line": {
              "color": "#E5ECF6",
              "width": 0.5
             }
            },
            "type": "barpolar"
           }
          ],
          "carpet": [
           {
            "aaxis": {
             "endlinecolor": "#2a3f5f",
             "gridcolor": "white",
             "linecolor": "white",
             "minorgridcolor": "white",
             "startlinecolor": "#2a3f5f"
            },
            "baxis": {
             "endlinecolor": "#2a3f5f",
             "gridcolor": "white",
             "linecolor": "white",
             "minorgridcolor": "white",
             "startlinecolor": "#2a3f5f"
            },
            "type": "carpet"
           }
          ],
          "choropleth": [
           {
            "colorbar": {
             "outlinewidth": 0,
             "ticks": ""
            },
            "type": "choropleth"
           }
          ],
          "contour": [
           {
            "colorbar": {
             "outlinewidth": 0,
             "ticks": ""
            },
            "colorscale": [
             [
              0,
              "#0d0887"
             ],
             [
              0.1111111111111111,
              "#46039f"
             ],
             [
              0.2222222222222222,
              "#7201a8"
             ],
             [
              0.3333333333333333,
              "#9c179e"
             ],
             [
              0.4444444444444444,
              "#bd3786"
             ],
             [
              0.5555555555555556,
              "#d8576b"
             ],
             [
              0.6666666666666666,
              "#ed7953"
             ],
             [
              0.7777777777777778,
              "#fb9f3a"
             ],
             [
              0.8888888888888888,
              "#fdca26"
             ],
             [
              1,
              "#f0f921"
             ]
            ],
            "type": "contour"
           }
          ],
          "contourcarpet": [
           {
            "colorbar": {
             "outlinewidth": 0,
             "ticks": ""
            },
            "type": "contourcarpet"
           }
          ],
          "heatmap": [
           {
            "colorbar": {
             "outlinewidth": 0,
             "ticks": ""
            },
            "colorscale": [
             [
              0,
              "#0d0887"
             ],
             [
              0.1111111111111111,
              "#46039f"
             ],
             [
              0.2222222222222222,
              "#7201a8"
             ],
             [
              0.3333333333333333,
              "#9c179e"
             ],
             [
              0.4444444444444444,
              "#bd3786"
             ],
             [
              0.5555555555555556,
              "#d8576b"
             ],
             [
              0.6666666666666666,
              "#ed7953"
             ],
             [
              0.7777777777777778,
              "#fb9f3a"
             ],
             [
              0.8888888888888888,
              "#fdca26"
             ],
             [
              1,
              "#f0f921"
             ]
            ],
            "type": "heatmap"
           }
          ],
          "heatmapgl": [
           {
            "colorbar": {
             "outlinewidth": 0,
             "ticks": ""
            },
            "colorscale": [
             [
              0,
              "#0d0887"
             ],
             [
              0.1111111111111111,
              "#46039f"
             ],
             [
              0.2222222222222222,
              "#7201a8"
             ],
             [
              0.3333333333333333,
              "#9c179e"
             ],
             [
              0.4444444444444444,
              "#bd3786"
             ],
             [
              0.5555555555555556,
              "#d8576b"
             ],
             [
              0.6666666666666666,
              "#ed7953"
             ],
             [
              0.7777777777777778,
              "#fb9f3a"
             ],
             [
              0.8888888888888888,
              "#fdca26"
             ],
             [
              1,
              "#f0f921"
             ]
            ],
            "type": "heatmapgl"
           }
          ],
          "histogram": [
           {
            "marker": {
             "colorbar": {
              "outlinewidth": 0,
              "ticks": ""
             }
            },
            "type": "histogram"
           }
          ],
          "histogram2d": [
           {
            "colorbar": {
             "outlinewidth": 0,
             "ticks": ""
            },
            "colorscale": [
             [
              0,
              "#0d0887"
             ],
             [
              0.1111111111111111,
              "#46039f"
             ],
             [
              0.2222222222222222,
              "#7201a8"
             ],
             [
              0.3333333333333333,
              "#9c179e"
             ],
             [
              0.4444444444444444,
              "#bd3786"
             ],
             [
              0.5555555555555556,
              "#d8576b"
             ],
             [
              0.6666666666666666,
              "#ed7953"
             ],
             [
              0.7777777777777778,
              "#fb9f3a"
             ],
             [
              0.8888888888888888,
              "#fdca26"
             ],
             [
              1,
              "#f0f921"
             ]
            ],
            "type": "histogram2d"
           }
          ],
          "histogram2dcontour": [
           {
            "colorbar": {
             "outlinewidth": 0,
             "ticks": ""
            },
            "colorscale": [
             [
              0,
              "#0d0887"
             ],
             [
              0.1111111111111111,
              "#46039f"
             ],
             [
              0.2222222222222222,
              "#7201a8"
             ],
             [
              0.3333333333333333,
              "#9c179e"
             ],
             [
              0.4444444444444444,
              "#bd3786"
             ],
             [
              0.5555555555555556,
              "#d8576b"
             ],
             [
              0.6666666666666666,
              "#ed7953"
             ],
             [
              0.7777777777777778,
              "#fb9f3a"
             ],
             [
              0.8888888888888888,
              "#fdca26"
             ],
             [
              1,
              "#f0f921"
             ]
            ],
            "type": "histogram2dcontour"
           }
          ],
          "mesh3d": [
           {
            "colorbar": {
             "outlinewidth": 0,
             "ticks": ""
            },
            "type": "mesh3d"
           }
          ],
          "parcoords": [
           {
            "line": {
             "colorbar": {
              "outlinewidth": 0,
              "ticks": ""
             }
            },
            "type": "parcoords"
           }
          ],
          "pie": [
           {
            "automargin": true,
            "type": "pie"
           }
          ],
          "scatter": [
           {
            "marker": {
             "colorbar": {
              "outlinewidth": 0,
              "ticks": ""
             }
            },
            "type": "scatter"
           }
          ],
          "scatter3d": [
           {
            "line": {
             "colorbar": {
              "outlinewidth": 0,
              "ticks": ""
             }
            },
            "marker": {
             "colorbar": {
              "outlinewidth": 0,
              "ticks": ""
             }
            },
            "type": "scatter3d"
           }
          ],
          "scattercarpet": [
           {
            "marker": {
             "colorbar": {
              "outlinewidth": 0,
              "ticks": ""
             }
            },
            "type": "scattercarpet"
           }
          ],
          "scattergeo": [
           {
            "marker": {
             "colorbar": {
              "outlinewidth": 0,
              "ticks": ""
             }
            },
            "type": "scattergeo"
           }
          ],
          "scattergl": [
           {
            "marker": {
             "colorbar": {
              "outlinewidth": 0,
              "ticks": ""
             }
            },
            "type": "scattergl"
           }
          ],
          "scattermapbox": [
           {
            "marker": {
             "colorbar": {
              "outlinewidth": 0,
              "ticks": ""
             }
            },
            "type": "scattermapbox"
           }
          ],
          "scatterpolar": [
           {
            "marker": {
             "colorbar": {
              "outlinewidth": 0,
              "ticks": ""
             }
            },
            "type": "scatterpolar"
           }
          ],
          "scatterpolargl": [
           {
            "marker": {
             "colorbar": {
              "outlinewidth": 0,
              "ticks": ""
             }
            },
            "type": "scatterpolargl"
           }
          ],
          "scatterternary": [
           {
            "marker": {
             "colorbar": {
              "outlinewidth": 0,
              "ticks": ""
             }
            },
            "type": "scatterternary"
           }
          ],
          "surface": [
           {
            "colorbar": {
             "outlinewidth": 0,
             "ticks": ""
            },
            "colorscale": [
             [
              0,
              "#0d0887"
             ],
             [
              0.1111111111111111,
              "#46039f"
             ],
             [
              0.2222222222222222,
              "#7201a8"
             ],
             [
              0.3333333333333333,
              "#9c179e"
             ],
             [
              0.4444444444444444,
              "#bd3786"
             ],
             [
              0.5555555555555556,
              "#d8576b"
             ],
             [
              0.6666666666666666,
              "#ed7953"
             ],
             [
              0.7777777777777778,
              "#fb9f3a"
             ],
             [
              0.8888888888888888,
              "#fdca26"
             ],
             [
              1,
              "#f0f921"
             ]
            ],
            "type": "surface"
           }
          ],
          "table": [
           {
            "cells": {
             "fill": {
              "color": "#EBF0F8"
             },
             "line": {
              "color": "white"
             }
            },
            "header": {
             "fill": {
              "color": "#C8D4E3"
             },
             "line": {
              "color": "white"
             }
            },
            "type": "table"
           }
          ]
         },
         "layout": {
          "annotationdefaults": {
           "arrowcolor": "#2a3f5f",
           "arrowhead": 0,
           "arrowwidth": 1
          },
          "coloraxis": {
           "colorbar": {
            "outlinewidth": 0,
            "ticks": ""
           }
          },
          "colorscale": {
           "diverging": [
            [
             0,
             "#8e0152"
            ],
            [
             0.1,
             "#c51b7d"
            ],
            [
             0.2,
             "#de77ae"
            ],
            [
             0.3,
             "#f1b6da"
            ],
            [
             0.4,
             "#fde0ef"
            ],
            [
             0.5,
             "#f7f7f7"
            ],
            [
             0.6,
             "#e6f5d0"
            ],
            [
             0.7,
             "#b8e186"
            ],
            [
             0.8,
             "#7fbc41"
            ],
            [
             0.9,
             "#4d9221"
            ],
            [
             1,
             "#276419"
            ]
           ],
           "sequential": [
            [
             0,
             "#0d0887"
            ],
            [
             0.1111111111111111,
             "#46039f"
            ],
            [
             0.2222222222222222,
             "#7201a8"
            ],
            [
             0.3333333333333333,
             "#9c179e"
            ],
            [
             0.4444444444444444,
             "#bd3786"
            ],
            [
             0.5555555555555556,
             "#d8576b"
            ],
            [
             0.6666666666666666,
             "#ed7953"
            ],
            [
             0.7777777777777778,
             "#fb9f3a"
            ],
            [
             0.8888888888888888,
             "#fdca26"
            ],
            [
             1,
             "#f0f921"
            ]
           ],
           "sequentialminus": [
            [
             0,
             "#0d0887"
            ],
            [
             0.1111111111111111,
             "#46039f"
            ],
            [
             0.2222222222222222,
             "#7201a8"
            ],
            [
             0.3333333333333333,
             "#9c179e"
            ],
            [
             0.4444444444444444,
             "#bd3786"
            ],
            [
             0.5555555555555556,
             "#d8576b"
            ],
            [
             0.6666666666666666,
             "#ed7953"
            ],
            [
             0.7777777777777778,
             "#fb9f3a"
            ],
            [
             0.8888888888888888,
             "#fdca26"
            ],
            [
             1,
             "#f0f921"
            ]
           ]
          },
          "colorway": [
           "#636efa",
           "#EF553B",
           "#00cc96",
           "#ab63fa",
           "#FFA15A",
           "#19d3f3",
           "#FF6692",
           "#B6E880",
           "#FF97FF",
           "#FECB52"
          ],
          "font": {
           "color": "#2a3f5f"
          },
          "geo": {
           "bgcolor": "white",
           "lakecolor": "white",
           "landcolor": "#E5ECF6",
           "showlakes": true,
           "showland": true,
           "subunitcolor": "white"
          },
          "hoverlabel": {
           "align": "left"
          },
          "hovermode": "closest",
          "mapbox": {
           "style": "light"
          },
          "paper_bgcolor": "white",
          "plot_bgcolor": "#E5ECF6",
          "polar": {
           "angularaxis": {
            "gridcolor": "white",
            "linecolor": "white",
            "ticks": ""
           },
           "bgcolor": "#E5ECF6",
           "radialaxis": {
            "gridcolor": "white",
            "linecolor": "white",
            "ticks": ""
           }
          },
          "scene": {
           "xaxis": {
            "backgroundcolor": "#E5ECF6",
            "gridcolor": "white",
            "gridwidth": 2,
            "linecolor": "white",
            "showbackground": true,
            "ticks": "",
            "zerolinecolor": "white"
           },
           "yaxis": {
            "backgroundcolor": "#E5ECF6",
            "gridcolor": "white",
            "gridwidth": 2,
            "linecolor": "white",
            "showbackground": true,
            "ticks": "",
            "zerolinecolor": "white"
           },
           "zaxis": {
            "backgroundcolor": "#E5ECF6",
            "gridcolor": "white",
            "gridwidth": 2,
            "linecolor": "white",
            "showbackground": true,
            "ticks": "",
            "zerolinecolor": "white"
           }
          },
          "shapedefaults": {
           "line": {
            "color": "#2a3f5f"
           }
          },
          "ternary": {
           "aaxis": {
            "gridcolor": "white",
            "linecolor": "white",
            "ticks": ""
           },
           "baxis": {
            "gridcolor": "white",
            "linecolor": "white",
            "ticks": ""
           },
           "bgcolor": "#E5ECF6",
           "caxis": {
            "gridcolor": "white",
            "linecolor": "white",
            "ticks": ""
           }
          },
          "title": {
           "x": 0.05
          },
          "xaxis": {
           "automargin": true,
           "gridcolor": "white",
           "linecolor": "white",
           "ticks": "",
           "title": {
            "standoff": 15
           },
           "zerolinecolor": "white",
           "zerolinewidth": 2
          },
          "yaxis": {
           "automargin": true,
           "gridcolor": "white",
           "linecolor": "white",
           "ticks": "",
           "title": {
            "standoff": 15
           },
           "zerolinecolor": "white",
           "zerolinewidth": 2
          }
         }
        }
       }
      },
      "text/html": [
       "<div>\n",
       "        \n",
       "        \n",
       "            <div id=\"9a2e3a74-4f31-46bd-8918-c2639569bc9a\" class=\"plotly-graph-div\" style=\"height:525px; width:100%;\"></div>\n",
       "            <script type=\"text/javascript\">\n",
       "                require([\"plotly\"], function(Plotly) {\n",
       "                    window.PLOTLYENV=window.PLOTLYENV || {};\n",
       "                    \n",
       "                if (document.getElementById(\"9a2e3a74-4f31-46bd-8918-c2639569bc9a\")) {\n",
       "                    Plotly.newPlot(\n",
       "                        '9a2e3a74-4f31-46bd-8918-c2639569bc9a',\n",
       "                        [{\"marker\": {\"color\": [0.754, 0.74, 0.5870000000000001, 0.7390000000000001, 0.835, 0.68, 0.816, 0.7909999999999999, 0.836, 0.626, 0.765, 0.511, 0.586, 0.851, 0.753, 0.698, 0.6990000000000001, 0.595, 0.9209999999999999, 0.922, 0.653, 0.903, 0.71, 0.596, 0.762, 0.825, 0.708, 0.642, 0.872, 0.599, 0.884, 0.737, 0.556, 0.5920000000000001, 0.726, 0.56, 0.637, 0.72, 0.669, 0.6940000000000001, 0.748, 0.7909999999999999, 0.8340000000000001, 0.605, 0.777, 0.747, 0.7040000000000001, 0.601, 0.6559999999999999, 0.489, 0.88, 0.687, 0.698, 0.755, 0.7759999999999999, 0.9309999999999999, 0.687, 0.752, 0.732, 0.7909999999999999, 0.6970000000000001, 0.912, 0.797, 0.622, 0.52, 0.602, 0.6809999999999999, 0.631, 0.799, 0.841, 0.6629999999999999, 0.8009999999999999, 0.735, 0.909, 0.589, 0.67, 0.63, 0.792, 0.8140000000000001, 0.8759999999999999, 0.35100000000000003, 0.815, 0.9079999999999999, 0.754, 0.5870000000000001, 0.722, 0.7979999999999999, 0.855, 0.775, 0.909, 0.7809999999999999, 0.9640000000000001, 0.752, 0.284, 0.7340000000000001, 0.684, 0.638, 0.552, 0.258, 0.5529999999999999], \"size\": 8}, \"mode\": \"markers\", \"text\": [\"Drake - God's Plan\", \"XXXTENTACION - SAD!\", \"Post Malone - rockstar (feat. 21 Savage)\", \"Post Malone - Psycho (feat. Ty Dolla $ign)\", \"Drake - In My Feelings\", \"Post Malone - Better Now\", \"Cardi B - I Like It\", \"Calvin Harris - One Kiss (with Dua Lipa)\", \"Dua Lipa - IDGAF\", \"Marshmello - FRIENDS\", \"Camila Cabello - Havana\", \"Juice WRLD - Lucid Dreams\", \"Drake - Nice For What\", \"Maroon 5 - Girls Like You (feat. Cardi B)\", \"Zedd - The Middle\", \"Kendrick Lamar - All The Stars (with SZA)\", \"Ariana Grande - no tears left to cry\", \"Nicky Jam - X\", \"XXXTENTACION - Moonlight\", \"BlocBoy JB - Look Alive (feat. Drake)\", \"Rudimental - These Days (feat. Jess Glynne, Macklemore & Dan Caplen)\", \"Nio Garcia - Te Bot? - Remix\", \"Bazzi - Mine\", \"5 Seconds of Summer - Youngblood\", \"Dua Lipa - New Rules\", \"Ed Sheeran - Shape of You\", \"Khalid - Love Lies (with Normani)\", \"Bebe Rexha - Meant to Be (feat. Florida Georgia Line)\", \"XXXTENTACION - Jocelyn Flores\", \"Ed Sheeran - Perfect\", \"Tyga - Taste (feat. Offset)\", \"Clean Bandit - Solo (feat. Demi Lovato)\", \"Post Malone - I Fall Apart\", \"Dennis Lloyd - Nevermind\", \"Luis Fonsi - ?chame La Culpa\", \"benny blanco - Eastside (with Halsey & Khalid)\", \"Camila Cabello - Never Be the Same\", \"Selena Gomez - Wolves\", \"XXXTENTACION - changes\", \"Dynoro - In My Mind\", \"Eminem - River (feat. Ed Sheeran)\", \"Daddy Yankee - Dura\", \"Travis Scott - SICKO MODE\", \"Imagine Dragons - Thunder\", \"Reik - Me Niego\", \"Ti?sto - Jackie Chan\", \"Bruno Mars - Finesse (Remix) [feat. Cardi B]\", \"Selena Gomez - Back To You - From 13 Reasons Why ? Season 2 Soundtrack\", \"NF - Let You Down\", \"The Weeknd - Call Out My Name\", \"Offset - Ric Flair Drip (& Metro Boomin)\", \"Marshmello - Happier\", \"Sam Smith - Too Good At Goodbyes\", \"Lil Dicky - Freaky Friday (feat. Chris Brown)\", \"Imagine Dragons - Believer\", \"6ix9ine - FEFE (feat. Nicki Minaj & Murda Beatz)\", \"Jonas Blue - Rise\", \"Loud Luxury - Body (feat. brando)\", \"Lil Uzi Vert - XO TOUR Llif3\", \"Becky G - Sin Pijama\", \"Anne-Marie - 2002\", \"Drake - Nonstop\", \"XXXTENTACION - Fuck Love (feat. Trippie Redd)\", \"Shawn Mendes - In My Blood\", \"Marshmello - Silence\", \"Ariana Grande - God is a woman\", \"Piso 21 - D?jala que vuelva (feat. Manuel Turizo)\", \"David Guetta - Flames\", \"Maroon 5 - What Lovers Do\", \"DJ Snake - Taki Taki (with Selena Gomez, Ozuna & Cardi B)\", \"Hailee Steinfeld - Let Me Go (with Alesso, Florida Georgia Line & watt)\", \"Portugal. The Man - Feel It Still\", \"The Weeknd - Pray For Me (with Kendrick Lamar)\", \"Migos - Walk It Talk It\", \"G-Eazy - Him & I (with Halsey)\", \"Post Malone - Candy Paint\", \"Post Malone - Congratulations\", \"Sofia Reyes - 1, 2, 3 (feat. Jason Derulo & De La Ghetto)\", \"Natti Natasha - Criminal\", \"Rich The Kid - Plug Walk\", \"Billie Eilish - lovely (with Khalid)\", \"Migos - Stir Fry\", \"Kendrick Lamar - HUMBLE.\", \"Ozuna - Vaina Loca\", \"Ed Sheeran - Perfect Duet (Ed Sheeran & Beyonc?)\", \"Maluma - Coraz?n (feat. Nego do Borel)\", \"Khalid - Young Dumb & Broke\", \"Ozuna - S?guelo Bailando\", \"Anitta - Downtown\", \"Wolfine - Bella\", \"Calvin Harris - Promises (with Sam Smith)\", \"Lil Baby - Yes Indeed\", \"Lauv - I Like Me Better\", \"Keala Settle - This Is Me\", \"XXXTENTACION - Everybody Dies In Their Nightmares\", \"Zac Efron - Rewrite The Stars\", \"Clean Bandit - I Miss You (feat. Julia Michaels)\", \"DJ Khaled - No Brainer\", \"ZAYN - Dusk Till Dawn - Radio Edit\", \"Dean Lewis - Be Alright\"], \"type\": \"scatter3d\", \"x\": [0.4376000038300522, 0.015634024849270293, 0.31360789005825557, 0.4342751740962731, 0.03392141175149955, 0.21416431838217656, -0.3274452238762874, -0.49451252728003425, 0.04697868673373987, -0.48010183281020014, 0.053088367919273655, 0.42523301553456583, -0.35578050977083675, 0.3267463587698072, -0.1914057796406787, -0.11937438424999099, -0.07146972082003294, -0.3547094986088773, 0.11016501681010747, 0.09126699139621192, -0.30688348183514147, -0.030511190590691736, -0.4641596979429958, -0.041718671280727315, -0.16306812840418386, -0.28089348786402, 0.035648230801126696, -0.13782892512227263, 0.6387298550922587, 0.39801428805502664, 0.21756365443561915, -0.18529906425435858, 0.15486289542254195, 0.37221063710186914, -0.5293234605393272, 0.3994112591250614, -0.029406271585217324, -0.17196184817876295, 0.8841190328628392, 0.03582431900433748, -0.10150227140193577, -0.5637802504676883, -0.25140201182220545, -0.19814305908780547, -0.44198642740900257, -0.42522562519640295, -0.5385680394811547, -0.1708445457809703, -0.004679425158692699, 0.17537354120861148, 0.47383992829169513, -0.4529183892640382, 0.5948966786338927, -0.12325475325836692, -0.3546882974859835, 0.5669341124269409, -0.25261550277527245, -0.31346006321345393, -0.039511137825804496, -0.36378650404296836, -0.34479088714201106, 0.3644362353631925, 0.4134205277662707, 0.022114758350254775, -0.1454699671110299, 0.06735359757614127, -0.4532319234155721, 0.012643941833782413, -0.00765216609693203, -0.30263234073414375, -0.3541018541664536, -0.38939230290181026, 0.03289674652650558, 0.007668769967418661, 0.07533098134074162, 0.2296296381584306, -0.25684988574237627, -0.6031108548660298, -0.6179663709139511, 0.3538391462154797, 1.1660136750808847, -0.22132762153216923, 0.048023009385199024, -0.25592841852408627, 0.7513126467879929, -0.10337924093668428, 0.19022454488315022, -0.009501421628754876, -0.13865908540040758, -0.005034058122221246, -0.18270244690459048, 0.5260653188951706, 0.47323243094976364, 0.2795157651739835, 0.327727566415094, 0.1842104451623282, 0.14297600409423245, -0.2227220418246534, 0.4955595536001897, 0.3323679001710057], \"y\": [-0.03355929027518259, -0.2255992365787432, 0.4421767827025983, -0.14438846632584615, 0.010696697350530427, 0.061758733629491976, 0.005565466290788018, 0.04553171375916399, -0.12663330889502739, -0.0392691991798589, -0.07149465597411583, 0.05213534084482729, -0.10195429196013522, -0.26829924959075047, -0.03940216256133202, -0.07696949969707287, 0.2091750477482743, 0.27644121315966375, -0.45340668361368963, 0.003868174100489481, -0.0854702515930948, -0.33216973749247963, 0.10347307395337409, 0.47304102836387374, -0.009831684735469581, -0.660750389083383, 0.23181765892156592, 0.1971048990602314, -0.18187257658463404, 0.10103761968312064, -0.016371592502786053, -0.034572735303254554, 0.32261065764328156, 0.31708094148152355, -0.0686920550905058, -0.10260740471662039, 0.2512379315692415, 0.2082036556908844, -0.7111997780147575, 0.28791109550909766, -0.14819997298719192, -0.2759015090831759, 0.24092404951426788, 0.594169171012002, -0.15241778985679647, -0.18115562717477515, -0.20682643764555436, 0.028324038657180008, 0.11498789141413157, 0.34911987868537603, -0.09395268904721567, -0.1536157172332347, -0.47222389324626224, -0.1277514068788153, -0.02806632695826062, 0.006495824229623171, -0.1924437440305326, 0.014590604627050568, 0.32514525822657414, -0.4332416411761157, -0.07242750981311813, 0.11085633368103477, 0.147869785108469, 0.20063809818535647, 0.3047326787960607, 0.3874524260256653, 0.08265557149071359, 0.019357852445623495, -0.0055543445988168625, -0.15535212349103805, -0.12710538825491663, -0.2743079641419424, 0.17036415049225498, 0.123636802913736, 0.23773406642152528, 0.04912534851151926, 0.08099101902040104, -0.27125974077298953, -0.29819029195381086, -0.007052577615295769, -0.13101736540452996, 0.3583019159061864, 0.15276676059394415, -0.1875900827550771, -0.39020308687604066, 0.10481530855417197, 0.04010283283775854, -0.2428487201951558, 0.07058533441510689, -0.4524755742210856, 0.12010597473614065, -0.12604747717125322, -0.3007766791233733, 0.8491067571557475, -0.4840997148390823, 0.20608613472905377, 0.035168031030347276, 0.1554121311963217, 0.6749828843857469, -0.18085300014690914], \"z\": [0.1276891941730562, -0.027637739735226652, -0.1060448596592569, -0.04418081426046845, 0.08438561636986361, -0.1699070219073707, 0.09533269700402444, 0.04122168397321164, 0.14705419001219228, -0.3025109516610129, -0.12847414057695428, -0.14976174248997634, -0.07066732519905966, -0.0959008306285772, -0.15976799950250362, -0.044778513883973706, -0.07726576060252661, -0.06087879477204691, 0.030863390841119574, 0.5566972892010944, -0.21901548523375075, 0.01915887928941383, -0.02021505823601195, 0.32737938633494545, 0.08730469615674188, -0.12277200716928713, -0.06822394703915205, 0.048039351430927336, 0.30118245900053814, -0.23006881832284806, 0.22746893564419396, -0.06275060057009793, -0.1830375170545091, -0.02345442644719093, -0.0936530851011533, 0.006319318737876058, -0.20400409302403358, -0.16367995179552225, -0.2781198482721041, -0.0585305394507936, 0.5962206484985356, -0.09473652358253118, 0.2559070433159448, -0.17551209488346242, 0.01573296599087235, -0.2012563104967171, 0.09836764270927595, -0.16935432518774143, -0.07019215937898947, -0.37670616109281746, 0.3297271217244113, -0.20171616860080388, -0.1823814529767453, 0.2615402929920561, 0.1118022841958645, 0.7289476420287547, -0.21490456406592032, -0.034602457931336164, 0.27155875225054366, -0.12024931700105145, -0.028733914416644298, 0.363223946419677, 0.16811239880753368, -0.006082356295709008, -0.3373731669537894, -0.11684729343971136, 0.061435004448980736, -0.13492660814150126, 0.011383938802875488, 0.20419454064526577, -0.06052017781251803, 0.04158497299839992, -0.07254419625974226, 0.3095763157082857, -0.1697818361754783, -0.1110845614863786, -0.25174823209688746, -0.06276298370297684, -0.0072471145654507425, 0.10369414346982037, -0.5718518474368829, 0.3820147527628487, 0.2582160647323977, -0.15670382719445186, -0.4001822640618087, 0.24670815527827816, -0.007678841759967065, 0.10925524395998468, 0.12957002092242315, 0.23767263413577966, 0.00396045671957293, 0.9861865157705242, 0.11520938534686306, -0.10692763087789507, -0.12350986380347366, -0.06091903320181839, -0.19053196133405356, 0.24572278226246408, -0.3610525637557797, -0.401699072500982]}],\n",
       "                        {\"template\": {\"data\": {\"bar\": [{\"error_x\": {\"color\": \"#2a3f5f\"}, \"error_y\": {\"color\": \"#2a3f5f\"}, \"marker\": {\"line\": {\"color\": \"#E5ECF6\", \"width\": 0.5}}, \"type\": \"bar\"}], \"barpolar\": [{\"marker\": {\"line\": {\"color\": \"#E5ECF6\", \"width\": 0.5}}, \"type\": \"barpolar\"}], \"carpet\": [{\"aaxis\": {\"endlinecolor\": \"#2a3f5f\", \"gridcolor\": \"white\", \"linecolor\": \"white\", \"minorgridcolor\": \"white\", \"startlinecolor\": \"#2a3f5f\"}, \"baxis\": {\"endlinecolor\": \"#2a3f5f\", \"gridcolor\": \"white\", \"linecolor\": \"white\", \"minorgridcolor\": \"white\", \"startlinecolor\": \"#2a3f5f\"}, \"type\": \"carpet\"}], \"choropleth\": [{\"colorbar\": {\"outlinewidth\": 0, \"ticks\": \"\"}, \"type\": \"choropleth\"}], \"contour\": [{\"colorbar\": {\"outlinewidth\": 0, \"ticks\": \"\"}, \"colorscale\": [[0.0, \"#0d0887\"], [0.1111111111111111, \"#46039f\"], [0.2222222222222222, \"#7201a8\"], [0.3333333333333333, \"#9c179e\"], [0.4444444444444444, \"#bd3786\"], [0.5555555555555556, \"#d8576b\"], [0.6666666666666666, \"#ed7953\"], [0.7777777777777778, \"#fb9f3a\"], [0.8888888888888888, \"#fdca26\"], [1.0, \"#f0f921\"]], \"type\": \"contour\"}], \"contourcarpet\": [{\"colorbar\": {\"outlinewidth\": 0, \"ticks\": \"\"}, \"type\": \"contourcarpet\"}], \"heatmap\": [{\"colorbar\": {\"outlinewidth\": 0, \"ticks\": \"\"}, \"colorscale\": [[0.0, \"#0d0887\"], [0.1111111111111111, \"#46039f\"], [0.2222222222222222, \"#7201a8\"], [0.3333333333333333, \"#9c179e\"], [0.4444444444444444, \"#bd3786\"], [0.5555555555555556, \"#d8576b\"], [0.6666666666666666, \"#ed7953\"], [0.7777777777777778, \"#fb9f3a\"], [0.8888888888888888, \"#fdca26\"], [1.0, \"#f0f921\"]], \"type\": \"heatmap\"}], \"heatmapgl\": [{\"colorbar\": {\"outlinewidth\": 0, \"ticks\": \"\"}, \"colorscale\": [[0.0, \"#0d0887\"], [0.1111111111111111, \"#46039f\"], [0.2222222222222222, \"#7201a8\"], [0.3333333333333333, \"#9c179e\"], [0.4444444444444444, \"#bd3786\"], [0.5555555555555556, \"#d8576b\"], [0.6666666666666666, \"#ed7953\"], [0.7777777777777778, \"#fb9f3a\"], [0.8888888888888888, \"#fdca26\"], [1.0, \"#f0f921\"]], \"type\": \"heatmapgl\"}], \"histogram\": [{\"marker\": {\"colorbar\": {\"outlinewidth\": 0, \"ticks\": \"\"}}, \"type\": \"histogram\"}], \"histogram2d\": [{\"colorbar\": {\"outlinewidth\": 0, \"ticks\": \"\"}, \"colorscale\": [[0.0, \"#0d0887\"], [0.1111111111111111, \"#46039f\"], [0.2222222222222222, \"#7201a8\"], [0.3333333333333333, \"#9c179e\"], [0.4444444444444444, \"#bd3786\"], [0.5555555555555556, \"#d8576b\"], [0.6666666666666666, \"#ed7953\"], [0.7777777777777778, \"#fb9f3a\"], [0.8888888888888888, \"#fdca26\"], [1.0, \"#f0f921\"]], \"type\": \"histogram2d\"}], \"histogram2dcontour\": [{\"colorbar\": {\"outlinewidth\": 0, \"ticks\": \"\"}, \"colorscale\": [[0.0, \"#0d0887\"], [0.1111111111111111, \"#46039f\"], [0.2222222222222222, \"#7201a8\"], [0.3333333333333333, \"#9c179e\"], [0.4444444444444444, \"#bd3786\"], [0.5555555555555556, \"#d8576b\"], [0.6666666666666666, \"#ed7953\"], [0.7777777777777778, \"#fb9f3a\"], [0.8888888888888888, \"#fdca26\"], [1.0, \"#f0f921\"]], \"type\": \"histogram2dcontour\"}], \"mesh3d\": [{\"colorbar\": {\"outlinewidth\": 0, \"ticks\": \"\"}, \"type\": \"mesh3d\"}], \"parcoords\": [{\"line\": {\"colorbar\": {\"outlinewidth\": 0, \"ticks\": \"\"}}, \"type\": \"parcoords\"}], \"pie\": [{\"automargin\": true, \"type\": \"pie\"}], \"scatter\": [{\"marker\": {\"colorbar\": {\"outlinewidth\": 0, \"ticks\": \"\"}}, \"type\": \"scatter\"}], \"scatter3d\": [{\"line\": {\"colorbar\": {\"outlinewidth\": 0, \"ticks\": \"\"}}, \"marker\": {\"colorbar\": {\"outlinewidth\": 0, \"ticks\": \"\"}}, \"type\": \"scatter3d\"}], \"scattercarpet\": [{\"marker\": {\"colorbar\": {\"outlinewidth\": 0, \"ticks\": \"\"}}, \"type\": \"scattercarpet\"}], \"scattergeo\": [{\"marker\": {\"colorbar\": {\"outlinewidth\": 0, \"ticks\": \"\"}}, \"type\": \"scattergeo\"}], \"scattergl\": [{\"marker\": {\"colorbar\": {\"outlinewidth\": 0, \"ticks\": \"\"}}, \"type\": \"scattergl\"}], \"scattermapbox\": [{\"marker\": {\"colorbar\": {\"outlinewidth\": 0, \"ticks\": \"\"}}, \"type\": \"scattermapbox\"}], \"scatterpolar\": [{\"marker\": {\"colorbar\": {\"outlinewidth\": 0, \"ticks\": \"\"}}, \"type\": \"scatterpolar\"}], \"scatterpolargl\": [{\"marker\": {\"colorbar\": {\"outlinewidth\": 0, \"ticks\": \"\"}}, \"type\": \"scatterpolargl\"}], \"scatterternary\": [{\"marker\": {\"colorbar\": {\"outlinewidth\": 0, \"ticks\": \"\"}}, \"type\": \"scatterternary\"}], \"surface\": [{\"colorbar\": {\"outlinewidth\": 0, \"ticks\": \"\"}, \"colorscale\": [[0.0, \"#0d0887\"], [0.1111111111111111, \"#46039f\"], [0.2222222222222222, \"#7201a8\"], [0.3333333333333333, \"#9c179e\"], [0.4444444444444444, \"#bd3786\"], [0.5555555555555556, \"#d8576b\"], [0.6666666666666666, \"#ed7953\"], [0.7777777777777778, \"#fb9f3a\"], [0.8888888888888888, \"#fdca26\"], [1.0, \"#f0f921\"]], \"type\": \"surface\"}], \"table\": [{\"cells\": {\"fill\": {\"color\": \"#EBF0F8\"}, \"line\": {\"color\": \"white\"}}, \"header\": {\"fill\": {\"color\": \"#C8D4E3\"}, \"line\": {\"color\": \"white\"}}, \"type\": \"table\"}]}, \"layout\": {\"annotationdefaults\": {\"arrowcolor\": \"#2a3f5f\", \"arrowhead\": 0, \"arrowwidth\": 1}, \"coloraxis\": {\"colorbar\": {\"outlinewidth\": 0, \"ticks\": \"\"}}, \"colorscale\": {\"diverging\": [[0, \"#8e0152\"], [0.1, \"#c51b7d\"], [0.2, \"#de77ae\"], [0.3, \"#f1b6da\"], [0.4, \"#fde0ef\"], [0.5, \"#f7f7f7\"], [0.6, \"#e6f5d0\"], [0.7, \"#b8e186\"], [0.8, \"#7fbc41\"], [0.9, \"#4d9221\"], [1, \"#276419\"]], \"sequential\": [[0.0, \"#0d0887\"], [0.1111111111111111, \"#46039f\"], [0.2222222222222222, \"#7201a8\"], [0.3333333333333333, \"#9c179e\"], [0.4444444444444444, \"#bd3786\"], [0.5555555555555556, \"#d8576b\"], [0.6666666666666666, \"#ed7953\"], [0.7777777777777778, \"#fb9f3a\"], [0.8888888888888888, \"#fdca26\"], [1.0, \"#f0f921\"]], \"sequentialminus\": [[0.0, \"#0d0887\"], [0.1111111111111111, \"#46039f\"], [0.2222222222222222, \"#7201a8\"], [0.3333333333333333, \"#9c179e\"], [0.4444444444444444, \"#bd3786\"], [0.5555555555555556, \"#d8576b\"], [0.6666666666666666, \"#ed7953\"], [0.7777777777777778, \"#fb9f3a\"], [0.8888888888888888, \"#fdca26\"], [1.0, \"#f0f921\"]]}, \"colorway\": [\"#636efa\", \"#EF553B\", \"#00cc96\", \"#ab63fa\", \"#FFA15A\", \"#19d3f3\", \"#FF6692\", \"#B6E880\", \"#FF97FF\", \"#FECB52\"], \"font\": {\"color\": \"#2a3f5f\"}, \"geo\": {\"bgcolor\": \"white\", \"lakecolor\": \"white\", \"landcolor\": \"#E5ECF6\", \"showlakes\": true, \"showland\": true, \"subunitcolor\": \"white\"}, \"hoverlabel\": {\"align\": \"left\"}, \"hovermode\": \"closest\", \"mapbox\": {\"style\": \"light\"}, \"paper_bgcolor\": \"white\", \"plot_bgcolor\": \"#E5ECF6\", \"polar\": {\"angularaxis\": {\"gridcolor\": \"white\", \"linecolor\": \"white\", \"ticks\": \"\"}, \"bgcolor\": \"#E5ECF6\", \"radialaxis\": {\"gridcolor\": \"white\", \"linecolor\": \"white\", \"ticks\": \"\"}}, \"scene\": {\"xaxis\": {\"backgroundcolor\": \"#E5ECF6\", \"gridcolor\": \"white\", \"gridwidth\": 2, \"linecolor\": \"white\", \"showbackground\": true, \"ticks\": \"\", \"zerolinecolor\": \"white\"}, \"yaxis\": {\"backgroundcolor\": \"#E5ECF6\", \"gridcolor\": \"white\", \"gridwidth\": 2, \"linecolor\": \"white\", \"showbackground\": true, \"ticks\": \"\", \"zerolinecolor\": \"white\"}, \"zaxis\": {\"backgroundcolor\": \"#E5ECF6\", \"gridcolor\": \"white\", \"gridwidth\": 2, \"linecolor\": \"white\", \"showbackground\": true, \"ticks\": \"\", \"zerolinecolor\": \"white\"}}, \"shapedefaults\": {\"line\": {\"color\": \"#2a3f5f\"}}, \"ternary\": {\"aaxis\": {\"gridcolor\": \"white\", \"linecolor\": \"white\", \"ticks\": \"\"}, \"baxis\": {\"gridcolor\": \"white\", \"linecolor\": \"white\", \"ticks\": \"\"}, \"bgcolor\": \"#E5ECF6\", \"caxis\": {\"gridcolor\": \"white\", \"linecolor\": \"white\", \"ticks\": \"\"}}, \"title\": {\"x\": 0.05}, \"xaxis\": {\"automargin\": true, \"gridcolor\": \"white\", \"linecolor\": \"white\", \"ticks\": \"\", \"title\": {\"standoff\": 15}, \"zerolinecolor\": \"white\", \"zerolinewidth\": 2}, \"yaxis\": {\"automargin\": true, \"gridcolor\": \"white\", \"linecolor\": \"white\", \"ticks\": \"\", \"title\": {\"standoff\": 15}, \"zerolinecolor\": \"white\", \"zerolinewidth\": 2}}}},\n",
       "                        {\"responsive\": true}\n",
       "                    ).then(function(){\n",
       "                            \n",
       "var gd = document.getElementById('9a2e3a74-4f31-46bd-8918-c2639569bc9a');\n",
       "var x = new MutationObserver(function (mutations, observer) {{\n",
       "        var display = window.getComputedStyle(gd).display;\n",
       "        if (!display || display === 'none') {{\n",
       "            console.log([gd, 'removed!']);\n",
       "            Plotly.purge(gd);\n",
       "            observer.disconnect();\n",
       "        }}\n",
       "}});\n",
       "\n",
       "// Listen for the removal of the full notebook cells\n",
       "var notebookContainer = gd.closest('#notebook-container');\n",
       "if (notebookContainer) {{\n",
       "    x.observe(notebookContainer, {childList: true});\n",
       "}}\n",
       "\n",
       "// Listen for the clearing of the current output cell\n",
       "var outputEl = gd.closest('.output');\n",
       "if (outputEl) {{\n",
       "    x.observe(outputEl, {childList: true});\n",
       "}}\n",
       "\n",
       "                        })\n",
       "                };\n",
       "                });\n",
       "            </script>\n",
       "        </div>"
      ]
     },
     "metadata": {},
     "output_type": "display_data"
    }
   ],
   "source": [
    "\n",
    "feture_to_plot = [\"energy\", \"liveness\", \"tempo\", \"valence\", \"loudness\", \"speechiness\", \"acousticness\", \"danceability\", \"instrumentalness\"]\n",
    "text1 = df_2018[\"artists\"] + \" - \" + df_2018[\"name\"]\n",
    "text2 = text1.values\n",
    "X = df_2018[feture_to_plot].values\n",
    "y = df_2018[\"danceability\"].values\n",
    "min_maxscaler = MinMaxScaler()\n",
    "X = min_maxscaler.fit_transform(X)\n",
    "pca = PCA(n_components=3)\n",
    "pca.fit(X)\n",
    "X = pca.transform(X)\n",
    "\n",
    "plot3d = go.Scatter3d(\n",
    "    x=X[:,0],\n",
    "    y=X[:,1],\n",
    "    z=X[:,2],\n",
    "    text=text2,\n",
    "    mode=\"markers\",\n",
    "    marker=dict(\n",
    "        size=8,\n",
    "        color=y\n",
    "    )\n",
    ")\n",
    "\n",
    "fig = go.Figure(data=[plot3d])\n",
    "py.iplot(fig, filename=\"3d graph\")\n"
   ]
  },
  {
   "cell_type": "code",
   "execution_count": 30,
   "metadata": {},
   "outputs": [
    {
     "data": {
      "image/png": "[encoded data removed]",
      "text/plain": [
       "<Figure size 864x576 with 2 Axes>"
      ]
     },
     "metadata": {
      "needs_background": "light"
     },
     "output_type": "display_data"
    }
   ],
   "source": [
    "correlation = df_2018[['acousticness','danceability','energy','instrumentalness','liveness','tempo','valence',\n",
    "                       'loudness']]\n",
    "plt.figure(figsize=(12,8))\n",
    "sns.heatmap(correlation.corr(), annot=True,cmap=\"coolwarm\");"
   ]
  },
  {
   "cell_type": "markdown",
   "metadata": {},
   "source": [
    "##### We can observe that there is a correlation between the loudness and the perceived energy of the song. The jointplots indicate a correlation between these two. Lets understand  how much one feature si impacted by another feature "
   ]
  },
  {
   "cell_type": "code",
   "execution_count": 31,
   "metadata": {},
   "outputs": [],
   "source": [
    "def create_joinplot(val1,val2,year,colr):\n",
    "    sns.jointplot(val1,val2, data=year,kind='reg',color=colr)"
   ]
  },
  {
   "cell_type": "code",
   "execution_count": 32,
   "metadata": {},
   "outputs": [
    {
     "data": {
      "image/png": "[encoded data removed]",
      "text/plain": [
       "<Figure size 432x432 with 3 Axes>"
      ]
     },
     "metadata": {
      "needs_background": "light"
     },
     "output_type": "display_data"
    },
    {
     "data": {
      "image/png": "[encoded data removed]",
      "text/plain": [
       "<Figure size 432x432 with 3 Axes>"
      ]
     },
     "metadata": {
      "needs_background": "light"
     },
     "output_type": "display_data"
    },
    {
     "data": {
      "image/png": "[encoded data removed]",
      "text/plain": [
       "<Figure size 432x432 with 3 Axes>"
      ]
     },
     "metadata": {
      "needs_background": "light"
     },
     "output_type": "display_data"
    },
    {
     "data": {
      "image/png": "[encoded data removed]",
      "text/plain": [
       "<Figure size 432x432 with 3 Axes>"
      ]
     },
     "metadata": {
      "needs_background": "light"
     },
     "output_type": "display_data"
    }
   ],
   "source": [
    "\n",
    "create_joinplot('loudness','energy',df_2018,'r')\n",
    "create_joinplot('tempo','danceability',df_2018,'b')\n",
    "create_joinplot('acousticness','energy',df_2018,'y')\n",
    "create_joinplot('valence','energy',df_2018,'b')"
   ]
  },
  {
   "cell_type": "markdown",
   "metadata": {},
   "source": [
    "### from the corelation matrix we observe that  \n",
    "- there is a relation between  tempo and dancebility \n",
    "- there is a relation between  acounsticeness and energy \n",
    "- there is a relation between  tempo and acousticeness\n",
    "- there is a relation between  energy and loudness\n",
    "- there is a relation between  tempo and valence\n",
    "- there is a relation between  valence and dancebility \n",
    "- there is a relation between  valence and energy  "
   ]
  },
  {
   "cell_type": "markdown",
   "metadata": {},
   "source": [
    "#### understand these correlation features in more details ;\n"
   ]
  },
  {
   "cell_type": "code",
   "execution_count": 34,
   "metadata": {},
   "outputs": [],
   "source": [
    "def feature_details(feature):\n",
    "    print(\"Mean value \", feature.mean())\n",
    "    sns.distplot(feature,color=\"r\")\n",
    "    plt.show()\n"
   ]
  },
  {
   "cell_type": "code",
   "execution_count": 35,
   "metadata": {},
   "outputs": [
    {
     "name": "stdout",
     "output_type": "stream",
     "text": [
      "Mean value  0.71646\n"
     ]
    },
    {
     "data": {
      "image/png": "[encoded data removed]",
      "text/plain": [
       "<Figure size 432x288 with 1 Axes>"
      ]
     },
     "metadata": {
      "needs_background": "light"
     },
     "output_type": "display_data"
    }
   ],
   "source": [
    "feature_details(df_2018['danceability'])"
   ]
  },
  {
   "cell_type": "markdown",
   "metadata": {},
   "source": [
    "*Conclusion*: top songs have high dancebility.And people listen to those songs in which they can dance."
   ]
  },
  {
   "cell_type": "code",
   "execution_count": 36,
   "metadata": {},
   "outputs": [
    {
     "name": "stdout",
     "output_type": "stream",
     "text": [
      "Mean value  0.6590600000000001\n"
     ]
    },
    {
     "data": {
      "image/png": "[encoded data removed]",
      "text/plain": [
       "<Figure size 432x288 with 1 Axes>"
      ]
     },
     "metadata": {
      "needs_background": "light"
     },
     "output_type": "display_data"
    }
   ],
   "source": [
    "feature_details(df_2018['energy'])"
   ]
  },
  {
   "cell_type": "markdown",
   "metadata": {},
   "source": [
    "*Conclusion*:people like energetic songs "
   ]
  },
  {
   "cell_type": "code",
   "execution_count": 37,
   "metadata": {},
   "outputs": [
    {
     "name": "stdout",
     "output_type": "stream",
     "text": [
      "Mean value  -5.677639999999999\n"
     ]
    },
    {
     "data": {
      "image/png": "[encoded data removed]",
      "text/plain": [
       "<Figure size 432x288 with 1 Axes>"
      ]
     },
     "metadata": {
      "needs_background": "light"
     },
     "output_type": "display_data"
    }
   ],
   "source": [
    "feature_details(df_2018['loudness'])"
   ]
  },
  {
   "cell_type": "markdown",
   "metadata": {},
   "source": [
    "*Conclusion*: more noice means more ranking "
   ]
  },
  {
   "cell_type": "code",
   "execution_count": 38,
   "metadata": {},
   "outputs": [
    {
     "name": "stdout",
     "output_type": "stream",
     "text": [
      "Mean value  0.19570131999999998\n"
     ]
    },
    {
     "data": {
      "image/png": "[encoded data removed]",
      "text/plain": [
       "<Figure size 432x288 with 1 Axes>"
      ]
     },
     "metadata": {
      "needs_background": "light"
     },
     "output_type": "display_data"
    }
   ],
   "source": [
    "feature_details(df_2018['acousticness'])"
   ]
  },
  {
   "cell_type": "markdown",
   "metadata": {},
   "source": [
    "*Conclusion*:people don't lisen more to the acoustics "
   ]
  },
  {
   "cell_type": "code",
   "execution_count": 39,
   "metadata": {},
   "outputs": [
    {
     "name": "stdout",
     "output_type": "stream",
     "text": [
      "Mean value  0.4844429999999997\n"
     ]
    },
    {
     "data": {
      "image/png": "[encoded data removed]",
      "text/plain": [
       "<Figure size 432x288 with 1 Axes>"
      ]
     },
     "metadata": {
      "needs_background": "light"
     },
     "output_type": "display_data"
    }
   ],
   "source": [
    "feature_details(df_2018['valence'])"
   ]
  },
  {
   "cell_type": "markdown",
   "metadata": {},
   "source": [
    "*Conclusion*:songs are evenly distributed and totally depends upon the mood "
   ]
  },
  {
   "cell_type": "code",
   "execution_count": 40,
   "metadata": {},
   "outputs": [
    {
     "name": "stdout",
     "output_type": "stream",
     "text": [
      "Mean value  119.90417999999998\n"
     ]
    },
    {
     "data": {
      "image/png": "[encoded data removed]",
      "text/plain": [
       "<Figure size 432x288 with 1 Axes>"
      ]
     },
     "metadata": {
      "needs_background": "light"
     },
     "output_type": "display_data"
    }
   ],
   "source": [
    "feature_details(df_2018['tempo'])"
   ]
  },
  {
   "cell_type": "markdown",
   "metadata": {},
   "source": [
    "*Conclusion*:people listen fast songs more "
   ]
  },
  {
   "cell_type": "markdown",
   "metadata": {},
   "source": [
    "### Again construct a 3d graph  with out limited features for better understanding "
   ]
  },
  {
   "cell_type": "code",
   "execution_count": 41,
   "metadata": {},
   "outputs": [
    {
     "data": {
      "application/vnd.plotly.v1+json": {
       "config": {
        "linkText": "Export to plot.ly",
        "plotlyServerURL": "https://plot.ly",
        "showLink": false
       },
       "data": [
        {
         "marker": {
          "color": [
           0.754,
           0.74,
           0.5870000000000001,
           0.7390000000000001,
           0.835,
           0.68,
           0.816,
           0.7909999999999999,
           0.836,
           0.626,
           0.765,
           0.511,
           0.586,
           0.851,
           0.753,
           0.698,
           0.6990000000000001,
           0.595,
           0.9209999999999999,
           0.922,
           0.653,
           0.903,
           0.71,
           0.596,
           0.762,
           0.825,
           0.708,
           0.642,
           0.872,
           0.599,
           0.884,
           0.737,
           0.556,
           0.5920000000000001,
           0.726,
           0.56,
           0.637,
           0.72,
           0.669,
           0.6940000000000001,
           0.748,
           0.7909999999999999,
           0.8340000000000001,
           0.605,
           0.777,
           0.747,
           0.7040000000000001,
           0.601,
           0.6559999999999999,
           0.489,
           0.88,
           0.687,
           0.698,
           0.755,
           0.7759999999999999,
           0.9309999999999999,
           0.687,
           0.752,
           0.732,
           0.7909999999999999,
           0.6970000000000001,
           0.912,
           0.797,
           0.622,
           0.52,
           0.602,
           0.6809999999999999,
           0.631,
           0.799,
           0.841,
           0.6629999999999999,
           0.8009999999999999,
           0.735,
           0.909,
           0.589,
           0.67,
           0.63,
           0.792,
           0.8140000000000001,
           0.8759999999999999,
           0.35100000000000003,
           0.815,
           0.9079999999999999,
           0.754,
           0.5870000000000001,
           0.722,
           0.7979999999999999,
           0.855,
           0.775,
           0.909,
           0.7809999999999999,
           0.9640000000000001,
           0.752,
           0.284,
           0.7340000000000001,
           0.684,
           0.638,
           0.552,
           0.258,
           0.5529999999999999
          ],
          "size": 8
         },
         "mode": "markers",
         "text": [
          "Drake - God's Plan",
          "XXXTENTACION - SAD!",
          "Post Malone - rockstar (feat. 21 Savage)",
          "Post Malone - Psycho (feat. Ty Dolla $ign)",
          "Drake - In My Feelings",
          "Post Malone - Better Now",
          "Cardi B - I Like It",
          "Calvin Harris - One Kiss (with Dua Lipa)",
          "Dua Lipa - IDGAF",
          "Marshmello - FRIENDS",
          "Camila Cabello - Havana",
          "Juice WRLD - Lucid Dreams",
          "Drake - Nice For What",
          "Maroon 5 - Girls Like You (feat. Cardi B)",
          "Zedd - The Middle",
          "Kendrick Lamar - All The Stars (with SZA)",
          "Ariana Grande - no tears left to cry",
          "Nicky Jam - X",
          "XXXTENTACION - Moonlight",
          "BlocBoy JB - Look Alive (feat. Drake)",
          "Rudimental - These Days (feat. Jess Glynne, Macklemore & Dan Caplen)",
          "Nio Garcia - Te Bot? - Remix",
          "Bazzi - Mine",
          "5 Seconds of Summer - Youngblood",
          "Dua Lipa - New Rules",
          "Ed Sheeran - Shape of You",
          "Khalid - Love Lies (with Normani)",
          "Bebe Rexha - Meant to Be (feat. Florida Georgia Line)",
          "XXXTENTACION - Jocelyn Flores",
          "Ed Sheeran - Perfect",
          "Tyga - Taste (feat. Offset)",
          "Clean Bandit - Solo (feat. Demi Lovato)",
          "Post Malone - I Fall Apart",
          "Dennis Lloyd - Nevermind",
          "Luis Fonsi - ?chame La Culpa",
          "benny blanco - Eastside (with Halsey & Khalid)",
          "Camila Cabello - Never Be the Same",
          "Selena Gomez - Wolves",
          "XXXTENTACION - changes",
          "Dynoro - In My Mind",
          "Eminem - River (feat. Ed Sheeran)",
          "Daddy Yankee - Dura",
          "Travis Scott - SICKO MODE",
          "Imagine Dragons - Thunder",
          "Reik - Me Niego",
          "Ti?sto - Jackie Chan",
          "Bruno Mars - Finesse (Remix) [feat. Cardi B]",
          "Selena Gomez - Back To You - From 13 Reasons Why ? Season 2 Soundtrack",
          "NF - Let You Down",
          "The Weeknd - Call Out My Name",
          "Offset - Ric Flair Drip (& Metro Boomin)",
          "Marshmello - Happier",
          "Sam Smith - Too Good At Goodbyes",
          "Lil Dicky - Freaky Friday (feat. Chris Brown)",
          "Imagine Dragons - Believer",
          "6ix9ine - FEFE (feat. Nicki Minaj & Murda Beatz)",
          "Jonas Blue - Rise",
          "Loud Luxury - Body (feat. brando)",
          "Lil Uzi Vert - XO TOUR Llif3",
          "Becky G - Sin Pijama",
          "Anne-Marie - 2002",
          "Drake - Nonstop",
          "XXXTENTACION - Fuck Love (feat. Trippie Redd)",
          "Shawn Mendes - In My Blood",
          "Marshmello - Silence",
          "Ariana Grande - God is a woman",
          "Piso 21 - D?jala que vuelva (feat. Manuel Turizo)",
          "David Guetta - Flames",
          "Maroon 5 - What Lovers Do",
          "DJ Snake - Taki Taki (with Selena Gomez, Ozuna & Cardi B)",
          "Hailee Steinfeld - Let Me Go (with Alesso, Florida Georgia Line & watt)",
          "Portugal. The Man - Feel It Still",
          "The Weeknd - Pray For Me (with Kendrick Lamar)",
          "Migos - Walk It Talk It",
          "G-Eazy - Him & I (with Halsey)",
          "Post Malone - Candy Paint",
          "Post Malone - Congratulations",
          "Sofia Reyes - 1, 2, 3 (feat. Jason Derulo & De La Ghetto)",
          "Natti Natasha - Criminal",
          "Rich The Kid - Plug Walk",
          "Billie Eilish - lovely (with Khalid)",
          "Migos - Stir Fry",
          "Kendrick Lamar - HUMBLE.",
          "Ozuna - Vaina Loca",
          "Ed Sheeran - Perfect Duet (Ed Sheeran & Beyonc?)",
          "Maluma - Coraz?n (feat. Nego do Borel)",
          "Khalid - Young Dumb & Broke",
          "Ozuna - S?guelo Bailando",
          "Anitta - Downtown",
          "Wolfine - Bella",
          "Calvin Harris - Promises (with Sam Smith)",
          "Lil Baby - Yes Indeed",
          "Lauv - I Like Me Better",
          "Keala Settle - This Is Me",
          "XXXTENTACION - Everybody Dies In Their Nightmares",
          "Zac Efron - Rewrite The Stars",
          "Clean Bandit - I Miss You (feat. Julia Michaels)",
          "DJ Khaled - No Brainer",
          "ZAYN - Dusk Till Dawn - Radio Edit",
          "Dean Lewis - Be Alright"
         ],
         "type": "scatter3d",
         "x": [
          0.23237267693294197,
          -0.015676355189339165,
          0.5247396337402788,
          0.1493358946521134,
          0.06418109908153237,
          0.2336056886410398,
          -0.22856922707636282,
          -0.3048036171308075,
          0.004720050074328307,
          -0.2415828842484233,
          0.16598390392409235,
          0.3568482570052584,
          -0.4535834792982317,
          0.09315325065293056,
          0.013127013195073436,
          -0.059025743216507456,
          0.07656484872786255,
          -0.1801491109582823,
          -0.1621297304199856,
          -0.0831705929517692,
          -0.20596720822726888,
          -0.08093734475748196,
          -0.2949767341637131,
          0.16851127325332166,
          -0.17084868364643885,
          -0.4670257830482012,
          0.17590501202169348,
          -0.12160389344909359,
          0.2421194974097322,
          0.48958403334414413,
          0.12333304625365643,
          -0.07963620693963105,
          0.3782619252801064,
          0.35519284764956366,
          -0.3910264135060326,
          0.15156465722217852,
          0.21164746984603056,
          0.030884795725920306,
          0.2350559316348833,
          0.2034512759135726,
          -0.28898827483518114,
          -0.5425686155246758,
          -0.030986802360371546,
          0.13465414093600214,
          -0.42295790879410133,
          -0.3413884577727696,
          -0.5904154269928288,
          -0.05726981512033404,
          0.019135236607823184,
          0.443062352981409,
          0.2547381606629255,
          -0.30205438077301944,
          0.18489515607074627,
          -0.18511049317588701,
          -0.28913109242459945,
          0.26708917049203207,
          -0.2736803309165721,
          -0.19367789473728345,
          0.0318753397530081,
          -0.4414719760218951,
          -0.15097711332730024,
          0.24881965120661703,
          0.23641783583524606,
          0.013592168685329871,
          0.19170611309749283,
          0.2725196708938171,
          -0.3543588347031054,
          0.06635102057214377,
          0.06945668017273902,
          -0.30212537860485766,
          -0.275139300619025,
          -0.4513510895671233,
          0.21635171997750965,
          0.05590217069360077,
          0.20516782321412505,
          0.14358913218122416,
          -0.10043133069396327,
          -0.5535983329635742,
          -0.5485517885156621,
          0.3234682172857149,
          0.796090535978907,
          -0.11313001412805244,
          0.05468085956860938,
          -0.24491153036221247,
          0.4616855781790012,
          -0.20779584022423955,
          0.17985677594609908,
          -0.21452640439392118,
          -0.10111817396379506,
          -0.2807517751259308,
          -0.12292112601011489,
          0.11721637564869099,
          0.14832493620322476,
          0.5694808172464734,
          -0.09549867248137021,
          0.2355011796061882,
          0.15127753399666877,
          -0.1435362925235239,
          0.8101968281049827,
          0.17789021190426105
         ],
         "y": [
          -0.43730276781737215,
          -0.27696302749237,
          0.208509493949339,
          -0.004228439382066179,
          -0.23549253575216883,
          0.0691255844733166,
          0.04914797480255939,
          0.16168629812685095,
          -0.29987738812268866,
          0.14532182853846223,
          -0.2218992526255245,
          -0.1089335043160156,
          0.1548183642193698,
          -0.16697005950212018,
          -0.07801833620981058,
          -0.1353650549875576,
          0.08930696512094873,
          0.4383798412454351,
          -0.23949342465290144,
          -0.11911491878810625,
          0.04034701541367526,
          -0.20169000253781266,
          0.1957441728111104,
          0.32290123066857035,
          -0.02557803518738694,
          -0.25927584007411275,
          0.13679691342352962,
          0.31188786768155224,
          -0.28923018990830457,
          -0.20650604469347827,
          -0.28343869018270984,
          -0.12969197743545363,
          0.12532242218425357,
          0.06317126896710497,
          0.08107162467566142,
          -0.005458553715976452,
          0.19058123864215296,
          0.19671837511838294,
          -0.5916547559132743,
          0.20618238390508947,
          -0.10075336654407686,
          -0.0464953785991481,
          0.17862669055481425,
          0.49730617729140786,
          -0.11128749521366148,
          0.16624723013940035,
          0.06814252622383045,
          0.0449058985697926,
          0.2384362878952583,
          0.18929456720642363,
          -0.3999284393875079,
          0.021655444339167863,
          -0.41595208240032094,
          -0.05921142078771744,
          0.08250567473057774,
          -0.3519003144833372,
          0.04534363510623906,
          0.08120352743048598,
          0.2688562140909393,
          -0.13883203649135756,
          -0.09922508752604065,
          -0.1791304247381946,
          -0.09193163585450499,
          0.20957585242524182,
          0.36023293531632405,
          0.2233125143903415,
          0.3421649929636709,
          -0.07237110713019906,
          -0.14735680489108638,
          -0.06884335003545859,
          -0.03964630899893036,
          -0.15704777800352865,
          -0.03890054257119842,
          -0.00565066678182243,
          0.03226610920459575,
          0.3297156354644446,
          0.20677905024807205,
          0.020236672991254357,
          -0.16392684352558384,
          -0.3038061575190895,
          -0.0983734685359365,
          0.39788105865870965,
          0.006316824506307033,
          -0.018901413096061494,
          -0.3778210091402996,
          0.41470919370639936,
          -0.07065390036199247,
          -0.20686604662968525,
          0.1928242364204324,
          -0.4650314915040784,
          0.07661332903579868,
          -0.47072079513332393,
          -0.29851219923162675,
          0.7270796234537512,
          -0.08025661440709027,
          0.039023905412891136,
          0.0015389677434517323,
          0.2560653581619704,
          0.41911875302302865,
          0.07051722814768521
         ],
         "z": [
          0.44980720977052646,
          0.13488343264853542,
          -0.10272601048157684,
          -0.18857691803976026,
          0.31020617588598876,
          -0.1361579981842149,
          0.058316121990660705,
          -0.04154921454637177,
          -0.10153071035024312,
          0.2430385881228861,
          -0.03194008530583964,
          0.4611722633068499,
          0.20868910116754466,
          -0.17360077988816355,
          0.01139546010972826,
          0.016293699550863575,
          0.19584711274530442,
          -0.05530426626873882,
          -0.3338854159779934,
          -0.3232302761665325,
          0.2295010483228952,
          -0.05563181920059285,
          0.16810002779828973,
          0.2471170777059742,
          -0.025799175110878276,
          -0.1521116974561454,
          -0.0861537433204765,
          -0.16862528629984527,
          -0.15705085511370354,
          0.1006032217090566,
          -0.05098998340046203,
          0.19225881772266076,
          -0.0025456483680242293,
          0.5360066716833094,
          0.1248991468827161,
          0.24237861710111508,
          0.08362087507634634,
          0.14138368224848566,
          0.0005710766619965986,
          0.11443841873303705,
          0.03630815158228689,
          0.3041943443490756,
          -0.19481893816590543,
          -0.013277277534688143,
          0.501062111850658,
          -0.10475651759135302,
          -0.07509418945114568,
          0.13402273681500393,
          -0.04163988281314185,
          0.2888101299784735,
          -0.11986599286701581,
          0.13073135795184393,
          -0.03294740872549587,
          -0.24479548050971672,
          -0.11005988618802276,
          -0.2800602824929692,
          0.1373372727259372,
          -0.09149992754419481,
          -0.13159162273813188,
          -0.026679029710001176,
          0.07379554358054875,
          -0.43027369493956363,
          -0.16527752189322975,
          -0.03876072633511519,
          0.132644441220337,
          0.08416818043012399,
          -0.3207033302702725,
          0.11505990272735754,
          -0.06547148775399156,
          0.0047029078923212075,
          -0.018052727226005053,
          0.05653661669181504,
          0.13922314176473302,
          -0.25299358483397816,
          0.4797092257265256,
          -0.3150919443457657,
          0.19737109760863436,
          0.01531568231099048,
          0.19604699579975055,
          0.008035936197081064,
          0.0506728215729677,
          -0.2410917403535173,
          -0.2909421896884839,
          0.20139530984519724,
          -0.02434220207368832,
          -0.3562838381166941,
          -0.15309616108360413,
          -0.07198602615286974,
          -0.35038506642120526,
          -0.21991774617749632,
          0.16818466394861512,
          -0.3780455767029323,
          -0.010714299751772146,
          -0.06302732262152703,
          -0.21320590128473985,
          0.0003633469481805362,
          0.09421364536336523,
          -0.04390796743706529,
          -0.0944363704402719,
          -0.04792966611146673
         ]
        }
       ],
       "layout": {
        "template": {
         "data": {
          "bar": [
           {
            "error_x": {
             "color": "#2a3f5f"
            },
            "error_y": {
             "color": "#2a3f5f"
            },
            "marker": {
             "line": {
              "color": "#E5ECF6",
              "width": 0.5
             }
            },
            "type": "bar"
           }
          ],
          "barpolar": [
           {
            "marker": {
             "line": {
              "color": "#E5ECF6",
              "width": 0.5
             }
            },
            "type": "barpolar"
           }
          ],
          "carpet": [
           {
            "aaxis": {
             "endlinecolor": "#2a3f5f",
             "gridcolor": "white",
             "linecolor": "white",
             "minorgridcolor": "white",
             "startlinecolor": "#2a3f5f"
            },
            "baxis": {
             "endlinecolor": "#2a3f5f",
             "gridcolor": "white",
             "linecolor": "white",
             "minorgridcolor": "white",
             "startlinecolor": "#2a3f5f"
            },
            "type": "carpet"
           }
          ],
          "choropleth": [
           {
            "colorbar": {
             "outlinewidth": 0,
             "ticks": ""
            },
            "type": "choropleth"
           }
          ],
          "contour": [
           {
            "colorbar": {
             "outlinewidth": 0,
             "ticks": ""
            },
            "colorscale": [
             [
              0,
              "#0d0887"
             ],
             [
              0.1111111111111111,
              "#46039f"
             ],
             [
              0.2222222222222222,
              "#7201a8"
             ],
             [
              0.3333333333333333,
              "#9c179e"
             ],
             [
              0.4444444444444444,
              "#bd3786"
             ],
             [
              0.5555555555555556,
              "#d8576b"
             ],
             [
              0.6666666666666666,
              "#ed7953"
             ],
             [
              0.7777777777777778,
              "#fb9f3a"
             ],
             [
              0.8888888888888888,
              "#fdca26"
             ],
             [
              1,
              "#f0f921"
             ]
            ],
            "type": "contour"
           }
          ],
          "contourcarpet": [
           {
            "colorbar": {
             "outlinewidth": 0,
             "ticks": ""
            },
            "type": "contourcarpet"
           }
          ],
          "heatmap": [
           {
            "colorbar": {
             "outlinewidth": 0,
             "ticks": ""
            },
            "colorscale": [
             [
              0,
              "#0d0887"
             ],
             [
              0.1111111111111111,
              "#46039f"
             ],
             [
              0.2222222222222222,
              "#7201a8"
             ],
             [
              0.3333333333333333,
              "#9c179e"
             ],
             [
              0.4444444444444444,
              "#bd3786"
             ],
             [
              0.5555555555555556,
              "#d8576b"
             ],
             [
              0.6666666666666666,
              "#ed7953"
             ],
             [
              0.7777777777777778,
              "#fb9f3a"
             ],
             [
              0.8888888888888888,
              "#fdca26"
             ],
             [
              1,
              "#f0f921"
             ]
            ],
            "type": "heatmap"
           }
          ],
          "heatmapgl": [
           {
            "colorbar": {
             "outlinewidth": 0,
             "ticks": ""
            },
            "colorscale": [
             [
              0,
              "#0d0887"
             ],
             [
              0.1111111111111111,
              "#46039f"
             ],
             [
              0.2222222222222222,
              "#7201a8"
             ],
             [
              0.3333333333333333,
              "#9c179e"
             ],
             [
              0.4444444444444444,
              "#bd3786"
             ],
             [
              0.5555555555555556,
              "#d8576b"
             ],
             [
              0.6666666666666666,
              "#ed7953"
             ],
             [
              0.7777777777777778,
              "#fb9f3a"
             ],
             [
              0.8888888888888888,
              "#fdca26"
             ],
             [
              1,
              "#f0f921"
             ]
            ],
            "type": "heatmapgl"
           }
          ],
          "histogram": [
           {
            "marker": {
             "colorbar": {
              "outlinewidth": 0,
              "ticks": ""
             }
            },
            "type": "histogram"
           }
          ],
          "histogram2d": [
           {
            "colorbar": {
             "outlinewidth": 0,
             "ticks": ""
            },
            "colorscale": [
             [
              0,
              "#0d0887"
             ],
             [
              0.1111111111111111,
              "#46039f"
             ],
             [
              0.2222222222222222,
              "#7201a8"
             ],
             [
              0.3333333333333333,
              "#9c179e"
             ],
             [
              0.4444444444444444,
              "#bd3786"
             ],
             [
              0.5555555555555556,
              "#d8576b"
             ],
             [
              0.6666666666666666,
              "#ed7953"
             ],
             [
              0.7777777777777778,
              "#fb9f3a"
             ],
             [
              0.8888888888888888,
              "#fdca26"
             ],
             [
              1,
              "#f0f921"
             ]
            ],
            "type": "histogram2d"
           }
          ],
          "histogram2dcontour": [
           {
            "colorbar": {
             "outlinewidth": 0,
             "ticks": ""
            },
            "colorscale": [
             [
              0,
              "#0d0887"
             ],
             [
              0.1111111111111111,
              "#46039f"
             ],
             [
              0.2222222222222222,
              "#7201a8"
             ],
             [
              0.3333333333333333,
              "#9c179e"
             ],
             [
              0.4444444444444444,
              "#bd3786"
             ],
             [
              0.5555555555555556,
              "#d8576b"
             ],
             [
              0.6666666666666666,
              "#ed7953"
             ],
             [
              0.7777777777777778,
              "#fb9f3a"
             ],
             [
              0.8888888888888888,
              "#fdca26"
             ],
             [
              1,
              "#f0f921"
             ]
            ],
            "type": "histogram2dcontour"
           }
          ],
          "mesh3d": [
           {
            "colorbar": {
             "outlinewidth": 0,
             "ticks": ""
            },
            "type": "mesh3d"
           }
          ],
          "parcoords": [
           {
            "line": {
             "colorbar": {
              "outlinewidth": 0,
              "ticks": ""
             }
            },
            "type": "parcoords"
           }
          ],
          "pie": [
           {
            "automargin": true,
            "type": "pie"
           }
          ],
          "scatter": [
           {
            "marker": {
             "colorbar": {
              "outlinewidth": 0,
              "ticks": ""
             }
            },
            "type": "scatter"
           }
          ],
          "scatter3d": [
           {
            "line": {
             "colorbar": {
              "outlinewidth": 0,
              "ticks": ""
             }
            },
            "marker": {
             "colorbar": {
              "outlinewidth": 0,
              "ticks": ""
             }
            },
            "type": "scatter3d"
           }
          ],
          "scattercarpet": [
           {
            "marker": {
             "colorbar": {
              "outlinewidth": 0,
              "ticks": ""
             }
            },
            "type": "scattercarpet"
           }
          ],
          "scattergeo": [
           {
            "marker": {
             "colorbar": {
              "outlinewidth": 0,
              "ticks": ""
             }
            },
            "type": "scattergeo"
           }
          ],
          "scattergl": [
           {
            "marker": {
             "colorbar": {
              "outlinewidth": 0,
              "ticks": ""
             }
            },
            "type": "scattergl"
           }
          ],
          "scattermapbox": [
           {
            "marker": {
             "colorbar": {
              "outlinewidth": 0,
              "ticks": ""
             }
            },
            "type": "scattermapbox"
           }
          ],
          "scatterpolar": [
           {
            "marker": {
             "colorbar": {
              "outlinewidth": 0,
              "ticks": ""
             }
            },
            "type": "scatterpolar"
           }
          ],
          "scatterpolargl": [
           {
            "marker": {
             "colorbar": {
              "outlinewidth": 0,
              "ticks": ""
             }
            },
            "type": "scatterpolargl"
           }
          ],
          "scatterternary": [
           {
            "marker": {
             "colorbar": {
              "outlinewidth": 0,
              "ticks": ""
             }
            },
            "type": "scatterternary"
           }
          ],
          "surface": [
           {
            "colorbar": {
             "outlinewidth": 0,
             "ticks": ""
            },
            "colorscale": [
             [
              0,
              "#0d0887"
             ],
             [
              0.1111111111111111,
              "#46039f"
             ],
             [
              0.2222222222222222,
              "#7201a8"
             ],
             [
              0.3333333333333333,
              "#9c179e"
             ],
             [
              0.4444444444444444,
              "#bd3786"
             ],
             [
              0.5555555555555556,
              "#d8576b"
             ],
             [
              0.6666666666666666,
              "#ed7953"
             ],
             [
              0.7777777777777778,
              "#fb9f3a"
             ],
             [
              0.8888888888888888,
              "#fdca26"
             ],
             [
              1,
              "#f0f921"
             ]
            ],
            "type": "surface"
           }
          ],
          "table": [
           {
            "cells": {
             "fill": {
              "color": "#EBF0F8"
             },
             "line": {
              "color": "white"
             }
            },
            "header": {
             "fill": {
              "color": "#C8D4E3"
             },
             "line": {
              "color": "white"
             }
            },
            "type": "table"
           }
          ]
         },
         "layout": {
          "annotationdefaults": {
           "arrowcolor": "#2a3f5f",
           "arrowhead": 0,
           "arrowwidth": 1
          },
          "coloraxis": {
           "colorbar": {
            "outlinewidth": 0,
            "ticks": ""
           }
          },
          "colorscale": {
           "diverging": [
            [
             0,
             "#8e0152"
            ],
            [
             0.1,
             "#c51b7d"
            ],
            [
             0.2,
             "#de77ae"
            ],
            [
             0.3,
             "#f1b6da"
            ],
            [
             0.4,
             "#fde0ef"
            ],
            [
             0.5,
             "#f7f7f7"
            ],
            [
             0.6,
             "#e6f5d0"
            ],
            [
             0.7,
             "#b8e186"
            ],
            [
             0.8,
             "#7fbc41"
            ],
            [
             0.9,
             "#4d9221"
            ],
            [
             1,
             "#276419"
            ]
           ],
           "sequential": [
            [
             0,
             "#0d0887"
            ],
            [
             0.1111111111111111,
             "#46039f"
            ],
            [
             0.2222222222222222,
             "#7201a8"
            ],
            [
             0.3333333333333333,
             "#9c179e"
            ],
            [
             0.4444444444444444,
             "#bd3786"
            ],
            [
             0.5555555555555556,
             "#d8576b"
            ],
            [
             0.6666666666666666,
             "#ed7953"
            ],
            [
             0.7777777777777778,
             "#fb9f3a"
            ],
            [
             0.8888888888888888,
             "#fdca26"
            ],
            [
             1,
             "#f0f921"
            ]
           ],
           "sequentialminus": [
            [
             0,
             "#0d0887"
            ],
            [
             0.1111111111111111,
             "#46039f"
            ],
            [
             0.2222222222222222,
             "#7201a8"
            ],
            [
             0.3333333333333333,
             "#9c179e"
            ],
            [
             0.4444444444444444,
             "#bd3786"
            ],
            [
             0.5555555555555556,
             "#d8576b"
            ],
            [
             0.6666666666666666,
             "#ed7953"
            ],
            [
             0.7777777777777778,
             "#fb9f3a"
            ],
            [
             0.8888888888888888,
             "#fdca26"
            ],
            [
             1,
             "#f0f921"
            ]
           ]
          },
          "colorway": [
           "#636efa",
           "#EF553B",
           "#00cc96",
           "#ab63fa",
           "#FFA15A",
           "#19d3f3",
           "#FF6692",
           "#B6E880",
           "#FF97FF",
           "#FECB52"
          ],
          "font": {
           "color": "#2a3f5f"
          },
          "geo": {
           "bgcolor": "white",
           "lakecolor": "white",
           "landcolor": "#E5ECF6",
           "showlakes": true,
           "showland": true,
           "subunitcolor": "white"
          },
          "hoverlabel": {
           "align": "left"
          },
          "hovermode": "closest",
          "mapbox": {
           "style": "light"
          },
          "paper_bgcolor": "white",
          "plot_bgcolor": "#E5ECF6",
          "polar": {
           "angularaxis": {
            "gridcolor": "white",
            "linecolor": "white",
            "ticks": ""
           },
           "bgcolor": "#E5ECF6",
           "radialaxis": {
            "gridcolor": "white",
            "linecolor": "white",
            "ticks": ""
           }
          },
          "scene": {
           "xaxis": {
            "backgroundcolor": "#E5ECF6",
            "gridcolor": "white",
            "gridwidth": 2,
            "linecolor": "white",
            "showbackground": true,
            "ticks": "",
            "zerolinecolor": "white"
           },
           "yaxis": {
            "backgroundcolor": "#E5ECF6",
            "gridcolor": "white",
            "gridwidth": 2,
            "linecolor": "white",
            "showbackground": true,
            "ticks": "",
            "zerolinecolor": "white"
           },
           "zaxis": {
            "backgroundcolor": "#E5ECF6",
            "gridcolor": "white",
            "gridwidth": 2,
            "linecolor": "white",
            "showbackground": true,
            "ticks": "",
            "zerolinecolor": "white"
           }
          },
          "shapedefaults": {
           "line": {
            "color": "#2a3f5f"
           }
          },
          "ternary": {
           "aaxis": {
            "gridcolor": "white",
            "linecolor": "white",
            "ticks": ""
           },
           "baxis": {
            "gridcolor": "white",
            "linecolor": "white",
            "ticks": ""
           },
           "bgcolor": "#E5ECF6",
           "caxis": {
            "gridcolor": "white",
            "linecolor": "white",
            "ticks": ""
           }
          },
          "title": {
           "x": 0.05
          },
          "xaxis": {
           "automargin": true,
           "gridcolor": "white",
           "linecolor": "white",
           "ticks": "",
           "title": {
            "standoff": 15
           },
           "zerolinecolor": "white",
           "zerolinewidth": 2
          },
          "yaxis": {
           "automargin": true,
           "gridcolor": "white",
           "linecolor": "white",
           "ticks": "",
           "title": {
            "standoff": 15
           },
           "zerolinecolor": "white",
           "zerolinewidth": 2
          }
         }
        }
       }
      },
      "text/html": [
       "<div>\n",
       "        \n",
       "        \n",
       "            <div id=\"e8da8850-b311-4bb4-a474-71883bb0e531\" class=\"plotly-graph-div\" style=\"height:525px; width:100%;\"></div>\n",
       "            <script type=\"text/javascript\">\n",
       "                require([\"plotly\"], function(Plotly) {\n",
       "                    window.PLOTLYENV=window.PLOTLYENV || {};\n",
       "                    \n",
       "                if (document.getElementById(\"e8da8850-b311-4bb4-a474-71883bb0e531\")) {\n",
       "                    Plotly.newPlot(\n",
       "                        'e8da8850-b311-4bb4-a474-71883bb0e531',\n",
       "                        [{\"marker\": {\"color\": [0.754, 0.74, 0.5870000000000001, 0.7390000000000001, 0.835, 0.68, 0.816, 0.7909999999999999, 0.836, 0.626, 0.765, 0.511, 0.586, 0.851, 0.753, 0.698, 0.6990000000000001, 0.595, 0.9209999999999999, 0.922, 0.653, 0.903, 0.71, 0.596, 0.762, 0.825, 0.708, 0.642, 0.872, 0.599, 0.884, 0.737, 0.556, 0.5920000000000001, 0.726, 0.56, 0.637, 0.72, 0.669, 0.6940000000000001, 0.748, 0.7909999999999999, 0.8340000000000001, 0.605, 0.777, 0.747, 0.7040000000000001, 0.601, 0.6559999999999999, 0.489, 0.88, 0.687, 0.698, 0.755, 0.7759999999999999, 0.9309999999999999, 0.687, 0.752, 0.732, 0.7909999999999999, 0.6970000000000001, 0.912, 0.797, 0.622, 0.52, 0.602, 0.6809999999999999, 0.631, 0.799, 0.841, 0.6629999999999999, 0.8009999999999999, 0.735, 0.909, 0.589, 0.67, 0.63, 0.792, 0.8140000000000001, 0.8759999999999999, 0.35100000000000003, 0.815, 0.9079999999999999, 0.754, 0.5870000000000001, 0.722, 0.7979999999999999, 0.855, 0.775, 0.909, 0.7809999999999999, 0.9640000000000001, 0.752, 0.284, 0.7340000000000001, 0.684, 0.638, 0.552, 0.258, 0.5529999999999999], \"size\": 8}, \"mode\": \"markers\", \"text\": [\"Drake - God's Plan\", \"XXXTENTACION - SAD!\", \"Post Malone - rockstar (feat. 21 Savage)\", \"Post Malone - Psycho (feat. Ty Dolla $ign)\", \"Drake - In My Feelings\", \"Post Malone - Better Now\", \"Cardi B - I Like It\", \"Calvin Harris - One Kiss (with Dua Lipa)\", \"Dua Lipa - IDGAF\", \"Marshmello - FRIENDS\", \"Camila Cabello - Havana\", \"Juice WRLD - Lucid Dreams\", \"Drake - Nice For What\", \"Maroon 5 - Girls Like You (feat. Cardi B)\", \"Zedd - The Middle\", \"Kendrick Lamar - All The Stars (with SZA)\", \"Ariana Grande - no tears left to cry\", \"Nicky Jam - X\", \"XXXTENTACION - Moonlight\", \"BlocBoy JB - Look Alive (feat. Drake)\", \"Rudimental - These Days (feat. Jess Glynne, Macklemore & Dan Caplen)\", \"Nio Garcia - Te Bot? - Remix\", \"Bazzi - Mine\", \"5 Seconds of Summer - Youngblood\", \"Dua Lipa - New Rules\", \"Ed Sheeran - Shape of You\", \"Khalid - Love Lies (with Normani)\", \"Bebe Rexha - Meant to Be (feat. Florida Georgia Line)\", \"XXXTENTACION - Jocelyn Flores\", \"Ed Sheeran - Perfect\", \"Tyga - Taste (feat. Offset)\", \"Clean Bandit - Solo (feat. Demi Lovato)\", \"Post Malone - I Fall Apart\", \"Dennis Lloyd - Nevermind\", \"Luis Fonsi - ?chame La Culpa\", \"benny blanco - Eastside (with Halsey & Khalid)\", \"Camila Cabello - Never Be the Same\", \"Selena Gomez - Wolves\", \"XXXTENTACION - changes\", \"Dynoro - In My Mind\", \"Eminem - River (feat. Ed Sheeran)\", \"Daddy Yankee - Dura\", \"Travis Scott - SICKO MODE\", \"Imagine Dragons - Thunder\", \"Reik - Me Niego\", \"Ti?sto - Jackie Chan\", \"Bruno Mars - Finesse (Remix) [feat. Cardi B]\", \"Selena Gomez - Back To You - From 13 Reasons Why ? Season 2 Soundtrack\", \"NF - Let You Down\", \"The Weeknd - Call Out My Name\", \"Offset - Ric Flair Drip (& Metro Boomin)\", \"Marshmello - Happier\", \"Sam Smith - Too Good At Goodbyes\", \"Lil Dicky - Freaky Friday (feat. Chris Brown)\", \"Imagine Dragons - Believer\", \"6ix9ine - FEFE (feat. Nicki Minaj & Murda Beatz)\", \"Jonas Blue - Rise\", \"Loud Luxury - Body (feat. brando)\", \"Lil Uzi Vert - XO TOUR Llif3\", \"Becky G - Sin Pijama\", \"Anne-Marie - 2002\", \"Drake - Nonstop\", \"XXXTENTACION - Fuck Love (feat. Trippie Redd)\", \"Shawn Mendes - In My Blood\", \"Marshmello - Silence\", \"Ariana Grande - God is a woman\", \"Piso 21 - D?jala que vuelva (feat. Manuel Turizo)\", \"David Guetta - Flames\", \"Maroon 5 - What Lovers Do\", \"DJ Snake - Taki Taki (with Selena Gomez, Ozuna & Cardi B)\", \"Hailee Steinfeld - Let Me Go (with Alesso, Florida Georgia Line & watt)\", \"Portugal. The Man - Feel It Still\", \"The Weeknd - Pray For Me (with Kendrick Lamar)\", \"Migos - Walk It Talk It\", \"G-Eazy - Him & I (with Halsey)\", \"Post Malone - Candy Paint\", \"Post Malone - Congratulations\", \"Sofia Reyes - 1, 2, 3 (feat. Jason Derulo & De La Ghetto)\", \"Natti Natasha - Criminal\", \"Rich The Kid - Plug Walk\", \"Billie Eilish - lovely (with Khalid)\", \"Migos - Stir Fry\", \"Kendrick Lamar - HUMBLE.\", \"Ozuna - Vaina Loca\", \"Ed Sheeran - Perfect Duet (Ed Sheeran & Beyonc?)\", \"Maluma - Coraz?n (feat. Nego do Borel)\", \"Khalid - Young Dumb & Broke\", \"Ozuna - S?guelo Bailando\", \"Anitta - Downtown\", \"Wolfine - Bella\", \"Calvin Harris - Promises (with Sam Smith)\", \"Lil Baby - Yes Indeed\", \"Lauv - I Like Me Better\", \"Keala Settle - This Is Me\", \"XXXTENTACION - Everybody Dies In Their Nightmares\", \"Zac Efron - Rewrite The Stars\", \"Clean Bandit - I Miss You (feat. Julia Michaels)\", \"DJ Khaled - No Brainer\", \"ZAYN - Dusk Till Dawn - Radio Edit\", \"Dean Lewis - Be Alright\"], \"type\": \"scatter3d\", \"x\": [0.23237267693294197, -0.015676355189339165, 0.5247396337402788, 0.1493358946521134, 0.06418109908153237, 0.2336056886410398, -0.22856922707636282, -0.3048036171308075, 0.004720050074328307, -0.2415828842484233, 0.16598390392409235, 0.3568482570052584, -0.4535834792982317, 0.09315325065293056, 0.013127013195073436, -0.059025743216507456, 0.07656484872786255, -0.1801491109582823, -0.1621297304199856, -0.0831705929517692, -0.20596720822726888, -0.08093734475748196, -0.2949767341637131, 0.16851127325332166, -0.17084868364643885, -0.4670257830482012, 0.17590501202169348, -0.12160389344909359, 0.2421194974097322, 0.48958403334414413, 0.12333304625365643, -0.07963620693963105, 0.3782619252801064, 0.35519284764956366, -0.3910264135060326, 0.15156465722217852, 0.21164746984603056, 0.030884795725920306, 0.2350559316348833, 0.2034512759135726, -0.28898827483518114, -0.5425686155246758, -0.030986802360371546, 0.13465414093600214, -0.42295790879410133, -0.3413884577727696, -0.5904154269928288, -0.05726981512033404, 0.019135236607823184, 0.443062352981409, 0.2547381606629255, -0.30205438077301944, 0.18489515607074627, -0.18511049317588701, -0.28913109242459945, 0.26708917049203207, -0.2736803309165721, -0.19367789473728345, 0.0318753397530081, -0.4414719760218951, -0.15097711332730024, 0.24881965120661703, 0.23641783583524606, 0.013592168685329871, 0.19170611309749283, 0.2725196708938171, -0.3543588347031054, 0.06635102057214377, 0.06945668017273902, -0.30212537860485766, -0.275139300619025, -0.4513510895671233, 0.21635171997750965, 0.05590217069360077, 0.20516782321412505, 0.14358913218122416, -0.10043133069396327, -0.5535983329635742, -0.5485517885156621, 0.3234682172857149, 0.796090535978907, -0.11313001412805244, 0.05468085956860938, -0.24491153036221247, 0.4616855781790012, -0.20779584022423955, 0.17985677594609908, -0.21452640439392118, -0.10111817396379506, -0.2807517751259308, -0.12292112601011489, 0.11721637564869099, 0.14832493620322476, 0.5694808172464734, -0.09549867248137021, 0.2355011796061882, 0.15127753399666877, -0.1435362925235239, 0.8101968281049827, 0.17789021190426105], \"y\": [-0.43730276781737215, -0.27696302749237, 0.208509493949339, -0.004228439382066179, -0.23549253575216883, 0.0691255844733166, 0.04914797480255939, 0.16168629812685095, -0.29987738812268866, 0.14532182853846223, -0.2218992526255245, -0.1089335043160156, 0.1548183642193698, -0.16697005950212018, -0.07801833620981058, -0.1353650549875576, 0.08930696512094873, 0.4383798412454351, -0.23949342465290144, -0.11911491878810625, 0.04034701541367526, -0.20169000253781266, 0.1957441728111104, 0.32290123066857035, -0.02557803518738694, -0.25927584007411275, 0.13679691342352962, 0.31188786768155224, -0.28923018990830457, -0.20650604469347827, -0.28343869018270984, -0.12969197743545363, 0.12532242218425357, 0.06317126896710497, 0.08107162467566142, -0.005458553715976452, 0.19058123864215296, 0.19671837511838294, -0.5916547559132743, 0.20618238390508947, -0.10075336654407686, -0.0464953785991481, 0.17862669055481425, 0.49730617729140786, -0.11128749521366148, 0.16624723013940035, 0.06814252622383045, 0.0449058985697926, 0.2384362878952583, 0.18929456720642363, -0.3999284393875079, 0.021655444339167863, -0.41595208240032094, -0.05921142078771744, 0.08250567473057774, -0.3519003144833372, 0.04534363510623906, 0.08120352743048598, 0.2688562140909393, -0.13883203649135756, -0.09922508752604065, -0.1791304247381946, -0.09193163585450499, 0.20957585242524182, 0.36023293531632405, 0.2233125143903415, 0.3421649929636709, -0.07237110713019906, -0.14735680489108638, -0.06884335003545859, -0.03964630899893036, -0.15704777800352865, -0.03890054257119842, -0.00565066678182243, 0.03226610920459575, 0.3297156354644446, 0.20677905024807205, 0.020236672991254357, -0.16392684352558384, -0.3038061575190895, -0.0983734685359365, 0.39788105865870965, 0.006316824506307033, -0.018901413096061494, -0.3778210091402996, 0.41470919370639936, -0.07065390036199247, -0.20686604662968525, 0.1928242364204324, -0.4650314915040784, 0.07661332903579868, -0.47072079513332393, -0.29851219923162675, 0.7270796234537512, -0.08025661440709027, 0.039023905412891136, 0.0015389677434517323, 0.2560653581619704, 0.41911875302302865, 0.07051722814768521], \"z\": [0.44980720977052646, 0.13488343264853542, -0.10272601048157684, -0.18857691803976026, 0.31020617588598876, -0.1361579981842149, 0.058316121990660705, -0.04154921454637177, -0.10153071035024312, 0.2430385881228861, -0.03194008530583964, 0.4611722633068499, 0.20868910116754466, -0.17360077988816355, 0.01139546010972826, 0.016293699550863575, 0.19584711274530442, -0.05530426626873882, -0.3338854159779934, -0.3232302761665325, 0.2295010483228952, -0.05563181920059285, 0.16810002779828973, 0.2471170777059742, -0.025799175110878276, -0.1521116974561454, -0.0861537433204765, -0.16862528629984527, -0.15705085511370354, 0.1006032217090566, -0.05098998340046203, 0.19225881772266076, -0.0025456483680242293, 0.5360066716833094, 0.1248991468827161, 0.24237861710111508, 0.08362087507634634, 0.14138368224848566, 0.0005710766619965986, 0.11443841873303705, 0.03630815158228689, 0.3041943443490756, -0.19481893816590543, -0.013277277534688143, 0.501062111850658, -0.10475651759135302, -0.07509418945114568, 0.13402273681500393, -0.04163988281314185, 0.2888101299784735, -0.11986599286701581, 0.13073135795184393, -0.03294740872549587, -0.24479548050971672, -0.11005988618802276, -0.2800602824929692, 0.1373372727259372, -0.09149992754419481, -0.13159162273813188, -0.026679029710001176, 0.07379554358054875, -0.43027369493956363, -0.16527752189322975, -0.03876072633511519, 0.132644441220337, 0.08416818043012399, -0.3207033302702725, 0.11505990272735754, -0.06547148775399156, 0.0047029078923212075, -0.018052727226005053, 0.05653661669181504, 0.13922314176473302, -0.25299358483397816, 0.4797092257265256, -0.3150919443457657, 0.19737109760863436, 0.01531568231099048, 0.19604699579975055, 0.008035936197081064, 0.0506728215729677, -0.2410917403535173, -0.2909421896884839, 0.20139530984519724, -0.02434220207368832, -0.3562838381166941, -0.15309616108360413, -0.07198602615286974, -0.35038506642120526, -0.21991774617749632, 0.16818466394861512, -0.3780455767029323, -0.010714299751772146, -0.06302732262152703, -0.21320590128473985, 0.0003633469481805362, 0.09421364536336523, -0.04390796743706529, -0.0944363704402719, -0.04792966611146673]}],\n",
       "                        {\"template\": {\"data\": {\"bar\": [{\"error_x\": {\"color\": \"#2a3f5f\"}, \"error_y\": {\"color\": \"#2a3f5f\"}, \"marker\": {\"line\": {\"color\": \"#E5ECF6\", \"width\": 0.5}}, \"type\": \"bar\"}], \"barpolar\": [{\"marker\": {\"line\": {\"color\": \"#E5ECF6\", \"width\": 0.5}}, \"type\": \"barpolar\"}], \"carpet\": [{\"aaxis\": {\"endlinecolor\": \"#2a3f5f\", \"gridcolor\": \"white\", \"linecolor\": \"white\", \"minorgridcolor\": \"white\", \"startlinecolor\": \"#2a3f5f\"}, \"baxis\": {\"endlinecolor\": \"#2a3f5f\", \"gridcolor\": \"white\", \"linecolor\": \"white\", \"minorgridcolor\": \"white\", \"startlinecolor\": \"#2a3f5f\"}, \"type\": \"carpet\"}], \"choropleth\": [{\"colorbar\": {\"outlinewidth\": 0, \"ticks\": \"\"}, \"type\": \"choropleth\"}], \"contour\": [{\"colorbar\": {\"outlinewidth\": 0, \"ticks\": \"\"}, \"colorscale\": [[0.0, \"#0d0887\"], [0.1111111111111111, \"#46039f\"], [0.2222222222222222, \"#7201a8\"], [0.3333333333333333, \"#9c179e\"], [0.4444444444444444, \"#bd3786\"], [0.5555555555555556, \"#d8576b\"], [0.6666666666666666, \"#ed7953\"], [0.7777777777777778, \"#fb9f3a\"], [0.8888888888888888, \"#fdca26\"], [1.0, \"#f0f921\"]], \"type\": \"contour\"}], \"contourcarpet\": [{\"colorbar\": {\"outlinewidth\": 0, \"ticks\": \"\"}, \"type\": \"contourcarpet\"}], \"heatmap\": [{\"colorbar\": {\"outlinewidth\": 0, \"ticks\": \"\"}, \"colorscale\": [[0.0, \"#0d0887\"], [0.1111111111111111, \"#46039f\"], [0.2222222222222222, \"#7201a8\"], [0.3333333333333333, \"#9c179e\"], [0.4444444444444444, \"#bd3786\"], [0.5555555555555556, \"#d8576b\"], [0.6666666666666666, \"#ed7953\"], [0.7777777777777778, \"#fb9f3a\"], [0.8888888888888888, \"#fdca26\"], [1.0, \"#f0f921\"]], \"type\": \"heatmap\"}], \"heatmapgl\": [{\"colorbar\": {\"outlinewidth\": 0, \"ticks\": \"\"}, \"colorscale\": [[0.0, \"#0d0887\"], [0.1111111111111111, \"#46039f\"], [0.2222222222222222, \"#7201a8\"], [0.3333333333333333, \"#9c179e\"], [0.4444444444444444, \"#bd3786\"], [0.5555555555555556, \"#d8576b\"], [0.6666666666666666, \"#ed7953\"], [0.7777777777777778, \"#fb9f3a\"], [0.8888888888888888, \"#fdca26\"], [1.0, \"#f0f921\"]], \"type\": \"heatmapgl\"}], \"histogram\": [{\"marker\": {\"colorbar\": {\"outlinewidth\": 0, \"ticks\": \"\"}}, \"type\": \"histogram\"}], \"histogram2d\": [{\"colorbar\": {\"outlinewidth\": 0, \"ticks\": \"\"}, \"colorscale\": [[0.0, \"#0d0887\"], [0.1111111111111111, \"#46039f\"], [0.2222222222222222, \"#7201a8\"], [0.3333333333333333, \"#9c179e\"], [0.4444444444444444, \"#bd3786\"], [0.5555555555555556, \"#d8576b\"], [0.6666666666666666, \"#ed7953\"], [0.7777777777777778, \"#fb9f3a\"], [0.8888888888888888, \"#fdca26\"], [1.0, \"#f0f921\"]], \"type\": \"histogram2d\"}], \"histogram2dcontour\": [{\"colorbar\": {\"outlinewidth\": 0, \"ticks\": \"\"}, \"colorscale\": [[0.0, \"#0d0887\"], [0.1111111111111111, \"#46039f\"], [0.2222222222222222, \"#7201a8\"], [0.3333333333333333, \"#9c179e\"], [0.4444444444444444, \"#bd3786\"], [0.5555555555555556, \"#d8576b\"], [0.6666666666666666, \"#ed7953\"], [0.7777777777777778, \"#fb9f3a\"], [0.8888888888888888, \"#fdca26\"], [1.0, \"#f0f921\"]], \"type\": \"histogram2dcontour\"}], \"mesh3d\": [{\"colorbar\": {\"outlinewidth\": 0, \"ticks\": \"\"}, \"type\": \"mesh3d\"}], \"parcoords\": [{\"line\": {\"colorbar\": {\"outlinewidth\": 0, \"ticks\": \"\"}}, \"type\": \"parcoords\"}], \"pie\": [{\"automargin\": true, \"type\": \"pie\"}], \"scatter\": [{\"marker\": {\"colorbar\": {\"outlinewidth\": 0, \"ticks\": \"\"}}, \"type\": \"scatter\"}], \"scatter3d\": [{\"line\": {\"colorbar\": {\"outlinewidth\": 0, \"ticks\": \"\"}}, \"marker\": {\"colorbar\": {\"outlinewidth\": 0, \"ticks\": \"\"}}, \"type\": \"scatter3d\"}], \"scattercarpet\": [{\"marker\": {\"colorbar\": {\"outlinewidth\": 0, \"ticks\": \"\"}}, \"type\": \"scattercarpet\"}], \"scattergeo\": [{\"marker\": {\"colorbar\": {\"outlinewidth\": 0, \"ticks\": \"\"}}, \"type\": \"scattergeo\"}], \"scattergl\": [{\"marker\": {\"colorbar\": {\"outlinewidth\": 0, \"ticks\": \"\"}}, \"type\": \"scattergl\"}], \"scattermapbox\": [{\"marker\": {\"colorbar\": {\"outlinewidth\": 0, \"ticks\": \"\"}}, \"type\": \"scattermapbox\"}], \"scatterpolar\": [{\"marker\": {\"colorbar\": {\"outlinewidth\": 0, \"ticks\": \"\"}}, \"type\": \"scatterpolar\"}], \"scatterpolargl\": [{\"marker\": {\"colorbar\": {\"outlinewidth\": 0, \"ticks\": \"\"}}, \"type\": \"scatterpolargl\"}], \"scatterternary\": [{\"marker\": {\"colorbar\": {\"outlinewidth\": 0, \"ticks\": \"\"}}, \"type\": \"scatterternary\"}], \"surface\": [{\"colorbar\": {\"outlinewidth\": 0, \"ticks\": \"\"}, \"colorscale\": [[0.0, \"#0d0887\"], [0.1111111111111111, \"#46039f\"], [0.2222222222222222, \"#7201a8\"], [0.3333333333333333, \"#9c179e\"], [0.4444444444444444, \"#bd3786\"], [0.5555555555555556, \"#d8576b\"], [0.6666666666666666, \"#ed7953\"], [0.7777777777777778, \"#fb9f3a\"], [0.8888888888888888, \"#fdca26\"], [1.0, \"#f0f921\"]], \"type\": \"surface\"}], \"table\": [{\"cells\": {\"fill\": {\"color\": \"#EBF0F8\"}, \"line\": {\"color\": \"white\"}}, \"header\": {\"fill\": {\"color\": \"#C8D4E3\"}, \"line\": {\"color\": \"white\"}}, \"type\": \"table\"}]}, \"layout\": {\"annotationdefaults\": {\"arrowcolor\": \"#2a3f5f\", \"arrowhead\": 0, \"arrowwidth\": 1}, \"coloraxis\": {\"colorbar\": {\"outlinewidth\": 0, \"ticks\": \"\"}}, \"colorscale\": {\"diverging\": [[0, \"#8e0152\"], [0.1, \"#c51b7d\"], [0.2, \"#de77ae\"], [0.3, \"#f1b6da\"], [0.4, \"#fde0ef\"], [0.5, \"#f7f7f7\"], [0.6, \"#e6f5d0\"], [0.7, \"#b8e186\"], [0.8, \"#7fbc41\"], [0.9, \"#4d9221\"], [1, \"#276419\"]], \"sequential\": [[0.0, \"#0d0887\"], [0.1111111111111111, \"#46039f\"], [0.2222222222222222, \"#7201a8\"], [0.3333333333333333, \"#9c179e\"], [0.4444444444444444, \"#bd3786\"], [0.5555555555555556, \"#d8576b\"], [0.6666666666666666, \"#ed7953\"], [0.7777777777777778, \"#fb9f3a\"], [0.8888888888888888, \"#fdca26\"], [1.0, \"#f0f921\"]], \"sequentialminus\": [[0.0, \"#0d0887\"], [0.1111111111111111, \"#46039f\"], [0.2222222222222222, \"#7201a8\"], [0.3333333333333333, \"#9c179e\"], [0.4444444444444444, \"#bd3786\"], [0.5555555555555556, \"#d8576b\"], [0.6666666666666666, \"#ed7953\"], [0.7777777777777778, \"#fb9f3a\"], [0.8888888888888888, \"#fdca26\"], [1.0, \"#f0f921\"]]}, \"colorway\": [\"#636efa\", \"#EF553B\", \"#00cc96\", \"#ab63fa\", \"#FFA15A\", \"#19d3f3\", \"#FF6692\", \"#B6E880\", \"#FF97FF\", \"#FECB52\"], \"font\": {\"color\": \"#2a3f5f\"}, \"geo\": {\"bgcolor\": \"white\", \"lakecolor\": \"white\", \"landcolor\": \"#E5ECF6\", \"showlakes\": true, \"showland\": true, \"subunitcolor\": \"white\"}, \"hoverlabel\": {\"align\": \"left\"}, \"hovermode\": \"closest\", \"mapbox\": {\"style\": \"light\"}, \"paper_bgcolor\": \"white\", \"plot_bgcolor\": \"#E5ECF6\", \"polar\": {\"angularaxis\": {\"gridcolor\": \"white\", \"linecolor\": \"white\", \"ticks\": \"\"}, \"bgcolor\": \"#E5ECF6\", \"radialaxis\": {\"gridcolor\": \"white\", \"linecolor\": \"white\", \"ticks\": \"\"}}, \"scene\": {\"xaxis\": {\"backgroundcolor\": \"#E5ECF6\", \"gridcolor\": \"white\", \"gridwidth\": 2, \"linecolor\": \"white\", \"showbackground\": true, \"ticks\": \"\", \"zerolinecolor\": \"white\"}, \"yaxis\": {\"backgroundcolor\": \"#E5ECF6\", \"gridcolor\": \"white\", \"gridwidth\": 2, \"linecolor\": \"white\", \"showbackground\": true, \"ticks\": \"\", \"zerolinecolor\": \"white\"}, \"zaxis\": {\"backgroundcolor\": \"#E5ECF6\", \"gridcolor\": \"white\", \"gridwidth\": 2, \"linecolor\": \"white\", \"showbackground\": true, \"ticks\": \"\", \"zerolinecolor\": \"white\"}}, \"shapedefaults\": {\"line\": {\"color\": \"#2a3f5f\"}}, \"ternary\": {\"aaxis\": {\"gridcolor\": \"white\", \"linecolor\": \"white\", \"ticks\": \"\"}, \"baxis\": {\"gridcolor\": \"white\", \"linecolor\": \"white\", \"ticks\": \"\"}, \"bgcolor\": \"#E5ECF6\", \"caxis\": {\"gridcolor\": \"white\", \"linecolor\": \"white\", \"ticks\": \"\"}}, \"title\": {\"x\": 0.05}, \"xaxis\": {\"automargin\": true, \"gridcolor\": \"white\", \"linecolor\": \"white\", \"ticks\": \"\", \"title\": {\"standoff\": 15}, \"zerolinecolor\": \"white\", \"zerolinewidth\": 2}, \"yaxis\": {\"automargin\": true, \"gridcolor\": \"white\", \"linecolor\": \"white\", \"ticks\": \"\", \"title\": {\"standoff\": 15}, \"zerolinecolor\": \"white\", \"zerolinewidth\": 2}}}},\n",
       "                        {\"responsive\": true}\n",
       "                    ).then(function(){\n",
       "                            \n",
       "var gd = document.getElementById('e8da8850-b311-4bb4-a474-71883bb0e531');\n",
       "var x = new MutationObserver(function (mutations, observer) {{\n",
       "        var display = window.getComputedStyle(gd).display;\n",
       "        if (!display || display === 'none') {{\n",
       "            console.log([gd, 'removed!']);\n",
       "            Plotly.purge(gd);\n",
       "            observer.disconnect();\n",
       "        }}\n",
       "}});\n",
       "\n",
       "// Listen for the removal of the full notebook cells\n",
       "var notebookContainer = gd.closest('#notebook-container');\n",
       "if (notebookContainer) {{\n",
       "    x.observe(notebookContainer, {childList: true});\n",
       "}}\n",
       "\n",
       "// Listen for the clearing of the current output cell\n",
       "var outputEl = gd.closest('.output');\n",
       "if (outputEl) {{\n",
       "    x.observe(outputEl, {childList: true});\n",
       "}}\n",
       "\n",
       "                        })\n",
       "                };\n",
       "                });\n",
       "            </script>\n",
       "        </div>"
      ]
     },
     "metadata": {},
     "output_type": "display_data"
    }
   ],
   "source": [
    "\n",
    "feture_to_plot = [\"energy\", \"liveness\", \"tempo\", \"valence\",\"danceability\"]\n",
    "text1 = df_2018[\"artists\"] + \" - \" + df_2018[\"name\"]\n",
    "text2 = text1.values\n",
    "X = df_2018[feture_to_plot].values\n",
    "y = df_2018[\"danceability\"].values\n",
    "min_maxscaler = MinMaxScaler()\n",
    "X = min_maxscaler.fit_transform(X)\n",
    "pca = PCA(n_components=3)\n",
    "pca.fit(X)\n",
    "X = pca.transform(X)\n",
    "\n",
    "plot3d = go.Scatter3d(\n",
    "    x=X[:,0],\n",
    "    y=X[:,1],\n",
    "    z=X[:,2],\n",
    "    text=text2,\n",
    "    mode=\"markers\",\n",
    "    marker=dict(\n",
    "        size=8,\n",
    "        color=y\n",
    "    )\n",
    ")\n",
    "\n",
    "fig = go.Figure(data=[plot3d])\n",
    "py.iplot(fig, filename=\"3d graph-2nd\")\n"
   ]
  },
  {
   "cell_type": "code",
   "execution_count": null,
   "metadata": {},
   "outputs": [],
   "source": []
  },
  {
   "cell_type": "code",
   "execution_count": null,
   "metadata": {},
   "outputs": [],
   "source": []
  },
  {
   "cell_type": "markdown",
   "metadata": {},
   "source": [
    " ### create a popularity column depending on our matrices"
   ]
  },
  {
   "cell_type": "code",
   "execution_count": 42,
   "metadata": {},
   "outputs": [],
   "source": [
    "df_2018[\"popularity\"]=\"\"\n",
    "df_2018.loc[(df_2018['danceability']>=0.69) | (df_2018['energy']>=0.66)| (df_2018['loudness']>=-5.6)| (df_2018['acousticness']>=0.16)| \n",
    "            (df_2018['valence']>=0.51)| (df_2018['tempo']>=119.0),'popularity']='1'\n",
    "df_2018.loc[(df_2018['danceability']<0.69) & (df_2018['energy']<0.66) & (df_2018['loudness']<-5.6),'popularity']='0'\n",
    "df_2018.head()\n",
    "\n",
    "df_2018.to_csv(\"./Data/df_2017_new.csv\",index=False)"
   ]
  },
  {
   "cell_type": "code",
   "execution_count": 43,
   "metadata": {
    "scrolled": true
   },
   "outputs": [
    {
     "data": {
      "text/html": [
       "<div>\n",
       "<style scoped>\n",
       "    .dataframe tbody tr th:only-of-type {\n",
       "        vertical-align: middle;\n",
       "    }\n",
       "\n",
       "    .dataframe tbody tr th {\n",
       "        vertical-align: top;\n",
       "    }\n",
       "\n",
       "    .dataframe thead th {\n",
       "        text-align: right;\n",
       "    }\n",
       "</style>\n",
       "<table border=\"1\" class=\"dataframe\">\n",
       "  <thead>\n",
       "    <tr style=\"text-align: right;\">\n",
       "      <th></th>\n",
       "      <th>id</th>\n",
       "      <th>name</th>\n",
       "      <th>artists</th>\n",
       "      <th>danceability</th>\n",
       "      <th>energy</th>\n",
       "      <th>key</th>\n",
       "      <th>loudness</th>\n",
       "      <th>mode</th>\n",
       "      <th>speechiness</th>\n",
       "      <th>acousticness</th>\n",
       "      <th>instrumentalness</th>\n",
       "      <th>liveness</th>\n",
       "      <th>valence</th>\n",
       "      <th>tempo</th>\n",
       "      <th>duration_ms</th>\n",
       "      <th>time_signature</th>\n",
       "      <th>dancebility_new</th>\n",
       "      <th>tempo_rate</th>\n",
       "      <th>popularity</th>\n",
       "    </tr>\n",
       "  </thead>\n",
       "  <tbody>\n",
       "    <tr>\n",
       "      <th>0</th>\n",
       "      <td>6DCZcSspjsKoFjzjrWoCd</td>\n",
       "      <td>God's Plan</td>\n",
       "      <td>Drake</td>\n",
       "      <td>0.754</td>\n",
       "      <td>0.449</td>\n",
       "      <td>7.0</td>\n",
       "      <td>-9.211</td>\n",
       "      <td>1.0</td>\n",
       "      <td>0.1090</td>\n",
       "      <td>0.0332</td>\n",
       "      <td>0.000083</td>\n",
       "      <td>0.552</td>\n",
       "      <td>0.357</td>\n",
       "      <td>77.169</td>\n",
       "      <td>198973.0</td>\n",
       "      <td>4.0</td>\n",
       "      <td>1</td>\n",
       "      <td>moderate</td>\n",
       "      <td>1</td>\n",
       "    </tr>\n",
       "    <tr>\n",
       "      <th>1</th>\n",
       "      <td>3ee8Jmje8o58CHK66QrVC</td>\n",
       "      <td>SAD!</td>\n",
       "      <td>XXXTENTACION</td>\n",
       "      <td>0.740</td>\n",
       "      <td>0.613</td>\n",
       "      <td>8.0</td>\n",
       "      <td>-4.880</td>\n",
       "      <td>1.0</td>\n",
       "      <td>0.1450</td>\n",
       "      <td>0.2580</td>\n",
       "      <td>0.003720</td>\n",
       "      <td>0.123</td>\n",
       "      <td>0.473</td>\n",
       "      <td>75.023</td>\n",
       "      <td>166606.0</td>\n",
       "      <td>4.0</td>\n",
       "      <td>1</td>\n",
       "      <td>slow</td>\n",
       "      <td>1</td>\n",
       "    </tr>\n",
       "    <tr>\n",
       "      <th>2</th>\n",
       "      <td>0e7ipj03S05BNilyu5bRz</td>\n",
       "      <td>rockstar (feat. 21 Savage)</td>\n",
       "      <td>Post Malone</td>\n",
       "      <td>0.587</td>\n",
       "      <td>0.535</td>\n",
       "      <td>5.0</td>\n",
       "      <td>-6.090</td>\n",
       "      <td>0.0</td>\n",
       "      <td>0.0898</td>\n",
       "      <td>0.1170</td>\n",
       "      <td>0.000066</td>\n",
       "      <td>0.131</td>\n",
       "      <td>0.140</td>\n",
       "      <td>159.847</td>\n",
       "      <td>218147.0</td>\n",
       "      <td>4.0</td>\n",
       "      <td>0</td>\n",
       "      <td>fast</td>\n",
       "      <td>0</td>\n",
       "    </tr>\n",
       "    <tr>\n",
       "      <th>3</th>\n",
       "      <td>3swc6WTsr7rl9DqQKQA55</td>\n",
       "      <td>Psycho (feat. Ty Dolla $ign)</td>\n",
       "      <td>Post Malone</td>\n",
       "      <td>0.739</td>\n",
       "      <td>0.559</td>\n",
       "      <td>8.0</td>\n",
       "      <td>-8.011</td>\n",
       "      <td>1.0</td>\n",
       "      <td>0.1170</td>\n",
       "      <td>0.5800</td>\n",
       "      <td>0.000000</td>\n",
       "      <td>0.112</td>\n",
       "      <td>0.439</td>\n",
       "      <td>140.124</td>\n",
       "      <td>221440.0</td>\n",
       "      <td>4.0</td>\n",
       "      <td>1</td>\n",
       "      <td>fast</td>\n",
       "      <td>1</td>\n",
       "    </tr>\n",
       "    <tr>\n",
       "      <th>4</th>\n",
       "      <td>2G7V7zsVDxg1yRsu7Ew9R</td>\n",
       "      <td>In My Feelings</td>\n",
       "      <td>Drake</td>\n",
       "      <td>0.835</td>\n",
       "      <td>0.626</td>\n",
       "      <td>1.0</td>\n",
       "      <td>-5.833</td>\n",
       "      <td>1.0</td>\n",
       "      <td>0.1250</td>\n",
       "      <td>0.0589</td>\n",
       "      <td>0.000060</td>\n",
       "      <td>0.396</td>\n",
       "      <td>0.350</td>\n",
       "      <td>91.030</td>\n",
       "      <td>217925.0</td>\n",
       "      <td>4.0</td>\n",
       "      <td>1</td>\n",
       "      <td>moderate</td>\n",
       "      <td>1</td>\n",
       "    </tr>\n",
       "  </tbody>\n",
       "</table>\n",
       "</div>"
      ],
      "text/plain": [
       "                      id                          name       artists  \\\n",
       "0  6DCZcSspjsKoFjzjrWoCd                    God's Plan         Drake   \n",
       "1  3ee8Jmje8o58CHK66QrVC                          SAD!  XXXTENTACION   \n",
       "2  0e7ipj03S05BNilyu5bRz    rockstar (feat. 21 Savage)   Post Malone   \n",
       "3  3swc6WTsr7rl9DqQKQA55  Psycho (feat. Ty Dolla $ign)   Post Malone   \n",
       "4  2G7V7zsVDxg1yRsu7Ew9R                In My Feelings         Drake   \n",
       "\n",
       "   danceability  energy  key  loudness  mode  speechiness  acousticness  \\\n",
       "0         0.754   0.449  7.0    -9.211   1.0       0.1090        0.0332   \n",
       "1         0.740   0.613  8.0    -4.880   1.0       0.1450        0.2580   \n",
       "2         0.587   0.535  5.0    -6.090   0.0       0.0898        0.1170   \n",
       "3         0.739   0.559  8.0    -8.011   1.0       0.1170        0.5800   \n",
       "4         0.835   0.626  1.0    -5.833   1.0       0.1250        0.0589   \n",
       "\n",
       "   instrumentalness  liveness  valence    tempo  duration_ms  time_signature  \\\n",
       "0          0.000083     0.552    0.357   77.169     198973.0             4.0   \n",
       "1          0.003720     0.123    0.473   75.023     166606.0             4.0   \n",
       "2          0.000066     0.131    0.140  159.847     218147.0             4.0   \n",
       "3          0.000000     0.112    0.439  140.124     221440.0             4.0   \n",
       "4          0.000060     0.396    0.350   91.030     217925.0             4.0   \n",
       "\n",
       "  dancebility_new tempo_rate popularity  \n",
       "0               1   moderate          1  \n",
       "1               1       slow          1  \n",
       "2               0       fast          0  \n",
       "3               1       fast          1  \n",
       "4               1   moderate          1  "
      ]
     },
     "execution_count": 43,
     "metadata": {},
     "output_type": "execute_result"
    }
   ],
   "source": [
    "df_2018.head()"
   ]
  },
  {
   "cell_type": "code",
   "execution_count": 44,
   "metadata": {},
   "outputs": [
    {
     "ename": "FileNotFoundError",
     "evalue": "[Errno 2] File b'./Data/df_2018_new.csv' does not exist: b'./Data/df_2018_new.csv'",
     "output_type": "error",
     "traceback": [
      "\u001b[1;31m---------------------------------------------------------------------------\u001b[0m",
      "\u001b[1;31mFileNotFoundError\u001b[0m                         Traceback (most recent call last)",
      "\u001b[1;32m<ipython-input-44-25df12ed535d>\u001b[0m in \u001b[0;36m<module>\u001b[1;34m\u001b[0m\n\u001b[1;32m----> 1\u001b[1;33m \u001b[0mdf_2018_new\u001b[0m\u001b[1;33m=\u001b[0m\u001b[0mpd\u001b[0m\u001b[1;33m.\u001b[0m\u001b[0mread_csv\u001b[0m\u001b[1;33m(\u001b[0m\u001b[1;34m'./Data/df_2018_new.csv'\u001b[0m\u001b[1;33m)\u001b[0m\u001b[1;33m\u001b[0m\u001b[1;33m\u001b[0m\u001b[0m\n\u001b[0m",
      "\u001b[1;32m~\\Anaconda3\\lib\\site-packages\\pandas\\io\\parsers.py\u001b[0m in \u001b[0;36mparser_f\u001b[1;34m(filepath_or_buffer, sep, delimiter, header, names, index_col, usecols, squeeze, prefix, mangle_dupe_cols, dtype, engine, converters, true_values, false_values, skipinitialspace, skiprows, skipfooter, nrows, na_values, keep_default_na, na_filter, verbose, skip_blank_lines, parse_dates, infer_datetime_format, keep_date_col, date_parser, dayfirst, iterator, chunksize, compression, thousands, decimal, lineterminator, quotechar, quoting, doublequote, escapechar, comment, encoding, dialect, tupleize_cols, error_bad_lines, warn_bad_lines, delim_whitespace, low_memory, memory_map, float_precision)\u001b[0m\n\u001b[0;32m    700\u001b[0m                     skip_blank_lines=skip_blank_lines)\n\u001b[0;32m    701\u001b[0m \u001b[1;33m\u001b[0m\u001b[0m\n\u001b[1;32m--> 702\u001b[1;33m         \u001b[1;32mreturn\u001b[0m \u001b[0m_read\u001b[0m\u001b[1;33m(\u001b[0m\u001b[0mfilepath_or_buffer\u001b[0m\u001b[1;33m,\u001b[0m \u001b[0mkwds\u001b[0m\u001b[1;33m)\u001b[0m\u001b[1;33m\u001b[0m\u001b[1;33m\u001b[0m\u001b[0m\n\u001b[0m\u001b[0;32m    703\u001b[0m \u001b[1;33m\u001b[0m\u001b[0m\n\u001b[0;32m    704\u001b[0m     \u001b[0mparser_f\u001b[0m\u001b[1;33m.\u001b[0m\u001b[0m__name__\u001b[0m \u001b[1;33m=\u001b[0m \u001b[0mname\u001b[0m\u001b[1;33m\u001b[0m\u001b[1;33m\u001b[0m\u001b[0m\n",
      "\u001b[1;32m~\\Anaconda3\\lib\\site-packages\\pandas\\io\\parsers.py\u001b[0m in \u001b[0;36m_read\u001b[1;34m(filepath_or_buffer, kwds)\u001b[0m\n\u001b[0;32m    427\u001b[0m \u001b[1;33m\u001b[0m\u001b[0m\n\u001b[0;32m    428\u001b[0m     \u001b[1;31m# Create the parser.\u001b[0m\u001b[1;33m\u001b[0m\u001b[1;33m\u001b[0m\u001b[1;33m\u001b[0m\u001b[0m\n\u001b[1;32m--> 429\u001b[1;33m     \u001b[0mparser\u001b[0m \u001b[1;33m=\u001b[0m \u001b[0mTextFileReader\u001b[0m\u001b[1;33m(\u001b[0m\u001b[0mfilepath_or_buffer\u001b[0m\u001b[1;33m,\u001b[0m \u001b[1;33m**\u001b[0m\u001b[0mkwds\u001b[0m\u001b[1;33m)\u001b[0m\u001b[1;33m\u001b[0m\u001b[1;33m\u001b[0m\u001b[0m\n\u001b[0m\u001b[0;32m    430\u001b[0m \u001b[1;33m\u001b[0m\u001b[0m\n\u001b[0;32m    431\u001b[0m     \u001b[1;32mif\u001b[0m \u001b[0mchunksize\u001b[0m \u001b[1;32mor\u001b[0m \u001b[0miterator\u001b[0m\u001b[1;33m:\u001b[0m\u001b[1;33m\u001b[0m\u001b[1;33m\u001b[0m\u001b[0m\n",
      "\u001b[1;32m~\\Anaconda3\\lib\\site-packages\\pandas\\io\\parsers.py\u001b[0m in \u001b[0;36m__init__\u001b[1;34m(self, f, engine, **kwds)\u001b[0m\n\u001b[0;32m    893\u001b[0m             \u001b[0mself\u001b[0m\u001b[1;33m.\u001b[0m\u001b[0moptions\u001b[0m\u001b[1;33m[\u001b[0m\u001b[1;34m'has_index_names'\u001b[0m\u001b[1;33m]\u001b[0m \u001b[1;33m=\u001b[0m \u001b[0mkwds\u001b[0m\u001b[1;33m[\u001b[0m\u001b[1;34m'has_index_names'\u001b[0m\u001b[1;33m]\u001b[0m\u001b[1;33m\u001b[0m\u001b[1;33m\u001b[0m\u001b[0m\n\u001b[0;32m    894\u001b[0m \u001b[1;33m\u001b[0m\u001b[0m\n\u001b[1;32m--> 895\u001b[1;33m         \u001b[0mself\u001b[0m\u001b[1;33m.\u001b[0m\u001b[0m_make_engine\u001b[0m\u001b[1;33m(\u001b[0m\u001b[0mself\u001b[0m\u001b[1;33m.\u001b[0m\u001b[0mengine\u001b[0m\u001b[1;33m)\u001b[0m\u001b[1;33m\u001b[0m\u001b[1;33m\u001b[0m\u001b[0m\n\u001b[0m\u001b[0;32m    896\u001b[0m \u001b[1;33m\u001b[0m\u001b[0m\n\u001b[0;32m    897\u001b[0m     \u001b[1;32mdef\u001b[0m \u001b[0mclose\u001b[0m\u001b[1;33m(\u001b[0m\u001b[0mself\u001b[0m\u001b[1;33m)\u001b[0m\u001b[1;33m:\u001b[0m\u001b[1;33m\u001b[0m\u001b[1;33m\u001b[0m\u001b[0m\n",
      "\u001b[1;32m~\\Anaconda3\\lib\\site-packages\\pandas\\io\\parsers.py\u001b[0m in \u001b[0;36m_make_engine\u001b[1;34m(self, engine)\u001b[0m\n\u001b[0;32m   1120\u001b[0m     \u001b[1;32mdef\u001b[0m \u001b[0m_make_engine\u001b[0m\u001b[1;33m(\u001b[0m\u001b[0mself\u001b[0m\u001b[1;33m,\u001b[0m \u001b[0mengine\u001b[0m\u001b[1;33m=\u001b[0m\u001b[1;34m'c'\u001b[0m\u001b[1;33m)\u001b[0m\u001b[1;33m:\u001b[0m\u001b[1;33m\u001b[0m\u001b[1;33m\u001b[0m\u001b[0m\n\u001b[0;32m   1121\u001b[0m         \u001b[1;32mif\u001b[0m \u001b[0mengine\u001b[0m \u001b[1;33m==\u001b[0m \u001b[1;34m'c'\u001b[0m\u001b[1;33m:\u001b[0m\u001b[1;33m\u001b[0m\u001b[1;33m\u001b[0m\u001b[0m\n\u001b[1;32m-> 1122\u001b[1;33m             \u001b[0mself\u001b[0m\u001b[1;33m.\u001b[0m\u001b[0m_engine\u001b[0m \u001b[1;33m=\u001b[0m \u001b[0mCParserWrapper\u001b[0m\u001b[1;33m(\u001b[0m\u001b[0mself\u001b[0m\u001b[1;33m.\u001b[0m\u001b[0mf\u001b[0m\u001b[1;33m,\u001b[0m \u001b[1;33m**\u001b[0m\u001b[0mself\u001b[0m\u001b[1;33m.\u001b[0m\u001b[0moptions\u001b[0m\u001b[1;33m)\u001b[0m\u001b[1;33m\u001b[0m\u001b[1;33m\u001b[0m\u001b[0m\n\u001b[0m\u001b[0;32m   1123\u001b[0m         \u001b[1;32melse\u001b[0m\u001b[1;33m:\u001b[0m\u001b[1;33m\u001b[0m\u001b[1;33m\u001b[0m\u001b[0m\n\u001b[0;32m   1124\u001b[0m             \u001b[1;32mif\u001b[0m \u001b[0mengine\u001b[0m \u001b[1;33m==\u001b[0m \u001b[1;34m'python'\u001b[0m\u001b[1;33m:\u001b[0m\u001b[1;33m\u001b[0m\u001b[1;33m\u001b[0m\u001b[0m\n",
      "\u001b[1;32m~\\Anaconda3\\lib\\site-packages\\pandas\\io\\parsers.py\u001b[0m in \u001b[0;36m__init__\u001b[1;34m(self, src, **kwds)\u001b[0m\n\u001b[0;32m   1851\u001b[0m         \u001b[0mkwds\u001b[0m\u001b[1;33m[\u001b[0m\u001b[1;34m'usecols'\u001b[0m\u001b[1;33m]\u001b[0m \u001b[1;33m=\u001b[0m \u001b[0mself\u001b[0m\u001b[1;33m.\u001b[0m\u001b[0musecols\u001b[0m\u001b[1;33m\u001b[0m\u001b[1;33m\u001b[0m\u001b[0m\n\u001b[0;32m   1852\u001b[0m \u001b[1;33m\u001b[0m\u001b[0m\n\u001b[1;32m-> 1853\u001b[1;33m         \u001b[0mself\u001b[0m\u001b[1;33m.\u001b[0m\u001b[0m_reader\u001b[0m \u001b[1;33m=\u001b[0m \u001b[0mparsers\u001b[0m\u001b[1;33m.\u001b[0m\u001b[0mTextReader\u001b[0m\u001b[1;33m(\u001b[0m\u001b[0msrc\u001b[0m\u001b[1;33m,\u001b[0m \u001b[1;33m**\u001b[0m\u001b[0mkwds\u001b[0m\u001b[1;33m)\u001b[0m\u001b[1;33m\u001b[0m\u001b[1;33m\u001b[0m\u001b[0m\n\u001b[0m\u001b[0;32m   1854\u001b[0m         \u001b[0mself\u001b[0m\u001b[1;33m.\u001b[0m\u001b[0munnamed_cols\u001b[0m \u001b[1;33m=\u001b[0m \u001b[0mself\u001b[0m\u001b[1;33m.\u001b[0m\u001b[0m_reader\u001b[0m\u001b[1;33m.\u001b[0m\u001b[0munnamed_cols\u001b[0m\u001b[1;33m\u001b[0m\u001b[1;33m\u001b[0m\u001b[0m\n\u001b[0;32m   1855\u001b[0m \u001b[1;33m\u001b[0m\u001b[0m\n",
      "\u001b[1;32mpandas/_libs/parsers.pyx\u001b[0m in \u001b[0;36mpandas._libs.parsers.TextReader.__cinit__\u001b[1;34m()\u001b[0m\n",
      "\u001b[1;32mpandas/_libs/parsers.pyx\u001b[0m in \u001b[0;36mpandas._libs.parsers.TextReader._setup_parser_source\u001b[1;34m()\u001b[0m\n",
      "\u001b[1;31mFileNotFoundError\u001b[0m: [Errno 2] File b'./Data/df_2018_new.csv' does not exist: b'./Data/df_2018_new.csv'"
     ]
    }
   ],
   "source": [
    "df_2018_new=pd.read_csv('./Data/df_2018_new.csv')\n"
   ]
  },
  {
   "cell_type": "markdown",
   "metadata": {},
   "source": [
    "## corelation between features and popularity"
   ]
  },
  {
   "cell_type": "code",
   "execution_count": null,
   "metadata": {},
   "outputs": [],
   "source": [
    "def draw(year,compare_col,color):\n",
    "    graph = sns.FacetGrid(df_2018_new, col = \"popularity\")\n",
    "    graph.map(sns.distplot, compare_col, bins = 25,color=color)\n",
    "    return plt.show()"
   ]
  },
  {
   "cell_type": "code",
   "execution_count": null,
   "metadata": {},
   "outputs": [],
   "source": [
    "draw(df_2018_new,\"danceability\",\"b\")\n",
    "draw(df_2018_new,\"acousticness\",\"r\")\n",
    "draw(df_2018_new,\"loudness\",\"m\")\n",
    "draw(df_2018_new,\"valence\",\"r\")\n",
    "draw(df_2018_new,\"tempo\",\"y\")\n"
   ]
  },
  {
   "cell_type": "code",
   "execution_count": null,
   "metadata": {},
   "outputs": [],
   "source": [
    "popularity_data = pd.concat([df_2018_new[\"name\"],df_2018_new[\"popularity\"]],axis=1)\n",
    "popularity_data.head()"
   ]
  },
  {
   "cell_type": "code",
   "execution_count": null,
   "metadata": {},
   "outputs": [],
   "source": [
    "df_2018_final=df_2018.copy()\n",
    "df_2018_final.drop([\"id\",\"name\",\"artists\",\"tempo_rate\",\"dancebility_new\"],axis=1,inplace=True)\n",
    "df_2018_final.columns\n"
   ]
  },
  {
   "cell_type": "code",
   "execution_count": null,
   "metadata": {},
   "outputs": [],
   "source": [
    "df_2018_final[\"key\"] = df_2018_final[\"key\"].astype(\"category\")\n",
    "df_2018_final = pd.get_dummies(df_2018_final, columns=[\"key\"])\n",
    "df_2018_final.head()"
   ]
  },
  {
   "cell_type": "code",
   "execution_count": null,
   "metadata": {},
   "outputs": [],
   "source": [
    "df_2018_final[\"time_signature\"] = df_2018_final[\"time_signature\"].astype(\"category\")\n",
    "df_2018_final = pd.get_dummies(df_2018_final, columns=[\"time_signature\"])\n",
    "df_2018_final.head()"
   ]
  },
  {
   "cell_type": "code",
   "execution_count": null,
   "metadata": {},
   "outputs": [],
   "source": [
    "def change_datatype(var):\n",
    "    df_2018_final[var] = df_2018_final[var].astype(int)\n",
    "    \n",
    "columns= [\"key_0.0\",\"key_1.0\",\"key_2.0\",\n",
    "         \"key_3.0\",\"key_4.0\",\"key_5.0\",\"key_6.0\",\"key_7.0\",\"key_8.0\",\"key_9.0\",\"key_10.0\",\"key_11.0\",\"time_signature_3.0\",\"time_signature_4.0\"]\n",
    "for column in columns:\n",
    "    change_datatype(column)\n",
    "    "
   ]
  },
  {
   "cell_type": "code",
   "execution_count": null,
   "metadata": {},
   "outputs": [],
   "source": [
    "def load_data():\n",
    "    \n",
    "    y = df_2018_final[\"popularity\"].values\n",
    "    X = df_2018_final.drop([\"popularity\"],axis=1)\n",
    "    return X,y\n",
    "X,y =load_data()\n",
    "\n",
    "feature_cols = X.columns.to_list()"
   ]
  },
  {
   "cell_type": "markdown",
   "metadata": {},
   "source": [
    "#### There is not a great  linear correlations in our data So, Decision Tree algorithms will give  better results as compared to linear regression models. Therfore using  Random Forest \n",
    " "
   ]
  },
  {
   "cell_type": "code",
   "execution_count": null,
   "metadata": {},
   "outputs": [],
   "source": [
    "\n",
    "#x_data=X\n",
    "X,y = load_data()\n",
    "X_train, X_test, y_train, y_test = train_test_split(X,y,test_size = 0.6)\n",
    "# X_train = X_train.T\n",
    "# X_test = X_test.T\n",
    "X_train=X_train[:None]\n",
    "X_test=X_test[:None]\n",
    "y_train = y_train.astype(int).T\n",
    "y_test = y_test.astype(int).T\n",
    "print(\"X_train: \",X_train.shape)\n",
    "print(\"X_test: \",X_test.shape)\n",
    "print(\"y_train: \",y_train.shape)\n",
    "print(\"y_test: \",y_test.shape)\n"
   ]
  },
  {
   "cell_type": "code",
   "execution_count": null,
   "metadata": {},
   "outputs": [],
   "source": [
    "def plot_impfeature():\n",
    "    xgb = XGBClassifier()\n",
    "    xgb.fit(X_train, y_train)\n",
    "    ax = plot_importance(xgb,color=\"r\", height=0.15,\n",
    "                         title='  Features Importance ', xlabel='Feature score', ylabel='Features',\n",
    "                         importance_type='weight'\n",
    "                        )\n",
    "\n",
    "    return pyplot.show()\n",
    "\n",
    "\n",
    "plot_impfeature()"
   ]
  },
  {
   "cell_type": "markdown",
   "metadata": {},
   "source": [
    "##### The above graph assure that :\n",
    "-  Our proposed ranked features turned out to be  most important for this data  \n",
    "-  Example: we calculated features like :dancebility ,energy,loudness ets of most importance.And hence thus turned out true."
   ]
  },
  {
   "cell_type": "code",
   "execution_count": null,
   "metadata": {},
   "outputs": [],
   "source": [
    "rf=RandomForestClassifier(random_state = 3)\n",
    "rf.fit(X_train,y_train)\n",
    "\n",
    "print(\"Train accuracy \",rf.score(X_train,y_train))\n",
    "print(\"Test accuracy \",rf.score(X_test,y_test))\n",
    "\n",
    "RandomForestClassifier_score=rf.score(X_test,y_test)\n",
    "y_pred=rf.predict(X_test)\n",
    "t_true=y_test"
   ]
  },
  {
   "cell_type": "code",
   "execution_count": null,
   "metadata": {},
   "outputs": [],
   "source": []
  }
 ],
 "metadata": {
  "kernelspec": {
   "display_name": "Python 3",
   "language": "python",
   "name": "python3"
  },
  "language_info": {
   "codemirror_mode": {
    "name": "ipython",
    "version": 3
   },
   "file_extension": ".py",
   "mimetype": "text/x-python",
   "name": "python",
   "nbconvert_exporter": "python",
   "pygments_lexer": "ipython3",
   "version": "3.7.3"
  }
 },
 "nbformat": 4,
 "nbformat_minor": 2
}
