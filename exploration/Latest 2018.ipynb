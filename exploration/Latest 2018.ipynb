{
 "cells": [
  {
   "cell_type": "code",
   "execution_count": 1,
   "metadata": {},
   "outputs": [
    {
     "name": "stderr",
     "output_type": "stream",
     "text": [
      "E:\\Anaconda\\lib\\site-packages\\statsmodels\\tools\\_testing.py:19: FutureWarning: pandas.util.testing is deprecated. Use the functions in the public API at pandas.testing instead.\n",
      "  import pandas.util.testing as tm\n"
     ]
    },
    {
     "data": {
      "text/html": [
       "        <script type=\"text/javascript\">\n",
       "        window.PlotlyConfig = {MathJaxConfig: 'local'};\n",
       "        if (window.MathJax) {MathJax.Hub.Config({SVG: {font: \"STIX-Web\"}});}\n",
       "        if (typeof require !== 'undefined') {\n",
       "        require.undef(\"plotly\");\n",
       "        requirejs.config({\n",
       "            paths: {\n",
       "                'plotly': ['https://cdn.plot.ly/plotly-latest.min']\n",
       "            }\n",
       "        });\n",
       "        require(['plotly'], function(Plotly) {\n",
       "            window._Plotly = Plotly;\n",
       "        });\n",
       "        }\n",
       "        </script>\n",
       "        "
      ]
     },
     "metadata": {},
     "output_type": "display_data"
    }
   ],
   "source": [
    "import pandas as pd\n",
    "import numpy as np\n",
    "import seaborn as sns\n",
    "from matplotlib import pyplot as plt\n",
    "%matplotlib inline\n",
    "from textblob import TextBlob\n",
    "from sklearn.model_selection import train_test_split\n",
    "\n",
    "from xgboost import XGBClassifier\n",
    "from sklearn.ensemble import RandomForestClassifier\n",
    "from xgboost import plot_importance\n",
    "from sklearn.preprocessing import MinMaxScaler\n",
    "from sklearn.decomposition import PCA\n",
    "\n",
    "import plotly.offline as py\n",
    "py.init_notebook_mode(connected=True)\n",
    "import plotly.graph_objs as go\n",
    "import plotly.tools as tls\n",
    "from sklearn.manifold import TSNE\n",
    "import time\n",
    "\n"
   ]
  },
  {
   "cell_type": "markdown",
   "metadata": {},
   "source": [
    "# Load the data"
   ]
  },
  {
   "cell_type": "code",
   "execution_count": 2,
   "metadata": {},
   "outputs": [],
   "source": [
    "year='../Data/datasetsFinalaizedForEDA/datasets_top100-2018.csv'\n",
    "df_new=pd.read_csv('../Data/intermediate datasets-ToBeUsedForRanking/df_2018_new.csv')\n",
    "new_dataframe_name=\"../Data/intermediate datasets-ToBeUsedForRanking/df_2018_new.csv\"\n",
    "\n"
   ]
  },
  {
   "cell_type": "code",
   "execution_count": 3,
   "metadata": {},
   "outputs": [],
   "source": [
    "def load(year):\n",
    "    df=pd.read_csv(year)\n",
    "    return df\n",
    "\n",
    "#df_2019=pd.read_csv('../data/datasets_top50-2019.csv',encoding='latin-1')\n"
   ]
  },
  {
   "cell_type": "code",
   "execution_count": 4,
   "metadata": {},
   "outputs": [
    {
     "data": {
      "text/html": [
       "<div>\n",
       "<style scoped>\n",
       "    .dataframe tbody tr th:only-of-type {\n",
       "        vertical-align: middle;\n",
       "    }\n",
       "\n",
       "    .dataframe tbody tr th {\n",
       "        vertical-align: top;\n",
       "    }\n",
       "\n",
       "    .dataframe thead th {\n",
       "        text-align: right;\n",
       "    }\n",
       "</style>\n",
       "<table border=\"1\" class=\"dataframe\">\n",
       "  <thead>\n",
       "    <tr style=\"text-align: right;\">\n",
       "      <th></th>\n",
       "      <th>id</th>\n",
       "      <th>name</th>\n",
       "      <th>artists</th>\n",
       "      <th>danceability</th>\n",
       "      <th>energy</th>\n",
       "      <th>key</th>\n",
       "      <th>loudness</th>\n",
       "      <th>mode</th>\n",
       "      <th>speechiness</th>\n",
       "      <th>acousticness</th>\n",
       "      <th>instrumentalness</th>\n",
       "      <th>liveness</th>\n",
       "      <th>valence</th>\n",
       "      <th>tempo</th>\n",
       "      <th>duration_ms</th>\n",
       "      <th>time_signature</th>\n",
       "    </tr>\n",
       "  </thead>\n",
       "  <tbody>\n",
       "    <tr>\n",
       "      <th>0</th>\n",
       "      <td>6DCZcSspjsKoFjzjrWoCd</td>\n",
       "      <td>God's Plan</td>\n",
       "      <td>Drake</td>\n",
       "      <td>0.754</td>\n",
       "      <td>0.449</td>\n",
       "      <td>7.0</td>\n",
       "      <td>-9.211</td>\n",
       "      <td>1.0</td>\n",
       "      <td>0.1090</td>\n",
       "      <td>0.0332</td>\n",
       "      <td>0.000083</td>\n",
       "      <td>0.5520</td>\n",
       "      <td>0.3570</td>\n",
       "      <td>77.169</td>\n",
       "      <td>198973.0</td>\n",
       "      <td>4.0</td>\n",
       "    </tr>\n",
       "    <tr>\n",
       "      <th>1</th>\n",
       "      <td>3ee8Jmje8o58CHK66QrVC</td>\n",
       "      <td>SAD!</td>\n",
       "      <td>XXXTENTACION</td>\n",
       "      <td>0.740</td>\n",
       "      <td>0.613</td>\n",
       "      <td>8.0</td>\n",
       "      <td>-4.880</td>\n",
       "      <td>1.0</td>\n",
       "      <td>0.1450</td>\n",
       "      <td>0.2580</td>\n",
       "      <td>0.003720</td>\n",
       "      <td>0.1230</td>\n",
       "      <td>0.4730</td>\n",
       "      <td>75.023</td>\n",
       "      <td>166606.0</td>\n",
       "      <td>4.0</td>\n",
       "    </tr>\n",
       "    <tr>\n",
       "      <th>2</th>\n",
       "      <td>0e7ipj03S05BNilyu5bRz</td>\n",
       "      <td>rockstar (feat. 21 Savage)</td>\n",
       "      <td>Post Malone</td>\n",
       "      <td>0.587</td>\n",
       "      <td>0.535</td>\n",
       "      <td>5.0</td>\n",
       "      <td>-6.090</td>\n",
       "      <td>0.0</td>\n",
       "      <td>0.0898</td>\n",
       "      <td>0.1170</td>\n",
       "      <td>0.000066</td>\n",
       "      <td>0.1310</td>\n",
       "      <td>0.1400</td>\n",
       "      <td>159.847</td>\n",
       "      <td>218147.0</td>\n",
       "      <td>4.0</td>\n",
       "    </tr>\n",
       "    <tr>\n",
       "      <th>3</th>\n",
       "      <td>3swc6WTsr7rl9DqQKQA55</td>\n",
       "      <td>Psycho (feat. Ty Dolla $ign)</td>\n",
       "      <td>Post Malone</td>\n",
       "      <td>0.739</td>\n",
       "      <td>0.559</td>\n",
       "      <td>8.0</td>\n",
       "      <td>-8.011</td>\n",
       "      <td>1.0</td>\n",
       "      <td>0.1170</td>\n",
       "      <td>0.5800</td>\n",
       "      <td>0.000000</td>\n",
       "      <td>0.1120</td>\n",
       "      <td>0.4390</td>\n",
       "      <td>140.124</td>\n",
       "      <td>221440.0</td>\n",
       "      <td>4.0</td>\n",
       "    </tr>\n",
       "    <tr>\n",
       "      <th>4</th>\n",
       "      <td>2G7V7zsVDxg1yRsu7Ew9R</td>\n",
       "      <td>In My Feelings</td>\n",
       "      <td>Drake</td>\n",
       "      <td>0.835</td>\n",
       "      <td>0.626</td>\n",
       "      <td>1.0</td>\n",
       "      <td>-5.833</td>\n",
       "      <td>1.0</td>\n",
       "      <td>0.1250</td>\n",
       "      <td>0.0589</td>\n",
       "      <td>0.000060</td>\n",
       "      <td>0.3960</td>\n",
       "      <td>0.3500</td>\n",
       "      <td>91.030</td>\n",
       "      <td>217925.0</td>\n",
       "      <td>4.0</td>\n",
       "    </tr>\n",
       "    <tr>\n",
       "      <th>...</th>\n",
       "      <td>...</td>\n",
       "      <td>...</td>\n",
       "      <td>...</td>\n",
       "      <td>...</td>\n",
       "      <td>...</td>\n",
       "      <td>...</td>\n",
       "      <td>...</td>\n",
       "      <td>...</td>\n",
       "      <td>...</td>\n",
       "      <td>...</td>\n",
       "      <td>...</td>\n",
       "      <td>...</td>\n",
       "      <td>...</td>\n",
       "      <td>...</td>\n",
       "      <td>...</td>\n",
       "      <td>...</td>\n",
       "    </tr>\n",
       "    <tr>\n",
       "      <th>95</th>\n",
       "      <td>630sXRhIcfwr2e4RdNtjK</td>\n",
       "      <td>Rewrite The Stars</td>\n",
       "      <td>Zac Efron</td>\n",
       "      <td>0.684</td>\n",
       "      <td>0.619</td>\n",
       "      <td>10.0</td>\n",
       "      <td>-7.005</td>\n",
       "      <td>1.0</td>\n",
       "      <td>0.0386</td>\n",
       "      <td>0.0716</td>\n",
       "      <td>0.000000</td>\n",
       "      <td>0.1220</td>\n",
       "      <td>0.2840</td>\n",
       "      <td>125.046</td>\n",
       "      <td>217440.0</td>\n",
       "      <td>4.0</td>\n",
       "    </tr>\n",
       "    <tr>\n",
       "      <th>96</th>\n",
       "      <td>2xmrfQpmS2iJExTlklLoA</td>\n",
       "      <td>I Miss You (feat. Julia Michaels)</td>\n",
       "      <td>Clean Bandit</td>\n",
       "      <td>0.638</td>\n",
       "      <td>0.658</td>\n",
       "      <td>3.0</td>\n",
       "      <td>-6.318</td>\n",
       "      <td>1.0</td>\n",
       "      <td>0.0456</td>\n",
       "      <td>0.2450</td>\n",
       "      <td>0.000004</td>\n",
       "      <td>0.0919</td>\n",
       "      <td>0.3300</td>\n",
       "      <td>105.076</td>\n",
       "      <td>205748.0</td>\n",
       "      <td>4.0</td>\n",
       "    </tr>\n",
       "    <tr>\n",
       "      <th>97</th>\n",
       "      <td>5WvAo7DNuPRmk4APhdPzi</td>\n",
       "      <td>No Brainer</td>\n",
       "      <td>DJ Khaled</td>\n",
       "      <td>0.552</td>\n",
       "      <td>0.760</td>\n",
       "      <td>0.0</td>\n",
       "      <td>-4.706</td>\n",
       "      <td>1.0</td>\n",
       "      <td>0.3420</td>\n",
       "      <td>0.0733</td>\n",
       "      <td>0.000000</td>\n",
       "      <td>0.0865</td>\n",
       "      <td>0.6390</td>\n",
       "      <td>135.702</td>\n",
       "      <td>260000.0</td>\n",
       "      <td>5.0</td>\n",
       "    </tr>\n",
       "    <tr>\n",
       "      <th>98</th>\n",
       "      <td>1j4kHkkpqZRBwE0A4CN4Y</td>\n",
       "      <td>Dusk Till Dawn - Radio Edit</td>\n",
       "      <td>ZAYN</td>\n",
       "      <td>0.258</td>\n",
       "      <td>0.437</td>\n",
       "      <td>11.0</td>\n",
       "      <td>-6.593</td>\n",
       "      <td>0.0</td>\n",
       "      <td>0.0390</td>\n",
       "      <td>0.1010</td>\n",
       "      <td>0.000001</td>\n",
       "      <td>0.1060</td>\n",
       "      <td>0.0967</td>\n",
       "      <td>180.043</td>\n",
       "      <td>239000.0</td>\n",
       "      <td>4.0</td>\n",
       "    </tr>\n",
       "    <tr>\n",
       "      <th>99</th>\n",
       "      <td>3EPXxR3ImUwfayaurPi3c</td>\n",
       "      <td>Be Alright</td>\n",
       "      <td>Dean Lewis</td>\n",
       "      <td>0.553</td>\n",
       "      <td>0.586</td>\n",
       "      <td>11.0</td>\n",
       "      <td>-6.319</td>\n",
       "      <td>1.0</td>\n",
       "      <td>0.0362</td>\n",
       "      <td>0.6970</td>\n",
       "      <td>0.000000</td>\n",
       "      <td>0.0813</td>\n",
       "      <td>0.4430</td>\n",
       "      <td>126.684</td>\n",
       "      <td>196373.0</td>\n",
       "      <td>4.0</td>\n",
       "    </tr>\n",
       "  </tbody>\n",
       "</table>\n",
       "<p>100 rows × 16 columns</p>\n",
       "</div>"
      ],
      "text/plain": [
       "                       id                               name       artists  \\\n",
       "0   6DCZcSspjsKoFjzjrWoCd                         God's Plan         Drake   \n",
       "1   3ee8Jmje8o58CHK66QrVC                               SAD!  XXXTENTACION   \n",
       "2   0e7ipj03S05BNilyu5bRz         rockstar (feat. 21 Savage)   Post Malone   \n",
       "3   3swc6WTsr7rl9DqQKQA55       Psycho (feat. Ty Dolla $ign)   Post Malone   \n",
       "4   2G7V7zsVDxg1yRsu7Ew9R                     In My Feelings         Drake   \n",
       "..                    ...                                ...           ...   \n",
       "95  630sXRhIcfwr2e4RdNtjK                  Rewrite The Stars     Zac Efron   \n",
       "96  2xmrfQpmS2iJExTlklLoA  I Miss You (feat. Julia Michaels)  Clean Bandit   \n",
       "97  5WvAo7DNuPRmk4APhdPzi                         No Brainer     DJ Khaled   \n",
       "98  1j4kHkkpqZRBwE0A4CN4Y        Dusk Till Dawn - Radio Edit          ZAYN   \n",
       "99  3EPXxR3ImUwfayaurPi3c                         Be Alright    Dean Lewis   \n",
       "\n",
       "    danceability  energy   key  loudness  mode  speechiness  acousticness  \\\n",
       "0          0.754   0.449   7.0    -9.211   1.0       0.1090        0.0332   \n",
       "1          0.740   0.613   8.0    -4.880   1.0       0.1450        0.2580   \n",
       "2          0.587   0.535   5.0    -6.090   0.0       0.0898        0.1170   \n",
       "3          0.739   0.559   8.0    -8.011   1.0       0.1170        0.5800   \n",
       "4          0.835   0.626   1.0    -5.833   1.0       0.1250        0.0589   \n",
       "..           ...     ...   ...       ...   ...          ...           ...   \n",
       "95         0.684   0.619  10.0    -7.005   1.0       0.0386        0.0716   \n",
       "96         0.638   0.658   3.0    -6.318   1.0       0.0456        0.2450   \n",
       "97         0.552   0.760   0.0    -4.706   1.0       0.3420        0.0733   \n",
       "98         0.258   0.437  11.0    -6.593   0.0       0.0390        0.1010   \n",
       "99         0.553   0.586  11.0    -6.319   1.0       0.0362        0.6970   \n",
       "\n",
       "    instrumentalness  liveness  valence    tempo  duration_ms  time_signature  \n",
       "0           0.000083    0.5520   0.3570   77.169     198973.0             4.0  \n",
       "1           0.003720    0.1230   0.4730   75.023     166606.0             4.0  \n",
       "2           0.000066    0.1310   0.1400  159.847     218147.0             4.0  \n",
       "3           0.000000    0.1120   0.4390  140.124     221440.0             4.0  \n",
       "4           0.000060    0.3960   0.3500   91.030     217925.0             4.0  \n",
       "..               ...       ...      ...      ...          ...             ...  \n",
       "95          0.000000    0.1220   0.2840  125.046     217440.0             4.0  \n",
       "96          0.000004    0.0919   0.3300  105.076     205748.0             4.0  \n",
       "97          0.000000    0.0865   0.6390  135.702     260000.0             5.0  \n",
       "98          0.000001    0.1060   0.0967  180.043     239000.0             4.0  \n",
       "99          0.000000    0.0813   0.4430  126.684     196373.0             4.0  \n",
       "\n",
       "[100 rows x 16 columns]"
      ]
     },
     "execution_count": 4,
     "metadata": {},
     "output_type": "execute_result"
    }
   ],
   "source": [
    "load(year)"
   ]
  },
  {
   "cell_type": "code",
   "execution_count": 5,
   "metadata": {},
   "outputs": [],
   "source": [
    "df=load(year)"
   ]
  },
  {
   "cell_type": "markdown",
   "metadata": {},
   "source": [
    "# data properties"
   ]
  },
  {
   "cell_type": "code",
   "execution_count": 6,
   "metadata": {},
   "outputs": [],
   "source": [
    "def data_properties(year):\n",
    "    print(\"properties for year are as follows :\\n\")\n",
    "    print(\"column details:\\n\")\n",
    "    print(year.columns)\n",
    "    print(\"shape:\\n\")\n",
    "    print(year.shape)\n",
    "    print(\"info about dataset:\\n\")\n",
    "    print(year.info())\n",
    "    print(\"\\n\")\n"
   ]
  },
  {
   "cell_type": "code",
   "execution_count": 7,
   "metadata": {},
   "outputs": [
    {
     "name": "stdout",
     "output_type": "stream",
     "text": [
      "properties for year are as follows :\n",
      "\n",
      "column details:\n",
      "\n",
      "Index(['id', 'name', 'artists', 'danceability', 'energy', 'key', 'loudness',\n",
      "       'mode', 'speechiness', 'acousticness', 'instrumentalness', 'liveness',\n",
      "       'valence', 'tempo', 'duration_ms', 'time_signature'],\n",
      "      dtype='object')\n",
      "shape:\n",
      "\n",
      "(100, 16)\n",
      "info about dataset:\n",
      "\n",
      "<class 'pandas.core.frame.DataFrame'>\n",
      "RangeIndex: 100 entries, 0 to 99\n",
      "Data columns (total 16 columns):\n",
      " #   Column            Non-Null Count  Dtype  \n",
      "---  ------            --------------  -----  \n",
      " 0   id                100 non-null    object \n",
      " 1   name              100 non-null    object \n",
      " 2   artists           100 non-null    object \n",
      " 3   danceability      100 non-null    float64\n",
      " 4   energy            100 non-null    float64\n",
      " 5   key               100 non-null    float64\n",
      " 6   loudness          100 non-null    float64\n",
      " 7   mode              100 non-null    float64\n",
      " 8   speechiness       100 non-null    float64\n",
      " 9   acousticness      100 non-null    float64\n",
      " 10  instrumentalness  100 non-null    float64\n",
      " 11  liveness          100 non-null    float64\n",
      " 12  valence           100 non-null    float64\n",
      " 13  tempo             100 non-null    float64\n",
      " 14  duration_ms       100 non-null    float64\n",
      " 15  time_signature    100 non-null    float64\n",
      "dtypes: float64(13), object(3)\n",
      "memory usage: 12.6+ KB\n",
      "None\n",
      "\n",
      "\n"
     ]
    }
   ],
   "source": [
    "data_properties(df)"
   ]
  },
  {
   "cell_type": "markdown",
   "metadata": {},
   "source": [
    "### Initial calculations on data"
   ]
  },
  {
   "cell_type": "markdown",
   "metadata": {},
   "source": [
    "#### checking if any value is null in the data "
   ]
  },
  {
   "cell_type": "code",
   "execution_count": 8,
   "metadata": {},
   "outputs": [],
   "source": [
    "def checkfornull(year):\n",
    "    print(\"cheking for null values......\")\n",
    "    print(year.columns[year.isnull().any()])\n",
    "    output=year.isnull().sum()\n",
    "    return output "
   ]
  },
  {
   "cell_type": "code",
   "execution_count": 9,
   "metadata": {},
   "outputs": [
    {
     "name": "stdout",
     "output_type": "stream",
     "text": [
      "cheking for null values......\n",
      "Index([], dtype='object')\n"
     ]
    },
    {
     "data": {
      "text/plain": [
       "id                  0\n",
       "name                0\n",
       "artists             0\n",
       "danceability        0\n",
       "energy              0\n",
       "key                 0\n",
       "loudness            0\n",
       "mode                0\n",
       "speechiness         0\n",
       "acousticness        0\n",
       "instrumentalness    0\n",
       "liveness            0\n",
       "valence             0\n",
       "tempo               0\n",
       "duration_ms         0\n",
       "time_signature      0\n",
       "dtype: int64"
      ]
     },
     "execution_count": 9,
     "metadata": {},
     "output_type": "execute_result"
    }
   ],
   "source": [
    "checkfornull(df)"
   ]
  },
  {
   "cell_type": "markdown",
   "metadata": {},
   "source": [
    "#### convert the non float data to float data type"
   ]
  },
  {
   "cell_type": "code",
   "execution_count": 10,
   "metadata": {},
   "outputs": [],
   "source": [
    "# in the data we obsrve that all the data is not in float .So , in order to maintain a symetry,we will \n",
    "# convert the non float data to float data type\n",
    "\n",
    "def float_conversion(column,value):\n",
    "    column= pd.to_numeric(value, downcast=\"float\")\n",
    "    return column\n"
   ]
  },
  {
   "cell_type": "code",
   "execution_count": 11,
   "metadata": {},
   "outputs": [],
   "source": [
    "def execute_float_conversion():\n",
    "    float_conversion(df.mode,df[\"mode\"])\n",
    "    float_conversion(df.duration_ms,df[\"duration_ms\"])\n",
    "    float_conversion(df.time_signature,df[\"time_signature\"])\n",
    "    return df.head()\n"
   ]
  },
  {
   "cell_type": "code",
   "execution_count": 12,
   "metadata": {},
   "outputs": [
    {
     "data": {
      "text/html": [
       "<div>\n",
       "<style scoped>\n",
       "    .dataframe tbody tr th:only-of-type {\n",
       "        vertical-align: middle;\n",
       "    }\n",
       "\n",
       "    .dataframe tbody tr th {\n",
       "        vertical-align: top;\n",
       "    }\n",
       "\n",
       "    .dataframe thead th {\n",
       "        text-align: right;\n",
       "    }\n",
       "</style>\n",
       "<table border=\"1\" class=\"dataframe\">\n",
       "  <thead>\n",
       "    <tr style=\"text-align: right;\">\n",
       "      <th></th>\n",
       "      <th>id</th>\n",
       "      <th>name</th>\n",
       "      <th>artists</th>\n",
       "      <th>danceability</th>\n",
       "      <th>energy</th>\n",
       "      <th>key</th>\n",
       "      <th>loudness</th>\n",
       "      <th>mode</th>\n",
       "      <th>speechiness</th>\n",
       "      <th>acousticness</th>\n",
       "      <th>instrumentalness</th>\n",
       "      <th>liveness</th>\n",
       "      <th>valence</th>\n",
       "      <th>tempo</th>\n",
       "      <th>duration_ms</th>\n",
       "      <th>time_signature</th>\n",
       "    </tr>\n",
       "  </thead>\n",
       "  <tbody>\n",
       "    <tr>\n",
       "      <th>0</th>\n",
       "      <td>6DCZcSspjsKoFjzjrWoCd</td>\n",
       "      <td>God's Plan</td>\n",
       "      <td>Drake</td>\n",
       "      <td>0.754</td>\n",
       "      <td>0.449</td>\n",
       "      <td>7.0</td>\n",
       "      <td>-9.211</td>\n",
       "      <td>1.0</td>\n",
       "      <td>0.1090</td>\n",
       "      <td>0.0332</td>\n",
       "      <td>0.000083</td>\n",
       "      <td>0.552</td>\n",
       "      <td>0.357</td>\n",
       "      <td>77.169</td>\n",
       "      <td>198973.0</td>\n",
       "      <td>4.0</td>\n",
       "    </tr>\n",
       "    <tr>\n",
       "      <th>1</th>\n",
       "      <td>3ee8Jmje8o58CHK66QrVC</td>\n",
       "      <td>SAD!</td>\n",
       "      <td>XXXTENTACION</td>\n",
       "      <td>0.740</td>\n",
       "      <td>0.613</td>\n",
       "      <td>8.0</td>\n",
       "      <td>-4.880</td>\n",
       "      <td>1.0</td>\n",
       "      <td>0.1450</td>\n",
       "      <td>0.2580</td>\n",
       "      <td>0.003720</td>\n",
       "      <td>0.123</td>\n",
       "      <td>0.473</td>\n",
       "      <td>75.023</td>\n",
       "      <td>166606.0</td>\n",
       "      <td>4.0</td>\n",
       "    </tr>\n",
       "    <tr>\n",
       "      <th>2</th>\n",
       "      <td>0e7ipj03S05BNilyu5bRz</td>\n",
       "      <td>rockstar (feat. 21 Savage)</td>\n",
       "      <td>Post Malone</td>\n",
       "      <td>0.587</td>\n",
       "      <td>0.535</td>\n",
       "      <td>5.0</td>\n",
       "      <td>-6.090</td>\n",
       "      <td>0.0</td>\n",
       "      <td>0.0898</td>\n",
       "      <td>0.1170</td>\n",
       "      <td>0.000066</td>\n",
       "      <td>0.131</td>\n",
       "      <td>0.140</td>\n",
       "      <td>159.847</td>\n",
       "      <td>218147.0</td>\n",
       "      <td>4.0</td>\n",
       "    </tr>\n",
       "    <tr>\n",
       "      <th>3</th>\n",
       "      <td>3swc6WTsr7rl9DqQKQA55</td>\n",
       "      <td>Psycho (feat. Ty Dolla $ign)</td>\n",
       "      <td>Post Malone</td>\n",
       "      <td>0.739</td>\n",
       "      <td>0.559</td>\n",
       "      <td>8.0</td>\n",
       "      <td>-8.011</td>\n",
       "      <td>1.0</td>\n",
       "      <td>0.1170</td>\n",
       "      <td>0.5800</td>\n",
       "      <td>0.000000</td>\n",
       "      <td>0.112</td>\n",
       "      <td>0.439</td>\n",
       "      <td>140.124</td>\n",
       "      <td>221440.0</td>\n",
       "      <td>4.0</td>\n",
       "    </tr>\n",
       "    <tr>\n",
       "      <th>4</th>\n",
       "      <td>2G7V7zsVDxg1yRsu7Ew9R</td>\n",
       "      <td>In My Feelings</td>\n",
       "      <td>Drake</td>\n",
       "      <td>0.835</td>\n",
       "      <td>0.626</td>\n",
       "      <td>1.0</td>\n",
       "      <td>-5.833</td>\n",
       "      <td>1.0</td>\n",
       "      <td>0.1250</td>\n",
       "      <td>0.0589</td>\n",
       "      <td>0.000060</td>\n",
       "      <td>0.396</td>\n",
       "      <td>0.350</td>\n",
       "      <td>91.030</td>\n",
       "      <td>217925.0</td>\n",
       "      <td>4.0</td>\n",
       "    </tr>\n",
       "  </tbody>\n",
       "</table>\n",
       "</div>"
      ],
      "text/plain": [
       "                      id                          name       artists  \\\n",
       "0  6DCZcSspjsKoFjzjrWoCd                    God's Plan         Drake   \n",
       "1  3ee8Jmje8o58CHK66QrVC                          SAD!  XXXTENTACION   \n",
       "2  0e7ipj03S05BNilyu5bRz    rockstar (feat. 21 Savage)   Post Malone   \n",
       "3  3swc6WTsr7rl9DqQKQA55  Psycho (feat. Ty Dolla $ign)   Post Malone   \n",
       "4  2G7V7zsVDxg1yRsu7Ew9R                In My Feelings         Drake   \n",
       "\n",
       "   danceability  energy  key  loudness  mode  speechiness  acousticness  \\\n",
       "0         0.754   0.449  7.0    -9.211   1.0       0.1090        0.0332   \n",
       "1         0.740   0.613  8.0    -4.880   1.0       0.1450        0.2580   \n",
       "2         0.587   0.535  5.0    -6.090   0.0       0.0898        0.1170   \n",
       "3         0.739   0.559  8.0    -8.011   1.0       0.1170        0.5800   \n",
       "4         0.835   0.626  1.0    -5.833   1.0       0.1250        0.0589   \n",
       "\n",
       "   instrumentalness  liveness  valence    tempo  duration_ms  time_signature  \n",
       "0          0.000083     0.552    0.357   77.169     198973.0             4.0  \n",
       "1          0.003720     0.123    0.473   75.023     166606.0             4.0  \n",
       "2          0.000066     0.131    0.140  159.847     218147.0             4.0  \n",
       "3          0.000000     0.112    0.439  140.124     221440.0             4.0  \n",
       "4          0.000060     0.396    0.350   91.030     217925.0             4.0  "
      ]
     },
     "execution_count": 12,
     "metadata": {},
     "output_type": "execute_result"
    }
   ],
   "source": [
    "execute_float_conversion()"
   ]
  },
  {
   "cell_type": "code",
   "execution_count": null,
   "metadata": {},
   "outputs": [],
   "source": []
  },
  {
   "cell_type": "markdown",
   "metadata": {},
   "source": [
    "## Sequential column analysis"
   ]
  },
  {
   "cell_type": "code",
   "execution_count": 13,
   "metadata": {},
   "outputs": [],
   "source": [
    "#Sequential column analysis: for in depth understanding "
   ]
  },
  {
   "cell_type": "code",
   "execution_count": 14,
   "metadata": {},
   "outputs": [],
   "source": [
    "def understand_feature(feature):\n",
    "    return feature.describe()\n"
   ]
  },
  {
   "cell_type": "markdown",
   "metadata": {},
   "source": [
    "#### danceability"
   ]
  },
  {
   "cell_type": "code",
   "execution_count": 15,
   "metadata": {},
   "outputs": [],
   "source": [
    "#The higher the value, the easier it is to dance to this song.\n",
    "def print_overall_dancebility_features():\n",
    "    print(\"overall danceability feature\\n\")\n",
    "    return understand_feature(df[\"danceability\"])\n"
   ]
  },
  {
   "cell_type": "code",
   "execution_count": 16,
   "metadata": {},
   "outputs": [
    {
     "name": "stdout",
     "output_type": "stream",
     "text": [
      "overall danceability feature\n",
      "\n"
     ]
    },
    {
     "data": {
      "text/plain": [
       "count    100.00000\n",
       "mean       0.71646\n",
       "std        0.13107\n",
       "min        0.25800\n",
       "25%        0.63550\n",
       "50%        0.73300\n",
       "75%        0.79825\n",
       "max        0.96400\n",
       "Name: danceability, dtype: float64"
      ]
     },
     "execution_count": 16,
     "metadata": {},
     "output_type": "execute_result"
    }
   ],
   "source": [
    "print_overall_dancebility_features()"
   ]
  },
  {
   "cell_type": "code",
   "execution_count": 17,
   "metadata": {},
   "outputs": [],
   "source": [
    "def top_10_dancebility():\n",
    "    print(\"top 10  danceability feature\\n\")\n",
    "    return understand_feature(df[\"danceability\"].head(10))\n",
    "\n"
   ]
  },
  {
   "cell_type": "code",
   "execution_count": 18,
   "metadata": {},
   "outputs": [
    {
     "name": "stdout",
     "output_type": "stream",
     "text": [
      "top 10  danceability feature\n",
      "\n"
     ]
    },
    {
     "data": {
      "text/plain": [
       "count    10.000000\n",
       "mean      0.740400\n",
       "std       0.086164\n",
       "min       0.587000\n",
       "25%       0.694750\n",
       "50%       0.747000\n",
       "75%       0.809750\n",
       "max       0.836000\n",
       "Name: danceability, dtype: float64"
      ]
     },
     "execution_count": 18,
     "metadata": {},
     "output_type": "execute_result"
    }
   ],
   "source": [
    "top_10_dancebility()"
   ]
  },
  {
   "cell_type": "code",
   "execution_count": 19,
   "metadata": {},
   "outputs": [],
   "source": [
    "#sorting out more danceble songs \n",
    "def sorting_dancebility():\n",
    "    df['dancebility_new']=df['danceability']\n",
    "    df.loc[df['danceability']>=0.6000,'dancebility_new']='1'\n",
    "    df.loc[(df['danceability']<0.6000),'dancebility_new']='0'\n",
    "\n",
    "    return (df['dancebility_new'].value_counts())"
   ]
  },
  {
   "cell_type": "code",
   "execution_count": 20,
   "metadata": {},
   "outputs": [
    {
     "data": {
      "text/plain": [
       "1    82\n",
       "0    18\n",
       "Name: dancebility_new, dtype: int64"
      ]
     },
     "execution_count": 20,
     "metadata": {},
     "output_type": "execute_result"
    }
   ],
   "source": [
    "sorting_dancebility()"
   ]
  },
  {
   "cell_type": "code",
   "execution_count": 21,
   "metadata": {},
   "outputs": [
    {
     "name": "stdout",
     "output_type": "stream",
     "text": [
      "top 10  energy  feature\n",
      "\n"
     ]
    },
    {
     "data": {
      "text/plain": [
       "count    10.000000\n",
       "mean      0.635700\n",
       "std       0.143074\n",
       "min       0.449000\n",
       "25%       0.547750\n",
       "50%       0.588000\n",
       "75%       0.701000\n",
       "max       0.880000\n",
       "Name: energy, dtype: float64"
      ]
     },
     "execution_count": 21,
     "metadata": {},
     "output_type": "execute_result"
    }
   ],
   "source": [
    "print(\"top 10  energy  feature\\n\")\n",
    "understand_feature(df[\"energy\"].head(10))"
   ]
  },
  {
   "cell_type": "markdown",
   "metadata": {},
   "source": [
    "#### In Depth BPM"
   ]
  },
  {
   "cell_type": "markdown",
   "metadata": {},
   "source": [
    "Understanding beats per minute i.e tempo of the song\n",
    "here we do classification of the tempo on the bases of beats per min \n",
    "REf:https://www.musical-u.com/learn/rhythm-tips-for-identifying-music-genres-by-ear/\n",
    "\n",
    "And creating a new feature :tempo_rate \n",
    "tempo_rate:This classifies the song on the basis of bpm like:\n",
    "    - very slow\n",
    "    - slow\n",
    "    - moderate\n",
    "    - fast\n",
    "    - very fast\n"
   ]
  },
  {
   "cell_type": "code",
   "execution_count": 22,
   "metadata": {},
   "outputs": [],
   "source": [
    "def tempo_rate():\n",
    "    df['tempo_rate']=df['tempo']\n",
    "    return df['tempo_rate']"
   ]
  },
  {
   "cell_type": "code",
   "execution_count": 23,
   "metadata": {},
   "outputs": [
    {
     "data": {
      "text/plain": [
       "0      77.169\n",
       "1      75.023\n",
       "2     159.847\n",
       "3     140.124\n",
       "4      91.030\n",
       "       ...   \n",
       "95    125.046\n",
       "96    105.076\n",
       "97    135.702\n",
       "98    180.043\n",
       "99    126.684\n",
       "Name: tempo_rate, Length: 100, dtype: float64"
      ]
     },
     "execution_count": 23,
     "metadata": {},
     "output_type": "execute_result"
    }
   ],
   "source": [
    "tempo_rate()"
   ]
  },
  {
   "cell_type": "code",
   "execution_count": 24,
   "metadata": {},
   "outputs": [],
   "source": [
    "def cateogarise_tempo_rate():\n",
    "    df.loc[df['tempo']<65,'tempo_rate']='very slow'\n",
    "    df.loc[(df['tempo']>=66) & (df['tempo']<=76),'tempo_rate']='slow'\n",
    "    df.loc[(df['tempo']>=77) & (df['tempo']<=108),'tempo_rate']='moderate'\n",
    "    df.loc[(df['tempo']>=109) & (df['tempo']<=168),'tempo_rate']='fast'\n",
    "    df.loc[df['tempo']>168,'tempo_rate']='very fast'\n"
   ]
  },
  {
   "cell_type": "code",
   "execution_count": 25,
   "metadata": {},
   "outputs": [],
   "source": [
    "cateogarise_tempo_rate()"
   ]
  },
  {
   "cell_type": "code",
   "execution_count": 26,
   "metadata": {},
   "outputs": [],
   "source": [
    "def describe_songs_per_tempo_rate():\n",
    "    print(\"Tempo Rate\\tCount\\n\")\n",
    "    print(df['tempo_rate'].value_counts())\n",
    "    print(\"\\n\")\n",
    "    df.head()"
   ]
  },
  {
   "cell_type": "code",
   "execution_count": 27,
   "metadata": {},
   "outputs": [
    {
     "name": "stdout",
     "output_type": "stream",
     "text": [
      "Tempo Rate\tCount\n",
      "\n",
      "fast         47\n",
      "moderate     44\n",
      "very fast     7\n",
      "slow          1\n",
      "very slow     1\n",
      "Name: tempo_rate, dtype: int64\n",
      "\n",
      "\n"
     ]
    }
   ],
   "source": [
    "describe_songs_per_tempo_rate()"
   ]
  },
  {
   "cell_type": "code",
   "execution_count": 28,
   "metadata": {
    "scrolled": true
   },
   "outputs": [],
   "source": [
    "def barplot_temporate():\n",
    "    sns.barplot(x=pd.DataFrame(df['tempo_rate'].value_counts()).tempo_rate, \n",
    "                y=pd.DataFrame(df['tempo_rate'].value_counts()).index\n",
    "               )\n",
    "    plt.title('music tempo', fontsize=17);"
   ]
  },
  {
   "cell_type": "code",
   "execution_count": 29,
   "metadata": {},
   "outputs": [
    {
     "data": {
      "image/png": "[encoded data removed]",
      "text/plain": [
       "<Figure size 432x288 with 1 Axes>"
      ]
     },
     "metadata": {
      "needs_background": "light"
     },
     "output_type": "display_data"
    }
   ],
   "source": [
    "barplot_temporate()"
   ]
  },
  {
   "cell_type": "markdown",
   "metadata": {},
   "source": [
    "sort the songs on the bases of important parametes like :"
   ]
  },
  {
   "cell_type": "code",
   "execution_count": 30,
   "metadata": {},
   "outputs": [],
   "source": [
    "def sort_imp_parameters():\n",
    "    return df[['name','artists','danceability','valence','tempo','tempo_rate','energy']].sort_values(by=[\"danceability\",\"energy\",\"valence\"],ascending=False).head(10)"
   ]
  },
  {
   "cell_type": "raw",
   "metadata": {},
   "source": [
    "sort_imp-parameters()"
   ]
  },
  {
   "cell_type": "code",
   "execution_count": null,
   "metadata": {},
   "outputs": [],
   "source": []
  },
  {
   "cell_type": "markdown",
   "metadata": {},
   "source": [
    "As we can see that these features collectively couldn't generate the sorted manner of artist as expected.We need to change our approach and include more features "
   ]
  },
  {
   "cell_type": "markdown",
   "metadata": {},
   "source": [
    "\n",
    "#### Analysing top artists\n",
    "Analysing Top artists will give us a better idea about the feature importance "
   ]
  },
  {
   "cell_type": "code",
   "execution_count": 31,
   "metadata": {},
   "outputs": [],
   "source": [
    "#count the value:in terms on songs per year for an  artist\n",
    "def songs_per_artist():\n",
    "    print(\"Artist\\t\\tSongs\\n\")\n",
    "    print(df[\"artists\"].value_counts().head(20))"
   ]
  },
  {
   "cell_type": "code",
   "execution_count": 32,
   "metadata": {},
   "outputs": [
    {
     "name": "stdout",
     "output_type": "stream",
     "text": [
      "Artist\t\tSongs\n",
      "\n",
      "Post Malone        6\n",
      "XXXTENTACION       6\n",
      "Drake              4\n",
      "Ed Sheeran         3\n",
      "Marshmello         3\n",
      "Dua Lipa           2\n",
      "Ozuna              2\n",
      "Selena Gomez       2\n",
      "Ariana Grande      2\n",
      "Khalid             2\n",
      "Imagine Dragons    2\n",
      "Migos              2\n",
      "Kendrick Lamar     2\n",
      "Calvin Harris      2\n",
      "Camila Cabello     2\n",
      "Clean Bandit       2\n",
      "The Weeknd         2\n",
      "Maroon 5           2\n",
      "Anne-Marie         1\n",
      "Dean Lewis         1\n",
      "Name: artists, dtype: int64\n"
     ]
    }
   ],
   "source": [
    "songs_per_artist()"
   ]
  },
  {
   "cell_type": "code",
   "execution_count": null,
   "metadata": {},
   "outputs": [],
   "source": []
  },
  {
   "cell_type": "code",
   "execution_count": null,
   "metadata": {},
   "outputs": [],
   "source": []
  },
  {
   "cell_type": "markdown",
   "metadata": {},
   "source": [
    "#### Comparing  the  top artists based on our features \n",
    "lets start with top 5:\n",
    "\n",
    "- Post Malone         6\n",
    "- XXXTENTACION        6\n",
    "- Drake               4\n",
    "- Ed Sheeran          3\n",
    "- Marshmello          3"
   ]
  },
  {
   "cell_type": "code",
   "execution_count": null,
   "metadata": {},
   "outputs": [],
   "source": []
  },
  {
   "cell_type": "code",
   "execution_count": 33,
   "metadata": {},
   "outputs": [],
   "source": [
    "def first():\n",
    "    PostMalone=df[df['artists']=='Post Malone']\n",
    "    print(\"Post Malone:\")\n",
    "    return PostMalone[['name','danceability','energy','loudness','valence','tempo','tempo_rate']]"
   ]
  },
  {
   "cell_type": "code",
   "execution_count": null,
   "metadata": {},
   "outputs": [],
   "source": []
  },
  {
   "cell_type": "code",
   "execution_count": null,
   "metadata": {},
   "outputs": [],
   "source": []
  },
  {
   "cell_type": "code",
   "execution_count": 34,
   "metadata": {},
   "outputs": [
    {
     "name": "stdout",
     "output_type": "stream",
     "text": [
      "Post Malone:\n"
     ]
    },
    {
     "data": {
      "text/html": [
       "<div>\n",
       "<style scoped>\n",
       "    .dataframe tbody tr th:only-of-type {\n",
       "        vertical-align: middle;\n",
       "    }\n",
       "\n",
       "    .dataframe tbody tr th {\n",
       "        vertical-align: top;\n",
       "    }\n",
       "\n",
       "    .dataframe thead th {\n",
       "        text-align: right;\n",
       "    }\n",
       "</style>\n",
       "<table border=\"1\" class=\"dataframe\">\n",
       "  <thead>\n",
       "    <tr style=\"text-align: right;\">\n",
       "      <th></th>\n",
       "      <th>name</th>\n",
       "      <th>danceability</th>\n",
       "      <th>energy</th>\n",
       "      <th>loudness</th>\n",
       "      <th>valence</th>\n",
       "      <th>tempo</th>\n",
       "      <th>tempo_rate</th>\n",
       "    </tr>\n",
       "  </thead>\n",
       "  <tbody>\n",
       "    <tr>\n",
       "      <th>2</th>\n",
       "      <td>rockstar (feat. 21 Savage)</td>\n",
       "      <td>0.587</td>\n",
       "      <td>0.535</td>\n",
       "      <td>-6.090</td>\n",
       "      <td>0.140</td>\n",
       "      <td>159.847</td>\n",
       "      <td>fast</td>\n",
       "    </tr>\n",
       "    <tr>\n",
       "      <th>3</th>\n",
       "      <td>Psycho (feat. Ty Dolla $ign)</td>\n",
       "      <td>0.739</td>\n",
       "      <td>0.559</td>\n",
       "      <td>-8.011</td>\n",
       "      <td>0.439</td>\n",
       "      <td>140.124</td>\n",
       "      <td>fast</td>\n",
       "    </tr>\n",
       "    <tr>\n",
       "      <th>5</th>\n",
       "      <td>Better Now</td>\n",
       "      <td>0.680</td>\n",
       "      <td>0.563</td>\n",
       "      <td>-5.843</td>\n",
       "      <td>0.374</td>\n",
       "      <td>145.028</td>\n",
       "      <td>fast</td>\n",
       "    </tr>\n",
       "    <tr>\n",
       "      <th>32</th>\n",
       "      <td>I Fall Apart</td>\n",
       "      <td>0.556</td>\n",
       "      <td>0.538</td>\n",
       "      <td>-5.408</td>\n",
       "      <td>0.291</td>\n",
       "      <td>143.950</td>\n",
       "      <td>fast</td>\n",
       "    </tr>\n",
       "    <tr>\n",
       "      <th>75</th>\n",
       "      <td>Candy Paint</td>\n",
       "      <td>0.670</td>\n",
       "      <td>0.654</td>\n",
       "      <td>-5.944</td>\n",
       "      <td>0.438</td>\n",
       "      <td>180.024</td>\n",
       "      <td>very fast</td>\n",
       "    </tr>\n",
       "    <tr>\n",
       "      <th>76</th>\n",
       "      <td>Congratulations</td>\n",
       "      <td>0.630</td>\n",
       "      <td>0.804</td>\n",
       "      <td>-4.183</td>\n",
       "      <td>0.492</td>\n",
       "      <td>123.146</td>\n",
       "      <td>fast</td>\n",
       "    </tr>\n",
       "  </tbody>\n",
       "</table>\n",
       "</div>"
      ],
      "text/plain": [
       "                            name  danceability  energy  loudness  valence  \\\n",
       "2     rockstar (feat. 21 Savage)         0.587   0.535    -6.090    0.140   \n",
       "3   Psycho (feat. Ty Dolla $ign)         0.739   0.559    -8.011    0.439   \n",
       "5                     Better Now         0.680   0.563    -5.843    0.374   \n",
       "32                  I Fall Apart         0.556   0.538    -5.408    0.291   \n",
       "75                   Candy Paint         0.670   0.654    -5.944    0.438   \n",
       "76               Congratulations         0.630   0.804    -4.183    0.492   \n",
       "\n",
       "      tempo tempo_rate  \n",
       "2   159.847       fast  \n",
       "3   140.124       fast  \n",
       "5   145.028       fast  \n",
       "32  143.950       fast  \n",
       "75  180.024  very fast  \n",
       "76  123.146       fast  "
      ]
     },
     "execution_count": 34,
     "metadata": {},
     "output_type": "execute_result"
    }
   ],
   "source": [
    "first()"
   ]
  },
  {
   "cell_type": "code",
   "execution_count": null,
   "metadata": {},
   "outputs": [],
   "source": []
  },
  {
   "cell_type": "code",
   "execution_count": 35,
   "metadata": {},
   "outputs": [],
   "source": [
    "def second():\n",
    "    XXXTENTACION=df[df['artists']=='XXXTENTACION']\n",
    "    print(\"XXXTENTACION:\")\n",
    "    return XXXTENTACION[['name','danceability','energy','loudness','valence','tempo','tempo_rate']]"
   ]
  },
  {
   "cell_type": "code",
   "execution_count": 36,
   "metadata": {},
   "outputs": [
    {
     "name": "stdout",
     "output_type": "stream",
     "text": [
      "XXXTENTACION:\n"
     ]
    },
    {
     "data": {
      "text/html": [
       "<div>\n",
       "<style scoped>\n",
       "    .dataframe tbody tr th:only-of-type {\n",
       "        vertical-align: middle;\n",
       "    }\n",
       "\n",
       "    .dataframe tbody tr th {\n",
       "        vertical-align: top;\n",
       "    }\n",
       "\n",
       "    .dataframe thead th {\n",
       "        text-align: right;\n",
       "    }\n",
       "</style>\n",
       "<table border=\"1\" class=\"dataframe\">\n",
       "  <thead>\n",
       "    <tr style=\"text-align: right;\">\n",
       "      <th></th>\n",
       "      <th>name</th>\n",
       "      <th>danceability</th>\n",
       "      <th>energy</th>\n",
       "      <th>loudness</th>\n",
       "      <th>valence</th>\n",
       "      <th>tempo</th>\n",
       "      <th>tempo_rate</th>\n",
       "    </tr>\n",
       "  </thead>\n",
       "  <tbody>\n",
       "    <tr>\n",
       "      <th>1</th>\n",
       "      <td>SAD!</td>\n",
       "      <td>0.740</td>\n",
       "      <td>0.613</td>\n",
       "      <td>-4.880</td>\n",
       "      <td>0.473</td>\n",
       "      <td>75.023</td>\n",
       "      <td>slow</td>\n",
       "    </tr>\n",
       "    <tr>\n",
       "      <th>18</th>\n",
       "      <td>Moonlight</td>\n",
       "      <td>0.921</td>\n",
       "      <td>0.537</td>\n",
       "      <td>-5.723</td>\n",
       "      <td>0.711</td>\n",
       "      <td>128.009</td>\n",
       "      <td>fast</td>\n",
       "    </tr>\n",
       "    <tr>\n",
       "      <th>28</th>\n",
       "      <td>Jocelyn Flores</td>\n",
       "      <td>0.872</td>\n",
       "      <td>0.391</td>\n",
       "      <td>-9.144</td>\n",
       "      <td>0.437</td>\n",
       "      <td>134.021</td>\n",
       "      <td>fast</td>\n",
       "    </tr>\n",
       "    <tr>\n",
       "      <th>38</th>\n",
       "      <td>changes</td>\n",
       "      <td>0.669</td>\n",
       "      <td>0.308</td>\n",
       "      <td>-10.068</td>\n",
       "      <td>0.520</td>\n",
       "      <td>64.934</td>\n",
       "      <td>very slow</td>\n",
       "    </tr>\n",
       "    <tr>\n",
       "      <th>62</th>\n",
       "      <td>Fuck Love (feat. Trippie Redd)</td>\n",
       "      <td>0.797</td>\n",
       "      <td>0.533</td>\n",
       "      <td>-9.740</td>\n",
       "      <td>0.329</td>\n",
       "      <td>131.036</td>\n",
       "      <td>fast</td>\n",
       "    </tr>\n",
       "    <tr>\n",
       "      <th>94</th>\n",
       "      <td>Everybody Dies In Their Nightmares</td>\n",
       "      <td>0.734</td>\n",
       "      <td>0.570</td>\n",
       "      <td>-7.066</td>\n",
       "      <td>0.689</td>\n",
       "      <td>129.953</td>\n",
       "      <td>fast</td>\n",
       "    </tr>\n",
       "  </tbody>\n",
       "</table>\n",
       "</div>"
      ],
      "text/plain": [
       "                                  name  danceability  energy  loudness  \\\n",
       "1                                 SAD!         0.740   0.613    -4.880   \n",
       "18                           Moonlight         0.921   0.537    -5.723   \n",
       "28                      Jocelyn Flores         0.872   0.391    -9.144   \n",
       "38                             changes         0.669   0.308   -10.068   \n",
       "62      Fuck Love (feat. Trippie Redd)         0.797   0.533    -9.740   \n",
       "94  Everybody Dies In Their Nightmares         0.734   0.570    -7.066   \n",
       "\n",
       "    valence    tempo tempo_rate  \n",
       "1     0.473   75.023       slow  \n",
       "18    0.711  128.009       fast  \n",
       "28    0.437  134.021       fast  \n",
       "38    0.520   64.934  very slow  \n",
       "62    0.329  131.036       fast  \n",
       "94    0.689  129.953       fast  "
      ]
     },
     "execution_count": 36,
     "metadata": {},
     "output_type": "execute_result"
    }
   ],
   "source": [
    "second()"
   ]
  },
  {
   "cell_type": "code",
   "execution_count": 37,
   "metadata": {},
   "outputs": [],
   "source": [
    "def third():\n",
    "    Drake=df[df['artists']=='Drake']\n",
    "    print(\"Drake:\")\n",
    "    return Drake[['name','danceability','energy','loudness','valence','tempo','tempo_rate']]"
   ]
  },
  {
   "cell_type": "code",
   "execution_count": 38,
   "metadata": {},
   "outputs": [
    {
     "name": "stdout",
     "output_type": "stream",
     "text": [
      "Drake:\n"
     ]
    },
    {
     "data": {
      "text/html": [
       "<div>\n",
       "<style scoped>\n",
       "    .dataframe tbody tr th:only-of-type {\n",
       "        vertical-align: middle;\n",
       "    }\n",
       "\n",
       "    .dataframe tbody tr th {\n",
       "        vertical-align: top;\n",
       "    }\n",
       "\n",
       "    .dataframe thead th {\n",
       "        text-align: right;\n",
       "    }\n",
       "</style>\n",
       "<table border=\"1\" class=\"dataframe\">\n",
       "  <thead>\n",
       "    <tr style=\"text-align: right;\">\n",
       "      <th></th>\n",
       "      <th>name</th>\n",
       "      <th>danceability</th>\n",
       "      <th>energy</th>\n",
       "      <th>loudness</th>\n",
       "      <th>valence</th>\n",
       "      <th>tempo</th>\n",
       "      <th>tempo_rate</th>\n",
       "    </tr>\n",
       "  </thead>\n",
       "  <tbody>\n",
       "    <tr>\n",
       "      <th>0</th>\n",
       "      <td>God's Plan</td>\n",
       "      <td>0.754</td>\n",
       "      <td>0.449</td>\n",
       "      <td>-9.211</td>\n",
       "      <td>0.357</td>\n",
       "      <td>77.169</td>\n",
       "      <td>moderate</td>\n",
       "    </tr>\n",
       "    <tr>\n",
       "      <th>4</th>\n",
       "      <td>In My Feelings</td>\n",
       "      <td>0.835</td>\n",
       "      <td>0.626</td>\n",
       "      <td>-5.833</td>\n",
       "      <td>0.350</td>\n",
       "      <td>91.030</td>\n",
       "      <td>moderate</td>\n",
       "    </tr>\n",
       "    <tr>\n",
       "      <th>12</th>\n",
       "      <td>Nice For What</td>\n",
       "      <td>0.586</td>\n",
       "      <td>0.909</td>\n",
       "      <td>-6.474</td>\n",
       "      <td>0.757</td>\n",
       "      <td>93.394</td>\n",
       "      <td>moderate</td>\n",
       "    </tr>\n",
       "    <tr>\n",
       "      <th>61</th>\n",
       "      <td>Nonstop</td>\n",
       "      <td>0.912</td>\n",
       "      <td>0.412</td>\n",
       "      <td>-8.074</td>\n",
       "      <td>0.422</td>\n",
       "      <td>154.983</td>\n",
       "      <td>fast</td>\n",
       "    </tr>\n",
       "  </tbody>\n",
       "</table>\n",
       "</div>"
      ],
      "text/plain": [
       "              name  danceability  energy  loudness  valence    tempo  \\\n",
       "0       God's Plan         0.754   0.449    -9.211    0.357   77.169   \n",
       "4   In My Feelings         0.835   0.626    -5.833    0.350   91.030   \n",
       "12   Nice For What         0.586   0.909    -6.474    0.757   93.394   \n",
       "61         Nonstop         0.912   0.412    -8.074    0.422  154.983   \n",
       "\n",
       "   tempo_rate  \n",
       "0    moderate  \n",
       "4    moderate  \n",
       "12   moderate  \n",
       "61       fast  "
      ]
     },
     "execution_count": 38,
     "metadata": {},
     "output_type": "execute_result"
    }
   ],
   "source": [
    "third()"
   ]
  },
  {
   "cell_type": "code",
   "execution_count": 39,
   "metadata": {},
   "outputs": [],
   "source": [
    "def forth():\n",
    "    EdSheeran  =df[df['artists']=='Ed Sheeran']\n",
    "    print(\"Ed Sheeran :\")\n",
    "    return EdSheeran  [['name','danceability','energy','loudness','valence','tempo','tempo_rate']]"
   ]
  },
  {
   "cell_type": "code",
   "execution_count": 40,
   "metadata": {},
   "outputs": [
    {
     "name": "stdout",
     "output_type": "stream",
     "text": [
      "Ed Sheeran :\n"
     ]
    },
    {
     "data": {
      "text/html": [
       "<div>\n",
       "<style scoped>\n",
       "    .dataframe tbody tr th:only-of-type {\n",
       "        vertical-align: middle;\n",
       "    }\n",
       "\n",
       "    .dataframe tbody tr th {\n",
       "        vertical-align: top;\n",
       "    }\n",
       "\n",
       "    .dataframe thead th {\n",
       "        text-align: right;\n",
       "    }\n",
       "</style>\n",
       "<table border=\"1\" class=\"dataframe\">\n",
       "  <thead>\n",
       "    <tr style=\"text-align: right;\">\n",
       "      <th></th>\n",
       "      <th>name</th>\n",
       "      <th>danceability</th>\n",
       "      <th>energy</th>\n",
       "      <th>loudness</th>\n",
       "      <th>valence</th>\n",
       "      <th>tempo</th>\n",
       "      <th>tempo_rate</th>\n",
       "    </tr>\n",
       "  </thead>\n",
       "  <tbody>\n",
       "    <tr>\n",
       "      <th>25</th>\n",
       "      <td>Shape of You</td>\n",
       "      <td>0.825</td>\n",
       "      <td>0.652</td>\n",
       "      <td>-3.183</td>\n",
       "      <td>0.931</td>\n",
       "      <td>95.977</td>\n",
       "      <td>moderate</td>\n",
       "    </tr>\n",
       "    <tr>\n",
       "      <th>29</th>\n",
       "      <td>Perfect</td>\n",
       "      <td>0.599</td>\n",
       "      <td>0.448</td>\n",
       "      <td>-6.312</td>\n",
       "      <td>0.168</td>\n",
       "      <td>95.050</td>\n",
       "      <td>moderate</td>\n",
       "    </tr>\n",
       "    <tr>\n",
       "      <th>84</th>\n",
       "      <td>Perfect Duet (Ed Sheeran &amp; Beyonc?)</td>\n",
       "      <td>0.587</td>\n",
       "      <td>0.299</td>\n",
       "      <td>-7.365</td>\n",
       "      <td>0.356</td>\n",
       "      <td>94.992</td>\n",
       "      <td>moderate</td>\n",
       "    </tr>\n",
       "  </tbody>\n",
       "</table>\n",
       "</div>"
      ],
      "text/plain": [
       "                                   name  danceability  energy  loudness  \\\n",
       "25                         Shape of You         0.825   0.652    -3.183   \n",
       "29                              Perfect         0.599   0.448    -6.312   \n",
       "84  Perfect Duet (Ed Sheeran & Beyonc?)         0.587   0.299    -7.365   \n",
       "\n",
       "    valence   tempo tempo_rate  \n",
       "25    0.931  95.977   moderate  \n",
       "29    0.168  95.050   moderate  \n",
       "84    0.356  94.992   moderate  "
      ]
     },
     "execution_count": 40,
     "metadata": {},
     "output_type": "execute_result"
    }
   ],
   "source": [
    "forth()"
   ]
  },
  {
   "cell_type": "code",
   "execution_count": 41,
   "metadata": {},
   "outputs": [],
   "source": [
    "def fifth():\n",
    "    Marshmello   =df[df['artists']=='Marshmello']\n",
    "    print(\"Marshmello   :\")\n",
    "    return Marshmello   [['name','danceability','energy','loudness','valence','tempo','tempo_rate']]"
   ]
  },
  {
   "cell_type": "code",
   "execution_count": 42,
   "metadata": {},
   "outputs": [
    {
     "name": "stdout",
     "output_type": "stream",
     "text": [
      "Marshmello   :\n"
     ]
    },
    {
     "data": {
      "text/html": [
       "<div>\n",
       "<style scoped>\n",
       "    .dataframe tbody tr th:only-of-type {\n",
       "        vertical-align: middle;\n",
       "    }\n",
       "\n",
       "    .dataframe tbody tr th {\n",
       "        vertical-align: top;\n",
       "    }\n",
       "\n",
       "    .dataframe thead th {\n",
       "        text-align: right;\n",
       "    }\n",
       "</style>\n",
       "<table border=\"1\" class=\"dataframe\">\n",
       "  <thead>\n",
       "    <tr style=\"text-align: right;\">\n",
       "      <th></th>\n",
       "      <th>name</th>\n",
       "      <th>danceability</th>\n",
       "      <th>energy</th>\n",
       "      <th>loudness</th>\n",
       "      <th>valence</th>\n",
       "      <th>tempo</th>\n",
       "      <th>tempo_rate</th>\n",
       "    </tr>\n",
       "  </thead>\n",
       "  <tbody>\n",
       "    <tr>\n",
       "      <th>9</th>\n",
       "      <td>FRIENDS</td>\n",
       "      <td>0.626</td>\n",
       "      <td>0.880</td>\n",
       "      <td>-2.384</td>\n",
       "      <td>0.534</td>\n",
       "      <td>95.079</td>\n",
       "      <td>moderate</td>\n",
       "    </tr>\n",
       "    <tr>\n",
       "      <th>51</th>\n",
       "      <td>Happier</td>\n",
       "      <td>0.687</td>\n",
       "      <td>0.792</td>\n",
       "      <td>-2.749</td>\n",
       "      <td>0.671</td>\n",
       "      <td>100.015</td>\n",
       "      <td>moderate</td>\n",
       "    </tr>\n",
       "    <tr>\n",
       "      <th>64</th>\n",
       "      <td>Silence</td>\n",
       "      <td>0.520</td>\n",
       "      <td>0.761</td>\n",
       "      <td>-3.093</td>\n",
       "      <td>0.286</td>\n",
       "      <td>141.971</td>\n",
       "      <td>fast</td>\n",
       "    </tr>\n",
       "  </tbody>\n",
       "</table>\n",
       "</div>"
      ],
      "text/plain": [
       "       name  danceability  energy  loudness  valence    tempo tempo_rate\n",
       "9   FRIENDS         0.626   0.880    -2.384    0.534   95.079   moderate\n",
       "51  Happier         0.687   0.792    -2.749    0.671  100.015   moderate\n",
       "64  Silence         0.520   0.761    -3.093    0.286  141.971       fast"
      ]
     },
     "execution_count": 42,
     "metadata": {},
     "output_type": "execute_result"
    }
   ],
   "source": [
    "fifth()"
   ]
  },
  {
   "cell_type": "code",
   "execution_count": null,
   "metadata": {},
   "outputs": [],
   "source": []
  },
  {
   "cell_type": "code",
   "execution_count": null,
   "metadata": {},
   "outputs": [],
   "source": []
  },
  {
   "cell_type": "code",
   "execution_count": null,
   "metadata": {},
   "outputs": [],
   "source": []
  },
  {
   "cell_type": "markdown",
   "metadata": {},
   "source": [
    "Here's the observation for the above  top 5 results:\n",
    "- dancebility:Range:0.49-->0.90+\n",
    "- energy:Range:0.48-->0.90+ , in general, the enegy in not very significant but  top songs have energy more than 0.48\n",
    "- loudness:more -ve loudness means more popular the song is \n",
    "- valence:Range:Not a very important criteria\n",
    "- tempo:Range:can not conclude about this, need more EDA\n",
    "- tempo rate:Range: fast and moderate are in top\n",
    "\n"
   ]
  },
  {
   "cell_type": "markdown",
   "metadata": {},
   "source": [
    "# EDA"
   ]
  },
  {
   "cell_type": "markdown",
   "metadata": {},
   "source": [
    "in EDA approach we  try to  analyze data sets to summarize their main characteristics, often with visual methods  and  then Have a good understanding of data quality.. \n",
    "but to come to any conclusions and to decide weather A statistical model can be used we need to dig deeper into data\n",
    "\n",
    "And so we did the best we could do with  EDA  for seeing what the data can tell us beyond the formal modeling or  any hypothesis testing task.\n",
    "\n",
    "We did the a lot of  comparisions  amongst multiple features and here's a few of our results."
   ]
  },
  {
   "cell_type": "markdown",
   "metadata": {},
   "source": [
    "### PCA plot-large features"
   ]
  },
  {
   "cell_type": "markdown",
   "metadata": {},
   "source": [
    "\n",
    "next to this our 3d modelling for detecting the outlier using the pca for our hypothetial top features.And  in the graph u can see  there a few ouliers songs which are not feature vice not closer to the other data  points.This gave us an idea about why perticulate songs are not fitting well.And this is an important thing to discuss to get more closer to assumption.\n"
   ]
  },
  {
   "cell_type": "code",
   "execution_count": 43,
   "metadata": {},
   "outputs": [],
   "source": [
    "def plot_PCA_large():\n",
    "    feture_to_plot = [\"energy\", \"liveness\", \"tempo\", \"valence\", \"loudness\", \"speechiness\", \"acousticness\", \"danceability\", \"instrumentalness\"]\n",
    "    text1 = df[\"artists\"] + \" - \" + df[\"name\"]\n",
    "    text2 = text1.values\n",
    "    X = df[feture_to_plot].values\n",
    "    y = df[\"danceability\"].values\n",
    "    min_maxscaler = MinMaxScaler()\n",
    "    X = min_maxscaler.fit_transform(X)\n",
    "    pca = PCA(n_components=3)\n",
    "    pca.fit(X)\n",
    "    X = pca.transform(X)\n",
    "\n",
    "    plot3d = go.Scatter3d(\n",
    "        x=X[:,0],\n",
    "        y=X[:,1],\n",
    "        z=X[:,2],\n",
    "        text=text2,\n",
    "        mode=\"markers\",\n",
    "        marker=dict(\n",
    "            size=8,\n",
    "            color=y\n",
    "        )\n",
    "    )\n",
    "\n",
    "    fig = go.Figure(data=[plot3d])\n",
    "    py.iplot(fig, filename=\"3d graph\")\n"
   ]
  },
  {
   "cell_type": "code",
   "execution_count": 44,
   "metadata": {},
   "outputs": [
    {
     "data": {
      "application/vnd.plotly.v1+json": {
       "config": {
        "linkText": "Export to plot.ly",
        "plotlyServerURL": "https://plot.ly",
        "showLink": false
       },
       "data": [
        {
         "marker": {
          "color": [
           0.754,
           0.74,
           0.5870000000000001,
           0.7390000000000001,
           0.835,
           0.68,
           0.816,
           0.7909999999999999,
           0.836,
           0.626,
           0.765,
           0.511,
           0.586,
           0.851,
           0.753,
           0.698,
           0.6990000000000001,
           0.595,
           0.9209999999999999,
           0.922,
           0.653,
           0.903,
           0.71,
           0.596,
           0.762,
           0.825,
           0.708,
           0.642,
           0.872,
           0.599,
           0.884,
           0.737,
           0.556,
           0.5920000000000001,
           0.726,
           0.56,
           0.637,
           0.72,
           0.669,
           0.6940000000000001,
           0.748,
           0.7909999999999999,
           0.8340000000000001,
           0.605,
           0.777,
           0.747,
           0.7040000000000001,
           0.601,
           0.6559999999999999,
           0.489,
           0.88,
           0.687,
           0.698,
           0.755,
           0.7759999999999999,
           0.9309999999999999,
           0.687,
           0.752,
           0.732,
           0.7909999999999999,
           0.6970000000000001,
           0.912,
           0.797,
           0.622,
           0.52,
           0.602,
           0.6809999999999999,
           0.631,
           0.799,
           0.841,
           0.6629999999999999,
           0.8009999999999999,
           0.735,
           0.909,
           0.589,
           0.67,
           0.63,
           0.792,
           0.8140000000000001,
           0.8759999999999999,
           0.35100000000000003,
           0.815,
           0.9079999999999999,
           0.754,
           0.5870000000000001,
           0.722,
           0.7979999999999999,
           0.855,
           0.775,
           0.909,
           0.7809999999999999,
           0.9640000000000001,
           0.752,
           0.284,
           0.7340000000000001,
           0.684,
           0.638,
           0.552,
           0.258,
           0.5529999999999999
          ],
          "size": 8
         },
         "mode": "markers",
         "text": [
          "Drake - God's Plan",
          "XXXTENTACION - SAD!",
          "Post Malone - rockstar (feat. 21 Savage)",
          "Post Malone - Psycho (feat. Ty Dolla $ign)",
          "Drake - In My Feelings",
          "Post Malone - Better Now",
          "Cardi B - I Like It",
          "Calvin Harris - One Kiss (with Dua Lipa)",
          "Dua Lipa - IDGAF",
          "Marshmello - FRIENDS",
          "Camila Cabello - Havana",
          "Juice WRLD - Lucid Dreams",
          "Drake - Nice For What",
          "Maroon 5 - Girls Like You (feat. Cardi B)",
          "Zedd - The Middle",
          "Kendrick Lamar - All The Stars (with SZA)",
          "Ariana Grande - no tears left to cry",
          "Nicky Jam - X",
          "XXXTENTACION - Moonlight",
          "BlocBoy JB - Look Alive (feat. Drake)",
          "Rudimental - These Days (feat. Jess Glynne, Macklemore & Dan Caplen)",
          "Nio Garcia - Te Bot? - Remix",
          "Bazzi - Mine",
          "5 Seconds of Summer - Youngblood",
          "Dua Lipa - New Rules",
          "Ed Sheeran - Shape of You",
          "Khalid - Love Lies (with Normani)",
          "Bebe Rexha - Meant to Be (feat. Florida Georgia Line)",
          "XXXTENTACION - Jocelyn Flores",
          "Ed Sheeran - Perfect",
          "Tyga - Taste (feat. Offset)",
          "Clean Bandit - Solo (feat. Demi Lovato)",
          "Post Malone - I Fall Apart",
          "Dennis Lloyd - Nevermind",
          "Luis Fonsi - ?chame La Culpa",
          "benny blanco - Eastside (with Halsey & Khalid)",
          "Camila Cabello - Never Be the Same",
          "Selena Gomez - Wolves",
          "XXXTENTACION - changes",
          "Dynoro - In My Mind",
          "Eminem - River (feat. Ed Sheeran)",
          "Daddy Yankee - Dura",
          "Travis Scott - SICKO MODE",
          "Imagine Dragons - Thunder",
          "Reik - Me Niego",
          "Ti?sto - Jackie Chan",
          "Bruno Mars - Finesse (Remix) [feat. Cardi B]",
          "Selena Gomez - Back To You - From 13 Reasons Why ? Season 2 Soundtrack",
          "NF - Let You Down",
          "The Weeknd - Call Out My Name",
          "Offset - Ric Flair Drip (& Metro Boomin)",
          "Marshmello - Happier",
          "Sam Smith - Too Good At Goodbyes",
          "Lil Dicky - Freaky Friday (feat. Chris Brown)",
          "Imagine Dragons - Believer",
          "6ix9ine - FEFE (feat. Nicki Minaj & Murda Beatz)",
          "Jonas Blue - Rise",
          "Loud Luxury - Body (feat. brando)",
          "Lil Uzi Vert - XO TOUR Llif3",
          "Becky G - Sin Pijama",
          "Anne-Marie - 2002",
          "Drake - Nonstop",
          "XXXTENTACION - Fuck Love (feat. Trippie Redd)",
          "Shawn Mendes - In My Blood",
          "Marshmello - Silence",
          "Ariana Grande - God is a woman",
          "Piso 21 - D?jala que vuelva (feat. Manuel Turizo)",
          "David Guetta - Flames",
          "Maroon 5 - What Lovers Do",
          "DJ Snake - Taki Taki (with Selena Gomez, Ozuna & Cardi B)",
          "Hailee Steinfeld - Let Me Go (with Alesso, Florida Georgia Line & watt)",
          "Portugal. The Man - Feel It Still",
          "The Weeknd - Pray For Me (with Kendrick Lamar)",
          "Migos - Walk It Talk It",
          "G-Eazy - Him & I (with Halsey)",
          "Post Malone - Candy Paint",
          "Post Malone - Congratulations",
          "Sofia Reyes - 1, 2, 3 (feat. Jason Derulo & De La Ghetto)",
          "Natti Natasha - Criminal",
          "Rich The Kid - Plug Walk",
          "Billie Eilish - lovely (with Khalid)",
          "Migos - Stir Fry",
          "Kendrick Lamar - HUMBLE.",
          "Ozuna - Vaina Loca",
          "Ed Sheeran - Perfect Duet (Ed Sheeran & Beyonc?)",
          "Maluma - Coraz?n (feat. Nego do Borel)",
          "Khalid - Young Dumb & Broke",
          "Ozuna - S?guelo Bailando",
          "Anitta - Downtown",
          "Wolfine - Bella",
          "Calvin Harris - Promises (with Sam Smith)",
          "Lil Baby - Yes Indeed",
          "Lauv - I Like Me Better",
          "Keala Settle - This Is Me",
          "XXXTENTACION - Everybody Dies In Their Nightmares",
          "Zac Efron - Rewrite The Stars",
          "Clean Bandit - I Miss You (feat. Julia Michaels)",
          "DJ Khaled - No Brainer",
          "ZAYN - Dusk Till Dawn - Radio Edit",
          "Dean Lewis - Be Alright"
         ],
         "type": "scatter3d",
         "x": [
          0.4376000038300522,
          0.01563402484927031,
          0.31360789005825557,
          0.4342751740962732,
          0.0339214117514995,
          0.21416431838217656,
          -0.32744522387628744,
          -0.49451252728003436,
          0.04697868673373983,
          -0.48010183281020014,
          0.05308836791927359,
          0.4252330155345658,
          -0.35578050977083664,
          0.3267463587698073,
          -0.19140577964067873,
          -0.119374384249991,
          -0.07146972082003299,
          -0.35470949860887735,
          0.11016501681010757,
          0.09126699139621182,
          -0.30688348183514147,
          -0.03051119059069166,
          -0.4641596979429959,
          -0.04171867128072741,
          -0.16306812840418386,
          -0.2808934878640199,
          0.035648230801126654,
          -0.13782892512227263,
          0.6387298550922588,
          0.39801428805502664,
          0.21756365443561915,
          -0.18529906425435866,
          0.1548628954225419,
          0.3722106371018691,
          -0.5293234605393273,
          0.39941125912506154,
          -0.029406271585217327,
          -0.17196184817876298,
          0.8841190328628394,
          0.035824319004337475,
          -0.10150227140193578,
          -0.5637802504676883,
          -0.25140201182220556,
          -0.19814305908780552,
          -0.4419864274090026,
          -0.4252256251964028,
          -0.5385680394811546,
          -0.1708445457809703,
          -0.004679425158692681,
          0.17537354120861143,
          0.4738399282916951,
          -0.45291838926403816,
          0.594896678633893,
          -0.12325475325836698,
          -0.35468829748598363,
          0.5669341124269409,
          -0.2526155027752724,
          -0.313460063213454,
          -0.039511137825804545,
          -0.3637865040429683,
          -0.3447908871420111,
          0.36443623536319236,
          0.41342052776627075,
          0.02211475835025478,
          -0.1454699671110299,
          0.06735359757614123,
          -0.4532319234155722,
          0.012643941833782424,
          -0.007652166096932051,
          -0.30263234073414363,
          -0.35410185416645373,
          -0.3893923029018103,
          0.03289674652650556,
          0.007668769967418593,
          0.07533098134074165,
          0.22962963815843068,
          -0.2568498857423763,
          -0.6031108548660298,
          -0.6179663709139511,
          0.3538391462154796,
          1.166013675080885,
          -0.22132762153216934,
          0.04802300938519896,
          -0.2559284185240862,
          0.7513126467879931,
          -0.10337924093668432,
          0.19022454488315022,
          -0.00950142162875484,
          -0.1386590854004076,
          -0.005034058122221225,
          -0.18270244690459053,
          0.5260653188951705,
          0.47323243094976375,
          0.27951576517398347,
          0.3277275664150941,
          0.18421044516232823,
          0.14297600409423247,
          -0.2227220418246535,
          0.49555955360018966,
          0.33236790017100587
         ],
         "y": [
          -0.03355929027518195,
          -0.22559923657874323,
          0.4421767827025983,
          -0.1443884663258463,
          0.010696697350530802,
          0.06175873362949178,
          0.0055654662907881096,
          0.04553171375916394,
          -0.12663330889502708,
          -0.03926919917985942,
          -0.07149465597411589,
          0.05213534084482721,
          -0.10195429196013545,
          -0.26829924959075063,
          -0.039402162561332235,
          -0.07696949969707285,
          0.20917504774827436,
          0.2764412131596636,
          -0.45340668361368985,
          0.003868174100490218,
          -0.08547025159309514,
          -0.33216973749247986,
          0.10347307395337407,
          0.47304102836387407,
          -0.009831684735469406,
          -0.6607503890833836,
          0.23181765892156592,
          0.1971048990602314,
          -0.18187257658463357,
          0.1010376196831206,
          -0.016371592502785533,
          -0.0345727353032545,
          0.3226106576432815,
          0.3170809414815239,
          -0.068692055090506,
          -0.10260740471662051,
          0.25123793156924124,
          0.20820365569088428,
          -0.711199778014758,
          0.28791109550909766,
          -0.14819997298719143,
          -0.2759015090831761,
          0.24092404951426813,
          0.5941691710120017,
          -0.15241778985679635,
          -0.1811556271747757,
          -0.2068264376455545,
          0.028324038657179803,
          0.11498789141413138,
          0.34911987868537575,
          -0.09395268904721504,
          -0.1536157172332351,
          -0.47222389324626246,
          -0.12775140687881514,
          -0.028066326958260567,
          0.006495824229624223,
          -0.19244374403053302,
          0.014590604627050485,
          0.3251452582265745,
          -0.43324164117611613,
          -0.07242750981311825,
          0.11085633368103541,
          0.14786978510846951,
          0.2006380981853565,
          0.3047326787960602,
          0.3874524260256653,
          0.08265557149071345,
          0.01935785244562343,
          -0.005554344598816748,
          -0.15535212349103794,
          -0.1271053882549168,
          -0.2743079641419425,
          0.17036415049225506,
          0.12363680291373638,
          0.23773406642152534,
          0.04912534851151881,
          0.08099101902040068,
          -0.2712597407729898,
          -0.29819029195381097,
          -0.007052577615295413,
          -0.13101736540453066,
          0.3583019159061868,
          0.15276676059394462,
          -0.18759008275507735,
          -0.39020308687604116,
          0.10481530855417198,
          0.04010283283775864,
          -0.2428487201951556,
          0.07058533441510688,
          -0.4524755742210852,
          0.12010597473614082,
          -0.12604747717125192,
          -0.30077667912337325,
          0.8491067571557473,
          -0.48409971483908276,
          0.20608613472905388,
          0.0351680310303471,
          0.15541213119632175,
          0.6749828843857466,
          -0.18085300014690986
         ],
         "z": [
          0.12768919417305685,
          -0.027637739735226156,
          -0.10604485965925771,
          -0.04418081426046839,
          0.08438561636986394,
          -0.169907021907371,
          0.09533269700402439,
          0.04122168397321147,
          0.14705419001219247,
          -0.3025109516610128,
          -0.1284741405769543,
          -0.14976174248997592,
          -0.07066732519905926,
          -0.09590083062857697,
          -0.15976799950250367,
          -0.04477851388397359,
          -0.07726576060252675,
          -0.060878794772047606,
          0.03086339084111987,
          0.5566972892010942,
          -0.2190154852337505,
          0.01915887928941423,
          -0.020215058236012134,
          0.3273793863349452,
          0.0873046961567419,
          -0.12277200716928643,
          -0.06822394703915251,
          0.0480393514309269,
          0.30118245900053836,
          -0.23006881832284806,
          0.22746893564419415,
          -0.06275060057009778,
          -0.18303751705450969,
          -0.023454426447190736,
          -0.09365308510115312,
          0.006319318737876573,
          -0.20400409302403394,
          -0.16367995179552247,
          -0.27811984827210295,
          -0.05853053945079389,
          0.5962206484985361,
          -0.09473652358253064,
          0.2559070433159442,
          -0.17551209488346314,
          0.015732965990872944,
          -0.20125631049671713,
          0.0983676427092762,
          -0.1693543251877414,
          -0.07019215937898976,
          -0.3767061610928179,
          0.3297271217244116,
          -0.20171616860080369,
          -0.18238145297674457,
          0.26154029299205606,
          0.11180228419586441,
          0.7289476420287548,
          -0.21490456406592,
          -0.03460245793133632,
          0.2715587522505431,
          -0.12024931700105096,
          -0.028733914416644208,
          0.3632239464196766,
          0.16811239880753348,
          -0.006082356295709296,
          -0.33737316695378994,
          -0.11684729343971188,
          0.06143500444898018,
          -0.13492660814150115,
          0.011383938802875462,
          0.20419454064526607,
          -0.06052017781251792,
          0.04158497299840045,
          -0.07254419625974232,
          0.30957631570828537,
          -0.1697818361754781,
          -0.11108456148637913,
          -0.25174823209688757,
          -0.06276298370297648,
          -0.0072471145654502125,
          0.10369414346982055,
          -0.5718518474368826,
          0.38201475276284796,
          0.25821606473239733,
          -0.15670382719445144,
          -0.4001822640618082,
          0.24670815527827755,
          -0.007678841759967284,
          0.1092552439599851,
          0.12957002092242265,
          0.23767263413578021,
          0.003960456719572914,
          0.9861865157705244,
          0.11520938534686362,
          -0.10692763087789636,
          -0.12350986380347323,
          -0.06091903320181863,
          -0.1905319613340535,
          0.2457227822624638,
          -0.361052563755781,
          -0.40169907250098197
         ]
        }
       ],
       "layout": {
        "template": {
         "data": {
          "bar": [
           {
            "error_x": {
             "color": "#2a3f5f"
            },
            "error_y": {
             "color": "#2a3f5f"
            },
            "marker": {
             "line": {
              "color": "#E5ECF6",
              "width": 0.5
             }
            },
            "type": "bar"
           }
          ],
          "barpolar": [
           {
            "marker": {
             "line": {
              "color": "#E5ECF6",
              "width": 0.5
             }
            },
            "type": "barpolar"
           }
          ],
          "carpet": [
           {
            "aaxis": {
             "endlinecolor": "#2a3f5f",
             "gridcolor": "white",
             "linecolor": "white",
             "minorgridcolor": "white",
             "startlinecolor": "#2a3f5f"
            },
            "baxis": {
             "endlinecolor": "#2a3f5f",
             "gridcolor": "white",
             "linecolor": "white",
             "minorgridcolor": "white",
             "startlinecolor": "#2a3f5f"
            },
            "type": "carpet"
           }
          ],
          "choropleth": [
           {
            "colorbar": {
             "outlinewidth": 0,
             "ticks": ""
            },
            "type": "choropleth"
           }
          ],
          "contour": [
           {
            "colorbar": {
             "outlinewidth": 0,
             "ticks": ""
            },
            "colorscale": [
             [
              0,
              "#0d0887"
             ],
             [
              0.1111111111111111,
              "#46039f"
             ],
             [
              0.2222222222222222,
              "#7201a8"
             ],
             [
              0.3333333333333333,
              "#9c179e"
             ],
             [
              0.4444444444444444,
              "#bd3786"
             ],
             [
              0.5555555555555556,
              "#d8576b"
             ],
             [
              0.6666666666666666,
              "#ed7953"
             ],
             [
              0.7777777777777778,
              "#fb9f3a"
             ],
             [
              0.8888888888888888,
              "#fdca26"
             ],
             [
              1,
              "#f0f921"
             ]
            ],
            "type": "contour"
           }
          ],
          "contourcarpet": [
           {
            "colorbar": {
             "outlinewidth": 0,
             "ticks": ""
            },
            "type": "contourcarpet"
           }
          ],
          "heatmap": [
           {
            "colorbar": {
             "outlinewidth": 0,
             "ticks": ""
            },
            "colorscale": [
             [
              0,
              "#0d0887"
             ],
             [
              0.1111111111111111,
              "#46039f"
             ],
             [
              0.2222222222222222,
              "#7201a8"
             ],
             [
              0.3333333333333333,
              "#9c179e"
             ],
             [
              0.4444444444444444,
              "#bd3786"
             ],
             [
              0.5555555555555556,
              "#d8576b"
             ],
             [
              0.6666666666666666,
              "#ed7953"
             ],
             [
              0.7777777777777778,
              "#fb9f3a"
             ],
             [
              0.8888888888888888,
              "#fdca26"
             ],
             [
              1,
              "#f0f921"
             ]
            ],
            "type": "heatmap"
           }
          ],
          "heatmapgl": [
           {
            "colorbar": {
             "outlinewidth": 0,
             "ticks": ""
            },
            "colorscale": [
             [
              0,
              "#0d0887"
             ],
             [
              0.1111111111111111,
              "#46039f"
             ],
             [
              0.2222222222222222,
              "#7201a8"
             ],
             [
              0.3333333333333333,
              "#9c179e"
             ],
             [
              0.4444444444444444,
              "#bd3786"
             ],
             [
              0.5555555555555556,
              "#d8576b"
             ],
             [
              0.6666666666666666,
              "#ed7953"
             ],
             [
              0.7777777777777778,
              "#fb9f3a"
             ],
             [
              0.8888888888888888,
              "#fdca26"
             ],
             [
              1,
              "#f0f921"
             ]
            ],
            "type": "heatmapgl"
           }
          ],
          "histogram": [
           {
            "marker": {
             "colorbar": {
              "outlinewidth": 0,
              "ticks": ""
             }
            },
            "type": "histogram"
           }
          ],
          "histogram2d": [
           {
            "colorbar": {
             "outlinewidth": 0,
             "ticks": ""
            },
            "colorscale": [
             [
              0,
              "#0d0887"
             ],
             [
              0.1111111111111111,
              "#46039f"
             ],
             [
              0.2222222222222222,
              "#7201a8"
             ],
             [
              0.3333333333333333,
              "#9c179e"
             ],
             [
              0.4444444444444444,
              "#bd3786"
             ],
             [
              0.5555555555555556,
              "#d8576b"
             ],
             [
              0.6666666666666666,
              "#ed7953"
             ],
             [
              0.7777777777777778,
              "#fb9f3a"
             ],
             [
              0.8888888888888888,
              "#fdca26"
             ],
             [
              1,
              "#f0f921"
             ]
            ],
            "type": "histogram2d"
           }
          ],
          "histogram2dcontour": [
           {
            "colorbar": {
             "outlinewidth": 0,
             "ticks": ""
            },
            "colorscale": [
             [
              0,
              "#0d0887"
             ],
             [
              0.1111111111111111,
              "#46039f"
             ],
             [
              0.2222222222222222,
              "#7201a8"
             ],
             [
              0.3333333333333333,
              "#9c179e"
             ],
             [
              0.4444444444444444,
              "#bd3786"
             ],
             [
              0.5555555555555556,
              "#d8576b"
             ],
             [
              0.6666666666666666,
              "#ed7953"
             ],
             [
              0.7777777777777778,
              "#fb9f3a"
             ],
             [
              0.8888888888888888,
              "#fdca26"
             ],
             [
              1,
              "#f0f921"
             ]
            ],
            "type": "histogram2dcontour"
           }
          ],
          "mesh3d": [
           {
            "colorbar": {
             "outlinewidth": 0,
             "ticks": ""
            },
            "type": "mesh3d"
           }
          ],
          "parcoords": [
           {
            "line": {
             "colorbar": {
              "outlinewidth": 0,
              "ticks": ""
             }
            },
            "type": "parcoords"
           }
          ],
          "pie": [
           {
            "automargin": true,
            "type": "pie"
           }
          ],
          "scatter": [
           {
            "marker": {
             "colorbar": {
              "outlinewidth": 0,
              "ticks": ""
             }
            },
            "type": "scatter"
           }
          ],
          "scatter3d": [
           {
            "line": {
             "colorbar": {
              "outlinewidth": 0,
              "ticks": ""
             }
            },
            "marker": {
             "colorbar": {
              "outlinewidth": 0,
              "ticks": ""
             }
            },
            "type": "scatter3d"
           }
          ],
          "scattercarpet": [
           {
            "marker": {
             "colorbar": {
              "outlinewidth": 0,
              "ticks": ""
             }
            },
            "type": "scattercarpet"
           }
          ],
          "scattergeo": [
           {
            "marker": {
             "colorbar": {
              "outlinewidth": 0,
              "ticks": ""
             }
            },
            "type": "scattergeo"
           }
          ],
          "scattergl": [
           {
            "marker": {
             "colorbar": {
              "outlinewidth": 0,
              "ticks": ""
             }
            },
            "type": "scattergl"
           }
          ],
          "scattermapbox": [
           {
            "marker": {
             "colorbar": {
              "outlinewidth": 0,
              "ticks": ""
             }
            },
            "type": "scattermapbox"
           }
          ],
          "scatterpolar": [
           {
            "marker": {
             "colorbar": {
              "outlinewidth": 0,
              "ticks": ""
             }
            },
            "type": "scatterpolar"
           }
          ],
          "scatterpolargl": [
           {
            "marker": {
             "colorbar": {
              "outlinewidth": 0,
              "ticks": ""
             }
            },
            "type": "scatterpolargl"
           }
          ],
          "scatterternary": [
           {
            "marker": {
             "colorbar": {
              "outlinewidth": 0,
              "ticks": ""
             }
            },
            "type": "scatterternary"
           }
          ],
          "surface": [
           {
            "colorbar": {
             "outlinewidth": 0,
             "ticks": ""
            },
            "colorscale": [
             [
              0,
              "#0d0887"
             ],
             [
              0.1111111111111111,
              "#46039f"
             ],
             [
              0.2222222222222222,
              "#7201a8"
             ],
             [
              0.3333333333333333,
              "#9c179e"
             ],
             [
              0.4444444444444444,
              "#bd3786"
             ],
             [
              0.5555555555555556,
              "#d8576b"
             ],
             [
              0.6666666666666666,
              "#ed7953"
             ],
             [
              0.7777777777777778,
              "#fb9f3a"
             ],
             [
              0.8888888888888888,
              "#fdca26"
             ],
             [
              1,
              "#f0f921"
             ]
            ],
            "type": "surface"
           }
          ],
          "table": [
           {
            "cells": {
             "fill": {
              "color": "#EBF0F8"
             },
             "line": {
              "color": "white"
             }
            },
            "header": {
             "fill": {
              "color": "#C8D4E3"
             },
             "line": {
              "color": "white"
             }
            },
            "type": "table"
           }
          ]
         },
         "layout": {
          "annotationdefaults": {
           "arrowcolor": "#2a3f5f",
           "arrowhead": 0,
           "arrowwidth": 1
          },
          "coloraxis": {
           "colorbar": {
            "outlinewidth": 0,
            "ticks": ""
           }
          },
          "colorscale": {
           "diverging": [
            [
             0,
             "#8e0152"
            ],
            [
             0.1,
             "#c51b7d"
            ],
            [
             0.2,
             "#de77ae"
            ],
            [
             0.3,
             "#f1b6da"
            ],
            [
             0.4,
             "#fde0ef"
            ],
            [
             0.5,
             "#f7f7f7"
            ],
            [
             0.6,
             "#e6f5d0"
            ],
            [
             0.7,
             "#b8e186"
            ],
            [
             0.8,
             "#7fbc41"
            ],
            [
             0.9,
             "#4d9221"
            ],
            [
             1,
             "#276419"
            ]
           ],
           "sequential": [
            [
             0,
             "#0d0887"
            ],
            [
             0.1111111111111111,
             "#46039f"
            ],
            [
             0.2222222222222222,
             "#7201a8"
            ],
            [
             0.3333333333333333,
             "#9c179e"
            ],
            [
             0.4444444444444444,
             "#bd3786"
            ],
            [
             0.5555555555555556,
             "#d8576b"
            ],
            [
             0.6666666666666666,
             "#ed7953"
            ],
            [
             0.7777777777777778,
             "#fb9f3a"
            ],
            [
             0.8888888888888888,
             "#fdca26"
            ],
            [
             1,
             "#f0f921"
            ]
           ],
           "sequentialminus": [
            [
             0,
             "#0d0887"
            ],
            [
             0.1111111111111111,
             "#46039f"
            ],
            [
             0.2222222222222222,
             "#7201a8"
            ],
            [
             0.3333333333333333,
             "#9c179e"
            ],
            [
             0.4444444444444444,
             "#bd3786"
            ],
            [
             0.5555555555555556,
             "#d8576b"
            ],
            [
             0.6666666666666666,
             "#ed7953"
            ],
            [
             0.7777777777777778,
             "#fb9f3a"
            ],
            [
             0.8888888888888888,
             "#fdca26"
            ],
            [
             1,
             "#f0f921"
            ]
           ]
          },
          "colorway": [
           "#636efa",
           "#EF553B",
           "#00cc96",
           "#ab63fa",
           "#FFA15A",
           "#19d3f3",
           "#FF6692",
           "#B6E880",
           "#FF97FF",
           "#FECB52"
          ],
          "font": {
           "color": "#2a3f5f"
          },
          "geo": {
           "bgcolor": "white",
           "lakecolor": "white",
           "landcolor": "#E5ECF6",
           "showlakes": true,
           "showland": true,
           "subunitcolor": "white"
          },
          "hoverlabel": {
           "align": "left"
          },
          "hovermode": "closest",
          "mapbox": {
           "style": "light"
          },
          "paper_bgcolor": "white",
          "plot_bgcolor": "#E5ECF6",
          "polar": {
           "angularaxis": {
            "gridcolor": "white",
            "linecolor": "white",
            "ticks": ""
           },
           "bgcolor": "#E5ECF6",
           "radialaxis": {
            "gridcolor": "white",
            "linecolor": "white",
            "ticks": ""
           }
          },
          "scene": {
           "xaxis": {
            "backgroundcolor": "#E5ECF6",
            "gridcolor": "white",
            "gridwidth": 2,
            "linecolor": "white",
            "showbackground": true,
            "ticks": "",
            "zerolinecolor": "white"
           },
           "yaxis": {
            "backgroundcolor": "#E5ECF6",
            "gridcolor": "white",
            "gridwidth": 2,
            "linecolor": "white",
            "showbackground": true,
            "ticks": "",
            "zerolinecolor": "white"
           },
           "zaxis": {
            "backgroundcolor": "#E5ECF6",
            "gridcolor": "white",
            "gridwidth": 2,
            "linecolor": "white",
            "showbackground": true,
            "ticks": "",
            "zerolinecolor": "white"
           }
          },
          "shapedefaults": {
           "line": {
            "color": "#2a3f5f"
           }
          },
          "ternary": {
           "aaxis": {
            "gridcolor": "white",
            "linecolor": "white",
            "ticks": ""
           },
           "baxis": {
            "gridcolor": "white",
            "linecolor": "white",
            "ticks": ""
           },
           "bgcolor": "#E5ECF6",
           "caxis": {
            "gridcolor": "white",
            "linecolor": "white",
            "ticks": ""
           }
          },
          "title": {
           "x": 0.05
          },
          "xaxis": {
           "automargin": true,
           "gridcolor": "white",
           "linecolor": "white",
           "ticks": "",
           "title": {
            "standoff": 15
           },
           "zerolinecolor": "white",
           "zerolinewidth": 2
          },
          "yaxis": {
           "automargin": true,
           "gridcolor": "white",
           "linecolor": "white",
           "ticks": "",
           "title": {
            "standoff": 15
           },
           "zerolinecolor": "white",
           "zerolinewidth": 2
          }
         }
        }
       }
      },
      "text/html": [
       "<div>\n",
       "        \n",
       "        \n",
       "            <div id=\"55b70d1e-8ebb-42cb-9ab9-8779982939a0\" class=\"plotly-graph-div\" style=\"height:525px; width:100%;\"></div>\n",
       "            <script type=\"text/javascript\">\n",
       "                require([\"plotly\"], function(Plotly) {\n",
       "                    window.PLOTLYENV=window.PLOTLYENV || {};\n",
       "                    \n",
       "                if (document.getElementById(\"55b70d1e-8ebb-42cb-9ab9-8779982939a0\")) {\n",
       "                    Plotly.newPlot(\n",
       "                        '55b70d1e-8ebb-42cb-9ab9-8779982939a0',\n",
       "                        [{\"marker\": {\"color\": [0.754, 0.74, 0.5870000000000001, 0.7390000000000001, 0.835, 0.68, 0.816, 0.7909999999999999, 0.836, 0.626, 0.765, 0.511, 0.586, 0.851, 0.753, 0.698, 0.6990000000000001, 0.595, 0.9209999999999999, 0.922, 0.653, 0.903, 0.71, 0.596, 0.762, 0.825, 0.708, 0.642, 0.872, 0.599, 0.884, 0.737, 0.556, 0.5920000000000001, 0.726, 0.56, 0.637, 0.72, 0.669, 0.6940000000000001, 0.748, 0.7909999999999999, 0.8340000000000001, 0.605, 0.777, 0.747, 0.7040000000000001, 0.601, 0.6559999999999999, 0.489, 0.88, 0.687, 0.698, 0.755, 0.7759999999999999, 0.9309999999999999, 0.687, 0.752, 0.732, 0.7909999999999999, 0.6970000000000001, 0.912, 0.797, 0.622, 0.52, 0.602, 0.6809999999999999, 0.631, 0.799, 0.841, 0.6629999999999999, 0.8009999999999999, 0.735, 0.909, 0.589, 0.67, 0.63, 0.792, 0.8140000000000001, 0.8759999999999999, 0.35100000000000003, 0.815, 0.9079999999999999, 0.754, 0.5870000000000001, 0.722, 0.7979999999999999, 0.855, 0.775, 0.909, 0.7809999999999999, 0.9640000000000001, 0.752, 0.284, 0.7340000000000001, 0.684, 0.638, 0.552, 0.258, 0.5529999999999999], \"size\": 8}, \"mode\": \"markers\", \"text\": [\"Drake - God's Plan\", \"XXXTENTACION - SAD!\", \"Post Malone - rockstar (feat. 21 Savage)\", \"Post Malone - Psycho (feat. Ty Dolla $ign)\", \"Drake - In My Feelings\", \"Post Malone - Better Now\", \"Cardi B - I Like It\", \"Calvin Harris - One Kiss (with Dua Lipa)\", \"Dua Lipa - IDGAF\", \"Marshmello - FRIENDS\", \"Camila Cabello - Havana\", \"Juice WRLD - Lucid Dreams\", \"Drake - Nice For What\", \"Maroon 5 - Girls Like You (feat. Cardi B)\", \"Zedd - The Middle\", \"Kendrick Lamar - All The Stars (with SZA)\", \"Ariana Grande - no tears left to cry\", \"Nicky Jam - X\", \"XXXTENTACION - Moonlight\", \"BlocBoy JB - Look Alive (feat. Drake)\", \"Rudimental - These Days (feat. Jess Glynne, Macklemore & Dan Caplen)\", \"Nio Garcia - Te Bot? - Remix\", \"Bazzi - Mine\", \"5 Seconds of Summer - Youngblood\", \"Dua Lipa - New Rules\", \"Ed Sheeran - Shape of You\", \"Khalid - Love Lies (with Normani)\", \"Bebe Rexha - Meant to Be (feat. Florida Georgia Line)\", \"XXXTENTACION - Jocelyn Flores\", \"Ed Sheeran - Perfect\", \"Tyga - Taste (feat. Offset)\", \"Clean Bandit - Solo (feat. Demi Lovato)\", \"Post Malone - I Fall Apart\", \"Dennis Lloyd - Nevermind\", \"Luis Fonsi - ?chame La Culpa\", \"benny blanco - Eastside (with Halsey & Khalid)\", \"Camila Cabello - Never Be the Same\", \"Selena Gomez - Wolves\", \"XXXTENTACION - changes\", \"Dynoro - In My Mind\", \"Eminem - River (feat. Ed Sheeran)\", \"Daddy Yankee - Dura\", \"Travis Scott - SICKO MODE\", \"Imagine Dragons - Thunder\", \"Reik - Me Niego\", \"Ti?sto - Jackie Chan\", \"Bruno Mars - Finesse (Remix) [feat. Cardi B]\", \"Selena Gomez - Back To You - From 13 Reasons Why ? Season 2 Soundtrack\", \"NF - Let You Down\", \"The Weeknd - Call Out My Name\", \"Offset - Ric Flair Drip (& Metro Boomin)\", \"Marshmello - Happier\", \"Sam Smith - Too Good At Goodbyes\", \"Lil Dicky - Freaky Friday (feat. Chris Brown)\", \"Imagine Dragons - Believer\", \"6ix9ine - FEFE (feat. Nicki Minaj & Murda Beatz)\", \"Jonas Blue - Rise\", \"Loud Luxury - Body (feat. brando)\", \"Lil Uzi Vert - XO TOUR Llif3\", \"Becky G - Sin Pijama\", \"Anne-Marie - 2002\", \"Drake - Nonstop\", \"XXXTENTACION - Fuck Love (feat. Trippie Redd)\", \"Shawn Mendes - In My Blood\", \"Marshmello - Silence\", \"Ariana Grande - God is a woman\", \"Piso 21 - D?jala que vuelva (feat. Manuel Turizo)\", \"David Guetta - Flames\", \"Maroon 5 - What Lovers Do\", \"DJ Snake - Taki Taki (with Selena Gomez, Ozuna & Cardi B)\", \"Hailee Steinfeld - Let Me Go (with Alesso, Florida Georgia Line & watt)\", \"Portugal. The Man - Feel It Still\", \"The Weeknd - Pray For Me (with Kendrick Lamar)\", \"Migos - Walk It Talk It\", \"G-Eazy - Him & I (with Halsey)\", \"Post Malone - Candy Paint\", \"Post Malone - Congratulations\", \"Sofia Reyes - 1, 2, 3 (feat. Jason Derulo & De La Ghetto)\", \"Natti Natasha - Criminal\", \"Rich The Kid - Plug Walk\", \"Billie Eilish - lovely (with Khalid)\", \"Migos - Stir Fry\", \"Kendrick Lamar - HUMBLE.\", \"Ozuna - Vaina Loca\", \"Ed Sheeran - Perfect Duet (Ed Sheeran & Beyonc?)\", \"Maluma - Coraz?n (feat. Nego do Borel)\", \"Khalid - Young Dumb & Broke\", \"Ozuna - S?guelo Bailando\", \"Anitta - Downtown\", \"Wolfine - Bella\", \"Calvin Harris - Promises (with Sam Smith)\", \"Lil Baby - Yes Indeed\", \"Lauv - I Like Me Better\", \"Keala Settle - This Is Me\", \"XXXTENTACION - Everybody Dies In Their Nightmares\", \"Zac Efron - Rewrite The Stars\", \"Clean Bandit - I Miss You (feat. Julia Michaels)\", \"DJ Khaled - No Brainer\", \"ZAYN - Dusk Till Dawn - Radio Edit\", \"Dean Lewis - Be Alright\"], \"type\": \"scatter3d\", \"x\": [0.4376000038300522, 0.01563402484927031, 0.31360789005825557, 0.4342751740962732, 0.0339214117514995, 0.21416431838217656, -0.32744522387628744, -0.49451252728003436, 0.04697868673373983, -0.48010183281020014, 0.05308836791927359, 0.4252330155345658, -0.35578050977083664, 0.3267463587698073, -0.19140577964067873, -0.119374384249991, -0.07146972082003299, -0.35470949860887735, 0.11016501681010757, 0.09126699139621182, -0.30688348183514147, -0.03051119059069166, -0.4641596979429959, -0.04171867128072741, -0.16306812840418386, -0.2808934878640199, 0.035648230801126654, -0.13782892512227263, 0.6387298550922588, 0.39801428805502664, 0.21756365443561915, -0.18529906425435866, 0.1548628954225419, 0.3722106371018691, -0.5293234605393273, 0.39941125912506154, -0.029406271585217327, -0.17196184817876298, 0.8841190328628394, 0.035824319004337475, -0.10150227140193578, -0.5637802504676883, -0.25140201182220556, -0.19814305908780552, -0.4419864274090026, -0.4252256251964028, -0.5385680394811546, -0.1708445457809703, -0.004679425158692681, 0.17537354120861143, 0.4738399282916951, -0.45291838926403816, 0.594896678633893, -0.12325475325836698, -0.35468829748598363, 0.5669341124269409, -0.2526155027752724, -0.313460063213454, -0.039511137825804545, -0.3637865040429683, -0.3447908871420111, 0.36443623536319236, 0.41342052776627075, 0.02211475835025478, -0.1454699671110299, 0.06735359757614123, -0.4532319234155722, 0.012643941833782424, -0.007652166096932051, -0.30263234073414363, -0.35410185416645373, -0.3893923029018103, 0.03289674652650556, 0.007668769967418593, 0.07533098134074165, 0.22962963815843068, -0.2568498857423763, -0.6031108548660298, -0.6179663709139511, 0.3538391462154796, 1.166013675080885, -0.22132762153216934, 0.04802300938519896, -0.2559284185240862, 0.7513126467879931, -0.10337924093668432, 0.19022454488315022, -0.00950142162875484, -0.1386590854004076, -0.005034058122221225, -0.18270244690459053, 0.5260653188951705, 0.47323243094976375, 0.27951576517398347, 0.3277275664150941, 0.18421044516232823, 0.14297600409423247, -0.2227220418246535, 0.49555955360018966, 0.33236790017100587], \"y\": [-0.03355929027518195, -0.22559923657874323, 0.4421767827025983, -0.1443884663258463, 0.010696697350530802, 0.06175873362949178, 0.0055654662907881096, 0.04553171375916394, -0.12663330889502708, -0.03926919917985942, -0.07149465597411589, 0.05213534084482721, -0.10195429196013545, -0.26829924959075063, -0.039402162561332235, -0.07696949969707285, 0.20917504774827436, 0.2764412131596636, -0.45340668361368985, 0.003868174100490218, -0.08547025159309514, -0.33216973749247986, 0.10347307395337407, 0.47304102836387407, -0.009831684735469406, -0.6607503890833836, 0.23181765892156592, 0.1971048990602314, -0.18187257658463357, 0.1010376196831206, -0.016371592502785533, -0.0345727353032545, 0.3226106576432815, 0.3170809414815239, -0.068692055090506, -0.10260740471662051, 0.25123793156924124, 0.20820365569088428, -0.711199778014758, 0.28791109550909766, -0.14819997298719143, -0.2759015090831761, 0.24092404951426813, 0.5941691710120017, -0.15241778985679635, -0.1811556271747757, -0.2068264376455545, 0.028324038657179803, 0.11498789141413138, 0.34911987868537575, -0.09395268904721504, -0.1536157172332351, -0.47222389324626246, -0.12775140687881514, -0.028066326958260567, 0.006495824229624223, -0.19244374403053302, 0.014590604627050485, 0.3251452582265745, -0.43324164117611613, -0.07242750981311825, 0.11085633368103541, 0.14786978510846951, 0.2006380981853565, 0.3047326787960602, 0.3874524260256653, 0.08265557149071345, 0.01935785244562343, -0.005554344598816748, -0.15535212349103794, -0.1271053882549168, -0.2743079641419425, 0.17036415049225506, 0.12363680291373638, 0.23773406642152534, 0.04912534851151881, 0.08099101902040068, -0.2712597407729898, -0.29819029195381097, -0.007052577615295413, -0.13101736540453066, 0.3583019159061868, 0.15276676059394462, -0.18759008275507735, -0.39020308687604116, 0.10481530855417198, 0.04010283283775864, -0.2428487201951556, 0.07058533441510688, -0.4524755742210852, 0.12010597473614082, -0.12604747717125192, -0.30077667912337325, 0.8491067571557473, -0.48409971483908276, 0.20608613472905388, 0.0351680310303471, 0.15541213119632175, 0.6749828843857466, -0.18085300014690986], \"z\": [0.12768919417305685, -0.027637739735226156, -0.10604485965925771, -0.04418081426046839, 0.08438561636986394, -0.169907021907371, 0.09533269700402439, 0.04122168397321147, 0.14705419001219247, -0.3025109516610128, -0.1284741405769543, -0.14976174248997592, -0.07066732519905926, -0.09590083062857697, -0.15976799950250367, -0.04477851388397359, -0.07726576060252675, -0.060878794772047606, 0.03086339084111987, 0.5566972892010942, -0.2190154852337505, 0.01915887928941423, -0.020215058236012134, 0.3273793863349452, 0.0873046961567419, -0.12277200716928643, -0.06822394703915251, 0.0480393514309269, 0.30118245900053836, -0.23006881832284806, 0.22746893564419415, -0.06275060057009778, -0.18303751705450969, -0.023454426447190736, -0.09365308510115312, 0.006319318737876573, -0.20400409302403394, -0.16367995179552247, -0.27811984827210295, -0.05853053945079389, 0.5962206484985361, -0.09473652358253064, 0.2559070433159442, -0.17551209488346314, 0.015732965990872944, -0.20125631049671713, 0.0983676427092762, -0.1693543251877414, -0.07019215937898976, -0.3767061610928179, 0.3297271217244116, -0.20171616860080369, -0.18238145297674457, 0.26154029299205606, 0.11180228419586441, 0.7289476420287548, -0.21490456406592, -0.03460245793133632, 0.2715587522505431, -0.12024931700105096, -0.028733914416644208, 0.3632239464196766, 0.16811239880753348, -0.006082356295709296, -0.33737316695378994, -0.11684729343971188, 0.06143500444898018, -0.13492660814150115, 0.011383938802875462, 0.20419454064526607, -0.06052017781251792, 0.04158497299840045, -0.07254419625974232, 0.30957631570828537, -0.1697818361754781, -0.11108456148637913, -0.25174823209688757, -0.06276298370297648, -0.0072471145654502125, 0.10369414346982055, -0.5718518474368826, 0.38201475276284796, 0.25821606473239733, -0.15670382719445144, -0.4001822640618082, 0.24670815527827755, -0.007678841759967284, 0.1092552439599851, 0.12957002092242265, 0.23767263413578021, 0.003960456719572914, 0.9861865157705244, 0.11520938534686362, -0.10692763087789636, -0.12350986380347323, -0.06091903320181863, -0.1905319613340535, 0.2457227822624638, -0.361052563755781, -0.40169907250098197]}],\n",
       "                        {\"template\": {\"data\": {\"bar\": [{\"error_x\": {\"color\": \"#2a3f5f\"}, \"error_y\": {\"color\": \"#2a3f5f\"}, \"marker\": {\"line\": {\"color\": \"#E5ECF6\", \"width\": 0.5}}, \"type\": \"bar\"}], \"barpolar\": [{\"marker\": {\"line\": {\"color\": \"#E5ECF6\", \"width\": 0.5}}, \"type\": \"barpolar\"}], \"carpet\": [{\"aaxis\": {\"endlinecolor\": \"#2a3f5f\", \"gridcolor\": \"white\", \"linecolor\": \"white\", \"minorgridcolor\": \"white\", \"startlinecolor\": \"#2a3f5f\"}, \"baxis\": {\"endlinecolor\": \"#2a3f5f\", \"gridcolor\": \"white\", \"linecolor\": \"white\", \"minorgridcolor\": \"white\", \"startlinecolor\": \"#2a3f5f\"}, \"type\": \"carpet\"}], \"choropleth\": [{\"colorbar\": {\"outlinewidth\": 0, \"ticks\": \"\"}, \"type\": \"choropleth\"}], \"contour\": [{\"colorbar\": {\"outlinewidth\": 0, \"ticks\": \"\"}, \"colorscale\": [[0.0, \"#0d0887\"], [0.1111111111111111, \"#46039f\"], [0.2222222222222222, \"#7201a8\"], [0.3333333333333333, \"#9c179e\"], [0.4444444444444444, \"#bd3786\"], [0.5555555555555556, \"#d8576b\"], [0.6666666666666666, \"#ed7953\"], [0.7777777777777778, \"#fb9f3a\"], [0.8888888888888888, \"#fdca26\"], [1.0, \"#f0f921\"]], \"type\": \"contour\"}], \"contourcarpet\": [{\"colorbar\": {\"outlinewidth\": 0, \"ticks\": \"\"}, \"type\": \"contourcarpet\"}], \"heatmap\": [{\"colorbar\": {\"outlinewidth\": 0, \"ticks\": \"\"}, \"colorscale\": [[0.0, \"#0d0887\"], [0.1111111111111111, \"#46039f\"], [0.2222222222222222, \"#7201a8\"], [0.3333333333333333, \"#9c179e\"], [0.4444444444444444, \"#bd3786\"], [0.5555555555555556, \"#d8576b\"], [0.6666666666666666, \"#ed7953\"], [0.7777777777777778, \"#fb9f3a\"], [0.8888888888888888, \"#fdca26\"], [1.0, \"#f0f921\"]], \"type\": \"heatmap\"}], \"heatmapgl\": [{\"colorbar\": {\"outlinewidth\": 0, \"ticks\": \"\"}, \"colorscale\": [[0.0, \"#0d0887\"], [0.1111111111111111, \"#46039f\"], [0.2222222222222222, \"#7201a8\"], [0.3333333333333333, \"#9c179e\"], [0.4444444444444444, \"#bd3786\"], [0.5555555555555556, \"#d8576b\"], [0.6666666666666666, \"#ed7953\"], [0.7777777777777778, \"#fb9f3a\"], [0.8888888888888888, \"#fdca26\"], [1.0, \"#f0f921\"]], \"type\": \"heatmapgl\"}], \"histogram\": [{\"marker\": {\"colorbar\": {\"outlinewidth\": 0, \"ticks\": \"\"}}, \"type\": \"histogram\"}], \"histogram2d\": [{\"colorbar\": {\"outlinewidth\": 0, \"ticks\": \"\"}, \"colorscale\": [[0.0, \"#0d0887\"], [0.1111111111111111, \"#46039f\"], [0.2222222222222222, \"#7201a8\"], [0.3333333333333333, \"#9c179e\"], [0.4444444444444444, \"#bd3786\"], [0.5555555555555556, \"#d8576b\"], [0.6666666666666666, \"#ed7953\"], [0.7777777777777778, \"#fb9f3a\"], [0.8888888888888888, \"#fdca26\"], [1.0, \"#f0f921\"]], \"type\": \"histogram2d\"}], \"histogram2dcontour\": [{\"colorbar\": {\"outlinewidth\": 0, \"ticks\": \"\"}, \"colorscale\": [[0.0, \"#0d0887\"], [0.1111111111111111, \"#46039f\"], [0.2222222222222222, \"#7201a8\"], [0.3333333333333333, \"#9c179e\"], [0.4444444444444444, \"#bd3786\"], [0.5555555555555556, \"#d8576b\"], [0.6666666666666666, \"#ed7953\"], [0.7777777777777778, \"#fb9f3a\"], [0.8888888888888888, \"#fdca26\"], [1.0, \"#f0f921\"]], \"type\": \"histogram2dcontour\"}], \"mesh3d\": [{\"colorbar\": {\"outlinewidth\": 0, \"ticks\": \"\"}, \"type\": \"mesh3d\"}], \"parcoords\": [{\"line\": {\"colorbar\": {\"outlinewidth\": 0, \"ticks\": \"\"}}, \"type\": \"parcoords\"}], \"pie\": [{\"automargin\": true, \"type\": \"pie\"}], \"scatter\": [{\"marker\": {\"colorbar\": {\"outlinewidth\": 0, \"ticks\": \"\"}}, \"type\": \"scatter\"}], \"scatter3d\": [{\"line\": {\"colorbar\": {\"outlinewidth\": 0, \"ticks\": \"\"}}, \"marker\": {\"colorbar\": {\"outlinewidth\": 0, \"ticks\": \"\"}}, \"type\": \"scatter3d\"}], \"scattercarpet\": [{\"marker\": {\"colorbar\": {\"outlinewidth\": 0, \"ticks\": \"\"}}, \"type\": \"scattercarpet\"}], \"scattergeo\": [{\"marker\": {\"colorbar\": {\"outlinewidth\": 0, \"ticks\": \"\"}}, \"type\": \"scattergeo\"}], \"scattergl\": [{\"marker\": {\"colorbar\": {\"outlinewidth\": 0, \"ticks\": \"\"}}, \"type\": \"scattergl\"}], \"scattermapbox\": [{\"marker\": {\"colorbar\": {\"outlinewidth\": 0, \"ticks\": \"\"}}, \"type\": \"scattermapbox\"}], \"scatterpolar\": [{\"marker\": {\"colorbar\": {\"outlinewidth\": 0, \"ticks\": \"\"}}, \"type\": \"scatterpolar\"}], \"scatterpolargl\": [{\"marker\": {\"colorbar\": {\"outlinewidth\": 0, \"ticks\": \"\"}}, \"type\": \"scatterpolargl\"}], \"scatterternary\": [{\"marker\": {\"colorbar\": {\"outlinewidth\": 0, \"ticks\": \"\"}}, \"type\": \"scatterternary\"}], \"surface\": [{\"colorbar\": {\"outlinewidth\": 0, \"ticks\": \"\"}, \"colorscale\": [[0.0, \"#0d0887\"], [0.1111111111111111, \"#46039f\"], [0.2222222222222222, \"#7201a8\"], [0.3333333333333333, \"#9c179e\"], [0.4444444444444444, \"#bd3786\"], [0.5555555555555556, \"#d8576b\"], [0.6666666666666666, \"#ed7953\"], [0.7777777777777778, \"#fb9f3a\"], [0.8888888888888888, \"#fdca26\"], [1.0, \"#f0f921\"]], \"type\": \"surface\"}], \"table\": [{\"cells\": {\"fill\": {\"color\": \"#EBF0F8\"}, \"line\": {\"color\": \"white\"}}, \"header\": {\"fill\": {\"color\": \"#C8D4E3\"}, \"line\": {\"color\": \"white\"}}, \"type\": \"table\"}]}, \"layout\": {\"annotationdefaults\": {\"arrowcolor\": \"#2a3f5f\", \"arrowhead\": 0, \"arrowwidth\": 1}, \"coloraxis\": {\"colorbar\": {\"outlinewidth\": 0, \"ticks\": \"\"}}, \"colorscale\": {\"diverging\": [[0, \"#8e0152\"], [0.1, \"#c51b7d\"], [0.2, \"#de77ae\"], [0.3, \"#f1b6da\"], [0.4, \"#fde0ef\"], [0.5, \"#f7f7f7\"], [0.6, \"#e6f5d0\"], [0.7, \"#b8e186\"], [0.8, \"#7fbc41\"], [0.9, \"#4d9221\"], [1, \"#276419\"]], \"sequential\": [[0.0, \"#0d0887\"], [0.1111111111111111, \"#46039f\"], [0.2222222222222222, \"#7201a8\"], [0.3333333333333333, \"#9c179e\"], [0.4444444444444444, \"#bd3786\"], [0.5555555555555556, \"#d8576b\"], [0.6666666666666666, \"#ed7953\"], [0.7777777777777778, \"#fb9f3a\"], [0.8888888888888888, \"#fdca26\"], [1.0, \"#f0f921\"]], \"sequentialminus\": [[0.0, \"#0d0887\"], [0.1111111111111111, \"#46039f\"], [0.2222222222222222, \"#7201a8\"], [0.3333333333333333, \"#9c179e\"], [0.4444444444444444, \"#bd3786\"], [0.5555555555555556, \"#d8576b\"], [0.6666666666666666, \"#ed7953\"], [0.7777777777777778, \"#fb9f3a\"], [0.8888888888888888, \"#fdca26\"], [1.0, \"#f0f921\"]]}, \"colorway\": [\"#636efa\", \"#EF553B\", \"#00cc96\", \"#ab63fa\", \"#FFA15A\", \"#19d3f3\", \"#FF6692\", \"#B6E880\", \"#FF97FF\", \"#FECB52\"], \"font\": {\"color\": \"#2a3f5f\"}, \"geo\": {\"bgcolor\": \"white\", \"lakecolor\": \"white\", \"landcolor\": \"#E5ECF6\", \"showlakes\": true, \"showland\": true, \"subunitcolor\": \"white\"}, \"hoverlabel\": {\"align\": \"left\"}, \"hovermode\": \"closest\", \"mapbox\": {\"style\": \"light\"}, \"paper_bgcolor\": \"white\", \"plot_bgcolor\": \"#E5ECF6\", \"polar\": {\"angularaxis\": {\"gridcolor\": \"white\", \"linecolor\": \"white\", \"ticks\": \"\"}, \"bgcolor\": \"#E5ECF6\", \"radialaxis\": {\"gridcolor\": \"white\", \"linecolor\": \"white\", \"ticks\": \"\"}}, \"scene\": {\"xaxis\": {\"backgroundcolor\": \"#E5ECF6\", \"gridcolor\": \"white\", \"gridwidth\": 2, \"linecolor\": \"white\", \"showbackground\": true, \"ticks\": \"\", \"zerolinecolor\": \"white\"}, \"yaxis\": {\"backgroundcolor\": \"#E5ECF6\", \"gridcolor\": \"white\", \"gridwidth\": 2, \"linecolor\": \"white\", \"showbackground\": true, \"ticks\": \"\", \"zerolinecolor\": \"white\"}, \"zaxis\": {\"backgroundcolor\": \"#E5ECF6\", \"gridcolor\": \"white\", \"gridwidth\": 2, \"linecolor\": \"white\", \"showbackground\": true, \"ticks\": \"\", \"zerolinecolor\": \"white\"}}, \"shapedefaults\": {\"line\": {\"color\": \"#2a3f5f\"}}, \"ternary\": {\"aaxis\": {\"gridcolor\": \"white\", \"linecolor\": \"white\", \"ticks\": \"\"}, \"baxis\": {\"gridcolor\": \"white\", \"linecolor\": \"white\", \"ticks\": \"\"}, \"bgcolor\": \"#E5ECF6\", \"caxis\": {\"gridcolor\": \"white\", \"linecolor\": \"white\", \"ticks\": \"\"}}, \"title\": {\"x\": 0.05}, \"xaxis\": {\"automargin\": true, \"gridcolor\": \"white\", \"linecolor\": \"white\", \"ticks\": \"\", \"title\": {\"standoff\": 15}, \"zerolinecolor\": \"white\", \"zerolinewidth\": 2}, \"yaxis\": {\"automargin\": true, \"gridcolor\": \"white\", \"linecolor\": \"white\", \"ticks\": \"\", \"title\": {\"standoff\": 15}, \"zerolinecolor\": \"white\", \"zerolinewidth\": 2}}}},\n",
       "                        {\"responsive\": true}\n",
       "                    ).then(function(){\n",
       "                            \n",
       "var gd = document.getElementById('55b70d1e-8ebb-42cb-9ab9-8779982939a0');\n",
       "var x = new MutationObserver(function (mutations, observer) {{\n",
       "        var display = window.getComputedStyle(gd).display;\n",
       "        if (!display || display === 'none') {{\n",
       "            console.log([gd, 'removed!']);\n",
       "            Plotly.purge(gd);\n",
       "            observer.disconnect();\n",
       "        }}\n",
       "}});\n",
       "\n",
       "// Listen for the removal of the full notebook cells\n",
       "var notebookContainer = gd.closest('#notebook-container');\n",
       "if (notebookContainer) {{\n",
       "    x.observe(notebookContainer, {childList: true});\n",
       "}}\n",
       "\n",
       "// Listen for the clearing of the current output cell\n",
       "var outputEl = gd.closest('.output');\n",
       "if (outputEl) {{\n",
       "    x.observe(outputEl, {childList: true});\n",
       "}}\n",
       "\n",
       "                        })\n",
       "                };\n",
       "                });\n",
       "            </script>\n",
       "        </div>"
      ]
     },
     "metadata": {},
     "output_type": "display_data"
    }
   ],
   "source": [
    "plot_PCA_large()"
   ]
  },
  {
   "cell_type": "markdown",
   "metadata": {},
   "source": [
    "### Plot correlation matrix"
   ]
  },
  {
   "cell_type": "code",
   "execution_count": 45,
   "metadata": {
    "scrolled": true
   },
   "outputs": [],
   "source": [
    "def plot_correlation():\n",
    "    correlation = df[['acousticness','danceability','energy','instrumentalness','liveness','tempo','valence',\n",
    "                           'loudness']]\n",
    "    plt.figure(figsize=(12,8))\n",
    "    sns.heatmap(correlation.corr(), annot=True,cmap=\"coolwarm\");"
   ]
  },
  {
   "cell_type": "code",
   "execution_count": 46,
   "metadata": {},
   "outputs": [
    {
     "data": {
      "image/png": "[encoded data removed]",
      "text/plain": [
       "<Figure size 864x576 with 2 Axes>"
      ]
     },
     "metadata": {
      "needs_background": "light"
     },
     "output_type": "display_data"
    }
   ],
   "source": [
    "plot_correlation()"
   ]
  },
  {
   "cell_type": "markdown",
   "metadata": {},
   "source": [
    "We can observe that there is a correlation between the loudness and the perceived energy of the song. The jointplots indicate a correlation between these two. Lets understand  how much one feature si impacted by another feature "
   ]
  },
  {
   "cell_type": "markdown",
   "metadata": {},
   "source": [
    "### Join plots"
   ]
  },
  {
   "cell_type": "markdown",
   "metadata": {},
   "source": [
    "And for the features we again plotted a regression based joinplot. AS The multivariate normal distribution is a nice tool to demonstrate this type of plot and thus  it is sampling from a multidimensional Gaussian and there is natural clustering.\n",
    "Here the line is  not close to flat because we chose our variables to be correlated.\n",
    "So, in nutshell we had our eda as expected to be and it gave us the best features for a song to be at the top."
   ]
  },
  {
   "cell_type": "code",
   "execution_count": 47,
   "metadata": {},
   "outputs": [],
   "source": [
    "def create_joinplot(val1,val2,year,colr):\n",
    "    sns.jointplot(val1,val2, data=year,kind='reg',color=colr)"
   ]
  },
  {
   "cell_type": "code",
   "execution_count": 48,
   "metadata": {},
   "outputs": [
    {
     "data": {
      "image/png": "[encoded data removed]",
      "text/plain": [
       "<Figure size 432x432 with 3 Axes>"
      ]
     },
     "metadata": {
      "needs_background": "light"
     },
     "output_type": "display_data"
    },
    {
     "data": {
      "image/png": "[encoded data removed]",
      "text/plain": [
       "<Figure size 432x432 with 3 Axes>"
      ]
     },
     "metadata": {
      "needs_background": "light"
     },
     "output_type": "display_data"
    },
    {
     "data": {
      "image/png": "[encoded data removed]",
      "text/plain": [
       "<Figure size 432x432 with 3 Axes>"
      ]
     },
     "metadata": {
      "needs_background": "light"
     },
     "output_type": "display_data"
    },
    {
     "data": {
      "image/png": "[encoded data removed]",
      "text/plain": [
       "<Figure size 432x432 with 3 Axes>"
      ]
     },
     "metadata": {
      "needs_background": "light"
     },
     "output_type": "display_data"
    }
   ],
   "source": [
    "\n",
    "create_joinplot('loudness','energy',df,'r')\n",
    "create_joinplot('tempo','danceability',df,'b')\n",
    "create_joinplot('acousticness','energy',df,'y')\n",
    "create_joinplot('valence','energy',df,'b')"
   ]
  },
  {
   "cell_type": "markdown",
   "metadata": {},
   "source": [
    "from the corelation matrix we observe that  \n",
    "- there is a relation between  tempo and dancebility \n",
    "- there is a relation between  acounsticeness and energy \n",
    "- there is a relation between  tempo and acousticeness\n",
    "- there is a relation between  energy and loudness\n",
    "- there is a relation between  tempo and valence\n",
    "- there is a relation between  valence and dancebility \n",
    "- there is a relation between  valence and energy  "
   ]
  },
  {
   "cell_type": "markdown",
   "metadata": {},
   "source": [
    "### dist plot for feature details \n"
   ]
  },
  {
   "cell_type": "code",
   "execution_count": 49,
   "metadata": {},
   "outputs": [],
   "source": [
    "def feature_details(feature):\n",
    "    print(\"Mean value \", feature.mean())\n",
    "    sns.distplot(feature,color=\"r\")\n",
    "    plt.show()\n"
   ]
  },
  {
   "cell_type": "code",
   "execution_count": 50,
   "metadata": {},
   "outputs": [
    {
     "name": "stdout",
     "output_type": "stream",
     "text": [
      "Mean value  0.71646\n"
     ]
    },
    {
     "data": {
      "image/png": "[encoded data removed]",
      "text/plain": [
       "<Figure size 432x288 with 1 Axes>"
      ]
     },
     "metadata": {
      "needs_background": "light"
     },
     "output_type": "display_data"
    }
   ],
   "source": [
    "feature_details(df['danceability'])"
   ]
  },
  {
   "cell_type": "markdown",
   "metadata": {},
   "source": [
    "*Conclusion*: top songs have high dancebility.And people listen to those songs in which they can dance."
   ]
  },
  {
   "cell_type": "code",
   "execution_count": 51,
   "metadata": {},
   "outputs": [
    {
     "name": "stdout",
     "output_type": "stream",
     "text": [
      "Mean value  0.6590600000000001\n"
     ]
    },
    {
     "data": {
      "image/png": "[encoded data removed]",
      "text/plain": [
       "<Figure size 432x288 with 1 Axes>"
      ]
     },
     "metadata": {
      "needs_background": "light"
     },
     "output_type": "display_data"
    }
   ],
   "source": [
    "feature_details(df['energy'])"
   ]
  },
  {
   "cell_type": "markdown",
   "metadata": {},
   "source": [
    "*Conclusion*:people like energetic songs "
   ]
  },
  {
   "cell_type": "code",
   "execution_count": 52,
   "metadata": {},
   "outputs": [
    {
     "name": "stdout",
     "output_type": "stream",
     "text": [
      "Mean value  -5.677639999999999\n"
     ]
    },
    {
     "data": {
      "image/png": "[encoded data removed]",
      "text/plain": [
       "<Figure size 432x288 with 1 Axes>"
      ]
     },
     "metadata": {
      "needs_background": "light"
     },
     "output_type": "display_data"
    }
   ],
   "source": [
    "feature_details(df['loudness'])"
   ]
  },
  {
   "cell_type": "markdown",
   "metadata": {},
   "source": [
    "*Conclusion*: more noice means more ranking "
   ]
  },
  {
   "cell_type": "code",
   "execution_count": 53,
   "metadata": {},
   "outputs": [
    {
     "name": "stdout",
     "output_type": "stream",
     "text": [
      "Mean value  0.19570131999999998\n"
     ]
    },
    {
     "data": {
      "image/png": "[encoded data removed]",
      "text/plain": [
       "<Figure size 432x288 with 1 Axes>"
      ]
     },
     "metadata": {
      "needs_background": "light"
     },
     "output_type": "display_data"
    }
   ],
   "source": [
    "feature_details(df['acousticness'])"
   ]
  },
  {
   "cell_type": "markdown",
   "metadata": {},
   "source": [
    "*Conclusion*:people don't lisen more to the acoustics "
   ]
  },
  {
   "cell_type": "code",
   "execution_count": 54,
   "metadata": {},
   "outputs": [
    {
     "name": "stdout",
     "output_type": "stream",
     "text": [
      "Mean value  0.4844429999999997\n"
     ]
    },
    {
     "data": {
      "image/png": "[encoded data removed]",
      "text/plain": [
       "<Figure size 432x288 with 1 Axes>"
      ]
     },
     "metadata": {
      "needs_background": "light"
     },
     "output_type": "display_data"
    }
   ],
   "source": [
    "feature_details(df['valence'])"
   ]
  },
  {
   "cell_type": "markdown",
   "metadata": {},
   "source": [
    "*Conclusion*:songs are evenly distributed and totally depends upon the mood "
   ]
  },
  {
   "cell_type": "code",
   "execution_count": 55,
   "metadata": {},
   "outputs": [
    {
     "name": "stdout",
     "output_type": "stream",
     "text": [
      "Mean value  119.90417999999998\n"
     ]
    },
    {
     "data": {
      "image/png": "[encoded data removed]",
      "text/plain": [
       "<Figure size 432x288 with 1 Axes>"
      ]
     },
     "metadata": {
      "needs_background": "light"
     },
     "output_type": "display_data"
    }
   ],
   "source": [
    "feature_details(df['tempo'])"
   ]
  },
  {
   "cell_type": "code",
   "execution_count": 56,
   "metadata": {},
   "outputs": [],
   "source": [
    "# store mean values of above features\n",
    "a=df['danceability'].mean()\n",
    "b=df['energy'].mean()\n",
    "c=df['loudness'].mean()\n",
    "d=df['acousticness'].mean()\n",
    "e=df['valence'].mean()\n",
    "f=df['tempo'].mean()"
   ]
  },
  {
   "cell_type": "markdown",
   "metadata": {},
   "source": [
    "*Conclusion*:people listen fast songs more "
   ]
  },
  {
   "cell_type": "markdown",
   "metadata": {},
   "source": [
    "### pca -important features "
   ]
  },
  {
   "cell_type": "code",
   "execution_count": 57,
   "metadata": {},
   "outputs": [],
   "source": [
    "def plot_pca_important_features():\n",
    "    feture_to_plot = [\"energy\", \"liveness\", \"tempo\", \"valence\",\"danceability\"]\n",
    "    text1 = df[\"artists\"] + \" - \" + df[\"name\"]\n",
    "    text2 = text1.values\n",
    "    X = df[feture_to_plot].values\n",
    "    y = df[\"danceability\"].values\n",
    "    min_maxscaler = MinMaxScaler()\n",
    "    X = min_maxscaler.fit_transform(X)\n",
    "    pca = PCA(n_components=3)\n",
    "    pca.fit(X)\n",
    "    X = pca.transform(X)\n",
    "\n",
    "    plot3d = go.Scatter3d(\n",
    "        x=X[:,0],\n",
    "        y=X[:,1],\n",
    "        z=X[:,2],\n",
    "        text=text2,\n",
    "        mode=\"markers\",\n",
    "        marker=dict(\n",
    "            size=8,\n",
    "            color=y\n",
    "        )\n",
    "    )\n",
    "\n",
    "    fig = go.Figure(data=[plot3d])\n",
    "    py.iplot(fig, filename=\"3d graph-2nd\")\n"
   ]
  },
  {
   "cell_type": "code",
   "execution_count": 58,
   "metadata": {},
   "outputs": [
    {
     "data": {
      "application/vnd.plotly.v1+json": {
       "config": {
        "linkText": "Export to plot.ly",
        "plotlyServerURL": "https://plot.ly",
        "showLink": false
       },
       "data": [
        {
         "marker": {
          "color": [
           0.754,
           0.74,
           0.5870000000000001,
           0.7390000000000001,
           0.835,
           0.68,
           0.816,
           0.7909999999999999,
           0.836,
           0.626,
           0.765,
           0.511,
           0.586,
           0.851,
           0.753,
           0.698,
           0.6990000000000001,
           0.595,
           0.9209999999999999,
           0.922,
           0.653,
           0.903,
           0.71,
           0.596,
           0.762,
           0.825,
           0.708,
           0.642,
           0.872,
           0.599,
           0.884,
           0.737,
           0.556,
           0.5920000000000001,
           0.726,
           0.56,
           0.637,
           0.72,
           0.669,
           0.6940000000000001,
           0.748,
           0.7909999999999999,
           0.8340000000000001,
           0.605,
           0.777,
           0.747,
           0.7040000000000001,
           0.601,
           0.6559999999999999,
           0.489,
           0.88,
           0.687,
           0.698,
           0.755,
           0.7759999999999999,
           0.9309999999999999,
           0.687,
           0.752,
           0.732,
           0.7909999999999999,
           0.6970000000000001,
           0.912,
           0.797,
           0.622,
           0.52,
           0.602,
           0.6809999999999999,
           0.631,
           0.799,
           0.841,
           0.6629999999999999,
           0.8009999999999999,
           0.735,
           0.909,
           0.589,
           0.67,
           0.63,
           0.792,
           0.8140000000000001,
           0.8759999999999999,
           0.35100000000000003,
           0.815,
           0.9079999999999999,
           0.754,
           0.5870000000000001,
           0.722,
           0.7979999999999999,
           0.855,
           0.775,
           0.909,
           0.7809999999999999,
           0.9640000000000001,
           0.752,
           0.284,
           0.7340000000000001,
           0.684,
           0.638,
           0.552,
           0.258,
           0.5529999999999999
          ],
          "size": 8
         },
         "mode": "markers",
         "text": [
          "Drake - God's Plan",
          "XXXTENTACION - SAD!",
          "Post Malone - rockstar (feat. 21 Savage)",
          "Post Malone - Psycho (feat. Ty Dolla $ign)",
          "Drake - In My Feelings",
          "Post Malone - Better Now",
          "Cardi B - I Like It",
          "Calvin Harris - One Kiss (with Dua Lipa)",
          "Dua Lipa - IDGAF",
          "Marshmello - FRIENDS",
          "Camila Cabello - Havana",
          "Juice WRLD - Lucid Dreams",
          "Drake - Nice For What",
          "Maroon 5 - Girls Like You (feat. Cardi B)",
          "Zedd - The Middle",
          "Kendrick Lamar - All The Stars (with SZA)",
          "Ariana Grande - no tears left to cry",
          "Nicky Jam - X",
          "XXXTENTACION - Moonlight",
          "BlocBoy JB - Look Alive (feat. Drake)",
          "Rudimental - These Days (feat. Jess Glynne, Macklemore & Dan Caplen)",
          "Nio Garcia - Te Bot? - Remix",
          "Bazzi - Mine",
          "5 Seconds of Summer - Youngblood",
          "Dua Lipa - New Rules",
          "Ed Sheeran - Shape of You",
          "Khalid - Love Lies (with Normani)",
          "Bebe Rexha - Meant to Be (feat. Florida Georgia Line)",
          "XXXTENTACION - Jocelyn Flores",
          "Ed Sheeran - Perfect",
          "Tyga - Taste (feat. Offset)",
          "Clean Bandit - Solo (feat. Demi Lovato)",
          "Post Malone - I Fall Apart",
          "Dennis Lloyd - Nevermind",
          "Luis Fonsi - ?chame La Culpa",
          "benny blanco - Eastside (with Halsey & Khalid)",
          "Camila Cabello - Never Be the Same",
          "Selena Gomez - Wolves",
          "XXXTENTACION - changes",
          "Dynoro - In My Mind",
          "Eminem - River (feat. Ed Sheeran)",
          "Daddy Yankee - Dura",
          "Travis Scott - SICKO MODE",
          "Imagine Dragons - Thunder",
          "Reik - Me Niego",
          "Ti?sto - Jackie Chan",
          "Bruno Mars - Finesse (Remix) [feat. Cardi B]",
          "Selena Gomez - Back To You - From 13 Reasons Why ? Season 2 Soundtrack",
          "NF - Let You Down",
          "The Weeknd - Call Out My Name",
          "Offset - Ric Flair Drip (& Metro Boomin)",
          "Marshmello - Happier",
          "Sam Smith - Too Good At Goodbyes",
          "Lil Dicky - Freaky Friday (feat. Chris Brown)",
          "Imagine Dragons - Believer",
          "6ix9ine - FEFE (feat. Nicki Minaj & Murda Beatz)",
          "Jonas Blue - Rise",
          "Loud Luxury - Body (feat. brando)",
          "Lil Uzi Vert - XO TOUR Llif3",
          "Becky G - Sin Pijama",
          "Anne-Marie - 2002",
          "Drake - Nonstop",
          "XXXTENTACION - Fuck Love (feat. Trippie Redd)",
          "Shawn Mendes - In My Blood",
          "Marshmello - Silence",
          "Ariana Grande - God is a woman",
          "Piso 21 - D?jala que vuelva (feat. Manuel Turizo)",
          "David Guetta - Flames",
          "Maroon 5 - What Lovers Do",
          "DJ Snake - Taki Taki (with Selena Gomez, Ozuna & Cardi B)",
          "Hailee Steinfeld - Let Me Go (with Alesso, Florida Georgia Line & watt)",
          "Portugal. The Man - Feel It Still",
          "The Weeknd - Pray For Me (with Kendrick Lamar)",
          "Migos - Walk It Talk It",
          "G-Eazy - Him & I (with Halsey)",
          "Post Malone - Candy Paint",
          "Post Malone - Congratulations",
          "Sofia Reyes - 1, 2, 3 (feat. Jason Derulo & De La Ghetto)",
          "Natti Natasha - Criminal",
          "Rich The Kid - Plug Walk",
          "Billie Eilish - lovely (with Khalid)",
          "Migos - Stir Fry",
          "Kendrick Lamar - HUMBLE.",
          "Ozuna - Vaina Loca",
          "Ed Sheeran - Perfect Duet (Ed Sheeran & Beyonc?)",
          "Maluma - Coraz?n (feat. Nego do Borel)",
          "Khalid - Young Dumb & Broke",
          "Ozuna - S?guelo Bailando",
          "Anitta - Downtown",
          "Wolfine - Bella",
          "Calvin Harris - Promises (with Sam Smith)",
          "Lil Baby - Yes Indeed",
          "Lauv - I Like Me Better",
          "Keala Settle - This Is Me",
          "XXXTENTACION - Everybody Dies In Their Nightmares",
          "Zac Efron - Rewrite The Stars",
          "Clean Bandit - I Miss You (feat. Julia Michaels)",
          "DJ Khaled - No Brainer",
          "ZAYN - Dusk Till Dawn - Radio Edit",
          "Dean Lewis - Be Alright"
         ],
         "type": "scatter3d",
         "x": [
          0.23237267693294175,
          -0.01567635518933902,
          0.5247396337402787,
          0.1493358946521133,
          0.06418109908153224,
          0.2336056886410397,
          -0.228569227076363,
          -0.3048036171308074,
          0.004720050074328379,
          -0.24158288424842314,
          0.16598390392409235,
          0.3568482570052583,
          -0.45358347929823145,
          0.09315325065293051,
          0.013127013195073506,
          -0.059025743216507345,
          0.07656484872786248,
          -0.18014911095828257,
          -0.16212973041998568,
          -0.0831705929517693,
          -0.20596720822726877,
          -0.08093734475748184,
          -0.2949767341637134,
          0.1685112732533218,
          -0.17084868364643882,
          -0.4670257830482011,
          0.17590501202169342,
          -0.12160389344909359,
          0.24211949740973196,
          0.4895840333441442,
          0.12333304625365649,
          -0.07963620693963117,
          0.3782619252801062,
          0.3551928476495636,
          -0.39102641350603246,
          0.15156465722217868,
          0.21164746984603056,
          0.030884795725920306,
          0.2350559316348834,
          0.20345127591357265,
          -0.28898827483518097,
          -0.5425686155246758,
          -0.03098680236037162,
          0.13465414093600206,
          -0.42295790879410156,
          -0.34138845777276955,
          -0.5904154269928286,
          -0.05726981512033391,
          0.019135236607823115,
          0.4430623529814088,
          0.25473816066292543,
          -0.3020543807730194,
          0.18489515607074627,
          -0.18511049317588701,
          -0.28913109242459933,
          0.2670891704920319,
          -0.2736803309165721,
          -0.19367789473728336,
          0.03187533975300807,
          -0.44147197602189486,
          -0.15097711332730013,
          0.24881965120661678,
          0.23641783583524598,
          0.01359216868532986,
          0.19170611309749283,
          0.272519670893817,
          -0.3543588347031055,
          0.06635102057214393,
          0.06945668017273905,
          -0.3021253786048575,
          -0.27513930061902486,
          -0.45135108956712305,
          0.21635171997750977,
          0.05590217069360068,
          0.20516782321412508,
          0.14358913218122404,
          -0.10043133069396332,
          -0.553598332963574,
          -0.5485517885156621,
          0.3234682172857149,
          0.7960905359789071,
          -0.11313001412805258,
          0.05468085956860926,
          -0.2449115303622124,
          0.4616855781790012,
          -0.2077958402242398,
          0.17985677594609897,
          -0.21452640439392107,
          -0.10111817396379515,
          -0.2807517751259308,
          -0.12292112601011498,
          0.11721637564869086,
          0.14832493620322484,
          0.5694808172464734,
          -0.09549867248137026,
          0.2355011796061882,
          0.15127753399666888,
          -0.14353629252352385,
          0.8101968281049824,
          0.17789021190426105
         ],
         "y": [
          -0.4373027678173712,
          -0.27696302749236956,
          0.20850949394933838,
          -0.004228439382066686,
          -0.2354925357521682,
          0.06912558447331611,
          0.04914797480255944,
          0.16168629812685092,
          -0.29987738812268866,
          0.1453218285384629,
          -0.22189925262552448,
          -0.10893350431601473,
          0.15481836421937048,
          -0.16697005950212052,
          -0.07801833620981048,
          -0.1353650549875574,
          0.08930696512094902,
          0.4383798412454346,
          -0.23949342465290202,
          -0.11911491878810691,
          0.04034701541367593,
          -0.20169000253781255,
          0.1957441728111106,
          0.32290123066857074,
          -0.025578035187386907,
          -0.2592758400741127,
          0.13679691342352923,
          0.31188786768155174,
          -0.289230189908305,
          -0.20650604469347814,
          -0.2834386901827099,
          -0.12969197743545322,
          0.12532242218425327,
          0.0631712689671059,
          0.08107162467566194,
          -0.005458553715975857,
          0.19058123864215296,
          0.1967183751183831,
          -0.591654755913274,
          0.20618238390508956,
          -0.10075336654407649,
          -0.04649537859914722,
          0.17862669055481367,
          0.49730617729140747,
          -0.11128749521366034,
          0.16624723013940024,
          0.06814252622383062,
          0.04490589856979296,
          0.23843628789525803,
          0.18929456720642387,
          -0.39992843938750805,
          0.02165544433916833,
          -0.41595208240032083,
          -0.059211420787717885,
          0.08250567473057761,
          -0.35190031448333775,
          0.04534363510623947,
          0.08120352743048587,
          0.2688562140909388,
          -0.13883203649135728,
          -0.0992250875260403,
          -0.17913042473819565,
          -0.09193163585450542,
          0.20957585242524165,
          0.36023293531632405,
          0.2233125143903414,
          0.34216499296367014,
          -0.07237110713019872,
          -0.14735680489108646,
          -0.06884335003545831,
          -0.039646308998930166,
          -0.15704777800352812,
          -0.03890054257119813,
          -0.0056506667818230815,
          0.03226610920459671,
          0.32971563546444366,
          0.20677905024807242,
          0.020236672991254742,
          -0.16392684352558304,
          -0.30380615751908946,
          -0.09837346853593655,
          0.3978810586587089,
          0.0063168245063063,
          -0.018901413096060884,
          -0.3778210091402996,
          0.41470919370639825,
          -0.07065390036199293,
          -0.20686604662968516,
          0.1928242364204315,
          -0.4650314915040785,
          0.07661332903579897,
          -0.47072079513332465,
          -0.29851219923162653,
          0.7270796234537504,
          -0.08025661440709066,
          0.039023905412891025,
          0.0015389677434519465,
          0.25606535816197024,
          0.4191187530230278,
          0.07051722814768503
         ],
         "z": [
          0.44980720977052735,
          0.13488343264853578,
          -0.10272601048157717,
          -0.18857691803976023,
          0.31020617588598914,
          -0.136157998184215,
          0.05831612199066078,
          -0.0415492145463721,
          -0.10153071035024265,
          0.24303858812288578,
          -0.031940085305839305,
          0.46117226330685007,
          0.20868910116754436,
          -0.17360077988816325,
          0.011395460109728344,
          0.016293699550863773,
          0.19584711274530428,
          -0.05530426626873932,
          -0.3338854159779929,
          -0.3232302761665322,
          0.22950104832289508,
          -0.055631819200592625,
          0.16810002779828961,
          0.2471170777059735,
          -0.025799175110878224,
          -0.1521116974561449,
          -0.08615374332047675,
          -0.16862528629984577,
          -0.1570508551137029,
          0.10060322170905685,
          -0.05098998340046163,
          0.1922588177226611,
          -0.002545648368024395,
          0.5360066716833093,
          0.12489914688271589,
          0.242378617101115,
          0.08362087507634595,
          0.14138368224848527,
          0.000571076661997553,
          0.11443841873303658,
          0.036308151582287014,
          0.3041943443490758,
          -0.19481893816590573,
          -0.013277277534688997,
          0.5010621118506584,
          -0.10475651759135333,
          -0.07509418945114582,
          0.1340227368150038,
          -0.04163988281314221,
          0.2888101299784732,
          -0.1198659928670152,
          0.1307313579518439,
          -0.03294740872549509,
          -0.24479548050971656,
          -0.11005988618802291,
          -0.2800602824929686,
          0.13733727272593713,
          -0.091499927544195,
          -0.13159162273813232,
          -0.026679029710000954,
          0.0737955435805489,
          -0.4302736949395632,
          -0.1652775218932296,
          -0.038760726335115514,
          0.1326444412203364,
          0.08416818043012364,
          -0.320703330270273,
          0.1150599027273576,
          -0.06547148775399136,
          0.004702907892321241,
          -0.018052727226004994,
          0.05653661669181526,
          0.13922314176473297,
          -0.25299358483397816,
          0.47970922572652547,
          -0.31509194434576615,
          0.19737109760863403,
          0.015315682310990385,
          0.19604699579975085,
          0.008035936197081463,
          0.050672821572967805,
          -0.24109174035351788,
          -0.2909421896884839,
          0.20139530984519727,
          -0.02434220207368768,
          -0.3562838381166946,
          -0.153096161083604,
          -0.07198602615286943,
          -0.35038506642120554,
          -0.21991774617749546,
          0.168184663948615,
          -0.3780455767029314,
          -0.010714299751771692,
          -0.06302732262152823,
          -0.21320590128473962,
          0.0003633469481804223,
          0.09421364536336514,
          -0.04390796743706572,
          -0.09443637044027256,
          -0.04792966611146685
         ]
        }
       ],
       "layout": {
        "template": {
         "data": {
          "bar": [
           {
            "error_x": {
             "color": "#2a3f5f"
            },
            "error_y": {
             "color": "#2a3f5f"
            },
            "marker": {
             "line": {
              "color": "#E5ECF6",
              "width": 0.5
             }
            },
            "type": "bar"
           }
          ],
          "barpolar": [
           {
            "marker": {
             "line": {
              "color": "#E5ECF6",
              "width": 0.5
             }
            },
            "type": "barpolar"
           }
          ],
          "carpet": [
           {
            "aaxis": {
             "endlinecolor": "#2a3f5f",
             "gridcolor": "white",
             "linecolor": "white",
             "minorgridcolor": "white",
             "startlinecolor": "#2a3f5f"
            },
            "baxis": {
             "endlinecolor": "#2a3f5f",
             "gridcolor": "white",
             "linecolor": "white",
             "minorgridcolor": "white",
             "startlinecolor": "#2a3f5f"
            },
            "type": "carpet"
           }
          ],
          "choropleth": [
           {
            "colorbar": {
             "outlinewidth": 0,
             "ticks": ""
            },
            "type": "choropleth"
           }
          ],
          "contour": [
           {
            "colorbar": {
             "outlinewidth": 0,
             "ticks": ""
            },
            "colorscale": [
             [
              0,
              "#0d0887"
             ],
             [
              0.1111111111111111,
              "#46039f"
             ],
             [
              0.2222222222222222,
              "#7201a8"
             ],
             [
              0.3333333333333333,
              "#9c179e"
             ],
             [
              0.4444444444444444,
              "#bd3786"
             ],
             [
              0.5555555555555556,
              "#d8576b"
             ],
             [
              0.6666666666666666,
              "#ed7953"
             ],
             [
              0.7777777777777778,
              "#fb9f3a"
             ],
             [
              0.8888888888888888,
              "#fdca26"
             ],
             [
              1,
              "#f0f921"
             ]
            ],
            "type": "contour"
           }
          ],
          "contourcarpet": [
           {
            "colorbar": {
             "outlinewidth": 0,
             "ticks": ""
            },
            "type": "contourcarpet"
           }
          ],
          "heatmap": [
           {
            "colorbar": {
             "outlinewidth": 0,
             "ticks": ""
            },
            "colorscale": [
             [
              0,
              "#0d0887"
             ],
             [
              0.1111111111111111,
              "#46039f"
             ],
             [
              0.2222222222222222,
              "#7201a8"
             ],
             [
              0.3333333333333333,
              "#9c179e"
             ],
             [
              0.4444444444444444,
              "#bd3786"
             ],
             [
              0.5555555555555556,
              "#d8576b"
             ],
             [
              0.6666666666666666,
              "#ed7953"
             ],
             [
              0.7777777777777778,
              "#fb9f3a"
             ],
             [
              0.8888888888888888,
              "#fdca26"
             ],
             [
              1,
              "#f0f921"
             ]
            ],
            "type": "heatmap"
           }
          ],
          "heatmapgl": [
           {
            "colorbar": {
             "outlinewidth": 0,
             "ticks": ""
            },
            "colorscale": [
             [
              0,
              "#0d0887"
             ],
             [
              0.1111111111111111,
              "#46039f"
             ],
             [
              0.2222222222222222,
              "#7201a8"
             ],
             [
              0.3333333333333333,
              "#9c179e"
             ],
             [
              0.4444444444444444,
              "#bd3786"
             ],
             [
              0.5555555555555556,
              "#d8576b"
             ],
             [
              0.6666666666666666,
              "#ed7953"
             ],
             [
              0.7777777777777778,
              "#fb9f3a"
             ],
             [
              0.8888888888888888,
              "#fdca26"
             ],
             [
              1,
              "#f0f921"
             ]
            ],
            "type": "heatmapgl"
           }
          ],
          "histogram": [
           {
            "marker": {
             "colorbar": {
              "outlinewidth": 0,
              "ticks": ""
             }
            },
            "type": "histogram"
           }
          ],
          "histogram2d": [
           {
            "colorbar": {
             "outlinewidth": 0,
             "ticks": ""
            },
            "colorscale": [
             [
              0,
              "#0d0887"
             ],
             [
              0.1111111111111111,
              "#46039f"
             ],
             [
              0.2222222222222222,
              "#7201a8"
             ],
             [
              0.3333333333333333,
              "#9c179e"
             ],
             [
              0.4444444444444444,
              "#bd3786"
             ],
             [
              0.5555555555555556,
              "#d8576b"
             ],
             [
              0.6666666666666666,
              "#ed7953"
             ],
             [
              0.7777777777777778,
              "#fb9f3a"
             ],
             [
              0.8888888888888888,
              "#fdca26"
             ],
             [
              1,
              "#f0f921"
             ]
            ],
            "type": "histogram2d"
           }
          ],
          "histogram2dcontour": [
           {
            "colorbar": {
             "outlinewidth": 0,
             "ticks": ""
            },
            "colorscale": [
             [
              0,
              "#0d0887"
             ],
             [
              0.1111111111111111,
              "#46039f"
             ],
             [
              0.2222222222222222,
              "#7201a8"
             ],
             [
              0.3333333333333333,
              "#9c179e"
             ],
             [
              0.4444444444444444,
              "#bd3786"
             ],
             [
              0.5555555555555556,
              "#d8576b"
             ],
             [
              0.6666666666666666,
              "#ed7953"
             ],
             [
              0.7777777777777778,
              "#fb9f3a"
             ],
             [
              0.8888888888888888,
              "#fdca26"
             ],
             [
              1,
              "#f0f921"
             ]
            ],
            "type": "histogram2dcontour"
           }
          ],
          "mesh3d": [
           {
            "colorbar": {
             "outlinewidth": 0,
             "ticks": ""
            },
            "type": "mesh3d"
           }
          ],
          "parcoords": [
           {
            "line": {
             "colorbar": {
              "outlinewidth": 0,
              "ticks": ""
             }
            },
            "type": "parcoords"
           }
          ],
          "pie": [
           {
            "automargin": true,
            "type": "pie"
           }
          ],
          "scatter": [
           {
            "marker": {
             "colorbar": {
              "outlinewidth": 0,
              "ticks": ""
             }
            },
            "type": "scatter"
           }
          ],
          "scatter3d": [
           {
            "line": {
             "colorbar": {
              "outlinewidth": 0,
              "ticks": ""
             }
            },
            "marker": {
             "colorbar": {
              "outlinewidth": 0,
              "ticks": ""
             }
            },
            "type": "scatter3d"
           }
          ],
          "scattercarpet": [
           {
            "marker": {
             "colorbar": {
              "outlinewidth": 0,
              "ticks": ""
             }
            },
            "type": "scattercarpet"
           }
          ],
          "scattergeo": [
           {
            "marker": {
             "colorbar": {
              "outlinewidth": 0,
              "ticks": ""
             }
            },
            "type": "scattergeo"
           }
          ],
          "scattergl": [
           {
            "marker": {
             "colorbar": {
              "outlinewidth": 0,
              "ticks": ""
             }
            },
            "type": "scattergl"
           }
          ],
          "scattermapbox": [
           {
            "marker": {
             "colorbar": {
              "outlinewidth": 0,
              "ticks": ""
             }
            },
            "type": "scattermapbox"
           }
          ],
          "scatterpolar": [
           {
            "marker": {
             "colorbar": {
              "outlinewidth": 0,
              "ticks": ""
             }
            },
            "type": "scatterpolar"
           }
          ],
          "scatterpolargl": [
           {
            "marker": {
             "colorbar": {
              "outlinewidth": 0,
              "ticks": ""
             }
            },
            "type": "scatterpolargl"
           }
          ],
          "scatterternary": [
           {
            "marker": {
             "colorbar": {
              "outlinewidth": 0,
              "ticks": ""
             }
            },
            "type": "scatterternary"
           }
          ],
          "surface": [
           {
            "colorbar": {
             "outlinewidth": 0,
             "ticks": ""
            },
            "colorscale": [
             [
              0,
              "#0d0887"
             ],
             [
              0.1111111111111111,
              "#46039f"
             ],
             [
              0.2222222222222222,
              "#7201a8"
             ],
             [
              0.3333333333333333,
              "#9c179e"
             ],
             [
              0.4444444444444444,
              "#bd3786"
             ],
             [
              0.5555555555555556,
              "#d8576b"
             ],
             [
              0.6666666666666666,
              "#ed7953"
             ],
             [
              0.7777777777777778,
              "#fb9f3a"
             ],
             [
              0.8888888888888888,
              "#fdca26"
             ],
             [
              1,
              "#f0f921"
             ]
            ],
            "type": "surface"
           }
          ],
          "table": [
           {
            "cells": {
             "fill": {
              "color": "#EBF0F8"
             },
             "line": {
              "color": "white"
             }
            },
            "header": {
             "fill": {
              "color": "#C8D4E3"
             },
             "line": {
              "color": "white"
             }
            },
            "type": "table"
           }
          ]
         },
         "layout": {
          "annotationdefaults": {
           "arrowcolor": "#2a3f5f",
           "arrowhead": 0,
           "arrowwidth": 1
          },
          "coloraxis": {
           "colorbar": {
            "outlinewidth": 0,
            "ticks": ""
           }
          },
          "colorscale": {
           "diverging": [
            [
             0,
             "#8e0152"
            ],
            [
             0.1,
             "#c51b7d"
            ],
            [
             0.2,
             "#de77ae"
            ],
            [
             0.3,
             "#f1b6da"
            ],
            [
             0.4,
             "#fde0ef"
            ],
            [
             0.5,
             "#f7f7f7"
            ],
            [
             0.6,
             "#e6f5d0"
            ],
            [
             0.7,
             "#b8e186"
            ],
            [
             0.8,
             "#7fbc41"
            ],
            [
             0.9,
             "#4d9221"
            ],
            [
             1,
             "#276419"
            ]
           ],
           "sequential": [
            [
             0,
             "#0d0887"
            ],
            [
             0.1111111111111111,
             "#46039f"
            ],
            [
             0.2222222222222222,
             "#7201a8"
            ],
            [
             0.3333333333333333,
             "#9c179e"
            ],
            [
             0.4444444444444444,
             "#bd3786"
            ],
            [
             0.5555555555555556,
             "#d8576b"
            ],
            [
             0.6666666666666666,
             "#ed7953"
            ],
            [
             0.7777777777777778,
             "#fb9f3a"
            ],
            [
             0.8888888888888888,
             "#fdca26"
            ],
            [
             1,
             "#f0f921"
            ]
           ],
           "sequentialminus": [
            [
             0,
             "#0d0887"
            ],
            [
             0.1111111111111111,
             "#46039f"
            ],
            [
             0.2222222222222222,
             "#7201a8"
            ],
            [
             0.3333333333333333,
             "#9c179e"
            ],
            [
             0.4444444444444444,
             "#bd3786"
            ],
            [
             0.5555555555555556,
             "#d8576b"
            ],
            [
             0.6666666666666666,
             "#ed7953"
            ],
            [
             0.7777777777777778,
             "#fb9f3a"
            ],
            [
             0.8888888888888888,
             "#fdca26"
            ],
            [
             1,
             "#f0f921"
            ]
           ]
          },
          "colorway": [
           "#636efa",
           "#EF553B",
           "#00cc96",
           "#ab63fa",
           "#FFA15A",
           "#19d3f3",
           "#FF6692",
           "#B6E880",
           "#FF97FF",
           "#FECB52"
          ],
          "font": {
           "color": "#2a3f5f"
          },
          "geo": {
           "bgcolor": "white",
           "lakecolor": "white",
           "landcolor": "#E5ECF6",
           "showlakes": true,
           "showland": true,
           "subunitcolor": "white"
          },
          "hoverlabel": {
           "align": "left"
          },
          "hovermode": "closest",
          "mapbox": {
           "style": "light"
          },
          "paper_bgcolor": "white",
          "plot_bgcolor": "#E5ECF6",
          "polar": {
           "angularaxis": {
            "gridcolor": "white",
            "linecolor": "white",
            "ticks": ""
           },
           "bgcolor": "#E5ECF6",
           "radialaxis": {
            "gridcolor": "white",
            "linecolor": "white",
            "ticks": ""
           }
          },
          "scene": {
           "xaxis": {
            "backgroundcolor": "#E5ECF6",
            "gridcolor": "white",
            "gridwidth": 2,
            "linecolor": "white",
            "showbackground": true,
            "ticks": "",
            "zerolinecolor": "white"
           },
           "yaxis": {
            "backgroundcolor": "#E5ECF6",
            "gridcolor": "white",
            "gridwidth": 2,
            "linecolor": "white",
            "showbackground": true,
            "ticks": "",
            "zerolinecolor": "white"
           },
           "zaxis": {
            "backgroundcolor": "#E5ECF6",
            "gridcolor": "white",
            "gridwidth": 2,
            "linecolor": "white",
            "showbackground": true,
            "ticks": "",
            "zerolinecolor": "white"
           }
          },
          "shapedefaults": {
           "line": {
            "color": "#2a3f5f"
           }
          },
          "ternary": {
           "aaxis": {
            "gridcolor": "white",
            "linecolor": "white",
            "ticks": ""
           },
           "baxis": {
            "gridcolor": "white",
            "linecolor": "white",
            "ticks": ""
           },
           "bgcolor": "#E5ECF6",
           "caxis": {
            "gridcolor": "white",
            "linecolor": "white",
            "ticks": ""
           }
          },
          "title": {
           "x": 0.05
          },
          "xaxis": {
           "automargin": true,
           "gridcolor": "white",
           "linecolor": "white",
           "ticks": "",
           "title": {
            "standoff": 15
           },
           "zerolinecolor": "white",
           "zerolinewidth": 2
          },
          "yaxis": {
           "automargin": true,
           "gridcolor": "white",
           "linecolor": "white",
           "ticks": "",
           "title": {
            "standoff": 15
           },
           "zerolinecolor": "white",
           "zerolinewidth": 2
          }
         }
        }
       }
      },
      "text/html": [
       "<div>\n",
       "        \n",
       "        \n",
       "            <div id=\"52ff30a6-c2ac-4578-a59f-ea3cefbe00ea\" class=\"plotly-graph-div\" style=\"height:525px; width:100%;\"></div>\n",
       "            <script type=\"text/javascript\">\n",
       "                require([\"plotly\"], function(Plotly) {\n",
       "                    window.PLOTLYENV=window.PLOTLYENV || {};\n",
       "                    \n",
       "                if (document.getElementById(\"52ff30a6-c2ac-4578-a59f-ea3cefbe00ea\")) {\n",
       "                    Plotly.newPlot(\n",
       "                        '52ff30a6-c2ac-4578-a59f-ea3cefbe00ea',\n",
       "                        [{\"marker\": {\"color\": [0.754, 0.74, 0.5870000000000001, 0.7390000000000001, 0.835, 0.68, 0.816, 0.7909999999999999, 0.836, 0.626, 0.765, 0.511, 0.586, 0.851, 0.753, 0.698, 0.6990000000000001, 0.595, 0.9209999999999999, 0.922, 0.653, 0.903, 0.71, 0.596, 0.762, 0.825, 0.708, 0.642, 0.872, 0.599, 0.884, 0.737, 0.556, 0.5920000000000001, 0.726, 0.56, 0.637, 0.72, 0.669, 0.6940000000000001, 0.748, 0.7909999999999999, 0.8340000000000001, 0.605, 0.777, 0.747, 0.7040000000000001, 0.601, 0.6559999999999999, 0.489, 0.88, 0.687, 0.698, 0.755, 0.7759999999999999, 0.9309999999999999, 0.687, 0.752, 0.732, 0.7909999999999999, 0.6970000000000001, 0.912, 0.797, 0.622, 0.52, 0.602, 0.6809999999999999, 0.631, 0.799, 0.841, 0.6629999999999999, 0.8009999999999999, 0.735, 0.909, 0.589, 0.67, 0.63, 0.792, 0.8140000000000001, 0.8759999999999999, 0.35100000000000003, 0.815, 0.9079999999999999, 0.754, 0.5870000000000001, 0.722, 0.7979999999999999, 0.855, 0.775, 0.909, 0.7809999999999999, 0.9640000000000001, 0.752, 0.284, 0.7340000000000001, 0.684, 0.638, 0.552, 0.258, 0.5529999999999999], \"size\": 8}, \"mode\": \"markers\", \"text\": [\"Drake - God's Plan\", \"XXXTENTACION - SAD!\", \"Post Malone - rockstar (feat. 21 Savage)\", \"Post Malone - Psycho (feat. Ty Dolla $ign)\", \"Drake - In My Feelings\", \"Post Malone - Better Now\", \"Cardi B - I Like It\", \"Calvin Harris - One Kiss (with Dua Lipa)\", \"Dua Lipa - IDGAF\", \"Marshmello - FRIENDS\", \"Camila Cabello - Havana\", \"Juice WRLD - Lucid Dreams\", \"Drake - Nice For What\", \"Maroon 5 - Girls Like You (feat. Cardi B)\", \"Zedd - The Middle\", \"Kendrick Lamar - All The Stars (with SZA)\", \"Ariana Grande - no tears left to cry\", \"Nicky Jam - X\", \"XXXTENTACION - Moonlight\", \"BlocBoy JB - Look Alive (feat. Drake)\", \"Rudimental - These Days (feat. Jess Glynne, Macklemore & Dan Caplen)\", \"Nio Garcia - Te Bot? - Remix\", \"Bazzi - Mine\", \"5 Seconds of Summer - Youngblood\", \"Dua Lipa - New Rules\", \"Ed Sheeran - Shape of You\", \"Khalid - Love Lies (with Normani)\", \"Bebe Rexha - Meant to Be (feat. Florida Georgia Line)\", \"XXXTENTACION - Jocelyn Flores\", \"Ed Sheeran - Perfect\", \"Tyga - Taste (feat. Offset)\", \"Clean Bandit - Solo (feat. Demi Lovato)\", \"Post Malone - I Fall Apart\", \"Dennis Lloyd - Nevermind\", \"Luis Fonsi - ?chame La Culpa\", \"benny blanco - Eastside (with Halsey & Khalid)\", \"Camila Cabello - Never Be the Same\", \"Selena Gomez - Wolves\", \"XXXTENTACION - changes\", \"Dynoro - In My Mind\", \"Eminem - River (feat. Ed Sheeran)\", \"Daddy Yankee - Dura\", \"Travis Scott - SICKO MODE\", \"Imagine Dragons - Thunder\", \"Reik - Me Niego\", \"Ti?sto - Jackie Chan\", \"Bruno Mars - Finesse (Remix) [feat. Cardi B]\", \"Selena Gomez - Back To You - From 13 Reasons Why ? Season 2 Soundtrack\", \"NF - Let You Down\", \"The Weeknd - Call Out My Name\", \"Offset - Ric Flair Drip (& Metro Boomin)\", \"Marshmello - Happier\", \"Sam Smith - Too Good At Goodbyes\", \"Lil Dicky - Freaky Friday (feat. Chris Brown)\", \"Imagine Dragons - Believer\", \"6ix9ine - FEFE (feat. Nicki Minaj & Murda Beatz)\", \"Jonas Blue - Rise\", \"Loud Luxury - Body (feat. brando)\", \"Lil Uzi Vert - XO TOUR Llif3\", \"Becky G - Sin Pijama\", \"Anne-Marie - 2002\", \"Drake - Nonstop\", \"XXXTENTACION - Fuck Love (feat. Trippie Redd)\", \"Shawn Mendes - In My Blood\", \"Marshmello - Silence\", \"Ariana Grande - God is a woman\", \"Piso 21 - D?jala que vuelva (feat. Manuel Turizo)\", \"David Guetta - Flames\", \"Maroon 5 - What Lovers Do\", \"DJ Snake - Taki Taki (with Selena Gomez, Ozuna & Cardi B)\", \"Hailee Steinfeld - Let Me Go (with Alesso, Florida Georgia Line & watt)\", \"Portugal. The Man - Feel It Still\", \"The Weeknd - Pray For Me (with Kendrick Lamar)\", \"Migos - Walk It Talk It\", \"G-Eazy - Him & I (with Halsey)\", \"Post Malone - Candy Paint\", \"Post Malone - Congratulations\", \"Sofia Reyes - 1, 2, 3 (feat. Jason Derulo & De La Ghetto)\", \"Natti Natasha - Criminal\", \"Rich The Kid - Plug Walk\", \"Billie Eilish - lovely (with Khalid)\", \"Migos - Stir Fry\", \"Kendrick Lamar - HUMBLE.\", \"Ozuna - Vaina Loca\", \"Ed Sheeran - Perfect Duet (Ed Sheeran & Beyonc?)\", \"Maluma - Coraz?n (feat. Nego do Borel)\", \"Khalid - Young Dumb & Broke\", \"Ozuna - S?guelo Bailando\", \"Anitta - Downtown\", \"Wolfine - Bella\", \"Calvin Harris - Promises (with Sam Smith)\", \"Lil Baby - Yes Indeed\", \"Lauv - I Like Me Better\", \"Keala Settle - This Is Me\", \"XXXTENTACION - Everybody Dies In Their Nightmares\", \"Zac Efron - Rewrite The Stars\", \"Clean Bandit - I Miss You (feat. Julia Michaels)\", \"DJ Khaled - No Brainer\", \"ZAYN - Dusk Till Dawn - Radio Edit\", \"Dean Lewis - Be Alright\"], \"type\": \"scatter3d\", \"x\": [0.23237267693294175, -0.01567635518933902, 0.5247396337402787, 0.1493358946521133, 0.06418109908153224, 0.2336056886410397, -0.228569227076363, -0.3048036171308074, 0.004720050074328379, -0.24158288424842314, 0.16598390392409235, 0.3568482570052583, -0.45358347929823145, 0.09315325065293051, 0.013127013195073506, -0.059025743216507345, 0.07656484872786248, -0.18014911095828257, -0.16212973041998568, -0.0831705929517693, -0.20596720822726877, -0.08093734475748184, -0.2949767341637134, 0.1685112732533218, -0.17084868364643882, -0.4670257830482011, 0.17590501202169342, -0.12160389344909359, 0.24211949740973196, 0.4895840333441442, 0.12333304625365649, -0.07963620693963117, 0.3782619252801062, 0.3551928476495636, -0.39102641350603246, 0.15156465722217868, 0.21164746984603056, 0.030884795725920306, 0.2350559316348834, 0.20345127591357265, -0.28898827483518097, -0.5425686155246758, -0.03098680236037162, 0.13465414093600206, -0.42295790879410156, -0.34138845777276955, -0.5904154269928286, -0.05726981512033391, 0.019135236607823115, 0.4430623529814088, 0.25473816066292543, -0.3020543807730194, 0.18489515607074627, -0.18511049317588701, -0.28913109242459933, 0.2670891704920319, -0.2736803309165721, -0.19367789473728336, 0.03187533975300807, -0.44147197602189486, -0.15097711332730013, 0.24881965120661678, 0.23641783583524598, 0.01359216868532986, 0.19170611309749283, 0.272519670893817, -0.3543588347031055, 0.06635102057214393, 0.06945668017273905, -0.3021253786048575, -0.27513930061902486, -0.45135108956712305, 0.21635171997750977, 0.05590217069360068, 0.20516782321412508, 0.14358913218122404, -0.10043133069396332, -0.553598332963574, -0.5485517885156621, 0.3234682172857149, 0.7960905359789071, -0.11313001412805258, 0.05468085956860926, -0.2449115303622124, 0.4616855781790012, -0.2077958402242398, 0.17985677594609897, -0.21452640439392107, -0.10111817396379515, -0.2807517751259308, -0.12292112601011498, 0.11721637564869086, 0.14832493620322484, 0.5694808172464734, -0.09549867248137026, 0.2355011796061882, 0.15127753399666888, -0.14353629252352385, 0.8101968281049824, 0.17789021190426105], \"y\": [-0.4373027678173712, -0.27696302749236956, 0.20850949394933838, -0.004228439382066686, -0.2354925357521682, 0.06912558447331611, 0.04914797480255944, 0.16168629812685092, -0.29987738812268866, 0.1453218285384629, -0.22189925262552448, -0.10893350431601473, 0.15481836421937048, -0.16697005950212052, -0.07801833620981048, -0.1353650549875574, 0.08930696512094902, 0.4383798412454346, -0.23949342465290202, -0.11911491878810691, 0.04034701541367593, -0.20169000253781255, 0.1957441728111106, 0.32290123066857074, -0.025578035187386907, -0.2592758400741127, 0.13679691342352923, 0.31188786768155174, -0.289230189908305, -0.20650604469347814, -0.2834386901827099, -0.12969197743545322, 0.12532242218425327, 0.0631712689671059, 0.08107162467566194, -0.005458553715975857, 0.19058123864215296, 0.1967183751183831, -0.591654755913274, 0.20618238390508956, -0.10075336654407649, -0.04649537859914722, 0.17862669055481367, 0.49730617729140747, -0.11128749521366034, 0.16624723013940024, 0.06814252622383062, 0.04490589856979296, 0.23843628789525803, 0.18929456720642387, -0.39992843938750805, 0.02165544433916833, -0.41595208240032083, -0.059211420787717885, 0.08250567473057761, -0.35190031448333775, 0.04534363510623947, 0.08120352743048587, 0.2688562140909388, -0.13883203649135728, -0.0992250875260403, -0.17913042473819565, -0.09193163585450542, 0.20957585242524165, 0.36023293531632405, 0.2233125143903414, 0.34216499296367014, -0.07237110713019872, -0.14735680489108646, -0.06884335003545831, -0.039646308998930166, -0.15704777800352812, -0.03890054257119813, -0.0056506667818230815, 0.03226610920459671, 0.32971563546444366, 0.20677905024807242, 0.020236672991254742, -0.16392684352558304, -0.30380615751908946, -0.09837346853593655, 0.3978810586587089, 0.0063168245063063, -0.018901413096060884, -0.3778210091402996, 0.41470919370639825, -0.07065390036199293, -0.20686604662968516, 0.1928242364204315, -0.4650314915040785, 0.07661332903579897, -0.47072079513332465, -0.29851219923162653, 0.7270796234537504, -0.08025661440709066, 0.039023905412891025, 0.0015389677434519465, 0.25606535816197024, 0.4191187530230278, 0.07051722814768503], \"z\": [0.44980720977052735, 0.13488343264853578, -0.10272601048157717, -0.18857691803976023, 0.31020617588598914, -0.136157998184215, 0.05831612199066078, -0.0415492145463721, -0.10153071035024265, 0.24303858812288578, -0.031940085305839305, 0.46117226330685007, 0.20868910116754436, -0.17360077988816325, 0.011395460109728344, 0.016293699550863773, 0.19584711274530428, -0.05530426626873932, -0.3338854159779929, -0.3232302761665322, 0.22950104832289508, -0.055631819200592625, 0.16810002779828961, 0.2471170777059735, -0.025799175110878224, -0.1521116974561449, -0.08615374332047675, -0.16862528629984577, -0.1570508551137029, 0.10060322170905685, -0.05098998340046163, 0.1922588177226611, -0.002545648368024395, 0.5360066716833093, 0.12489914688271589, 0.242378617101115, 0.08362087507634595, 0.14138368224848527, 0.000571076661997553, 0.11443841873303658, 0.036308151582287014, 0.3041943443490758, -0.19481893816590573, -0.013277277534688997, 0.5010621118506584, -0.10475651759135333, -0.07509418945114582, 0.1340227368150038, -0.04163988281314221, 0.2888101299784732, -0.1198659928670152, 0.1307313579518439, -0.03294740872549509, -0.24479548050971656, -0.11005988618802291, -0.2800602824929686, 0.13733727272593713, -0.091499927544195, -0.13159162273813232, -0.026679029710000954, 0.0737955435805489, -0.4302736949395632, -0.1652775218932296, -0.038760726335115514, 0.1326444412203364, 0.08416818043012364, -0.320703330270273, 0.1150599027273576, -0.06547148775399136, 0.004702907892321241, -0.018052727226004994, 0.05653661669181526, 0.13922314176473297, -0.25299358483397816, 0.47970922572652547, -0.31509194434576615, 0.19737109760863403, 0.015315682310990385, 0.19604699579975085, 0.008035936197081463, 0.050672821572967805, -0.24109174035351788, -0.2909421896884839, 0.20139530984519727, -0.02434220207368768, -0.3562838381166946, -0.153096161083604, -0.07198602615286943, -0.35038506642120554, -0.21991774617749546, 0.168184663948615, -0.3780455767029314, -0.010714299751771692, -0.06302732262152823, -0.21320590128473962, 0.0003633469481804223, 0.09421364536336514, -0.04390796743706572, -0.09443637044027256, -0.04792966611146685]}],\n",
       "                        {\"template\": {\"data\": {\"bar\": [{\"error_x\": {\"color\": \"#2a3f5f\"}, \"error_y\": {\"color\": \"#2a3f5f\"}, \"marker\": {\"line\": {\"color\": \"#E5ECF6\", \"width\": 0.5}}, \"type\": \"bar\"}], \"barpolar\": [{\"marker\": {\"line\": {\"color\": \"#E5ECF6\", \"width\": 0.5}}, \"type\": \"barpolar\"}], \"carpet\": [{\"aaxis\": {\"endlinecolor\": \"#2a3f5f\", \"gridcolor\": \"white\", \"linecolor\": \"white\", \"minorgridcolor\": \"white\", \"startlinecolor\": \"#2a3f5f\"}, \"baxis\": {\"endlinecolor\": \"#2a3f5f\", \"gridcolor\": \"white\", \"linecolor\": \"white\", \"minorgridcolor\": \"white\", \"startlinecolor\": \"#2a3f5f\"}, \"type\": \"carpet\"}], \"choropleth\": [{\"colorbar\": {\"outlinewidth\": 0, \"ticks\": \"\"}, \"type\": \"choropleth\"}], \"contour\": [{\"colorbar\": {\"outlinewidth\": 0, \"ticks\": \"\"}, \"colorscale\": [[0.0, \"#0d0887\"], [0.1111111111111111, \"#46039f\"], [0.2222222222222222, \"#7201a8\"], [0.3333333333333333, \"#9c179e\"], [0.4444444444444444, \"#bd3786\"], [0.5555555555555556, \"#d8576b\"], [0.6666666666666666, \"#ed7953\"], [0.7777777777777778, \"#fb9f3a\"], [0.8888888888888888, \"#fdca26\"], [1.0, \"#f0f921\"]], \"type\": \"contour\"}], \"contourcarpet\": [{\"colorbar\": {\"outlinewidth\": 0, \"ticks\": \"\"}, \"type\": \"contourcarpet\"}], \"heatmap\": [{\"colorbar\": {\"outlinewidth\": 0, \"ticks\": \"\"}, \"colorscale\": [[0.0, \"#0d0887\"], [0.1111111111111111, \"#46039f\"], [0.2222222222222222, \"#7201a8\"], [0.3333333333333333, \"#9c179e\"], [0.4444444444444444, \"#bd3786\"], [0.5555555555555556, \"#d8576b\"], [0.6666666666666666, \"#ed7953\"], [0.7777777777777778, \"#fb9f3a\"], [0.8888888888888888, \"#fdca26\"], [1.0, \"#f0f921\"]], \"type\": \"heatmap\"}], \"heatmapgl\": [{\"colorbar\": {\"outlinewidth\": 0, \"ticks\": \"\"}, \"colorscale\": [[0.0, \"#0d0887\"], [0.1111111111111111, \"#46039f\"], [0.2222222222222222, \"#7201a8\"], [0.3333333333333333, \"#9c179e\"], [0.4444444444444444, \"#bd3786\"], [0.5555555555555556, \"#d8576b\"], [0.6666666666666666, \"#ed7953\"], [0.7777777777777778, \"#fb9f3a\"], [0.8888888888888888, \"#fdca26\"], [1.0, \"#f0f921\"]], \"type\": \"heatmapgl\"}], \"histogram\": [{\"marker\": {\"colorbar\": {\"outlinewidth\": 0, \"ticks\": \"\"}}, \"type\": \"histogram\"}], \"histogram2d\": [{\"colorbar\": {\"outlinewidth\": 0, \"ticks\": \"\"}, \"colorscale\": [[0.0, \"#0d0887\"], [0.1111111111111111, \"#46039f\"], [0.2222222222222222, \"#7201a8\"], [0.3333333333333333, \"#9c179e\"], [0.4444444444444444, \"#bd3786\"], [0.5555555555555556, \"#d8576b\"], [0.6666666666666666, \"#ed7953\"], [0.7777777777777778, \"#fb9f3a\"], [0.8888888888888888, \"#fdca26\"], [1.0, \"#f0f921\"]], \"type\": \"histogram2d\"}], \"histogram2dcontour\": [{\"colorbar\": {\"outlinewidth\": 0, \"ticks\": \"\"}, \"colorscale\": [[0.0, \"#0d0887\"], [0.1111111111111111, \"#46039f\"], [0.2222222222222222, \"#7201a8\"], [0.3333333333333333, \"#9c179e\"], [0.4444444444444444, \"#bd3786\"], [0.5555555555555556, \"#d8576b\"], [0.6666666666666666, \"#ed7953\"], [0.7777777777777778, \"#fb9f3a\"], [0.8888888888888888, \"#fdca26\"], [1.0, \"#f0f921\"]], \"type\": \"histogram2dcontour\"}], \"mesh3d\": [{\"colorbar\": {\"outlinewidth\": 0, \"ticks\": \"\"}, \"type\": \"mesh3d\"}], \"parcoords\": [{\"line\": {\"colorbar\": {\"outlinewidth\": 0, \"ticks\": \"\"}}, \"type\": \"parcoords\"}], \"pie\": [{\"automargin\": true, \"type\": \"pie\"}], \"scatter\": [{\"marker\": {\"colorbar\": {\"outlinewidth\": 0, \"ticks\": \"\"}}, \"type\": \"scatter\"}], \"scatter3d\": [{\"line\": {\"colorbar\": {\"outlinewidth\": 0, \"ticks\": \"\"}}, \"marker\": {\"colorbar\": {\"outlinewidth\": 0, \"ticks\": \"\"}}, \"type\": \"scatter3d\"}], \"scattercarpet\": [{\"marker\": {\"colorbar\": {\"outlinewidth\": 0, \"ticks\": \"\"}}, \"type\": \"scattercarpet\"}], \"scattergeo\": [{\"marker\": {\"colorbar\": {\"outlinewidth\": 0, \"ticks\": \"\"}}, \"type\": \"scattergeo\"}], \"scattergl\": [{\"marker\": {\"colorbar\": {\"outlinewidth\": 0, \"ticks\": \"\"}}, \"type\": \"scattergl\"}], \"scattermapbox\": [{\"marker\": {\"colorbar\": {\"outlinewidth\": 0, \"ticks\": \"\"}}, \"type\": \"scattermapbox\"}], \"scatterpolar\": [{\"marker\": {\"colorbar\": {\"outlinewidth\": 0, \"ticks\": \"\"}}, \"type\": \"scatterpolar\"}], \"scatterpolargl\": [{\"marker\": {\"colorbar\": {\"outlinewidth\": 0, \"ticks\": \"\"}}, \"type\": \"scatterpolargl\"}], \"scatterternary\": [{\"marker\": {\"colorbar\": {\"outlinewidth\": 0, \"ticks\": \"\"}}, \"type\": \"scatterternary\"}], \"surface\": [{\"colorbar\": {\"outlinewidth\": 0, \"ticks\": \"\"}, \"colorscale\": [[0.0, \"#0d0887\"], [0.1111111111111111, \"#46039f\"], [0.2222222222222222, \"#7201a8\"], [0.3333333333333333, \"#9c179e\"], [0.4444444444444444, \"#bd3786\"], [0.5555555555555556, \"#d8576b\"], [0.6666666666666666, \"#ed7953\"], [0.7777777777777778, \"#fb9f3a\"], [0.8888888888888888, \"#fdca26\"], [1.0, \"#f0f921\"]], \"type\": \"surface\"}], \"table\": [{\"cells\": {\"fill\": {\"color\": \"#EBF0F8\"}, \"line\": {\"color\": \"white\"}}, \"header\": {\"fill\": {\"color\": \"#C8D4E3\"}, \"line\": {\"color\": \"white\"}}, \"type\": \"table\"}]}, \"layout\": {\"annotationdefaults\": {\"arrowcolor\": \"#2a3f5f\", \"arrowhead\": 0, \"arrowwidth\": 1}, \"coloraxis\": {\"colorbar\": {\"outlinewidth\": 0, \"ticks\": \"\"}}, \"colorscale\": {\"diverging\": [[0, \"#8e0152\"], [0.1, \"#c51b7d\"], [0.2, \"#de77ae\"], [0.3, \"#f1b6da\"], [0.4, \"#fde0ef\"], [0.5, \"#f7f7f7\"], [0.6, \"#e6f5d0\"], [0.7, \"#b8e186\"], [0.8, \"#7fbc41\"], [0.9, \"#4d9221\"], [1, \"#276419\"]], \"sequential\": [[0.0, \"#0d0887\"], [0.1111111111111111, \"#46039f\"], [0.2222222222222222, \"#7201a8\"], [0.3333333333333333, \"#9c179e\"], [0.4444444444444444, \"#bd3786\"], [0.5555555555555556, \"#d8576b\"], [0.6666666666666666, \"#ed7953\"], [0.7777777777777778, \"#fb9f3a\"], [0.8888888888888888, \"#fdca26\"], [1.0, \"#f0f921\"]], \"sequentialminus\": [[0.0, \"#0d0887\"], [0.1111111111111111, \"#46039f\"], [0.2222222222222222, \"#7201a8\"], [0.3333333333333333, \"#9c179e\"], [0.4444444444444444, \"#bd3786\"], [0.5555555555555556, \"#d8576b\"], [0.6666666666666666, \"#ed7953\"], [0.7777777777777778, \"#fb9f3a\"], [0.8888888888888888, \"#fdca26\"], [1.0, \"#f0f921\"]]}, \"colorway\": [\"#636efa\", \"#EF553B\", \"#00cc96\", \"#ab63fa\", \"#FFA15A\", \"#19d3f3\", \"#FF6692\", \"#B6E880\", \"#FF97FF\", \"#FECB52\"], \"font\": {\"color\": \"#2a3f5f\"}, \"geo\": {\"bgcolor\": \"white\", \"lakecolor\": \"white\", \"landcolor\": \"#E5ECF6\", \"showlakes\": true, \"showland\": true, \"subunitcolor\": \"white\"}, \"hoverlabel\": {\"align\": \"left\"}, \"hovermode\": \"closest\", \"mapbox\": {\"style\": \"light\"}, \"paper_bgcolor\": \"white\", \"plot_bgcolor\": \"#E5ECF6\", \"polar\": {\"angularaxis\": {\"gridcolor\": \"white\", \"linecolor\": \"white\", \"ticks\": \"\"}, \"bgcolor\": \"#E5ECF6\", \"radialaxis\": {\"gridcolor\": \"white\", \"linecolor\": \"white\", \"ticks\": \"\"}}, \"scene\": {\"xaxis\": {\"backgroundcolor\": \"#E5ECF6\", \"gridcolor\": \"white\", \"gridwidth\": 2, \"linecolor\": \"white\", \"showbackground\": true, \"ticks\": \"\", \"zerolinecolor\": \"white\"}, \"yaxis\": {\"backgroundcolor\": \"#E5ECF6\", \"gridcolor\": \"white\", \"gridwidth\": 2, \"linecolor\": \"white\", \"showbackground\": true, \"ticks\": \"\", \"zerolinecolor\": \"white\"}, \"zaxis\": {\"backgroundcolor\": \"#E5ECF6\", \"gridcolor\": \"white\", \"gridwidth\": 2, \"linecolor\": \"white\", \"showbackground\": true, \"ticks\": \"\", \"zerolinecolor\": \"white\"}}, \"shapedefaults\": {\"line\": {\"color\": \"#2a3f5f\"}}, \"ternary\": {\"aaxis\": {\"gridcolor\": \"white\", \"linecolor\": \"white\", \"ticks\": \"\"}, \"baxis\": {\"gridcolor\": \"white\", \"linecolor\": \"white\", \"ticks\": \"\"}, \"bgcolor\": \"#E5ECF6\", \"caxis\": {\"gridcolor\": \"white\", \"linecolor\": \"white\", \"ticks\": \"\"}}, \"title\": {\"x\": 0.05}, \"xaxis\": {\"automargin\": true, \"gridcolor\": \"white\", \"linecolor\": \"white\", \"ticks\": \"\", \"title\": {\"standoff\": 15}, \"zerolinecolor\": \"white\", \"zerolinewidth\": 2}, \"yaxis\": {\"automargin\": true, \"gridcolor\": \"white\", \"linecolor\": \"white\", \"ticks\": \"\", \"title\": {\"standoff\": 15}, \"zerolinecolor\": \"white\", \"zerolinewidth\": 2}}}},\n",
       "                        {\"responsive\": true}\n",
       "                    ).then(function(){\n",
       "                            \n",
       "var gd = document.getElementById('52ff30a6-c2ac-4578-a59f-ea3cefbe00ea');\n",
       "var x = new MutationObserver(function (mutations, observer) {{\n",
       "        var display = window.getComputedStyle(gd).display;\n",
       "        if (!display || display === 'none') {{\n",
       "            console.log([gd, 'removed!']);\n",
       "            Plotly.purge(gd);\n",
       "            observer.disconnect();\n",
       "        }}\n",
       "}});\n",
       "\n",
       "// Listen for the removal of the full notebook cells\n",
       "var notebookContainer = gd.closest('#notebook-container');\n",
       "if (notebookContainer) {{\n",
       "    x.observe(notebookContainer, {childList: true});\n",
       "}}\n",
       "\n",
       "// Listen for the clearing of the current output cell\n",
       "var outputEl = gd.closest('.output');\n",
       "if (outputEl) {{\n",
       "    x.observe(outputEl, {childList: true});\n",
       "}}\n",
       "\n",
       "                        })\n",
       "                };\n",
       "                });\n",
       "            </script>\n",
       "        </div>"
      ]
     },
     "metadata": {},
     "output_type": "display_data"
    }
   ],
   "source": [
    "plot_pca_important_features()"
   ]
  },
  {
   "cell_type": "code",
   "execution_count": null,
   "metadata": {},
   "outputs": [],
   "source": []
  },
  {
   "cell_type": "markdown",
   "metadata": {},
   "source": [
    " # Create a popularity column"
   ]
  },
  {
   "cell_type": "markdown",
   "metadata": {},
   "source": [
    "So, now if u see we crearted a new feature a.ka popularity adn did our comuputation to device if popularity is 1 or 0 for a song.And for better outcomes we have a graph here in which you an see the distribution of data around meen .For popularity 0 the distribution is scattereed  but for popularity 1 cateogary we have the danceability data around mean and not scaterred too much.\n",
    "Similarly we did comparisions for other featurees."
   ]
  },
  {
   "cell_type": "code",
   "execution_count": 59,
   "metadata": {},
   "outputs": [],
   "source": [
    "\n",
    "#dance ,valence , energy , liveliness\n",
    "\n",
    "def popularity_binary():\n",
    "    if  'popularity'  not in df.columns:\n",
    "         df[\"popularity\"]=\"\"\n",
    "         df.loc[(df['danceability']>=a) | (df['energy']>=b)| (df['loudness']>=c)| (df['acousticness']>=d)| \n",
    "                        (df['valence']>=e)| (df['tempo']>=f),'popularity']='1'\n",
    "         df.loc[(df['danceability']<a) & (df['energy']<b) & (df['loudness']<c),'popularity']='0'\n",
    "         df.head()\n",
    "\n",
    "         df.to_csv(new_dataframe_name,index=False)\n",
    "           \n",
    "    else:\n",
    "        pass\n",
    "        "
   ]
  },
  {
   "cell_type": "code",
   "execution_count": 60,
   "metadata": {},
   "outputs": [],
   "source": [
    "popularity_binary()"
   ]
  },
  {
   "cell_type": "code",
   "execution_count": 61,
   "metadata": {
    "scrolled": true
   },
   "outputs": [
    {
     "data": {
      "text/html": [
       "<div>\n",
       "<style scoped>\n",
       "    .dataframe tbody tr th:only-of-type {\n",
       "        vertical-align: middle;\n",
       "    }\n",
       "\n",
       "    .dataframe tbody tr th {\n",
       "        vertical-align: top;\n",
       "    }\n",
       "\n",
       "    .dataframe thead th {\n",
       "        text-align: right;\n",
       "    }\n",
       "</style>\n",
       "<table border=\"1\" class=\"dataframe\">\n",
       "  <thead>\n",
       "    <tr style=\"text-align: right;\">\n",
       "      <th></th>\n",
       "      <th>id</th>\n",
       "      <th>name</th>\n",
       "      <th>artists</th>\n",
       "      <th>danceability</th>\n",
       "      <th>energy</th>\n",
       "      <th>key</th>\n",
       "      <th>loudness</th>\n",
       "      <th>mode</th>\n",
       "      <th>speechiness</th>\n",
       "      <th>acousticness</th>\n",
       "      <th>instrumentalness</th>\n",
       "      <th>liveness</th>\n",
       "      <th>valence</th>\n",
       "      <th>tempo</th>\n",
       "      <th>duration_ms</th>\n",
       "      <th>time_signature</th>\n",
       "      <th>dancebility_new</th>\n",
       "      <th>tempo_rate</th>\n",
       "      <th>popularity</th>\n",
       "    </tr>\n",
       "  </thead>\n",
       "  <tbody>\n",
       "    <tr>\n",
       "      <th>0</th>\n",
       "      <td>6DCZcSspjsKoFjzjrWoCd</td>\n",
       "      <td>God's Plan</td>\n",
       "      <td>Drake</td>\n",
       "      <td>0.754</td>\n",
       "      <td>0.449</td>\n",
       "      <td>7.0</td>\n",
       "      <td>-9.211</td>\n",
       "      <td>1.0</td>\n",
       "      <td>0.1090</td>\n",
       "      <td>0.0332</td>\n",
       "      <td>0.000083</td>\n",
       "      <td>0.552</td>\n",
       "      <td>0.357</td>\n",
       "      <td>77.169</td>\n",
       "      <td>198973.0</td>\n",
       "      <td>4.0</td>\n",
       "      <td>1</td>\n",
       "      <td>moderate</td>\n",
       "      <td>1</td>\n",
       "    </tr>\n",
       "    <tr>\n",
       "      <th>1</th>\n",
       "      <td>3ee8Jmje8o58CHK66QrVC</td>\n",
       "      <td>SAD!</td>\n",
       "      <td>XXXTENTACION</td>\n",
       "      <td>0.740</td>\n",
       "      <td>0.613</td>\n",
       "      <td>8.0</td>\n",
       "      <td>-4.880</td>\n",
       "      <td>1.0</td>\n",
       "      <td>0.1450</td>\n",
       "      <td>0.2580</td>\n",
       "      <td>0.003720</td>\n",
       "      <td>0.123</td>\n",
       "      <td>0.473</td>\n",
       "      <td>75.023</td>\n",
       "      <td>166606.0</td>\n",
       "      <td>4.0</td>\n",
       "      <td>1</td>\n",
       "      <td>slow</td>\n",
       "      <td>1</td>\n",
       "    </tr>\n",
       "    <tr>\n",
       "      <th>2</th>\n",
       "      <td>0e7ipj03S05BNilyu5bRz</td>\n",
       "      <td>rockstar (feat. 21 Savage)</td>\n",
       "      <td>Post Malone</td>\n",
       "      <td>0.587</td>\n",
       "      <td>0.535</td>\n",
       "      <td>5.0</td>\n",
       "      <td>-6.090</td>\n",
       "      <td>0.0</td>\n",
       "      <td>0.0898</td>\n",
       "      <td>0.1170</td>\n",
       "      <td>0.000066</td>\n",
       "      <td>0.131</td>\n",
       "      <td>0.140</td>\n",
       "      <td>159.847</td>\n",
       "      <td>218147.0</td>\n",
       "      <td>4.0</td>\n",
       "      <td>0</td>\n",
       "      <td>fast</td>\n",
       "      <td>0</td>\n",
       "    </tr>\n",
       "    <tr>\n",
       "      <th>3</th>\n",
       "      <td>3swc6WTsr7rl9DqQKQA55</td>\n",
       "      <td>Psycho (feat. Ty Dolla $ign)</td>\n",
       "      <td>Post Malone</td>\n",
       "      <td>0.739</td>\n",
       "      <td>0.559</td>\n",
       "      <td>8.0</td>\n",
       "      <td>-8.011</td>\n",
       "      <td>1.0</td>\n",
       "      <td>0.1170</td>\n",
       "      <td>0.5800</td>\n",
       "      <td>0.000000</td>\n",
       "      <td>0.112</td>\n",
       "      <td>0.439</td>\n",
       "      <td>140.124</td>\n",
       "      <td>221440.0</td>\n",
       "      <td>4.0</td>\n",
       "      <td>1</td>\n",
       "      <td>fast</td>\n",
       "      <td>1</td>\n",
       "    </tr>\n",
       "    <tr>\n",
       "      <th>4</th>\n",
       "      <td>2G7V7zsVDxg1yRsu7Ew9R</td>\n",
       "      <td>In My Feelings</td>\n",
       "      <td>Drake</td>\n",
       "      <td>0.835</td>\n",
       "      <td>0.626</td>\n",
       "      <td>1.0</td>\n",
       "      <td>-5.833</td>\n",
       "      <td>1.0</td>\n",
       "      <td>0.1250</td>\n",
       "      <td>0.0589</td>\n",
       "      <td>0.000060</td>\n",
       "      <td>0.396</td>\n",
       "      <td>0.350</td>\n",
       "      <td>91.030</td>\n",
       "      <td>217925.0</td>\n",
       "      <td>4.0</td>\n",
       "      <td>1</td>\n",
       "      <td>moderate</td>\n",
       "      <td>1</td>\n",
       "    </tr>\n",
       "  </tbody>\n",
       "</table>\n",
       "</div>"
      ],
      "text/plain": [
       "                      id                          name       artists  \\\n",
       "0  6DCZcSspjsKoFjzjrWoCd                    God's Plan         Drake   \n",
       "1  3ee8Jmje8o58CHK66QrVC                          SAD!  XXXTENTACION   \n",
       "2  0e7ipj03S05BNilyu5bRz    rockstar (feat. 21 Savage)   Post Malone   \n",
       "3  3swc6WTsr7rl9DqQKQA55  Psycho (feat. Ty Dolla $ign)   Post Malone   \n",
       "4  2G7V7zsVDxg1yRsu7Ew9R                In My Feelings         Drake   \n",
       "\n",
       "   danceability  energy  key  loudness  mode  speechiness  acousticness  \\\n",
       "0         0.754   0.449  7.0    -9.211   1.0       0.1090        0.0332   \n",
       "1         0.740   0.613  8.0    -4.880   1.0       0.1450        0.2580   \n",
       "2         0.587   0.535  5.0    -6.090   0.0       0.0898        0.1170   \n",
       "3         0.739   0.559  8.0    -8.011   1.0       0.1170        0.5800   \n",
       "4         0.835   0.626  1.0    -5.833   1.0       0.1250        0.0589   \n",
       "\n",
       "   instrumentalness  liveness  valence    tempo  duration_ms  time_signature  \\\n",
       "0          0.000083     0.552    0.357   77.169     198973.0             4.0   \n",
       "1          0.003720     0.123    0.473   75.023     166606.0             4.0   \n",
       "2          0.000066     0.131    0.140  159.847     218147.0             4.0   \n",
       "3          0.000000     0.112    0.439  140.124     221440.0             4.0   \n",
       "4          0.000060     0.396    0.350   91.030     217925.0             4.0   \n",
       "\n",
       "  dancebility_new tempo_rate popularity  \n",
       "0               1   moderate          1  \n",
       "1               1       slow          1  \n",
       "2               0       fast          0  \n",
       "3               1       fast          1  \n",
       "4               1   moderate          1  "
      ]
     },
     "execution_count": 61,
     "metadata": {},
     "output_type": "execute_result"
    }
   ],
   "source": [
    "df.head()"
   ]
  },
  {
   "cell_type": "code",
   "execution_count": null,
   "metadata": {},
   "outputs": [],
   "source": []
  },
  {
   "cell_type": "code",
   "execution_count": null,
   "metadata": {},
   "outputs": [],
   "source": []
  },
  {
   "cell_type": "code",
   "execution_count": null,
   "metadata": {},
   "outputs": [],
   "source": []
  },
  {
   "cell_type": "markdown",
   "metadata": {},
   "source": [
    "## correlation between features and popularity"
   ]
  },
  {
   "cell_type": "code",
   "execution_count": 62,
   "metadata": {},
   "outputs": [],
   "source": [
    "def draw(year,compare_col,color):\n",
    "    graph = sns.FacetGrid(df_new, col = \"popularity\")\n",
    "    graph.map(sns.distplot, compare_col, bins = 25,color=color)\n",
    "    return plt.show()"
   ]
  },
  {
   "cell_type": "code",
   "execution_count": 63,
   "metadata": {},
   "outputs": [
    {
     "data": {
      "image/png": "[encoded data removed]",
      "text/plain": [
       "<Figure size 432x216 with 2 Axes>"
      ]
     },
     "metadata": {
      "needs_background": "light"
     },
     "output_type": "display_data"
    },
    {
     "data": {
      "image/png": "[encoded data removed]",
      "text/plain": [
       "<Figure size 432x216 with 2 Axes>"
      ]
     },
     "metadata": {
      "needs_background": "light"
     },
     "output_type": "display_data"
    },
    {
     "data": {
      "image/png": "[encoded data removed]",
      "text/plain": [
       "<Figure size 432x216 with 2 Axes>"
      ]
     },
     "metadata": {
      "needs_background": "light"
     },
     "output_type": "display_data"
    },
    {
     "data": {
      "image/png": "[encoded data removed]",
      "text/plain": [
       "<Figure size 432x216 with 2 Axes>"
      ]
     },
     "metadata": {
      "needs_background": "light"
     },
     "output_type": "display_data"
    },
    {
     "data": {
      "image/png": "[encoded data removed]",
      "text/plain": [
       "<Figure size 432x216 with 2 Axes>"
      ]
     },
     "metadata": {
      "needs_background": "light"
     },
     "output_type": "display_data"
    }
   ],
   "source": [
    "draw(df_new,\"danceability\",\"b\")\n",
    "draw(df_new,\"acousticness\",\"r\")\n",
    "draw(df_new,\"loudness\",\"m\")\n",
    "draw(df_new,\"valence\",\"r\")\n",
    "draw(df_new,\"tempo\",\"y\")\n"
   ]
  },
  {
   "cell_type": "code",
   "execution_count": 64,
   "metadata": {},
   "outputs": [],
   "source": [
    "def concat_name_popularity():\n",
    "    popularity_data = pd.concat([df_new[\"name\"],df_new[\"popularity\"]],axis=1)\n",
    "    return popularity_data.head()"
   ]
  },
  {
   "cell_type": "code",
   "execution_count": 65,
   "metadata": {},
   "outputs": [
    {
     "data": {
      "text/html": [
       "<div>\n",
       "<style scoped>\n",
       "    .dataframe tbody tr th:only-of-type {\n",
       "        vertical-align: middle;\n",
       "    }\n",
       "\n",
       "    .dataframe tbody tr th {\n",
       "        vertical-align: top;\n",
       "    }\n",
       "\n",
       "    .dataframe thead th {\n",
       "        text-align: right;\n",
       "    }\n",
       "</style>\n",
       "<table border=\"1\" class=\"dataframe\">\n",
       "  <thead>\n",
       "    <tr style=\"text-align: right;\">\n",
       "      <th></th>\n",
       "      <th>name</th>\n",
       "      <th>popularity</th>\n",
       "    </tr>\n",
       "  </thead>\n",
       "  <tbody>\n",
       "    <tr>\n",
       "      <th>0</th>\n",
       "      <td>God's Plan</td>\n",
       "      <td>1</td>\n",
       "    </tr>\n",
       "    <tr>\n",
       "      <th>1</th>\n",
       "      <td>SAD!</td>\n",
       "      <td>1</td>\n",
       "    </tr>\n",
       "    <tr>\n",
       "      <th>2</th>\n",
       "      <td>rockstar (feat. 21 Savage)</td>\n",
       "      <td>0</td>\n",
       "    </tr>\n",
       "    <tr>\n",
       "      <th>3</th>\n",
       "      <td>Psycho (feat. Ty Dolla $ign)</td>\n",
       "      <td>1</td>\n",
       "    </tr>\n",
       "    <tr>\n",
       "      <th>4</th>\n",
       "      <td>In My Feelings</td>\n",
       "      <td>1</td>\n",
       "    </tr>\n",
       "  </tbody>\n",
       "</table>\n",
       "</div>"
      ],
      "text/plain": [
       "                           name  popularity\n",
       "0                    God's Plan           1\n",
       "1                          SAD!           1\n",
       "2    rockstar (feat. 21 Savage)           0\n",
       "3  Psycho (feat. Ty Dolla $ign)           1\n",
       "4                In My Feelings           1"
      ]
     },
     "execution_count": 65,
     "metadata": {},
     "output_type": "execute_result"
    }
   ],
   "source": [
    "concat_name_popularity()"
   ]
  },
  {
   "cell_type": "markdown",
   "metadata": {},
   "source": [
    "# calculating scores"
   ]
  },
  {
   "cell_type": "markdown",
   "metadata": {},
   "source": [
    "## data preparation "
   ]
  },
  {
   "cell_type": "code",
   "execution_count": 66,
   "metadata": {},
   "outputs": [],
   "source": [
    "df_final=df_new.copy()"
   ]
  },
  {
   "cell_type": "code",
   "execution_count": 67,
   "metadata": {},
   "outputs": [],
   "source": [
    "\n",
    "def drop():\n",
    "    \n",
    "    df_final.drop([\"id\",\"name\",\"artists\",\"tempo_rate\",\"dancebility_new\"],axis=1,inplace=True)\n",
    "    return df_final.columns\n"
   ]
  },
  {
   "cell_type": "code",
   "execution_count": 68,
   "metadata": {},
   "outputs": [
    {
     "data": {
      "text/plain": [
       "Index(['danceability', 'energy', 'key', 'loudness', 'mode', 'speechiness',\n",
       "       'acousticness', 'instrumentalness', 'liveness', 'valence', 'tempo',\n",
       "       'duration_ms', 'time_signature', 'popularity'],\n",
       "      dtype='object')"
      ]
     },
     "execution_count": 68,
     "metadata": {},
     "output_type": "execute_result"
    }
   ],
   "source": [
    "drop()"
   ]
  },
  {
   "cell_type": "code",
   "execution_count": 69,
   "metadata": {},
   "outputs": [],
   "source": [
    "def cateogarize_keys():\n",
    "    global df_final\n",
    "    df_final[\"key\"] = df_final[\"key\"].astype(\"category\")\n",
    "    df_final = pd.get_dummies(df_final, columns=[\"key\"])\n",
    "    return df_final.head()\n"
   ]
  },
  {
   "cell_type": "code",
   "execution_count": 70,
   "metadata": {},
   "outputs": [
    {
     "data": {
      "text/html": [
       "<div>\n",
       "<style scoped>\n",
       "    .dataframe tbody tr th:only-of-type {\n",
       "        vertical-align: middle;\n",
       "    }\n",
       "\n",
       "    .dataframe tbody tr th {\n",
       "        vertical-align: top;\n",
       "    }\n",
       "\n",
       "    .dataframe thead th {\n",
       "        text-align: right;\n",
       "    }\n",
       "</style>\n",
       "<table border=\"1\" class=\"dataframe\">\n",
       "  <thead>\n",
       "    <tr style=\"text-align: right;\">\n",
       "      <th></th>\n",
       "      <th>danceability</th>\n",
       "      <th>energy</th>\n",
       "      <th>loudness</th>\n",
       "      <th>mode</th>\n",
       "      <th>speechiness</th>\n",
       "      <th>acousticness</th>\n",
       "      <th>instrumentalness</th>\n",
       "      <th>liveness</th>\n",
       "      <th>valence</th>\n",
       "      <th>tempo</th>\n",
       "      <th>...</th>\n",
       "      <th>key_2.0</th>\n",
       "      <th>key_3.0</th>\n",
       "      <th>key_4.0</th>\n",
       "      <th>key_5.0</th>\n",
       "      <th>key_6.0</th>\n",
       "      <th>key_7.0</th>\n",
       "      <th>key_8.0</th>\n",
       "      <th>key_9.0</th>\n",
       "      <th>key_10.0</th>\n",
       "      <th>key_11.0</th>\n",
       "    </tr>\n",
       "  </thead>\n",
       "  <tbody>\n",
       "    <tr>\n",
       "      <th>0</th>\n",
       "      <td>0.754</td>\n",
       "      <td>0.449</td>\n",
       "      <td>-9.211</td>\n",
       "      <td>1.0</td>\n",
       "      <td>0.1090</td>\n",
       "      <td>0.0332</td>\n",
       "      <td>0.000083</td>\n",
       "      <td>0.552</td>\n",
       "      <td>0.357</td>\n",
       "      <td>77.169</td>\n",
       "      <td>...</td>\n",
       "      <td>0</td>\n",
       "      <td>0</td>\n",
       "      <td>0</td>\n",
       "      <td>0</td>\n",
       "      <td>0</td>\n",
       "      <td>1</td>\n",
       "      <td>0</td>\n",
       "      <td>0</td>\n",
       "      <td>0</td>\n",
       "      <td>0</td>\n",
       "    </tr>\n",
       "    <tr>\n",
       "      <th>1</th>\n",
       "      <td>0.740</td>\n",
       "      <td>0.613</td>\n",
       "      <td>-4.880</td>\n",
       "      <td>1.0</td>\n",
       "      <td>0.1450</td>\n",
       "      <td>0.2580</td>\n",
       "      <td>0.003720</td>\n",
       "      <td>0.123</td>\n",
       "      <td>0.473</td>\n",
       "      <td>75.023</td>\n",
       "      <td>...</td>\n",
       "      <td>0</td>\n",
       "      <td>0</td>\n",
       "      <td>0</td>\n",
       "      <td>0</td>\n",
       "      <td>0</td>\n",
       "      <td>0</td>\n",
       "      <td>1</td>\n",
       "      <td>0</td>\n",
       "      <td>0</td>\n",
       "      <td>0</td>\n",
       "    </tr>\n",
       "    <tr>\n",
       "      <th>2</th>\n",
       "      <td>0.587</td>\n",
       "      <td>0.535</td>\n",
       "      <td>-6.090</td>\n",
       "      <td>0.0</td>\n",
       "      <td>0.0898</td>\n",
       "      <td>0.1170</td>\n",
       "      <td>0.000066</td>\n",
       "      <td>0.131</td>\n",
       "      <td>0.140</td>\n",
       "      <td>159.847</td>\n",
       "      <td>...</td>\n",
       "      <td>0</td>\n",
       "      <td>0</td>\n",
       "      <td>0</td>\n",
       "      <td>1</td>\n",
       "      <td>0</td>\n",
       "      <td>0</td>\n",
       "      <td>0</td>\n",
       "      <td>0</td>\n",
       "      <td>0</td>\n",
       "      <td>0</td>\n",
       "    </tr>\n",
       "    <tr>\n",
       "      <th>3</th>\n",
       "      <td>0.739</td>\n",
       "      <td>0.559</td>\n",
       "      <td>-8.011</td>\n",
       "      <td>1.0</td>\n",
       "      <td>0.1170</td>\n",
       "      <td>0.5800</td>\n",
       "      <td>0.000000</td>\n",
       "      <td>0.112</td>\n",
       "      <td>0.439</td>\n",
       "      <td>140.124</td>\n",
       "      <td>...</td>\n",
       "      <td>0</td>\n",
       "      <td>0</td>\n",
       "      <td>0</td>\n",
       "      <td>0</td>\n",
       "      <td>0</td>\n",
       "      <td>0</td>\n",
       "      <td>1</td>\n",
       "      <td>0</td>\n",
       "      <td>0</td>\n",
       "      <td>0</td>\n",
       "    </tr>\n",
       "    <tr>\n",
       "      <th>4</th>\n",
       "      <td>0.835</td>\n",
       "      <td>0.626</td>\n",
       "      <td>-5.833</td>\n",
       "      <td>1.0</td>\n",
       "      <td>0.1250</td>\n",
       "      <td>0.0589</td>\n",
       "      <td>0.000060</td>\n",
       "      <td>0.396</td>\n",
       "      <td>0.350</td>\n",
       "      <td>91.030</td>\n",
       "      <td>...</td>\n",
       "      <td>0</td>\n",
       "      <td>0</td>\n",
       "      <td>0</td>\n",
       "      <td>0</td>\n",
       "      <td>0</td>\n",
       "      <td>0</td>\n",
       "      <td>0</td>\n",
       "      <td>0</td>\n",
       "      <td>0</td>\n",
       "      <td>0</td>\n",
       "    </tr>\n",
       "  </tbody>\n",
       "</table>\n",
       "<p>5 rows × 25 columns</p>\n",
       "</div>"
      ],
      "text/plain": [
       "   danceability  energy  loudness  mode  speechiness  acousticness  \\\n",
       "0         0.754   0.449    -9.211   1.0       0.1090        0.0332   \n",
       "1         0.740   0.613    -4.880   1.0       0.1450        0.2580   \n",
       "2         0.587   0.535    -6.090   0.0       0.0898        0.1170   \n",
       "3         0.739   0.559    -8.011   1.0       0.1170        0.5800   \n",
       "4         0.835   0.626    -5.833   1.0       0.1250        0.0589   \n",
       "\n",
       "   instrumentalness  liveness  valence    tempo  ...  key_2.0  key_3.0  \\\n",
       "0          0.000083     0.552    0.357   77.169  ...        0        0   \n",
       "1          0.003720     0.123    0.473   75.023  ...        0        0   \n",
       "2          0.000066     0.131    0.140  159.847  ...        0        0   \n",
       "3          0.000000     0.112    0.439  140.124  ...        0        0   \n",
       "4          0.000060     0.396    0.350   91.030  ...        0        0   \n",
       "\n",
       "   key_4.0  key_5.0  key_6.0  key_7.0  key_8.0  key_9.0  key_10.0  key_11.0  \n",
       "0        0        0        0        1        0        0         0         0  \n",
       "1        0        0        0        0        1        0         0         0  \n",
       "2        0        1        0        0        0        0         0         0  \n",
       "3        0        0        0        0        1        0         0         0  \n",
       "4        0        0        0        0        0        0         0         0  \n",
       "\n",
       "[5 rows x 25 columns]"
      ]
     },
     "execution_count": 70,
     "metadata": {},
     "output_type": "execute_result"
    }
   ],
   "source": [
    "cateogarize_keys()"
   ]
  },
  {
   "cell_type": "code",
   "execution_count": 71,
   "metadata": {},
   "outputs": [],
   "source": [
    "def cateogarize_time():\n",
    "    global df_final\n",
    "    df_final[\"time_signature\"] = df_final[\"time_signature\"].astype(\"category\")\n",
    "    df_final = pd.get_dummies(df_final, columns=[\"time_signature\"])\n",
    "    return df_final.head()"
   ]
  },
  {
   "cell_type": "code",
   "execution_count": 72,
   "metadata": {},
   "outputs": [
    {
     "data": {
      "text/html": [
       "<div>\n",
       "<style scoped>\n",
       "    .dataframe tbody tr th:only-of-type {\n",
       "        vertical-align: middle;\n",
       "    }\n",
       "\n",
       "    .dataframe tbody tr th {\n",
       "        vertical-align: top;\n",
       "    }\n",
       "\n",
       "    .dataframe thead th {\n",
       "        text-align: right;\n",
       "    }\n",
       "</style>\n",
       "<table border=\"1\" class=\"dataframe\">\n",
       "  <thead>\n",
       "    <tr style=\"text-align: right;\">\n",
       "      <th></th>\n",
       "      <th>danceability</th>\n",
       "      <th>energy</th>\n",
       "      <th>loudness</th>\n",
       "      <th>mode</th>\n",
       "      <th>speechiness</th>\n",
       "      <th>acousticness</th>\n",
       "      <th>instrumentalness</th>\n",
       "      <th>liveness</th>\n",
       "      <th>valence</th>\n",
       "      <th>tempo</th>\n",
       "      <th>...</th>\n",
       "      <th>key_5.0</th>\n",
       "      <th>key_6.0</th>\n",
       "      <th>key_7.0</th>\n",
       "      <th>key_8.0</th>\n",
       "      <th>key_9.0</th>\n",
       "      <th>key_10.0</th>\n",
       "      <th>key_11.0</th>\n",
       "      <th>time_signature_3.0</th>\n",
       "      <th>time_signature_4.0</th>\n",
       "      <th>time_signature_5.0</th>\n",
       "    </tr>\n",
       "  </thead>\n",
       "  <tbody>\n",
       "    <tr>\n",
       "      <th>0</th>\n",
       "      <td>0.754</td>\n",
       "      <td>0.449</td>\n",
       "      <td>-9.211</td>\n",
       "      <td>1.0</td>\n",
       "      <td>0.1090</td>\n",
       "      <td>0.0332</td>\n",
       "      <td>0.000083</td>\n",
       "      <td>0.552</td>\n",
       "      <td>0.357</td>\n",
       "      <td>77.169</td>\n",
       "      <td>...</td>\n",
       "      <td>0</td>\n",
       "      <td>0</td>\n",
       "      <td>1</td>\n",
       "      <td>0</td>\n",
       "      <td>0</td>\n",
       "      <td>0</td>\n",
       "      <td>0</td>\n",
       "      <td>0</td>\n",
       "      <td>1</td>\n",
       "      <td>0</td>\n",
       "    </tr>\n",
       "    <tr>\n",
       "      <th>1</th>\n",
       "      <td>0.740</td>\n",
       "      <td>0.613</td>\n",
       "      <td>-4.880</td>\n",
       "      <td>1.0</td>\n",
       "      <td>0.1450</td>\n",
       "      <td>0.2580</td>\n",
       "      <td>0.003720</td>\n",
       "      <td>0.123</td>\n",
       "      <td>0.473</td>\n",
       "      <td>75.023</td>\n",
       "      <td>...</td>\n",
       "      <td>0</td>\n",
       "      <td>0</td>\n",
       "      <td>0</td>\n",
       "      <td>1</td>\n",
       "      <td>0</td>\n",
       "      <td>0</td>\n",
       "      <td>0</td>\n",
       "      <td>0</td>\n",
       "      <td>1</td>\n",
       "      <td>0</td>\n",
       "    </tr>\n",
       "    <tr>\n",
       "      <th>2</th>\n",
       "      <td>0.587</td>\n",
       "      <td>0.535</td>\n",
       "      <td>-6.090</td>\n",
       "      <td>0.0</td>\n",
       "      <td>0.0898</td>\n",
       "      <td>0.1170</td>\n",
       "      <td>0.000066</td>\n",
       "      <td>0.131</td>\n",
       "      <td>0.140</td>\n",
       "      <td>159.847</td>\n",
       "      <td>...</td>\n",
       "      <td>1</td>\n",
       "      <td>0</td>\n",
       "      <td>0</td>\n",
       "      <td>0</td>\n",
       "      <td>0</td>\n",
       "      <td>0</td>\n",
       "      <td>0</td>\n",
       "      <td>0</td>\n",
       "      <td>1</td>\n",
       "      <td>0</td>\n",
       "    </tr>\n",
       "    <tr>\n",
       "      <th>3</th>\n",
       "      <td>0.739</td>\n",
       "      <td>0.559</td>\n",
       "      <td>-8.011</td>\n",
       "      <td>1.0</td>\n",
       "      <td>0.1170</td>\n",
       "      <td>0.5800</td>\n",
       "      <td>0.000000</td>\n",
       "      <td>0.112</td>\n",
       "      <td>0.439</td>\n",
       "      <td>140.124</td>\n",
       "      <td>...</td>\n",
       "      <td>0</td>\n",
       "      <td>0</td>\n",
       "      <td>0</td>\n",
       "      <td>1</td>\n",
       "      <td>0</td>\n",
       "      <td>0</td>\n",
       "      <td>0</td>\n",
       "      <td>0</td>\n",
       "      <td>1</td>\n",
       "      <td>0</td>\n",
       "    </tr>\n",
       "    <tr>\n",
       "      <th>4</th>\n",
       "      <td>0.835</td>\n",
       "      <td>0.626</td>\n",
       "      <td>-5.833</td>\n",
       "      <td>1.0</td>\n",
       "      <td>0.1250</td>\n",
       "      <td>0.0589</td>\n",
       "      <td>0.000060</td>\n",
       "      <td>0.396</td>\n",
       "      <td>0.350</td>\n",
       "      <td>91.030</td>\n",
       "      <td>...</td>\n",
       "      <td>0</td>\n",
       "      <td>0</td>\n",
       "      <td>0</td>\n",
       "      <td>0</td>\n",
       "      <td>0</td>\n",
       "      <td>0</td>\n",
       "      <td>0</td>\n",
       "      <td>0</td>\n",
       "      <td>1</td>\n",
       "      <td>0</td>\n",
       "    </tr>\n",
       "  </tbody>\n",
       "</table>\n",
       "<p>5 rows × 27 columns</p>\n",
       "</div>"
      ],
      "text/plain": [
       "   danceability  energy  loudness  mode  speechiness  acousticness  \\\n",
       "0         0.754   0.449    -9.211   1.0       0.1090        0.0332   \n",
       "1         0.740   0.613    -4.880   1.0       0.1450        0.2580   \n",
       "2         0.587   0.535    -6.090   0.0       0.0898        0.1170   \n",
       "3         0.739   0.559    -8.011   1.0       0.1170        0.5800   \n",
       "4         0.835   0.626    -5.833   1.0       0.1250        0.0589   \n",
       "\n",
       "   instrumentalness  liveness  valence    tempo  ...  key_5.0  key_6.0  \\\n",
       "0          0.000083     0.552    0.357   77.169  ...        0        0   \n",
       "1          0.003720     0.123    0.473   75.023  ...        0        0   \n",
       "2          0.000066     0.131    0.140  159.847  ...        1        0   \n",
       "3          0.000000     0.112    0.439  140.124  ...        0        0   \n",
       "4          0.000060     0.396    0.350   91.030  ...        0        0   \n",
       "\n",
       "   key_7.0  key_8.0  key_9.0  key_10.0  key_11.0  time_signature_3.0  \\\n",
       "0        1        0        0         0         0                   0   \n",
       "1        0        1        0         0         0                   0   \n",
       "2        0        0        0         0         0                   0   \n",
       "3        0        1        0         0         0                   0   \n",
       "4        0        0        0         0         0                   0   \n",
       "\n",
       "   time_signature_4.0  time_signature_5.0  \n",
       "0                   1                   0  \n",
       "1                   1                   0  \n",
       "2                   1                   0  \n",
       "3                   1                   0  \n",
       "4                   1                   0  \n",
       "\n",
       "[5 rows x 27 columns]"
      ]
     },
     "execution_count": 72,
     "metadata": {},
     "output_type": "execute_result"
    }
   ],
   "source": [
    "cateogarize_time()"
   ]
  },
  {
   "cell_type": "code",
   "execution_count": 73,
   "metadata": {},
   "outputs": [],
   "source": [
    "def change_datatype(var):\n",
    "    df_final[var] = df_final[var].astype(int)\n",
    "    \n",
    "columns= [\"key_0.0\",\"key_1.0\",\"key_2.0\",\n",
    "         \"key_3.0\",\"key_4.0\",\"key_5.0\",\"key_6.0\",\"key_7.0\",\"key_8.0\",\"key_9.0\",\"key_10.0\",\"key_11.0\",\"time_signature_3.0\",\"time_signature_4.0\"]\n",
    "for column in columns:\n",
    "    change_datatype(column)\n",
    "    "
   ]
  },
  {
   "cell_type": "code",
   "execution_count": 74,
   "metadata": {},
   "outputs": [],
   "source": [
    "def load_data():\n",
    "    \n",
    "    y = df_final[\"popularity\"].values\n",
    "    X = df_final.drop([\"popularity\"],axis=1)\n",
    "    return X,y\n",
    "X,y =load_data()\n",
    "\n",
    "feature_cols = X.columns.to_list()"
   ]
  },
  {
   "cell_type": "markdown",
   "metadata": {},
   "source": [
    "*NOTE*:There is not a great  linear correlations in our data So, Decision Tree algorithms will give  better results as compared to linear regression models. Therefore using  Random Forest \n",
    " "
   ]
  },
  {
   "cell_type": "code",
   "execution_count": 75,
   "metadata": {},
   "outputs": [
    {
     "name": "stdout",
     "output_type": "stream",
     "text": [
      "X_train:  (40, 26)\n",
      "X_test:  (60, 26)\n",
      "y_train:  (40,)\n",
      "y_test:  (60,)\n"
     ]
    }
   ],
   "source": [
    "\n",
    "#x_data=X\n",
    "X,y = load_data()\n",
    "X_train, X_test, y_train, y_test = train_test_split(X,y,test_size = 0.6)\n",
    "# X_train = X_train.T\n",
    "# X_test = X_test.T\n",
    "X_train=X_train[:None]\n",
    "X_test=X_test[:None]\n",
    "y_train = y_train.astype(int).T\n",
    "y_test = y_test.astype(int).T\n",
    "print(\"X_train: \",X_train.shape)\n",
    "print(\"X_test: \",X_test.shape)\n",
    "print(\"y_train: \",y_train.shape)\n",
    "print(\"y_test: \",y_test.shape)\n"
   ]
  },
  {
   "cell_type": "markdown",
   "metadata": {},
   "source": [
    "## xgb  top features -for validating  our  hypothesis"
   ]
  },
  {
   "cell_type": "markdown",
   "metadata": {},
   "source": [
    "So after our popularity distributiona and 3d modelling based on pca.Now further we diecided to .Test if our hypothesis features as top ranking as per our eda  are similar\n",
    "when compared to a very standard feature ranking algorithm like XGBoosting for feature engineering .And the outcome was we had our hypothesis prooved very accurate in terms of best features conributing for a song to  be in the top position. "
   ]
  },
  {
   "cell_type": "code",
   "execution_count": 76,
   "metadata": {},
   "outputs": [],
   "source": [
    "def plot_impfeature():\n",
    "    xgb = XGBClassifier()\n",
    "    xgb.fit(X_train, y_train)\n",
    "    ax = plot_importance(xgb,color=\"r\", height=0.15,\n",
    "                         title='  Features Importance ', xlabel='Feature score', ylabel='Features',\n",
    "                         importance_type='weight'\n",
    "                        )\n",
    "\n",
    "    return plt.show()\n",
    "\n",
    "\n"
   ]
  },
  {
   "cell_type": "code",
   "execution_count": 77,
   "metadata": {},
   "outputs": [
    {
     "data": {
      "image/png": "[encoded data removed]",
      "text/plain": [
       "<Figure size 432x288 with 1 Axes>"
      ]
     },
     "metadata": {
      "needs_background": "light"
     },
     "output_type": "display_data"
    }
   ],
   "source": [
    "plot_impfeature()"
   ]
  },
  {
   "cell_type": "markdown",
   "metadata": {},
   "source": [
    "##### The above graph assure that :\n",
    "-  Our proposed ranked features turned out to be  most important for this data  \n",
    "-  Example: we calculated features like :dancebility ,energy,loudness ets of most importance.And hence thus turned out true."
   ]
  },
  {
   "cell_type": "code",
   "execution_count": 78,
   "metadata": {},
   "outputs": [],
   "source": [
    "def calculate_scores():\n",
    "    rf=RandomForestClassifier(random_state = 3)\n",
    "    rf.fit(X_train,y_train)\n",
    "\n",
    "    print(\"Train accuracy \",rf.score(X_train,y_train))\n",
    "    print(\"Test accuracy \",rf.score(X_test,y_test))\n",
    "\n",
    "    RandomForestClassifier_score=rf.score(X_test,y_test)\n",
    "    y_pred=rf.predict(X_test)\n",
    "    t_true=y_test"
   ]
  },
  {
   "cell_type": "code",
   "execution_count": 79,
   "metadata": {},
   "outputs": [
    {
     "name": "stdout",
     "output_type": "stream",
     "text": [
      "Train accuracy  1.0\n",
      "Test accuracy  0.95\n"
     ]
    }
   ],
   "source": [
    "calculate_scores()"
   ]
  },
  {
   "cell_type": "markdown",
   "metadata": {},
   "source": [
    "# validating model "
   ]
  },
  {
   "cell_type": "markdown",
   "metadata": {},
   "source": [
    "## plot loudness t-SNE"
   ]
  },
  {
   "cell_type": "code",
   "execution_count": null,
   "metadata": {},
   "outputs": [],
   "source": []
  },
  {
   "cell_type": "code",
   "execution_count": 80,
   "metadata": {},
   "outputs": [],
   "source": [
    "def plot_pca_scaler(y,dataframe):\n",
    "    features = [\"energy\", \"liveness\", \"tempo\", \"valence\", \"loudness\",\"danceability\"]\n",
    "\n",
    "    text1 = dataframe[\"artists\"] + \" - \" + dataframe[\"name\"]\n",
    "    text2 = text1.values\n",
    "    \n",
    "    X = dataframe[features].values\n",
    "    y = dataframe[y].values\n",
    "\n",
    "    minmaxscaler = MinMaxScaler()\n",
    "    X = minmaxscaler.fit_transform(X)\n",
    "\n",
    "    print('t-SNE starting.................')\n",
    "    tsne = TSNE(n_components=3, verbose=1, perplexity=40, n_iter=300)\n",
    "    tsne_results = tsne.fit_transform(X)\n",
    "\n",
    "    print('......................t-SNE done')\n",
    "\n",
    "    fig = {\n",
    "        \"data\": [\n",
    "            {\n",
    "                \"x\": tsne_results[:, 0],\n",
    "                \"y\": tsne_results[:, 1],\n",
    "                \"text\": text2,\n",
    "                \"mode\": \"markers\",\n",
    "                \"marker\": {\"size\": 8, \"color\": y}\n",
    "            }\n",
    "        ],\n",
    "        \"layout\": {\n",
    "            \"xaxis\": {\"title\": \"x-tsne\"},\n",
    "            \"yaxis\": {\"title\": \"y-tsne\"}\n",
    "        }\n",
    "    }\n",
    "\n",
    "    return py.iplot(fig, filename=\"amit\")"
   ]
  },
  {
   "cell_type": "code",
   "execution_count": 81,
   "metadata": {},
   "outputs": [
    {
     "name": "stdout",
     "output_type": "stream",
     "text": [
      "t-SNE starting.................\n",
      "[t-SNE] Computing 99 nearest neighbors...\n",
      "[t-SNE] Indexed 100 samples in 0.000s...\n",
      "[t-SNE] Computed neighbors for 100 samples in 0.000s...\n",
      "[t-SNE] Computed conditional probabilities for sample 100 / 100\n",
      "[t-SNE] Mean sigma: 0.331982\n",
      "[t-SNE] KL divergence after 250 iterations with early exaggeration: 107.247330\n",
      "[t-SNE] KL divergence after 300 iterations: 2.271669\n",
      "......................t-SNE done\n"
     ]
    },
    {
     "data": {
      "application/vnd.plotly.v1+json": {
       "config": {
        "linkText": "Export to plot.ly",
        "plotlyServerURL": "https://plot.ly",
        "showLink": false
       },
       "data": [
        {
         "marker": {
          "color": [
           -9.211,
           -4.88,
           -6.09,
           -8.011000000000001,
           -5.832999999999999,
           -5.843,
           -3.998,
           -3.24,
           -5.975,
           -2.384,
           -4.333,
           -7.23,
           -6.474,
           -6.825,
           -3.0610000000000004,
           -4.946000000000001,
           -5.507000000000001,
           -4.736000000000001,
           -5.723,
           -7.495,
           -4.0569999999999995,
           -3.445,
           -3.8739999999999997,
           -5.114,
           -6.021,
           -3.1830000000000003,
           -5.626,
           -6.61,
           -9.144,
           -6.312,
           -7.442,
           -4.546,
           -5.4079999999999995,
           -8.354,
           -3.655,
           -7.648,
           -4.333,
           -4.59,
           -10.068,
           -5.335,
           -5.916,
           -3.4560000000000004,
           -3.714,
           -4.833,
           -4.449,
           -2.867,
           -4.877,
           -4.856,
           -5.665,
           -4.928999999999999,
           -8.28,
           -2.7489999999999997,
           -8.279,
           -5.042,
           -4.374,
           -9.127,
           -4.65,
           -4.399,
           -6.3660000000000005,
           -3.695,
           -2.8810000000000002,
           -8.074,
           -9.74,
           -7.321000000000001,
           -3.093,
           -5.934,
           -4.323,
           -5.892,
           -5.131,
           -4.206,
           -4.154,
           -5.115,
           -4.979,
           -5.456,
           -6.343,
           -5.944,
           -4.183,
           -3.112,
           -3.023,
           -6.531000000000001,
           -10.109,
           -5.474,
           -6.638,
           -4.249,
           -7.365,
           -6.0729999999999995,
           -6.351,
           -7.11,
           -4.985,
           -6.688,
           -5.9910000000000005,
           -9.309,
           -7.621,
           -7.276,
           -7.066,
           -7.005,
           -6.318,
           -4.706,
           -6.593,
           -6.319
          ],
          "size": 8
         },
         "mode": "markers",
         "text": [
          "Drake - God's Plan",
          "XXXTENTACION - SAD!",
          "Post Malone - rockstar (feat. 21 Savage)",
          "Post Malone - Psycho (feat. Ty Dolla $ign)",
          "Drake - In My Feelings",
          "Post Malone - Better Now",
          "Cardi B - I Like It",
          "Calvin Harris - One Kiss (with Dua Lipa)",
          "Dua Lipa - IDGAF",
          "Marshmello - FRIENDS",
          "Camila Cabello - Havana",
          "Juice WRLD - Lucid Dreams",
          "Drake - Nice For What",
          "Maroon 5 - Girls Like You (feat. Cardi B)",
          "Zedd - The Middle",
          "Kendrick Lamar - All The Stars (with SZA)",
          "Ariana Grande - no tears left to cry",
          "Nicky Jam - X",
          "XXXTENTACION - Moonlight",
          "BlocBoy JB - Look Alive (feat. Drake)",
          "Rudimental - These Days (feat. Jess Glynne, Macklemore & Dan Caplen)",
          "Nio Garcia - Te Bot? - Remix",
          "Bazzi - Mine",
          "5 Seconds of Summer - Youngblood",
          "Dua Lipa - New Rules",
          "Ed Sheeran - Shape of You",
          "Khalid - Love Lies (with Normani)",
          "Bebe Rexha - Meant to Be (feat. Florida Georgia Line)",
          "XXXTENTACION - Jocelyn Flores",
          "Ed Sheeran - Perfect",
          "Tyga - Taste (feat. Offset)",
          "Clean Bandit - Solo (feat. Demi Lovato)",
          "Post Malone - I Fall Apart",
          "Dennis Lloyd - Nevermind",
          "Luis Fonsi - ?chame La Culpa",
          "benny blanco - Eastside (with Halsey & Khalid)",
          "Camila Cabello - Never Be the Same",
          "Selena Gomez - Wolves",
          "XXXTENTACION - changes",
          "Dynoro - In My Mind",
          "Eminem - River (feat. Ed Sheeran)",
          "Daddy Yankee - Dura",
          "Travis Scott - SICKO MODE",
          "Imagine Dragons - Thunder",
          "Reik - Me Niego",
          "Ti?sto - Jackie Chan",
          "Bruno Mars - Finesse (Remix) [feat. Cardi B]",
          "Selena Gomez - Back To You - From 13 Reasons Why ? Season 2 Soundtrack",
          "NF - Let You Down",
          "The Weeknd - Call Out My Name",
          "Offset - Ric Flair Drip (& Metro Boomin)",
          "Marshmello - Happier",
          "Sam Smith - Too Good At Goodbyes",
          "Lil Dicky - Freaky Friday (feat. Chris Brown)",
          "Imagine Dragons - Believer",
          "6ix9ine - FEFE (feat. Nicki Minaj & Murda Beatz)",
          "Jonas Blue - Rise",
          "Loud Luxury - Body (feat. brando)",
          "Lil Uzi Vert - XO TOUR Llif3",
          "Becky G - Sin Pijama",
          "Anne-Marie - 2002",
          "Drake - Nonstop",
          "XXXTENTACION - Fuck Love (feat. Trippie Redd)",
          "Shawn Mendes - In My Blood",
          "Marshmello - Silence",
          "Ariana Grande - God is a woman",
          "Piso 21 - D?jala que vuelva (feat. Manuel Turizo)",
          "David Guetta - Flames",
          "Maroon 5 - What Lovers Do",
          "DJ Snake - Taki Taki (with Selena Gomez, Ozuna & Cardi B)",
          "Hailee Steinfeld - Let Me Go (with Alesso, Florida Georgia Line & watt)",
          "Portugal. The Man - Feel It Still",
          "The Weeknd - Pray For Me (with Kendrick Lamar)",
          "Migos - Walk It Talk It",
          "G-Eazy - Him & I (with Halsey)",
          "Post Malone - Candy Paint",
          "Post Malone - Congratulations",
          "Sofia Reyes - 1, 2, 3 (feat. Jason Derulo & De La Ghetto)",
          "Natti Natasha - Criminal",
          "Rich The Kid - Plug Walk",
          "Billie Eilish - lovely (with Khalid)",
          "Migos - Stir Fry",
          "Kendrick Lamar - HUMBLE.",
          "Ozuna - Vaina Loca",
          "Ed Sheeran - Perfect Duet (Ed Sheeran & Beyonc?)",
          "Maluma - Coraz?n (feat. Nego do Borel)",
          "Khalid - Young Dumb & Broke",
          "Ozuna - S?guelo Bailando",
          "Anitta - Downtown",
          "Wolfine - Bella",
          "Calvin Harris - Promises (with Sam Smith)",
          "Lil Baby - Yes Indeed",
          "Lauv - I Like Me Better",
          "Keala Settle - This Is Me",
          "XXXTENTACION - Everybody Dies In Their Nightmares",
          "Zac Efron - Rewrite The Stars",
          "Clean Bandit - I Miss You (feat. Julia Michaels)",
          "DJ Khaled - No Brainer",
          "ZAYN - Dusk Till Dawn - Radio Edit",
          "Dean Lewis - Be Alright"
         ],
         "type": "scatter",
         "x": [
          26.40337562561035,
          -23.876583099365234,
          31.10687828063965,
          31.402936935424805,
          17.280454635620117,
          -4.1310529708862305,
          -41.84188461303711,
          -21.4915771484375,
          2.210946559906006,
          -28.74180030822754,
          2.9051060676574707,
          4.097258567810059,
          -9.145071029663086,
          33.31325912475586,
          34.39170455932617,
          40.652679443359375,
          99.57273864746094,
          -28.877349853515625,
          -84.18054962158203,
          7.34110164642334,
          -2.2404072284698486,
          -14.59442138671875,
          11.388089179992676,
          -7.033718109130859,
          22.896413803100586,
          -4.852663993835449,
          -38.657470703125,
          33.27471160888672,
          -30.945165634155273,
          -6.2610955238342285,
          51.569000244140625,
          38.518245697021484,
          -39.69025421142578,
          -9.966117858886719,
          5.912285804748535,
          19.080110549926758,
          21.69166374206543,
          7.70658016204834,
          -8.977807998657227,
          55.560752868652344,
          -5.763044834136963,
          17.655946731567383,
          3.036458969116211,
          -12.981734275817871,
          -27.719470977783203,
          -12.74195671081543,
          9.692634582519531,
          -13.610038757324219,
          43.2198486328125,
          22.678672790527344,
          -1.0885754823684692,
          12.479477882385254,
          -28.826068878173828,
          -22.154897689819336,
          52.287757873535156,
          5.988347053527832,
          -109.56266021728516,
          -24.975475311279297,
          2.707630157470703,
          17.70819091796875,
          -59.357120513916016,
          -10.50127124786377,
          21.29537010192871,
          -44.68115234375,
          12.26793098449707,
          -1.623434066772461,
          -26.872310638427734,
          0.1578209102153778,
          -224.9617462158203,
          -11.610326766967773,
          -4.325179100036621,
          -25.316726684570312,
          9.40557861328125,
          -8.122084617614746,
          -10.740280151367188,
          21.643714904785156,
          -3.249911308288574,
          9.676264762878418,
          28.550214767456055,
          14.40965747833252,
          -6.523823261260986,
          -24.149877548217773,
          -101.36695861816406,
          18.16221046447754,
          4.902179718017578,
          -29.808549880981445,
          -21.948522567749023,
          -14.462109565734863,
          58.99470138549805,
          26.335609436035156,
          -21.829809188842773,
          -2.1927192211151123,
          -9.96787166595459,
          14.218423843383789,
          29.999553680419922,
          -13.115299224853516,
          44.91260528564453,
          -12.477031707763672,
          9.830668449401855,
          -4.539651870727539
         ],
         "y": [
          20.62981414794922,
          28.80948257446289,
          3.649625301361084,
          9.120889663696289,
          4.427492618560791,
          60.582969665527344,
          -8.98916244506836,
          25.08169174194336,
          26.151866912841797,
          -31.438379287719727,
          17.633258819580078,
          -19.141450881958008,
          35.41399383544922,
          26.516830444335938,
          8.852692604064941,
          10.09167194366455,
          -5.887011528015137,
          -1.7108416557312012,
          -4.103899955749512,
          -10.138801574707031,
          5.750028610229492,
          39.24671936035156,
          -26.458351135253906,
          31.711210250854492,
          15.630105972290039,
          -25.6275577545166,
          11.042234420776367,
          -16.320480346679688,
          14.015419960021973,
          9.410293579101562,
          2.5824649333953857,
          -7.176936149597168,
          -7.792899131774902,
          -11.765425682067871,
          20.51253890991211,
          23.526025772094727,
          53.52522277832031,
          -11.61202335357666,
          18.331787109375,
          -17.452590942382812,
          -38.410736083984375,
          -26.755470275878906,
          -0.3896249830722809,
          -31.3425350189209,
          -21.460948944091797,
          28.055410385131836,
          36.91939163208008,
          4.69831657409668,
          -3.677015542984009,
          -2.238401174545288,
          3.45466947555542,
          -17.857421875,
          15.645795822143555,
          -17.28091049194336,
          26.41385841369629,
          21.257795333862305,
          20.863201141357422,
          -8.497851371765137,
          41.45189666748047,
          39.062679290771484,
          -45.074161529541016,
          -6.070675373077393,
          -10.345006942749023,
          17.81183624267578,
          -0.8830674290657043,
          -23.623979568481445,
          5.587025165557861,
          5.388935565948486,
          -9.082579612731934,
          12.861927032470703,
          -10.555148124694824,
          30.05682945251465,
          -36.82148742675781,
          -6.6641035079956055,
          -22.77788734436035,
          -11.764023780822754,
          51.250850677490234,
          -2.0227527618408203,
          19.04314613342285,
          32.367733001708984,
          33.148773193359375,
          -2.305911064147949,
          -4.628239631652832,
          8.52714729309082,
          7.291502952575684,
          4.736588954925537,
          -7.896129608154297,
          3.4926304817199707,
          -4.928692817687988,
          -27.075775146484375,
          -16.039457321166992,
          -22.405189514160156,
          -36.65769577026367,
          -7.459716320037842,
          -1.0643534660339355,
          14.525338172912598,
          -30.180368423461914,
          18.639724731445312,
          11.891788482666016,
          -8.775825500488281
         ]
        }
       ],
       "layout": {
        "template": {
         "data": {
          "bar": [
           {
            "error_x": {
             "color": "#2a3f5f"
            },
            "error_y": {
             "color": "#2a3f5f"
            },
            "marker": {
             "line": {
              "color": "#E5ECF6",
              "width": 0.5
             }
            },
            "type": "bar"
           }
          ],
          "barpolar": [
           {
            "marker": {
             "line": {
              "color": "#E5ECF6",
              "width": 0.5
             }
            },
            "type": "barpolar"
           }
          ],
          "carpet": [
           {
            "aaxis": {
             "endlinecolor": "#2a3f5f",
             "gridcolor": "white",
             "linecolor": "white",
             "minorgridcolor": "white",
             "startlinecolor": "#2a3f5f"
            },
            "baxis": {
             "endlinecolor": "#2a3f5f",
             "gridcolor": "white",
             "linecolor": "white",
             "minorgridcolor": "white",
             "startlinecolor": "#2a3f5f"
            },
            "type": "carpet"
           }
          ],
          "choropleth": [
           {
            "colorbar": {
             "outlinewidth": 0,
             "ticks": ""
            },
            "type": "choropleth"
           }
          ],
          "contour": [
           {
            "colorbar": {
             "outlinewidth": 0,
             "ticks": ""
            },
            "colorscale": [
             [
              0,
              "#0d0887"
             ],
             [
              0.1111111111111111,
              "#46039f"
             ],
             [
              0.2222222222222222,
              "#7201a8"
             ],
             [
              0.3333333333333333,
              "#9c179e"
             ],
             [
              0.4444444444444444,
              "#bd3786"
             ],
             [
              0.5555555555555556,
              "#d8576b"
             ],
             [
              0.6666666666666666,
              "#ed7953"
             ],
             [
              0.7777777777777778,
              "#fb9f3a"
             ],
             [
              0.8888888888888888,
              "#fdca26"
             ],
             [
              1,
              "#f0f921"
             ]
            ],
            "type": "contour"
           }
          ],
          "contourcarpet": [
           {
            "colorbar": {
             "outlinewidth": 0,
             "ticks": ""
            },
            "type": "contourcarpet"
           }
          ],
          "heatmap": [
           {
            "colorbar": {
             "outlinewidth": 0,
             "ticks": ""
            },
            "colorscale": [
             [
              0,
              "#0d0887"
             ],
             [
              0.1111111111111111,
              "#46039f"
             ],
             [
              0.2222222222222222,
              "#7201a8"
             ],
             [
              0.3333333333333333,
              "#9c179e"
             ],
             [
              0.4444444444444444,
              "#bd3786"
             ],
             [
              0.5555555555555556,
              "#d8576b"
             ],
             [
              0.6666666666666666,
              "#ed7953"
             ],
             [
              0.7777777777777778,
              "#fb9f3a"
             ],
             [
              0.8888888888888888,
              "#fdca26"
             ],
             [
              1,
              "#f0f921"
             ]
            ],
            "type": "heatmap"
           }
          ],
          "heatmapgl": [
           {
            "colorbar": {
             "outlinewidth": 0,
             "ticks": ""
            },
            "colorscale": [
             [
              0,
              "#0d0887"
             ],
             [
              0.1111111111111111,
              "#46039f"
             ],
             [
              0.2222222222222222,
              "#7201a8"
             ],
             [
              0.3333333333333333,
              "#9c179e"
             ],
             [
              0.4444444444444444,
              "#bd3786"
             ],
             [
              0.5555555555555556,
              "#d8576b"
             ],
             [
              0.6666666666666666,
              "#ed7953"
             ],
             [
              0.7777777777777778,
              "#fb9f3a"
             ],
             [
              0.8888888888888888,
              "#fdca26"
             ],
             [
              1,
              "#f0f921"
             ]
            ],
            "type": "heatmapgl"
           }
          ],
          "histogram": [
           {
            "marker": {
             "colorbar": {
              "outlinewidth": 0,
              "ticks": ""
             }
            },
            "type": "histogram"
           }
          ],
          "histogram2d": [
           {
            "colorbar": {
             "outlinewidth": 0,
             "ticks": ""
            },
            "colorscale": [
             [
              0,
              "#0d0887"
             ],
             [
              0.1111111111111111,
              "#46039f"
             ],
             [
              0.2222222222222222,
              "#7201a8"
             ],
             [
              0.3333333333333333,
              "#9c179e"
             ],
             [
              0.4444444444444444,
              "#bd3786"
             ],
             [
              0.5555555555555556,
              "#d8576b"
             ],
             [
              0.6666666666666666,
              "#ed7953"
             ],
             [
              0.7777777777777778,
              "#fb9f3a"
             ],
             [
              0.8888888888888888,
              "#fdca26"
             ],
             [
              1,
              "#f0f921"
             ]
            ],
            "type": "histogram2d"
           }
          ],
          "histogram2dcontour": [
           {
            "colorbar": {
             "outlinewidth": 0,
             "ticks": ""
            },
            "colorscale": [
             [
              0,
              "#0d0887"
             ],
             [
              0.1111111111111111,
              "#46039f"
             ],
             [
              0.2222222222222222,
              "#7201a8"
             ],
             [
              0.3333333333333333,
              "#9c179e"
             ],
             [
              0.4444444444444444,
              "#bd3786"
             ],
             [
              0.5555555555555556,
              "#d8576b"
             ],
             [
              0.6666666666666666,
              "#ed7953"
             ],
             [
              0.7777777777777778,
              "#fb9f3a"
             ],
             [
              0.8888888888888888,
              "#fdca26"
             ],
             [
              1,
              "#f0f921"
             ]
            ],
            "type": "histogram2dcontour"
           }
          ],
          "mesh3d": [
           {
            "colorbar": {
             "outlinewidth": 0,
             "ticks": ""
            },
            "type": "mesh3d"
           }
          ],
          "parcoords": [
           {
            "line": {
             "colorbar": {
              "outlinewidth": 0,
              "ticks": ""
             }
            },
            "type": "parcoords"
           }
          ],
          "pie": [
           {
            "automargin": true,
            "type": "pie"
           }
          ],
          "scatter": [
           {
            "marker": {
             "colorbar": {
              "outlinewidth": 0,
              "ticks": ""
             }
            },
            "type": "scatter"
           }
          ],
          "scatter3d": [
           {
            "line": {
             "colorbar": {
              "outlinewidth": 0,
              "ticks": ""
             }
            },
            "marker": {
             "colorbar": {
              "outlinewidth": 0,
              "ticks": ""
             }
            },
            "type": "scatter3d"
           }
          ],
          "scattercarpet": [
           {
            "marker": {
             "colorbar": {
              "outlinewidth": 0,
              "ticks": ""
             }
            },
            "type": "scattercarpet"
           }
          ],
          "scattergeo": [
           {
            "marker": {
             "colorbar": {
              "outlinewidth": 0,
              "ticks": ""
             }
            },
            "type": "scattergeo"
           }
          ],
          "scattergl": [
           {
            "marker": {
             "colorbar": {
              "outlinewidth": 0,
              "ticks": ""
             }
            },
            "type": "scattergl"
           }
          ],
          "scattermapbox": [
           {
            "marker": {
             "colorbar": {
              "outlinewidth": 0,
              "ticks": ""
             }
            },
            "type": "scattermapbox"
           }
          ],
          "scatterpolar": [
           {
            "marker": {
             "colorbar": {
              "outlinewidth": 0,
              "ticks": ""
             }
            },
            "type": "scatterpolar"
           }
          ],
          "scatterpolargl": [
           {
            "marker": {
             "colorbar": {
              "outlinewidth": 0,
              "ticks": ""
             }
            },
            "type": "scatterpolargl"
           }
          ],
          "scatterternary": [
           {
            "marker": {
             "colorbar": {
              "outlinewidth": 0,
              "ticks": ""
             }
            },
            "type": "scatterternary"
           }
          ],
          "surface": [
           {
            "colorbar": {
             "outlinewidth": 0,
             "ticks": ""
            },
            "colorscale": [
             [
              0,
              "#0d0887"
             ],
             [
              0.1111111111111111,
              "#46039f"
             ],
             [
              0.2222222222222222,
              "#7201a8"
             ],
             [
              0.3333333333333333,
              "#9c179e"
             ],
             [
              0.4444444444444444,
              "#bd3786"
             ],
             [
              0.5555555555555556,
              "#d8576b"
             ],
             [
              0.6666666666666666,
              "#ed7953"
             ],
             [
              0.7777777777777778,
              "#fb9f3a"
             ],
             [
              0.8888888888888888,
              "#fdca26"
             ],
             [
              1,
              "#f0f921"
             ]
            ],
            "type": "surface"
           }
          ],
          "table": [
           {
            "cells": {
             "fill": {
              "color": "#EBF0F8"
             },
             "line": {
              "color": "white"
             }
            },
            "header": {
             "fill": {
              "color": "#C8D4E3"
             },
             "line": {
              "color": "white"
             }
            },
            "type": "table"
           }
          ]
         },
         "layout": {
          "annotationdefaults": {
           "arrowcolor": "#2a3f5f",
           "arrowhead": 0,
           "arrowwidth": 1
          },
          "coloraxis": {
           "colorbar": {
            "outlinewidth": 0,
            "ticks": ""
           }
          },
          "colorscale": {
           "diverging": [
            [
             0,
             "#8e0152"
            ],
            [
             0.1,
             "#c51b7d"
            ],
            [
             0.2,
             "#de77ae"
            ],
            [
             0.3,
             "#f1b6da"
            ],
            [
             0.4,
             "#fde0ef"
            ],
            [
             0.5,
             "#f7f7f7"
            ],
            [
             0.6,
             "#e6f5d0"
            ],
            [
             0.7,
             "#b8e186"
            ],
            [
             0.8,
             "#7fbc41"
            ],
            [
             0.9,
             "#4d9221"
            ],
            [
             1,
             "#276419"
            ]
           ],
           "sequential": [
            [
             0,
             "#0d0887"
            ],
            [
             0.1111111111111111,
             "#46039f"
            ],
            [
             0.2222222222222222,
             "#7201a8"
            ],
            [
             0.3333333333333333,
             "#9c179e"
            ],
            [
             0.4444444444444444,
             "#bd3786"
            ],
            [
             0.5555555555555556,
             "#d8576b"
            ],
            [
             0.6666666666666666,
             "#ed7953"
            ],
            [
             0.7777777777777778,
             "#fb9f3a"
            ],
            [
             0.8888888888888888,
             "#fdca26"
            ],
            [
             1,
             "#f0f921"
            ]
           ],
           "sequentialminus": [
            [
             0,
             "#0d0887"
            ],
            [
             0.1111111111111111,
             "#46039f"
            ],
            [
             0.2222222222222222,
             "#7201a8"
            ],
            [
             0.3333333333333333,
             "#9c179e"
            ],
            [
             0.4444444444444444,
             "#bd3786"
            ],
            [
             0.5555555555555556,
             "#d8576b"
            ],
            [
             0.6666666666666666,
             "#ed7953"
            ],
            [
             0.7777777777777778,
             "#fb9f3a"
            ],
            [
             0.8888888888888888,
             "#fdca26"
            ],
            [
             1,
             "#f0f921"
            ]
           ]
          },
          "colorway": [
           "#636efa",
           "#EF553B",
           "#00cc96",
           "#ab63fa",
           "#FFA15A",
           "#19d3f3",
           "#FF6692",
           "#B6E880",
           "#FF97FF",
           "#FECB52"
          ],
          "font": {
           "color": "#2a3f5f"
          },
          "geo": {
           "bgcolor": "white",
           "lakecolor": "white",
           "landcolor": "#E5ECF6",
           "showlakes": true,
           "showland": true,
           "subunitcolor": "white"
          },
          "hoverlabel": {
           "align": "left"
          },
          "hovermode": "closest",
          "mapbox": {
           "style": "light"
          },
          "paper_bgcolor": "white",
          "plot_bgcolor": "#E5ECF6",
          "polar": {
           "angularaxis": {
            "gridcolor": "white",
            "linecolor": "white",
            "ticks": ""
           },
           "bgcolor": "#E5ECF6",
           "radialaxis": {
            "gridcolor": "white",
            "linecolor": "white",
            "ticks": ""
           }
          },
          "scene": {
           "xaxis": {
            "backgroundcolor": "#E5ECF6",
            "gridcolor": "white",
            "gridwidth": 2,
            "linecolor": "white",
            "showbackground": true,
            "ticks": "",
            "zerolinecolor": "white"
           },
           "yaxis": {
            "backgroundcolor": "#E5ECF6",
            "gridcolor": "white",
            "gridwidth": 2,
            "linecolor": "white",
            "showbackground": true,
            "ticks": "",
            "zerolinecolor": "white"
           },
           "zaxis": {
            "backgroundcolor": "#E5ECF6",
            "gridcolor": "white",
            "gridwidth": 2,
            "linecolor": "white",
            "showbackground": true,
            "ticks": "",
            "zerolinecolor": "white"
           }
          },
          "shapedefaults": {
           "line": {
            "color": "#2a3f5f"
           }
          },
          "ternary": {
           "aaxis": {
            "gridcolor": "white",
            "linecolor": "white",
            "ticks": ""
           },
           "baxis": {
            "gridcolor": "white",
            "linecolor": "white",
            "ticks": ""
           },
           "bgcolor": "#E5ECF6",
           "caxis": {
            "gridcolor": "white",
            "linecolor": "white",
            "ticks": ""
           }
          },
          "title": {
           "x": 0.05
          },
          "xaxis": {
           "automargin": true,
           "gridcolor": "white",
           "linecolor": "white",
           "ticks": "",
           "title": {
            "standoff": 15
           },
           "zerolinecolor": "white",
           "zerolinewidth": 2
          },
          "yaxis": {
           "automargin": true,
           "gridcolor": "white",
           "linecolor": "white",
           "ticks": "",
           "title": {
            "standoff": 15
           },
           "zerolinecolor": "white",
           "zerolinewidth": 2
          }
         }
        },
        "xaxis": {
         "title": {
          "text": "x-tsne"
         }
        },
        "yaxis": {
         "title": {
          "text": "y-tsne"
         }
        }
       }
      },
      "text/html": [
       "<div>\n",
       "        \n",
       "        \n",
       "            <div id=\"ccec004d-7bd7-471d-a029-944c43db2eca\" class=\"plotly-graph-div\" style=\"height:525px; width:100%;\"></div>\n",
       "            <script type=\"text/javascript\">\n",
       "                require([\"plotly\"], function(Plotly) {\n",
       "                    window.PLOTLYENV=window.PLOTLYENV || {};\n",
       "                    \n",
       "                if (document.getElementById(\"ccec004d-7bd7-471d-a029-944c43db2eca\")) {\n",
       "                    Plotly.newPlot(\n",
       "                        'ccec004d-7bd7-471d-a029-944c43db2eca',\n",
       "                        [{\"marker\": {\"color\": [-9.211, -4.88, -6.09, -8.011000000000001, -5.832999999999999, -5.843, -3.998, -3.24, -5.975, -2.384, -4.333, -7.23, -6.474, -6.825, -3.0610000000000004, -4.946000000000001, -5.507000000000001, -4.736000000000001, -5.723, -7.495, -4.0569999999999995, -3.445, -3.8739999999999997, -5.114, -6.021, -3.1830000000000003, -5.626, -6.61, -9.144, -6.312, -7.442, -4.546, -5.4079999999999995, -8.354, -3.655, -7.648, -4.333, -4.59, -10.068, -5.335, -5.916, -3.4560000000000004, -3.714, -4.833, -4.449, -2.867, -4.877, -4.856, -5.665, -4.928999999999999, -8.28, -2.7489999999999997, -8.279, -5.042, -4.374, -9.127, -4.65, -4.399, -6.3660000000000005, -3.695, -2.8810000000000002, -8.074, -9.74, -7.321000000000001, -3.093, -5.934, -4.323, -5.892, -5.131, -4.206, -4.154, -5.115, -4.979, -5.456, -6.343, -5.944, -4.183, -3.112, -3.023, -6.531000000000001, -10.109, -5.474, -6.638, -4.249, -7.365, -6.0729999999999995, -6.351, -7.11, -4.985, -6.688, -5.9910000000000005, -9.309, -7.621, -7.276, -7.066, -7.005, -6.318, -4.706, -6.593, -6.319], \"size\": 8}, \"mode\": \"markers\", \"text\": [\"Drake - God's Plan\", \"XXXTENTACION - SAD!\", \"Post Malone - rockstar (feat. 21 Savage)\", \"Post Malone - Psycho (feat. Ty Dolla $ign)\", \"Drake - In My Feelings\", \"Post Malone - Better Now\", \"Cardi B - I Like It\", \"Calvin Harris - One Kiss (with Dua Lipa)\", \"Dua Lipa - IDGAF\", \"Marshmello - FRIENDS\", \"Camila Cabello - Havana\", \"Juice WRLD - Lucid Dreams\", \"Drake - Nice For What\", \"Maroon 5 - Girls Like You (feat. Cardi B)\", \"Zedd - The Middle\", \"Kendrick Lamar - All The Stars (with SZA)\", \"Ariana Grande - no tears left to cry\", \"Nicky Jam - X\", \"XXXTENTACION - Moonlight\", \"BlocBoy JB - Look Alive (feat. Drake)\", \"Rudimental - These Days (feat. Jess Glynne, Macklemore & Dan Caplen)\", \"Nio Garcia - Te Bot? - Remix\", \"Bazzi - Mine\", \"5 Seconds of Summer - Youngblood\", \"Dua Lipa - New Rules\", \"Ed Sheeran - Shape of You\", \"Khalid - Love Lies (with Normani)\", \"Bebe Rexha - Meant to Be (feat. Florida Georgia Line)\", \"XXXTENTACION - Jocelyn Flores\", \"Ed Sheeran - Perfect\", \"Tyga - Taste (feat. Offset)\", \"Clean Bandit - Solo (feat. Demi Lovato)\", \"Post Malone - I Fall Apart\", \"Dennis Lloyd - Nevermind\", \"Luis Fonsi - ?chame La Culpa\", \"benny blanco - Eastside (with Halsey & Khalid)\", \"Camila Cabello - Never Be the Same\", \"Selena Gomez - Wolves\", \"XXXTENTACION - changes\", \"Dynoro - In My Mind\", \"Eminem - River (feat. Ed Sheeran)\", \"Daddy Yankee - Dura\", \"Travis Scott - SICKO MODE\", \"Imagine Dragons - Thunder\", \"Reik - Me Niego\", \"Ti?sto - Jackie Chan\", \"Bruno Mars - Finesse (Remix) [feat. Cardi B]\", \"Selena Gomez - Back To You - From 13 Reasons Why ? Season 2 Soundtrack\", \"NF - Let You Down\", \"The Weeknd - Call Out My Name\", \"Offset - Ric Flair Drip (& Metro Boomin)\", \"Marshmello - Happier\", \"Sam Smith - Too Good At Goodbyes\", \"Lil Dicky - Freaky Friday (feat. Chris Brown)\", \"Imagine Dragons - Believer\", \"6ix9ine - FEFE (feat. Nicki Minaj & Murda Beatz)\", \"Jonas Blue - Rise\", \"Loud Luxury - Body (feat. brando)\", \"Lil Uzi Vert - XO TOUR Llif3\", \"Becky G - Sin Pijama\", \"Anne-Marie - 2002\", \"Drake - Nonstop\", \"XXXTENTACION - Fuck Love (feat. Trippie Redd)\", \"Shawn Mendes - In My Blood\", \"Marshmello - Silence\", \"Ariana Grande - God is a woman\", \"Piso 21 - D?jala que vuelva (feat. Manuel Turizo)\", \"David Guetta - Flames\", \"Maroon 5 - What Lovers Do\", \"DJ Snake - Taki Taki (with Selena Gomez, Ozuna & Cardi B)\", \"Hailee Steinfeld - Let Me Go (with Alesso, Florida Georgia Line & watt)\", \"Portugal. The Man - Feel It Still\", \"The Weeknd - Pray For Me (with Kendrick Lamar)\", \"Migos - Walk It Talk It\", \"G-Eazy - Him & I (with Halsey)\", \"Post Malone - Candy Paint\", \"Post Malone - Congratulations\", \"Sofia Reyes - 1, 2, 3 (feat. Jason Derulo & De La Ghetto)\", \"Natti Natasha - Criminal\", \"Rich The Kid - Plug Walk\", \"Billie Eilish - lovely (with Khalid)\", \"Migos - Stir Fry\", \"Kendrick Lamar - HUMBLE.\", \"Ozuna - Vaina Loca\", \"Ed Sheeran - Perfect Duet (Ed Sheeran & Beyonc?)\", \"Maluma - Coraz?n (feat. Nego do Borel)\", \"Khalid - Young Dumb & Broke\", \"Ozuna - S?guelo Bailando\", \"Anitta - Downtown\", \"Wolfine - Bella\", \"Calvin Harris - Promises (with Sam Smith)\", \"Lil Baby - Yes Indeed\", \"Lauv - I Like Me Better\", \"Keala Settle - This Is Me\", \"XXXTENTACION - Everybody Dies In Their Nightmares\", \"Zac Efron - Rewrite The Stars\", \"Clean Bandit - I Miss You (feat. Julia Michaels)\", \"DJ Khaled - No Brainer\", \"ZAYN - Dusk Till Dawn - Radio Edit\", \"Dean Lewis - Be Alright\"], \"type\": \"scatter\", \"x\": [26.40337562561035, -23.876583099365234, 31.10687828063965, 31.402936935424805, 17.280454635620117, -4.1310529708862305, -41.84188461303711, -21.4915771484375, 2.210946559906006, -28.74180030822754, 2.9051060676574707, 4.097258567810059, -9.145071029663086, 33.31325912475586, 34.39170455932617, 40.652679443359375, 99.57273864746094, -28.877349853515625, -84.18054962158203, 7.34110164642334, -2.2404072284698486, -14.59442138671875, 11.388089179992676, -7.033718109130859, 22.896413803100586, -4.852663993835449, -38.657470703125, 33.27471160888672, -30.945165634155273, -6.2610955238342285, 51.569000244140625, 38.518245697021484, -39.69025421142578, -9.966117858886719, 5.912285804748535, 19.080110549926758, 21.69166374206543, 7.70658016204834, -8.977807998657227, 55.560752868652344, -5.763044834136963, 17.655946731567383, 3.036458969116211, -12.981734275817871, -27.719470977783203, -12.74195671081543, 9.692634582519531, -13.610038757324219, 43.2198486328125, 22.678672790527344, -1.0885754823684692, 12.479477882385254, -28.826068878173828, -22.154897689819336, 52.287757873535156, 5.988347053527832, -109.56266021728516, -24.975475311279297, 2.707630157470703, 17.70819091796875, -59.357120513916016, -10.50127124786377, 21.29537010192871, -44.68115234375, 12.26793098449707, -1.623434066772461, -26.872310638427734, 0.1578209102153778, -224.9617462158203, -11.610326766967773, -4.325179100036621, -25.316726684570312, 9.40557861328125, -8.122084617614746, -10.740280151367188, 21.643714904785156, -3.249911308288574, 9.676264762878418, 28.550214767456055, 14.40965747833252, -6.523823261260986, -24.149877548217773, -101.36695861816406, 18.16221046447754, 4.902179718017578, -29.808549880981445, -21.948522567749023, -14.462109565734863, 58.99470138549805, 26.335609436035156, -21.829809188842773, -2.1927192211151123, -9.96787166595459, 14.218423843383789, 29.999553680419922, -13.115299224853516, 44.91260528564453, -12.477031707763672, 9.830668449401855, -4.539651870727539], \"y\": [20.62981414794922, 28.80948257446289, 3.649625301361084, 9.120889663696289, 4.427492618560791, 60.582969665527344, -8.98916244506836, 25.08169174194336, 26.151866912841797, -31.438379287719727, 17.633258819580078, -19.141450881958008, 35.41399383544922, 26.516830444335938, 8.852692604064941, 10.09167194366455, -5.887011528015137, -1.7108416557312012, -4.103899955749512, -10.138801574707031, 5.750028610229492, 39.24671936035156, -26.458351135253906, 31.711210250854492, 15.630105972290039, -25.6275577545166, 11.042234420776367, -16.320480346679688, 14.015419960021973, 9.410293579101562, 2.5824649333953857, -7.176936149597168, -7.792899131774902, -11.765425682067871, 20.51253890991211, 23.526025772094727, 53.52522277832031, -11.61202335357666, 18.331787109375, -17.452590942382812, -38.410736083984375, -26.755470275878906, -0.3896249830722809, -31.3425350189209, -21.460948944091797, 28.055410385131836, 36.91939163208008, 4.69831657409668, -3.677015542984009, -2.238401174545288, 3.45466947555542, -17.857421875, 15.645795822143555, -17.28091049194336, 26.41385841369629, 21.257795333862305, 20.863201141357422, -8.497851371765137, 41.45189666748047, 39.062679290771484, -45.074161529541016, -6.070675373077393, -10.345006942749023, 17.81183624267578, -0.8830674290657043, -23.623979568481445, 5.587025165557861, 5.388935565948486, -9.082579612731934, 12.861927032470703, -10.555148124694824, 30.05682945251465, -36.82148742675781, -6.6641035079956055, -22.77788734436035, -11.764023780822754, 51.250850677490234, -2.0227527618408203, 19.04314613342285, 32.367733001708984, 33.148773193359375, -2.305911064147949, -4.628239631652832, 8.52714729309082, 7.291502952575684, 4.736588954925537, -7.896129608154297, 3.4926304817199707, -4.928692817687988, -27.075775146484375, -16.039457321166992, -22.405189514160156, -36.65769577026367, -7.459716320037842, -1.0643534660339355, 14.525338172912598, -30.180368423461914, 18.639724731445312, 11.891788482666016, -8.775825500488281]}],\n",
       "                        {\"template\": {\"data\": {\"bar\": [{\"error_x\": {\"color\": \"#2a3f5f\"}, \"error_y\": {\"color\": \"#2a3f5f\"}, \"marker\": {\"line\": {\"color\": \"#E5ECF6\", \"width\": 0.5}}, \"type\": \"bar\"}], \"barpolar\": [{\"marker\": {\"line\": {\"color\": \"#E5ECF6\", \"width\": 0.5}}, \"type\": \"barpolar\"}], \"carpet\": [{\"aaxis\": {\"endlinecolor\": \"#2a3f5f\", \"gridcolor\": \"white\", \"linecolor\": \"white\", \"minorgridcolor\": \"white\", \"startlinecolor\": \"#2a3f5f\"}, \"baxis\": {\"endlinecolor\": \"#2a3f5f\", \"gridcolor\": \"white\", \"linecolor\": \"white\", \"minorgridcolor\": \"white\", \"startlinecolor\": \"#2a3f5f\"}, \"type\": \"carpet\"}], \"choropleth\": [{\"colorbar\": {\"outlinewidth\": 0, \"ticks\": \"\"}, \"type\": \"choropleth\"}], \"contour\": [{\"colorbar\": {\"outlinewidth\": 0, \"ticks\": \"\"}, \"colorscale\": [[0.0, \"#0d0887\"], [0.1111111111111111, \"#46039f\"], [0.2222222222222222, \"#7201a8\"], [0.3333333333333333, \"#9c179e\"], [0.4444444444444444, \"#bd3786\"], [0.5555555555555556, \"#d8576b\"], [0.6666666666666666, \"#ed7953\"], [0.7777777777777778, \"#fb9f3a\"], [0.8888888888888888, \"#fdca26\"], [1.0, \"#f0f921\"]], \"type\": \"contour\"}], \"contourcarpet\": [{\"colorbar\": {\"outlinewidth\": 0, \"ticks\": \"\"}, \"type\": \"contourcarpet\"}], \"heatmap\": [{\"colorbar\": {\"outlinewidth\": 0, \"ticks\": \"\"}, \"colorscale\": [[0.0, \"#0d0887\"], [0.1111111111111111, \"#46039f\"], [0.2222222222222222, \"#7201a8\"], [0.3333333333333333, \"#9c179e\"], [0.4444444444444444, \"#bd3786\"], [0.5555555555555556, \"#d8576b\"], [0.6666666666666666, \"#ed7953\"], [0.7777777777777778, \"#fb9f3a\"], [0.8888888888888888, \"#fdca26\"], [1.0, \"#f0f921\"]], \"type\": \"heatmap\"}], \"heatmapgl\": [{\"colorbar\": {\"outlinewidth\": 0, \"ticks\": \"\"}, \"colorscale\": [[0.0, \"#0d0887\"], [0.1111111111111111, \"#46039f\"], [0.2222222222222222, \"#7201a8\"], [0.3333333333333333, \"#9c179e\"], [0.4444444444444444, \"#bd3786\"], [0.5555555555555556, \"#d8576b\"], [0.6666666666666666, \"#ed7953\"], [0.7777777777777778, \"#fb9f3a\"], [0.8888888888888888, \"#fdca26\"], [1.0, \"#f0f921\"]], \"type\": \"heatmapgl\"}], \"histogram\": [{\"marker\": {\"colorbar\": {\"outlinewidth\": 0, \"ticks\": \"\"}}, \"type\": \"histogram\"}], \"histogram2d\": [{\"colorbar\": {\"outlinewidth\": 0, \"ticks\": \"\"}, \"colorscale\": [[0.0, \"#0d0887\"], [0.1111111111111111, \"#46039f\"], [0.2222222222222222, \"#7201a8\"], [0.3333333333333333, \"#9c179e\"], [0.4444444444444444, \"#bd3786\"], [0.5555555555555556, \"#d8576b\"], [0.6666666666666666, \"#ed7953\"], [0.7777777777777778, \"#fb9f3a\"], [0.8888888888888888, \"#fdca26\"], [1.0, \"#f0f921\"]], \"type\": \"histogram2d\"}], \"histogram2dcontour\": [{\"colorbar\": {\"outlinewidth\": 0, \"ticks\": \"\"}, \"colorscale\": [[0.0, \"#0d0887\"], [0.1111111111111111, \"#46039f\"], [0.2222222222222222, \"#7201a8\"], [0.3333333333333333, \"#9c179e\"], [0.4444444444444444, \"#bd3786\"], [0.5555555555555556, \"#d8576b\"], [0.6666666666666666, \"#ed7953\"], [0.7777777777777778, \"#fb9f3a\"], [0.8888888888888888, \"#fdca26\"], [1.0, \"#f0f921\"]], \"type\": \"histogram2dcontour\"}], \"mesh3d\": [{\"colorbar\": {\"outlinewidth\": 0, \"ticks\": \"\"}, \"type\": \"mesh3d\"}], \"parcoords\": [{\"line\": {\"colorbar\": {\"outlinewidth\": 0, \"ticks\": \"\"}}, \"type\": \"parcoords\"}], \"pie\": [{\"automargin\": true, \"type\": \"pie\"}], \"scatter\": [{\"marker\": {\"colorbar\": {\"outlinewidth\": 0, \"ticks\": \"\"}}, \"type\": \"scatter\"}], \"scatter3d\": [{\"line\": {\"colorbar\": {\"outlinewidth\": 0, \"ticks\": \"\"}}, \"marker\": {\"colorbar\": {\"outlinewidth\": 0, \"ticks\": \"\"}}, \"type\": \"scatter3d\"}], \"scattercarpet\": [{\"marker\": {\"colorbar\": {\"outlinewidth\": 0, \"ticks\": \"\"}}, \"type\": \"scattercarpet\"}], \"scattergeo\": [{\"marker\": {\"colorbar\": {\"outlinewidth\": 0, \"ticks\": \"\"}}, \"type\": \"scattergeo\"}], \"scattergl\": [{\"marker\": {\"colorbar\": {\"outlinewidth\": 0, \"ticks\": \"\"}}, \"type\": \"scattergl\"}], \"scattermapbox\": [{\"marker\": {\"colorbar\": {\"outlinewidth\": 0, \"ticks\": \"\"}}, \"type\": \"scattermapbox\"}], \"scatterpolar\": [{\"marker\": {\"colorbar\": {\"outlinewidth\": 0, \"ticks\": \"\"}}, \"type\": \"scatterpolar\"}], \"scatterpolargl\": [{\"marker\": {\"colorbar\": {\"outlinewidth\": 0, \"ticks\": \"\"}}, \"type\": \"scatterpolargl\"}], \"scatterternary\": [{\"marker\": {\"colorbar\": {\"outlinewidth\": 0, \"ticks\": \"\"}}, \"type\": \"scatterternary\"}], \"surface\": [{\"colorbar\": {\"outlinewidth\": 0, \"ticks\": \"\"}, \"colorscale\": [[0.0, \"#0d0887\"], [0.1111111111111111, \"#46039f\"], [0.2222222222222222, \"#7201a8\"], [0.3333333333333333, \"#9c179e\"], [0.4444444444444444, \"#bd3786\"], [0.5555555555555556, \"#d8576b\"], [0.6666666666666666, \"#ed7953\"], [0.7777777777777778, \"#fb9f3a\"], [0.8888888888888888, \"#fdca26\"], [1.0, \"#f0f921\"]], \"type\": \"surface\"}], \"table\": [{\"cells\": {\"fill\": {\"color\": \"#EBF0F8\"}, \"line\": {\"color\": \"white\"}}, \"header\": {\"fill\": {\"color\": \"#C8D4E3\"}, \"line\": {\"color\": \"white\"}}, \"type\": \"table\"}]}, \"layout\": {\"annotationdefaults\": {\"arrowcolor\": \"#2a3f5f\", \"arrowhead\": 0, \"arrowwidth\": 1}, \"coloraxis\": {\"colorbar\": {\"outlinewidth\": 0, \"ticks\": \"\"}}, \"colorscale\": {\"diverging\": [[0, \"#8e0152\"], [0.1, \"#c51b7d\"], [0.2, \"#de77ae\"], [0.3, \"#f1b6da\"], [0.4, \"#fde0ef\"], [0.5, \"#f7f7f7\"], [0.6, \"#e6f5d0\"], [0.7, \"#b8e186\"], [0.8, \"#7fbc41\"], [0.9, \"#4d9221\"], [1, \"#276419\"]], \"sequential\": [[0.0, \"#0d0887\"], [0.1111111111111111, \"#46039f\"], [0.2222222222222222, \"#7201a8\"], [0.3333333333333333, \"#9c179e\"], [0.4444444444444444, \"#bd3786\"], [0.5555555555555556, \"#d8576b\"], [0.6666666666666666, \"#ed7953\"], [0.7777777777777778, \"#fb9f3a\"], [0.8888888888888888, \"#fdca26\"], [1.0, \"#f0f921\"]], \"sequentialminus\": [[0.0, \"#0d0887\"], [0.1111111111111111, \"#46039f\"], [0.2222222222222222, \"#7201a8\"], [0.3333333333333333, \"#9c179e\"], [0.4444444444444444, \"#bd3786\"], [0.5555555555555556, \"#d8576b\"], [0.6666666666666666, \"#ed7953\"], [0.7777777777777778, \"#fb9f3a\"], [0.8888888888888888, \"#fdca26\"], [1.0, \"#f0f921\"]]}, \"colorway\": [\"#636efa\", \"#EF553B\", \"#00cc96\", \"#ab63fa\", \"#FFA15A\", \"#19d3f3\", \"#FF6692\", \"#B6E880\", \"#FF97FF\", \"#FECB52\"], \"font\": {\"color\": \"#2a3f5f\"}, \"geo\": {\"bgcolor\": \"white\", \"lakecolor\": \"white\", \"landcolor\": \"#E5ECF6\", \"showlakes\": true, \"showland\": true, \"subunitcolor\": \"white\"}, \"hoverlabel\": {\"align\": \"left\"}, \"hovermode\": \"closest\", \"mapbox\": {\"style\": \"light\"}, \"paper_bgcolor\": \"white\", \"plot_bgcolor\": \"#E5ECF6\", \"polar\": {\"angularaxis\": {\"gridcolor\": \"white\", \"linecolor\": \"white\", \"ticks\": \"\"}, \"bgcolor\": \"#E5ECF6\", \"radialaxis\": {\"gridcolor\": \"white\", \"linecolor\": \"white\", \"ticks\": \"\"}}, \"scene\": {\"xaxis\": {\"backgroundcolor\": \"#E5ECF6\", \"gridcolor\": \"white\", \"gridwidth\": 2, \"linecolor\": \"white\", \"showbackground\": true, \"ticks\": \"\", \"zerolinecolor\": \"white\"}, \"yaxis\": {\"backgroundcolor\": \"#E5ECF6\", \"gridcolor\": \"white\", \"gridwidth\": 2, \"linecolor\": \"white\", \"showbackground\": true, \"ticks\": \"\", \"zerolinecolor\": \"white\"}, \"zaxis\": {\"backgroundcolor\": \"#E5ECF6\", \"gridcolor\": \"white\", \"gridwidth\": 2, \"linecolor\": \"white\", \"showbackground\": true, \"ticks\": \"\", \"zerolinecolor\": \"white\"}}, \"shapedefaults\": {\"line\": {\"color\": \"#2a3f5f\"}}, \"ternary\": {\"aaxis\": {\"gridcolor\": \"white\", \"linecolor\": \"white\", \"ticks\": \"\"}, \"baxis\": {\"gridcolor\": \"white\", \"linecolor\": \"white\", \"ticks\": \"\"}, \"bgcolor\": \"#E5ECF6\", \"caxis\": {\"gridcolor\": \"white\", \"linecolor\": \"white\", \"ticks\": \"\"}}, \"title\": {\"x\": 0.05}, \"xaxis\": {\"automargin\": true, \"gridcolor\": \"white\", \"linecolor\": \"white\", \"ticks\": \"\", \"title\": {\"standoff\": 15}, \"zerolinecolor\": \"white\", \"zerolinewidth\": 2}, \"yaxis\": {\"automargin\": true, \"gridcolor\": \"white\", \"linecolor\": \"white\", \"ticks\": \"\", \"title\": {\"standoff\": 15}, \"zerolinecolor\": \"white\", \"zerolinewidth\": 2}}}, \"xaxis\": {\"title\": {\"text\": \"x-tsne\"}}, \"yaxis\": {\"title\": {\"text\": \"y-tsne\"}}},\n",
       "                        {\"responsive\": true}\n",
       "                    ).then(function(){\n",
       "                            \n",
       "var gd = document.getElementById('ccec004d-7bd7-471d-a029-944c43db2eca');\n",
       "var x = new MutationObserver(function (mutations, observer) {{\n",
       "        var display = window.getComputedStyle(gd).display;\n",
       "        if (!display || display === 'none') {{\n",
       "            console.log([gd, 'removed!']);\n",
       "            Plotly.purge(gd);\n",
       "            observer.disconnect();\n",
       "        }}\n",
       "}});\n",
       "\n",
       "// Listen for the removal of the full notebook cells\n",
       "var notebookContainer = gd.closest('#notebook-container');\n",
       "if (notebookContainer) {{\n",
       "    x.observe(notebookContainer, {childList: true});\n",
       "}}\n",
       "\n",
       "// Listen for the clearing of the current output cell\n",
       "var outputEl = gd.closest('.output');\n",
       "if (outputEl) {{\n",
       "    x.observe(outputEl, {childList: true});\n",
       "}}\n",
       "\n",
       "                        })\n",
       "                };\n",
       "                });\n",
       "            </script>\n",
       "        </div>"
      ]
     },
     "metadata": {},
     "output_type": "display_data"
    }
   ],
   "source": [
    "plot_pca_scaler(\"loudness\",df)"
   ]
  },
  {
   "cell_type": "markdown",
   "metadata": {},
   "source": [
    "## project the 'top' and 'bottom' songs (or 'not-top' songs) "
   ]
  },
  {
   "cell_type": "markdown",
   "metadata": {},
   "source": [
    "project into the t-SNE space and see if they cluster differently."
   ]
  },
  {
   "cell_type": "markdown",
   "metadata": {},
   "source": [
    "1. separate the songs on the basis of popularity--> o and 1 , here 0  are the not top songs and 1 are top songs\n",
    "\n",
    "- EXPECTED 1: Songs having popularity 1 should be tightly coupled  and \n",
    "\n",
    "- EXPECTED 2: Songs having popularity 0 should be loosely coupled  "
   ]
  },
  {
   "cell_type": "code",
   "execution_count": 82,
   "metadata": {},
   "outputs": [],
   "source": [
    "def top_songs(dataframe):\n",
    "    df1 = dataframe[dataframe['popularity'] == 1]\n",
    "    return plot_pca_scaler(\"loudness\",df1)"
   ]
  },
  {
   "cell_type": "code",
   "execution_count": 83,
   "metadata": {},
   "outputs": [
    {
     "name": "stdout",
     "output_type": "stream",
     "text": [
      "t-SNE starting.................\n",
      "[t-SNE] Computing 84 nearest neighbors...\n",
      "[t-SNE] Indexed 85 samples in 0.000s...\n",
      "[t-SNE] Computed neighbors for 85 samples in 0.000s...\n",
      "[t-SNE] Computed conditional probabilities for sample 85 / 85\n",
      "[t-SNE] Mean sigma: 0.367437\n",
      "[t-SNE] KL divergence after 250 iterations with early exaggeration: 98.835175\n",
      "[t-SNE] KL divergence after 300 iterations: 3.084765\n",
      "......................t-SNE done\n"
     ]
    },
    {
     "data": {
      "application/vnd.plotly.v1+json": {
       "config": {
        "linkText": "Export to plot.ly",
        "plotlyServerURL": "https://plot.ly",
        "showLink": false
       },
       "data": [
        {
         "marker": {
          "color": [
           -9.211,
           -4.88,
           -8.011000000000001,
           -5.832999999999998,
           -3.998,
           -3.24,
           -5.975,
           -2.384,
           -4.333,
           -6.474,
           -6.825,
           -3.0610000000000004,
           -4.9460000000000015,
           -5.5070000000000014,
           -4.7360000000000015,
           -5.723,
           -7.495,
           -4.057,
           -3.445,
           -3.874,
           -5.114,
           -6.021,
           -3.1830000000000003,
           -5.626,
           -6.61,
           -9.144,
           -7.442,
           -4.546,
           -5.408,
           -8.354,
           -3.655,
           -7.648,
           -4.333,
           -4.59,
           -5.335,
           -5.916,
           -3.4560000000000004,
           -3.714,
           -4.833,
           -4.449,
           -2.867,
           -4.877,
           -4.856,
           -5.665,
           -4.9289999999999985,
           -8.28,
           -2.749,
           -5.042,
           -4.374,
           -9.127,
           -4.65,
           -4.399,
           -6.3660000000000005,
           -3.695,
           -2.881,
           -8.074,
           -9.74,
           -7.3210000000000015,
           -3.093,
           -4.323,
           -5.131,
           -4.206,
           -4.154,
           -5.115,
           -4.979,
           -5.456,
           -6.343,
           -4.183,
           -3.112,
           -3.023,
           -6.5310000000000015,
           -5.474,
           -6.638,
           -4.249,
           -6.073,
           -6.351,
           -7.11,
           -4.985,
           -6.688,
           -5.9910000000000005,
           -9.309,
           -7.621,
           -7.276,
           -7.066,
           -4.706
          ],
          "size": 8
         },
         "mode": "markers",
         "text": [
          "Drake - God's Plan",
          "XXXTENTACION - SAD!",
          "Post Malone - Psycho (feat. Ty Dolla $ign)",
          "Drake - In My Feelings",
          "Cardi B - I Like It",
          "Calvin Harris - One Kiss (with Dua Lipa)",
          "Dua Lipa - IDGAF",
          "Marshmello - FRIENDS",
          "Camila Cabello - Havana",
          "Drake - Nice For What",
          "Maroon 5 - Girls Like You (feat. Cardi B)",
          "Zedd - The Middle",
          "Kendrick Lamar - All The Stars (with SZA)",
          "Ariana Grande - no tears left to cry",
          "Nicky Jam - X",
          "XXXTENTACION - Moonlight",
          "BlocBoy JB - Look Alive (feat. Drake)",
          "Rudimental - These Days (feat. Jess Glynne, Macklemore & Dan Caplen)",
          "Nio Garcia - Te Bot? - Remix",
          "Bazzi - Mine",
          "5 Seconds of Summer - Youngblood",
          "Dua Lipa - New Rules",
          "Ed Sheeran - Shape of You",
          "Khalid - Love Lies (with Normani)",
          "Bebe Rexha - Meant to Be (feat. Florida Georgia Line)",
          "XXXTENTACION - Jocelyn Flores",
          "Tyga - Taste (feat. Offset)",
          "Clean Bandit - Solo (feat. Demi Lovato)",
          "Post Malone - I Fall Apart",
          "Dennis Lloyd - Nevermind",
          "Luis Fonsi - ?chame La Culpa",
          "benny blanco - Eastside (with Halsey & Khalid)",
          "Camila Cabello - Never Be the Same",
          "Selena Gomez - Wolves",
          "Dynoro - In My Mind",
          "Eminem - River (feat. Ed Sheeran)",
          "Daddy Yankee - Dura",
          "Travis Scott - SICKO MODE",
          "Imagine Dragons - Thunder",
          "Reik - Me Niego",
          "Ti?sto - Jackie Chan",
          "Bruno Mars - Finesse (Remix) [feat. Cardi B]",
          "Selena Gomez - Back To You - From 13 Reasons Why ? Season 2 Soundtrack",
          "NF - Let You Down",
          "The Weeknd - Call Out My Name",
          "Offset - Ric Flair Drip (& Metro Boomin)",
          "Marshmello - Happier",
          "Lil Dicky - Freaky Friday (feat. Chris Brown)",
          "Imagine Dragons - Believer",
          "6ix9ine - FEFE (feat. Nicki Minaj & Murda Beatz)",
          "Jonas Blue - Rise",
          "Loud Luxury - Body (feat. brando)",
          "Lil Uzi Vert - XO TOUR Llif3",
          "Becky G - Sin Pijama",
          "Anne-Marie - 2002",
          "Drake - Nonstop",
          "XXXTENTACION - Fuck Love (feat. Trippie Redd)",
          "Shawn Mendes - In My Blood",
          "Marshmello - Silence",
          "Piso 21 - D?jala que vuelva (feat. Manuel Turizo)",
          "Maroon 5 - What Lovers Do",
          "DJ Snake - Taki Taki (with Selena Gomez, Ozuna & Cardi B)",
          "Hailee Steinfeld - Let Me Go (with Alesso, Florida Georgia Line & watt)",
          "Portugal. The Man - Feel It Still",
          "The Weeknd - Pray For Me (with Kendrick Lamar)",
          "Migos - Walk It Talk It",
          "G-Eazy - Him & I (with Halsey)",
          "Post Malone - Congratulations",
          "Sofia Reyes - 1, 2, 3 (feat. Jason Derulo & De La Ghetto)",
          "Natti Natasha - Criminal",
          "Rich The Kid - Plug Walk",
          "Migos - Stir Fry",
          "Kendrick Lamar - HUMBLE.",
          "Ozuna - Vaina Loca",
          "Maluma - Coraz?n (feat. Nego do Borel)",
          "Khalid - Young Dumb & Broke",
          "Ozuna - S?guelo Bailando",
          "Anitta - Downtown",
          "Wolfine - Bella",
          "Calvin Harris - Promises (with Sam Smith)",
          "Lil Baby - Yes Indeed",
          "Lauv - I Like Me Better",
          "Keala Settle - This Is Me",
          "XXXTENTACION - Everybody Dies In Their Nightmares",
          "DJ Khaled - No Brainer"
         ],
         "type": "scatter",
         "x": [
          -117.64942932128906,
          -34.062767028808594,
          -40.238685607910156,
          251.94882202148438,
          0.04609638825058937,
          15.312234878540039,
          -95.26781463623047,
          56.051239013671875,
          26.49229621887207,
          31.388246536254883,
          76.35628509521484,
          -20.010398864746094,
          23.801044464111328,
          -22.32375144958496,
          24.84115219116211,
          -17.272451400756836,
          -18.134706497192383,
          216.76258850097656,
          -4.88304328918457,
          -154.17706298828125,
          -17.8123779296875,
          -16.132953643798828,
          -425.16058349609375,
          -43.01255798339844,
          -5.9173688888549805,
          -36.3920783996582,
          38.666290283203125,
          -291.2681884765625,
          -87.336181640625,
          67.91547393798828,
          98.09029388427734,
          -60.60067367553711,
          153.7070770263672,
          -72.37818145751953,
          21.684762954711914,
          -64.65359497070312,
          190.645751953125,
          -20.203784942626953,
          0.9815894961357117,
          227.3225555419922,
          37.496788024902344,
          35.709224700927734,
          -38.1689567565918,
          51.64364242553711,
          -50.09453201293945,
          -70.21450805664062,
          39.935794830322266,
          -0.4270656108856201,
          -128.1566162109375,
          -42.22644805908203,
          9.558406829833984,
          16.0306453704834,
          -9.204141616821289,
          472.86248779296875,
          34.14017868041992,
          22.068500518798828,
          -46.29539489746094,
          4.861345291137695,
          -34.37411117553711,
          20.948801040649414,
          -24.21502113342285,
          80.23765563964844,
          171.4031982421875,
          122.9692611694336,
          -174.4841766357422,
          23.724281311035156,
          71.27079010009766,
          -27.662776947021484,
          55.51359176635742,
          -75.20819091796875,
          54.42450714111328,
          -2.7689571380615234,
          -16.275413513183594,
          7.420620441436768,
          0.30241698026657104,
          -9.611815452575684,
          52.23078155517578,
          17.975502014160156,
          0.8004067540168762,
          27.24223518371582,
          -27.9704532623291,
          3.640489101409912,
          -48.163307189941406,
          -94.9856185913086,
          5.633950233459473
         ],
         "y": [
          -204.64181518554688,
          -34.75111389160156,
          -9.579809188842773,
          149.6110382080078,
          6.286512851715088,
          -9.326675415039062,
          -15.022814750671387,
          27.184852600097656,
          37.94540786743164,
          -24.532882690429688,
          -27.955198287963867,
          152.63206481933594,
          43.04034423828125,
          -3.80131459236145,
          -17.01505470275879,
          23.54197883605957,
          35.25757598876953,
          -36.0335807800293,
          -5.376257419586182,
          330.2255859375,
          -39.33885192871094,
          61.21460723876953,
          1489.982177734375,
          159.5877227783203,
          93.91596984863281,
          -156.47842407226562,
          -70.29268646240234,
          -401.1553955078125,
          97.86054229736328,
          -89.681884765625,
          -17.332202911376953,
          33.94791793823242,
          -355.3898620605469,
          169.06668090820312,
          -48.999267578125,
          -48.681095123291016,
          109.58843994140625,
          37.35824966430664,
          -40.800376892089844,
          -332.3656921386719,
          4.871049404144287,
          -22.764942169189453,
          32.428489685058594,
          100.4918441772461,
          -35.344425201416016,
          39.890480041503906,
          6.202475070953369,
          46.27179718017578,
          73.19703674316406,
          12.337075233459473,
          19.657373428344727,
          -6.551872730255127,
          -16.211679458618164,
          -1478.939208984375,
          18.74561309814453,
          54.24428939819336,
          11.8192777633667,
          5.730501651763916,
          18.446216583251953,
          -416.8345947265625,
          -0.8969587087631226,
          297.5538635253906,
          -26.27472686767578,
          43.53462600708008,
          200.8792724609375,
          -23.39000129699707,
          -68.14273834228516,
          46.27500915527344,
          -9.920781135559082,
          46.8482666015625,
          -41.35678482055664,
          -25.653579711914062,
          9.931180953979492,
          20.441083908081055,
          34.754886627197266,
          -7.230674743652344,
          -144.56541442871094,
          -276.29571533203125,
          -130.91468811035156,
          12.731553077697754,
          -4.727820873260498,
          133.09677124023438,
          -49.96158981323242,
          -10.73946762084961,
          -35.2043571472168
         ]
        }
       ],
       "layout": {
        "template": {
         "data": {
          "bar": [
           {
            "error_x": {
             "color": "#2a3f5f"
            },
            "error_y": {
             "color": "#2a3f5f"
            },
            "marker": {
             "line": {
              "color": "#E5ECF6",
              "width": 0.5
             }
            },
            "type": "bar"
           }
          ],
          "barpolar": [
           {
            "marker": {
             "line": {
              "color": "#E5ECF6",
              "width": 0.5
             }
            },
            "type": "barpolar"
           }
          ],
          "carpet": [
           {
            "aaxis": {
             "endlinecolor": "#2a3f5f",
             "gridcolor": "white",
             "linecolor": "white",
             "minorgridcolor": "white",
             "startlinecolor": "#2a3f5f"
            },
            "baxis": {
             "endlinecolor": "#2a3f5f",
             "gridcolor": "white",
             "linecolor": "white",
             "minorgridcolor": "white",
             "startlinecolor": "#2a3f5f"
            },
            "type": "carpet"
           }
          ],
          "choropleth": [
           {
            "colorbar": {
             "outlinewidth": 0,
             "ticks": ""
            },
            "type": "choropleth"
           }
          ],
          "contour": [
           {
            "colorbar": {
             "outlinewidth": 0,
             "ticks": ""
            },
            "colorscale": [
             [
              0,
              "#0d0887"
             ],
             [
              0.1111111111111111,
              "#46039f"
             ],
             [
              0.2222222222222222,
              "#7201a8"
             ],
             [
              0.3333333333333333,
              "#9c179e"
             ],
             [
              0.4444444444444444,
              "#bd3786"
             ],
             [
              0.5555555555555556,
              "#d8576b"
             ],
             [
              0.6666666666666666,
              "#ed7953"
             ],
             [
              0.7777777777777778,
              "#fb9f3a"
             ],
             [
              0.8888888888888888,
              "#fdca26"
             ],
             [
              1,
              "#f0f921"
             ]
            ],
            "type": "contour"
           }
          ],
          "contourcarpet": [
           {
            "colorbar": {
             "outlinewidth": 0,
             "ticks": ""
            },
            "type": "contourcarpet"
           }
          ],
          "heatmap": [
           {
            "colorbar": {
             "outlinewidth": 0,
             "ticks": ""
            },
            "colorscale": [
             [
              0,
              "#0d0887"
             ],
             [
              0.1111111111111111,
              "#46039f"
             ],
             [
              0.2222222222222222,
              "#7201a8"
             ],
             [
              0.3333333333333333,
              "#9c179e"
             ],
             [
              0.4444444444444444,
              "#bd3786"
             ],
             [
              0.5555555555555556,
              "#d8576b"
             ],
             [
              0.6666666666666666,
              "#ed7953"
             ],
             [
              0.7777777777777778,
              "#fb9f3a"
             ],
             [
              0.8888888888888888,
              "#fdca26"
             ],
             [
              1,
              "#f0f921"
             ]
            ],
            "type": "heatmap"
           }
          ],
          "heatmapgl": [
           {
            "colorbar": {
             "outlinewidth": 0,
             "ticks": ""
            },
            "colorscale": [
             [
              0,
              "#0d0887"
             ],
             [
              0.1111111111111111,
              "#46039f"
             ],
             [
              0.2222222222222222,
              "#7201a8"
             ],
             [
              0.3333333333333333,
              "#9c179e"
             ],
             [
              0.4444444444444444,
              "#bd3786"
             ],
             [
              0.5555555555555556,
              "#d8576b"
             ],
             [
              0.6666666666666666,
              "#ed7953"
             ],
             [
              0.7777777777777778,
              "#fb9f3a"
             ],
             [
              0.8888888888888888,
              "#fdca26"
             ],
             [
              1,
              "#f0f921"
             ]
            ],
            "type": "heatmapgl"
           }
          ],
          "histogram": [
           {
            "marker": {
             "colorbar": {
              "outlinewidth": 0,
              "ticks": ""
             }
            },
            "type": "histogram"
           }
          ],
          "histogram2d": [
           {
            "colorbar": {
             "outlinewidth": 0,
             "ticks": ""
            },
            "colorscale": [
             [
              0,
              "#0d0887"
             ],
             [
              0.1111111111111111,
              "#46039f"
             ],
             [
              0.2222222222222222,
              "#7201a8"
             ],
             [
              0.3333333333333333,
              "#9c179e"
             ],
             [
              0.4444444444444444,
              "#bd3786"
             ],
             [
              0.5555555555555556,
              "#d8576b"
             ],
             [
              0.6666666666666666,
              "#ed7953"
             ],
             [
              0.7777777777777778,
              "#fb9f3a"
             ],
             [
              0.8888888888888888,
              "#fdca26"
             ],
             [
              1,
              "#f0f921"
             ]
            ],
            "type": "histogram2d"
           }
          ],
          "histogram2dcontour": [
           {
            "colorbar": {
             "outlinewidth": 0,
             "ticks": ""
            },
            "colorscale": [
             [
              0,
              "#0d0887"
             ],
             [
              0.1111111111111111,
              "#46039f"
             ],
             [
              0.2222222222222222,
              "#7201a8"
             ],
             [
              0.3333333333333333,
              "#9c179e"
             ],
             [
              0.4444444444444444,
              "#bd3786"
             ],
             [
              0.5555555555555556,
              "#d8576b"
             ],
             [
              0.6666666666666666,
              "#ed7953"
             ],
             [
              0.7777777777777778,
              "#fb9f3a"
             ],
             [
              0.8888888888888888,
              "#fdca26"
             ],
             [
              1,
              "#f0f921"
             ]
            ],
            "type": "histogram2dcontour"
           }
          ],
          "mesh3d": [
           {
            "colorbar": {
             "outlinewidth": 0,
             "ticks": ""
            },
            "type": "mesh3d"
           }
          ],
          "parcoords": [
           {
            "line": {
             "colorbar": {
              "outlinewidth": 0,
              "ticks": ""
             }
            },
            "type": "parcoords"
           }
          ],
          "pie": [
           {
            "automargin": true,
            "type": "pie"
           }
          ],
          "scatter": [
           {
            "marker": {
             "colorbar": {
              "outlinewidth": 0,
              "ticks": ""
             }
            },
            "type": "scatter"
           }
          ],
          "scatter3d": [
           {
            "line": {
             "colorbar": {
              "outlinewidth": 0,
              "ticks": ""
             }
            },
            "marker": {
             "colorbar": {
              "outlinewidth": 0,
              "ticks": ""
             }
            },
            "type": "scatter3d"
           }
          ],
          "scattercarpet": [
           {
            "marker": {
             "colorbar": {
              "outlinewidth": 0,
              "ticks": ""
             }
            },
            "type": "scattercarpet"
           }
          ],
          "scattergeo": [
           {
            "marker": {
             "colorbar": {
              "outlinewidth": 0,
              "ticks": ""
             }
            },
            "type": "scattergeo"
           }
          ],
          "scattergl": [
           {
            "marker": {
             "colorbar": {
              "outlinewidth": 0,
              "ticks": ""
             }
            },
            "type": "scattergl"
           }
          ],
          "scattermapbox": [
           {
            "marker": {
             "colorbar": {
              "outlinewidth": 0,
              "ticks": ""
             }
            },
            "type": "scattermapbox"
           }
          ],
          "scatterpolar": [
           {
            "marker": {
             "colorbar": {
              "outlinewidth": 0,
              "ticks": ""
             }
            },
            "type": "scatterpolar"
           }
          ],
          "scatterpolargl": [
           {
            "marker": {
             "colorbar": {
              "outlinewidth": 0,
              "ticks": ""
             }
            },
            "type": "scatterpolargl"
           }
          ],
          "scatterternary": [
           {
            "marker": {
             "colorbar": {
              "outlinewidth": 0,
              "ticks": ""
             }
            },
            "type": "scatterternary"
           }
          ],
          "surface": [
           {
            "colorbar": {
             "outlinewidth": 0,
             "ticks": ""
            },
            "colorscale": [
             [
              0,
              "#0d0887"
             ],
             [
              0.1111111111111111,
              "#46039f"
             ],
             [
              0.2222222222222222,
              "#7201a8"
             ],
             [
              0.3333333333333333,
              "#9c179e"
             ],
             [
              0.4444444444444444,
              "#bd3786"
             ],
             [
              0.5555555555555556,
              "#d8576b"
             ],
             [
              0.6666666666666666,
              "#ed7953"
             ],
             [
              0.7777777777777778,
              "#fb9f3a"
             ],
             [
              0.8888888888888888,
              "#fdca26"
             ],
             [
              1,
              "#f0f921"
             ]
            ],
            "type": "surface"
           }
          ],
          "table": [
           {
            "cells": {
             "fill": {
              "color": "#EBF0F8"
             },
             "line": {
              "color": "white"
             }
            },
            "header": {
             "fill": {
              "color": "#C8D4E3"
             },
             "line": {
              "color": "white"
             }
            },
            "type": "table"
           }
          ]
         },
         "layout": {
          "annotationdefaults": {
           "arrowcolor": "#2a3f5f",
           "arrowhead": 0,
           "arrowwidth": 1
          },
          "coloraxis": {
           "colorbar": {
            "outlinewidth": 0,
            "ticks": ""
           }
          },
          "colorscale": {
           "diverging": [
            [
             0,
             "#8e0152"
            ],
            [
             0.1,
             "#c51b7d"
            ],
            [
             0.2,
             "#de77ae"
            ],
            [
             0.3,
             "#f1b6da"
            ],
            [
             0.4,
             "#fde0ef"
            ],
            [
             0.5,
             "#f7f7f7"
            ],
            [
             0.6,
             "#e6f5d0"
            ],
            [
             0.7,
             "#b8e186"
            ],
            [
             0.8,
             "#7fbc41"
            ],
            [
             0.9,
             "#4d9221"
            ],
            [
             1,
             "#276419"
            ]
           ],
           "sequential": [
            [
             0,
             "#0d0887"
            ],
            [
             0.1111111111111111,
             "#46039f"
            ],
            [
             0.2222222222222222,
             "#7201a8"
            ],
            [
             0.3333333333333333,
             "#9c179e"
            ],
            [
             0.4444444444444444,
             "#bd3786"
            ],
            [
             0.5555555555555556,
             "#d8576b"
            ],
            [
             0.6666666666666666,
             "#ed7953"
            ],
            [
             0.7777777777777778,
             "#fb9f3a"
            ],
            [
             0.8888888888888888,
             "#fdca26"
            ],
            [
             1,
             "#f0f921"
            ]
           ],
           "sequentialminus": [
            [
             0,
             "#0d0887"
            ],
            [
             0.1111111111111111,
             "#46039f"
            ],
            [
             0.2222222222222222,
             "#7201a8"
            ],
            [
             0.3333333333333333,
             "#9c179e"
            ],
            [
             0.4444444444444444,
             "#bd3786"
            ],
            [
             0.5555555555555556,
             "#d8576b"
            ],
            [
             0.6666666666666666,
             "#ed7953"
            ],
            [
             0.7777777777777778,
             "#fb9f3a"
            ],
            [
             0.8888888888888888,
             "#fdca26"
            ],
            [
             1,
             "#f0f921"
            ]
           ]
          },
          "colorway": [
           "#636efa",
           "#EF553B",
           "#00cc96",
           "#ab63fa",
           "#FFA15A",
           "#19d3f3",
           "#FF6692",
           "#B6E880",
           "#FF97FF",
           "#FECB52"
          ],
          "font": {
           "color": "#2a3f5f"
          },
          "geo": {
           "bgcolor": "white",
           "lakecolor": "white",
           "landcolor": "#E5ECF6",
           "showlakes": true,
           "showland": true,
           "subunitcolor": "white"
          },
          "hoverlabel": {
           "align": "left"
          },
          "hovermode": "closest",
          "mapbox": {
           "style": "light"
          },
          "paper_bgcolor": "white",
          "plot_bgcolor": "#E5ECF6",
          "polar": {
           "angularaxis": {
            "gridcolor": "white",
            "linecolor": "white",
            "ticks": ""
           },
           "bgcolor": "#E5ECF6",
           "radialaxis": {
            "gridcolor": "white",
            "linecolor": "white",
            "ticks": ""
           }
          },
          "scene": {
           "xaxis": {
            "backgroundcolor": "#E5ECF6",
            "gridcolor": "white",
            "gridwidth": 2,
            "linecolor": "white",
            "showbackground": true,
            "ticks": "",
            "zerolinecolor": "white"
           },
           "yaxis": {
            "backgroundcolor": "#E5ECF6",
            "gridcolor": "white",
            "gridwidth": 2,
            "linecolor": "white",
            "showbackground": true,
            "ticks": "",
            "zerolinecolor": "white"
           },
           "zaxis": {
            "backgroundcolor": "#E5ECF6",
            "gridcolor": "white",
            "gridwidth": 2,
            "linecolor": "white",
            "showbackground": true,
            "ticks": "",
            "zerolinecolor": "white"
           }
          },
          "shapedefaults": {
           "line": {
            "color": "#2a3f5f"
           }
          },
          "ternary": {
           "aaxis": {
            "gridcolor": "white",
            "linecolor": "white",
            "ticks": ""
           },
           "baxis": {
            "gridcolor": "white",
            "linecolor": "white",
            "ticks": ""
           },
           "bgcolor": "#E5ECF6",
           "caxis": {
            "gridcolor": "white",
            "linecolor": "white",
            "ticks": ""
           }
          },
          "title": {
           "x": 0.05
          },
          "xaxis": {
           "automargin": true,
           "gridcolor": "white",
           "linecolor": "white",
           "ticks": "",
           "title": {
            "standoff": 15
           },
           "zerolinecolor": "white",
           "zerolinewidth": 2
          },
          "yaxis": {
           "automargin": true,
           "gridcolor": "white",
           "linecolor": "white",
           "ticks": "",
           "title": {
            "standoff": 15
           },
           "zerolinecolor": "white",
           "zerolinewidth": 2
          }
         }
        },
        "xaxis": {
         "title": {
          "text": "x-tsne"
         }
        },
        "yaxis": {
         "title": {
          "text": "y-tsne"
         }
        }
       }
      },
      "text/html": [
       "<div>\n",
       "        \n",
       "        \n",
       "            <div id=\"fab3423e-f4b3-4795-a3b7-a79796d5c1db\" class=\"plotly-graph-div\" style=\"height:525px; width:100%;\"></div>\n",
       "            <script type=\"text/javascript\">\n",
       "                require([\"plotly\"], function(Plotly) {\n",
       "                    window.PLOTLYENV=window.PLOTLYENV || {};\n",
       "                    \n",
       "                if (document.getElementById(\"fab3423e-f4b3-4795-a3b7-a79796d5c1db\")) {\n",
       "                    Plotly.newPlot(\n",
       "                        'fab3423e-f4b3-4795-a3b7-a79796d5c1db',\n",
       "                        [{\"marker\": {\"color\": [-9.211, -4.88, -8.011000000000001, -5.832999999999998, -3.998, -3.24, -5.975, -2.384, -4.333, -6.474, -6.825, -3.0610000000000004, -4.9460000000000015, -5.5070000000000014, -4.7360000000000015, -5.723, -7.495, -4.057, -3.445, -3.874, -5.114, -6.021, -3.1830000000000003, -5.626, -6.61, -9.144, -7.442, -4.546, -5.408, -8.354, -3.655, -7.648, -4.333, -4.59, -5.335, -5.916, -3.4560000000000004, -3.714, -4.833, -4.449, -2.867, -4.877, -4.856, -5.665, -4.9289999999999985, -8.28, -2.749, -5.042, -4.374, -9.127, -4.65, -4.399, -6.3660000000000005, -3.695, -2.881, -8.074, -9.74, -7.3210000000000015, -3.093, -4.323, -5.131, -4.206, -4.154, -5.115, -4.979, -5.456, -6.343, -4.183, -3.112, -3.023, -6.5310000000000015, -5.474, -6.638, -4.249, -6.073, -6.351, -7.11, -4.985, -6.688, -5.9910000000000005, -9.309, -7.621, -7.276, -7.066, -4.706], \"size\": 8}, \"mode\": \"markers\", \"text\": [\"Drake - God's Plan\", \"XXXTENTACION - SAD!\", \"Post Malone - Psycho (feat. Ty Dolla $ign)\", \"Drake - In My Feelings\", \"Cardi B - I Like It\", \"Calvin Harris - One Kiss (with Dua Lipa)\", \"Dua Lipa - IDGAF\", \"Marshmello - FRIENDS\", \"Camila Cabello - Havana\", \"Drake - Nice For What\", \"Maroon 5 - Girls Like You (feat. Cardi B)\", \"Zedd - The Middle\", \"Kendrick Lamar - All The Stars (with SZA)\", \"Ariana Grande - no tears left to cry\", \"Nicky Jam - X\", \"XXXTENTACION - Moonlight\", \"BlocBoy JB - Look Alive (feat. Drake)\", \"Rudimental - These Days (feat. Jess Glynne, Macklemore & Dan Caplen)\", \"Nio Garcia - Te Bot? - Remix\", \"Bazzi - Mine\", \"5 Seconds of Summer - Youngblood\", \"Dua Lipa - New Rules\", \"Ed Sheeran - Shape of You\", \"Khalid - Love Lies (with Normani)\", \"Bebe Rexha - Meant to Be (feat. Florida Georgia Line)\", \"XXXTENTACION - Jocelyn Flores\", \"Tyga - Taste (feat. Offset)\", \"Clean Bandit - Solo (feat. Demi Lovato)\", \"Post Malone - I Fall Apart\", \"Dennis Lloyd - Nevermind\", \"Luis Fonsi - ?chame La Culpa\", \"benny blanco - Eastside (with Halsey & Khalid)\", \"Camila Cabello - Never Be the Same\", \"Selena Gomez - Wolves\", \"Dynoro - In My Mind\", \"Eminem - River (feat. Ed Sheeran)\", \"Daddy Yankee - Dura\", \"Travis Scott - SICKO MODE\", \"Imagine Dragons - Thunder\", \"Reik - Me Niego\", \"Ti?sto - Jackie Chan\", \"Bruno Mars - Finesse (Remix) [feat. Cardi B]\", \"Selena Gomez - Back To You - From 13 Reasons Why ? Season 2 Soundtrack\", \"NF - Let You Down\", \"The Weeknd - Call Out My Name\", \"Offset - Ric Flair Drip (& Metro Boomin)\", \"Marshmello - Happier\", \"Lil Dicky - Freaky Friday (feat. Chris Brown)\", \"Imagine Dragons - Believer\", \"6ix9ine - FEFE (feat. Nicki Minaj & Murda Beatz)\", \"Jonas Blue - Rise\", \"Loud Luxury - Body (feat. brando)\", \"Lil Uzi Vert - XO TOUR Llif3\", \"Becky G - Sin Pijama\", \"Anne-Marie - 2002\", \"Drake - Nonstop\", \"XXXTENTACION - Fuck Love (feat. Trippie Redd)\", \"Shawn Mendes - In My Blood\", \"Marshmello - Silence\", \"Piso 21 - D?jala que vuelva (feat. Manuel Turizo)\", \"Maroon 5 - What Lovers Do\", \"DJ Snake - Taki Taki (with Selena Gomez, Ozuna & Cardi B)\", \"Hailee Steinfeld - Let Me Go (with Alesso, Florida Georgia Line & watt)\", \"Portugal. The Man - Feel It Still\", \"The Weeknd - Pray For Me (with Kendrick Lamar)\", \"Migos - Walk It Talk It\", \"G-Eazy - Him & I (with Halsey)\", \"Post Malone - Congratulations\", \"Sofia Reyes - 1, 2, 3 (feat. Jason Derulo & De La Ghetto)\", \"Natti Natasha - Criminal\", \"Rich The Kid - Plug Walk\", \"Migos - Stir Fry\", \"Kendrick Lamar - HUMBLE.\", \"Ozuna - Vaina Loca\", \"Maluma - Coraz?n (feat. Nego do Borel)\", \"Khalid - Young Dumb & Broke\", \"Ozuna - S?guelo Bailando\", \"Anitta - Downtown\", \"Wolfine - Bella\", \"Calvin Harris - Promises (with Sam Smith)\", \"Lil Baby - Yes Indeed\", \"Lauv - I Like Me Better\", \"Keala Settle - This Is Me\", \"XXXTENTACION - Everybody Dies In Their Nightmares\", \"DJ Khaled - No Brainer\"], \"type\": \"scatter\", \"x\": [-117.64942932128906, -34.062767028808594, -40.238685607910156, 251.94882202148438, 0.04609638825058937, 15.312234878540039, -95.26781463623047, 56.051239013671875, 26.49229621887207, 31.388246536254883, 76.35628509521484, -20.010398864746094, 23.801044464111328, -22.32375144958496, 24.84115219116211, -17.272451400756836, -18.134706497192383, 216.76258850097656, -4.88304328918457, -154.17706298828125, -17.8123779296875, -16.132953643798828, -425.16058349609375, -43.01255798339844, -5.9173688888549805, -36.3920783996582, 38.666290283203125, -291.2681884765625, -87.336181640625, 67.91547393798828, 98.09029388427734, -60.60067367553711, 153.7070770263672, -72.37818145751953, 21.684762954711914, -64.65359497070312, 190.645751953125, -20.203784942626953, 0.9815894961357117, 227.3225555419922, 37.496788024902344, 35.709224700927734, -38.1689567565918, 51.64364242553711, -50.09453201293945, -70.21450805664062, 39.935794830322266, -0.4270656108856201, -128.1566162109375, -42.22644805908203, 9.558406829833984, 16.0306453704834, -9.204141616821289, 472.86248779296875, 34.14017868041992, 22.068500518798828, -46.29539489746094, 4.861345291137695, -34.37411117553711, 20.948801040649414, -24.21502113342285, 80.23765563964844, 171.4031982421875, 122.9692611694336, -174.4841766357422, 23.724281311035156, 71.27079010009766, -27.662776947021484, 55.51359176635742, -75.20819091796875, 54.42450714111328, -2.7689571380615234, -16.275413513183594, 7.420620441436768, 0.30241698026657104, -9.611815452575684, 52.23078155517578, 17.975502014160156, 0.8004067540168762, 27.24223518371582, -27.9704532623291, 3.640489101409912, -48.163307189941406, -94.9856185913086, 5.633950233459473], \"y\": [-204.64181518554688, -34.75111389160156, -9.579809188842773, 149.6110382080078, 6.286512851715088, -9.326675415039062, -15.022814750671387, 27.184852600097656, 37.94540786743164, -24.532882690429688, -27.955198287963867, 152.63206481933594, 43.04034423828125, -3.80131459236145, -17.01505470275879, 23.54197883605957, 35.25757598876953, -36.0335807800293, -5.376257419586182, 330.2255859375, -39.33885192871094, 61.21460723876953, 1489.982177734375, 159.5877227783203, 93.91596984863281, -156.47842407226562, -70.29268646240234, -401.1553955078125, 97.86054229736328, -89.681884765625, -17.332202911376953, 33.94791793823242, -355.3898620605469, 169.06668090820312, -48.999267578125, -48.681095123291016, 109.58843994140625, 37.35824966430664, -40.800376892089844, -332.3656921386719, 4.871049404144287, -22.764942169189453, 32.428489685058594, 100.4918441772461, -35.344425201416016, 39.890480041503906, 6.202475070953369, 46.27179718017578, 73.19703674316406, 12.337075233459473, 19.657373428344727, -6.551872730255127, -16.211679458618164, -1478.939208984375, 18.74561309814453, 54.24428939819336, 11.8192777633667, 5.730501651763916, 18.446216583251953, -416.8345947265625, -0.8969587087631226, 297.5538635253906, -26.27472686767578, 43.53462600708008, 200.8792724609375, -23.39000129699707, -68.14273834228516, 46.27500915527344, -9.920781135559082, 46.8482666015625, -41.35678482055664, -25.653579711914062, 9.931180953979492, 20.441083908081055, 34.754886627197266, -7.230674743652344, -144.56541442871094, -276.29571533203125, -130.91468811035156, 12.731553077697754, -4.727820873260498, 133.09677124023438, -49.96158981323242, -10.73946762084961, -35.2043571472168]}],\n",
       "                        {\"template\": {\"data\": {\"bar\": [{\"error_x\": {\"color\": \"#2a3f5f\"}, \"error_y\": {\"color\": \"#2a3f5f\"}, \"marker\": {\"line\": {\"color\": \"#E5ECF6\", \"width\": 0.5}}, \"type\": \"bar\"}], \"barpolar\": [{\"marker\": {\"line\": {\"color\": \"#E5ECF6\", \"width\": 0.5}}, \"type\": \"barpolar\"}], \"carpet\": [{\"aaxis\": {\"endlinecolor\": \"#2a3f5f\", \"gridcolor\": \"white\", \"linecolor\": \"white\", \"minorgridcolor\": \"white\", \"startlinecolor\": \"#2a3f5f\"}, \"baxis\": {\"endlinecolor\": \"#2a3f5f\", \"gridcolor\": \"white\", \"linecolor\": \"white\", \"minorgridcolor\": \"white\", \"startlinecolor\": \"#2a3f5f\"}, \"type\": \"carpet\"}], \"choropleth\": [{\"colorbar\": {\"outlinewidth\": 0, \"ticks\": \"\"}, \"type\": \"choropleth\"}], \"contour\": [{\"colorbar\": {\"outlinewidth\": 0, \"ticks\": \"\"}, \"colorscale\": [[0.0, \"#0d0887\"], [0.1111111111111111, \"#46039f\"], [0.2222222222222222, \"#7201a8\"], [0.3333333333333333, \"#9c179e\"], [0.4444444444444444, \"#bd3786\"], [0.5555555555555556, \"#d8576b\"], [0.6666666666666666, \"#ed7953\"], [0.7777777777777778, \"#fb9f3a\"], [0.8888888888888888, \"#fdca26\"], [1.0, \"#f0f921\"]], \"type\": \"contour\"}], \"contourcarpet\": [{\"colorbar\": {\"outlinewidth\": 0, \"ticks\": \"\"}, \"type\": \"contourcarpet\"}], \"heatmap\": [{\"colorbar\": {\"outlinewidth\": 0, \"ticks\": \"\"}, \"colorscale\": [[0.0, \"#0d0887\"], [0.1111111111111111, \"#46039f\"], [0.2222222222222222, \"#7201a8\"], [0.3333333333333333, \"#9c179e\"], [0.4444444444444444, \"#bd3786\"], [0.5555555555555556, \"#d8576b\"], [0.6666666666666666, \"#ed7953\"], [0.7777777777777778, \"#fb9f3a\"], [0.8888888888888888, \"#fdca26\"], [1.0, \"#f0f921\"]], \"type\": \"heatmap\"}], \"heatmapgl\": [{\"colorbar\": {\"outlinewidth\": 0, \"ticks\": \"\"}, \"colorscale\": [[0.0, \"#0d0887\"], [0.1111111111111111, \"#46039f\"], [0.2222222222222222, \"#7201a8\"], [0.3333333333333333, \"#9c179e\"], [0.4444444444444444, \"#bd3786\"], [0.5555555555555556, \"#d8576b\"], [0.6666666666666666, \"#ed7953\"], [0.7777777777777778, \"#fb9f3a\"], [0.8888888888888888, \"#fdca26\"], [1.0, \"#f0f921\"]], \"type\": \"heatmapgl\"}], \"histogram\": [{\"marker\": {\"colorbar\": {\"outlinewidth\": 0, \"ticks\": \"\"}}, \"type\": \"histogram\"}], \"histogram2d\": [{\"colorbar\": {\"outlinewidth\": 0, \"ticks\": \"\"}, \"colorscale\": [[0.0, \"#0d0887\"], [0.1111111111111111, \"#46039f\"], [0.2222222222222222, \"#7201a8\"], [0.3333333333333333, \"#9c179e\"], [0.4444444444444444, \"#bd3786\"], [0.5555555555555556, \"#d8576b\"], [0.6666666666666666, \"#ed7953\"], [0.7777777777777778, \"#fb9f3a\"], [0.8888888888888888, \"#fdca26\"], [1.0, \"#f0f921\"]], \"type\": \"histogram2d\"}], \"histogram2dcontour\": [{\"colorbar\": {\"outlinewidth\": 0, \"ticks\": \"\"}, \"colorscale\": [[0.0, \"#0d0887\"], [0.1111111111111111, \"#46039f\"], [0.2222222222222222, \"#7201a8\"], [0.3333333333333333, \"#9c179e\"], [0.4444444444444444, \"#bd3786\"], [0.5555555555555556, \"#d8576b\"], [0.6666666666666666, \"#ed7953\"], [0.7777777777777778, \"#fb9f3a\"], [0.8888888888888888, \"#fdca26\"], [1.0, \"#f0f921\"]], \"type\": \"histogram2dcontour\"}], \"mesh3d\": [{\"colorbar\": {\"outlinewidth\": 0, \"ticks\": \"\"}, \"type\": \"mesh3d\"}], \"parcoords\": [{\"line\": {\"colorbar\": {\"outlinewidth\": 0, \"ticks\": \"\"}}, \"type\": \"parcoords\"}], \"pie\": [{\"automargin\": true, \"type\": \"pie\"}], \"scatter\": [{\"marker\": {\"colorbar\": {\"outlinewidth\": 0, \"ticks\": \"\"}}, \"type\": \"scatter\"}], \"scatter3d\": [{\"line\": {\"colorbar\": {\"outlinewidth\": 0, \"ticks\": \"\"}}, \"marker\": {\"colorbar\": {\"outlinewidth\": 0, \"ticks\": \"\"}}, \"type\": \"scatter3d\"}], \"scattercarpet\": [{\"marker\": {\"colorbar\": {\"outlinewidth\": 0, \"ticks\": \"\"}}, \"type\": \"scattercarpet\"}], \"scattergeo\": [{\"marker\": {\"colorbar\": {\"outlinewidth\": 0, \"ticks\": \"\"}}, \"type\": \"scattergeo\"}], \"scattergl\": [{\"marker\": {\"colorbar\": {\"outlinewidth\": 0, \"ticks\": \"\"}}, \"type\": \"scattergl\"}], \"scattermapbox\": [{\"marker\": {\"colorbar\": {\"outlinewidth\": 0, \"ticks\": \"\"}}, \"type\": \"scattermapbox\"}], \"scatterpolar\": [{\"marker\": {\"colorbar\": {\"outlinewidth\": 0, \"ticks\": \"\"}}, \"type\": \"scatterpolar\"}], \"scatterpolargl\": [{\"marker\": {\"colorbar\": {\"outlinewidth\": 0, \"ticks\": \"\"}}, \"type\": \"scatterpolargl\"}], \"scatterternary\": [{\"marker\": {\"colorbar\": {\"outlinewidth\": 0, \"ticks\": \"\"}}, \"type\": \"scatterternary\"}], \"surface\": [{\"colorbar\": {\"outlinewidth\": 0, \"ticks\": \"\"}, \"colorscale\": [[0.0, \"#0d0887\"], [0.1111111111111111, \"#46039f\"], [0.2222222222222222, \"#7201a8\"], [0.3333333333333333, \"#9c179e\"], [0.4444444444444444, \"#bd3786\"], [0.5555555555555556, \"#d8576b\"], [0.6666666666666666, \"#ed7953\"], [0.7777777777777778, \"#fb9f3a\"], [0.8888888888888888, \"#fdca26\"], [1.0, \"#f0f921\"]], \"type\": \"surface\"}], \"table\": [{\"cells\": {\"fill\": {\"color\": \"#EBF0F8\"}, \"line\": {\"color\": \"white\"}}, \"header\": {\"fill\": {\"color\": \"#C8D4E3\"}, \"line\": {\"color\": \"white\"}}, \"type\": \"table\"}]}, \"layout\": {\"annotationdefaults\": {\"arrowcolor\": \"#2a3f5f\", \"arrowhead\": 0, \"arrowwidth\": 1}, \"coloraxis\": {\"colorbar\": {\"outlinewidth\": 0, \"ticks\": \"\"}}, \"colorscale\": {\"diverging\": [[0, \"#8e0152\"], [0.1, \"#c51b7d\"], [0.2, \"#de77ae\"], [0.3, \"#f1b6da\"], [0.4, \"#fde0ef\"], [0.5, \"#f7f7f7\"], [0.6, \"#e6f5d0\"], [0.7, \"#b8e186\"], [0.8, \"#7fbc41\"], [0.9, \"#4d9221\"], [1, \"#276419\"]], \"sequential\": [[0.0, \"#0d0887\"], [0.1111111111111111, \"#46039f\"], [0.2222222222222222, \"#7201a8\"], [0.3333333333333333, \"#9c179e\"], [0.4444444444444444, \"#bd3786\"], [0.5555555555555556, \"#d8576b\"], [0.6666666666666666, \"#ed7953\"], [0.7777777777777778, \"#fb9f3a\"], [0.8888888888888888, \"#fdca26\"], [1.0, \"#f0f921\"]], \"sequentialminus\": [[0.0, \"#0d0887\"], [0.1111111111111111, \"#46039f\"], [0.2222222222222222, \"#7201a8\"], [0.3333333333333333, \"#9c179e\"], [0.4444444444444444, \"#bd3786\"], [0.5555555555555556, \"#d8576b\"], [0.6666666666666666, \"#ed7953\"], [0.7777777777777778, \"#fb9f3a\"], [0.8888888888888888, \"#fdca26\"], [1.0, \"#f0f921\"]]}, \"colorway\": [\"#636efa\", \"#EF553B\", \"#00cc96\", \"#ab63fa\", \"#FFA15A\", \"#19d3f3\", \"#FF6692\", \"#B6E880\", \"#FF97FF\", \"#FECB52\"], \"font\": {\"color\": \"#2a3f5f\"}, \"geo\": {\"bgcolor\": \"white\", \"lakecolor\": \"white\", \"landcolor\": \"#E5ECF6\", \"showlakes\": true, \"showland\": true, \"subunitcolor\": \"white\"}, \"hoverlabel\": {\"align\": \"left\"}, \"hovermode\": \"closest\", \"mapbox\": {\"style\": \"light\"}, \"paper_bgcolor\": \"white\", \"plot_bgcolor\": \"#E5ECF6\", \"polar\": {\"angularaxis\": {\"gridcolor\": \"white\", \"linecolor\": \"white\", \"ticks\": \"\"}, \"bgcolor\": \"#E5ECF6\", \"radialaxis\": {\"gridcolor\": \"white\", \"linecolor\": \"white\", \"ticks\": \"\"}}, \"scene\": {\"xaxis\": {\"backgroundcolor\": \"#E5ECF6\", \"gridcolor\": \"white\", \"gridwidth\": 2, \"linecolor\": \"white\", \"showbackground\": true, \"ticks\": \"\", \"zerolinecolor\": \"white\"}, \"yaxis\": {\"backgroundcolor\": \"#E5ECF6\", \"gridcolor\": \"white\", \"gridwidth\": 2, \"linecolor\": \"white\", \"showbackground\": true, \"ticks\": \"\", \"zerolinecolor\": \"white\"}, \"zaxis\": {\"backgroundcolor\": \"#E5ECF6\", \"gridcolor\": \"white\", \"gridwidth\": 2, \"linecolor\": \"white\", \"showbackground\": true, \"ticks\": \"\", \"zerolinecolor\": \"white\"}}, \"shapedefaults\": {\"line\": {\"color\": \"#2a3f5f\"}}, \"ternary\": {\"aaxis\": {\"gridcolor\": \"white\", \"linecolor\": \"white\", \"ticks\": \"\"}, \"baxis\": {\"gridcolor\": \"white\", \"linecolor\": \"white\", \"ticks\": \"\"}, \"bgcolor\": \"#E5ECF6\", \"caxis\": {\"gridcolor\": \"white\", \"linecolor\": \"white\", \"ticks\": \"\"}}, \"title\": {\"x\": 0.05}, \"xaxis\": {\"automargin\": true, \"gridcolor\": \"white\", \"linecolor\": \"white\", \"ticks\": \"\", \"title\": {\"standoff\": 15}, \"zerolinecolor\": \"white\", \"zerolinewidth\": 2}, \"yaxis\": {\"automargin\": true, \"gridcolor\": \"white\", \"linecolor\": \"white\", \"ticks\": \"\", \"title\": {\"standoff\": 15}, \"zerolinecolor\": \"white\", \"zerolinewidth\": 2}}}, \"xaxis\": {\"title\": {\"text\": \"x-tsne\"}}, \"yaxis\": {\"title\": {\"text\": \"y-tsne\"}}},\n",
       "                        {\"responsive\": true}\n",
       "                    ).then(function(){\n",
       "                            \n",
       "var gd = document.getElementById('fab3423e-f4b3-4795-a3b7-a79796d5c1db');\n",
       "var x = new MutationObserver(function (mutations, observer) {{\n",
       "        var display = window.getComputedStyle(gd).display;\n",
       "        if (!display || display === 'none') {{\n",
       "            console.log([gd, 'removed!']);\n",
       "            Plotly.purge(gd);\n",
       "            observer.disconnect();\n",
       "        }}\n",
       "}});\n",
       "\n",
       "// Listen for the removal of the full notebook cells\n",
       "var notebookContainer = gd.closest('#notebook-container');\n",
       "if (notebookContainer) {{\n",
       "    x.observe(notebookContainer, {childList: true});\n",
       "}}\n",
       "\n",
       "// Listen for the clearing of the current output cell\n",
       "var outputEl = gd.closest('.output');\n",
       "if (outputEl) {{\n",
       "    x.observe(outputEl, {childList: true});\n",
       "}}\n",
       "\n",
       "                        })\n",
       "                };\n",
       "                });\n",
       "            </script>\n",
       "        </div>"
      ]
     },
     "metadata": {},
     "output_type": "display_data"
    }
   ],
   "source": [
    "top_songs(df_new)"
   ]
  },
  {
   "cell_type": "markdown",
   "metadata": {},
   "source": [
    "HENCE:assumption 1 prooved "
   ]
  },
  {
   "cell_type": "code",
   "execution_count": 84,
   "metadata": {},
   "outputs": [],
   "source": [
    "def not_top_songs(dataframe):\n",
    "    df2 = dataframe[dataframe['popularity'] ==0 ]\n",
    "    return plot_pca_scaler(\"loudness\",df2)"
   ]
  },
  {
   "cell_type": "code",
   "execution_count": 85,
   "metadata": {},
   "outputs": [
    {
     "name": "stdout",
     "output_type": "stream",
     "text": [
      "t-SNE starting.................\n",
      "[t-SNE] Computing 14 nearest neighbors...\n",
      "[t-SNE] Indexed 15 samples in 0.000s...\n",
      "[t-SNE] Computed neighbors for 15 samples in 0.000s...\n",
      "[t-SNE] Computed conditional probabilities for sample 15 / 15\n",
      "[t-SNE] Mean sigma: 1125899906842624.000000\n",
      "[t-SNE] KL divergence after 250 iterations with early exaggeration: 65.903671\n",
      "[t-SNE] KL divergence after 300 iterations: 2.786974\n",
      "......................t-SNE done\n"
     ]
    },
    {
     "data": {
      "application/vnd.plotly.v1+json": {
       "config": {
        "linkText": "Export to plot.ly",
        "plotlyServerURL": "https://plot.ly",
        "showLink": false
       },
       "data": [
        {
         "marker": {
          "color": [
           -6.09,
           -5.843,
           -7.23,
           -6.312,
           -10.068,
           -8.279,
           -5.934,
           -5.892,
           -5.944,
           -10.109,
           -7.365,
           -7.005,
           -6.318,
           -6.593,
           -6.319
          ],
          "size": 8
         },
         "mode": "markers",
         "text": [
          "Post Malone - rockstar (feat. 21 Savage)",
          "Post Malone - Better Now",
          "Juice WRLD - Lucid Dreams",
          "Ed Sheeran - Perfect",
          "XXXTENTACION - changes",
          "Sam Smith - Too Good At Goodbyes",
          "Ariana Grande - God is a woman",
          "David Guetta - Flames",
          "Post Malone - Candy Paint",
          "Billie Eilish - lovely (with Khalid)",
          "Ed Sheeran - Perfect Duet (Ed Sheeran & Beyonc?)",
          "Zac Efron - Rewrite The Stars",
          "Clean Bandit - I Miss You (feat. Julia Michaels)",
          "ZAYN - Dusk Till Dawn - Radio Edit",
          "Dean Lewis - Be Alright"
         ],
         "type": "scatter",
         "x": [
          118.28646087646484,
          64.43428039550781,
          -148.05758666992188,
          431.03643798828125,
          209.61976623535156,
          215.43060302734375,
          -76.80078125,
          -23.625858306884766,
          74.65791320800781,
          38.331390380859375,
          93.73176574707031,
          -2343.7666015625,
          -929.2760620117188,
          -15.26260757446289,
          1230.035888671875
         ],
         "y": [
          -38.283390045166016,
          435.8733215332031,
          -45.109947204589844,
          -1173.6484375,
          117.35850524902344,
          73.29508972167969,
          -394.56219482421875,
          45.84104537963867,
          -30.014495849609375,
          -422.9960632324219,
          69.58546447753906,
          509.7412109375,
          1318.562744140625,
          8.19003677368164,
          -190.20794677734375
         ]
        }
       ],
       "layout": {
        "template": {
         "data": {
          "bar": [
           {
            "error_x": {
             "color": "#2a3f5f"
            },
            "error_y": {
             "color": "#2a3f5f"
            },
            "marker": {
             "line": {
              "color": "#E5ECF6",
              "width": 0.5
             }
            },
            "type": "bar"
           }
          ],
          "barpolar": [
           {
            "marker": {
             "line": {
              "color": "#E5ECF6",
              "width": 0.5
             }
            },
            "type": "barpolar"
           }
          ],
          "carpet": [
           {
            "aaxis": {
             "endlinecolor": "#2a3f5f",
             "gridcolor": "white",
             "linecolor": "white",
             "minorgridcolor": "white",
             "startlinecolor": "#2a3f5f"
            },
            "baxis": {
             "endlinecolor": "#2a3f5f",
             "gridcolor": "white",
             "linecolor": "white",
             "minorgridcolor": "white",
             "startlinecolor": "#2a3f5f"
            },
            "type": "carpet"
           }
          ],
          "choropleth": [
           {
            "colorbar": {
             "outlinewidth": 0,
             "ticks": ""
            },
            "type": "choropleth"
           }
          ],
          "contour": [
           {
            "colorbar": {
             "outlinewidth": 0,
             "ticks": ""
            },
            "colorscale": [
             [
              0,
              "#0d0887"
             ],
             [
              0.1111111111111111,
              "#46039f"
             ],
             [
              0.2222222222222222,
              "#7201a8"
             ],
             [
              0.3333333333333333,
              "#9c179e"
             ],
             [
              0.4444444444444444,
              "#bd3786"
             ],
             [
              0.5555555555555556,
              "#d8576b"
             ],
             [
              0.6666666666666666,
              "#ed7953"
             ],
             [
              0.7777777777777778,
              "#fb9f3a"
             ],
             [
              0.8888888888888888,
              "#fdca26"
             ],
             [
              1,
              "#f0f921"
             ]
            ],
            "type": "contour"
           }
          ],
          "contourcarpet": [
           {
            "colorbar": {
             "outlinewidth": 0,
             "ticks": ""
            },
            "type": "contourcarpet"
           }
          ],
          "heatmap": [
           {
            "colorbar": {
             "outlinewidth": 0,
             "ticks": ""
            },
            "colorscale": [
             [
              0,
              "#0d0887"
             ],
             [
              0.1111111111111111,
              "#46039f"
             ],
             [
              0.2222222222222222,
              "#7201a8"
             ],
             [
              0.3333333333333333,
              "#9c179e"
             ],
             [
              0.4444444444444444,
              "#bd3786"
             ],
             [
              0.5555555555555556,
              "#d8576b"
             ],
             [
              0.6666666666666666,
              "#ed7953"
             ],
             [
              0.7777777777777778,
              "#fb9f3a"
             ],
             [
              0.8888888888888888,
              "#fdca26"
             ],
             [
              1,
              "#f0f921"
             ]
            ],
            "type": "heatmap"
           }
          ],
          "heatmapgl": [
           {
            "colorbar": {
             "outlinewidth": 0,
             "ticks": ""
            },
            "colorscale": [
             [
              0,
              "#0d0887"
             ],
             [
              0.1111111111111111,
              "#46039f"
             ],
             [
              0.2222222222222222,
              "#7201a8"
             ],
             [
              0.3333333333333333,
              "#9c179e"
             ],
             [
              0.4444444444444444,
              "#bd3786"
             ],
             [
              0.5555555555555556,
              "#d8576b"
             ],
             [
              0.6666666666666666,
              "#ed7953"
             ],
             [
              0.7777777777777778,
              "#fb9f3a"
             ],
             [
              0.8888888888888888,
              "#fdca26"
             ],
             [
              1,
              "#f0f921"
             ]
            ],
            "type": "heatmapgl"
           }
          ],
          "histogram": [
           {
            "marker": {
             "colorbar": {
              "outlinewidth": 0,
              "ticks": ""
             }
            },
            "type": "histogram"
           }
          ],
          "histogram2d": [
           {
            "colorbar": {
             "outlinewidth": 0,
             "ticks": ""
            },
            "colorscale": [
             [
              0,
              "#0d0887"
             ],
             [
              0.1111111111111111,
              "#46039f"
             ],
             [
              0.2222222222222222,
              "#7201a8"
             ],
             [
              0.3333333333333333,
              "#9c179e"
             ],
             [
              0.4444444444444444,
              "#bd3786"
             ],
             [
              0.5555555555555556,
              "#d8576b"
             ],
             [
              0.6666666666666666,
              "#ed7953"
             ],
             [
              0.7777777777777778,
              "#fb9f3a"
             ],
             [
              0.8888888888888888,
              "#fdca26"
             ],
             [
              1,
              "#f0f921"
             ]
            ],
            "type": "histogram2d"
           }
          ],
          "histogram2dcontour": [
           {
            "colorbar": {
             "outlinewidth": 0,
             "ticks": ""
            },
            "colorscale": [
             [
              0,
              "#0d0887"
             ],
             [
              0.1111111111111111,
              "#46039f"
             ],
             [
              0.2222222222222222,
              "#7201a8"
             ],
             [
              0.3333333333333333,
              "#9c179e"
             ],
             [
              0.4444444444444444,
              "#bd3786"
             ],
             [
              0.5555555555555556,
              "#d8576b"
             ],
             [
              0.6666666666666666,
              "#ed7953"
             ],
             [
              0.7777777777777778,
              "#fb9f3a"
             ],
             [
              0.8888888888888888,
              "#fdca26"
             ],
             [
              1,
              "#f0f921"
             ]
            ],
            "type": "histogram2dcontour"
           }
          ],
          "mesh3d": [
           {
            "colorbar": {
             "outlinewidth": 0,
             "ticks": ""
            },
            "type": "mesh3d"
           }
          ],
          "parcoords": [
           {
            "line": {
             "colorbar": {
              "outlinewidth": 0,
              "ticks": ""
             }
            },
            "type": "parcoords"
           }
          ],
          "pie": [
           {
            "automargin": true,
            "type": "pie"
           }
          ],
          "scatter": [
           {
            "marker": {
             "colorbar": {
              "outlinewidth": 0,
              "ticks": ""
             }
            },
            "type": "scatter"
           }
          ],
          "scatter3d": [
           {
            "line": {
             "colorbar": {
              "outlinewidth": 0,
              "ticks": ""
             }
            },
            "marker": {
             "colorbar": {
              "outlinewidth": 0,
              "ticks": ""
             }
            },
            "type": "scatter3d"
           }
          ],
          "scattercarpet": [
           {
            "marker": {
             "colorbar": {
              "outlinewidth": 0,
              "ticks": ""
             }
            },
            "type": "scattercarpet"
           }
          ],
          "scattergeo": [
           {
            "marker": {
             "colorbar": {
              "outlinewidth": 0,
              "ticks": ""
             }
            },
            "type": "scattergeo"
           }
          ],
          "scattergl": [
           {
            "marker": {
             "colorbar": {
              "outlinewidth": 0,
              "ticks": ""
             }
            },
            "type": "scattergl"
           }
          ],
          "scattermapbox": [
           {
            "marker": {
             "colorbar": {
              "outlinewidth": 0,
              "ticks": ""
             }
            },
            "type": "scattermapbox"
           }
          ],
          "scatterpolar": [
           {
            "marker": {
             "colorbar": {
              "outlinewidth": 0,
              "ticks": ""
             }
            },
            "type": "scatterpolar"
           }
          ],
          "scatterpolargl": [
           {
            "marker": {
             "colorbar": {
              "outlinewidth": 0,
              "ticks": ""
             }
            },
            "type": "scatterpolargl"
           }
          ],
          "scatterternary": [
           {
            "marker": {
             "colorbar": {
              "outlinewidth": 0,
              "ticks": ""
             }
            },
            "type": "scatterternary"
           }
          ],
          "surface": [
           {
            "colorbar": {
             "outlinewidth": 0,
             "ticks": ""
            },
            "colorscale": [
             [
              0,
              "#0d0887"
             ],
             [
              0.1111111111111111,
              "#46039f"
             ],
             [
              0.2222222222222222,
              "#7201a8"
             ],
             [
              0.3333333333333333,
              "#9c179e"
             ],
             [
              0.4444444444444444,
              "#bd3786"
             ],
             [
              0.5555555555555556,
              "#d8576b"
             ],
             [
              0.6666666666666666,
              "#ed7953"
             ],
             [
              0.7777777777777778,
              "#fb9f3a"
             ],
             [
              0.8888888888888888,
              "#fdca26"
             ],
             [
              1,
              "#f0f921"
             ]
            ],
            "type": "surface"
           }
          ],
          "table": [
           {
            "cells": {
             "fill": {
              "color": "#EBF0F8"
             },
             "line": {
              "color": "white"
             }
            },
            "header": {
             "fill": {
              "color": "#C8D4E3"
             },
             "line": {
              "color": "white"
             }
            },
            "type": "table"
           }
          ]
         },
         "layout": {
          "annotationdefaults": {
           "arrowcolor": "#2a3f5f",
           "arrowhead": 0,
           "arrowwidth": 1
          },
          "coloraxis": {
           "colorbar": {
            "outlinewidth": 0,
            "ticks": ""
           }
          },
          "colorscale": {
           "diverging": [
            [
             0,
             "#8e0152"
            ],
            [
             0.1,
             "#c51b7d"
            ],
            [
             0.2,
             "#de77ae"
            ],
            [
             0.3,
             "#f1b6da"
            ],
            [
             0.4,
             "#fde0ef"
            ],
            [
             0.5,
             "#f7f7f7"
            ],
            [
             0.6,
             "#e6f5d0"
            ],
            [
             0.7,
             "#b8e186"
            ],
            [
             0.8,
             "#7fbc41"
            ],
            [
             0.9,
             "#4d9221"
            ],
            [
             1,
             "#276419"
            ]
           ],
           "sequential": [
            [
             0,
             "#0d0887"
            ],
            [
             0.1111111111111111,
             "#46039f"
            ],
            [
             0.2222222222222222,
             "#7201a8"
            ],
            [
             0.3333333333333333,
             "#9c179e"
            ],
            [
             0.4444444444444444,
             "#bd3786"
            ],
            [
             0.5555555555555556,
             "#d8576b"
            ],
            [
             0.6666666666666666,
             "#ed7953"
            ],
            [
             0.7777777777777778,
             "#fb9f3a"
            ],
            [
             0.8888888888888888,
             "#fdca26"
            ],
            [
             1,
             "#f0f921"
            ]
           ],
           "sequentialminus": [
            [
             0,
             "#0d0887"
            ],
            [
             0.1111111111111111,
             "#46039f"
            ],
            [
             0.2222222222222222,
             "#7201a8"
            ],
            [
             0.3333333333333333,
             "#9c179e"
            ],
            [
             0.4444444444444444,
             "#bd3786"
            ],
            [
             0.5555555555555556,
             "#d8576b"
            ],
            [
             0.6666666666666666,
             "#ed7953"
            ],
            [
             0.7777777777777778,
             "#fb9f3a"
            ],
            [
             0.8888888888888888,
             "#fdca26"
            ],
            [
             1,
             "#f0f921"
            ]
           ]
          },
          "colorway": [
           "#636efa",
           "#EF553B",
           "#00cc96",
           "#ab63fa",
           "#FFA15A",
           "#19d3f3",
           "#FF6692",
           "#B6E880",
           "#FF97FF",
           "#FECB52"
          ],
          "font": {
           "color": "#2a3f5f"
          },
          "geo": {
           "bgcolor": "white",
           "lakecolor": "white",
           "landcolor": "#E5ECF6",
           "showlakes": true,
           "showland": true,
           "subunitcolor": "white"
          },
          "hoverlabel": {
           "align": "left"
          },
          "hovermode": "closest",
          "mapbox": {
           "style": "light"
          },
          "paper_bgcolor": "white",
          "plot_bgcolor": "#E5ECF6",
          "polar": {
           "angularaxis": {
            "gridcolor": "white",
            "linecolor": "white",
            "ticks": ""
           },
           "bgcolor": "#E5ECF6",
           "radialaxis": {
            "gridcolor": "white",
            "linecolor": "white",
            "ticks": ""
           }
          },
          "scene": {
           "xaxis": {
            "backgroundcolor": "#E5ECF6",
            "gridcolor": "white",
            "gridwidth": 2,
            "linecolor": "white",
            "showbackground": true,
            "ticks": "",
            "zerolinecolor": "white"
           },
           "yaxis": {
            "backgroundcolor": "#E5ECF6",
            "gridcolor": "white",
            "gridwidth": 2,
            "linecolor": "white",
            "showbackground": true,
            "ticks": "",
            "zerolinecolor": "white"
           },
           "zaxis": {
            "backgroundcolor": "#E5ECF6",
            "gridcolor": "white",
            "gridwidth": 2,
            "linecolor": "white",
            "showbackground": true,
            "ticks": "",
            "zerolinecolor": "white"
           }
          },
          "shapedefaults": {
           "line": {
            "color": "#2a3f5f"
           }
          },
          "ternary": {
           "aaxis": {
            "gridcolor": "white",
            "linecolor": "white",
            "ticks": ""
           },
           "baxis": {
            "gridcolor": "white",
            "linecolor": "white",
            "ticks": ""
           },
           "bgcolor": "#E5ECF6",
           "caxis": {
            "gridcolor": "white",
            "linecolor": "white",
            "ticks": ""
           }
          },
          "title": {
           "x": 0.05
          },
          "xaxis": {
           "automargin": true,
           "gridcolor": "white",
           "linecolor": "white",
           "ticks": "",
           "title": {
            "standoff": 15
           },
           "zerolinecolor": "white",
           "zerolinewidth": 2
          },
          "yaxis": {
           "automargin": true,
           "gridcolor": "white",
           "linecolor": "white",
           "ticks": "",
           "title": {
            "standoff": 15
           },
           "zerolinecolor": "white",
           "zerolinewidth": 2
          }
         }
        },
        "xaxis": {
         "title": {
          "text": "x-tsne"
         }
        },
        "yaxis": {
         "title": {
          "text": "y-tsne"
         }
        }
       }
      },
      "text/html": [
       "<div>\n",
       "        \n",
       "        \n",
       "            <div id=\"493b4285-8886-4e22-ad52-42b8422a2fe6\" class=\"plotly-graph-div\" style=\"height:525px; width:100%;\"></div>\n",
       "            <script type=\"text/javascript\">\n",
       "                require([\"plotly\"], function(Plotly) {\n",
       "                    window.PLOTLYENV=window.PLOTLYENV || {};\n",
       "                    \n",
       "                if (document.getElementById(\"493b4285-8886-4e22-ad52-42b8422a2fe6\")) {\n",
       "                    Plotly.newPlot(\n",
       "                        '493b4285-8886-4e22-ad52-42b8422a2fe6',\n",
       "                        [{\"marker\": {\"color\": [-6.09, -5.843, -7.23, -6.312, -10.068, -8.279, -5.934, -5.892, -5.944, -10.109, -7.365, -7.005, -6.318, -6.593, -6.319], \"size\": 8}, \"mode\": \"markers\", \"text\": [\"Post Malone - rockstar (feat. 21 Savage)\", \"Post Malone - Better Now\", \"Juice WRLD - Lucid Dreams\", \"Ed Sheeran - Perfect\", \"XXXTENTACION - changes\", \"Sam Smith - Too Good At Goodbyes\", \"Ariana Grande - God is a woman\", \"David Guetta - Flames\", \"Post Malone - Candy Paint\", \"Billie Eilish - lovely (with Khalid)\", \"Ed Sheeran - Perfect Duet (Ed Sheeran & Beyonc?)\", \"Zac Efron - Rewrite The Stars\", \"Clean Bandit - I Miss You (feat. Julia Michaels)\", \"ZAYN - Dusk Till Dawn - Radio Edit\", \"Dean Lewis - Be Alright\"], \"type\": \"scatter\", \"x\": [118.28646087646484, 64.43428039550781, -148.05758666992188, 431.03643798828125, 209.61976623535156, 215.43060302734375, -76.80078125, -23.625858306884766, 74.65791320800781, 38.331390380859375, 93.73176574707031, -2343.7666015625, -929.2760620117188, -15.26260757446289, 1230.035888671875], \"y\": [-38.283390045166016, 435.8733215332031, -45.109947204589844, -1173.6484375, 117.35850524902344, 73.29508972167969, -394.56219482421875, 45.84104537963867, -30.014495849609375, -422.9960632324219, 69.58546447753906, 509.7412109375, 1318.562744140625, 8.19003677368164, -190.20794677734375]}],\n",
       "                        {\"template\": {\"data\": {\"bar\": [{\"error_x\": {\"color\": \"#2a3f5f\"}, \"error_y\": {\"color\": \"#2a3f5f\"}, \"marker\": {\"line\": {\"color\": \"#E5ECF6\", \"width\": 0.5}}, \"type\": \"bar\"}], \"barpolar\": [{\"marker\": {\"line\": {\"color\": \"#E5ECF6\", \"width\": 0.5}}, \"type\": \"barpolar\"}], \"carpet\": [{\"aaxis\": {\"endlinecolor\": \"#2a3f5f\", \"gridcolor\": \"white\", \"linecolor\": \"white\", \"minorgridcolor\": \"white\", \"startlinecolor\": \"#2a3f5f\"}, \"baxis\": {\"endlinecolor\": \"#2a3f5f\", \"gridcolor\": \"white\", \"linecolor\": \"white\", \"minorgridcolor\": \"white\", \"startlinecolor\": \"#2a3f5f\"}, \"type\": \"carpet\"}], \"choropleth\": [{\"colorbar\": {\"outlinewidth\": 0, \"ticks\": \"\"}, \"type\": \"choropleth\"}], \"contour\": [{\"colorbar\": {\"outlinewidth\": 0, \"ticks\": \"\"}, \"colorscale\": [[0.0, \"#0d0887\"], [0.1111111111111111, \"#46039f\"], [0.2222222222222222, \"#7201a8\"], [0.3333333333333333, \"#9c179e\"], [0.4444444444444444, \"#bd3786\"], [0.5555555555555556, \"#d8576b\"], [0.6666666666666666, \"#ed7953\"], [0.7777777777777778, \"#fb9f3a\"], [0.8888888888888888, \"#fdca26\"], [1.0, \"#f0f921\"]], \"type\": \"contour\"}], \"contourcarpet\": [{\"colorbar\": {\"outlinewidth\": 0, \"ticks\": \"\"}, \"type\": \"contourcarpet\"}], \"heatmap\": [{\"colorbar\": {\"outlinewidth\": 0, \"ticks\": \"\"}, \"colorscale\": [[0.0, \"#0d0887\"], [0.1111111111111111, \"#46039f\"], [0.2222222222222222, \"#7201a8\"], [0.3333333333333333, \"#9c179e\"], [0.4444444444444444, \"#bd3786\"], [0.5555555555555556, \"#d8576b\"], [0.6666666666666666, \"#ed7953\"], [0.7777777777777778, \"#fb9f3a\"], [0.8888888888888888, \"#fdca26\"], [1.0, \"#f0f921\"]], \"type\": \"heatmap\"}], \"heatmapgl\": [{\"colorbar\": {\"outlinewidth\": 0, \"ticks\": \"\"}, \"colorscale\": [[0.0, \"#0d0887\"], [0.1111111111111111, \"#46039f\"], [0.2222222222222222, \"#7201a8\"], [0.3333333333333333, \"#9c179e\"], [0.4444444444444444, \"#bd3786\"], [0.5555555555555556, \"#d8576b\"], [0.6666666666666666, \"#ed7953\"], [0.7777777777777778, \"#fb9f3a\"], [0.8888888888888888, \"#fdca26\"], [1.0, \"#f0f921\"]], \"type\": \"heatmapgl\"}], \"histogram\": [{\"marker\": {\"colorbar\": {\"outlinewidth\": 0, \"ticks\": \"\"}}, \"type\": \"histogram\"}], \"histogram2d\": [{\"colorbar\": {\"outlinewidth\": 0, \"ticks\": \"\"}, \"colorscale\": [[0.0, \"#0d0887\"], [0.1111111111111111, \"#46039f\"], [0.2222222222222222, \"#7201a8\"], [0.3333333333333333, \"#9c179e\"], [0.4444444444444444, \"#bd3786\"], [0.5555555555555556, \"#d8576b\"], [0.6666666666666666, \"#ed7953\"], [0.7777777777777778, \"#fb9f3a\"], [0.8888888888888888, \"#fdca26\"], [1.0, \"#f0f921\"]], \"type\": \"histogram2d\"}], \"histogram2dcontour\": [{\"colorbar\": {\"outlinewidth\": 0, \"ticks\": \"\"}, \"colorscale\": [[0.0, \"#0d0887\"], [0.1111111111111111, \"#46039f\"], [0.2222222222222222, \"#7201a8\"], [0.3333333333333333, \"#9c179e\"], [0.4444444444444444, \"#bd3786\"], [0.5555555555555556, \"#d8576b\"], [0.6666666666666666, \"#ed7953\"], [0.7777777777777778, \"#fb9f3a\"], [0.8888888888888888, \"#fdca26\"], [1.0, \"#f0f921\"]], \"type\": \"histogram2dcontour\"}], \"mesh3d\": [{\"colorbar\": {\"outlinewidth\": 0, \"ticks\": \"\"}, \"type\": \"mesh3d\"}], \"parcoords\": [{\"line\": {\"colorbar\": {\"outlinewidth\": 0, \"ticks\": \"\"}}, \"type\": \"parcoords\"}], \"pie\": [{\"automargin\": true, \"type\": \"pie\"}], \"scatter\": [{\"marker\": {\"colorbar\": {\"outlinewidth\": 0, \"ticks\": \"\"}}, \"type\": \"scatter\"}], \"scatter3d\": [{\"line\": {\"colorbar\": {\"outlinewidth\": 0, \"ticks\": \"\"}}, \"marker\": {\"colorbar\": {\"outlinewidth\": 0, \"ticks\": \"\"}}, \"type\": \"scatter3d\"}], \"scattercarpet\": [{\"marker\": {\"colorbar\": {\"outlinewidth\": 0, \"ticks\": \"\"}}, \"type\": \"scattercarpet\"}], \"scattergeo\": [{\"marker\": {\"colorbar\": {\"outlinewidth\": 0, \"ticks\": \"\"}}, \"type\": \"scattergeo\"}], \"scattergl\": [{\"marker\": {\"colorbar\": {\"outlinewidth\": 0, \"ticks\": \"\"}}, \"type\": \"scattergl\"}], \"scattermapbox\": [{\"marker\": {\"colorbar\": {\"outlinewidth\": 0, \"ticks\": \"\"}}, \"type\": \"scattermapbox\"}], \"scatterpolar\": [{\"marker\": {\"colorbar\": {\"outlinewidth\": 0, \"ticks\": \"\"}}, \"type\": \"scatterpolar\"}], \"scatterpolargl\": [{\"marker\": {\"colorbar\": {\"outlinewidth\": 0, \"ticks\": \"\"}}, \"type\": \"scatterpolargl\"}], \"scatterternary\": [{\"marker\": {\"colorbar\": {\"outlinewidth\": 0, \"ticks\": \"\"}}, \"type\": \"scatterternary\"}], \"surface\": [{\"colorbar\": {\"outlinewidth\": 0, \"ticks\": \"\"}, \"colorscale\": [[0.0, \"#0d0887\"], [0.1111111111111111, \"#46039f\"], [0.2222222222222222, \"#7201a8\"], [0.3333333333333333, \"#9c179e\"], [0.4444444444444444, \"#bd3786\"], [0.5555555555555556, \"#d8576b\"], [0.6666666666666666, \"#ed7953\"], [0.7777777777777778, \"#fb9f3a\"], [0.8888888888888888, \"#fdca26\"], [1.0, \"#f0f921\"]], \"type\": \"surface\"}], \"table\": [{\"cells\": {\"fill\": {\"color\": \"#EBF0F8\"}, \"line\": {\"color\": \"white\"}}, \"header\": {\"fill\": {\"color\": \"#C8D4E3\"}, \"line\": {\"color\": \"white\"}}, \"type\": \"table\"}]}, \"layout\": {\"annotationdefaults\": {\"arrowcolor\": \"#2a3f5f\", \"arrowhead\": 0, \"arrowwidth\": 1}, \"coloraxis\": {\"colorbar\": {\"outlinewidth\": 0, \"ticks\": \"\"}}, \"colorscale\": {\"diverging\": [[0, \"#8e0152\"], [0.1, \"#c51b7d\"], [0.2, \"#de77ae\"], [0.3, \"#f1b6da\"], [0.4, \"#fde0ef\"], [0.5, \"#f7f7f7\"], [0.6, \"#e6f5d0\"], [0.7, \"#b8e186\"], [0.8, \"#7fbc41\"], [0.9, \"#4d9221\"], [1, \"#276419\"]], \"sequential\": [[0.0, \"#0d0887\"], [0.1111111111111111, \"#46039f\"], [0.2222222222222222, \"#7201a8\"], [0.3333333333333333, \"#9c179e\"], [0.4444444444444444, \"#bd3786\"], [0.5555555555555556, \"#d8576b\"], [0.6666666666666666, \"#ed7953\"], [0.7777777777777778, \"#fb9f3a\"], [0.8888888888888888, \"#fdca26\"], [1.0, \"#f0f921\"]], \"sequentialminus\": [[0.0, \"#0d0887\"], [0.1111111111111111, \"#46039f\"], [0.2222222222222222, \"#7201a8\"], [0.3333333333333333, \"#9c179e\"], [0.4444444444444444, \"#bd3786\"], [0.5555555555555556, \"#d8576b\"], [0.6666666666666666, \"#ed7953\"], [0.7777777777777778, \"#fb9f3a\"], [0.8888888888888888, \"#fdca26\"], [1.0, \"#f0f921\"]]}, \"colorway\": [\"#636efa\", \"#EF553B\", \"#00cc96\", \"#ab63fa\", \"#FFA15A\", \"#19d3f3\", \"#FF6692\", \"#B6E880\", \"#FF97FF\", \"#FECB52\"], \"font\": {\"color\": \"#2a3f5f\"}, \"geo\": {\"bgcolor\": \"white\", \"lakecolor\": \"white\", \"landcolor\": \"#E5ECF6\", \"showlakes\": true, \"showland\": true, \"subunitcolor\": \"white\"}, \"hoverlabel\": {\"align\": \"left\"}, \"hovermode\": \"closest\", \"mapbox\": {\"style\": \"light\"}, \"paper_bgcolor\": \"white\", \"plot_bgcolor\": \"#E5ECF6\", \"polar\": {\"angularaxis\": {\"gridcolor\": \"white\", \"linecolor\": \"white\", \"ticks\": \"\"}, \"bgcolor\": \"#E5ECF6\", \"radialaxis\": {\"gridcolor\": \"white\", \"linecolor\": \"white\", \"ticks\": \"\"}}, \"scene\": {\"xaxis\": {\"backgroundcolor\": \"#E5ECF6\", \"gridcolor\": \"white\", \"gridwidth\": 2, \"linecolor\": \"white\", \"showbackground\": true, \"ticks\": \"\", \"zerolinecolor\": \"white\"}, \"yaxis\": {\"backgroundcolor\": \"#E5ECF6\", \"gridcolor\": \"white\", \"gridwidth\": 2, \"linecolor\": \"white\", \"showbackground\": true, \"ticks\": \"\", \"zerolinecolor\": \"white\"}, \"zaxis\": {\"backgroundcolor\": \"#E5ECF6\", \"gridcolor\": \"white\", \"gridwidth\": 2, \"linecolor\": \"white\", \"showbackground\": true, \"ticks\": \"\", \"zerolinecolor\": \"white\"}}, \"shapedefaults\": {\"line\": {\"color\": \"#2a3f5f\"}}, \"ternary\": {\"aaxis\": {\"gridcolor\": \"white\", \"linecolor\": \"white\", \"ticks\": \"\"}, \"baxis\": {\"gridcolor\": \"white\", \"linecolor\": \"white\", \"ticks\": \"\"}, \"bgcolor\": \"#E5ECF6\", \"caxis\": {\"gridcolor\": \"white\", \"linecolor\": \"white\", \"ticks\": \"\"}}, \"title\": {\"x\": 0.05}, \"xaxis\": {\"automargin\": true, \"gridcolor\": \"white\", \"linecolor\": \"white\", \"ticks\": \"\", \"title\": {\"standoff\": 15}, \"zerolinecolor\": \"white\", \"zerolinewidth\": 2}, \"yaxis\": {\"automargin\": true, \"gridcolor\": \"white\", \"linecolor\": \"white\", \"ticks\": \"\", \"title\": {\"standoff\": 15}, \"zerolinecolor\": \"white\", \"zerolinewidth\": 2}}}, \"xaxis\": {\"title\": {\"text\": \"x-tsne\"}}, \"yaxis\": {\"title\": {\"text\": \"y-tsne\"}}},\n",
       "                        {\"responsive\": true}\n",
       "                    ).then(function(){\n",
       "                            \n",
       "var gd = document.getElementById('493b4285-8886-4e22-ad52-42b8422a2fe6');\n",
       "var x = new MutationObserver(function (mutations, observer) {{\n",
       "        var display = window.getComputedStyle(gd).display;\n",
       "        if (!display || display === 'none') {{\n",
       "            console.log([gd, 'removed!']);\n",
       "            Plotly.purge(gd);\n",
       "            observer.disconnect();\n",
       "        }}\n",
       "}});\n",
       "\n",
       "// Listen for the removal of the full notebook cells\n",
       "var notebookContainer = gd.closest('#notebook-container');\n",
       "if (notebookContainer) {{\n",
       "    x.observe(notebookContainer, {childList: true});\n",
       "}}\n",
       "\n",
       "// Listen for the clearing of the current output cell\n",
       "var outputEl = gd.closest('.output');\n",
       "if (outputEl) {{\n",
       "    x.observe(outputEl, {childList: true});\n",
       "}}\n",
       "\n",
       "                        })\n",
       "                };\n",
       "                });\n",
       "            </script>\n",
       "        </div>"
      ]
     },
     "metadata": {},
     "output_type": "display_data"
    }
   ],
   "source": [
    "not_top_songs(df_new)"
   ]
  },
  {
   "cell_type": "markdown",
   "metadata": {},
   "source": [
    "HENCE:assumption 2 also prooved "
   ]
  }
 ],
 "metadata": {
  "kernelspec": {
   "display_name": "Python 3",
   "language": "python",
   "name": "python3"
  },
  "language_info": {
   "codemirror_mode": {
    "name": "ipython",
    "version": 3
   },
   "file_extension": ".py",
   "mimetype": "text/x-python",
   "name": "python",
   "nbconvert_exporter": "python",
   "pygments_lexer": "ipython3",
   "version": "3.7.4"
  },
  "toc": {
   "base_numbering": 1,
   "nav_menu": {},
   "number_sections": true,
   "sideBar": true,
   "skip_h1_title": false,
   "title_cell": "Table of Contents",
   "title_sidebar": "Contents",
   "toc_cell": false,
   "toc_position": {
    "height": "calc(100% - 180px)",
    "left": "10px",
    "top": "150px",
    "width": "307.2px"
   },
   "toc_section_display": true,
   "toc_window_display": true
  },
  "varInspector": {
   "cols": {
    "lenName": 16,
    "lenType": 16,
    "lenVar": 40
   },
   "kernels_config": {
    "python": {
     "delete_cmd_postfix": "",
     "delete_cmd_prefix": "del ",
     "library": "var_list.py",
     "varRefreshCmd": "print(var_dic_list())"
    },
    "r": {
     "delete_cmd_postfix": ") ",
     "delete_cmd_prefix": "rm(",
     "library": "var_list.r",
     "varRefreshCmd": "cat(var_dic_list()) "
    }
   },
   "types_to_exclude": [
    "module",
    "function",
    "builtin_function_or_method",
    "instance",
    "_Feature"
   ],
   "window_display": false
  }
 },
 "nbformat": 4,
 "nbformat_minor": 2
}
