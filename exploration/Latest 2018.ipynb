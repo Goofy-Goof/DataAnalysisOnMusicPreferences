{
 "cells": [
  {
   "cell_type": "code",
   "execution_count": 1,
   "metadata": {},
   "outputs": [
    {
     "data": {
      "text/html": [
       "        <script type=\"text/javascript\">\n",
       "        window.PlotlyConfig = {MathJaxConfig: 'local'};\n",
       "        if (window.MathJax) {MathJax.Hub.Config({SVG: {font: \"STIX-Web\"}});}\n",
       "        if (typeof require !== 'undefined') {\n",
       "        require.undef(\"plotly\");\n",
       "        requirejs.config({\n",
       "            paths: {\n",
       "                'plotly': ['https://cdn.plot.ly/plotly-latest.min']\n",
       "            }\n",
       "        });\n",
       "        require(['plotly'], function(Plotly) {\n",
       "            window._Plotly = Plotly;\n",
       "        });\n",
       "        }\n",
       "        </script>\n",
       "        "
      ]
     },
     "metadata": {},
     "output_type": "display_data"
    }
   ],
   "source": [
    "import pandas as pd\n",
    "import numpy as np\n",
    "import seaborn as sns\n",
    "from matplotlib import pyplot as plt\n",
    "%matplotlib inline\n",
    "from textblob import TextBlob\n",
    "from sklearn.model_selection import train_test_split\n",
    "\n",
    "from xgboost import XGBClassifier\n",
    "from sklearn.ensemble import RandomForestClassifier\n",
    "from xgboost import plot_importance\n",
    "from sklearn.preprocessing import MinMaxScaler\n",
    "from sklearn.decomposition import PCA\n",
    "\n",
    "import plotly.offline as py\n",
    "py.init_notebook_mode(connected=True)\n",
    "import plotly.graph_objs as go\n",
    "import plotly.tools as tls\n",
    "from sklearn.manifold import TSNE\n",
    "import time\n",
    "\n"
   ]
  },
  {
   "cell_type": "markdown",
   "metadata": {},
   "source": [
    "# Load the data"
   ]
  },
  {
   "cell_type": "code",
   "execution_count": 2,
   "metadata": {},
   "outputs": [],
   "source": [
    "year='../data/datasetsFinalaizedForEDA/datasets_top100-2018.csv'\n",
    "df_new=pd.read_csv('../data/intermediate datasets-ToBeUsedForRanking/df_2018_new.csv')\n",
    "new_dataframe_name=\"../data/intermediate datasets-ToBeUsedForRanking/df_2018_new.csv\"\n",
    "\n"
   ]
  },
  {
   "cell_type": "code",
   "execution_count": 3,
   "metadata": {},
   "outputs": [],
   "source": [
    "def load(year):\n",
    "    df=pd.read_csv(year)\n",
    "    return df\n",
    "\n",
    "#df_2019=pd.read_csv('../data/datasets_top50-2019.csv',encoding='latin-1')\n"
   ]
  },
  {
   "cell_type": "code",
   "execution_count": 4,
   "metadata": {},
   "outputs": [
    {
     "data": {
      "text/html": [
       "<div>\n",
       "<style scoped>\n",
       "    .dataframe tbody tr th:only-of-type {\n",
       "        vertical-align: middle;\n",
       "    }\n",
       "\n",
       "    .dataframe tbody tr th {\n",
       "        vertical-align: top;\n",
       "    }\n",
       "\n",
       "    .dataframe thead th {\n",
       "        text-align: right;\n",
       "    }\n",
       "</style>\n",
       "<table border=\"1\" class=\"dataframe\">\n",
       "  <thead>\n",
       "    <tr style=\"text-align: right;\">\n",
       "      <th></th>\n",
       "      <th>id</th>\n",
       "      <th>name</th>\n",
       "      <th>artists</th>\n",
       "      <th>danceability</th>\n",
       "      <th>energy</th>\n",
       "      <th>key</th>\n",
       "      <th>loudness</th>\n",
       "      <th>mode</th>\n",
       "      <th>speechiness</th>\n",
       "      <th>acousticness</th>\n",
       "      <th>instrumentalness</th>\n",
       "      <th>liveness</th>\n",
       "      <th>valence</th>\n",
       "      <th>tempo</th>\n",
       "      <th>duration_ms</th>\n",
       "      <th>time_signature</th>\n",
       "    </tr>\n",
       "  </thead>\n",
       "  <tbody>\n",
       "    <tr>\n",
       "      <th>0</th>\n",
       "      <td>6DCZcSspjsKoFjzjrWoCd</td>\n",
       "      <td>God's Plan</td>\n",
       "      <td>Drake</td>\n",
       "      <td>0.754</td>\n",
       "      <td>0.449</td>\n",
       "      <td>7.0</td>\n",
       "      <td>-9.211</td>\n",
       "      <td>1.0</td>\n",
       "      <td>0.1090</td>\n",
       "      <td>0.0332</td>\n",
       "      <td>0.000083</td>\n",
       "      <td>0.5520</td>\n",
       "      <td>0.3570</td>\n",
       "      <td>77.169</td>\n",
       "      <td>198973.0</td>\n",
       "      <td>4.0</td>\n",
       "    </tr>\n",
       "    <tr>\n",
       "      <th>1</th>\n",
       "      <td>3ee8Jmje8o58CHK66QrVC</td>\n",
       "      <td>SAD!</td>\n",
       "      <td>XXXTENTACION</td>\n",
       "      <td>0.740</td>\n",
       "      <td>0.613</td>\n",
       "      <td>8.0</td>\n",
       "      <td>-4.880</td>\n",
       "      <td>1.0</td>\n",
       "      <td>0.1450</td>\n",
       "      <td>0.2580</td>\n",
       "      <td>0.003720</td>\n",
       "      <td>0.1230</td>\n",
       "      <td>0.4730</td>\n",
       "      <td>75.023</td>\n",
       "      <td>166606.0</td>\n",
       "      <td>4.0</td>\n",
       "    </tr>\n",
       "    <tr>\n",
       "      <th>2</th>\n",
       "      <td>0e7ipj03S05BNilyu5bRz</td>\n",
       "      <td>rockstar (feat. 21 Savage)</td>\n",
       "      <td>Post Malone</td>\n",
       "      <td>0.587</td>\n",
       "      <td>0.535</td>\n",
       "      <td>5.0</td>\n",
       "      <td>-6.090</td>\n",
       "      <td>0.0</td>\n",
       "      <td>0.0898</td>\n",
       "      <td>0.1170</td>\n",
       "      <td>0.000066</td>\n",
       "      <td>0.1310</td>\n",
       "      <td>0.1400</td>\n",
       "      <td>159.847</td>\n",
       "      <td>218147.0</td>\n",
       "      <td>4.0</td>\n",
       "    </tr>\n",
       "    <tr>\n",
       "      <th>3</th>\n",
       "      <td>3swc6WTsr7rl9DqQKQA55</td>\n",
       "      <td>Psycho (feat. Ty Dolla $ign)</td>\n",
       "      <td>Post Malone</td>\n",
       "      <td>0.739</td>\n",
       "      <td>0.559</td>\n",
       "      <td>8.0</td>\n",
       "      <td>-8.011</td>\n",
       "      <td>1.0</td>\n",
       "      <td>0.1170</td>\n",
       "      <td>0.5800</td>\n",
       "      <td>0.000000</td>\n",
       "      <td>0.1120</td>\n",
       "      <td>0.4390</td>\n",
       "      <td>140.124</td>\n",
       "      <td>221440.0</td>\n",
       "      <td>4.0</td>\n",
       "    </tr>\n",
       "    <tr>\n",
       "      <th>4</th>\n",
       "      <td>2G7V7zsVDxg1yRsu7Ew9R</td>\n",
       "      <td>In My Feelings</td>\n",
       "      <td>Drake</td>\n",
       "      <td>0.835</td>\n",
       "      <td>0.626</td>\n",
       "      <td>1.0</td>\n",
       "      <td>-5.833</td>\n",
       "      <td>1.0</td>\n",
       "      <td>0.1250</td>\n",
       "      <td>0.0589</td>\n",
       "      <td>0.000060</td>\n",
       "      <td>0.3960</td>\n",
       "      <td>0.3500</td>\n",
       "      <td>91.030</td>\n",
       "      <td>217925.0</td>\n",
       "      <td>4.0</td>\n",
       "    </tr>\n",
       "    <tr>\n",
       "      <th>...</th>\n",
       "      <td>...</td>\n",
       "      <td>...</td>\n",
       "      <td>...</td>\n",
       "      <td>...</td>\n",
       "      <td>...</td>\n",
       "      <td>...</td>\n",
       "      <td>...</td>\n",
       "      <td>...</td>\n",
       "      <td>...</td>\n",
       "      <td>...</td>\n",
       "      <td>...</td>\n",
       "      <td>...</td>\n",
       "      <td>...</td>\n",
       "      <td>...</td>\n",
       "      <td>...</td>\n",
       "      <td>...</td>\n",
       "    </tr>\n",
       "    <tr>\n",
       "      <th>95</th>\n",
       "      <td>630sXRhIcfwr2e4RdNtjK</td>\n",
       "      <td>Rewrite The Stars</td>\n",
       "      <td>Zac Efron</td>\n",
       "      <td>0.684</td>\n",
       "      <td>0.619</td>\n",
       "      <td>10.0</td>\n",
       "      <td>-7.005</td>\n",
       "      <td>1.0</td>\n",
       "      <td>0.0386</td>\n",
       "      <td>0.0716</td>\n",
       "      <td>0.000000</td>\n",
       "      <td>0.1220</td>\n",
       "      <td>0.2840</td>\n",
       "      <td>125.046</td>\n",
       "      <td>217440.0</td>\n",
       "      <td>4.0</td>\n",
       "    </tr>\n",
       "    <tr>\n",
       "      <th>96</th>\n",
       "      <td>2xmrfQpmS2iJExTlklLoA</td>\n",
       "      <td>I Miss You (feat. Julia Michaels)</td>\n",
       "      <td>Clean Bandit</td>\n",
       "      <td>0.638</td>\n",
       "      <td>0.658</td>\n",
       "      <td>3.0</td>\n",
       "      <td>-6.318</td>\n",
       "      <td>1.0</td>\n",
       "      <td>0.0456</td>\n",
       "      <td>0.2450</td>\n",
       "      <td>0.000004</td>\n",
       "      <td>0.0919</td>\n",
       "      <td>0.3300</td>\n",
       "      <td>105.076</td>\n",
       "      <td>205748.0</td>\n",
       "      <td>4.0</td>\n",
       "    </tr>\n",
       "    <tr>\n",
       "      <th>97</th>\n",
       "      <td>5WvAo7DNuPRmk4APhdPzi</td>\n",
       "      <td>No Brainer</td>\n",
       "      <td>DJ Khaled</td>\n",
       "      <td>0.552</td>\n",
       "      <td>0.760</td>\n",
       "      <td>0.0</td>\n",
       "      <td>-4.706</td>\n",
       "      <td>1.0</td>\n",
       "      <td>0.3420</td>\n",
       "      <td>0.0733</td>\n",
       "      <td>0.000000</td>\n",
       "      <td>0.0865</td>\n",
       "      <td>0.6390</td>\n",
       "      <td>135.702</td>\n",
       "      <td>260000.0</td>\n",
       "      <td>5.0</td>\n",
       "    </tr>\n",
       "    <tr>\n",
       "      <th>98</th>\n",
       "      <td>1j4kHkkpqZRBwE0A4CN4Y</td>\n",
       "      <td>Dusk Till Dawn - Radio Edit</td>\n",
       "      <td>ZAYN</td>\n",
       "      <td>0.258</td>\n",
       "      <td>0.437</td>\n",
       "      <td>11.0</td>\n",
       "      <td>-6.593</td>\n",
       "      <td>0.0</td>\n",
       "      <td>0.0390</td>\n",
       "      <td>0.1010</td>\n",
       "      <td>0.000001</td>\n",
       "      <td>0.1060</td>\n",
       "      <td>0.0967</td>\n",
       "      <td>180.043</td>\n",
       "      <td>239000.0</td>\n",
       "      <td>4.0</td>\n",
       "    </tr>\n",
       "    <tr>\n",
       "      <th>99</th>\n",
       "      <td>3EPXxR3ImUwfayaurPi3c</td>\n",
       "      <td>Be Alright</td>\n",
       "      <td>Dean Lewis</td>\n",
       "      <td>0.553</td>\n",
       "      <td>0.586</td>\n",
       "      <td>11.0</td>\n",
       "      <td>-6.319</td>\n",
       "      <td>1.0</td>\n",
       "      <td>0.0362</td>\n",
       "      <td>0.6970</td>\n",
       "      <td>0.000000</td>\n",
       "      <td>0.0813</td>\n",
       "      <td>0.4430</td>\n",
       "      <td>126.684</td>\n",
       "      <td>196373.0</td>\n",
       "      <td>4.0</td>\n",
       "    </tr>\n",
       "  </tbody>\n",
       "</table>\n",
       "<p>100 rows × 16 columns</p>\n",
       "</div>"
      ],
      "text/plain": [
       "                       id                               name       artists  \\\n",
       "0   6DCZcSspjsKoFjzjrWoCd                         God's Plan         Drake   \n",
       "1   3ee8Jmje8o58CHK66QrVC                               SAD!  XXXTENTACION   \n",
       "2   0e7ipj03S05BNilyu5bRz         rockstar (feat. 21 Savage)   Post Malone   \n",
       "3   3swc6WTsr7rl9DqQKQA55       Psycho (feat. Ty Dolla $ign)   Post Malone   \n",
       "4   2G7V7zsVDxg1yRsu7Ew9R                     In My Feelings         Drake   \n",
       "..                    ...                                ...           ...   \n",
       "95  630sXRhIcfwr2e4RdNtjK                  Rewrite The Stars     Zac Efron   \n",
       "96  2xmrfQpmS2iJExTlklLoA  I Miss You (feat. Julia Michaels)  Clean Bandit   \n",
       "97  5WvAo7DNuPRmk4APhdPzi                         No Brainer     DJ Khaled   \n",
       "98  1j4kHkkpqZRBwE0A4CN4Y        Dusk Till Dawn - Radio Edit          ZAYN   \n",
       "99  3EPXxR3ImUwfayaurPi3c                         Be Alright    Dean Lewis   \n",
       "\n",
       "    danceability  energy   key  loudness  mode  speechiness  acousticness  \\\n",
       "0          0.754   0.449   7.0    -9.211   1.0       0.1090        0.0332   \n",
       "1          0.740   0.613   8.0    -4.880   1.0       0.1450        0.2580   \n",
       "2          0.587   0.535   5.0    -6.090   0.0       0.0898        0.1170   \n",
       "3          0.739   0.559   8.0    -8.011   1.0       0.1170        0.5800   \n",
       "4          0.835   0.626   1.0    -5.833   1.0       0.1250        0.0589   \n",
       "..           ...     ...   ...       ...   ...          ...           ...   \n",
       "95         0.684   0.619  10.0    -7.005   1.0       0.0386        0.0716   \n",
       "96         0.638   0.658   3.0    -6.318   1.0       0.0456        0.2450   \n",
       "97         0.552   0.760   0.0    -4.706   1.0       0.3420        0.0733   \n",
       "98         0.258   0.437  11.0    -6.593   0.0       0.0390        0.1010   \n",
       "99         0.553   0.586  11.0    -6.319   1.0       0.0362        0.6970   \n",
       "\n",
       "    instrumentalness  liveness  valence    tempo  duration_ms  time_signature  \n",
       "0           0.000083    0.5520   0.3570   77.169     198973.0             4.0  \n",
       "1           0.003720    0.1230   0.4730   75.023     166606.0             4.0  \n",
       "2           0.000066    0.1310   0.1400  159.847     218147.0             4.0  \n",
       "3           0.000000    0.1120   0.4390  140.124     221440.0             4.0  \n",
       "4           0.000060    0.3960   0.3500   91.030     217925.0             4.0  \n",
       "..               ...       ...      ...      ...          ...             ...  \n",
       "95          0.000000    0.1220   0.2840  125.046     217440.0             4.0  \n",
       "96          0.000004    0.0919   0.3300  105.076     205748.0             4.0  \n",
       "97          0.000000    0.0865   0.6390  135.702     260000.0             5.0  \n",
       "98          0.000001    0.1060   0.0967  180.043     239000.0             4.0  \n",
       "99          0.000000    0.0813   0.4430  126.684     196373.0             4.0  \n",
       "\n",
       "[100 rows x 16 columns]"
      ]
     },
     "execution_count": 4,
     "metadata": {},
     "output_type": "execute_result"
    }
   ],
   "source": [
    "load(year)"
   ]
  },
  {
   "cell_type": "code",
   "execution_count": 5,
   "metadata": {},
   "outputs": [],
   "source": [
    "df=load(year)"
   ]
  },
  {
   "cell_type": "markdown",
   "metadata": {},
   "source": [
    "# data properties"
   ]
  },
  {
   "cell_type": "code",
   "execution_count": 6,
   "metadata": {},
   "outputs": [],
   "source": [
    "def data_properties(year):\n",
    "    print(\"properties for year are as follows :\\n\")\n",
    "    print(\"column details:\\n\")\n",
    "    print(year.columns)\n",
    "    print(\"shape:\\n\")\n",
    "    print(year.shape)\n",
    "    print(\"info about dataset:\\n\")\n",
    "    print(year.info())\n",
    "    print(\"\\n\")\n"
   ]
  },
  {
   "cell_type": "code",
   "execution_count": 7,
   "metadata": {},
   "outputs": [
    {
     "name": "stdout",
     "output_type": "stream",
     "text": [
      "properties for year are as follows :\n",
      "\n",
      "column details:\n",
      "\n",
      "Index(['id', 'name', 'artists', 'danceability', 'energy', 'key', 'loudness',\n",
      "       'mode', 'speechiness', 'acousticness', 'instrumentalness', 'liveness',\n",
      "       'valence', 'tempo', 'duration_ms', 'time_signature'],\n",
      "      dtype='object')\n",
      "shape:\n",
      "\n",
      "(100, 16)\n",
      "info about dataset:\n",
      "\n",
      "<class 'pandas.core.frame.DataFrame'>\n",
      "RangeIndex: 100 entries, 0 to 99\n",
      "Data columns (total 16 columns):\n",
      " #   Column            Non-Null Count  Dtype  \n",
      "---  ------            --------------  -----  \n",
      " 0   id                100 non-null    object \n",
      " 1   name              100 non-null    object \n",
      " 2   artists           100 non-null    object \n",
      " 3   danceability      100 non-null    float64\n",
      " 4   energy            100 non-null    float64\n",
      " 5   key               100 non-null    float64\n",
      " 6   loudness          100 non-null    float64\n",
      " 7   mode              100 non-null    float64\n",
      " 8   speechiness       100 non-null    float64\n",
      " 9   acousticness      100 non-null    float64\n",
      " 10  instrumentalness  100 non-null    float64\n",
      " 11  liveness          100 non-null    float64\n",
      " 12  valence           100 non-null    float64\n",
      " 13  tempo             100 non-null    float64\n",
      " 14  duration_ms       100 non-null    float64\n",
      " 15  time_signature    100 non-null    float64\n",
      "dtypes: float64(13), object(3)\n",
      "memory usage: 12.6+ KB\n",
      "None\n",
      "\n",
      "\n"
     ]
    }
   ],
   "source": [
    "data_properties(df)"
   ]
  },
  {
   "cell_type": "markdown",
   "metadata": {},
   "source": [
    "### Initial calculations on data"
   ]
  },
  {
   "cell_type": "markdown",
   "metadata": {},
   "source": [
    "#### checking if any value is null in the data "
   ]
  },
  {
   "cell_type": "code",
   "execution_count": 8,
   "metadata": {},
   "outputs": [],
   "source": [
    "def checkfornull(year):\n",
    "    print(\"cheking for null values......\")\n",
    "    print(year.columns[year.isnull().any()])\n",
    "    output=year.isnull().sum()\n",
    "    return output "
   ]
  },
  {
   "cell_type": "code",
   "execution_count": 9,
   "metadata": {},
   "outputs": [
    {
     "name": "stdout",
     "output_type": "stream",
     "text": [
      "cheking for null values......\n",
      "Index([], dtype='object')\n"
     ]
    },
    {
     "data": {
      "text/plain": [
       "id                  0\n",
       "name                0\n",
       "artists             0\n",
       "danceability        0\n",
       "energy              0\n",
       "key                 0\n",
       "loudness            0\n",
       "mode                0\n",
       "speechiness         0\n",
       "acousticness        0\n",
       "instrumentalness    0\n",
       "liveness            0\n",
       "valence             0\n",
       "tempo               0\n",
       "duration_ms         0\n",
       "time_signature      0\n",
       "dtype: int64"
      ]
     },
     "execution_count": 9,
     "metadata": {},
     "output_type": "execute_result"
    }
   ],
   "source": [
    "checkfornull(df)"
   ]
  },
  {
   "cell_type": "markdown",
   "metadata": {},
   "source": [
    "#### convert the non float data to float data type"
   ]
  },
  {
   "cell_type": "code",
   "execution_count": 10,
   "metadata": {},
   "outputs": [],
   "source": [
    "# in the data we obsrve that all the data is not in float .So , in order to maintain a symetry,we will \n",
    "# convert the non float data to float data type\n",
    "\n",
    "def float_conversion(column,value):\n",
    "    column= pd.to_numeric(value, downcast=\"float\")\n",
    "    return column\n"
   ]
  },
  {
   "cell_type": "code",
   "execution_count": 11,
   "metadata": {},
   "outputs": [],
   "source": [
    "def execute_float_conversion():\n",
    "    float_conversion(df.mode,df[\"mode\"])\n",
    "    float_conversion(df.duration_ms,df[\"duration_ms\"])\n",
    "    float_conversion(df.time_signature,df[\"time_signature\"])\n",
    "    return df.head()\n"
   ]
  },
  {
   "cell_type": "code",
   "execution_count": 12,
   "metadata": {},
   "outputs": [
    {
     "data": {
      "text/html": [
       "<div>\n",
       "<style scoped>\n",
       "    .dataframe tbody tr th:only-of-type {\n",
       "        vertical-align: middle;\n",
       "    }\n",
       "\n",
       "    .dataframe tbody tr th {\n",
       "        vertical-align: top;\n",
       "    }\n",
       "\n",
       "    .dataframe thead th {\n",
       "        text-align: right;\n",
       "    }\n",
       "</style>\n",
       "<table border=\"1\" class=\"dataframe\">\n",
       "  <thead>\n",
       "    <tr style=\"text-align: right;\">\n",
       "      <th></th>\n",
       "      <th>id</th>\n",
       "      <th>name</th>\n",
       "      <th>artists</th>\n",
       "      <th>danceability</th>\n",
       "      <th>energy</th>\n",
       "      <th>key</th>\n",
       "      <th>loudness</th>\n",
       "      <th>mode</th>\n",
       "      <th>speechiness</th>\n",
       "      <th>acousticness</th>\n",
       "      <th>instrumentalness</th>\n",
       "      <th>liveness</th>\n",
       "      <th>valence</th>\n",
       "      <th>tempo</th>\n",
       "      <th>duration_ms</th>\n",
       "      <th>time_signature</th>\n",
       "    </tr>\n",
       "  </thead>\n",
       "  <tbody>\n",
       "    <tr>\n",
       "      <th>0</th>\n",
       "      <td>6DCZcSspjsKoFjzjrWoCd</td>\n",
       "      <td>God's Plan</td>\n",
       "      <td>Drake</td>\n",
       "      <td>0.754</td>\n",
       "      <td>0.449</td>\n",
       "      <td>7.0</td>\n",
       "      <td>-9.211</td>\n",
       "      <td>1.0</td>\n",
       "      <td>0.1090</td>\n",
       "      <td>0.0332</td>\n",
       "      <td>0.000083</td>\n",
       "      <td>0.552</td>\n",
       "      <td>0.357</td>\n",
       "      <td>77.169</td>\n",
       "      <td>198973.0</td>\n",
       "      <td>4.0</td>\n",
       "    </tr>\n",
       "    <tr>\n",
       "      <th>1</th>\n",
       "      <td>3ee8Jmje8o58CHK66QrVC</td>\n",
       "      <td>SAD!</td>\n",
       "      <td>XXXTENTACION</td>\n",
       "      <td>0.740</td>\n",
       "      <td>0.613</td>\n",
       "      <td>8.0</td>\n",
       "      <td>-4.880</td>\n",
       "      <td>1.0</td>\n",
       "      <td>0.1450</td>\n",
       "      <td>0.2580</td>\n",
       "      <td>0.003720</td>\n",
       "      <td>0.123</td>\n",
       "      <td>0.473</td>\n",
       "      <td>75.023</td>\n",
       "      <td>166606.0</td>\n",
       "      <td>4.0</td>\n",
       "    </tr>\n",
       "    <tr>\n",
       "      <th>2</th>\n",
       "      <td>0e7ipj03S05BNilyu5bRz</td>\n",
       "      <td>rockstar (feat. 21 Savage)</td>\n",
       "      <td>Post Malone</td>\n",
       "      <td>0.587</td>\n",
       "      <td>0.535</td>\n",
       "      <td>5.0</td>\n",
       "      <td>-6.090</td>\n",
       "      <td>0.0</td>\n",
       "      <td>0.0898</td>\n",
       "      <td>0.1170</td>\n",
       "      <td>0.000066</td>\n",
       "      <td>0.131</td>\n",
       "      <td>0.140</td>\n",
       "      <td>159.847</td>\n",
       "      <td>218147.0</td>\n",
       "      <td>4.0</td>\n",
       "    </tr>\n",
       "    <tr>\n",
       "      <th>3</th>\n",
       "      <td>3swc6WTsr7rl9DqQKQA55</td>\n",
       "      <td>Psycho (feat. Ty Dolla $ign)</td>\n",
       "      <td>Post Malone</td>\n",
       "      <td>0.739</td>\n",
       "      <td>0.559</td>\n",
       "      <td>8.0</td>\n",
       "      <td>-8.011</td>\n",
       "      <td>1.0</td>\n",
       "      <td>0.1170</td>\n",
       "      <td>0.5800</td>\n",
       "      <td>0.000000</td>\n",
       "      <td>0.112</td>\n",
       "      <td>0.439</td>\n",
       "      <td>140.124</td>\n",
       "      <td>221440.0</td>\n",
       "      <td>4.0</td>\n",
       "    </tr>\n",
       "    <tr>\n",
       "      <th>4</th>\n",
       "      <td>2G7V7zsVDxg1yRsu7Ew9R</td>\n",
       "      <td>In My Feelings</td>\n",
       "      <td>Drake</td>\n",
       "      <td>0.835</td>\n",
       "      <td>0.626</td>\n",
       "      <td>1.0</td>\n",
       "      <td>-5.833</td>\n",
       "      <td>1.0</td>\n",
       "      <td>0.1250</td>\n",
       "      <td>0.0589</td>\n",
       "      <td>0.000060</td>\n",
       "      <td>0.396</td>\n",
       "      <td>0.350</td>\n",
       "      <td>91.030</td>\n",
       "      <td>217925.0</td>\n",
       "      <td>4.0</td>\n",
       "    </tr>\n",
       "  </tbody>\n",
       "</table>\n",
       "</div>"
      ],
      "text/plain": [
       "                      id                          name       artists  \\\n",
       "0  6DCZcSspjsKoFjzjrWoCd                    God's Plan         Drake   \n",
       "1  3ee8Jmje8o58CHK66QrVC                          SAD!  XXXTENTACION   \n",
       "2  0e7ipj03S05BNilyu5bRz    rockstar (feat. 21 Savage)   Post Malone   \n",
       "3  3swc6WTsr7rl9DqQKQA55  Psycho (feat. Ty Dolla $ign)   Post Malone   \n",
       "4  2G7V7zsVDxg1yRsu7Ew9R                In My Feelings         Drake   \n",
       "\n",
       "   danceability  energy  key  loudness  mode  speechiness  acousticness  \\\n",
       "0         0.754   0.449  7.0    -9.211   1.0       0.1090        0.0332   \n",
       "1         0.740   0.613  8.0    -4.880   1.0       0.1450        0.2580   \n",
       "2         0.587   0.535  5.0    -6.090   0.0       0.0898        0.1170   \n",
       "3         0.739   0.559  8.0    -8.011   1.0       0.1170        0.5800   \n",
       "4         0.835   0.626  1.0    -5.833   1.0       0.1250        0.0589   \n",
       "\n",
       "   instrumentalness  liveness  valence    tempo  duration_ms  time_signature  \n",
       "0          0.000083     0.552    0.357   77.169     198973.0             4.0  \n",
       "1          0.003720     0.123    0.473   75.023     166606.0             4.0  \n",
       "2          0.000066     0.131    0.140  159.847     218147.0             4.0  \n",
       "3          0.000000     0.112    0.439  140.124     221440.0             4.0  \n",
       "4          0.000060     0.396    0.350   91.030     217925.0             4.0  "
      ]
     },
     "execution_count": 12,
     "metadata": {},
     "output_type": "execute_result"
    }
   ],
   "source": [
    "execute_float_conversion()"
   ]
  },
  {
   "cell_type": "code",
   "execution_count": null,
   "metadata": {},
   "outputs": [],
   "source": []
  },
  {
   "cell_type": "markdown",
   "metadata": {},
   "source": [
    "## Sequential column analysis"
   ]
  },
  {
   "cell_type": "code",
   "execution_count": 13,
   "metadata": {},
   "outputs": [],
   "source": [
    "#Sequential column analysis: for in depth understanding "
   ]
  },
  {
   "cell_type": "code",
   "execution_count": 14,
   "metadata": {},
   "outputs": [],
   "source": [
    "def understand_feature(feature):\n",
    "    return feature.describe()\n"
   ]
  },
  {
   "cell_type": "markdown",
   "metadata": {},
   "source": [
    "#### danceability"
   ]
  },
  {
   "cell_type": "code",
   "execution_count": 15,
   "metadata": {},
   "outputs": [],
   "source": [
    "#The higher the value, the easier it is to dance to this song.\n",
    "def print_overall_dancebility_features():\n",
    "    print(\"overall danceability feature\\n\")\n",
    "    return understand_feature(df[\"danceability\"])\n"
   ]
  },
  {
   "cell_type": "code",
   "execution_count": 16,
   "metadata": {},
   "outputs": [
    {
     "name": "stdout",
     "output_type": "stream",
     "text": [
      "overall danceability feature\n",
      "\n"
     ]
    },
    {
     "data": {
      "text/plain": [
       "count    100.00000\n",
       "mean       0.71646\n",
       "std        0.13107\n",
       "min        0.25800\n",
       "25%        0.63550\n",
       "50%        0.73300\n",
       "75%        0.79825\n",
       "max        0.96400\n",
       "Name: danceability, dtype: float64"
      ]
     },
     "execution_count": 16,
     "metadata": {},
     "output_type": "execute_result"
    }
   ],
   "source": [
    "print_overall_dancebility_features()"
   ]
  },
  {
   "cell_type": "code",
   "execution_count": 17,
   "metadata": {},
   "outputs": [],
   "source": [
    "def top_10_dancebility():\n",
    "    print(\"top 10  danceability feature\\n\")\n",
    "    return understand_feature(df[\"danceability\"].head(10))\n",
    "\n"
   ]
  },
  {
   "cell_type": "code",
   "execution_count": 18,
   "metadata": {},
   "outputs": [
    {
     "name": "stdout",
     "output_type": "stream",
     "text": [
      "top 10  danceability feature\n",
      "\n"
     ]
    },
    {
     "data": {
      "text/plain": [
       "count    10.000000\n",
       "mean      0.740400\n",
       "std       0.086164\n",
       "min       0.587000\n",
       "25%       0.694750\n",
       "50%       0.747000\n",
       "75%       0.809750\n",
       "max       0.836000\n",
       "Name: danceability, dtype: float64"
      ]
     },
     "execution_count": 18,
     "metadata": {},
     "output_type": "execute_result"
    }
   ],
   "source": [
    "top_10_dancebility()"
   ]
  },
  {
   "cell_type": "code",
   "execution_count": 19,
   "metadata": {},
   "outputs": [],
   "source": [
    "#sorting out more danceble songs \n",
    "def sorting_dancebility():\n",
    "    df['dancebility_new']=df['danceability']\n",
    "    df.loc[df['danceability']>=0.6000,'dancebility_new']='1'\n",
    "    df.loc[(df['danceability']<0.6000),'dancebility_new']='0'\n",
    "\n",
    "    return (df['dancebility_new'].value_counts())"
   ]
  },
  {
   "cell_type": "code",
   "execution_count": 20,
   "metadata": {},
   "outputs": [
    {
     "data": {
      "text/plain": [
       "1    82\n",
       "0    18\n",
       "Name: dancebility_new, dtype: int64"
      ]
     },
     "execution_count": 20,
     "metadata": {},
     "output_type": "execute_result"
    }
   ],
   "source": [
    "sorting_dancebility()"
   ]
  },
  {
   "cell_type": "code",
   "execution_count": 21,
   "metadata": {},
   "outputs": [
    {
     "name": "stdout",
     "output_type": "stream",
     "text": [
      "top 10  energy  feature\n",
      "\n"
     ]
    },
    {
     "data": {
      "text/plain": [
       "count    10.000000\n",
       "mean      0.635700\n",
       "std       0.143074\n",
       "min       0.449000\n",
       "25%       0.547750\n",
       "50%       0.588000\n",
       "75%       0.701000\n",
       "max       0.880000\n",
       "Name: energy, dtype: float64"
      ]
     },
     "execution_count": 21,
     "metadata": {},
     "output_type": "execute_result"
    }
   ],
   "source": [
    "print(\"top 10  energy  feature\\n\")\n",
    "understand_feature(df[\"energy\"].head(10))"
   ]
  },
  {
   "cell_type": "markdown",
   "metadata": {},
   "source": [
    "#### In Depth BPM"
   ]
  },
  {
   "cell_type": "markdown",
   "metadata": {},
   "source": [
    "Understanding beats per minute i.e tempo of the song\n",
    "here we do classification of the tempo on the bases of beats per min \n",
    "REf:https://www.musical-u.com/learn/rhythm-tips-for-identifying-music-genres-by-ear/\n",
    "\n",
    "And creating a new feature :tempo_rate \n",
    "tempo_rate:This classifies the song on the basis of bpm like:\n",
    "    - very slow\n",
    "    - slow\n",
    "    - moderate\n",
    "    - fast\n",
    "    - very fast\n"
   ]
  },
  {
   "cell_type": "code",
   "execution_count": 22,
   "metadata": {},
   "outputs": [],
   "source": [
    "def tempo_rate():\n",
    "    df['tempo_rate']=df['tempo']\n",
    "    return df['tempo_rate']"
   ]
  },
  {
   "cell_type": "code",
   "execution_count": 23,
   "metadata": {},
   "outputs": [
    {
     "data": {
      "text/plain": [
       "0      77.169\n",
       "1      75.023\n",
       "2     159.847\n",
       "3     140.124\n",
       "4      91.030\n",
       "       ...   \n",
       "95    125.046\n",
       "96    105.076\n",
       "97    135.702\n",
       "98    180.043\n",
       "99    126.684\n",
       "Name: tempo_rate, Length: 100, dtype: float64"
      ]
     },
     "execution_count": 23,
     "metadata": {},
     "output_type": "execute_result"
    }
   ],
   "source": [
    "tempo_rate()"
   ]
  },
  {
   "cell_type": "code",
   "execution_count": 24,
   "metadata": {},
   "outputs": [],
   "source": [
    "def cateogarise_tempo_rate():\n",
    "    df.loc[df['tempo']<65,'tempo_rate']='very slow'\n",
    "    df.loc[(df['tempo']>=66) & (df['tempo']<=76),'tempo_rate']='slow'\n",
    "    df.loc[(df['tempo']>=77) & (df['tempo']<=108),'tempo_rate']='moderate'\n",
    "    df.loc[(df['tempo']>=109) & (df['tempo']<=168),'tempo_rate']='fast'\n",
    "    df.loc[df['tempo']>168,'tempo_rate']='very fast'\n"
   ]
  },
  {
   "cell_type": "code",
   "execution_count": 25,
   "metadata": {},
   "outputs": [],
   "source": [
    "cateogarise_tempo_rate()"
   ]
  },
  {
   "cell_type": "code",
   "execution_count": 26,
   "metadata": {},
   "outputs": [],
   "source": [
    "def describe_songs_per_tempo_rate():\n",
    "    print(\"Tempo Rate\\tCount\\n\")\n",
    "    print(df['tempo_rate'].value_counts())\n",
    "    print(\"\\n\")\n",
    "    df.head()"
   ]
  },
  {
   "cell_type": "code",
   "execution_count": 27,
   "metadata": {},
   "outputs": [
    {
     "name": "stdout",
     "output_type": "stream",
     "text": [
      "Tempo Rate\tCount\n",
      "\n",
      "fast         47\n",
      "moderate     44\n",
      "very fast     7\n",
      "slow          1\n",
      "very slow     1\n",
      "Name: tempo_rate, dtype: int64\n",
      "\n",
      "\n"
     ]
    }
   ],
   "source": [
    "describe_songs_per_tempo_rate()"
   ]
  },
  {
   "cell_type": "code",
   "execution_count": 28,
   "metadata": {
    "scrolled": true
   },
   "outputs": [],
   "source": [
    "def barplot_temporate():\n",
    "    sns.barplot(x=pd.DataFrame(df['tempo_rate'].value_counts()).tempo_rate, \n",
    "                y=pd.DataFrame(df['tempo_rate'].value_counts()).index\n",
    "               )\n",
    "    plt.title('music tempo', fontsize=17);"
   ]
  },
  {
   "cell_type": "code",
   "execution_count": 29,
   "metadata": {},
   "outputs": [
    {
     "data": {
      "image/png": "[encoded data removed]",
      "text/plain": [
       "<Figure size 432x288 with 1 Axes>"
      ]
     },
     "metadata": {
      "needs_background": "light"
     },
     "output_type": "display_data"
    }
   ],
   "source": [
    "barplot_temporate()"
   ]
  },
  {
   "cell_type": "markdown",
   "metadata": {},
   "source": [
    "sort the songs on the bases of important parametes like :"
   ]
  },
  {
   "cell_type": "code",
   "execution_count": 30,
   "metadata": {},
   "outputs": [],
   "source": [
    "def sort_imp_parameters():\n",
    "    return df[['name','artists','danceability','valence','tempo','tempo_rate','energy']].sort_values(by=[\"danceability\",\"energy\",\"valence\"],ascending=False).head(10)"
   ]
  },
  {
   "cell_type": "raw",
   "metadata": {},
   "source": [
    "sort_imp-parameters()"
   ]
  },
  {
   "cell_type": "code",
   "execution_count": null,
   "metadata": {},
   "outputs": [],
   "source": []
  },
  {
   "cell_type": "markdown",
   "metadata": {},
   "source": [
    "As we can see that these features collectively couldn't generate the sorted manner of artist as expected.We need to change our approach and include more features "
   ]
  },
  {
   "cell_type": "markdown",
   "metadata": {},
   "source": [
    "\n",
    "#### Analysing top artists\n",
    "Analysing Top artists will give us a better idea about the feature importance "
   ]
  },
  {
   "cell_type": "code",
   "execution_count": 31,
   "metadata": {},
   "outputs": [],
   "source": [
    "#count the value:in terms on songs per year for an  artist\n",
    "def songs_per_artist():\n",
    "    print(\"Artist\\t\\tSongs\\n\")\n",
    "    print(df[\"artists\"].value_counts().head(20))"
   ]
  },
  {
   "cell_type": "code",
   "execution_count": 32,
   "metadata": {},
   "outputs": [
    {
     "name": "stdout",
     "output_type": "stream",
     "text": [
      "Artist\t\tSongs\n",
      "\n",
      "Post Malone        6\n",
      "XXXTENTACION       6\n",
      "Drake              4\n",
      "Marshmello         3\n",
      "Ed Sheeran         3\n",
      "Camila Cabello     2\n",
      "Migos              2\n",
      "Imagine Dragons    2\n",
      "The Weeknd         2\n",
      "Dua Lipa           2\n",
      "Calvin Harris      2\n",
      "Ozuna              2\n",
      "Maroon 5           2\n",
      "Clean Bandit       2\n",
      "Selena Gomez       2\n",
      "Kendrick Lamar     2\n",
      "Ariana Grande      2\n",
      "Khalid             2\n",
      "Lil Baby           1\n",
      "Keala Settle       1\n",
      "Name: artists, dtype: int64\n"
     ]
    }
   ],
   "source": [
    "songs_per_artist()"
   ]
  },
  {
   "cell_type": "code",
   "execution_count": null,
   "metadata": {},
   "outputs": [],
   "source": []
  },
  {
   "cell_type": "code",
   "execution_count": null,
   "metadata": {},
   "outputs": [],
   "source": []
  },
  {
   "cell_type": "markdown",
   "metadata": {},
   "source": [
    "#### Comparing  the  top artists based on our features \n",
    "lets start with top 5:\n",
    "\n",
    "- Post Malone         6\n",
    "- XXXTENTACION        6\n",
    "- Drake               4\n",
    "- Ed Sheeran          3\n",
    "- Marshmello          3"
   ]
  },
  {
   "cell_type": "code",
   "execution_count": null,
   "metadata": {},
   "outputs": [],
   "source": []
  },
  {
   "cell_type": "code",
   "execution_count": 33,
   "metadata": {},
   "outputs": [],
   "source": [
    "def first():\n",
    "    PostMalone=df[df['artists']=='Post Malone']\n",
    "    print(\"Post Malone:\")\n",
    "    return PostMalone[['name','danceability','energy','loudness','valence','tempo','tempo_rate']]"
   ]
  },
  {
   "cell_type": "code",
   "execution_count": null,
   "metadata": {},
   "outputs": [],
   "source": []
  },
  {
   "cell_type": "code",
   "execution_count": null,
   "metadata": {},
   "outputs": [],
   "source": []
  },
  {
   "cell_type": "code",
   "execution_count": 34,
   "metadata": {},
   "outputs": [
    {
     "name": "stdout",
     "output_type": "stream",
     "text": [
      "Post Malone:\n"
     ]
    },
    {
     "data": {
      "text/html": [
       "<div>\n",
       "<style scoped>\n",
       "    .dataframe tbody tr th:only-of-type {\n",
       "        vertical-align: middle;\n",
       "    }\n",
       "\n",
       "    .dataframe tbody tr th {\n",
       "        vertical-align: top;\n",
       "    }\n",
       "\n",
       "    .dataframe thead th {\n",
       "        text-align: right;\n",
       "    }\n",
       "</style>\n",
       "<table border=\"1\" class=\"dataframe\">\n",
       "  <thead>\n",
       "    <tr style=\"text-align: right;\">\n",
       "      <th></th>\n",
       "      <th>name</th>\n",
       "      <th>danceability</th>\n",
       "      <th>energy</th>\n",
       "      <th>loudness</th>\n",
       "      <th>valence</th>\n",
       "      <th>tempo</th>\n",
       "      <th>tempo_rate</th>\n",
       "    </tr>\n",
       "  </thead>\n",
       "  <tbody>\n",
       "    <tr>\n",
       "      <th>2</th>\n",
       "      <td>rockstar (feat. 21 Savage)</td>\n",
       "      <td>0.587</td>\n",
       "      <td>0.535</td>\n",
       "      <td>-6.090</td>\n",
       "      <td>0.140</td>\n",
       "      <td>159.847</td>\n",
       "      <td>fast</td>\n",
       "    </tr>\n",
       "    <tr>\n",
       "      <th>3</th>\n",
       "      <td>Psycho (feat. Ty Dolla $ign)</td>\n",
       "      <td>0.739</td>\n",
       "      <td>0.559</td>\n",
       "      <td>-8.011</td>\n",
       "      <td>0.439</td>\n",
       "      <td>140.124</td>\n",
       "      <td>fast</td>\n",
       "    </tr>\n",
       "    <tr>\n",
       "      <th>5</th>\n",
       "      <td>Better Now</td>\n",
       "      <td>0.680</td>\n",
       "      <td>0.563</td>\n",
       "      <td>-5.843</td>\n",
       "      <td>0.374</td>\n",
       "      <td>145.028</td>\n",
       "      <td>fast</td>\n",
       "    </tr>\n",
       "    <tr>\n",
       "      <th>32</th>\n",
       "      <td>I Fall Apart</td>\n",
       "      <td>0.556</td>\n",
       "      <td>0.538</td>\n",
       "      <td>-5.408</td>\n",
       "      <td>0.291</td>\n",
       "      <td>143.950</td>\n",
       "      <td>fast</td>\n",
       "    </tr>\n",
       "    <tr>\n",
       "      <th>75</th>\n",
       "      <td>Candy Paint</td>\n",
       "      <td>0.670</td>\n",
       "      <td>0.654</td>\n",
       "      <td>-5.944</td>\n",
       "      <td>0.438</td>\n",
       "      <td>180.024</td>\n",
       "      <td>very fast</td>\n",
       "    </tr>\n",
       "    <tr>\n",
       "      <th>76</th>\n",
       "      <td>Congratulations</td>\n",
       "      <td>0.630</td>\n",
       "      <td>0.804</td>\n",
       "      <td>-4.183</td>\n",
       "      <td>0.492</td>\n",
       "      <td>123.146</td>\n",
       "      <td>fast</td>\n",
       "    </tr>\n",
       "  </tbody>\n",
       "</table>\n",
       "</div>"
      ],
      "text/plain": [
       "                            name  danceability  energy  loudness  valence  \\\n",
       "2     rockstar (feat. 21 Savage)         0.587   0.535    -6.090    0.140   \n",
       "3   Psycho (feat. Ty Dolla $ign)         0.739   0.559    -8.011    0.439   \n",
       "5                     Better Now         0.680   0.563    -5.843    0.374   \n",
       "32                  I Fall Apart         0.556   0.538    -5.408    0.291   \n",
       "75                   Candy Paint         0.670   0.654    -5.944    0.438   \n",
       "76               Congratulations         0.630   0.804    -4.183    0.492   \n",
       "\n",
       "      tempo tempo_rate  \n",
       "2   159.847       fast  \n",
       "3   140.124       fast  \n",
       "5   145.028       fast  \n",
       "32  143.950       fast  \n",
       "75  180.024  very fast  \n",
       "76  123.146       fast  "
      ]
     },
     "execution_count": 34,
     "metadata": {},
     "output_type": "execute_result"
    }
   ],
   "source": [
    "first()"
   ]
  },
  {
   "cell_type": "code",
   "execution_count": null,
   "metadata": {},
   "outputs": [],
   "source": []
  },
  {
   "cell_type": "code",
   "execution_count": 35,
   "metadata": {},
   "outputs": [],
   "source": [
    "def second():\n",
    "    XXXTENTACION=df[df['artists']=='XXXTENTACION']\n",
    "    print(\"XXXTENTACION:\")\n",
    "    return XXXTENTACION[['name','danceability','energy','loudness','valence','tempo','tempo_rate']]"
   ]
  },
  {
   "cell_type": "code",
   "execution_count": 36,
   "metadata": {},
   "outputs": [
    {
     "name": "stdout",
     "output_type": "stream",
     "text": [
      "XXXTENTACION:\n"
     ]
    },
    {
     "data": {
      "text/html": [
       "<div>\n",
       "<style scoped>\n",
       "    .dataframe tbody tr th:only-of-type {\n",
       "        vertical-align: middle;\n",
       "    }\n",
       "\n",
       "    .dataframe tbody tr th {\n",
       "        vertical-align: top;\n",
       "    }\n",
       "\n",
       "    .dataframe thead th {\n",
       "        text-align: right;\n",
       "    }\n",
       "</style>\n",
       "<table border=\"1\" class=\"dataframe\">\n",
       "  <thead>\n",
       "    <tr style=\"text-align: right;\">\n",
       "      <th></th>\n",
       "      <th>name</th>\n",
       "      <th>danceability</th>\n",
       "      <th>energy</th>\n",
       "      <th>loudness</th>\n",
       "      <th>valence</th>\n",
       "      <th>tempo</th>\n",
       "      <th>tempo_rate</th>\n",
       "    </tr>\n",
       "  </thead>\n",
       "  <tbody>\n",
       "    <tr>\n",
       "      <th>1</th>\n",
       "      <td>SAD!</td>\n",
       "      <td>0.740</td>\n",
       "      <td>0.613</td>\n",
       "      <td>-4.880</td>\n",
       "      <td>0.473</td>\n",
       "      <td>75.023</td>\n",
       "      <td>slow</td>\n",
       "    </tr>\n",
       "    <tr>\n",
       "      <th>18</th>\n",
       "      <td>Moonlight</td>\n",
       "      <td>0.921</td>\n",
       "      <td>0.537</td>\n",
       "      <td>-5.723</td>\n",
       "      <td>0.711</td>\n",
       "      <td>128.009</td>\n",
       "      <td>fast</td>\n",
       "    </tr>\n",
       "    <tr>\n",
       "      <th>28</th>\n",
       "      <td>Jocelyn Flores</td>\n",
       "      <td>0.872</td>\n",
       "      <td>0.391</td>\n",
       "      <td>-9.144</td>\n",
       "      <td>0.437</td>\n",
       "      <td>134.021</td>\n",
       "      <td>fast</td>\n",
       "    </tr>\n",
       "    <tr>\n",
       "      <th>38</th>\n",
       "      <td>changes</td>\n",
       "      <td>0.669</td>\n",
       "      <td>0.308</td>\n",
       "      <td>-10.068</td>\n",
       "      <td>0.520</td>\n",
       "      <td>64.934</td>\n",
       "      <td>very slow</td>\n",
       "    </tr>\n",
       "    <tr>\n",
       "      <th>62</th>\n",
       "      <td>Fuck Love (feat. Trippie Redd)</td>\n",
       "      <td>0.797</td>\n",
       "      <td>0.533</td>\n",
       "      <td>-9.740</td>\n",
       "      <td>0.329</td>\n",
       "      <td>131.036</td>\n",
       "      <td>fast</td>\n",
       "    </tr>\n",
       "    <tr>\n",
       "      <th>94</th>\n",
       "      <td>Everybody Dies In Their Nightmares</td>\n",
       "      <td>0.734</td>\n",
       "      <td>0.570</td>\n",
       "      <td>-7.066</td>\n",
       "      <td>0.689</td>\n",
       "      <td>129.953</td>\n",
       "      <td>fast</td>\n",
       "    </tr>\n",
       "  </tbody>\n",
       "</table>\n",
       "</div>"
      ],
      "text/plain": [
       "                                  name  danceability  energy  loudness  \\\n",
       "1                                 SAD!         0.740   0.613    -4.880   \n",
       "18                           Moonlight         0.921   0.537    -5.723   \n",
       "28                      Jocelyn Flores         0.872   0.391    -9.144   \n",
       "38                             changes         0.669   0.308   -10.068   \n",
       "62      Fuck Love (feat. Trippie Redd)         0.797   0.533    -9.740   \n",
       "94  Everybody Dies In Their Nightmares         0.734   0.570    -7.066   \n",
       "\n",
       "    valence    tempo tempo_rate  \n",
       "1     0.473   75.023       slow  \n",
       "18    0.711  128.009       fast  \n",
       "28    0.437  134.021       fast  \n",
       "38    0.520   64.934  very slow  \n",
       "62    0.329  131.036       fast  \n",
       "94    0.689  129.953       fast  "
      ]
     },
     "execution_count": 36,
     "metadata": {},
     "output_type": "execute_result"
    }
   ],
   "source": [
    "second()"
   ]
  },
  {
   "cell_type": "code",
   "execution_count": 37,
   "metadata": {},
   "outputs": [],
   "source": [
    "def third():\n",
    "    Drake=df[df['artists']=='Drake']\n",
    "    print(\"Drake:\")\n",
    "    return Drake[['name','danceability','energy','loudness','valence','tempo','tempo_rate']]"
   ]
  },
  {
   "cell_type": "code",
   "execution_count": 38,
   "metadata": {},
   "outputs": [
    {
     "name": "stdout",
     "output_type": "stream",
     "text": [
      "Drake:\n"
     ]
    },
    {
     "data": {
      "text/html": [
       "<div>\n",
       "<style scoped>\n",
       "    .dataframe tbody tr th:only-of-type {\n",
       "        vertical-align: middle;\n",
       "    }\n",
       "\n",
       "    .dataframe tbody tr th {\n",
       "        vertical-align: top;\n",
       "    }\n",
       "\n",
       "    .dataframe thead th {\n",
       "        text-align: right;\n",
       "    }\n",
       "</style>\n",
       "<table border=\"1\" class=\"dataframe\">\n",
       "  <thead>\n",
       "    <tr style=\"text-align: right;\">\n",
       "      <th></th>\n",
       "      <th>name</th>\n",
       "      <th>danceability</th>\n",
       "      <th>energy</th>\n",
       "      <th>loudness</th>\n",
       "      <th>valence</th>\n",
       "      <th>tempo</th>\n",
       "      <th>tempo_rate</th>\n",
       "    </tr>\n",
       "  </thead>\n",
       "  <tbody>\n",
       "    <tr>\n",
       "      <th>0</th>\n",
       "      <td>God's Plan</td>\n",
       "      <td>0.754</td>\n",
       "      <td>0.449</td>\n",
       "      <td>-9.211</td>\n",
       "      <td>0.357</td>\n",
       "      <td>77.169</td>\n",
       "      <td>moderate</td>\n",
       "    </tr>\n",
       "    <tr>\n",
       "      <th>4</th>\n",
       "      <td>In My Feelings</td>\n",
       "      <td>0.835</td>\n",
       "      <td>0.626</td>\n",
       "      <td>-5.833</td>\n",
       "      <td>0.350</td>\n",
       "      <td>91.030</td>\n",
       "      <td>moderate</td>\n",
       "    </tr>\n",
       "    <tr>\n",
       "      <th>12</th>\n",
       "      <td>Nice For What</td>\n",
       "      <td>0.586</td>\n",
       "      <td>0.909</td>\n",
       "      <td>-6.474</td>\n",
       "      <td>0.757</td>\n",
       "      <td>93.394</td>\n",
       "      <td>moderate</td>\n",
       "    </tr>\n",
       "    <tr>\n",
       "      <th>61</th>\n",
       "      <td>Nonstop</td>\n",
       "      <td>0.912</td>\n",
       "      <td>0.412</td>\n",
       "      <td>-8.074</td>\n",
       "      <td>0.422</td>\n",
       "      <td>154.983</td>\n",
       "      <td>fast</td>\n",
       "    </tr>\n",
       "  </tbody>\n",
       "</table>\n",
       "</div>"
      ],
      "text/plain": [
       "              name  danceability  energy  loudness  valence    tempo  \\\n",
       "0       God's Plan         0.754   0.449    -9.211    0.357   77.169   \n",
       "4   In My Feelings         0.835   0.626    -5.833    0.350   91.030   \n",
       "12   Nice For What         0.586   0.909    -6.474    0.757   93.394   \n",
       "61         Nonstop         0.912   0.412    -8.074    0.422  154.983   \n",
       "\n",
       "   tempo_rate  \n",
       "0    moderate  \n",
       "4    moderate  \n",
       "12   moderate  \n",
       "61       fast  "
      ]
     },
     "execution_count": 38,
     "metadata": {},
     "output_type": "execute_result"
    }
   ],
   "source": [
    "third()"
   ]
  },
  {
   "cell_type": "code",
   "execution_count": 39,
   "metadata": {},
   "outputs": [],
   "source": [
    "def forth():\n",
    "    EdSheeran  =df[df['artists']=='Ed Sheeran']\n",
    "    print(\"Ed Sheeran :\")\n",
    "    return EdSheeran  [['name','danceability','energy','loudness','valence','tempo','tempo_rate']]"
   ]
  },
  {
   "cell_type": "code",
   "execution_count": 40,
   "metadata": {},
   "outputs": [
    {
     "name": "stdout",
     "output_type": "stream",
     "text": [
      "Ed Sheeran :\n"
     ]
    },
    {
     "data": {
      "text/html": [
       "<div>\n",
       "<style scoped>\n",
       "    .dataframe tbody tr th:only-of-type {\n",
       "        vertical-align: middle;\n",
       "    }\n",
       "\n",
       "    .dataframe tbody tr th {\n",
       "        vertical-align: top;\n",
       "    }\n",
       "\n",
       "    .dataframe thead th {\n",
       "        text-align: right;\n",
       "    }\n",
       "</style>\n",
       "<table border=\"1\" class=\"dataframe\">\n",
       "  <thead>\n",
       "    <tr style=\"text-align: right;\">\n",
       "      <th></th>\n",
       "      <th>name</th>\n",
       "      <th>danceability</th>\n",
       "      <th>energy</th>\n",
       "      <th>loudness</th>\n",
       "      <th>valence</th>\n",
       "      <th>tempo</th>\n",
       "      <th>tempo_rate</th>\n",
       "    </tr>\n",
       "  </thead>\n",
       "  <tbody>\n",
       "    <tr>\n",
       "      <th>25</th>\n",
       "      <td>Shape of You</td>\n",
       "      <td>0.825</td>\n",
       "      <td>0.652</td>\n",
       "      <td>-3.183</td>\n",
       "      <td>0.931</td>\n",
       "      <td>95.977</td>\n",
       "      <td>moderate</td>\n",
       "    </tr>\n",
       "    <tr>\n",
       "      <th>29</th>\n",
       "      <td>Perfect</td>\n",
       "      <td>0.599</td>\n",
       "      <td>0.448</td>\n",
       "      <td>-6.312</td>\n",
       "      <td>0.168</td>\n",
       "      <td>95.050</td>\n",
       "      <td>moderate</td>\n",
       "    </tr>\n",
       "    <tr>\n",
       "      <th>84</th>\n",
       "      <td>Perfect Duet (Ed Sheeran &amp; Beyonc?)</td>\n",
       "      <td>0.587</td>\n",
       "      <td>0.299</td>\n",
       "      <td>-7.365</td>\n",
       "      <td>0.356</td>\n",
       "      <td>94.992</td>\n",
       "      <td>moderate</td>\n",
       "    </tr>\n",
       "  </tbody>\n",
       "</table>\n",
       "</div>"
      ],
      "text/plain": [
       "                                   name  danceability  energy  loudness  \\\n",
       "25                         Shape of You         0.825   0.652    -3.183   \n",
       "29                              Perfect         0.599   0.448    -6.312   \n",
       "84  Perfect Duet (Ed Sheeran & Beyonc?)         0.587   0.299    -7.365   \n",
       "\n",
       "    valence   tempo tempo_rate  \n",
       "25    0.931  95.977   moderate  \n",
       "29    0.168  95.050   moderate  \n",
       "84    0.356  94.992   moderate  "
      ]
     },
     "execution_count": 40,
     "metadata": {},
     "output_type": "execute_result"
    }
   ],
   "source": [
    "forth()"
   ]
  },
  {
   "cell_type": "code",
   "execution_count": 41,
   "metadata": {},
   "outputs": [],
   "source": [
    "def fifth():\n",
    "    Marshmello   =df[df['artists']=='Marshmello']\n",
    "    print(\"Marshmello   :\")\n",
    "    return Marshmello   [['name','danceability','energy','loudness','valence','tempo','tempo_rate']]"
   ]
  },
  {
   "cell_type": "code",
   "execution_count": 42,
   "metadata": {},
   "outputs": [
    {
     "name": "stdout",
     "output_type": "stream",
     "text": [
      "Marshmello   :\n"
     ]
    },
    {
     "data": {
      "text/html": [
       "<div>\n",
       "<style scoped>\n",
       "    .dataframe tbody tr th:only-of-type {\n",
       "        vertical-align: middle;\n",
       "    }\n",
       "\n",
       "    .dataframe tbody tr th {\n",
       "        vertical-align: top;\n",
       "    }\n",
       "\n",
       "    .dataframe thead th {\n",
       "        text-align: right;\n",
       "    }\n",
       "</style>\n",
       "<table border=\"1\" class=\"dataframe\">\n",
       "  <thead>\n",
       "    <tr style=\"text-align: right;\">\n",
       "      <th></th>\n",
       "      <th>name</th>\n",
       "      <th>danceability</th>\n",
       "      <th>energy</th>\n",
       "      <th>loudness</th>\n",
       "      <th>valence</th>\n",
       "      <th>tempo</th>\n",
       "      <th>tempo_rate</th>\n",
       "    </tr>\n",
       "  </thead>\n",
       "  <tbody>\n",
       "    <tr>\n",
       "      <th>9</th>\n",
       "      <td>FRIENDS</td>\n",
       "      <td>0.626</td>\n",
       "      <td>0.880</td>\n",
       "      <td>-2.384</td>\n",
       "      <td>0.534</td>\n",
       "      <td>95.079</td>\n",
       "      <td>moderate</td>\n",
       "    </tr>\n",
       "    <tr>\n",
       "      <th>51</th>\n",
       "      <td>Happier</td>\n",
       "      <td>0.687</td>\n",
       "      <td>0.792</td>\n",
       "      <td>-2.749</td>\n",
       "      <td>0.671</td>\n",
       "      <td>100.015</td>\n",
       "      <td>moderate</td>\n",
       "    </tr>\n",
       "    <tr>\n",
       "      <th>64</th>\n",
       "      <td>Silence</td>\n",
       "      <td>0.520</td>\n",
       "      <td>0.761</td>\n",
       "      <td>-3.093</td>\n",
       "      <td>0.286</td>\n",
       "      <td>141.971</td>\n",
       "      <td>fast</td>\n",
       "    </tr>\n",
       "  </tbody>\n",
       "</table>\n",
       "</div>"
      ],
      "text/plain": [
       "       name  danceability  energy  loudness  valence    tempo tempo_rate\n",
       "9   FRIENDS         0.626   0.880    -2.384    0.534   95.079   moderate\n",
       "51  Happier         0.687   0.792    -2.749    0.671  100.015   moderate\n",
       "64  Silence         0.520   0.761    -3.093    0.286  141.971       fast"
      ]
     },
     "execution_count": 42,
     "metadata": {},
     "output_type": "execute_result"
    }
   ],
   "source": [
    "fifth()"
   ]
  },
  {
   "cell_type": "code",
   "execution_count": null,
   "metadata": {},
   "outputs": [],
   "source": []
  },
  {
   "cell_type": "code",
   "execution_count": null,
   "metadata": {},
   "outputs": [],
   "source": []
  },
  {
   "cell_type": "code",
   "execution_count": null,
   "metadata": {},
   "outputs": [],
   "source": []
  },
  {
   "cell_type": "markdown",
   "metadata": {},
   "source": [
    "Here's the observation for the above  top 5 results:\n",
    "- dancebility:Range:0.49-->0.90+\n",
    "- energy:Range:0.48-->0.90+ , in general, the enegy in not very significant but  top songs have energy more than 0.48\n",
    "- loudness:more -ve loudness means more popular the song is \n",
    "- valence:Range:Not a very important criteria\n",
    "- tempo:Range:can not conclude about this, need more EDA\n",
    "- tempo rate:Range: fast and moderate are in top\n",
    "\n"
   ]
  },
  {
   "cell_type": "markdown",
   "metadata": {},
   "source": [
    "# EDA"
   ]
  },
  {
   "cell_type": "markdown",
   "metadata": {},
   "source": [
    "in EDA approach we  try to  analyze data sets to summarize their main characteristics, often with visual methods  and  then Have a good understanding of data quality.. \n",
    "but to come to any conclusions and to decide weather A statistical model can be used we need to dig deeper into data\n",
    "\n",
    "And so we did the best we could do with  EDA  for seeing what the data can tell us beyond the formal modeling or  any hypothesis testing task.\n",
    "\n",
    "We did the a lot of  comparisions  amongst multiple features and here's a few of our results."
   ]
  },
  {
   "cell_type": "markdown",
   "metadata": {},
   "source": [
    "### PCA plot-large features"
   ]
  },
  {
   "cell_type": "markdown",
   "metadata": {},
   "source": [
    "\n",
    "next to this our 3d modelling for detecting the outlier using the pca for our hypothetial top features.And  in the graph u can see  there a few ouliers songs which are not feature vice not closer to the other data  points.This gave us an idea about why perticulate songs are not fitting well.And this is an important thing to discuss to get more closer to assumption.\n"
   ]
  },
  {
   "cell_type": "code",
   "execution_count": 43,
   "metadata": {},
   "outputs": [],
   "source": [
    "def plot_PCA_large():\n",
    "    feture_to_plot = [\"energy\", \"liveness\", \"tempo\", \"valence\", \"loudness\", \"speechiness\", \"acousticness\", \"danceability\", \"instrumentalness\"]\n",
    "    text1 = df[\"artists\"] + \" - \" + df[\"name\"]\n",
    "    text2 = text1.values\n",
    "    X = df[feture_to_plot].values\n",
    "    y = df[\"danceability\"].values\n",
    "    min_maxscaler = MinMaxScaler()\n",
    "    X = min_maxscaler.fit_transform(X)\n",
    "    pca = PCA(n_components=3)\n",
    "    pca.fit(X)\n",
    "    X = pca.transform(X)\n",
    "\n",
    "    plot3d = go.Scatter3d(\n",
    "        x=X[:,0],\n",
    "        y=X[:,1],\n",
    "        z=X[:,2],\n",
    "        text=text2,\n",
    "        mode=\"markers\",\n",
    "        marker=dict(\n",
    "            size=8,\n",
    "            color=y\n",
    "        )\n",
    "    )\n",
    "\n",
    "    fig = go.Figure(data=[plot3d])\n",
    "    py.iplot(fig, filename=\"3d graph\")\n"
   ]
  },
  {
   "cell_type": "code",
   "execution_count": 44,
   "metadata": {},
   "outputs": [
    {
     "data": {
      "application/vnd.plotly.v1+json": {
       "config": {
        "linkText": "Export to plot.ly",
        "plotlyServerURL": "https://plot.ly",
        "showLink": false
       },
       "data": [
        {
         "marker": {
          "color": [
           0.754,
           0.74,
           0.5870000000000001,
           0.7390000000000001,
           0.835,
           0.68,
           0.816,
           0.7909999999999999,
           0.836,
           0.626,
           0.765,
           0.511,
           0.586,
           0.851,
           0.753,
           0.698,
           0.6990000000000001,
           0.595,
           0.9209999999999999,
           0.922,
           0.653,
           0.903,
           0.71,
           0.596,
           0.762,
           0.825,
           0.708,
           0.642,
           0.872,
           0.599,
           0.884,
           0.737,
           0.556,
           0.5920000000000001,
           0.726,
           0.56,
           0.637,
           0.72,
           0.669,
           0.6940000000000001,
           0.748,
           0.7909999999999999,
           0.8340000000000001,
           0.605,
           0.777,
           0.747,
           0.7040000000000001,
           0.601,
           0.6559999999999999,
           0.489,
           0.88,
           0.687,
           0.698,
           0.755,
           0.7759999999999999,
           0.9309999999999999,
           0.687,
           0.752,
           0.732,
           0.7909999999999999,
           0.6970000000000001,
           0.912,
           0.797,
           0.622,
           0.52,
           0.602,
           0.6809999999999999,
           0.631,
           0.799,
           0.841,
           0.6629999999999999,
           0.8009999999999999,
           0.735,
           0.909,
           0.589,
           0.67,
           0.63,
           0.792,
           0.8140000000000001,
           0.8759999999999999,
           0.35100000000000003,
           0.815,
           0.9079999999999999,
           0.754,
           0.5870000000000001,
           0.722,
           0.7979999999999999,
           0.855,
           0.775,
           0.909,
           0.7809999999999999,
           0.9640000000000001,
           0.752,
           0.284,
           0.7340000000000001,
           0.684,
           0.638,
           0.552,
           0.258,
           0.5529999999999999
          ],
          "size": 8
         },
         "mode": "markers",
         "text": [
          "Drake - God's Plan",
          "XXXTENTACION - SAD!",
          "Post Malone - rockstar (feat. 21 Savage)",
          "Post Malone - Psycho (feat. Ty Dolla $ign)",
          "Drake - In My Feelings",
          "Post Malone - Better Now",
          "Cardi B - I Like It",
          "Calvin Harris - One Kiss (with Dua Lipa)",
          "Dua Lipa - IDGAF",
          "Marshmello - FRIENDS",
          "Camila Cabello - Havana",
          "Juice WRLD - Lucid Dreams",
          "Drake - Nice For What",
          "Maroon 5 - Girls Like You (feat. Cardi B)",
          "Zedd - The Middle",
          "Kendrick Lamar - All The Stars (with SZA)",
          "Ariana Grande - no tears left to cry",
          "Nicky Jam - X",
          "XXXTENTACION - Moonlight",
          "BlocBoy JB - Look Alive (feat. Drake)",
          "Rudimental - These Days (feat. Jess Glynne, Macklemore & Dan Caplen)",
          "Nio Garcia - Te Bot? - Remix",
          "Bazzi - Mine",
          "5 Seconds of Summer - Youngblood",
          "Dua Lipa - New Rules",
          "Ed Sheeran - Shape of You",
          "Khalid - Love Lies (with Normani)",
          "Bebe Rexha - Meant to Be (feat. Florida Georgia Line)",
          "XXXTENTACION - Jocelyn Flores",
          "Ed Sheeran - Perfect",
          "Tyga - Taste (feat. Offset)",
          "Clean Bandit - Solo (feat. Demi Lovato)",
          "Post Malone - I Fall Apart",
          "Dennis Lloyd - Nevermind",
          "Luis Fonsi - ?chame La Culpa",
          "benny blanco - Eastside (with Halsey & Khalid)",
          "Camila Cabello - Never Be the Same",
          "Selena Gomez - Wolves",
          "XXXTENTACION - changes",
          "Dynoro - In My Mind",
          "Eminem - River (feat. Ed Sheeran)",
          "Daddy Yankee - Dura",
          "Travis Scott - SICKO MODE",
          "Imagine Dragons - Thunder",
          "Reik - Me Niego",
          "Ti?sto - Jackie Chan",
          "Bruno Mars - Finesse (Remix) [feat. Cardi B]",
          "Selena Gomez - Back To You - From 13 Reasons Why ? Season 2 Soundtrack",
          "NF - Let You Down",
          "The Weeknd - Call Out My Name",
          "Offset - Ric Flair Drip (& Metro Boomin)",
          "Marshmello - Happier",
          "Sam Smith - Too Good At Goodbyes",
          "Lil Dicky - Freaky Friday (feat. Chris Brown)",
          "Imagine Dragons - Believer",
          "6ix9ine - FEFE (feat. Nicki Minaj & Murda Beatz)",
          "Jonas Blue - Rise",
          "Loud Luxury - Body (feat. brando)",
          "Lil Uzi Vert - XO TOUR Llif3",
          "Becky G - Sin Pijama",
          "Anne-Marie - 2002",
          "Drake - Nonstop",
          "XXXTENTACION - Fuck Love (feat. Trippie Redd)",
          "Shawn Mendes - In My Blood",
          "Marshmello - Silence",
          "Ariana Grande - God is a woman",
          "Piso 21 - D?jala que vuelva (feat. Manuel Turizo)",
          "David Guetta - Flames",
          "Maroon 5 - What Lovers Do",
          "DJ Snake - Taki Taki (with Selena Gomez, Ozuna & Cardi B)",
          "Hailee Steinfeld - Let Me Go (with Alesso, Florida Georgia Line & watt)",
          "Portugal. The Man - Feel It Still",
          "The Weeknd - Pray For Me (with Kendrick Lamar)",
          "Migos - Walk It Talk It",
          "G-Eazy - Him & I (with Halsey)",
          "Post Malone - Candy Paint",
          "Post Malone - Congratulations",
          "Sofia Reyes - 1, 2, 3 (feat. Jason Derulo & De La Ghetto)",
          "Natti Natasha - Criminal",
          "Rich The Kid - Plug Walk",
          "Billie Eilish - lovely (with Khalid)",
          "Migos - Stir Fry",
          "Kendrick Lamar - HUMBLE.",
          "Ozuna - Vaina Loca",
          "Ed Sheeran - Perfect Duet (Ed Sheeran & Beyonc?)",
          "Maluma - Coraz?n (feat. Nego do Borel)",
          "Khalid - Young Dumb & Broke",
          "Ozuna - S?guelo Bailando",
          "Anitta - Downtown",
          "Wolfine - Bella",
          "Calvin Harris - Promises (with Sam Smith)",
          "Lil Baby - Yes Indeed",
          "Lauv - I Like Me Better",
          "Keala Settle - This Is Me",
          "XXXTENTACION - Everybody Dies In Their Nightmares",
          "Zac Efron - Rewrite The Stars",
          "Clean Bandit - I Miss You (feat. Julia Michaels)",
          "DJ Khaled - No Brainer",
          "ZAYN - Dusk Till Dawn - Radio Edit",
          "Dean Lewis - Be Alright"
         ],
         "type": "scatter3d",
         "x": [
          0.43760000383005193,
          0.015634024849270244,
          0.31360789005825557,
          0.4342751740962729,
          0.03392141175149952,
          0.21416431838217648,
          -0.3274452238762873,
          -0.49451252728003403,
          0.046978686733739755,
          -0.4801018328101998,
          0.05308836791927359,
          0.4252330155345656,
          -0.35578050977083653,
          0.326746358769807,
          -0.19140577964067862,
          -0.11937438424999094,
          -0.07146972082003288,
          -0.35470949860887707,
          0.11016501681010737,
          0.09126699139621175,
          -0.30688348183514136,
          -0.03051119059069176,
          -0.46415969794299555,
          -0.04171867128072723,
          -0.1630681284041838,
          -0.28089348786401996,
          0.0356482308011267,
          -0.13782892512227252,
          0.6387298550922583,
          0.3980142880550264,
          0.217563654435619,
          -0.1852990642543585,
          0.15486289542254195,
          0.372210637101869,
          -0.5293234605393271,
          0.3994112591250613,
          -0.02940627158521721,
          -0.17196184817876278,
          0.8841190328628388,
          0.035824319004337565,
          -0.10150227140193582,
          -0.5637802504676881,
          -0.25140201182220534,
          -0.19814305908780525,
          -0.44198642740900235,
          -0.4252256251964026,
          -0.5385680394811545,
          -0.1708445457809702,
          -0.004679425158692644,
          0.17537354120861154,
          0.47383992829169475,
          -0.45291838926403793,
          0.5948966786338924,
          -0.12325475325836696,
          -0.35468829748598346,
          0.5669341124269403,
          -0.25261550277527234,
          -0.3134600632134538,
          -0.03951113782580448,
          -0.3637865040429682,
          -0.3447908871420109,
          0.3644362353631922,
          0.4134205277662705,
          0.022114758350254813,
          -0.14546996711102966,
          0.0673535975761413,
          -0.453231923415572,
          0.012643941833782415,
          -0.007652166096932031,
          -0.3026323407341436,
          -0.3541018541664535,
          -0.38939230290181015,
          0.03289674652650561,
          0.007668769967418603,
          0.07533098134074168,
          0.22962963815843057,
          -0.2568498857423761,
          -0.6031108548660294,
          -0.6179663709139508,
          0.35383914621547946,
          1.1660136750808843,
          -0.22132762153216912,
          0.04802300938519894,
          -0.25592841852408615,
          0.7513126467879926,
          -0.10337924093668423,
          0.1902245448831501,
          -0.009501421628754959,
          -0.1386590854004075,
          -0.005034058122221373,
          -0.18270244690459037,
          0.52606531889517,
          0.4732324309497634,
          0.2795157651739836,
          0.32772756641509376,
          0.18421044516232815,
          0.14297600409423245,
          -0.2227220418246533,
          0.49555955360018955,
          0.33236790017100565
         ],
         "y": [
          -0.03355929027518188,
          -0.22559923657874323,
          0.44217678270259847,
          -0.14438846632584645,
          0.010696697350530865,
          0.06175873362949184,
          0.00556546629078813,
          0.04553171375916397,
          -0.12663330889502716,
          -0.039269199179859056,
          -0.07149465597411575,
          0.05213534084482737,
          -0.10195429196013528,
          -0.2682992495907507,
          -0.03940216256133204,
          -0.07696949969707274,
          0.2091750477482746,
          0.2764412131596638,
          -0.4534066836136901,
          0.0038681741004896546,
          -0.08547025159309483,
          -0.3321697374924801,
          0.10347307395337428,
          0.47304102836387374,
          -0.009831684735469397,
          -0.6607503890833836,
          0.23181765892156603,
          0.1971048990602314,
          -0.18187257658463404,
          0.10103761968312085,
          -0.016371592502785706,
          -0.034572735303254276,
          0.3226106576432818,
          0.317080941481524,
          -0.06869205509050579,
          -0.10260740471662069,
          0.25123793156924146,
          0.2082036556908845,
          -0.7111997780147581,
          0.28791109550909777,
          -0.14819997298719204,
          -0.27590150908317584,
          0.24092404951426785,
          0.5941691710120018,
          -0.15241778985679608,
          -0.18115562717477557,
          -0.2068264376455545,
          0.028324038657180032,
          0.11498789141413139,
          0.34911987868537614,
          -0.09395268904721543,
          -0.15361571723323483,
          -0.4722238932462625,
          -0.12775140687881545,
          -0.028066326958260654,
          0.006495824229623432,
          -0.1924437440305328,
          0.01459060462705057,
          0.32514525822657425,
          -0.433241641176116,
          -0.07242750981311813,
          0.11085633368103501,
          0.14786978510846938,
          0.20063809818535658,
          0.30473267879606053,
          0.38745242602566554,
          0.08265557149071341,
          0.019357852445623637,
          -0.005554344598816721,
          -0.1553521234910381,
          -0.1271053882549166,
          -0.27430796414194236,
          0.1703641504922552,
          0.1236368029137361,
          0.23773406642152567,
          0.04912534851151868,
          0.08099101902040098,
          -0.27125974077298975,
          -0.29819029195381075,
          -0.007052577615295523,
          -0.13101736540453043,
          0.3583019159061864,
          0.15276676059394437,
          -0.1875900827550772,
          -0.39020308687604105,
          0.1048153085541716,
          0.04010283283775862,
          -0.2428487201951557,
          0.07058533441510668,
          -0.4524755742210854,
          0.12010597473614099,
          -0.126047477171253,
          -0.3007766791233736,
          0.8491067571557475,
          -0.48409971483908293,
          0.206086134729054,
          0.035168031030347276,
          0.1554121311963215,
          0.6749828843857469,
          -0.18085300014690966
         ],
         "z": [
          0.1276891941730567,
          -0.027637739735226693,
          -0.10604485965925714,
          -0.044180814260468305,
          0.0843856163698638,
          -0.1699070219073707,
          0.0953326970040247,
          0.04122168397321142,
          0.14705419001219214,
          -0.30251095166101294,
          -0.12847414057695442,
          -0.1497617424899761,
          -0.07066732519905956,
          -0.09590083062857707,
          -0.15976799950250378,
          -0.04477851388397381,
          -0.07726576060252657,
          -0.06087879477204667,
          0.030863390841119758,
          0.5566972892010942,
          -0.21901548523375072,
          0.01915887928941371,
          -0.020215058236011572,
          0.32737938633494507,
          0.08730469615674187,
          -0.12277200716928684,
          -0.0682239470391522,
          0.048039351430927225,
          0.3011824590005384,
          -0.2300688183228482,
          0.2274689356441938,
          -0.06275060057009771,
          -0.18303751705450919,
          -0.023454426447190712,
          -0.0936530851011534,
          0.006319318737876104,
          -0.20400409302403377,
          -0.16367995179552236,
          -0.2781198482721037,
          -0.058530539450793874,
          0.5962206484985354,
          -0.09473652358253071,
          0.25590704331594455,
          -0.17551209488346256,
          0.01573296599087304,
          -0.2012563104967171,
          0.0983676427092759,
          -0.16935432518774154,
          -0.07019215937898944,
          -0.37670616109281735,
          0.3297271217244112,
          -0.20171616860080385,
          -0.1823814529767449,
          0.2615402929920561,
          0.11180228419586437,
          0.7289476420287546,
          -0.21490456406592015,
          -0.03460245793133635,
          0.27155875225054343,
          -0.12024931700105133,
          -0.028733914416644402,
          0.36322394641967687,
          0.16811239880753354,
          -0.006082356295709035,
          -0.3373731669537895,
          -0.1168472934397114,
          0.061435004448980694,
          -0.13492660814150137,
          0.011383938802875334,
          0.2041945406452656,
          -0.06052017781251807,
          0.04158497299839989,
          -0.07254419625974254,
          0.30957631570828553,
          -0.16978183617547823,
          -0.11108456148637862,
          -0.25174823209688735,
          -0.06276298370297691,
          -0.007247114565450565,
          0.10369414346982016,
          -0.5718518474368826,
          0.3820147527628485,
          0.25821606473239755,
          -0.15670382719445175,
          -0.4001822640618084,
          0.24670815527827836,
          -0.007678841759967086,
          0.10925524395998469,
          0.12957002092242303,
          0.23767263413577983,
          0.003960456719573081,
          0.9861865157705242,
          0.1152093853468631,
          -0.10692763087789543,
          -0.12350986380347335,
          -0.060919033201818525,
          -0.19053196133405365,
          0.24572278226246397,
          -0.36105256375578,
          -0.4016990725009819
         ]
        }
       ],
       "layout": {
        "template": {
         "data": {
          "bar": [
           {
            "error_x": {
             "color": "#2a3f5f"
            },
            "error_y": {
             "color": "#2a3f5f"
            },
            "marker": {
             "line": {
              "color": "#E5ECF6",
              "width": 0.5
             }
            },
            "type": "bar"
           }
          ],
          "barpolar": [
           {
            "marker": {
             "line": {
              "color": "#E5ECF6",
              "width": 0.5
             }
            },
            "type": "barpolar"
           }
          ],
          "carpet": [
           {
            "aaxis": {
             "endlinecolor": "#2a3f5f",
             "gridcolor": "white",
             "linecolor": "white",
             "minorgridcolor": "white",
             "startlinecolor": "#2a3f5f"
            },
            "baxis": {
             "endlinecolor": "#2a3f5f",
             "gridcolor": "white",
             "linecolor": "white",
             "minorgridcolor": "white",
             "startlinecolor": "#2a3f5f"
            },
            "type": "carpet"
           }
          ],
          "choropleth": [
           {
            "colorbar": {
             "outlinewidth": 0,
             "ticks": ""
            },
            "type": "choropleth"
           }
          ],
          "contour": [
           {
            "colorbar": {
             "outlinewidth": 0,
             "ticks": ""
            },
            "colorscale": [
             [
              0,
              "#0d0887"
             ],
             [
              0.1111111111111111,
              "#46039f"
             ],
             [
              0.2222222222222222,
              "#7201a8"
             ],
             [
              0.3333333333333333,
              "#9c179e"
             ],
             [
              0.4444444444444444,
              "#bd3786"
             ],
             [
              0.5555555555555556,
              "#d8576b"
             ],
             [
              0.6666666666666666,
              "#ed7953"
             ],
             [
              0.7777777777777778,
              "#fb9f3a"
             ],
             [
              0.8888888888888888,
              "#fdca26"
             ],
             [
              1,
              "#f0f921"
             ]
            ],
            "type": "contour"
           }
          ],
          "contourcarpet": [
           {
            "colorbar": {
             "outlinewidth": 0,
             "ticks": ""
            },
            "type": "contourcarpet"
           }
          ],
          "heatmap": [
           {
            "colorbar": {
             "outlinewidth": 0,
             "ticks": ""
            },
            "colorscale": [
             [
              0,
              "#0d0887"
             ],
             [
              0.1111111111111111,
              "#46039f"
             ],
             [
              0.2222222222222222,
              "#7201a8"
             ],
             [
              0.3333333333333333,
              "#9c179e"
             ],
             [
              0.4444444444444444,
              "#bd3786"
             ],
             [
              0.5555555555555556,
              "#d8576b"
             ],
             [
              0.6666666666666666,
              "#ed7953"
             ],
             [
              0.7777777777777778,
              "#fb9f3a"
             ],
             [
              0.8888888888888888,
              "#fdca26"
             ],
             [
              1,
              "#f0f921"
             ]
            ],
            "type": "heatmap"
           }
          ],
          "heatmapgl": [
           {
            "colorbar": {
             "outlinewidth": 0,
             "ticks": ""
            },
            "colorscale": [
             [
              0,
              "#0d0887"
             ],
             [
              0.1111111111111111,
              "#46039f"
             ],
             [
              0.2222222222222222,
              "#7201a8"
             ],
             [
              0.3333333333333333,
              "#9c179e"
             ],
             [
              0.4444444444444444,
              "#bd3786"
             ],
             [
              0.5555555555555556,
              "#d8576b"
             ],
             [
              0.6666666666666666,
              "#ed7953"
             ],
             [
              0.7777777777777778,
              "#fb9f3a"
             ],
             [
              0.8888888888888888,
              "#fdca26"
             ],
             [
              1,
              "#f0f921"
             ]
            ],
            "type": "heatmapgl"
           }
          ],
          "histogram": [
           {
            "marker": {
             "colorbar": {
              "outlinewidth": 0,
              "ticks": ""
             }
            },
            "type": "histogram"
           }
          ],
          "histogram2d": [
           {
            "colorbar": {
             "outlinewidth": 0,
             "ticks": ""
            },
            "colorscale": [
             [
              0,
              "#0d0887"
             ],
             [
              0.1111111111111111,
              "#46039f"
             ],
             [
              0.2222222222222222,
              "#7201a8"
             ],
             [
              0.3333333333333333,
              "#9c179e"
             ],
             [
              0.4444444444444444,
              "#bd3786"
             ],
             [
              0.5555555555555556,
              "#d8576b"
             ],
             [
              0.6666666666666666,
              "#ed7953"
             ],
             [
              0.7777777777777778,
              "#fb9f3a"
             ],
             [
              0.8888888888888888,
              "#fdca26"
             ],
             [
              1,
              "#f0f921"
             ]
            ],
            "type": "histogram2d"
           }
          ],
          "histogram2dcontour": [
           {
            "colorbar": {
             "outlinewidth": 0,
             "ticks": ""
            },
            "colorscale": [
             [
              0,
              "#0d0887"
             ],
             [
              0.1111111111111111,
              "#46039f"
             ],
             [
              0.2222222222222222,
              "#7201a8"
             ],
             [
              0.3333333333333333,
              "#9c179e"
             ],
             [
              0.4444444444444444,
              "#bd3786"
             ],
             [
              0.5555555555555556,
              "#d8576b"
             ],
             [
              0.6666666666666666,
              "#ed7953"
             ],
             [
              0.7777777777777778,
              "#fb9f3a"
             ],
             [
              0.8888888888888888,
              "#fdca26"
             ],
             [
              1,
              "#f0f921"
             ]
            ],
            "type": "histogram2dcontour"
           }
          ],
          "mesh3d": [
           {
            "colorbar": {
             "outlinewidth": 0,
             "ticks": ""
            },
            "type": "mesh3d"
           }
          ],
          "parcoords": [
           {
            "line": {
             "colorbar": {
              "outlinewidth": 0,
              "ticks": ""
             }
            },
            "type": "parcoords"
           }
          ],
          "pie": [
           {
            "automargin": true,
            "type": "pie"
           }
          ],
          "scatter": [
           {
            "marker": {
             "colorbar": {
              "outlinewidth": 0,
              "ticks": ""
             }
            },
            "type": "scatter"
           }
          ],
          "scatter3d": [
           {
            "line": {
             "colorbar": {
              "outlinewidth": 0,
              "ticks": ""
             }
            },
            "marker": {
             "colorbar": {
              "outlinewidth": 0,
              "ticks": ""
             }
            },
            "type": "scatter3d"
           }
          ],
          "scattercarpet": [
           {
            "marker": {
             "colorbar": {
              "outlinewidth": 0,
              "ticks": ""
             }
            },
            "type": "scattercarpet"
           }
          ],
          "scattergeo": [
           {
            "marker": {
             "colorbar": {
              "outlinewidth": 0,
              "ticks": ""
             }
            },
            "type": "scattergeo"
           }
          ],
          "scattergl": [
           {
            "marker": {
             "colorbar": {
              "outlinewidth": 0,
              "ticks": ""
             }
            },
            "type": "scattergl"
           }
          ],
          "scattermapbox": [
           {
            "marker": {
             "colorbar": {
              "outlinewidth": 0,
              "ticks": ""
             }
            },
            "type": "scattermapbox"
           }
          ],
          "scatterpolar": [
           {
            "marker": {
             "colorbar": {
              "outlinewidth": 0,
              "ticks": ""
             }
            },
            "type": "scatterpolar"
           }
          ],
          "scatterpolargl": [
           {
            "marker": {
             "colorbar": {
              "outlinewidth": 0,
              "ticks": ""
             }
            },
            "type": "scatterpolargl"
           }
          ],
          "scatterternary": [
           {
            "marker": {
             "colorbar": {
              "outlinewidth": 0,
              "ticks": ""
             }
            },
            "type": "scatterternary"
           }
          ],
          "surface": [
           {
            "colorbar": {
             "outlinewidth": 0,
             "ticks": ""
            },
            "colorscale": [
             [
              0,
              "#0d0887"
             ],
             [
              0.1111111111111111,
              "#46039f"
             ],
             [
              0.2222222222222222,
              "#7201a8"
             ],
             [
              0.3333333333333333,
              "#9c179e"
             ],
             [
              0.4444444444444444,
              "#bd3786"
             ],
             [
              0.5555555555555556,
              "#d8576b"
             ],
             [
              0.6666666666666666,
              "#ed7953"
             ],
             [
              0.7777777777777778,
              "#fb9f3a"
             ],
             [
              0.8888888888888888,
              "#fdca26"
             ],
             [
              1,
              "#f0f921"
             ]
            ],
            "type": "surface"
           }
          ],
          "table": [
           {
            "cells": {
             "fill": {
              "color": "#EBF0F8"
             },
             "line": {
              "color": "white"
             }
            },
            "header": {
             "fill": {
              "color": "#C8D4E3"
             },
             "line": {
              "color": "white"
             }
            },
            "type": "table"
           }
          ]
         },
         "layout": {
          "annotationdefaults": {
           "arrowcolor": "#2a3f5f",
           "arrowhead": 0,
           "arrowwidth": 1
          },
          "coloraxis": {
           "colorbar": {
            "outlinewidth": 0,
            "ticks": ""
           }
          },
          "colorscale": {
           "diverging": [
            [
             0,
             "#8e0152"
            ],
            [
             0.1,
             "#c51b7d"
            ],
            [
             0.2,
             "#de77ae"
            ],
            [
             0.3,
             "#f1b6da"
            ],
            [
             0.4,
             "#fde0ef"
            ],
            [
             0.5,
             "#f7f7f7"
            ],
            [
             0.6,
             "#e6f5d0"
            ],
            [
             0.7,
             "#b8e186"
            ],
            [
             0.8,
             "#7fbc41"
            ],
            [
             0.9,
             "#4d9221"
            ],
            [
             1,
             "#276419"
            ]
           ],
           "sequential": [
            [
             0,
             "#0d0887"
            ],
            [
             0.1111111111111111,
             "#46039f"
            ],
            [
             0.2222222222222222,
             "#7201a8"
            ],
            [
             0.3333333333333333,
             "#9c179e"
            ],
            [
             0.4444444444444444,
             "#bd3786"
            ],
            [
             0.5555555555555556,
             "#d8576b"
            ],
            [
             0.6666666666666666,
             "#ed7953"
            ],
            [
             0.7777777777777778,
             "#fb9f3a"
            ],
            [
             0.8888888888888888,
             "#fdca26"
            ],
            [
             1,
             "#f0f921"
            ]
           ],
           "sequentialminus": [
            [
             0,
             "#0d0887"
            ],
            [
             0.1111111111111111,
             "#46039f"
            ],
            [
             0.2222222222222222,
             "#7201a8"
            ],
            [
             0.3333333333333333,
             "#9c179e"
            ],
            [
             0.4444444444444444,
             "#bd3786"
            ],
            [
             0.5555555555555556,
             "#d8576b"
            ],
            [
             0.6666666666666666,
             "#ed7953"
            ],
            [
             0.7777777777777778,
             "#fb9f3a"
            ],
            [
             0.8888888888888888,
             "#fdca26"
            ],
            [
             1,
             "#f0f921"
            ]
           ]
          },
          "colorway": [
           "#636efa",
           "#EF553B",
           "#00cc96",
           "#ab63fa",
           "#FFA15A",
           "#19d3f3",
           "#FF6692",
           "#B6E880",
           "#FF97FF",
           "#FECB52"
          ],
          "font": {
           "color": "#2a3f5f"
          },
          "geo": {
           "bgcolor": "white",
           "lakecolor": "white",
           "landcolor": "#E5ECF6",
           "showlakes": true,
           "showland": true,
           "subunitcolor": "white"
          },
          "hoverlabel": {
           "align": "left"
          },
          "hovermode": "closest",
          "mapbox": {
           "style": "light"
          },
          "paper_bgcolor": "white",
          "plot_bgcolor": "#E5ECF6",
          "polar": {
           "angularaxis": {
            "gridcolor": "white",
            "linecolor": "white",
            "ticks": ""
           },
           "bgcolor": "#E5ECF6",
           "radialaxis": {
            "gridcolor": "white",
            "linecolor": "white",
            "ticks": ""
           }
          },
          "scene": {
           "xaxis": {
            "backgroundcolor": "#E5ECF6",
            "gridcolor": "white",
            "gridwidth": 2,
            "linecolor": "white",
            "showbackground": true,
            "ticks": "",
            "zerolinecolor": "white"
           },
           "yaxis": {
            "backgroundcolor": "#E5ECF6",
            "gridcolor": "white",
            "gridwidth": 2,
            "linecolor": "white",
            "showbackground": true,
            "ticks": "",
            "zerolinecolor": "white"
           },
           "zaxis": {
            "backgroundcolor": "#E5ECF6",
            "gridcolor": "white",
            "gridwidth": 2,
            "linecolor": "white",
            "showbackground": true,
            "ticks": "",
            "zerolinecolor": "white"
           }
          },
          "shapedefaults": {
           "line": {
            "color": "#2a3f5f"
           }
          },
          "ternary": {
           "aaxis": {
            "gridcolor": "white",
            "linecolor": "white",
            "ticks": ""
           },
           "baxis": {
            "gridcolor": "white",
            "linecolor": "white",
            "ticks": ""
           },
           "bgcolor": "#E5ECF6",
           "caxis": {
            "gridcolor": "white",
            "linecolor": "white",
            "ticks": ""
           }
          },
          "title": {
           "x": 0.05
          },
          "xaxis": {
           "automargin": true,
           "gridcolor": "white",
           "linecolor": "white",
           "ticks": "",
           "title": {
            "standoff": 15
           },
           "zerolinecolor": "white",
           "zerolinewidth": 2
          },
          "yaxis": {
           "automargin": true,
           "gridcolor": "white",
           "linecolor": "white",
           "ticks": "",
           "title": {
            "standoff": 15
           },
           "zerolinecolor": "white",
           "zerolinewidth": 2
          }
         }
        }
       }
      },
      "text/html": [
       "<div>\n",
       "        \n",
       "        \n",
       "            <div id=\"172a117b-2482-4978-9555-72347e29db7a\" class=\"plotly-graph-div\" style=\"height:525px; width:100%;\"></div>\n",
       "            <script type=\"text/javascript\">\n",
       "                require([\"plotly\"], function(Plotly) {\n",
       "                    window.PLOTLYENV=window.PLOTLYENV || {};\n",
       "                    \n",
       "                if (document.getElementById(\"172a117b-2482-4978-9555-72347e29db7a\")) {\n",
       "                    Plotly.newPlot(\n",
       "                        '172a117b-2482-4978-9555-72347e29db7a',\n",
       "                        [{\"marker\": {\"color\": [0.754, 0.74, 0.5870000000000001, 0.7390000000000001, 0.835, 0.68, 0.816, 0.7909999999999999, 0.836, 0.626, 0.765, 0.511, 0.586, 0.851, 0.753, 0.698, 0.6990000000000001, 0.595, 0.9209999999999999, 0.922, 0.653, 0.903, 0.71, 0.596, 0.762, 0.825, 0.708, 0.642, 0.872, 0.599, 0.884, 0.737, 0.556, 0.5920000000000001, 0.726, 0.56, 0.637, 0.72, 0.669, 0.6940000000000001, 0.748, 0.7909999999999999, 0.8340000000000001, 0.605, 0.777, 0.747, 0.7040000000000001, 0.601, 0.6559999999999999, 0.489, 0.88, 0.687, 0.698, 0.755, 0.7759999999999999, 0.9309999999999999, 0.687, 0.752, 0.732, 0.7909999999999999, 0.6970000000000001, 0.912, 0.797, 0.622, 0.52, 0.602, 0.6809999999999999, 0.631, 0.799, 0.841, 0.6629999999999999, 0.8009999999999999, 0.735, 0.909, 0.589, 0.67, 0.63, 0.792, 0.8140000000000001, 0.8759999999999999, 0.35100000000000003, 0.815, 0.9079999999999999, 0.754, 0.5870000000000001, 0.722, 0.7979999999999999, 0.855, 0.775, 0.909, 0.7809999999999999, 0.9640000000000001, 0.752, 0.284, 0.7340000000000001, 0.684, 0.638, 0.552, 0.258, 0.5529999999999999], \"size\": 8}, \"mode\": \"markers\", \"text\": [\"Drake - God's Plan\", \"XXXTENTACION - SAD!\", \"Post Malone - rockstar (feat. 21 Savage)\", \"Post Malone - Psycho (feat. Ty Dolla $ign)\", \"Drake - In My Feelings\", \"Post Malone - Better Now\", \"Cardi B - I Like It\", \"Calvin Harris - One Kiss (with Dua Lipa)\", \"Dua Lipa - IDGAF\", \"Marshmello - FRIENDS\", \"Camila Cabello - Havana\", \"Juice WRLD - Lucid Dreams\", \"Drake - Nice For What\", \"Maroon 5 - Girls Like You (feat. Cardi B)\", \"Zedd - The Middle\", \"Kendrick Lamar - All The Stars (with SZA)\", \"Ariana Grande - no tears left to cry\", \"Nicky Jam - X\", \"XXXTENTACION - Moonlight\", \"BlocBoy JB - Look Alive (feat. Drake)\", \"Rudimental - These Days (feat. Jess Glynne, Macklemore & Dan Caplen)\", \"Nio Garcia - Te Bot? - Remix\", \"Bazzi - Mine\", \"5 Seconds of Summer - Youngblood\", \"Dua Lipa - New Rules\", \"Ed Sheeran - Shape of You\", \"Khalid - Love Lies (with Normani)\", \"Bebe Rexha - Meant to Be (feat. Florida Georgia Line)\", \"XXXTENTACION - Jocelyn Flores\", \"Ed Sheeran - Perfect\", \"Tyga - Taste (feat. Offset)\", \"Clean Bandit - Solo (feat. Demi Lovato)\", \"Post Malone - I Fall Apart\", \"Dennis Lloyd - Nevermind\", \"Luis Fonsi - ?chame La Culpa\", \"benny blanco - Eastside (with Halsey & Khalid)\", \"Camila Cabello - Never Be the Same\", \"Selena Gomez - Wolves\", \"XXXTENTACION - changes\", \"Dynoro - In My Mind\", \"Eminem - River (feat. Ed Sheeran)\", \"Daddy Yankee - Dura\", \"Travis Scott - SICKO MODE\", \"Imagine Dragons - Thunder\", \"Reik - Me Niego\", \"Ti?sto - Jackie Chan\", \"Bruno Mars - Finesse (Remix) [feat. Cardi B]\", \"Selena Gomez - Back To You - From 13 Reasons Why ? Season 2 Soundtrack\", \"NF - Let You Down\", \"The Weeknd - Call Out My Name\", \"Offset - Ric Flair Drip (& Metro Boomin)\", \"Marshmello - Happier\", \"Sam Smith - Too Good At Goodbyes\", \"Lil Dicky - Freaky Friday (feat. Chris Brown)\", \"Imagine Dragons - Believer\", \"6ix9ine - FEFE (feat. Nicki Minaj & Murda Beatz)\", \"Jonas Blue - Rise\", \"Loud Luxury - Body (feat. brando)\", \"Lil Uzi Vert - XO TOUR Llif3\", \"Becky G - Sin Pijama\", \"Anne-Marie - 2002\", \"Drake - Nonstop\", \"XXXTENTACION - Fuck Love (feat. Trippie Redd)\", \"Shawn Mendes - In My Blood\", \"Marshmello - Silence\", \"Ariana Grande - God is a woman\", \"Piso 21 - D?jala que vuelva (feat. Manuel Turizo)\", \"David Guetta - Flames\", \"Maroon 5 - What Lovers Do\", \"DJ Snake - Taki Taki (with Selena Gomez, Ozuna & Cardi B)\", \"Hailee Steinfeld - Let Me Go (with Alesso, Florida Georgia Line & watt)\", \"Portugal. The Man - Feel It Still\", \"The Weeknd - Pray For Me (with Kendrick Lamar)\", \"Migos - Walk It Talk It\", \"G-Eazy - Him & I (with Halsey)\", \"Post Malone - Candy Paint\", \"Post Malone - Congratulations\", \"Sofia Reyes - 1, 2, 3 (feat. Jason Derulo & De La Ghetto)\", \"Natti Natasha - Criminal\", \"Rich The Kid - Plug Walk\", \"Billie Eilish - lovely (with Khalid)\", \"Migos - Stir Fry\", \"Kendrick Lamar - HUMBLE.\", \"Ozuna - Vaina Loca\", \"Ed Sheeran - Perfect Duet (Ed Sheeran & Beyonc?)\", \"Maluma - Coraz?n (feat. Nego do Borel)\", \"Khalid - Young Dumb & Broke\", \"Ozuna - S?guelo Bailando\", \"Anitta - Downtown\", \"Wolfine - Bella\", \"Calvin Harris - Promises (with Sam Smith)\", \"Lil Baby - Yes Indeed\", \"Lauv - I Like Me Better\", \"Keala Settle - This Is Me\", \"XXXTENTACION - Everybody Dies In Their Nightmares\", \"Zac Efron - Rewrite The Stars\", \"Clean Bandit - I Miss You (feat. Julia Michaels)\", \"DJ Khaled - No Brainer\", \"ZAYN - Dusk Till Dawn - Radio Edit\", \"Dean Lewis - Be Alright\"], \"type\": \"scatter3d\", \"x\": [0.43760000383005193, 0.015634024849270244, 0.31360789005825557, 0.4342751740962729, 0.03392141175149952, 0.21416431838217648, -0.3274452238762873, -0.49451252728003403, 0.046978686733739755, -0.4801018328101998, 0.05308836791927359, 0.4252330155345656, -0.35578050977083653, 0.326746358769807, -0.19140577964067862, -0.11937438424999094, -0.07146972082003288, -0.35470949860887707, 0.11016501681010737, 0.09126699139621175, -0.30688348183514136, -0.03051119059069176, -0.46415969794299555, -0.04171867128072723, -0.1630681284041838, -0.28089348786401996, 0.0356482308011267, -0.13782892512227252, 0.6387298550922583, 0.3980142880550264, 0.217563654435619, -0.1852990642543585, 0.15486289542254195, 0.372210637101869, -0.5293234605393271, 0.3994112591250613, -0.02940627158521721, -0.17196184817876278, 0.8841190328628388, 0.035824319004337565, -0.10150227140193582, -0.5637802504676881, -0.25140201182220534, -0.19814305908780525, -0.44198642740900235, -0.4252256251964026, -0.5385680394811545, -0.1708445457809702, -0.004679425158692644, 0.17537354120861154, 0.47383992829169475, -0.45291838926403793, 0.5948966786338924, -0.12325475325836696, -0.35468829748598346, 0.5669341124269403, -0.25261550277527234, -0.3134600632134538, -0.03951113782580448, -0.3637865040429682, -0.3447908871420109, 0.3644362353631922, 0.4134205277662705, 0.022114758350254813, -0.14546996711102966, 0.0673535975761413, -0.453231923415572, 0.012643941833782415, -0.007652166096932031, -0.3026323407341436, -0.3541018541664535, -0.38939230290181015, 0.03289674652650561, 0.007668769967418603, 0.07533098134074168, 0.22962963815843057, -0.2568498857423761, -0.6031108548660294, -0.6179663709139508, 0.35383914621547946, 1.1660136750808843, -0.22132762153216912, 0.04802300938519894, -0.25592841852408615, 0.7513126467879926, -0.10337924093668423, 0.1902245448831501, -0.009501421628754959, -0.1386590854004075, -0.005034058122221373, -0.18270244690459037, 0.52606531889517, 0.4732324309497634, 0.2795157651739836, 0.32772756641509376, 0.18421044516232815, 0.14297600409423245, -0.2227220418246533, 0.49555955360018955, 0.33236790017100565], \"y\": [-0.03355929027518188, -0.22559923657874323, 0.44217678270259847, -0.14438846632584645, 0.010696697350530865, 0.06175873362949184, 0.00556546629078813, 0.04553171375916397, -0.12663330889502716, -0.039269199179859056, -0.07149465597411575, 0.05213534084482737, -0.10195429196013528, -0.2682992495907507, -0.03940216256133204, -0.07696949969707274, 0.2091750477482746, 0.2764412131596638, -0.4534066836136901, 0.0038681741004896546, -0.08547025159309483, -0.3321697374924801, 0.10347307395337428, 0.47304102836387374, -0.009831684735469397, -0.6607503890833836, 0.23181765892156603, 0.1971048990602314, -0.18187257658463404, 0.10103761968312085, -0.016371592502785706, -0.034572735303254276, 0.3226106576432818, 0.317080941481524, -0.06869205509050579, -0.10260740471662069, 0.25123793156924146, 0.2082036556908845, -0.7111997780147581, 0.28791109550909777, -0.14819997298719204, -0.27590150908317584, 0.24092404951426785, 0.5941691710120018, -0.15241778985679608, -0.18115562717477557, -0.2068264376455545, 0.028324038657180032, 0.11498789141413139, 0.34911987868537614, -0.09395268904721543, -0.15361571723323483, -0.4722238932462625, -0.12775140687881545, -0.028066326958260654, 0.006495824229623432, -0.1924437440305328, 0.01459060462705057, 0.32514525822657425, -0.433241641176116, -0.07242750981311813, 0.11085633368103501, 0.14786978510846938, 0.20063809818535658, 0.30473267879606053, 0.38745242602566554, 0.08265557149071341, 0.019357852445623637, -0.005554344598816721, -0.1553521234910381, -0.1271053882549166, -0.27430796414194236, 0.1703641504922552, 0.1236368029137361, 0.23773406642152567, 0.04912534851151868, 0.08099101902040098, -0.27125974077298975, -0.29819029195381075, -0.007052577615295523, -0.13101736540453043, 0.3583019159061864, 0.15276676059394437, -0.1875900827550772, -0.39020308687604105, 0.1048153085541716, 0.04010283283775862, -0.2428487201951557, 0.07058533441510668, -0.4524755742210854, 0.12010597473614099, -0.126047477171253, -0.3007766791233736, 0.8491067571557475, -0.48409971483908293, 0.206086134729054, 0.035168031030347276, 0.1554121311963215, 0.6749828843857469, -0.18085300014690966], \"z\": [0.1276891941730567, -0.027637739735226693, -0.10604485965925714, -0.044180814260468305, 0.0843856163698638, -0.1699070219073707, 0.0953326970040247, 0.04122168397321142, 0.14705419001219214, -0.30251095166101294, -0.12847414057695442, -0.1497617424899761, -0.07066732519905956, -0.09590083062857707, -0.15976799950250378, -0.04477851388397381, -0.07726576060252657, -0.06087879477204667, 0.030863390841119758, 0.5566972892010942, -0.21901548523375072, 0.01915887928941371, -0.020215058236011572, 0.32737938633494507, 0.08730469615674187, -0.12277200716928684, -0.0682239470391522, 0.048039351430927225, 0.3011824590005384, -0.2300688183228482, 0.2274689356441938, -0.06275060057009771, -0.18303751705450919, -0.023454426447190712, -0.0936530851011534, 0.006319318737876104, -0.20400409302403377, -0.16367995179552236, -0.2781198482721037, -0.058530539450793874, 0.5962206484985354, -0.09473652358253071, 0.25590704331594455, -0.17551209488346256, 0.01573296599087304, -0.2012563104967171, 0.0983676427092759, -0.16935432518774154, -0.07019215937898944, -0.37670616109281735, 0.3297271217244112, -0.20171616860080385, -0.1823814529767449, 0.2615402929920561, 0.11180228419586437, 0.7289476420287546, -0.21490456406592015, -0.03460245793133635, 0.27155875225054343, -0.12024931700105133, -0.028733914416644402, 0.36322394641967687, 0.16811239880753354, -0.006082356295709035, -0.3373731669537895, -0.1168472934397114, 0.061435004448980694, -0.13492660814150137, 0.011383938802875334, 0.2041945406452656, -0.06052017781251807, 0.04158497299839989, -0.07254419625974254, 0.30957631570828553, -0.16978183617547823, -0.11108456148637862, -0.25174823209688735, -0.06276298370297691, -0.007247114565450565, 0.10369414346982016, -0.5718518474368826, 0.3820147527628485, 0.25821606473239755, -0.15670382719445175, -0.4001822640618084, 0.24670815527827836, -0.007678841759967086, 0.10925524395998469, 0.12957002092242303, 0.23767263413577983, 0.003960456719573081, 0.9861865157705242, 0.1152093853468631, -0.10692763087789543, -0.12350986380347335, -0.060919033201818525, -0.19053196133405365, 0.24572278226246397, -0.36105256375578, -0.4016990725009819]}],\n",
       "                        {\"template\": {\"data\": {\"bar\": [{\"error_x\": {\"color\": \"#2a3f5f\"}, \"error_y\": {\"color\": \"#2a3f5f\"}, \"marker\": {\"line\": {\"color\": \"#E5ECF6\", \"width\": 0.5}}, \"type\": \"bar\"}], \"barpolar\": [{\"marker\": {\"line\": {\"color\": \"#E5ECF6\", \"width\": 0.5}}, \"type\": \"barpolar\"}], \"carpet\": [{\"aaxis\": {\"endlinecolor\": \"#2a3f5f\", \"gridcolor\": \"white\", \"linecolor\": \"white\", \"minorgridcolor\": \"white\", \"startlinecolor\": \"#2a3f5f\"}, \"baxis\": {\"endlinecolor\": \"#2a3f5f\", \"gridcolor\": \"white\", \"linecolor\": \"white\", \"minorgridcolor\": \"white\", \"startlinecolor\": \"#2a3f5f\"}, \"type\": \"carpet\"}], \"choropleth\": [{\"colorbar\": {\"outlinewidth\": 0, \"ticks\": \"\"}, \"type\": \"choropleth\"}], \"contour\": [{\"colorbar\": {\"outlinewidth\": 0, \"ticks\": \"\"}, \"colorscale\": [[0.0, \"#0d0887\"], [0.1111111111111111, \"#46039f\"], [0.2222222222222222, \"#7201a8\"], [0.3333333333333333, \"#9c179e\"], [0.4444444444444444, \"#bd3786\"], [0.5555555555555556, \"#d8576b\"], [0.6666666666666666, \"#ed7953\"], [0.7777777777777778, \"#fb9f3a\"], [0.8888888888888888, \"#fdca26\"], [1.0, \"#f0f921\"]], \"type\": \"contour\"}], \"contourcarpet\": [{\"colorbar\": {\"outlinewidth\": 0, \"ticks\": \"\"}, \"type\": \"contourcarpet\"}], \"heatmap\": [{\"colorbar\": {\"outlinewidth\": 0, \"ticks\": \"\"}, \"colorscale\": [[0.0, \"#0d0887\"], [0.1111111111111111, \"#46039f\"], [0.2222222222222222, \"#7201a8\"], [0.3333333333333333, \"#9c179e\"], [0.4444444444444444, \"#bd3786\"], [0.5555555555555556, \"#d8576b\"], [0.6666666666666666, \"#ed7953\"], [0.7777777777777778, \"#fb9f3a\"], [0.8888888888888888, \"#fdca26\"], [1.0, \"#f0f921\"]], \"type\": \"heatmap\"}], \"heatmapgl\": [{\"colorbar\": {\"outlinewidth\": 0, \"ticks\": \"\"}, \"colorscale\": [[0.0, \"#0d0887\"], [0.1111111111111111, \"#46039f\"], [0.2222222222222222, \"#7201a8\"], [0.3333333333333333, \"#9c179e\"], [0.4444444444444444, \"#bd3786\"], [0.5555555555555556, \"#d8576b\"], [0.6666666666666666, \"#ed7953\"], [0.7777777777777778, \"#fb9f3a\"], [0.8888888888888888, \"#fdca26\"], [1.0, \"#f0f921\"]], \"type\": \"heatmapgl\"}], \"histogram\": [{\"marker\": {\"colorbar\": {\"outlinewidth\": 0, \"ticks\": \"\"}}, \"type\": \"histogram\"}], \"histogram2d\": [{\"colorbar\": {\"outlinewidth\": 0, \"ticks\": \"\"}, \"colorscale\": [[0.0, \"#0d0887\"], [0.1111111111111111, \"#46039f\"], [0.2222222222222222, \"#7201a8\"], [0.3333333333333333, \"#9c179e\"], [0.4444444444444444, \"#bd3786\"], [0.5555555555555556, \"#d8576b\"], [0.6666666666666666, \"#ed7953\"], [0.7777777777777778, \"#fb9f3a\"], [0.8888888888888888, \"#fdca26\"], [1.0, \"#f0f921\"]], \"type\": \"histogram2d\"}], \"histogram2dcontour\": [{\"colorbar\": {\"outlinewidth\": 0, \"ticks\": \"\"}, \"colorscale\": [[0.0, \"#0d0887\"], [0.1111111111111111, \"#46039f\"], [0.2222222222222222, \"#7201a8\"], [0.3333333333333333, \"#9c179e\"], [0.4444444444444444, \"#bd3786\"], [0.5555555555555556, \"#d8576b\"], [0.6666666666666666, \"#ed7953\"], [0.7777777777777778, \"#fb9f3a\"], [0.8888888888888888, \"#fdca26\"], [1.0, \"#f0f921\"]], \"type\": \"histogram2dcontour\"}], \"mesh3d\": [{\"colorbar\": {\"outlinewidth\": 0, \"ticks\": \"\"}, \"type\": \"mesh3d\"}], \"parcoords\": [{\"line\": {\"colorbar\": {\"outlinewidth\": 0, \"ticks\": \"\"}}, \"type\": \"parcoords\"}], \"pie\": [{\"automargin\": true, \"type\": \"pie\"}], \"scatter\": [{\"marker\": {\"colorbar\": {\"outlinewidth\": 0, \"ticks\": \"\"}}, \"type\": \"scatter\"}], \"scatter3d\": [{\"line\": {\"colorbar\": {\"outlinewidth\": 0, \"ticks\": \"\"}}, \"marker\": {\"colorbar\": {\"outlinewidth\": 0, \"ticks\": \"\"}}, \"type\": \"scatter3d\"}], \"scattercarpet\": [{\"marker\": {\"colorbar\": {\"outlinewidth\": 0, \"ticks\": \"\"}}, \"type\": \"scattercarpet\"}], \"scattergeo\": [{\"marker\": {\"colorbar\": {\"outlinewidth\": 0, \"ticks\": \"\"}}, \"type\": \"scattergeo\"}], \"scattergl\": [{\"marker\": {\"colorbar\": {\"outlinewidth\": 0, \"ticks\": \"\"}}, \"type\": \"scattergl\"}], \"scattermapbox\": [{\"marker\": {\"colorbar\": {\"outlinewidth\": 0, \"ticks\": \"\"}}, \"type\": \"scattermapbox\"}], \"scatterpolar\": [{\"marker\": {\"colorbar\": {\"outlinewidth\": 0, \"ticks\": \"\"}}, \"type\": \"scatterpolar\"}], \"scatterpolargl\": [{\"marker\": {\"colorbar\": {\"outlinewidth\": 0, \"ticks\": \"\"}}, \"type\": \"scatterpolargl\"}], \"scatterternary\": [{\"marker\": {\"colorbar\": {\"outlinewidth\": 0, \"ticks\": \"\"}}, \"type\": \"scatterternary\"}], \"surface\": [{\"colorbar\": {\"outlinewidth\": 0, \"ticks\": \"\"}, \"colorscale\": [[0.0, \"#0d0887\"], [0.1111111111111111, \"#46039f\"], [0.2222222222222222, \"#7201a8\"], [0.3333333333333333, \"#9c179e\"], [0.4444444444444444, \"#bd3786\"], [0.5555555555555556, \"#d8576b\"], [0.6666666666666666, \"#ed7953\"], [0.7777777777777778, \"#fb9f3a\"], [0.8888888888888888, \"#fdca26\"], [1.0, \"#f0f921\"]], \"type\": \"surface\"}], \"table\": [{\"cells\": {\"fill\": {\"color\": \"#EBF0F8\"}, \"line\": {\"color\": \"white\"}}, \"header\": {\"fill\": {\"color\": \"#C8D4E3\"}, \"line\": {\"color\": \"white\"}}, \"type\": \"table\"}]}, \"layout\": {\"annotationdefaults\": {\"arrowcolor\": \"#2a3f5f\", \"arrowhead\": 0, \"arrowwidth\": 1}, \"coloraxis\": {\"colorbar\": {\"outlinewidth\": 0, \"ticks\": \"\"}}, \"colorscale\": {\"diverging\": [[0, \"#8e0152\"], [0.1, \"#c51b7d\"], [0.2, \"#de77ae\"], [0.3, \"#f1b6da\"], [0.4, \"#fde0ef\"], [0.5, \"#f7f7f7\"], [0.6, \"#e6f5d0\"], [0.7, \"#b8e186\"], [0.8, \"#7fbc41\"], [0.9, \"#4d9221\"], [1, \"#276419\"]], \"sequential\": [[0.0, \"#0d0887\"], [0.1111111111111111, \"#46039f\"], [0.2222222222222222, \"#7201a8\"], [0.3333333333333333, \"#9c179e\"], [0.4444444444444444, \"#bd3786\"], [0.5555555555555556, \"#d8576b\"], [0.6666666666666666, \"#ed7953\"], [0.7777777777777778, \"#fb9f3a\"], [0.8888888888888888, \"#fdca26\"], [1.0, \"#f0f921\"]], \"sequentialminus\": [[0.0, \"#0d0887\"], [0.1111111111111111, \"#46039f\"], [0.2222222222222222, \"#7201a8\"], [0.3333333333333333, \"#9c179e\"], [0.4444444444444444, \"#bd3786\"], [0.5555555555555556, \"#d8576b\"], [0.6666666666666666, \"#ed7953\"], [0.7777777777777778, \"#fb9f3a\"], [0.8888888888888888, \"#fdca26\"], [1.0, \"#f0f921\"]]}, \"colorway\": [\"#636efa\", \"#EF553B\", \"#00cc96\", \"#ab63fa\", \"#FFA15A\", \"#19d3f3\", \"#FF6692\", \"#B6E880\", \"#FF97FF\", \"#FECB52\"], \"font\": {\"color\": \"#2a3f5f\"}, \"geo\": {\"bgcolor\": \"white\", \"lakecolor\": \"white\", \"landcolor\": \"#E5ECF6\", \"showlakes\": true, \"showland\": true, \"subunitcolor\": \"white\"}, \"hoverlabel\": {\"align\": \"left\"}, \"hovermode\": \"closest\", \"mapbox\": {\"style\": \"light\"}, \"paper_bgcolor\": \"white\", \"plot_bgcolor\": \"#E5ECF6\", \"polar\": {\"angularaxis\": {\"gridcolor\": \"white\", \"linecolor\": \"white\", \"ticks\": \"\"}, \"bgcolor\": \"#E5ECF6\", \"radialaxis\": {\"gridcolor\": \"white\", \"linecolor\": \"white\", \"ticks\": \"\"}}, \"scene\": {\"xaxis\": {\"backgroundcolor\": \"#E5ECF6\", \"gridcolor\": \"white\", \"gridwidth\": 2, \"linecolor\": \"white\", \"showbackground\": true, \"ticks\": \"\", \"zerolinecolor\": \"white\"}, \"yaxis\": {\"backgroundcolor\": \"#E5ECF6\", \"gridcolor\": \"white\", \"gridwidth\": 2, \"linecolor\": \"white\", \"showbackground\": true, \"ticks\": \"\", \"zerolinecolor\": \"white\"}, \"zaxis\": {\"backgroundcolor\": \"#E5ECF6\", \"gridcolor\": \"white\", \"gridwidth\": 2, \"linecolor\": \"white\", \"showbackground\": true, \"ticks\": \"\", \"zerolinecolor\": \"white\"}}, \"shapedefaults\": {\"line\": {\"color\": \"#2a3f5f\"}}, \"ternary\": {\"aaxis\": {\"gridcolor\": \"white\", \"linecolor\": \"white\", \"ticks\": \"\"}, \"baxis\": {\"gridcolor\": \"white\", \"linecolor\": \"white\", \"ticks\": \"\"}, \"bgcolor\": \"#E5ECF6\", \"caxis\": {\"gridcolor\": \"white\", \"linecolor\": \"white\", \"ticks\": \"\"}}, \"title\": {\"x\": 0.05}, \"xaxis\": {\"automargin\": true, \"gridcolor\": \"white\", \"linecolor\": \"white\", \"ticks\": \"\", \"title\": {\"standoff\": 15}, \"zerolinecolor\": \"white\", \"zerolinewidth\": 2}, \"yaxis\": {\"automargin\": true, \"gridcolor\": \"white\", \"linecolor\": \"white\", \"ticks\": \"\", \"title\": {\"standoff\": 15}, \"zerolinecolor\": \"white\", \"zerolinewidth\": 2}}}},\n",
       "                        {\"responsive\": true}\n",
       "                    ).then(function(){\n",
       "                            \n",
       "var gd = document.getElementById('172a117b-2482-4978-9555-72347e29db7a');\n",
       "var x = new MutationObserver(function (mutations, observer) {{\n",
       "        var display = window.getComputedStyle(gd).display;\n",
       "        if (!display || display === 'none') {{\n",
       "            console.log([gd, 'removed!']);\n",
       "            Plotly.purge(gd);\n",
       "            observer.disconnect();\n",
       "        }}\n",
       "}});\n",
       "\n",
       "// Listen for the removal of the full notebook cells\n",
       "var notebookContainer = gd.closest('#notebook-container');\n",
       "if (notebookContainer) {{\n",
       "    x.observe(notebookContainer, {childList: true});\n",
       "}}\n",
       "\n",
       "// Listen for the clearing of the current output cell\n",
       "var outputEl = gd.closest('.output');\n",
       "if (outputEl) {{\n",
       "    x.observe(outputEl, {childList: true});\n",
       "}}\n",
       "\n",
       "                        })\n",
       "                };\n",
       "                });\n",
       "            </script>\n",
       "        </div>"
      ]
     },
     "metadata": {},
     "output_type": "display_data"
    }
   ],
   "source": [
    "plot_PCA_large()"
   ]
  },
  {
   "cell_type": "markdown",
   "metadata": {},
   "source": [
    "### Plot correlation matrix"
   ]
  },
  {
   "cell_type": "code",
   "execution_count": 45,
   "metadata": {
    "scrolled": true
   },
   "outputs": [],
   "source": [
    "def plot_correlation():\n",
    "    correlation = df[['acousticness','danceability','energy','instrumentalness','liveness','tempo','valence',\n",
    "                           'loudness']]\n",
    "    plt.figure(figsize=(12,8))\n",
    "    sns.heatmap(correlation.corr(), annot=True,cmap=\"coolwarm\");"
   ]
  },
  {
   "cell_type": "code",
   "execution_count": 46,
   "metadata": {},
   "outputs": [
    {
     "data": {
      "image/png": "[encoded data removed]",
      "text/plain": [
       "<Figure size 864x576 with 2 Axes>"
      ]
     },
     "metadata": {
      "needs_background": "light"
     },
     "output_type": "display_data"
    }
   ],
   "source": [
    "plot_correlation()"
   ]
  },
  {
   "cell_type": "markdown",
   "metadata": {},
   "source": [
    "We can observe that there is a correlation between the loudness and the perceived energy of the song. The jointplots indicate a correlation between these two. Lets understand  how much one feature si impacted by another feature "
   ]
  },
  {
   "cell_type": "markdown",
   "metadata": {},
   "source": [
    "### Join plots"
   ]
  },
  {
   "cell_type": "markdown",
   "metadata": {},
   "source": [
    "And for the features we again plotted a regression based joinplot. AS The multivariate normal distribution is a nice tool to demonstrate this type of plot and thus  it is sampling from a multidimensional Gaussian and there is natural clustering.\n",
    "Here the line is  not close to flat because we chose our variables to be correlated.\n",
    "So, in nutshell we had our eda as expected to be and it gave us the best features for a song to be at the top."
   ]
  },
  {
   "cell_type": "code",
   "execution_count": 47,
   "metadata": {},
   "outputs": [],
   "source": [
    "def create_joinplot(val1,val2,year,colr):\n",
    "    sns.jointplot(val1,val2, data=year,kind='reg',color=colr)"
   ]
  },
  {
   "cell_type": "code",
   "execution_count": 48,
   "metadata": {},
   "outputs": [
    {
     "data": {
      "image/png": "[encoded data removed]",
      "text/plain": [
       "<Figure size 432x432 with 3 Axes>"
      ]
     },
     "metadata": {
      "needs_background": "light"
     },
     "output_type": "display_data"
    },
    {
     "data": {
      "image/png": "[encoded data removed]",
      "text/plain": [
       "<Figure size 432x432 with 3 Axes>"
      ]
     },
     "metadata": {
      "needs_background": "light"
     },
     "output_type": "display_data"
    },
    {
     "data": {
      "image/png": "[encoded data removed]",
      "text/plain": [
       "<Figure size 432x432 with 3 Axes>"
      ]
     },
     "metadata": {
      "needs_background": "light"
     },
     "output_type": "display_data"
    },
    {
     "data": {
      "image/png": "[encoded data removed]",
      "text/plain": [
       "<Figure size 432x432 with 3 Axes>"
      ]
     },
     "metadata": {
      "needs_background": "light"
     },
     "output_type": "display_data"
    }
   ],
   "source": [
    "\n",
    "create_joinplot('loudness','energy',df,'r')\n",
    "create_joinplot('tempo','danceability',df,'b')\n",
    "create_joinplot('acousticness','energy',df,'y')\n",
    "create_joinplot('valence','energy',df,'b')"
   ]
  },
  {
   "cell_type": "markdown",
   "metadata": {},
   "source": [
    "from the corelation matrix we observe that  \n",
    "- there is a relation between  tempo and dancebility \n",
    "- there is a relation between  acounsticeness and energy \n",
    "- there is a relation between  tempo and acousticeness\n",
    "- there is a relation between  energy and loudness\n",
    "- there is a relation between  tempo and valence\n",
    "- there is a relation between  valence and dancebility \n",
    "- there is a relation between  valence and energy  "
   ]
  },
  {
   "cell_type": "markdown",
   "metadata": {},
   "source": [
    "### dist plot for feature details \n"
   ]
  },
  {
   "cell_type": "code",
   "execution_count": 49,
   "metadata": {},
   "outputs": [],
   "source": [
    "def feature_details(feature):\n",
    "    print(\"Mean value \", feature.mean())\n",
    "    sns.distplot(feature,color=\"r\")\n",
    "    plt.show()\n"
   ]
  },
  {
   "cell_type": "code",
   "execution_count": 50,
   "metadata": {},
   "outputs": [
    {
     "name": "stdout",
     "output_type": "stream",
     "text": [
      "Mean value  0.7164600000000001\n"
     ]
    },
    {
     "data": {
      "image/png": "[encoded data removed]",
      "text/plain": [
       "<Figure size 432x288 with 1 Axes>"
      ]
     },
     "metadata": {
      "needs_background": "light"
     },
     "output_type": "display_data"
    }
   ],
   "source": [
    "feature_details(df['danceability'])"
   ]
  },
  {
   "cell_type": "markdown",
   "metadata": {},
   "source": [
    "*Conclusion*: top songs have high dancebility.And people listen to those songs in which they can dance."
   ]
  },
  {
   "cell_type": "code",
   "execution_count": 51,
   "metadata": {},
   "outputs": [
    {
     "name": "stdout",
     "output_type": "stream",
     "text": [
      "Mean value  0.6590600000000001\n"
     ]
    },
    {
     "data": {
      "image/png": "[encoded data removed]",
      "text/plain": [
       "<Figure size 432x288 with 1 Axes>"
      ]
     },
     "metadata": {
      "needs_background": "light"
     },
     "output_type": "display_data"
    }
   ],
   "source": [
    "feature_details(df['energy'])"
   ]
  },
  {
   "cell_type": "markdown",
   "metadata": {},
   "source": [
    "*Conclusion*:people like energetic songs "
   ]
  },
  {
   "cell_type": "code",
   "execution_count": 52,
   "metadata": {},
   "outputs": [
    {
     "name": "stdout",
     "output_type": "stream",
     "text": [
      "Mean value  -5.677639999999999\n"
     ]
    },
    {
     "data": {
      "image/png": "[encoded data removed]",
      "text/plain": [
       "<Figure size 432x288 with 1 Axes>"
      ]
     },
     "metadata": {
      "needs_background": "light"
     },
     "output_type": "display_data"
    }
   ],
   "source": [
    "feature_details(df['loudness'])"
   ]
  },
  {
   "cell_type": "markdown",
   "metadata": {},
   "source": [
    "*Conclusion*: more noice means more ranking "
   ]
  },
  {
   "cell_type": "code",
   "execution_count": 53,
   "metadata": {},
   "outputs": [
    {
     "name": "stdout",
     "output_type": "stream",
     "text": [
      "Mean value  0.19570132\n"
     ]
    },
    {
     "data": {
      "image/png": "[encoded data removed]",
      "text/plain": [
       "<Figure size 432x288 with 1 Axes>"
      ]
     },
     "metadata": {
      "needs_background": "light"
     },
     "output_type": "display_data"
    }
   ],
   "source": [
    "feature_details(df['acousticness'])"
   ]
  },
  {
   "cell_type": "markdown",
   "metadata": {},
   "source": [
    "*Conclusion*:people don't lisen more to the acoustics "
   ]
  },
  {
   "cell_type": "code",
   "execution_count": 54,
   "metadata": {},
   "outputs": [
    {
     "name": "stdout",
     "output_type": "stream",
     "text": [
      "Mean value  0.48444300000000007\n"
     ]
    },
    {
     "data": {
      "image/png": "[encoded data removed]",
      "text/plain": [
       "<Figure size 432x288 with 1 Axes>"
      ]
     },
     "metadata": {
      "needs_background": "light"
     },
     "output_type": "display_data"
    }
   ],
   "source": [
    "feature_details(df['valence'])"
   ]
  },
  {
   "cell_type": "markdown",
   "metadata": {},
   "source": [
    "*Conclusion*:songs are evenly distributed and totally depends upon the mood "
   ]
  },
  {
   "cell_type": "code",
   "execution_count": 55,
   "metadata": {},
   "outputs": [
    {
     "name": "stdout",
     "output_type": "stream",
     "text": [
      "Mean value  119.90417999999998\n"
     ]
    },
    {
     "data": {
      "image/png": "[encoded data removed]",
      "text/plain": [
       "<Figure size 432x288 with 1 Axes>"
      ]
     },
     "metadata": {
      "needs_background": "light"
     },
     "output_type": "display_data"
    }
   ],
   "source": [
    "feature_details(df['tempo'])"
   ]
  },
  {
   "cell_type": "code",
   "execution_count": 56,
   "metadata": {},
   "outputs": [],
   "source": [
    "# store mean values of above features\n",
    "a=df['danceability'].mean()\n",
    "b=df['energy'].mean()\n",
    "c=df['loudness'].mean()\n",
    "d=df['acousticness'].mean()\n",
    "e=df['valence'].mean()\n",
    "f=df['tempo'].mean()"
   ]
  },
  {
   "cell_type": "markdown",
   "metadata": {},
   "source": [
    "*Conclusion*:people listen fast songs more "
   ]
  },
  {
   "cell_type": "markdown",
   "metadata": {},
   "source": [
    "### pca -important features "
   ]
  },
  {
   "cell_type": "code",
   "execution_count": 57,
   "metadata": {},
   "outputs": [],
   "source": [
    "def plot_pca_important_features():\n",
    "    feture_to_plot = [\"energy\", \"liveness\", \"tempo\", \"valence\",\"danceability\"]\n",
    "    text1 = df[\"artists\"] + \" - \" + df[\"name\"]\n",
    "    text2 = text1.values\n",
    "    X = df[feture_to_plot].values\n",
    "    y = df[\"danceability\"].values\n",
    "    min_maxscaler = MinMaxScaler()\n",
    "    X = min_maxscaler.fit_transform(X)\n",
    "    pca = PCA(n_components=3)\n",
    "    pca.fit(X)\n",
    "    X = pca.transform(X)\n",
    "\n",
    "    plot3d = go.Scatter3d(\n",
    "        x=X[:,0],\n",
    "        y=X[:,1],\n",
    "        z=X[:,2],\n",
    "        text=text2,\n",
    "        mode=\"markers\",\n",
    "        marker=dict(\n",
    "            size=8,\n",
    "            color=y\n",
    "        )\n",
    "    )\n",
    "\n",
    "    fig = go.Figure(data=[plot3d])\n",
    "    py.iplot(fig, filename=\"3d graph-2nd\")\n"
   ]
  },
  {
   "cell_type": "code",
   "execution_count": 58,
   "metadata": {},
   "outputs": [
    {
     "data": {
      "application/vnd.plotly.v1+json": {
       "config": {
        "linkText": "Export to plot.ly",
        "plotlyServerURL": "https://plot.ly",
        "showLink": false
       },
       "data": [
        {
         "marker": {
          "color": [
           0.754,
           0.74,
           0.5870000000000001,
           0.7390000000000001,
           0.835,
           0.68,
           0.816,
           0.7909999999999999,
           0.836,
           0.626,
           0.765,
           0.511,
           0.586,
           0.851,
           0.753,
           0.698,
           0.6990000000000001,
           0.595,
           0.9209999999999999,
           0.922,
           0.653,
           0.903,
           0.71,
           0.596,
           0.762,
           0.825,
           0.708,
           0.642,
           0.872,
           0.599,
           0.884,
           0.737,
           0.556,
           0.5920000000000001,
           0.726,
           0.56,
           0.637,
           0.72,
           0.669,
           0.6940000000000001,
           0.748,
           0.7909999999999999,
           0.8340000000000001,
           0.605,
           0.777,
           0.747,
           0.7040000000000001,
           0.601,
           0.6559999999999999,
           0.489,
           0.88,
           0.687,
           0.698,
           0.755,
           0.7759999999999999,
           0.9309999999999999,
           0.687,
           0.752,
           0.732,
           0.7909999999999999,
           0.6970000000000001,
           0.912,
           0.797,
           0.622,
           0.52,
           0.602,
           0.6809999999999999,
           0.631,
           0.799,
           0.841,
           0.6629999999999999,
           0.8009999999999999,
           0.735,
           0.909,
           0.589,
           0.67,
           0.63,
           0.792,
           0.8140000000000001,
           0.8759999999999999,
           0.35100000000000003,
           0.815,
           0.9079999999999999,
           0.754,
           0.5870000000000001,
           0.722,
           0.7979999999999999,
           0.855,
           0.775,
           0.909,
           0.7809999999999999,
           0.9640000000000001,
           0.752,
           0.284,
           0.7340000000000001,
           0.684,
           0.638,
           0.552,
           0.258,
           0.5529999999999999
          ],
          "size": 8
         },
         "mode": "markers",
         "text": [
          "Drake - God's Plan",
          "XXXTENTACION - SAD!",
          "Post Malone - rockstar (feat. 21 Savage)",
          "Post Malone - Psycho (feat. Ty Dolla $ign)",
          "Drake - In My Feelings",
          "Post Malone - Better Now",
          "Cardi B - I Like It",
          "Calvin Harris - One Kiss (with Dua Lipa)",
          "Dua Lipa - IDGAF",
          "Marshmello - FRIENDS",
          "Camila Cabello - Havana",
          "Juice WRLD - Lucid Dreams",
          "Drake - Nice For What",
          "Maroon 5 - Girls Like You (feat. Cardi B)",
          "Zedd - The Middle",
          "Kendrick Lamar - All The Stars (with SZA)",
          "Ariana Grande - no tears left to cry",
          "Nicky Jam - X",
          "XXXTENTACION - Moonlight",
          "BlocBoy JB - Look Alive (feat. Drake)",
          "Rudimental - These Days (feat. Jess Glynne, Macklemore & Dan Caplen)",
          "Nio Garcia - Te Bot? - Remix",
          "Bazzi - Mine",
          "5 Seconds of Summer - Youngblood",
          "Dua Lipa - New Rules",
          "Ed Sheeran - Shape of You",
          "Khalid - Love Lies (with Normani)",
          "Bebe Rexha - Meant to Be (feat. Florida Georgia Line)",
          "XXXTENTACION - Jocelyn Flores",
          "Ed Sheeran - Perfect",
          "Tyga - Taste (feat. Offset)",
          "Clean Bandit - Solo (feat. Demi Lovato)",
          "Post Malone - I Fall Apart",
          "Dennis Lloyd - Nevermind",
          "Luis Fonsi - ?chame La Culpa",
          "benny blanco - Eastside (with Halsey & Khalid)",
          "Camila Cabello - Never Be the Same",
          "Selena Gomez - Wolves",
          "XXXTENTACION - changes",
          "Dynoro - In My Mind",
          "Eminem - River (feat. Ed Sheeran)",
          "Daddy Yankee - Dura",
          "Travis Scott - SICKO MODE",
          "Imagine Dragons - Thunder",
          "Reik - Me Niego",
          "Ti?sto - Jackie Chan",
          "Bruno Mars - Finesse (Remix) [feat. Cardi B]",
          "Selena Gomez - Back To You - From 13 Reasons Why ? Season 2 Soundtrack",
          "NF - Let You Down",
          "The Weeknd - Call Out My Name",
          "Offset - Ric Flair Drip (& Metro Boomin)",
          "Marshmello - Happier",
          "Sam Smith - Too Good At Goodbyes",
          "Lil Dicky - Freaky Friday (feat. Chris Brown)",
          "Imagine Dragons - Believer",
          "6ix9ine - FEFE (feat. Nicki Minaj & Murda Beatz)",
          "Jonas Blue - Rise",
          "Loud Luxury - Body (feat. brando)",
          "Lil Uzi Vert - XO TOUR Llif3",
          "Becky G - Sin Pijama",
          "Anne-Marie - 2002",
          "Drake - Nonstop",
          "XXXTENTACION - Fuck Love (feat. Trippie Redd)",
          "Shawn Mendes - In My Blood",
          "Marshmello - Silence",
          "Ariana Grande - God is a woman",
          "Piso 21 - D?jala que vuelva (feat. Manuel Turizo)",
          "David Guetta - Flames",
          "Maroon 5 - What Lovers Do",
          "DJ Snake - Taki Taki (with Selena Gomez, Ozuna & Cardi B)",
          "Hailee Steinfeld - Let Me Go (with Alesso, Florida Georgia Line & watt)",
          "Portugal. The Man - Feel It Still",
          "The Weeknd - Pray For Me (with Kendrick Lamar)",
          "Migos - Walk It Talk It",
          "G-Eazy - Him & I (with Halsey)",
          "Post Malone - Candy Paint",
          "Post Malone - Congratulations",
          "Sofia Reyes - 1, 2, 3 (feat. Jason Derulo & De La Ghetto)",
          "Natti Natasha - Criminal",
          "Rich The Kid - Plug Walk",
          "Billie Eilish - lovely (with Khalid)",
          "Migos - Stir Fry",
          "Kendrick Lamar - HUMBLE.",
          "Ozuna - Vaina Loca",
          "Ed Sheeran - Perfect Duet (Ed Sheeran & Beyonc?)",
          "Maluma - Coraz?n (feat. Nego do Borel)",
          "Khalid - Young Dumb & Broke",
          "Ozuna - S?guelo Bailando",
          "Anitta - Downtown",
          "Wolfine - Bella",
          "Calvin Harris - Promises (with Sam Smith)",
          "Lil Baby - Yes Indeed",
          "Lauv - I Like Me Better",
          "Keala Settle - This Is Me",
          "XXXTENTACION - Everybody Dies In Their Nightmares",
          "Zac Efron - Rewrite The Stars",
          "Clean Bandit - I Miss You (feat. Julia Michaels)",
          "DJ Khaled - No Brainer",
          "ZAYN - Dusk Till Dawn - Radio Edit",
          "Dean Lewis - Be Alright"
         ],
         "type": "scatter3d",
         "x": [
          0.23237267693294228,
          -0.01567635518933877,
          0.5247396337402783,
          0.1493358946521133,
          0.06418109908153258,
          0.23360568864103962,
          -0.22856922707636299,
          -0.30480361713080756,
          0.0047200500743286395,
          -0.2415828842484233,
          0.16598390392409257,
          0.35684825700525846,
          -0.4535834792982316,
          0.0931532506529307,
          0.01312701319507357,
          -0.05902574321650725,
          0.07656484872786244,
          -0.18014911095828293,
          -0.16212973041998543,
          -0.08317059295176915,
          -0.20596720822726883,
          -0.08093734475748164,
          -0.29497673416371345,
          0.16851127325332146,
          -0.17084868364643882,
          -0.46702578304820086,
          0.17590501202169329,
          -0.12160389344909389,
          0.2421194974097323,
          0.48958403334414435,
          0.12333304625365679,
          -0.07963620693963099,
          0.3782619252801061,
          0.35519284764956355,
          -0.3910264135060325,
          0.15156465722217866,
          0.21164746984603036,
          0.03088479572592015,
          0.23505593163488395,
          0.20345127591357245,
          -0.2889882748351809,
          -0.5425686155246757,
          -0.03098680236037178,
          0.1346541409360016,
          -0.4229579087941013,
          -0.34138845777276977,
          -0.5904154269928287,
          -0.05726981512033399,
          0.01913523660782289,
          0.44306235298140867,
          0.2547381606629258,
          -0.30205438077301944,
          0.18489515607074666,
          -0.185110493175887,
          -0.28913109242459945,
          0.2670891704920323,
          -0.2736803309165722,
          -0.19367789473728345,
          0.031875339753007784,
          -0.44147197602189475,
          -0.15097711332730007,
          0.24881965120661706,
          0.23641783583524606,
          0.013592168685329633,
          0.19170611309749244,
          0.2725196708938168,
          -0.3543588347031058,
          0.06635102057214395,
          0.0694566801727392,
          -0.30212537860485744,
          -0.2751393006190248,
          -0.4513510895671229,
          0.21635171997750982,
          0.05590217069360072,
          0.20516782321412508,
          0.1435891321812237,
          -0.10043133069396347,
          -0.553598332963574,
          -0.5485517885156619,
          0.3234682172857152,
          0.796090535978907,
          -0.11313001412805294,
          0.054680859568609304,
          -0.2449115303622123,
          0.46168557817900147,
          -0.2077958402242402,
          0.17985677594609906,
          -0.21452640439392087,
          -0.10111817396379535,
          -0.28075177512593036,
          -0.122921126010115,
          0.11721637564869133,
          0.14832493620322512,
          0.5694808172464726,
          -0.0954986724813702,
          0.23550117960618813,
          0.15127753399666882,
          -0.14353629252352412,
          0.810196828104982,
          0.17789021190426094
         ],
         "y": [
          -0.43730276781737093,
          -0.27696302749236956,
          0.20850949394933904,
          -0.004228439382066398,
          -0.2354925357521681,
          0.06912558447331646,
          0.0491479748025592,
          0.16168629812685054,
          -0.29987738812268855,
          0.14532182853846243,
          -0.22189925262552423,
          -0.10893350431601441,
          0.15481836421936976,
          -0.1669700595021203,
          -0.07801833620981045,
          -0.1353650549875575,
          0.08930696512094904,
          0.4383798412454345,
          -0.239493424652902,
          -0.11911491878810683,
          0.040347015413675524,
          -0.2016900025378126,
          0.1957441728111102,
          0.32290123066857074,
          -0.025578035187387105,
          -0.2592758400741132,
          0.13679691342352948,
          0.3118878676815516,
          -0.2892301899083045,
          -0.20650604469347755,
          -0.2834386901827096,
          -0.1296919774354533,
          0.12532242218425377,
          0.06317126896710613,
          0.08107162467566134,
          -0.005458553715975831,
          0.19058123864215315,
          0.19671837511838308,
          -0.5916547559132737,
          0.2061823839050897,
          -0.10075336654407689,
          -0.04649537859914803,
          0.17862669055481373,
          0.4973061772914076,
          -0.11128749521366094,
          0.16624723013939977,
          0.06814252622382984,
          0.04490589856979281,
          0.23843628789525803,
          0.1892945672064243,
          -0.3999284393875076,
          0.021655444339167863,
          -0.41595208240032056,
          -0.05921142078771799,
          0.08250567473057724,
          -0.3519003144833372,
          0.045343635106239046,
          0.08120352743048562,
          0.26885621409093885,
          -0.1388320364913578,
          -0.09922508752604052,
          -0.1791304247381951,
          -0.09193163585450505,
          0.20957585242524163,
          0.36023293531632417,
          0.22331251439034167,
          0.3421649929636698,
          -0.0723711071301987,
          -0.14735680489108632,
          -0.0688433500354587,
          -0.039646308998930534,
          -0.15704777800352873,
          -0.03890054257119793,
          -0.005650666781822874,
          0.03226610920459676,
          0.3297156354644439,
          0.20677905024807217,
          0.020236672991254,
          -0.16392684352558382,
          -0.30380615751908896,
          -0.09837346853593569,
          0.3978810586587088,
          0.0063168245063065205,
          -0.01890141309606129,
          -0.377821009140299,
          0.41470919370639814,
          -0.07065390036199258,
          -0.20686604662968539,
          0.1928242364204315,
          -0.46503149150407863,
          0.07661332903579876,
          -0.47072079513332427,
          -0.2985121992316263,
          0.727079623453751,
          -0.08025661440709067,
          0.03902390541289131,
          0.0015389677434520569,
          0.25606535816197,
          0.4191187530230288,
          0.07051722814768524
         ],
         "z": [
          0.44980720977052707,
          0.13488343264853553,
          -0.10272601048157694,
          -0.18857691803976015,
          0.3102061758859891,
          -0.13615799818421487,
          0.05831612199066091,
          -0.04154921454637201,
          -0.10153071035024282,
          0.24303858812288567,
          -0.031940085305839395,
          0.4611722633068498,
          0.2086891011675442,
          -0.17360077988816322,
          0.011395460109728283,
          0.01629369955086361,
          0.19584711274530428,
          -0.055304266268739,
          -0.3338854159779929,
          -0.3232302761665321,
          0.22950104832289495,
          -0.055631819200592694,
          0.16810002779828973,
          0.24711707770597355,
          -0.02579917511087824,
          -0.15211169745614506,
          -0.0861537433204766,
          -0.1686252862998456,
          -0.15705085511370287,
          0.10060322170905665,
          -0.050989983400461715,
          0.19225881772266099,
          -0.0025456483680243065,
          0.5360066716833092,
          0.12489914688271578,
          0.2423786171011148,
          0.08362087507634605,
          0.14138368224848535,
          0.0005710766619971044,
          0.11443841873303669,
          0.03630815158228685,
          0.30419434434907566,
          -0.19481893816590548,
          -0.013277277534688672,
          0.5010621118506583,
          -0.10475651759135325,
          -0.0750941894511459,
          0.13402273681500368,
          -0.04163988281314205,
          0.2888101299784732,
          -0.1198659928670153,
          0.13073135795184374,
          -0.032947408725495356,
          -0.24479548050971653,
          -0.11005988618802286,
          -0.28006028249296855,
          0.13733727272593707,
          -0.09149992754419496,
          -0.13159162273813207,
          -0.0266790297100011,
          0.07379554358054874,
          -0.430273694939563,
          -0.16527752189322956,
          -0.03876072633511542,
          0.1326444412203365,
          0.08416818043012378,
          -0.32070333027027265,
          0.11505990272735743,
          -0.0654714877539914,
          0.00470290789232117,
          -0.01805272722600513,
          0.056536616691815055,
          0.1392231417647329,
          -0.252993584833978,
          0.47970922572652525,
          -0.3150919443457658,
          0.19737109760863406,
          0.015315682310990284,
          0.1960469957997506,
          0.008035936197081388,
          0.05067282157296769,
          -0.24109174035351746,
          -0.2909421896884837,
          0.20139530984519713,
          -0.024342202073687928,
          -0.3562838381166941,
          -0.15309616108360388,
          -0.07198602615286953,
          -0.35038506642120526,
          -0.21991774617749565,
          0.1681846639486151,
          -0.37804557670293143,
          -0.01071429975177189,
          -0.06302732262152791,
          -0.21320590128473962,
          0.0003633469481804676,
          0.09421364536336506,
          -0.04390796743706567,
          -0.09443637044027231,
          -0.04792966611146688
         ]
        }
       ],
       "layout": {
        "template": {
         "data": {
          "bar": [
           {
            "error_x": {
             "color": "#2a3f5f"
            },
            "error_y": {
             "color": "#2a3f5f"
            },
            "marker": {
             "line": {
              "color": "#E5ECF6",
              "width": 0.5
             }
            },
            "type": "bar"
           }
          ],
          "barpolar": [
           {
            "marker": {
             "line": {
              "color": "#E5ECF6",
              "width": 0.5
             }
            },
            "type": "barpolar"
           }
          ],
          "carpet": [
           {
            "aaxis": {
             "endlinecolor": "#2a3f5f",
             "gridcolor": "white",
             "linecolor": "white",
             "minorgridcolor": "white",
             "startlinecolor": "#2a3f5f"
            },
            "baxis": {
             "endlinecolor": "#2a3f5f",
             "gridcolor": "white",
             "linecolor": "white",
             "minorgridcolor": "white",
             "startlinecolor": "#2a3f5f"
            },
            "type": "carpet"
           }
          ],
          "choropleth": [
           {
            "colorbar": {
             "outlinewidth": 0,
             "ticks": ""
            },
            "type": "choropleth"
           }
          ],
          "contour": [
           {
            "colorbar": {
             "outlinewidth": 0,
             "ticks": ""
            },
            "colorscale": [
             [
              0,
              "#0d0887"
             ],
             [
              0.1111111111111111,
              "#46039f"
             ],
             [
              0.2222222222222222,
              "#7201a8"
             ],
             [
              0.3333333333333333,
              "#9c179e"
             ],
             [
              0.4444444444444444,
              "#bd3786"
             ],
             [
              0.5555555555555556,
              "#d8576b"
             ],
             [
              0.6666666666666666,
              "#ed7953"
             ],
             [
              0.7777777777777778,
              "#fb9f3a"
             ],
             [
              0.8888888888888888,
              "#fdca26"
             ],
             [
              1,
              "#f0f921"
             ]
            ],
            "type": "contour"
           }
          ],
          "contourcarpet": [
           {
            "colorbar": {
             "outlinewidth": 0,
             "ticks": ""
            },
            "type": "contourcarpet"
           }
          ],
          "heatmap": [
           {
            "colorbar": {
             "outlinewidth": 0,
             "ticks": ""
            },
            "colorscale": [
             [
              0,
              "#0d0887"
             ],
             [
              0.1111111111111111,
              "#46039f"
             ],
             [
              0.2222222222222222,
              "#7201a8"
             ],
             [
              0.3333333333333333,
              "#9c179e"
             ],
             [
              0.4444444444444444,
              "#bd3786"
             ],
             [
              0.5555555555555556,
              "#d8576b"
             ],
             [
              0.6666666666666666,
              "#ed7953"
             ],
             [
              0.7777777777777778,
              "#fb9f3a"
             ],
             [
              0.8888888888888888,
              "#fdca26"
             ],
             [
              1,
              "#f0f921"
             ]
            ],
            "type": "heatmap"
           }
          ],
          "heatmapgl": [
           {
            "colorbar": {
             "outlinewidth": 0,
             "ticks": ""
            },
            "colorscale": [
             [
              0,
              "#0d0887"
             ],
             [
              0.1111111111111111,
              "#46039f"
             ],
             [
              0.2222222222222222,
              "#7201a8"
             ],
             [
              0.3333333333333333,
              "#9c179e"
             ],
             [
              0.4444444444444444,
              "#bd3786"
             ],
             [
              0.5555555555555556,
              "#d8576b"
             ],
             [
              0.6666666666666666,
              "#ed7953"
             ],
             [
              0.7777777777777778,
              "#fb9f3a"
             ],
             [
              0.8888888888888888,
              "#fdca26"
             ],
             [
              1,
              "#f0f921"
             ]
            ],
            "type": "heatmapgl"
           }
          ],
          "histogram": [
           {
            "marker": {
             "colorbar": {
              "outlinewidth": 0,
              "ticks": ""
             }
            },
            "type": "histogram"
           }
          ],
          "histogram2d": [
           {
            "colorbar": {
             "outlinewidth": 0,
             "ticks": ""
            },
            "colorscale": [
             [
              0,
              "#0d0887"
             ],
             [
              0.1111111111111111,
              "#46039f"
             ],
             [
              0.2222222222222222,
              "#7201a8"
             ],
             [
              0.3333333333333333,
              "#9c179e"
             ],
             [
              0.4444444444444444,
              "#bd3786"
             ],
             [
              0.5555555555555556,
              "#d8576b"
             ],
             [
              0.6666666666666666,
              "#ed7953"
             ],
             [
              0.7777777777777778,
              "#fb9f3a"
             ],
             [
              0.8888888888888888,
              "#fdca26"
             ],
             [
              1,
              "#f0f921"
             ]
            ],
            "type": "histogram2d"
           }
          ],
          "histogram2dcontour": [
           {
            "colorbar": {
             "outlinewidth": 0,
             "ticks": ""
            },
            "colorscale": [
             [
              0,
              "#0d0887"
             ],
             [
              0.1111111111111111,
              "#46039f"
             ],
             [
              0.2222222222222222,
              "#7201a8"
             ],
             [
              0.3333333333333333,
              "#9c179e"
             ],
             [
              0.4444444444444444,
              "#bd3786"
             ],
             [
              0.5555555555555556,
              "#d8576b"
             ],
             [
              0.6666666666666666,
              "#ed7953"
             ],
             [
              0.7777777777777778,
              "#fb9f3a"
             ],
             [
              0.8888888888888888,
              "#fdca26"
             ],
             [
              1,
              "#f0f921"
             ]
            ],
            "type": "histogram2dcontour"
           }
          ],
          "mesh3d": [
           {
            "colorbar": {
             "outlinewidth": 0,
             "ticks": ""
            },
            "type": "mesh3d"
           }
          ],
          "parcoords": [
           {
            "line": {
             "colorbar": {
              "outlinewidth": 0,
              "ticks": ""
             }
            },
            "type": "parcoords"
           }
          ],
          "pie": [
           {
            "automargin": true,
            "type": "pie"
           }
          ],
          "scatter": [
           {
            "marker": {
             "colorbar": {
              "outlinewidth": 0,
              "ticks": ""
             }
            },
            "type": "scatter"
           }
          ],
          "scatter3d": [
           {
            "line": {
             "colorbar": {
              "outlinewidth": 0,
              "ticks": ""
             }
            },
            "marker": {
             "colorbar": {
              "outlinewidth": 0,
              "ticks": ""
             }
            },
            "type": "scatter3d"
           }
          ],
          "scattercarpet": [
           {
            "marker": {
             "colorbar": {
              "outlinewidth": 0,
              "ticks": ""
             }
            },
            "type": "scattercarpet"
           }
          ],
          "scattergeo": [
           {
            "marker": {
             "colorbar": {
              "outlinewidth": 0,
              "ticks": ""
             }
            },
            "type": "scattergeo"
           }
          ],
          "scattergl": [
           {
            "marker": {
             "colorbar": {
              "outlinewidth": 0,
              "ticks": ""
             }
            },
            "type": "scattergl"
           }
          ],
          "scattermapbox": [
           {
            "marker": {
             "colorbar": {
              "outlinewidth": 0,
              "ticks": ""
             }
            },
            "type": "scattermapbox"
           }
          ],
          "scatterpolar": [
           {
            "marker": {
             "colorbar": {
              "outlinewidth": 0,
              "ticks": ""
             }
            },
            "type": "scatterpolar"
           }
          ],
          "scatterpolargl": [
           {
            "marker": {
             "colorbar": {
              "outlinewidth": 0,
              "ticks": ""
             }
            },
            "type": "scatterpolargl"
           }
          ],
          "scatterternary": [
           {
            "marker": {
             "colorbar": {
              "outlinewidth": 0,
              "ticks": ""
             }
            },
            "type": "scatterternary"
           }
          ],
          "surface": [
           {
            "colorbar": {
             "outlinewidth": 0,
             "ticks": ""
            },
            "colorscale": [
             [
              0,
              "#0d0887"
             ],
             [
              0.1111111111111111,
              "#46039f"
             ],
             [
              0.2222222222222222,
              "#7201a8"
             ],
             [
              0.3333333333333333,
              "#9c179e"
             ],
             [
              0.4444444444444444,
              "#bd3786"
             ],
             [
              0.5555555555555556,
              "#d8576b"
             ],
             [
              0.6666666666666666,
              "#ed7953"
             ],
             [
              0.7777777777777778,
              "#fb9f3a"
             ],
             [
              0.8888888888888888,
              "#fdca26"
             ],
             [
              1,
              "#f0f921"
             ]
            ],
            "type": "surface"
           }
          ],
          "table": [
           {
            "cells": {
             "fill": {
              "color": "#EBF0F8"
             },
             "line": {
              "color": "white"
             }
            },
            "header": {
             "fill": {
              "color": "#C8D4E3"
             },
             "line": {
              "color": "white"
             }
            },
            "type": "table"
           }
          ]
         },
         "layout": {
          "annotationdefaults": {
           "arrowcolor": "#2a3f5f",
           "arrowhead": 0,
           "arrowwidth": 1
          },
          "coloraxis": {
           "colorbar": {
            "outlinewidth": 0,
            "ticks": ""
           }
          },
          "colorscale": {
           "diverging": [
            [
             0,
             "#8e0152"
            ],
            [
             0.1,
             "#c51b7d"
            ],
            [
             0.2,
             "#de77ae"
            ],
            [
             0.3,
             "#f1b6da"
            ],
            [
             0.4,
             "#fde0ef"
            ],
            [
             0.5,
             "#f7f7f7"
            ],
            [
             0.6,
             "#e6f5d0"
            ],
            [
             0.7,
             "#b8e186"
            ],
            [
             0.8,
             "#7fbc41"
            ],
            [
             0.9,
             "#4d9221"
            ],
            [
             1,
             "#276419"
            ]
           ],
           "sequential": [
            [
             0,
             "#0d0887"
            ],
            [
             0.1111111111111111,
             "#46039f"
            ],
            [
             0.2222222222222222,
             "#7201a8"
            ],
            [
             0.3333333333333333,
             "#9c179e"
            ],
            [
             0.4444444444444444,
             "#bd3786"
            ],
            [
             0.5555555555555556,
             "#d8576b"
            ],
            [
             0.6666666666666666,
             "#ed7953"
            ],
            [
             0.7777777777777778,
             "#fb9f3a"
            ],
            [
             0.8888888888888888,
             "#fdca26"
            ],
            [
             1,
             "#f0f921"
            ]
           ],
           "sequentialminus": [
            [
             0,
             "#0d0887"
            ],
            [
             0.1111111111111111,
             "#46039f"
            ],
            [
             0.2222222222222222,
             "#7201a8"
            ],
            [
             0.3333333333333333,
             "#9c179e"
            ],
            [
             0.4444444444444444,
             "#bd3786"
            ],
            [
             0.5555555555555556,
             "#d8576b"
            ],
            [
             0.6666666666666666,
             "#ed7953"
            ],
            [
             0.7777777777777778,
             "#fb9f3a"
            ],
            [
             0.8888888888888888,
             "#fdca26"
            ],
            [
             1,
             "#f0f921"
            ]
           ]
          },
          "colorway": [
           "#636efa",
           "#EF553B",
           "#00cc96",
           "#ab63fa",
           "#FFA15A",
           "#19d3f3",
           "#FF6692",
           "#B6E880",
           "#FF97FF",
           "#FECB52"
          ],
          "font": {
           "color": "#2a3f5f"
          },
          "geo": {
           "bgcolor": "white",
           "lakecolor": "white",
           "landcolor": "#E5ECF6",
           "showlakes": true,
           "showland": true,
           "subunitcolor": "white"
          },
          "hoverlabel": {
           "align": "left"
          },
          "hovermode": "closest",
          "mapbox": {
           "style": "light"
          },
          "paper_bgcolor": "white",
          "plot_bgcolor": "#E5ECF6",
          "polar": {
           "angularaxis": {
            "gridcolor": "white",
            "linecolor": "white",
            "ticks": ""
           },
           "bgcolor": "#E5ECF6",
           "radialaxis": {
            "gridcolor": "white",
            "linecolor": "white",
            "ticks": ""
           }
          },
          "scene": {
           "xaxis": {
            "backgroundcolor": "#E5ECF6",
            "gridcolor": "white",
            "gridwidth": 2,
            "linecolor": "white",
            "showbackground": true,
            "ticks": "",
            "zerolinecolor": "white"
           },
           "yaxis": {
            "backgroundcolor": "#E5ECF6",
            "gridcolor": "white",
            "gridwidth": 2,
            "linecolor": "white",
            "showbackground": true,
            "ticks": "",
            "zerolinecolor": "white"
           },
           "zaxis": {
            "backgroundcolor": "#E5ECF6",
            "gridcolor": "white",
            "gridwidth": 2,
            "linecolor": "white",
            "showbackground": true,
            "ticks": "",
            "zerolinecolor": "white"
           }
          },
          "shapedefaults": {
           "line": {
            "color": "#2a3f5f"
           }
          },
          "ternary": {
           "aaxis": {
            "gridcolor": "white",
            "linecolor": "white",
            "ticks": ""
           },
           "baxis": {
            "gridcolor": "white",
            "linecolor": "white",
            "ticks": ""
           },
           "bgcolor": "#E5ECF6",
           "caxis": {
            "gridcolor": "white",
            "linecolor": "white",
            "ticks": ""
           }
          },
          "title": {
           "x": 0.05
          },
          "xaxis": {
           "automargin": true,
           "gridcolor": "white",
           "linecolor": "white",
           "ticks": "",
           "title": {
            "standoff": 15
           },
           "zerolinecolor": "white",
           "zerolinewidth": 2
          },
          "yaxis": {
           "automargin": true,
           "gridcolor": "white",
           "linecolor": "white",
           "ticks": "",
           "title": {
            "standoff": 15
           },
           "zerolinecolor": "white",
           "zerolinewidth": 2
          }
         }
        }
       }
      },
      "text/html": [
       "<div>\n",
       "        \n",
       "        \n",
       "            <div id=\"6a43f4d5-3bcf-410c-8f6f-c69b31e65a3a\" class=\"plotly-graph-div\" style=\"height:525px; width:100%;\"></div>\n",
       "            <script type=\"text/javascript\">\n",
       "                require([\"plotly\"], function(Plotly) {\n",
       "                    window.PLOTLYENV=window.PLOTLYENV || {};\n",
       "                    \n",
       "                if (document.getElementById(\"6a43f4d5-3bcf-410c-8f6f-c69b31e65a3a\")) {\n",
       "                    Plotly.newPlot(\n",
       "                        '6a43f4d5-3bcf-410c-8f6f-c69b31e65a3a',\n",
       "                        [{\"marker\": {\"color\": [0.754, 0.74, 0.5870000000000001, 0.7390000000000001, 0.835, 0.68, 0.816, 0.7909999999999999, 0.836, 0.626, 0.765, 0.511, 0.586, 0.851, 0.753, 0.698, 0.6990000000000001, 0.595, 0.9209999999999999, 0.922, 0.653, 0.903, 0.71, 0.596, 0.762, 0.825, 0.708, 0.642, 0.872, 0.599, 0.884, 0.737, 0.556, 0.5920000000000001, 0.726, 0.56, 0.637, 0.72, 0.669, 0.6940000000000001, 0.748, 0.7909999999999999, 0.8340000000000001, 0.605, 0.777, 0.747, 0.7040000000000001, 0.601, 0.6559999999999999, 0.489, 0.88, 0.687, 0.698, 0.755, 0.7759999999999999, 0.9309999999999999, 0.687, 0.752, 0.732, 0.7909999999999999, 0.6970000000000001, 0.912, 0.797, 0.622, 0.52, 0.602, 0.6809999999999999, 0.631, 0.799, 0.841, 0.6629999999999999, 0.8009999999999999, 0.735, 0.909, 0.589, 0.67, 0.63, 0.792, 0.8140000000000001, 0.8759999999999999, 0.35100000000000003, 0.815, 0.9079999999999999, 0.754, 0.5870000000000001, 0.722, 0.7979999999999999, 0.855, 0.775, 0.909, 0.7809999999999999, 0.9640000000000001, 0.752, 0.284, 0.7340000000000001, 0.684, 0.638, 0.552, 0.258, 0.5529999999999999], \"size\": 8}, \"mode\": \"markers\", \"text\": [\"Drake - God's Plan\", \"XXXTENTACION - SAD!\", \"Post Malone - rockstar (feat. 21 Savage)\", \"Post Malone - Psycho (feat. Ty Dolla $ign)\", \"Drake - In My Feelings\", \"Post Malone - Better Now\", \"Cardi B - I Like It\", \"Calvin Harris - One Kiss (with Dua Lipa)\", \"Dua Lipa - IDGAF\", \"Marshmello - FRIENDS\", \"Camila Cabello - Havana\", \"Juice WRLD - Lucid Dreams\", \"Drake - Nice For What\", \"Maroon 5 - Girls Like You (feat. Cardi B)\", \"Zedd - The Middle\", \"Kendrick Lamar - All The Stars (with SZA)\", \"Ariana Grande - no tears left to cry\", \"Nicky Jam - X\", \"XXXTENTACION - Moonlight\", \"BlocBoy JB - Look Alive (feat. Drake)\", \"Rudimental - These Days (feat. Jess Glynne, Macklemore & Dan Caplen)\", \"Nio Garcia - Te Bot? - Remix\", \"Bazzi - Mine\", \"5 Seconds of Summer - Youngblood\", \"Dua Lipa - New Rules\", \"Ed Sheeran - Shape of You\", \"Khalid - Love Lies (with Normani)\", \"Bebe Rexha - Meant to Be (feat. Florida Georgia Line)\", \"XXXTENTACION - Jocelyn Flores\", \"Ed Sheeran - Perfect\", \"Tyga - Taste (feat. Offset)\", \"Clean Bandit - Solo (feat. Demi Lovato)\", \"Post Malone - I Fall Apart\", \"Dennis Lloyd - Nevermind\", \"Luis Fonsi - ?chame La Culpa\", \"benny blanco - Eastside (with Halsey & Khalid)\", \"Camila Cabello - Never Be the Same\", \"Selena Gomez - Wolves\", \"XXXTENTACION - changes\", \"Dynoro - In My Mind\", \"Eminem - River (feat. Ed Sheeran)\", \"Daddy Yankee - Dura\", \"Travis Scott - SICKO MODE\", \"Imagine Dragons - Thunder\", \"Reik - Me Niego\", \"Ti?sto - Jackie Chan\", \"Bruno Mars - Finesse (Remix) [feat. Cardi B]\", \"Selena Gomez - Back To You - From 13 Reasons Why ? Season 2 Soundtrack\", \"NF - Let You Down\", \"The Weeknd - Call Out My Name\", \"Offset - Ric Flair Drip (& Metro Boomin)\", \"Marshmello - Happier\", \"Sam Smith - Too Good At Goodbyes\", \"Lil Dicky - Freaky Friday (feat. Chris Brown)\", \"Imagine Dragons - Believer\", \"6ix9ine - FEFE (feat. Nicki Minaj & Murda Beatz)\", \"Jonas Blue - Rise\", \"Loud Luxury - Body (feat. brando)\", \"Lil Uzi Vert - XO TOUR Llif3\", \"Becky G - Sin Pijama\", \"Anne-Marie - 2002\", \"Drake - Nonstop\", \"XXXTENTACION - Fuck Love (feat. Trippie Redd)\", \"Shawn Mendes - In My Blood\", \"Marshmello - Silence\", \"Ariana Grande - God is a woman\", \"Piso 21 - D?jala que vuelva (feat. Manuel Turizo)\", \"David Guetta - Flames\", \"Maroon 5 - What Lovers Do\", \"DJ Snake - Taki Taki (with Selena Gomez, Ozuna & Cardi B)\", \"Hailee Steinfeld - Let Me Go (with Alesso, Florida Georgia Line & watt)\", \"Portugal. The Man - Feel It Still\", \"The Weeknd - Pray For Me (with Kendrick Lamar)\", \"Migos - Walk It Talk It\", \"G-Eazy - Him & I (with Halsey)\", \"Post Malone - Candy Paint\", \"Post Malone - Congratulations\", \"Sofia Reyes - 1, 2, 3 (feat. Jason Derulo & De La Ghetto)\", \"Natti Natasha - Criminal\", \"Rich The Kid - Plug Walk\", \"Billie Eilish - lovely (with Khalid)\", \"Migos - Stir Fry\", \"Kendrick Lamar - HUMBLE.\", \"Ozuna - Vaina Loca\", \"Ed Sheeran - Perfect Duet (Ed Sheeran & Beyonc?)\", \"Maluma - Coraz?n (feat. Nego do Borel)\", \"Khalid - Young Dumb & Broke\", \"Ozuna - S?guelo Bailando\", \"Anitta - Downtown\", \"Wolfine - Bella\", \"Calvin Harris - Promises (with Sam Smith)\", \"Lil Baby - Yes Indeed\", \"Lauv - I Like Me Better\", \"Keala Settle - This Is Me\", \"XXXTENTACION - Everybody Dies In Their Nightmares\", \"Zac Efron - Rewrite The Stars\", \"Clean Bandit - I Miss You (feat. Julia Michaels)\", \"DJ Khaled - No Brainer\", \"ZAYN - Dusk Till Dawn - Radio Edit\", \"Dean Lewis - Be Alright\"], \"type\": \"scatter3d\", \"x\": [0.23237267693294228, -0.01567635518933877, 0.5247396337402783, 0.1493358946521133, 0.06418109908153258, 0.23360568864103962, -0.22856922707636299, -0.30480361713080756, 0.0047200500743286395, -0.2415828842484233, 0.16598390392409257, 0.35684825700525846, -0.4535834792982316, 0.0931532506529307, 0.01312701319507357, -0.05902574321650725, 0.07656484872786244, -0.18014911095828293, -0.16212973041998543, -0.08317059295176915, -0.20596720822726883, -0.08093734475748164, -0.29497673416371345, 0.16851127325332146, -0.17084868364643882, -0.46702578304820086, 0.17590501202169329, -0.12160389344909389, 0.2421194974097323, 0.48958403334414435, 0.12333304625365679, -0.07963620693963099, 0.3782619252801061, 0.35519284764956355, -0.3910264135060325, 0.15156465722217866, 0.21164746984603036, 0.03088479572592015, 0.23505593163488395, 0.20345127591357245, -0.2889882748351809, -0.5425686155246757, -0.03098680236037178, 0.1346541409360016, -0.4229579087941013, -0.34138845777276977, -0.5904154269928287, -0.05726981512033399, 0.01913523660782289, 0.44306235298140867, 0.2547381606629258, -0.30205438077301944, 0.18489515607074666, -0.185110493175887, -0.28913109242459945, 0.2670891704920323, -0.2736803309165722, -0.19367789473728345, 0.031875339753007784, -0.44147197602189475, -0.15097711332730007, 0.24881965120661706, 0.23641783583524606, 0.013592168685329633, 0.19170611309749244, 0.2725196708938168, -0.3543588347031058, 0.06635102057214395, 0.0694566801727392, -0.30212537860485744, -0.2751393006190248, -0.4513510895671229, 0.21635171997750982, 0.05590217069360072, 0.20516782321412508, 0.1435891321812237, -0.10043133069396347, -0.553598332963574, -0.5485517885156619, 0.3234682172857152, 0.796090535978907, -0.11313001412805294, 0.054680859568609304, -0.2449115303622123, 0.46168557817900147, -0.2077958402242402, 0.17985677594609906, -0.21452640439392087, -0.10111817396379535, -0.28075177512593036, -0.122921126010115, 0.11721637564869133, 0.14832493620322512, 0.5694808172464726, -0.0954986724813702, 0.23550117960618813, 0.15127753399666882, -0.14353629252352412, 0.810196828104982, 0.17789021190426094], \"y\": [-0.43730276781737093, -0.27696302749236956, 0.20850949394933904, -0.004228439382066398, -0.2354925357521681, 0.06912558447331646, 0.0491479748025592, 0.16168629812685054, -0.29987738812268855, 0.14532182853846243, -0.22189925262552423, -0.10893350431601441, 0.15481836421936976, -0.1669700595021203, -0.07801833620981045, -0.1353650549875575, 0.08930696512094904, 0.4383798412454345, -0.239493424652902, -0.11911491878810683, 0.040347015413675524, -0.2016900025378126, 0.1957441728111102, 0.32290123066857074, -0.025578035187387105, -0.2592758400741132, 0.13679691342352948, 0.3118878676815516, -0.2892301899083045, -0.20650604469347755, -0.2834386901827096, -0.1296919774354533, 0.12532242218425377, 0.06317126896710613, 0.08107162467566134, -0.005458553715975831, 0.19058123864215315, 0.19671837511838308, -0.5916547559132737, 0.2061823839050897, -0.10075336654407689, -0.04649537859914803, 0.17862669055481373, 0.4973061772914076, -0.11128749521366094, 0.16624723013939977, 0.06814252622382984, 0.04490589856979281, 0.23843628789525803, 0.1892945672064243, -0.3999284393875076, 0.021655444339167863, -0.41595208240032056, -0.05921142078771799, 0.08250567473057724, -0.3519003144833372, 0.045343635106239046, 0.08120352743048562, 0.26885621409093885, -0.1388320364913578, -0.09922508752604052, -0.1791304247381951, -0.09193163585450505, 0.20957585242524163, 0.36023293531632417, 0.22331251439034167, 0.3421649929636698, -0.0723711071301987, -0.14735680489108632, -0.0688433500354587, -0.039646308998930534, -0.15704777800352873, -0.03890054257119793, -0.005650666781822874, 0.03226610920459676, 0.3297156354644439, 0.20677905024807217, 0.020236672991254, -0.16392684352558382, -0.30380615751908896, -0.09837346853593569, 0.3978810586587088, 0.0063168245063065205, -0.01890141309606129, -0.377821009140299, 0.41470919370639814, -0.07065390036199258, -0.20686604662968539, 0.1928242364204315, -0.46503149150407863, 0.07661332903579876, -0.47072079513332427, -0.2985121992316263, 0.727079623453751, -0.08025661440709067, 0.03902390541289131, 0.0015389677434520569, 0.25606535816197, 0.4191187530230288, 0.07051722814768524], \"z\": [0.44980720977052707, 0.13488343264853553, -0.10272601048157694, -0.18857691803976015, 0.3102061758859891, -0.13615799818421487, 0.05831612199066091, -0.04154921454637201, -0.10153071035024282, 0.24303858812288567, -0.031940085305839395, 0.4611722633068498, 0.2086891011675442, -0.17360077988816322, 0.011395460109728283, 0.01629369955086361, 0.19584711274530428, -0.055304266268739, -0.3338854159779929, -0.3232302761665321, 0.22950104832289495, -0.055631819200592694, 0.16810002779828973, 0.24711707770597355, -0.02579917511087824, -0.15211169745614506, -0.0861537433204766, -0.1686252862998456, -0.15705085511370287, 0.10060322170905665, -0.050989983400461715, 0.19225881772266099, -0.0025456483680243065, 0.5360066716833092, 0.12489914688271578, 0.2423786171011148, 0.08362087507634605, 0.14138368224848535, 0.0005710766619971044, 0.11443841873303669, 0.03630815158228685, 0.30419434434907566, -0.19481893816590548, -0.013277277534688672, 0.5010621118506583, -0.10475651759135325, -0.0750941894511459, 0.13402273681500368, -0.04163988281314205, 0.2888101299784732, -0.1198659928670153, 0.13073135795184374, -0.032947408725495356, -0.24479548050971653, -0.11005988618802286, -0.28006028249296855, 0.13733727272593707, -0.09149992754419496, -0.13159162273813207, -0.0266790297100011, 0.07379554358054874, -0.430273694939563, -0.16527752189322956, -0.03876072633511542, 0.1326444412203365, 0.08416818043012378, -0.32070333027027265, 0.11505990272735743, -0.0654714877539914, 0.00470290789232117, -0.01805272722600513, 0.056536616691815055, 0.1392231417647329, -0.252993584833978, 0.47970922572652525, -0.3150919443457658, 0.19737109760863406, 0.015315682310990284, 0.1960469957997506, 0.008035936197081388, 0.05067282157296769, -0.24109174035351746, -0.2909421896884837, 0.20139530984519713, -0.024342202073687928, -0.3562838381166941, -0.15309616108360388, -0.07198602615286953, -0.35038506642120526, -0.21991774617749565, 0.1681846639486151, -0.37804557670293143, -0.01071429975177189, -0.06302732262152791, -0.21320590128473962, 0.0003633469481804676, 0.09421364536336506, -0.04390796743706567, -0.09443637044027231, -0.04792966611146688]}],\n",
       "                        {\"template\": {\"data\": {\"bar\": [{\"error_x\": {\"color\": \"#2a3f5f\"}, \"error_y\": {\"color\": \"#2a3f5f\"}, \"marker\": {\"line\": {\"color\": \"#E5ECF6\", \"width\": 0.5}}, \"type\": \"bar\"}], \"barpolar\": [{\"marker\": {\"line\": {\"color\": \"#E5ECF6\", \"width\": 0.5}}, \"type\": \"barpolar\"}], \"carpet\": [{\"aaxis\": {\"endlinecolor\": \"#2a3f5f\", \"gridcolor\": \"white\", \"linecolor\": \"white\", \"minorgridcolor\": \"white\", \"startlinecolor\": \"#2a3f5f\"}, \"baxis\": {\"endlinecolor\": \"#2a3f5f\", \"gridcolor\": \"white\", \"linecolor\": \"white\", \"minorgridcolor\": \"white\", \"startlinecolor\": \"#2a3f5f\"}, \"type\": \"carpet\"}], \"choropleth\": [{\"colorbar\": {\"outlinewidth\": 0, \"ticks\": \"\"}, \"type\": \"choropleth\"}], \"contour\": [{\"colorbar\": {\"outlinewidth\": 0, \"ticks\": \"\"}, \"colorscale\": [[0.0, \"#0d0887\"], [0.1111111111111111, \"#46039f\"], [0.2222222222222222, \"#7201a8\"], [0.3333333333333333, \"#9c179e\"], [0.4444444444444444, \"#bd3786\"], [0.5555555555555556, \"#d8576b\"], [0.6666666666666666, \"#ed7953\"], [0.7777777777777778, \"#fb9f3a\"], [0.8888888888888888, \"#fdca26\"], [1.0, \"#f0f921\"]], \"type\": \"contour\"}], \"contourcarpet\": [{\"colorbar\": {\"outlinewidth\": 0, \"ticks\": \"\"}, \"type\": \"contourcarpet\"}], \"heatmap\": [{\"colorbar\": {\"outlinewidth\": 0, \"ticks\": \"\"}, \"colorscale\": [[0.0, \"#0d0887\"], [0.1111111111111111, \"#46039f\"], [0.2222222222222222, \"#7201a8\"], [0.3333333333333333, \"#9c179e\"], [0.4444444444444444, \"#bd3786\"], [0.5555555555555556, \"#d8576b\"], [0.6666666666666666, \"#ed7953\"], [0.7777777777777778, \"#fb9f3a\"], [0.8888888888888888, \"#fdca26\"], [1.0, \"#f0f921\"]], \"type\": \"heatmap\"}], \"heatmapgl\": [{\"colorbar\": {\"outlinewidth\": 0, \"ticks\": \"\"}, \"colorscale\": [[0.0, \"#0d0887\"], [0.1111111111111111, \"#46039f\"], [0.2222222222222222, \"#7201a8\"], [0.3333333333333333, \"#9c179e\"], [0.4444444444444444, \"#bd3786\"], [0.5555555555555556, \"#d8576b\"], [0.6666666666666666, \"#ed7953\"], [0.7777777777777778, \"#fb9f3a\"], [0.8888888888888888, \"#fdca26\"], [1.0, \"#f0f921\"]], \"type\": \"heatmapgl\"}], \"histogram\": [{\"marker\": {\"colorbar\": {\"outlinewidth\": 0, \"ticks\": \"\"}}, \"type\": \"histogram\"}], \"histogram2d\": [{\"colorbar\": {\"outlinewidth\": 0, \"ticks\": \"\"}, \"colorscale\": [[0.0, \"#0d0887\"], [0.1111111111111111, \"#46039f\"], [0.2222222222222222, \"#7201a8\"], [0.3333333333333333, \"#9c179e\"], [0.4444444444444444, \"#bd3786\"], [0.5555555555555556, \"#d8576b\"], [0.6666666666666666, \"#ed7953\"], [0.7777777777777778, \"#fb9f3a\"], [0.8888888888888888, \"#fdca26\"], [1.0, \"#f0f921\"]], \"type\": \"histogram2d\"}], \"histogram2dcontour\": [{\"colorbar\": {\"outlinewidth\": 0, \"ticks\": \"\"}, \"colorscale\": [[0.0, \"#0d0887\"], [0.1111111111111111, \"#46039f\"], [0.2222222222222222, \"#7201a8\"], [0.3333333333333333, \"#9c179e\"], [0.4444444444444444, \"#bd3786\"], [0.5555555555555556, \"#d8576b\"], [0.6666666666666666, \"#ed7953\"], [0.7777777777777778, \"#fb9f3a\"], [0.8888888888888888, \"#fdca26\"], [1.0, \"#f0f921\"]], \"type\": \"histogram2dcontour\"}], \"mesh3d\": [{\"colorbar\": {\"outlinewidth\": 0, \"ticks\": \"\"}, \"type\": \"mesh3d\"}], \"parcoords\": [{\"line\": {\"colorbar\": {\"outlinewidth\": 0, \"ticks\": \"\"}}, \"type\": \"parcoords\"}], \"pie\": [{\"automargin\": true, \"type\": \"pie\"}], \"scatter\": [{\"marker\": {\"colorbar\": {\"outlinewidth\": 0, \"ticks\": \"\"}}, \"type\": \"scatter\"}], \"scatter3d\": [{\"line\": {\"colorbar\": {\"outlinewidth\": 0, \"ticks\": \"\"}}, \"marker\": {\"colorbar\": {\"outlinewidth\": 0, \"ticks\": \"\"}}, \"type\": \"scatter3d\"}], \"scattercarpet\": [{\"marker\": {\"colorbar\": {\"outlinewidth\": 0, \"ticks\": \"\"}}, \"type\": \"scattercarpet\"}], \"scattergeo\": [{\"marker\": {\"colorbar\": {\"outlinewidth\": 0, \"ticks\": \"\"}}, \"type\": \"scattergeo\"}], \"scattergl\": [{\"marker\": {\"colorbar\": {\"outlinewidth\": 0, \"ticks\": \"\"}}, \"type\": \"scattergl\"}], \"scattermapbox\": [{\"marker\": {\"colorbar\": {\"outlinewidth\": 0, \"ticks\": \"\"}}, \"type\": \"scattermapbox\"}], \"scatterpolar\": [{\"marker\": {\"colorbar\": {\"outlinewidth\": 0, \"ticks\": \"\"}}, \"type\": \"scatterpolar\"}], \"scatterpolargl\": [{\"marker\": {\"colorbar\": {\"outlinewidth\": 0, \"ticks\": \"\"}}, \"type\": \"scatterpolargl\"}], \"scatterternary\": [{\"marker\": {\"colorbar\": {\"outlinewidth\": 0, \"ticks\": \"\"}}, \"type\": \"scatterternary\"}], \"surface\": [{\"colorbar\": {\"outlinewidth\": 0, \"ticks\": \"\"}, \"colorscale\": [[0.0, \"#0d0887\"], [0.1111111111111111, \"#46039f\"], [0.2222222222222222, \"#7201a8\"], [0.3333333333333333, \"#9c179e\"], [0.4444444444444444, \"#bd3786\"], [0.5555555555555556, \"#d8576b\"], [0.6666666666666666, \"#ed7953\"], [0.7777777777777778, \"#fb9f3a\"], [0.8888888888888888, \"#fdca26\"], [1.0, \"#f0f921\"]], \"type\": \"surface\"}], \"table\": [{\"cells\": {\"fill\": {\"color\": \"#EBF0F8\"}, \"line\": {\"color\": \"white\"}}, \"header\": {\"fill\": {\"color\": \"#C8D4E3\"}, \"line\": {\"color\": \"white\"}}, \"type\": \"table\"}]}, \"layout\": {\"annotationdefaults\": {\"arrowcolor\": \"#2a3f5f\", \"arrowhead\": 0, \"arrowwidth\": 1}, \"coloraxis\": {\"colorbar\": {\"outlinewidth\": 0, \"ticks\": \"\"}}, \"colorscale\": {\"diverging\": [[0, \"#8e0152\"], [0.1, \"#c51b7d\"], [0.2, \"#de77ae\"], [0.3, \"#f1b6da\"], [0.4, \"#fde0ef\"], [0.5, \"#f7f7f7\"], [0.6, \"#e6f5d0\"], [0.7, \"#b8e186\"], [0.8, \"#7fbc41\"], [0.9, \"#4d9221\"], [1, \"#276419\"]], \"sequential\": [[0.0, \"#0d0887\"], [0.1111111111111111, \"#46039f\"], [0.2222222222222222, \"#7201a8\"], [0.3333333333333333, \"#9c179e\"], [0.4444444444444444, \"#bd3786\"], [0.5555555555555556, \"#d8576b\"], [0.6666666666666666, \"#ed7953\"], [0.7777777777777778, \"#fb9f3a\"], [0.8888888888888888, \"#fdca26\"], [1.0, \"#f0f921\"]], \"sequentialminus\": [[0.0, \"#0d0887\"], [0.1111111111111111, \"#46039f\"], [0.2222222222222222, \"#7201a8\"], [0.3333333333333333, \"#9c179e\"], [0.4444444444444444, \"#bd3786\"], [0.5555555555555556, \"#d8576b\"], [0.6666666666666666, \"#ed7953\"], [0.7777777777777778, \"#fb9f3a\"], [0.8888888888888888, \"#fdca26\"], [1.0, \"#f0f921\"]]}, \"colorway\": [\"#636efa\", \"#EF553B\", \"#00cc96\", \"#ab63fa\", \"#FFA15A\", \"#19d3f3\", \"#FF6692\", \"#B6E880\", \"#FF97FF\", \"#FECB52\"], \"font\": {\"color\": \"#2a3f5f\"}, \"geo\": {\"bgcolor\": \"white\", \"lakecolor\": \"white\", \"landcolor\": \"#E5ECF6\", \"showlakes\": true, \"showland\": true, \"subunitcolor\": \"white\"}, \"hoverlabel\": {\"align\": \"left\"}, \"hovermode\": \"closest\", \"mapbox\": {\"style\": \"light\"}, \"paper_bgcolor\": \"white\", \"plot_bgcolor\": \"#E5ECF6\", \"polar\": {\"angularaxis\": {\"gridcolor\": \"white\", \"linecolor\": \"white\", \"ticks\": \"\"}, \"bgcolor\": \"#E5ECF6\", \"radialaxis\": {\"gridcolor\": \"white\", \"linecolor\": \"white\", \"ticks\": \"\"}}, \"scene\": {\"xaxis\": {\"backgroundcolor\": \"#E5ECF6\", \"gridcolor\": \"white\", \"gridwidth\": 2, \"linecolor\": \"white\", \"showbackground\": true, \"ticks\": \"\", \"zerolinecolor\": \"white\"}, \"yaxis\": {\"backgroundcolor\": \"#E5ECF6\", \"gridcolor\": \"white\", \"gridwidth\": 2, \"linecolor\": \"white\", \"showbackground\": true, \"ticks\": \"\", \"zerolinecolor\": \"white\"}, \"zaxis\": {\"backgroundcolor\": \"#E5ECF6\", \"gridcolor\": \"white\", \"gridwidth\": 2, \"linecolor\": \"white\", \"showbackground\": true, \"ticks\": \"\", \"zerolinecolor\": \"white\"}}, \"shapedefaults\": {\"line\": {\"color\": \"#2a3f5f\"}}, \"ternary\": {\"aaxis\": {\"gridcolor\": \"white\", \"linecolor\": \"white\", \"ticks\": \"\"}, \"baxis\": {\"gridcolor\": \"white\", \"linecolor\": \"white\", \"ticks\": \"\"}, \"bgcolor\": \"#E5ECF6\", \"caxis\": {\"gridcolor\": \"white\", \"linecolor\": \"white\", \"ticks\": \"\"}}, \"title\": {\"x\": 0.05}, \"xaxis\": {\"automargin\": true, \"gridcolor\": \"white\", \"linecolor\": \"white\", \"ticks\": \"\", \"title\": {\"standoff\": 15}, \"zerolinecolor\": \"white\", \"zerolinewidth\": 2}, \"yaxis\": {\"automargin\": true, \"gridcolor\": \"white\", \"linecolor\": \"white\", \"ticks\": \"\", \"title\": {\"standoff\": 15}, \"zerolinecolor\": \"white\", \"zerolinewidth\": 2}}}},\n",
       "                        {\"responsive\": true}\n",
       "                    ).then(function(){\n",
       "                            \n",
       "var gd = document.getElementById('6a43f4d5-3bcf-410c-8f6f-c69b31e65a3a');\n",
       "var x = new MutationObserver(function (mutations, observer) {{\n",
       "        var display = window.getComputedStyle(gd).display;\n",
       "        if (!display || display === 'none') {{\n",
       "            console.log([gd, 'removed!']);\n",
       "            Plotly.purge(gd);\n",
       "            observer.disconnect();\n",
       "        }}\n",
       "}});\n",
       "\n",
       "// Listen for the removal of the full notebook cells\n",
       "var notebookContainer = gd.closest('#notebook-container');\n",
       "if (notebookContainer) {{\n",
       "    x.observe(notebookContainer, {childList: true});\n",
       "}}\n",
       "\n",
       "// Listen for the clearing of the current output cell\n",
       "var outputEl = gd.closest('.output');\n",
       "if (outputEl) {{\n",
       "    x.observe(outputEl, {childList: true});\n",
       "}}\n",
       "\n",
       "                        })\n",
       "                };\n",
       "                });\n",
       "            </script>\n",
       "        </div>"
      ]
     },
     "metadata": {},
     "output_type": "display_data"
    }
   ],
   "source": [
    "plot_pca_important_features()"
   ]
  },
  {
   "cell_type": "code",
   "execution_count": null,
   "metadata": {},
   "outputs": [],
   "source": []
  },
  {
   "cell_type": "markdown",
   "metadata": {},
   "source": [
    " # Create a popularity column"
   ]
  },
  {
   "cell_type": "markdown",
   "metadata": {},
   "source": [
    "So, now if u see we crearted a new feature a.ka popularity adn did our comuputation to device if popularity is 1 or 0 for a song.And for better outcomes we have a graph here in which you an see the distribution of data around meen .For popularity 0 the distribution is scattereed  but for popularity 1 cateogary we have the danceability data around mean and not scaterred too much.\n",
    "Similarly we did comparisions for other featurees."
   ]
  },
  {
   "cell_type": "code",
   "execution_count": 59,
   "metadata": {},
   "outputs": [],
   "source": [
    "\n",
    "#dance ,valence , energy , liveliness\n",
    "\n",
    "def popularity_binary():\n",
    "    if  'popularity'  not in df.columns:\n",
    "         df[\"popularity\"]=\"\"\n",
    "         df.loc[(df['danceability']>=a) | (df['energy']>=b)| (df['loudness']>=c)| (df['acousticness']>=d)| \n",
    "                        (df['valence']>=e)| (df['tempo']>=f),'popularity']='1'\n",
    "         df.loc[(df['danceability']<a) & (df['energy']<b) & (df['loudness']<c),'popularity']='0'\n",
    "         df.head()\n",
    "\n",
    "         df.to_csv(new_dataframe_name,index=False)\n",
    "           \n",
    "    else:\n",
    "        pass\n",
    "        "
   ]
  },
  {
   "cell_type": "code",
   "execution_count": 60,
   "metadata": {},
   "outputs": [],
   "source": [
    "popularity_binary()"
   ]
  },
  {
   "cell_type": "code",
   "execution_count": 61,
   "metadata": {
    "scrolled": true
   },
   "outputs": [
    {
     "data": {
      "text/html": [
       "<div>\n",
       "<style scoped>\n",
       "    .dataframe tbody tr th:only-of-type {\n",
       "        vertical-align: middle;\n",
       "    }\n",
       "\n",
       "    .dataframe tbody tr th {\n",
       "        vertical-align: top;\n",
       "    }\n",
       "\n",
       "    .dataframe thead th {\n",
       "        text-align: right;\n",
       "    }\n",
       "</style>\n",
       "<table border=\"1\" class=\"dataframe\">\n",
       "  <thead>\n",
       "    <tr style=\"text-align: right;\">\n",
       "      <th></th>\n",
       "      <th>id</th>\n",
       "      <th>name</th>\n",
       "      <th>artists</th>\n",
       "      <th>danceability</th>\n",
       "      <th>energy</th>\n",
       "      <th>key</th>\n",
       "      <th>loudness</th>\n",
       "      <th>mode</th>\n",
       "      <th>speechiness</th>\n",
       "      <th>acousticness</th>\n",
       "      <th>instrumentalness</th>\n",
       "      <th>liveness</th>\n",
       "      <th>valence</th>\n",
       "      <th>tempo</th>\n",
       "      <th>duration_ms</th>\n",
       "      <th>time_signature</th>\n",
       "      <th>dancebility_new</th>\n",
       "      <th>tempo_rate</th>\n",
       "      <th>popularity</th>\n",
       "    </tr>\n",
       "  </thead>\n",
       "  <tbody>\n",
       "    <tr>\n",
       "      <th>0</th>\n",
       "      <td>6DCZcSspjsKoFjzjrWoCd</td>\n",
       "      <td>God's Plan</td>\n",
       "      <td>Drake</td>\n",
       "      <td>0.754</td>\n",
       "      <td>0.449</td>\n",
       "      <td>7.0</td>\n",
       "      <td>-9.211</td>\n",
       "      <td>1.0</td>\n",
       "      <td>0.1090</td>\n",
       "      <td>0.0332</td>\n",
       "      <td>0.000083</td>\n",
       "      <td>0.552</td>\n",
       "      <td>0.357</td>\n",
       "      <td>77.169</td>\n",
       "      <td>198973.0</td>\n",
       "      <td>4.0</td>\n",
       "      <td>1</td>\n",
       "      <td>moderate</td>\n",
       "      <td>1</td>\n",
       "    </tr>\n",
       "    <tr>\n",
       "      <th>1</th>\n",
       "      <td>3ee8Jmje8o58CHK66QrVC</td>\n",
       "      <td>SAD!</td>\n",
       "      <td>XXXTENTACION</td>\n",
       "      <td>0.740</td>\n",
       "      <td>0.613</td>\n",
       "      <td>8.0</td>\n",
       "      <td>-4.880</td>\n",
       "      <td>1.0</td>\n",
       "      <td>0.1450</td>\n",
       "      <td>0.2580</td>\n",
       "      <td>0.003720</td>\n",
       "      <td>0.123</td>\n",
       "      <td>0.473</td>\n",
       "      <td>75.023</td>\n",
       "      <td>166606.0</td>\n",
       "      <td>4.0</td>\n",
       "      <td>1</td>\n",
       "      <td>slow</td>\n",
       "      <td>1</td>\n",
       "    </tr>\n",
       "    <tr>\n",
       "      <th>2</th>\n",
       "      <td>0e7ipj03S05BNilyu5bRz</td>\n",
       "      <td>rockstar (feat. 21 Savage)</td>\n",
       "      <td>Post Malone</td>\n",
       "      <td>0.587</td>\n",
       "      <td>0.535</td>\n",
       "      <td>5.0</td>\n",
       "      <td>-6.090</td>\n",
       "      <td>0.0</td>\n",
       "      <td>0.0898</td>\n",
       "      <td>0.1170</td>\n",
       "      <td>0.000066</td>\n",
       "      <td>0.131</td>\n",
       "      <td>0.140</td>\n",
       "      <td>159.847</td>\n",
       "      <td>218147.0</td>\n",
       "      <td>4.0</td>\n",
       "      <td>0</td>\n",
       "      <td>fast</td>\n",
       "      <td>0</td>\n",
       "    </tr>\n",
       "    <tr>\n",
       "      <th>3</th>\n",
       "      <td>3swc6WTsr7rl9DqQKQA55</td>\n",
       "      <td>Psycho (feat. Ty Dolla $ign)</td>\n",
       "      <td>Post Malone</td>\n",
       "      <td>0.739</td>\n",
       "      <td>0.559</td>\n",
       "      <td>8.0</td>\n",
       "      <td>-8.011</td>\n",
       "      <td>1.0</td>\n",
       "      <td>0.1170</td>\n",
       "      <td>0.5800</td>\n",
       "      <td>0.000000</td>\n",
       "      <td>0.112</td>\n",
       "      <td>0.439</td>\n",
       "      <td>140.124</td>\n",
       "      <td>221440.0</td>\n",
       "      <td>4.0</td>\n",
       "      <td>1</td>\n",
       "      <td>fast</td>\n",
       "      <td>1</td>\n",
       "    </tr>\n",
       "    <tr>\n",
       "      <th>4</th>\n",
       "      <td>2G7V7zsVDxg1yRsu7Ew9R</td>\n",
       "      <td>In My Feelings</td>\n",
       "      <td>Drake</td>\n",
       "      <td>0.835</td>\n",
       "      <td>0.626</td>\n",
       "      <td>1.0</td>\n",
       "      <td>-5.833</td>\n",
       "      <td>1.0</td>\n",
       "      <td>0.1250</td>\n",
       "      <td>0.0589</td>\n",
       "      <td>0.000060</td>\n",
       "      <td>0.396</td>\n",
       "      <td>0.350</td>\n",
       "      <td>91.030</td>\n",
       "      <td>217925.0</td>\n",
       "      <td>4.0</td>\n",
       "      <td>1</td>\n",
       "      <td>moderate</td>\n",
       "      <td>1</td>\n",
       "    </tr>\n",
       "  </tbody>\n",
       "</table>\n",
       "</div>"
      ],
      "text/plain": [
       "                      id                          name       artists  \\\n",
       "0  6DCZcSspjsKoFjzjrWoCd                    God's Plan         Drake   \n",
       "1  3ee8Jmje8o58CHK66QrVC                          SAD!  XXXTENTACION   \n",
       "2  0e7ipj03S05BNilyu5bRz    rockstar (feat. 21 Savage)   Post Malone   \n",
       "3  3swc6WTsr7rl9DqQKQA55  Psycho (feat. Ty Dolla $ign)   Post Malone   \n",
       "4  2G7V7zsVDxg1yRsu7Ew9R                In My Feelings         Drake   \n",
       "\n",
       "   danceability  energy  key  loudness  mode  speechiness  acousticness  \\\n",
       "0         0.754   0.449  7.0    -9.211   1.0       0.1090        0.0332   \n",
       "1         0.740   0.613  8.0    -4.880   1.0       0.1450        0.2580   \n",
       "2         0.587   0.535  5.0    -6.090   0.0       0.0898        0.1170   \n",
       "3         0.739   0.559  8.0    -8.011   1.0       0.1170        0.5800   \n",
       "4         0.835   0.626  1.0    -5.833   1.0       0.1250        0.0589   \n",
       "\n",
       "   instrumentalness  liveness  valence    tempo  duration_ms  time_signature  \\\n",
       "0          0.000083     0.552    0.357   77.169     198973.0             4.0   \n",
       "1          0.003720     0.123    0.473   75.023     166606.0             4.0   \n",
       "2          0.000066     0.131    0.140  159.847     218147.0             4.0   \n",
       "3          0.000000     0.112    0.439  140.124     221440.0             4.0   \n",
       "4          0.000060     0.396    0.350   91.030     217925.0             4.0   \n",
       "\n",
       "  dancebility_new tempo_rate popularity  \n",
       "0               1   moderate          1  \n",
       "1               1       slow          1  \n",
       "2               0       fast          0  \n",
       "3               1       fast          1  \n",
       "4               1   moderate          1  "
      ]
     },
     "execution_count": 61,
     "metadata": {},
     "output_type": "execute_result"
    }
   ],
   "source": [
    "df.head()"
   ]
  },
  {
   "cell_type": "code",
   "execution_count": null,
   "metadata": {},
   "outputs": [],
   "source": []
  },
  {
   "cell_type": "code",
   "execution_count": null,
   "metadata": {},
   "outputs": [],
   "source": []
  },
  {
   "cell_type": "code",
   "execution_count": null,
   "metadata": {},
   "outputs": [],
   "source": []
  },
  {
   "cell_type": "markdown",
   "metadata": {},
   "source": [
    "## correlation between features and popularity"
   ]
  },
  {
   "cell_type": "code",
   "execution_count": 62,
   "metadata": {},
   "outputs": [],
   "source": [
    "def draw(year,compare_col,color):\n",
    "    graph = sns.FacetGrid(df_new, col = \"popularity\")\n",
    "    graph.map(sns.distplot, compare_col, bins = 25,color=color)\n",
    "    return plt.show()"
   ]
  },
  {
   "cell_type": "code",
   "execution_count": 63,
   "metadata": {},
   "outputs": [
    {
     "data": {
      "image/png": "[encoded data removed]",
      "text/plain": [
       "<Figure size 432x216 with 2 Axes>"
      ]
     },
     "metadata": {
      "needs_background": "light"
     },
     "output_type": "display_data"
    },
    {
     "data": {
      "image/png": "[encoded data removed]",
      "text/plain": [
       "<Figure size 432x216 with 2 Axes>"
      ]
     },
     "metadata": {
      "needs_background": "light"
     },
     "output_type": "display_data"
    },
    {
     "data": {
      "image/png": "[encoded data removed]",
      "text/plain": [
       "<Figure size 432x216 with 2 Axes>"
      ]
     },
     "metadata": {
      "needs_background": "light"
     },
     "output_type": "display_data"
    },
    {
     "data": {
      "image/png": "[encoded data removed]",
      "text/plain": [
       "<Figure size 432x216 with 2 Axes>"
      ]
     },
     "metadata": {
      "needs_background": "light"
     },
     "output_type": "display_data"
    },
    {
     "data": {
      "image/png": "[encoded data removed]",
      "text/plain": [
       "<Figure size 432x216 with 2 Axes>"
      ]
     },
     "metadata": {
      "needs_background": "light"
     },
     "output_type": "display_data"
    }
   ],
   "source": [
    "draw(df_new,\"danceability\",\"b\")\n",
    "draw(df_new,\"acousticness\",\"r\")\n",
    "draw(df_new,\"loudness\",\"m\")\n",
    "draw(df_new,\"valence\",\"r\")\n",
    "draw(df_new,\"tempo\",\"y\")\n"
   ]
  },
  {
   "cell_type": "code",
   "execution_count": 64,
   "metadata": {},
   "outputs": [],
   "source": [
    "def concat_name_popularity():\n",
    "    popularity_data = pd.concat([df_new[\"name\"],df_new[\"popularity\"]],axis=1)\n",
    "    return popularity_data.head()"
   ]
  },
  {
   "cell_type": "code",
   "execution_count": 65,
   "metadata": {},
   "outputs": [
    {
     "data": {
      "text/html": [
       "<div>\n",
       "<style scoped>\n",
       "    .dataframe tbody tr th:only-of-type {\n",
       "        vertical-align: middle;\n",
       "    }\n",
       "\n",
       "    .dataframe tbody tr th {\n",
       "        vertical-align: top;\n",
       "    }\n",
       "\n",
       "    .dataframe thead th {\n",
       "        text-align: right;\n",
       "    }\n",
       "</style>\n",
       "<table border=\"1\" class=\"dataframe\">\n",
       "  <thead>\n",
       "    <tr style=\"text-align: right;\">\n",
       "      <th></th>\n",
       "      <th>name</th>\n",
       "      <th>popularity</th>\n",
       "    </tr>\n",
       "  </thead>\n",
       "  <tbody>\n",
       "    <tr>\n",
       "      <th>0</th>\n",
       "      <td>God's Plan</td>\n",
       "      <td>1</td>\n",
       "    </tr>\n",
       "    <tr>\n",
       "      <th>1</th>\n",
       "      <td>SAD!</td>\n",
       "      <td>1</td>\n",
       "    </tr>\n",
       "    <tr>\n",
       "      <th>2</th>\n",
       "      <td>rockstar (feat. 21 Savage)</td>\n",
       "      <td>0</td>\n",
       "    </tr>\n",
       "    <tr>\n",
       "      <th>3</th>\n",
       "      <td>Psycho (feat. Ty Dolla $ign)</td>\n",
       "      <td>1</td>\n",
       "    </tr>\n",
       "    <tr>\n",
       "      <th>4</th>\n",
       "      <td>In My Feelings</td>\n",
       "      <td>1</td>\n",
       "    </tr>\n",
       "  </tbody>\n",
       "</table>\n",
       "</div>"
      ],
      "text/plain": [
       "                           name  popularity\n",
       "0                    God's Plan           1\n",
       "1                          SAD!           1\n",
       "2    rockstar (feat. 21 Savage)           0\n",
       "3  Psycho (feat. Ty Dolla $ign)           1\n",
       "4                In My Feelings           1"
      ]
     },
     "execution_count": 65,
     "metadata": {},
     "output_type": "execute_result"
    }
   ],
   "source": [
    "concat_name_popularity()"
   ]
  },
  {
   "cell_type": "markdown",
   "metadata": {},
   "source": [
    "# calculating scores"
   ]
  },
  {
   "cell_type": "markdown",
   "metadata": {},
   "source": [
    "## data preparation "
   ]
  },
  {
   "cell_type": "code",
   "execution_count": 66,
   "metadata": {},
   "outputs": [],
   "source": [
    "df_final=df_new.copy()"
   ]
  },
  {
   "cell_type": "code",
   "execution_count": 67,
   "metadata": {},
   "outputs": [],
   "source": [
    "\n",
    "def drop():\n",
    "    \n",
    "    df_final.drop([\"id\",\"name\",\"artists\",\"tempo_rate\",\"dancebility_new\"],axis=1,inplace=True)\n",
    "    return df_final.columns\n"
   ]
  },
  {
   "cell_type": "code",
   "execution_count": 68,
   "metadata": {},
   "outputs": [
    {
     "data": {
      "text/plain": [
       "Index(['danceability', 'energy', 'key', 'loudness', 'mode', 'speechiness',\n",
       "       'acousticness', 'instrumentalness', 'liveness', 'valence', 'tempo',\n",
       "       'duration_ms', 'time_signature', 'popularity'],\n",
       "      dtype='object')"
      ]
     },
     "execution_count": 68,
     "metadata": {},
     "output_type": "execute_result"
    }
   ],
   "source": [
    "drop()"
   ]
  },
  {
   "cell_type": "code",
   "execution_count": 69,
   "metadata": {},
   "outputs": [],
   "source": [
    "def cateogarize_keys():\n",
    "    global df_final\n",
    "    df_final[\"key\"] = df_final[\"key\"].astype(\"category\")\n",
    "    df_final = pd.get_dummies(df_final, columns=[\"key\"])\n",
    "    return df_final.head()\n"
   ]
  },
  {
   "cell_type": "code",
   "execution_count": 70,
   "metadata": {},
   "outputs": [
    {
     "data": {
      "text/html": [
       "<div>\n",
       "<style scoped>\n",
       "    .dataframe tbody tr th:only-of-type {\n",
       "        vertical-align: middle;\n",
       "    }\n",
       "\n",
       "    .dataframe tbody tr th {\n",
       "        vertical-align: top;\n",
       "    }\n",
       "\n",
       "    .dataframe thead th {\n",
       "        text-align: right;\n",
       "    }\n",
       "</style>\n",
       "<table border=\"1\" class=\"dataframe\">\n",
       "  <thead>\n",
       "    <tr style=\"text-align: right;\">\n",
       "      <th></th>\n",
       "      <th>danceability</th>\n",
       "      <th>energy</th>\n",
       "      <th>loudness</th>\n",
       "      <th>mode</th>\n",
       "      <th>speechiness</th>\n",
       "      <th>acousticness</th>\n",
       "      <th>instrumentalness</th>\n",
       "      <th>liveness</th>\n",
       "      <th>valence</th>\n",
       "      <th>tempo</th>\n",
       "      <th>...</th>\n",
       "      <th>key_2.0</th>\n",
       "      <th>key_3.0</th>\n",
       "      <th>key_4.0</th>\n",
       "      <th>key_5.0</th>\n",
       "      <th>key_6.0</th>\n",
       "      <th>key_7.0</th>\n",
       "      <th>key_8.0</th>\n",
       "      <th>key_9.0</th>\n",
       "      <th>key_10.0</th>\n",
       "      <th>key_11.0</th>\n",
       "    </tr>\n",
       "  </thead>\n",
       "  <tbody>\n",
       "    <tr>\n",
       "      <th>0</th>\n",
       "      <td>0.754</td>\n",
       "      <td>0.449</td>\n",
       "      <td>-9.211</td>\n",
       "      <td>1.0</td>\n",
       "      <td>0.1090</td>\n",
       "      <td>0.0332</td>\n",
       "      <td>0.000083</td>\n",
       "      <td>0.552</td>\n",
       "      <td>0.357</td>\n",
       "      <td>77.169</td>\n",
       "      <td>...</td>\n",
       "      <td>0</td>\n",
       "      <td>0</td>\n",
       "      <td>0</td>\n",
       "      <td>0</td>\n",
       "      <td>0</td>\n",
       "      <td>1</td>\n",
       "      <td>0</td>\n",
       "      <td>0</td>\n",
       "      <td>0</td>\n",
       "      <td>0</td>\n",
       "    </tr>\n",
       "    <tr>\n",
       "      <th>1</th>\n",
       "      <td>0.740</td>\n",
       "      <td>0.613</td>\n",
       "      <td>-4.880</td>\n",
       "      <td>1.0</td>\n",
       "      <td>0.1450</td>\n",
       "      <td>0.2580</td>\n",
       "      <td>0.003720</td>\n",
       "      <td>0.123</td>\n",
       "      <td>0.473</td>\n",
       "      <td>75.023</td>\n",
       "      <td>...</td>\n",
       "      <td>0</td>\n",
       "      <td>0</td>\n",
       "      <td>0</td>\n",
       "      <td>0</td>\n",
       "      <td>0</td>\n",
       "      <td>0</td>\n",
       "      <td>1</td>\n",
       "      <td>0</td>\n",
       "      <td>0</td>\n",
       "      <td>0</td>\n",
       "    </tr>\n",
       "    <tr>\n",
       "      <th>2</th>\n",
       "      <td>0.587</td>\n",
       "      <td>0.535</td>\n",
       "      <td>-6.090</td>\n",
       "      <td>0.0</td>\n",
       "      <td>0.0898</td>\n",
       "      <td>0.1170</td>\n",
       "      <td>0.000066</td>\n",
       "      <td>0.131</td>\n",
       "      <td>0.140</td>\n",
       "      <td>159.847</td>\n",
       "      <td>...</td>\n",
       "      <td>0</td>\n",
       "      <td>0</td>\n",
       "      <td>0</td>\n",
       "      <td>1</td>\n",
       "      <td>0</td>\n",
       "      <td>0</td>\n",
       "      <td>0</td>\n",
       "      <td>0</td>\n",
       "      <td>0</td>\n",
       "      <td>0</td>\n",
       "    </tr>\n",
       "    <tr>\n",
       "      <th>3</th>\n",
       "      <td>0.739</td>\n",
       "      <td>0.559</td>\n",
       "      <td>-8.011</td>\n",
       "      <td>1.0</td>\n",
       "      <td>0.1170</td>\n",
       "      <td>0.5800</td>\n",
       "      <td>0.000000</td>\n",
       "      <td>0.112</td>\n",
       "      <td>0.439</td>\n",
       "      <td>140.124</td>\n",
       "      <td>...</td>\n",
       "      <td>0</td>\n",
       "      <td>0</td>\n",
       "      <td>0</td>\n",
       "      <td>0</td>\n",
       "      <td>0</td>\n",
       "      <td>0</td>\n",
       "      <td>1</td>\n",
       "      <td>0</td>\n",
       "      <td>0</td>\n",
       "      <td>0</td>\n",
       "    </tr>\n",
       "    <tr>\n",
       "      <th>4</th>\n",
       "      <td>0.835</td>\n",
       "      <td>0.626</td>\n",
       "      <td>-5.833</td>\n",
       "      <td>1.0</td>\n",
       "      <td>0.1250</td>\n",
       "      <td>0.0589</td>\n",
       "      <td>0.000060</td>\n",
       "      <td>0.396</td>\n",
       "      <td>0.350</td>\n",
       "      <td>91.030</td>\n",
       "      <td>...</td>\n",
       "      <td>0</td>\n",
       "      <td>0</td>\n",
       "      <td>0</td>\n",
       "      <td>0</td>\n",
       "      <td>0</td>\n",
       "      <td>0</td>\n",
       "      <td>0</td>\n",
       "      <td>0</td>\n",
       "      <td>0</td>\n",
       "      <td>0</td>\n",
       "    </tr>\n",
       "  </tbody>\n",
       "</table>\n",
       "<p>5 rows × 25 columns</p>\n",
       "</div>"
      ],
      "text/plain": [
       "   danceability  energy  loudness  mode  speechiness  acousticness  \\\n",
       "0         0.754   0.449    -9.211   1.0       0.1090        0.0332   \n",
       "1         0.740   0.613    -4.880   1.0       0.1450        0.2580   \n",
       "2         0.587   0.535    -6.090   0.0       0.0898        0.1170   \n",
       "3         0.739   0.559    -8.011   1.0       0.1170        0.5800   \n",
       "4         0.835   0.626    -5.833   1.0       0.1250        0.0589   \n",
       "\n",
       "   instrumentalness  liveness  valence    tempo  ...  key_2.0  key_3.0  \\\n",
       "0          0.000083     0.552    0.357   77.169  ...        0        0   \n",
       "1          0.003720     0.123    0.473   75.023  ...        0        0   \n",
       "2          0.000066     0.131    0.140  159.847  ...        0        0   \n",
       "3          0.000000     0.112    0.439  140.124  ...        0        0   \n",
       "4          0.000060     0.396    0.350   91.030  ...        0        0   \n",
       "\n",
       "   key_4.0  key_5.0  key_6.0  key_7.0  key_8.0  key_9.0  key_10.0  key_11.0  \n",
       "0        0        0        0        1        0        0         0         0  \n",
       "1        0        0        0        0        1        0         0         0  \n",
       "2        0        1        0        0        0        0         0         0  \n",
       "3        0        0        0        0        1        0         0         0  \n",
       "4        0        0        0        0        0        0         0         0  \n",
       "\n",
       "[5 rows x 25 columns]"
      ]
     },
     "execution_count": 70,
     "metadata": {},
     "output_type": "execute_result"
    }
   ],
   "source": [
    "cateogarize_keys()"
   ]
  },
  {
   "cell_type": "code",
   "execution_count": 71,
   "metadata": {},
   "outputs": [],
   "source": [
    "def cateogarize_time():\n",
    "    global df_final\n",
    "    df_final[\"time_signature\"] = df_final[\"time_signature\"].astype(\"category\")\n",
    "    df_final = pd.get_dummies(df_final, columns=[\"time_signature\"])\n",
    "    return df_final.head()"
   ]
  },
  {
   "cell_type": "code",
   "execution_count": 72,
   "metadata": {},
   "outputs": [
    {
     "data": {
      "text/html": [
       "<div>\n",
       "<style scoped>\n",
       "    .dataframe tbody tr th:only-of-type {\n",
       "        vertical-align: middle;\n",
       "    }\n",
       "\n",
       "    .dataframe tbody tr th {\n",
       "        vertical-align: top;\n",
       "    }\n",
       "\n",
       "    .dataframe thead th {\n",
       "        text-align: right;\n",
       "    }\n",
       "</style>\n",
       "<table border=\"1\" class=\"dataframe\">\n",
       "  <thead>\n",
       "    <tr style=\"text-align: right;\">\n",
       "      <th></th>\n",
       "      <th>danceability</th>\n",
       "      <th>energy</th>\n",
       "      <th>loudness</th>\n",
       "      <th>mode</th>\n",
       "      <th>speechiness</th>\n",
       "      <th>acousticness</th>\n",
       "      <th>instrumentalness</th>\n",
       "      <th>liveness</th>\n",
       "      <th>valence</th>\n",
       "      <th>tempo</th>\n",
       "      <th>...</th>\n",
       "      <th>key_5.0</th>\n",
       "      <th>key_6.0</th>\n",
       "      <th>key_7.0</th>\n",
       "      <th>key_8.0</th>\n",
       "      <th>key_9.0</th>\n",
       "      <th>key_10.0</th>\n",
       "      <th>key_11.0</th>\n",
       "      <th>time_signature_3.0</th>\n",
       "      <th>time_signature_4.0</th>\n",
       "      <th>time_signature_5.0</th>\n",
       "    </tr>\n",
       "  </thead>\n",
       "  <tbody>\n",
       "    <tr>\n",
       "      <th>0</th>\n",
       "      <td>0.754</td>\n",
       "      <td>0.449</td>\n",
       "      <td>-9.211</td>\n",
       "      <td>1.0</td>\n",
       "      <td>0.1090</td>\n",
       "      <td>0.0332</td>\n",
       "      <td>0.000083</td>\n",
       "      <td>0.552</td>\n",
       "      <td>0.357</td>\n",
       "      <td>77.169</td>\n",
       "      <td>...</td>\n",
       "      <td>0</td>\n",
       "      <td>0</td>\n",
       "      <td>1</td>\n",
       "      <td>0</td>\n",
       "      <td>0</td>\n",
       "      <td>0</td>\n",
       "      <td>0</td>\n",
       "      <td>0</td>\n",
       "      <td>1</td>\n",
       "      <td>0</td>\n",
       "    </tr>\n",
       "    <tr>\n",
       "      <th>1</th>\n",
       "      <td>0.740</td>\n",
       "      <td>0.613</td>\n",
       "      <td>-4.880</td>\n",
       "      <td>1.0</td>\n",
       "      <td>0.1450</td>\n",
       "      <td>0.2580</td>\n",
       "      <td>0.003720</td>\n",
       "      <td>0.123</td>\n",
       "      <td>0.473</td>\n",
       "      <td>75.023</td>\n",
       "      <td>...</td>\n",
       "      <td>0</td>\n",
       "      <td>0</td>\n",
       "      <td>0</td>\n",
       "      <td>1</td>\n",
       "      <td>0</td>\n",
       "      <td>0</td>\n",
       "      <td>0</td>\n",
       "      <td>0</td>\n",
       "      <td>1</td>\n",
       "      <td>0</td>\n",
       "    </tr>\n",
       "    <tr>\n",
       "      <th>2</th>\n",
       "      <td>0.587</td>\n",
       "      <td>0.535</td>\n",
       "      <td>-6.090</td>\n",
       "      <td>0.0</td>\n",
       "      <td>0.0898</td>\n",
       "      <td>0.1170</td>\n",
       "      <td>0.000066</td>\n",
       "      <td>0.131</td>\n",
       "      <td>0.140</td>\n",
       "      <td>159.847</td>\n",
       "      <td>...</td>\n",
       "      <td>1</td>\n",
       "      <td>0</td>\n",
       "      <td>0</td>\n",
       "      <td>0</td>\n",
       "      <td>0</td>\n",
       "      <td>0</td>\n",
       "      <td>0</td>\n",
       "      <td>0</td>\n",
       "      <td>1</td>\n",
       "      <td>0</td>\n",
       "    </tr>\n",
       "    <tr>\n",
       "      <th>3</th>\n",
       "      <td>0.739</td>\n",
       "      <td>0.559</td>\n",
       "      <td>-8.011</td>\n",
       "      <td>1.0</td>\n",
       "      <td>0.1170</td>\n",
       "      <td>0.5800</td>\n",
       "      <td>0.000000</td>\n",
       "      <td>0.112</td>\n",
       "      <td>0.439</td>\n",
       "      <td>140.124</td>\n",
       "      <td>...</td>\n",
       "      <td>0</td>\n",
       "      <td>0</td>\n",
       "      <td>0</td>\n",
       "      <td>1</td>\n",
       "      <td>0</td>\n",
       "      <td>0</td>\n",
       "      <td>0</td>\n",
       "      <td>0</td>\n",
       "      <td>1</td>\n",
       "      <td>0</td>\n",
       "    </tr>\n",
       "    <tr>\n",
       "      <th>4</th>\n",
       "      <td>0.835</td>\n",
       "      <td>0.626</td>\n",
       "      <td>-5.833</td>\n",
       "      <td>1.0</td>\n",
       "      <td>0.1250</td>\n",
       "      <td>0.0589</td>\n",
       "      <td>0.000060</td>\n",
       "      <td>0.396</td>\n",
       "      <td>0.350</td>\n",
       "      <td>91.030</td>\n",
       "      <td>...</td>\n",
       "      <td>0</td>\n",
       "      <td>0</td>\n",
       "      <td>0</td>\n",
       "      <td>0</td>\n",
       "      <td>0</td>\n",
       "      <td>0</td>\n",
       "      <td>0</td>\n",
       "      <td>0</td>\n",
       "      <td>1</td>\n",
       "      <td>0</td>\n",
       "    </tr>\n",
       "  </tbody>\n",
       "</table>\n",
       "<p>5 rows × 27 columns</p>\n",
       "</div>"
      ],
      "text/plain": [
       "   danceability  energy  loudness  mode  speechiness  acousticness  \\\n",
       "0         0.754   0.449    -9.211   1.0       0.1090        0.0332   \n",
       "1         0.740   0.613    -4.880   1.0       0.1450        0.2580   \n",
       "2         0.587   0.535    -6.090   0.0       0.0898        0.1170   \n",
       "3         0.739   0.559    -8.011   1.0       0.1170        0.5800   \n",
       "4         0.835   0.626    -5.833   1.0       0.1250        0.0589   \n",
       "\n",
       "   instrumentalness  liveness  valence    tempo  ...  key_5.0  key_6.0  \\\n",
       "0          0.000083     0.552    0.357   77.169  ...        0        0   \n",
       "1          0.003720     0.123    0.473   75.023  ...        0        0   \n",
       "2          0.000066     0.131    0.140  159.847  ...        1        0   \n",
       "3          0.000000     0.112    0.439  140.124  ...        0        0   \n",
       "4          0.000060     0.396    0.350   91.030  ...        0        0   \n",
       "\n",
       "   key_7.0  key_8.0  key_9.0  key_10.0  key_11.0  time_signature_3.0  \\\n",
       "0        1        0        0         0         0                   0   \n",
       "1        0        1        0         0         0                   0   \n",
       "2        0        0        0         0         0                   0   \n",
       "3        0        1        0         0         0                   0   \n",
       "4        0        0        0         0         0                   0   \n",
       "\n",
       "   time_signature_4.0  time_signature_5.0  \n",
       "0                   1                   0  \n",
       "1                   1                   0  \n",
       "2                   1                   0  \n",
       "3                   1                   0  \n",
       "4                   1                   0  \n",
       "\n",
       "[5 rows x 27 columns]"
      ]
     },
     "execution_count": 72,
     "metadata": {},
     "output_type": "execute_result"
    }
   ],
   "source": [
    "cateogarize_time()"
   ]
  },
  {
   "cell_type": "code",
   "execution_count": 73,
   "metadata": {},
   "outputs": [],
   "source": [
    "def change_datatype(var):\n",
    "    df_final[var] = df_final[var].astype(int)\n",
    "    \n",
    "columns= [\"key_0.0\",\"key_1.0\",\"key_2.0\",\n",
    "         \"key_3.0\",\"key_4.0\",\"key_5.0\",\"key_6.0\",\"key_7.0\",\"key_8.0\",\"key_9.0\",\"key_10.0\",\"key_11.0\",\"time_signature_3.0\",\"time_signature_4.0\"]\n",
    "for column in columns:\n",
    "    change_datatype(column)\n",
    "    "
   ]
  },
  {
   "cell_type": "code",
   "execution_count": 74,
   "metadata": {},
   "outputs": [],
   "source": [
    "def load_data():\n",
    "    \n",
    "    y = df_final[\"popularity\"].values\n",
    "    X = df_final.drop([\"popularity\"],axis=1)\n",
    "    return X,y\n",
    "X,y =load_data()\n",
    "\n",
    "feature_cols = X.columns.to_list()"
   ]
  },
  {
   "cell_type": "markdown",
   "metadata": {},
   "source": [
    "*NOTE*:There is not a great  linear correlations in our data So, Decision Tree algorithms will give  better results as compared to linear regression models. Therefore using  Random Forest \n",
    " "
   ]
  },
  {
   "cell_type": "code",
   "execution_count": 75,
   "metadata": {},
   "outputs": [
    {
     "name": "stdout",
     "output_type": "stream",
     "text": [
      "X_train:  (40, 26)\n",
      "X_test:  (60, 26)\n",
      "y_train:  (40,)\n",
      "y_test:  (60,)\n"
     ]
    }
   ],
   "source": [
    "\n",
    "#x_data=X\n",
    "X,y = load_data()\n",
    "X_train, X_test, y_train, y_test = train_test_split(X,y,test_size = 0.6)\n",
    "# X_train = X_train.T\n",
    "# X_test = X_test.T\n",
    "X_train=X_train[:None]\n",
    "X_test=X_test[:None]\n",
    "y_train = y_train.astype(int).T\n",
    "y_test = y_test.astype(int).T\n",
    "print(\"X_train: \",X_train.shape)\n",
    "print(\"X_test: \",X_test.shape)\n",
    "print(\"y_train: \",y_train.shape)\n",
    "print(\"y_test: \",y_test.shape)\n"
   ]
  },
  {
   "cell_type": "markdown",
   "metadata": {},
   "source": [
    "## xgb  top features -for validating  our  hypothesis"
   ]
  },
  {
   "cell_type": "markdown",
   "metadata": {},
   "source": [
    "So after our popularity distributiona and 3d modelling based on pca.Now further we diecided to .Test if our hypothesis features as top ranking as per our eda  are similar\n",
    "when compared to a very standard feature ranking algorithm like XGBoosting for feature engineering .And the outcome was we had our hypothesis prooved very accurate in terms of best features conributing for a song to  be in the top position. "
   ]
  },
  {
   "cell_type": "code",
   "execution_count": 76,
   "metadata": {},
   "outputs": [],
   "source": [
    "def plot_impfeature():\n",
    "    xgb = XGBClassifier()\n",
    "    xgb.fit(X_train, y_train)\n",
    "    ax = plot_importance(xgb,color=\"r\", height=0.15,\n",
    "                         title='  Features Importance ', xlabel='Feature score', ylabel='Features',\n",
    "                         importance_type='weight'\n",
    "                        )\n",
    "\n",
    "    return plt.show()\n",
    "\n",
    "\n"
   ]
  },
  {
   "cell_type": "code",
   "execution_count": 77,
   "metadata": {},
   "outputs": [
    {
     "data": {
      "image/png": "[encoded data removed]",
      "text/plain": [
       "<Figure size 432x288 with 1 Axes>"
      ]
     },
     "metadata": {
      "needs_background": "light"
     },
     "output_type": "display_data"
    }
   ],
   "source": [
    "plot_impfeature()"
   ]
  },
  {
   "cell_type": "markdown",
   "metadata": {},
   "source": [
    "##### The above graph assure that :\n",
    "-  Our proposed ranked features turned out to be  most important for this data  \n",
    "-  Example: we calculated features like :dancebility ,energy,loudness ets of most importance.And hence thus turned out true."
   ]
  },
  {
   "cell_type": "code",
   "execution_count": 78,
   "metadata": {},
   "outputs": [],
   "source": [
    "def calculate_scores():\n",
    "    rf=RandomForestClassifier(random_state = 3)\n",
    "    rf.fit(X_train,y_train)\n",
    "\n",
    "    print(\"Train accuracy \",rf.score(X_train,y_train))\n",
    "    print(\"Test accuracy \",rf.score(X_test,y_test))\n",
    "\n",
    "    RandomForestClassifier_score=rf.score(X_test,y_test)\n",
    "    y_pred=rf.predict(X_test)\n",
    "    t_true=y_test"
   ]
  },
  {
   "cell_type": "code",
   "execution_count": 79,
   "metadata": {},
   "outputs": [
    {
     "name": "stdout",
     "output_type": "stream",
     "text": [
      "Train accuracy  1.0\n",
      "Test accuracy  0.85\n"
     ]
    }
   ],
   "source": [
    "calculate_scores()"
   ]
  },
  {
   "cell_type": "markdown",
   "metadata": {},
   "source": [
    "# validating model "
   ]
  },
  {
   "cell_type": "markdown",
   "metadata": {},
   "source": [
    "## plot loudness t-SNE"
   ]
  },
  {
   "cell_type": "code",
   "execution_count": null,
   "metadata": {},
   "outputs": [],
   "source": []
  },
  {
   "cell_type": "code",
   "execution_count": 80,
   "metadata": {},
   "outputs": [],
   "source": [
    "def plot_pca_scaler(y,dataframe):\n",
    "    features = [\"energy\", \"liveness\", \"tempo\", \"valence\", \"loudness\",\"danceability\"]\n",
    "\n",
    "    text1 = dataframe[\"artists\"] + \" - \" + dataframe[\"name\"]\n",
    "    text2 = text1.values\n",
    "    \n",
    "    X = dataframe[features].values\n",
    "    y = dataframe[y].values\n",
    "\n",
    "    minmaxscaler = MinMaxScaler()\n",
    "    X = minmaxscaler.fit_transform(X)\n",
    "\n",
    "    print('t-SNE starting.................')\n",
    "    tsne = TSNE(n_components=3, verbose=1, perplexity=40, n_iter=300)\n",
    "    tsne_results = tsne.fit_transform(X)\n",
    "\n",
    "    print('......................t-SNE done')\n",
    "\n",
    "    fig = {\n",
    "        \"data\": [\n",
    "            {\n",
    "                \"x\": tsne_results[:, 0],\n",
    "                \"y\": tsne_results[:, 1],\n",
    "                \"text\": text2,\n",
    "                \"mode\": \"markers\",\n",
    "                \"marker\": {\"size\": 8, \"color\": y}\n",
    "            }\n",
    "        ],\n",
    "        \"layout\": {\n",
    "            \"xaxis\": {\"title\": \"x-tsne\"},\n",
    "            \"yaxis\": {\"title\": \"y-tsne\"}\n",
    "        }\n",
    "    }\n",
    "\n",
    "    return py.iplot(fig, filename=\"amit\")"
   ]
  },
  {
   "cell_type": "code",
   "execution_count": 81,
   "metadata": {},
   "outputs": [
    {
     "name": "stdout",
     "output_type": "stream",
     "text": [
      "t-SNE starting.................\n",
      "[t-SNE] Computing 99 nearest neighbors...\n",
      "[t-SNE] Indexed 100 samples in 0.000s...\n",
      "[t-SNE] Computed neighbors for 100 samples in 0.002s...\n",
      "[t-SNE] Computed conditional probabilities for sample 100 / 100\n",
      "[t-SNE] Mean sigma: 0.331982\n",
      "[t-SNE] KL divergence after 250 iterations with early exaggeration: 94.133369\n",
      "[t-SNE] KL divergence after 300 iterations: 2.026550\n",
      "......................t-SNE done\n"
     ]
    },
    {
     "data": {
      "application/vnd.plotly.v1+json": {
       "config": {
        "linkText": "Export to plot.ly",
        "plotlyServerURL": "https://plot.ly",
        "showLink": false
       },
       "data": [
        {
         "marker": {
          "color": [
           -9.211,
           -4.88,
           -6.09,
           -8.011000000000001,
           -5.832999999999999,
           -5.843,
           -3.998,
           -3.24,
           -5.975,
           -2.384,
           -4.333,
           -7.23,
           -6.474,
           -6.825,
           -3.0610000000000004,
           -4.946000000000001,
           -5.507000000000001,
           -4.736000000000001,
           -5.723,
           -7.495,
           -4.0569999999999995,
           -3.445,
           -3.8739999999999997,
           -5.114,
           -6.021,
           -3.1830000000000003,
           -5.626,
           -6.61,
           -9.144,
           -6.312,
           -7.442,
           -4.546,
           -5.4079999999999995,
           -8.354,
           -3.655,
           -7.648,
           -4.333,
           -4.59,
           -10.068,
           -5.335,
           -5.916,
           -3.4560000000000004,
           -3.714,
           -4.833,
           -4.449,
           -2.867,
           -4.877,
           -4.856,
           -5.665,
           -4.928999999999999,
           -8.28,
           -2.7489999999999997,
           -8.279,
           -5.042,
           -4.374,
           -9.127,
           -4.65,
           -4.399,
           -6.3660000000000005,
           -3.695,
           -2.8810000000000002,
           -8.074,
           -9.74,
           -7.321000000000001,
           -3.093,
           -5.934,
           -4.323,
           -5.892,
           -5.131,
           -4.206,
           -4.154,
           -5.115,
           -4.979,
           -5.456,
           -6.343,
           -5.944,
           -4.183,
           -3.112,
           -3.023,
           -6.531000000000001,
           -10.109,
           -5.474,
           -6.638,
           -4.249,
           -7.365,
           -6.0729999999999995,
           -6.351,
           -7.11,
           -4.985,
           -6.688,
           -5.9910000000000005,
           -9.309,
           -7.621,
           -7.276,
           -7.066,
           -7.005,
           -6.318,
           -4.706,
           -6.593,
           -6.319
          ],
          "size": 8
         },
         "mode": "markers",
         "text": [
          "Drake - God's Plan",
          "XXXTENTACION - SAD!",
          "Post Malone - rockstar (feat. 21 Savage)",
          "Post Malone - Psycho (feat. Ty Dolla $ign)",
          "Drake - In My Feelings",
          "Post Malone - Better Now",
          "Cardi B - I Like It",
          "Calvin Harris - One Kiss (with Dua Lipa)",
          "Dua Lipa - IDGAF",
          "Marshmello - FRIENDS",
          "Camila Cabello - Havana",
          "Juice WRLD - Lucid Dreams",
          "Drake - Nice For What",
          "Maroon 5 - Girls Like You (feat. Cardi B)",
          "Zedd - The Middle",
          "Kendrick Lamar - All The Stars (with SZA)",
          "Ariana Grande - no tears left to cry",
          "Nicky Jam - X",
          "XXXTENTACION - Moonlight",
          "BlocBoy JB - Look Alive (feat. Drake)",
          "Rudimental - These Days (feat. Jess Glynne, Macklemore & Dan Caplen)",
          "Nio Garcia - Te Bot? - Remix",
          "Bazzi - Mine",
          "5 Seconds of Summer - Youngblood",
          "Dua Lipa - New Rules",
          "Ed Sheeran - Shape of You",
          "Khalid - Love Lies (with Normani)",
          "Bebe Rexha - Meant to Be (feat. Florida Georgia Line)",
          "XXXTENTACION - Jocelyn Flores",
          "Ed Sheeran - Perfect",
          "Tyga - Taste (feat. Offset)",
          "Clean Bandit - Solo (feat. Demi Lovato)",
          "Post Malone - I Fall Apart",
          "Dennis Lloyd - Nevermind",
          "Luis Fonsi - ?chame La Culpa",
          "benny blanco - Eastside (with Halsey & Khalid)",
          "Camila Cabello - Never Be the Same",
          "Selena Gomez - Wolves",
          "XXXTENTACION - changes",
          "Dynoro - In My Mind",
          "Eminem - River (feat. Ed Sheeran)",
          "Daddy Yankee - Dura",
          "Travis Scott - SICKO MODE",
          "Imagine Dragons - Thunder",
          "Reik - Me Niego",
          "Ti?sto - Jackie Chan",
          "Bruno Mars - Finesse (Remix) [feat. Cardi B]",
          "Selena Gomez - Back To You - From 13 Reasons Why ? Season 2 Soundtrack",
          "NF - Let You Down",
          "The Weeknd - Call Out My Name",
          "Offset - Ric Flair Drip (& Metro Boomin)",
          "Marshmello - Happier",
          "Sam Smith - Too Good At Goodbyes",
          "Lil Dicky - Freaky Friday (feat. Chris Brown)",
          "Imagine Dragons - Believer",
          "6ix9ine - FEFE (feat. Nicki Minaj & Murda Beatz)",
          "Jonas Blue - Rise",
          "Loud Luxury - Body (feat. brando)",
          "Lil Uzi Vert - XO TOUR Llif3",
          "Becky G - Sin Pijama",
          "Anne-Marie - 2002",
          "Drake - Nonstop",
          "XXXTENTACION - Fuck Love (feat. Trippie Redd)",
          "Shawn Mendes - In My Blood",
          "Marshmello - Silence",
          "Ariana Grande - God is a woman",
          "Piso 21 - D?jala que vuelva (feat. Manuel Turizo)",
          "David Guetta - Flames",
          "Maroon 5 - What Lovers Do",
          "DJ Snake - Taki Taki (with Selena Gomez, Ozuna & Cardi B)",
          "Hailee Steinfeld - Let Me Go (with Alesso, Florida Georgia Line & watt)",
          "Portugal. The Man - Feel It Still",
          "The Weeknd - Pray For Me (with Kendrick Lamar)",
          "Migos - Walk It Talk It",
          "G-Eazy - Him & I (with Halsey)",
          "Post Malone - Candy Paint",
          "Post Malone - Congratulations",
          "Sofia Reyes - 1, 2, 3 (feat. Jason Derulo & De La Ghetto)",
          "Natti Natasha - Criminal",
          "Rich The Kid - Plug Walk",
          "Billie Eilish - lovely (with Khalid)",
          "Migos - Stir Fry",
          "Kendrick Lamar - HUMBLE.",
          "Ozuna - Vaina Loca",
          "Ed Sheeran - Perfect Duet (Ed Sheeran & Beyonc?)",
          "Maluma - Coraz?n (feat. Nego do Borel)",
          "Khalid - Young Dumb & Broke",
          "Ozuna - S?guelo Bailando",
          "Anitta - Downtown",
          "Wolfine - Bella",
          "Calvin Harris - Promises (with Sam Smith)",
          "Lil Baby - Yes Indeed",
          "Lauv - I Like Me Better",
          "Keala Settle - This Is Me",
          "XXXTENTACION - Everybody Dies In Their Nightmares",
          "Zac Efron - Rewrite The Stars",
          "Clean Bandit - I Miss You (feat. Julia Michaels)",
          "DJ Khaled - No Brainer",
          "ZAYN - Dusk Till Dawn - Radio Edit",
          "Dean Lewis - Be Alright"
         ],
         "type": "scatter",
         "x": [
          -11.025779724121094,
          2.2859280109405518,
          31.330326080322266,
          36.8957633972168,
          -36.003875732421875,
          6.624331474304199,
          1.2915092706680298,
          -12.57415771484375,
          -6.126685619354248,
          9.604732513427734,
          -12.027185440063477,
          30.627676010131836,
          -14.114432334899902,
          61.716495513916016,
          4.625222206115723,
          -25.362083435058594,
          -36.25544357299805,
          15.616521835327148,
          1.6620558500289917,
          29.113325119018555,
          11.807806015014648,
          -10.955336570739746,
          10.51042652130127,
          25.199668884277344,
          4.051403045654297,
          18.340679168701172,
          -4.708009719848633,
          9.421191215515137,
          17.206893920898438,
          -8.656209945678711,
          18.642133712768555,
          48.83491897583008,
          -26.55450439453125,
          10.406587600708008,
          3.5692591667175293,
          1.098250389099121,
          -172.8605194091797,
          -26.370214462280273,
          12.959043502807617,
          -17.439393997192383,
          -26.397214889526367,
          -33.52685546875,
          17.06594467163086,
          36.42006301879883,
          34.13195037841797,
          -10.150073051452637,
          -27.125253677368164,
          10.830888748168945,
          -22.917497634887695,
          26.716169357299805,
          16.15398597717285,
          -6.461989402770996,
          13.952688217163086,
          1.1107076406478882,
          -0.5683426856994629,
          5.769425868988037,
          -19.894622802734375,
          -74.28053283691406,
          -58.60459518432617,
          14.645960807800293,
          -5.867228984832764,
          -1.3545644283294678,
          18.898075103759766,
          -35.96550750732422,
          13.23519229888916,
          31.572412490844727,
          19.09383773803711,
          37.17724609375,
          102.35566711425781,
          -2.97446870803833,
          -28.041791915893555,
          -7.7870378494262695,
          24.31284523010254,
          26.764392852783203,
          -1.273213267326355,
          -6.859370231628418,
          -18.091732025146484,
          -26.46036720275879,
          26.302574157714844,
          16.64921760559082,
          3.5398635864257812,
          1.6672980785369873,
          5.799934387207031,
          -10.90184211730957,
          -20.549633026123047,
          4.1718339920043945,
          -24.28734016418457,
          -37.247581481933594,
          1.308024525642395,
          -15.775272369384766,
          -23.626266479492188,
          -6.965803623199463,
          3.1872386932373047,
          28.631086349487305,
          -8.3342866897583,
          -23.439626693725586,
          11.004029273986816,
          -16.207107543945312,
          9.991189002990723,
          -10.80413818359375
         ],
         "y": [
          18.197450637817383,
          8.412578582763672,
          -17.856292724609375,
          -1.9899615049362183,
          6.966545581817627,
          11.6642484664917,
          2.8490569591522217,
          -9.98257064819336,
          25.11381721496582,
          -33.10300827026367,
          -18.48440933227539,
          15.074341773986816,
          33.32937240600586,
          -9.212024688720703,
          17.331174850463867,
          36.34015655517578,
          41.61719512939453,
          -15.547143936157227,
          -13.337259292602539,
          -3.3435542583465576,
          19.360952377319336,
          -29.77226448059082,
          -5.0504536628723145,
          17.417518615722656,
          39.02916717529297,
          -19.406557083129883,
          3.6652987003326416,
          21.25833511352539,
          8.625182151794434,
          20.92652702331543,
          11.340801239013672,
          -41.56649398803711,
          -29.832862854003906,
          28.456295013427734,
          33.25412368774414,
          -22.122364044189453,
          117.28643035888672,
          22.749622344970703,
          -4.600683689117432,
          22.373043060302734,
          8.932527542114258,
          18.01496696472168,
          2.148683786392212,
          1.835686206817627,
          -19.845033645629883,
          -23.662220001220703,
          -0.7097645998001099,
          -30.716304779052734,
          -11.222046852111816,
          31.313709259033203,
          -2.874830961227417,
          -15.694235801696777,
          -2.189488172531128,
          -0.9724423289299011,
          -39.846351623535156,
          3.266281843185425,
          17.73137092590332,
          61.698307037353516,
          14.701390266418457,
          31.57653045654297,
          -6.365877628326416,
          1.0094537734985352,
          -17.089014053344727,
          -11.923707008361816,
          42.69231414794922,
          4.329168319702148,
          -38.27058029174805,
          -29.057003021240234,
          35.582969665527344,
          21.92578887939453,
          -50.216453552246094,
          36.99623107910156,
          13.248595237731934,
          -9.20734977722168,
          2.29691743850708,
          36.73848342895508,
          -2.124756097793579,
          -16.295225143432617,
          25.94341468811035,
          -5.3192877769470215,
          14.594151496887207,
          -20.474449157714844,
          20.269189834594727,
          13.189370155334473,
          12.002599716186523,
          -11.55373477935791,
          -13.70576000213623,
          -1.0087562799453735,
          -58.59476852416992,
          -10.508270263671875,
          -28.01998519897461,
          1.0773731470108032,
          -23.690534591674805,
          -27.582624435424805,
          1.6471521854400635,
          4.971318244934082,
          -22.888938903808594,
          0.48324301838874817,
          -6.608139514923096,
          9.775120735168457
         ]
        }
       ],
       "layout": {
        "template": {
         "data": {
          "bar": [
           {
            "error_x": {
             "color": "#2a3f5f"
            },
            "error_y": {
             "color": "#2a3f5f"
            },
            "marker": {
             "line": {
              "color": "#E5ECF6",
              "width": 0.5
             }
            },
            "type": "bar"
           }
          ],
          "barpolar": [
           {
            "marker": {
             "line": {
              "color": "#E5ECF6",
              "width": 0.5
             }
            },
            "type": "barpolar"
           }
          ],
          "carpet": [
           {
            "aaxis": {
             "endlinecolor": "#2a3f5f",
             "gridcolor": "white",
             "linecolor": "white",
             "minorgridcolor": "white",
             "startlinecolor": "#2a3f5f"
            },
            "baxis": {
             "endlinecolor": "#2a3f5f",
             "gridcolor": "white",
             "linecolor": "white",
             "minorgridcolor": "white",
             "startlinecolor": "#2a3f5f"
            },
            "type": "carpet"
           }
          ],
          "choropleth": [
           {
            "colorbar": {
             "outlinewidth": 0,
             "ticks": ""
            },
            "type": "choropleth"
           }
          ],
          "contour": [
           {
            "colorbar": {
             "outlinewidth": 0,
             "ticks": ""
            },
            "colorscale": [
             [
              0,
              "#0d0887"
             ],
             [
              0.1111111111111111,
              "#46039f"
             ],
             [
              0.2222222222222222,
              "#7201a8"
             ],
             [
              0.3333333333333333,
              "#9c179e"
             ],
             [
              0.4444444444444444,
              "#bd3786"
             ],
             [
              0.5555555555555556,
              "#d8576b"
             ],
             [
              0.6666666666666666,
              "#ed7953"
             ],
             [
              0.7777777777777778,
              "#fb9f3a"
             ],
             [
              0.8888888888888888,
              "#fdca26"
             ],
             [
              1,
              "#f0f921"
             ]
            ],
            "type": "contour"
           }
          ],
          "contourcarpet": [
           {
            "colorbar": {
             "outlinewidth": 0,
             "ticks": ""
            },
            "type": "contourcarpet"
           }
          ],
          "heatmap": [
           {
            "colorbar": {
             "outlinewidth": 0,
             "ticks": ""
            },
            "colorscale": [
             [
              0,
              "#0d0887"
             ],
             [
              0.1111111111111111,
              "#46039f"
             ],
             [
              0.2222222222222222,
              "#7201a8"
             ],
             [
              0.3333333333333333,
              "#9c179e"
             ],
             [
              0.4444444444444444,
              "#bd3786"
             ],
             [
              0.5555555555555556,
              "#d8576b"
             ],
             [
              0.6666666666666666,
              "#ed7953"
             ],
             [
              0.7777777777777778,
              "#fb9f3a"
             ],
             [
              0.8888888888888888,
              "#fdca26"
             ],
             [
              1,
              "#f0f921"
             ]
            ],
            "type": "heatmap"
           }
          ],
          "heatmapgl": [
           {
            "colorbar": {
             "outlinewidth": 0,
             "ticks": ""
            },
            "colorscale": [
             [
              0,
              "#0d0887"
             ],
             [
              0.1111111111111111,
              "#46039f"
             ],
             [
              0.2222222222222222,
              "#7201a8"
             ],
             [
              0.3333333333333333,
              "#9c179e"
             ],
             [
              0.4444444444444444,
              "#bd3786"
             ],
             [
              0.5555555555555556,
              "#d8576b"
             ],
             [
              0.6666666666666666,
              "#ed7953"
             ],
             [
              0.7777777777777778,
              "#fb9f3a"
             ],
             [
              0.8888888888888888,
              "#fdca26"
             ],
             [
              1,
              "#f0f921"
             ]
            ],
            "type": "heatmapgl"
           }
          ],
          "histogram": [
           {
            "marker": {
             "colorbar": {
              "outlinewidth": 0,
              "ticks": ""
             }
            },
            "type": "histogram"
           }
          ],
          "histogram2d": [
           {
            "colorbar": {
             "outlinewidth": 0,
             "ticks": ""
            },
            "colorscale": [
             [
              0,
              "#0d0887"
             ],
             [
              0.1111111111111111,
              "#46039f"
             ],
             [
              0.2222222222222222,
              "#7201a8"
             ],
             [
              0.3333333333333333,
              "#9c179e"
             ],
             [
              0.4444444444444444,
              "#bd3786"
             ],
             [
              0.5555555555555556,
              "#d8576b"
             ],
             [
              0.6666666666666666,
              "#ed7953"
             ],
             [
              0.7777777777777778,
              "#fb9f3a"
             ],
             [
              0.8888888888888888,
              "#fdca26"
             ],
             [
              1,
              "#f0f921"
             ]
            ],
            "type": "histogram2d"
           }
          ],
          "histogram2dcontour": [
           {
            "colorbar": {
             "outlinewidth": 0,
             "ticks": ""
            },
            "colorscale": [
             [
              0,
              "#0d0887"
             ],
             [
              0.1111111111111111,
              "#46039f"
             ],
             [
              0.2222222222222222,
              "#7201a8"
             ],
             [
              0.3333333333333333,
              "#9c179e"
             ],
             [
              0.4444444444444444,
              "#bd3786"
             ],
             [
              0.5555555555555556,
              "#d8576b"
             ],
             [
              0.6666666666666666,
              "#ed7953"
             ],
             [
              0.7777777777777778,
              "#fb9f3a"
             ],
             [
              0.8888888888888888,
              "#fdca26"
             ],
             [
              1,
              "#f0f921"
             ]
            ],
            "type": "histogram2dcontour"
           }
          ],
          "mesh3d": [
           {
            "colorbar": {
             "outlinewidth": 0,
             "ticks": ""
            },
            "type": "mesh3d"
           }
          ],
          "parcoords": [
           {
            "line": {
             "colorbar": {
              "outlinewidth": 0,
              "ticks": ""
             }
            },
            "type": "parcoords"
           }
          ],
          "pie": [
           {
            "automargin": true,
            "type": "pie"
           }
          ],
          "scatter": [
           {
            "marker": {
             "colorbar": {
              "outlinewidth": 0,
              "ticks": ""
             }
            },
            "type": "scatter"
           }
          ],
          "scatter3d": [
           {
            "line": {
             "colorbar": {
              "outlinewidth": 0,
              "ticks": ""
             }
            },
            "marker": {
             "colorbar": {
              "outlinewidth": 0,
              "ticks": ""
             }
            },
            "type": "scatter3d"
           }
          ],
          "scattercarpet": [
           {
            "marker": {
             "colorbar": {
              "outlinewidth": 0,
              "ticks": ""
             }
            },
            "type": "scattercarpet"
           }
          ],
          "scattergeo": [
           {
            "marker": {
             "colorbar": {
              "outlinewidth": 0,
              "ticks": ""
             }
            },
            "type": "scattergeo"
           }
          ],
          "scattergl": [
           {
            "marker": {
             "colorbar": {
              "outlinewidth": 0,
              "ticks": ""
             }
            },
            "type": "scattergl"
           }
          ],
          "scattermapbox": [
           {
            "marker": {
             "colorbar": {
              "outlinewidth": 0,
              "ticks": ""
             }
            },
            "type": "scattermapbox"
           }
          ],
          "scatterpolar": [
           {
            "marker": {
             "colorbar": {
              "outlinewidth": 0,
              "ticks": ""
             }
            },
            "type": "scatterpolar"
           }
          ],
          "scatterpolargl": [
           {
            "marker": {
             "colorbar": {
              "outlinewidth": 0,
              "ticks": ""
             }
            },
            "type": "scatterpolargl"
           }
          ],
          "scatterternary": [
           {
            "marker": {
             "colorbar": {
              "outlinewidth": 0,
              "ticks": ""
             }
            },
            "type": "scatterternary"
           }
          ],
          "surface": [
           {
            "colorbar": {
             "outlinewidth": 0,
             "ticks": ""
            },
            "colorscale": [
             [
              0,
              "#0d0887"
             ],
             [
              0.1111111111111111,
              "#46039f"
             ],
             [
              0.2222222222222222,
              "#7201a8"
             ],
             [
              0.3333333333333333,
              "#9c179e"
             ],
             [
              0.4444444444444444,
              "#bd3786"
             ],
             [
              0.5555555555555556,
              "#d8576b"
             ],
             [
              0.6666666666666666,
              "#ed7953"
             ],
             [
              0.7777777777777778,
              "#fb9f3a"
             ],
             [
              0.8888888888888888,
              "#fdca26"
             ],
             [
              1,
              "#f0f921"
             ]
            ],
            "type": "surface"
           }
          ],
          "table": [
           {
            "cells": {
             "fill": {
              "color": "#EBF0F8"
             },
             "line": {
              "color": "white"
             }
            },
            "header": {
             "fill": {
              "color": "#C8D4E3"
             },
             "line": {
              "color": "white"
             }
            },
            "type": "table"
           }
          ]
         },
         "layout": {
          "annotationdefaults": {
           "arrowcolor": "#2a3f5f",
           "arrowhead": 0,
           "arrowwidth": 1
          },
          "coloraxis": {
           "colorbar": {
            "outlinewidth": 0,
            "ticks": ""
           }
          },
          "colorscale": {
           "diverging": [
            [
             0,
             "#8e0152"
            ],
            [
             0.1,
             "#c51b7d"
            ],
            [
             0.2,
             "#de77ae"
            ],
            [
             0.3,
             "#f1b6da"
            ],
            [
             0.4,
             "#fde0ef"
            ],
            [
             0.5,
             "#f7f7f7"
            ],
            [
             0.6,
             "#e6f5d0"
            ],
            [
             0.7,
             "#b8e186"
            ],
            [
             0.8,
             "#7fbc41"
            ],
            [
             0.9,
             "#4d9221"
            ],
            [
             1,
             "#276419"
            ]
           ],
           "sequential": [
            [
             0,
             "#0d0887"
            ],
            [
             0.1111111111111111,
             "#46039f"
            ],
            [
             0.2222222222222222,
             "#7201a8"
            ],
            [
             0.3333333333333333,
             "#9c179e"
            ],
            [
             0.4444444444444444,
             "#bd3786"
            ],
            [
             0.5555555555555556,
             "#d8576b"
            ],
            [
             0.6666666666666666,
             "#ed7953"
            ],
            [
             0.7777777777777778,
             "#fb9f3a"
            ],
            [
             0.8888888888888888,
             "#fdca26"
            ],
            [
             1,
             "#f0f921"
            ]
           ],
           "sequentialminus": [
            [
             0,
             "#0d0887"
            ],
            [
             0.1111111111111111,
             "#46039f"
            ],
            [
             0.2222222222222222,
             "#7201a8"
            ],
            [
             0.3333333333333333,
             "#9c179e"
            ],
            [
             0.4444444444444444,
             "#bd3786"
            ],
            [
             0.5555555555555556,
             "#d8576b"
            ],
            [
             0.6666666666666666,
             "#ed7953"
            ],
            [
             0.7777777777777778,
             "#fb9f3a"
            ],
            [
             0.8888888888888888,
             "#fdca26"
            ],
            [
             1,
             "#f0f921"
            ]
           ]
          },
          "colorway": [
           "#636efa",
           "#EF553B",
           "#00cc96",
           "#ab63fa",
           "#FFA15A",
           "#19d3f3",
           "#FF6692",
           "#B6E880",
           "#FF97FF",
           "#FECB52"
          ],
          "font": {
           "color": "#2a3f5f"
          },
          "geo": {
           "bgcolor": "white",
           "lakecolor": "white",
           "landcolor": "#E5ECF6",
           "showlakes": true,
           "showland": true,
           "subunitcolor": "white"
          },
          "hoverlabel": {
           "align": "left"
          },
          "hovermode": "closest",
          "mapbox": {
           "style": "light"
          },
          "paper_bgcolor": "white",
          "plot_bgcolor": "#E5ECF6",
          "polar": {
           "angularaxis": {
            "gridcolor": "white",
            "linecolor": "white",
            "ticks": ""
           },
           "bgcolor": "#E5ECF6",
           "radialaxis": {
            "gridcolor": "white",
            "linecolor": "white",
            "ticks": ""
           }
          },
          "scene": {
           "xaxis": {
            "backgroundcolor": "#E5ECF6",
            "gridcolor": "white",
            "gridwidth": 2,
            "linecolor": "white",
            "showbackground": true,
            "ticks": "",
            "zerolinecolor": "white"
           },
           "yaxis": {
            "backgroundcolor": "#E5ECF6",
            "gridcolor": "white",
            "gridwidth": 2,
            "linecolor": "white",
            "showbackground": true,
            "ticks": "",
            "zerolinecolor": "white"
           },
           "zaxis": {
            "backgroundcolor": "#E5ECF6",
            "gridcolor": "white",
            "gridwidth": 2,
            "linecolor": "white",
            "showbackground": true,
            "ticks": "",
            "zerolinecolor": "white"
           }
          },
          "shapedefaults": {
           "line": {
            "color": "#2a3f5f"
           }
          },
          "ternary": {
           "aaxis": {
            "gridcolor": "white",
            "linecolor": "white",
            "ticks": ""
           },
           "baxis": {
            "gridcolor": "white",
            "linecolor": "white",
            "ticks": ""
           },
           "bgcolor": "#E5ECF6",
           "caxis": {
            "gridcolor": "white",
            "linecolor": "white",
            "ticks": ""
           }
          },
          "title": {
           "x": 0.05
          },
          "xaxis": {
           "automargin": true,
           "gridcolor": "white",
           "linecolor": "white",
           "ticks": "",
           "title": {
            "standoff": 15
           },
           "zerolinecolor": "white",
           "zerolinewidth": 2
          },
          "yaxis": {
           "automargin": true,
           "gridcolor": "white",
           "linecolor": "white",
           "ticks": "",
           "title": {
            "standoff": 15
           },
           "zerolinecolor": "white",
           "zerolinewidth": 2
          }
         }
        },
        "xaxis": {
         "title": {
          "text": "x-tsne"
         }
        },
        "yaxis": {
         "title": {
          "text": "y-tsne"
         }
        }
       }
      },
      "text/html": [
       "<div>\n",
       "        \n",
       "        \n",
       "            <div id=\"de32c6b6-8586-4ba9-b5cb-a5a02cd55352\" class=\"plotly-graph-div\" style=\"height:525px; width:100%;\"></div>\n",
       "            <script type=\"text/javascript\">\n",
       "                require([\"plotly\"], function(Plotly) {\n",
       "                    window.PLOTLYENV=window.PLOTLYENV || {};\n",
       "                    \n",
       "                if (document.getElementById(\"de32c6b6-8586-4ba9-b5cb-a5a02cd55352\")) {\n",
       "                    Plotly.newPlot(\n",
       "                        'de32c6b6-8586-4ba9-b5cb-a5a02cd55352',\n",
       "                        [{\"marker\": {\"color\": [-9.211, -4.88, -6.09, -8.011000000000001, -5.832999999999999, -5.843, -3.998, -3.24, -5.975, -2.384, -4.333, -7.23, -6.474, -6.825, -3.0610000000000004, -4.946000000000001, -5.507000000000001, -4.736000000000001, -5.723, -7.495, -4.0569999999999995, -3.445, -3.8739999999999997, -5.114, -6.021, -3.1830000000000003, -5.626, -6.61, -9.144, -6.312, -7.442, -4.546, -5.4079999999999995, -8.354, -3.655, -7.648, -4.333, -4.59, -10.068, -5.335, -5.916, -3.4560000000000004, -3.714, -4.833, -4.449, -2.867, -4.877, -4.856, -5.665, -4.928999999999999, -8.28, -2.7489999999999997, -8.279, -5.042, -4.374, -9.127, -4.65, -4.399, -6.3660000000000005, -3.695, -2.8810000000000002, -8.074, -9.74, -7.321000000000001, -3.093, -5.934, -4.323, -5.892, -5.131, -4.206, -4.154, -5.115, -4.979, -5.456, -6.343, -5.944, -4.183, -3.112, -3.023, -6.531000000000001, -10.109, -5.474, -6.638, -4.249, -7.365, -6.0729999999999995, -6.351, -7.11, -4.985, -6.688, -5.9910000000000005, -9.309, -7.621, -7.276, -7.066, -7.005, -6.318, -4.706, -6.593, -6.319], \"size\": 8}, \"mode\": \"markers\", \"text\": [\"Drake - God's Plan\", \"XXXTENTACION - SAD!\", \"Post Malone - rockstar (feat. 21 Savage)\", \"Post Malone - Psycho (feat. Ty Dolla $ign)\", \"Drake - In My Feelings\", \"Post Malone - Better Now\", \"Cardi B - I Like It\", \"Calvin Harris - One Kiss (with Dua Lipa)\", \"Dua Lipa - IDGAF\", \"Marshmello - FRIENDS\", \"Camila Cabello - Havana\", \"Juice WRLD - Lucid Dreams\", \"Drake - Nice For What\", \"Maroon 5 - Girls Like You (feat. Cardi B)\", \"Zedd - The Middle\", \"Kendrick Lamar - All The Stars (with SZA)\", \"Ariana Grande - no tears left to cry\", \"Nicky Jam - X\", \"XXXTENTACION - Moonlight\", \"BlocBoy JB - Look Alive (feat. Drake)\", \"Rudimental - These Days (feat. Jess Glynne, Macklemore & Dan Caplen)\", \"Nio Garcia - Te Bot? - Remix\", \"Bazzi - Mine\", \"5 Seconds of Summer - Youngblood\", \"Dua Lipa - New Rules\", \"Ed Sheeran - Shape of You\", \"Khalid - Love Lies (with Normani)\", \"Bebe Rexha - Meant to Be (feat. Florida Georgia Line)\", \"XXXTENTACION - Jocelyn Flores\", \"Ed Sheeran - Perfect\", \"Tyga - Taste (feat. Offset)\", \"Clean Bandit - Solo (feat. Demi Lovato)\", \"Post Malone - I Fall Apart\", \"Dennis Lloyd - Nevermind\", \"Luis Fonsi - ?chame La Culpa\", \"benny blanco - Eastside (with Halsey & Khalid)\", \"Camila Cabello - Never Be the Same\", \"Selena Gomez - Wolves\", \"XXXTENTACION - changes\", \"Dynoro - In My Mind\", \"Eminem - River (feat. Ed Sheeran)\", \"Daddy Yankee - Dura\", \"Travis Scott - SICKO MODE\", \"Imagine Dragons - Thunder\", \"Reik - Me Niego\", \"Ti?sto - Jackie Chan\", \"Bruno Mars - Finesse (Remix) [feat. Cardi B]\", \"Selena Gomez - Back To You - From 13 Reasons Why ? Season 2 Soundtrack\", \"NF - Let You Down\", \"The Weeknd - Call Out My Name\", \"Offset - Ric Flair Drip (& Metro Boomin)\", \"Marshmello - Happier\", \"Sam Smith - Too Good At Goodbyes\", \"Lil Dicky - Freaky Friday (feat. Chris Brown)\", \"Imagine Dragons - Believer\", \"6ix9ine - FEFE (feat. Nicki Minaj & Murda Beatz)\", \"Jonas Blue - Rise\", \"Loud Luxury - Body (feat. brando)\", \"Lil Uzi Vert - XO TOUR Llif3\", \"Becky G - Sin Pijama\", \"Anne-Marie - 2002\", \"Drake - Nonstop\", \"XXXTENTACION - Fuck Love (feat. Trippie Redd)\", \"Shawn Mendes - In My Blood\", \"Marshmello - Silence\", \"Ariana Grande - God is a woman\", \"Piso 21 - D?jala que vuelva (feat. Manuel Turizo)\", \"David Guetta - Flames\", \"Maroon 5 - What Lovers Do\", \"DJ Snake - Taki Taki (with Selena Gomez, Ozuna & Cardi B)\", \"Hailee Steinfeld - Let Me Go (with Alesso, Florida Georgia Line & watt)\", \"Portugal. The Man - Feel It Still\", \"The Weeknd - Pray For Me (with Kendrick Lamar)\", \"Migos - Walk It Talk It\", \"G-Eazy - Him & I (with Halsey)\", \"Post Malone - Candy Paint\", \"Post Malone - Congratulations\", \"Sofia Reyes - 1, 2, 3 (feat. Jason Derulo & De La Ghetto)\", \"Natti Natasha - Criminal\", \"Rich The Kid - Plug Walk\", \"Billie Eilish - lovely (with Khalid)\", \"Migos - Stir Fry\", \"Kendrick Lamar - HUMBLE.\", \"Ozuna - Vaina Loca\", \"Ed Sheeran - Perfect Duet (Ed Sheeran & Beyonc?)\", \"Maluma - Coraz?n (feat. Nego do Borel)\", \"Khalid - Young Dumb & Broke\", \"Ozuna - S?guelo Bailando\", \"Anitta - Downtown\", \"Wolfine - Bella\", \"Calvin Harris - Promises (with Sam Smith)\", \"Lil Baby - Yes Indeed\", \"Lauv - I Like Me Better\", \"Keala Settle - This Is Me\", \"XXXTENTACION - Everybody Dies In Their Nightmares\", \"Zac Efron - Rewrite The Stars\", \"Clean Bandit - I Miss You (feat. Julia Michaels)\", \"DJ Khaled - No Brainer\", \"ZAYN - Dusk Till Dawn - Radio Edit\", \"Dean Lewis - Be Alright\"], \"type\": \"scatter\", \"x\": [-11.025779724121094, 2.2859280109405518, 31.330326080322266, 36.8957633972168, -36.003875732421875, 6.624331474304199, 1.2915092706680298, -12.57415771484375, -6.126685619354248, 9.604732513427734, -12.027185440063477, 30.627676010131836, -14.114432334899902, 61.716495513916016, 4.625222206115723, -25.362083435058594, -36.25544357299805, 15.616521835327148, 1.6620558500289917, 29.113325119018555, 11.807806015014648, -10.955336570739746, 10.51042652130127, 25.199668884277344, 4.051403045654297, 18.340679168701172, -4.708009719848633, 9.421191215515137, 17.206893920898438, -8.656209945678711, 18.642133712768555, 48.83491897583008, -26.55450439453125, 10.406587600708008, 3.5692591667175293, 1.098250389099121, -172.8605194091797, -26.370214462280273, 12.959043502807617, -17.439393997192383, -26.397214889526367, -33.52685546875, 17.06594467163086, 36.42006301879883, 34.13195037841797, -10.150073051452637, -27.125253677368164, 10.830888748168945, -22.917497634887695, 26.716169357299805, 16.15398597717285, -6.461989402770996, 13.952688217163086, 1.1107076406478882, -0.5683426856994629, 5.769425868988037, -19.894622802734375, -74.28053283691406, -58.60459518432617, 14.645960807800293, -5.867228984832764, -1.3545644283294678, 18.898075103759766, -35.96550750732422, 13.23519229888916, 31.572412490844727, 19.09383773803711, 37.17724609375, 102.35566711425781, -2.97446870803833, -28.041791915893555, -7.7870378494262695, 24.31284523010254, 26.764392852783203, -1.273213267326355, -6.859370231628418, -18.091732025146484, -26.46036720275879, 26.302574157714844, 16.64921760559082, 3.5398635864257812, 1.6672980785369873, 5.799934387207031, -10.90184211730957, -20.549633026123047, 4.1718339920043945, -24.28734016418457, -37.247581481933594, 1.308024525642395, -15.775272369384766, -23.626266479492188, -6.965803623199463, 3.1872386932373047, 28.631086349487305, -8.3342866897583, -23.439626693725586, 11.004029273986816, -16.207107543945312, 9.991189002990723, -10.80413818359375], \"y\": [18.197450637817383, 8.412578582763672, -17.856292724609375, -1.9899615049362183, 6.966545581817627, 11.6642484664917, 2.8490569591522217, -9.98257064819336, 25.11381721496582, -33.10300827026367, -18.48440933227539, 15.074341773986816, 33.32937240600586, -9.212024688720703, 17.331174850463867, 36.34015655517578, 41.61719512939453, -15.547143936157227, -13.337259292602539, -3.3435542583465576, 19.360952377319336, -29.77226448059082, -5.0504536628723145, 17.417518615722656, 39.02916717529297, -19.406557083129883, 3.6652987003326416, 21.25833511352539, 8.625182151794434, 20.92652702331543, 11.340801239013672, -41.56649398803711, -29.832862854003906, 28.456295013427734, 33.25412368774414, -22.122364044189453, 117.28643035888672, 22.749622344970703, -4.600683689117432, 22.373043060302734, 8.932527542114258, 18.01496696472168, 2.148683786392212, 1.835686206817627, -19.845033645629883, -23.662220001220703, -0.7097645998001099, -30.716304779052734, -11.222046852111816, 31.313709259033203, -2.874830961227417, -15.694235801696777, -2.189488172531128, -0.9724423289299011, -39.846351623535156, 3.266281843185425, 17.73137092590332, 61.698307037353516, 14.701390266418457, 31.57653045654297, -6.365877628326416, 1.0094537734985352, -17.089014053344727, -11.923707008361816, 42.69231414794922, 4.329168319702148, -38.27058029174805, -29.057003021240234, 35.582969665527344, 21.92578887939453, -50.216453552246094, 36.99623107910156, 13.248595237731934, -9.20734977722168, 2.29691743850708, 36.73848342895508, -2.124756097793579, -16.295225143432617, 25.94341468811035, -5.3192877769470215, 14.594151496887207, -20.474449157714844, 20.269189834594727, 13.189370155334473, 12.002599716186523, -11.55373477935791, -13.70576000213623, -1.0087562799453735, -58.59476852416992, -10.508270263671875, -28.01998519897461, 1.0773731470108032, -23.690534591674805, -27.582624435424805, 1.6471521854400635, 4.971318244934082, -22.888938903808594, 0.48324301838874817, -6.608139514923096, 9.775120735168457]}],\n",
       "                        {\"template\": {\"data\": {\"bar\": [{\"error_x\": {\"color\": \"#2a3f5f\"}, \"error_y\": {\"color\": \"#2a3f5f\"}, \"marker\": {\"line\": {\"color\": \"#E5ECF6\", \"width\": 0.5}}, \"type\": \"bar\"}], \"barpolar\": [{\"marker\": {\"line\": {\"color\": \"#E5ECF6\", \"width\": 0.5}}, \"type\": \"barpolar\"}], \"carpet\": [{\"aaxis\": {\"endlinecolor\": \"#2a3f5f\", \"gridcolor\": \"white\", \"linecolor\": \"white\", \"minorgridcolor\": \"white\", \"startlinecolor\": \"#2a3f5f\"}, \"baxis\": {\"endlinecolor\": \"#2a3f5f\", \"gridcolor\": \"white\", \"linecolor\": \"white\", \"minorgridcolor\": \"white\", \"startlinecolor\": \"#2a3f5f\"}, \"type\": \"carpet\"}], \"choropleth\": [{\"colorbar\": {\"outlinewidth\": 0, \"ticks\": \"\"}, \"type\": \"choropleth\"}], \"contour\": [{\"colorbar\": {\"outlinewidth\": 0, \"ticks\": \"\"}, \"colorscale\": [[0.0, \"#0d0887\"], [0.1111111111111111, \"#46039f\"], [0.2222222222222222, \"#7201a8\"], [0.3333333333333333, \"#9c179e\"], [0.4444444444444444, \"#bd3786\"], [0.5555555555555556, \"#d8576b\"], [0.6666666666666666, \"#ed7953\"], [0.7777777777777778, \"#fb9f3a\"], [0.8888888888888888, \"#fdca26\"], [1.0, \"#f0f921\"]], \"type\": \"contour\"}], \"contourcarpet\": [{\"colorbar\": {\"outlinewidth\": 0, \"ticks\": \"\"}, \"type\": \"contourcarpet\"}], \"heatmap\": [{\"colorbar\": {\"outlinewidth\": 0, \"ticks\": \"\"}, \"colorscale\": [[0.0, \"#0d0887\"], [0.1111111111111111, \"#46039f\"], [0.2222222222222222, \"#7201a8\"], [0.3333333333333333, \"#9c179e\"], [0.4444444444444444, \"#bd3786\"], [0.5555555555555556, \"#d8576b\"], [0.6666666666666666, \"#ed7953\"], [0.7777777777777778, \"#fb9f3a\"], [0.8888888888888888, \"#fdca26\"], [1.0, \"#f0f921\"]], \"type\": \"heatmap\"}], \"heatmapgl\": [{\"colorbar\": {\"outlinewidth\": 0, \"ticks\": \"\"}, \"colorscale\": [[0.0, \"#0d0887\"], [0.1111111111111111, \"#46039f\"], [0.2222222222222222, \"#7201a8\"], [0.3333333333333333, \"#9c179e\"], [0.4444444444444444, \"#bd3786\"], [0.5555555555555556, \"#d8576b\"], [0.6666666666666666, \"#ed7953\"], [0.7777777777777778, \"#fb9f3a\"], [0.8888888888888888, \"#fdca26\"], [1.0, \"#f0f921\"]], \"type\": \"heatmapgl\"}], \"histogram\": [{\"marker\": {\"colorbar\": {\"outlinewidth\": 0, \"ticks\": \"\"}}, \"type\": \"histogram\"}], \"histogram2d\": [{\"colorbar\": {\"outlinewidth\": 0, \"ticks\": \"\"}, \"colorscale\": [[0.0, \"#0d0887\"], [0.1111111111111111, \"#46039f\"], [0.2222222222222222, \"#7201a8\"], [0.3333333333333333, \"#9c179e\"], [0.4444444444444444, \"#bd3786\"], [0.5555555555555556, \"#d8576b\"], [0.6666666666666666, \"#ed7953\"], [0.7777777777777778, \"#fb9f3a\"], [0.8888888888888888, \"#fdca26\"], [1.0, \"#f0f921\"]], \"type\": \"histogram2d\"}], \"histogram2dcontour\": [{\"colorbar\": {\"outlinewidth\": 0, \"ticks\": \"\"}, \"colorscale\": [[0.0, \"#0d0887\"], [0.1111111111111111, \"#46039f\"], [0.2222222222222222, \"#7201a8\"], [0.3333333333333333, \"#9c179e\"], [0.4444444444444444, \"#bd3786\"], [0.5555555555555556, \"#d8576b\"], [0.6666666666666666, \"#ed7953\"], [0.7777777777777778, \"#fb9f3a\"], [0.8888888888888888, \"#fdca26\"], [1.0, \"#f0f921\"]], \"type\": \"histogram2dcontour\"}], \"mesh3d\": [{\"colorbar\": {\"outlinewidth\": 0, \"ticks\": \"\"}, \"type\": \"mesh3d\"}], \"parcoords\": [{\"line\": {\"colorbar\": {\"outlinewidth\": 0, \"ticks\": \"\"}}, \"type\": \"parcoords\"}], \"pie\": [{\"automargin\": true, \"type\": \"pie\"}], \"scatter\": [{\"marker\": {\"colorbar\": {\"outlinewidth\": 0, \"ticks\": \"\"}}, \"type\": \"scatter\"}], \"scatter3d\": [{\"line\": {\"colorbar\": {\"outlinewidth\": 0, \"ticks\": \"\"}}, \"marker\": {\"colorbar\": {\"outlinewidth\": 0, \"ticks\": \"\"}}, \"type\": \"scatter3d\"}], \"scattercarpet\": [{\"marker\": {\"colorbar\": {\"outlinewidth\": 0, \"ticks\": \"\"}}, \"type\": \"scattercarpet\"}], \"scattergeo\": [{\"marker\": {\"colorbar\": {\"outlinewidth\": 0, \"ticks\": \"\"}}, \"type\": \"scattergeo\"}], \"scattergl\": [{\"marker\": {\"colorbar\": {\"outlinewidth\": 0, \"ticks\": \"\"}}, \"type\": \"scattergl\"}], \"scattermapbox\": [{\"marker\": {\"colorbar\": {\"outlinewidth\": 0, \"ticks\": \"\"}}, \"type\": \"scattermapbox\"}], \"scatterpolar\": [{\"marker\": {\"colorbar\": {\"outlinewidth\": 0, \"ticks\": \"\"}}, \"type\": \"scatterpolar\"}], \"scatterpolargl\": [{\"marker\": {\"colorbar\": {\"outlinewidth\": 0, \"ticks\": \"\"}}, \"type\": \"scatterpolargl\"}], \"scatterternary\": [{\"marker\": {\"colorbar\": {\"outlinewidth\": 0, \"ticks\": \"\"}}, \"type\": \"scatterternary\"}], \"surface\": [{\"colorbar\": {\"outlinewidth\": 0, \"ticks\": \"\"}, \"colorscale\": [[0.0, \"#0d0887\"], [0.1111111111111111, \"#46039f\"], [0.2222222222222222, \"#7201a8\"], [0.3333333333333333, \"#9c179e\"], [0.4444444444444444, \"#bd3786\"], [0.5555555555555556, \"#d8576b\"], [0.6666666666666666, \"#ed7953\"], [0.7777777777777778, \"#fb9f3a\"], [0.8888888888888888, \"#fdca26\"], [1.0, \"#f0f921\"]], \"type\": \"surface\"}], \"table\": [{\"cells\": {\"fill\": {\"color\": \"#EBF0F8\"}, \"line\": {\"color\": \"white\"}}, \"header\": {\"fill\": {\"color\": \"#C8D4E3\"}, \"line\": {\"color\": \"white\"}}, \"type\": \"table\"}]}, \"layout\": {\"annotationdefaults\": {\"arrowcolor\": \"#2a3f5f\", \"arrowhead\": 0, \"arrowwidth\": 1}, \"coloraxis\": {\"colorbar\": {\"outlinewidth\": 0, \"ticks\": \"\"}}, \"colorscale\": {\"diverging\": [[0, \"#8e0152\"], [0.1, \"#c51b7d\"], [0.2, \"#de77ae\"], [0.3, \"#f1b6da\"], [0.4, \"#fde0ef\"], [0.5, \"#f7f7f7\"], [0.6, \"#e6f5d0\"], [0.7, \"#b8e186\"], [0.8, \"#7fbc41\"], [0.9, \"#4d9221\"], [1, \"#276419\"]], \"sequential\": [[0.0, \"#0d0887\"], [0.1111111111111111, \"#46039f\"], [0.2222222222222222, \"#7201a8\"], [0.3333333333333333, \"#9c179e\"], [0.4444444444444444, \"#bd3786\"], [0.5555555555555556, \"#d8576b\"], [0.6666666666666666, \"#ed7953\"], [0.7777777777777778, \"#fb9f3a\"], [0.8888888888888888, \"#fdca26\"], [1.0, \"#f0f921\"]], \"sequentialminus\": [[0.0, \"#0d0887\"], [0.1111111111111111, \"#46039f\"], [0.2222222222222222, \"#7201a8\"], [0.3333333333333333, \"#9c179e\"], [0.4444444444444444, \"#bd3786\"], [0.5555555555555556, \"#d8576b\"], [0.6666666666666666, \"#ed7953\"], [0.7777777777777778, \"#fb9f3a\"], [0.8888888888888888, \"#fdca26\"], [1.0, \"#f0f921\"]]}, \"colorway\": [\"#636efa\", \"#EF553B\", \"#00cc96\", \"#ab63fa\", \"#FFA15A\", \"#19d3f3\", \"#FF6692\", \"#B6E880\", \"#FF97FF\", \"#FECB52\"], \"font\": {\"color\": \"#2a3f5f\"}, \"geo\": {\"bgcolor\": \"white\", \"lakecolor\": \"white\", \"landcolor\": \"#E5ECF6\", \"showlakes\": true, \"showland\": true, \"subunitcolor\": \"white\"}, \"hoverlabel\": {\"align\": \"left\"}, \"hovermode\": \"closest\", \"mapbox\": {\"style\": \"light\"}, \"paper_bgcolor\": \"white\", \"plot_bgcolor\": \"#E5ECF6\", \"polar\": {\"angularaxis\": {\"gridcolor\": \"white\", \"linecolor\": \"white\", \"ticks\": \"\"}, \"bgcolor\": \"#E5ECF6\", \"radialaxis\": {\"gridcolor\": \"white\", \"linecolor\": \"white\", \"ticks\": \"\"}}, \"scene\": {\"xaxis\": {\"backgroundcolor\": \"#E5ECF6\", \"gridcolor\": \"white\", \"gridwidth\": 2, \"linecolor\": \"white\", \"showbackground\": true, \"ticks\": \"\", \"zerolinecolor\": \"white\"}, \"yaxis\": {\"backgroundcolor\": \"#E5ECF6\", \"gridcolor\": \"white\", \"gridwidth\": 2, \"linecolor\": \"white\", \"showbackground\": true, \"ticks\": \"\", \"zerolinecolor\": \"white\"}, \"zaxis\": {\"backgroundcolor\": \"#E5ECF6\", \"gridcolor\": \"white\", \"gridwidth\": 2, \"linecolor\": \"white\", \"showbackground\": true, \"ticks\": \"\", \"zerolinecolor\": \"white\"}}, \"shapedefaults\": {\"line\": {\"color\": \"#2a3f5f\"}}, \"ternary\": {\"aaxis\": {\"gridcolor\": \"white\", \"linecolor\": \"white\", \"ticks\": \"\"}, \"baxis\": {\"gridcolor\": \"white\", \"linecolor\": \"white\", \"ticks\": \"\"}, \"bgcolor\": \"#E5ECF6\", \"caxis\": {\"gridcolor\": \"white\", \"linecolor\": \"white\", \"ticks\": \"\"}}, \"title\": {\"x\": 0.05}, \"xaxis\": {\"automargin\": true, \"gridcolor\": \"white\", \"linecolor\": \"white\", \"ticks\": \"\", \"title\": {\"standoff\": 15}, \"zerolinecolor\": \"white\", \"zerolinewidth\": 2}, \"yaxis\": {\"automargin\": true, \"gridcolor\": \"white\", \"linecolor\": \"white\", \"ticks\": \"\", \"title\": {\"standoff\": 15}, \"zerolinecolor\": \"white\", \"zerolinewidth\": 2}}}, \"xaxis\": {\"title\": {\"text\": \"x-tsne\"}}, \"yaxis\": {\"title\": {\"text\": \"y-tsne\"}}},\n",
       "                        {\"responsive\": true}\n",
       "                    ).then(function(){\n",
       "                            \n",
       "var gd = document.getElementById('de32c6b6-8586-4ba9-b5cb-a5a02cd55352');\n",
       "var x = new MutationObserver(function (mutations, observer) {{\n",
       "        var display = window.getComputedStyle(gd).display;\n",
       "        if (!display || display === 'none') {{\n",
       "            console.log([gd, 'removed!']);\n",
       "            Plotly.purge(gd);\n",
       "            observer.disconnect();\n",
       "        }}\n",
       "}});\n",
       "\n",
       "// Listen for the removal of the full notebook cells\n",
       "var notebookContainer = gd.closest('#notebook-container');\n",
       "if (notebookContainer) {{\n",
       "    x.observe(notebookContainer, {childList: true});\n",
       "}}\n",
       "\n",
       "// Listen for the clearing of the current output cell\n",
       "var outputEl = gd.closest('.output');\n",
       "if (outputEl) {{\n",
       "    x.observe(outputEl, {childList: true});\n",
       "}}\n",
       "\n",
       "                        })\n",
       "                };\n",
       "                });\n",
       "            </script>\n",
       "        </div>"
      ]
     },
     "metadata": {},
     "output_type": "display_data"
    }
   ],
   "source": [
    "plot_pca_scaler(\"loudness\",df)"
   ]
  },
  {
   "cell_type": "markdown",
   "metadata": {},
   "source": [
    "## project the 'top' and 'bottom' songs (or 'not-top' songs) "
   ]
  },
  {
   "cell_type": "markdown",
   "metadata": {},
   "source": [
    "project into the t-SNE space and see if they cluster differently."
   ]
  },
  {
   "cell_type": "markdown",
   "metadata": {},
   "source": [
    "1. separate the songs on the basis of popularity--> o and 1 , here 0  are the not top songs and 1 are top songs\n",
    "\n",
    "- EXPECTED 1: Songs having popularity 1 should be tightly coupled  and \n",
    "\n",
    "- EXPECTED 2: Songs having popularity 0 should be loosely coupled  "
   ]
  },
  {
   "cell_type": "code",
   "execution_count": 82,
   "metadata": {},
   "outputs": [],
   "source": [
    "def top_songs(dataframe):\n",
    "    df1 = dataframe[dataframe['popularity'] == 1]\n",
    "    return plot_pca_scaler(\"loudness\",df1)"
   ]
  },
  {
   "cell_type": "code",
   "execution_count": 83,
   "metadata": {},
   "outputs": [
    {
     "name": "stdout",
     "output_type": "stream",
     "text": [
      "t-SNE starting.................\n",
      "[t-SNE] Computing 84 nearest neighbors...\n",
      "[t-SNE] Indexed 85 samples in 0.000s...\n",
      "[t-SNE] Computed neighbors for 85 samples in 0.003s...\n",
      "[t-SNE] Computed conditional probabilities for sample 85 / 85\n",
      "[t-SNE] Mean sigma: 0.367437\n",
      "[t-SNE] KL divergence after 250 iterations with early exaggeration: 84.245621\n",
      "[t-SNE] KL divergence after 300 iterations: 2.543462\n",
      "......................t-SNE done\n"
     ]
    },
    {
     "data": {
      "application/vnd.plotly.v1+json": {
       "config": {
        "linkText": "Export to plot.ly",
        "plotlyServerURL": "https://plot.ly",
        "showLink": false
       },
       "data": [
        {
         "marker": {
          "color": [
           -9.211,
           -4.88,
           -8.011000000000001,
           -5.832999999999998,
           -3.998,
           -3.24,
           -5.975,
           -2.384,
           -4.333,
           -6.474,
           -6.825,
           -3.0610000000000004,
           -4.9460000000000015,
           -5.5070000000000014,
           -4.7360000000000015,
           -5.723,
           -7.495,
           -4.057,
           -3.445,
           -3.874,
           -5.114,
           -6.021,
           -3.1830000000000003,
           -5.626,
           -6.61,
           -9.144,
           -7.442,
           -4.546,
           -5.408,
           -8.354,
           -3.655,
           -7.648,
           -4.333,
           -4.59,
           -5.335,
           -5.916,
           -3.4560000000000004,
           -3.714,
           -4.833,
           -4.449,
           -2.867,
           -4.877,
           -4.856,
           -5.665,
           -4.9289999999999985,
           -8.28,
           -2.749,
           -5.042,
           -4.374,
           -9.127,
           -4.65,
           -4.399,
           -6.3660000000000005,
           -3.695,
           -2.881,
           -8.074,
           -9.74,
           -7.3210000000000015,
           -3.093,
           -4.323,
           -5.131,
           -4.206,
           -4.154,
           -5.115,
           -4.979,
           -5.456,
           -6.343,
           -4.183,
           -3.112,
           -3.023,
           -6.5310000000000015,
           -5.474,
           -6.638,
           -4.249,
           -6.073,
           -6.351,
           -7.11,
           -4.985,
           -6.688,
           -5.9910000000000005,
           -9.309,
           -7.621,
           -7.276,
           -7.066,
           -4.706
          ],
          "size": 8
         },
         "mode": "markers",
         "text": [
          "Drake - God's Plan",
          "XXXTENTACION - SAD!",
          "Post Malone - Psycho (feat. Ty Dolla $ign)",
          "Drake - In My Feelings",
          "Cardi B - I Like It",
          "Calvin Harris - One Kiss (with Dua Lipa)",
          "Dua Lipa - IDGAF",
          "Marshmello - FRIENDS",
          "Camila Cabello - Havana",
          "Drake - Nice For What",
          "Maroon 5 - Girls Like You (feat. Cardi B)",
          "Zedd - The Middle",
          "Kendrick Lamar - All The Stars (with SZA)",
          "Ariana Grande - no tears left to cry",
          "Nicky Jam - X",
          "XXXTENTACION - Moonlight",
          "BlocBoy JB - Look Alive (feat. Drake)",
          "Rudimental - These Days (feat. Jess Glynne, Macklemore & Dan Caplen)",
          "Nio Garcia - Te Bot? - Remix",
          "Bazzi - Mine",
          "5 Seconds of Summer - Youngblood",
          "Dua Lipa - New Rules",
          "Ed Sheeran - Shape of You",
          "Khalid - Love Lies (with Normani)",
          "Bebe Rexha - Meant to Be (feat. Florida Georgia Line)",
          "XXXTENTACION - Jocelyn Flores",
          "Tyga - Taste (feat. Offset)",
          "Clean Bandit - Solo (feat. Demi Lovato)",
          "Post Malone - I Fall Apart",
          "Dennis Lloyd - Nevermind",
          "Luis Fonsi - ?chame La Culpa",
          "benny blanco - Eastside (with Halsey & Khalid)",
          "Camila Cabello - Never Be the Same",
          "Selena Gomez - Wolves",
          "Dynoro - In My Mind",
          "Eminem - River (feat. Ed Sheeran)",
          "Daddy Yankee - Dura",
          "Travis Scott - SICKO MODE",
          "Imagine Dragons - Thunder",
          "Reik - Me Niego",
          "Ti?sto - Jackie Chan",
          "Bruno Mars - Finesse (Remix) [feat. Cardi B]",
          "Selena Gomez - Back To You - From 13 Reasons Why ? Season 2 Soundtrack",
          "NF - Let You Down",
          "The Weeknd - Call Out My Name",
          "Offset - Ric Flair Drip (& Metro Boomin)",
          "Marshmello - Happier",
          "Lil Dicky - Freaky Friday (feat. Chris Brown)",
          "Imagine Dragons - Believer",
          "6ix9ine - FEFE (feat. Nicki Minaj & Murda Beatz)",
          "Jonas Blue - Rise",
          "Loud Luxury - Body (feat. brando)",
          "Lil Uzi Vert - XO TOUR Llif3",
          "Becky G - Sin Pijama",
          "Anne-Marie - 2002",
          "Drake - Nonstop",
          "XXXTENTACION - Fuck Love (feat. Trippie Redd)",
          "Shawn Mendes - In My Blood",
          "Marshmello - Silence",
          "Piso 21 - D?jala que vuelva (feat. Manuel Turizo)",
          "Maroon 5 - What Lovers Do",
          "DJ Snake - Taki Taki (with Selena Gomez, Ozuna & Cardi B)",
          "Hailee Steinfeld - Let Me Go (with Alesso, Florida Georgia Line & watt)",
          "Portugal. The Man - Feel It Still",
          "The Weeknd - Pray For Me (with Kendrick Lamar)",
          "Migos - Walk It Talk It",
          "G-Eazy - Him & I (with Halsey)",
          "Post Malone - Congratulations",
          "Sofia Reyes - 1, 2, 3 (feat. Jason Derulo & De La Ghetto)",
          "Natti Natasha - Criminal",
          "Rich The Kid - Plug Walk",
          "Migos - Stir Fry",
          "Kendrick Lamar - HUMBLE.",
          "Ozuna - Vaina Loca",
          "Maluma - Coraz?n (feat. Nego do Borel)",
          "Khalid - Young Dumb & Broke",
          "Ozuna - S?guelo Bailando",
          "Anitta - Downtown",
          "Wolfine - Bella",
          "Calvin Harris - Promises (with Sam Smith)",
          "Lil Baby - Yes Indeed",
          "Lauv - I Like Me Better",
          "Keala Settle - This Is Me",
          "XXXTENTACION - Everybody Dies In Their Nightmares",
          "DJ Khaled - No Brainer"
         ],
         "type": "scatter",
         "x": [
          -21.54054069519043,
          -14.23088550567627,
          -7.112614631652832,
          -82.51245880126953,
          59.520687103271484,
          45.464046478271484,
          5.82800817489624,
          -26.800907135009766,
          -34.000518798828125,
          49.55363845825195,
          -10.682300567626953,
          110.56095886230469,
          10.288121223449707,
          13.603540420532227,
          106.36329650878906,
          -4.599640369415283,
          -12.647997856140137,
          -39.94922637939453,
          -237.89608764648438,
          24.12520980834961,
          -38.14107894897461,
          12.366138458251953,
          412.3877258300781,
          170.4894561767578,
          57.348270416259766,
          -26.354278564453125,
          -1.9103552103042603,
          -103.31494140625,
          -51.81372833251953,
          -79.84508514404297,
          -49.47495651245117,
          45.45740509033203,
          -36.67445373535156,
          -16.877620697021484,
          32.544593811035156,
          -53.91669464111328,
          -20.70811653137207,
          -10.290188789367676,
          32.729244232177734,
          -9.705453872680664,
          -95.66119384765625,
          21.307714462280273,
          -5.711652755737305,
          -43.89231872558594,
          26.54863166809082,
          55.247833251953125,
          9.321980476379395,
          -7.608079433441162,
          29.235095977783203,
          -50.56242370605469,
          33.825809478759766,
          -1.6002624034881592,
          -58.62790298461914,
          -14.590092658996582,
          -26.50670623779297,
          9.173250198364258,
          -0.914376437664032,
          -73.33152770996094,
          23.068925857543945,
          -4.479311943054199,
          18.506725311279297,
          -36.856285095214844,
          -79.3492660522461,
          -35.521446228027344,
          83.73567962646484,
          9.026716232299805,
          84.7538833618164,
          -20.20232391357422,
          27.842208862304688,
          -8.75692367553711,
          19.951751708984375,
          -67.943359375,
          -19.587127685546875,
          -26.03891944885254,
          23.454608917236328,
          115.75841522216797,
          -18.864185333251953,
          -1.6233129501342773,
          -44.894081115722656,
          15.680971145629883,
          2.120084762573242,
          -96.62395477294922,
          33.57403564453125,
          7.54459285736084,
          -390.5652770996094
         ],
         "y": [
          26.65595817565918,
          29.864479064941406,
          5.354626655578613,
          -41.37714385986328,
          66.01417541503906,
          29.6437931060791,
          -11.467164039611816,
          18.29045295715332,
          -4.765918731689453,
          19.610315322875977,
          -3.831594705581665,
          252.8588104248047,
          -44.29069519042969,
          -13.847172737121582,
          -38.31509780883789,
          -12.154587745666504,
          -22.193588256835938,
          -21.30662727355957,
          25.595470428466797,
          93.2883529663086,
          36.87156677246094,
          5.033961296081543,
          -251.3571014404297,
          -157.00987243652344,
          -5.892882823944092,
          5.251973628997803,
          -37.462989807128906,
          62.409236907958984,
          110.79981231689453,
          -109.97528839111328,
          -15.915848731994629,
          -39.21464538574219,
          80.9442138671875,
          61.140411376953125,
          -33.054405212402344,
          61.2532844543457,
          -0.2173355519771576,
          41.52916717529297,
          -10.053077697753906,
          36.937042236328125,
          -58.10348892211914,
          36.12237548828125,
          -21.942949295043945,
          6.209845542907715,
          -36.43165588378906,
          -27.40875816345215,
          22.64255142211914,
          9.617315292358398,
          15.072687149047852,
          -41.72650146484375,
          9.890109062194824,
          -36.75664138793945,
          11.578269958496094,
          -21.39859962463379,
          -10.432113647460938,
          -9.184259414672852,
          -2.154240608215332,
          16.392459869384766,
          -22.91339874267578,
          -90.10118865966797,
          -48.186378479003906,
          46.61336898803711,
          48.54828643798828,
          73.93268585205078,
          -0.26729825139045715,
          -18.34086799621582,
          -58.77495574951172,
          -27.002153396606445,
          23.526716232299805,
          16.641462326049805,
          -28.824134826660156,
          -33.41716766357422,
          10.643178939819336,
          -38.186344146728516,
          4.277416706085205,
          92.66881561279297,
          51.681854248046875,
          -50.118995666503906,
          -2.3283534049987793,
          -2.420337438583374,
          19.253326416015625,
          -47.72807693481445,
          -30.362186431884766,
          22.334243774414062,
          -1553.90966796875
         ]
        }
       ],
       "layout": {
        "template": {
         "data": {
          "bar": [
           {
            "error_x": {
             "color": "#2a3f5f"
            },
            "error_y": {
             "color": "#2a3f5f"
            },
            "marker": {
             "line": {
              "color": "#E5ECF6",
              "width": 0.5
             }
            },
            "type": "bar"
           }
          ],
          "barpolar": [
           {
            "marker": {
             "line": {
              "color": "#E5ECF6",
              "width": 0.5
             }
            },
            "type": "barpolar"
           }
          ],
          "carpet": [
           {
            "aaxis": {
             "endlinecolor": "#2a3f5f",
             "gridcolor": "white",
             "linecolor": "white",
             "minorgridcolor": "white",
             "startlinecolor": "#2a3f5f"
            },
            "baxis": {
             "endlinecolor": "#2a3f5f",
             "gridcolor": "white",
             "linecolor": "white",
             "minorgridcolor": "white",
             "startlinecolor": "#2a3f5f"
            },
            "type": "carpet"
           }
          ],
          "choropleth": [
           {
            "colorbar": {
             "outlinewidth": 0,
             "ticks": ""
            },
            "type": "choropleth"
           }
          ],
          "contour": [
           {
            "colorbar": {
             "outlinewidth": 0,
             "ticks": ""
            },
            "colorscale": [
             [
              0,
              "#0d0887"
             ],
             [
              0.1111111111111111,
              "#46039f"
             ],
             [
              0.2222222222222222,
              "#7201a8"
             ],
             [
              0.3333333333333333,
              "#9c179e"
             ],
             [
              0.4444444444444444,
              "#bd3786"
             ],
             [
              0.5555555555555556,
              "#d8576b"
             ],
             [
              0.6666666666666666,
              "#ed7953"
             ],
             [
              0.7777777777777778,
              "#fb9f3a"
             ],
             [
              0.8888888888888888,
              "#fdca26"
             ],
             [
              1,
              "#f0f921"
             ]
            ],
            "type": "contour"
           }
          ],
          "contourcarpet": [
           {
            "colorbar": {
             "outlinewidth": 0,
             "ticks": ""
            },
            "type": "contourcarpet"
           }
          ],
          "heatmap": [
           {
            "colorbar": {
             "outlinewidth": 0,
             "ticks": ""
            },
            "colorscale": [
             [
              0,
              "#0d0887"
             ],
             [
              0.1111111111111111,
              "#46039f"
             ],
             [
              0.2222222222222222,
              "#7201a8"
             ],
             [
              0.3333333333333333,
              "#9c179e"
             ],
             [
              0.4444444444444444,
              "#bd3786"
             ],
             [
              0.5555555555555556,
              "#d8576b"
             ],
             [
              0.6666666666666666,
              "#ed7953"
             ],
             [
              0.7777777777777778,
              "#fb9f3a"
             ],
             [
              0.8888888888888888,
              "#fdca26"
             ],
             [
              1,
              "#f0f921"
             ]
            ],
            "type": "heatmap"
           }
          ],
          "heatmapgl": [
           {
            "colorbar": {
             "outlinewidth": 0,
             "ticks": ""
            },
            "colorscale": [
             [
              0,
              "#0d0887"
             ],
             [
              0.1111111111111111,
              "#46039f"
             ],
             [
              0.2222222222222222,
              "#7201a8"
             ],
             [
              0.3333333333333333,
              "#9c179e"
             ],
             [
              0.4444444444444444,
              "#bd3786"
             ],
             [
              0.5555555555555556,
              "#d8576b"
             ],
             [
              0.6666666666666666,
              "#ed7953"
             ],
             [
              0.7777777777777778,
              "#fb9f3a"
             ],
             [
              0.8888888888888888,
              "#fdca26"
             ],
             [
              1,
              "#f0f921"
             ]
            ],
            "type": "heatmapgl"
           }
          ],
          "histogram": [
           {
            "marker": {
             "colorbar": {
              "outlinewidth": 0,
              "ticks": ""
             }
            },
            "type": "histogram"
           }
          ],
          "histogram2d": [
           {
            "colorbar": {
             "outlinewidth": 0,
             "ticks": ""
            },
            "colorscale": [
             [
              0,
              "#0d0887"
             ],
             [
              0.1111111111111111,
              "#46039f"
             ],
             [
              0.2222222222222222,
              "#7201a8"
             ],
             [
              0.3333333333333333,
              "#9c179e"
             ],
             [
              0.4444444444444444,
              "#bd3786"
             ],
             [
              0.5555555555555556,
              "#d8576b"
             ],
             [
              0.6666666666666666,
              "#ed7953"
             ],
             [
              0.7777777777777778,
              "#fb9f3a"
             ],
             [
              0.8888888888888888,
              "#fdca26"
             ],
             [
              1,
              "#f0f921"
             ]
            ],
            "type": "histogram2d"
           }
          ],
          "histogram2dcontour": [
           {
            "colorbar": {
             "outlinewidth": 0,
             "ticks": ""
            },
            "colorscale": [
             [
              0,
              "#0d0887"
             ],
             [
              0.1111111111111111,
              "#46039f"
             ],
             [
              0.2222222222222222,
              "#7201a8"
             ],
             [
              0.3333333333333333,
              "#9c179e"
             ],
             [
              0.4444444444444444,
              "#bd3786"
             ],
             [
              0.5555555555555556,
              "#d8576b"
             ],
             [
              0.6666666666666666,
              "#ed7953"
             ],
             [
              0.7777777777777778,
              "#fb9f3a"
             ],
             [
              0.8888888888888888,
              "#fdca26"
             ],
             [
              1,
              "#f0f921"
             ]
            ],
            "type": "histogram2dcontour"
           }
          ],
          "mesh3d": [
           {
            "colorbar": {
             "outlinewidth": 0,
             "ticks": ""
            },
            "type": "mesh3d"
           }
          ],
          "parcoords": [
           {
            "line": {
             "colorbar": {
              "outlinewidth": 0,
              "ticks": ""
             }
            },
            "type": "parcoords"
           }
          ],
          "pie": [
           {
            "automargin": true,
            "type": "pie"
           }
          ],
          "scatter": [
           {
            "marker": {
             "colorbar": {
              "outlinewidth": 0,
              "ticks": ""
             }
            },
            "type": "scatter"
           }
          ],
          "scatter3d": [
           {
            "line": {
             "colorbar": {
              "outlinewidth": 0,
              "ticks": ""
             }
            },
            "marker": {
             "colorbar": {
              "outlinewidth": 0,
              "ticks": ""
             }
            },
            "type": "scatter3d"
           }
          ],
          "scattercarpet": [
           {
            "marker": {
             "colorbar": {
              "outlinewidth": 0,
              "ticks": ""
             }
            },
            "type": "scattercarpet"
           }
          ],
          "scattergeo": [
           {
            "marker": {
             "colorbar": {
              "outlinewidth": 0,
              "ticks": ""
             }
            },
            "type": "scattergeo"
           }
          ],
          "scattergl": [
           {
            "marker": {
             "colorbar": {
              "outlinewidth": 0,
              "ticks": ""
             }
            },
            "type": "scattergl"
           }
          ],
          "scattermapbox": [
           {
            "marker": {
             "colorbar": {
              "outlinewidth": 0,
              "ticks": ""
             }
            },
            "type": "scattermapbox"
           }
          ],
          "scatterpolar": [
           {
            "marker": {
             "colorbar": {
              "outlinewidth": 0,
              "ticks": ""
             }
            },
            "type": "scatterpolar"
           }
          ],
          "scatterpolargl": [
           {
            "marker": {
             "colorbar": {
              "outlinewidth": 0,
              "ticks": ""
             }
            },
            "type": "scatterpolargl"
           }
          ],
          "scatterternary": [
           {
            "marker": {
             "colorbar": {
              "outlinewidth": 0,
              "ticks": ""
             }
            },
            "type": "scatterternary"
           }
          ],
          "surface": [
           {
            "colorbar": {
             "outlinewidth": 0,
             "ticks": ""
            },
            "colorscale": [
             [
              0,
              "#0d0887"
             ],
             [
              0.1111111111111111,
              "#46039f"
             ],
             [
              0.2222222222222222,
              "#7201a8"
             ],
             [
              0.3333333333333333,
              "#9c179e"
             ],
             [
              0.4444444444444444,
              "#bd3786"
             ],
             [
              0.5555555555555556,
              "#d8576b"
             ],
             [
              0.6666666666666666,
              "#ed7953"
             ],
             [
              0.7777777777777778,
              "#fb9f3a"
             ],
             [
              0.8888888888888888,
              "#fdca26"
             ],
             [
              1,
              "#f0f921"
             ]
            ],
            "type": "surface"
           }
          ],
          "table": [
           {
            "cells": {
             "fill": {
              "color": "#EBF0F8"
             },
             "line": {
              "color": "white"
             }
            },
            "header": {
             "fill": {
              "color": "#C8D4E3"
             },
             "line": {
              "color": "white"
             }
            },
            "type": "table"
           }
          ]
         },
         "layout": {
          "annotationdefaults": {
           "arrowcolor": "#2a3f5f",
           "arrowhead": 0,
           "arrowwidth": 1
          },
          "coloraxis": {
           "colorbar": {
            "outlinewidth": 0,
            "ticks": ""
           }
          },
          "colorscale": {
           "diverging": [
            [
             0,
             "#8e0152"
            ],
            [
             0.1,
             "#c51b7d"
            ],
            [
             0.2,
             "#de77ae"
            ],
            [
             0.3,
             "#f1b6da"
            ],
            [
             0.4,
             "#fde0ef"
            ],
            [
             0.5,
             "#f7f7f7"
            ],
            [
             0.6,
             "#e6f5d0"
            ],
            [
             0.7,
             "#b8e186"
            ],
            [
             0.8,
             "#7fbc41"
            ],
            [
             0.9,
             "#4d9221"
            ],
            [
             1,
             "#276419"
            ]
           ],
           "sequential": [
            [
             0,
             "#0d0887"
            ],
            [
             0.1111111111111111,
             "#46039f"
            ],
            [
             0.2222222222222222,
             "#7201a8"
            ],
            [
             0.3333333333333333,
             "#9c179e"
            ],
            [
             0.4444444444444444,
             "#bd3786"
            ],
            [
             0.5555555555555556,
             "#d8576b"
            ],
            [
             0.6666666666666666,
             "#ed7953"
            ],
            [
             0.7777777777777778,
             "#fb9f3a"
            ],
            [
             0.8888888888888888,
             "#fdca26"
            ],
            [
             1,
             "#f0f921"
            ]
           ],
           "sequentialminus": [
            [
             0,
             "#0d0887"
            ],
            [
             0.1111111111111111,
             "#46039f"
            ],
            [
             0.2222222222222222,
             "#7201a8"
            ],
            [
             0.3333333333333333,
             "#9c179e"
            ],
            [
             0.4444444444444444,
             "#bd3786"
            ],
            [
             0.5555555555555556,
             "#d8576b"
            ],
            [
             0.6666666666666666,
             "#ed7953"
            ],
            [
             0.7777777777777778,
             "#fb9f3a"
            ],
            [
             0.8888888888888888,
             "#fdca26"
            ],
            [
             1,
             "#f0f921"
            ]
           ]
          },
          "colorway": [
           "#636efa",
           "#EF553B",
           "#00cc96",
           "#ab63fa",
           "#FFA15A",
           "#19d3f3",
           "#FF6692",
           "#B6E880",
           "#FF97FF",
           "#FECB52"
          ],
          "font": {
           "color": "#2a3f5f"
          },
          "geo": {
           "bgcolor": "white",
           "lakecolor": "white",
           "landcolor": "#E5ECF6",
           "showlakes": true,
           "showland": true,
           "subunitcolor": "white"
          },
          "hoverlabel": {
           "align": "left"
          },
          "hovermode": "closest",
          "mapbox": {
           "style": "light"
          },
          "paper_bgcolor": "white",
          "plot_bgcolor": "#E5ECF6",
          "polar": {
           "angularaxis": {
            "gridcolor": "white",
            "linecolor": "white",
            "ticks": ""
           },
           "bgcolor": "#E5ECF6",
           "radialaxis": {
            "gridcolor": "white",
            "linecolor": "white",
            "ticks": ""
           }
          },
          "scene": {
           "xaxis": {
            "backgroundcolor": "#E5ECF6",
            "gridcolor": "white",
            "gridwidth": 2,
            "linecolor": "white",
            "showbackground": true,
            "ticks": "",
            "zerolinecolor": "white"
           },
           "yaxis": {
            "backgroundcolor": "#E5ECF6",
            "gridcolor": "white",
            "gridwidth": 2,
            "linecolor": "white",
            "showbackground": true,
            "ticks": "",
            "zerolinecolor": "white"
           },
           "zaxis": {
            "backgroundcolor": "#E5ECF6",
            "gridcolor": "white",
            "gridwidth": 2,
            "linecolor": "white",
            "showbackground": true,
            "ticks": "",
            "zerolinecolor": "white"
           }
          },
          "shapedefaults": {
           "line": {
            "color": "#2a3f5f"
           }
          },
          "ternary": {
           "aaxis": {
            "gridcolor": "white",
            "linecolor": "white",
            "ticks": ""
           },
           "baxis": {
            "gridcolor": "white",
            "linecolor": "white",
            "ticks": ""
           },
           "bgcolor": "#E5ECF6",
           "caxis": {
            "gridcolor": "white",
            "linecolor": "white",
            "ticks": ""
           }
          },
          "title": {
           "x": 0.05
          },
          "xaxis": {
           "automargin": true,
           "gridcolor": "white",
           "linecolor": "white",
           "ticks": "",
           "title": {
            "standoff": 15
           },
           "zerolinecolor": "white",
           "zerolinewidth": 2
          },
          "yaxis": {
           "automargin": true,
           "gridcolor": "white",
           "linecolor": "white",
           "ticks": "",
           "title": {
            "standoff": 15
           },
           "zerolinecolor": "white",
           "zerolinewidth": 2
          }
         }
        },
        "xaxis": {
         "title": {
          "text": "x-tsne"
         }
        },
        "yaxis": {
         "title": {
          "text": "y-tsne"
         }
        }
       }
      },
      "text/html": [
       "<div>\n",
       "        \n",
       "        \n",
       "            <div id=\"f39b6d99-5ef7-4068-b914-ecec762b48ea\" class=\"plotly-graph-div\" style=\"height:525px; width:100%;\"></div>\n",
       "            <script type=\"text/javascript\">\n",
       "                require([\"plotly\"], function(Plotly) {\n",
       "                    window.PLOTLYENV=window.PLOTLYENV || {};\n",
       "                    \n",
       "                if (document.getElementById(\"f39b6d99-5ef7-4068-b914-ecec762b48ea\")) {\n",
       "                    Plotly.newPlot(\n",
       "                        'f39b6d99-5ef7-4068-b914-ecec762b48ea',\n",
       "                        [{\"marker\": {\"color\": [-9.211, -4.88, -8.011000000000001, -5.832999999999998, -3.998, -3.24, -5.975, -2.384, -4.333, -6.474, -6.825, -3.0610000000000004, -4.9460000000000015, -5.5070000000000014, -4.7360000000000015, -5.723, -7.495, -4.057, -3.445, -3.874, -5.114, -6.021, -3.1830000000000003, -5.626, -6.61, -9.144, -7.442, -4.546, -5.408, -8.354, -3.655, -7.648, -4.333, -4.59, -5.335, -5.916, -3.4560000000000004, -3.714, -4.833, -4.449, -2.867, -4.877, -4.856, -5.665, -4.9289999999999985, -8.28, -2.749, -5.042, -4.374, -9.127, -4.65, -4.399, -6.3660000000000005, -3.695, -2.881, -8.074, -9.74, -7.3210000000000015, -3.093, -4.323, -5.131, -4.206, -4.154, -5.115, -4.979, -5.456, -6.343, -4.183, -3.112, -3.023, -6.5310000000000015, -5.474, -6.638, -4.249, -6.073, -6.351, -7.11, -4.985, -6.688, -5.9910000000000005, -9.309, -7.621, -7.276, -7.066, -4.706], \"size\": 8}, \"mode\": \"markers\", \"text\": [\"Drake - God's Plan\", \"XXXTENTACION - SAD!\", \"Post Malone - Psycho (feat. Ty Dolla $ign)\", \"Drake - In My Feelings\", \"Cardi B - I Like It\", \"Calvin Harris - One Kiss (with Dua Lipa)\", \"Dua Lipa - IDGAF\", \"Marshmello - FRIENDS\", \"Camila Cabello - Havana\", \"Drake - Nice For What\", \"Maroon 5 - Girls Like You (feat. Cardi B)\", \"Zedd - The Middle\", \"Kendrick Lamar - All The Stars (with SZA)\", \"Ariana Grande - no tears left to cry\", \"Nicky Jam - X\", \"XXXTENTACION - Moonlight\", \"BlocBoy JB - Look Alive (feat. Drake)\", \"Rudimental - These Days (feat. Jess Glynne, Macklemore & Dan Caplen)\", \"Nio Garcia - Te Bot? - Remix\", \"Bazzi - Mine\", \"5 Seconds of Summer - Youngblood\", \"Dua Lipa - New Rules\", \"Ed Sheeran - Shape of You\", \"Khalid - Love Lies (with Normani)\", \"Bebe Rexha - Meant to Be (feat. Florida Georgia Line)\", \"XXXTENTACION - Jocelyn Flores\", \"Tyga - Taste (feat. Offset)\", \"Clean Bandit - Solo (feat. Demi Lovato)\", \"Post Malone - I Fall Apart\", \"Dennis Lloyd - Nevermind\", \"Luis Fonsi - ?chame La Culpa\", \"benny blanco - Eastside (with Halsey & Khalid)\", \"Camila Cabello - Never Be the Same\", \"Selena Gomez - Wolves\", \"Dynoro - In My Mind\", \"Eminem - River (feat. Ed Sheeran)\", \"Daddy Yankee - Dura\", \"Travis Scott - SICKO MODE\", \"Imagine Dragons - Thunder\", \"Reik - Me Niego\", \"Ti?sto - Jackie Chan\", \"Bruno Mars - Finesse (Remix) [feat. Cardi B]\", \"Selena Gomez - Back To You - From 13 Reasons Why ? Season 2 Soundtrack\", \"NF - Let You Down\", \"The Weeknd - Call Out My Name\", \"Offset - Ric Flair Drip (& Metro Boomin)\", \"Marshmello - Happier\", \"Lil Dicky - Freaky Friday (feat. Chris Brown)\", \"Imagine Dragons - Believer\", \"6ix9ine - FEFE (feat. Nicki Minaj & Murda Beatz)\", \"Jonas Blue - Rise\", \"Loud Luxury - Body (feat. brando)\", \"Lil Uzi Vert - XO TOUR Llif3\", \"Becky G - Sin Pijama\", \"Anne-Marie - 2002\", \"Drake - Nonstop\", \"XXXTENTACION - Fuck Love (feat. Trippie Redd)\", \"Shawn Mendes - In My Blood\", \"Marshmello - Silence\", \"Piso 21 - D?jala que vuelva (feat. Manuel Turizo)\", \"Maroon 5 - What Lovers Do\", \"DJ Snake - Taki Taki (with Selena Gomez, Ozuna & Cardi B)\", \"Hailee Steinfeld - Let Me Go (with Alesso, Florida Georgia Line & watt)\", \"Portugal. The Man - Feel It Still\", \"The Weeknd - Pray For Me (with Kendrick Lamar)\", \"Migos - Walk It Talk It\", \"G-Eazy - Him & I (with Halsey)\", \"Post Malone - Congratulations\", \"Sofia Reyes - 1, 2, 3 (feat. Jason Derulo & De La Ghetto)\", \"Natti Natasha - Criminal\", \"Rich The Kid - Plug Walk\", \"Migos - Stir Fry\", \"Kendrick Lamar - HUMBLE.\", \"Ozuna - Vaina Loca\", \"Maluma - Coraz?n (feat. Nego do Borel)\", \"Khalid - Young Dumb & Broke\", \"Ozuna - S?guelo Bailando\", \"Anitta - Downtown\", \"Wolfine - Bella\", \"Calvin Harris - Promises (with Sam Smith)\", \"Lil Baby - Yes Indeed\", \"Lauv - I Like Me Better\", \"Keala Settle - This Is Me\", \"XXXTENTACION - Everybody Dies In Their Nightmares\", \"DJ Khaled - No Brainer\"], \"type\": \"scatter\", \"x\": [-21.54054069519043, -14.23088550567627, -7.112614631652832, -82.51245880126953, 59.520687103271484, 45.464046478271484, 5.82800817489624, -26.800907135009766, -34.000518798828125, 49.55363845825195, -10.682300567626953, 110.56095886230469, 10.288121223449707, 13.603540420532227, 106.36329650878906, -4.599640369415283, -12.647997856140137, -39.94922637939453, -237.89608764648438, 24.12520980834961, -38.14107894897461, 12.366138458251953, 412.3877258300781, 170.4894561767578, 57.348270416259766, -26.354278564453125, -1.9103552103042603, -103.31494140625, -51.81372833251953, -79.84508514404297, -49.47495651245117, 45.45740509033203, -36.67445373535156, -16.877620697021484, 32.544593811035156, -53.91669464111328, -20.70811653137207, -10.290188789367676, 32.729244232177734, -9.705453872680664, -95.66119384765625, 21.307714462280273, -5.711652755737305, -43.89231872558594, 26.54863166809082, 55.247833251953125, 9.321980476379395, -7.608079433441162, 29.235095977783203, -50.56242370605469, 33.825809478759766, -1.6002624034881592, -58.62790298461914, -14.590092658996582, -26.50670623779297, 9.173250198364258, -0.914376437664032, -73.33152770996094, 23.068925857543945, -4.479311943054199, 18.506725311279297, -36.856285095214844, -79.3492660522461, -35.521446228027344, 83.73567962646484, 9.026716232299805, 84.7538833618164, -20.20232391357422, 27.842208862304688, -8.75692367553711, 19.951751708984375, -67.943359375, -19.587127685546875, -26.03891944885254, 23.454608917236328, 115.75841522216797, -18.864185333251953, -1.6233129501342773, -44.894081115722656, 15.680971145629883, 2.120084762573242, -96.62395477294922, 33.57403564453125, 7.54459285736084, -390.5652770996094], \"y\": [26.65595817565918, 29.864479064941406, 5.354626655578613, -41.37714385986328, 66.01417541503906, 29.6437931060791, -11.467164039611816, 18.29045295715332, -4.765918731689453, 19.610315322875977, -3.831594705581665, 252.8588104248047, -44.29069519042969, -13.847172737121582, -38.31509780883789, -12.154587745666504, -22.193588256835938, -21.30662727355957, 25.595470428466797, 93.2883529663086, 36.87156677246094, 5.033961296081543, -251.3571014404297, -157.00987243652344, -5.892882823944092, 5.251973628997803, -37.462989807128906, 62.409236907958984, 110.79981231689453, -109.97528839111328, -15.915848731994629, -39.21464538574219, 80.9442138671875, 61.140411376953125, -33.054405212402344, 61.2532844543457, -0.2173355519771576, 41.52916717529297, -10.053077697753906, 36.937042236328125, -58.10348892211914, 36.12237548828125, -21.942949295043945, 6.209845542907715, -36.43165588378906, -27.40875816345215, 22.64255142211914, 9.617315292358398, 15.072687149047852, -41.72650146484375, 9.890109062194824, -36.75664138793945, 11.578269958496094, -21.39859962463379, -10.432113647460938, -9.184259414672852, -2.154240608215332, 16.392459869384766, -22.91339874267578, -90.10118865966797, -48.186378479003906, 46.61336898803711, 48.54828643798828, 73.93268585205078, -0.26729825139045715, -18.34086799621582, -58.77495574951172, -27.002153396606445, 23.526716232299805, 16.641462326049805, -28.824134826660156, -33.41716766357422, 10.643178939819336, -38.186344146728516, 4.277416706085205, 92.66881561279297, 51.681854248046875, -50.118995666503906, -2.3283534049987793, -2.420337438583374, 19.253326416015625, -47.72807693481445, -30.362186431884766, 22.334243774414062, -1553.90966796875]}],\n",
       "                        {\"template\": {\"data\": {\"bar\": [{\"error_x\": {\"color\": \"#2a3f5f\"}, \"error_y\": {\"color\": \"#2a3f5f\"}, \"marker\": {\"line\": {\"color\": \"#E5ECF6\", \"width\": 0.5}}, \"type\": \"bar\"}], \"barpolar\": [{\"marker\": {\"line\": {\"color\": \"#E5ECF6\", \"width\": 0.5}}, \"type\": \"barpolar\"}], \"carpet\": [{\"aaxis\": {\"endlinecolor\": \"#2a3f5f\", \"gridcolor\": \"white\", \"linecolor\": \"white\", \"minorgridcolor\": \"white\", \"startlinecolor\": \"#2a3f5f\"}, \"baxis\": {\"endlinecolor\": \"#2a3f5f\", \"gridcolor\": \"white\", \"linecolor\": \"white\", \"minorgridcolor\": \"white\", \"startlinecolor\": \"#2a3f5f\"}, \"type\": \"carpet\"}], \"choropleth\": [{\"colorbar\": {\"outlinewidth\": 0, \"ticks\": \"\"}, \"type\": \"choropleth\"}], \"contour\": [{\"colorbar\": {\"outlinewidth\": 0, \"ticks\": \"\"}, \"colorscale\": [[0.0, \"#0d0887\"], [0.1111111111111111, \"#46039f\"], [0.2222222222222222, \"#7201a8\"], [0.3333333333333333, \"#9c179e\"], [0.4444444444444444, \"#bd3786\"], [0.5555555555555556, \"#d8576b\"], [0.6666666666666666, \"#ed7953\"], [0.7777777777777778, \"#fb9f3a\"], [0.8888888888888888, \"#fdca26\"], [1.0, \"#f0f921\"]], \"type\": \"contour\"}], \"contourcarpet\": [{\"colorbar\": {\"outlinewidth\": 0, \"ticks\": \"\"}, \"type\": \"contourcarpet\"}], \"heatmap\": [{\"colorbar\": {\"outlinewidth\": 0, \"ticks\": \"\"}, \"colorscale\": [[0.0, \"#0d0887\"], [0.1111111111111111, \"#46039f\"], [0.2222222222222222, \"#7201a8\"], [0.3333333333333333, \"#9c179e\"], [0.4444444444444444, \"#bd3786\"], [0.5555555555555556, \"#d8576b\"], [0.6666666666666666, \"#ed7953\"], [0.7777777777777778, \"#fb9f3a\"], [0.8888888888888888, \"#fdca26\"], [1.0, \"#f0f921\"]], \"type\": \"heatmap\"}], \"heatmapgl\": [{\"colorbar\": {\"outlinewidth\": 0, \"ticks\": \"\"}, \"colorscale\": [[0.0, \"#0d0887\"], [0.1111111111111111, \"#46039f\"], [0.2222222222222222, \"#7201a8\"], [0.3333333333333333, \"#9c179e\"], [0.4444444444444444, \"#bd3786\"], [0.5555555555555556, \"#d8576b\"], [0.6666666666666666, \"#ed7953\"], [0.7777777777777778, \"#fb9f3a\"], [0.8888888888888888, \"#fdca26\"], [1.0, \"#f0f921\"]], \"type\": \"heatmapgl\"}], \"histogram\": [{\"marker\": {\"colorbar\": {\"outlinewidth\": 0, \"ticks\": \"\"}}, \"type\": \"histogram\"}], \"histogram2d\": [{\"colorbar\": {\"outlinewidth\": 0, \"ticks\": \"\"}, \"colorscale\": [[0.0, \"#0d0887\"], [0.1111111111111111, \"#46039f\"], [0.2222222222222222, \"#7201a8\"], [0.3333333333333333, \"#9c179e\"], [0.4444444444444444, \"#bd3786\"], [0.5555555555555556, \"#d8576b\"], [0.6666666666666666, \"#ed7953\"], [0.7777777777777778, \"#fb9f3a\"], [0.8888888888888888, \"#fdca26\"], [1.0, \"#f0f921\"]], \"type\": \"histogram2d\"}], \"histogram2dcontour\": [{\"colorbar\": {\"outlinewidth\": 0, \"ticks\": \"\"}, \"colorscale\": [[0.0, \"#0d0887\"], [0.1111111111111111, \"#46039f\"], [0.2222222222222222, \"#7201a8\"], [0.3333333333333333, \"#9c179e\"], [0.4444444444444444, \"#bd3786\"], [0.5555555555555556, \"#d8576b\"], [0.6666666666666666, \"#ed7953\"], [0.7777777777777778, \"#fb9f3a\"], [0.8888888888888888, \"#fdca26\"], [1.0, \"#f0f921\"]], \"type\": \"histogram2dcontour\"}], \"mesh3d\": [{\"colorbar\": {\"outlinewidth\": 0, \"ticks\": \"\"}, \"type\": \"mesh3d\"}], \"parcoords\": [{\"line\": {\"colorbar\": {\"outlinewidth\": 0, \"ticks\": \"\"}}, \"type\": \"parcoords\"}], \"pie\": [{\"automargin\": true, \"type\": \"pie\"}], \"scatter\": [{\"marker\": {\"colorbar\": {\"outlinewidth\": 0, \"ticks\": \"\"}}, \"type\": \"scatter\"}], \"scatter3d\": [{\"line\": {\"colorbar\": {\"outlinewidth\": 0, \"ticks\": \"\"}}, \"marker\": {\"colorbar\": {\"outlinewidth\": 0, \"ticks\": \"\"}}, \"type\": \"scatter3d\"}], \"scattercarpet\": [{\"marker\": {\"colorbar\": {\"outlinewidth\": 0, \"ticks\": \"\"}}, \"type\": \"scattercarpet\"}], \"scattergeo\": [{\"marker\": {\"colorbar\": {\"outlinewidth\": 0, \"ticks\": \"\"}}, \"type\": \"scattergeo\"}], \"scattergl\": [{\"marker\": {\"colorbar\": {\"outlinewidth\": 0, \"ticks\": \"\"}}, \"type\": \"scattergl\"}], \"scattermapbox\": [{\"marker\": {\"colorbar\": {\"outlinewidth\": 0, \"ticks\": \"\"}}, \"type\": \"scattermapbox\"}], \"scatterpolar\": [{\"marker\": {\"colorbar\": {\"outlinewidth\": 0, \"ticks\": \"\"}}, \"type\": \"scatterpolar\"}], \"scatterpolargl\": [{\"marker\": {\"colorbar\": {\"outlinewidth\": 0, \"ticks\": \"\"}}, \"type\": \"scatterpolargl\"}], \"scatterternary\": [{\"marker\": {\"colorbar\": {\"outlinewidth\": 0, \"ticks\": \"\"}}, \"type\": \"scatterternary\"}], \"surface\": [{\"colorbar\": {\"outlinewidth\": 0, \"ticks\": \"\"}, \"colorscale\": [[0.0, \"#0d0887\"], [0.1111111111111111, \"#46039f\"], [0.2222222222222222, \"#7201a8\"], [0.3333333333333333, \"#9c179e\"], [0.4444444444444444, \"#bd3786\"], [0.5555555555555556, \"#d8576b\"], [0.6666666666666666, \"#ed7953\"], [0.7777777777777778, \"#fb9f3a\"], [0.8888888888888888, \"#fdca26\"], [1.0, \"#f0f921\"]], \"type\": \"surface\"}], \"table\": [{\"cells\": {\"fill\": {\"color\": \"#EBF0F8\"}, \"line\": {\"color\": \"white\"}}, \"header\": {\"fill\": {\"color\": \"#C8D4E3\"}, \"line\": {\"color\": \"white\"}}, \"type\": \"table\"}]}, \"layout\": {\"annotationdefaults\": {\"arrowcolor\": \"#2a3f5f\", \"arrowhead\": 0, \"arrowwidth\": 1}, \"coloraxis\": {\"colorbar\": {\"outlinewidth\": 0, \"ticks\": \"\"}}, \"colorscale\": {\"diverging\": [[0, \"#8e0152\"], [0.1, \"#c51b7d\"], [0.2, \"#de77ae\"], [0.3, \"#f1b6da\"], [0.4, \"#fde0ef\"], [0.5, \"#f7f7f7\"], [0.6, \"#e6f5d0\"], [0.7, \"#b8e186\"], [0.8, \"#7fbc41\"], [0.9, \"#4d9221\"], [1, \"#276419\"]], \"sequential\": [[0.0, \"#0d0887\"], [0.1111111111111111, \"#46039f\"], [0.2222222222222222, \"#7201a8\"], [0.3333333333333333, \"#9c179e\"], [0.4444444444444444, \"#bd3786\"], [0.5555555555555556, \"#d8576b\"], [0.6666666666666666, \"#ed7953\"], [0.7777777777777778, \"#fb9f3a\"], [0.8888888888888888, \"#fdca26\"], [1.0, \"#f0f921\"]], \"sequentialminus\": [[0.0, \"#0d0887\"], [0.1111111111111111, \"#46039f\"], [0.2222222222222222, \"#7201a8\"], [0.3333333333333333, \"#9c179e\"], [0.4444444444444444, \"#bd3786\"], [0.5555555555555556, \"#d8576b\"], [0.6666666666666666, \"#ed7953\"], [0.7777777777777778, \"#fb9f3a\"], [0.8888888888888888, \"#fdca26\"], [1.0, \"#f0f921\"]]}, \"colorway\": [\"#636efa\", \"#EF553B\", \"#00cc96\", \"#ab63fa\", \"#FFA15A\", \"#19d3f3\", \"#FF6692\", \"#B6E880\", \"#FF97FF\", \"#FECB52\"], \"font\": {\"color\": \"#2a3f5f\"}, \"geo\": {\"bgcolor\": \"white\", \"lakecolor\": \"white\", \"landcolor\": \"#E5ECF6\", \"showlakes\": true, \"showland\": true, \"subunitcolor\": \"white\"}, \"hoverlabel\": {\"align\": \"left\"}, \"hovermode\": \"closest\", \"mapbox\": {\"style\": \"light\"}, \"paper_bgcolor\": \"white\", \"plot_bgcolor\": \"#E5ECF6\", \"polar\": {\"angularaxis\": {\"gridcolor\": \"white\", \"linecolor\": \"white\", \"ticks\": \"\"}, \"bgcolor\": \"#E5ECF6\", \"radialaxis\": {\"gridcolor\": \"white\", \"linecolor\": \"white\", \"ticks\": \"\"}}, \"scene\": {\"xaxis\": {\"backgroundcolor\": \"#E5ECF6\", \"gridcolor\": \"white\", \"gridwidth\": 2, \"linecolor\": \"white\", \"showbackground\": true, \"ticks\": \"\", \"zerolinecolor\": \"white\"}, \"yaxis\": {\"backgroundcolor\": \"#E5ECF6\", \"gridcolor\": \"white\", \"gridwidth\": 2, \"linecolor\": \"white\", \"showbackground\": true, \"ticks\": \"\", \"zerolinecolor\": \"white\"}, \"zaxis\": {\"backgroundcolor\": \"#E5ECF6\", \"gridcolor\": \"white\", \"gridwidth\": 2, \"linecolor\": \"white\", \"showbackground\": true, \"ticks\": \"\", \"zerolinecolor\": \"white\"}}, \"shapedefaults\": {\"line\": {\"color\": \"#2a3f5f\"}}, \"ternary\": {\"aaxis\": {\"gridcolor\": \"white\", \"linecolor\": \"white\", \"ticks\": \"\"}, \"baxis\": {\"gridcolor\": \"white\", \"linecolor\": \"white\", \"ticks\": \"\"}, \"bgcolor\": \"#E5ECF6\", \"caxis\": {\"gridcolor\": \"white\", \"linecolor\": \"white\", \"ticks\": \"\"}}, \"title\": {\"x\": 0.05}, \"xaxis\": {\"automargin\": true, \"gridcolor\": \"white\", \"linecolor\": \"white\", \"ticks\": \"\", \"title\": {\"standoff\": 15}, \"zerolinecolor\": \"white\", \"zerolinewidth\": 2}, \"yaxis\": {\"automargin\": true, \"gridcolor\": \"white\", \"linecolor\": \"white\", \"ticks\": \"\", \"title\": {\"standoff\": 15}, \"zerolinecolor\": \"white\", \"zerolinewidth\": 2}}}, \"xaxis\": {\"title\": {\"text\": \"x-tsne\"}}, \"yaxis\": {\"title\": {\"text\": \"y-tsne\"}}},\n",
       "                        {\"responsive\": true}\n",
       "                    ).then(function(){\n",
       "                            \n",
       "var gd = document.getElementById('f39b6d99-5ef7-4068-b914-ecec762b48ea');\n",
       "var x = new MutationObserver(function (mutations, observer) {{\n",
       "        var display = window.getComputedStyle(gd).display;\n",
       "        if (!display || display === 'none') {{\n",
       "            console.log([gd, 'removed!']);\n",
       "            Plotly.purge(gd);\n",
       "            observer.disconnect();\n",
       "        }}\n",
       "}});\n",
       "\n",
       "// Listen for the removal of the full notebook cells\n",
       "var notebookContainer = gd.closest('#notebook-container');\n",
       "if (notebookContainer) {{\n",
       "    x.observe(notebookContainer, {childList: true});\n",
       "}}\n",
       "\n",
       "// Listen for the clearing of the current output cell\n",
       "var outputEl = gd.closest('.output');\n",
       "if (outputEl) {{\n",
       "    x.observe(outputEl, {childList: true});\n",
       "}}\n",
       "\n",
       "                        })\n",
       "                };\n",
       "                });\n",
       "            </script>\n",
       "        </div>"
      ]
     },
     "metadata": {},
     "output_type": "display_data"
    }
   ],
   "source": [
    "top_songs(df_new)"
   ]
  },
  {
   "cell_type": "markdown",
   "metadata": {},
   "source": [
    "HENCE:assumption 1 prooved "
   ]
  },
  {
   "cell_type": "code",
   "execution_count": 84,
   "metadata": {},
   "outputs": [],
   "source": [
    "def not_top_songs(dataframe):\n",
    "    df2 = dataframe[dataframe['popularity'] ==0 ]\n",
    "    return plot_pca_scaler(\"loudness\",df2)"
   ]
  },
  {
   "cell_type": "code",
   "execution_count": 85,
   "metadata": {},
   "outputs": [
    {
     "name": "stdout",
     "output_type": "stream",
     "text": [
      "t-SNE starting.................\n",
      "[t-SNE] Computing 14 nearest neighbors...\n",
      "[t-SNE] Indexed 15 samples in 0.000s...\n",
      "[t-SNE] Computed neighbors for 15 samples in 0.005s...\n",
      "[t-SNE] Computed conditional probabilities for sample 15 / 15\n",
      "[t-SNE] Mean sigma: 1125899906842624.000000\n",
      "[t-SNE] KL divergence after 250 iterations with early exaggeration: 53.352432\n",
      "[t-SNE] KL divergence after 300 iterations: 1.854399\n",
      "......................t-SNE done\n"
     ]
    },
    {
     "data": {
      "application/vnd.plotly.v1+json": {
       "config": {
        "linkText": "Export to plot.ly",
        "plotlyServerURL": "https://plot.ly",
        "showLink": false
       },
       "data": [
        {
         "marker": {
          "color": [
           -6.09,
           -5.843,
           -7.23,
           -6.312,
           -10.068,
           -8.279,
           -5.934,
           -5.892,
           -5.944,
           -10.109,
           -7.365,
           -7.005,
           -6.318,
           -6.593,
           -6.319
          ],
          "size": 8
         },
         "mode": "markers",
         "text": [
          "Post Malone - rockstar (feat. 21 Savage)",
          "Post Malone - Better Now",
          "Juice WRLD - Lucid Dreams",
          "Ed Sheeran - Perfect",
          "XXXTENTACION - changes",
          "Sam Smith - Too Good At Goodbyes",
          "Ariana Grande - God is a woman",
          "David Guetta - Flames",
          "Post Malone - Candy Paint",
          "Billie Eilish - lovely (with Khalid)",
          "Ed Sheeran - Perfect Duet (Ed Sheeran & Beyonc?)",
          "Zac Efron - Rewrite The Stars",
          "Clean Bandit - I Miss You (feat. Julia Michaels)",
          "ZAYN - Dusk Till Dawn - Radio Edit",
          "Dean Lewis - Be Alright"
         ],
         "type": "scatter",
         "x": [
          -45.118446350097656,
          20.064651489257812,
          198.85247802734375,
          -48.407798767089844,
          64.72891998291016,
          36.08998489379883,
          -39.157474517822266,
          -49.75580596923828,
          76.12556457519531,
          -1274.43798828125,
          -270.40972900390625,
          -15.63638687133789,
          -190.64076232910156,
          -15.71937084197998,
          994.365966796875
         ],
         "y": [
          173.00758361816406,
          -32.50367736816406,
          -76.71472930908203,
          152.91583251953125,
          -164.72373962402344,
          -220.64791870117188,
          -16.642486572265625,
          118.0802001953125,
          -194.84085083007812,
          -630.7765502929688,
          65.41016387939453,
          56.23705291748047,
          178.64694213867188,
          -114.27678680419922,
          338.9549255371094
         ]
        }
       ],
       "layout": {
        "template": {
         "data": {
          "bar": [
           {
            "error_x": {
             "color": "#2a3f5f"
            },
            "error_y": {
             "color": "#2a3f5f"
            },
            "marker": {
             "line": {
              "color": "#E5ECF6",
              "width": 0.5
             }
            },
            "type": "bar"
           }
          ],
          "barpolar": [
           {
            "marker": {
             "line": {
              "color": "#E5ECF6",
              "width": 0.5
             }
            },
            "type": "barpolar"
           }
          ],
          "carpet": [
           {
            "aaxis": {
             "endlinecolor": "#2a3f5f",
             "gridcolor": "white",
             "linecolor": "white",
             "minorgridcolor": "white",
             "startlinecolor": "#2a3f5f"
            },
            "baxis": {
             "endlinecolor": "#2a3f5f",
             "gridcolor": "white",
             "linecolor": "white",
             "minorgridcolor": "white",
             "startlinecolor": "#2a3f5f"
            },
            "type": "carpet"
           }
          ],
          "choropleth": [
           {
            "colorbar": {
             "outlinewidth": 0,
             "ticks": ""
            },
            "type": "choropleth"
           }
          ],
          "contour": [
           {
            "colorbar": {
             "outlinewidth": 0,
             "ticks": ""
            },
            "colorscale": [
             [
              0,
              "#0d0887"
             ],
             [
              0.1111111111111111,
              "#46039f"
             ],
             [
              0.2222222222222222,
              "#7201a8"
             ],
             [
              0.3333333333333333,
              "#9c179e"
             ],
             [
              0.4444444444444444,
              "#bd3786"
             ],
             [
              0.5555555555555556,
              "#d8576b"
             ],
             [
              0.6666666666666666,
              "#ed7953"
             ],
             [
              0.7777777777777778,
              "#fb9f3a"
             ],
             [
              0.8888888888888888,
              "#fdca26"
             ],
             [
              1,
              "#f0f921"
             ]
            ],
            "type": "contour"
           }
          ],
          "contourcarpet": [
           {
            "colorbar": {
             "outlinewidth": 0,
             "ticks": ""
            },
            "type": "contourcarpet"
           }
          ],
          "heatmap": [
           {
            "colorbar": {
             "outlinewidth": 0,
             "ticks": ""
            },
            "colorscale": [
             [
              0,
              "#0d0887"
             ],
             [
              0.1111111111111111,
              "#46039f"
             ],
             [
              0.2222222222222222,
              "#7201a8"
             ],
             [
              0.3333333333333333,
              "#9c179e"
             ],
             [
              0.4444444444444444,
              "#bd3786"
             ],
             [
              0.5555555555555556,
              "#d8576b"
             ],
             [
              0.6666666666666666,
              "#ed7953"
             ],
             [
              0.7777777777777778,
              "#fb9f3a"
             ],
             [
              0.8888888888888888,
              "#fdca26"
             ],
             [
              1,
              "#f0f921"
             ]
            ],
            "type": "heatmap"
           }
          ],
          "heatmapgl": [
           {
            "colorbar": {
             "outlinewidth": 0,
             "ticks": ""
            },
            "colorscale": [
             [
              0,
              "#0d0887"
             ],
             [
              0.1111111111111111,
              "#46039f"
             ],
             [
              0.2222222222222222,
              "#7201a8"
             ],
             [
              0.3333333333333333,
              "#9c179e"
             ],
             [
              0.4444444444444444,
              "#bd3786"
             ],
             [
              0.5555555555555556,
              "#d8576b"
             ],
             [
              0.6666666666666666,
              "#ed7953"
             ],
             [
              0.7777777777777778,
              "#fb9f3a"
             ],
             [
              0.8888888888888888,
              "#fdca26"
             ],
             [
              1,
              "#f0f921"
             ]
            ],
            "type": "heatmapgl"
           }
          ],
          "histogram": [
           {
            "marker": {
             "colorbar": {
              "outlinewidth": 0,
              "ticks": ""
             }
            },
            "type": "histogram"
           }
          ],
          "histogram2d": [
           {
            "colorbar": {
             "outlinewidth": 0,
             "ticks": ""
            },
            "colorscale": [
             [
              0,
              "#0d0887"
             ],
             [
              0.1111111111111111,
              "#46039f"
             ],
             [
              0.2222222222222222,
              "#7201a8"
             ],
             [
              0.3333333333333333,
              "#9c179e"
             ],
             [
              0.4444444444444444,
              "#bd3786"
             ],
             [
              0.5555555555555556,
              "#d8576b"
             ],
             [
              0.6666666666666666,
              "#ed7953"
             ],
             [
              0.7777777777777778,
              "#fb9f3a"
             ],
             [
              0.8888888888888888,
              "#fdca26"
             ],
             [
              1,
              "#f0f921"
             ]
            ],
            "type": "histogram2d"
           }
          ],
          "histogram2dcontour": [
           {
            "colorbar": {
             "outlinewidth": 0,
             "ticks": ""
            },
            "colorscale": [
             [
              0,
              "#0d0887"
             ],
             [
              0.1111111111111111,
              "#46039f"
             ],
             [
              0.2222222222222222,
              "#7201a8"
             ],
             [
              0.3333333333333333,
              "#9c179e"
             ],
             [
              0.4444444444444444,
              "#bd3786"
             ],
             [
              0.5555555555555556,
              "#d8576b"
             ],
             [
              0.6666666666666666,
              "#ed7953"
             ],
             [
              0.7777777777777778,
              "#fb9f3a"
             ],
             [
              0.8888888888888888,
              "#fdca26"
             ],
             [
              1,
              "#f0f921"
             ]
            ],
            "type": "histogram2dcontour"
           }
          ],
          "mesh3d": [
           {
            "colorbar": {
             "outlinewidth": 0,
             "ticks": ""
            },
            "type": "mesh3d"
           }
          ],
          "parcoords": [
           {
            "line": {
             "colorbar": {
              "outlinewidth": 0,
              "ticks": ""
             }
            },
            "type": "parcoords"
           }
          ],
          "pie": [
           {
            "automargin": true,
            "type": "pie"
           }
          ],
          "scatter": [
           {
            "marker": {
             "colorbar": {
              "outlinewidth": 0,
              "ticks": ""
             }
            },
            "type": "scatter"
           }
          ],
          "scatter3d": [
           {
            "line": {
             "colorbar": {
              "outlinewidth": 0,
              "ticks": ""
             }
            },
            "marker": {
             "colorbar": {
              "outlinewidth": 0,
              "ticks": ""
             }
            },
            "type": "scatter3d"
           }
          ],
          "scattercarpet": [
           {
            "marker": {
             "colorbar": {
              "outlinewidth": 0,
              "ticks": ""
             }
            },
            "type": "scattercarpet"
           }
          ],
          "scattergeo": [
           {
            "marker": {
             "colorbar": {
              "outlinewidth": 0,
              "ticks": ""
             }
            },
            "type": "scattergeo"
           }
          ],
          "scattergl": [
           {
            "marker": {
             "colorbar": {
              "outlinewidth": 0,
              "ticks": ""
             }
            },
            "type": "scattergl"
           }
          ],
          "scattermapbox": [
           {
            "marker": {
             "colorbar": {
              "outlinewidth": 0,
              "ticks": ""
             }
            },
            "type": "scattermapbox"
           }
          ],
          "scatterpolar": [
           {
            "marker": {
             "colorbar": {
              "outlinewidth": 0,
              "ticks": ""
             }
            },
            "type": "scatterpolar"
           }
          ],
          "scatterpolargl": [
           {
            "marker": {
             "colorbar": {
              "outlinewidth": 0,
              "ticks": ""
             }
            },
            "type": "scatterpolargl"
           }
          ],
          "scatterternary": [
           {
            "marker": {
             "colorbar": {
              "outlinewidth": 0,
              "ticks": ""
             }
            },
            "type": "scatterternary"
           }
          ],
          "surface": [
           {
            "colorbar": {
             "outlinewidth": 0,
             "ticks": ""
            },
            "colorscale": [
             [
              0,
              "#0d0887"
             ],
             [
              0.1111111111111111,
              "#46039f"
             ],
             [
              0.2222222222222222,
              "#7201a8"
             ],
             [
              0.3333333333333333,
              "#9c179e"
             ],
             [
              0.4444444444444444,
              "#bd3786"
             ],
             [
              0.5555555555555556,
              "#d8576b"
             ],
             [
              0.6666666666666666,
              "#ed7953"
             ],
             [
              0.7777777777777778,
              "#fb9f3a"
             ],
             [
              0.8888888888888888,
              "#fdca26"
             ],
             [
              1,
              "#f0f921"
             ]
            ],
            "type": "surface"
           }
          ],
          "table": [
           {
            "cells": {
             "fill": {
              "color": "#EBF0F8"
             },
             "line": {
              "color": "white"
             }
            },
            "header": {
             "fill": {
              "color": "#C8D4E3"
             },
             "line": {
              "color": "white"
             }
            },
            "type": "table"
           }
          ]
         },
         "layout": {
          "annotationdefaults": {
           "arrowcolor": "#2a3f5f",
           "arrowhead": 0,
           "arrowwidth": 1
          },
          "coloraxis": {
           "colorbar": {
            "outlinewidth": 0,
            "ticks": ""
           }
          },
          "colorscale": {
           "diverging": [
            [
             0,
             "#8e0152"
            ],
            [
             0.1,
             "#c51b7d"
            ],
            [
             0.2,
             "#de77ae"
            ],
            [
             0.3,
             "#f1b6da"
            ],
            [
             0.4,
             "#fde0ef"
            ],
            [
             0.5,
             "#f7f7f7"
            ],
            [
             0.6,
             "#e6f5d0"
            ],
            [
             0.7,
             "#b8e186"
            ],
            [
             0.8,
             "#7fbc41"
            ],
            [
             0.9,
             "#4d9221"
            ],
            [
             1,
             "#276419"
            ]
           ],
           "sequential": [
            [
             0,
             "#0d0887"
            ],
            [
             0.1111111111111111,
             "#46039f"
            ],
            [
             0.2222222222222222,
             "#7201a8"
            ],
            [
             0.3333333333333333,
             "#9c179e"
            ],
            [
             0.4444444444444444,
             "#bd3786"
            ],
            [
             0.5555555555555556,
             "#d8576b"
            ],
            [
             0.6666666666666666,
             "#ed7953"
            ],
            [
             0.7777777777777778,
             "#fb9f3a"
            ],
            [
             0.8888888888888888,
             "#fdca26"
            ],
            [
             1,
             "#f0f921"
            ]
           ],
           "sequentialminus": [
            [
             0,
             "#0d0887"
            ],
            [
             0.1111111111111111,
             "#46039f"
            ],
            [
             0.2222222222222222,
             "#7201a8"
            ],
            [
             0.3333333333333333,
             "#9c179e"
            ],
            [
             0.4444444444444444,
             "#bd3786"
            ],
            [
             0.5555555555555556,
             "#d8576b"
            ],
            [
             0.6666666666666666,
             "#ed7953"
            ],
            [
             0.7777777777777778,
             "#fb9f3a"
            ],
            [
             0.8888888888888888,
             "#fdca26"
            ],
            [
             1,
             "#f0f921"
            ]
           ]
          },
          "colorway": [
           "#636efa",
           "#EF553B",
           "#00cc96",
           "#ab63fa",
           "#FFA15A",
           "#19d3f3",
           "#FF6692",
           "#B6E880",
           "#FF97FF",
           "#FECB52"
          ],
          "font": {
           "color": "#2a3f5f"
          },
          "geo": {
           "bgcolor": "white",
           "lakecolor": "white",
           "landcolor": "#E5ECF6",
           "showlakes": true,
           "showland": true,
           "subunitcolor": "white"
          },
          "hoverlabel": {
           "align": "left"
          },
          "hovermode": "closest",
          "mapbox": {
           "style": "light"
          },
          "paper_bgcolor": "white",
          "plot_bgcolor": "#E5ECF6",
          "polar": {
           "angularaxis": {
            "gridcolor": "white",
            "linecolor": "white",
            "ticks": ""
           },
           "bgcolor": "#E5ECF6",
           "radialaxis": {
            "gridcolor": "white",
            "linecolor": "white",
            "ticks": ""
           }
          },
          "scene": {
           "xaxis": {
            "backgroundcolor": "#E5ECF6",
            "gridcolor": "white",
            "gridwidth": 2,
            "linecolor": "white",
            "showbackground": true,
            "ticks": "",
            "zerolinecolor": "white"
           },
           "yaxis": {
            "backgroundcolor": "#E5ECF6",
            "gridcolor": "white",
            "gridwidth": 2,
            "linecolor": "white",
            "showbackground": true,
            "ticks": "",
            "zerolinecolor": "white"
           },
           "zaxis": {
            "backgroundcolor": "#E5ECF6",
            "gridcolor": "white",
            "gridwidth": 2,
            "linecolor": "white",
            "showbackground": true,
            "ticks": "",
            "zerolinecolor": "white"
           }
          },
          "shapedefaults": {
           "line": {
            "color": "#2a3f5f"
           }
          },
          "ternary": {
           "aaxis": {
            "gridcolor": "white",
            "linecolor": "white",
            "ticks": ""
           },
           "baxis": {
            "gridcolor": "white",
            "linecolor": "white",
            "ticks": ""
           },
           "bgcolor": "#E5ECF6",
           "caxis": {
            "gridcolor": "white",
            "linecolor": "white",
            "ticks": ""
           }
          },
          "title": {
           "x": 0.05
          },
          "xaxis": {
           "automargin": true,
           "gridcolor": "white",
           "linecolor": "white",
           "ticks": "",
           "title": {
            "standoff": 15
           },
           "zerolinecolor": "white",
           "zerolinewidth": 2
          },
          "yaxis": {
           "automargin": true,
           "gridcolor": "white",
           "linecolor": "white",
           "ticks": "",
           "title": {
            "standoff": 15
           },
           "zerolinecolor": "white",
           "zerolinewidth": 2
          }
         }
        },
        "xaxis": {
         "title": {
          "text": "x-tsne"
         }
        },
        "yaxis": {
         "title": {
          "text": "y-tsne"
         }
        }
       }
      },
      "text/html": [
       "<div>\n",
       "        \n",
       "        \n",
       "            <div id=\"e7dc134c-574e-4d00-825d-27afebe5f37d\" class=\"plotly-graph-div\" style=\"height:525px; width:100%;\"></div>\n",
       "            <script type=\"text/javascript\">\n",
       "                require([\"plotly\"], function(Plotly) {\n",
       "                    window.PLOTLYENV=window.PLOTLYENV || {};\n",
       "                    \n",
       "                if (document.getElementById(\"e7dc134c-574e-4d00-825d-27afebe5f37d\")) {\n",
       "                    Plotly.newPlot(\n",
       "                        'e7dc134c-574e-4d00-825d-27afebe5f37d',\n",
       "                        [{\"marker\": {\"color\": [-6.09, -5.843, -7.23, -6.312, -10.068, -8.279, -5.934, -5.892, -5.944, -10.109, -7.365, -7.005, -6.318, -6.593, -6.319], \"size\": 8}, \"mode\": \"markers\", \"text\": [\"Post Malone - rockstar (feat. 21 Savage)\", \"Post Malone - Better Now\", \"Juice WRLD - Lucid Dreams\", \"Ed Sheeran - Perfect\", \"XXXTENTACION - changes\", \"Sam Smith - Too Good At Goodbyes\", \"Ariana Grande - God is a woman\", \"David Guetta - Flames\", \"Post Malone - Candy Paint\", \"Billie Eilish - lovely (with Khalid)\", \"Ed Sheeran - Perfect Duet (Ed Sheeran & Beyonc?)\", \"Zac Efron - Rewrite The Stars\", \"Clean Bandit - I Miss You (feat. Julia Michaels)\", \"ZAYN - Dusk Till Dawn - Radio Edit\", \"Dean Lewis - Be Alright\"], \"type\": \"scatter\", \"x\": [-45.118446350097656, 20.064651489257812, 198.85247802734375, -48.407798767089844, 64.72891998291016, 36.08998489379883, -39.157474517822266, -49.75580596923828, 76.12556457519531, -1274.43798828125, -270.40972900390625, -15.63638687133789, -190.64076232910156, -15.71937084197998, 994.365966796875], \"y\": [173.00758361816406, -32.50367736816406, -76.71472930908203, 152.91583251953125, -164.72373962402344, -220.64791870117188, -16.642486572265625, 118.0802001953125, -194.84085083007812, -630.7765502929688, 65.41016387939453, 56.23705291748047, 178.64694213867188, -114.27678680419922, 338.9549255371094]}],\n",
       "                        {\"template\": {\"data\": {\"bar\": [{\"error_x\": {\"color\": \"#2a3f5f\"}, \"error_y\": {\"color\": \"#2a3f5f\"}, \"marker\": {\"line\": {\"color\": \"#E5ECF6\", \"width\": 0.5}}, \"type\": \"bar\"}], \"barpolar\": [{\"marker\": {\"line\": {\"color\": \"#E5ECF6\", \"width\": 0.5}}, \"type\": \"barpolar\"}], \"carpet\": [{\"aaxis\": {\"endlinecolor\": \"#2a3f5f\", \"gridcolor\": \"white\", \"linecolor\": \"white\", \"minorgridcolor\": \"white\", \"startlinecolor\": \"#2a3f5f\"}, \"baxis\": {\"endlinecolor\": \"#2a3f5f\", \"gridcolor\": \"white\", \"linecolor\": \"white\", \"minorgridcolor\": \"white\", \"startlinecolor\": \"#2a3f5f\"}, \"type\": \"carpet\"}], \"choropleth\": [{\"colorbar\": {\"outlinewidth\": 0, \"ticks\": \"\"}, \"type\": \"choropleth\"}], \"contour\": [{\"colorbar\": {\"outlinewidth\": 0, \"ticks\": \"\"}, \"colorscale\": [[0.0, \"#0d0887\"], [0.1111111111111111, \"#46039f\"], [0.2222222222222222, \"#7201a8\"], [0.3333333333333333, \"#9c179e\"], [0.4444444444444444, \"#bd3786\"], [0.5555555555555556, \"#d8576b\"], [0.6666666666666666, \"#ed7953\"], [0.7777777777777778, \"#fb9f3a\"], [0.8888888888888888, \"#fdca26\"], [1.0, \"#f0f921\"]], \"type\": \"contour\"}], \"contourcarpet\": [{\"colorbar\": {\"outlinewidth\": 0, \"ticks\": \"\"}, \"type\": \"contourcarpet\"}], \"heatmap\": [{\"colorbar\": {\"outlinewidth\": 0, \"ticks\": \"\"}, \"colorscale\": [[0.0, \"#0d0887\"], [0.1111111111111111, \"#46039f\"], [0.2222222222222222, \"#7201a8\"], [0.3333333333333333, \"#9c179e\"], [0.4444444444444444, \"#bd3786\"], [0.5555555555555556, \"#d8576b\"], [0.6666666666666666, \"#ed7953\"], [0.7777777777777778, \"#fb9f3a\"], [0.8888888888888888, \"#fdca26\"], [1.0, \"#f0f921\"]], \"type\": \"heatmap\"}], \"heatmapgl\": [{\"colorbar\": {\"outlinewidth\": 0, \"ticks\": \"\"}, \"colorscale\": [[0.0, \"#0d0887\"], [0.1111111111111111, \"#46039f\"], [0.2222222222222222, \"#7201a8\"], [0.3333333333333333, \"#9c179e\"], [0.4444444444444444, \"#bd3786\"], [0.5555555555555556, \"#d8576b\"], [0.6666666666666666, \"#ed7953\"], [0.7777777777777778, \"#fb9f3a\"], [0.8888888888888888, \"#fdca26\"], [1.0, \"#f0f921\"]], \"type\": \"heatmapgl\"}], \"histogram\": [{\"marker\": {\"colorbar\": {\"outlinewidth\": 0, \"ticks\": \"\"}}, \"type\": \"histogram\"}], \"histogram2d\": [{\"colorbar\": {\"outlinewidth\": 0, \"ticks\": \"\"}, \"colorscale\": [[0.0, \"#0d0887\"], [0.1111111111111111, \"#46039f\"], [0.2222222222222222, \"#7201a8\"], [0.3333333333333333, \"#9c179e\"], [0.4444444444444444, \"#bd3786\"], [0.5555555555555556, \"#d8576b\"], [0.6666666666666666, \"#ed7953\"], [0.7777777777777778, \"#fb9f3a\"], [0.8888888888888888, \"#fdca26\"], [1.0, \"#f0f921\"]], \"type\": \"histogram2d\"}], \"histogram2dcontour\": [{\"colorbar\": {\"outlinewidth\": 0, \"ticks\": \"\"}, \"colorscale\": [[0.0, \"#0d0887\"], [0.1111111111111111, \"#46039f\"], [0.2222222222222222, \"#7201a8\"], [0.3333333333333333, \"#9c179e\"], [0.4444444444444444, \"#bd3786\"], [0.5555555555555556, \"#d8576b\"], [0.6666666666666666, \"#ed7953\"], [0.7777777777777778, \"#fb9f3a\"], [0.8888888888888888, \"#fdca26\"], [1.0, \"#f0f921\"]], \"type\": \"histogram2dcontour\"}], \"mesh3d\": [{\"colorbar\": {\"outlinewidth\": 0, \"ticks\": \"\"}, \"type\": \"mesh3d\"}], \"parcoords\": [{\"line\": {\"colorbar\": {\"outlinewidth\": 0, \"ticks\": \"\"}}, \"type\": \"parcoords\"}], \"pie\": [{\"automargin\": true, \"type\": \"pie\"}], \"scatter\": [{\"marker\": {\"colorbar\": {\"outlinewidth\": 0, \"ticks\": \"\"}}, \"type\": \"scatter\"}], \"scatter3d\": [{\"line\": {\"colorbar\": {\"outlinewidth\": 0, \"ticks\": \"\"}}, \"marker\": {\"colorbar\": {\"outlinewidth\": 0, \"ticks\": \"\"}}, \"type\": \"scatter3d\"}], \"scattercarpet\": [{\"marker\": {\"colorbar\": {\"outlinewidth\": 0, \"ticks\": \"\"}}, \"type\": \"scattercarpet\"}], \"scattergeo\": [{\"marker\": {\"colorbar\": {\"outlinewidth\": 0, \"ticks\": \"\"}}, \"type\": \"scattergeo\"}], \"scattergl\": [{\"marker\": {\"colorbar\": {\"outlinewidth\": 0, \"ticks\": \"\"}}, \"type\": \"scattergl\"}], \"scattermapbox\": [{\"marker\": {\"colorbar\": {\"outlinewidth\": 0, \"ticks\": \"\"}}, \"type\": \"scattermapbox\"}], \"scatterpolar\": [{\"marker\": {\"colorbar\": {\"outlinewidth\": 0, \"ticks\": \"\"}}, \"type\": \"scatterpolar\"}], \"scatterpolargl\": [{\"marker\": {\"colorbar\": {\"outlinewidth\": 0, \"ticks\": \"\"}}, \"type\": \"scatterpolargl\"}], \"scatterternary\": [{\"marker\": {\"colorbar\": {\"outlinewidth\": 0, \"ticks\": \"\"}}, \"type\": \"scatterternary\"}], \"surface\": [{\"colorbar\": {\"outlinewidth\": 0, \"ticks\": \"\"}, \"colorscale\": [[0.0, \"#0d0887\"], [0.1111111111111111, \"#46039f\"], [0.2222222222222222, \"#7201a8\"], [0.3333333333333333, \"#9c179e\"], [0.4444444444444444, \"#bd3786\"], [0.5555555555555556, \"#d8576b\"], [0.6666666666666666, \"#ed7953\"], [0.7777777777777778, \"#fb9f3a\"], [0.8888888888888888, \"#fdca26\"], [1.0, \"#f0f921\"]], \"type\": \"surface\"}], \"table\": [{\"cells\": {\"fill\": {\"color\": \"#EBF0F8\"}, \"line\": {\"color\": \"white\"}}, \"header\": {\"fill\": {\"color\": \"#C8D4E3\"}, \"line\": {\"color\": \"white\"}}, \"type\": \"table\"}]}, \"layout\": {\"annotationdefaults\": {\"arrowcolor\": \"#2a3f5f\", \"arrowhead\": 0, \"arrowwidth\": 1}, \"coloraxis\": {\"colorbar\": {\"outlinewidth\": 0, \"ticks\": \"\"}}, \"colorscale\": {\"diverging\": [[0, \"#8e0152\"], [0.1, \"#c51b7d\"], [0.2, \"#de77ae\"], [0.3, \"#f1b6da\"], [0.4, \"#fde0ef\"], [0.5, \"#f7f7f7\"], [0.6, \"#e6f5d0\"], [0.7, \"#b8e186\"], [0.8, \"#7fbc41\"], [0.9, \"#4d9221\"], [1, \"#276419\"]], \"sequential\": [[0.0, \"#0d0887\"], [0.1111111111111111, \"#46039f\"], [0.2222222222222222, \"#7201a8\"], [0.3333333333333333, \"#9c179e\"], [0.4444444444444444, \"#bd3786\"], [0.5555555555555556, \"#d8576b\"], [0.6666666666666666, \"#ed7953\"], [0.7777777777777778, \"#fb9f3a\"], [0.8888888888888888, \"#fdca26\"], [1.0, \"#f0f921\"]], \"sequentialminus\": [[0.0, \"#0d0887\"], [0.1111111111111111, \"#46039f\"], [0.2222222222222222, \"#7201a8\"], [0.3333333333333333, \"#9c179e\"], [0.4444444444444444, \"#bd3786\"], [0.5555555555555556, \"#d8576b\"], [0.6666666666666666, \"#ed7953\"], [0.7777777777777778, \"#fb9f3a\"], [0.8888888888888888, \"#fdca26\"], [1.0, \"#f0f921\"]]}, \"colorway\": [\"#636efa\", \"#EF553B\", \"#00cc96\", \"#ab63fa\", \"#FFA15A\", \"#19d3f3\", \"#FF6692\", \"#B6E880\", \"#FF97FF\", \"#FECB52\"], \"font\": {\"color\": \"#2a3f5f\"}, \"geo\": {\"bgcolor\": \"white\", \"lakecolor\": \"white\", \"landcolor\": \"#E5ECF6\", \"showlakes\": true, \"showland\": true, \"subunitcolor\": \"white\"}, \"hoverlabel\": {\"align\": \"left\"}, \"hovermode\": \"closest\", \"mapbox\": {\"style\": \"light\"}, \"paper_bgcolor\": \"white\", \"plot_bgcolor\": \"#E5ECF6\", \"polar\": {\"angularaxis\": {\"gridcolor\": \"white\", \"linecolor\": \"white\", \"ticks\": \"\"}, \"bgcolor\": \"#E5ECF6\", \"radialaxis\": {\"gridcolor\": \"white\", \"linecolor\": \"white\", \"ticks\": \"\"}}, \"scene\": {\"xaxis\": {\"backgroundcolor\": \"#E5ECF6\", \"gridcolor\": \"white\", \"gridwidth\": 2, \"linecolor\": \"white\", \"showbackground\": true, \"ticks\": \"\", \"zerolinecolor\": \"white\"}, \"yaxis\": {\"backgroundcolor\": \"#E5ECF6\", \"gridcolor\": \"white\", \"gridwidth\": 2, \"linecolor\": \"white\", \"showbackground\": true, \"ticks\": \"\", \"zerolinecolor\": \"white\"}, \"zaxis\": {\"backgroundcolor\": \"#E5ECF6\", \"gridcolor\": \"white\", \"gridwidth\": 2, \"linecolor\": \"white\", \"showbackground\": true, \"ticks\": \"\", \"zerolinecolor\": \"white\"}}, \"shapedefaults\": {\"line\": {\"color\": \"#2a3f5f\"}}, \"ternary\": {\"aaxis\": {\"gridcolor\": \"white\", \"linecolor\": \"white\", \"ticks\": \"\"}, \"baxis\": {\"gridcolor\": \"white\", \"linecolor\": \"white\", \"ticks\": \"\"}, \"bgcolor\": \"#E5ECF6\", \"caxis\": {\"gridcolor\": \"white\", \"linecolor\": \"white\", \"ticks\": \"\"}}, \"title\": {\"x\": 0.05}, \"xaxis\": {\"automargin\": true, \"gridcolor\": \"white\", \"linecolor\": \"white\", \"ticks\": \"\", \"title\": {\"standoff\": 15}, \"zerolinecolor\": \"white\", \"zerolinewidth\": 2}, \"yaxis\": {\"automargin\": true, \"gridcolor\": \"white\", \"linecolor\": \"white\", \"ticks\": \"\", \"title\": {\"standoff\": 15}, \"zerolinecolor\": \"white\", \"zerolinewidth\": 2}}}, \"xaxis\": {\"title\": {\"text\": \"x-tsne\"}}, \"yaxis\": {\"title\": {\"text\": \"y-tsne\"}}},\n",
       "                        {\"responsive\": true}\n",
       "                    ).then(function(){\n",
       "                            \n",
       "var gd = document.getElementById('e7dc134c-574e-4d00-825d-27afebe5f37d');\n",
       "var x = new MutationObserver(function (mutations, observer) {{\n",
       "        var display = window.getComputedStyle(gd).display;\n",
       "        if (!display || display === 'none') {{\n",
       "            console.log([gd, 'removed!']);\n",
       "            Plotly.purge(gd);\n",
       "            observer.disconnect();\n",
       "        }}\n",
       "}});\n",
       "\n",
       "// Listen for the removal of the full notebook cells\n",
       "var notebookContainer = gd.closest('#notebook-container');\n",
       "if (notebookContainer) {{\n",
       "    x.observe(notebookContainer, {childList: true});\n",
       "}}\n",
       "\n",
       "// Listen for the clearing of the current output cell\n",
       "var outputEl = gd.closest('.output');\n",
       "if (outputEl) {{\n",
       "    x.observe(outputEl, {childList: true});\n",
       "}}\n",
       "\n",
       "                        })\n",
       "                };\n",
       "                });\n",
       "            </script>\n",
       "        </div>"
      ]
     },
     "metadata": {},
     "output_type": "display_data"
    }
   ],
   "source": [
    "not_top_songs(df_new)"
   ]
  },
  {
   "cell_type": "markdown",
   "metadata": {},
   "source": [
    "HENCE:assumption 2 also prooved "
   ]
  }
 ],
 "metadata": {
  "kernelspec": {
   "display_name": "Python 3",
   "language": "python",
   "name": "python3"
  },
  "language_info": {
   "codemirror_mode": {
    "name": "ipython",
    "version": 3
   },
   "file_extension": ".py",
   "mimetype": "text/x-python",
   "name": "python",
   "nbconvert_exporter": "python",
   "pygments_lexer": "ipython3",
   "version": "3.8.2"
  },
  "toc": {
   "base_numbering": 1,
   "nav_menu": {},
   "number_sections": true,
   "sideBar": true,
   "skip_h1_title": false,
   "title_cell": "Table of Contents",
   "title_sidebar": "Contents",
   "toc_cell": false,
   "toc_position": {
    "height": "calc(100% - 180px)",
    "left": "10px",
    "top": "150px",
    "width": "307.2px"
   },
   "toc_section_display": true,
   "toc_window_display": true
  },
  "varInspector": {
   "cols": {
    "lenName": 16,
    "lenType": 16,
    "lenVar": 40
   },
   "kernels_config": {
    "python": {
     "delete_cmd_postfix": "",
     "delete_cmd_prefix": "del ",
     "library": "var_list.py",
     "varRefreshCmd": "print(var_dic_list())"
    },
    "r": {
     "delete_cmd_postfix": ") ",
     "delete_cmd_prefix": "rm(",
     "library": "var_list.r",
     "varRefreshCmd": "cat(var_dic_list()) "
    }
   },
   "types_to_exclude": [
    "module",
    "function",
    "builtin_function_or_method",
    "instance",
    "_Feature"
   ],
   "window_display": false
  }
 },
 "nbformat": 4,
 "nbformat_minor": 2
}
