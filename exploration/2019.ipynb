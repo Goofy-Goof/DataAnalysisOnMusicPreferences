{
 "cells": [
  {
   "cell_type": "code",
   "execution_count": 12,
   "metadata": {},
   "outputs": [
    {
     "data": {
      "text/html": [
       "        <script type=\"text/javascript\">\n",
       "        window.PlotlyConfig = {MathJaxConfig: 'local'};\n",
       "        if (window.MathJax) {MathJax.Hub.Config({SVG: {font: \"STIX-Web\"}});}\n",
       "        if (typeof require !== 'undefined') {\n",
       "        require.undef(\"plotly\");\n",
       "        requirejs.config({\n",
       "            paths: {\n",
       "                'plotly': ['https://cdn.plot.ly/plotly-latest.min']\n",
       "            }\n",
       "        });\n",
       "        require(['plotly'], function(Plotly) {\n",
       "            window._Plotly = Plotly;\n",
       "        });\n",
       "        }\n",
       "        </script>\n",
       "        "
      ]
     },
     "metadata": {},
     "output_type": "display_data"
    }
   ],
   "source": [
    "import pandas as pd\n",
    "import numpy as np\n",
    "import seaborn as sns\n",
    "from matplotlib import pyplot as plt\n",
    "%matplotlib inline\n",
    "from textblob import TextBlob\n",
    "from sklearn.model_selection import train_test_split\n",
    "\n",
    "from xgboost import XGBClassifier\n",
    "from sklearn.ensemble import RandomForestClassifier\n",
    "from xgboost import plot_importance\n",
    "from sklearn.preprocessing import MinMaxScaler\n",
    "from sklearn.decomposition import PCA\n",
    "\n",
    "import plotly.offline as py\n",
    "py.init_notebook_mode(connected=True)\n",
    "import plotly.graph_objs as go\n",
    "import plotly.tools as tls\n"
   ]
  },
  {
   "cell_type": "code",
   "execution_count": 23,
   "metadata": {},
   "outputs": [],
   "source": [
    "df_2019 = pd.read_csv('../Data/2019_full_dataset2.csv')\n"
   ]
  },
  {
   "cell_type": "code",
   "execution_count": 24,
   "metadata": {},
   "outputs": [],
   "source": [
    "def data_properties(year):\n",
    "    print(\"properties for year are as follows :\\n\")\n",
    "    print(\"column details:\\n\")\n",
    "    print(year.columns)\n",
    "    print(\"shape:\\n\")\n",
    "    print(year.shape)\n",
    "    print(\"info about dataset:\\n\")\n",
    "    print(year.info())\n",
    "    print(\"\\n\")\n"
   ]
  },
  {
   "cell_type": "code",
   "execution_count": 25,
   "metadata": {},
   "outputs": [
    {
     "name": "stdout",
     "output_type": "stream",
     "text": [
      "properties for year are as follows :\n",
      "\n",
      "column details:\n",
      "\n",
      "Index(['Unnamed: 0', 'id', 'name', 'popularity', 'track.track_number',\n",
      "       'danceability', 'energy', 'key', 'loudness', 'mode', 'speechiness',\n",
      "       'acousticness', 'instrumentalness', 'liveness', 'valence', 'tempo',\n",
      "       'duration_ms', 'time_signature', 'artists'],\n",
      "      dtype='object')\n",
      "shape:\n",
      "\n",
      "(50, 19)\n",
      "info about dataset:\n",
      "\n",
      "<class 'pandas.core.frame.DataFrame'>\n",
      "RangeIndex: 50 entries, 0 to 49\n",
      "Data columns (total 19 columns):\n",
      " #   Column              Non-Null Count  Dtype  \n",
      "---  ------              --------------  -----  \n",
      " 0   Unnamed: 0          50 non-null     int64  \n",
      " 1   id                  50 non-null     object \n",
      " 2   name                50 non-null     object \n",
      " 3   popularity          50 non-null     int64  \n",
      " 4   track.track_number  50 non-null     int64  \n",
      " 5   danceability        50 non-null     float64\n",
      " 6   energy              50 non-null     float64\n",
      " 7   key                 50 non-null     int64  \n",
      " 8   loudness            50 non-null     float64\n",
      " 9   mode                50 non-null     int64  \n",
      " 10  speechiness         50 non-null     float64\n",
      " 11  acousticness        50 non-null     float64\n",
      " 12  instrumentalness    50 non-null     float64\n",
      " 13  liveness            50 non-null     float64\n",
      " 14  valence             50 non-null     float64\n",
      " 15  tempo               50 non-null     float64\n",
      " 16  duration_ms         50 non-null     int64  \n",
      " 17  time_signature      50 non-null     int64  \n",
      " 18  artists             50 non-null     object \n",
      "dtypes: float64(9), int64(7), object(3)\n",
      "memory usage: 7.5+ KB\n",
      "None\n",
      "\n",
      "\n"
     ]
    }
   ],
   "source": [
    "data_properties(df_2019)"
   ]
  },
  {
   "cell_type": "code",
   "execution_count": 26,
   "metadata": {},
   "outputs": [],
   "source": [
    "def checkfornull(year):\n",
    "    print(\"cheking for null values......\")\n",
    "    print(year.columns[year.isnull().any()])\n",
    "    output=year.isnull().sum()\n",
    "    return output "
   ]
  },
  {
   "cell_type": "code",
   "execution_count": 27,
   "metadata": {},
   "outputs": [
    {
     "name": "stdout",
     "output_type": "stream",
     "text": [
      "cheking for null values......\n",
      "Index([], dtype='object')\n"
     ]
    },
    {
     "data": {
      "text/plain": [
       "Unnamed: 0            0\n",
       "id                    0\n",
       "name                  0\n",
       "popularity            0\n",
       "track.track_number    0\n",
       "danceability          0\n",
       "energy                0\n",
       "key                   0\n",
       "loudness              0\n",
       "mode                  0\n",
       "speechiness           0\n",
       "acousticness          0\n",
       "instrumentalness      0\n",
       "liveness              0\n",
       "valence               0\n",
       "tempo                 0\n",
       "duration_ms           0\n",
       "time_signature        0\n",
       "artists               0\n",
       "dtype: int64"
      ]
     },
     "execution_count": 27,
     "metadata": {},
     "output_type": "execute_result"
    }
   ],
   "source": [
    "checkfornull(df_2019)"
   ]
  },
  {
   "cell_type": "code",
   "execution_count": 28,
   "metadata": {},
   "outputs": [],
   "source": [
    "# in the data we obsrve that all the data is not in float .So , in order to maintain a symetry,we will \n",
    "# convert the non float data to float data type\n",
    "\n",
    "def float_conversion(column,value):\n",
    "    column= pd.to_numeric(value, downcast=\"float\")\n",
    "    return column\n"
   ]
  },
  {
   "cell_type": "code",
   "execution_count": 29,
   "metadata": {},
   "outputs": [
    {
     "data": {
      "text/html": [
       "<div>\n",
       "<style scoped>\n",
       "    .dataframe tbody tr th:only-of-type {\n",
       "        vertical-align: middle;\n",
       "    }\n",
       "\n",
       "    .dataframe tbody tr th {\n",
       "        vertical-align: top;\n",
       "    }\n",
       "\n",
       "    .dataframe thead th {\n",
       "        text-align: right;\n",
       "    }\n",
       "</style>\n",
       "<table border=\"1\" class=\"dataframe\">\n",
       "  <thead>\n",
       "    <tr style=\"text-align: right;\">\n",
       "      <th></th>\n",
       "      <th>Unnamed: 0</th>\n",
       "      <th>id</th>\n",
       "      <th>name</th>\n",
       "      <th>popularity</th>\n",
       "      <th>track.track_number</th>\n",
       "      <th>danceability</th>\n",
       "      <th>energy</th>\n",
       "      <th>key</th>\n",
       "      <th>loudness</th>\n",
       "      <th>mode</th>\n",
       "      <th>speechiness</th>\n",
       "      <th>acousticness</th>\n",
       "      <th>instrumentalness</th>\n",
       "      <th>liveness</th>\n",
       "      <th>valence</th>\n",
       "      <th>tempo</th>\n",
       "      <th>duration_ms</th>\n",
       "      <th>time_signature</th>\n",
       "      <th>artists</th>\n",
       "    </tr>\n",
       "  </thead>\n",
       "  <tbody>\n",
       "    <tr>\n",
       "      <th>0</th>\n",
       "      <td>0</td>\n",
       "      <td>6v3KW9xbzN5yKLt9YKDYA2</td>\n",
       "      <td>Señorita</td>\n",
       "      <td>83</td>\n",
       "      <td>1</td>\n",
       "      <td>0.759</td>\n",
       "      <td>0.548</td>\n",
       "      <td>9</td>\n",
       "      <td>-6.049</td>\n",
       "      <td>0</td>\n",
       "      <td>0.0290</td>\n",
       "      <td>0.0392</td>\n",
       "      <td>0.00</td>\n",
       "      <td>0.0828</td>\n",
       "      <td>0.749</td>\n",
       "      <td>116.967</td>\n",
       "      <td>190800</td>\n",
       "      <td>4</td>\n",
       "      <td>Shawn Mendes</td>\n",
       "    </tr>\n",
       "    <tr>\n",
       "      <th>1</th>\n",
       "      <td>1</td>\n",
       "      <td>2Fxmhks0bxGSBdJ92vM42m</td>\n",
       "      <td>bad guy</td>\n",
       "      <td>90</td>\n",
       "      <td>2</td>\n",
       "      <td>0.701</td>\n",
       "      <td>0.425</td>\n",
       "      <td>7</td>\n",
       "      <td>-10.965</td>\n",
       "      <td>1</td>\n",
       "      <td>0.3750</td>\n",
       "      <td>0.3280</td>\n",
       "      <td>0.13</td>\n",
       "      <td>0.1000</td>\n",
       "      <td>0.562</td>\n",
       "      <td>135.128</td>\n",
       "      <td>194088</td>\n",
       "      <td>4</td>\n",
       "      <td>Billie Eilish</td>\n",
       "    </tr>\n",
       "    <tr>\n",
       "      <th>2</th>\n",
       "      <td>2</td>\n",
       "      <td>0RiRZpuVRbi7oqRdSMwhQY</td>\n",
       "      <td>Sunflower - Spider-Man: Into the Spider-Verse</td>\n",
       "      <td>83</td>\n",
       "      <td>12</td>\n",
       "      <td>0.755</td>\n",
       "      <td>0.522</td>\n",
       "      <td>2</td>\n",
       "      <td>-4.368</td>\n",
       "      <td>1</td>\n",
       "      <td>0.0575</td>\n",
       "      <td>0.5330</td>\n",
       "      <td>0.00</td>\n",
       "      <td>0.0685</td>\n",
       "      <td>0.925</td>\n",
       "      <td>89.960</td>\n",
       "      <td>157560</td>\n",
       "      <td>4</td>\n",
       "      <td>Post Malone</td>\n",
       "    </tr>\n",
       "    <tr>\n",
       "      <th>3</th>\n",
       "      <td>3</td>\n",
       "      <td>6ocbgoVGwYJhOv1GgI9NsF</td>\n",
       "      <td>7 rings</td>\n",
       "      <td>86</td>\n",
       "      <td>10</td>\n",
       "      <td>0.778</td>\n",
       "      <td>0.317</td>\n",
       "      <td>1</td>\n",
       "      <td>-10.732</td>\n",
       "      <td>0</td>\n",
       "      <td>0.3340</td>\n",
       "      <td>0.5920</td>\n",
       "      <td>0.00</td>\n",
       "      <td>0.0881</td>\n",
       "      <td>0.327</td>\n",
       "      <td>140.048</td>\n",
       "      <td>178627</td>\n",
       "      <td>4</td>\n",
       "      <td>Ariana Grande</td>\n",
       "    </tr>\n",
       "    <tr>\n",
       "      <th>4</th>\n",
       "      <td>4</td>\n",
       "      <td>2YpeDb67231RjR0MgVLzsG</td>\n",
       "      <td>Old Town Road - Remix</td>\n",
       "      <td>85</td>\n",
       "      <td>1</td>\n",
       "      <td>0.878</td>\n",
       "      <td>0.619</td>\n",
       "      <td>6</td>\n",
       "      <td>-5.560</td>\n",
       "      <td>1</td>\n",
       "      <td>0.1020</td>\n",
       "      <td>0.0533</td>\n",
       "      <td>0.00</td>\n",
       "      <td>0.1130</td>\n",
       "      <td>0.639</td>\n",
       "      <td>136.041</td>\n",
       "      <td>157067</td>\n",
       "      <td>4</td>\n",
       "      <td>Lil Nas X</td>\n",
       "    </tr>\n",
       "  </tbody>\n",
       "</table>\n",
       "</div>"
      ],
      "text/plain": [
       "   Unnamed: 0                      id  \\\n",
       "0           0  6v3KW9xbzN5yKLt9YKDYA2   \n",
       "1           1  2Fxmhks0bxGSBdJ92vM42m   \n",
       "2           2  0RiRZpuVRbi7oqRdSMwhQY   \n",
       "3           3  6ocbgoVGwYJhOv1GgI9NsF   \n",
       "4           4  2YpeDb67231RjR0MgVLzsG   \n",
       "\n",
       "                                            name  popularity  \\\n",
       "0                                       Señorita          83   \n",
       "1                                        bad guy          90   \n",
       "2  Sunflower - Spider-Man: Into the Spider-Verse          83   \n",
       "3                                        7 rings          86   \n",
       "4                          Old Town Road - Remix          85   \n",
       "\n",
       "   track.track_number  danceability  energy  key  loudness  mode  speechiness  \\\n",
       "0                   1         0.759   0.548    9    -6.049     0       0.0290   \n",
       "1                   2         0.701   0.425    7   -10.965     1       0.3750   \n",
       "2                  12         0.755   0.522    2    -4.368     1       0.0575   \n",
       "3                  10         0.778   0.317    1   -10.732     0       0.3340   \n",
       "4                   1         0.878   0.619    6    -5.560     1       0.1020   \n",
       "\n",
       "   acousticness  instrumentalness  liveness  valence    tempo  duration_ms  \\\n",
       "0        0.0392              0.00    0.0828    0.749  116.967       190800   \n",
       "1        0.3280              0.13    0.1000    0.562  135.128       194088   \n",
       "2        0.5330              0.00    0.0685    0.925   89.960       157560   \n",
       "3        0.5920              0.00    0.0881    0.327  140.048       178627   \n",
       "4        0.0533              0.00    0.1130    0.639  136.041       157067   \n",
       "\n",
       "   time_signature        artists  \n",
       "0               4   Shawn Mendes  \n",
       "1               4  Billie Eilish  \n",
       "2               4    Post Malone  \n",
       "3               4  Ariana Grande  \n",
       "4               4      Lil Nas X  "
      ]
     },
     "execution_count": 29,
     "metadata": {},
     "output_type": "execute_result"
    }
   ],
   "source": [
    "float_conversion(df_2019.mode,df_2019[\"mode\"])\n",
    "float_conversion(df_2019.duration_ms,df_2019[\"duration_ms\"])\n",
    "float_conversion(df_2019.time_signature,df_2019[\"time_signature\"])\n",
    "\n",
    "df_2019.head()\n"
   ]
  },
  {
   "cell_type": "code",
   "execution_count": 30,
   "metadata": {},
   "outputs": [],
   "source": [
    "def understand_feature(feature):\n",
    "    return feature.describe()\n"
   ]
  },
  {
   "cell_type": "code",
   "execution_count": 31,
   "metadata": {},
   "outputs": [
    {
     "name": "stdout",
     "output_type": "stream",
     "text": [
      "overall danceability feature\n",
      "\n"
     ]
    },
    {
     "data": {
      "text/plain": [
       "count    50.000000\n",
       "mean      0.719400\n",
       "std       0.130358\n",
       "min       0.351000\n",
       "25%       0.657500\n",
       "50%       0.743000\n",
       "75%       0.814500\n",
       "max       0.907000\n",
       "Name: danceability, dtype: float64"
      ]
     },
     "execution_count": 31,
     "metadata": {},
     "output_type": "execute_result"
    }
   ],
   "source": [
    "#The higher the value, the easier it is to dance to this song.\n",
    "print(\"overall danceability feature\\n\")\n",
    "understand_feature(df_2019[\"danceability\"])\n"
   ]
  },
  {
   "cell_type": "code",
   "execution_count": 32,
   "metadata": {},
   "outputs": [
    {
     "name": "stdout",
     "output_type": "stream",
     "text": [
      "top 10  danceability feature\n",
      "\n"
     ]
    },
    {
     "data": {
      "text/plain": [
       "count    10.000000\n",
       "mean      0.730800\n",
       "std       0.114692\n",
       "min       0.501000\n",
       "25%       0.710000\n",
       "50%       0.757000\n",
       "75%       0.793000\n",
       "max       0.878000\n",
       "Name: danceability, dtype: float64"
      ]
     },
     "execution_count": 32,
     "metadata": {},
     "output_type": "execute_result"
    }
   ],
   "source": [
    "print(\"top 10  danceability feature\\n\")\n",
    "understand_feature(df_2019[\"danceability\"].head(10))\n",
    "\n"
   ]
  },
  {
   "cell_type": "code",
   "execution_count": 35,
   "metadata": {},
   "outputs": [
    {
     "name": "stdout",
     "output_type": "stream",
     "text": [
      "1    41\n",
      "0     9\n",
      "Name: dancebility_new, dtype: int64\n"
     ]
    }
   ],
   "source": [
    "#sorting out more danceble songs \n",
    "df_2019['dancebility_new']=df_2019['danceability']\n",
    "df_2019.loc[df_2019['danceability']>=0.6000,'dancebility_new']='1'\n",
    "df_2019.loc[(df_2019['danceability']<0.6000),'dancebility_new']='0'\n",
    "\n",
    "print(df_2019['dancebility_new'].value_counts())"
   ]
  },
  {
   "cell_type": "code",
   "execution_count": 36,
   "metadata": {},
   "outputs": [
    {
     "name": "stdout",
     "output_type": "stream",
     "text": [
      "top 10  energy  feature\n",
      "\n"
     ]
    },
    {
     "data": {
      "text/plain": [
       "count    10.000000\n",
       "mean      0.529600\n",
       "std       0.160433\n",
       "min       0.317000\n",
       "25%       0.410000\n",
       "50%       0.530500\n",
       "75%       0.601250\n",
       "max       0.860000\n",
       "Name: energy, dtype: float64"
      ]
     },
     "execution_count": 36,
     "metadata": {},
     "output_type": "execute_result"
    }
   ],
   "source": [
    "print(\"top 10  energy  feature\\n\")\n",
    "understand_feature(df_2019[\"energy\"].head(10))"
   ]
  },
  {
   "cell_type": "code",
   "execution_count": 37,
   "metadata": {},
   "outputs": [],
   "source": [
    "#understanding beats per minute i.e tempo of the song\n",
    "#here we do classification of the tempo on the bases of beats per min \n",
    "#REf:https://www.musical-u.com/learn/rhythm-tips-for-identifying-music-genres-by-ear/\n",
    "df_2019['tempo_rate']=df_2019['tempo']\n"
   ]
  },
  {
   "cell_type": "code",
   "execution_count": 38,
   "metadata": {},
   "outputs": [],
   "source": [
    "df_2019.loc[df_2019['tempo']<65,'tempo_rate']='very slow'\n",
    "df_2019.loc[(df_2019['tempo']>=66) & (df_2019['tempo']<=76),'tempo_rate']='slow'\n",
    "df_2019.loc[(df_2019['tempo']>=76) & (df_2019['tempo']<=108),'tempo_rate']='moderate'\n",
    "df_2019.loc[(df_2019['tempo']>=110) & (df_2019['tempo']<=168),'tempo_rate']='fast'\n",
    "df_2019.loc[df_2019['tempo']>168,'tempo_rate']='very fast'\n"
   ]
  },
  {
   "cell_type": "code",
   "execution_count": 39,
   "metadata": {},
   "outputs": [
    {
     "name": "stdout",
     "output_type": "stream",
     "text": [
      "Tempo Rate\tCount\n",
      "\n",
      "moderate     22\n",
      "fast         21\n",
      "very fast     5\n",
      "slow          1\n",
      "109.891       1\n",
      "Name: tempo_rate, dtype: int64\n",
      "\n",
      "\n"
     ]
    },
    {
     "data": {
      "text/html": [
       "<div>\n",
       "<style scoped>\n",
       "    .dataframe tbody tr th:only-of-type {\n",
       "        vertical-align: middle;\n",
       "    }\n",
       "\n",
       "    .dataframe tbody tr th {\n",
       "        vertical-align: top;\n",
       "    }\n",
       "\n",
       "    .dataframe thead th {\n",
       "        text-align: right;\n",
       "    }\n",
       "</style>\n",
       "<table border=\"1\" class=\"dataframe\">\n",
       "  <thead>\n",
       "    <tr style=\"text-align: right;\">\n",
       "      <th></th>\n",
       "      <th>Unnamed: 0</th>\n",
       "      <th>id</th>\n",
       "      <th>name</th>\n",
       "      <th>popularity</th>\n",
       "      <th>track.track_number</th>\n",
       "      <th>danceability</th>\n",
       "      <th>energy</th>\n",
       "      <th>key</th>\n",
       "      <th>loudness</th>\n",
       "      <th>mode</th>\n",
       "      <th>...</th>\n",
       "      <th>acousticness</th>\n",
       "      <th>instrumentalness</th>\n",
       "      <th>liveness</th>\n",
       "      <th>valence</th>\n",
       "      <th>tempo</th>\n",
       "      <th>duration_ms</th>\n",
       "      <th>time_signature</th>\n",
       "      <th>artists</th>\n",
       "      <th>dancebility_new</th>\n",
       "      <th>tempo_rate</th>\n",
       "    </tr>\n",
       "  </thead>\n",
       "  <tbody>\n",
       "    <tr>\n",
       "      <th>0</th>\n",
       "      <td>0</td>\n",
       "      <td>6v3KW9xbzN5yKLt9YKDYA2</td>\n",
       "      <td>Señorita</td>\n",
       "      <td>83</td>\n",
       "      <td>1</td>\n",
       "      <td>0.759</td>\n",
       "      <td>0.548</td>\n",
       "      <td>9</td>\n",
       "      <td>-6.049</td>\n",
       "      <td>0</td>\n",
       "      <td>...</td>\n",
       "      <td>0.0392</td>\n",
       "      <td>0.00</td>\n",
       "      <td>0.0828</td>\n",
       "      <td>0.749</td>\n",
       "      <td>116.967</td>\n",
       "      <td>190800</td>\n",
       "      <td>4</td>\n",
       "      <td>Shawn Mendes</td>\n",
       "      <td>1</td>\n",
       "      <td>fast</td>\n",
       "    </tr>\n",
       "    <tr>\n",
       "      <th>1</th>\n",
       "      <td>1</td>\n",
       "      <td>2Fxmhks0bxGSBdJ92vM42m</td>\n",
       "      <td>bad guy</td>\n",
       "      <td>90</td>\n",
       "      <td>2</td>\n",
       "      <td>0.701</td>\n",
       "      <td>0.425</td>\n",
       "      <td>7</td>\n",
       "      <td>-10.965</td>\n",
       "      <td>1</td>\n",
       "      <td>...</td>\n",
       "      <td>0.3280</td>\n",
       "      <td>0.13</td>\n",
       "      <td>0.1000</td>\n",
       "      <td>0.562</td>\n",
       "      <td>135.128</td>\n",
       "      <td>194088</td>\n",
       "      <td>4</td>\n",
       "      <td>Billie Eilish</td>\n",
       "      <td>1</td>\n",
       "      <td>fast</td>\n",
       "    </tr>\n",
       "    <tr>\n",
       "      <th>2</th>\n",
       "      <td>2</td>\n",
       "      <td>0RiRZpuVRbi7oqRdSMwhQY</td>\n",
       "      <td>Sunflower - Spider-Man: Into the Spider-Verse</td>\n",
       "      <td>83</td>\n",
       "      <td>12</td>\n",
       "      <td>0.755</td>\n",
       "      <td>0.522</td>\n",
       "      <td>2</td>\n",
       "      <td>-4.368</td>\n",
       "      <td>1</td>\n",
       "      <td>...</td>\n",
       "      <td>0.5330</td>\n",
       "      <td>0.00</td>\n",
       "      <td>0.0685</td>\n",
       "      <td>0.925</td>\n",
       "      <td>89.960</td>\n",
       "      <td>157560</td>\n",
       "      <td>4</td>\n",
       "      <td>Post Malone</td>\n",
       "      <td>1</td>\n",
       "      <td>moderate</td>\n",
       "    </tr>\n",
       "    <tr>\n",
       "      <th>3</th>\n",
       "      <td>3</td>\n",
       "      <td>6ocbgoVGwYJhOv1GgI9NsF</td>\n",
       "      <td>7 rings</td>\n",
       "      <td>86</td>\n",
       "      <td>10</td>\n",
       "      <td>0.778</td>\n",
       "      <td>0.317</td>\n",
       "      <td>1</td>\n",
       "      <td>-10.732</td>\n",
       "      <td>0</td>\n",
       "      <td>...</td>\n",
       "      <td>0.5920</td>\n",
       "      <td>0.00</td>\n",
       "      <td>0.0881</td>\n",
       "      <td>0.327</td>\n",
       "      <td>140.048</td>\n",
       "      <td>178627</td>\n",
       "      <td>4</td>\n",
       "      <td>Ariana Grande</td>\n",
       "      <td>1</td>\n",
       "      <td>fast</td>\n",
       "    </tr>\n",
       "    <tr>\n",
       "      <th>4</th>\n",
       "      <td>4</td>\n",
       "      <td>2YpeDb67231RjR0MgVLzsG</td>\n",
       "      <td>Old Town Road - Remix</td>\n",
       "      <td>85</td>\n",
       "      <td>1</td>\n",
       "      <td>0.878</td>\n",
       "      <td>0.619</td>\n",
       "      <td>6</td>\n",
       "      <td>-5.560</td>\n",
       "      <td>1</td>\n",
       "      <td>...</td>\n",
       "      <td>0.0533</td>\n",
       "      <td>0.00</td>\n",
       "      <td>0.1130</td>\n",
       "      <td>0.639</td>\n",
       "      <td>136.041</td>\n",
       "      <td>157067</td>\n",
       "      <td>4</td>\n",
       "      <td>Lil Nas X</td>\n",
       "      <td>1</td>\n",
       "      <td>fast</td>\n",
       "    </tr>\n",
       "  </tbody>\n",
       "</table>\n",
       "<p>5 rows × 21 columns</p>\n",
       "</div>"
      ],
      "text/plain": [
       "   Unnamed: 0                      id  \\\n",
       "0           0  6v3KW9xbzN5yKLt9YKDYA2   \n",
       "1           1  2Fxmhks0bxGSBdJ92vM42m   \n",
       "2           2  0RiRZpuVRbi7oqRdSMwhQY   \n",
       "3           3  6ocbgoVGwYJhOv1GgI9NsF   \n",
       "4           4  2YpeDb67231RjR0MgVLzsG   \n",
       "\n",
       "                                            name  popularity  \\\n",
       "0                                       Señorita          83   \n",
       "1                                        bad guy          90   \n",
       "2  Sunflower - Spider-Man: Into the Spider-Verse          83   \n",
       "3                                        7 rings          86   \n",
       "4                          Old Town Road - Remix          85   \n",
       "\n",
       "   track.track_number  danceability  energy  key  loudness  mode  ...  \\\n",
       "0                   1         0.759   0.548    9    -6.049     0  ...   \n",
       "1                   2         0.701   0.425    7   -10.965     1  ...   \n",
       "2                  12         0.755   0.522    2    -4.368     1  ...   \n",
       "3                  10         0.778   0.317    1   -10.732     0  ...   \n",
       "4                   1         0.878   0.619    6    -5.560     1  ...   \n",
       "\n",
       "   acousticness  instrumentalness  liveness  valence    tempo  duration_ms  \\\n",
       "0        0.0392              0.00    0.0828    0.749  116.967       190800   \n",
       "1        0.3280              0.13    0.1000    0.562  135.128       194088   \n",
       "2        0.5330              0.00    0.0685    0.925   89.960       157560   \n",
       "3        0.5920              0.00    0.0881    0.327  140.048       178627   \n",
       "4        0.0533              0.00    0.1130    0.639  136.041       157067   \n",
       "\n",
       "   time_signature        artists dancebility_new tempo_rate  \n",
       "0               4   Shawn Mendes               1       fast  \n",
       "1               4  Billie Eilish               1       fast  \n",
       "2               4    Post Malone               1   moderate  \n",
       "3               4  Ariana Grande               1       fast  \n",
       "4               4      Lil Nas X               1       fast  \n",
       "\n",
       "[5 rows x 21 columns]"
      ]
     },
     "execution_count": 39,
     "metadata": {},
     "output_type": "execute_result"
    }
   ],
   "source": [
    "print(\"Tempo Rate\\tCount\\n\")\n",
    "print(df_2019['tempo_rate'].value_counts())\n",
    "print(\"\\n\")\n",
    "df_2019.head()"
   ]
  },
  {
   "cell_type": "code",
   "execution_count": 40,
   "metadata": {},
   "outputs": [
    {
     "data": {
      "image/png": "[encoded data removed]",
      "text/plain": [
       "<Figure size 432x288 with 1 Axes>"
      ]
     },
     "metadata": {
      "needs_background": "light"
     },
     "output_type": "display_data"
    }
   ],
   "source": [
    "sns.barplot(x=pd.DataFrame(df_2019['tempo_rate'].value_counts()).tempo_rate, \n",
    "            y=pd.DataFrame(df_2019['tempo_rate'].value_counts()).index\n",
    "           )\n",
    "plt.title('music tempo');"
   ]
  },
  {
   "cell_type": "markdown",
   "metadata": {},
   "source": [
    "sort the songs on the bases of important parametes like :"
   ]
  },
  {
   "cell_type": "code",
   "execution_count": 41,
   "metadata": {},
   "outputs": [
    {
     "data": {
      "text/html": [
       "<div>\n",
       "<style scoped>\n",
       "    .dataframe tbody tr th:only-of-type {\n",
       "        vertical-align: middle;\n",
       "    }\n",
       "\n",
       "    .dataframe tbody tr th {\n",
       "        vertical-align: top;\n",
       "    }\n",
       "\n",
       "    .dataframe thead th {\n",
       "        text-align: right;\n",
       "    }\n",
       "</style>\n",
       "<table border=\"1\" class=\"dataframe\">\n",
       "  <thead>\n",
       "    <tr style=\"text-align: right;\">\n",
       "      <th></th>\n",
       "      <th>name</th>\n",
       "      <th>artists</th>\n",
       "      <th>danceability</th>\n",
       "      <th>valence</th>\n",
       "      <th>tempo</th>\n",
       "      <th>tempo_rate</th>\n",
       "      <th>energy</th>\n",
       "    </tr>\n",
       "  </thead>\n",
       "  <tbody>\n",
       "    <tr>\n",
       "      <th>18</th>\n",
       "      <td>Old Town Road</td>\n",
       "      <td>Lil Nas X</td>\n",
       "      <td>0.907</td>\n",
       "      <td>0.507</td>\n",
       "      <td>135.998</td>\n",
       "      <td>fast</td>\n",
       "      <td>0.530</td>\n",
       "    </tr>\n",
       "    <tr>\n",
       "      <th>17</th>\n",
       "      <td>bury a friend</td>\n",
       "      <td>Billie Eilish</td>\n",
       "      <td>0.905</td>\n",
       "      <td>0.196</td>\n",
       "      <td>120.046</td>\n",
       "      <td>fast</td>\n",
       "      <td>0.389</td>\n",
       "    </tr>\n",
       "    <tr>\n",
       "      <th>19</th>\n",
       "      <td>Talk (feat. Disclosure)</td>\n",
       "      <td>Khalid</td>\n",
       "      <td>0.901</td>\n",
       "      <td>0.346</td>\n",
       "      <td>135.984</td>\n",
       "      <td>fast</td>\n",
       "      <td>0.400</td>\n",
       "    </tr>\n",
       "    <tr>\n",
       "      <th>31</th>\n",
       "      <td>Going Bad (feat. Drake)</td>\n",
       "      <td>Meek Mill</td>\n",
       "      <td>0.889</td>\n",
       "      <td>0.544</td>\n",
       "      <td>86.003</td>\n",
       "      <td>moderate</td>\n",
       "      <td>0.496</td>\n",
       "    </tr>\n",
       "    <tr>\n",
       "      <th>4</th>\n",
       "      <td>Old Town Road - Remix</td>\n",
       "      <td>Lil Nas X</td>\n",
       "      <td>0.878</td>\n",
       "      <td>0.639</td>\n",
       "      <td>136.041</td>\n",
       "      <td>fast</td>\n",
       "      <td>0.619</td>\n",
       "    </tr>\n",
       "    <tr>\n",
       "      <th>27</th>\n",
       "      <td>Taki Taki (feat. Selena Gomez, Ozuna &amp; Cardi B)</td>\n",
       "      <td>DJ Snake</td>\n",
       "      <td>0.842</td>\n",
       "      <td>0.617</td>\n",
       "      <td>95.881</td>\n",
       "      <td>moderate</td>\n",
       "      <td>0.801</td>\n",
       "    </tr>\n",
       "    <tr>\n",
       "      <th>14</th>\n",
       "      <td>Sucker</td>\n",
       "      <td>Jonas Brothers</td>\n",
       "      <td>0.842</td>\n",
       "      <td>0.952</td>\n",
       "      <td>137.958</td>\n",
       "      <td>fast</td>\n",
       "      <td>0.734</td>\n",
       "    </tr>\n",
       "    <tr>\n",
       "      <th>24</th>\n",
       "      <td>MIDDLE CHILD</td>\n",
       "      <td>J. Cole</td>\n",
       "      <td>0.837</td>\n",
       "      <td>0.463</td>\n",
       "      <td>123.984</td>\n",
       "      <td>fast</td>\n",
       "      <td>0.364</td>\n",
       "    </tr>\n",
       "    <tr>\n",
       "      <th>30</th>\n",
       "      <td>SICKO MODE</td>\n",
       "      <td>Travis Scott</td>\n",
       "      <td>0.834</td>\n",
       "      <td>0.446</td>\n",
       "      <td>155.008</td>\n",
       "      <td>fast</td>\n",
       "      <td>0.730</td>\n",
       "    </tr>\n",
       "    <tr>\n",
       "      <th>6</th>\n",
       "      <td>Wow.</td>\n",
       "      <td>Post Malone</td>\n",
       "      <td>0.829</td>\n",
       "      <td>0.388</td>\n",
       "      <td>99.960</td>\n",
       "      <td>moderate</td>\n",
       "      <td>0.539</td>\n",
       "    </tr>\n",
       "  </tbody>\n",
       "</table>\n",
       "</div>"
      ],
      "text/plain": [
       "                                               name         artists  \\\n",
       "18                                    Old Town Road       Lil Nas X   \n",
       "17                                    bury a friend   Billie Eilish   \n",
       "19                          Talk (feat. Disclosure)          Khalid   \n",
       "31                          Going Bad (feat. Drake)       Meek Mill   \n",
       "4                             Old Town Road - Remix       Lil Nas X   \n",
       "27  Taki Taki (feat. Selena Gomez, Ozuna & Cardi B)        DJ Snake   \n",
       "14                                           Sucker  Jonas Brothers   \n",
       "24                                     MIDDLE CHILD         J. Cole   \n",
       "30                                       SICKO MODE    Travis Scott   \n",
       "6                                              Wow.     Post Malone   \n",
       "\n",
       "    danceability  valence    tempo tempo_rate  energy  \n",
       "18         0.907    0.507  135.998       fast   0.530  \n",
       "17         0.905    0.196  120.046       fast   0.389  \n",
       "19         0.901    0.346  135.984       fast   0.400  \n",
       "31         0.889    0.544   86.003   moderate   0.496  \n",
       "4          0.878    0.639  136.041       fast   0.619  \n",
       "27         0.842    0.617   95.881   moderate   0.801  \n",
       "14         0.842    0.952  137.958       fast   0.734  \n",
       "24         0.837    0.463  123.984       fast   0.364  \n",
       "30         0.834    0.446  155.008       fast   0.730  \n",
       "6          0.829    0.388   99.960   moderate   0.539  "
      ]
     },
     "execution_count": 41,
     "metadata": {},
     "output_type": "execute_result"
    }
   ],
   "source": [
    "df_2019[['name','artists','danceability','valence','tempo','tempo_rate','energy']].sort_values(by=[\"danceability\",\"energy\",\"valence\"],ascending=False).head(10)"
   ]
  },
  {
   "cell_type": "markdown",
   "metadata": {},
   "source": [
    "as we can see that these features collectively couldn't generate the sorted manner of artist as expected.We need to change our approach and include more features \n",
    "### Analysing top artists\n",
    "Analysing Top artists will give us a better idea about the feature importance "
   ]
  },
  {
   "cell_type": "code",
   "execution_count": 47,
   "metadata": {},
   "outputs": [
    {
     "name": "stdout",
     "output_type": "stream",
     "text": [
      "Artist\t\tSongs\n",
      "\n",
      "Post Malone      5\n",
      "Billie Eilish    4\n",
      "Ariana Grande    3\n",
      "Shawn Mendes     2\n",
      "Anuel AA         2\n",
      "Lil Nas X        2\n",
      "Bad Bunny        2\n",
      "Ed Sheeran       2\n",
      "Lizzo            1\n",
      "Pedro Capó       1\n",
      "Khalid           1\n",
      "Travis Scott     1\n",
      "Halsey           1\n",
      "Marshmello       1\n",
      "Alec Benjamin    1\n",
      "benny blanco     1\n",
      "J. Cole          1\n",
      "DJ Snake         1\n",
      "Avicii           1\n",
      "Sam Smith        1\n",
      "Name: artists, dtype: int64\n"
     ]
    }
   ],
   "source": [
    "#count the value:in terms on songs per year for an  artist\n",
    "print(\"Artist\\t\\tSongs\\n\")\n",
    "print(df_2019[\"artists\"].value_counts().head(20))"
   ]
  },
  {
   "cell_type": "markdown",
   "metadata": {},
   "source": [
    "#### comparing  the  top artists based on our features \n",
    "lets start with top 5:\n",
    "\n",
    "- Ed Sheeran          4\n",
    "- The Chainsmokers    4\n",
    "- Drake               3\n",
    "- Martin Garrix       3\n",
    "- Kendrick Lamar      2"
   ]
  },
  {
   "cell_type": "code",
   "execution_count": 61,
   "metadata": {
    "scrolled": false
   },
   "outputs": [
    {
     "name": "stdout",
     "output_type": "stream",
     "text": [
      "                 artist  counts\n",
      "0           Post Malone       5\n",
      "1         Billie Eilish       4\n",
      "2         Ariana Grande       3\n",
      "3          Shawn Mendes       2\n",
      "4              Anuel AA       2\n",
      "5             Lil Nas X       2\n",
      "6             Bad Bunny       2\n",
      "7            Ed Sheeran       2\n",
      "8                 Lizzo       1\n",
      "9            Pedro Capó       1\n",
      "10               Khalid       1\n",
      "11         Travis Scott       1\n",
      "12               Halsey       1\n",
      "13           Marshmello       1\n",
      "14        Alec Benjamin       1\n",
      "15         benny blanco       1\n",
      "16              J. Cole       1\n",
      "17             DJ Snake       1\n",
      "18               Avicii       1\n",
      "19            Sam Smith       1\n",
      "20            Lil Tecca       1\n",
      "21       Jonas Brothers       1\n",
      "22                 Sech       1\n",
      "23         Paulo Londra       1\n",
      "24                 Lauv       1\n",
      "25  Panic! At The Disco       1\n",
      "26            Meek Mill       1\n",
      "27              Ava Max       1\n",
      "28          Tones And I       1\n",
      "29            Lady Gaga       1\n",
      "30                Queen       1\n",
      "31               MEDUZA       1\n",
      "32         Daddy Yankee       1\n",
      "33        Lewis Capaldi       1\n",
      "34                Mabel       1\n",
      "35                Lunay       1\n",
      "Post Malone\n"
     ]
    },
    {
     "data": {
      "text/html": [
       "<div>\n",
       "<style scoped>\n",
       "    .dataframe tbody tr th:only-of-type {\n",
       "        vertical-align: middle;\n",
       "    }\n",
       "\n",
       "    .dataframe tbody tr th {\n",
       "        vertical-align: top;\n",
       "    }\n",
       "\n",
       "    .dataframe thead th {\n",
       "        text-align: right;\n",
       "    }\n",
       "</style>\n",
       "<table border=\"1\" class=\"dataframe\">\n",
       "  <thead>\n",
       "    <tr style=\"text-align: right;\">\n",
       "      <th></th>\n",
       "      <th>name</th>\n",
       "      <th>danceability</th>\n",
       "      <th>energy</th>\n",
       "      <th>loudness</th>\n",
       "      <th>valence</th>\n",
       "      <th>tempo</th>\n",
       "      <th>tempo_rate</th>\n",
       "    </tr>\n",
       "  </thead>\n",
       "  <tbody>\n",
       "    <tr>\n",
       "      <th>2</th>\n",
       "      <td>Sunflower - Spider-Man: Into the Spider-Verse</td>\n",
       "      <td>0.755</td>\n",
       "      <td>0.522</td>\n",
       "      <td>-4.368</td>\n",
       "      <td>0.925</td>\n",
       "      <td>89.960</td>\n",
       "      <td>moderate</td>\n",
       "    </tr>\n",
       "    <tr>\n",
       "      <th>6</th>\n",
       "      <td>Wow.</td>\n",
       "      <td>0.829</td>\n",
       "      <td>0.539</td>\n",
       "      <td>-7.359</td>\n",
       "      <td>0.388</td>\n",
       "      <td>99.960</td>\n",
       "      <td>moderate</td>\n",
       "    </tr>\n",
       "    <tr>\n",
       "      <th>25</th>\n",
       "      <td>Goodbyes (Feat. Young Thug)</td>\n",
       "      <td>0.580</td>\n",
       "      <td>0.653</td>\n",
       "      <td>-3.818</td>\n",
       "      <td>0.175</td>\n",
       "      <td>150.231</td>\n",
       "      <td>fast</td>\n",
       "    </tr>\n",
       "    <tr>\n",
       "      <th>45</th>\n",
       "      <td>Better Now</td>\n",
       "      <td>0.680</td>\n",
       "      <td>0.578</td>\n",
       "      <td>-5.804</td>\n",
       "      <td>0.341</td>\n",
       "      <td>145.038</td>\n",
       "      <td>fast</td>\n",
       "    </tr>\n",
       "    <tr>\n",
       "      <th>49</th>\n",
       "      <td>rockstar (feat. 21 Savage)</td>\n",
       "      <td>0.585</td>\n",
       "      <td>0.520</td>\n",
       "      <td>-6.136</td>\n",
       "      <td>0.129</td>\n",
       "      <td>159.801</td>\n",
       "      <td>fast</td>\n",
       "    </tr>\n",
       "  </tbody>\n",
       "</table>\n",
       "</div>"
      ],
      "text/plain": [
       "                                             name  danceability  energy  \\\n",
       "2   Sunflower - Spider-Man: Into the Spider-Verse         0.755   0.522   \n",
       "6                                            Wow.         0.829   0.539   \n",
       "25                    Goodbyes (Feat. Young Thug)         0.580   0.653   \n",
       "45                                     Better Now         0.680   0.578   \n",
       "49                     rockstar (feat. 21 Savage)         0.585   0.520   \n",
       "\n",
       "    loudness  valence    tempo tempo_rate  \n",
       "2     -4.368    0.925   89.960   moderate  \n",
       "6     -7.359    0.388   99.960   moderate  \n",
       "25    -3.818    0.175  150.231       fast  \n",
       "45    -5.804    0.341  145.038       fast  \n",
       "49    -6.136    0.129  159.801       fast  "
      ]
     },
     "metadata": {},
     "output_type": "display_data"
    },
    {
     "name": "stdout",
     "output_type": "stream",
     "text": [
      "Billie Eilish\n"
     ]
    },
    {
     "data": {
      "text/html": [
       "<div>\n",
       "<style scoped>\n",
       "    .dataframe tbody tr th:only-of-type {\n",
       "        vertical-align: middle;\n",
       "    }\n",
       "\n",
       "    .dataframe tbody tr th {\n",
       "        vertical-align: top;\n",
       "    }\n",
       "\n",
       "    .dataframe thead th {\n",
       "        text-align: right;\n",
       "    }\n",
       "</style>\n",
       "<table border=\"1\" class=\"dataframe\">\n",
       "  <thead>\n",
       "    <tr style=\"text-align: right;\">\n",
       "      <th></th>\n",
       "      <th>name</th>\n",
       "      <th>danceability</th>\n",
       "      <th>energy</th>\n",
       "      <th>loudness</th>\n",
       "      <th>valence</th>\n",
       "      <th>tempo</th>\n",
       "      <th>tempo_rate</th>\n",
       "    </tr>\n",
       "  </thead>\n",
       "  <tbody>\n",
       "    <tr>\n",
       "      <th>1</th>\n",
       "      <td>bad guy</td>\n",
       "      <td>0.701</td>\n",
       "      <td>0.425</td>\n",
       "      <td>-10.965</td>\n",
       "      <td>0.562</td>\n",
       "      <td>135.128</td>\n",
       "      <td>fast</td>\n",
       "    </tr>\n",
       "    <tr>\n",
       "      <th>17</th>\n",
       "      <td>bury a friend</td>\n",
       "      <td>0.905</td>\n",
       "      <td>0.389</td>\n",
       "      <td>-14.505</td>\n",
       "      <td>0.196</td>\n",
       "      <td>120.046</td>\n",
       "      <td>fast</td>\n",
       "    </tr>\n",
       "    <tr>\n",
       "      <th>20</th>\n",
       "      <td>when the party's over</td>\n",
       "      <td>0.367</td>\n",
       "      <td>0.111</td>\n",
       "      <td>-14.084</td>\n",
       "      <td>0.198</td>\n",
       "      <td>82.642</td>\n",
       "      <td>moderate</td>\n",
       "    </tr>\n",
       "    <tr>\n",
       "      <th>29</th>\n",
       "      <td>lovely (with Khalid)</td>\n",
       "      <td>0.351</td>\n",
       "      <td>0.296</td>\n",
       "      <td>-10.109</td>\n",
       "      <td>0.120</td>\n",
       "      <td>115.284</td>\n",
       "      <td>fast</td>\n",
       "    </tr>\n",
       "  </tbody>\n",
       "</table>\n",
       "</div>"
      ],
      "text/plain": [
       "                     name  danceability  energy  loudness  valence    tempo  \\\n",
       "1                 bad guy         0.701   0.425   -10.965    0.562  135.128   \n",
       "17          bury a friend         0.905   0.389   -14.505    0.196  120.046   \n",
       "20  when the party's over         0.367   0.111   -14.084    0.198   82.642   \n",
       "29   lovely (with Khalid)         0.351   0.296   -10.109    0.120  115.284   \n",
       "\n",
       "   tempo_rate  \n",
       "1        fast  \n",
       "17       fast  \n",
       "20   moderate  \n",
       "29       fast  "
      ]
     },
     "metadata": {},
     "output_type": "display_data"
    },
    {
     "name": "stdout",
     "output_type": "stream",
     "text": [
      "Ariana Grande\n"
     ]
    },
    {
     "data": {
      "text/html": [
       "<div>\n",
       "<style scoped>\n",
       "    .dataframe tbody tr th:only-of-type {\n",
       "        vertical-align: middle;\n",
       "    }\n",
       "\n",
       "    .dataframe tbody tr th {\n",
       "        vertical-align: top;\n",
       "    }\n",
       "\n",
       "    .dataframe thead th {\n",
       "        text-align: right;\n",
       "    }\n",
       "</style>\n",
       "<table border=\"1\" class=\"dataframe\">\n",
       "  <thead>\n",
       "    <tr style=\"text-align: right;\">\n",
       "      <th></th>\n",
       "      <th>name</th>\n",
       "      <th>danceability</th>\n",
       "      <th>energy</th>\n",
       "      <th>loudness</th>\n",
       "      <th>valence</th>\n",
       "      <th>tempo</th>\n",
       "      <th>tempo_rate</th>\n",
       "    </tr>\n",
       "  </thead>\n",
       "  <tbody>\n",
       "    <tr>\n",
       "      <th>3</th>\n",
       "      <td>7 rings</td>\n",
       "      <td>0.778</td>\n",
       "      <td>0.317</td>\n",
       "      <td>-10.732</td>\n",
       "      <td>0.327</td>\n",
       "      <td>140.048</td>\n",
       "      <td>fast</td>\n",
       "    </tr>\n",
       "    <tr>\n",
       "      <th>13</th>\n",
       "      <td>thank u, next</td>\n",
       "      <td>0.717</td>\n",
       "      <td>0.653</td>\n",
       "      <td>-5.634</td>\n",
       "      <td>0.412</td>\n",
       "      <td>106.966</td>\n",
       "      <td>moderate</td>\n",
       "    </tr>\n",
       "    <tr>\n",
       "      <th>23</th>\n",
       "      <td>break up with your girlfriend, i'm bored</td>\n",
       "      <td>0.726</td>\n",
       "      <td>0.554</td>\n",
       "      <td>-5.290</td>\n",
       "      <td>0.335</td>\n",
       "      <td>169.999</td>\n",
       "      <td>very fast</td>\n",
       "    </tr>\n",
       "  </tbody>\n",
       "</table>\n",
       "</div>"
      ],
      "text/plain": [
       "                                        name  danceability  energy  loudness  \\\n",
       "3                                    7 rings         0.778   0.317   -10.732   \n",
       "13                             thank u, next         0.717   0.653    -5.634   \n",
       "23  break up with your girlfriend, i'm bored         0.726   0.554    -5.290   \n",
       "\n",
       "    valence    tempo tempo_rate  \n",
       "3     0.327  140.048       fast  \n",
       "13    0.412  106.966   moderate  \n",
       "23    0.335  169.999  very fast  "
      ]
     },
     "metadata": {},
     "output_type": "display_data"
    },
    {
     "name": "stdout",
     "output_type": "stream",
     "text": [
      "Shawn Mendes\n"
     ]
    },
    {
     "data": {
      "text/html": [
       "<div>\n",
       "<style scoped>\n",
       "    .dataframe tbody tr th:only-of-type {\n",
       "        vertical-align: middle;\n",
       "    }\n",
       "\n",
       "    .dataframe tbody tr th {\n",
       "        vertical-align: top;\n",
       "    }\n",
       "\n",
       "    .dataframe thead th {\n",
       "        text-align: right;\n",
       "    }\n",
       "</style>\n",
       "<table border=\"1\" class=\"dataframe\">\n",
       "  <thead>\n",
       "    <tr style=\"text-align: right;\">\n",
       "      <th></th>\n",
       "      <th>name</th>\n",
       "      <th>danceability</th>\n",
       "      <th>energy</th>\n",
       "      <th>loudness</th>\n",
       "      <th>valence</th>\n",
       "      <th>tempo</th>\n",
       "      <th>tempo_rate</th>\n",
       "    </tr>\n",
       "  </thead>\n",
       "  <tbody>\n",
       "    <tr>\n",
       "      <th>0</th>\n",
       "      <td>Señorita</td>\n",
       "      <td>0.759</td>\n",
       "      <td>0.548</td>\n",
       "      <td>-6.049</td>\n",
       "      <td>0.749</td>\n",
       "      <td>116.967</td>\n",
       "      <td>fast</td>\n",
       "    </tr>\n",
       "    <tr>\n",
       "      <th>40</th>\n",
       "      <td>If I Can't Have You</td>\n",
       "      <td>0.691</td>\n",
       "      <td>0.823</td>\n",
       "      <td>-4.197</td>\n",
       "      <td>0.870</td>\n",
       "      <td>123.935</td>\n",
       "      <td>fast</td>\n",
       "    </tr>\n",
       "  </tbody>\n",
       "</table>\n",
       "</div>"
      ],
      "text/plain": [
       "                   name  danceability  energy  loudness  valence    tempo  \\\n",
       "0              Señorita         0.759   0.548    -6.049    0.749  116.967   \n",
       "40  If I Can't Have You         0.691   0.823    -4.197    0.870  123.935   \n",
       "\n",
       "   tempo_rate  \n",
       "0        fast  \n",
       "40       fast  "
      ]
     },
     "metadata": {},
     "output_type": "display_data"
    },
    {
     "name": "stdout",
     "output_type": "stream",
     "text": [
      "Anuel AA\n"
     ]
    },
    {
     "data": {
      "text/html": [
       "<div>\n",
       "<style scoped>\n",
       "    .dataframe tbody tr th:only-of-type {\n",
       "        vertical-align: middle;\n",
       "    }\n",
       "\n",
       "    .dataframe tbody tr th {\n",
       "        vertical-align: top;\n",
       "    }\n",
       "\n",
       "    .dataframe thead th {\n",
       "        text-align: right;\n",
       "    }\n",
       "</style>\n",
       "<table border=\"1\" class=\"dataframe\">\n",
       "  <thead>\n",
       "    <tr style=\"text-align: right;\">\n",
       "      <th></th>\n",
       "      <th>name</th>\n",
       "      <th>danceability</th>\n",
       "      <th>energy</th>\n",
       "      <th>loudness</th>\n",
       "      <th>valence</th>\n",
       "      <th>tempo</th>\n",
       "      <th>tempo_rate</th>\n",
       "    </tr>\n",
       "  </thead>\n",
       "  <tbody>\n",
       "    <tr>\n",
       "      <th>38</th>\n",
       "      <td>Secreto</td>\n",
       "      <td>0.807</td>\n",
       "      <td>0.803</td>\n",
       "      <td>-4.156</td>\n",
       "      <td>0.706</td>\n",
       "      <td>91.987</td>\n",
       "      <td>moderate</td>\n",
       "    </tr>\n",
       "    <tr>\n",
       "      <th>39</th>\n",
       "      <td>China</td>\n",
       "      <td>0.786</td>\n",
       "      <td>0.808</td>\n",
       "      <td>-3.702</td>\n",
       "      <td>0.609</td>\n",
       "      <td>105.027</td>\n",
       "      <td>moderate</td>\n",
       "    </tr>\n",
       "  </tbody>\n",
       "</table>\n",
       "</div>"
      ],
      "text/plain": [
       "       name  danceability  energy  loudness  valence    tempo tempo_rate\n",
       "38  Secreto         0.807   0.803    -4.156    0.706   91.987   moderate\n",
       "39    China         0.786   0.808    -3.702    0.609  105.027   moderate"
      ]
     },
     "metadata": {},
     "output_type": "display_data"
    },
    {
     "name": "stdout",
     "output_type": "stream",
     "text": [
      "Lil Nas X\n"
     ]
    },
    {
     "data": {
      "text/html": [
       "<div>\n",
       "<style scoped>\n",
       "    .dataframe tbody tr th:only-of-type {\n",
       "        vertical-align: middle;\n",
       "    }\n",
       "\n",
       "    .dataframe tbody tr th {\n",
       "        vertical-align: top;\n",
       "    }\n",
       "\n",
       "    .dataframe thead th {\n",
       "        text-align: right;\n",
       "    }\n",
       "</style>\n",
       "<table border=\"1\" class=\"dataframe\">\n",
       "  <thead>\n",
       "    <tr style=\"text-align: right;\">\n",
       "      <th></th>\n",
       "      <th>name</th>\n",
       "      <th>danceability</th>\n",
       "      <th>energy</th>\n",
       "      <th>loudness</th>\n",
       "      <th>valence</th>\n",
       "      <th>tempo</th>\n",
       "      <th>tempo_rate</th>\n",
       "    </tr>\n",
       "  </thead>\n",
       "  <tbody>\n",
       "    <tr>\n",
       "      <th>4</th>\n",
       "      <td>Old Town Road - Remix</td>\n",
       "      <td>0.878</td>\n",
       "      <td>0.619</td>\n",
       "      <td>-5.560</td>\n",
       "      <td>0.639</td>\n",
       "      <td>136.041</td>\n",
       "      <td>fast</td>\n",
       "    </tr>\n",
       "    <tr>\n",
       "      <th>18</th>\n",
       "      <td>Old Town Road</td>\n",
       "      <td>0.907</td>\n",
       "      <td>0.530</td>\n",
       "      <td>-6.112</td>\n",
       "      <td>0.507</td>\n",
       "      <td>135.998</td>\n",
       "      <td>fast</td>\n",
       "    </tr>\n",
       "  </tbody>\n",
       "</table>\n",
       "</div>"
      ],
      "text/plain": [
       "                     name  danceability  energy  loudness  valence    tempo  \\\n",
       "4   Old Town Road - Remix         0.878   0.619    -5.560    0.639  136.041   \n",
       "18          Old Town Road         0.907   0.530    -6.112    0.507  135.998   \n",
       "\n",
       "   tempo_rate  \n",
       "4        fast  \n",
       "18       fast  "
      ]
     },
     "metadata": {},
     "output_type": "display_data"
    },
    {
     "name": "stdout",
     "output_type": "stream",
     "text": [
      "Bad Bunny\n"
     ]
    },
    {
     "data": {
      "text/html": [
       "<div>\n",
       "<style scoped>\n",
       "    .dataframe tbody tr th:only-of-type {\n",
       "        vertical-align: middle;\n",
       "    }\n",
       "\n",
       "    .dataframe tbody tr th {\n",
       "        vertical-align: top;\n",
       "    }\n",
       "\n",
       "    .dataframe thead th {\n",
       "        text-align: right;\n",
       "    }\n",
       "</style>\n",
       "<table border=\"1\" class=\"dataframe\">\n",
       "  <thead>\n",
       "    <tr style=\"text-align: right;\">\n",
       "      <th></th>\n",
       "      <th>name</th>\n",
       "      <th>danceability</th>\n",
       "      <th>energy</th>\n",
       "      <th>loudness</th>\n",
       "      <th>valence</th>\n",
       "      <th>tempo</th>\n",
       "      <th>tempo_rate</th>\n",
       "    </tr>\n",
       "  </thead>\n",
       "  <tbody>\n",
       "    <tr>\n",
       "      <th>33</th>\n",
       "      <td>Callaita</td>\n",
       "      <td>0.610</td>\n",
       "      <td>0.624</td>\n",
       "      <td>-4.773</td>\n",
       "      <td>0.244</td>\n",
       "      <td>176.169</td>\n",
       "      <td>very fast</td>\n",
       "    </tr>\n",
       "    <tr>\n",
       "      <th>34</th>\n",
       "      <td>MIA (feat. Drake)</td>\n",
       "      <td>0.817</td>\n",
       "      <td>0.539</td>\n",
       "      <td>-6.349</td>\n",
       "      <td>0.158</td>\n",
       "      <td>97.062</td>\n",
       "      <td>moderate</td>\n",
       "    </tr>\n",
       "  </tbody>\n",
       "</table>\n",
       "</div>"
      ],
      "text/plain": [
       "                 name  danceability  energy  loudness  valence    tempo  \\\n",
       "33           Callaita         0.610   0.624    -4.773    0.244  176.169   \n",
       "34  MIA (feat. Drake)         0.817   0.539    -6.349    0.158   97.062   \n",
       "\n",
       "   tempo_rate  \n",
       "33  very fast  \n",
       "34   moderate  "
      ]
     },
     "metadata": {},
     "output_type": "display_data"
    },
    {
     "name": "stdout",
     "output_type": "stream",
     "text": [
      "Ed Sheeran\n"
     ]
    },
    {
     "data": {
      "text/html": [
       "<div>\n",
       "<style scoped>\n",
       "    .dataframe tbody tr th:only-of-type {\n",
       "        vertical-align: middle;\n",
       "    }\n",
       "\n",
       "    .dataframe tbody tr th {\n",
       "        vertical-align: top;\n",
       "    }\n",
       "\n",
       "    .dataframe thead th {\n",
       "        text-align: right;\n",
       "    }\n",
       "</style>\n",
       "<table border=\"1\" class=\"dataframe\">\n",
       "  <thead>\n",
       "    <tr style=\"text-align: right;\">\n",
       "      <th></th>\n",
       "      <th>name</th>\n",
       "      <th>danceability</th>\n",
       "      <th>energy</th>\n",
       "      <th>loudness</th>\n",
       "      <th>valence</th>\n",
       "      <th>tempo</th>\n",
       "      <th>tempo_rate</th>\n",
       "    </tr>\n",
       "  </thead>\n",
       "  <tbody>\n",
       "    <tr>\n",
       "      <th>5</th>\n",
       "      <td>I Don't Care (with Justin Bieber)</td>\n",
       "      <td>0.798</td>\n",
       "      <td>0.676</td>\n",
       "      <td>-5.041</td>\n",
       "      <td>0.843</td>\n",
       "      <td>101.956</td>\n",
       "      <td>moderate</td>\n",
       "    </tr>\n",
       "    <tr>\n",
       "      <th>21</th>\n",
       "      <td>Beautiful People (feat. Khalid)</td>\n",
       "      <td>0.640</td>\n",
       "      <td>0.647</td>\n",
       "      <td>-8.114</td>\n",
       "      <td>0.546</td>\n",
       "      <td>92.979</td>\n",
       "      <td>moderate</td>\n",
       "    </tr>\n",
       "  </tbody>\n",
       "</table>\n",
       "</div>"
      ],
      "text/plain": [
       "                                 name  danceability  energy  loudness  \\\n",
       "5   I Don't Care (with Justin Bieber)         0.798   0.676    -5.041   \n",
       "21    Beautiful People (feat. Khalid)         0.640   0.647    -8.114   \n",
       "\n",
       "    valence    tempo tempo_rate  \n",
       "5     0.843  101.956   moderate  \n",
       "21    0.546   92.979   moderate  "
      ]
     },
     "metadata": {},
     "output_type": "display_data"
    }
   ],
   "source": [
    "def artist_features(artist_name):\n",
    "    artist = df_2019[df_2019['artists']==artist_name]\n",
    "    print(artist_name)\n",
    "    display(artist[['name','danceability','energy','loudness','valence','tempo','tempo_rate']])\n",
    "\n",
    "commulative_songs = df_2019[\"artists\"].value_counts().rename_axis('artist').reset_index(name='counts')\n",
    "print(commulative_songs)\n",
    "all_interesting_artists = commulative_songs[commulative_songs[\"counts\"]>1][\"artist\"].apply(lambda x: artist_features(x))"
   ]
  },
  {
   "cell_type": "markdown",
   "metadata": {},
   "source": [
    "## Here's the observation for the above  top 5 results:\n",
    "- dancebility:Range:0.49-->0.90+\n",
    "- energy:Range:0.48-->0.90+ , in general, the enegy in not very significant but  top songs have energy more than 0.48\n",
    "- loudness:more -ve loudness means more popular the song is \n",
    "- valence:Range:Not a very important criteria\n",
    "- tempo:Range:can not conclude about this, need more EDA\n",
    "- tempo rate:Range: fast and moderate are in top\n",
    "\n"
   ]
  },
  {
   "cell_type": "code",
   "execution_count": 63,
   "metadata": {},
   "outputs": [
    {
     "data": {
      "application/vnd.plotly.v1+json": {
       "config": {
        "linkText": "Export to plot.ly",
        "plotlyServerURL": "https://plot.ly",
        "showLink": false
       },
       "data": [
        {
         "marker": {
          "color": [
           0.759,
           0.701,
           0.755,
           0.778,
           0.878,
           0.7979999999999999,
           0.8290000000000001,
           0.501,
           0.737,
           0.5720000000000001,
           0.687,
           0.752,
           0.826,
           0.7170000000000001,
           0.8420000000000001,
           0.7190000000000001,
           0.741,
           0.905,
           0.907,
           0.9009999999999999,
           0.36700000000000005,
           0.64,
           0.825,
           0.726,
           0.8370000000000001,
           0.58,
           0.579,
           0.8420000000000001,
           0.745,
           0.35100000000000003,
           0.8340000000000001,
           0.889,
           0.674,
           0.61,
           0.8170000000000001,
           0.715,
           0.632,
           0.414,
           0.807,
           0.7859999999999999,
           0.691,
           0.747,
           0.599,
           0.677,
           0.802,
           0.68,
           0.795,
           0.767,
           0.652,
           0.585
          ],
          "size": 8
         },
         "mode": "markers",
         "text": [
          "Shawn Mendes - Señorita",
          "Billie Eilish - bad guy",
          "Post Malone - Sunflower - Spider-Man: Into the Spider-Verse",
          "Ariana Grande - 7 rings",
          "Lil Nas X - Old Town Road - Remix",
          "Ed Sheeran - I Don't Care (with Justin Bieber)",
          "Post Malone - Wow.",
          "Lewis Capaldi - Someone You Loved",
          "Daddy Yankee - Con Calma",
          "Lady Gaga - Shallow",
          "Marshmello - Happier",
          "Halsey - Without Me",
          "Pedro Capó - Calma - Remix",
          "Ariana Grande - thank u, next",
          "Jonas Brothers - Sucker",
          "Ava Max - Sweet but Psycho",
          "Sam Smith - Dancing With A Stranger (with Normani)",
          "Billie Eilish - bury a friend",
          "Lil Nas X - Old Town Road",
          "Khalid - Talk (feat. Disclosure)",
          "Billie Eilish - when the party's over",
          "Ed Sheeran - Beautiful People (feat. Khalid)",
          "Tones And I - Dance Monkey",
          "Ariana Grande - break up with your girlfriend, i'm bored",
          "J. Cole - MIDDLE CHILD",
          "Post Malone - Goodbyes (Feat. Young Thug)",
          "Panic! At The Disco - High Hopes",
          "DJ Snake - Taki Taki (feat. Selena Gomez, Ozuna & Cardi B)",
          "Lil Tecca - Ransom",
          "Billie Eilish - lovely (with Khalid)",
          "Travis Scott - SICKO MODE",
          "Meek Mill - Going Bad (feat. Drake)",
          "Mabel - Don't Call Me Up",
          "Bad Bunny - Callaita",
          "Bad Bunny - MIA (feat. Drake)",
          "Lizzo - Truth Hurts",
          "benny blanco - Eastside (with Halsey & Khalid)",
          "Queen - Bohemian Rhapsody - 2011 Mix",
          "Anuel AA - Secreto",
          "Anuel AA - China",
          "Shawn Mendes - If I Can't Have You",
          "Sech - Otro Trago",
          "Lauv - i'm so tired...",
          "MEDUZA - Piece Of Your Heart",
          "Avicii - SOS (feat. Aloe Blacc)",
          "Post Malone - Better Now",
          "Lunay - Soltera - Remix",
          "Paulo Londra - Adan y Eva",
          "Alec Benjamin - Let Me Down Slowly",
          "Post Malone - rockstar (feat. 21 Savage)"
         ],
         "type": "scatter3d",
         "x": [
          -0.3494899262083068,
          0.6232949429701976,
          -0.2714083688085653,
          0.6926109317399143,
          -0.3261645532735758,
          -0.49807222229672216,
          0.07025980899944251,
          0.3142265710167335,
          -0.543521112311975,
          0.2354488936329669,
          -0.45195480830116824,
          -0.0002271706655784058,
          -0.4319106850720735,
          -0.0998813668449017,
          -0.6097256173774391,
          -0.35927080808607453,
          0.18104765234774364,
          1.0767541155621645,
          -0.17309972457857242,
          0.08218783109533914,
          1.1601617238515873,
          0.013172951939532702,
          0.07249363820359823,
          -0.06688372367121903,
          0.3798216965404158,
          0.13548812168419497,
          -0.46891155415891034,
          -0.3149168196364584,
          0.12888927104784478,
          0.8862475351981492,
          -0.24657138581871724,
          -0.09434025551778119,
          -0.12168095159317106,
          0.41796281668897545,
          -0.009430959436076766,
          -0.1864564286492047,
          0.34409443198794076,
          0.4739481786553767,
          -0.2263535197189845,
          -0.4507171026284776,
          -0.38148895150610973,
          -0.09149702393872057,
          0.006113799245207318,
          -0.3180327386086906,
          -0.06853071028138927,
          0.03858698675576387,
          -0.4084801343287083,
          -0.0986525325884818,
          0.1482573632762358,
          0.18660189346672834
         ],
         "y": [
          -0.0987870014301342,
          0.6781968368867244,
          -0.3168146316874558,
          0.44311493472072766,
          0.20285313124198862,
          -0.12130920853150923,
          0.18183023132210832,
          -0.5308463326686857,
          -0.15477854755132792,
          -0.4874357689655489,
          -0.2558634812276513,
          -0.016663231783936878,
          -0.0504888408706677,
          -0.1588147013818606,
          0.12063128412429472,
          -0.042058082681355156,
          -0.27860858633081664,
          0.5708029898430397,
          0.2661861697687777,
          0.2690936282684691,
          -0.6922487959402547,
          0.004158108244602128,
          -0.22601103663160557,
          0.2387314281026062,
          0.36439817435269645,
          -0.10198190227789443,
          -0.3339174700525806,
          0.23662302226996093,
          0.7113683034838952,
          -0.6560523385934722,
          0.5131527486074532,
          -0.16878134692257843,
          -0.06496380514854455,
          0.4088266489873357,
          -0.09281842096840993,
          0.1952324410394393,
          -0.07087234866393494,
          -0.6589603589092513,
          -0.15140180099368564,
          -0.01729325349561911,
          -0.1743599028872261,
          0.7560981963471693,
          -0.014218074157794715,
          -0.09839160990580113,
          -0.143044251853846,
          -0.10330229686805274,
          -0.36907625744263056,
          0.699414357289003,
          -0.23108494282662648,
          0.020535994750463565
         ],
         "z": [
          0.041253593478674404,
          0.46751221860915015,
          0.34579370410960886,
          0.10358580378985255,
          0.008798482648441486,
          0.2042113975960707,
          0.15659729599169023,
          -0.14386609397923572,
          0.05045211252317337,
          -0.08826196425384909,
          0.04292152079193581,
          -0.0931172809275397,
          0.08774277331040341,
          -0.067653468895189,
          0.10976014550417731,
          -0.11698490399207283,
          0.05843499221362984,
          0.651130632734782,
          -0.023024981305344694,
          -0.0846846827788711,
          0.040291993030092836,
          0.1548900615209363,
          0.269451854583484,
          -0.4699702746647698,
          0.29054509849499893,
          -0.5243319056252628,
          0.04882251592047692,
          0.25341162487764407,
          -0.42842106574457367,
          -0.3328256062532168,
          -0.1899995305461502,
          0.33360079227553924,
          -0.15217244990465031,
          -0.33411398025734357,
          -0.11881321273371595,
          -0.38266710538638293,
          0.19256473039729807,
          -0.005578136597851924,
          0.3474512368573635,
          0.04541302232180916,
          0.11038359789702562,
          -0.13617490400043583,
          0.1358833920070632,
          -0.10138562746335579,
          0.0355389295344057,
          -0.3263126728075225,
          0.4019868095708533,
          -0.03562823047051352,
          -0.23567996415913295,
          -0.5967622898436027
         ]
        }
       ],
       "layout": {
        "template": {
         "data": {
          "bar": [
           {
            "error_x": {
             "color": "#2a3f5f"
            },
            "error_y": {
             "color": "#2a3f5f"
            },
            "marker": {
             "line": {
              "color": "#E5ECF6",
              "width": 0.5
             }
            },
            "type": "bar"
           }
          ],
          "barpolar": [
           {
            "marker": {
             "line": {
              "color": "#E5ECF6",
              "width": 0.5
             }
            },
            "type": "barpolar"
           }
          ],
          "carpet": [
           {
            "aaxis": {
             "endlinecolor": "#2a3f5f",
             "gridcolor": "white",
             "linecolor": "white",
             "minorgridcolor": "white",
             "startlinecolor": "#2a3f5f"
            },
            "baxis": {
             "endlinecolor": "#2a3f5f",
             "gridcolor": "white",
             "linecolor": "white",
             "minorgridcolor": "white",
             "startlinecolor": "#2a3f5f"
            },
            "type": "carpet"
           }
          ],
          "choropleth": [
           {
            "colorbar": {
             "outlinewidth": 0,
             "ticks": ""
            },
            "type": "choropleth"
           }
          ],
          "contour": [
           {
            "colorbar": {
             "outlinewidth": 0,
             "ticks": ""
            },
            "colorscale": [
             [
              0,
              "#0d0887"
             ],
             [
              0.1111111111111111,
              "#46039f"
             ],
             [
              0.2222222222222222,
              "#7201a8"
             ],
             [
              0.3333333333333333,
              "#9c179e"
             ],
             [
              0.4444444444444444,
              "#bd3786"
             ],
             [
              0.5555555555555556,
              "#d8576b"
             ],
             [
              0.6666666666666666,
              "#ed7953"
             ],
             [
              0.7777777777777778,
              "#fb9f3a"
             ],
             [
              0.8888888888888888,
              "#fdca26"
             ],
             [
              1,
              "#f0f921"
             ]
            ],
            "type": "contour"
           }
          ],
          "contourcarpet": [
           {
            "colorbar": {
             "outlinewidth": 0,
             "ticks": ""
            },
            "type": "contourcarpet"
           }
          ],
          "heatmap": [
           {
            "colorbar": {
             "outlinewidth": 0,
             "ticks": ""
            },
            "colorscale": [
             [
              0,
              "#0d0887"
             ],
             [
              0.1111111111111111,
              "#46039f"
             ],
             [
              0.2222222222222222,
              "#7201a8"
             ],
             [
              0.3333333333333333,
              "#9c179e"
             ],
             [
              0.4444444444444444,
              "#bd3786"
             ],
             [
              0.5555555555555556,
              "#d8576b"
             ],
             [
              0.6666666666666666,
              "#ed7953"
             ],
             [
              0.7777777777777778,
              "#fb9f3a"
             ],
             [
              0.8888888888888888,
              "#fdca26"
             ],
             [
              1,
              "#f0f921"
             ]
            ],
            "type": "heatmap"
           }
          ],
          "heatmapgl": [
           {
            "colorbar": {
             "outlinewidth": 0,
             "ticks": ""
            },
            "colorscale": [
             [
              0,
              "#0d0887"
             ],
             [
              0.1111111111111111,
              "#46039f"
             ],
             [
              0.2222222222222222,
              "#7201a8"
             ],
             [
              0.3333333333333333,
              "#9c179e"
             ],
             [
              0.4444444444444444,
              "#bd3786"
             ],
             [
              0.5555555555555556,
              "#d8576b"
             ],
             [
              0.6666666666666666,
              "#ed7953"
             ],
             [
              0.7777777777777778,
              "#fb9f3a"
             ],
             [
              0.8888888888888888,
              "#fdca26"
             ],
             [
              1,
              "#f0f921"
             ]
            ],
            "type": "heatmapgl"
           }
          ],
          "histogram": [
           {
            "marker": {
             "colorbar": {
              "outlinewidth": 0,
              "ticks": ""
             }
            },
            "type": "histogram"
           }
          ],
          "histogram2d": [
           {
            "colorbar": {
             "outlinewidth": 0,
             "ticks": ""
            },
            "colorscale": [
             [
              0,
              "#0d0887"
             ],
             [
              0.1111111111111111,
              "#46039f"
             ],
             [
              0.2222222222222222,
              "#7201a8"
             ],
             [
              0.3333333333333333,
              "#9c179e"
             ],
             [
              0.4444444444444444,
              "#bd3786"
             ],
             [
              0.5555555555555556,
              "#d8576b"
             ],
             [
              0.6666666666666666,
              "#ed7953"
             ],
             [
              0.7777777777777778,
              "#fb9f3a"
             ],
             [
              0.8888888888888888,
              "#fdca26"
             ],
             [
              1,
              "#f0f921"
             ]
            ],
            "type": "histogram2d"
           }
          ],
          "histogram2dcontour": [
           {
            "colorbar": {
             "outlinewidth": 0,
             "ticks": ""
            },
            "colorscale": [
             [
              0,
              "#0d0887"
             ],
             [
              0.1111111111111111,
              "#46039f"
             ],
             [
              0.2222222222222222,
              "#7201a8"
             ],
             [
              0.3333333333333333,
              "#9c179e"
             ],
             [
              0.4444444444444444,
              "#bd3786"
             ],
             [
              0.5555555555555556,
              "#d8576b"
             ],
             [
              0.6666666666666666,
              "#ed7953"
             ],
             [
              0.7777777777777778,
              "#fb9f3a"
             ],
             [
              0.8888888888888888,
              "#fdca26"
             ],
             [
              1,
              "#f0f921"
             ]
            ],
            "type": "histogram2dcontour"
           }
          ],
          "mesh3d": [
           {
            "colorbar": {
             "outlinewidth": 0,
             "ticks": ""
            },
            "type": "mesh3d"
           }
          ],
          "parcoords": [
           {
            "line": {
             "colorbar": {
              "outlinewidth": 0,
              "ticks": ""
             }
            },
            "type": "parcoords"
           }
          ],
          "pie": [
           {
            "automargin": true,
            "type": "pie"
           }
          ],
          "scatter": [
           {
            "marker": {
             "colorbar": {
              "outlinewidth": 0,
              "ticks": ""
             }
            },
            "type": "scatter"
           }
          ],
          "scatter3d": [
           {
            "line": {
             "colorbar": {
              "outlinewidth": 0,
              "ticks": ""
             }
            },
            "marker": {
             "colorbar": {
              "outlinewidth": 0,
              "ticks": ""
             }
            },
            "type": "scatter3d"
           }
          ],
          "scattercarpet": [
           {
            "marker": {
             "colorbar": {
              "outlinewidth": 0,
              "ticks": ""
             }
            },
            "type": "scattercarpet"
           }
          ],
          "scattergeo": [
           {
            "marker": {
             "colorbar": {
              "outlinewidth": 0,
              "ticks": ""
             }
            },
            "type": "scattergeo"
           }
          ],
          "scattergl": [
           {
            "marker": {
             "colorbar": {
              "outlinewidth": 0,
              "ticks": ""
             }
            },
            "type": "scattergl"
           }
          ],
          "scattermapbox": [
           {
            "marker": {
             "colorbar": {
              "outlinewidth": 0,
              "ticks": ""
             }
            },
            "type": "scattermapbox"
           }
          ],
          "scatterpolar": [
           {
            "marker": {
             "colorbar": {
              "outlinewidth": 0,
              "ticks": ""
             }
            },
            "type": "scatterpolar"
           }
          ],
          "scatterpolargl": [
           {
            "marker": {
             "colorbar": {
              "outlinewidth": 0,
              "ticks": ""
             }
            },
            "type": "scatterpolargl"
           }
          ],
          "scatterternary": [
           {
            "marker": {
             "colorbar": {
              "outlinewidth": 0,
              "ticks": ""
             }
            },
            "type": "scatterternary"
           }
          ],
          "surface": [
           {
            "colorbar": {
             "outlinewidth": 0,
             "ticks": ""
            },
            "colorscale": [
             [
              0,
              "#0d0887"
             ],
             [
              0.1111111111111111,
              "#46039f"
             ],
             [
              0.2222222222222222,
              "#7201a8"
             ],
             [
              0.3333333333333333,
              "#9c179e"
             ],
             [
              0.4444444444444444,
              "#bd3786"
             ],
             [
              0.5555555555555556,
              "#d8576b"
             ],
             [
              0.6666666666666666,
              "#ed7953"
             ],
             [
              0.7777777777777778,
              "#fb9f3a"
             ],
             [
              0.8888888888888888,
              "#fdca26"
             ],
             [
              1,
              "#f0f921"
             ]
            ],
            "type": "surface"
           }
          ],
          "table": [
           {
            "cells": {
             "fill": {
              "color": "#EBF0F8"
             },
             "line": {
              "color": "white"
             }
            },
            "header": {
             "fill": {
              "color": "#C8D4E3"
             },
             "line": {
              "color": "white"
             }
            },
            "type": "table"
           }
          ]
         },
         "layout": {
          "annotationdefaults": {
           "arrowcolor": "#2a3f5f",
           "arrowhead": 0,
           "arrowwidth": 1
          },
          "coloraxis": {
           "colorbar": {
            "outlinewidth": 0,
            "ticks": ""
           }
          },
          "colorscale": {
           "diverging": [
            [
             0,
             "#8e0152"
            ],
            [
             0.1,
             "#c51b7d"
            ],
            [
             0.2,
             "#de77ae"
            ],
            [
             0.3,
             "#f1b6da"
            ],
            [
             0.4,
             "#fde0ef"
            ],
            [
             0.5,
             "#f7f7f7"
            ],
            [
             0.6,
             "#e6f5d0"
            ],
            [
             0.7,
             "#b8e186"
            ],
            [
             0.8,
             "#7fbc41"
            ],
            [
             0.9,
             "#4d9221"
            ],
            [
             1,
             "#276419"
            ]
           ],
           "sequential": [
            [
             0,
             "#0d0887"
            ],
            [
             0.1111111111111111,
             "#46039f"
            ],
            [
             0.2222222222222222,
             "#7201a8"
            ],
            [
             0.3333333333333333,
             "#9c179e"
            ],
            [
             0.4444444444444444,
             "#bd3786"
            ],
            [
             0.5555555555555556,
             "#d8576b"
            ],
            [
             0.6666666666666666,
             "#ed7953"
            ],
            [
             0.7777777777777778,
             "#fb9f3a"
            ],
            [
             0.8888888888888888,
             "#fdca26"
            ],
            [
             1,
             "#f0f921"
            ]
           ],
           "sequentialminus": [
            [
             0,
             "#0d0887"
            ],
            [
             0.1111111111111111,
             "#46039f"
            ],
            [
             0.2222222222222222,
             "#7201a8"
            ],
            [
             0.3333333333333333,
             "#9c179e"
            ],
            [
             0.4444444444444444,
             "#bd3786"
            ],
            [
             0.5555555555555556,
             "#d8576b"
            ],
            [
             0.6666666666666666,
             "#ed7953"
            ],
            [
             0.7777777777777778,
             "#fb9f3a"
            ],
            [
             0.8888888888888888,
             "#fdca26"
            ],
            [
             1,
             "#f0f921"
            ]
           ]
          },
          "colorway": [
           "#636efa",
           "#EF553B",
           "#00cc96",
           "#ab63fa",
           "#FFA15A",
           "#19d3f3",
           "#FF6692",
           "#B6E880",
           "#FF97FF",
           "#FECB52"
          ],
          "font": {
           "color": "#2a3f5f"
          },
          "geo": {
           "bgcolor": "white",
           "lakecolor": "white",
           "landcolor": "#E5ECF6",
           "showlakes": true,
           "showland": true,
           "subunitcolor": "white"
          },
          "hoverlabel": {
           "align": "left"
          },
          "hovermode": "closest",
          "mapbox": {
           "style": "light"
          },
          "paper_bgcolor": "white",
          "plot_bgcolor": "#E5ECF6",
          "polar": {
           "angularaxis": {
            "gridcolor": "white",
            "linecolor": "white",
            "ticks": ""
           },
           "bgcolor": "#E5ECF6",
           "radialaxis": {
            "gridcolor": "white",
            "linecolor": "white",
            "ticks": ""
           }
          },
          "scene": {
           "xaxis": {
            "backgroundcolor": "#E5ECF6",
            "gridcolor": "white",
            "gridwidth": 2,
            "linecolor": "white",
            "showbackground": true,
            "ticks": "",
            "zerolinecolor": "white"
           },
           "yaxis": {
            "backgroundcolor": "#E5ECF6",
            "gridcolor": "white",
            "gridwidth": 2,
            "linecolor": "white",
            "showbackground": true,
            "ticks": "",
            "zerolinecolor": "white"
           },
           "zaxis": {
            "backgroundcolor": "#E5ECF6",
            "gridcolor": "white",
            "gridwidth": 2,
            "linecolor": "white",
            "showbackground": true,
            "ticks": "",
            "zerolinecolor": "white"
           }
          },
          "shapedefaults": {
           "line": {
            "color": "#2a3f5f"
           }
          },
          "ternary": {
           "aaxis": {
            "gridcolor": "white",
            "linecolor": "white",
            "ticks": ""
           },
           "baxis": {
            "gridcolor": "white",
            "linecolor": "white",
            "ticks": ""
           },
           "bgcolor": "#E5ECF6",
           "caxis": {
            "gridcolor": "white",
            "linecolor": "white",
            "ticks": ""
           }
          },
          "title": {
           "x": 0.05
          },
          "xaxis": {
           "automargin": true,
           "gridcolor": "white",
           "linecolor": "white",
           "ticks": "",
           "title": {
            "standoff": 15
           },
           "zerolinecolor": "white",
           "zerolinewidth": 2
          },
          "yaxis": {
           "automargin": true,
           "gridcolor": "white",
           "linecolor": "white",
           "ticks": "",
           "title": {
            "standoff": 15
           },
           "zerolinecolor": "white",
           "zerolinewidth": 2
          }
         }
        }
       }
      },
      "text/html": [
       "<div>\n",
       "        \n",
       "        \n",
       "            <div id=\"0cab5716-6542-4ebf-8484-eed927301421\" class=\"plotly-graph-div\" style=\"height:525px; width:100%;\"></div>\n",
       "            <script type=\"text/javascript\">\n",
       "                require([\"plotly\"], function(Plotly) {\n",
       "                    window.PLOTLYENV=window.PLOTLYENV || {};\n",
       "                    \n",
       "                if (document.getElementById(\"0cab5716-6542-4ebf-8484-eed927301421\")) {\n",
       "                    Plotly.newPlot(\n",
       "                        '0cab5716-6542-4ebf-8484-eed927301421',\n",
       "                        [{\"marker\": {\"color\": [0.759, 0.701, 0.755, 0.778, 0.878, 0.7979999999999999, 0.8290000000000001, 0.501, 0.737, 0.5720000000000001, 0.687, 0.752, 0.826, 0.7170000000000001, 0.8420000000000001, 0.7190000000000001, 0.741, 0.905, 0.907, 0.9009999999999999, 0.36700000000000005, 0.64, 0.825, 0.726, 0.8370000000000001, 0.58, 0.579, 0.8420000000000001, 0.745, 0.35100000000000003, 0.8340000000000001, 0.889, 0.674, 0.61, 0.8170000000000001, 0.715, 0.632, 0.414, 0.807, 0.7859999999999999, 0.691, 0.747, 0.599, 0.677, 0.802, 0.68, 0.795, 0.767, 0.652, 0.585], \"size\": 8}, \"mode\": \"markers\", \"text\": [\"Shawn Mendes - Se\\u00f1orita\", \"Billie Eilish - bad guy\", \"Post Malone - Sunflower - Spider-Man: Into the Spider-Verse\", \"Ariana Grande - 7 rings\", \"Lil Nas X - Old Town Road - Remix\", \"Ed Sheeran - I Don't Care (with Justin Bieber)\", \"Post Malone - Wow.\", \"Lewis Capaldi - Someone You Loved\", \"Daddy Yankee - Con Calma\", \"Lady Gaga - Shallow\", \"Marshmello - Happier\", \"Halsey - Without Me\", \"Pedro Cap\\u00f3 - Calma - Remix\", \"Ariana Grande - thank u, next\", \"Jonas Brothers - Sucker\", \"Ava Max - Sweet but Psycho\", \"Sam Smith - Dancing With A Stranger (with Normani)\", \"Billie Eilish - bury a friend\", \"Lil Nas X - Old Town Road\", \"Khalid - Talk (feat. Disclosure)\", \"Billie Eilish - when the party's over\", \"Ed Sheeran - Beautiful People (feat. Khalid)\", \"Tones And I - Dance Monkey\", \"Ariana Grande - break up with your girlfriend, i'm bored\", \"J. Cole - MIDDLE CHILD\", \"Post Malone - Goodbyes (Feat. Young Thug)\", \"Panic! At The Disco - High Hopes\", \"DJ Snake - Taki Taki (feat. Selena Gomez, Ozuna & Cardi B)\", \"Lil Tecca - Ransom\", \"Billie Eilish - lovely (with Khalid)\", \"Travis Scott - SICKO MODE\", \"Meek Mill - Going Bad (feat. Drake)\", \"Mabel - Don't Call Me Up\", \"Bad Bunny - Callaita\", \"Bad Bunny - MIA (feat. Drake)\", \"Lizzo - Truth Hurts\", \"benny blanco - Eastside (with Halsey & Khalid)\", \"Queen - Bohemian Rhapsody - 2011 Mix\", \"Anuel AA - Secreto\", \"Anuel AA - China\", \"Shawn Mendes - If I Can't Have You\", \"Sech - Otro Trago\", \"Lauv - i'm so tired...\", \"MEDUZA - Piece Of Your Heart\", \"Avicii - SOS (feat. Aloe Blacc)\", \"Post Malone - Better Now\", \"Lunay - Soltera - Remix\", \"Paulo Londra - Adan y Eva\", \"Alec Benjamin - Let Me Down Slowly\", \"Post Malone - rockstar (feat. 21 Savage)\"], \"type\": \"scatter3d\", \"x\": [-0.3494899262083068, 0.6232949429701976, -0.2714083688085653, 0.6926109317399143, -0.3261645532735758, -0.49807222229672216, 0.07025980899944251, 0.3142265710167335, -0.543521112311975, 0.2354488936329669, -0.45195480830116824, -0.0002271706655784058, -0.4319106850720735, -0.0998813668449017, -0.6097256173774391, -0.35927080808607453, 0.18104765234774364, 1.0767541155621645, -0.17309972457857242, 0.08218783109533914, 1.1601617238515873, 0.013172951939532702, 0.07249363820359823, -0.06688372367121903, 0.3798216965404158, 0.13548812168419497, -0.46891155415891034, -0.3149168196364584, 0.12888927104784478, 0.8862475351981492, -0.24657138581871724, -0.09434025551778119, -0.12168095159317106, 0.41796281668897545, -0.009430959436076766, -0.1864564286492047, 0.34409443198794076, 0.4739481786553767, -0.2263535197189845, -0.4507171026284776, -0.38148895150610973, -0.09149702393872057, 0.006113799245207318, -0.3180327386086906, -0.06853071028138927, 0.03858698675576387, -0.4084801343287083, -0.0986525325884818, 0.1482573632762358, 0.18660189346672834], \"y\": [-0.0987870014301342, 0.6781968368867244, -0.3168146316874558, 0.44311493472072766, 0.20285313124198862, -0.12130920853150923, 0.18183023132210832, -0.5308463326686857, -0.15477854755132792, -0.4874357689655489, -0.2558634812276513, -0.016663231783936878, -0.0504888408706677, -0.1588147013818606, 0.12063128412429472, -0.042058082681355156, -0.27860858633081664, 0.5708029898430397, 0.2661861697687777, 0.2690936282684691, -0.6922487959402547, 0.004158108244602128, -0.22601103663160557, 0.2387314281026062, 0.36439817435269645, -0.10198190227789443, -0.3339174700525806, 0.23662302226996093, 0.7113683034838952, -0.6560523385934722, 0.5131527486074532, -0.16878134692257843, -0.06496380514854455, 0.4088266489873357, -0.09281842096840993, 0.1952324410394393, -0.07087234866393494, -0.6589603589092513, -0.15140180099368564, -0.01729325349561911, -0.1743599028872261, 0.7560981963471693, -0.014218074157794715, -0.09839160990580113, -0.143044251853846, -0.10330229686805274, -0.36907625744263056, 0.699414357289003, -0.23108494282662648, 0.020535994750463565], \"z\": [0.041253593478674404, 0.46751221860915015, 0.34579370410960886, 0.10358580378985255, 0.008798482648441486, 0.2042113975960707, 0.15659729599169023, -0.14386609397923572, 0.05045211252317337, -0.08826196425384909, 0.04292152079193581, -0.0931172809275397, 0.08774277331040341, -0.067653468895189, 0.10976014550417731, -0.11698490399207283, 0.05843499221362984, 0.651130632734782, -0.023024981305344694, -0.0846846827788711, 0.040291993030092836, 0.1548900615209363, 0.269451854583484, -0.4699702746647698, 0.29054509849499893, -0.5243319056252628, 0.04882251592047692, 0.25341162487764407, -0.42842106574457367, -0.3328256062532168, -0.1899995305461502, 0.33360079227553924, -0.15217244990465031, -0.33411398025734357, -0.11881321273371595, -0.38266710538638293, 0.19256473039729807, -0.005578136597851924, 0.3474512368573635, 0.04541302232180916, 0.11038359789702562, -0.13617490400043583, 0.1358833920070632, -0.10138562746335579, 0.0355389295344057, -0.3263126728075225, 0.4019868095708533, -0.03562823047051352, -0.23567996415913295, -0.5967622898436027]}],\n",
       "                        {\"template\": {\"data\": {\"bar\": [{\"error_x\": {\"color\": \"#2a3f5f\"}, \"error_y\": {\"color\": \"#2a3f5f\"}, \"marker\": {\"line\": {\"color\": \"#E5ECF6\", \"width\": 0.5}}, \"type\": \"bar\"}], \"barpolar\": [{\"marker\": {\"line\": {\"color\": \"#E5ECF6\", \"width\": 0.5}}, \"type\": \"barpolar\"}], \"carpet\": [{\"aaxis\": {\"endlinecolor\": \"#2a3f5f\", \"gridcolor\": \"white\", \"linecolor\": \"white\", \"minorgridcolor\": \"white\", \"startlinecolor\": \"#2a3f5f\"}, \"baxis\": {\"endlinecolor\": \"#2a3f5f\", \"gridcolor\": \"white\", \"linecolor\": \"white\", \"minorgridcolor\": \"white\", \"startlinecolor\": \"#2a3f5f\"}, \"type\": \"carpet\"}], \"choropleth\": [{\"colorbar\": {\"outlinewidth\": 0, \"ticks\": \"\"}, \"type\": \"choropleth\"}], \"contour\": [{\"colorbar\": {\"outlinewidth\": 0, \"ticks\": \"\"}, \"colorscale\": [[0.0, \"#0d0887\"], [0.1111111111111111, \"#46039f\"], [0.2222222222222222, \"#7201a8\"], [0.3333333333333333, \"#9c179e\"], [0.4444444444444444, \"#bd3786\"], [0.5555555555555556, \"#d8576b\"], [0.6666666666666666, \"#ed7953\"], [0.7777777777777778, \"#fb9f3a\"], [0.8888888888888888, \"#fdca26\"], [1.0, \"#f0f921\"]], \"type\": \"contour\"}], \"contourcarpet\": [{\"colorbar\": {\"outlinewidth\": 0, \"ticks\": \"\"}, \"type\": \"contourcarpet\"}], \"heatmap\": [{\"colorbar\": {\"outlinewidth\": 0, \"ticks\": \"\"}, \"colorscale\": [[0.0, \"#0d0887\"], [0.1111111111111111, \"#46039f\"], [0.2222222222222222, \"#7201a8\"], [0.3333333333333333, \"#9c179e\"], [0.4444444444444444, \"#bd3786\"], [0.5555555555555556, \"#d8576b\"], [0.6666666666666666, \"#ed7953\"], [0.7777777777777778, \"#fb9f3a\"], [0.8888888888888888, \"#fdca26\"], [1.0, \"#f0f921\"]], \"type\": \"heatmap\"}], \"heatmapgl\": [{\"colorbar\": {\"outlinewidth\": 0, \"ticks\": \"\"}, \"colorscale\": [[0.0, \"#0d0887\"], [0.1111111111111111, \"#46039f\"], [0.2222222222222222, \"#7201a8\"], [0.3333333333333333, \"#9c179e\"], [0.4444444444444444, \"#bd3786\"], [0.5555555555555556, \"#d8576b\"], [0.6666666666666666, \"#ed7953\"], [0.7777777777777778, \"#fb9f3a\"], [0.8888888888888888, \"#fdca26\"], [1.0, \"#f0f921\"]], \"type\": \"heatmapgl\"}], \"histogram\": [{\"marker\": {\"colorbar\": {\"outlinewidth\": 0, \"ticks\": \"\"}}, \"type\": \"histogram\"}], \"histogram2d\": [{\"colorbar\": {\"outlinewidth\": 0, \"ticks\": \"\"}, \"colorscale\": [[0.0, \"#0d0887\"], [0.1111111111111111, \"#46039f\"], [0.2222222222222222, \"#7201a8\"], [0.3333333333333333, \"#9c179e\"], [0.4444444444444444, \"#bd3786\"], [0.5555555555555556, \"#d8576b\"], [0.6666666666666666, \"#ed7953\"], [0.7777777777777778, \"#fb9f3a\"], [0.8888888888888888, \"#fdca26\"], [1.0, \"#f0f921\"]], \"type\": \"histogram2d\"}], \"histogram2dcontour\": [{\"colorbar\": {\"outlinewidth\": 0, \"ticks\": \"\"}, \"colorscale\": [[0.0, \"#0d0887\"], [0.1111111111111111, \"#46039f\"], [0.2222222222222222, \"#7201a8\"], [0.3333333333333333, \"#9c179e\"], [0.4444444444444444, \"#bd3786\"], [0.5555555555555556, \"#d8576b\"], [0.6666666666666666, \"#ed7953\"], [0.7777777777777778, \"#fb9f3a\"], [0.8888888888888888, \"#fdca26\"], [1.0, \"#f0f921\"]], \"type\": \"histogram2dcontour\"}], \"mesh3d\": [{\"colorbar\": {\"outlinewidth\": 0, \"ticks\": \"\"}, \"type\": \"mesh3d\"}], \"parcoords\": [{\"line\": {\"colorbar\": {\"outlinewidth\": 0, \"ticks\": \"\"}}, \"type\": \"parcoords\"}], \"pie\": [{\"automargin\": true, \"type\": \"pie\"}], \"scatter\": [{\"marker\": {\"colorbar\": {\"outlinewidth\": 0, \"ticks\": \"\"}}, \"type\": \"scatter\"}], \"scatter3d\": [{\"line\": {\"colorbar\": {\"outlinewidth\": 0, \"ticks\": \"\"}}, \"marker\": {\"colorbar\": {\"outlinewidth\": 0, \"ticks\": \"\"}}, \"type\": \"scatter3d\"}], \"scattercarpet\": [{\"marker\": {\"colorbar\": {\"outlinewidth\": 0, \"ticks\": \"\"}}, \"type\": \"scattercarpet\"}], \"scattergeo\": [{\"marker\": {\"colorbar\": {\"outlinewidth\": 0, \"ticks\": \"\"}}, \"type\": \"scattergeo\"}], \"scattergl\": [{\"marker\": {\"colorbar\": {\"outlinewidth\": 0, \"ticks\": \"\"}}, \"type\": \"scattergl\"}], \"scattermapbox\": [{\"marker\": {\"colorbar\": {\"outlinewidth\": 0, \"ticks\": \"\"}}, \"type\": \"scattermapbox\"}], \"scatterpolar\": [{\"marker\": {\"colorbar\": {\"outlinewidth\": 0, \"ticks\": \"\"}}, \"type\": \"scatterpolar\"}], \"scatterpolargl\": [{\"marker\": {\"colorbar\": {\"outlinewidth\": 0, \"ticks\": \"\"}}, \"type\": \"scatterpolargl\"}], \"scatterternary\": [{\"marker\": {\"colorbar\": {\"outlinewidth\": 0, \"ticks\": \"\"}}, \"type\": \"scatterternary\"}], \"surface\": [{\"colorbar\": {\"outlinewidth\": 0, \"ticks\": \"\"}, \"colorscale\": [[0.0, \"#0d0887\"], [0.1111111111111111, \"#46039f\"], [0.2222222222222222, \"#7201a8\"], [0.3333333333333333, \"#9c179e\"], [0.4444444444444444, \"#bd3786\"], [0.5555555555555556, \"#d8576b\"], [0.6666666666666666, \"#ed7953\"], [0.7777777777777778, \"#fb9f3a\"], [0.8888888888888888, \"#fdca26\"], [1.0, \"#f0f921\"]], \"type\": \"surface\"}], \"table\": [{\"cells\": {\"fill\": {\"color\": \"#EBF0F8\"}, \"line\": {\"color\": \"white\"}}, \"header\": {\"fill\": {\"color\": \"#C8D4E3\"}, \"line\": {\"color\": \"white\"}}, \"type\": \"table\"}]}, \"layout\": {\"annotationdefaults\": {\"arrowcolor\": \"#2a3f5f\", \"arrowhead\": 0, \"arrowwidth\": 1}, \"coloraxis\": {\"colorbar\": {\"outlinewidth\": 0, \"ticks\": \"\"}}, \"colorscale\": {\"diverging\": [[0, \"#8e0152\"], [0.1, \"#c51b7d\"], [0.2, \"#de77ae\"], [0.3, \"#f1b6da\"], [0.4, \"#fde0ef\"], [0.5, \"#f7f7f7\"], [0.6, \"#e6f5d0\"], [0.7, \"#b8e186\"], [0.8, \"#7fbc41\"], [0.9, \"#4d9221\"], [1, \"#276419\"]], \"sequential\": [[0.0, \"#0d0887\"], [0.1111111111111111, \"#46039f\"], [0.2222222222222222, \"#7201a8\"], [0.3333333333333333, \"#9c179e\"], [0.4444444444444444, \"#bd3786\"], [0.5555555555555556, \"#d8576b\"], [0.6666666666666666, \"#ed7953\"], [0.7777777777777778, \"#fb9f3a\"], [0.8888888888888888, \"#fdca26\"], [1.0, \"#f0f921\"]], \"sequentialminus\": [[0.0, \"#0d0887\"], [0.1111111111111111, \"#46039f\"], [0.2222222222222222, \"#7201a8\"], [0.3333333333333333, \"#9c179e\"], [0.4444444444444444, \"#bd3786\"], [0.5555555555555556, \"#d8576b\"], [0.6666666666666666, \"#ed7953\"], [0.7777777777777778, \"#fb9f3a\"], [0.8888888888888888, \"#fdca26\"], [1.0, \"#f0f921\"]]}, \"colorway\": [\"#636efa\", \"#EF553B\", \"#00cc96\", \"#ab63fa\", \"#FFA15A\", \"#19d3f3\", \"#FF6692\", \"#B6E880\", \"#FF97FF\", \"#FECB52\"], \"font\": {\"color\": \"#2a3f5f\"}, \"geo\": {\"bgcolor\": \"white\", \"lakecolor\": \"white\", \"landcolor\": \"#E5ECF6\", \"showlakes\": true, \"showland\": true, \"subunitcolor\": \"white\"}, \"hoverlabel\": {\"align\": \"left\"}, \"hovermode\": \"closest\", \"mapbox\": {\"style\": \"light\"}, \"paper_bgcolor\": \"white\", \"plot_bgcolor\": \"#E5ECF6\", \"polar\": {\"angularaxis\": {\"gridcolor\": \"white\", \"linecolor\": \"white\", \"ticks\": \"\"}, \"bgcolor\": \"#E5ECF6\", \"radialaxis\": {\"gridcolor\": \"white\", \"linecolor\": \"white\", \"ticks\": \"\"}}, \"scene\": {\"xaxis\": {\"backgroundcolor\": \"#E5ECF6\", \"gridcolor\": \"white\", \"gridwidth\": 2, \"linecolor\": \"white\", \"showbackground\": true, \"ticks\": \"\", \"zerolinecolor\": \"white\"}, \"yaxis\": {\"backgroundcolor\": \"#E5ECF6\", \"gridcolor\": \"white\", \"gridwidth\": 2, \"linecolor\": \"white\", \"showbackground\": true, \"ticks\": \"\", \"zerolinecolor\": \"white\"}, \"zaxis\": {\"backgroundcolor\": \"#E5ECF6\", \"gridcolor\": \"white\", \"gridwidth\": 2, \"linecolor\": \"white\", \"showbackground\": true, \"ticks\": \"\", \"zerolinecolor\": \"white\"}}, \"shapedefaults\": {\"line\": {\"color\": \"#2a3f5f\"}}, \"ternary\": {\"aaxis\": {\"gridcolor\": \"white\", \"linecolor\": \"white\", \"ticks\": \"\"}, \"baxis\": {\"gridcolor\": \"white\", \"linecolor\": \"white\", \"ticks\": \"\"}, \"bgcolor\": \"#E5ECF6\", \"caxis\": {\"gridcolor\": \"white\", \"linecolor\": \"white\", \"ticks\": \"\"}}, \"title\": {\"x\": 0.05}, \"xaxis\": {\"automargin\": true, \"gridcolor\": \"white\", \"linecolor\": \"white\", \"ticks\": \"\", \"title\": {\"standoff\": 15}, \"zerolinecolor\": \"white\", \"zerolinewidth\": 2}, \"yaxis\": {\"automargin\": true, \"gridcolor\": \"white\", \"linecolor\": \"white\", \"ticks\": \"\", \"title\": {\"standoff\": 15}, \"zerolinecolor\": \"white\", \"zerolinewidth\": 2}}}},\n",
       "                        {\"responsive\": true}\n",
       "                    ).then(function(){\n",
       "                            \n",
       "var gd = document.getElementById('0cab5716-6542-4ebf-8484-eed927301421');\n",
       "var x = new MutationObserver(function (mutations, observer) {{\n",
       "        var display = window.getComputedStyle(gd).display;\n",
       "        if (!display || display === 'none') {{\n",
       "            console.log([gd, 'removed!']);\n",
       "            Plotly.purge(gd);\n",
       "            observer.disconnect();\n",
       "        }}\n",
       "}});\n",
       "\n",
       "// Listen for the removal of the full notebook cells\n",
       "var notebookContainer = gd.closest('#notebook-container');\n",
       "if (notebookContainer) {{\n",
       "    x.observe(notebookContainer, {childList: true});\n",
       "}}\n",
       "\n",
       "// Listen for the clearing of the current output cell\n",
       "var outputEl = gd.closest('.output');\n",
       "if (outputEl) {{\n",
       "    x.observe(outputEl, {childList: true});\n",
       "}}\n",
       "\n",
       "                        })\n",
       "                };\n",
       "                });\n",
       "            </script>\n",
       "        </div>"
      ]
     },
     "metadata": {},
     "output_type": "display_data"
    }
   ],
   "source": [
    "\n",
    "feture_to_plot = [\"energy\", \"liveness\", \"tempo\", \"valence\", \"loudness\", \"speechiness\", \"acousticness\", \"danceability\", \"instrumentalness\"]\n",
    "text1 = df_2019[\"artists\"] + \" - \" + df_2019[\"name\"]\n",
    "text2 = text1.values\n",
    "X = df_2019[feture_to_plot].values\n",
    "y = df_2019[\"danceability\"].values\n",
    "min_maxscaler = MinMaxScaler()\n",
    "X = min_maxscaler.fit_transform(X)\n",
    "pca = PCA(n_components=3)\n",
    "pca.fit(X)\n",
    "X = pca.transform(X)\n",
    "\n",
    "plot3d = go.Scatter3d(\n",
    "    x=X[:,0],\n",
    "    y=X[:,1],\n",
    "    z=X[:,2],\n",
    "    text=text2,\n",
    "    mode=\"markers\",\n",
    "    marker=dict(\n",
    "        size=8,\n",
    "        color=y\n",
    "    )\n",
    ")\n",
    "\n",
    "fig = go.Figure(data=[plot3d])\n",
    "py.iplot(fig, filename=\"3d graph\")\n"
   ]
  },
  {
   "cell_type": "code",
   "execution_count": 64,
   "metadata": {},
   "outputs": [
    {
     "data": {
      "image/png": "[encoded data removed]",
      "text/plain": [
       "<Figure size 864x576 with 2 Axes>"
      ]
     },
     "metadata": {
      "needs_background": "light"
     },
     "output_type": "display_data"
    }
   ],
   "source": [
    "correlation = df_2019[['acousticness','danceability','energy','instrumentalness','liveness','tempo','valence',\n",
    "                       'loudness']]\n",
    "plt.figure(figsize=(12,8))\n",
    "sns.heatmap(correlation.corr(), annot=True,cmap=\"coolwarm\");"
   ]
  },
  {
   "cell_type": "markdown",
   "metadata": {},
   "source": [
    "##### We can observe that there is a correlation between the loudness and the perceived energy of the song. The jointplots indicate a correlation between these two. Lets understand  how much one feature si impacted by another feature "
   ]
  },
  {
   "cell_type": "code",
   "execution_count": 65,
   "metadata": {},
   "outputs": [],
   "source": [
    "def create_joinplot(val1,val2,year,colr):\n",
    "    sns.jointplot(val1,val2, data=year,kind='reg',color=colr)"
   ]
  },
  {
   "cell_type": "code",
   "execution_count": 66,
   "metadata": {},
   "outputs": [
    {
     "data": {
      "image/png": "[encoded data removed]",
      "text/plain": [
       "<Figure size 432x432 with 3 Axes>"
      ]
     },
     "metadata": {
      "needs_background": "light"
     },
     "output_type": "display_data"
    },
    {
     "data": {
      "image/png": "[encoded data removed]",
      "text/plain": [
       "<Figure size 432x432 with 3 Axes>"
      ]
     },
     "metadata": {
      "needs_background": "light"
     },
     "output_type": "display_data"
    },
    {
     "data": {
      "image/png": "[encoded data removed]",
      "text/plain": [
       "<Figure size 432x432 with 3 Axes>"
      ]
     },
     "metadata": {
      "needs_background": "light"
     },
     "output_type": "display_data"
    },
    {
     "data": {
      "image/png": "[encoded data removed]",
      "text/plain": [
       "<Figure size 432x432 with 3 Axes>"
      ]
     },
     "metadata": {
      "needs_background": "light"
     },
     "output_type": "display_data"
    }
   ],
   "source": [
    "\n",
    "create_joinplot('loudness','energy',df_2019,'r')\n",
    "create_joinplot('tempo','danceability',df_2019,'b')\n",
    "create_joinplot('acousticness','energy',df_2019,'y')\n",
    "create_joinplot('valence','energy',df_2019,'b')"
   ]
  },
  {
   "cell_type": "markdown",
   "metadata": {},
   "source": [
    "### from the corelation matrix we observe that  \n",
    "- there is a relation between  tempo and dancebility \n",
    "- there is a relation between  acounsticeness and energy \n",
    "- there is a relation between  tempo and acousticeness\n",
    "- there is a relation between  energy and loudness\n",
    "- there is a relation between  tempo and valence\n",
    "- there is a relation between  valence and dancebility \n",
    "- there is a relation between  valence and energy  "
   ]
  },
  {
   "cell_type": "markdown",
   "metadata": {},
   "source": [
    "#### understand these correlation features in more details ;\n"
   ]
  },
  {
   "cell_type": "code",
   "execution_count": 67,
   "metadata": {},
   "outputs": [],
   "source": [
    "def feature_details(feature):\n",
    "    print(\"Mean value \", feature.mean())\n",
    "    sns.distplot(feature,color=\"r\")\n",
    "    plt.show()\n"
   ]
  },
  {
   "cell_type": "code",
   "execution_count": 68,
   "metadata": {},
   "outputs": [
    {
     "name": "stdout",
     "output_type": "stream",
     "text": [
      "Mean value  0.7194000000000002\n"
     ]
    },
    {
     "data": {
      "image/png": "[encoded data removed]",
      "text/plain": [
       "<Figure size 432x288 with 1 Axes>"
      ]
     },
     "metadata": {
      "needs_background": "light"
     },
     "output_type": "display_data"
    }
   ],
   "source": [
    "feature_details(df_2019['danceability'])"
   ]
  },
  {
   "cell_type": "markdown",
   "metadata": {},
   "source": [
    "*Conclusion*: top songs have high dancebility.And people listen to those songs in which they can dance."
   ]
  },
  {
   "cell_type": "code",
   "execution_count": 70,
   "metadata": {},
   "outputs": [
    {
     "name": "stdout",
     "output_type": "stream",
     "text": [
      "Mean value  0.60462\n"
     ]
    },
    {
     "data": {
      "image/png": "[encoded data removed]",
      "text/plain": [
       "<Figure size 432x288 with 1 Axes>"
      ]
     },
     "metadata": {
      "needs_background": "light"
     },
     "output_type": "display_data"
    }
   ],
   "source": [
    "feature_details(df_2019['energy'])"
   ]
  },
  {
   "cell_type": "markdown",
   "metadata": {},
   "source": [
    "*Conclusion*:people like energetic songs "
   ]
  },
  {
   "cell_type": "code",
   "execution_count": 71,
   "metadata": {},
   "outputs": [
    {
     "name": "stdout",
     "output_type": "stream",
     "text": [
      "Mean value  -6.22902\n"
     ]
    },
    {
     "data": {
      "image/png": "[encoded data removed]",
      "text/plain": [
       "<Figure size 432x288 with 1 Axes>"
      ]
     },
     "metadata": {
      "needs_background": "light"
     },
     "output_type": "display_data"
    }
   ],
   "source": [
    "feature_details(df_2019['loudness'])"
   ]
  },
  {
   "cell_type": "markdown",
   "metadata": {},
   "source": [
    "*Conclusion*: more noice means more ranking "
   ]
  },
  {
   "cell_type": "code",
   "execution_count": 72,
   "metadata": {},
   "outputs": [
    {
     "name": "stdout",
     "output_type": "stream",
     "text": [
      "Mean value  0.2993606\n"
     ]
    },
    {
     "data": {
      "image/png": "[encoded data removed]",
      "text/plain": [
       "<Figure size 432x288 with 1 Axes>"
      ]
     },
     "metadata": {
      "needs_background": "light"
     },
     "output_type": "display_data"
    }
   ],
   "source": [
    "feature_details(df_2019['acousticness'])"
   ]
  },
  {
   "cell_type": "markdown",
   "metadata": {},
   "source": [
    "*Conclusion*:people don't lisen more to the acoustics "
   ]
  },
  {
   "cell_type": "code",
   "execution_count": 73,
   "metadata": {},
   "outputs": [
    {
     "name": "stdout",
     "output_type": "stream",
     "text": [
      "Mean value  0.49042\n"
     ]
    },
    {
     "data": {
      "image/png": "[encoded data removed]",
      "text/plain": [
       "<Figure size 432x288 with 1 Axes>"
      ]
     },
     "metadata": {
      "needs_background": "light"
     },
     "output_type": "display_data"
    }
   ],
   "source": [
    "feature_details(df_2019['valence'])"
   ]
  },
  {
   "cell_type": "markdown",
   "metadata": {},
   "source": [
    "*Conclusion*:songs are evenly distributed and totally depends upon the mood "
   ]
  },
  {
   "cell_type": "code",
   "execution_count": 74,
   "metadata": {},
   "outputs": [
    {
     "name": "stdout",
     "output_type": "stream",
     "text": [
      "Mean value  120.42562\n"
     ]
    },
    {
     "data": {
      "image/png": "[encoded data removed]",
      "text/plain": [
       "<Figure size 432x288 with 1 Axes>"
      ]
     },
     "metadata": {
      "needs_background": "light"
     },
     "output_type": "display_data"
    }
   ],
   "source": [
    "feature_details(df_2019['tempo'])"
   ]
  },
  {
   "cell_type": "markdown",
   "metadata": {},
   "source": [
    "*Conclusion*:people listen fast songs more "
   ]
  },
  {
   "cell_type": "markdown",
   "metadata": {},
   "source": [
    "### Again construct a 3d graph  with out limited features for better understanding "
   ]
  },
  {
   "cell_type": "code",
   "execution_count": 75,
   "metadata": {},
   "outputs": [
    {
     "data": {
      "application/vnd.plotly.v1+json": {
       "config": {
        "linkText": "Export to plot.ly",
        "plotlyServerURL": "https://plot.ly",
        "showLink": false
       },
       "data": [
        {
         "marker": {
          "color": [
           0.759,
           0.701,
           0.755,
           0.778,
           0.878,
           0.7979999999999999,
           0.8290000000000001,
           0.501,
           0.737,
           0.5720000000000001,
           0.687,
           0.752,
           0.826,
           0.7170000000000001,
           0.8420000000000001,
           0.7190000000000001,
           0.741,
           0.905,
           0.907,
           0.9009999999999999,
           0.36700000000000005,
           0.64,
           0.825,
           0.726,
           0.8370000000000001,
           0.58,
           0.579,
           0.8420000000000001,
           0.745,
           0.35100000000000003,
           0.8340000000000001,
           0.889,
           0.674,
           0.61,
           0.8170000000000001,
           0.715,
           0.632,
           0.414,
           0.807,
           0.7859999999999999,
           0.691,
           0.747,
           0.599,
           0.677,
           0.802,
           0.68,
           0.795,
           0.767,
           0.652,
           0.585
          ],
          "size": 8
         },
         "mode": "markers",
         "text": [
          "Shawn Mendes - Señorita",
          "Billie Eilish - bad guy",
          "Post Malone - Sunflower - Spider-Man: Into the Spider-Verse",
          "Ariana Grande - 7 rings",
          "Lil Nas X - Old Town Road - Remix",
          "Ed Sheeran - I Don't Care (with Justin Bieber)",
          "Post Malone - Wow.",
          "Lewis Capaldi - Someone You Loved",
          "Daddy Yankee - Con Calma",
          "Lady Gaga - Shallow",
          "Marshmello - Happier",
          "Halsey - Without Me",
          "Pedro Capó - Calma - Remix",
          "Ariana Grande - thank u, next",
          "Jonas Brothers - Sucker",
          "Ava Max - Sweet but Psycho",
          "Sam Smith - Dancing With A Stranger (with Normani)",
          "Billie Eilish - bury a friend",
          "Lil Nas X - Old Town Road",
          "Khalid - Talk (feat. Disclosure)",
          "Billie Eilish - when the party's over",
          "Ed Sheeran - Beautiful People (feat. Khalid)",
          "Tones And I - Dance Monkey",
          "Ariana Grande - break up with your girlfriend, i'm bored",
          "J. Cole - MIDDLE CHILD",
          "Post Malone - Goodbyes (Feat. Young Thug)",
          "Panic! At The Disco - High Hopes",
          "DJ Snake - Taki Taki (feat. Selena Gomez, Ozuna & Cardi B)",
          "Lil Tecca - Ransom",
          "Billie Eilish - lovely (with Khalid)",
          "Travis Scott - SICKO MODE",
          "Meek Mill - Going Bad (feat. Drake)",
          "Mabel - Don't Call Me Up",
          "Bad Bunny - Callaita",
          "Bad Bunny - MIA (feat. Drake)",
          "Lizzo - Truth Hurts",
          "benny blanco - Eastside (with Halsey & Khalid)",
          "Queen - Bohemian Rhapsody - 2011 Mix",
          "Anuel AA - Secreto",
          "Anuel AA - China",
          "Shawn Mendes - If I Can't Have You",
          "Sech - Otro Trago",
          "Lauv - i'm so tired...",
          "MEDUZA - Piece Of Your Heart",
          "Avicii - SOS (feat. Aloe Blacc)",
          "Post Malone - Better Now",
          "Lunay - Soltera - Remix",
          "Paulo Londra - Adan y Eva",
          "Alec Benjamin - Let Me Down Slowly",
          "Post Malone - rockstar (feat. 21 Savage)"
         ],
         "type": "scatter3d",
         "x": [
          -0.23652488783422945,
          0.06570259779359183,
          -0.3914655617551256,
          0.2738485408507476,
          -0.26813046232560517,
          -0.4384253776331666,
          0.019605253171482408,
          0.33594087162571,
          -0.3411807722600374,
          0.4032578587670686,
          -0.25285549641157534,
          0.009505564016856411,
          -0.4259397708855795,
          0.029616953409747033,
          -0.5825299838125767,
          -0.1687889661984814,
          0.15966025128602981,
          0.22734583072659686,
          -0.1244046858445218,
          0.09579321389378889,
          0.827400845148083,
          -0.03062829902762313,
          -0.13618138038408434,
          0.18950823779956355,
          0.08860932928431599,
          0.38416429555829446,
          -0.2613226509758838,
          -0.3589221423156821,
          0.21751091689876093,
          0.8195570711217767,
          -0.11379965089367723,
          -0.13298120515010015,
          0.0783572041549014,
          0.34828948962687944,
          0.23049990587193675,
          0.08355182221755267,
          0.15775282248073097,
          0.6076842093987659,
          -0.4019387040835611,
          -0.3001840491829292,
          -0.4398598147462719,
          -0.16358403186374748,
          -0.010184429001391044,
          -0.17704225336727478,
          -0.008482653042970866,
          0.1972203622419417,
          -0.4229457924311822,
          -0.281438339012065,
          0.11022199105719002,
          0.5091359220370336
         ],
         "y": [
          0.010779798373904874,
          -0.12486584844438084,
          0.25394186388361784,
          -0.24976739311912982,
          -0.2049523289878227,
          0.13358784106890179,
          0.07591916766816952,
          0.1758170084032514,
          0.178358571778711,
          0.33071099625063566,
          0.23819920884945697,
          -0.16868444667397414,
          -0.06206767489646861,
          0.07747636699809198,
          -0.1605461623772914,
          -0.0596663749586565,
          0.17857589444326527,
          -0.1568083669245599,
          -0.24804683419191204,
          -0.29875691009221617,
          0.4256255780180366,
          0.23901309450811717,
          0.16596580977265984,
          -0.459050610666712,
          0.00878782769997347,
          -0.2396018544959569,
          0.3688993855758622,
          0.10729963242867166,
          -0.5989096406412499,
          0.15312431513249344,
          -0.361763858433091,
          0.2950009213949048,
          0.12156837843703827,
          -0.36273308137752125,
          0.06840305199647183,
          -0.3303944604673611,
          0.32390520335198075,
          0.6546143939865569,
          0.22462776904025725,
          0.07249589678005443,
          0.04264855755541307,
          -0.4750287095011466,
          0.30099662498842783,
          -0.0314020679574199,
          0.09895195942471734,
          -0.2051086109887439,
          0.4677422417545602,
          -0.46297667946134785,
          -0.2188062025961982,
          -0.3130992423110391
         ],
         "z": [
          -0.03221768262044514,
          -0.001717689219411499,
          -0.05100016010231381,
          0.19388634643431657,
          0.13052734580924627,
          -0.044529196142307326,
          0.1936398502907155,
          -0.1994800468573507,
          -0.2110470512649717,
          0.10254132443745911,
          -0.12086670003519376,
          0.03148083403230206,
          -0.003291109256450357,
          -0.03389424748696167,
          -0.061929386909043344,
          -0.059450635254953685,
          0.23408155949510193,
          0.40110204937025157,
          0.23304919950095318,
          0.281890678190246,
          -0.1541210673437379,
          -0.17470957045661575,
          0.2070955094612091,
          -0.016541107301981908,
          0.4549653247713094,
          -0.20086558955952902,
          -0.431800608536104,
          -0.023053038477822835,
          -0.07220288964128418,
          -0.2866918358411528,
          0.048390920373169576,
          0.45624839525364286,
          -0.18925366938301932,
          -0.0316091868929661,
          0.22893738812296546,
          -0.05248992860898623,
          -0.00876941771089263,
          0.013009892537530085,
          -0.001160798369515991,
          -0.0891501359869721,
          -0.2445096790712766,
          -0.1336287467941066,
          -0.08892127461523472,
          -0.23850651649194873,
          0.12276281834400557,
          -0.02967494659843562,
          0.3334624007208048,
          -0.17258034033131736,
          -0.10788309563198435,
          -0.099524488350946
         ]
        }
       ],
       "layout": {
        "template": {
         "data": {
          "bar": [
           {
            "error_x": {
             "color": "#2a3f5f"
            },
            "error_y": {
             "color": "#2a3f5f"
            },
            "marker": {
             "line": {
              "color": "#E5ECF6",
              "width": 0.5
             }
            },
            "type": "bar"
           }
          ],
          "barpolar": [
           {
            "marker": {
             "line": {
              "color": "#E5ECF6",
              "width": 0.5
             }
            },
            "type": "barpolar"
           }
          ],
          "carpet": [
           {
            "aaxis": {
             "endlinecolor": "#2a3f5f",
             "gridcolor": "white",
             "linecolor": "white",
             "minorgridcolor": "white",
             "startlinecolor": "#2a3f5f"
            },
            "baxis": {
             "endlinecolor": "#2a3f5f",
             "gridcolor": "white",
             "linecolor": "white",
             "minorgridcolor": "white",
             "startlinecolor": "#2a3f5f"
            },
            "type": "carpet"
           }
          ],
          "choropleth": [
           {
            "colorbar": {
             "outlinewidth": 0,
             "ticks": ""
            },
            "type": "choropleth"
           }
          ],
          "contour": [
           {
            "colorbar": {
             "outlinewidth": 0,
             "ticks": ""
            },
            "colorscale": [
             [
              0,
              "#0d0887"
             ],
             [
              0.1111111111111111,
              "#46039f"
             ],
             [
              0.2222222222222222,
              "#7201a8"
             ],
             [
              0.3333333333333333,
              "#9c179e"
             ],
             [
              0.4444444444444444,
              "#bd3786"
             ],
             [
              0.5555555555555556,
              "#d8576b"
             ],
             [
              0.6666666666666666,
              "#ed7953"
             ],
             [
              0.7777777777777778,
              "#fb9f3a"
             ],
             [
              0.8888888888888888,
              "#fdca26"
             ],
             [
              1,
              "#f0f921"
             ]
            ],
            "type": "contour"
           }
          ],
          "contourcarpet": [
           {
            "colorbar": {
             "outlinewidth": 0,
             "ticks": ""
            },
            "type": "contourcarpet"
           }
          ],
          "heatmap": [
           {
            "colorbar": {
             "outlinewidth": 0,
             "ticks": ""
            },
            "colorscale": [
             [
              0,
              "#0d0887"
             ],
             [
              0.1111111111111111,
              "#46039f"
             ],
             [
              0.2222222222222222,
              "#7201a8"
             ],
             [
              0.3333333333333333,
              "#9c179e"
             ],
             [
              0.4444444444444444,
              "#bd3786"
             ],
             [
              0.5555555555555556,
              "#d8576b"
             ],
             [
              0.6666666666666666,
              "#ed7953"
             ],
             [
              0.7777777777777778,
              "#fb9f3a"
             ],
             [
              0.8888888888888888,
              "#fdca26"
             ],
             [
              1,
              "#f0f921"
             ]
            ],
            "type": "heatmap"
           }
          ],
          "heatmapgl": [
           {
            "colorbar": {
             "outlinewidth": 0,
             "ticks": ""
            },
            "colorscale": [
             [
              0,
              "#0d0887"
             ],
             [
              0.1111111111111111,
              "#46039f"
             ],
             [
              0.2222222222222222,
              "#7201a8"
             ],
             [
              0.3333333333333333,
              "#9c179e"
             ],
             [
              0.4444444444444444,
              "#bd3786"
             ],
             [
              0.5555555555555556,
              "#d8576b"
             ],
             [
              0.6666666666666666,
              "#ed7953"
             ],
             [
              0.7777777777777778,
              "#fb9f3a"
             ],
             [
              0.8888888888888888,
              "#fdca26"
             ],
             [
              1,
              "#f0f921"
             ]
            ],
            "type": "heatmapgl"
           }
          ],
          "histogram": [
           {
            "marker": {
             "colorbar": {
              "outlinewidth": 0,
              "ticks": ""
             }
            },
            "type": "histogram"
           }
          ],
          "histogram2d": [
           {
            "colorbar": {
             "outlinewidth": 0,
             "ticks": ""
            },
            "colorscale": [
             [
              0,
              "#0d0887"
             ],
             [
              0.1111111111111111,
              "#46039f"
             ],
             [
              0.2222222222222222,
              "#7201a8"
             ],
             [
              0.3333333333333333,
              "#9c179e"
             ],
             [
              0.4444444444444444,
              "#bd3786"
             ],
             [
              0.5555555555555556,
              "#d8576b"
             ],
             [
              0.6666666666666666,
              "#ed7953"
             ],
             [
              0.7777777777777778,
              "#fb9f3a"
             ],
             [
              0.8888888888888888,
              "#fdca26"
             ],
             [
              1,
              "#f0f921"
             ]
            ],
            "type": "histogram2d"
           }
          ],
          "histogram2dcontour": [
           {
            "colorbar": {
             "outlinewidth": 0,
             "ticks": ""
            },
            "colorscale": [
             [
              0,
              "#0d0887"
             ],
             [
              0.1111111111111111,
              "#46039f"
             ],
             [
              0.2222222222222222,
              "#7201a8"
             ],
             [
              0.3333333333333333,
              "#9c179e"
             ],
             [
              0.4444444444444444,
              "#bd3786"
             ],
             [
              0.5555555555555556,
              "#d8576b"
             ],
             [
              0.6666666666666666,
              "#ed7953"
             ],
             [
              0.7777777777777778,
              "#fb9f3a"
             ],
             [
              0.8888888888888888,
              "#fdca26"
             ],
             [
              1,
              "#f0f921"
             ]
            ],
            "type": "histogram2dcontour"
           }
          ],
          "mesh3d": [
           {
            "colorbar": {
             "outlinewidth": 0,
             "ticks": ""
            },
            "type": "mesh3d"
           }
          ],
          "parcoords": [
           {
            "line": {
             "colorbar": {
              "outlinewidth": 0,
              "ticks": ""
             }
            },
            "type": "parcoords"
           }
          ],
          "pie": [
           {
            "automargin": true,
            "type": "pie"
           }
          ],
          "scatter": [
           {
            "marker": {
             "colorbar": {
              "outlinewidth": 0,
              "ticks": ""
             }
            },
            "type": "scatter"
           }
          ],
          "scatter3d": [
           {
            "line": {
             "colorbar": {
              "outlinewidth": 0,
              "ticks": ""
             }
            },
            "marker": {
             "colorbar": {
              "outlinewidth": 0,
              "ticks": ""
             }
            },
            "type": "scatter3d"
           }
          ],
          "scattercarpet": [
           {
            "marker": {
             "colorbar": {
              "outlinewidth": 0,
              "ticks": ""
             }
            },
            "type": "scattercarpet"
           }
          ],
          "scattergeo": [
           {
            "marker": {
             "colorbar": {
              "outlinewidth": 0,
              "ticks": ""
             }
            },
            "type": "scattergeo"
           }
          ],
          "scattergl": [
           {
            "marker": {
             "colorbar": {
              "outlinewidth": 0,
              "ticks": ""
             }
            },
            "type": "scattergl"
           }
          ],
          "scattermapbox": [
           {
            "marker": {
             "colorbar": {
              "outlinewidth": 0,
              "ticks": ""
             }
            },
            "type": "scattermapbox"
           }
          ],
          "scatterpolar": [
           {
            "marker": {
             "colorbar": {
              "outlinewidth": 0,
              "ticks": ""
             }
            },
            "type": "scatterpolar"
           }
          ],
          "scatterpolargl": [
           {
            "marker": {
             "colorbar": {
              "outlinewidth": 0,
              "ticks": ""
             }
            },
            "type": "scatterpolargl"
           }
          ],
          "scatterternary": [
           {
            "marker": {
             "colorbar": {
              "outlinewidth": 0,
              "ticks": ""
             }
            },
            "type": "scatterternary"
           }
          ],
          "surface": [
           {
            "colorbar": {
             "outlinewidth": 0,
             "ticks": ""
            },
            "colorscale": [
             [
              0,
              "#0d0887"
             ],
             [
              0.1111111111111111,
              "#46039f"
             ],
             [
              0.2222222222222222,
              "#7201a8"
             ],
             [
              0.3333333333333333,
              "#9c179e"
             ],
             [
              0.4444444444444444,
              "#bd3786"
             ],
             [
              0.5555555555555556,
              "#d8576b"
             ],
             [
              0.6666666666666666,
              "#ed7953"
             ],
             [
              0.7777777777777778,
              "#fb9f3a"
             ],
             [
              0.8888888888888888,
              "#fdca26"
             ],
             [
              1,
              "#f0f921"
             ]
            ],
            "type": "surface"
           }
          ],
          "table": [
           {
            "cells": {
             "fill": {
              "color": "#EBF0F8"
             },
             "line": {
              "color": "white"
             }
            },
            "header": {
             "fill": {
              "color": "#C8D4E3"
             },
             "line": {
              "color": "white"
             }
            },
            "type": "table"
           }
          ]
         },
         "layout": {
          "annotationdefaults": {
           "arrowcolor": "#2a3f5f",
           "arrowhead": 0,
           "arrowwidth": 1
          },
          "coloraxis": {
           "colorbar": {
            "outlinewidth": 0,
            "ticks": ""
           }
          },
          "colorscale": {
           "diverging": [
            [
             0,
             "#8e0152"
            ],
            [
             0.1,
             "#c51b7d"
            ],
            [
             0.2,
             "#de77ae"
            ],
            [
             0.3,
             "#f1b6da"
            ],
            [
             0.4,
             "#fde0ef"
            ],
            [
             0.5,
             "#f7f7f7"
            ],
            [
             0.6,
             "#e6f5d0"
            ],
            [
             0.7,
             "#b8e186"
            ],
            [
             0.8,
             "#7fbc41"
            ],
            [
             0.9,
             "#4d9221"
            ],
            [
             1,
             "#276419"
            ]
           ],
           "sequential": [
            [
             0,
             "#0d0887"
            ],
            [
             0.1111111111111111,
             "#46039f"
            ],
            [
             0.2222222222222222,
             "#7201a8"
            ],
            [
             0.3333333333333333,
             "#9c179e"
            ],
            [
             0.4444444444444444,
             "#bd3786"
            ],
            [
             0.5555555555555556,
             "#d8576b"
            ],
            [
             0.6666666666666666,
             "#ed7953"
            ],
            [
             0.7777777777777778,
             "#fb9f3a"
            ],
            [
             0.8888888888888888,
             "#fdca26"
            ],
            [
             1,
             "#f0f921"
            ]
           ],
           "sequentialminus": [
            [
             0,
             "#0d0887"
            ],
            [
             0.1111111111111111,
             "#46039f"
            ],
            [
             0.2222222222222222,
             "#7201a8"
            ],
            [
             0.3333333333333333,
             "#9c179e"
            ],
            [
             0.4444444444444444,
             "#bd3786"
            ],
            [
             0.5555555555555556,
             "#d8576b"
            ],
            [
             0.6666666666666666,
             "#ed7953"
            ],
            [
             0.7777777777777778,
             "#fb9f3a"
            ],
            [
             0.8888888888888888,
             "#fdca26"
            ],
            [
             1,
             "#f0f921"
            ]
           ]
          },
          "colorway": [
           "#636efa",
           "#EF553B",
           "#00cc96",
           "#ab63fa",
           "#FFA15A",
           "#19d3f3",
           "#FF6692",
           "#B6E880",
           "#FF97FF",
           "#FECB52"
          ],
          "font": {
           "color": "#2a3f5f"
          },
          "geo": {
           "bgcolor": "white",
           "lakecolor": "white",
           "landcolor": "#E5ECF6",
           "showlakes": true,
           "showland": true,
           "subunitcolor": "white"
          },
          "hoverlabel": {
           "align": "left"
          },
          "hovermode": "closest",
          "mapbox": {
           "style": "light"
          },
          "paper_bgcolor": "white",
          "plot_bgcolor": "#E5ECF6",
          "polar": {
           "angularaxis": {
            "gridcolor": "white",
            "linecolor": "white",
            "ticks": ""
           },
           "bgcolor": "#E5ECF6",
           "radialaxis": {
            "gridcolor": "white",
            "linecolor": "white",
            "ticks": ""
           }
          },
          "scene": {
           "xaxis": {
            "backgroundcolor": "#E5ECF6",
            "gridcolor": "white",
            "gridwidth": 2,
            "linecolor": "white",
            "showbackground": true,
            "ticks": "",
            "zerolinecolor": "white"
           },
           "yaxis": {
            "backgroundcolor": "#E5ECF6",
            "gridcolor": "white",
            "gridwidth": 2,
            "linecolor": "white",
            "showbackground": true,
            "ticks": "",
            "zerolinecolor": "white"
           },
           "zaxis": {
            "backgroundcolor": "#E5ECF6",
            "gridcolor": "white",
            "gridwidth": 2,
            "linecolor": "white",
            "showbackground": true,
            "ticks": "",
            "zerolinecolor": "white"
           }
          },
          "shapedefaults": {
           "line": {
            "color": "#2a3f5f"
           }
          },
          "ternary": {
           "aaxis": {
            "gridcolor": "white",
            "linecolor": "white",
            "ticks": ""
           },
           "baxis": {
            "gridcolor": "white",
            "linecolor": "white",
            "ticks": ""
           },
           "bgcolor": "#E5ECF6",
           "caxis": {
            "gridcolor": "white",
            "linecolor": "white",
            "ticks": ""
           }
          },
          "title": {
           "x": 0.05
          },
          "xaxis": {
           "automargin": true,
           "gridcolor": "white",
           "linecolor": "white",
           "ticks": "",
           "title": {
            "standoff": 15
           },
           "zerolinecolor": "white",
           "zerolinewidth": 2
          },
          "yaxis": {
           "automargin": true,
           "gridcolor": "white",
           "linecolor": "white",
           "ticks": "",
           "title": {
            "standoff": 15
           },
           "zerolinecolor": "white",
           "zerolinewidth": 2
          }
         }
        }
       }
      },
      "text/html": [
       "<div>\n",
       "        \n",
       "        \n",
       "            <div id=\"2c162ad5-4c69-4ea1-b744-c9c67386e74e\" class=\"plotly-graph-div\" style=\"height:525px; width:100%;\"></div>\n",
       "            <script type=\"text/javascript\">\n",
       "                require([\"plotly\"], function(Plotly) {\n",
       "                    window.PLOTLYENV=window.PLOTLYENV || {};\n",
       "                    \n",
       "                if (document.getElementById(\"2c162ad5-4c69-4ea1-b744-c9c67386e74e\")) {\n",
       "                    Plotly.newPlot(\n",
       "                        '2c162ad5-4c69-4ea1-b744-c9c67386e74e',\n",
       "                        [{\"marker\": {\"color\": [0.759, 0.701, 0.755, 0.778, 0.878, 0.7979999999999999, 0.8290000000000001, 0.501, 0.737, 0.5720000000000001, 0.687, 0.752, 0.826, 0.7170000000000001, 0.8420000000000001, 0.7190000000000001, 0.741, 0.905, 0.907, 0.9009999999999999, 0.36700000000000005, 0.64, 0.825, 0.726, 0.8370000000000001, 0.58, 0.579, 0.8420000000000001, 0.745, 0.35100000000000003, 0.8340000000000001, 0.889, 0.674, 0.61, 0.8170000000000001, 0.715, 0.632, 0.414, 0.807, 0.7859999999999999, 0.691, 0.747, 0.599, 0.677, 0.802, 0.68, 0.795, 0.767, 0.652, 0.585], \"size\": 8}, \"mode\": \"markers\", \"text\": [\"Shawn Mendes - Se\\u00f1orita\", \"Billie Eilish - bad guy\", \"Post Malone - Sunflower - Spider-Man: Into the Spider-Verse\", \"Ariana Grande - 7 rings\", \"Lil Nas X - Old Town Road - Remix\", \"Ed Sheeran - I Don't Care (with Justin Bieber)\", \"Post Malone - Wow.\", \"Lewis Capaldi - Someone You Loved\", \"Daddy Yankee - Con Calma\", \"Lady Gaga - Shallow\", \"Marshmello - Happier\", \"Halsey - Without Me\", \"Pedro Cap\\u00f3 - Calma - Remix\", \"Ariana Grande - thank u, next\", \"Jonas Brothers - Sucker\", \"Ava Max - Sweet but Psycho\", \"Sam Smith - Dancing With A Stranger (with Normani)\", \"Billie Eilish - bury a friend\", \"Lil Nas X - Old Town Road\", \"Khalid - Talk (feat. Disclosure)\", \"Billie Eilish - when the party's over\", \"Ed Sheeran - Beautiful People (feat. Khalid)\", \"Tones And I - Dance Monkey\", \"Ariana Grande - break up with your girlfriend, i'm bored\", \"J. Cole - MIDDLE CHILD\", \"Post Malone - Goodbyes (Feat. Young Thug)\", \"Panic! At The Disco - High Hopes\", \"DJ Snake - Taki Taki (feat. Selena Gomez, Ozuna & Cardi B)\", \"Lil Tecca - Ransom\", \"Billie Eilish - lovely (with Khalid)\", \"Travis Scott - SICKO MODE\", \"Meek Mill - Going Bad (feat. Drake)\", \"Mabel - Don't Call Me Up\", \"Bad Bunny - Callaita\", \"Bad Bunny - MIA (feat. Drake)\", \"Lizzo - Truth Hurts\", \"benny blanco - Eastside (with Halsey & Khalid)\", \"Queen - Bohemian Rhapsody - 2011 Mix\", \"Anuel AA - Secreto\", \"Anuel AA - China\", \"Shawn Mendes - If I Can't Have You\", \"Sech - Otro Trago\", \"Lauv - i'm so tired...\", \"MEDUZA - Piece Of Your Heart\", \"Avicii - SOS (feat. Aloe Blacc)\", \"Post Malone - Better Now\", \"Lunay - Soltera - Remix\", \"Paulo Londra - Adan y Eva\", \"Alec Benjamin - Let Me Down Slowly\", \"Post Malone - rockstar (feat. 21 Savage)\"], \"type\": \"scatter3d\", \"x\": [-0.23652488783422945, 0.06570259779359183, -0.3914655617551256, 0.2738485408507476, -0.26813046232560517, -0.4384253776331666, 0.019605253171482408, 0.33594087162571, -0.3411807722600374, 0.4032578587670686, -0.25285549641157534, 0.009505564016856411, -0.4259397708855795, 0.029616953409747033, -0.5825299838125767, -0.1687889661984814, 0.15966025128602981, 0.22734583072659686, -0.1244046858445218, 0.09579321389378889, 0.827400845148083, -0.03062829902762313, -0.13618138038408434, 0.18950823779956355, 0.08860932928431599, 0.38416429555829446, -0.2613226509758838, -0.3589221423156821, 0.21751091689876093, 0.8195570711217767, -0.11379965089367723, -0.13298120515010015, 0.0783572041549014, 0.34828948962687944, 0.23049990587193675, 0.08355182221755267, 0.15775282248073097, 0.6076842093987659, -0.4019387040835611, -0.3001840491829292, -0.4398598147462719, -0.16358403186374748, -0.010184429001391044, -0.17704225336727478, -0.008482653042970866, 0.1972203622419417, -0.4229457924311822, -0.281438339012065, 0.11022199105719002, 0.5091359220370336], \"y\": [0.010779798373904874, -0.12486584844438084, 0.25394186388361784, -0.24976739311912982, -0.2049523289878227, 0.13358784106890179, 0.07591916766816952, 0.1758170084032514, 0.178358571778711, 0.33071099625063566, 0.23819920884945697, -0.16868444667397414, -0.06206767489646861, 0.07747636699809198, -0.1605461623772914, -0.0596663749586565, 0.17857589444326527, -0.1568083669245599, -0.24804683419191204, -0.29875691009221617, 0.4256255780180366, 0.23901309450811717, 0.16596580977265984, -0.459050610666712, 0.00878782769997347, -0.2396018544959569, 0.3688993855758622, 0.10729963242867166, -0.5989096406412499, 0.15312431513249344, -0.361763858433091, 0.2950009213949048, 0.12156837843703827, -0.36273308137752125, 0.06840305199647183, -0.3303944604673611, 0.32390520335198075, 0.6546143939865569, 0.22462776904025725, 0.07249589678005443, 0.04264855755541307, -0.4750287095011466, 0.30099662498842783, -0.0314020679574199, 0.09895195942471734, -0.2051086109887439, 0.4677422417545602, -0.46297667946134785, -0.2188062025961982, -0.3130992423110391], \"z\": [-0.03221768262044514, -0.001717689219411499, -0.05100016010231381, 0.19388634643431657, 0.13052734580924627, -0.044529196142307326, 0.1936398502907155, -0.1994800468573507, -0.2110470512649717, 0.10254132443745911, -0.12086670003519376, 0.03148083403230206, -0.003291109256450357, -0.03389424748696167, -0.061929386909043344, -0.059450635254953685, 0.23408155949510193, 0.40110204937025157, 0.23304919950095318, 0.281890678190246, -0.1541210673437379, -0.17470957045661575, 0.2070955094612091, -0.016541107301981908, 0.4549653247713094, -0.20086558955952902, -0.431800608536104, -0.023053038477822835, -0.07220288964128418, -0.2866918358411528, 0.048390920373169576, 0.45624839525364286, -0.18925366938301932, -0.0316091868929661, 0.22893738812296546, -0.05248992860898623, -0.00876941771089263, 0.013009892537530085, -0.001160798369515991, -0.0891501359869721, -0.2445096790712766, -0.1336287467941066, -0.08892127461523472, -0.23850651649194873, 0.12276281834400557, -0.02967494659843562, 0.3334624007208048, -0.17258034033131736, -0.10788309563198435, -0.099524488350946]}],\n",
       "                        {\"template\": {\"data\": {\"bar\": [{\"error_x\": {\"color\": \"#2a3f5f\"}, \"error_y\": {\"color\": \"#2a3f5f\"}, \"marker\": {\"line\": {\"color\": \"#E5ECF6\", \"width\": 0.5}}, \"type\": \"bar\"}], \"barpolar\": [{\"marker\": {\"line\": {\"color\": \"#E5ECF6\", \"width\": 0.5}}, \"type\": \"barpolar\"}], \"carpet\": [{\"aaxis\": {\"endlinecolor\": \"#2a3f5f\", \"gridcolor\": \"white\", \"linecolor\": \"white\", \"minorgridcolor\": \"white\", \"startlinecolor\": \"#2a3f5f\"}, \"baxis\": {\"endlinecolor\": \"#2a3f5f\", \"gridcolor\": \"white\", \"linecolor\": \"white\", \"minorgridcolor\": \"white\", \"startlinecolor\": \"#2a3f5f\"}, \"type\": \"carpet\"}], \"choropleth\": [{\"colorbar\": {\"outlinewidth\": 0, \"ticks\": \"\"}, \"type\": \"choropleth\"}], \"contour\": [{\"colorbar\": {\"outlinewidth\": 0, \"ticks\": \"\"}, \"colorscale\": [[0.0, \"#0d0887\"], [0.1111111111111111, \"#46039f\"], [0.2222222222222222, \"#7201a8\"], [0.3333333333333333, \"#9c179e\"], [0.4444444444444444, \"#bd3786\"], [0.5555555555555556, \"#d8576b\"], [0.6666666666666666, \"#ed7953\"], [0.7777777777777778, \"#fb9f3a\"], [0.8888888888888888, \"#fdca26\"], [1.0, \"#f0f921\"]], \"type\": \"contour\"}], \"contourcarpet\": [{\"colorbar\": {\"outlinewidth\": 0, \"ticks\": \"\"}, \"type\": \"contourcarpet\"}], \"heatmap\": [{\"colorbar\": {\"outlinewidth\": 0, \"ticks\": \"\"}, \"colorscale\": [[0.0, \"#0d0887\"], [0.1111111111111111, \"#46039f\"], [0.2222222222222222, \"#7201a8\"], [0.3333333333333333, \"#9c179e\"], [0.4444444444444444, \"#bd3786\"], [0.5555555555555556, \"#d8576b\"], [0.6666666666666666, \"#ed7953\"], [0.7777777777777778, \"#fb9f3a\"], [0.8888888888888888, \"#fdca26\"], [1.0, \"#f0f921\"]], \"type\": \"heatmap\"}], \"heatmapgl\": [{\"colorbar\": {\"outlinewidth\": 0, \"ticks\": \"\"}, \"colorscale\": [[0.0, \"#0d0887\"], [0.1111111111111111, \"#46039f\"], [0.2222222222222222, \"#7201a8\"], [0.3333333333333333, \"#9c179e\"], [0.4444444444444444, \"#bd3786\"], [0.5555555555555556, \"#d8576b\"], [0.6666666666666666, \"#ed7953\"], [0.7777777777777778, \"#fb9f3a\"], [0.8888888888888888, \"#fdca26\"], [1.0, \"#f0f921\"]], \"type\": \"heatmapgl\"}], \"histogram\": [{\"marker\": {\"colorbar\": {\"outlinewidth\": 0, \"ticks\": \"\"}}, \"type\": \"histogram\"}], \"histogram2d\": [{\"colorbar\": {\"outlinewidth\": 0, \"ticks\": \"\"}, \"colorscale\": [[0.0, \"#0d0887\"], [0.1111111111111111, \"#46039f\"], [0.2222222222222222, \"#7201a8\"], [0.3333333333333333, \"#9c179e\"], [0.4444444444444444, \"#bd3786\"], [0.5555555555555556, \"#d8576b\"], [0.6666666666666666, \"#ed7953\"], [0.7777777777777778, \"#fb9f3a\"], [0.8888888888888888, \"#fdca26\"], [1.0, \"#f0f921\"]], \"type\": \"histogram2d\"}], \"histogram2dcontour\": [{\"colorbar\": {\"outlinewidth\": 0, \"ticks\": \"\"}, \"colorscale\": [[0.0, \"#0d0887\"], [0.1111111111111111, \"#46039f\"], [0.2222222222222222, \"#7201a8\"], [0.3333333333333333, \"#9c179e\"], [0.4444444444444444, \"#bd3786\"], [0.5555555555555556, \"#d8576b\"], [0.6666666666666666, \"#ed7953\"], [0.7777777777777778, \"#fb9f3a\"], [0.8888888888888888, \"#fdca26\"], [1.0, \"#f0f921\"]], \"type\": \"histogram2dcontour\"}], \"mesh3d\": [{\"colorbar\": {\"outlinewidth\": 0, \"ticks\": \"\"}, \"type\": \"mesh3d\"}], \"parcoords\": [{\"line\": {\"colorbar\": {\"outlinewidth\": 0, \"ticks\": \"\"}}, \"type\": \"parcoords\"}], \"pie\": [{\"automargin\": true, \"type\": \"pie\"}], \"scatter\": [{\"marker\": {\"colorbar\": {\"outlinewidth\": 0, \"ticks\": \"\"}}, \"type\": \"scatter\"}], \"scatter3d\": [{\"line\": {\"colorbar\": {\"outlinewidth\": 0, \"ticks\": \"\"}}, \"marker\": {\"colorbar\": {\"outlinewidth\": 0, \"ticks\": \"\"}}, \"type\": \"scatter3d\"}], \"scattercarpet\": [{\"marker\": {\"colorbar\": {\"outlinewidth\": 0, \"ticks\": \"\"}}, \"type\": \"scattercarpet\"}], \"scattergeo\": [{\"marker\": {\"colorbar\": {\"outlinewidth\": 0, \"ticks\": \"\"}}, \"type\": \"scattergeo\"}], \"scattergl\": [{\"marker\": {\"colorbar\": {\"outlinewidth\": 0, \"ticks\": \"\"}}, \"type\": \"scattergl\"}], \"scattermapbox\": [{\"marker\": {\"colorbar\": {\"outlinewidth\": 0, \"ticks\": \"\"}}, \"type\": \"scattermapbox\"}], \"scatterpolar\": [{\"marker\": {\"colorbar\": {\"outlinewidth\": 0, \"ticks\": \"\"}}, \"type\": \"scatterpolar\"}], \"scatterpolargl\": [{\"marker\": {\"colorbar\": {\"outlinewidth\": 0, \"ticks\": \"\"}}, \"type\": \"scatterpolargl\"}], \"scatterternary\": [{\"marker\": {\"colorbar\": {\"outlinewidth\": 0, \"ticks\": \"\"}}, \"type\": \"scatterternary\"}], \"surface\": [{\"colorbar\": {\"outlinewidth\": 0, \"ticks\": \"\"}, \"colorscale\": [[0.0, \"#0d0887\"], [0.1111111111111111, \"#46039f\"], [0.2222222222222222, \"#7201a8\"], [0.3333333333333333, \"#9c179e\"], [0.4444444444444444, \"#bd3786\"], [0.5555555555555556, \"#d8576b\"], [0.6666666666666666, \"#ed7953\"], [0.7777777777777778, \"#fb9f3a\"], [0.8888888888888888, \"#fdca26\"], [1.0, \"#f0f921\"]], \"type\": \"surface\"}], \"table\": [{\"cells\": {\"fill\": {\"color\": \"#EBF0F8\"}, \"line\": {\"color\": \"white\"}}, \"header\": {\"fill\": {\"color\": \"#C8D4E3\"}, \"line\": {\"color\": \"white\"}}, \"type\": \"table\"}]}, \"layout\": {\"annotationdefaults\": {\"arrowcolor\": \"#2a3f5f\", \"arrowhead\": 0, \"arrowwidth\": 1}, \"coloraxis\": {\"colorbar\": {\"outlinewidth\": 0, \"ticks\": \"\"}}, \"colorscale\": {\"diverging\": [[0, \"#8e0152\"], [0.1, \"#c51b7d\"], [0.2, \"#de77ae\"], [0.3, \"#f1b6da\"], [0.4, \"#fde0ef\"], [0.5, \"#f7f7f7\"], [0.6, \"#e6f5d0\"], [0.7, \"#b8e186\"], [0.8, \"#7fbc41\"], [0.9, \"#4d9221\"], [1, \"#276419\"]], \"sequential\": [[0.0, \"#0d0887\"], [0.1111111111111111, \"#46039f\"], [0.2222222222222222, \"#7201a8\"], [0.3333333333333333, \"#9c179e\"], [0.4444444444444444, \"#bd3786\"], [0.5555555555555556, \"#d8576b\"], [0.6666666666666666, \"#ed7953\"], [0.7777777777777778, \"#fb9f3a\"], [0.8888888888888888, \"#fdca26\"], [1.0, \"#f0f921\"]], \"sequentialminus\": [[0.0, \"#0d0887\"], [0.1111111111111111, \"#46039f\"], [0.2222222222222222, \"#7201a8\"], [0.3333333333333333, \"#9c179e\"], [0.4444444444444444, \"#bd3786\"], [0.5555555555555556, \"#d8576b\"], [0.6666666666666666, \"#ed7953\"], [0.7777777777777778, \"#fb9f3a\"], [0.8888888888888888, \"#fdca26\"], [1.0, \"#f0f921\"]]}, \"colorway\": [\"#636efa\", \"#EF553B\", \"#00cc96\", \"#ab63fa\", \"#FFA15A\", \"#19d3f3\", \"#FF6692\", \"#B6E880\", \"#FF97FF\", \"#FECB52\"], \"font\": {\"color\": \"#2a3f5f\"}, \"geo\": {\"bgcolor\": \"white\", \"lakecolor\": \"white\", \"landcolor\": \"#E5ECF6\", \"showlakes\": true, \"showland\": true, \"subunitcolor\": \"white\"}, \"hoverlabel\": {\"align\": \"left\"}, \"hovermode\": \"closest\", \"mapbox\": {\"style\": \"light\"}, \"paper_bgcolor\": \"white\", \"plot_bgcolor\": \"#E5ECF6\", \"polar\": {\"angularaxis\": {\"gridcolor\": \"white\", \"linecolor\": \"white\", \"ticks\": \"\"}, \"bgcolor\": \"#E5ECF6\", \"radialaxis\": {\"gridcolor\": \"white\", \"linecolor\": \"white\", \"ticks\": \"\"}}, \"scene\": {\"xaxis\": {\"backgroundcolor\": \"#E5ECF6\", \"gridcolor\": \"white\", \"gridwidth\": 2, \"linecolor\": \"white\", \"showbackground\": true, \"ticks\": \"\", \"zerolinecolor\": \"white\"}, \"yaxis\": {\"backgroundcolor\": \"#E5ECF6\", \"gridcolor\": \"white\", \"gridwidth\": 2, \"linecolor\": \"white\", \"showbackground\": true, \"ticks\": \"\", \"zerolinecolor\": \"white\"}, \"zaxis\": {\"backgroundcolor\": \"#E5ECF6\", \"gridcolor\": \"white\", \"gridwidth\": 2, \"linecolor\": \"white\", \"showbackground\": true, \"ticks\": \"\", \"zerolinecolor\": \"white\"}}, \"shapedefaults\": {\"line\": {\"color\": \"#2a3f5f\"}}, \"ternary\": {\"aaxis\": {\"gridcolor\": \"white\", \"linecolor\": \"white\", \"ticks\": \"\"}, \"baxis\": {\"gridcolor\": \"white\", \"linecolor\": \"white\", \"ticks\": \"\"}, \"bgcolor\": \"#E5ECF6\", \"caxis\": {\"gridcolor\": \"white\", \"linecolor\": \"white\", \"ticks\": \"\"}}, \"title\": {\"x\": 0.05}, \"xaxis\": {\"automargin\": true, \"gridcolor\": \"white\", \"linecolor\": \"white\", \"ticks\": \"\", \"title\": {\"standoff\": 15}, \"zerolinecolor\": \"white\", \"zerolinewidth\": 2}, \"yaxis\": {\"automargin\": true, \"gridcolor\": \"white\", \"linecolor\": \"white\", \"ticks\": \"\", \"title\": {\"standoff\": 15}, \"zerolinecolor\": \"white\", \"zerolinewidth\": 2}}}},\n",
       "                        {\"responsive\": true}\n",
       "                    ).then(function(){\n",
       "                            \n",
       "var gd = document.getElementById('2c162ad5-4c69-4ea1-b744-c9c67386e74e');\n",
       "var x = new MutationObserver(function (mutations, observer) {{\n",
       "        var display = window.getComputedStyle(gd).display;\n",
       "        if (!display || display === 'none') {{\n",
       "            console.log([gd, 'removed!']);\n",
       "            Plotly.purge(gd);\n",
       "            observer.disconnect();\n",
       "        }}\n",
       "}});\n",
       "\n",
       "// Listen for the removal of the full notebook cells\n",
       "var notebookContainer = gd.closest('#notebook-container');\n",
       "if (notebookContainer) {{\n",
       "    x.observe(notebookContainer, {childList: true});\n",
       "}}\n",
       "\n",
       "// Listen for the clearing of the current output cell\n",
       "var outputEl = gd.closest('.output');\n",
       "if (outputEl) {{\n",
       "    x.observe(outputEl, {childList: true});\n",
       "}}\n",
       "\n",
       "                        })\n",
       "                };\n",
       "                });\n",
       "            </script>\n",
       "        </div>"
      ]
     },
     "metadata": {},
     "output_type": "display_data"
    }
   ],
   "source": [
    "\n",
    "feture_to_plot = [\"energy\", \"liveness\", \"tempo\", \"valence\",\"danceability\"]\n",
    "text1 = df_2019[\"artists\"] + \" - \" + df_2019[\"name\"]\n",
    "text2 = text1.values\n",
    "X = df_2019[feture_to_plot].values\n",
    "y = df_2019[\"danceability\"].values\n",
    "min_maxscaler = MinMaxScaler()\n",
    "X = min_maxscaler.fit_transform(X)\n",
    "pca = PCA(n_components=3)\n",
    "pca.fit(X)\n",
    "X = pca.transform(X)\n",
    "\n",
    "plot3d = go.Scatter3d(\n",
    "    x=X[:,0],\n",
    "    y=X[:,1],\n",
    "    z=X[:,2],\n",
    "    text=text2,\n",
    "    mode=\"markers\",\n",
    "    marker=dict(\n",
    "        size=8,\n",
    "        color=y\n",
    "    )\n",
    ")\n",
    "\n",
    "fig = go.Figure(data=[plot3d])\n",
    "py.iplot(fig, filename=\"3d graph-2nd\")\n"
   ]
  },
  {
   "cell_type": "code",
   "execution_count": null,
   "metadata": {},
   "outputs": [],
   "source": []
  },
  {
   "cell_type": "code",
   "execution_count": null,
   "metadata": {},
   "outputs": [],
   "source": []
  },
  {
   "cell_type": "markdown",
   "metadata": {},
   "source": [
    " ### create a popularity column depending on our matrices"
   ]
  },
  {
   "cell_type": "code",
   "execution_count": 77,
   "metadata": {},
   "outputs": [],
   "source": [
    "df_2019[\"popularity\"]=\"\"\n",
    "df_2019.loc[(df_2019['danceability']>=0.69) | (df_2019['energy']>=0.66)| (df_2019['loudness']>=-5.6)| (df_2019['acousticness']>=0.16)| \n",
    "            (df_2019['valence']>=0.51)| (df_2019['tempo']>=119.0),'popularity']='1'\n",
    "df_2019.loc[(df_2019['danceability']<0.69) & (df_2019['energy']<0.66) & (df_2019['loudness']<-5.6),'popularity']='0'\n",
    "df_2019.head()\n",
    "\n",
    "df_2019.to_csv(\"../Data/df_2019_new.csv\",index=False)"
   ]
  },
  {
   "cell_type": "code",
   "execution_count": 78,
   "metadata": {
    "scrolled": true
   },
   "outputs": [
    {
     "data": {
      "text/html": [
       "<div>\n",
       "<style scoped>\n",
       "    .dataframe tbody tr th:only-of-type {\n",
       "        vertical-align: middle;\n",
       "    }\n",
       "\n",
       "    .dataframe tbody tr th {\n",
       "        vertical-align: top;\n",
       "    }\n",
       "\n",
       "    .dataframe thead th {\n",
       "        text-align: right;\n",
       "    }\n",
       "</style>\n",
       "<table border=\"1\" class=\"dataframe\">\n",
       "  <thead>\n",
       "    <tr style=\"text-align: right;\">\n",
       "      <th></th>\n",
       "      <th>Unnamed: 0</th>\n",
       "      <th>id</th>\n",
       "      <th>name</th>\n",
       "      <th>popularity</th>\n",
       "      <th>track.track_number</th>\n",
       "      <th>danceability</th>\n",
       "      <th>energy</th>\n",
       "      <th>key</th>\n",
       "      <th>loudness</th>\n",
       "      <th>mode</th>\n",
       "      <th>...</th>\n",
       "      <th>acousticness</th>\n",
       "      <th>instrumentalness</th>\n",
       "      <th>liveness</th>\n",
       "      <th>valence</th>\n",
       "      <th>tempo</th>\n",
       "      <th>duration_ms</th>\n",
       "      <th>time_signature</th>\n",
       "      <th>artists</th>\n",
       "      <th>dancebility_new</th>\n",
       "      <th>tempo_rate</th>\n",
       "    </tr>\n",
       "  </thead>\n",
       "  <tbody>\n",
       "    <tr>\n",
       "      <th>0</th>\n",
       "      <td>0</td>\n",
       "      <td>6v3KW9xbzN5yKLt9YKDYA2</td>\n",
       "      <td>Señorita</td>\n",
       "      <td>1</td>\n",
       "      <td>1</td>\n",
       "      <td>0.759</td>\n",
       "      <td>0.548</td>\n",
       "      <td>9</td>\n",
       "      <td>-6.049</td>\n",
       "      <td>0</td>\n",
       "      <td>...</td>\n",
       "      <td>0.0392</td>\n",
       "      <td>0.00</td>\n",
       "      <td>0.0828</td>\n",
       "      <td>0.749</td>\n",
       "      <td>116.967</td>\n",
       "      <td>190800</td>\n",
       "      <td>4</td>\n",
       "      <td>Shawn Mendes</td>\n",
       "      <td>1</td>\n",
       "      <td>fast</td>\n",
       "    </tr>\n",
       "    <tr>\n",
       "      <th>1</th>\n",
       "      <td>1</td>\n",
       "      <td>2Fxmhks0bxGSBdJ92vM42m</td>\n",
       "      <td>bad guy</td>\n",
       "      <td>1</td>\n",
       "      <td>2</td>\n",
       "      <td>0.701</td>\n",
       "      <td>0.425</td>\n",
       "      <td>7</td>\n",
       "      <td>-10.965</td>\n",
       "      <td>1</td>\n",
       "      <td>...</td>\n",
       "      <td>0.3280</td>\n",
       "      <td>0.13</td>\n",
       "      <td>0.1000</td>\n",
       "      <td>0.562</td>\n",
       "      <td>135.128</td>\n",
       "      <td>194088</td>\n",
       "      <td>4</td>\n",
       "      <td>Billie Eilish</td>\n",
       "      <td>1</td>\n",
       "      <td>fast</td>\n",
       "    </tr>\n",
       "    <tr>\n",
       "      <th>2</th>\n",
       "      <td>2</td>\n",
       "      <td>0RiRZpuVRbi7oqRdSMwhQY</td>\n",
       "      <td>Sunflower - Spider-Man: Into the Spider-Verse</td>\n",
       "      <td>1</td>\n",
       "      <td>12</td>\n",
       "      <td>0.755</td>\n",
       "      <td>0.522</td>\n",
       "      <td>2</td>\n",
       "      <td>-4.368</td>\n",
       "      <td>1</td>\n",
       "      <td>...</td>\n",
       "      <td>0.5330</td>\n",
       "      <td>0.00</td>\n",
       "      <td>0.0685</td>\n",
       "      <td>0.925</td>\n",
       "      <td>89.960</td>\n",
       "      <td>157560</td>\n",
       "      <td>4</td>\n",
       "      <td>Post Malone</td>\n",
       "      <td>1</td>\n",
       "      <td>moderate</td>\n",
       "    </tr>\n",
       "    <tr>\n",
       "      <th>3</th>\n",
       "      <td>3</td>\n",
       "      <td>6ocbgoVGwYJhOv1GgI9NsF</td>\n",
       "      <td>7 rings</td>\n",
       "      <td>1</td>\n",
       "      <td>10</td>\n",
       "      <td>0.778</td>\n",
       "      <td>0.317</td>\n",
       "      <td>1</td>\n",
       "      <td>-10.732</td>\n",
       "      <td>0</td>\n",
       "      <td>...</td>\n",
       "      <td>0.5920</td>\n",
       "      <td>0.00</td>\n",
       "      <td>0.0881</td>\n",
       "      <td>0.327</td>\n",
       "      <td>140.048</td>\n",
       "      <td>178627</td>\n",
       "      <td>4</td>\n",
       "      <td>Ariana Grande</td>\n",
       "      <td>1</td>\n",
       "      <td>fast</td>\n",
       "    </tr>\n",
       "    <tr>\n",
       "      <th>4</th>\n",
       "      <td>4</td>\n",
       "      <td>2YpeDb67231RjR0MgVLzsG</td>\n",
       "      <td>Old Town Road - Remix</td>\n",
       "      <td>1</td>\n",
       "      <td>1</td>\n",
       "      <td>0.878</td>\n",
       "      <td>0.619</td>\n",
       "      <td>6</td>\n",
       "      <td>-5.560</td>\n",
       "      <td>1</td>\n",
       "      <td>...</td>\n",
       "      <td>0.0533</td>\n",
       "      <td>0.00</td>\n",
       "      <td>0.1130</td>\n",
       "      <td>0.639</td>\n",
       "      <td>136.041</td>\n",
       "      <td>157067</td>\n",
       "      <td>4</td>\n",
       "      <td>Lil Nas X</td>\n",
       "      <td>1</td>\n",
       "      <td>fast</td>\n",
       "    </tr>\n",
       "  </tbody>\n",
       "</table>\n",
       "<p>5 rows × 21 columns</p>\n",
       "</div>"
      ],
      "text/plain": [
       "   Unnamed: 0                      id  \\\n",
       "0           0  6v3KW9xbzN5yKLt9YKDYA2   \n",
       "1           1  2Fxmhks0bxGSBdJ92vM42m   \n",
       "2           2  0RiRZpuVRbi7oqRdSMwhQY   \n",
       "3           3  6ocbgoVGwYJhOv1GgI9NsF   \n",
       "4           4  2YpeDb67231RjR0MgVLzsG   \n",
       "\n",
       "                                            name popularity  \\\n",
       "0                                       Señorita          1   \n",
       "1                                        bad guy          1   \n",
       "2  Sunflower - Spider-Man: Into the Spider-Verse          1   \n",
       "3                                        7 rings          1   \n",
       "4                          Old Town Road - Remix          1   \n",
       "\n",
       "   track.track_number  danceability  energy  key  loudness  mode  ...  \\\n",
       "0                   1         0.759   0.548    9    -6.049     0  ...   \n",
       "1                   2         0.701   0.425    7   -10.965     1  ...   \n",
       "2                  12         0.755   0.522    2    -4.368     1  ...   \n",
       "3                  10         0.778   0.317    1   -10.732     0  ...   \n",
       "4                   1         0.878   0.619    6    -5.560     1  ...   \n",
       "\n",
       "   acousticness  instrumentalness  liveness  valence    tempo  duration_ms  \\\n",
       "0        0.0392              0.00    0.0828    0.749  116.967       190800   \n",
       "1        0.3280              0.13    0.1000    0.562  135.128       194088   \n",
       "2        0.5330              0.00    0.0685    0.925   89.960       157560   \n",
       "3        0.5920              0.00    0.0881    0.327  140.048       178627   \n",
       "4        0.0533              0.00    0.1130    0.639  136.041       157067   \n",
       "\n",
       "   time_signature        artists dancebility_new tempo_rate  \n",
       "0               4   Shawn Mendes               1       fast  \n",
       "1               4  Billie Eilish               1       fast  \n",
       "2               4    Post Malone               1   moderate  \n",
       "3               4  Ariana Grande               1       fast  \n",
       "4               4      Lil Nas X               1       fast  \n",
       "\n",
       "[5 rows x 21 columns]"
      ]
     },
     "execution_count": 78,
     "metadata": {},
     "output_type": "execute_result"
    }
   ],
   "source": [
    "df_2019.head()"
   ]
  },
  {
   "cell_type": "code",
   "execution_count": 79,
   "metadata": {},
   "outputs": [],
   "source": [
    "df_2019_new=pd.read_csv('../Data/df_2019_new.csv')\n"
   ]
  },
  {
   "cell_type": "markdown",
   "metadata": {},
   "source": [
    "## corelation between features and popularity"
   ]
  },
  {
   "cell_type": "code",
   "execution_count": 80,
   "metadata": {},
   "outputs": [],
   "source": [
    "def draw(year,compare_col,color):\n",
    "    graph = sns.FacetGrid(df_2019_new, col = \"popularity\")\n",
    "    graph.map(sns.distplot, compare_col, bins = 25,color=color)\n",
    "    return plt.show()"
   ]
  },
  {
   "cell_type": "code",
   "execution_count": 81,
   "metadata": {},
   "outputs": [
    {
     "data": {
      "image/png": "[encoded data removed]",
      "text/plain": [
       "<Figure size 432x216 with 2 Axes>"
      ]
     },
     "metadata": {
      "needs_background": "light"
     },
     "output_type": "display_data"
    },
    {
     "data": {
      "image/png": "[encoded data removed]",
      "text/plain": [
       "<Figure size 432x216 with 2 Axes>"
      ]
     },
     "metadata": {
      "needs_background": "light"
     },
     "output_type": "display_data"
    },
    {
     "data": {
      "image/png": "[encoded data removed]",
      "text/plain": [
       "<Figure size 432x216 with 2 Axes>"
      ]
     },
     "metadata": {
      "needs_background": "light"
     },
     "output_type": "display_data"
    },
    {
     "data": {
      "image/png": "[encoded data removed]",
      "text/plain": [
       "<Figure size 432x216 with 2 Axes>"
      ]
     },
     "metadata": {
      "needs_background": "light"
     },
     "output_type": "display_data"
    },
    {
     "data": {
      "image/png": "[encoded data removed]",
      "text/plain": [
       "<Figure size 432x216 with 2 Axes>"
      ]
     },
     "metadata": {
      "needs_background": "light"
     },
     "output_type": "display_data"
    }
   ],
   "source": [
    "draw(df_2019_new,\"danceability\",\"b\")\n",
    "draw(df_2019_new,\"acousticness\",\"r\")\n",
    "draw(df_2019_new,\"loudness\",\"m\")\n",
    "draw(df_2019_new,\"valence\",\"r\")\n",
    "draw(df_2019_new,\"tempo\",\"y\")\n"
   ]
  },
  {
   "cell_type": "code",
   "execution_count": 82,
   "metadata": {},
   "outputs": [
    {
     "data": {
      "text/html": [
       "<div>\n",
       "<style scoped>\n",
       "    .dataframe tbody tr th:only-of-type {\n",
       "        vertical-align: middle;\n",
       "    }\n",
       "\n",
       "    .dataframe tbody tr th {\n",
       "        vertical-align: top;\n",
       "    }\n",
       "\n",
       "    .dataframe thead th {\n",
       "        text-align: right;\n",
       "    }\n",
       "</style>\n",
       "<table border=\"1\" class=\"dataframe\">\n",
       "  <thead>\n",
       "    <tr style=\"text-align: right;\">\n",
       "      <th></th>\n",
       "      <th>name</th>\n",
       "      <th>popularity</th>\n",
       "    </tr>\n",
       "  </thead>\n",
       "  <tbody>\n",
       "    <tr>\n",
       "      <th>0</th>\n",
       "      <td>Señorita</td>\n",
       "      <td>1</td>\n",
       "    </tr>\n",
       "    <tr>\n",
       "      <th>1</th>\n",
       "      <td>bad guy</td>\n",
       "      <td>1</td>\n",
       "    </tr>\n",
       "    <tr>\n",
       "      <th>2</th>\n",
       "      <td>Sunflower - Spider-Man: Into the Spider-Verse</td>\n",
       "      <td>1</td>\n",
       "    </tr>\n",
       "    <tr>\n",
       "      <th>3</th>\n",
       "      <td>7 rings</td>\n",
       "      <td>1</td>\n",
       "    </tr>\n",
       "    <tr>\n",
       "      <th>4</th>\n",
       "      <td>Old Town Road - Remix</td>\n",
       "      <td>1</td>\n",
       "    </tr>\n",
       "  </tbody>\n",
       "</table>\n",
       "</div>"
      ],
      "text/plain": [
       "                                            name  popularity\n",
       "0                                       Señorita           1\n",
       "1                                        bad guy           1\n",
       "2  Sunflower - Spider-Man: Into the Spider-Verse           1\n",
       "3                                        7 rings           1\n",
       "4                          Old Town Road - Remix           1"
      ]
     },
     "execution_count": 82,
     "metadata": {},
     "output_type": "execute_result"
    }
   ],
   "source": [
    "popularity_data = pd.concat([df_2019_new[\"name\"],df_2019_new[\"popularity\"]],axis=1)\n",
    "popularity_data.head()"
   ]
  },
  {
   "cell_type": "code",
   "execution_count": 83,
   "metadata": {},
   "outputs": [
    {
     "data": {
      "text/plain": [
       "Index(['Unnamed: 0', 'popularity', 'track.track_number', 'danceability',\n",
       "       'energy', 'key', 'loudness', 'mode', 'speechiness', 'acousticness',\n",
       "       'instrumentalness', 'liveness', 'valence', 'tempo', 'duration_ms',\n",
       "       'time_signature'],\n",
       "      dtype='object')"
      ]
     },
     "execution_count": 83,
     "metadata": {},
     "output_type": "execute_result"
    }
   ],
   "source": [
    "df_2019_final=df_2019.copy()\n",
    "df_2019_final.drop([\"id\",\"name\",\"artists\",\"tempo_rate\",\"dancebility_new\"],axis=1,inplace=True)\n",
    "df_2019_final.columns\n"
   ]
  },
  {
   "cell_type": "code",
   "execution_count": 84,
   "metadata": {},
   "outputs": [
    {
     "data": {
      "text/html": [
       "<div>\n",
       "<style scoped>\n",
       "    .dataframe tbody tr th:only-of-type {\n",
       "        vertical-align: middle;\n",
       "    }\n",
       "\n",
       "    .dataframe tbody tr th {\n",
       "        vertical-align: top;\n",
       "    }\n",
       "\n",
       "    .dataframe thead th {\n",
       "        text-align: right;\n",
       "    }\n",
       "</style>\n",
       "<table border=\"1\" class=\"dataframe\">\n",
       "  <thead>\n",
       "    <tr style=\"text-align: right;\">\n",
       "      <th></th>\n",
       "      <th>Unnamed: 0</th>\n",
       "      <th>popularity</th>\n",
       "      <th>track.track_number</th>\n",
       "      <th>danceability</th>\n",
       "      <th>energy</th>\n",
       "      <th>loudness</th>\n",
       "      <th>mode</th>\n",
       "      <th>speechiness</th>\n",
       "      <th>acousticness</th>\n",
       "      <th>instrumentalness</th>\n",
       "      <th>...</th>\n",
       "      <th>key_1</th>\n",
       "      <th>key_2</th>\n",
       "      <th>key_4</th>\n",
       "      <th>key_5</th>\n",
       "      <th>key_6</th>\n",
       "      <th>key_7</th>\n",
       "      <th>key_8</th>\n",
       "      <th>key_9</th>\n",
       "      <th>key_10</th>\n",
       "      <th>key_11</th>\n",
       "    </tr>\n",
       "  </thead>\n",
       "  <tbody>\n",
       "    <tr>\n",
       "      <th>0</th>\n",
       "      <td>0</td>\n",
       "      <td>1</td>\n",
       "      <td>1</td>\n",
       "      <td>0.759</td>\n",
       "      <td>0.548</td>\n",
       "      <td>-6.049</td>\n",
       "      <td>0</td>\n",
       "      <td>0.0290</td>\n",
       "      <td>0.0392</td>\n",
       "      <td>0.00</td>\n",
       "      <td>...</td>\n",
       "      <td>0</td>\n",
       "      <td>0</td>\n",
       "      <td>0</td>\n",
       "      <td>0</td>\n",
       "      <td>0</td>\n",
       "      <td>0</td>\n",
       "      <td>0</td>\n",
       "      <td>1</td>\n",
       "      <td>0</td>\n",
       "      <td>0</td>\n",
       "    </tr>\n",
       "    <tr>\n",
       "      <th>1</th>\n",
       "      <td>1</td>\n",
       "      <td>1</td>\n",
       "      <td>2</td>\n",
       "      <td>0.701</td>\n",
       "      <td>0.425</td>\n",
       "      <td>-10.965</td>\n",
       "      <td>1</td>\n",
       "      <td>0.3750</td>\n",
       "      <td>0.3280</td>\n",
       "      <td>0.13</td>\n",
       "      <td>...</td>\n",
       "      <td>0</td>\n",
       "      <td>0</td>\n",
       "      <td>0</td>\n",
       "      <td>0</td>\n",
       "      <td>0</td>\n",
       "      <td>1</td>\n",
       "      <td>0</td>\n",
       "      <td>0</td>\n",
       "      <td>0</td>\n",
       "      <td>0</td>\n",
       "    </tr>\n",
       "    <tr>\n",
       "      <th>2</th>\n",
       "      <td>2</td>\n",
       "      <td>1</td>\n",
       "      <td>12</td>\n",
       "      <td>0.755</td>\n",
       "      <td>0.522</td>\n",
       "      <td>-4.368</td>\n",
       "      <td>1</td>\n",
       "      <td>0.0575</td>\n",
       "      <td>0.5330</td>\n",
       "      <td>0.00</td>\n",
       "      <td>...</td>\n",
       "      <td>0</td>\n",
       "      <td>1</td>\n",
       "      <td>0</td>\n",
       "      <td>0</td>\n",
       "      <td>0</td>\n",
       "      <td>0</td>\n",
       "      <td>0</td>\n",
       "      <td>0</td>\n",
       "      <td>0</td>\n",
       "      <td>0</td>\n",
       "    </tr>\n",
       "    <tr>\n",
       "      <th>3</th>\n",
       "      <td>3</td>\n",
       "      <td>1</td>\n",
       "      <td>10</td>\n",
       "      <td>0.778</td>\n",
       "      <td>0.317</td>\n",
       "      <td>-10.732</td>\n",
       "      <td>0</td>\n",
       "      <td>0.3340</td>\n",
       "      <td>0.5920</td>\n",
       "      <td>0.00</td>\n",
       "      <td>...</td>\n",
       "      <td>1</td>\n",
       "      <td>0</td>\n",
       "      <td>0</td>\n",
       "      <td>0</td>\n",
       "      <td>0</td>\n",
       "      <td>0</td>\n",
       "      <td>0</td>\n",
       "      <td>0</td>\n",
       "      <td>0</td>\n",
       "      <td>0</td>\n",
       "    </tr>\n",
       "    <tr>\n",
       "      <th>4</th>\n",
       "      <td>4</td>\n",
       "      <td>1</td>\n",
       "      <td>1</td>\n",
       "      <td>0.878</td>\n",
       "      <td>0.619</td>\n",
       "      <td>-5.560</td>\n",
       "      <td>1</td>\n",
       "      <td>0.1020</td>\n",
       "      <td>0.0533</td>\n",
       "      <td>0.00</td>\n",
       "      <td>...</td>\n",
       "      <td>0</td>\n",
       "      <td>0</td>\n",
       "      <td>0</td>\n",
       "      <td>0</td>\n",
       "      <td>1</td>\n",
       "      <td>0</td>\n",
       "      <td>0</td>\n",
       "      <td>0</td>\n",
       "      <td>0</td>\n",
       "      <td>0</td>\n",
       "    </tr>\n",
       "  </tbody>\n",
       "</table>\n",
       "<p>5 rows × 26 columns</p>\n",
       "</div>"
      ],
      "text/plain": [
       "   Unnamed: 0 popularity  track.track_number  danceability  energy  loudness  \\\n",
       "0           0          1                   1         0.759   0.548    -6.049   \n",
       "1           1          1                   2         0.701   0.425   -10.965   \n",
       "2           2          1                  12         0.755   0.522    -4.368   \n",
       "3           3          1                  10         0.778   0.317   -10.732   \n",
       "4           4          1                   1         0.878   0.619    -5.560   \n",
       "\n",
       "   mode  speechiness  acousticness  instrumentalness  ...  key_1  key_2  \\\n",
       "0     0       0.0290        0.0392              0.00  ...      0      0   \n",
       "1     1       0.3750        0.3280              0.13  ...      0      0   \n",
       "2     1       0.0575        0.5330              0.00  ...      0      1   \n",
       "3     0       0.3340        0.5920              0.00  ...      1      0   \n",
       "4     1       0.1020        0.0533              0.00  ...      0      0   \n",
       "\n",
       "   key_4  key_5  key_6  key_7  key_8  key_9  key_10  key_11  \n",
       "0      0      0      0      0      0      1       0       0  \n",
       "1      0      0      0      1      0      0       0       0  \n",
       "2      0      0      0      0      0      0       0       0  \n",
       "3      0      0      0      0      0      0       0       0  \n",
       "4      0      0      1      0      0      0       0       0  \n",
       "\n",
       "[5 rows x 26 columns]"
      ]
     },
     "execution_count": 84,
     "metadata": {},
     "output_type": "execute_result"
    }
   ],
   "source": [
    "df_2019_final[\"key\"] = df_2019_final[\"key\"].astype(\"category\")\n",
    "df_2019_final = pd.get_dummies(df_2019_final, columns=[\"key\"])\n",
    "df_2019_final.head()"
   ]
  },
  {
   "cell_type": "code",
   "execution_count": 85,
   "metadata": {},
   "outputs": [
    {
     "data": {
      "text/html": [
       "<div>\n",
       "<style scoped>\n",
       "    .dataframe tbody tr th:only-of-type {\n",
       "        vertical-align: middle;\n",
       "    }\n",
       "\n",
       "    .dataframe tbody tr th {\n",
       "        vertical-align: top;\n",
       "    }\n",
       "\n",
       "    .dataframe thead th {\n",
       "        text-align: right;\n",
       "    }\n",
       "</style>\n",
       "<table border=\"1\" class=\"dataframe\">\n",
       "  <thead>\n",
       "    <tr style=\"text-align: right;\">\n",
       "      <th></th>\n",
       "      <th>Unnamed: 0</th>\n",
       "      <th>popularity</th>\n",
       "      <th>track.track_number</th>\n",
       "      <th>danceability</th>\n",
       "      <th>energy</th>\n",
       "      <th>loudness</th>\n",
       "      <th>mode</th>\n",
       "      <th>speechiness</th>\n",
       "      <th>acousticness</th>\n",
       "      <th>instrumentalness</th>\n",
       "      <th>...</th>\n",
       "      <th>key_2</th>\n",
       "      <th>key_4</th>\n",
       "      <th>key_5</th>\n",
       "      <th>key_6</th>\n",
       "      <th>key_7</th>\n",
       "      <th>key_8</th>\n",
       "      <th>key_9</th>\n",
       "      <th>key_10</th>\n",
       "      <th>key_11</th>\n",
       "      <th>time_signature_4</th>\n",
       "    </tr>\n",
       "  </thead>\n",
       "  <tbody>\n",
       "    <tr>\n",
       "      <th>0</th>\n",
       "      <td>0</td>\n",
       "      <td>1</td>\n",
       "      <td>1</td>\n",
       "      <td>0.759</td>\n",
       "      <td>0.548</td>\n",
       "      <td>-6.049</td>\n",
       "      <td>0</td>\n",
       "      <td>0.0290</td>\n",
       "      <td>0.0392</td>\n",
       "      <td>0.00</td>\n",
       "      <td>...</td>\n",
       "      <td>0</td>\n",
       "      <td>0</td>\n",
       "      <td>0</td>\n",
       "      <td>0</td>\n",
       "      <td>0</td>\n",
       "      <td>0</td>\n",
       "      <td>1</td>\n",
       "      <td>0</td>\n",
       "      <td>0</td>\n",
       "      <td>1</td>\n",
       "    </tr>\n",
       "    <tr>\n",
       "      <th>1</th>\n",
       "      <td>1</td>\n",
       "      <td>1</td>\n",
       "      <td>2</td>\n",
       "      <td>0.701</td>\n",
       "      <td>0.425</td>\n",
       "      <td>-10.965</td>\n",
       "      <td>1</td>\n",
       "      <td>0.3750</td>\n",
       "      <td>0.3280</td>\n",
       "      <td>0.13</td>\n",
       "      <td>...</td>\n",
       "      <td>0</td>\n",
       "      <td>0</td>\n",
       "      <td>0</td>\n",
       "      <td>0</td>\n",
       "      <td>1</td>\n",
       "      <td>0</td>\n",
       "      <td>0</td>\n",
       "      <td>0</td>\n",
       "      <td>0</td>\n",
       "      <td>1</td>\n",
       "    </tr>\n",
       "    <tr>\n",
       "      <th>2</th>\n",
       "      <td>2</td>\n",
       "      <td>1</td>\n",
       "      <td>12</td>\n",
       "      <td>0.755</td>\n",
       "      <td>0.522</td>\n",
       "      <td>-4.368</td>\n",
       "      <td>1</td>\n",
       "      <td>0.0575</td>\n",
       "      <td>0.5330</td>\n",
       "      <td>0.00</td>\n",
       "      <td>...</td>\n",
       "      <td>1</td>\n",
       "      <td>0</td>\n",
       "      <td>0</td>\n",
       "      <td>0</td>\n",
       "      <td>0</td>\n",
       "      <td>0</td>\n",
       "      <td>0</td>\n",
       "      <td>0</td>\n",
       "      <td>0</td>\n",
       "      <td>1</td>\n",
       "    </tr>\n",
       "    <tr>\n",
       "      <th>3</th>\n",
       "      <td>3</td>\n",
       "      <td>1</td>\n",
       "      <td>10</td>\n",
       "      <td>0.778</td>\n",
       "      <td>0.317</td>\n",
       "      <td>-10.732</td>\n",
       "      <td>0</td>\n",
       "      <td>0.3340</td>\n",
       "      <td>0.5920</td>\n",
       "      <td>0.00</td>\n",
       "      <td>...</td>\n",
       "      <td>0</td>\n",
       "      <td>0</td>\n",
       "      <td>0</td>\n",
       "      <td>0</td>\n",
       "      <td>0</td>\n",
       "      <td>0</td>\n",
       "      <td>0</td>\n",
       "      <td>0</td>\n",
       "      <td>0</td>\n",
       "      <td>1</td>\n",
       "    </tr>\n",
       "    <tr>\n",
       "      <th>4</th>\n",
       "      <td>4</td>\n",
       "      <td>1</td>\n",
       "      <td>1</td>\n",
       "      <td>0.878</td>\n",
       "      <td>0.619</td>\n",
       "      <td>-5.560</td>\n",
       "      <td>1</td>\n",
       "      <td>0.1020</td>\n",
       "      <td>0.0533</td>\n",
       "      <td>0.00</td>\n",
       "      <td>...</td>\n",
       "      <td>0</td>\n",
       "      <td>0</td>\n",
       "      <td>0</td>\n",
       "      <td>1</td>\n",
       "      <td>0</td>\n",
       "      <td>0</td>\n",
       "      <td>0</td>\n",
       "      <td>0</td>\n",
       "      <td>0</td>\n",
       "      <td>1</td>\n",
       "    </tr>\n",
       "  </tbody>\n",
       "</table>\n",
       "<p>5 rows × 26 columns</p>\n",
       "</div>"
      ],
      "text/plain": [
       "   Unnamed: 0 popularity  track.track_number  danceability  energy  loudness  \\\n",
       "0           0          1                   1         0.759   0.548    -6.049   \n",
       "1           1          1                   2         0.701   0.425   -10.965   \n",
       "2           2          1                  12         0.755   0.522    -4.368   \n",
       "3           3          1                  10         0.778   0.317   -10.732   \n",
       "4           4          1                   1         0.878   0.619    -5.560   \n",
       "\n",
       "   mode  speechiness  acousticness  instrumentalness  ...  key_2  key_4  \\\n",
       "0     0       0.0290        0.0392              0.00  ...      0      0   \n",
       "1     1       0.3750        0.3280              0.13  ...      0      0   \n",
       "2     1       0.0575        0.5330              0.00  ...      1      0   \n",
       "3     0       0.3340        0.5920              0.00  ...      0      0   \n",
       "4     1       0.1020        0.0533              0.00  ...      0      0   \n",
       "\n",
       "   key_5  key_6  key_7  key_8  key_9  key_10  key_11  time_signature_4  \n",
       "0      0      0      0      0      1       0       0                 1  \n",
       "1      0      0      1      0      0       0       0                 1  \n",
       "2      0      0      0      0      0       0       0                 1  \n",
       "3      0      0      0      0      0       0       0                 1  \n",
       "4      0      1      0      0      0       0       0                 1  \n",
       "\n",
       "[5 rows x 26 columns]"
      ]
     },
     "execution_count": 85,
     "metadata": {},
     "output_type": "execute_result"
    }
   ],
   "source": [
    "df_2019_final[\"time_signature\"] = df_2019_final[\"time_signature\"].astype(\"category\")\n",
    "df_2019_final = pd.get_dummies(df_2019_final, columns=[\"time_signature\"])\n",
    "df_2019_final.head()"
   ]
  },
  {
   "cell_type": "code",
   "execution_count": 91,
   "metadata": {},
   "outputs": [],
   "source": [
    "def change_datatype(var):\n",
    "    df_2019_final[var] = df_2019_final[var].astype(int)\n",
    "    \n",
    "columns= [\"key_1\",\"key_1\",\"key_2\",\n",
    "         \"key_4\",\"key_5\",\"key_6\",\"key_7\",\"key_8\",\"key_9\",\"key_10\",\"key_11\",\"time_signature_4\"]\n",
    "for column in columns:\n",
    "    change_datatype(column)\n",
    "    "
   ]
  },
  {
   "cell_type": "code",
   "execution_count": 92,
   "metadata": {},
   "outputs": [],
   "source": [
    "def load_data():\n",
    "    \n",
    "    y = df_2019_final[\"popularity\"].values\n",
    "    X = df_2019_final.drop([\"popularity\"],axis=1)\n",
    "    return X,y\n",
    "X,y =load_data()\n",
    "\n",
    "feature_cols = X.columns.to_list()"
   ]
  },
  {
   "cell_type": "markdown",
   "metadata": {},
   "source": [
    "#### There is not a great  linear correlations in our data So, Decision Tree algorithms will give  better results as compared to linear regression models. Therfore using  Random Forest \n",
    " "
   ]
  },
  {
   "cell_type": "code",
   "execution_count": 93,
   "metadata": {},
   "outputs": [
    {
     "name": "stdout",
     "output_type": "stream",
     "text": [
      "X_train:  (20, 25)\n",
      "X_test:  (30, 25)\n",
      "y_train:  (20,)\n",
      "y_test:  (30,)\n"
     ]
    }
   ],
   "source": [
    "\n",
    "#x_data=X\n",
    "X,y = load_data()\n",
    "X_train, X_test, y_train, y_test = train_test_split(X,y,test_size = 0.6)\n",
    "# X_train = X_train.T\n",
    "# X_test = X_test.T\n",
    "X_train=X_train[:None]\n",
    "X_test=X_test[:None]\n",
    "y_train = y_train.astype(int).T\n",
    "y_test = y_test.astype(int).T\n",
    "print(\"X_train: \",X_train.shape)\n",
    "print(\"X_test: \",X_test.shape)\n",
    "print(\"y_train: \",y_train.shape)\n",
    "print(\"y_test: \",y_test.shape)\n"
   ]
  },
  {
   "cell_type": "code",
   "execution_count": 95,
   "metadata": {},
   "outputs": [
    {
     "data": {
      "image/png": "[encoded data removed]",
      "text/plain": [
       "<Figure size 432x288 with 1 Axes>"
      ]
     },
     "metadata": {
      "needs_background": "light"
     },
     "output_type": "display_data"
    }
   ],
   "source": [
    "def plot_impfeature():\n",
    "    xgb = XGBClassifier()\n",
    "    xgb.fit(X_train, y_train)\n",
    "    ax = plot_importance(xgb,color=\"r\", height=0.15,\n",
    "                         title='  Features Importance ', xlabel='Feature score', ylabel='Features',\n",
    "                         importance_type='weight'\n",
    "                        )\n",
    "\n",
    "    return plt.show()\n",
    "\n",
    "\n",
    "plot_impfeature()"
   ]
  },
  {
   "cell_type": "markdown",
   "metadata": {},
   "source": [
    "##### The above graph assure that :\n",
    "-  Our proposed ranked features turned out to be  most important for this data  \n",
    "-  Example: we calculated features like :dancebility ,energy,loudness ets of most importance.And hence thus turned out true."
   ]
  },
  {
   "cell_type": "code",
   "execution_count": 96,
   "metadata": {},
   "outputs": [
    {
     "name": "stdout",
     "output_type": "stream",
     "text": [
      "Train accuracy  1.0\n",
      "Test accuracy  0.8333333333333334\n"
     ]
    }
   ],
   "source": [
    "rf=RandomForestClassifier(random_state = 3)\n",
    "rf.fit(X_train,y_train)\n",
    "\n",
    "print(\"Train accuracy \",rf.score(X_train,y_train))\n",
    "print(\"Test accuracy \",rf.score(X_test,y_test))\n",
    "\n",
    "RandomForestClassifier_score=rf.score(X_test,y_test)\n",
    "y_pred=rf.predict(X_test)\n",
    "t_true=y_test"
   ]
  },
  {
   "cell_type": "code",
   "execution_count": null,
   "metadata": {},
   "outputs": [],
   "source": []
  }
 ],
 "metadata": {
  "kernelspec": {
   "display_name": "Python 3",
   "language": "python",
   "name": "python3"
  },
  "language_info": {
   "codemirror_mode": {
    "name": "ipython",
    "version": 3
   },
   "file_extension": ".py",
   "mimetype": "text/x-python",
   "name": "python",
   "nbconvert_exporter": "python",
   "pygments_lexer": "ipython3",
   "version": "3.8.2"
  }
 },
 "nbformat": 4,
 "nbformat_minor": 2
}
