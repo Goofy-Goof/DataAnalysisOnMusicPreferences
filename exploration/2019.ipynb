{
 "cells": [
  {
   "cell_type": "code",
   "execution_count": 1,
   "metadata": {},
   "outputs": [
    {
     "data": {
      "text/html": [
       "        <script type=\"text/javascript\">\n",
       "        window.PlotlyConfig = {MathJaxConfig: 'local'};\n",
       "        if (window.MathJax) {MathJax.Hub.Config({SVG: {font: \"STIX-Web\"}});}\n",
       "        if (typeof require !== 'undefined') {\n",
       "        require.undef(\"plotly\");\n",
       "        requirejs.config({\n",
       "            paths: {\n",
       "                'plotly': ['https://cdn.plot.ly/plotly-latest.min']\n",
       "            }\n",
       "        });\n",
       "        require(['plotly'], function(Plotly) {\n",
       "            window._Plotly = Plotly;\n",
       "        });\n",
       "        }\n",
       "        </script>\n",
       "        "
      ]
     },
     "metadata": {},
     "output_type": "display_data"
    }
   ],
   "source": [
    "import pandas as pd\n",
    "import numpy as np\n",
    "import seaborn as sns\n",
    "from matplotlib import pyplot as plt\n",
    "%matplotlib inline\n",
    "from textblob import TextBlob\n",
    "from sklearn.model_selection import train_test_split\n",
    "\n",
    "from xgboost import XGBClassifier\n",
    "from sklearn.ensemble import RandomForestClassifier\n",
    "from xgboost import plot_importance\n",
    "from sklearn.preprocessing import MinMaxScaler\n",
    "from sklearn.decomposition import PCA\n",
    "\n",
    "import plotly.offline as py\n",
    "py.init_notebook_mode(connected=True)\n",
    "import plotly.graph_objs as go\n",
    "import plotly.tools as tls\n"
   ]
  },
  {
   "cell_type": "code",
   "execution_count": 2,
   "metadata": {},
   "outputs": [],
   "source": [
    "df_2019 = pd.read_csv('../Data/2019_full_dataset2.csv')\n"
   ]
  },
  {
   "cell_type": "code",
   "execution_count": 3,
   "metadata": {},
   "outputs": [],
   "source": [
    "def data_properties(year):\n",
    "    print(\"properties for year are as follows :\\n\")\n",
    "    print(\"column details:\\n\")\n",
    "    print(year.columns)\n",
    "    print(\"shape:\\n\")\n",
    "    print(year.shape)\n",
    "    print(\"info about dataset:\\n\")\n",
    "    print(year.info())\n",
    "    print(\"\\n\")\n"
   ]
  },
  {
   "cell_type": "code",
   "execution_count": 4,
   "metadata": {},
   "outputs": [
    {
     "name": "stdout",
     "output_type": "stream",
     "text": [
      "properties for year are as follows :\n",
      "\n",
      "column details:\n",
      "\n",
      "Index(['Unnamed: 0', 'id', 'name', 'popularity', 'track.track_number',\n",
      "       'danceability', 'energy', 'key', 'loudness', 'mode', 'speechiness',\n",
      "       'acousticness', 'instrumentalness', 'liveness', 'valence', 'tempo',\n",
      "       'duration_ms', 'time_signature', 'artists'],\n",
      "      dtype='object')\n",
      "shape:\n",
      "\n",
      "(50, 19)\n",
      "info about dataset:\n",
      "\n",
      "<class 'pandas.core.frame.DataFrame'>\n",
      "RangeIndex: 50 entries, 0 to 49\n",
      "Data columns (total 19 columns):\n",
      " #   Column              Non-Null Count  Dtype  \n",
      "---  ------              --------------  -----  \n",
      " 0   Unnamed: 0          50 non-null     int64  \n",
      " 1   id                  50 non-null     object \n",
      " 2   name                50 non-null     object \n",
      " 3   popularity          50 non-null     int64  \n",
      " 4   track.track_number  50 non-null     int64  \n",
      " 5   danceability        50 non-null     float64\n",
      " 6   energy              50 non-null     float64\n",
      " 7   key                 50 non-null     int64  \n",
      " 8   loudness            50 non-null     float64\n",
      " 9   mode                50 non-null     int64  \n",
      " 10  speechiness         50 non-null     float64\n",
      " 11  acousticness        50 non-null     float64\n",
      " 12  instrumentalness    50 non-null     float64\n",
      " 13  liveness            50 non-null     float64\n",
      " 14  valence             50 non-null     float64\n",
      " 15  tempo               50 non-null     float64\n",
      " 16  duration_ms         50 non-null     int64  \n",
      " 17  time_signature      50 non-null     int64  \n",
      " 18  artists             50 non-null     object \n",
      "dtypes: float64(9), int64(7), object(3)\n",
      "memory usage: 7.5+ KB\n",
      "None\n",
      "\n",
      "\n"
     ]
    }
   ],
   "source": [
    "data_properties(df_2019)"
   ]
  },
  {
   "cell_type": "code",
   "execution_count": 5,
   "metadata": {},
   "outputs": [],
   "source": [
    "def checkfornull(year):\n",
    "    print(\"cheking for null values......\")\n",
    "    print(year.columns[year.isnull().any()])\n",
    "    output=year.isnull().sum()\n",
    "    return output "
   ]
  },
  {
   "cell_type": "code",
   "execution_count": 6,
   "metadata": {},
   "outputs": [
    {
     "name": "stdout",
     "output_type": "stream",
     "text": [
      "cheking for null values......\n",
      "Index([], dtype='object')\n"
     ]
    },
    {
     "data": {
      "text/plain": [
       "Unnamed: 0            0\n",
       "id                    0\n",
       "name                  0\n",
       "popularity            0\n",
       "track.track_number    0\n",
       "danceability          0\n",
       "energy                0\n",
       "key                   0\n",
       "loudness              0\n",
       "mode                  0\n",
       "speechiness           0\n",
       "acousticness          0\n",
       "instrumentalness      0\n",
       "liveness              0\n",
       "valence               0\n",
       "tempo                 0\n",
       "duration_ms           0\n",
       "time_signature        0\n",
       "artists               0\n",
       "dtype: int64"
      ]
     },
     "execution_count": 6,
     "metadata": {},
     "output_type": "execute_result"
    }
   ],
   "source": [
    "checkfornull(df_2019)"
   ]
  },
  {
   "cell_type": "code",
   "execution_count": 7,
   "metadata": {},
   "outputs": [],
   "source": [
    "# in the data we obsrve that all the data is not in float .So , in order to maintain a symetry,we will \n",
    "# convert the non float data to float data type\n",
    "\n",
    "def float_conversion(column,value):\n",
    "    column= pd.to_numeric(value, downcast=\"float\")\n",
    "    return column\n"
   ]
  },
  {
   "cell_type": "code",
   "execution_count": 8,
   "metadata": {},
   "outputs": [
    {
     "data": {
      "text/html": [
       "<div>\n",
       "<style scoped>\n",
       "    .dataframe tbody tr th:only-of-type {\n",
       "        vertical-align: middle;\n",
       "    }\n",
       "\n",
       "    .dataframe tbody tr th {\n",
       "        vertical-align: top;\n",
       "    }\n",
       "\n",
       "    .dataframe thead th {\n",
       "        text-align: right;\n",
       "    }\n",
       "</style>\n",
       "<table border=\"1\" class=\"dataframe\">\n",
       "  <thead>\n",
       "    <tr style=\"text-align: right;\">\n",
       "      <th></th>\n",
       "      <th>Unnamed: 0</th>\n",
       "      <th>id</th>\n",
       "      <th>name</th>\n",
       "      <th>popularity</th>\n",
       "      <th>track.track_number</th>\n",
       "      <th>danceability</th>\n",
       "      <th>energy</th>\n",
       "      <th>key</th>\n",
       "      <th>loudness</th>\n",
       "      <th>mode</th>\n",
       "      <th>speechiness</th>\n",
       "      <th>acousticness</th>\n",
       "      <th>instrumentalness</th>\n",
       "      <th>liveness</th>\n",
       "      <th>valence</th>\n",
       "      <th>tempo</th>\n",
       "      <th>duration_ms</th>\n",
       "      <th>time_signature</th>\n",
       "      <th>artists</th>\n",
       "    </tr>\n",
       "  </thead>\n",
       "  <tbody>\n",
       "    <tr>\n",
       "      <th>0</th>\n",
       "      <td>0</td>\n",
       "      <td>6v3KW9xbzN5yKLt9YKDYA2</td>\n",
       "      <td>Señorita</td>\n",
       "      <td>83</td>\n",
       "      <td>1</td>\n",
       "      <td>0.759</td>\n",
       "      <td>0.548</td>\n",
       "      <td>9</td>\n",
       "      <td>-6.049</td>\n",
       "      <td>0</td>\n",
       "      <td>0.0290</td>\n",
       "      <td>0.0392</td>\n",
       "      <td>0.00</td>\n",
       "      <td>0.0828</td>\n",
       "      <td>0.749</td>\n",
       "      <td>116.967</td>\n",
       "      <td>190800</td>\n",
       "      <td>4</td>\n",
       "      <td>Shawn Mendes</td>\n",
       "    </tr>\n",
       "    <tr>\n",
       "      <th>1</th>\n",
       "      <td>1</td>\n",
       "      <td>2Fxmhks0bxGSBdJ92vM42m</td>\n",
       "      <td>bad guy</td>\n",
       "      <td>90</td>\n",
       "      <td>2</td>\n",
       "      <td>0.701</td>\n",
       "      <td>0.425</td>\n",
       "      <td>7</td>\n",
       "      <td>-10.965</td>\n",
       "      <td>1</td>\n",
       "      <td>0.3750</td>\n",
       "      <td>0.3280</td>\n",
       "      <td>0.13</td>\n",
       "      <td>0.1000</td>\n",
       "      <td>0.562</td>\n",
       "      <td>135.128</td>\n",
       "      <td>194088</td>\n",
       "      <td>4</td>\n",
       "      <td>Billie Eilish</td>\n",
       "    </tr>\n",
       "    <tr>\n",
       "      <th>2</th>\n",
       "      <td>2</td>\n",
       "      <td>0RiRZpuVRbi7oqRdSMwhQY</td>\n",
       "      <td>Sunflower - Spider-Man: Into the Spider-Verse</td>\n",
       "      <td>83</td>\n",
       "      <td>12</td>\n",
       "      <td>0.755</td>\n",
       "      <td>0.522</td>\n",
       "      <td>2</td>\n",
       "      <td>-4.368</td>\n",
       "      <td>1</td>\n",
       "      <td>0.0575</td>\n",
       "      <td>0.5330</td>\n",
       "      <td>0.00</td>\n",
       "      <td>0.0685</td>\n",
       "      <td>0.925</td>\n",
       "      <td>89.960</td>\n",
       "      <td>157560</td>\n",
       "      <td>4</td>\n",
       "      <td>Post Malone</td>\n",
       "    </tr>\n",
       "    <tr>\n",
       "      <th>3</th>\n",
       "      <td>3</td>\n",
       "      <td>6ocbgoVGwYJhOv1GgI9NsF</td>\n",
       "      <td>7 rings</td>\n",
       "      <td>86</td>\n",
       "      <td>10</td>\n",
       "      <td>0.778</td>\n",
       "      <td>0.317</td>\n",
       "      <td>1</td>\n",
       "      <td>-10.732</td>\n",
       "      <td>0</td>\n",
       "      <td>0.3340</td>\n",
       "      <td>0.5920</td>\n",
       "      <td>0.00</td>\n",
       "      <td>0.0881</td>\n",
       "      <td>0.327</td>\n",
       "      <td>140.048</td>\n",
       "      <td>178627</td>\n",
       "      <td>4</td>\n",
       "      <td>Ariana Grande</td>\n",
       "    </tr>\n",
       "    <tr>\n",
       "      <th>4</th>\n",
       "      <td>4</td>\n",
       "      <td>2YpeDb67231RjR0MgVLzsG</td>\n",
       "      <td>Old Town Road - Remix</td>\n",
       "      <td>85</td>\n",
       "      <td>1</td>\n",
       "      <td>0.878</td>\n",
       "      <td>0.619</td>\n",
       "      <td>6</td>\n",
       "      <td>-5.560</td>\n",
       "      <td>1</td>\n",
       "      <td>0.1020</td>\n",
       "      <td>0.0533</td>\n",
       "      <td>0.00</td>\n",
       "      <td>0.1130</td>\n",
       "      <td>0.639</td>\n",
       "      <td>136.041</td>\n",
       "      <td>157067</td>\n",
       "      <td>4</td>\n",
       "      <td>Lil Nas X</td>\n",
       "    </tr>\n",
       "  </tbody>\n",
       "</table>\n",
       "</div>"
      ],
      "text/plain": [
       "   Unnamed: 0                      id  \\\n",
       "0           0  6v3KW9xbzN5yKLt9YKDYA2   \n",
       "1           1  2Fxmhks0bxGSBdJ92vM42m   \n",
       "2           2  0RiRZpuVRbi7oqRdSMwhQY   \n",
       "3           3  6ocbgoVGwYJhOv1GgI9NsF   \n",
       "4           4  2YpeDb67231RjR0MgVLzsG   \n",
       "\n",
       "                                            name  popularity  \\\n",
       "0                                       Señorita          83   \n",
       "1                                        bad guy          90   \n",
       "2  Sunflower - Spider-Man: Into the Spider-Verse          83   \n",
       "3                                        7 rings          86   \n",
       "4                          Old Town Road - Remix          85   \n",
       "\n",
       "   track.track_number  danceability  energy  key  loudness  mode  speechiness  \\\n",
       "0                   1         0.759   0.548    9    -6.049     0       0.0290   \n",
       "1                   2         0.701   0.425    7   -10.965     1       0.3750   \n",
       "2                  12         0.755   0.522    2    -4.368     1       0.0575   \n",
       "3                  10         0.778   0.317    1   -10.732     0       0.3340   \n",
       "4                   1         0.878   0.619    6    -5.560     1       0.1020   \n",
       "\n",
       "   acousticness  instrumentalness  liveness  valence    tempo  duration_ms  \\\n",
       "0        0.0392              0.00    0.0828    0.749  116.967       190800   \n",
       "1        0.3280              0.13    0.1000    0.562  135.128       194088   \n",
       "2        0.5330              0.00    0.0685    0.925   89.960       157560   \n",
       "3        0.5920              0.00    0.0881    0.327  140.048       178627   \n",
       "4        0.0533              0.00    0.1130    0.639  136.041       157067   \n",
       "\n",
       "   time_signature        artists  \n",
       "0               4   Shawn Mendes  \n",
       "1               4  Billie Eilish  \n",
       "2               4    Post Malone  \n",
       "3               4  Ariana Grande  \n",
       "4               4      Lil Nas X  "
      ]
     },
     "execution_count": 8,
     "metadata": {},
     "output_type": "execute_result"
    }
   ],
   "source": [
    "float_conversion(df_2019.mode,df_2019[\"mode\"])\n",
    "float_conversion(df_2019.duration_ms,df_2019[\"duration_ms\"])\n",
    "float_conversion(df_2019.time_signature,df_2019[\"time_signature\"])\n",
    "\n",
    "df_2019.head()\n"
   ]
  },
  {
   "cell_type": "code",
   "execution_count": 9,
   "metadata": {},
   "outputs": [],
   "source": [
    "def understand_feature(feature):\n",
    "    return feature.describe()\n"
   ]
  },
  {
   "cell_type": "code",
   "execution_count": 10,
   "metadata": {},
   "outputs": [
    {
     "name": "stdout",
     "output_type": "stream",
     "text": [
      "overall danceability feature\n",
      "\n"
     ]
    },
    {
     "data": {
      "text/plain": [
       "count    50.000000\n",
       "mean      0.719400\n",
       "std       0.130358\n",
       "min       0.351000\n",
       "25%       0.657500\n",
       "50%       0.743000\n",
       "75%       0.814500\n",
       "max       0.907000\n",
       "Name: danceability, dtype: float64"
      ]
     },
     "execution_count": 10,
     "metadata": {},
     "output_type": "execute_result"
    }
   ],
   "source": [
    "#The higher the value, the easier it is to dance to this song.\n",
    "print(\"overall danceability feature\\n\")\n",
    "understand_feature(df_2019[\"danceability\"])\n"
   ]
  },
  {
   "cell_type": "code",
   "execution_count": 11,
   "metadata": {},
   "outputs": [
    {
     "name": "stdout",
     "output_type": "stream",
     "text": [
      "top 10  danceability feature\n",
      "\n"
     ]
    },
    {
     "data": {
      "text/plain": [
       "count    10.000000\n",
       "mean      0.730800\n",
       "std       0.114692\n",
       "min       0.501000\n",
       "25%       0.710000\n",
       "50%       0.757000\n",
       "75%       0.793000\n",
       "max       0.878000\n",
       "Name: danceability, dtype: float64"
      ]
     },
     "execution_count": 11,
     "metadata": {},
     "output_type": "execute_result"
    }
   ],
   "source": [
    "print(\"top 10  danceability feature\\n\")\n",
    "understand_feature(df_2019[\"danceability\"].head(10))\n",
    "\n"
   ]
  },
  {
   "cell_type": "code",
   "execution_count": 12,
   "metadata": {},
   "outputs": [
    {
     "name": "stdout",
     "output_type": "stream",
     "text": [
      "1    41\n",
      "0     9\n",
      "Name: dancebility_new, dtype: int64\n"
     ]
    }
   ],
   "source": [
    "#sorting out more danceble songs \n",
    "df_2019['dancebility_new']=df_2019['danceability']\n",
    "df_2019.loc[df_2019['danceability']>=0.6000,'dancebility_new']='1'\n",
    "df_2019.loc[(df_2019['danceability']<0.6000),'dancebility_new']='0'\n",
    "\n",
    "print(df_2019['dancebility_new'].value_counts())"
   ]
  },
  {
   "cell_type": "code",
   "execution_count": 13,
   "metadata": {},
   "outputs": [
    {
     "name": "stdout",
     "output_type": "stream",
     "text": [
      "top 10  energy  feature\n",
      "\n"
     ]
    },
    {
     "data": {
      "text/plain": [
       "count    10.000000\n",
       "mean      0.529600\n",
       "std       0.160433\n",
       "min       0.317000\n",
       "25%       0.410000\n",
       "50%       0.530500\n",
       "75%       0.601250\n",
       "max       0.860000\n",
       "Name: energy, dtype: float64"
      ]
     },
     "execution_count": 13,
     "metadata": {},
     "output_type": "execute_result"
    }
   ],
   "source": [
    "print(\"top 10  energy  feature\\n\")\n",
    "understand_feature(df_2019[\"energy\"].head(10))"
   ]
  },
  {
   "cell_type": "code",
   "execution_count": 14,
   "metadata": {},
   "outputs": [],
   "source": [
    "#understanding beats per minute i.e tempo of the song\n",
    "#here we do classification of the tempo on the bases of beats per min \n",
    "#REf:https://www.musical-u.com/learn/rhythm-tips-for-identifying-music-genres-by-ear/\n",
    "df_2019['tempo_rate']=df_2019['tempo']\n"
   ]
  },
  {
   "cell_type": "code",
   "execution_count": 15,
   "metadata": {},
   "outputs": [],
   "source": [
    "df_2019.loc[df_2019['tempo']<65,'tempo_rate']='very slow'\n",
    "df_2019.loc[(df_2019['tempo']>=66) & (df_2019['tempo']<=76),'tempo_rate']='slow'\n",
    "df_2019.loc[(df_2019['tempo']>=77) & (df_2019['tempo']<=108),'tempo_rate']='moderate'\n",
    "df_2019.loc[(df_2019['tempo']>=109) & (df_2019['tempo']<=168),'tempo_rate']='fast'\n",
    "df_2019.loc[df_2019['tempo']>168,'tempo_rate']='very fast'\n"
   ]
  },
  {
   "cell_type": "code",
   "execution_count": 16,
   "metadata": {},
   "outputs": [
    {
     "name": "stdout",
     "output_type": "stream",
     "text": [
      "Tempo Rate\tCount\n",
      "\n",
      "fast         22\n",
      "moderate     22\n",
      "very fast     5\n",
      "slow          1\n",
      "Name: tempo_rate, dtype: int64\n",
      "\n",
      "\n"
     ]
    },
    {
     "data": {
      "text/html": [
       "<div>\n",
       "<style scoped>\n",
       "    .dataframe tbody tr th:only-of-type {\n",
       "        vertical-align: middle;\n",
       "    }\n",
       "\n",
       "    .dataframe tbody tr th {\n",
       "        vertical-align: top;\n",
       "    }\n",
       "\n",
       "    .dataframe thead th {\n",
       "        text-align: right;\n",
       "    }\n",
       "</style>\n",
       "<table border=\"1\" class=\"dataframe\">\n",
       "  <thead>\n",
       "    <tr style=\"text-align: right;\">\n",
       "      <th></th>\n",
       "      <th>Unnamed: 0</th>\n",
       "      <th>id</th>\n",
       "      <th>name</th>\n",
       "      <th>popularity</th>\n",
       "      <th>track.track_number</th>\n",
       "      <th>danceability</th>\n",
       "      <th>energy</th>\n",
       "      <th>key</th>\n",
       "      <th>loudness</th>\n",
       "      <th>mode</th>\n",
       "      <th>...</th>\n",
       "      <th>acousticness</th>\n",
       "      <th>instrumentalness</th>\n",
       "      <th>liveness</th>\n",
       "      <th>valence</th>\n",
       "      <th>tempo</th>\n",
       "      <th>duration_ms</th>\n",
       "      <th>time_signature</th>\n",
       "      <th>artists</th>\n",
       "      <th>dancebility_new</th>\n",
       "      <th>tempo_rate</th>\n",
       "    </tr>\n",
       "  </thead>\n",
       "  <tbody>\n",
       "    <tr>\n",
       "      <th>0</th>\n",
       "      <td>0</td>\n",
       "      <td>6v3KW9xbzN5yKLt9YKDYA2</td>\n",
       "      <td>Señorita</td>\n",
       "      <td>83</td>\n",
       "      <td>1</td>\n",
       "      <td>0.759</td>\n",
       "      <td>0.548</td>\n",
       "      <td>9</td>\n",
       "      <td>-6.049</td>\n",
       "      <td>0</td>\n",
       "      <td>...</td>\n",
       "      <td>0.0392</td>\n",
       "      <td>0.00</td>\n",
       "      <td>0.0828</td>\n",
       "      <td>0.749</td>\n",
       "      <td>116.967</td>\n",
       "      <td>190800</td>\n",
       "      <td>4</td>\n",
       "      <td>Shawn Mendes</td>\n",
       "      <td>1</td>\n",
       "      <td>fast</td>\n",
       "    </tr>\n",
       "    <tr>\n",
       "      <th>1</th>\n",
       "      <td>1</td>\n",
       "      <td>2Fxmhks0bxGSBdJ92vM42m</td>\n",
       "      <td>bad guy</td>\n",
       "      <td>90</td>\n",
       "      <td>2</td>\n",
       "      <td>0.701</td>\n",
       "      <td>0.425</td>\n",
       "      <td>7</td>\n",
       "      <td>-10.965</td>\n",
       "      <td>1</td>\n",
       "      <td>...</td>\n",
       "      <td>0.3280</td>\n",
       "      <td>0.13</td>\n",
       "      <td>0.1000</td>\n",
       "      <td>0.562</td>\n",
       "      <td>135.128</td>\n",
       "      <td>194088</td>\n",
       "      <td>4</td>\n",
       "      <td>Billie Eilish</td>\n",
       "      <td>1</td>\n",
       "      <td>fast</td>\n",
       "    </tr>\n",
       "    <tr>\n",
       "      <th>2</th>\n",
       "      <td>2</td>\n",
       "      <td>0RiRZpuVRbi7oqRdSMwhQY</td>\n",
       "      <td>Sunflower - Spider-Man: Into the Spider-Verse</td>\n",
       "      <td>83</td>\n",
       "      <td>12</td>\n",
       "      <td>0.755</td>\n",
       "      <td>0.522</td>\n",
       "      <td>2</td>\n",
       "      <td>-4.368</td>\n",
       "      <td>1</td>\n",
       "      <td>...</td>\n",
       "      <td>0.5330</td>\n",
       "      <td>0.00</td>\n",
       "      <td>0.0685</td>\n",
       "      <td>0.925</td>\n",
       "      <td>89.960</td>\n",
       "      <td>157560</td>\n",
       "      <td>4</td>\n",
       "      <td>Post Malone</td>\n",
       "      <td>1</td>\n",
       "      <td>moderate</td>\n",
       "    </tr>\n",
       "    <tr>\n",
       "      <th>3</th>\n",
       "      <td>3</td>\n",
       "      <td>6ocbgoVGwYJhOv1GgI9NsF</td>\n",
       "      <td>7 rings</td>\n",
       "      <td>86</td>\n",
       "      <td>10</td>\n",
       "      <td>0.778</td>\n",
       "      <td>0.317</td>\n",
       "      <td>1</td>\n",
       "      <td>-10.732</td>\n",
       "      <td>0</td>\n",
       "      <td>...</td>\n",
       "      <td>0.5920</td>\n",
       "      <td>0.00</td>\n",
       "      <td>0.0881</td>\n",
       "      <td>0.327</td>\n",
       "      <td>140.048</td>\n",
       "      <td>178627</td>\n",
       "      <td>4</td>\n",
       "      <td>Ariana Grande</td>\n",
       "      <td>1</td>\n",
       "      <td>fast</td>\n",
       "    </tr>\n",
       "    <tr>\n",
       "      <th>4</th>\n",
       "      <td>4</td>\n",
       "      <td>2YpeDb67231RjR0MgVLzsG</td>\n",
       "      <td>Old Town Road - Remix</td>\n",
       "      <td>85</td>\n",
       "      <td>1</td>\n",
       "      <td>0.878</td>\n",
       "      <td>0.619</td>\n",
       "      <td>6</td>\n",
       "      <td>-5.560</td>\n",
       "      <td>1</td>\n",
       "      <td>...</td>\n",
       "      <td>0.0533</td>\n",
       "      <td>0.00</td>\n",
       "      <td>0.1130</td>\n",
       "      <td>0.639</td>\n",
       "      <td>136.041</td>\n",
       "      <td>157067</td>\n",
       "      <td>4</td>\n",
       "      <td>Lil Nas X</td>\n",
       "      <td>1</td>\n",
       "      <td>fast</td>\n",
       "    </tr>\n",
       "  </tbody>\n",
       "</table>\n",
       "<p>5 rows × 21 columns</p>\n",
       "</div>"
      ],
      "text/plain": [
       "   Unnamed: 0                      id  \\\n",
       "0           0  6v3KW9xbzN5yKLt9YKDYA2   \n",
       "1           1  2Fxmhks0bxGSBdJ92vM42m   \n",
       "2           2  0RiRZpuVRbi7oqRdSMwhQY   \n",
       "3           3  6ocbgoVGwYJhOv1GgI9NsF   \n",
       "4           4  2YpeDb67231RjR0MgVLzsG   \n",
       "\n",
       "                                            name  popularity  \\\n",
       "0                                       Señorita          83   \n",
       "1                                        bad guy          90   \n",
       "2  Sunflower - Spider-Man: Into the Spider-Verse          83   \n",
       "3                                        7 rings          86   \n",
       "4                          Old Town Road - Remix          85   \n",
       "\n",
       "   track.track_number  danceability  energy  key  loudness  mode  ...  \\\n",
       "0                   1         0.759   0.548    9    -6.049     0  ...   \n",
       "1                   2         0.701   0.425    7   -10.965     1  ...   \n",
       "2                  12         0.755   0.522    2    -4.368     1  ...   \n",
       "3                  10         0.778   0.317    1   -10.732     0  ...   \n",
       "4                   1         0.878   0.619    6    -5.560     1  ...   \n",
       "\n",
       "   acousticness  instrumentalness  liveness  valence    tempo  duration_ms  \\\n",
       "0        0.0392              0.00    0.0828    0.749  116.967       190800   \n",
       "1        0.3280              0.13    0.1000    0.562  135.128       194088   \n",
       "2        0.5330              0.00    0.0685    0.925   89.960       157560   \n",
       "3        0.5920              0.00    0.0881    0.327  140.048       178627   \n",
       "4        0.0533              0.00    0.1130    0.639  136.041       157067   \n",
       "\n",
       "   time_signature        artists dancebility_new tempo_rate  \n",
       "0               4   Shawn Mendes               1       fast  \n",
       "1               4  Billie Eilish               1       fast  \n",
       "2               4    Post Malone               1   moderate  \n",
       "3               4  Ariana Grande               1       fast  \n",
       "4               4      Lil Nas X               1       fast  \n",
       "\n",
       "[5 rows x 21 columns]"
      ]
     },
     "execution_count": 16,
     "metadata": {},
     "output_type": "execute_result"
    }
   ],
   "source": [
    "print(\"Tempo Rate\\tCount\\n\")\n",
    "print(df_2019['tempo_rate'].value_counts())\n",
    "print(\"\\n\")\n",
    "df_2019.head()"
   ]
  },
  {
   "cell_type": "code",
   "execution_count": 27,
   "metadata": {},
   "outputs": [
    {
     "data": {
      "image/png": "[encoded data removed]",
      "text/plain": [
       "<Figure size 432x288 with 1 Axes>"
      ]
     },
     "metadata": {
      "needs_background": "light"
     },
     "output_type": "display_data"
    }
   ],
   "source": [
    "sns.barplot(x=pd.DataFrame(df_2019['tempo_rate'].value_counts()).tempo_rate, \n",
    "            y=pd.DataFrame(df_2019['tempo_rate'].value_counts()).index\n",
    "           )\n",
    "plt.title('music tempo', fontsize =17);"
   ]
  },
  {
   "cell_type": "markdown",
   "metadata": {},
   "source": [
    "sort the songs on the bases of important parametes like :"
   ]
  },
  {
   "cell_type": "code",
   "execution_count": 28,
   "metadata": {},
   "outputs": [
    {
     "data": {
      "text/html": [
       "<div>\n",
       "<style scoped>\n",
       "    .dataframe tbody tr th:only-of-type {\n",
       "        vertical-align: middle;\n",
       "    }\n",
       "\n",
       "    .dataframe tbody tr th {\n",
       "        vertical-align: top;\n",
       "    }\n",
       "\n",
       "    .dataframe thead th {\n",
       "        text-align: right;\n",
       "    }\n",
       "</style>\n",
       "<table border=\"1\" class=\"dataframe\">\n",
       "  <thead>\n",
       "    <tr style=\"text-align: right;\">\n",
       "      <th></th>\n",
       "      <th>name</th>\n",
       "      <th>artists</th>\n",
       "      <th>danceability</th>\n",
       "      <th>valence</th>\n",
       "      <th>tempo</th>\n",
       "      <th>tempo_rate</th>\n",
       "      <th>energy</th>\n",
       "    </tr>\n",
       "  </thead>\n",
       "  <tbody>\n",
       "    <tr>\n",
       "      <th>18</th>\n",
       "      <td>Old Town Road</td>\n",
       "      <td>Lil Nas X</td>\n",
       "      <td>0.907</td>\n",
       "      <td>0.507</td>\n",
       "      <td>135.998</td>\n",
       "      <td>fast</td>\n",
       "      <td>0.530</td>\n",
       "    </tr>\n",
       "    <tr>\n",
       "      <th>17</th>\n",
       "      <td>bury a friend</td>\n",
       "      <td>Billie Eilish</td>\n",
       "      <td>0.905</td>\n",
       "      <td>0.196</td>\n",
       "      <td>120.046</td>\n",
       "      <td>fast</td>\n",
       "      <td>0.389</td>\n",
       "    </tr>\n",
       "    <tr>\n",
       "      <th>19</th>\n",
       "      <td>Talk (feat. Disclosure)</td>\n",
       "      <td>Khalid</td>\n",
       "      <td>0.901</td>\n",
       "      <td>0.346</td>\n",
       "      <td>135.984</td>\n",
       "      <td>fast</td>\n",
       "      <td>0.400</td>\n",
       "    </tr>\n",
       "    <tr>\n",
       "      <th>31</th>\n",
       "      <td>Going Bad (feat. Drake)</td>\n",
       "      <td>Meek Mill</td>\n",
       "      <td>0.889</td>\n",
       "      <td>0.544</td>\n",
       "      <td>86.003</td>\n",
       "      <td>moderate</td>\n",
       "      <td>0.496</td>\n",
       "    </tr>\n",
       "    <tr>\n",
       "      <th>4</th>\n",
       "      <td>Old Town Road - Remix</td>\n",
       "      <td>Lil Nas X</td>\n",
       "      <td>0.878</td>\n",
       "      <td>0.639</td>\n",
       "      <td>136.041</td>\n",
       "      <td>fast</td>\n",
       "      <td>0.619</td>\n",
       "    </tr>\n",
       "    <tr>\n",
       "      <th>27</th>\n",
       "      <td>Taki Taki (feat. Selena Gomez, Ozuna &amp; Cardi B)</td>\n",
       "      <td>DJ Snake</td>\n",
       "      <td>0.842</td>\n",
       "      <td>0.617</td>\n",
       "      <td>95.881</td>\n",
       "      <td>moderate</td>\n",
       "      <td>0.801</td>\n",
       "    </tr>\n",
       "    <tr>\n",
       "      <th>14</th>\n",
       "      <td>Sucker</td>\n",
       "      <td>Jonas Brothers</td>\n",
       "      <td>0.842</td>\n",
       "      <td>0.952</td>\n",
       "      <td>137.958</td>\n",
       "      <td>fast</td>\n",
       "      <td>0.734</td>\n",
       "    </tr>\n",
       "    <tr>\n",
       "      <th>24</th>\n",
       "      <td>MIDDLE CHILD</td>\n",
       "      <td>J. Cole</td>\n",
       "      <td>0.837</td>\n",
       "      <td>0.463</td>\n",
       "      <td>123.984</td>\n",
       "      <td>fast</td>\n",
       "      <td>0.364</td>\n",
       "    </tr>\n",
       "    <tr>\n",
       "      <th>30</th>\n",
       "      <td>SICKO MODE</td>\n",
       "      <td>Travis Scott</td>\n",
       "      <td>0.834</td>\n",
       "      <td>0.446</td>\n",
       "      <td>155.008</td>\n",
       "      <td>fast</td>\n",
       "      <td>0.730</td>\n",
       "    </tr>\n",
       "    <tr>\n",
       "      <th>6</th>\n",
       "      <td>Wow.</td>\n",
       "      <td>Post Malone</td>\n",
       "      <td>0.829</td>\n",
       "      <td>0.388</td>\n",
       "      <td>99.960</td>\n",
       "      <td>moderate</td>\n",
       "      <td>0.539</td>\n",
       "    </tr>\n",
       "  </tbody>\n",
       "</table>\n",
       "</div>"
      ],
      "text/plain": [
       "                                               name         artists  \\\n",
       "18                                    Old Town Road       Lil Nas X   \n",
       "17                                    bury a friend   Billie Eilish   \n",
       "19                          Talk (feat. Disclosure)          Khalid   \n",
       "31                          Going Bad (feat. Drake)       Meek Mill   \n",
       "4                             Old Town Road - Remix       Lil Nas X   \n",
       "27  Taki Taki (feat. Selena Gomez, Ozuna & Cardi B)        DJ Snake   \n",
       "14                                           Sucker  Jonas Brothers   \n",
       "24                                     MIDDLE CHILD         J. Cole   \n",
       "30                                       SICKO MODE    Travis Scott   \n",
       "6                                              Wow.     Post Malone   \n",
       "\n",
       "    danceability  valence    tempo tempo_rate  energy  \n",
       "18         0.907    0.507  135.998       fast   0.530  \n",
       "17         0.905    0.196  120.046       fast   0.389  \n",
       "19         0.901    0.346  135.984       fast   0.400  \n",
       "31         0.889    0.544   86.003   moderate   0.496  \n",
       "4          0.878    0.639  136.041       fast   0.619  \n",
       "27         0.842    0.617   95.881   moderate   0.801  \n",
       "14         0.842    0.952  137.958       fast   0.734  \n",
       "24         0.837    0.463  123.984       fast   0.364  \n",
       "30         0.834    0.446  155.008       fast   0.730  \n",
       "6          0.829    0.388   99.960   moderate   0.539  "
      ]
     },
     "execution_count": 28,
     "metadata": {},
     "output_type": "execute_result"
    }
   ],
   "source": [
    "df_2019[['name','artists','danceability','valence','tempo','tempo_rate','energy']].sort_values(by=[\"danceability\",\"energy\",\"valence\"],ascending=False).head(10)"
   ]
  },
  {
   "cell_type": "markdown",
   "metadata": {},
   "source": [
    "as we can see that these features collectively couldn't generate the sorted manner of artist as expected.We need to change our approach and include more features \n",
    "### Analysing top artists\n",
    "Analysing Top artists will give us a better idea about the feature importance "
   ]
  },
  {
   "cell_type": "code",
   "execution_count": 29,
   "metadata": {},
   "outputs": [
    {
     "name": "stdout",
     "output_type": "stream",
     "text": [
      "Artist\t\tSongs\n",
      "\n",
      "Post Malone            5\n",
      "Billie Eilish          4\n",
      "Ariana Grande          3\n",
      "Bad Bunny              2\n",
      "Shawn Mendes           2\n",
      "Lil Nas X              2\n",
      "Anuel AA               2\n",
      "Ed Sheeran             2\n",
      "Paulo Londra           1\n",
      "Marshmello             1\n",
      "Sech                   1\n",
      "Queen                  1\n",
      "Tones And I            1\n",
      "Travis Scott           1\n",
      "Pedro Capó             1\n",
      "Alec Benjamin          1\n",
      "Panic! At The Disco    1\n",
      "Sam Smith              1\n",
      "MEDUZA                 1\n",
      "Khalid                 1\n",
      "Name: artists, dtype: int64\n"
     ]
    }
   ],
   "source": [
    "#count the value:in terms on songs per year for an  artist\n",
    "print(\"Artist\\t\\tSongs\\n\")\n",
    "print(df_2019[\"artists\"].value_counts().head(20))"
   ]
  },
  {
   "cell_type": "markdown",
   "metadata": {},
   "source": [
    "#### comparing  the  top artists based on our features \n",
    "lets start with top 5:\n",
    "\n",
    "- Ed Sheeran          4\n",
    "- The Chainsmokers    4\n",
    "- Drake               3\n",
    "- Martin Garrix       3\n",
    "- Kendrick Lamar      2"
   ]
  },
  {
   "cell_type": "code",
   "execution_count": 30,
   "metadata": {
    "scrolled": false
   },
   "outputs": [
    {
     "name": "stdout",
     "output_type": "stream",
     "text": [
      "                 artist  counts\n",
      "0           Post Malone       5\n",
      "1         Billie Eilish       4\n",
      "2         Ariana Grande       3\n",
      "3             Bad Bunny       2\n",
      "4          Shawn Mendes       2\n",
      "5             Lil Nas X       2\n",
      "6              Anuel AA       2\n",
      "7            Ed Sheeran       2\n",
      "8          Paulo Londra       1\n",
      "9            Marshmello       1\n",
      "10                 Sech       1\n",
      "11                Queen       1\n",
      "12          Tones And I       1\n",
      "13         Travis Scott       1\n",
      "14           Pedro Capó       1\n",
      "15        Alec Benjamin       1\n",
      "16  Panic! At The Disco       1\n",
      "17            Sam Smith       1\n",
      "18               MEDUZA       1\n",
      "19               Khalid       1\n",
      "20         Daddy Yankee       1\n",
      "21                 Lauv       1\n",
      "22               Avicii       1\n",
      "23            Lil Tecca       1\n",
      "24               Halsey       1\n",
      "25              J. Cole       1\n",
      "26                Lizzo       1\n",
      "27        Lewis Capaldi       1\n",
      "28             DJ Snake       1\n",
      "29         benny blanco       1\n",
      "30              Ava Max       1\n",
      "31                Lunay       1\n",
      "32            Meek Mill       1\n",
      "33                Mabel       1\n",
      "34       Jonas Brothers       1\n",
      "35            Lady Gaga       1\n",
      "Post Malone\n"
     ]
    },
    {
     "data": {
      "text/html": [
       "<div>\n",
       "<style scoped>\n",
       "    .dataframe tbody tr th:only-of-type {\n",
       "        vertical-align: middle;\n",
       "    }\n",
       "\n",
       "    .dataframe tbody tr th {\n",
       "        vertical-align: top;\n",
       "    }\n",
       "\n",
       "    .dataframe thead th {\n",
       "        text-align: right;\n",
       "    }\n",
       "</style>\n",
       "<table border=\"1\" class=\"dataframe\">\n",
       "  <thead>\n",
       "    <tr style=\"text-align: right;\">\n",
       "      <th></th>\n",
       "      <th>name</th>\n",
       "      <th>danceability</th>\n",
       "      <th>energy</th>\n",
       "      <th>loudness</th>\n",
       "      <th>valence</th>\n",
       "      <th>tempo</th>\n",
       "      <th>tempo_rate</th>\n",
       "    </tr>\n",
       "  </thead>\n",
       "  <tbody>\n",
       "    <tr>\n",
       "      <th>2</th>\n",
       "      <td>Sunflower - Spider-Man: Into the Spider-Verse</td>\n",
       "      <td>0.755</td>\n",
       "      <td>0.522</td>\n",
       "      <td>-4.368</td>\n",
       "      <td>0.925</td>\n",
       "      <td>89.960</td>\n",
       "      <td>moderate</td>\n",
       "    </tr>\n",
       "    <tr>\n",
       "      <th>6</th>\n",
       "      <td>Wow.</td>\n",
       "      <td>0.829</td>\n",
       "      <td>0.539</td>\n",
       "      <td>-7.359</td>\n",
       "      <td>0.388</td>\n",
       "      <td>99.960</td>\n",
       "      <td>moderate</td>\n",
       "    </tr>\n",
       "    <tr>\n",
       "      <th>25</th>\n",
       "      <td>Goodbyes (Feat. Young Thug)</td>\n",
       "      <td>0.580</td>\n",
       "      <td>0.653</td>\n",
       "      <td>-3.818</td>\n",
       "      <td>0.175</td>\n",
       "      <td>150.231</td>\n",
       "      <td>fast</td>\n",
       "    </tr>\n",
       "    <tr>\n",
       "      <th>45</th>\n",
       "      <td>Better Now</td>\n",
       "      <td>0.680</td>\n",
       "      <td>0.578</td>\n",
       "      <td>-5.804</td>\n",
       "      <td>0.341</td>\n",
       "      <td>145.038</td>\n",
       "      <td>fast</td>\n",
       "    </tr>\n",
       "    <tr>\n",
       "      <th>49</th>\n",
       "      <td>rockstar (feat. 21 Savage)</td>\n",
       "      <td>0.585</td>\n",
       "      <td>0.520</td>\n",
       "      <td>-6.136</td>\n",
       "      <td>0.129</td>\n",
       "      <td>159.801</td>\n",
       "      <td>fast</td>\n",
       "    </tr>\n",
       "  </tbody>\n",
       "</table>\n",
       "</div>"
      ],
      "text/plain": [
       "                                             name  danceability  energy  \\\n",
       "2   Sunflower - Spider-Man: Into the Spider-Verse         0.755   0.522   \n",
       "6                                            Wow.         0.829   0.539   \n",
       "25                    Goodbyes (Feat. Young Thug)         0.580   0.653   \n",
       "45                                     Better Now         0.680   0.578   \n",
       "49                     rockstar (feat. 21 Savage)         0.585   0.520   \n",
       "\n",
       "    loudness  valence    tempo tempo_rate  \n",
       "2     -4.368    0.925   89.960   moderate  \n",
       "6     -7.359    0.388   99.960   moderate  \n",
       "25    -3.818    0.175  150.231       fast  \n",
       "45    -5.804    0.341  145.038       fast  \n",
       "49    -6.136    0.129  159.801       fast  "
      ]
     },
     "metadata": {},
     "output_type": "display_data"
    },
    {
     "name": "stdout",
     "output_type": "stream",
     "text": [
      "Billie Eilish\n"
     ]
    },
    {
     "data": {
      "text/html": [
       "<div>\n",
       "<style scoped>\n",
       "    .dataframe tbody tr th:only-of-type {\n",
       "        vertical-align: middle;\n",
       "    }\n",
       "\n",
       "    .dataframe tbody tr th {\n",
       "        vertical-align: top;\n",
       "    }\n",
       "\n",
       "    .dataframe thead th {\n",
       "        text-align: right;\n",
       "    }\n",
       "</style>\n",
       "<table border=\"1\" class=\"dataframe\">\n",
       "  <thead>\n",
       "    <tr style=\"text-align: right;\">\n",
       "      <th></th>\n",
       "      <th>name</th>\n",
       "      <th>danceability</th>\n",
       "      <th>energy</th>\n",
       "      <th>loudness</th>\n",
       "      <th>valence</th>\n",
       "      <th>tempo</th>\n",
       "      <th>tempo_rate</th>\n",
       "    </tr>\n",
       "  </thead>\n",
       "  <tbody>\n",
       "    <tr>\n",
       "      <th>1</th>\n",
       "      <td>bad guy</td>\n",
       "      <td>0.701</td>\n",
       "      <td>0.425</td>\n",
       "      <td>-10.965</td>\n",
       "      <td>0.562</td>\n",
       "      <td>135.128</td>\n",
       "      <td>fast</td>\n",
       "    </tr>\n",
       "    <tr>\n",
       "      <th>17</th>\n",
       "      <td>bury a friend</td>\n",
       "      <td>0.905</td>\n",
       "      <td>0.389</td>\n",
       "      <td>-14.505</td>\n",
       "      <td>0.196</td>\n",
       "      <td>120.046</td>\n",
       "      <td>fast</td>\n",
       "    </tr>\n",
       "    <tr>\n",
       "      <th>20</th>\n",
       "      <td>when the party's over</td>\n",
       "      <td>0.367</td>\n",
       "      <td>0.111</td>\n",
       "      <td>-14.084</td>\n",
       "      <td>0.198</td>\n",
       "      <td>82.642</td>\n",
       "      <td>moderate</td>\n",
       "    </tr>\n",
       "    <tr>\n",
       "      <th>29</th>\n",
       "      <td>lovely (with Khalid)</td>\n",
       "      <td>0.351</td>\n",
       "      <td>0.296</td>\n",
       "      <td>-10.109</td>\n",
       "      <td>0.120</td>\n",
       "      <td>115.284</td>\n",
       "      <td>fast</td>\n",
       "    </tr>\n",
       "  </tbody>\n",
       "</table>\n",
       "</div>"
      ],
      "text/plain": [
       "                     name  danceability  energy  loudness  valence    tempo  \\\n",
       "1                 bad guy         0.701   0.425   -10.965    0.562  135.128   \n",
       "17          bury a friend         0.905   0.389   -14.505    0.196  120.046   \n",
       "20  when the party's over         0.367   0.111   -14.084    0.198   82.642   \n",
       "29   lovely (with Khalid)         0.351   0.296   -10.109    0.120  115.284   \n",
       "\n",
       "   tempo_rate  \n",
       "1        fast  \n",
       "17       fast  \n",
       "20   moderate  \n",
       "29       fast  "
      ]
     },
     "metadata": {},
     "output_type": "display_data"
    },
    {
     "name": "stdout",
     "output_type": "stream",
     "text": [
      "Ariana Grande\n"
     ]
    },
    {
     "data": {
      "text/html": [
       "<div>\n",
       "<style scoped>\n",
       "    .dataframe tbody tr th:only-of-type {\n",
       "        vertical-align: middle;\n",
       "    }\n",
       "\n",
       "    .dataframe tbody tr th {\n",
       "        vertical-align: top;\n",
       "    }\n",
       "\n",
       "    .dataframe thead th {\n",
       "        text-align: right;\n",
       "    }\n",
       "</style>\n",
       "<table border=\"1\" class=\"dataframe\">\n",
       "  <thead>\n",
       "    <tr style=\"text-align: right;\">\n",
       "      <th></th>\n",
       "      <th>name</th>\n",
       "      <th>danceability</th>\n",
       "      <th>energy</th>\n",
       "      <th>loudness</th>\n",
       "      <th>valence</th>\n",
       "      <th>tempo</th>\n",
       "      <th>tempo_rate</th>\n",
       "    </tr>\n",
       "  </thead>\n",
       "  <tbody>\n",
       "    <tr>\n",
       "      <th>3</th>\n",
       "      <td>7 rings</td>\n",
       "      <td>0.778</td>\n",
       "      <td>0.317</td>\n",
       "      <td>-10.732</td>\n",
       "      <td>0.327</td>\n",
       "      <td>140.048</td>\n",
       "      <td>fast</td>\n",
       "    </tr>\n",
       "    <tr>\n",
       "      <th>13</th>\n",
       "      <td>thank u, next</td>\n",
       "      <td>0.717</td>\n",
       "      <td>0.653</td>\n",
       "      <td>-5.634</td>\n",
       "      <td>0.412</td>\n",
       "      <td>106.966</td>\n",
       "      <td>moderate</td>\n",
       "    </tr>\n",
       "    <tr>\n",
       "      <th>23</th>\n",
       "      <td>break up with your girlfriend, i'm bored</td>\n",
       "      <td>0.726</td>\n",
       "      <td>0.554</td>\n",
       "      <td>-5.290</td>\n",
       "      <td>0.335</td>\n",
       "      <td>169.999</td>\n",
       "      <td>very fast</td>\n",
       "    </tr>\n",
       "  </tbody>\n",
       "</table>\n",
       "</div>"
      ],
      "text/plain": [
       "                                        name  danceability  energy  loudness  \\\n",
       "3                                    7 rings         0.778   0.317   -10.732   \n",
       "13                             thank u, next         0.717   0.653    -5.634   \n",
       "23  break up with your girlfriend, i'm bored         0.726   0.554    -5.290   \n",
       "\n",
       "    valence    tempo tempo_rate  \n",
       "3     0.327  140.048       fast  \n",
       "13    0.412  106.966   moderate  \n",
       "23    0.335  169.999  very fast  "
      ]
     },
     "metadata": {},
     "output_type": "display_data"
    },
    {
     "name": "stdout",
     "output_type": "stream",
     "text": [
      "Bad Bunny\n"
     ]
    },
    {
     "data": {
      "text/html": [
       "<div>\n",
       "<style scoped>\n",
       "    .dataframe tbody tr th:only-of-type {\n",
       "        vertical-align: middle;\n",
       "    }\n",
       "\n",
       "    .dataframe tbody tr th {\n",
       "        vertical-align: top;\n",
       "    }\n",
       "\n",
       "    .dataframe thead th {\n",
       "        text-align: right;\n",
       "    }\n",
       "</style>\n",
       "<table border=\"1\" class=\"dataframe\">\n",
       "  <thead>\n",
       "    <tr style=\"text-align: right;\">\n",
       "      <th></th>\n",
       "      <th>name</th>\n",
       "      <th>danceability</th>\n",
       "      <th>energy</th>\n",
       "      <th>loudness</th>\n",
       "      <th>valence</th>\n",
       "      <th>tempo</th>\n",
       "      <th>tempo_rate</th>\n",
       "    </tr>\n",
       "  </thead>\n",
       "  <tbody>\n",
       "    <tr>\n",
       "      <th>33</th>\n",
       "      <td>Callaita</td>\n",
       "      <td>0.610</td>\n",
       "      <td>0.624</td>\n",
       "      <td>-4.773</td>\n",
       "      <td>0.244</td>\n",
       "      <td>176.169</td>\n",
       "      <td>very fast</td>\n",
       "    </tr>\n",
       "    <tr>\n",
       "      <th>34</th>\n",
       "      <td>MIA (feat. Drake)</td>\n",
       "      <td>0.817</td>\n",
       "      <td>0.539</td>\n",
       "      <td>-6.349</td>\n",
       "      <td>0.158</td>\n",
       "      <td>97.062</td>\n",
       "      <td>moderate</td>\n",
       "    </tr>\n",
       "  </tbody>\n",
       "</table>\n",
       "</div>"
      ],
      "text/plain": [
       "                 name  danceability  energy  loudness  valence    tempo  \\\n",
       "33           Callaita         0.610   0.624    -4.773    0.244  176.169   \n",
       "34  MIA (feat. Drake)         0.817   0.539    -6.349    0.158   97.062   \n",
       "\n",
       "   tempo_rate  \n",
       "33  very fast  \n",
       "34   moderate  "
      ]
     },
     "metadata": {},
     "output_type": "display_data"
    },
    {
     "name": "stdout",
     "output_type": "stream",
     "text": [
      "Shawn Mendes\n"
     ]
    },
    {
     "data": {
      "text/html": [
       "<div>\n",
       "<style scoped>\n",
       "    .dataframe tbody tr th:only-of-type {\n",
       "        vertical-align: middle;\n",
       "    }\n",
       "\n",
       "    .dataframe tbody tr th {\n",
       "        vertical-align: top;\n",
       "    }\n",
       "\n",
       "    .dataframe thead th {\n",
       "        text-align: right;\n",
       "    }\n",
       "</style>\n",
       "<table border=\"1\" class=\"dataframe\">\n",
       "  <thead>\n",
       "    <tr style=\"text-align: right;\">\n",
       "      <th></th>\n",
       "      <th>name</th>\n",
       "      <th>danceability</th>\n",
       "      <th>energy</th>\n",
       "      <th>loudness</th>\n",
       "      <th>valence</th>\n",
       "      <th>tempo</th>\n",
       "      <th>tempo_rate</th>\n",
       "    </tr>\n",
       "  </thead>\n",
       "  <tbody>\n",
       "    <tr>\n",
       "      <th>0</th>\n",
       "      <td>Señorita</td>\n",
       "      <td>0.759</td>\n",
       "      <td>0.548</td>\n",
       "      <td>-6.049</td>\n",
       "      <td>0.749</td>\n",
       "      <td>116.967</td>\n",
       "      <td>fast</td>\n",
       "    </tr>\n",
       "    <tr>\n",
       "      <th>40</th>\n",
       "      <td>If I Can't Have You</td>\n",
       "      <td>0.691</td>\n",
       "      <td>0.823</td>\n",
       "      <td>-4.197</td>\n",
       "      <td>0.870</td>\n",
       "      <td>123.935</td>\n",
       "      <td>fast</td>\n",
       "    </tr>\n",
       "  </tbody>\n",
       "</table>\n",
       "</div>"
      ],
      "text/plain": [
       "                   name  danceability  energy  loudness  valence    tempo  \\\n",
       "0              Señorita         0.759   0.548    -6.049    0.749  116.967   \n",
       "40  If I Can't Have You         0.691   0.823    -4.197    0.870  123.935   \n",
       "\n",
       "   tempo_rate  \n",
       "0        fast  \n",
       "40       fast  "
      ]
     },
     "metadata": {},
     "output_type": "display_data"
    },
    {
     "name": "stdout",
     "output_type": "stream",
     "text": [
      "Lil Nas X\n"
     ]
    },
    {
     "data": {
      "text/html": [
       "<div>\n",
       "<style scoped>\n",
       "    .dataframe tbody tr th:only-of-type {\n",
       "        vertical-align: middle;\n",
       "    }\n",
       "\n",
       "    .dataframe tbody tr th {\n",
       "        vertical-align: top;\n",
       "    }\n",
       "\n",
       "    .dataframe thead th {\n",
       "        text-align: right;\n",
       "    }\n",
       "</style>\n",
       "<table border=\"1\" class=\"dataframe\">\n",
       "  <thead>\n",
       "    <tr style=\"text-align: right;\">\n",
       "      <th></th>\n",
       "      <th>name</th>\n",
       "      <th>danceability</th>\n",
       "      <th>energy</th>\n",
       "      <th>loudness</th>\n",
       "      <th>valence</th>\n",
       "      <th>tempo</th>\n",
       "      <th>tempo_rate</th>\n",
       "    </tr>\n",
       "  </thead>\n",
       "  <tbody>\n",
       "    <tr>\n",
       "      <th>4</th>\n",
       "      <td>Old Town Road - Remix</td>\n",
       "      <td>0.878</td>\n",
       "      <td>0.619</td>\n",
       "      <td>-5.560</td>\n",
       "      <td>0.639</td>\n",
       "      <td>136.041</td>\n",
       "      <td>fast</td>\n",
       "    </tr>\n",
       "    <tr>\n",
       "      <th>18</th>\n",
       "      <td>Old Town Road</td>\n",
       "      <td>0.907</td>\n",
       "      <td>0.530</td>\n",
       "      <td>-6.112</td>\n",
       "      <td>0.507</td>\n",
       "      <td>135.998</td>\n",
       "      <td>fast</td>\n",
       "    </tr>\n",
       "  </tbody>\n",
       "</table>\n",
       "</div>"
      ],
      "text/plain": [
       "                     name  danceability  energy  loudness  valence    tempo  \\\n",
       "4   Old Town Road - Remix         0.878   0.619    -5.560    0.639  136.041   \n",
       "18          Old Town Road         0.907   0.530    -6.112    0.507  135.998   \n",
       "\n",
       "   tempo_rate  \n",
       "4        fast  \n",
       "18       fast  "
      ]
     },
     "metadata": {},
     "output_type": "display_data"
    },
    {
     "name": "stdout",
     "output_type": "stream",
     "text": [
      "Anuel AA\n"
     ]
    },
    {
     "data": {
      "text/html": [
       "<div>\n",
       "<style scoped>\n",
       "    .dataframe tbody tr th:only-of-type {\n",
       "        vertical-align: middle;\n",
       "    }\n",
       "\n",
       "    .dataframe tbody tr th {\n",
       "        vertical-align: top;\n",
       "    }\n",
       "\n",
       "    .dataframe thead th {\n",
       "        text-align: right;\n",
       "    }\n",
       "</style>\n",
       "<table border=\"1\" class=\"dataframe\">\n",
       "  <thead>\n",
       "    <tr style=\"text-align: right;\">\n",
       "      <th></th>\n",
       "      <th>name</th>\n",
       "      <th>danceability</th>\n",
       "      <th>energy</th>\n",
       "      <th>loudness</th>\n",
       "      <th>valence</th>\n",
       "      <th>tempo</th>\n",
       "      <th>tempo_rate</th>\n",
       "    </tr>\n",
       "  </thead>\n",
       "  <tbody>\n",
       "    <tr>\n",
       "      <th>38</th>\n",
       "      <td>Secreto</td>\n",
       "      <td>0.807</td>\n",
       "      <td>0.803</td>\n",
       "      <td>-4.156</td>\n",
       "      <td>0.706</td>\n",
       "      <td>91.987</td>\n",
       "      <td>moderate</td>\n",
       "    </tr>\n",
       "    <tr>\n",
       "      <th>39</th>\n",
       "      <td>China</td>\n",
       "      <td>0.786</td>\n",
       "      <td>0.808</td>\n",
       "      <td>-3.702</td>\n",
       "      <td>0.609</td>\n",
       "      <td>105.027</td>\n",
       "      <td>moderate</td>\n",
       "    </tr>\n",
       "  </tbody>\n",
       "</table>\n",
       "</div>"
      ],
      "text/plain": [
       "       name  danceability  energy  loudness  valence    tempo tempo_rate\n",
       "38  Secreto         0.807   0.803    -4.156    0.706   91.987   moderate\n",
       "39    China         0.786   0.808    -3.702    0.609  105.027   moderate"
      ]
     },
     "metadata": {},
     "output_type": "display_data"
    },
    {
     "name": "stdout",
     "output_type": "stream",
     "text": [
      "Ed Sheeran\n"
     ]
    },
    {
     "data": {
      "text/html": [
       "<div>\n",
       "<style scoped>\n",
       "    .dataframe tbody tr th:only-of-type {\n",
       "        vertical-align: middle;\n",
       "    }\n",
       "\n",
       "    .dataframe tbody tr th {\n",
       "        vertical-align: top;\n",
       "    }\n",
       "\n",
       "    .dataframe thead th {\n",
       "        text-align: right;\n",
       "    }\n",
       "</style>\n",
       "<table border=\"1\" class=\"dataframe\">\n",
       "  <thead>\n",
       "    <tr style=\"text-align: right;\">\n",
       "      <th></th>\n",
       "      <th>name</th>\n",
       "      <th>danceability</th>\n",
       "      <th>energy</th>\n",
       "      <th>loudness</th>\n",
       "      <th>valence</th>\n",
       "      <th>tempo</th>\n",
       "      <th>tempo_rate</th>\n",
       "    </tr>\n",
       "  </thead>\n",
       "  <tbody>\n",
       "    <tr>\n",
       "      <th>5</th>\n",
       "      <td>I Don't Care (with Justin Bieber)</td>\n",
       "      <td>0.798</td>\n",
       "      <td>0.676</td>\n",
       "      <td>-5.041</td>\n",
       "      <td>0.843</td>\n",
       "      <td>101.956</td>\n",
       "      <td>moderate</td>\n",
       "    </tr>\n",
       "    <tr>\n",
       "      <th>21</th>\n",
       "      <td>Beautiful People (feat. Khalid)</td>\n",
       "      <td>0.640</td>\n",
       "      <td>0.647</td>\n",
       "      <td>-8.114</td>\n",
       "      <td>0.546</td>\n",
       "      <td>92.979</td>\n",
       "      <td>moderate</td>\n",
       "    </tr>\n",
       "  </tbody>\n",
       "</table>\n",
       "</div>"
      ],
      "text/plain": [
       "                                 name  danceability  energy  loudness  \\\n",
       "5   I Don't Care (with Justin Bieber)         0.798   0.676    -5.041   \n",
       "21    Beautiful People (feat. Khalid)         0.640   0.647    -8.114   \n",
       "\n",
       "    valence    tempo tempo_rate  \n",
       "5     0.843  101.956   moderate  \n",
       "21    0.546   92.979   moderate  "
      ]
     },
     "metadata": {},
     "output_type": "display_data"
    }
   ],
   "source": [
    "def artist_features(artist_name):\n",
    "    artist = df_2019[df_2019['artists']==artist_name]\n",
    "    print(artist_name)\n",
    "    display(artist[['name','danceability','energy','loudness','valence','tempo','tempo_rate']])\n",
    "\n",
    "commulative_songs = df_2019[\"artists\"].value_counts().rename_axis('artist').reset_index(name='counts')\n",
    "print(commulative_songs)\n",
    "all_interesting_artists = commulative_songs[commulative_songs[\"counts\"]>1][\"artist\"].apply(lambda x: artist_features(x))"
   ]
  },
  {
   "cell_type": "markdown",
   "metadata": {},
   "source": [
    "## Here's the observation for the above  top 5 results:\n",
    "- dancebility:Range:0.49-->0.90+\n",
    "- energy:Range:0.48-->0.90+ , in general, the enegy in not very significant but  top songs have energy more than 0.48\n",
    "- loudness:more -ve loudness means more popular the song is \n",
    "- valence:Range:Not a very important criteria\n",
    "- tempo:Range:can not conclude about this, need more EDA\n",
    "- tempo rate:Range: fast and moderate are in top\n",
    "\n"
   ]
  },
  {
   "cell_type": "code",
   "execution_count": 31,
   "metadata": {},
   "outputs": [
    {
     "data": {
      "application/vnd.plotly.v1+json": {
       "config": {
        "linkText": "Export to plot.ly",
        "plotlyServerURL": "https://plot.ly",
        "showLink": false
       },
       "data": [
        {
         "marker": {
          "color": [
           0.759,
           0.701,
           0.755,
           0.778,
           0.878,
           0.7979999999999999,
           0.8290000000000001,
           0.501,
           0.737,
           0.5720000000000001,
           0.687,
           0.752,
           0.826,
           0.7170000000000001,
           0.8420000000000001,
           0.7190000000000001,
           0.741,
           0.905,
           0.907,
           0.9009999999999999,
           0.36700000000000005,
           0.64,
           0.825,
           0.726,
           0.8370000000000001,
           0.58,
           0.579,
           0.8420000000000001,
           0.745,
           0.35100000000000003,
           0.8340000000000001,
           0.889,
           0.674,
           0.61,
           0.8170000000000001,
           0.715,
           0.632,
           0.414,
           0.807,
           0.7859999999999999,
           0.691,
           0.747,
           0.599,
           0.677,
           0.802,
           0.68,
           0.795,
           0.767,
           0.652,
           0.585
          ],
          "size": 8
         },
         "mode": "markers",
         "text": [
          "Shawn Mendes - Señorita",
          "Billie Eilish - bad guy",
          "Post Malone - Sunflower - Spider-Man: Into the Spider-Verse",
          "Ariana Grande - 7 rings",
          "Lil Nas X - Old Town Road - Remix",
          "Ed Sheeran - I Don't Care (with Justin Bieber)",
          "Post Malone - Wow.",
          "Lewis Capaldi - Someone You Loved",
          "Daddy Yankee - Con Calma",
          "Lady Gaga - Shallow",
          "Marshmello - Happier",
          "Halsey - Without Me",
          "Pedro Capó - Calma - Remix",
          "Ariana Grande - thank u, next",
          "Jonas Brothers - Sucker",
          "Ava Max - Sweet but Psycho",
          "Sam Smith - Dancing With A Stranger (with Normani)",
          "Billie Eilish - bury a friend",
          "Lil Nas X - Old Town Road",
          "Khalid - Talk (feat. Disclosure)",
          "Billie Eilish - when the party's over",
          "Ed Sheeran - Beautiful People (feat. Khalid)",
          "Tones And I - Dance Monkey",
          "Ariana Grande - break up with your girlfriend, i'm bored",
          "J. Cole - MIDDLE CHILD",
          "Post Malone - Goodbyes (Feat. Young Thug)",
          "Panic! At The Disco - High Hopes",
          "DJ Snake - Taki Taki (feat. Selena Gomez, Ozuna & Cardi B)",
          "Lil Tecca - Ransom",
          "Billie Eilish - lovely (with Khalid)",
          "Travis Scott - SICKO MODE",
          "Meek Mill - Going Bad (feat. Drake)",
          "Mabel - Don't Call Me Up",
          "Bad Bunny - Callaita",
          "Bad Bunny - MIA (feat. Drake)",
          "Lizzo - Truth Hurts",
          "benny blanco - Eastside (with Halsey & Khalid)",
          "Queen - Bohemian Rhapsody - 2011 Mix",
          "Anuel AA - Secreto",
          "Anuel AA - China",
          "Shawn Mendes - If I Can't Have You",
          "Sech - Otro Trago",
          "Lauv - i'm so tired...",
          "MEDUZA - Piece Of Your Heart",
          "Avicii - SOS (feat. Aloe Blacc)",
          "Post Malone - Better Now",
          "Lunay - Soltera - Remix",
          "Paulo Londra - Adan y Eva",
          "Alec Benjamin - Let Me Down Slowly",
          "Post Malone - rockstar (feat. 21 Savage)"
         ],
         "type": "scatter3d",
         "x": [
          -0.34948992620830693,
          0.6232949429701977,
          -0.27140836880856534,
          0.6926109317399145,
          -0.32616455327357596,
          -0.4980722222967223,
          0.0702598089994425,
          0.3142265710167337,
          -0.5435211123119753,
          0.23544889363296698,
          -0.4519548083011684,
          -0.00022717066557840598,
          -0.43191068507207364,
          -0.09988136684490176,
          -0.6097256173774394,
          -0.3592708080860747,
          0.18104765234774373,
          1.076754115562165,
          -0.17309972457857253,
          0.08218783109533917,
          1.160161723851588,
          0.013172951939532712,
          0.07249363820359828,
          -0.06688372367121907,
          0.37982169654041603,
          0.13548812168419502,
          -0.46891155415891056,
          -0.3149168196364586,
          0.12888927104784476,
          0.8862475351981497,
          -0.24657138581871738,
          -0.09434025551778122,
          -0.1216809515931712,
          0.41796281668897567,
          -0.00943095943607685,
          -0.1864564286492048,
          0.3440944319879409,
          0.473948178655377,
          -0.22635351971898462,
          -0.45071710262847775,
          -0.3814889515061099,
          -0.09149702393872061,
          0.006113799245207341,
          -0.31803273860869075,
          -0.06853071028138931,
          0.03858698675576391,
          -0.40848013432870833,
          -0.09865253258848186,
          0.1482573632762359,
          0.18660189346672842
         ],
         "y": [
          -0.09878700143013422,
          0.6781968368867242,
          -0.3168146316874559,
          0.44311493472072744,
          0.20285313124198856,
          -0.12130920853150927,
          0.1818302313221082,
          -0.5308463326686856,
          -0.154778547551328,
          -0.48743576896554874,
          -0.25586348122765123,
          -0.016663231783936833,
          -0.050488840870667705,
          -0.15881470138186057,
          0.12063128412429466,
          -0.04205808268135511,
          -0.2786085863308166,
          0.5708029898430396,
          0.2661861697687777,
          0.26909362826846905,
          -0.6922487959402547,
          0.004158108244602002,
          -0.22601103663160554,
          0.23873142810260625,
          0.3643981743526964,
          -0.10198190227789428,
          -0.33391747005258066,
          0.23662302226996076,
          0.7113683034838952,
          -0.6560523385934721,
          0.5131527486074531,
          -0.1687813469225784,
          -0.06496380514854459,
          0.4088266489873358,
          -0.09281842096840988,
          0.19523244103943935,
          -0.07087234866393491,
          -0.6589603589092511,
          -0.15140180099368572,
          -0.017293253495619162,
          -0.17435990288722616,
          0.7560981963471692,
          -0.014218074157794722,
          -0.09839160990580116,
          -0.143044251853846,
          -0.10330229686805262,
          -0.3690762574426304,
          0.6994143572890029,
          -0.23108494282662634,
          0.020535994750463707
         ],
         "z": [
          0.041253593478674334,
          0.4675122186091501,
          0.3457937041096095,
          0.10358580378985269,
          0.0087984826484413,
          0.20421139759607085,
          0.15659729599168987,
          -0.14386609397923528,
          0.050452112523173616,
          -0.08826196425384952,
          0.042921520791935945,
          -0.09311728092753972,
          0.08774277331040371,
          -0.0676534688951891,
          0.10976014550417759,
          -0.11698490399207293,
          0.05843499221362952,
          0.6511306327347817,
          -0.023024981305345058,
          -0.08468468277887167,
          0.04029199303009313,
          0.15489006152093635,
          0.2694518545834842,
          -0.4699702746647702,
          0.29054509849499827,
          -0.5243319056252627,
          0.048822515920477406,
          0.25341162487764424,
          -0.4284210657445738,
          -0.33282560625321644,
          -0.18999953054615037,
          0.33360079227553874,
          -0.15217244990465023,
          -0.33411398025734335,
          -0.11881321273371678,
          -0.3826671053863831,
          0.1925647303972982,
          -0.005578136597852609,
          0.34745123685736407,
          0.04541302232180922,
          0.1103835978970264,
          -0.13617490400043541,
          0.13588339200706312,
          -0.10138562746335573,
          0.03553892953440547,
          -0.32631267280752263,
          0.40198680957085303,
          -0.03562823047051283,
          -0.23567996415913245,
          -0.5967622898436031
         ]
        }
       ],
       "layout": {
        "template": {
         "data": {
          "bar": [
           {
            "error_x": {
             "color": "#2a3f5f"
            },
            "error_y": {
             "color": "#2a3f5f"
            },
            "marker": {
             "line": {
              "color": "#E5ECF6",
              "width": 0.5
             }
            },
            "type": "bar"
           }
          ],
          "barpolar": [
           {
            "marker": {
             "line": {
              "color": "#E5ECF6",
              "width": 0.5
             }
            },
            "type": "barpolar"
           }
          ],
          "carpet": [
           {
            "aaxis": {
             "endlinecolor": "#2a3f5f",
             "gridcolor": "white",
             "linecolor": "white",
             "minorgridcolor": "white",
             "startlinecolor": "#2a3f5f"
            },
            "baxis": {
             "endlinecolor": "#2a3f5f",
             "gridcolor": "white",
             "linecolor": "white",
             "minorgridcolor": "white",
             "startlinecolor": "#2a3f5f"
            },
            "type": "carpet"
           }
          ],
          "choropleth": [
           {
            "colorbar": {
             "outlinewidth": 0,
             "ticks": ""
            },
            "type": "choropleth"
           }
          ],
          "contour": [
           {
            "colorbar": {
             "outlinewidth": 0,
             "ticks": ""
            },
            "colorscale": [
             [
              0,
              "#0d0887"
             ],
             [
              0.1111111111111111,
              "#46039f"
             ],
             [
              0.2222222222222222,
              "#7201a8"
             ],
             [
              0.3333333333333333,
              "#9c179e"
             ],
             [
              0.4444444444444444,
              "#bd3786"
             ],
             [
              0.5555555555555556,
              "#d8576b"
             ],
             [
              0.6666666666666666,
              "#ed7953"
             ],
             [
              0.7777777777777778,
              "#fb9f3a"
             ],
             [
              0.8888888888888888,
              "#fdca26"
             ],
             [
              1,
              "#f0f921"
             ]
            ],
            "type": "contour"
           }
          ],
          "contourcarpet": [
           {
            "colorbar": {
             "outlinewidth": 0,
             "ticks": ""
            },
            "type": "contourcarpet"
           }
          ],
          "heatmap": [
           {
            "colorbar": {
             "outlinewidth": 0,
             "ticks": ""
            },
            "colorscale": [
             [
              0,
              "#0d0887"
             ],
             [
              0.1111111111111111,
              "#46039f"
             ],
             [
              0.2222222222222222,
              "#7201a8"
             ],
             [
              0.3333333333333333,
              "#9c179e"
             ],
             [
              0.4444444444444444,
              "#bd3786"
             ],
             [
              0.5555555555555556,
              "#d8576b"
             ],
             [
              0.6666666666666666,
              "#ed7953"
             ],
             [
              0.7777777777777778,
              "#fb9f3a"
             ],
             [
              0.8888888888888888,
              "#fdca26"
             ],
             [
              1,
              "#f0f921"
             ]
            ],
            "type": "heatmap"
           }
          ],
          "heatmapgl": [
           {
            "colorbar": {
             "outlinewidth": 0,
             "ticks": ""
            },
            "colorscale": [
             [
              0,
              "#0d0887"
             ],
             [
              0.1111111111111111,
              "#46039f"
             ],
             [
              0.2222222222222222,
              "#7201a8"
             ],
             [
              0.3333333333333333,
              "#9c179e"
             ],
             [
              0.4444444444444444,
              "#bd3786"
             ],
             [
              0.5555555555555556,
              "#d8576b"
             ],
             [
              0.6666666666666666,
              "#ed7953"
             ],
             [
              0.7777777777777778,
              "#fb9f3a"
             ],
             [
              0.8888888888888888,
              "#fdca26"
             ],
             [
              1,
              "#f0f921"
             ]
            ],
            "type": "heatmapgl"
           }
          ],
          "histogram": [
           {
            "marker": {
             "colorbar": {
              "outlinewidth": 0,
              "ticks": ""
             }
            },
            "type": "histogram"
           }
          ],
          "histogram2d": [
           {
            "colorbar": {
             "outlinewidth": 0,
             "ticks": ""
            },
            "colorscale": [
             [
              0,
              "#0d0887"
             ],
             [
              0.1111111111111111,
              "#46039f"
             ],
             [
              0.2222222222222222,
              "#7201a8"
             ],
             [
              0.3333333333333333,
              "#9c179e"
             ],
             [
              0.4444444444444444,
              "#bd3786"
             ],
             [
              0.5555555555555556,
              "#d8576b"
             ],
             [
              0.6666666666666666,
              "#ed7953"
             ],
             [
              0.7777777777777778,
              "#fb9f3a"
             ],
             [
              0.8888888888888888,
              "#fdca26"
             ],
             [
              1,
              "#f0f921"
             ]
            ],
            "type": "histogram2d"
           }
          ],
          "histogram2dcontour": [
           {
            "colorbar": {
             "outlinewidth": 0,
             "ticks": ""
            },
            "colorscale": [
             [
              0,
              "#0d0887"
             ],
             [
              0.1111111111111111,
              "#46039f"
             ],
             [
              0.2222222222222222,
              "#7201a8"
             ],
             [
              0.3333333333333333,
              "#9c179e"
             ],
             [
              0.4444444444444444,
              "#bd3786"
             ],
             [
              0.5555555555555556,
              "#d8576b"
             ],
             [
              0.6666666666666666,
              "#ed7953"
             ],
             [
              0.7777777777777778,
              "#fb9f3a"
             ],
             [
              0.8888888888888888,
              "#fdca26"
             ],
             [
              1,
              "#f0f921"
             ]
            ],
            "type": "histogram2dcontour"
           }
          ],
          "mesh3d": [
           {
            "colorbar": {
             "outlinewidth": 0,
             "ticks": ""
            },
            "type": "mesh3d"
           }
          ],
          "parcoords": [
           {
            "line": {
             "colorbar": {
              "outlinewidth": 0,
              "ticks": ""
             }
            },
            "type": "parcoords"
           }
          ],
          "pie": [
           {
            "automargin": true,
            "type": "pie"
           }
          ],
          "scatter": [
           {
            "marker": {
             "colorbar": {
              "outlinewidth": 0,
              "ticks": ""
             }
            },
            "type": "scatter"
           }
          ],
          "scatter3d": [
           {
            "line": {
             "colorbar": {
              "outlinewidth": 0,
              "ticks": ""
             }
            },
            "marker": {
             "colorbar": {
              "outlinewidth": 0,
              "ticks": ""
             }
            },
            "type": "scatter3d"
           }
          ],
          "scattercarpet": [
           {
            "marker": {
             "colorbar": {
              "outlinewidth": 0,
              "ticks": ""
             }
            },
            "type": "scattercarpet"
           }
          ],
          "scattergeo": [
           {
            "marker": {
             "colorbar": {
              "outlinewidth": 0,
              "ticks": ""
             }
            },
            "type": "scattergeo"
           }
          ],
          "scattergl": [
           {
            "marker": {
             "colorbar": {
              "outlinewidth": 0,
              "ticks": ""
             }
            },
            "type": "scattergl"
           }
          ],
          "scattermapbox": [
           {
            "marker": {
             "colorbar": {
              "outlinewidth": 0,
              "ticks": ""
             }
            },
            "type": "scattermapbox"
           }
          ],
          "scatterpolar": [
           {
            "marker": {
             "colorbar": {
              "outlinewidth": 0,
              "ticks": ""
             }
            },
            "type": "scatterpolar"
           }
          ],
          "scatterpolargl": [
           {
            "marker": {
             "colorbar": {
              "outlinewidth": 0,
              "ticks": ""
             }
            },
            "type": "scatterpolargl"
           }
          ],
          "scatterternary": [
           {
            "marker": {
             "colorbar": {
              "outlinewidth": 0,
              "ticks": ""
             }
            },
            "type": "scatterternary"
           }
          ],
          "surface": [
           {
            "colorbar": {
             "outlinewidth": 0,
             "ticks": ""
            },
            "colorscale": [
             [
              0,
              "#0d0887"
             ],
             [
              0.1111111111111111,
              "#46039f"
             ],
             [
              0.2222222222222222,
              "#7201a8"
             ],
             [
              0.3333333333333333,
              "#9c179e"
             ],
             [
              0.4444444444444444,
              "#bd3786"
             ],
             [
              0.5555555555555556,
              "#d8576b"
             ],
             [
              0.6666666666666666,
              "#ed7953"
             ],
             [
              0.7777777777777778,
              "#fb9f3a"
             ],
             [
              0.8888888888888888,
              "#fdca26"
             ],
             [
              1,
              "#f0f921"
             ]
            ],
            "type": "surface"
           }
          ],
          "table": [
           {
            "cells": {
             "fill": {
              "color": "#EBF0F8"
             },
             "line": {
              "color": "white"
             }
            },
            "header": {
             "fill": {
              "color": "#C8D4E3"
             },
             "line": {
              "color": "white"
             }
            },
            "type": "table"
           }
          ]
         },
         "layout": {
          "annotationdefaults": {
           "arrowcolor": "#2a3f5f",
           "arrowhead": 0,
           "arrowwidth": 1
          },
          "coloraxis": {
           "colorbar": {
            "outlinewidth": 0,
            "ticks": ""
           }
          },
          "colorscale": {
           "diverging": [
            [
             0,
             "#8e0152"
            ],
            [
             0.1,
             "#c51b7d"
            ],
            [
             0.2,
             "#de77ae"
            ],
            [
             0.3,
             "#f1b6da"
            ],
            [
             0.4,
             "#fde0ef"
            ],
            [
             0.5,
             "#f7f7f7"
            ],
            [
             0.6,
             "#e6f5d0"
            ],
            [
             0.7,
             "#b8e186"
            ],
            [
             0.8,
             "#7fbc41"
            ],
            [
             0.9,
             "#4d9221"
            ],
            [
             1,
             "#276419"
            ]
           ],
           "sequential": [
            [
             0,
             "#0d0887"
            ],
            [
             0.1111111111111111,
             "#46039f"
            ],
            [
             0.2222222222222222,
             "#7201a8"
            ],
            [
             0.3333333333333333,
             "#9c179e"
            ],
            [
             0.4444444444444444,
             "#bd3786"
            ],
            [
             0.5555555555555556,
             "#d8576b"
            ],
            [
             0.6666666666666666,
             "#ed7953"
            ],
            [
             0.7777777777777778,
             "#fb9f3a"
            ],
            [
             0.8888888888888888,
             "#fdca26"
            ],
            [
             1,
             "#f0f921"
            ]
           ],
           "sequentialminus": [
            [
             0,
             "#0d0887"
            ],
            [
             0.1111111111111111,
             "#46039f"
            ],
            [
             0.2222222222222222,
             "#7201a8"
            ],
            [
             0.3333333333333333,
             "#9c179e"
            ],
            [
             0.4444444444444444,
             "#bd3786"
            ],
            [
             0.5555555555555556,
             "#d8576b"
            ],
            [
             0.6666666666666666,
             "#ed7953"
            ],
            [
             0.7777777777777778,
             "#fb9f3a"
            ],
            [
             0.8888888888888888,
             "#fdca26"
            ],
            [
             1,
             "#f0f921"
            ]
           ]
          },
          "colorway": [
           "#636efa",
           "#EF553B",
           "#00cc96",
           "#ab63fa",
           "#FFA15A",
           "#19d3f3",
           "#FF6692",
           "#B6E880",
           "#FF97FF",
           "#FECB52"
          ],
          "font": {
           "color": "#2a3f5f"
          },
          "geo": {
           "bgcolor": "white",
           "lakecolor": "white",
           "landcolor": "#E5ECF6",
           "showlakes": true,
           "showland": true,
           "subunitcolor": "white"
          },
          "hoverlabel": {
           "align": "left"
          },
          "hovermode": "closest",
          "mapbox": {
           "style": "light"
          },
          "paper_bgcolor": "white",
          "plot_bgcolor": "#E5ECF6",
          "polar": {
           "angularaxis": {
            "gridcolor": "white",
            "linecolor": "white",
            "ticks": ""
           },
           "bgcolor": "#E5ECF6",
           "radialaxis": {
            "gridcolor": "white",
            "linecolor": "white",
            "ticks": ""
           }
          },
          "scene": {
           "xaxis": {
            "backgroundcolor": "#E5ECF6",
            "gridcolor": "white",
            "gridwidth": 2,
            "linecolor": "white",
            "showbackground": true,
            "ticks": "",
            "zerolinecolor": "white"
           },
           "yaxis": {
            "backgroundcolor": "#E5ECF6",
            "gridcolor": "white",
            "gridwidth": 2,
            "linecolor": "white",
            "showbackground": true,
            "ticks": "",
            "zerolinecolor": "white"
           },
           "zaxis": {
            "backgroundcolor": "#E5ECF6",
            "gridcolor": "white",
            "gridwidth": 2,
            "linecolor": "white",
            "showbackground": true,
            "ticks": "",
            "zerolinecolor": "white"
           }
          },
          "shapedefaults": {
           "line": {
            "color": "#2a3f5f"
           }
          },
          "ternary": {
           "aaxis": {
            "gridcolor": "white",
            "linecolor": "white",
            "ticks": ""
           },
           "baxis": {
            "gridcolor": "white",
            "linecolor": "white",
            "ticks": ""
           },
           "bgcolor": "#E5ECF6",
           "caxis": {
            "gridcolor": "white",
            "linecolor": "white",
            "ticks": ""
           }
          },
          "title": {
           "x": 0.05
          },
          "xaxis": {
           "automargin": true,
           "gridcolor": "white",
           "linecolor": "white",
           "ticks": "",
           "title": {
            "standoff": 15
           },
           "zerolinecolor": "white",
           "zerolinewidth": 2
          },
          "yaxis": {
           "automargin": true,
           "gridcolor": "white",
           "linecolor": "white",
           "ticks": "",
           "title": {
            "standoff": 15
           },
           "zerolinecolor": "white",
           "zerolinewidth": 2
          }
         }
        }
       }
      },
      "text/html": [
       "<div>\n",
       "        \n",
       "        \n",
       "            <div id=\"10a88c94-9220-41b1-b3c9-c8d70014ade6\" class=\"plotly-graph-div\" style=\"height:525px; width:100%;\"></div>\n",
       "            <script type=\"text/javascript\">\n",
       "                require([\"plotly\"], function(Plotly) {\n",
       "                    window.PLOTLYENV=window.PLOTLYENV || {};\n",
       "                    \n",
       "                if (document.getElementById(\"10a88c94-9220-41b1-b3c9-c8d70014ade6\")) {\n",
       "                    Plotly.newPlot(\n",
       "                        '10a88c94-9220-41b1-b3c9-c8d70014ade6',\n",
       "                        [{\"marker\": {\"color\": [0.759, 0.701, 0.755, 0.778, 0.878, 0.7979999999999999, 0.8290000000000001, 0.501, 0.737, 0.5720000000000001, 0.687, 0.752, 0.826, 0.7170000000000001, 0.8420000000000001, 0.7190000000000001, 0.741, 0.905, 0.907, 0.9009999999999999, 0.36700000000000005, 0.64, 0.825, 0.726, 0.8370000000000001, 0.58, 0.579, 0.8420000000000001, 0.745, 0.35100000000000003, 0.8340000000000001, 0.889, 0.674, 0.61, 0.8170000000000001, 0.715, 0.632, 0.414, 0.807, 0.7859999999999999, 0.691, 0.747, 0.599, 0.677, 0.802, 0.68, 0.795, 0.767, 0.652, 0.585], \"size\": 8}, \"mode\": \"markers\", \"text\": [\"Shawn Mendes - Se\\u00f1orita\", \"Billie Eilish - bad guy\", \"Post Malone - Sunflower - Spider-Man: Into the Spider-Verse\", \"Ariana Grande - 7 rings\", \"Lil Nas X - Old Town Road - Remix\", \"Ed Sheeran - I Don't Care (with Justin Bieber)\", \"Post Malone - Wow.\", \"Lewis Capaldi - Someone You Loved\", \"Daddy Yankee - Con Calma\", \"Lady Gaga - Shallow\", \"Marshmello - Happier\", \"Halsey - Without Me\", \"Pedro Cap\\u00f3 - Calma - Remix\", \"Ariana Grande - thank u, next\", \"Jonas Brothers - Sucker\", \"Ava Max - Sweet but Psycho\", \"Sam Smith - Dancing With A Stranger (with Normani)\", \"Billie Eilish - bury a friend\", \"Lil Nas X - Old Town Road\", \"Khalid - Talk (feat. Disclosure)\", \"Billie Eilish - when the party's over\", \"Ed Sheeran - Beautiful People (feat. Khalid)\", \"Tones And I - Dance Monkey\", \"Ariana Grande - break up with your girlfriend, i'm bored\", \"J. Cole - MIDDLE CHILD\", \"Post Malone - Goodbyes (Feat. Young Thug)\", \"Panic! At The Disco - High Hopes\", \"DJ Snake - Taki Taki (feat. Selena Gomez, Ozuna & Cardi B)\", \"Lil Tecca - Ransom\", \"Billie Eilish - lovely (with Khalid)\", \"Travis Scott - SICKO MODE\", \"Meek Mill - Going Bad (feat. Drake)\", \"Mabel - Don't Call Me Up\", \"Bad Bunny - Callaita\", \"Bad Bunny - MIA (feat. Drake)\", \"Lizzo - Truth Hurts\", \"benny blanco - Eastside (with Halsey & Khalid)\", \"Queen - Bohemian Rhapsody - 2011 Mix\", \"Anuel AA - Secreto\", \"Anuel AA - China\", \"Shawn Mendes - If I Can't Have You\", \"Sech - Otro Trago\", \"Lauv - i'm so tired...\", \"MEDUZA - Piece Of Your Heart\", \"Avicii - SOS (feat. Aloe Blacc)\", \"Post Malone - Better Now\", \"Lunay - Soltera - Remix\", \"Paulo Londra - Adan y Eva\", \"Alec Benjamin - Let Me Down Slowly\", \"Post Malone - rockstar (feat. 21 Savage)\"], \"type\": \"scatter3d\", \"x\": [-0.34948992620830693, 0.6232949429701977, -0.27140836880856534, 0.6926109317399145, -0.32616455327357596, -0.4980722222967223, 0.0702598089994425, 0.3142265710167337, -0.5435211123119753, 0.23544889363296698, -0.4519548083011684, -0.00022717066557840598, -0.43191068507207364, -0.09988136684490176, -0.6097256173774394, -0.3592708080860747, 0.18104765234774373, 1.076754115562165, -0.17309972457857253, 0.08218783109533917, 1.160161723851588, 0.013172951939532712, 0.07249363820359828, -0.06688372367121907, 0.37982169654041603, 0.13548812168419502, -0.46891155415891056, -0.3149168196364586, 0.12888927104784476, 0.8862475351981497, -0.24657138581871738, -0.09434025551778122, -0.1216809515931712, 0.41796281668897567, -0.00943095943607685, -0.1864564286492048, 0.3440944319879409, 0.473948178655377, -0.22635351971898462, -0.45071710262847775, -0.3814889515061099, -0.09149702393872061, 0.006113799245207341, -0.31803273860869075, -0.06853071028138931, 0.03858698675576391, -0.40848013432870833, -0.09865253258848186, 0.1482573632762359, 0.18660189346672842], \"y\": [-0.09878700143013422, 0.6781968368867242, -0.3168146316874559, 0.44311493472072744, 0.20285313124198856, -0.12130920853150927, 0.1818302313221082, -0.5308463326686856, -0.154778547551328, -0.48743576896554874, -0.25586348122765123, -0.016663231783936833, -0.050488840870667705, -0.15881470138186057, 0.12063128412429466, -0.04205808268135511, -0.2786085863308166, 0.5708029898430396, 0.2661861697687777, 0.26909362826846905, -0.6922487959402547, 0.004158108244602002, -0.22601103663160554, 0.23873142810260625, 0.3643981743526964, -0.10198190227789428, -0.33391747005258066, 0.23662302226996076, 0.7113683034838952, -0.6560523385934721, 0.5131527486074531, -0.1687813469225784, -0.06496380514854459, 0.4088266489873358, -0.09281842096840988, 0.19523244103943935, -0.07087234866393491, -0.6589603589092511, -0.15140180099368572, -0.017293253495619162, -0.17435990288722616, 0.7560981963471692, -0.014218074157794722, -0.09839160990580116, -0.143044251853846, -0.10330229686805262, -0.3690762574426304, 0.6994143572890029, -0.23108494282662634, 0.020535994750463707], \"z\": [0.041253593478674334, 0.4675122186091501, 0.3457937041096095, 0.10358580378985269, 0.0087984826484413, 0.20421139759607085, 0.15659729599168987, -0.14386609397923528, 0.050452112523173616, -0.08826196425384952, 0.042921520791935945, -0.09311728092753972, 0.08774277331040371, -0.0676534688951891, 0.10976014550417759, -0.11698490399207293, 0.05843499221362952, 0.6511306327347817, -0.023024981305345058, -0.08468468277887167, 0.04029199303009313, 0.15489006152093635, 0.2694518545834842, -0.4699702746647702, 0.29054509849499827, -0.5243319056252627, 0.048822515920477406, 0.25341162487764424, -0.4284210657445738, -0.33282560625321644, -0.18999953054615037, 0.33360079227553874, -0.15217244990465023, -0.33411398025734335, -0.11881321273371678, -0.3826671053863831, 0.1925647303972982, -0.005578136597852609, 0.34745123685736407, 0.04541302232180922, 0.1103835978970264, -0.13617490400043541, 0.13588339200706312, -0.10138562746335573, 0.03553892953440547, -0.32631267280752263, 0.40198680957085303, -0.03562823047051283, -0.23567996415913245, -0.5967622898436031]}],\n",
       "                        {\"template\": {\"data\": {\"bar\": [{\"error_x\": {\"color\": \"#2a3f5f\"}, \"error_y\": {\"color\": \"#2a3f5f\"}, \"marker\": {\"line\": {\"color\": \"#E5ECF6\", \"width\": 0.5}}, \"type\": \"bar\"}], \"barpolar\": [{\"marker\": {\"line\": {\"color\": \"#E5ECF6\", \"width\": 0.5}}, \"type\": \"barpolar\"}], \"carpet\": [{\"aaxis\": {\"endlinecolor\": \"#2a3f5f\", \"gridcolor\": \"white\", \"linecolor\": \"white\", \"minorgridcolor\": \"white\", \"startlinecolor\": \"#2a3f5f\"}, \"baxis\": {\"endlinecolor\": \"#2a3f5f\", \"gridcolor\": \"white\", \"linecolor\": \"white\", \"minorgridcolor\": \"white\", \"startlinecolor\": \"#2a3f5f\"}, \"type\": \"carpet\"}], \"choropleth\": [{\"colorbar\": {\"outlinewidth\": 0, \"ticks\": \"\"}, \"type\": \"choropleth\"}], \"contour\": [{\"colorbar\": {\"outlinewidth\": 0, \"ticks\": \"\"}, \"colorscale\": [[0.0, \"#0d0887\"], [0.1111111111111111, \"#46039f\"], [0.2222222222222222, \"#7201a8\"], [0.3333333333333333, \"#9c179e\"], [0.4444444444444444, \"#bd3786\"], [0.5555555555555556, \"#d8576b\"], [0.6666666666666666, \"#ed7953\"], [0.7777777777777778, \"#fb9f3a\"], [0.8888888888888888, \"#fdca26\"], [1.0, \"#f0f921\"]], \"type\": \"contour\"}], \"contourcarpet\": [{\"colorbar\": {\"outlinewidth\": 0, \"ticks\": \"\"}, \"type\": \"contourcarpet\"}], \"heatmap\": [{\"colorbar\": {\"outlinewidth\": 0, \"ticks\": \"\"}, \"colorscale\": [[0.0, \"#0d0887\"], [0.1111111111111111, \"#46039f\"], [0.2222222222222222, \"#7201a8\"], [0.3333333333333333, \"#9c179e\"], [0.4444444444444444, \"#bd3786\"], [0.5555555555555556, \"#d8576b\"], [0.6666666666666666, \"#ed7953\"], [0.7777777777777778, \"#fb9f3a\"], [0.8888888888888888, \"#fdca26\"], [1.0, \"#f0f921\"]], \"type\": \"heatmap\"}], \"heatmapgl\": [{\"colorbar\": {\"outlinewidth\": 0, \"ticks\": \"\"}, \"colorscale\": [[0.0, \"#0d0887\"], [0.1111111111111111, \"#46039f\"], [0.2222222222222222, \"#7201a8\"], [0.3333333333333333, \"#9c179e\"], [0.4444444444444444, \"#bd3786\"], [0.5555555555555556, \"#d8576b\"], [0.6666666666666666, \"#ed7953\"], [0.7777777777777778, \"#fb9f3a\"], [0.8888888888888888, \"#fdca26\"], [1.0, \"#f0f921\"]], \"type\": \"heatmapgl\"}], \"histogram\": [{\"marker\": {\"colorbar\": {\"outlinewidth\": 0, \"ticks\": \"\"}}, \"type\": \"histogram\"}], \"histogram2d\": [{\"colorbar\": {\"outlinewidth\": 0, \"ticks\": \"\"}, \"colorscale\": [[0.0, \"#0d0887\"], [0.1111111111111111, \"#46039f\"], [0.2222222222222222, \"#7201a8\"], [0.3333333333333333, \"#9c179e\"], [0.4444444444444444, \"#bd3786\"], [0.5555555555555556, \"#d8576b\"], [0.6666666666666666, \"#ed7953\"], [0.7777777777777778, \"#fb9f3a\"], [0.8888888888888888, \"#fdca26\"], [1.0, \"#f0f921\"]], \"type\": \"histogram2d\"}], \"histogram2dcontour\": [{\"colorbar\": {\"outlinewidth\": 0, \"ticks\": \"\"}, \"colorscale\": [[0.0, \"#0d0887\"], [0.1111111111111111, \"#46039f\"], [0.2222222222222222, \"#7201a8\"], [0.3333333333333333, \"#9c179e\"], [0.4444444444444444, \"#bd3786\"], [0.5555555555555556, \"#d8576b\"], [0.6666666666666666, \"#ed7953\"], [0.7777777777777778, \"#fb9f3a\"], [0.8888888888888888, \"#fdca26\"], [1.0, \"#f0f921\"]], \"type\": \"histogram2dcontour\"}], \"mesh3d\": [{\"colorbar\": {\"outlinewidth\": 0, \"ticks\": \"\"}, \"type\": \"mesh3d\"}], \"parcoords\": [{\"line\": {\"colorbar\": {\"outlinewidth\": 0, \"ticks\": \"\"}}, \"type\": \"parcoords\"}], \"pie\": [{\"automargin\": true, \"type\": \"pie\"}], \"scatter\": [{\"marker\": {\"colorbar\": {\"outlinewidth\": 0, \"ticks\": \"\"}}, \"type\": \"scatter\"}], \"scatter3d\": [{\"line\": {\"colorbar\": {\"outlinewidth\": 0, \"ticks\": \"\"}}, \"marker\": {\"colorbar\": {\"outlinewidth\": 0, \"ticks\": \"\"}}, \"type\": \"scatter3d\"}], \"scattercarpet\": [{\"marker\": {\"colorbar\": {\"outlinewidth\": 0, \"ticks\": \"\"}}, \"type\": \"scattercarpet\"}], \"scattergeo\": [{\"marker\": {\"colorbar\": {\"outlinewidth\": 0, \"ticks\": \"\"}}, \"type\": \"scattergeo\"}], \"scattergl\": [{\"marker\": {\"colorbar\": {\"outlinewidth\": 0, \"ticks\": \"\"}}, \"type\": \"scattergl\"}], \"scattermapbox\": [{\"marker\": {\"colorbar\": {\"outlinewidth\": 0, \"ticks\": \"\"}}, \"type\": \"scattermapbox\"}], \"scatterpolar\": [{\"marker\": {\"colorbar\": {\"outlinewidth\": 0, \"ticks\": \"\"}}, \"type\": \"scatterpolar\"}], \"scatterpolargl\": [{\"marker\": {\"colorbar\": {\"outlinewidth\": 0, \"ticks\": \"\"}}, \"type\": \"scatterpolargl\"}], \"scatterternary\": [{\"marker\": {\"colorbar\": {\"outlinewidth\": 0, \"ticks\": \"\"}}, \"type\": \"scatterternary\"}], \"surface\": [{\"colorbar\": {\"outlinewidth\": 0, \"ticks\": \"\"}, \"colorscale\": [[0.0, \"#0d0887\"], [0.1111111111111111, \"#46039f\"], [0.2222222222222222, \"#7201a8\"], [0.3333333333333333, \"#9c179e\"], [0.4444444444444444, \"#bd3786\"], [0.5555555555555556, \"#d8576b\"], [0.6666666666666666, \"#ed7953\"], [0.7777777777777778, \"#fb9f3a\"], [0.8888888888888888, \"#fdca26\"], [1.0, \"#f0f921\"]], \"type\": \"surface\"}], \"table\": [{\"cells\": {\"fill\": {\"color\": \"#EBF0F8\"}, \"line\": {\"color\": \"white\"}}, \"header\": {\"fill\": {\"color\": \"#C8D4E3\"}, \"line\": {\"color\": \"white\"}}, \"type\": \"table\"}]}, \"layout\": {\"annotationdefaults\": {\"arrowcolor\": \"#2a3f5f\", \"arrowhead\": 0, \"arrowwidth\": 1}, \"coloraxis\": {\"colorbar\": {\"outlinewidth\": 0, \"ticks\": \"\"}}, \"colorscale\": {\"diverging\": [[0, \"#8e0152\"], [0.1, \"#c51b7d\"], [0.2, \"#de77ae\"], [0.3, \"#f1b6da\"], [0.4, \"#fde0ef\"], [0.5, \"#f7f7f7\"], [0.6, \"#e6f5d0\"], [0.7, \"#b8e186\"], [0.8, \"#7fbc41\"], [0.9, \"#4d9221\"], [1, \"#276419\"]], \"sequential\": [[0.0, \"#0d0887\"], [0.1111111111111111, \"#46039f\"], [0.2222222222222222, \"#7201a8\"], [0.3333333333333333, \"#9c179e\"], [0.4444444444444444, \"#bd3786\"], [0.5555555555555556, \"#d8576b\"], [0.6666666666666666, \"#ed7953\"], [0.7777777777777778, \"#fb9f3a\"], [0.8888888888888888, \"#fdca26\"], [1.0, \"#f0f921\"]], \"sequentialminus\": [[0.0, \"#0d0887\"], [0.1111111111111111, \"#46039f\"], [0.2222222222222222, \"#7201a8\"], [0.3333333333333333, \"#9c179e\"], [0.4444444444444444, \"#bd3786\"], [0.5555555555555556, \"#d8576b\"], [0.6666666666666666, \"#ed7953\"], [0.7777777777777778, \"#fb9f3a\"], [0.8888888888888888, \"#fdca26\"], [1.0, \"#f0f921\"]]}, \"colorway\": [\"#636efa\", \"#EF553B\", \"#00cc96\", \"#ab63fa\", \"#FFA15A\", \"#19d3f3\", \"#FF6692\", \"#B6E880\", \"#FF97FF\", \"#FECB52\"], \"font\": {\"color\": \"#2a3f5f\"}, \"geo\": {\"bgcolor\": \"white\", \"lakecolor\": \"white\", \"landcolor\": \"#E5ECF6\", \"showlakes\": true, \"showland\": true, \"subunitcolor\": \"white\"}, \"hoverlabel\": {\"align\": \"left\"}, \"hovermode\": \"closest\", \"mapbox\": {\"style\": \"light\"}, \"paper_bgcolor\": \"white\", \"plot_bgcolor\": \"#E5ECF6\", \"polar\": {\"angularaxis\": {\"gridcolor\": \"white\", \"linecolor\": \"white\", \"ticks\": \"\"}, \"bgcolor\": \"#E5ECF6\", \"radialaxis\": {\"gridcolor\": \"white\", \"linecolor\": \"white\", \"ticks\": \"\"}}, \"scene\": {\"xaxis\": {\"backgroundcolor\": \"#E5ECF6\", \"gridcolor\": \"white\", \"gridwidth\": 2, \"linecolor\": \"white\", \"showbackground\": true, \"ticks\": \"\", \"zerolinecolor\": \"white\"}, \"yaxis\": {\"backgroundcolor\": \"#E5ECF6\", \"gridcolor\": \"white\", \"gridwidth\": 2, \"linecolor\": \"white\", \"showbackground\": true, \"ticks\": \"\", \"zerolinecolor\": \"white\"}, \"zaxis\": {\"backgroundcolor\": \"#E5ECF6\", \"gridcolor\": \"white\", \"gridwidth\": 2, \"linecolor\": \"white\", \"showbackground\": true, \"ticks\": \"\", \"zerolinecolor\": \"white\"}}, \"shapedefaults\": {\"line\": {\"color\": \"#2a3f5f\"}}, \"ternary\": {\"aaxis\": {\"gridcolor\": \"white\", \"linecolor\": \"white\", \"ticks\": \"\"}, \"baxis\": {\"gridcolor\": \"white\", \"linecolor\": \"white\", \"ticks\": \"\"}, \"bgcolor\": \"#E5ECF6\", \"caxis\": {\"gridcolor\": \"white\", \"linecolor\": \"white\", \"ticks\": \"\"}}, \"title\": {\"x\": 0.05}, \"xaxis\": {\"automargin\": true, \"gridcolor\": \"white\", \"linecolor\": \"white\", \"ticks\": \"\", \"title\": {\"standoff\": 15}, \"zerolinecolor\": \"white\", \"zerolinewidth\": 2}, \"yaxis\": {\"automargin\": true, \"gridcolor\": \"white\", \"linecolor\": \"white\", \"ticks\": \"\", \"title\": {\"standoff\": 15}, \"zerolinecolor\": \"white\", \"zerolinewidth\": 2}}}},\n",
       "                        {\"responsive\": true}\n",
       "                    ).then(function(){\n",
       "                            \n",
       "var gd = document.getElementById('10a88c94-9220-41b1-b3c9-c8d70014ade6');\n",
       "var x = new MutationObserver(function (mutations, observer) {{\n",
       "        var display = window.getComputedStyle(gd).display;\n",
       "        if (!display || display === 'none') {{\n",
       "            console.log([gd, 'removed!']);\n",
       "            Plotly.purge(gd);\n",
       "            observer.disconnect();\n",
       "        }}\n",
       "}});\n",
       "\n",
       "// Listen for the removal of the full notebook cells\n",
       "var notebookContainer = gd.closest('#notebook-container');\n",
       "if (notebookContainer) {{\n",
       "    x.observe(notebookContainer, {childList: true});\n",
       "}}\n",
       "\n",
       "// Listen for the clearing of the current output cell\n",
       "var outputEl = gd.closest('.output');\n",
       "if (outputEl) {{\n",
       "    x.observe(outputEl, {childList: true});\n",
       "}}\n",
       "\n",
       "                        })\n",
       "                };\n",
       "                });\n",
       "            </script>\n",
       "        </div>"
      ]
     },
     "metadata": {},
     "output_type": "display_data"
    }
   ],
   "source": [
    "\n",
    "feture_to_plot = [\"energy\", \"liveness\", \"tempo\", \"valence\", \"loudness\", \"speechiness\", \"acousticness\", \"danceability\", \"instrumentalness\"]\n",
    "text1 = df_2019[\"artists\"] + \" - \" + df_2019[\"name\"]\n",
    "text2 = text1.values\n",
    "X = df_2019[feture_to_plot].values\n",
    "y = df_2019[\"danceability\"].values\n",
    "min_maxscaler = MinMaxScaler()\n",
    "X = min_maxscaler.fit_transform(X)\n",
    "pca = PCA(n_components=3)\n",
    "pca.fit(X)\n",
    "X = pca.transform(X)\n",
    "\n",
    "plot3d = go.Scatter3d(\n",
    "    x=X[:,0],\n",
    "    y=X[:,1],\n",
    "    z=X[:,2],\n",
    "    text=text2,\n",
    "    mode=\"markers\",\n",
    "    marker=dict(\n",
    "        size=8,\n",
    "        color=y\n",
    "    )\n",
    ")\n",
    "\n",
    "fig = go.Figure(data=[plot3d])\n",
    "py.iplot(fig, filename=\"3d graph\")\n"
   ]
  },
  {
   "cell_type": "code",
   "execution_count": 32,
   "metadata": {},
   "outputs": [
    {
     "data": {
      "image/png": "[encoded data removed]",
      "text/plain": [
       "<Figure size 864x576 with 2 Axes>"
      ]
     },
     "metadata": {
      "needs_background": "light"
     },
     "output_type": "display_data"
    }
   ],
   "source": [
    "correlation = df_2019[['acousticness','danceability','energy','instrumentalness','liveness','tempo','valence',\n",
    "                       'loudness']]\n",
    "plt.figure(figsize=(12,8))\n",
    "sns.heatmap(correlation.corr(), annot=True,cmap=\"coolwarm\");"
   ]
  },
  {
   "cell_type": "markdown",
   "metadata": {},
   "source": [
    "##### We can observe that there is a correlation between the loudness and the perceived energy of the song. The jointplots indicate a correlation between these two. Lets understand  how much one feature si impacted by another feature "
   ]
  },
  {
   "cell_type": "code",
   "execution_count": 33,
   "metadata": {},
   "outputs": [],
   "source": [
    "def create_joinplot(val1,val2,year,colr):\n",
    "    sns.jointplot(val1,val2, data=year,kind='reg',color=colr)"
   ]
  },
  {
   "cell_type": "code",
   "execution_count": 34,
   "metadata": {},
   "outputs": [
    {
     "data": {
      "image/png": "[encoded data removed]",
      "text/plain": [
       "<Figure size 432x432 with 3 Axes>"
      ]
     },
     "metadata": {
      "needs_background": "light"
     },
     "output_type": "display_data"
    },
    {
     "data": {
      "image/png": "[encoded data removed]",
      "text/plain": [
       "<Figure size 432x432 with 3 Axes>"
      ]
     },
     "metadata": {
      "needs_background": "light"
     },
     "output_type": "display_data"
    },
    {
     "data": {
      "image/png": "[encoded data removed]",
      "text/plain": [
       "<Figure size 432x432 with 3 Axes>"
      ]
     },
     "metadata": {
      "needs_background": "light"
     },
     "output_type": "display_data"
    },
    {
     "data": {
      "image/png": "[encoded data removed]",
      "text/plain": [
       "<Figure size 432x432 with 3 Axes>"
      ]
     },
     "metadata": {
      "needs_background": "light"
     },
     "output_type": "display_data"
    }
   ],
   "source": [
    "\n",
    "create_joinplot('loudness','energy',df_2019,'r')\n",
    "create_joinplot('tempo','danceability',df_2019,'b')\n",
    "create_joinplot('acousticness','energy',df_2019,'y')\n",
    "create_joinplot('valence','energy',df_2019,'b')"
   ]
  },
  {
   "cell_type": "markdown",
   "metadata": {},
   "source": [
    "### from the corelation matrix we observe that  \n",
    "- there is a relation between  tempo and dancebility \n",
    "- there is a relation between  acounsticeness and energy \n",
    "- there is a relation between  tempo and acousticeness\n",
    "- there is a relation between  energy and loudness\n",
    "- there is a relation between  tempo and valence\n",
    "- there is a relation between  valence and dancebility \n",
    "- there is a relation between  valence and energy  "
   ]
  },
  {
   "cell_type": "markdown",
   "metadata": {},
   "source": [
    "#### understand these correlation features in more details ;\n"
   ]
  },
  {
   "cell_type": "code",
   "execution_count": 35,
   "metadata": {},
   "outputs": [],
   "source": [
    "def feature_details(feature):\n",
    "    print(\"Mean value \", feature.mean())\n",
    "    sns.distplot(feature,color=\"r\")\n",
    "    plt.show()\n"
   ]
  },
  {
   "cell_type": "code",
   "execution_count": 36,
   "metadata": {},
   "outputs": [
    {
     "name": "stdout",
     "output_type": "stream",
     "text": [
      "Mean value  0.7194000000000002\n"
     ]
    },
    {
     "data": {
      "image/png": "[encoded data removed]",
      "text/plain": [
       "<Figure size 432x288 with 1 Axes>"
      ]
     },
     "metadata": {
      "needs_background": "light"
     },
     "output_type": "display_data"
    }
   ],
   "source": [
    "feature_details(df_2019['danceability'])"
   ]
  },
  {
   "cell_type": "markdown",
   "metadata": {},
   "source": [
    "*Conclusion*: top songs have high dancebility.And people listen to those songs in which they can dance."
   ]
  },
  {
   "cell_type": "code",
   "execution_count": 37,
   "metadata": {},
   "outputs": [
    {
     "name": "stdout",
     "output_type": "stream",
     "text": [
      "Mean value  0.60462\n"
     ]
    },
    {
     "data": {
      "image/png": "[encoded data removed]",
      "text/plain": [
       "<Figure size 432x288 with 1 Axes>"
      ]
     },
     "metadata": {
      "needs_background": "light"
     },
     "output_type": "display_data"
    }
   ],
   "source": [
    "feature_details(df_2019['energy'])"
   ]
  },
  {
   "cell_type": "markdown",
   "metadata": {},
   "source": [
    "*Conclusion*:people like energetic songs "
   ]
  },
  {
   "cell_type": "code",
   "execution_count": 38,
   "metadata": {},
   "outputs": [
    {
     "name": "stdout",
     "output_type": "stream",
     "text": [
      "Mean value  -6.22902\n"
     ]
    },
    {
     "data": {
      "image/png": "[encoded data removed]",
      "text/plain": [
       "<Figure size 432x288 with 1 Axes>"
      ]
     },
     "metadata": {
      "needs_background": "light"
     },
     "output_type": "display_data"
    }
   ],
   "source": [
    "feature_details(df_2019['loudness'])"
   ]
  },
  {
   "cell_type": "markdown",
   "metadata": {},
   "source": [
    "*Conclusion*: more noice means more ranking "
   ]
  },
  {
   "cell_type": "code",
   "execution_count": 39,
   "metadata": {},
   "outputs": [
    {
     "name": "stdout",
     "output_type": "stream",
     "text": [
      "Mean value  0.2993606\n"
     ]
    },
    {
     "data": {
      "image/png": "[encoded data removed]",
      "text/plain": [
       "<Figure size 432x288 with 1 Axes>"
      ]
     },
     "metadata": {
      "needs_background": "light"
     },
     "output_type": "display_data"
    }
   ],
   "source": [
    "feature_details(df_2019['acousticness'])"
   ]
  },
  {
   "cell_type": "markdown",
   "metadata": {},
   "source": [
    "*Conclusion*:people don't lisen more to the acoustics "
   ]
  },
  {
   "cell_type": "code",
   "execution_count": 40,
   "metadata": {},
   "outputs": [
    {
     "name": "stdout",
     "output_type": "stream",
     "text": [
      "Mean value  0.49042\n"
     ]
    },
    {
     "data": {
      "image/png": "[encoded data removed]",
      "text/plain": [
       "<Figure size 432x288 with 1 Axes>"
      ]
     },
     "metadata": {
      "needs_background": "light"
     },
     "output_type": "display_data"
    }
   ],
   "source": [
    "feature_details(df_2019['valence'])"
   ]
  },
  {
   "cell_type": "markdown",
   "metadata": {},
   "source": [
    "*Conclusion*:songs are evenly distributed and totally depends upon the mood "
   ]
  },
  {
   "cell_type": "code",
   "execution_count": 41,
   "metadata": {},
   "outputs": [
    {
     "name": "stdout",
     "output_type": "stream",
     "text": [
      "Mean value  120.42562\n"
     ]
    },
    {
     "data": {
      "image/png": "[encoded data removed]",
      "text/plain": [
       "<Figure size 432x288 with 1 Axes>"
      ]
     },
     "metadata": {
      "needs_background": "light"
     },
     "output_type": "display_data"
    }
   ],
   "source": [
    "feature_details(df_2019['tempo'])"
   ]
  },
  {
   "cell_type": "markdown",
   "metadata": {},
   "source": [
    "*Conclusion*:people listen fast songs more "
   ]
  },
  {
   "cell_type": "markdown",
   "metadata": {},
   "source": [
    "### Again construct a 3d graph  with out limited features for better understanding "
   ]
  },
  {
   "cell_type": "code",
   "execution_count": 42,
   "metadata": {},
   "outputs": [
    {
     "data": {
      "application/vnd.plotly.v1+json": {
       "config": {
        "linkText": "Export to plot.ly",
        "plotlyServerURL": "https://plot.ly",
        "showLink": false
       },
       "data": [
        {
         "marker": {
          "color": [
           0.759,
           0.701,
           0.755,
           0.778,
           0.878,
           0.7979999999999999,
           0.8290000000000001,
           0.501,
           0.737,
           0.5720000000000001,
           0.687,
           0.752,
           0.826,
           0.7170000000000001,
           0.8420000000000001,
           0.7190000000000001,
           0.741,
           0.905,
           0.907,
           0.9009999999999999,
           0.36700000000000005,
           0.64,
           0.825,
           0.726,
           0.8370000000000001,
           0.58,
           0.579,
           0.8420000000000001,
           0.745,
           0.35100000000000003,
           0.8340000000000001,
           0.889,
           0.674,
           0.61,
           0.8170000000000001,
           0.715,
           0.632,
           0.414,
           0.807,
           0.7859999999999999,
           0.691,
           0.747,
           0.599,
           0.677,
           0.802,
           0.68,
           0.795,
           0.767,
           0.652,
           0.585
          ],
          "size": 8
         },
         "mode": "markers",
         "text": [
          "Shawn Mendes - Señorita",
          "Billie Eilish - bad guy",
          "Post Malone - Sunflower - Spider-Man: Into the Spider-Verse",
          "Ariana Grande - 7 rings",
          "Lil Nas X - Old Town Road - Remix",
          "Ed Sheeran - I Don't Care (with Justin Bieber)",
          "Post Malone - Wow.",
          "Lewis Capaldi - Someone You Loved",
          "Daddy Yankee - Con Calma",
          "Lady Gaga - Shallow",
          "Marshmello - Happier",
          "Halsey - Without Me",
          "Pedro Capó - Calma - Remix",
          "Ariana Grande - thank u, next",
          "Jonas Brothers - Sucker",
          "Ava Max - Sweet but Psycho",
          "Sam Smith - Dancing With A Stranger (with Normani)",
          "Billie Eilish - bury a friend",
          "Lil Nas X - Old Town Road",
          "Khalid - Talk (feat. Disclosure)",
          "Billie Eilish - when the party's over",
          "Ed Sheeran - Beautiful People (feat. Khalid)",
          "Tones And I - Dance Monkey",
          "Ariana Grande - break up with your girlfriend, i'm bored",
          "J. Cole - MIDDLE CHILD",
          "Post Malone - Goodbyes (Feat. Young Thug)",
          "Panic! At The Disco - High Hopes",
          "DJ Snake - Taki Taki (feat. Selena Gomez, Ozuna & Cardi B)",
          "Lil Tecca - Ransom",
          "Billie Eilish - lovely (with Khalid)",
          "Travis Scott - SICKO MODE",
          "Meek Mill - Going Bad (feat. Drake)",
          "Mabel - Don't Call Me Up",
          "Bad Bunny - Callaita",
          "Bad Bunny - MIA (feat. Drake)",
          "Lizzo - Truth Hurts",
          "benny blanco - Eastside (with Halsey & Khalid)",
          "Queen - Bohemian Rhapsody - 2011 Mix",
          "Anuel AA - Secreto",
          "Anuel AA - China",
          "Shawn Mendes - If I Can't Have You",
          "Sech - Otro Trago",
          "Lauv - i'm so tired...",
          "MEDUZA - Piece Of Your Heart",
          "Avicii - SOS (feat. Aloe Blacc)",
          "Post Malone - Better Now",
          "Lunay - Soltera - Remix",
          "Paulo Londra - Adan y Eva",
          "Alec Benjamin - Let Me Down Slowly",
          "Post Malone - rockstar (feat. 21 Savage)"
         ],
         "type": "scatter3d",
         "x": [
          -0.23652488783422934,
          0.06570259779359196,
          -0.3914655617551254,
          0.27384854085074795,
          -0.268130462325605,
          -0.43842537763316647,
          0.019605253171482522,
          0.33594087162570996,
          -0.3411807722600375,
          0.40325785876706843,
          -0.25285549641157545,
          0.009505564016856535,
          -0.42593977088557955,
          0.029616953409747022,
          -0.5825299838125765,
          -0.16878896619848147,
          0.15966025128602973,
          0.22734583072659706,
          -0.12440468584452158,
          0.09579321389378921,
          0.8274008451480828,
          -0.030628299027623165,
          -0.13618138038408428,
          0.18950823779956363,
          0.08860932928431609,
          0.38416429555829434,
          -0.261322650975884,
          -0.35892214231568204,
          0.217510916898761,
          0.8195570711217764,
          -0.11379965089367718,
          -0.1329812051501001,
          0.07835720415490124,
          0.3482894896268792,
          0.23049990587193683,
          0.08355182221755268,
          0.15775282248073075,
          0.6076842093987654,
          -0.401938704083561,
          -0.30018404918292924,
          -0.4398598147462719,
          -0.1635840318637474,
          -0.010184429001391306,
          -0.17704225336727475,
          -0.008482653042970842,
          0.19722036224194164,
          -0.4229457924311825,
          -0.2814383390120649,
          0.11022199105719001,
          0.5091359220370336
         ],
         "y": [
          0.010779798373904814,
          -0.12486584844438087,
          0.2539418638836179,
          -0.24976739311912982,
          -0.20495232898782284,
          0.1335878410689017,
          0.07591916766816952,
          0.1758170084032515,
          0.1783585717787109,
          0.330710996250636,
          0.23819920884945703,
          -0.16868444667397417,
          -0.0620676748964687,
          0.07747636699809195,
          -0.16054616237729155,
          -0.059666374958656516,
          0.17857589444326546,
          -0.15680836692455993,
          -0.24804683419191215,
          -0.2987569100922163,
          0.4256255780180369,
          0.2390130945081172,
          0.16596580977265993,
          -0.4590506106667121,
          0.00878782769997367,
          -0.23960185449595697,
          0.36889938557586216,
          0.10729963242867151,
          -0.59890964064125,
          0.15312431513249364,
          -0.3617638584330911,
          0.29500092139490497,
          0.1215683784370382,
          -0.3627330813775211,
          0.06840305199647184,
          -0.3303944604673612,
          0.32390520335198086,
          0.6546143939865574,
          0.22462776904025722,
          0.07249589678005432,
          0.042648557555413,
          -0.4750287095011468,
          0.30099662498842805,
          -0.03140206795742,
          0.09895195942471731,
          -0.20510861098874392,
          0.46774224175456064,
          -0.4629766794613481,
          -0.21880620259619823,
          -0.3130992423110391
         ],
         "z": [
          -0.032217682620444575,
          -0.001717689219411517,
          -0.05100016010231268,
          0.19388634643431735,
          0.13052734580924658,
          -0.04452919614230656,
          0.19363985029071706,
          -0.19948004685735077,
          -0.2110470512649703,
          0.10254132443745809,
          -0.12086670003519423,
          0.03148083403230234,
          -0.003291109256450736,
          -0.033894247486960793,
          -0.06192938690904369,
          -0.05945063525495473,
          0.23408155949510143,
          0.4011020493702533,
          0.23304919950095399,
          0.28189067819024766,
          -0.15412106734373712,
          -0.17470957045661475,
          0.20709550946120947,
          -0.016541107301982435,
          0.45496532477130797,
          -0.20086558955952952,
          -0.43180060853610314,
          -0.02305303847782107,
          -0.07220288964128418,
          -0.2866918358411529,
          0.048390920373169326,
          0.45624839525364264,
          -0.1892536693830179,
          -0.03160918689296909,
          0.22893738812296746,
          -0.052489928608986915,
          -0.008769417710892964,
          0.013009892537528144,
          -0.001160798369515419,
          -0.08915013598697107,
          -0.24450967907127755,
          -0.13362874679410777,
          -0.08892127461523643,
          -0.23850651649194846,
          0.12276281834400676,
          -0.02967494659843616,
          0.3334624007208009,
          -0.172580340331318,
          -0.10788309563198518,
          -0.09952448835094685
         ]
        }
       ],
       "layout": {
        "template": {
         "data": {
          "bar": [
           {
            "error_x": {
             "color": "#2a3f5f"
            },
            "error_y": {
             "color": "#2a3f5f"
            },
            "marker": {
             "line": {
              "color": "#E5ECF6",
              "width": 0.5
             }
            },
            "type": "bar"
           }
          ],
          "barpolar": [
           {
            "marker": {
             "line": {
              "color": "#E5ECF6",
              "width": 0.5
             }
            },
            "type": "barpolar"
           }
          ],
          "carpet": [
           {
            "aaxis": {
             "endlinecolor": "#2a3f5f",
             "gridcolor": "white",
             "linecolor": "white",
             "minorgridcolor": "white",
             "startlinecolor": "#2a3f5f"
            },
            "baxis": {
             "endlinecolor": "#2a3f5f",
             "gridcolor": "white",
             "linecolor": "white",
             "minorgridcolor": "white",
             "startlinecolor": "#2a3f5f"
            },
            "type": "carpet"
           }
          ],
          "choropleth": [
           {
            "colorbar": {
             "outlinewidth": 0,
             "ticks": ""
            },
            "type": "choropleth"
           }
          ],
          "contour": [
           {
            "colorbar": {
             "outlinewidth": 0,
             "ticks": ""
            },
            "colorscale": [
             [
              0,
              "#0d0887"
             ],
             [
              0.1111111111111111,
              "#46039f"
             ],
             [
              0.2222222222222222,
              "#7201a8"
             ],
             [
              0.3333333333333333,
              "#9c179e"
             ],
             [
              0.4444444444444444,
              "#bd3786"
             ],
             [
              0.5555555555555556,
              "#d8576b"
             ],
             [
              0.6666666666666666,
              "#ed7953"
             ],
             [
              0.7777777777777778,
              "#fb9f3a"
             ],
             [
              0.8888888888888888,
              "#fdca26"
             ],
             [
              1,
              "#f0f921"
             ]
            ],
            "type": "contour"
           }
          ],
          "contourcarpet": [
           {
            "colorbar": {
             "outlinewidth": 0,
             "ticks": ""
            },
            "type": "contourcarpet"
           }
          ],
          "heatmap": [
           {
            "colorbar": {
             "outlinewidth": 0,
             "ticks": ""
            },
            "colorscale": [
             [
              0,
              "#0d0887"
             ],
             [
              0.1111111111111111,
              "#46039f"
             ],
             [
              0.2222222222222222,
              "#7201a8"
             ],
             [
              0.3333333333333333,
              "#9c179e"
             ],
             [
              0.4444444444444444,
              "#bd3786"
             ],
             [
              0.5555555555555556,
              "#d8576b"
             ],
             [
              0.6666666666666666,
              "#ed7953"
             ],
             [
              0.7777777777777778,
              "#fb9f3a"
             ],
             [
              0.8888888888888888,
              "#fdca26"
             ],
             [
              1,
              "#f0f921"
             ]
            ],
            "type": "heatmap"
           }
          ],
          "heatmapgl": [
           {
            "colorbar": {
             "outlinewidth": 0,
             "ticks": ""
            },
            "colorscale": [
             [
              0,
              "#0d0887"
             ],
             [
              0.1111111111111111,
              "#46039f"
             ],
             [
              0.2222222222222222,
              "#7201a8"
             ],
             [
              0.3333333333333333,
              "#9c179e"
             ],
             [
              0.4444444444444444,
              "#bd3786"
             ],
             [
              0.5555555555555556,
              "#d8576b"
             ],
             [
              0.6666666666666666,
              "#ed7953"
             ],
             [
              0.7777777777777778,
              "#fb9f3a"
             ],
             [
              0.8888888888888888,
              "#fdca26"
             ],
             [
              1,
              "#f0f921"
             ]
            ],
            "type": "heatmapgl"
           }
          ],
          "histogram": [
           {
            "marker": {
             "colorbar": {
              "outlinewidth": 0,
              "ticks": ""
             }
            },
            "type": "histogram"
           }
          ],
          "histogram2d": [
           {
            "colorbar": {
             "outlinewidth": 0,
             "ticks": ""
            },
            "colorscale": [
             [
              0,
              "#0d0887"
             ],
             [
              0.1111111111111111,
              "#46039f"
             ],
             [
              0.2222222222222222,
              "#7201a8"
             ],
             [
              0.3333333333333333,
              "#9c179e"
             ],
             [
              0.4444444444444444,
              "#bd3786"
             ],
             [
              0.5555555555555556,
              "#d8576b"
             ],
             [
              0.6666666666666666,
              "#ed7953"
             ],
             [
              0.7777777777777778,
              "#fb9f3a"
             ],
             [
              0.8888888888888888,
              "#fdca26"
             ],
             [
              1,
              "#f0f921"
             ]
            ],
            "type": "histogram2d"
           }
          ],
          "histogram2dcontour": [
           {
            "colorbar": {
             "outlinewidth": 0,
             "ticks": ""
            },
            "colorscale": [
             [
              0,
              "#0d0887"
             ],
             [
              0.1111111111111111,
              "#46039f"
             ],
             [
              0.2222222222222222,
              "#7201a8"
             ],
             [
              0.3333333333333333,
              "#9c179e"
             ],
             [
              0.4444444444444444,
              "#bd3786"
             ],
             [
              0.5555555555555556,
              "#d8576b"
             ],
             [
              0.6666666666666666,
              "#ed7953"
             ],
             [
              0.7777777777777778,
              "#fb9f3a"
             ],
             [
              0.8888888888888888,
              "#fdca26"
             ],
             [
              1,
              "#f0f921"
             ]
            ],
            "type": "histogram2dcontour"
           }
          ],
          "mesh3d": [
           {
            "colorbar": {
             "outlinewidth": 0,
             "ticks": ""
            },
            "type": "mesh3d"
           }
          ],
          "parcoords": [
           {
            "line": {
             "colorbar": {
              "outlinewidth": 0,
              "ticks": ""
             }
            },
            "type": "parcoords"
           }
          ],
          "pie": [
           {
            "automargin": true,
            "type": "pie"
           }
          ],
          "scatter": [
           {
            "marker": {
             "colorbar": {
              "outlinewidth": 0,
              "ticks": ""
             }
            },
            "type": "scatter"
           }
          ],
          "scatter3d": [
           {
            "line": {
             "colorbar": {
              "outlinewidth": 0,
              "ticks": ""
             }
            },
            "marker": {
             "colorbar": {
              "outlinewidth": 0,
              "ticks": ""
             }
            },
            "type": "scatter3d"
           }
          ],
          "scattercarpet": [
           {
            "marker": {
             "colorbar": {
              "outlinewidth": 0,
              "ticks": ""
             }
            },
            "type": "scattercarpet"
           }
          ],
          "scattergeo": [
           {
            "marker": {
             "colorbar": {
              "outlinewidth": 0,
              "ticks": ""
             }
            },
            "type": "scattergeo"
           }
          ],
          "scattergl": [
           {
            "marker": {
             "colorbar": {
              "outlinewidth": 0,
              "ticks": ""
             }
            },
            "type": "scattergl"
           }
          ],
          "scattermapbox": [
           {
            "marker": {
             "colorbar": {
              "outlinewidth": 0,
              "ticks": ""
             }
            },
            "type": "scattermapbox"
           }
          ],
          "scatterpolar": [
           {
            "marker": {
             "colorbar": {
              "outlinewidth": 0,
              "ticks": ""
             }
            },
            "type": "scatterpolar"
           }
          ],
          "scatterpolargl": [
           {
            "marker": {
             "colorbar": {
              "outlinewidth": 0,
              "ticks": ""
             }
            },
            "type": "scatterpolargl"
           }
          ],
          "scatterternary": [
           {
            "marker": {
             "colorbar": {
              "outlinewidth": 0,
              "ticks": ""
             }
            },
            "type": "scatterternary"
           }
          ],
          "surface": [
           {
            "colorbar": {
             "outlinewidth": 0,
             "ticks": ""
            },
            "colorscale": [
             [
              0,
              "#0d0887"
             ],
             [
              0.1111111111111111,
              "#46039f"
             ],
             [
              0.2222222222222222,
              "#7201a8"
             ],
             [
              0.3333333333333333,
              "#9c179e"
             ],
             [
              0.4444444444444444,
              "#bd3786"
             ],
             [
              0.5555555555555556,
              "#d8576b"
             ],
             [
              0.6666666666666666,
              "#ed7953"
             ],
             [
              0.7777777777777778,
              "#fb9f3a"
             ],
             [
              0.8888888888888888,
              "#fdca26"
             ],
             [
              1,
              "#f0f921"
             ]
            ],
            "type": "surface"
           }
          ],
          "table": [
           {
            "cells": {
             "fill": {
              "color": "#EBF0F8"
             },
             "line": {
              "color": "white"
             }
            },
            "header": {
             "fill": {
              "color": "#C8D4E3"
             },
             "line": {
              "color": "white"
             }
            },
            "type": "table"
           }
          ]
         },
         "layout": {
          "annotationdefaults": {
           "arrowcolor": "#2a3f5f",
           "arrowhead": 0,
           "arrowwidth": 1
          },
          "coloraxis": {
           "colorbar": {
            "outlinewidth": 0,
            "ticks": ""
           }
          },
          "colorscale": {
           "diverging": [
            [
             0,
             "#8e0152"
            ],
            [
             0.1,
             "#c51b7d"
            ],
            [
             0.2,
             "#de77ae"
            ],
            [
             0.3,
             "#f1b6da"
            ],
            [
             0.4,
             "#fde0ef"
            ],
            [
             0.5,
             "#f7f7f7"
            ],
            [
             0.6,
             "#e6f5d0"
            ],
            [
             0.7,
             "#b8e186"
            ],
            [
             0.8,
             "#7fbc41"
            ],
            [
             0.9,
             "#4d9221"
            ],
            [
             1,
             "#276419"
            ]
           ],
           "sequential": [
            [
             0,
             "#0d0887"
            ],
            [
             0.1111111111111111,
             "#46039f"
            ],
            [
             0.2222222222222222,
             "#7201a8"
            ],
            [
             0.3333333333333333,
             "#9c179e"
            ],
            [
             0.4444444444444444,
             "#bd3786"
            ],
            [
             0.5555555555555556,
             "#d8576b"
            ],
            [
             0.6666666666666666,
             "#ed7953"
            ],
            [
             0.7777777777777778,
             "#fb9f3a"
            ],
            [
             0.8888888888888888,
             "#fdca26"
            ],
            [
             1,
             "#f0f921"
            ]
           ],
           "sequentialminus": [
            [
             0,
             "#0d0887"
            ],
            [
             0.1111111111111111,
             "#46039f"
            ],
            [
             0.2222222222222222,
             "#7201a8"
            ],
            [
             0.3333333333333333,
             "#9c179e"
            ],
            [
             0.4444444444444444,
             "#bd3786"
            ],
            [
             0.5555555555555556,
             "#d8576b"
            ],
            [
             0.6666666666666666,
             "#ed7953"
            ],
            [
             0.7777777777777778,
             "#fb9f3a"
            ],
            [
             0.8888888888888888,
             "#fdca26"
            ],
            [
             1,
             "#f0f921"
            ]
           ]
          },
          "colorway": [
           "#636efa",
           "#EF553B",
           "#00cc96",
           "#ab63fa",
           "#FFA15A",
           "#19d3f3",
           "#FF6692",
           "#B6E880",
           "#FF97FF",
           "#FECB52"
          ],
          "font": {
           "color": "#2a3f5f"
          },
          "geo": {
           "bgcolor": "white",
           "lakecolor": "white",
           "landcolor": "#E5ECF6",
           "showlakes": true,
           "showland": true,
           "subunitcolor": "white"
          },
          "hoverlabel": {
           "align": "left"
          },
          "hovermode": "closest",
          "mapbox": {
           "style": "light"
          },
          "paper_bgcolor": "white",
          "plot_bgcolor": "#E5ECF6",
          "polar": {
           "angularaxis": {
            "gridcolor": "white",
            "linecolor": "white",
            "ticks": ""
           },
           "bgcolor": "#E5ECF6",
           "radialaxis": {
            "gridcolor": "white",
            "linecolor": "white",
            "ticks": ""
           }
          },
          "scene": {
           "xaxis": {
            "backgroundcolor": "#E5ECF6",
            "gridcolor": "white",
            "gridwidth": 2,
            "linecolor": "white",
            "showbackground": true,
            "ticks": "",
            "zerolinecolor": "white"
           },
           "yaxis": {
            "backgroundcolor": "#E5ECF6",
            "gridcolor": "white",
            "gridwidth": 2,
            "linecolor": "white",
            "showbackground": true,
            "ticks": "",
            "zerolinecolor": "white"
           },
           "zaxis": {
            "backgroundcolor": "#E5ECF6",
            "gridcolor": "white",
            "gridwidth": 2,
            "linecolor": "white",
            "showbackground": true,
            "ticks": "",
            "zerolinecolor": "white"
           }
          },
          "shapedefaults": {
           "line": {
            "color": "#2a3f5f"
           }
          },
          "ternary": {
           "aaxis": {
            "gridcolor": "white",
            "linecolor": "white",
            "ticks": ""
           },
           "baxis": {
            "gridcolor": "white",
            "linecolor": "white",
            "ticks": ""
           },
           "bgcolor": "#E5ECF6",
           "caxis": {
            "gridcolor": "white",
            "linecolor": "white",
            "ticks": ""
           }
          },
          "title": {
           "x": 0.05
          },
          "xaxis": {
           "automargin": true,
           "gridcolor": "white",
           "linecolor": "white",
           "ticks": "",
           "title": {
            "standoff": 15
           },
           "zerolinecolor": "white",
           "zerolinewidth": 2
          },
          "yaxis": {
           "automargin": true,
           "gridcolor": "white",
           "linecolor": "white",
           "ticks": "",
           "title": {
            "standoff": 15
           },
           "zerolinecolor": "white",
           "zerolinewidth": 2
          }
         }
        }
       }
      },
      "text/html": [
       "<div>\n",
       "        \n",
       "        \n",
       "            <div id=\"d9cccd64-1705-4246-839d-8dbcf0acc1ba\" class=\"plotly-graph-div\" style=\"height:525px; width:100%;\"></div>\n",
       "            <script type=\"text/javascript\">\n",
       "                require([\"plotly\"], function(Plotly) {\n",
       "                    window.PLOTLYENV=window.PLOTLYENV || {};\n",
       "                    \n",
       "                if (document.getElementById(\"d9cccd64-1705-4246-839d-8dbcf0acc1ba\")) {\n",
       "                    Plotly.newPlot(\n",
       "                        'd9cccd64-1705-4246-839d-8dbcf0acc1ba',\n",
       "                        [{\"marker\": {\"color\": [0.759, 0.701, 0.755, 0.778, 0.878, 0.7979999999999999, 0.8290000000000001, 0.501, 0.737, 0.5720000000000001, 0.687, 0.752, 0.826, 0.7170000000000001, 0.8420000000000001, 0.7190000000000001, 0.741, 0.905, 0.907, 0.9009999999999999, 0.36700000000000005, 0.64, 0.825, 0.726, 0.8370000000000001, 0.58, 0.579, 0.8420000000000001, 0.745, 0.35100000000000003, 0.8340000000000001, 0.889, 0.674, 0.61, 0.8170000000000001, 0.715, 0.632, 0.414, 0.807, 0.7859999999999999, 0.691, 0.747, 0.599, 0.677, 0.802, 0.68, 0.795, 0.767, 0.652, 0.585], \"size\": 8}, \"mode\": \"markers\", \"text\": [\"Shawn Mendes - Se\\u00f1orita\", \"Billie Eilish - bad guy\", \"Post Malone - Sunflower - Spider-Man: Into the Spider-Verse\", \"Ariana Grande - 7 rings\", \"Lil Nas X - Old Town Road - Remix\", \"Ed Sheeran - I Don't Care (with Justin Bieber)\", \"Post Malone - Wow.\", \"Lewis Capaldi - Someone You Loved\", \"Daddy Yankee - Con Calma\", \"Lady Gaga - Shallow\", \"Marshmello - Happier\", \"Halsey - Without Me\", \"Pedro Cap\\u00f3 - Calma - Remix\", \"Ariana Grande - thank u, next\", \"Jonas Brothers - Sucker\", \"Ava Max - Sweet but Psycho\", \"Sam Smith - Dancing With A Stranger (with Normani)\", \"Billie Eilish - bury a friend\", \"Lil Nas X - Old Town Road\", \"Khalid - Talk (feat. Disclosure)\", \"Billie Eilish - when the party's over\", \"Ed Sheeran - Beautiful People (feat. Khalid)\", \"Tones And I - Dance Monkey\", \"Ariana Grande - break up with your girlfriend, i'm bored\", \"J. Cole - MIDDLE CHILD\", \"Post Malone - Goodbyes (Feat. Young Thug)\", \"Panic! At The Disco - High Hopes\", \"DJ Snake - Taki Taki (feat. Selena Gomez, Ozuna & Cardi B)\", \"Lil Tecca - Ransom\", \"Billie Eilish - lovely (with Khalid)\", \"Travis Scott - SICKO MODE\", \"Meek Mill - Going Bad (feat. Drake)\", \"Mabel - Don't Call Me Up\", \"Bad Bunny - Callaita\", \"Bad Bunny - MIA (feat. Drake)\", \"Lizzo - Truth Hurts\", \"benny blanco - Eastside (with Halsey & Khalid)\", \"Queen - Bohemian Rhapsody - 2011 Mix\", \"Anuel AA - Secreto\", \"Anuel AA - China\", \"Shawn Mendes - If I Can't Have You\", \"Sech - Otro Trago\", \"Lauv - i'm so tired...\", \"MEDUZA - Piece Of Your Heart\", \"Avicii - SOS (feat. Aloe Blacc)\", \"Post Malone - Better Now\", \"Lunay - Soltera - Remix\", \"Paulo Londra - Adan y Eva\", \"Alec Benjamin - Let Me Down Slowly\", \"Post Malone - rockstar (feat. 21 Savage)\"], \"type\": \"scatter3d\", \"x\": [-0.23652488783422934, 0.06570259779359196, -0.3914655617551254, 0.27384854085074795, -0.268130462325605, -0.43842537763316647, 0.019605253171482522, 0.33594087162570996, -0.3411807722600375, 0.40325785876706843, -0.25285549641157545, 0.009505564016856535, -0.42593977088557955, 0.029616953409747022, -0.5825299838125765, -0.16878896619848147, 0.15966025128602973, 0.22734583072659706, -0.12440468584452158, 0.09579321389378921, 0.8274008451480828, -0.030628299027623165, -0.13618138038408428, 0.18950823779956363, 0.08860932928431609, 0.38416429555829434, -0.261322650975884, -0.35892214231568204, 0.217510916898761, 0.8195570711217764, -0.11379965089367718, -0.1329812051501001, 0.07835720415490124, 0.3482894896268792, 0.23049990587193683, 0.08355182221755268, 0.15775282248073075, 0.6076842093987654, -0.401938704083561, -0.30018404918292924, -0.4398598147462719, -0.1635840318637474, -0.010184429001391306, -0.17704225336727475, -0.008482653042970842, 0.19722036224194164, -0.4229457924311825, -0.2814383390120649, 0.11022199105719001, 0.5091359220370336], \"y\": [0.010779798373904814, -0.12486584844438087, 0.2539418638836179, -0.24976739311912982, -0.20495232898782284, 0.1335878410689017, 0.07591916766816952, 0.1758170084032515, 0.1783585717787109, 0.330710996250636, 0.23819920884945703, -0.16868444667397417, -0.0620676748964687, 0.07747636699809195, -0.16054616237729155, -0.059666374958656516, 0.17857589444326546, -0.15680836692455993, -0.24804683419191215, -0.2987569100922163, 0.4256255780180369, 0.2390130945081172, 0.16596580977265993, -0.4590506106667121, 0.00878782769997367, -0.23960185449595697, 0.36889938557586216, 0.10729963242867151, -0.59890964064125, 0.15312431513249364, -0.3617638584330911, 0.29500092139490497, 0.1215683784370382, -0.3627330813775211, 0.06840305199647184, -0.3303944604673612, 0.32390520335198086, 0.6546143939865574, 0.22462776904025722, 0.07249589678005432, 0.042648557555413, -0.4750287095011468, 0.30099662498842805, -0.03140206795742, 0.09895195942471731, -0.20510861098874392, 0.46774224175456064, -0.4629766794613481, -0.21880620259619823, -0.3130992423110391], \"z\": [-0.032217682620444575, -0.001717689219411517, -0.05100016010231268, 0.19388634643431735, 0.13052734580924658, -0.04452919614230656, 0.19363985029071706, -0.19948004685735077, -0.2110470512649703, 0.10254132443745809, -0.12086670003519423, 0.03148083403230234, -0.003291109256450736, -0.033894247486960793, -0.06192938690904369, -0.05945063525495473, 0.23408155949510143, 0.4011020493702533, 0.23304919950095399, 0.28189067819024766, -0.15412106734373712, -0.17470957045661475, 0.20709550946120947, -0.016541107301982435, 0.45496532477130797, -0.20086558955952952, -0.43180060853610314, -0.02305303847782107, -0.07220288964128418, -0.2866918358411529, 0.048390920373169326, 0.45624839525364264, -0.1892536693830179, -0.03160918689296909, 0.22893738812296746, -0.052489928608986915, -0.008769417710892964, 0.013009892537528144, -0.001160798369515419, -0.08915013598697107, -0.24450967907127755, -0.13362874679410777, -0.08892127461523643, -0.23850651649194846, 0.12276281834400676, -0.02967494659843616, 0.3334624007208009, -0.172580340331318, -0.10788309563198518, -0.09952448835094685]}],\n",
       "                        {\"template\": {\"data\": {\"bar\": [{\"error_x\": {\"color\": \"#2a3f5f\"}, \"error_y\": {\"color\": \"#2a3f5f\"}, \"marker\": {\"line\": {\"color\": \"#E5ECF6\", \"width\": 0.5}}, \"type\": \"bar\"}], \"barpolar\": [{\"marker\": {\"line\": {\"color\": \"#E5ECF6\", \"width\": 0.5}}, \"type\": \"barpolar\"}], \"carpet\": [{\"aaxis\": {\"endlinecolor\": \"#2a3f5f\", \"gridcolor\": \"white\", \"linecolor\": \"white\", \"minorgridcolor\": \"white\", \"startlinecolor\": \"#2a3f5f\"}, \"baxis\": {\"endlinecolor\": \"#2a3f5f\", \"gridcolor\": \"white\", \"linecolor\": \"white\", \"minorgridcolor\": \"white\", \"startlinecolor\": \"#2a3f5f\"}, \"type\": \"carpet\"}], \"choropleth\": [{\"colorbar\": {\"outlinewidth\": 0, \"ticks\": \"\"}, \"type\": \"choropleth\"}], \"contour\": [{\"colorbar\": {\"outlinewidth\": 0, \"ticks\": \"\"}, \"colorscale\": [[0.0, \"#0d0887\"], [0.1111111111111111, \"#46039f\"], [0.2222222222222222, \"#7201a8\"], [0.3333333333333333, \"#9c179e\"], [0.4444444444444444, \"#bd3786\"], [0.5555555555555556, \"#d8576b\"], [0.6666666666666666, \"#ed7953\"], [0.7777777777777778, \"#fb9f3a\"], [0.8888888888888888, \"#fdca26\"], [1.0, \"#f0f921\"]], \"type\": \"contour\"}], \"contourcarpet\": [{\"colorbar\": {\"outlinewidth\": 0, \"ticks\": \"\"}, \"type\": \"contourcarpet\"}], \"heatmap\": [{\"colorbar\": {\"outlinewidth\": 0, \"ticks\": \"\"}, \"colorscale\": [[0.0, \"#0d0887\"], [0.1111111111111111, \"#46039f\"], [0.2222222222222222, \"#7201a8\"], [0.3333333333333333, \"#9c179e\"], [0.4444444444444444, \"#bd3786\"], [0.5555555555555556, \"#d8576b\"], [0.6666666666666666, \"#ed7953\"], [0.7777777777777778, \"#fb9f3a\"], [0.8888888888888888, \"#fdca26\"], [1.0, \"#f0f921\"]], \"type\": \"heatmap\"}], \"heatmapgl\": [{\"colorbar\": {\"outlinewidth\": 0, \"ticks\": \"\"}, \"colorscale\": [[0.0, \"#0d0887\"], [0.1111111111111111, \"#46039f\"], [0.2222222222222222, \"#7201a8\"], [0.3333333333333333, \"#9c179e\"], [0.4444444444444444, \"#bd3786\"], [0.5555555555555556, \"#d8576b\"], [0.6666666666666666, \"#ed7953\"], [0.7777777777777778, \"#fb9f3a\"], [0.8888888888888888, \"#fdca26\"], [1.0, \"#f0f921\"]], \"type\": \"heatmapgl\"}], \"histogram\": [{\"marker\": {\"colorbar\": {\"outlinewidth\": 0, \"ticks\": \"\"}}, \"type\": \"histogram\"}], \"histogram2d\": [{\"colorbar\": {\"outlinewidth\": 0, \"ticks\": \"\"}, \"colorscale\": [[0.0, \"#0d0887\"], [0.1111111111111111, \"#46039f\"], [0.2222222222222222, \"#7201a8\"], [0.3333333333333333, \"#9c179e\"], [0.4444444444444444, \"#bd3786\"], [0.5555555555555556, \"#d8576b\"], [0.6666666666666666, \"#ed7953\"], [0.7777777777777778, \"#fb9f3a\"], [0.8888888888888888, \"#fdca26\"], [1.0, \"#f0f921\"]], \"type\": \"histogram2d\"}], \"histogram2dcontour\": [{\"colorbar\": {\"outlinewidth\": 0, \"ticks\": \"\"}, \"colorscale\": [[0.0, \"#0d0887\"], [0.1111111111111111, \"#46039f\"], [0.2222222222222222, \"#7201a8\"], [0.3333333333333333, \"#9c179e\"], [0.4444444444444444, \"#bd3786\"], [0.5555555555555556, \"#d8576b\"], [0.6666666666666666, \"#ed7953\"], [0.7777777777777778, \"#fb9f3a\"], [0.8888888888888888, \"#fdca26\"], [1.0, \"#f0f921\"]], \"type\": \"histogram2dcontour\"}], \"mesh3d\": [{\"colorbar\": {\"outlinewidth\": 0, \"ticks\": \"\"}, \"type\": \"mesh3d\"}], \"parcoords\": [{\"line\": {\"colorbar\": {\"outlinewidth\": 0, \"ticks\": \"\"}}, \"type\": \"parcoords\"}], \"pie\": [{\"automargin\": true, \"type\": \"pie\"}], \"scatter\": [{\"marker\": {\"colorbar\": {\"outlinewidth\": 0, \"ticks\": \"\"}}, \"type\": \"scatter\"}], \"scatter3d\": [{\"line\": {\"colorbar\": {\"outlinewidth\": 0, \"ticks\": \"\"}}, \"marker\": {\"colorbar\": {\"outlinewidth\": 0, \"ticks\": \"\"}}, \"type\": \"scatter3d\"}], \"scattercarpet\": [{\"marker\": {\"colorbar\": {\"outlinewidth\": 0, \"ticks\": \"\"}}, \"type\": \"scattercarpet\"}], \"scattergeo\": [{\"marker\": {\"colorbar\": {\"outlinewidth\": 0, \"ticks\": \"\"}}, \"type\": \"scattergeo\"}], \"scattergl\": [{\"marker\": {\"colorbar\": {\"outlinewidth\": 0, \"ticks\": \"\"}}, \"type\": \"scattergl\"}], \"scattermapbox\": [{\"marker\": {\"colorbar\": {\"outlinewidth\": 0, \"ticks\": \"\"}}, \"type\": \"scattermapbox\"}], \"scatterpolar\": [{\"marker\": {\"colorbar\": {\"outlinewidth\": 0, \"ticks\": \"\"}}, \"type\": \"scatterpolar\"}], \"scatterpolargl\": [{\"marker\": {\"colorbar\": {\"outlinewidth\": 0, \"ticks\": \"\"}}, \"type\": \"scatterpolargl\"}], \"scatterternary\": [{\"marker\": {\"colorbar\": {\"outlinewidth\": 0, \"ticks\": \"\"}}, \"type\": \"scatterternary\"}], \"surface\": [{\"colorbar\": {\"outlinewidth\": 0, \"ticks\": \"\"}, \"colorscale\": [[0.0, \"#0d0887\"], [0.1111111111111111, \"#46039f\"], [0.2222222222222222, \"#7201a8\"], [0.3333333333333333, \"#9c179e\"], [0.4444444444444444, \"#bd3786\"], [0.5555555555555556, \"#d8576b\"], [0.6666666666666666, \"#ed7953\"], [0.7777777777777778, \"#fb9f3a\"], [0.8888888888888888, \"#fdca26\"], [1.0, \"#f0f921\"]], \"type\": \"surface\"}], \"table\": [{\"cells\": {\"fill\": {\"color\": \"#EBF0F8\"}, \"line\": {\"color\": \"white\"}}, \"header\": {\"fill\": {\"color\": \"#C8D4E3\"}, \"line\": {\"color\": \"white\"}}, \"type\": \"table\"}]}, \"layout\": {\"annotationdefaults\": {\"arrowcolor\": \"#2a3f5f\", \"arrowhead\": 0, \"arrowwidth\": 1}, \"coloraxis\": {\"colorbar\": {\"outlinewidth\": 0, \"ticks\": \"\"}}, \"colorscale\": {\"diverging\": [[0, \"#8e0152\"], [0.1, \"#c51b7d\"], [0.2, \"#de77ae\"], [0.3, \"#f1b6da\"], [0.4, \"#fde0ef\"], [0.5, \"#f7f7f7\"], [0.6, \"#e6f5d0\"], [0.7, \"#b8e186\"], [0.8, \"#7fbc41\"], [0.9, \"#4d9221\"], [1, \"#276419\"]], \"sequential\": [[0.0, \"#0d0887\"], [0.1111111111111111, \"#46039f\"], [0.2222222222222222, \"#7201a8\"], [0.3333333333333333, \"#9c179e\"], [0.4444444444444444, \"#bd3786\"], [0.5555555555555556, \"#d8576b\"], [0.6666666666666666, \"#ed7953\"], [0.7777777777777778, \"#fb9f3a\"], [0.8888888888888888, \"#fdca26\"], [1.0, \"#f0f921\"]], \"sequentialminus\": [[0.0, \"#0d0887\"], [0.1111111111111111, \"#46039f\"], [0.2222222222222222, \"#7201a8\"], [0.3333333333333333, \"#9c179e\"], [0.4444444444444444, \"#bd3786\"], [0.5555555555555556, \"#d8576b\"], [0.6666666666666666, \"#ed7953\"], [0.7777777777777778, \"#fb9f3a\"], [0.8888888888888888, \"#fdca26\"], [1.0, \"#f0f921\"]]}, \"colorway\": [\"#636efa\", \"#EF553B\", \"#00cc96\", \"#ab63fa\", \"#FFA15A\", \"#19d3f3\", \"#FF6692\", \"#B6E880\", \"#FF97FF\", \"#FECB52\"], \"font\": {\"color\": \"#2a3f5f\"}, \"geo\": {\"bgcolor\": \"white\", \"lakecolor\": \"white\", \"landcolor\": \"#E5ECF6\", \"showlakes\": true, \"showland\": true, \"subunitcolor\": \"white\"}, \"hoverlabel\": {\"align\": \"left\"}, \"hovermode\": \"closest\", \"mapbox\": {\"style\": \"light\"}, \"paper_bgcolor\": \"white\", \"plot_bgcolor\": \"#E5ECF6\", \"polar\": {\"angularaxis\": {\"gridcolor\": \"white\", \"linecolor\": \"white\", \"ticks\": \"\"}, \"bgcolor\": \"#E5ECF6\", \"radialaxis\": {\"gridcolor\": \"white\", \"linecolor\": \"white\", \"ticks\": \"\"}}, \"scene\": {\"xaxis\": {\"backgroundcolor\": \"#E5ECF6\", \"gridcolor\": \"white\", \"gridwidth\": 2, \"linecolor\": \"white\", \"showbackground\": true, \"ticks\": \"\", \"zerolinecolor\": \"white\"}, \"yaxis\": {\"backgroundcolor\": \"#E5ECF6\", \"gridcolor\": \"white\", \"gridwidth\": 2, \"linecolor\": \"white\", \"showbackground\": true, \"ticks\": \"\", \"zerolinecolor\": \"white\"}, \"zaxis\": {\"backgroundcolor\": \"#E5ECF6\", \"gridcolor\": \"white\", \"gridwidth\": 2, \"linecolor\": \"white\", \"showbackground\": true, \"ticks\": \"\", \"zerolinecolor\": \"white\"}}, \"shapedefaults\": {\"line\": {\"color\": \"#2a3f5f\"}}, \"ternary\": {\"aaxis\": {\"gridcolor\": \"white\", \"linecolor\": \"white\", \"ticks\": \"\"}, \"baxis\": {\"gridcolor\": \"white\", \"linecolor\": \"white\", \"ticks\": \"\"}, \"bgcolor\": \"#E5ECF6\", \"caxis\": {\"gridcolor\": \"white\", \"linecolor\": \"white\", \"ticks\": \"\"}}, \"title\": {\"x\": 0.05}, \"xaxis\": {\"automargin\": true, \"gridcolor\": \"white\", \"linecolor\": \"white\", \"ticks\": \"\", \"title\": {\"standoff\": 15}, \"zerolinecolor\": \"white\", \"zerolinewidth\": 2}, \"yaxis\": {\"automargin\": true, \"gridcolor\": \"white\", \"linecolor\": \"white\", \"ticks\": \"\", \"title\": {\"standoff\": 15}, \"zerolinecolor\": \"white\", \"zerolinewidth\": 2}}}},\n",
       "                        {\"responsive\": true}\n",
       "                    ).then(function(){\n",
       "                            \n",
       "var gd = document.getElementById('d9cccd64-1705-4246-839d-8dbcf0acc1ba');\n",
       "var x = new MutationObserver(function (mutations, observer) {{\n",
       "        var display = window.getComputedStyle(gd).display;\n",
       "        if (!display || display === 'none') {{\n",
       "            console.log([gd, 'removed!']);\n",
       "            Plotly.purge(gd);\n",
       "            observer.disconnect();\n",
       "        }}\n",
       "}});\n",
       "\n",
       "// Listen for the removal of the full notebook cells\n",
       "var notebookContainer = gd.closest('#notebook-container');\n",
       "if (notebookContainer) {{\n",
       "    x.observe(notebookContainer, {childList: true});\n",
       "}}\n",
       "\n",
       "// Listen for the clearing of the current output cell\n",
       "var outputEl = gd.closest('.output');\n",
       "if (outputEl) {{\n",
       "    x.observe(outputEl, {childList: true});\n",
       "}}\n",
       "\n",
       "                        })\n",
       "                };\n",
       "                });\n",
       "            </script>\n",
       "        </div>"
      ]
     },
     "metadata": {},
     "output_type": "display_data"
    }
   ],
   "source": [
    "\n",
    "feture_to_plot = [\"energy\", \"liveness\", \"tempo\", \"valence\",\"danceability\"]\n",
    "text1 = df_2019[\"artists\"] + \" - \" + df_2019[\"name\"]\n",
    "text2 = text1.values\n",
    "X = df_2019[feture_to_plot].values\n",
    "y = df_2019[\"danceability\"].values\n",
    "min_maxscaler = MinMaxScaler()\n",
    "X = min_maxscaler.fit_transform(X)\n",
    "pca = PCA(n_components=3)\n",
    "pca.fit(X)\n",
    "X = pca.transform(X)\n",
    "\n",
    "plot3d = go.Scatter3d(\n",
    "    x=X[:,0],\n",
    "    y=X[:,1],\n",
    "    z=X[:,2],\n",
    "    text=text2,\n",
    "    mode=\"markers\",\n",
    "    marker=dict(\n",
    "        size=8,\n",
    "        color=y\n",
    "    )\n",
    ")\n",
    "\n",
    "fig = go.Figure(data=[plot3d])\n",
    "py.iplot(fig, filename=\"3d graph-2nd\")\n"
   ]
  },
  {
   "cell_type": "code",
   "execution_count": null,
   "metadata": {},
   "outputs": [],
   "source": []
  },
  {
   "cell_type": "code",
   "execution_count": null,
   "metadata": {},
   "outputs": [],
   "source": []
  },
  {
   "cell_type": "markdown",
   "metadata": {},
   "source": [
    " ### create a popularity column depending on our matrices"
   ]
  },
  {
   "cell_type": "code",
   "execution_count": 43,
   "metadata": {},
   "outputs": [],
   "source": [
    "df_2019[\"popularity\"]=\"\"\n",
    "df_2019.loc[(df_2019['danceability']>=0.69) | (df_2019['energy']>=0.66)| (df_2019['loudness']>=-5.6)| (df_2019['acousticness']>=0.16)| \n",
    "            (df_2019['valence']>=0.51)| (df_2019['tempo']>=119.0),'popularity']='1'\n",
    "df_2019.loc[(df_2019['danceability']<0.69) & (df_2019['energy']<0.66) & (df_2019['loudness']<-5.6),'popularity']='0'\n",
    "df_2019.head()\n",
    "\n",
    "df_2019.to_csv(\"../Data/df_2019_new.csv\",index=False)"
   ]
  },
  {
   "cell_type": "code",
   "execution_count": 44,
   "metadata": {
    "scrolled": true
   },
   "outputs": [
    {
     "data": {
      "text/html": [
       "<div>\n",
       "<style scoped>\n",
       "    .dataframe tbody tr th:only-of-type {\n",
       "        vertical-align: middle;\n",
       "    }\n",
       "\n",
       "    .dataframe tbody tr th {\n",
       "        vertical-align: top;\n",
       "    }\n",
       "\n",
       "    .dataframe thead th {\n",
       "        text-align: right;\n",
       "    }\n",
       "</style>\n",
       "<table border=\"1\" class=\"dataframe\">\n",
       "  <thead>\n",
       "    <tr style=\"text-align: right;\">\n",
       "      <th></th>\n",
       "      <th>Unnamed: 0</th>\n",
       "      <th>id</th>\n",
       "      <th>name</th>\n",
       "      <th>popularity</th>\n",
       "      <th>track.track_number</th>\n",
       "      <th>danceability</th>\n",
       "      <th>energy</th>\n",
       "      <th>key</th>\n",
       "      <th>loudness</th>\n",
       "      <th>mode</th>\n",
       "      <th>...</th>\n",
       "      <th>acousticness</th>\n",
       "      <th>instrumentalness</th>\n",
       "      <th>liveness</th>\n",
       "      <th>valence</th>\n",
       "      <th>tempo</th>\n",
       "      <th>duration_ms</th>\n",
       "      <th>time_signature</th>\n",
       "      <th>artists</th>\n",
       "      <th>dancebility_new</th>\n",
       "      <th>tempo_rate</th>\n",
       "    </tr>\n",
       "  </thead>\n",
       "  <tbody>\n",
       "    <tr>\n",
       "      <th>0</th>\n",
       "      <td>0</td>\n",
       "      <td>6v3KW9xbzN5yKLt9YKDYA2</td>\n",
       "      <td>Señorita</td>\n",
       "      <td>1</td>\n",
       "      <td>1</td>\n",
       "      <td>0.759</td>\n",
       "      <td>0.548</td>\n",
       "      <td>9</td>\n",
       "      <td>-6.049</td>\n",
       "      <td>0</td>\n",
       "      <td>...</td>\n",
       "      <td>0.0392</td>\n",
       "      <td>0.00</td>\n",
       "      <td>0.0828</td>\n",
       "      <td>0.749</td>\n",
       "      <td>116.967</td>\n",
       "      <td>190800</td>\n",
       "      <td>4</td>\n",
       "      <td>Shawn Mendes</td>\n",
       "      <td>1</td>\n",
       "      <td>fast</td>\n",
       "    </tr>\n",
       "    <tr>\n",
       "      <th>1</th>\n",
       "      <td>1</td>\n",
       "      <td>2Fxmhks0bxGSBdJ92vM42m</td>\n",
       "      <td>bad guy</td>\n",
       "      <td>1</td>\n",
       "      <td>2</td>\n",
       "      <td>0.701</td>\n",
       "      <td>0.425</td>\n",
       "      <td>7</td>\n",
       "      <td>-10.965</td>\n",
       "      <td>1</td>\n",
       "      <td>...</td>\n",
       "      <td>0.3280</td>\n",
       "      <td>0.13</td>\n",
       "      <td>0.1000</td>\n",
       "      <td>0.562</td>\n",
       "      <td>135.128</td>\n",
       "      <td>194088</td>\n",
       "      <td>4</td>\n",
       "      <td>Billie Eilish</td>\n",
       "      <td>1</td>\n",
       "      <td>fast</td>\n",
       "    </tr>\n",
       "    <tr>\n",
       "      <th>2</th>\n",
       "      <td>2</td>\n",
       "      <td>0RiRZpuVRbi7oqRdSMwhQY</td>\n",
       "      <td>Sunflower - Spider-Man: Into the Spider-Verse</td>\n",
       "      <td>1</td>\n",
       "      <td>12</td>\n",
       "      <td>0.755</td>\n",
       "      <td>0.522</td>\n",
       "      <td>2</td>\n",
       "      <td>-4.368</td>\n",
       "      <td>1</td>\n",
       "      <td>...</td>\n",
       "      <td>0.5330</td>\n",
       "      <td>0.00</td>\n",
       "      <td>0.0685</td>\n",
       "      <td>0.925</td>\n",
       "      <td>89.960</td>\n",
       "      <td>157560</td>\n",
       "      <td>4</td>\n",
       "      <td>Post Malone</td>\n",
       "      <td>1</td>\n",
       "      <td>moderate</td>\n",
       "    </tr>\n",
       "    <tr>\n",
       "      <th>3</th>\n",
       "      <td>3</td>\n",
       "      <td>6ocbgoVGwYJhOv1GgI9NsF</td>\n",
       "      <td>7 rings</td>\n",
       "      <td>1</td>\n",
       "      <td>10</td>\n",
       "      <td>0.778</td>\n",
       "      <td>0.317</td>\n",
       "      <td>1</td>\n",
       "      <td>-10.732</td>\n",
       "      <td>0</td>\n",
       "      <td>...</td>\n",
       "      <td>0.5920</td>\n",
       "      <td>0.00</td>\n",
       "      <td>0.0881</td>\n",
       "      <td>0.327</td>\n",
       "      <td>140.048</td>\n",
       "      <td>178627</td>\n",
       "      <td>4</td>\n",
       "      <td>Ariana Grande</td>\n",
       "      <td>1</td>\n",
       "      <td>fast</td>\n",
       "    </tr>\n",
       "    <tr>\n",
       "      <th>4</th>\n",
       "      <td>4</td>\n",
       "      <td>2YpeDb67231RjR0MgVLzsG</td>\n",
       "      <td>Old Town Road - Remix</td>\n",
       "      <td>1</td>\n",
       "      <td>1</td>\n",
       "      <td>0.878</td>\n",
       "      <td>0.619</td>\n",
       "      <td>6</td>\n",
       "      <td>-5.560</td>\n",
       "      <td>1</td>\n",
       "      <td>...</td>\n",
       "      <td>0.0533</td>\n",
       "      <td>0.00</td>\n",
       "      <td>0.1130</td>\n",
       "      <td>0.639</td>\n",
       "      <td>136.041</td>\n",
       "      <td>157067</td>\n",
       "      <td>4</td>\n",
       "      <td>Lil Nas X</td>\n",
       "      <td>1</td>\n",
       "      <td>fast</td>\n",
       "    </tr>\n",
       "  </tbody>\n",
       "</table>\n",
       "<p>5 rows × 21 columns</p>\n",
       "</div>"
      ],
      "text/plain": [
       "   Unnamed: 0                      id  \\\n",
       "0           0  6v3KW9xbzN5yKLt9YKDYA2   \n",
       "1           1  2Fxmhks0bxGSBdJ92vM42m   \n",
       "2           2  0RiRZpuVRbi7oqRdSMwhQY   \n",
       "3           3  6ocbgoVGwYJhOv1GgI9NsF   \n",
       "4           4  2YpeDb67231RjR0MgVLzsG   \n",
       "\n",
       "                                            name popularity  \\\n",
       "0                                       Señorita          1   \n",
       "1                                        bad guy          1   \n",
       "2  Sunflower - Spider-Man: Into the Spider-Verse          1   \n",
       "3                                        7 rings          1   \n",
       "4                          Old Town Road - Remix          1   \n",
       "\n",
       "   track.track_number  danceability  energy  key  loudness  mode  ...  \\\n",
       "0                   1         0.759   0.548    9    -6.049     0  ...   \n",
       "1                   2         0.701   0.425    7   -10.965     1  ...   \n",
       "2                  12         0.755   0.522    2    -4.368     1  ...   \n",
       "3                  10         0.778   0.317    1   -10.732     0  ...   \n",
       "4                   1         0.878   0.619    6    -5.560     1  ...   \n",
       "\n",
       "   acousticness  instrumentalness  liveness  valence    tempo  duration_ms  \\\n",
       "0        0.0392              0.00    0.0828    0.749  116.967       190800   \n",
       "1        0.3280              0.13    0.1000    0.562  135.128       194088   \n",
       "2        0.5330              0.00    0.0685    0.925   89.960       157560   \n",
       "3        0.5920              0.00    0.0881    0.327  140.048       178627   \n",
       "4        0.0533              0.00    0.1130    0.639  136.041       157067   \n",
       "\n",
       "   time_signature        artists dancebility_new tempo_rate  \n",
       "0               4   Shawn Mendes               1       fast  \n",
       "1               4  Billie Eilish               1       fast  \n",
       "2               4    Post Malone               1   moderate  \n",
       "3               4  Ariana Grande               1       fast  \n",
       "4               4      Lil Nas X               1       fast  \n",
       "\n",
       "[5 rows x 21 columns]"
      ]
     },
     "execution_count": 44,
     "metadata": {},
     "output_type": "execute_result"
    }
   ],
   "source": [
    "df_2019.head()"
   ]
  },
  {
   "cell_type": "code",
   "execution_count": 45,
   "metadata": {},
   "outputs": [],
   "source": [
    "df_2019_new=pd.read_csv('../Data/df_2019_new.csv')\n"
   ]
  },
  {
   "cell_type": "markdown",
   "metadata": {},
   "source": [
    "## corelation between features and popularity"
   ]
  },
  {
   "cell_type": "code",
   "execution_count": 46,
   "metadata": {},
   "outputs": [],
   "source": [
    "def draw(year,compare_col,color):\n",
    "    graph = sns.FacetGrid(df_2019_new, col = \"popularity\")\n",
    "    graph.map(sns.distplot, compare_col, bins = 25,color=color)\n",
    "    return plt.show()"
   ]
  },
  {
   "cell_type": "code",
   "execution_count": 47,
   "metadata": {},
   "outputs": [
    {
     "data": {
      "image/png": "[encoded data removed]",
      "text/plain": [
       "<Figure size 432x216 with 2 Axes>"
      ]
     },
     "metadata": {
      "needs_background": "light"
     },
     "output_type": "display_data"
    },
    {
     "data": {
      "image/png": "[encoded data removed]",
      "text/plain": [
       "<Figure size 432x216 with 2 Axes>"
      ]
     },
     "metadata": {
      "needs_background": "light"
     },
     "output_type": "display_data"
    },
    {
     "data": {
      "image/png": "[encoded data removed]",
      "text/plain": [
       "<Figure size 432x216 with 2 Axes>"
      ]
     },
     "metadata": {
      "needs_background": "light"
     },
     "output_type": "display_data"
    },
    {
     "data": {
      "image/png": "[encoded data removed]",
      "text/plain": [
       "<Figure size 432x216 with 2 Axes>"
      ]
     },
     "metadata": {
      "needs_background": "light"
     },
     "output_type": "display_data"
    },
    {
     "data": {
      "image/png": "[encoded data removed]",
      "text/plain": [
       "<Figure size 432x216 with 2 Axes>"
      ]
     },
     "metadata": {
      "needs_background": "light"
     },
     "output_type": "display_data"
    }
   ],
   "source": [
    "draw(df_2019_new,\"danceability\",\"b\")\n",
    "draw(df_2019_new,\"acousticness\",\"r\")\n",
    "draw(df_2019_new,\"loudness\",\"m\")\n",
    "draw(df_2019_new,\"valence\",\"r\")\n",
    "draw(df_2019_new,\"tempo\",\"y\")\n"
   ]
  },
  {
   "cell_type": "code",
   "execution_count": 48,
   "metadata": {},
   "outputs": [
    {
     "data": {
      "text/html": [
       "<div>\n",
       "<style scoped>\n",
       "    .dataframe tbody tr th:only-of-type {\n",
       "        vertical-align: middle;\n",
       "    }\n",
       "\n",
       "    .dataframe tbody tr th {\n",
       "        vertical-align: top;\n",
       "    }\n",
       "\n",
       "    .dataframe thead th {\n",
       "        text-align: right;\n",
       "    }\n",
       "</style>\n",
       "<table border=\"1\" class=\"dataframe\">\n",
       "  <thead>\n",
       "    <tr style=\"text-align: right;\">\n",
       "      <th></th>\n",
       "      <th>name</th>\n",
       "      <th>popularity</th>\n",
       "    </tr>\n",
       "  </thead>\n",
       "  <tbody>\n",
       "    <tr>\n",
       "      <th>0</th>\n",
       "      <td>Señorita</td>\n",
       "      <td>1</td>\n",
       "    </tr>\n",
       "    <tr>\n",
       "      <th>1</th>\n",
       "      <td>bad guy</td>\n",
       "      <td>1</td>\n",
       "    </tr>\n",
       "    <tr>\n",
       "      <th>2</th>\n",
       "      <td>Sunflower - Spider-Man: Into the Spider-Verse</td>\n",
       "      <td>1</td>\n",
       "    </tr>\n",
       "    <tr>\n",
       "      <th>3</th>\n",
       "      <td>7 rings</td>\n",
       "      <td>1</td>\n",
       "    </tr>\n",
       "    <tr>\n",
       "      <th>4</th>\n",
       "      <td>Old Town Road - Remix</td>\n",
       "      <td>1</td>\n",
       "    </tr>\n",
       "  </tbody>\n",
       "</table>\n",
       "</div>"
      ],
      "text/plain": [
       "                                            name  popularity\n",
       "0                                       Señorita           1\n",
       "1                                        bad guy           1\n",
       "2  Sunflower - Spider-Man: Into the Spider-Verse           1\n",
       "3                                        7 rings           1\n",
       "4                          Old Town Road - Remix           1"
      ]
     },
     "execution_count": 48,
     "metadata": {},
     "output_type": "execute_result"
    }
   ],
   "source": [
    "popularity_data = pd.concat([df_2019_new[\"name\"],df_2019_new[\"popularity\"]],axis=1)\n",
    "popularity_data.head()"
   ]
  },
  {
   "cell_type": "code",
   "execution_count": 49,
   "metadata": {},
   "outputs": [
    {
     "data": {
      "text/plain": [
       "Index(['Unnamed: 0', 'popularity', 'track.track_number', 'danceability',\n",
       "       'energy', 'key', 'loudness', 'mode', 'speechiness', 'acousticness',\n",
       "       'instrumentalness', 'liveness', 'valence', 'tempo', 'duration_ms',\n",
       "       'time_signature'],\n",
       "      dtype='object')"
      ]
     },
     "execution_count": 49,
     "metadata": {},
     "output_type": "execute_result"
    }
   ],
   "source": [
    "df_2019_final=df_2019.copy()\n",
    "df_2019_final.drop([\"id\",\"name\",\"artists\",\"tempo_rate\",\"dancebility_new\"],axis=1,inplace=True)\n",
    "df_2019_final.columns\n"
   ]
  },
  {
   "cell_type": "code",
   "execution_count": 50,
   "metadata": {},
   "outputs": [
    {
     "data": {
      "text/html": [
       "<div>\n",
       "<style scoped>\n",
       "    .dataframe tbody tr th:only-of-type {\n",
       "        vertical-align: middle;\n",
       "    }\n",
       "\n",
       "    .dataframe tbody tr th {\n",
       "        vertical-align: top;\n",
       "    }\n",
       "\n",
       "    .dataframe thead th {\n",
       "        text-align: right;\n",
       "    }\n",
       "</style>\n",
       "<table border=\"1\" class=\"dataframe\">\n",
       "  <thead>\n",
       "    <tr style=\"text-align: right;\">\n",
       "      <th></th>\n",
       "      <th>Unnamed: 0</th>\n",
       "      <th>popularity</th>\n",
       "      <th>track.track_number</th>\n",
       "      <th>danceability</th>\n",
       "      <th>energy</th>\n",
       "      <th>loudness</th>\n",
       "      <th>mode</th>\n",
       "      <th>speechiness</th>\n",
       "      <th>acousticness</th>\n",
       "      <th>instrumentalness</th>\n",
       "      <th>...</th>\n",
       "      <th>key_1</th>\n",
       "      <th>key_2</th>\n",
       "      <th>key_4</th>\n",
       "      <th>key_5</th>\n",
       "      <th>key_6</th>\n",
       "      <th>key_7</th>\n",
       "      <th>key_8</th>\n",
       "      <th>key_9</th>\n",
       "      <th>key_10</th>\n",
       "      <th>key_11</th>\n",
       "    </tr>\n",
       "  </thead>\n",
       "  <tbody>\n",
       "    <tr>\n",
       "      <th>0</th>\n",
       "      <td>0</td>\n",
       "      <td>1</td>\n",
       "      <td>1</td>\n",
       "      <td>0.759</td>\n",
       "      <td>0.548</td>\n",
       "      <td>-6.049</td>\n",
       "      <td>0</td>\n",
       "      <td>0.0290</td>\n",
       "      <td>0.0392</td>\n",
       "      <td>0.00</td>\n",
       "      <td>...</td>\n",
       "      <td>0</td>\n",
       "      <td>0</td>\n",
       "      <td>0</td>\n",
       "      <td>0</td>\n",
       "      <td>0</td>\n",
       "      <td>0</td>\n",
       "      <td>0</td>\n",
       "      <td>1</td>\n",
       "      <td>0</td>\n",
       "      <td>0</td>\n",
       "    </tr>\n",
       "    <tr>\n",
       "      <th>1</th>\n",
       "      <td>1</td>\n",
       "      <td>1</td>\n",
       "      <td>2</td>\n",
       "      <td>0.701</td>\n",
       "      <td>0.425</td>\n",
       "      <td>-10.965</td>\n",
       "      <td>1</td>\n",
       "      <td>0.3750</td>\n",
       "      <td>0.3280</td>\n",
       "      <td>0.13</td>\n",
       "      <td>...</td>\n",
       "      <td>0</td>\n",
       "      <td>0</td>\n",
       "      <td>0</td>\n",
       "      <td>0</td>\n",
       "      <td>0</td>\n",
       "      <td>1</td>\n",
       "      <td>0</td>\n",
       "      <td>0</td>\n",
       "      <td>0</td>\n",
       "      <td>0</td>\n",
       "    </tr>\n",
       "    <tr>\n",
       "      <th>2</th>\n",
       "      <td>2</td>\n",
       "      <td>1</td>\n",
       "      <td>12</td>\n",
       "      <td>0.755</td>\n",
       "      <td>0.522</td>\n",
       "      <td>-4.368</td>\n",
       "      <td>1</td>\n",
       "      <td>0.0575</td>\n",
       "      <td>0.5330</td>\n",
       "      <td>0.00</td>\n",
       "      <td>...</td>\n",
       "      <td>0</td>\n",
       "      <td>1</td>\n",
       "      <td>0</td>\n",
       "      <td>0</td>\n",
       "      <td>0</td>\n",
       "      <td>0</td>\n",
       "      <td>0</td>\n",
       "      <td>0</td>\n",
       "      <td>0</td>\n",
       "      <td>0</td>\n",
       "    </tr>\n",
       "    <tr>\n",
       "      <th>3</th>\n",
       "      <td>3</td>\n",
       "      <td>1</td>\n",
       "      <td>10</td>\n",
       "      <td>0.778</td>\n",
       "      <td>0.317</td>\n",
       "      <td>-10.732</td>\n",
       "      <td>0</td>\n",
       "      <td>0.3340</td>\n",
       "      <td>0.5920</td>\n",
       "      <td>0.00</td>\n",
       "      <td>...</td>\n",
       "      <td>1</td>\n",
       "      <td>0</td>\n",
       "      <td>0</td>\n",
       "      <td>0</td>\n",
       "      <td>0</td>\n",
       "      <td>0</td>\n",
       "      <td>0</td>\n",
       "      <td>0</td>\n",
       "      <td>0</td>\n",
       "      <td>0</td>\n",
       "    </tr>\n",
       "    <tr>\n",
       "      <th>4</th>\n",
       "      <td>4</td>\n",
       "      <td>1</td>\n",
       "      <td>1</td>\n",
       "      <td>0.878</td>\n",
       "      <td>0.619</td>\n",
       "      <td>-5.560</td>\n",
       "      <td>1</td>\n",
       "      <td>0.1020</td>\n",
       "      <td>0.0533</td>\n",
       "      <td>0.00</td>\n",
       "      <td>...</td>\n",
       "      <td>0</td>\n",
       "      <td>0</td>\n",
       "      <td>0</td>\n",
       "      <td>0</td>\n",
       "      <td>1</td>\n",
       "      <td>0</td>\n",
       "      <td>0</td>\n",
       "      <td>0</td>\n",
       "      <td>0</td>\n",
       "      <td>0</td>\n",
       "    </tr>\n",
       "  </tbody>\n",
       "</table>\n",
       "<p>5 rows × 26 columns</p>\n",
       "</div>"
      ],
      "text/plain": [
       "   Unnamed: 0 popularity  track.track_number  danceability  energy  loudness  \\\n",
       "0           0          1                   1         0.759   0.548    -6.049   \n",
       "1           1          1                   2         0.701   0.425   -10.965   \n",
       "2           2          1                  12         0.755   0.522    -4.368   \n",
       "3           3          1                  10         0.778   0.317   -10.732   \n",
       "4           4          1                   1         0.878   0.619    -5.560   \n",
       "\n",
       "   mode  speechiness  acousticness  instrumentalness  ...  key_1  key_2  \\\n",
       "0     0       0.0290        0.0392              0.00  ...      0      0   \n",
       "1     1       0.3750        0.3280              0.13  ...      0      0   \n",
       "2     1       0.0575        0.5330              0.00  ...      0      1   \n",
       "3     0       0.3340        0.5920              0.00  ...      1      0   \n",
       "4     1       0.1020        0.0533              0.00  ...      0      0   \n",
       "\n",
       "   key_4  key_5  key_6  key_7  key_8  key_9  key_10  key_11  \n",
       "0      0      0      0      0      0      1       0       0  \n",
       "1      0      0      0      1      0      0       0       0  \n",
       "2      0      0      0      0      0      0       0       0  \n",
       "3      0      0      0      0      0      0       0       0  \n",
       "4      0      0      1      0      0      0       0       0  \n",
       "\n",
       "[5 rows x 26 columns]"
      ]
     },
     "execution_count": 50,
     "metadata": {},
     "output_type": "execute_result"
    }
   ],
   "source": [
    "df_2019_final[\"key\"] = df_2019_final[\"key\"].astype(\"category\")\n",
    "df_2019_final = pd.get_dummies(df_2019_final, columns=[\"key\"])\n",
    "df_2019_final.head()"
   ]
  },
  {
   "cell_type": "code",
   "execution_count": 51,
   "metadata": {},
   "outputs": [
    {
     "data": {
      "text/html": [
       "<div>\n",
       "<style scoped>\n",
       "    .dataframe tbody tr th:only-of-type {\n",
       "        vertical-align: middle;\n",
       "    }\n",
       "\n",
       "    .dataframe tbody tr th {\n",
       "        vertical-align: top;\n",
       "    }\n",
       "\n",
       "    .dataframe thead th {\n",
       "        text-align: right;\n",
       "    }\n",
       "</style>\n",
       "<table border=\"1\" class=\"dataframe\">\n",
       "  <thead>\n",
       "    <tr style=\"text-align: right;\">\n",
       "      <th></th>\n",
       "      <th>Unnamed: 0</th>\n",
       "      <th>popularity</th>\n",
       "      <th>track.track_number</th>\n",
       "      <th>danceability</th>\n",
       "      <th>energy</th>\n",
       "      <th>loudness</th>\n",
       "      <th>mode</th>\n",
       "      <th>speechiness</th>\n",
       "      <th>acousticness</th>\n",
       "      <th>instrumentalness</th>\n",
       "      <th>...</th>\n",
       "      <th>key_2</th>\n",
       "      <th>key_4</th>\n",
       "      <th>key_5</th>\n",
       "      <th>key_6</th>\n",
       "      <th>key_7</th>\n",
       "      <th>key_8</th>\n",
       "      <th>key_9</th>\n",
       "      <th>key_10</th>\n",
       "      <th>key_11</th>\n",
       "      <th>time_signature_4</th>\n",
       "    </tr>\n",
       "  </thead>\n",
       "  <tbody>\n",
       "    <tr>\n",
       "      <th>0</th>\n",
       "      <td>0</td>\n",
       "      <td>1</td>\n",
       "      <td>1</td>\n",
       "      <td>0.759</td>\n",
       "      <td>0.548</td>\n",
       "      <td>-6.049</td>\n",
       "      <td>0</td>\n",
       "      <td>0.0290</td>\n",
       "      <td>0.0392</td>\n",
       "      <td>0.00</td>\n",
       "      <td>...</td>\n",
       "      <td>0</td>\n",
       "      <td>0</td>\n",
       "      <td>0</td>\n",
       "      <td>0</td>\n",
       "      <td>0</td>\n",
       "      <td>0</td>\n",
       "      <td>1</td>\n",
       "      <td>0</td>\n",
       "      <td>0</td>\n",
       "      <td>1</td>\n",
       "    </tr>\n",
       "    <tr>\n",
       "      <th>1</th>\n",
       "      <td>1</td>\n",
       "      <td>1</td>\n",
       "      <td>2</td>\n",
       "      <td>0.701</td>\n",
       "      <td>0.425</td>\n",
       "      <td>-10.965</td>\n",
       "      <td>1</td>\n",
       "      <td>0.3750</td>\n",
       "      <td>0.3280</td>\n",
       "      <td>0.13</td>\n",
       "      <td>...</td>\n",
       "      <td>0</td>\n",
       "      <td>0</td>\n",
       "      <td>0</td>\n",
       "      <td>0</td>\n",
       "      <td>1</td>\n",
       "      <td>0</td>\n",
       "      <td>0</td>\n",
       "      <td>0</td>\n",
       "      <td>0</td>\n",
       "      <td>1</td>\n",
       "    </tr>\n",
       "    <tr>\n",
       "      <th>2</th>\n",
       "      <td>2</td>\n",
       "      <td>1</td>\n",
       "      <td>12</td>\n",
       "      <td>0.755</td>\n",
       "      <td>0.522</td>\n",
       "      <td>-4.368</td>\n",
       "      <td>1</td>\n",
       "      <td>0.0575</td>\n",
       "      <td>0.5330</td>\n",
       "      <td>0.00</td>\n",
       "      <td>...</td>\n",
       "      <td>1</td>\n",
       "      <td>0</td>\n",
       "      <td>0</td>\n",
       "      <td>0</td>\n",
       "      <td>0</td>\n",
       "      <td>0</td>\n",
       "      <td>0</td>\n",
       "      <td>0</td>\n",
       "      <td>0</td>\n",
       "      <td>1</td>\n",
       "    </tr>\n",
       "    <tr>\n",
       "      <th>3</th>\n",
       "      <td>3</td>\n",
       "      <td>1</td>\n",
       "      <td>10</td>\n",
       "      <td>0.778</td>\n",
       "      <td>0.317</td>\n",
       "      <td>-10.732</td>\n",
       "      <td>0</td>\n",
       "      <td>0.3340</td>\n",
       "      <td>0.5920</td>\n",
       "      <td>0.00</td>\n",
       "      <td>...</td>\n",
       "      <td>0</td>\n",
       "      <td>0</td>\n",
       "      <td>0</td>\n",
       "      <td>0</td>\n",
       "      <td>0</td>\n",
       "      <td>0</td>\n",
       "      <td>0</td>\n",
       "      <td>0</td>\n",
       "      <td>0</td>\n",
       "      <td>1</td>\n",
       "    </tr>\n",
       "    <tr>\n",
       "      <th>4</th>\n",
       "      <td>4</td>\n",
       "      <td>1</td>\n",
       "      <td>1</td>\n",
       "      <td>0.878</td>\n",
       "      <td>0.619</td>\n",
       "      <td>-5.560</td>\n",
       "      <td>1</td>\n",
       "      <td>0.1020</td>\n",
       "      <td>0.0533</td>\n",
       "      <td>0.00</td>\n",
       "      <td>...</td>\n",
       "      <td>0</td>\n",
       "      <td>0</td>\n",
       "      <td>0</td>\n",
       "      <td>1</td>\n",
       "      <td>0</td>\n",
       "      <td>0</td>\n",
       "      <td>0</td>\n",
       "      <td>0</td>\n",
       "      <td>0</td>\n",
       "      <td>1</td>\n",
       "    </tr>\n",
       "  </tbody>\n",
       "</table>\n",
       "<p>5 rows × 26 columns</p>\n",
       "</div>"
      ],
      "text/plain": [
       "   Unnamed: 0 popularity  track.track_number  danceability  energy  loudness  \\\n",
       "0           0          1                   1         0.759   0.548    -6.049   \n",
       "1           1          1                   2         0.701   0.425   -10.965   \n",
       "2           2          1                  12         0.755   0.522    -4.368   \n",
       "3           3          1                  10         0.778   0.317   -10.732   \n",
       "4           4          1                   1         0.878   0.619    -5.560   \n",
       "\n",
       "   mode  speechiness  acousticness  instrumentalness  ...  key_2  key_4  \\\n",
       "0     0       0.0290        0.0392              0.00  ...      0      0   \n",
       "1     1       0.3750        0.3280              0.13  ...      0      0   \n",
       "2     1       0.0575        0.5330              0.00  ...      1      0   \n",
       "3     0       0.3340        0.5920              0.00  ...      0      0   \n",
       "4     1       0.1020        0.0533              0.00  ...      0      0   \n",
       "\n",
       "   key_5  key_6  key_7  key_8  key_9  key_10  key_11  time_signature_4  \n",
       "0      0      0      0      0      1       0       0                 1  \n",
       "1      0      0      1      0      0       0       0                 1  \n",
       "2      0      0      0      0      0       0       0                 1  \n",
       "3      0      0      0      0      0       0       0                 1  \n",
       "4      0      1      0      0      0       0       0                 1  \n",
       "\n",
       "[5 rows x 26 columns]"
      ]
     },
     "execution_count": 51,
     "metadata": {},
     "output_type": "execute_result"
    }
   ],
   "source": [
    "df_2019_final[\"time_signature\"] = df_2019_final[\"time_signature\"].astype(\"category\")\n",
    "df_2019_final = pd.get_dummies(df_2019_final, columns=[\"time_signature\"])\n",
    "df_2019_final.head()"
   ]
  },
  {
   "cell_type": "code",
   "execution_count": 52,
   "metadata": {},
   "outputs": [],
   "source": [
    "def change_datatype(var):\n",
    "    df_2019_final[var] = df_2019_final[var].astype(int)\n",
    "    \n",
    "columns= [\"key_1\",\"key_1\",\"key_2\",\n",
    "         \"key_4\",\"key_5\",\"key_6\",\"key_7\",\"key_8\",\"key_9\",\"key_10\",\"key_11\",\"time_signature_4\"]\n",
    "for column in columns:\n",
    "    change_datatype(column)\n",
    "    "
   ]
  },
  {
   "cell_type": "code",
   "execution_count": 53,
   "metadata": {},
   "outputs": [],
   "source": [
    "def load_data():\n",
    "    \n",
    "    y = df_2019_final[\"popularity\"].values\n",
    "    X = df_2019_final.drop([\"popularity\"],axis=1)\n",
    "    return X,y\n",
    "X,y =load_data()\n",
    "\n",
    "feature_cols = X.columns.to_list()"
   ]
  },
  {
   "cell_type": "markdown",
   "metadata": {},
   "source": [
    "#### There is not a great  linear correlations in our data So, Decision Tree algorithms will give  better results as compared to linear regression models. Therfore using  Random Forest \n",
    " "
   ]
  },
  {
   "cell_type": "code",
   "execution_count": 54,
   "metadata": {},
   "outputs": [
    {
     "name": "stdout",
     "output_type": "stream",
     "text": [
      "X_train:  (20, 25)\n",
      "X_test:  (30, 25)\n",
      "y_train:  (20,)\n",
      "y_test:  (30,)\n"
     ]
    }
   ],
   "source": [
    "\n",
    "#x_data=X\n",
    "X,y = load_data()\n",
    "X_train, X_test, y_train, y_test = train_test_split(X,y,test_size = 0.6)\n",
    "# X_train = X_train.T\n",
    "# X_test = X_test.T\n",
    "X_train=X_train[:None]\n",
    "X_test=X_test[:None]\n",
    "y_train = y_train.astype(int).T\n",
    "y_test = y_test.astype(int).T\n",
    "print(\"X_train: \",X_train.shape)\n",
    "print(\"X_test: \",X_test.shape)\n",
    "print(\"y_train: \",y_train.shape)\n",
    "print(\"y_test: \",y_test.shape)\n"
   ]
  },
  {
   "cell_type": "code",
   "execution_count": 55,
   "metadata": {},
   "outputs": [
    {
     "data": {
      "image/png": "[encoded data removed]",
      "text/plain": [
       "<Figure size 432x288 with 1 Axes>"
      ]
     },
     "metadata": {
      "needs_background": "light"
     },
     "output_type": "display_data"
    }
   ],
   "source": [
    "def plot_impfeature():\n",
    "    xgb = XGBClassifier()\n",
    "    xgb.fit(X_train, y_train)\n",
    "    ax = plot_importance(xgb,color=\"r\", height=0.15,\n",
    "                         title='  Features Importance ', xlabel='Feature score', ylabel='Features',\n",
    "                         importance_type='weight'\n",
    "                        )\n",
    "\n",
    "    return plt.show()\n",
    "\n",
    "\n",
    "plot_impfeature()"
   ]
  },
  {
   "cell_type": "markdown",
   "metadata": {},
   "source": [
    "##### The above graph assure that :\n",
    "-  Our proposed ranked features turned out to be  most important for this data  \n",
    "-  Example: we calculated features like :dancebility ,energy,loudness ets of most importance.And hence thus turned out true."
   ]
  },
  {
   "cell_type": "code",
   "execution_count": 56,
   "metadata": {},
   "outputs": [
    {
     "name": "stdout",
     "output_type": "stream",
     "text": [
      "Train accuracy  1.0\n",
      "Test accuracy  0.9333333333333333\n"
     ]
    }
   ],
   "source": [
    "rf=RandomForestClassifier(random_state = 3)\n",
    "rf.fit(X_train,y_train)\n",
    "\n",
    "print(\"Train accuracy \",rf.score(X_train,y_train))\n",
    "print(\"Test accuracy \",rf.score(X_test,y_test))\n",
    "\n",
    "RandomForestClassifier_score=rf.score(X_test,y_test)\n",
    "y_pred=rf.predict(X_test)\n",
    "t_true=y_test"
   ]
  },
  {
   "cell_type": "code",
   "execution_count": null,
   "metadata": {},
   "outputs": [],
   "source": []
  },
  {
   "cell_type": "code",
   "execution_count": null,
   "metadata": {},
   "outputs": [],
   "source": []
  },
  {
   "cell_type": "code",
   "execution_count": null,
   "metadata": {},
   "outputs": [],
   "source": []
  },
  {
   "cell_type": "code",
   "execution_count": null,
   "metadata": {},
   "outputs": [],
   "source": []
  }
 ],
 "metadata": {
  "kernelspec": {
   "display_name": "Python 3",
   "language": "python",
   "name": "python3"
  },
  "language_info": {
   "codemirror_mode": {
    "name": "ipython",
    "version": 3
   },
   "file_extension": ".py",
   "mimetype": "text/x-python",
   "name": "python",
   "nbconvert_exporter": "python",
   "pygments_lexer": "ipython3",
   "version": "3.7.6"
  }
 },
 "nbformat": 4,
 "nbformat_minor": 2
}
