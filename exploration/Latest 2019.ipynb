{
 "cells": [
  {
   "cell_type": "code",
   "execution_count": 1,
   "metadata": {},
   "outputs": [
    {
     "data": {
      "text/html": [
       "        <script type=\"text/javascript\">\n",
       "        window.PlotlyConfig = {MathJaxConfig: 'local'};\n",
       "        if (window.MathJax) {MathJax.Hub.Config({SVG: {font: \"STIX-Web\"}});}\n",
       "        if (typeof require !== 'undefined') {\n",
       "        require.undef(\"plotly\");\n",
       "        requirejs.config({\n",
       "            paths: {\n",
       "                'plotly': ['https://cdn.plot.ly/plotly-latest.min']\n",
       "            }\n",
       "        });\n",
       "        require(['plotly'], function(Plotly) {\n",
       "            window._Plotly = Plotly;\n",
       "        });\n",
       "        }\n",
       "        </script>\n",
       "        "
      ]
     },
     "metadata": {},
     "output_type": "display_data"
    }
   ],
   "source": [
    "import pandas as pd\n",
    "import numpy as np\n",
    "import seaborn as sns\n",
    "from matplotlib import pyplot as plt\n",
    "%matplotlib inline\n",
    "from textblob import TextBlob\n",
    "from sklearn.model_selection import train_test_split\n",
    "\n",
    "from xgboost import XGBClassifier\n",
    "from sklearn.ensemble import RandomForestClassifier\n",
    "from xgboost import plot_importance\n",
    "from sklearn.preprocessing import MinMaxScaler\n",
    "from sklearn.decomposition import PCA\n",
    "\n",
    "import plotly.offline as py\n",
    "py.init_notebook_mode(connected=True)\n",
    "import plotly.graph_objs as go\n",
    "import plotly.tools as tls\n",
    "from sklearn.manifold import TSNE\n",
    "import time\n",
    "\n"
   ]
  },
  {
   "cell_type": "markdown",
   "metadata": {},
   "source": [
    "# Load the data"
   ]
  },
  {
   "cell_type": "code",
   "execution_count": 2,
   "metadata": {},
   "outputs": [],
   "source": [
    "year='../data/datasetsFinalaizedForEDA/datasets_top50-2019.csv'\n",
    "df_new=pd.read_csv('../data/intermediate datasets-ToBeUsedForRanking/df_2019_new.csv')\n",
    "new_dataframe_name=\"../data/intermediate datasets-ToBeUsedForRanking/df_2019_new.csv\"\n",
    "\n"
   ]
  },
  {
   "cell_type": "code",
   "execution_count": 3,
   "metadata": {},
   "outputs": [],
   "source": [
    "def load(year):\n",
    "    df=pd.read_csv(year,encoding='latin-1')\n",
    "    return df\n",
    "\n",
    "#df_2019=pd.read_csv('../data/datasets_top50-2019.csv',encoding='latin-1')\n"
   ]
  },
  {
   "cell_type": "code",
   "execution_count": 4,
   "metadata": {},
   "outputs": [
    {
     "data": {
      "text/html": [
       "<div>\n",
       "<style scoped>\n",
       "    .dataframe tbody tr th:only-of-type {\n",
       "        vertical-align: middle;\n",
       "    }\n",
       "\n",
       "    .dataframe tbody tr th {\n",
       "        vertical-align: top;\n",
       "    }\n",
       "\n",
       "    .dataframe thead th {\n",
       "        text-align: right;\n",
       "    }\n",
       "</style>\n",
       "<table border=\"1\" class=\"dataframe\">\n",
       "  <thead>\n",
       "    <tr style=\"text-align: right;\">\n",
       "      <th></th>\n",
       "      <th>id</th>\n",
       "      <th>name</th>\n",
       "      <th>popularity</th>\n",
       "      <th>track.track_number</th>\n",
       "      <th>danceability</th>\n",
       "      <th>energy</th>\n",
       "      <th>key</th>\n",
       "      <th>loudness</th>\n",
       "      <th>mode</th>\n",
       "      <th>speechiness</th>\n",
       "      <th>acousticness</th>\n",
       "      <th>instrumentalness</th>\n",
       "      <th>liveness</th>\n",
       "      <th>valence</th>\n",
       "      <th>tempo</th>\n",
       "      <th>duration_ms</th>\n",
       "      <th>time_signature</th>\n",
       "      <th>artists</th>\n",
       "    </tr>\n",
       "  </thead>\n",
       "  <tbody>\n",
       "    <tr>\n",
       "      <th>0</th>\n",
       "      <td>6v3KW9xbzN5yKLt9YKDYA2</td>\n",
       "      <td>SeÃ±orita</td>\n",
       "      <td>83</td>\n",
       "      <td>1</td>\n",
       "      <td>0.759</td>\n",
       "      <td>0.548</td>\n",
       "      <td>9</td>\n",
       "      <td>-6.049</td>\n",
       "      <td>0</td>\n",
       "      <td>0.0290</td>\n",
       "      <td>0.03920</td>\n",
       "      <td>0.000000</td>\n",
       "      <td>0.0828</td>\n",
       "      <td>0.749</td>\n",
       "      <td>116.967</td>\n",
       "      <td>190800</td>\n",
       "      <td>4</td>\n",
       "      <td>Shawn Mendes</td>\n",
       "    </tr>\n",
       "    <tr>\n",
       "      <th>1</th>\n",
       "      <td>2Fxmhks0bxGSBdJ92vM42m</td>\n",
       "      <td>bad guy</td>\n",
       "      <td>90</td>\n",
       "      <td>2</td>\n",
       "      <td>0.701</td>\n",
       "      <td>0.425</td>\n",
       "      <td>7</td>\n",
       "      <td>-10.965</td>\n",
       "      <td>1</td>\n",
       "      <td>0.3750</td>\n",
       "      <td>0.32800</td>\n",
       "      <td>0.130000</td>\n",
       "      <td>0.1000</td>\n",
       "      <td>0.562</td>\n",
       "      <td>135.128</td>\n",
       "      <td>194088</td>\n",
       "      <td>4</td>\n",
       "      <td>Billie Eilish</td>\n",
       "    </tr>\n",
       "    <tr>\n",
       "      <th>2</th>\n",
       "      <td>0RiRZpuVRbi7oqRdSMwhQY</td>\n",
       "      <td>Sunflower - Spider-Man: Into the Spider-Verse</td>\n",
       "      <td>83</td>\n",
       "      <td>12</td>\n",
       "      <td>0.755</td>\n",
       "      <td>0.522</td>\n",
       "      <td>2</td>\n",
       "      <td>-4.368</td>\n",
       "      <td>1</td>\n",
       "      <td>0.0575</td>\n",
       "      <td>0.53300</td>\n",
       "      <td>0.000000</td>\n",
       "      <td>0.0685</td>\n",
       "      <td>0.925</td>\n",
       "      <td>89.960</td>\n",
       "      <td>157560</td>\n",
       "      <td>4</td>\n",
       "      <td>Post Malone</td>\n",
       "    </tr>\n",
       "    <tr>\n",
       "      <th>3</th>\n",
       "      <td>6ocbgoVGwYJhOv1GgI9NsF</td>\n",
       "      <td>7 rings</td>\n",
       "      <td>86</td>\n",
       "      <td>10</td>\n",
       "      <td>0.778</td>\n",
       "      <td>0.317</td>\n",
       "      <td>1</td>\n",
       "      <td>-10.732</td>\n",
       "      <td>0</td>\n",
       "      <td>0.3340</td>\n",
       "      <td>0.59200</td>\n",
       "      <td>0.000000</td>\n",
       "      <td>0.0881</td>\n",
       "      <td>0.327</td>\n",
       "      <td>140.048</td>\n",
       "      <td>178627</td>\n",
       "      <td>4</td>\n",
       "      <td>Ariana Grande</td>\n",
       "    </tr>\n",
       "    <tr>\n",
       "      <th>4</th>\n",
       "      <td>2YpeDb67231RjR0MgVLzsG</td>\n",
       "      <td>Old Town Road - Remix</td>\n",
       "      <td>85</td>\n",
       "      <td>1</td>\n",
       "      <td>0.878</td>\n",
       "      <td>0.619</td>\n",
       "      <td>6</td>\n",
       "      <td>-5.560</td>\n",
       "      <td>1</td>\n",
       "      <td>0.1020</td>\n",
       "      <td>0.05330</td>\n",
       "      <td>0.000000</td>\n",
       "      <td>0.1130</td>\n",
       "      <td>0.639</td>\n",
       "      <td>136.041</td>\n",
       "      <td>157067</td>\n",
       "      <td>4</td>\n",
       "      <td>Lil Nas X</td>\n",
       "    </tr>\n",
       "    <tr>\n",
       "      <th>5</th>\n",
       "      <td>0hVXuCcriWRGvwMV1r5Yn9</td>\n",
       "      <td>I Don't Care (with Justin Bieber)</td>\n",
       "      <td>80</td>\n",
       "      <td>6</td>\n",
       "      <td>0.798</td>\n",
       "      <td>0.676</td>\n",
       "      <td>6</td>\n",
       "      <td>-5.041</td>\n",
       "      <td>1</td>\n",
       "      <td>0.0442</td>\n",
       "      <td>0.09020</td>\n",
       "      <td>0.000000</td>\n",
       "      <td>0.0894</td>\n",
       "      <td>0.843</td>\n",
       "      <td>101.956</td>\n",
       "      <td>219947</td>\n",
       "      <td>4</td>\n",
       "      <td>Ed Sheeran</td>\n",
       "    </tr>\n",
       "    <tr>\n",
       "      <th>6</th>\n",
       "      <td>7xQAfvXzm3AkraOtGPWIZg</td>\n",
       "      <td>Wow.</td>\n",
       "      <td>84</td>\n",
       "      <td>17</td>\n",
       "      <td>0.829</td>\n",
       "      <td>0.539</td>\n",
       "      <td>11</td>\n",
       "      <td>-7.359</td>\n",
       "      <td>0</td>\n",
       "      <td>0.2080</td>\n",
       "      <td>0.13600</td>\n",
       "      <td>0.000002</td>\n",
       "      <td>0.1030</td>\n",
       "      <td>0.388</td>\n",
       "      <td>99.960</td>\n",
       "      <td>149547</td>\n",
       "      <td>4</td>\n",
       "      <td>Post Malone</td>\n",
       "    </tr>\n",
       "    <tr>\n",
       "      <th>7</th>\n",
       "      <td>7qEHsqek33rTcFNT9PFqLf</td>\n",
       "      <td>Someone You Loved</td>\n",
       "      <td>91</td>\n",
       "      <td>4</td>\n",
       "      <td>0.501</td>\n",
       "      <td>0.405</td>\n",
       "      <td>1</td>\n",
       "      <td>-5.679</td>\n",
       "      <td>1</td>\n",
       "      <td>0.0319</td>\n",
       "      <td>0.75100</td>\n",
       "      <td>0.000000</td>\n",
       "      <td>0.1050</td>\n",
       "      <td>0.446</td>\n",
       "      <td>109.891</td>\n",
       "      <td>182161</td>\n",
       "      <td>4</td>\n",
       "      <td>Lewis Capaldi</td>\n",
       "    </tr>\n",
       "    <tr>\n",
       "      <th>8</th>\n",
       "      <td>5w9c2J52mkdntKOmRLeM2m</td>\n",
       "      <td>Con Calma</td>\n",
       "      <td>83</td>\n",
       "      <td>1</td>\n",
       "      <td>0.737</td>\n",
       "      <td>0.860</td>\n",
       "      <td>8</td>\n",
       "      <td>-2.652</td>\n",
       "      <td>0</td>\n",
       "      <td>0.0593</td>\n",
       "      <td>0.11000</td>\n",
       "      <td>0.000002</td>\n",
       "      <td>0.0574</td>\n",
       "      <td>0.656</td>\n",
       "      <td>93.989</td>\n",
       "      <td>193227</td>\n",
       "      <td>4</td>\n",
       "      <td>Daddy Yankee</td>\n",
       "    </tr>\n",
       "    <tr>\n",
       "      <th>9</th>\n",
       "      <td>2VxeLyX666F8uXCJ0dZF8B</td>\n",
       "      <td>Shallow</td>\n",
       "      <td>85</td>\n",
       "      <td>12</td>\n",
       "      <td>0.572</td>\n",
       "      <td>0.385</td>\n",
       "      <td>7</td>\n",
       "      <td>-6.362</td>\n",
       "      <td>1</td>\n",
       "      <td>0.0308</td>\n",
       "      <td>0.37100</td>\n",
       "      <td>0.000000</td>\n",
       "      <td>0.2310</td>\n",
       "      <td>0.323</td>\n",
       "      <td>95.799</td>\n",
       "      <td>215733</td>\n",
       "      <td>4</td>\n",
       "      <td>Lady Gaga</td>\n",
       "    </tr>\n",
       "    <tr>\n",
       "      <th>10</th>\n",
       "      <td>2dpaYNEQHiRxtZbfNsse99</td>\n",
       "      <td>Happier</td>\n",
       "      <td>86</td>\n",
       "      <td>1</td>\n",
       "      <td>0.687</td>\n",
       "      <td>0.792</td>\n",
       "      <td>5</td>\n",
       "      <td>-2.749</td>\n",
       "      <td>1</td>\n",
       "      <td>0.0452</td>\n",
       "      <td>0.19100</td>\n",
       "      <td>0.000000</td>\n",
       "      <td>0.1670</td>\n",
       "      <td>0.671</td>\n",
       "      <td>100.015</td>\n",
       "      <td>214290</td>\n",
       "      <td>4</td>\n",
       "      <td>Marshmello</td>\n",
       "    </tr>\n",
       "    <tr>\n",
       "      <th>11</th>\n",
       "      <td>5p7ujcrUXASCNwRaWNHR1C</td>\n",
       "      <td>Without Me</td>\n",
       "      <td>83</td>\n",
       "      <td>1</td>\n",
       "      <td>0.752</td>\n",
       "      <td>0.488</td>\n",
       "      <td>6</td>\n",
       "      <td>-7.050</td>\n",
       "      <td>1</td>\n",
       "      <td>0.0705</td>\n",
       "      <td>0.29700</td>\n",
       "      <td>0.000009</td>\n",
       "      <td>0.0936</td>\n",
       "      <td>0.533</td>\n",
       "      <td>136.041</td>\n",
       "      <td>201661</td>\n",
       "      <td>4</td>\n",
       "      <td>Halsey</td>\n",
       "    </tr>\n",
       "    <tr>\n",
       "      <th>12</th>\n",
       "      <td>5iwz1NiezX7WWjnCgY5TH4</td>\n",
       "      <td>Calma - Remix</td>\n",
       "      <td>82</td>\n",
       "      <td>1</td>\n",
       "      <td>0.826</td>\n",
       "      <td>0.773</td>\n",
       "      <td>11</td>\n",
       "      <td>-4.218</td>\n",
       "      <td>0</td>\n",
       "      <td>0.0524</td>\n",
       "      <td>0.32300</td>\n",
       "      <td>0.000000</td>\n",
       "      <td>0.1430</td>\n",
       "      <td>0.761</td>\n",
       "      <td>126.899</td>\n",
       "      <td>238200</td>\n",
       "      <td>4</td>\n",
       "      <td>Pedro CapÃ³</td>\n",
       "    </tr>\n",
       "    <tr>\n",
       "      <th>13</th>\n",
       "      <td>3e9HZxeyfWwjeyPAMmWSSQ</td>\n",
       "      <td>thank u, next</td>\n",
       "      <td>84</td>\n",
       "      <td>11</td>\n",
       "      <td>0.717</td>\n",
       "      <td>0.653</td>\n",
       "      <td>1</td>\n",
       "      <td>-5.634</td>\n",
       "      <td>1</td>\n",
       "      <td>0.0658</td>\n",
       "      <td>0.22900</td>\n",
       "      <td>0.000000</td>\n",
       "      <td>0.1010</td>\n",
       "      <td>0.412</td>\n",
       "      <td>106.966</td>\n",
       "      <td>207320</td>\n",
       "      <td>4</td>\n",
       "      <td>Ariana Grande</td>\n",
       "    </tr>\n",
       "    <tr>\n",
       "      <th>14</th>\n",
       "      <td>22vgEDb5hykfaTwLuskFGD</td>\n",
       "      <td>Sucker</td>\n",
       "      <td>84</td>\n",
       "      <td>1</td>\n",
       "      <td>0.842</td>\n",
       "      <td>0.734</td>\n",
       "      <td>1</td>\n",
       "      <td>-5.065</td>\n",
       "      <td>0</td>\n",
       "      <td>0.0588</td>\n",
       "      <td>0.04270</td>\n",
       "      <td>0.000000</td>\n",
       "      <td>0.1060</td>\n",
       "      <td>0.952</td>\n",
       "      <td>137.958</td>\n",
       "      <td>181027</td>\n",
       "      <td>4</td>\n",
       "      <td>Jonas Brothers</td>\n",
       "    </tr>\n",
       "    <tr>\n",
       "      <th>15</th>\n",
       "      <td>25sgk305KZfyuqVBQIahim</td>\n",
       "      <td>Sweet but Psycho</td>\n",
       "      <td>85</td>\n",
       "      <td>1</td>\n",
       "      <td>0.719</td>\n",
       "      <td>0.704</td>\n",
       "      <td>1</td>\n",
       "      <td>-4.724</td>\n",
       "      <td>1</td>\n",
       "      <td>0.0476</td>\n",
       "      <td>0.06910</td>\n",
       "      <td>0.000000</td>\n",
       "      <td>0.1660</td>\n",
       "      <td>0.628</td>\n",
       "      <td>133.002</td>\n",
       "      <td>187436</td>\n",
       "      <td>4</td>\n",
       "      <td>Ava Max</td>\n",
       "    </tr>\n",
       "    <tr>\n",
       "      <th>16</th>\n",
       "      <td>6Qs4SXO9dwPj5GKvVOv8Ki</td>\n",
       "      <td>Dancing With A Stranger (with Normani)</td>\n",
       "      <td>84</td>\n",
       "      <td>1</td>\n",
       "      <td>0.741</td>\n",
       "      <td>0.520</td>\n",
       "      <td>8</td>\n",
       "      <td>-7.513</td>\n",
       "      <td>1</td>\n",
       "      <td>0.0656</td>\n",
       "      <td>0.45000</td>\n",
       "      <td>0.000002</td>\n",
       "      <td>0.2220</td>\n",
       "      <td>0.347</td>\n",
       "      <td>102.998</td>\n",
       "      <td>171030</td>\n",
       "      <td>4</td>\n",
       "      <td>Sam Smith</td>\n",
       "    </tr>\n",
       "    <tr>\n",
       "      <th>17</th>\n",
       "      <td>4SSnFejRGlZikf02HLewEF</td>\n",
       "      <td>bury a friend</td>\n",
       "      <td>81</td>\n",
       "      <td>10</td>\n",
       "      <td>0.905</td>\n",
       "      <td>0.389</td>\n",
       "      <td>8</td>\n",
       "      <td>-14.505</td>\n",
       "      <td>1</td>\n",
       "      <td>0.3320</td>\n",
       "      <td>0.74000</td>\n",
       "      <td>0.162000</td>\n",
       "      <td>0.1060</td>\n",
       "      <td>0.196</td>\n",
       "      <td>120.046</td>\n",
       "      <td>193143</td>\n",
       "      <td>4</td>\n",
       "      <td>Billie Eilish</td>\n",
       "    </tr>\n",
       "    <tr>\n",
       "      <th>18</th>\n",
       "      <td>0F7FA14euOIX8KcbEturGH</td>\n",
       "      <td>Old Town Road</td>\n",
       "      <td>80</td>\n",
       "      <td>8</td>\n",
       "      <td>0.907</td>\n",
       "      <td>0.530</td>\n",
       "      <td>1</td>\n",
       "      <td>-6.112</td>\n",
       "      <td>1</td>\n",
       "      <td>0.1270</td>\n",
       "      <td>0.05780</td>\n",
       "      <td>0.000002</td>\n",
       "      <td>0.1010</td>\n",
       "      <td>0.507</td>\n",
       "      <td>135.998</td>\n",
       "      <td>113000</td>\n",
       "      <td>4</td>\n",
       "      <td>Lil Nas X</td>\n",
       "    </tr>\n",
       "    <tr>\n",
       "      <th>19</th>\n",
       "      <td>6TqXcAFInzjp0bODyvrWEq</td>\n",
       "      <td>Talk (feat. Disclosure)</td>\n",
       "      <td>78</td>\n",
       "      <td>5</td>\n",
       "      <td>0.901</td>\n",
       "      <td>0.400</td>\n",
       "      <td>0</td>\n",
       "      <td>-8.575</td>\n",
       "      <td>1</td>\n",
       "      <td>0.1260</td>\n",
       "      <td>0.05100</td>\n",
       "      <td>0.000000</td>\n",
       "      <td>0.0599</td>\n",
       "      <td>0.346</td>\n",
       "      <td>135.984</td>\n",
       "      <td>197573</td>\n",
       "      <td>4</td>\n",
       "      <td>Khalid</td>\n",
       "    </tr>\n",
       "    <tr>\n",
       "      <th>20</th>\n",
       "      <td>43zdsphuZLzwA9k4DJhU0I</td>\n",
       "      <td>when the party's over</td>\n",
       "      <td>86</td>\n",
       "      <td>7</td>\n",
       "      <td>0.367</td>\n",
       "      <td>0.111</td>\n",
       "      <td>4</td>\n",
       "      <td>-14.084</td>\n",
       "      <td>1</td>\n",
       "      <td>0.0972</td>\n",
       "      <td>0.97800</td>\n",
       "      <td>0.000040</td>\n",
       "      <td>0.0897</td>\n",
       "      <td>0.198</td>\n",
       "      <td>82.642</td>\n",
       "      <td>196077</td>\n",
       "      <td>4</td>\n",
       "      <td>Billie Eilish</td>\n",
       "    </tr>\n",
       "    <tr>\n",
       "      <th>21</th>\n",
       "      <td>70eFcWOvlMObDhURTqT4Fv</td>\n",
       "      <td>Beautiful People (feat. Khalid)</td>\n",
       "      <td>79</td>\n",
       "      <td>1</td>\n",
       "      <td>0.640</td>\n",
       "      <td>0.647</td>\n",
       "      <td>5</td>\n",
       "      <td>-8.114</td>\n",
       "      <td>0</td>\n",
       "      <td>0.1860</td>\n",
       "      <td>0.12400</td>\n",
       "      <td>0.000000</td>\n",
       "      <td>0.0801</td>\n",
       "      <td>0.546</td>\n",
       "      <td>92.979</td>\n",
       "      <td>197867</td>\n",
       "      <td>4</td>\n",
       "      <td>Ed Sheeran</td>\n",
       "    </tr>\n",
       "    <tr>\n",
       "      <th>22</th>\n",
       "      <td>1rgnBhdG2JDFTbYkYRZAku</td>\n",
       "      <td>Dance Monkey</td>\n",
       "      <td>71</td>\n",
       "      <td>1</td>\n",
       "      <td>0.825</td>\n",
       "      <td>0.593</td>\n",
       "      <td>6</td>\n",
       "      <td>-6.401</td>\n",
       "      <td>0</td>\n",
       "      <td>0.0988</td>\n",
       "      <td>0.68800</td>\n",
       "      <td>0.000161</td>\n",
       "      <td>0.1700</td>\n",
       "      <td>0.540</td>\n",
       "      <td>98.078</td>\n",
       "      <td>209755</td>\n",
       "      <td>4</td>\n",
       "      <td>Tones And I</td>\n",
       "    </tr>\n",
       "    <tr>\n",
       "      <th>23</th>\n",
       "      <td>4kV4N9D1iKVxx1KLvtTpjS</td>\n",
       "      <td>break up with your girlfriend, i'm bored</td>\n",
       "      <td>80</td>\n",
       "      <td>12</td>\n",
       "      <td>0.726</td>\n",
       "      <td>0.554</td>\n",
       "      <td>5</td>\n",
       "      <td>-5.290</td>\n",
       "      <td>0</td>\n",
       "      <td>0.0917</td>\n",
       "      <td>0.04210</td>\n",
       "      <td>0.000000</td>\n",
       "      <td>0.1060</td>\n",
       "      <td>0.335</td>\n",
       "      <td>169.999</td>\n",
       "      <td>190440</td>\n",
       "      <td>4</td>\n",
       "      <td>Ariana Grande</td>\n",
       "    </tr>\n",
       "    <tr>\n",
       "      <th>24</th>\n",
       "      <td>2JvzF1RMd7lE3KmFlsyZD8</td>\n",
       "      <td>MIDDLE CHILD</td>\n",
       "      <td>82</td>\n",
       "      <td>1</td>\n",
       "      <td>0.837</td>\n",
       "      <td>0.364</td>\n",
       "      <td>8</td>\n",
       "      <td>-11.713</td>\n",
       "      <td>1</td>\n",
       "      <td>0.2760</td>\n",
       "      <td>0.14900</td>\n",
       "      <td>0.000000</td>\n",
       "      <td>0.2710</td>\n",
       "      <td>0.463</td>\n",
       "      <td>123.984</td>\n",
       "      <td>213594</td>\n",
       "      <td>4</td>\n",
       "      <td>J. Cole</td>\n",
       "    </tr>\n",
       "    <tr>\n",
       "      <th>25</th>\n",
       "      <td>6vBdBCoOhKHiYDDOcorfNo</td>\n",
       "      <td>Goodbyes (Feat. Young Thug)</td>\n",
       "      <td>13</td>\n",
       "      <td>1</td>\n",
       "      <td>0.580</td>\n",
       "      <td>0.653</td>\n",
       "      <td>5</td>\n",
       "      <td>-3.818</td>\n",
       "      <td>1</td>\n",
       "      <td>0.0745</td>\n",
       "      <td>0.44700</td>\n",
       "      <td>0.000000</td>\n",
       "      <td>0.1110</td>\n",
       "      <td>0.175</td>\n",
       "      <td>150.231</td>\n",
       "      <td>174960</td>\n",
       "      <td>4</td>\n",
       "      <td>Post Malone</td>\n",
       "    </tr>\n",
       "    <tr>\n",
       "      <th>26</th>\n",
       "      <td>1rqqCSm0Qe4I9rUvWncaom</td>\n",
       "      <td>High Hopes</td>\n",
       "      <td>84</td>\n",
       "      <td>4</td>\n",
       "      <td>0.579</td>\n",
       "      <td>0.904</td>\n",
       "      <td>5</td>\n",
       "      <td>-2.729</td>\n",
       "      <td>1</td>\n",
       "      <td>0.0618</td>\n",
       "      <td>0.19300</td>\n",
       "      <td>0.000000</td>\n",
       "      <td>0.0640</td>\n",
       "      <td>0.681</td>\n",
       "      <td>82.014</td>\n",
       "      <td>190947</td>\n",
       "      <td>4</td>\n",
       "      <td>Panic! At The Disco</td>\n",
       "    </tr>\n",
       "    <tr>\n",
       "      <th>27</th>\n",
       "      <td>0KoiMHhqKLoL4xM54rcWYY</td>\n",
       "      <td>Taki Taki (feat. Selena Gomez, Ozuna &amp; Cardi B)</td>\n",
       "      <td>72</td>\n",
       "      <td>11</td>\n",
       "      <td>0.842</td>\n",
       "      <td>0.801</td>\n",
       "      <td>8</td>\n",
       "      <td>-4.167</td>\n",
       "      <td>0</td>\n",
       "      <td>0.2280</td>\n",
       "      <td>0.15700</td>\n",
       "      <td>0.000005</td>\n",
       "      <td>0.0642</td>\n",
       "      <td>0.617</td>\n",
       "      <td>95.881</td>\n",
       "      <td>212500</td>\n",
       "      <td>4</td>\n",
       "      <td>DJ Snake</td>\n",
       "    </tr>\n",
       "    <tr>\n",
       "      <th>28</th>\n",
       "      <td>1lOe9qE0vR9zwWQAOk6CoO</td>\n",
       "      <td>Ransom</td>\n",
       "      <td>86</td>\n",
       "      <td>1</td>\n",
       "      <td>0.745</td>\n",
       "      <td>0.642</td>\n",
       "      <td>7</td>\n",
       "      <td>-6.257</td>\n",
       "      <td>0</td>\n",
       "      <td>0.2870</td>\n",
       "      <td>0.02040</td>\n",
       "      <td>0.000000</td>\n",
       "      <td>0.0658</td>\n",
       "      <td>0.226</td>\n",
       "      <td>179.974</td>\n",
       "      <td>131240</td>\n",
       "      <td>4</td>\n",
       "      <td>Lil Tecca</td>\n",
       "    </tr>\n",
       "    <tr>\n",
       "      <th>29</th>\n",
       "      <td>0u2P5u6lvoDfwTYjAADbn4</td>\n",
       "      <td>lovely (with Khalid)</td>\n",
       "      <td>88</td>\n",
       "      <td>1</td>\n",
       "      <td>0.351</td>\n",
       "      <td>0.296</td>\n",
       "      <td>4</td>\n",
       "      <td>-10.109</td>\n",
       "      <td>0</td>\n",
       "      <td>0.0333</td>\n",
       "      <td>0.93400</td>\n",
       "      <td>0.000000</td>\n",
       "      <td>0.0950</td>\n",
       "      <td>0.120</td>\n",
       "      <td>115.284</td>\n",
       "      <td>200186</td>\n",
       "      <td>4</td>\n",
       "      <td>Billie Eilish</td>\n",
       "    </tr>\n",
       "    <tr>\n",
       "      <th>30</th>\n",
       "      <td>2xLMifQCjDGFmkHkpNLD9h</td>\n",
       "      <td>SICKO MODE</td>\n",
       "      <td>90</td>\n",
       "      <td>3</td>\n",
       "      <td>0.834</td>\n",
       "      <td>0.730</td>\n",
       "      <td>8</td>\n",
       "      <td>-3.714</td>\n",
       "      <td>1</td>\n",
       "      <td>0.2220</td>\n",
       "      <td>0.00513</td>\n",
       "      <td>0.000000</td>\n",
       "      <td>0.1240</td>\n",
       "      <td>0.446</td>\n",
       "      <td>155.008</td>\n",
       "      <td>312820</td>\n",
       "      <td>4</td>\n",
       "      <td>Travis Scott</td>\n",
       "    </tr>\n",
       "    <tr>\n",
       "      <th>31</th>\n",
       "      <td>2IRZnDFmlqMuOrYOLnZZyc</td>\n",
       "      <td>Going Bad (feat. Drake)</td>\n",
       "      <td>82</td>\n",
       "      <td>9</td>\n",
       "      <td>0.889</td>\n",
       "      <td>0.496</td>\n",
       "      <td>4</td>\n",
       "      <td>-6.365</td>\n",
       "      <td>0</td>\n",
       "      <td>0.0905</td>\n",
       "      <td>0.25900</td>\n",
       "      <td>0.000000</td>\n",
       "      <td>0.2520</td>\n",
       "      <td>0.544</td>\n",
       "      <td>86.003</td>\n",
       "      <td>180522</td>\n",
       "      <td>4</td>\n",
       "      <td>Meek Mill</td>\n",
       "    </tr>\n",
       "    <tr>\n",
       "      <th>32</th>\n",
       "      <td>5WHTFyqSii0lmT9R21abT8</td>\n",
       "      <td>Don't Call Me Up</td>\n",
       "      <td>82</td>\n",
       "      <td>1</td>\n",
       "      <td>0.674</td>\n",
       "      <td>0.881</td>\n",
       "      <td>9</td>\n",
       "      <td>-2.853</td>\n",
       "      <td>1</td>\n",
       "      <td>0.1470</td>\n",
       "      <td>0.29600</td>\n",
       "      <td>0.000003</td>\n",
       "      <td>0.0793</td>\n",
       "      <td>0.234</td>\n",
       "      <td>98.994</td>\n",
       "      <td>178480</td>\n",
       "      <td>4</td>\n",
       "      <td>Mabel</td>\n",
       "    </tr>\n",
       "    <tr>\n",
       "      <th>33</th>\n",
       "      <td>2TH65lNHgvLxCKXM3apjxI</td>\n",
       "      <td>Callaita</td>\n",
       "      <td>84</td>\n",
       "      <td>1</td>\n",
       "      <td>0.610</td>\n",
       "      <td>0.624</td>\n",
       "      <td>2</td>\n",
       "      <td>-4.773</td>\n",
       "      <td>1</td>\n",
       "      <td>0.3090</td>\n",
       "      <td>0.60000</td>\n",
       "      <td>0.000002</td>\n",
       "      <td>0.2430</td>\n",
       "      <td>0.244</td>\n",
       "      <td>176.169</td>\n",
       "      <td>250534</td>\n",
       "      <td>4</td>\n",
       "      <td>Bad Bunny</td>\n",
       "    </tr>\n",
       "    <tr>\n",
       "      <th>34</th>\n",
       "      <td>116H0KvKr2Zl4RPuVBruDO</td>\n",
       "      <td>MIA (feat. Drake)</td>\n",
       "      <td>80</td>\n",
       "      <td>1</td>\n",
       "      <td>0.817</td>\n",
       "      <td>0.539</td>\n",
       "      <td>6</td>\n",
       "      <td>-6.349</td>\n",
       "      <td>0</td>\n",
       "      <td>0.0621</td>\n",
       "      <td>0.01410</td>\n",
       "      <td>0.000496</td>\n",
       "      <td>0.0990</td>\n",
       "      <td>0.158</td>\n",
       "      <td>97.062</td>\n",
       "      <td>210368</td>\n",
       "      <td>4</td>\n",
       "      <td>Bad Bunny</td>\n",
       "    </tr>\n",
       "    <tr>\n",
       "      <th>35</th>\n",
       "      <td>5qmq61DAAOUaW8AUo8xKhh</td>\n",
       "      <td>Truth Hurts</td>\n",
       "      <td>73</td>\n",
       "      <td>13</td>\n",
       "      <td>0.715</td>\n",
       "      <td>0.624</td>\n",
       "      <td>4</td>\n",
       "      <td>-3.046</td>\n",
       "      <td>0</td>\n",
       "      <td>0.1140</td>\n",
       "      <td>0.11000</td>\n",
       "      <td>0.000000</td>\n",
       "      <td>0.1230</td>\n",
       "      <td>0.412</td>\n",
       "      <td>158.087</td>\n",
       "      <td>173325</td>\n",
       "      <td>4</td>\n",
       "      <td>Lizzo</td>\n",
       "    </tr>\n",
       "    <tr>\n",
       "      <th>36</th>\n",
       "      <td>7FGq80cy8juXBCD2nrqdWU</td>\n",
       "      <td>Eastside (with Halsey &amp; Khalid)</td>\n",
       "      <td>75</td>\n",
       "      <td>1</td>\n",
       "      <td>0.632</td>\n",
       "      <td>0.686</td>\n",
       "      <td>6</td>\n",
       "      <td>-7.665</td>\n",
       "      <td>0</td>\n",
       "      <td>0.2430</td>\n",
       "      <td>0.54900</td>\n",
       "      <td>0.000000</td>\n",
       "      <td>0.2000</td>\n",
       "      <td>0.329</td>\n",
       "      <td>89.949</td>\n",
       "      <td>170770</td>\n",
       "      <td>4</td>\n",
       "      <td>benny blanco</td>\n",
       "    </tr>\n",
       "    <tr>\n",
       "      <th>37</th>\n",
       "      <td>4u7EnebtmKWzUH433cf5Qv</td>\n",
       "      <td>Bohemian Rhapsody - 2011 Mix</td>\n",
       "      <td>82</td>\n",
       "      <td>11</td>\n",
       "      <td>0.414</td>\n",
       "      <td>0.404</td>\n",
       "      <td>0</td>\n",
       "      <td>-9.928</td>\n",
       "      <td>0</td>\n",
       "      <td>0.0499</td>\n",
       "      <td>0.27100</td>\n",
       "      <td>0.000000</td>\n",
       "      <td>0.3000</td>\n",
       "      <td>0.224</td>\n",
       "      <td>71.105</td>\n",
       "      <td>354320</td>\n",
       "      <td>4</td>\n",
       "      <td>Queen</td>\n",
       "    </tr>\n",
       "    <tr>\n",
       "      <th>38</th>\n",
       "      <td>5W83ErFkO3aKAIS1WMi6u0</td>\n",
       "      <td>Secreto</td>\n",
       "      <td>76</td>\n",
       "      <td>1</td>\n",
       "      <td>0.807</td>\n",
       "      <td>0.803</td>\n",
       "      <td>11</td>\n",
       "      <td>-4.156</td>\n",
       "      <td>1</td>\n",
       "      <td>0.1260</td>\n",
       "      <td>0.60200</td>\n",
       "      <td>0.008530</td>\n",
       "      <td>0.1360</td>\n",
       "      <td>0.706</td>\n",
       "      <td>91.987</td>\n",
       "      <td>258800</td>\n",
       "      <td>4</td>\n",
       "      <td>Anuel AA</td>\n",
       "    </tr>\n",
       "    <tr>\n",
       "      <th>39</th>\n",
       "      <td>2ksOAxtIxY8yElEWw8RhgK</td>\n",
       "      <td>China</td>\n",
       "      <td>84</td>\n",
       "      <td>1</td>\n",
       "      <td>0.786</td>\n",
       "      <td>0.808</td>\n",
       "      <td>7</td>\n",
       "      <td>-3.702</td>\n",
       "      <td>1</td>\n",
       "      <td>0.0882</td>\n",
       "      <td>0.08460</td>\n",
       "      <td>0.000289</td>\n",
       "      <td>0.0822</td>\n",
       "      <td>0.609</td>\n",
       "      <td>105.027</td>\n",
       "      <td>301714</td>\n",
       "      <td>4</td>\n",
       "      <td>Anuel AA</td>\n",
       "    </tr>\n",
       "    <tr>\n",
       "      <th>40</th>\n",
       "      <td>2bT1PH7Cw3J9p3t7nlXCdh</td>\n",
       "      <td>If I Can't Have You</td>\n",
       "      <td>75</td>\n",
       "      <td>3</td>\n",
       "      <td>0.691</td>\n",
       "      <td>0.823</td>\n",
       "      <td>2</td>\n",
       "      <td>-4.197</td>\n",
       "      <td>1</td>\n",
       "      <td>0.0623</td>\n",
       "      <td>0.48700</td>\n",
       "      <td>0.000000</td>\n",
       "      <td>0.1340</td>\n",
       "      <td>0.870</td>\n",
       "      <td>123.935</td>\n",
       "      <td>191467</td>\n",
       "      <td>4</td>\n",
       "      <td>Shawn Mendes</td>\n",
       "    </tr>\n",
       "    <tr>\n",
       "      <th>41</th>\n",
       "      <td>1Ej96GIBCTvgH7tNX1r3qr</td>\n",
       "      <td>Otro Trago</td>\n",
       "      <td>78</td>\n",
       "      <td>3</td>\n",
       "      <td>0.747</td>\n",
       "      <td>0.700</td>\n",
       "      <td>0</td>\n",
       "      <td>-4.669</td>\n",
       "      <td>1</td>\n",
       "      <td>0.3410</td>\n",
       "      <td>0.13600</td>\n",
       "      <td>0.000167</td>\n",
       "      <td>0.1100</td>\n",
       "      <td>0.620</td>\n",
       "      <td>176.036</td>\n",
       "      <td>225933</td>\n",
       "      <td>4</td>\n",
       "      <td>Sech</td>\n",
       "    </tr>\n",
       "    <tr>\n",
       "      <th>42</th>\n",
       "      <td>7COXchtUOMd6uIT6HvmRaI</td>\n",
       "      <td>i'm so tired...</td>\n",
       "      <td>37</td>\n",
       "      <td>1</td>\n",
       "      <td>0.599</td>\n",
       "      <td>0.733</td>\n",
       "      <td>11</td>\n",
       "      <td>-7.058</td>\n",
       "      <td>1</td>\n",
       "      <td>0.2030</td>\n",
       "      <td>0.17600</td>\n",
       "      <td>0.000000</td>\n",
       "      <td>0.2420</td>\n",
       "      <td>0.534</td>\n",
       "      <td>102.211</td>\n",
       "      <td>162583</td>\n",
       "      <td>4</td>\n",
       "      <td>Lauv</td>\n",
       "    </tr>\n",
       "    <tr>\n",
       "      <th>43</th>\n",
       "      <td>1DFD5Fotzgn6yYXkYsKiGs</td>\n",
       "      <td>Piece Of Your Heart</td>\n",
       "      <td>84</td>\n",
       "      <td>1</td>\n",
       "      <td>0.677</td>\n",
       "      <td>0.744</td>\n",
       "      <td>10</td>\n",
       "      <td>-6.806</td>\n",
       "      <td>0</td>\n",
       "      <td>0.0295</td>\n",
       "      <td>0.04040</td>\n",
       "      <td>0.000160</td>\n",
       "      <td>0.0740</td>\n",
       "      <td>0.631</td>\n",
       "      <td>124.080</td>\n",
       "      <td>152913</td>\n",
       "      <td>4</td>\n",
       "      <td>MEDUZA</td>\n",
       "    </tr>\n",
       "    <tr>\n",
       "      <th>44</th>\n",
       "      <td>2x0RZdkZcD8QRI53XT4GI5</td>\n",
       "      <td>SOS (feat. Aloe Blacc)</td>\n",
       "      <td>79</td>\n",
       "      <td>3</td>\n",
       "      <td>0.802</td>\n",
       "      <td>0.645</td>\n",
       "      <td>5</td>\n",
       "      <td>-6.181</td>\n",
       "      <td>0</td>\n",
       "      <td>0.0715</td>\n",
       "      <td>0.27200</td>\n",
       "      <td>0.000000</td>\n",
       "      <td>0.1190</td>\n",
       "      <td>0.376</td>\n",
       "      <td>100.001</td>\n",
       "      <td>157202</td>\n",
       "      <td>4</td>\n",
       "      <td>Avicii</td>\n",
       "    </tr>\n",
       "    <tr>\n",
       "      <th>45</th>\n",
       "      <td>7dt6x5M1jzdTEt8oCbisTK</td>\n",
       "      <td>Better Now</td>\n",
       "      <td>84</td>\n",
       "      <td>9</td>\n",
       "      <td>0.680</td>\n",
       "      <td>0.578</td>\n",
       "      <td>10</td>\n",
       "      <td>-5.804</td>\n",
       "      <td>1</td>\n",
       "      <td>0.0400</td>\n",
       "      <td>0.33100</td>\n",
       "      <td>0.000000</td>\n",
       "      <td>0.1350</td>\n",
       "      <td>0.341</td>\n",
       "      <td>145.038</td>\n",
       "      <td>231267</td>\n",
       "      <td>4</td>\n",
       "      <td>Post Malone</td>\n",
       "    </tr>\n",
       "    <tr>\n",
       "      <th>46</th>\n",
       "      <td>4t9a07PAghtQMRAIP9FQ7Z</td>\n",
       "      <td>Soltera - Remix</td>\n",
       "      <td>72</td>\n",
       "      <td>7</td>\n",
       "      <td>0.795</td>\n",
       "      <td>0.783</td>\n",
       "      <td>5</td>\n",
       "      <td>-4.271</td>\n",
       "      <td>1</td>\n",
       "      <td>0.0432</td>\n",
       "      <td>0.36100</td>\n",
       "      <td>0.000000</td>\n",
       "      <td>0.4370</td>\n",
       "      <td>0.799</td>\n",
       "      <td>92.010</td>\n",
       "      <td>266087</td>\n",
       "      <td>4</td>\n",
       "      <td>Lunay</td>\n",
       "    </tr>\n",
       "    <tr>\n",
       "      <th>47</th>\n",
       "      <td>132ALUzVLmqYB4UsBj5qD6</td>\n",
       "      <td>Adan y Eva</td>\n",
       "      <td>71</td>\n",
       "      <td>4</td>\n",
       "      <td>0.767</td>\n",
       "      <td>0.709</td>\n",
       "      <td>1</td>\n",
       "      <td>-4.470</td>\n",
       "      <td>1</td>\n",
       "      <td>0.3360</td>\n",
       "      <td>0.32300</td>\n",
       "      <td>0.000000</td>\n",
       "      <td>0.0745</td>\n",
       "      <td>0.720</td>\n",
       "      <td>171.993</td>\n",
       "      <td>256972</td>\n",
       "      <td>4</td>\n",
       "      <td>Paulo Londra</td>\n",
       "    </tr>\n",
       "    <tr>\n",
       "      <th>48</th>\n",
       "      <td>2qxmye6gAegTMjLKEBoR3d</td>\n",
       "      <td>Let Me Down Slowly</td>\n",
       "      <td>84</td>\n",
       "      <td>4</td>\n",
       "      <td>0.652</td>\n",
       "      <td>0.557</td>\n",
       "      <td>1</td>\n",
       "      <td>-5.714</td>\n",
       "      <td>0</td>\n",
       "      <td>0.0318</td>\n",
       "      <td>0.74000</td>\n",
       "      <td>0.000000</td>\n",
       "      <td>0.1240</td>\n",
       "      <td>0.483</td>\n",
       "      <td>150.073</td>\n",
       "      <td>169354</td>\n",
       "      <td>4</td>\n",
       "      <td>Alec Benjamin</td>\n",
       "    </tr>\n",
       "    <tr>\n",
       "      <th>49</th>\n",
       "      <td>0e7ipj03S05BNilyu5bRzt</td>\n",
       "      <td>rockstar (feat. 21 Savage)</td>\n",
       "      <td>86</td>\n",
       "      <td>6</td>\n",
       "      <td>0.585</td>\n",
       "      <td>0.520</td>\n",
       "      <td>5</td>\n",
       "      <td>-6.136</td>\n",
       "      <td>0</td>\n",
       "      <td>0.0712</td>\n",
       "      <td>0.12400</td>\n",
       "      <td>0.000070</td>\n",
       "      <td>0.1310</td>\n",
       "      <td>0.129</td>\n",
       "      <td>159.801</td>\n",
       "      <td>218147</td>\n",
       "      <td>4</td>\n",
       "      <td>Post Malone</td>\n",
       "    </tr>\n",
       "  </tbody>\n",
       "</table>\n",
       "</div>"
      ],
      "text/plain": [
       "                        id                                             name  \\\n",
       "0   6v3KW9xbzN5yKLt9YKDYA2                                        SeÃ±orita   \n",
       "1   2Fxmhks0bxGSBdJ92vM42m                                          bad guy   \n",
       "2   0RiRZpuVRbi7oqRdSMwhQY    Sunflower - Spider-Man: Into the Spider-Verse   \n",
       "3   6ocbgoVGwYJhOv1GgI9NsF                                          7 rings   \n",
       "4   2YpeDb67231RjR0MgVLzsG                            Old Town Road - Remix   \n",
       "5   0hVXuCcriWRGvwMV1r5Yn9                I Don't Care (with Justin Bieber)   \n",
       "6   7xQAfvXzm3AkraOtGPWIZg                                             Wow.   \n",
       "7   7qEHsqek33rTcFNT9PFqLf                                Someone You Loved   \n",
       "8   5w9c2J52mkdntKOmRLeM2m                                        Con Calma   \n",
       "9   2VxeLyX666F8uXCJ0dZF8B                                          Shallow   \n",
       "10  2dpaYNEQHiRxtZbfNsse99                                          Happier   \n",
       "11  5p7ujcrUXASCNwRaWNHR1C                                       Without Me   \n",
       "12  5iwz1NiezX7WWjnCgY5TH4                                    Calma - Remix   \n",
       "13  3e9HZxeyfWwjeyPAMmWSSQ                                    thank u, next   \n",
       "14  22vgEDb5hykfaTwLuskFGD                                           Sucker   \n",
       "15  25sgk305KZfyuqVBQIahim                                 Sweet but Psycho   \n",
       "16  6Qs4SXO9dwPj5GKvVOv8Ki           Dancing With A Stranger (with Normani)   \n",
       "17  4SSnFejRGlZikf02HLewEF                                    bury a friend   \n",
       "18  0F7FA14euOIX8KcbEturGH                                    Old Town Road   \n",
       "19  6TqXcAFInzjp0bODyvrWEq                          Talk (feat. Disclosure)   \n",
       "20  43zdsphuZLzwA9k4DJhU0I                            when the party's over   \n",
       "21  70eFcWOvlMObDhURTqT4Fv                  Beautiful People (feat. Khalid)   \n",
       "22  1rgnBhdG2JDFTbYkYRZAku                                     Dance Monkey   \n",
       "23  4kV4N9D1iKVxx1KLvtTpjS         break up with your girlfriend, i'm bored   \n",
       "24  2JvzF1RMd7lE3KmFlsyZD8                                     MIDDLE CHILD   \n",
       "25  6vBdBCoOhKHiYDDOcorfNo                      Goodbyes (Feat. Young Thug)   \n",
       "26  1rqqCSm0Qe4I9rUvWncaom                                       High Hopes   \n",
       "27  0KoiMHhqKLoL4xM54rcWYY  Taki Taki (feat. Selena Gomez, Ozuna & Cardi B)   \n",
       "28  1lOe9qE0vR9zwWQAOk6CoO                                           Ransom   \n",
       "29  0u2P5u6lvoDfwTYjAADbn4                             lovely (with Khalid)   \n",
       "30  2xLMifQCjDGFmkHkpNLD9h                                       SICKO MODE   \n",
       "31  2IRZnDFmlqMuOrYOLnZZyc                          Going Bad (feat. Drake)   \n",
       "32  5WHTFyqSii0lmT9R21abT8                                 Don't Call Me Up   \n",
       "33  2TH65lNHgvLxCKXM3apjxI                                         Callaita   \n",
       "34  116H0KvKr2Zl4RPuVBruDO                                MIA (feat. Drake)   \n",
       "35  5qmq61DAAOUaW8AUo8xKhh                                      Truth Hurts   \n",
       "36  7FGq80cy8juXBCD2nrqdWU                  Eastside (with Halsey & Khalid)   \n",
       "37  4u7EnebtmKWzUH433cf5Qv                     Bohemian Rhapsody - 2011 Mix   \n",
       "38  5W83ErFkO3aKAIS1WMi6u0                                          Secreto   \n",
       "39  2ksOAxtIxY8yElEWw8RhgK                                            China   \n",
       "40  2bT1PH7Cw3J9p3t7nlXCdh                              If I Can't Have You   \n",
       "41  1Ej96GIBCTvgH7tNX1r3qr                                       Otro Trago   \n",
       "42  7COXchtUOMd6uIT6HvmRaI                                  i'm so tired...   \n",
       "43  1DFD5Fotzgn6yYXkYsKiGs                              Piece Of Your Heart   \n",
       "44  2x0RZdkZcD8QRI53XT4GI5                           SOS (feat. Aloe Blacc)   \n",
       "45  7dt6x5M1jzdTEt8oCbisTK                                       Better Now   \n",
       "46  4t9a07PAghtQMRAIP9FQ7Z                                  Soltera - Remix   \n",
       "47  132ALUzVLmqYB4UsBj5qD6                                       Adan y Eva   \n",
       "48  2qxmye6gAegTMjLKEBoR3d                               Let Me Down Slowly   \n",
       "49  0e7ipj03S05BNilyu5bRzt                       rockstar (feat. 21 Savage)   \n",
       "\n",
       "    popularity  track.track_number  danceability  energy  key  loudness  mode  \\\n",
       "0           83                   1         0.759   0.548    9    -6.049     0   \n",
       "1           90                   2         0.701   0.425    7   -10.965     1   \n",
       "2           83                  12         0.755   0.522    2    -4.368     1   \n",
       "3           86                  10         0.778   0.317    1   -10.732     0   \n",
       "4           85                   1         0.878   0.619    6    -5.560     1   \n",
       "5           80                   6         0.798   0.676    6    -5.041     1   \n",
       "6           84                  17         0.829   0.539   11    -7.359     0   \n",
       "7           91                   4         0.501   0.405    1    -5.679     1   \n",
       "8           83                   1         0.737   0.860    8    -2.652     0   \n",
       "9           85                  12         0.572   0.385    7    -6.362     1   \n",
       "10          86                   1         0.687   0.792    5    -2.749     1   \n",
       "11          83                   1         0.752   0.488    6    -7.050     1   \n",
       "12          82                   1         0.826   0.773   11    -4.218     0   \n",
       "13          84                  11         0.717   0.653    1    -5.634     1   \n",
       "14          84                   1         0.842   0.734    1    -5.065     0   \n",
       "15          85                   1         0.719   0.704    1    -4.724     1   \n",
       "16          84                   1         0.741   0.520    8    -7.513     1   \n",
       "17          81                  10         0.905   0.389    8   -14.505     1   \n",
       "18          80                   8         0.907   0.530    1    -6.112     1   \n",
       "19          78                   5         0.901   0.400    0    -8.575     1   \n",
       "20          86                   7         0.367   0.111    4   -14.084     1   \n",
       "21          79                   1         0.640   0.647    5    -8.114     0   \n",
       "22          71                   1         0.825   0.593    6    -6.401     0   \n",
       "23          80                  12         0.726   0.554    5    -5.290     0   \n",
       "24          82                   1         0.837   0.364    8   -11.713     1   \n",
       "25          13                   1         0.580   0.653    5    -3.818     1   \n",
       "26          84                   4         0.579   0.904    5    -2.729     1   \n",
       "27          72                  11         0.842   0.801    8    -4.167     0   \n",
       "28          86                   1         0.745   0.642    7    -6.257     0   \n",
       "29          88                   1         0.351   0.296    4   -10.109     0   \n",
       "30          90                   3         0.834   0.730    8    -3.714     1   \n",
       "31          82                   9         0.889   0.496    4    -6.365     0   \n",
       "32          82                   1         0.674   0.881    9    -2.853     1   \n",
       "33          84                   1         0.610   0.624    2    -4.773     1   \n",
       "34          80                   1         0.817   0.539    6    -6.349     0   \n",
       "35          73                  13         0.715   0.624    4    -3.046     0   \n",
       "36          75                   1         0.632   0.686    6    -7.665     0   \n",
       "37          82                  11         0.414   0.404    0    -9.928     0   \n",
       "38          76                   1         0.807   0.803   11    -4.156     1   \n",
       "39          84                   1         0.786   0.808    7    -3.702     1   \n",
       "40          75                   3         0.691   0.823    2    -4.197     1   \n",
       "41          78                   3         0.747   0.700    0    -4.669     1   \n",
       "42          37                   1         0.599   0.733   11    -7.058     1   \n",
       "43          84                   1         0.677   0.744   10    -6.806     0   \n",
       "44          79                   3         0.802   0.645    5    -6.181     0   \n",
       "45          84                   9         0.680   0.578   10    -5.804     1   \n",
       "46          72                   7         0.795   0.783    5    -4.271     1   \n",
       "47          71                   4         0.767   0.709    1    -4.470     1   \n",
       "48          84                   4         0.652   0.557    1    -5.714     0   \n",
       "49          86                   6         0.585   0.520    5    -6.136     0   \n",
       "\n",
       "    speechiness  acousticness  instrumentalness  liveness  valence    tempo  \\\n",
       "0        0.0290       0.03920          0.000000    0.0828    0.749  116.967   \n",
       "1        0.3750       0.32800          0.130000    0.1000    0.562  135.128   \n",
       "2        0.0575       0.53300          0.000000    0.0685    0.925   89.960   \n",
       "3        0.3340       0.59200          0.000000    0.0881    0.327  140.048   \n",
       "4        0.1020       0.05330          0.000000    0.1130    0.639  136.041   \n",
       "5        0.0442       0.09020          0.000000    0.0894    0.843  101.956   \n",
       "6        0.2080       0.13600          0.000002    0.1030    0.388   99.960   \n",
       "7        0.0319       0.75100          0.000000    0.1050    0.446  109.891   \n",
       "8        0.0593       0.11000          0.000002    0.0574    0.656   93.989   \n",
       "9        0.0308       0.37100          0.000000    0.2310    0.323   95.799   \n",
       "10       0.0452       0.19100          0.000000    0.1670    0.671  100.015   \n",
       "11       0.0705       0.29700          0.000009    0.0936    0.533  136.041   \n",
       "12       0.0524       0.32300          0.000000    0.1430    0.761  126.899   \n",
       "13       0.0658       0.22900          0.000000    0.1010    0.412  106.966   \n",
       "14       0.0588       0.04270          0.000000    0.1060    0.952  137.958   \n",
       "15       0.0476       0.06910          0.000000    0.1660    0.628  133.002   \n",
       "16       0.0656       0.45000          0.000002    0.2220    0.347  102.998   \n",
       "17       0.3320       0.74000          0.162000    0.1060    0.196  120.046   \n",
       "18       0.1270       0.05780          0.000002    0.1010    0.507  135.998   \n",
       "19       0.1260       0.05100          0.000000    0.0599    0.346  135.984   \n",
       "20       0.0972       0.97800          0.000040    0.0897    0.198   82.642   \n",
       "21       0.1860       0.12400          0.000000    0.0801    0.546   92.979   \n",
       "22       0.0988       0.68800          0.000161    0.1700    0.540   98.078   \n",
       "23       0.0917       0.04210          0.000000    0.1060    0.335  169.999   \n",
       "24       0.2760       0.14900          0.000000    0.2710    0.463  123.984   \n",
       "25       0.0745       0.44700          0.000000    0.1110    0.175  150.231   \n",
       "26       0.0618       0.19300          0.000000    0.0640    0.681   82.014   \n",
       "27       0.2280       0.15700          0.000005    0.0642    0.617   95.881   \n",
       "28       0.2870       0.02040          0.000000    0.0658    0.226  179.974   \n",
       "29       0.0333       0.93400          0.000000    0.0950    0.120  115.284   \n",
       "30       0.2220       0.00513          0.000000    0.1240    0.446  155.008   \n",
       "31       0.0905       0.25900          0.000000    0.2520    0.544   86.003   \n",
       "32       0.1470       0.29600          0.000003    0.0793    0.234   98.994   \n",
       "33       0.3090       0.60000          0.000002    0.2430    0.244  176.169   \n",
       "34       0.0621       0.01410          0.000496    0.0990    0.158   97.062   \n",
       "35       0.1140       0.11000          0.000000    0.1230    0.412  158.087   \n",
       "36       0.2430       0.54900          0.000000    0.2000    0.329   89.949   \n",
       "37       0.0499       0.27100          0.000000    0.3000    0.224   71.105   \n",
       "38       0.1260       0.60200          0.008530    0.1360    0.706   91.987   \n",
       "39       0.0882       0.08460          0.000289    0.0822    0.609  105.027   \n",
       "40       0.0623       0.48700          0.000000    0.1340    0.870  123.935   \n",
       "41       0.3410       0.13600          0.000167    0.1100    0.620  176.036   \n",
       "42       0.2030       0.17600          0.000000    0.2420    0.534  102.211   \n",
       "43       0.0295       0.04040          0.000160    0.0740    0.631  124.080   \n",
       "44       0.0715       0.27200          0.000000    0.1190    0.376  100.001   \n",
       "45       0.0400       0.33100          0.000000    0.1350    0.341  145.038   \n",
       "46       0.0432       0.36100          0.000000    0.4370    0.799   92.010   \n",
       "47       0.3360       0.32300          0.000000    0.0745    0.720  171.993   \n",
       "48       0.0318       0.74000          0.000000    0.1240    0.483  150.073   \n",
       "49       0.0712       0.12400          0.000070    0.1310    0.129  159.801   \n",
       "\n",
       "    duration_ms  time_signature              artists  \n",
       "0        190800               4         Shawn Mendes  \n",
       "1        194088               4        Billie Eilish  \n",
       "2        157560               4          Post Malone  \n",
       "3        178627               4        Ariana Grande  \n",
       "4        157067               4            Lil Nas X  \n",
       "5        219947               4           Ed Sheeran  \n",
       "6        149547               4          Post Malone  \n",
       "7        182161               4        Lewis Capaldi  \n",
       "8        193227               4         Daddy Yankee  \n",
       "9        215733               4            Lady Gaga  \n",
       "10       214290               4           Marshmello  \n",
       "11       201661               4               Halsey  \n",
       "12       238200               4          Pedro CapÃ³  \n",
       "13       207320               4        Ariana Grande  \n",
       "14       181027               4       Jonas Brothers  \n",
       "15       187436               4              Ava Max  \n",
       "16       171030               4            Sam Smith  \n",
       "17       193143               4        Billie Eilish  \n",
       "18       113000               4            Lil Nas X  \n",
       "19       197573               4               Khalid  \n",
       "20       196077               4        Billie Eilish  \n",
       "21       197867               4           Ed Sheeran  \n",
       "22       209755               4          Tones And I  \n",
       "23       190440               4        Ariana Grande  \n",
       "24       213594               4              J. Cole  \n",
       "25       174960               4          Post Malone  \n",
       "26       190947               4  Panic! At The Disco  \n",
       "27       212500               4             DJ Snake  \n",
       "28       131240               4            Lil Tecca  \n",
       "29       200186               4        Billie Eilish  \n",
       "30       312820               4         Travis Scott  \n",
       "31       180522               4            Meek Mill  \n",
       "32       178480               4                Mabel  \n",
       "33       250534               4            Bad Bunny  \n",
       "34       210368               4            Bad Bunny  \n",
       "35       173325               4                Lizzo  \n",
       "36       170770               4         benny blanco  \n",
       "37       354320               4                Queen  \n",
       "38       258800               4             Anuel AA  \n",
       "39       301714               4             Anuel AA  \n",
       "40       191467               4         Shawn Mendes  \n",
       "41       225933               4                 Sech  \n",
       "42       162583               4                 Lauv  \n",
       "43       152913               4               MEDUZA  \n",
       "44       157202               4               Avicii  \n",
       "45       231267               4          Post Malone  \n",
       "46       266087               4                Lunay  \n",
       "47       256972               4         Paulo Londra  \n",
       "48       169354               4        Alec Benjamin  \n",
       "49       218147               4          Post Malone  "
      ]
     },
     "execution_count": 4,
     "metadata": {},
     "output_type": "execute_result"
    }
   ],
   "source": [
    "load(year)"
   ]
  },
  {
   "cell_type": "code",
   "execution_count": 5,
   "metadata": {},
   "outputs": [],
   "source": [
    "df=load(year)"
   ]
  },
  {
   "cell_type": "markdown",
   "metadata": {},
   "source": [
    "# data properties"
   ]
  },
  {
   "cell_type": "code",
   "execution_count": 6,
   "metadata": {},
   "outputs": [],
   "source": [
    "def data_properties(year):\n",
    "    print(\"properties for year are as follows :\\n\")\n",
    "    print(\"column details:\\n\")\n",
    "    print(year.columns)\n",
    "    print(\"shape:\\n\")\n",
    "    print(year.shape)\n",
    "    print(\"info about dataset:\\n\")\n",
    "    print(year.info())\n",
    "    print(\"\\n\")\n"
   ]
  },
  {
   "cell_type": "code",
   "execution_count": 7,
   "metadata": {},
   "outputs": [
    {
     "name": "stdout",
     "output_type": "stream",
     "text": [
      "properties for year are as follows :\n",
      "\n",
      "column details:\n",
      "\n",
      "Index(['id', 'name', 'popularity', 'track.track_number', 'danceability',\n",
      "       'energy', 'key', 'loudness', 'mode', 'speechiness', 'acousticness',\n",
      "       'instrumentalness', 'liveness', 'valence', 'tempo', 'duration_ms',\n",
      "       'time_signature', 'artists'],\n",
      "      dtype='object')\n",
      "shape:\n",
      "\n",
      "(50, 18)\n",
      "info about dataset:\n",
      "\n",
      "<class 'pandas.core.frame.DataFrame'>\n",
      "RangeIndex: 50 entries, 0 to 49\n",
      "Data columns (total 18 columns):\n",
      " #   Column              Non-Null Count  Dtype  \n",
      "---  ------              --------------  -----  \n",
      " 0   id                  50 non-null     object \n",
      " 1   name                50 non-null     object \n",
      " 2   popularity          50 non-null     int64  \n",
      " 3   track.track_number  50 non-null     int64  \n",
      " 4   danceability        50 non-null     float64\n",
      " 5   energy              50 non-null     float64\n",
      " 6   key                 50 non-null     int64  \n",
      " 7   loudness            50 non-null     float64\n",
      " 8   mode                50 non-null     int64  \n",
      " 9   speechiness         50 non-null     float64\n",
      " 10  acousticness        50 non-null     float64\n",
      " 11  instrumentalness    50 non-null     float64\n",
      " 12  liveness            50 non-null     float64\n",
      " 13  valence             50 non-null     float64\n",
      " 14  tempo               50 non-null     float64\n",
      " 15  duration_ms         50 non-null     int64  \n",
      " 16  time_signature      50 non-null     int64  \n",
      " 17  artists             50 non-null     object \n",
      "dtypes: float64(9), int64(6), object(3)\n",
      "memory usage: 7.2+ KB\n",
      "None\n",
      "\n",
      "\n"
     ]
    }
   ],
   "source": [
    "data_properties(df)"
   ]
  },
  {
   "cell_type": "markdown",
   "metadata": {},
   "source": [
    "### Initial calculations on data"
   ]
  },
  {
   "cell_type": "markdown",
   "metadata": {},
   "source": [
    "#### checking if any value is null in the data "
   ]
  },
  {
   "cell_type": "code",
   "execution_count": 8,
   "metadata": {},
   "outputs": [],
   "source": [
    "def checkfornull(year):\n",
    "    print(\"cheking for null values......\")\n",
    "    print(year.columns[year.isnull().any()])\n",
    "    output=year.isnull().sum()\n",
    "    return output "
   ]
  },
  {
   "cell_type": "code",
   "execution_count": 9,
   "metadata": {},
   "outputs": [
    {
     "name": "stdout",
     "output_type": "stream",
     "text": [
      "cheking for null values......\n",
      "Index([], dtype='object')\n"
     ]
    },
    {
     "data": {
      "text/plain": [
       "id                    0\n",
       "name                  0\n",
       "popularity            0\n",
       "track.track_number    0\n",
       "danceability          0\n",
       "energy                0\n",
       "key                   0\n",
       "loudness              0\n",
       "mode                  0\n",
       "speechiness           0\n",
       "acousticness          0\n",
       "instrumentalness      0\n",
       "liveness              0\n",
       "valence               0\n",
       "tempo                 0\n",
       "duration_ms           0\n",
       "time_signature        0\n",
       "artists               0\n",
       "dtype: int64"
      ]
     },
     "execution_count": 9,
     "metadata": {},
     "output_type": "execute_result"
    }
   ],
   "source": [
    "checkfornull(df)"
   ]
  },
  {
   "cell_type": "markdown",
   "metadata": {},
   "source": [
    "#### convert the non float data to float data type"
   ]
  },
  {
   "cell_type": "code",
   "execution_count": 10,
   "metadata": {},
   "outputs": [],
   "source": [
    "# in the data we obsrve that all the data is not in float .So , in order to maintain a symetry,we will \n",
    "# convert the non float data to float data type\n",
    "\n",
    "def float_conversion(column,value):\n",
    "    column= pd.to_numeric(value, downcast=\"float\")\n",
    "    return column\n"
   ]
  },
  {
   "cell_type": "code",
   "execution_count": 11,
   "metadata": {},
   "outputs": [],
   "source": [
    "def execute_float_conversion():\n",
    "    float_conversion(df.mode,df[\"mode\"])\n",
    "    float_conversion(df.duration_ms,df[\"duration_ms\"])\n",
    "    float_conversion(df.time_signature,df[\"time_signature\"])\n",
    "    return df.head()\n"
   ]
  },
  {
   "cell_type": "code",
   "execution_count": 12,
   "metadata": {},
   "outputs": [
    {
     "data": {
      "text/html": [
       "<div>\n",
       "<style scoped>\n",
       "    .dataframe tbody tr th:only-of-type {\n",
       "        vertical-align: middle;\n",
       "    }\n",
       "\n",
       "    .dataframe tbody tr th {\n",
       "        vertical-align: top;\n",
       "    }\n",
       "\n",
       "    .dataframe thead th {\n",
       "        text-align: right;\n",
       "    }\n",
       "</style>\n",
       "<table border=\"1\" class=\"dataframe\">\n",
       "  <thead>\n",
       "    <tr style=\"text-align: right;\">\n",
       "      <th></th>\n",
       "      <th>id</th>\n",
       "      <th>name</th>\n",
       "      <th>popularity</th>\n",
       "      <th>track.track_number</th>\n",
       "      <th>danceability</th>\n",
       "      <th>energy</th>\n",
       "      <th>key</th>\n",
       "      <th>loudness</th>\n",
       "      <th>mode</th>\n",
       "      <th>speechiness</th>\n",
       "      <th>acousticness</th>\n",
       "      <th>instrumentalness</th>\n",
       "      <th>liveness</th>\n",
       "      <th>valence</th>\n",
       "      <th>tempo</th>\n",
       "      <th>duration_ms</th>\n",
       "      <th>time_signature</th>\n",
       "      <th>artists</th>\n",
       "    </tr>\n",
       "  </thead>\n",
       "  <tbody>\n",
       "    <tr>\n",
       "      <th>0</th>\n",
       "      <td>6v3KW9xbzN5yKLt9YKDYA2</td>\n",
       "      <td>SeÃ±orita</td>\n",
       "      <td>83</td>\n",
       "      <td>1</td>\n",
       "      <td>0.759</td>\n",
       "      <td>0.548</td>\n",
       "      <td>9</td>\n",
       "      <td>-6.049</td>\n",
       "      <td>0</td>\n",
       "      <td>0.0290</td>\n",
       "      <td>0.0392</td>\n",
       "      <td>0.00</td>\n",
       "      <td>0.0828</td>\n",
       "      <td>0.749</td>\n",
       "      <td>116.967</td>\n",
       "      <td>190800</td>\n",
       "      <td>4</td>\n",
       "      <td>Shawn Mendes</td>\n",
       "    </tr>\n",
       "    <tr>\n",
       "      <th>1</th>\n",
       "      <td>2Fxmhks0bxGSBdJ92vM42m</td>\n",
       "      <td>bad guy</td>\n",
       "      <td>90</td>\n",
       "      <td>2</td>\n",
       "      <td>0.701</td>\n",
       "      <td>0.425</td>\n",
       "      <td>7</td>\n",
       "      <td>-10.965</td>\n",
       "      <td>1</td>\n",
       "      <td>0.3750</td>\n",
       "      <td>0.3280</td>\n",
       "      <td>0.13</td>\n",
       "      <td>0.1000</td>\n",
       "      <td>0.562</td>\n",
       "      <td>135.128</td>\n",
       "      <td>194088</td>\n",
       "      <td>4</td>\n",
       "      <td>Billie Eilish</td>\n",
       "    </tr>\n",
       "    <tr>\n",
       "      <th>2</th>\n",
       "      <td>0RiRZpuVRbi7oqRdSMwhQY</td>\n",
       "      <td>Sunflower - Spider-Man: Into the Spider-Verse</td>\n",
       "      <td>83</td>\n",
       "      <td>12</td>\n",
       "      <td>0.755</td>\n",
       "      <td>0.522</td>\n",
       "      <td>2</td>\n",
       "      <td>-4.368</td>\n",
       "      <td>1</td>\n",
       "      <td>0.0575</td>\n",
       "      <td>0.5330</td>\n",
       "      <td>0.00</td>\n",
       "      <td>0.0685</td>\n",
       "      <td>0.925</td>\n",
       "      <td>89.960</td>\n",
       "      <td>157560</td>\n",
       "      <td>4</td>\n",
       "      <td>Post Malone</td>\n",
       "    </tr>\n",
       "    <tr>\n",
       "      <th>3</th>\n",
       "      <td>6ocbgoVGwYJhOv1GgI9NsF</td>\n",
       "      <td>7 rings</td>\n",
       "      <td>86</td>\n",
       "      <td>10</td>\n",
       "      <td>0.778</td>\n",
       "      <td>0.317</td>\n",
       "      <td>1</td>\n",
       "      <td>-10.732</td>\n",
       "      <td>0</td>\n",
       "      <td>0.3340</td>\n",
       "      <td>0.5920</td>\n",
       "      <td>0.00</td>\n",
       "      <td>0.0881</td>\n",
       "      <td>0.327</td>\n",
       "      <td>140.048</td>\n",
       "      <td>178627</td>\n",
       "      <td>4</td>\n",
       "      <td>Ariana Grande</td>\n",
       "    </tr>\n",
       "    <tr>\n",
       "      <th>4</th>\n",
       "      <td>2YpeDb67231RjR0MgVLzsG</td>\n",
       "      <td>Old Town Road - Remix</td>\n",
       "      <td>85</td>\n",
       "      <td>1</td>\n",
       "      <td>0.878</td>\n",
       "      <td>0.619</td>\n",
       "      <td>6</td>\n",
       "      <td>-5.560</td>\n",
       "      <td>1</td>\n",
       "      <td>0.1020</td>\n",
       "      <td>0.0533</td>\n",
       "      <td>0.00</td>\n",
       "      <td>0.1130</td>\n",
       "      <td>0.639</td>\n",
       "      <td>136.041</td>\n",
       "      <td>157067</td>\n",
       "      <td>4</td>\n",
       "      <td>Lil Nas X</td>\n",
       "    </tr>\n",
       "  </tbody>\n",
       "</table>\n",
       "</div>"
      ],
      "text/plain": [
       "                       id                                           name  \\\n",
       "0  6v3KW9xbzN5yKLt9YKDYA2                                      SeÃ±orita   \n",
       "1  2Fxmhks0bxGSBdJ92vM42m                                        bad guy   \n",
       "2  0RiRZpuVRbi7oqRdSMwhQY  Sunflower - Spider-Man: Into the Spider-Verse   \n",
       "3  6ocbgoVGwYJhOv1GgI9NsF                                        7 rings   \n",
       "4  2YpeDb67231RjR0MgVLzsG                          Old Town Road - Remix   \n",
       "\n",
       "   popularity  track.track_number  danceability  energy  key  loudness  mode  \\\n",
       "0          83                   1         0.759   0.548    9    -6.049     0   \n",
       "1          90                   2         0.701   0.425    7   -10.965     1   \n",
       "2          83                  12         0.755   0.522    2    -4.368     1   \n",
       "3          86                  10         0.778   0.317    1   -10.732     0   \n",
       "4          85                   1         0.878   0.619    6    -5.560     1   \n",
       "\n",
       "   speechiness  acousticness  instrumentalness  liveness  valence    tempo  \\\n",
       "0       0.0290        0.0392              0.00    0.0828    0.749  116.967   \n",
       "1       0.3750        0.3280              0.13    0.1000    0.562  135.128   \n",
       "2       0.0575        0.5330              0.00    0.0685    0.925   89.960   \n",
       "3       0.3340        0.5920              0.00    0.0881    0.327  140.048   \n",
       "4       0.1020        0.0533              0.00    0.1130    0.639  136.041   \n",
       "\n",
       "   duration_ms  time_signature        artists  \n",
       "0       190800               4   Shawn Mendes  \n",
       "1       194088               4  Billie Eilish  \n",
       "2       157560               4    Post Malone  \n",
       "3       178627               4  Ariana Grande  \n",
       "4       157067               4      Lil Nas X  "
      ]
     },
     "execution_count": 12,
     "metadata": {},
     "output_type": "execute_result"
    }
   ],
   "source": [
    "execute_float_conversion()"
   ]
  },
  {
   "cell_type": "code",
   "execution_count": null,
   "metadata": {},
   "outputs": [],
   "source": []
  },
  {
   "cell_type": "markdown",
   "metadata": {},
   "source": [
    "## Sequential column analysis"
   ]
  },
  {
   "cell_type": "code",
   "execution_count": 13,
   "metadata": {},
   "outputs": [],
   "source": [
    "#Sequential column analysis: for in depth understanding "
   ]
  },
  {
   "cell_type": "code",
   "execution_count": 14,
   "metadata": {},
   "outputs": [],
   "source": [
    "def understand_feature(feature):\n",
    "    return feature.describe()\n"
   ]
  },
  {
   "cell_type": "markdown",
   "metadata": {},
   "source": [
    "#### danceability"
   ]
  },
  {
   "cell_type": "code",
   "execution_count": 15,
   "metadata": {},
   "outputs": [],
   "source": [
    "#The higher the value, the easier it is to dance to this song.\n",
    "def print_overall_dancebility_features():\n",
    "    print(\"overall danceability feature\\n\")\n",
    "    return understand_feature(df[\"danceability\"])\n"
   ]
  },
  {
   "cell_type": "code",
   "execution_count": 16,
   "metadata": {},
   "outputs": [
    {
     "name": "stdout",
     "output_type": "stream",
     "text": [
      "overall danceability feature\n",
      "\n"
     ]
    },
    {
     "data": {
      "text/plain": [
       "count    50.000000\n",
       "mean      0.719400\n",
       "std       0.130358\n",
       "min       0.351000\n",
       "25%       0.657500\n",
       "50%       0.743000\n",
       "75%       0.814500\n",
       "max       0.907000\n",
       "Name: danceability, dtype: float64"
      ]
     },
     "execution_count": 16,
     "metadata": {},
     "output_type": "execute_result"
    }
   ],
   "source": [
    "print_overall_dancebility_features()"
   ]
  },
  {
   "cell_type": "code",
   "execution_count": 17,
   "metadata": {},
   "outputs": [],
   "source": [
    "def top_10_dancebility():\n",
    "    print(\"top 10  danceability feature\\n\")\n",
    "    return understand_feature(df[\"danceability\"].head(10))\n",
    "\n"
   ]
  },
  {
   "cell_type": "code",
   "execution_count": 18,
   "metadata": {},
   "outputs": [
    {
     "name": "stdout",
     "output_type": "stream",
     "text": [
      "top 10  danceability feature\n",
      "\n"
     ]
    },
    {
     "data": {
      "text/plain": [
       "count    10.000000\n",
       "mean      0.730800\n",
       "std       0.114692\n",
       "min       0.501000\n",
       "25%       0.710000\n",
       "50%       0.757000\n",
       "75%       0.793000\n",
       "max       0.878000\n",
       "Name: danceability, dtype: float64"
      ]
     },
     "execution_count": 18,
     "metadata": {},
     "output_type": "execute_result"
    }
   ],
   "source": [
    "top_10_dancebility()"
   ]
  },
  {
   "cell_type": "code",
   "execution_count": 19,
   "metadata": {},
   "outputs": [],
   "source": [
    "#sorting out more danceble songs \n",
    "def sorting_dancebility():\n",
    "    df['dancebility_new']=df['danceability']\n",
    "    df.loc[df['danceability']>=0.6000,'dancebility_new']='1'\n",
    "    df.loc[(df['danceability']<0.6000),'dancebility_new']='0'\n",
    "\n",
    "    return (df['dancebility_new'].value_counts())"
   ]
  },
  {
   "cell_type": "code",
   "execution_count": 20,
   "metadata": {},
   "outputs": [
    {
     "data": {
      "text/plain": [
       "1    41\n",
       "0     9\n",
       "Name: dancebility_new, dtype: int64"
      ]
     },
     "execution_count": 20,
     "metadata": {},
     "output_type": "execute_result"
    }
   ],
   "source": [
    "sorting_dancebility()"
   ]
  },
  {
   "cell_type": "code",
   "execution_count": 21,
   "metadata": {},
   "outputs": [
    {
     "name": "stdout",
     "output_type": "stream",
     "text": [
      "top 10  energy  feature\n",
      "\n"
     ]
    },
    {
     "data": {
      "text/plain": [
       "count    10.000000\n",
       "mean      0.529600\n",
       "std       0.160433\n",
       "min       0.317000\n",
       "25%       0.410000\n",
       "50%       0.530500\n",
       "75%       0.601250\n",
       "max       0.860000\n",
       "Name: energy, dtype: float64"
      ]
     },
     "execution_count": 21,
     "metadata": {},
     "output_type": "execute_result"
    }
   ],
   "source": [
    "print(\"top 10  energy  feature\\n\")\n",
    "understand_feature(df[\"energy\"].head(10))"
   ]
  },
  {
   "cell_type": "markdown",
   "metadata": {},
   "source": [
    "#### In Depth BPM"
   ]
  },
  {
   "cell_type": "markdown",
   "metadata": {},
   "source": [
    "Understanding beats per minute i.e tempo of the song\n",
    "here we do classification of the tempo on the bases of beats per min \n",
    "REf:https://www.musical-u.com/learn/rhythm-tips-for-identifying-music-genres-by-ear/\n",
    "\n",
    "And creating a new feature :tempo_rate \n",
    "tempo_rate:This classifies the song on the basis of bpm like:\n",
    "    - very slow\n",
    "    - slow\n",
    "    - moderate\n",
    "    - fast\n",
    "    - very fast\n"
   ]
  },
  {
   "cell_type": "code",
   "execution_count": 22,
   "metadata": {},
   "outputs": [],
   "source": [
    "def tempo_rate():\n",
    "    df['tempo_rate']=df['tempo']\n",
    "    return df['tempo_rate']"
   ]
  },
  {
   "cell_type": "code",
   "execution_count": 23,
   "metadata": {},
   "outputs": [
    {
     "data": {
      "text/plain": [
       "0     116.967\n",
       "1     135.128\n",
       "2      89.960\n",
       "3     140.048\n",
       "4     136.041\n",
       "5     101.956\n",
       "6      99.960\n",
       "7     109.891\n",
       "8      93.989\n",
       "9      95.799\n",
       "10    100.015\n",
       "11    136.041\n",
       "12    126.899\n",
       "13    106.966\n",
       "14    137.958\n",
       "15    133.002\n",
       "16    102.998\n",
       "17    120.046\n",
       "18    135.998\n",
       "19    135.984\n",
       "20     82.642\n",
       "21     92.979\n",
       "22     98.078\n",
       "23    169.999\n",
       "24    123.984\n",
       "25    150.231\n",
       "26     82.014\n",
       "27     95.881\n",
       "28    179.974\n",
       "29    115.284\n",
       "30    155.008\n",
       "31     86.003\n",
       "32     98.994\n",
       "33    176.169\n",
       "34     97.062\n",
       "35    158.087\n",
       "36     89.949\n",
       "37     71.105\n",
       "38     91.987\n",
       "39    105.027\n",
       "40    123.935\n",
       "41    176.036\n",
       "42    102.211\n",
       "43    124.080\n",
       "44    100.001\n",
       "45    145.038\n",
       "46     92.010\n",
       "47    171.993\n",
       "48    150.073\n",
       "49    159.801\n",
       "Name: tempo_rate, dtype: float64"
      ]
     },
     "execution_count": 23,
     "metadata": {},
     "output_type": "execute_result"
    }
   ],
   "source": [
    "tempo_rate()"
   ]
  },
  {
   "cell_type": "code",
   "execution_count": 24,
   "metadata": {},
   "outputs": [],
   "source": [
    "def cateogarise_tempo_rate():\n",
    "    df.loc[df['tempo']<65,'tempo_rate']='very slow'\n",
    "    df.loc[(df['tempo']>=66) & (df['tempo']<=76),'tempo_rate']='slow'\n",
    "    df.loc[(df['tempo']>=77) & (df['tempo']<=108),'tempo_rate']='moderate'\n",
    "    df.loc[(df['tempo']>=109) & (df['tempo']<=168),'tempo_rate']='fast'\n",
    "    df.loc[df['tempo']>168,'tempo_rate']='very fast'\n"
   ]
  },
  {
   "cell_type": "code",
   "execution_count": 25,
   "metadata": {},
   "outputs": [],
   "source": [
    "cateogarise_tempo_rate()"
   ]
  },
  {
   "cell_type": "code",
   "execution_count": 26,
   "metadata": {},
   "outputs": [],
   "source": [
    "def describe_songs_per_tempo_rate():\n",
    "    print(\"Tempo Rate\\tCount\\n\")\n",
    "    print(df['tempo_rate'].value_counts())\n",
    "    print(\"\\n\")\n",
    "    df.head()"
   ]
  },
  {
   "cell_type": "code",
   "execution_count": 27,
   "metadata": {},
   "outputs": [
    {
     "name": "stdout",
     "output_type": "stream",
     "text": [
      "Tempo Rate\tCount\n",
      "\n",
      "fast         22\n",
      "moderate     22\n",
      "very fast     5\n",
      "slow          1\n",
      "Name: tempo_rate, dtype: int64\n",
      "\n",
      "\n"
     ]
    }
   ],
   "source": [
    "describe_songs_per_tempo_rate()"
   ]
  },
  {
   "cell_type": "code",
   "execution_count": 28,
   "metadata": {
    "scrolled": true
   },
   "outputs": [],
   "source": [
    "def barplot_temporate():\n",
    "    sns.barplot(x=pd.DataFrame(df['tempo_rate'].value_counts()).tempo_rate, \n",
    "                y=pd.DataFrame(df['tempo_rate'].value_counts()).index\n",
    "               )\n",
    "    plt.title('music tempo', fontsize=17);"
   ]
  },
  {
   "cell_type": "code",
   "execution_count": 29,
   "metadata": {},
   "outputs": [
    {
     "data": {
      "image/png": "[encoded data removed]",
      "text/plain": [
       "<Figure size 432x288 with 1 Axes>"
      ]
     },
     "metadata": {
      "needs_background": "light"
     },
     "output_type": "display_data"
    }
   ],
   "source": [
    "barplot_temporate()"
   ]
  },
  {
   "cell_type": "markdown",
   "metadata": {},
   "source": [
    "sort the songs on the bases of important parametes like :"
   ]
  },
  {
   "cell_type": "code",
   "execution_count": 30,
   "metadata": {},
   "outputs": [],
   "source": [
    "def sort_imp_parameters():\n",
    "    return df[['name','artists','danceability','valence','tempo','tempo_rate','energy']].sort_values(by=[\"danceability\",\"energy\",\"valence\"],ascending=False).head(10)"
   ]
  },
  {
   "cell_type": "raw",
   "metadata": {},
   "source": [
    "sort_imp-parameters()"
   ]
  },
  {
   "cell_type": "code",
   "execution_count": null,
   "metadata": {},
   "outputs": [],
   "source": []
  },
  {
   "cell_type": "markdown",
   "metadata": {},
   "source": [
    "As we can see that these features collectively couldn't generate the sorted manner of artist as expected.We need to change our approach and include more features "
   ]
  },
  {
   "cell_type": "markdown",
   "metadata": {},
   "source": [
    "\n",
    "#### Analysing top artists\n",
    "Analysing Top artists will give us a better idea about the feature importance "
   ]
  },
  {
   "cell_type": "code",
   "execution_count": 31,
   "metadata": {},
   "outputs": [],
   "source": [
    "#count the value:in terms on songs per year for an  artist\n",
    "def songs_per_artist():\n",
    "    print(\"Artist\\t\\tSongs\\n\")\n",
    "    print(df[\"artists\"].value_counts().head(20))"
   ]
  },
  {
   "cell_type": "code",
   "execution_count": 32,
   "metadata": {},
   "outputs": [
    {
     "name": "stdout",
     "output_type": "stream",
     "text": [
      "Artist\t\tSongs\n",
      "\n",
      "Post Malone       5\n",
      "Billie Eilish     4\n",
      "Ariana Grande     3\n",
      "Shawn Mendes      2\n",
      "Bad Bunny         2\n",
      "Lil Nas X         2\n",
      "Anuel AA          2\n",
      "Ed Sheeran        2\n",
      "Lunay             1\n",
      "Avicii            1\n",
      "J. Cole           1\n",
      "Halsey            1\n",
      "Lauv              1\n",
      "Daddy Yankee      1\n",
      "DJ Snake          1\n",
      "Jonas Brothers    1\n",
      "Travis Scott      1\n",
      "Mabel             1\n",
      "Lil Tecca         1\n",
      "Tones And I       1\n",
      "Name: artists, dtype: int64\n"
     ]
    }
   ],
   "source": [
    "songs_per_artist()"
   ]
  },
  {
   "cell_type": "code",
   "execution_count": null,
   "metadata": {},
   "outputs": [],
   "source": []
  },
  {
   "cell_type": "code",
   "execution_count": null,
   "metadata": {},
   "outputs": [],
   "source": []
  },
  {
   "cell_type": "markdown",
   "metadata": {},
   "source": [
    "#### Comparing  the  top artists based on our features \n",
    "lets start with top 5:\n",
    "\n",
    "- Post Malone            5\n",
    "- Billie Eilish          4\n",
    "- Ariana Grande          3\n",
    "- Anuel AA               2\n",
    "- Lil Nas X              2"
   ]
  },
  {
   "cell_type": "code",
   "execution_count": null,
   "metadata": {},
   "outputs": [],
   "source": []
  },
  {
   "cell_type": "code",
   "execution_count": 33,
   "metadata": {},
   "outputs": [],
   "source": [
    "def first():\n",
    "    PostMalone=df[df['artists']=='Post Malone']\n",
    "    print(\"Post Malone:\")\n",
    "    return PostMalone[['name','danceability','energy','loudness','valence','tempo','tempo_rate']]"
   ]
  },
  {
   "cell_type": "code",
   "execution_count": null,
   "metadata": {},
   "outputs": [],
   "source": []
  },
  {
   "cell_type": "code",
   "execution_count": null,
   "metadata": {},
   "outputs": [],
   "source": []
  },
  {
   "cell_type": "code",
   "execution_count": 34,
   "metadata": {},
   "outputs": [
    {
     "name": "stdout",
     "output_type": "stream",
     "text": [
      "Post Malone:\n"
     ]
    },
    {
     "data": {
      "text/html": [
       "<div>\n",
       "<style scoped>\n",
       "    .dataframe tbody tr th:only-of-type {\n",
       "        vertical-align: middle;\n",
       "    }\n",
       "\n",
       "    .dataframe tbody tr th {\n",
       "        vertical-align: top;\n",
       "    }\n",
       "\n",
       "    .dataframe thead th {\n",
       "        text-align: right;\n",
       "    }\n",
       "</style>\n",
       "<table border=\"1\" class=\"dataframe\">\n",
       "  <thead>\n",
       "    <tr style=\"text-align: right;\">\n",
       "      <th></th>\n",
       "      <th>name</th>\n",
       "      <th>danceability</th>\n",
       "      <th>energy</th>\n",
       "      <th>loudness</th>\n",
       "      <th>valence</th>\n",
       "      <th>tempo</th>\n",
       "      <th>tempo_rate</th>\n",
       "    </tr>\n",
       "  </thead>\n",
       "  <tbody>\n",
       "    <tr>\n",
       "      <th>2</th>\n",
       "      <td>Sunflower - Spider-Man: Into the Spider-Verse</td>\n",
       "      <td>0.755</td>\n",
       "      <td>0.522</td>\n",
       "      <td>-4.368</td>\n",
       "      <td>0.925</td>\n",
       "      <td>89.960</td>\n",
       "      <td>moderate</td>\n",
       "    </tr>\n",
       "    <tr>\n",
       "      <th>6</th>\n",
       "      <td>Wow.</td>\n",
       "      <td>0.829</td>\n",
       "      <td>0.539</td>\n",
       "      <td>-7.359</td>\n",
       "      <td>0.388</td>\n",
       "      <td>99.960</td>\n",
       "      <td>moderate</td>\n",
       "    </tr>\n",
       "    <tr>\n",
       "      <th>25</th>\n",
       "      <td>Goodbyes (Feat. Young Thug)</td>\n",
       "      <td>0.580</td>\n",
       "      <td>0.653</td>\n",
       "      <td>-3.818</td>\n",
       "      <td>0.175</td>\n",
       "      <td>150.231</td>\n",
       "      <td>fast</td>\n",
       "    </tr>\n",
       "    <tr>\n",
       "      <th>45</th>\n",
       "      <td>Better Now</td>\n",
       "      <td>0.680</td>\n",
       "      <td>0.578</td>\n",
       "      <td>-5.804</td>\n",
       "      <td>0.341</td>\n",
       "      <td>145.038</td>\n",
       "      <td>fast</td>\n",
       "    </tr>\n",
       "    <tr>\n",
       "      <th>49</th>\n",
       "      <td>rockstar (feat. 21 Savage)</td>\n",
       "      <td>0.585</td>\n",
       "      <td>0.520</td>\n",
       "      <td>-6.136</td>\n",
       "      <td>0.129</td>\n",
       "      <td>159.801</td>\n",
       "      <td>fast</td>\n",
       "    </tr>\n",
       "  </tbody>\n",
       "</table>\n",
       "</div>"
      ],
      "text/plain": [
       "                                             name  danceability  energy  \\\n",
       "2   Sunflower - Spider-Man: Into the Spider-Verse         0.755   0.522   \n",
       "6                                            Wow.         0.829   0.539   \n",
       "25                    Goodbyes (Feat. Young Thug)         0.580   0.653   \n",
       "45                                     Better Now         0.680   0.578   \n",
       "49                     rockstar (feat. 21 Savage)         0.585   0.520   \n",
       "\n",
       "    loudness  valence    tempo tempo_rate  \n",
       "2     -4.368    0.925   89.960   moderate  \n",
       "6     -7.359    0.388   99.960   moderate  \n",
       "25    -3.818    0.175  150.231       fast  \n",
       "45    -5.804    0.341  145.038       fast  \n",
       "49    -6.136    0.129  159.801       fast  "
      ]
     },
     "execution_count": 34,
     "metadata": {},
     "output_type": "execute_result"
    }
   ],
   "source": [
    "first()"
   ]
  },
  {
   "cell_type": "code",
   "execution_count": null,
   "metadata": {},
   "outputs": [],
   "source": []
  },
  {
   "cell_type": "code",
   "execution_count": 35,
   "metadata": {},
   "outputs": [],
   "source": [
    "def second():\n",
    "    BillieEilish=df[df['artists']=='Billie Eilish']\n",
    "    print(\"Billie Eilish:\")\n",
    "    return BillieEilish[['name','danceability','energy','loudness','valence','tempo','tempo_rate']]"
   ]
  },
  {
   "cell_type": "code",
   "execution_count": 36,
   "metadata": {},
   "outputs": [
    {
     "name": "stdout",
     "output_type": "stream",
     "text": [
      "Billie Eilish:\n"
     ]
    },
    {
     "data": {
      "text/html": [
       "<div>\n",
       "<style scoped>\n",
       "    .dataframe tbody tr th:only-of-type {\n",
       "        vertical-align: middle;\n",
       "    }\n",
       "\n",
       "    .dataframe tbody tr th {\n",
       "        vertical-align: top;\n",
       "    }\n",
       "\n",
       "    .dataframe thead th {\n",
       "        text-align: right;\n",
       "    }\n",
       "</style>\n",
       "<table border=\"1\" class=\"dataframe\">\n",
       "  <thead>\n",
       "    <tr style=\"text-align: right;\">\n",
       "      <th></th>\n",
       "      <th>name</th>\n",
       "      <th>danceability</th>\n",
       "      <th>energy</th>\n",
       "      <th>loudness</th>\n",
       "      <th>valence</th>\n",
       "      <th>tempo</th>\n",
       "      <th>tempo_rate</th>\n",
       "    </tr>\n",
       "  </thead>\n",
       "  <tbody>\n",
       "    <tr>\n",
       "      <th>1</th>\n",
       "      <td>bad guy</td>\n",
       "      <td>0.701</td>\n",
       "      <td>0.425</td>\n",
       "      <td>-10.965</td>\n",
       "      <td>0.562</td>\n",
       "      <td>135.128</td>\n",
       "      <td>fast</td>\n",
       "    </tr>\n",
       "    <tr>\n",
       "      <th>17</th>\n",
       "      <td>bury a friend</td>\n",
       "      <td>0.905</td>\n",
       "      <td>0.389</td>\n",
       "      <td>-14.505</td>\n",
       "      <td>0.196</td>\n",
       "      <td>120.046</td>\n",
       "      <td>fast</td>\n",
       "    </tr>\n",
       "    <tr>\n",
       "      <th>20</th>\n",
       "      <td>when the party's over</td>\n",
       "      <td>0.367</td>\n",
       "      <td>0.111</td>\n",
       "      <td>-14.084</td>\n",
       "      <td>0.198</td>\n",
       "      <td>82.642</td>\n",
       "      <td>moderate</td>\n",
       "    </tr>\n",
       "    <tr>\n",
       "      <th>29</th>\n",
       "      <td>lovely (with Khalid)</td>\n",
       "      <td>0.351</td>\n",
       "      <td>0.296</td>\n",
       "      <td>-10.109</td>\n",
       "      <td>0.120</td>\n",
       "      <td>115.284</td>\n",
       "      <td>fast</td>\n",
       "    </tr>\n",
       "  </tbody>\n",
       "</table>\n",
       "</div>"
      ],
      "text/plain": [
       "                     name  danceability  energy  loudness  valence    tempo  \\\n",
       "1                 bad guy         0.701   0.425   -10.965    0.562  135.128   \n",
       "17          bury a friend         0.905   0.389   -14.505    0.196  120.046   \n",
       "20  when the party's over         0.367   0.111   -14.084    0.198   82.642   \n",
       "29   lovely (with Khalid)         0.351   0.296   -10.109    0.120  115.284   \n",
       "\n",
       "   tempo_rate  \n",
       "1        fast  \n",
       "17       fast  \n",
       "20   moderate  \n",
       "29       fast  "
      ]
     },
     "execution_count": 36,
     "metadata": {},
     "output_type": "execute_result"
    }
   ],
   "source": [
    "second()"
   ]
  },
  {
   "cell_type": "code",
   "execution_count": 37,
   "metadata": {},
   "outputs": [],
   "source": [
    "def third():\n",
    "    ArianaGrande=df[df['artists']=='Ariana Grande']\n",
    "    print(\"Ariana Grande:\")\n",
    "    return ArianaGrande[['name','danceability','energy','loudness','valence','tempo','tempo_rate']]"
   ]
  },
  {
   "cell_type": "code",
   "execution_count": 38,
   "metadata": {},
   "outputs": [
    {
     "name": "stdout",
     "output_type": "stream",
     "text": [
      "Ariana Grande:\n"
     ]
    },
    {
     "data": {
      "text/html": [
       "<div>\n",
       "<style scoped>\n",
       "    .dataframe tbody tr th:only-of-type {\n",
       "        vertical-align: middle;\n",
       "    }\n",
       "\n",
       "    .dataframe tbody tr th {\n",
       "        vertical-align: top;\n",
       "    }\n",
       "\n",
       "    .dataframe thead th {\n",
       "        text-align: right;\n",
       "    }\n",
       "</style>\n",
       "<table border=\"1\" class=\"dataframe\">\n",
       "  <thead>\n",
       "    <tr style=\"text-align: right;\">\n",
       "      <th></th>\n",
       "      <th>name</th>\n",
       "      <th>danceability</th>\n",
       "      <th>energy</th>\n",
       "      <th>loudness</th>\n",
       "      <th>valence</th>\n",
       "      <th>tempo</th>\n",
       "      <th>tempo_rate</th>\n",
       "    </tr>\n",
       "  </thead>\n",
       "  <tbody>\n",
       "    <tr>\n",
       "      <th>3</th>\n",
       "      <td>7 rings</td>\n",
       "      <td>0.778</td>\n",
       "      <td>0.317</td>\n",
       "      <td>-10.732</td>\n",
       "      <td>0.327</td>\n",
       "      <td>140.048</td>\n",
       "      <td>fast</td>\n",
       "    </tr>\n",
       "    <tr>\n",
       "      <th>13</th>\n",
       "      <td>thank u, next</td>\n",
       "      <td>0.717</td>\n",
       "      <td>0.653</td>\n",
       "      <td>-5.634</td>\n",
       "      <td>0.412</td>\n",
       "      <td>106.966</td>\n",
       "      <td>moderate</td>\n",
       "    </tr>\n",
       "    <tr>\n",
       "      <th>23</th>\n",
       "      <td>break up with your girlfriend, i'm bored</td>\n",
       "      <td>0.726</td>\n",
       "      <td>0.554</td>\n",
       "      <td>-5.290</td>\n",
       "      <td>0.335</td>\n",
       "      <td>169.999</td>\n",
       "      <td>very fast</td>\n",
       "    </tr>\n",
       "  </tbody>\n",
       "</table>\n",
       "</div>"
      ],
      "text/plain": [
       "                                        name  danceability  energy  loudness  \\\n",
       "3                                    7 rings         0.778   0.317   -10.732   \n",
       "13                             thank u, next         0.717   0.653    -5.634   \n",
       "23  break up with your girlfriend, i'm bored         0.726   0.554    -5.290   \n",
       "\n",
       "    valence    tempo tempo_rate  \n",
       "3     0.327  140.048       fast  \n",
       "13    0.412  106.966   moderate  \n",
       "23    0.335  169.999  very fast  "
      ]
     },
     "execution_count": 38,
     "metadata": {},
     "output_type": "execute_result"
    }
   ],
   "source": [
    "third()"
   ]
  },
  {
   "cell_type": "code",
   "execution_count": 39,
   "metadata": {},
   "outputs": [],
   "source": [
    "def forth():\n",
    "    AnuelAA  =df[df['artists']=='Anuel AA']\n",
    "    print(\"Anuel AA :\")\n",
    "    return AnuelAA[['name','danceability','energy','loudness','valence','tempo','tempo_rate']]"
   ]
  },
  {
   "cell_type": "code",
   "execution_count": 40,
   "metadata": {},
   "outputs": [
    {
     "name": "stdout",
     "output_type": "stream",
     "text": [
      "Anuel AA :\n"
     ]
    },
    {
     "data": {
      "text/html": [
       "<div>\n",
       "<style scoped>\n",
       "    .dataframe tbody tr th:only-of-type {\n",
       "        vertical-align: middle;\n",
       "    }\n",
       "\n",
       "    .dataframe tbody tr th {\n",
       "        vertical-align: top;\n",
       "    }\n",
       "\n",
       "    .dataframe thead th {\n",
       "        text-align: right;\n",
       "    }\n",
       "</style>\n",
       "<table border=\"1\" class=\"dataframe\">\n",
       "  <thead>\n",
       "    <tr style=\"text-align: right;\">\n",
       "      <th></th>\n",
       "      <th>name</th>\n",
       "      <th>danceability</th>\n",
       "      <th>energy</th>\n",
       "      <th>loudness</th>\n",
       "      <th>valence</th>\n",
       "      <th>tempo</th>\n",
       "      <th>tempo_rate</th>\n",
       "    </tr>\n",
       "  </thead>\n",
       "  <tbody>\n",
       "    <tr>\n",
       "      <th>38</th>\n",
       "      <td>Secreto</td>\n",
       "      <td>0.807</td>\n",
       "      <td>0.803</td>\n",
       "      <td>-4.156</td>\n",
       "      <td>0.706</td>\n",
       "      <td>91.987</td>\n",
       "      <td>moderate</td>\n",
       "    </tr>\n",
       "    <tr>\n",
       "      <th>39</th>\n",
       "      <td>China</td>\n",
       "      <td>0.786</td>\n",
       "      <td>0.808</td>\n",
       "      <td>-3.702</td>\n",
       "      <td>0.609</td>\n",
       "      <td>105.027</td>\n",
       "      <td>moderate</td>\n",
       "    </tr>\n",
       "  </tbody>\n",
       "</table>\n",
       "</div>"
      ],
      "text/plain": [
       "       name  danceability  energy  loudness  valence    tempo tempo_rate\n",
       "38  Secreto         0.807   0.803    -4.156    0.706   91.987   moderate\n",
       "39    China         0.786   0.808    -3.702    0.609  105.027   moderate"
      ]
     },
     "execution_count": 40,
     "metadata": {},
     "output_type": "execute_result"
    }
   ],
   "source": [
    "forth()"
   ]
  },
  {
   "cell_type": "code",
   "execution_count": 41,
   "metadata": {},
   "outputs": [],
   "source": [
    "def fifth():\n",
    "    LilNasX   =df[df['artists']=='Lil Nas X']\n",
    "    print(\"Lil Nas X   :\")\n",
    "    return LilNasX   [['name','danceability','energy','loudness','valence','tempo','tempo_rate']]"
   ]
  },
  {
   "cell_type": "code",
   "execution_count": 42,
   "metadata": {},
   "outputs": [
    {
     "name": "stdout",
     "output_type": "stream",
     "text": [
      "Lil Nas X   :\n"
     ]
    },
    {
     "data": {
      "text/html": [
       "<div>\n",
       "<style scoped>\n",
       "    .dataframe tbody tr th:only-of-type {\n",
       "        vertical-align: middle;\n",
       "    }\n",
       "\n",
       "    .dataframe tbody tr th {\n",
       "        vertical-align: top;\n",
       "    }\n",
       "\n",
       "    .dataframe thead th {\n",
       "        text-align: right;\n",
       "    }\n",
       "</style>\n",
       "<table border=\"1\" class=\"dataframe\">\n",
       "  <thead>\n",
       "    <tr style=\"text-align: right;\">\n",
       "      <th></th>\n",
       "      <th>name</th>\n",
       "      <th>danceability</th>\n",
       "      <th>energy</th>\n",
       "      <th>loudness</th>\n",
       "      <th>valence</th>\n",
       "      <th>tempo</th>\n",
       "      <th>tempo_rate</th>\n",
       "    </tr>\n",
       "  </thead>\n",
       "  <tbody>\n",
       "    <tr>\n",
       "      <th>4</th>\n",
       "      <td>Old Town Road - Remix</td>\n",
       "      <td>0.878</td>\n",
       "      <td>0.619</td>\n",
       "      <td>-5.560</td>\n",
       "      <td>0.639</td>\n",
       "      <td>136.041</td>\n",
       "      <td>fast</td>\n",
       "    </tr>\n",
       "    <tr>\n",
       "      <th>18</th>\n",
       "      <td>Old Town Road</td>\n",
       "      <td>0.907</td>\n",
       "      <td>0.530</td>\n",
       "      <td>-6.112</td>\n",
       "      <td>0.507</td>\n",
       "      <td>135.998</td>\n",
       "      <td>fast</td>\n",
       "    </tr>\n",
       "  </tbody>\n",
       "</table>\n",
       "</div>"
      ],
      "text/plain": [
       "                     name  danceability  energy  loudness  valence    tempo  \\\n",
       "4   Old Town Road - Remix         0.878   0.619    -5.560    0.639  136.041   \n",
       "18          Old Town Road         0.907   0.530    -6.112    0.507  135.998   \n",
       "\n",
       "   tempo_rate  \n",
       "4        fast  \n",
       "18       fast  "
      ]
     },
     "execution_count": 42,
     "metadata": {},
     "output_type": "execute_result"
    }
   ],
   "source": [
    "fifth()"
   ]
  },
  {
   "cell_type": "code",
   "execution_count": null,
   "metadata": {},
   "outputs": [],
   "source": []
  },
  {
   "cell_type": "code",
   "execution_count": null,
   "metadata": {},
   "outputs": [],
   "source": []
  },
  {
   "cell_type": "code",
   "execution_count": null,
   "metadata": {},
   "outputs": [],
   "source": []
  },
  {
   "cell_type": "markdown",
   "metadata": {},
   "source": [
    "Here's the observation for the above  top 5 results:\n",
    "- dancebility:Range:0.49-->0.90+\n",
    "- energy:Range:0.48-->0.90+ , in general, the enegy in not very significant but  top songs have energy more than 0.48\n",
    "- loudness:more -ve loudness means more popular the song is \n",
    "- valence:Range:Not a very important criteria\n",
    "- tempo:Range:can not conclude about this, need more EDA\n",
    "- tempo rate:Range: fast and moderate are in top\n",
    "\n"
   ]
  },
  {
   "cell_type": "markdown",
   "metadata": {},
   "source": [
    "# EDA"
   ]
  },
  {
   "cell_type": "markdown",
   "metadata": {},
   "source": [
    "in EDA approach we  try to  analyze data sets to summarize their main characteristics, often with visual methods  and  then Have a good understanding of data quality.. \n",
    "but to come to any conclusions and to decide weather A statistical model can be used we need to dig deeper into data\n",
    "\n",
    "And so we did the best we could do with  EDA  for seeing what the data can tell us beyond the formal modeling or  any hypothesis testing task.\n",
    "\n",
    "We did the a lot of  comparisions  amongst multiple features and here's a few of our results."
   ]
  },
  {
   "cell_type": "markdown",
   "metadata": {},
   "source": [
    "### PCA plot-large features"
   ]
  },
  {
   "cell_type": "markdown",
   "metadata": {},
   "source": [
    "\n",
    "next to this our 3d modelling for detecting the outlier using the pca for our hypothetial top features.And  in the graph u can see  there a few ouliers songs which are not feature vice not closer to the other data  points.This gave us an idea about why perticulate songs are not fitting well.And this is an important thing to discuss to get more closer to assumption.\n"
   ]
  },
  {
   "cell_type": "code",
   "execution_count": 43,
   "metadata": {},
   "outputs": [],
   "source": [
    "def plot_PCA_large():\n",
    "    feture_to_plot = [\"energy\", \"liveness\", \"tempo\", \"valence\", \"loudness\", \"speechiness\", \"acousticness\", \"danceability\", \"instrumentalness\"]\n",
    "    text1 = df[\"artists\"] + \" - \" + df[\"name\"]\n",
    "    text2 = text1.values\n",
    "    X = df[feture_to_plot].values\n",
    "    y = df[\"danceability\"].values\n",
    "    min_maxscaler = MinMaxScaler()\n",
    "    X = min_maxscaler.fit_transform(X)\n",
    "    pca = PCA(n_components=3)\n",
    "    pca.fit(X)\n",
    "    X = pca.transform(X)\n",
    "\n",
    "    plot3d = go.Scatter3d(\n",
    "        x=X[:,0],\n",
    "        y=X[:,1],\n",
    "        z=X[:,2],\n",
    "        text=text2,\n",
    "        mode=\"markers\",\n",
    "        marker=dict(\n",
    "            size=8,\n",
    "            color=y\n",
    "        )\n",
    "    )\n",
    "\n",
    "    fig = go.Figure(data=[plot3d])\n",
    "    py.iplot(fig, filename=\"3d graph\")\n"
   ]
  },
  {
   "cell_type": "code",
   "execution_count": 44,
   "metadata": {},
   "outputs": [
    {
     "data": {
      "application/vnd.plotly.v1+json": {
       "config": {
        "linkText": "Export to plot.ly",
        "plotlyServerURL": "https://plot.ly",
        "showLink": false
       },
       "data": [
        {
         "marker": {
          "color": [
           0.759,
           0.701,
           0.755,
           0.778,
           0.878,
           0.7979999999999999,
           0.8290000000000001,
           0.501,
           0.737,
           0.5720000000000001,
           0.687,
           0.752,
           0.826,
           0.7170000000000001,
           0.8420000000000001,
           0.7190000000000001,
           0.741,
           0.905,
           0.907,
           0.9009999999999999,
           0.36700000000000005,
           0.64,
           0.825,
           0.726,
           0.8370000000000001,
           0.58,
           0.579,
           0.8420000000000001,
           0.745,
           0.35100000000000003,
           0.8340000000000001,
           0.889,
           0.674,
           0.61,
           0.8170000000000001,
           0.715,
           0.632,
           0.414,
           0.807,
           0.7859999999999999,
           0.691,
           0.747,
           0.599,
           0.677,
           0.802,
           0.68,
           0.795,
           0.767,
           0.652,
           0.585
          ],
          "size": 8
         },
         "mode": "markers",
         "text": [
          "Shawn Mendes - SeÃ±orita",
          "Billie Eilish - bad guy",
          "Post Malone - Sunflower - Spider-Man: Into the Spider-Verse",
          "Ariana Grande - 7 rings",
          "Lil Nas X - Old Town Road - Remix",
          "Ed Sheeran - I Don't Care (with Justin Bieber)",
          "Post Malone - Wow.",
          "Lewis Capaldi - Someone You Loved",
          "Daddy Yankee - Con Calma",
          "Lady Gaga - Shallow",
          "Marshmello - Happier",
          "Halsey - Without Me",
          "Pedro CapÃ³ - Calma - Remix",
          "Ariana Grande - thank u, next",
          "Jonas Brothers - Sucker",
          "Ava Max - Sweet but Psycho",
          "Sam Smith - Dancing With A Stranger (with Normani)",
          "Billie Eilish - bury a friend",
          "Lil Nas X - Old Town Road",
          "Khalid - Talk (feat. Disclosure)",
          "Billie Eilish - when the party's over",
          "Ed Sheeran - Beautiful People (feat. Khalid)",
          "Tones And I - Dance Monkey",
          "Ariana Grande - break up with your girlfriend, i'm bored",
          "J. Cole - MIDDLE CHILD",
          "Post Malone - Goodbyes (Feat. Young Thug)",
          "Panic! At The Disco - High Hopes",
          "DJ Snake - Taki Taki (feat. Selena Gomez, Ozuna & Cardi B)",
          "Lil Tecca - Ransom",
          "Billie Eilish - lovely (with Khalid)",
          "Travis Scott - SICKO MODE",
          "Meek Mill - Going Bad (feat. Drake)",
          "Mabel - Don't Call Me Up",
          "Bad Bunny - Callaita",
          "Bad Bunny - MIA (feat. Drake)",
          "Lizzo - Truth Hurts",
          "benny blanco - Eastside (with Halsey & Khalid)",
          "Queen - Bohemian Rhapsody - 2011 Mix",
          "Anuel AA - Secreto",
          "Anuel AA - China",
          "Shawn Mendes - If I Can't Have You",
          "Sech - Otro Trago",
          "Lauv - i'm so tired...",
          "MEDUZA - Piece Of Your Heart",
          "Avicii - SOS (feat. Aloe Blacc)",
          "Post Malone - Better Now",
          "Lunay - Soltera - Remix",
          "Paulo Londra - Adan y Eva",
          "Alec Benjamin - Let Me Down Slowly",
          "Post Malone - rockstar (feat. 21 Savage)"
         ],
         "type": "scatter3d",
         "x": [
          -0.3494899262083068,
          0.6232949429701976,
          -0.2714083688085653,
          0.6926109317399143,
          -0.3261645532735758,
          -0.49807222229672216,
          0.07025980899944251,
          0.3142265710167335,
          -0.543521112311975,
          0.2354488936329669,
          -0.45195480830116824,
          -0.0002271706655784058,
          -0.4319106850720735,
          -0.0998813668449017,
          -0.6097256173774391,
          -0.35927080808607453,
          0.18104765234774364,
          1.0767541155621645,
          -0.17309972457857242,
          0.08218783109533914,
          1.1601617238515873,
          0.013172951939532702,
          0.07249363820359823,
          -0.06688372367121903,
          0.3798216965404158,
          0.13548812168419497,
          -0.46891155415891034,
          -0.3149168196364584,
          0.12888927104784478,
          0.8862475351981492,
          -0.24657138581871724,
          -0.09434025551778119,
          -0.12168095159317106,
          0.41796281668897545,
          -0.009430959436076766,
          -0.1864564286492047,
          0.34409443198794076,
          0.4739481786553767,
          -0.2263535197189845,
          -0.4507171026284776,
          -0.38148895150610973,
          -0.09149702393872057,
          0.006113799245207318,
          -0.3180327386086906,
          -0.06853071028138927,
          0.03858698675576387,
          -0.4084801343287083,
          -0.0986525325884818,
          0.1482573632762358,
          0.18660189346672834
         ],
         "y": [
          -0.0987870014301342,
          0.6781968368867244,
          -0.3168146316874558,
          0.44311493472072766,
          0.20285313124198862,
          -0.12130920853150923,
          0.18183023132210832,
          -0.5308463326686857,
          -0.15477854755132792,
          -0.4874357689655489,
          -0.2558634812276513,
          -0.016663231783936878,
          -0.0504888408706677,
          -0.1588147013818606,
          0.12063128412429472,
          -0.042058082681355156,
          -0.27860858633081664,
          0.5708029898430397,
          0.2661861697687777,
          0.2690936282684691,
          -0.6922487959402547,
          0.004158108244602128,
          -0.22601103663160557,
          0.2387314281026062,
          0.36439817435269645,
          -0.10198190227789443,
          -0.3339174700525806,
          0.23662302226996093,
          0.7113683034838952,
          -0.6560523385934722,
          0.5131527486074532,
          -0.16878134692257843,
          -0.06496380514854455,
          0.4088266489873357,
          -0.09281842096840993,
          0.1952324410394393,
          -0.07087234866393494,
          -0.6589603589092513,
          -0.15140180099368564,
          -0.01729325349561911,
          -0.1743599028872261,
          0.7560981963471693,
          -0.014218074157794715,
          -0.09839160990580113,
          -0.143044251853846,
          -0.10330229686805274,
          -0.36907625744263056,
          0.699414357289003,
          -0.23108494282662648,
          0.020535994750463565
         ],
         "z": [
          0.041253593478674404,
          0.46751221860915015,
          0.34579370410960886,
          0.10358580378985255,
          0.008798482648441486,
          0.2042113975960707,
          0.15659729599169023,
          -0.14386609397923572,
          0.05045211252317337,
          -0.08826196425384909,
          0.04292152079193581,
          -0.0931172809275397,
          0.08774277331040341,
          -0.067653468895189,
          0.10976014550417731,
          -0.11698490399207283,
          0.05843499221362984,
          0.651130632734782,
          -0.023024981305344694,
          -0.0846846827788711,
          0.040291993030092836,
          0.1548900615209363,
          0.269451854583484,
          -0.4699702746647698,
          0.29054509849499893,
          -0.5243319056252628,
          0.04882251592047692,
          0.25341162487764407,
          -0.42842106574457367,
          -0.3328256062532168,
          -0.1899995305461502,
          0.33360079227553924,
          -0.15217244990465031,
          -0.33411398025734357,
          -0.11881321273371595,
          -0.38266710538638293,
          0.19256473039729807,
          -0.005578136597851924,
          0.3474512368573635,
          0.04541302232180916,
          0.11038359789702562,
          -0.13617490400043583,
          0.1358833920070632,
          -0.10138562746335579,
          0.0355389295344057,
          -0.3263126728075225,
          0.4019868095708533,
          -0.03562823047051352,
          -0.23567996415913295,
          -0.5967622898436027
         ]
        }
       ],
       "layout": {
        "template": {
         "data": {
          "bar": [
           {
            "error_x": {
             "color": "#2a3f5f"
            },
            "error_y": {
             "color": "#2a3f5f"
            },
            "marker": {
             "line": {
              "color": "#E5ECF6",
              "width": 0.5
             }
            },
            "type": "bar"
           }
          ],
          "barpolar": [
           {
            "marker": {
             "line": {
              "color": "#E5ECF6",
              "width": 0.5
             }
            },
            "type": "barpolar"
           }
          ],
          "carpet": [
           {
            "aaxis": {
             "endlinecolor": "#2a3f5f",
             "gridcolor": "white",
             "linecolor": "white",
             "minorgridcolor": "white",
             "startlinecolor": "#2a3f5f"
            },
            "baxis": {
             "endlinecolor": "#2a3f5f",
             "gridcolor": "white",
             "linecolor": "white",
             "minorgridcolor": "white",
             "startlinecolor": "#2a3f5f"
            },
            "type": "carpet"
           }
          ],
          "choropleth": [
           {
            "colorbar": {
             "outlinewidth": 0,
             "ticks": ""
            },
            "type": "choropleth"
           }
          ],
          "contour": [
           {
            "colorbar": {
             "outlinewidth": 0,
             "ticks": ""
            },
            "colorscale": [
             [
              0,
              "#0d0887"
             ],
             [
              0.1111111111111111,
              "#46039f"
             ],
             [
              0.2222222222222222,
              "#7201a8"
             ],
             [
              0.3333333333333333,
              "#9c179e"
             ],
             [
              0.4444444444444444,
              "#bd3786"
             ],
             [
              0.5555555555555556,
              "#d8576b"
             ],
             [
              0.6666666666666666,
              "#ed7953"
             ],
             [
              0.7777777777777778,
              "#fb9f3a"
             ],
             [
              0.8888888888888888,
              "#fdca26"
             ],
             [
              1,
              "#f0f921"
             ]
            ],
            "type": "contour"
           }
          ],
          "contourcarpet": [
           {
            "colorbar": {
             "outlinewidth": 0,
             "ticks": ""
            },
            "type": "contourcarpet"
           }
          ],
          "heatmap": [
           {
            "colorbar": {
             "outlinewidth": 0,
             "ticks": ""
            },
            "colorscale": [
             [
              0,
              "#0d0887"
             ],
             [
              0.1111111111111111,
              "#46039f"
             ],
             [
              0.2222222222222222,
              "#7201a8"
             ],
             [
              0.3333333333333333,
              "#9c179e"
             ],
             [
              0.4444444444444444,
              "#bd3786"
             ],
             [
              0.5555555555555556,
              "#d8576b"
             ],
             [
              0.6666666666666666,
              "#ed7953"
             ],
             [
              0.7777777777777778,
              "#fb9f3a"
             ],
             [
              0.8888888888888888,
              "#fdca26"
             ],
             [
              1,
              "#f0f921"
             ]
            ],
            "type": "heatmap"
           }
          ],
          "heatmapgl": [
           {
            "colorbar": {
             "outlinewidth": 0,
             "ticks": ""
            },
            "colorscale": [
             [
              0,
              "#0d0887"
             ],
             [
              0.1111111111111111,
              "#46039f"
             ],
             [
              0.2222222222222222,
              "#7201a8"
             ],
             [
              0.3333333333333333,
              "#9c179e"
             ],
             [
              0.4444444444444444,
              "#bd3786"
             ],
             [
              0.5555555555555556,
              "#d8576b"
             ],
             [
              0.6666666666666666,
              "#ed7953"
             ],
             [
              0.7777777777777778,
              "#fb9f3a"
             ],
             [
              0.8888888888888888,
              "#fdca26"
             ],
             [
              1,
              "#f0f921"
             ]
            ],
            "type": "heatmapgl"
           }
          ],
          "histogram": [
           {
            "marker": {
             "colorbar": {
              "outlinewidth": 0,
              "ticks": ""
             }
            },
            "type": "histogram"
           }
          ],
          "histogram2d": [
           {
            "colorbar": {
             "outlinewidth": 0,
             "ticks": ""
            },
            "colorscale": [
             [
              0,
              "#0d0887"
             ],
             [
              0.1111111111111111,
              "#46039f"
             ],
             [
              0.2222222222222222,
              "#7201a8"
             ],
             [
              0.3333333333333333,
              "#9c179e"
             ],
             [
              0.4444444444444444,
              "#bd3786"
             ],
             [
              0.5555555555555556,
              "#d8576b"
             ],
             [
              0.6666666666666666,
              "#ed7953"
             ],
             [
              0.7777777777777778,
              "#fb9f3a"
             ],
             [
              0.8888888888888888,
              "#fdca26"
             ],
             [
              1,
              "#f0f921"
             ]
            ],
            "type": "histogram2d"
           }
          ],
          "histogram2dcontour": [
           {
            "colorbar": {
             "outlinewidth": 0,
             "ticks": ""
            },
            "colorscale": [
             [
              0,
              "#0d0887"
             ],
             [
              0.1111111111111111,
              "#46039f"
             ],
             [
              0.2222222222222222,
              "#7201a8"
             ],
             [
              0.3333333333333333,
              "#9c179e"
             ],
             [
              0.4444444444444444,
              "#bd3786"
             ],
             [
              0.5555555555555556,
              "#d8576b"
             ],
             [
              0.6666666666666666,
              "#ed7953"
             ],
             [
              0.7777777777777778,
              "#fb9f3a"
             ],
             [
              0.8888888888888888,
              "#fdca26"
             ],
             [
              1,
              "#f0f921"
             ]
            ],
            "type": "histogram2dcontour"
           }
          ],
          "mesh3d": [
           {
            "colorbar": {
             "outlinewidth": 0,
             "ticks": ""
            },
            "type": "mesh3d"
           }
          ],
          "parcoords": [
           {
            "line": {
             "colorbar": {
              "outlinewidth": 0,
              "ticks": ""
             }
            },
            "type": "parcoords"
           }
          ],
          "pie": [
           {
            "automargin": true,
            "type": "pie"
           }
          ],
          "scatter": [
           {
            "marker": {
             "colorbar": {
              "outlinewidth": 0,
              "ticks": ""
             }
            },
            "type": "scatter"
           }
          ],
          "scatter3d": [
           {
            "line": {
             "colorbar": {
              "outlinewidth": 0,
              "ticks": ""
             }
            },
            "marker": {
             "colorbar": {
              "outlinewidth": 0,
              "ticks": ""
             }
            },
            "type": "scatter3d"
           }
          ],
          "scattercarpet": [
           {
            "marker": {
             "colorbar": {
              "outlinewidth": 0,
              "ticks": ""
             }
            },
            "type": "scattercarpet"
           }
          ],
          "scattergeo": [
           {
            "marker": {
             "colorbar": {
              "outlinewidth": 0,
              "ticks": ""
             }
            },
            "type": "scattergeo"
           }
          ],
          "scattergl": [
           {
            "marker": {
             "colorbar": {
              "outlinewidth": 0,
              "ticks": ""
             }
            },
            "type": "scattergl"
           }
          ],
          "scattermapbox": [
           {
            "marker": {
             "colorbar": {
              "outlinewidth": 0,
              "ticks": ""
             }
            },
            "type": "scattermapbox"
           }
          ],
          "scatterpolar": [
           {
            "marker": {
             "colorbar": {
              "outlinewidth": 0,
              "ticks": ""
             }
            },
            "type": "scatterpolar"
           }
          ],
          "scatterpolargl": [
           {
            "marker": {
             "colorbar": {
              "outlinewidth": 0,
              "ticks": ""
             }
            },
            "type": "scatterpolargl"
           }
          ],
          "scatterternary": [
           {
            "marker": {
             "colorbar": {
              "outlinewidth": 0,
              "ticks": ""
             }
            },
            "type": "scatterternary"
           }
          ],
          "surface": [
           {
            "colorbar": {
             "outlinewidth": 0,
             "ticks": ""
            },
            "colorscale": [
             [
              0,
              "#0d0887"
             ],
             [
              0.1111111111111111,
              "#46039f"
             ],
             [
              0.2222222222222222,
              "#7201a8"
             ],
             [
              0.3333333333333333,
              "#9c179e"
             ],
             [
              0.4444444444444444,
              "#bd3786"
             ],
             [
              0.5555555555555556,
              "#d8576b"
             ],
             [
              0.6666666666666666,
              "#ed7953"
             ],
             [
              0.7777777777777778,
              "#fb9f3a"
             ],
             [
              0.8888888888888888,
              "#fdca26"
             ],
             [
              1,
              "#f0f921"
             ]
            ],
            "type": "surface"
           }
          ],
          "table": [
           {
            "cells": {
             "fill": {
              "color": "#EBF0F8"
             },
             "line": {
              "color": "white"
             }
            },
            "header": {
             "fill": {
              "color": "#C8D4E3"
             },
             "line": {
              "color": "white"
             }
            },
            "type": "table"
           }
          ]
         },
         "layout": {
          "annotationdefaults": {
           "arrowcolor": "#2a3f5f",
           "arrowhead": 0,
           "arrowwidth": 1
          },
          "coloraxis": {
           "colorbar": {
            "outlinewidth": 0,
            "ticks": ""
           }
          },
          "colorscale": {
           "diverging": [
            [
             0,
             "#8e0152"
            ],
            [
             0.1,
             "#c51b7d"
            ],
            [
             0.2,
             "#de77ae"
            ],
            [
             0.3,
             "#f1b6da"
            ],
            [
             0.4,
             "#fde0ef"
            ],
            [
             0.5,
             "#f7f7f7"
            ],
            [
             0.6,
             "#e6f5d0"
            ],
            [
             0.7,
             "#b8e186"
            ],
            [
             0.8,
             "#7fbc41"
            ],
            [
             0.9,
             "#4d9221"
            ],
            [
             1,
             "#276419"
            ]
           ],
           "sequential": [
            [
             0,
             "#0d0887"
            ],
            [
             0.1111111111111111,
             "#46039f"
            ],
            [
             0.2222222222222222,
             "#7201a8"
            ],
            [
             0.3333333333333333,
             "#9c179e"
            ],
            [
             0.4444444444444444,
             "#bd3786"
            ],
            [
             0.5555555555555556,
             "#d8576b"
            ],
            [
             0.6666666666666666,
             "#ed7953"
            ],
            [
             0.7777777777777778,
             "#fb9f3a"
            ],
            [
             0.8888888888888888,
             "#fdca26"
            ],
            [
             1,
             "#f0f921"
            ]
           ],
           "sequentialminus": [
            [
             0,
             "#0d0887"
            ],
            [
             0.1111111111111111,
             "#46039f"
            ],
            [
             0.2222222222222222,
             "#7201a8"
            ],
            [
             0.3333333333333333,
             "#9c179e"
            ],
            [
             0.4444444444444444,
             "#bd3786"
            ],
            [
             0.5555555555555556,
             "#d8576b"
            ],
            [
             0.6666666666666666,
             "#ed7953"
            ],
            [
             0.7777777777777778,
             "#fb9f3a"
            ],
            [
             0.8888888888888888,
             "#fdca26"
            ],
            [
             1,
             "#f0f921"
            ]
           ]
          },
          "colorway": [
           "#636efa",
           "#EF553B",
           "#00cc96",
           "#ab63fa",
           "#FFA15A",
           "#19d3f3",
           "#FF6692",
           "#B6E880",
           "#FF97FF",
           "#FECB52"
          ],
          "font": {
           "color": "#2a3f5f"
          },
          "geo": {
           "bgcolor": "white",
           "lakecolor": "white",
           "landcolor": "#E5ECF6",
           "showlakes": true,
           "showland": true,
           "subunitcolor": "white"
          },
          "hoverlabel": {
           "align": "left"
          },
          "hovermode": "closest",
          "mapbox": {
           "style": "light"
          },
          "paper_bgcolor": "white",
          "plot_bgcolor": "#E5ECF6",
          "polar": {
           "angularaxis": {
            "gridcolor": "white",
            "linecolor": "white",
            "ticks": ""
           },
           "bgcolor": "#E5ECF6",
           "radialaxis": {
            "gridcolor": "white",
            "linecolor": "white",
            "ticks": ""
           }
          },
          "scene": {
           "xaxis": {
            "backgroundcolor": "#E5ECF6",
            "gridcolor": "white",
            "gridwidth": 2,
            "linecolor": "white",
            "showbackground": true,
            "ticks": "",
            "zerolinecolor": "white"
           },
           "yaxis": {
            "backgroundcolor": "#E5ECF6",
            "gridcolor": "white",
            "gridwidth": 2,
            "linecolor": "white",
            "showbackground": true,
            "ticks": "",
            "zerolinecolor": "white"
           },
           "zaxis": {
            "backgroundcolor": "#E5ECF6",
            "gridcolor": "white",
            "gridwidth": 2,
            "linecolor": "white",
            "showbackground": true,
            "ticks": "",
            "zerolinecolor": "white"
           }
          },
          "shapedefaults": {
           "line": {
            "color": "#2a3f5f"
           }
          },
          "ternary": {
           "aaxis": {
            "gridcolor": "white",
            "linecolor": "white",
            "ticks": ""
           },
           "baxis": {
            "gridcolor": "white",
            "linecolor": "white",
            "ticks": ""
           },
           "bgcolor": "#E5ECF6",
           "caxis": {
            "gridcolor": "white",
            "linecolor": "white",
            "ticks": ""
           }
          },
          "title": {
           "x": 0.05
          },
          "xaxis": {
           "automargin": true,
           "gridcolor": "white",
           "linecolor": "white",
           "ticks": "",
           "title": {
            "standoff": 15
           },
           "zerolinecolor": "white",
           "zerolinewidth": 2
          },
          "yaxis": {
           "automargin": true,
           "gridcolor": "white",
           "linecolor": "white",
           "ticks": "",
           "title": {
            "standoff": 15
           },
           "zerolinecolor": "white",
           "zerolinewidth": 2
          }
         }
        }
       }
      },
      "text/html": [
       "<div>\n",
       "        \n",
       "        \n",
       "            <div id=\"37000a54-bacc-4b89-bf74-6ddb5eb82e5f\" class=\"plotly-graph-div\" style=\"height:525px; width:100%;\"></div>\n",
       "            <script type=\"text/javascript\">\n",
       "                require([\"plotly\"], function(Plotly) {\n",
       "                    window.PLOTLYENV=window.PLOTLYENV || {};\n",
       "                    \n",
       "                if (document.getElementById(\"37000a54-bacc-4b89-bf74-6ddb5eb82e5f\")) {\n",
       "                    Plotly.newPlot(\n",
       "                        '37000a54-bacc-4b89-bf74-6ddb5eb82e5f',\n",
       "                        [{\"marker\": {\"color\": [0.759, 0.701, 0.755, 0.778, 0.878, 0.7979999999999999, 0.8290000000000001, 0.501, 0.737, 0.5720000000000001, 0.687, 0.752, 0.826, 0.7170000000000001, 0.8420000000000001, 0.7190000000000001, 0.741, 0.905, 0.907, 0.9009999999999999, 0.36700000000000005, 0.64, 0.825, 0.726, 0.8370000000000001, 0.58, 0.579, 0.8420000000000001, 0.745, 0.35100000000000003, 0.8340000000000001, 0.889, 0.674, 0.61, 0.8170000000000001, 0.715, 0.632, 0.414, 0.807, 0.7859999999999999, 0.691, 0.747, 0.599, 0.677, 0.802, 0.68, 0.795, 0.767, 0.652, 0.585], \"size\": 8}, \"mode\": \"markers\", \"text\": [\"Shawn Mendes - Se\\u00c3\\u00b1orita\", \"Billie Eilish - bad guy\", \"Post Malone - Sunflower - Spider-Man: Into the Spider-Verse\", \"Ariana Grande - 7 rings\", \"Lil Nas X - Old Town Road - Remix\", \"Ed Sheeran - I Don't Care (with Justin Bieber)\", \"Post Malone - Wow.\", \"Lewis Capaldi - Someone You Loved\", \"Daddy Yankee - Con Calma\", \"Lady Gaga - Shallow\", \"Marshmello - Happier\", \"Halsey - Without Me\", \"Pedro Cap\\u00c3\\u00b3 - Calma - Remix\", \"Ariana Grande - thank u, next\", \"Jonas Brothers - Sucker\", \"Ava Max - Sweet but Psycho\", \"Sam Smith - Dancing With A Stranger (with Normani)\", \"Billie Eilish - bury a friend\", \"Lil Nas X - Old Town Road\", \"Khalid - Talk (feat. Disclosure)\", \"Billie Eilish - when the party's over\", \"Ed Sheeran - Beautiful People (feat. Khalid)\", \"Tones And I - Dance Monkey\", \"Ariana Grande - break up with your girlfriend, i'm bored\", \"J. Cole - MIDDLE CHILD\", \"Post Malone - Goodbyes (Feat. Young Thug)\", \"Panic! At The Disco - High Hopes\", \"DJ Snake - Taki Taki (feat. Selena Gomez, Ozuna & Cardi B)\", \"Lil Tecca - Ransom\", \"Billie Eilish - lovely (with Khalid)\", \"Travis Scott - SICKO MODE\", \"Meek Mill - Going Bad (feat. Drake)\", \"Mabel - Don't Call Me Up\", \"Bad Bunny - Callaita\", \"Bad Bunny - MIA (feat. Drake)\", \"Lizzo - Truth Hurts\", \"benny blanco - Eastside (with Halsey & Khalid)\", \"Queen - Bohemian Rhapsody - 2011 Mix\", \"Anuel AA - Secreto\", \"Anuel AA - China\", \"Shawn Mendes - If I Can't Have You\", \"Sech - Otro Trago\", \"Lauv - i'm so tired...\", \"MEDUZA - Piece Of Your Heart\", \"Avicii - SOS (feat. Aloe Blacc)\", \"Post Malone - Better Now\", \"Lunay - Soltera - Remix\", \"Paulo Londra - Adan y Eva\", \"Alec Benjamin - Let Me Down Slowly\", \"Post Malone - rockstar (feat. 21 Savage)\"], \"type\": \"scatter3d\", \"x\": [-0.3494899262083068, 0.6232949429701976, -0.2714083688085653, 0.6926109317399143, -0.3261645532735758, -0.49807222229672216, 0.07025980899944251, 0.3142265710167335, -0.543521112311975, 0.2354488936329669, -0.45195480830116824, -0.0002271706655784058, -0.4319106850720735, -0.0998813668449017, -0.6097256173774391, -0.35927080808607453, 0.18104765234774364, 1.0767541155621645, -0.17309972457857242, 0.08218783109533914, 1.1601617238515873, 0.013172951939532702, 0.07249363820359823, -0.06688372367121903, 0.3798216965404158, 0.13548812168419497, -0.46891155415891034, -0.3149168196364584, 0.12888927104784478, 0.8862475351981492, -0.24657138581871724, -0.09434025551778119, -0.12168095159317106, 0.41796281668897545, -0.009430959436076766, -0.1864564286492047, 0.34409443198794076, 0.4739481786553767, -0.2263535197189845, -0.4507171026284776, -0.38148895150610973, -0.09149702393872057, 0.006113799245207318, -0.3180327386086906, -0.06853071028138927, 0.03858698675576387, -0.4084801343287083, -0.0986525325884818, 0.1482573632762358, 0.18660189346672834], \"y\": [-0.0987870014301342, 0.6781968368867244, -0.3168146316874558, 0.44311493472072766, 0.20285313124198862, -0.12130920853150923, 0.18183023132210832, -0.5308463326686857, -0.15477854755132792, -0.4874357689655489, -0.2558634812276513, -0.016663231783936878, -0.0504888408706677, -0.1588147013818606, 0.12063128412429472, -0.042058082681355156, -0.27860858633081664, 0.5708029898430397, 0.2661861697687777, 0.2690936282684691, -0.6922487959402547, 0.004158108244602128, -0.22601103663160557, 0.2387314281026062, 0.36439817435269645, -0.10198190227789443, -0.3339174700525806, 0.23662302226996093, 0.7113683034838952, -0.6560523385934722, 0.5131527486074532, -0.16878134692257843, -0.06496380514854455, 0.4088266489873357, -0.09281842096840993, 0.1952324410394393, -0.07087234866393494, -0.6589603589092513, -0.15140180099368564, -0.01729325349561911, -0.1743599028872261, 0.7560981963471693, -0.014218074157794715, -0.09839160990580113, -0.143044251853846, -0.10330229686805274, -0.36907625744263056, 0.699414357289003, -0.23108494282662648, 0.020535994750463565], \"z\": [0.041253593478674404, 0.46751221860915015, 0.34579370410960886, 0.10358580378985255, 0.008798482648441486, 0.2042113975960707, 0.15659729599169023, -0.14386609397923572, 0.05045211252317337, -0.08826196425384909, 0.04292152079193581, -0.0931172809275397, 0.08774277331040341, -0.067653468895189, 0.10976014550417731, -0.11698490399207283, 0.05843499221362984, 0.651130632734782, -0.023024981305344694, -0.0846846827788711, 0.040291993030092836, 0.1548900615209363, 0.269451854583484, -0.4699702746647698, 0.29054509849499893, -0.5243319056252628, 0.04882251592047692, 0.25341162487764407, -0.42842106574457367, -0.3328256062532168, -0.1899995305461502, 0.33360079227553924, -0.15217244990465031, -0.33411398025734357, -0.11881321273371595, -0.38266710538638293, 0.19256473039729807, -0.005578136597851924, 0.3474512368573635, 0.04541302232180916, 0.11038359789702562, -0.13617490400043583, 0.1358833920070632, -0.10138562746335579, 0.0355389295344057, -0.3263126728075225, 0.4019868095708533, -0.03562823047051352, -0.23567996415913295, -0.5967622898436027]}],\n",
       "                        {\"template\": {\"data\": {\"bar\": [{\"error_x\": {\"color\": \"#2a3f5f\"}, \"error_y\": {\"color\": \"#2a3f5f\"}, \"marker\": {\"line\": {\"color\": \"#E5ECF6\", \"width\": 0.5}}, \"type\": \"bar\"}], \"barpolar\": [{\"marker\": {\"line\": {\"color\": \"#E5ECF6\", \"width\": 0.5}}, \"type\": \"barpolar\"}], \"carpet\": [{\"aaxis\": {\"endlinecolor\": \"#2a3f5f\", \"gridcolor\": \"white\", \"linecolor\": \"white\", \"minorgridcolor\": \"white\", \"startlinecolor\": \"#2a3f5f\"}, \"baxis\": {\"endlinecolor\": \"#2a3f5f\", \"gridcolor\": \"white\", \"linecolor\": \"white\", \"minorgridcolor\": \"white\", \"startlinecolor\": \"#2a3f5f\"}, \"type\": \"carpet\"}], \"choropleth\": [{\"colorbar\": {\"outlinewidth\": 0, \"ticks\": \"\"}, \"type\": \"choropleth\"}], \"contour\": [{\"colorbar\": {\"outlinewidth\": 0, \"ticks\": \"\"}, \"colorscale\": [[0.0, \"#0d0887\"], [0.1111111111111111, \"#46039f\"], [0.2222222222222222, \"#7201a8\"], [0.3333333333333333, \"#9c179e\"], [0.4444444444444444, \"#bd3786\"], [0.5555555555555556, \"#d8576b\"], [0.6666666666666666, \"#ed7953\"], [0.7777777777777778, \"#fb9f3a\"], [0.8888888888888888, \"#fdca26\"], [1.0, \"#f0f921\"]], \"type\": \"contour\"}], \"contourcarpet\": [{\"colorbar\": {\"outlinewidth\": 0, \"ticks\": \"\"}, \"type\": \"contourcarpet\"}], \"heatmap\": [{\"colorbar\": {\"outlinewidth\": 0, \"ticks\": \"\"}, \"colorscale\": [[0.0, \"#0d0887\"], [0.1111111111111111, \"#46039f\"], [0.2222222222222222, \"#7201a8\"], [0.3333333333333333, \"#9c179e\"], [0.4444444444444444, \"#bd3786\"], [0.5555555555555556, \"#d8576b\"], [0.6666666666666666, \"#ed7953\"], [0.7777777777777778, \"#fb9f3a\"], [0.8888888888888888, \"#fdca26\"], [1.0, \"#f0f921\"]], \"type\": \"heatmap\"}], \"heatmapgl\": [{\"colorbar\": {\"outlinewidth\": 0, \"ticks\": \"\"}, \"colorscale\": [[0.0, \"#0d0887\"], [0.1111111111111111, \"#46039f\"], [0.2222222222222222, \"#7201a8\"], [0.3333333333333333, \"#9c179e\"], [0.4444444444444444, \"#bd3786\"], [0.5555555555555556, \"#d8576b\"], [0.6666666666666666, \"#ed7953\"], [0.7777777777777778, \"#fb9f3a\"], [0.8888888888888888, \"#fdca26\"], [1.0, \"#f0f921\"]], \"type\": \"heatmapgl\"}], \"histogram\": [{\"marker\": {\"colorbar\": {\"outlinewidth\": 0, \"ticks\": \"\"}}, \"type\": \"histogram\"}], \"histogram2d\": [{\"colorbar\": {\"outlinewidth\": 0, \"ticks\": \"\"}, \"colorscale\": [[0.0, \"#0d0887\"], [0.1111111111111111, \"#46039f\"], [0.2222222222222222, \"#7201a8\"], [0.3333333333333333, \"#9c179e\"], [0.4444444444444444, \"#bd3786\"], [0.5555555555555556, \"#d8576b\"], [0.6666666666666666, \"#ed7953\"], [0.7777777777777778, \"#fb9f3a\"], [0.8888888888888888, \"#fdca26\"], [1.0, \"#f0f921\"]], \"type\": \"histogram2d\"}], \"histogram2dcontour\": [{\"colorbar\": {\"outlinewidth\": 0, \"ticks\": \"\"}, \"colorscale\": [[0.0, \"#0d0887\"], [0.1111111111111111, \"#46039f\"], [0.2222222222222222, \"#7201a8\"], [0.3333333333333333, \"#9c179e\"], [0.4444444444444444, \"#bd3786\"], [0.5555555555555556, \"#d8576b\"], [0.6666666666666666, \"#ed7953\"], [0.7777777777777778, \"#fb9f3a\"], [0.8888888888888888, \"#fdca26\"], [1.0, \"#f0f921\"]], \"type\": \"histogram2dcontour\"}], \"mesh3d\": [{\"colorbar\": {\"outlinewidth\": 0, \"ticks\": \"\"}, \"type\": \"mesh3d\"}], \"parcoords\": [{\"line\": {\"colorbar\": {\"outlinewidth\": 0, \"ticks\": \"\"}}, \"type\": \"parcoords\"}], \"pie\": [{\"automargin\": true, \"type\": \"pie\"}], \"scatter\": [{\"marker\": {\"colorbar\": {\"outlinewidth\": 0, \"ticks\": \"\"}}, \"type\": \"scatter\"}], \"scatter3d\": [{\"line\": {\"colorbar\": {\"outlinewidth\": 0, \"ticks\": \"\"}}, \"marker\": {\"colorbar\": {\"outlinewidth\": 0, \"ticks\": \"\"}}, \"type\": \"scatter3d\"}], \"scattercarpet\": [{\"marker\": {\"colorbar\": {\"outlinewidth\": 0, \"ticks\": \"\"}}, \"type\": \"scattercarpet\"}], \"scattergeo\": [{\"marker\": {\"colorbar\": {\"outlinewidth\": 0, \"ticks\": \"\"}}, \"type\": \"scattergeo\"}], \"scattergl\": [{\"marker\": {\"colorbar\": {\"outlinewidth\": 0, \"ticks\": \"\"}}, \"type\": \"scattergl\"}], \"scattermapbox\": [{\"marker\": {\"colorbar\": {\"outlinewidth\": 0, \"ticks\": \"\"}}, \"type\": \"scattermapbox\"}], \"scatterpolar\": [{\"marker\": {\"colorbar\": {\"outlinewidth\": 0, \"ticks\": \"\"}}, \"type\": \"scatterpolar\"}], \"scatterpolargl\": [{\"marker\": {\"colorbar\": {\"outlinewidth\": 0, \"ticks\": \"\"}}, \"type\": \"scatterpolargl\"}], \"scatterternary\": [{\"marker\": {\"colorbar\": {\"outlinewidth\": 0, \"ticks\": \"\"}}, \"type\": \"scatterternary\"}], \"surface\": [{\"colorbar\": {\"outlinewidth\": 0, \"ticks\": \"\"}, \"colorscale\": [[0.0, \"#0d0887\"], [0.1111111111111111, \"#46039f\"], [0.2222222222222222, \"#7201a8\"], [0.3333333333333333, \"#9c179e\"], [0.4444444444444444, \"#bd3786\"], [0.5555555555555556, \"#d8576b\"], [0.6666666666666666, \"#ed7953\"], [0.7777777777777778, \"#fb9f3a\"], [0.8888888888888888, \"#fdca26\"], [1.0, \"#f0f921\"]], \"type\": \"surface\"}], \"table\": [{\"cells\": {\"fill\": {\"color\": \"#EBF0F8\"}, \"line\": {\"color\": \"white\"}}, \"header\": {\"fill\": {\"color\": \"#C8D4E3\"}, \"line\": {\"color\": \"white\"}}, \"type\": \"table\"}]}, \"layout\": {\"annotationdefaults\": {\"arrowcolor\": \"#2a3f5f\", \"arrowhead\": 0, \"arrowwidth\": 1}, \"coloraxis\": {\"colorbar\": {\"outlinewidth\": 0, \"ticks\": \"\"}}, \"colorscale\": {\"diverging\": [[0, \"#8e0152\"], [0.1, \"#c51b7d\"], [0.2, \"#de77ae\"], [0.3, \"#f1b6da\"], [0.4, \"#fde0ef\"], [0.5, \"#f7f7f7\"], [0.6, \"#e6f5d0\"], [0.7, \"#b8e186\"], [0.8, \"#7fbc41\"], [0.9, \"#4d9221\"], [1, \"#276419\"]], \"sequential\": [[0.0, \"#0d0887\"], [0.1111111111111111, \"#46039f\"], [0.2222222222222222, \"#7201a8\"], [0.3333333333333333, \"#9c179e\"], [0.4444444444444444, \"#bd3786\"], [0.5555555555555556, \"#d8576b\"], [0.6666666666666666, \"#ed7953\"], [0.7777777777777778, \"#fb9f3a\"], [0.8888888888888888, \"#fdca26\"], [1.0, \"#f0f921\"]], \"sequentialminus\": [[0.0, \"#0d0887\"], [0.1111111111111111, \"#46039f\"], [0.2222222222222222, \"#7201a8\"], [0.3333333333333333, \"#9c179e\"], [0.4444444444444444, \"#bd3786\"], [0.5555555555555556, \"#d8576b\"], [0.6666666666666666, \"#ed7953\"], [0.7777777777777778, \"#fb9f3a\"], [0.8888888888888888, \"#fdca26\"], [1.0, \"#f0f921\"]]}, \"colorway\": [\"#636efa\", \"#EF553B\", \"#00cc96\", \"#ab63fa\", \"#FFA15A\", \"#19d3f3\", \"#FF6692\", \"#B6E880\", \"#FF97FF\", \"#FECB52\"], \"font\": {\"color\": \"#2a3f5f\"}, \"geo\": {\"bgcolor\": \"white\", \"lakecolor\": \"white\", \"landcolor\": \"#E5ECF6\", \"showlakes\": true, \"showland\": true, \"subunitcolor\": \"white\"}, \"hoverlabel\": {\"align\": \"left\"}, \"hovermode\": \"closest\", \"mapbox\": {\"style\": \"light\"}, \"paper_bgcolor\": \"white\", \"plot_bgcolor\": \"#E5ECF6\", \"polar\": {\"angularaxis\": {\"gridcolor\": \"white\", \"linecolor\": \"white\", \"ticks\": \"\"}, \"bgcolor\": \"#E5ECF6\", \"radialaxis\": {\"gridcolor\": \"white\", \"linecolor\": \"white\", \"ticks\": \"\"}}, \"scene\": {\"xaxis\": {\"backgroundcolor\": \"#E5ECF6\", \"gridcolor\": \"white\", \"gridwidth\": 2, \"linecolor\": \"white\", \"showbackground\": true, \"ticks\": \"\", \"zerolinecolor\": \"white\"}, \"yaxis\": {\"backgroundcolor\": \"#E5ECF6\", \"gridcolor\": \"white\", \"gridwidth\": 2, \"linecolor\": \"white\", \"showbackground\": true, \"ticks\": \"\", \"zerolinecolor\": \"white\"}, \"zaxis\": {\"backgroundcolor\": \"#E5ECF6\", \"gridcolor\": \"white\", \"gridwidth\": 2, \"linecolor\": \"white\", \"showbackground\": true, \"ticks\": \"\", \"zerolinecolor\": \"white\"}}, \"shapedefaults\": {\"line\": {\"color\": \"#2a3f5f\"}}, \"ternary\": {\"aaxis\": {\"gridcolor\": \"white\", \"linecolor\": \"white\", \"ticks\": \"\"}, \"baxis\": {\"gridcolor\": \"white\", \"linecolor\": \"white\", \"ticks\": \"\"}, \"bgcolor\": \"#E5ECF6\", \"caxis\": {\"gridcolor\": \"white\", \"linecolor\": \"white\", \"ticks\": \"\"}}, \"title\": {\"x\": 0.05}, \"xaxis\": {\"automargin\": true, \"gridcolor\": \"white\", \"linecolor\": \"white\", \"ticks\": \"\", \"title\": {\"standoff\": 15}, \"zerolinecolor\": \"white\", \"zerolinewidth\": 2}, \"yaxis\": {\"automargin\": true, \"gridcolor\": \"white\", \"linecolor\": \"white\", \"ticks\": \"\", \"title\": {\"standoff\": 15}, \"zerolinecolor\": \"white\", \"zerolinewidth\": 2}}}},\n",
       "                        {\"responsive\": true}\n",
       "                    ).then(function(){\n",
       "                            \n",
       "var gd = document.getElementById('37000a54-bacc-4b89-bf74-6ddb5eb82e5f');\n",
       "var x = new MutationObserver(function (mutations, observer) {{\n",
       "        var display = window.getComputedStyle(gd).display;\n",
       "        if (!display || display === 'none') {{\n",
       "            console.log([gd, 'removed!']);\n",
       "            Plotly.purge(gd);\n",
       "            observer.disconnect();\n",
       "        }}\n",
       "}});\n",
       "\n",
       "// Listen for the removal of the full notebook cells\n",
       "var notebookContainer = gd.closest('#notebook-container');\n",
       "if (notebookContainer) {{\n",
       "    x.observe(notebookContainer, {childList: true});\n",
       "}}\n",
       "\n",
       "// Listen for the clearing of the current output cell\n",
       "var outputEl = gd.closest('.output');\n",
       "if (outputEl) {{\n",
       "    x.observe(outputEl, {childList: true});\n",
       "}}\n",
       "\n",
       "                        })\n",
       "                };\n",
       "                });\n",
       "            </script>\n",
       "        </div>"
      ]
     },
     "metadata": {},
     "output_type": "display_data"
    }
   ],
   "source": [
    "plot_PCA_large()"
   ]
  },
  {
   "cell_type": "markdown",
   "metadata": {},
   "source": [
    "### Plot correlation matrix"
   ]
  },
  {
   "cell_type": "code",
   "execution_count": 45,
   "metadata": {
    "scrolled": true
   },
   "outputs": [],
   "source": [
    "def plot_correlation():\n",
    "    correlation = df[['acousticness','danceability','energy','instrumentalness','liveness','tempo','valence',\n",
    "                           'loudness']]\n",
    "    plt.figure(figsize=(12,8))\n",
    "    sns.heatmap(correlation.corr(), annot=True,cmap=\"coolwarm\");"
   ]
  },
  {
   "cell_type": "code",
   "execution_count": 46,
   "metadata": {},
   "outputs": [
    {
     "data": {
      "image/png": "[encoded data removed]",
      "text/plain": [
       "<Figure size 864x576 with 2 Axes>"
      ]
     },
     "metadata": {
      "needs_background": "light"
     },
     "output_type": "display_data"
    }
   ],
   "source": [
    "plot_correlation()"
   ]
  },
  {
   "cell_type": "markdown",
   "metadata": {},
   "source": [
    "We can observe that there is a correlation between the loudness and the perceived energy of the song. The jointplots indicate a correlation between these two. Lets understand  how much one feature si impacted by another feature "
   ]
  },
  {
   "cell_type": "markdown",
   "metadata": {},
   "source": [
    "### Join plots"
   ]
  },
  {
   "cell_type": "markdown",
   "metadata": {},
   "source": [
    "And for the features we again plotted a regression based joinplot. AS The multivariate normal distribution is a nice tool to demonstrate this type of plot and thus  it is sampling from a multidimensional Gaussian and there is natural clustering.\n",
    "Here the line is  not close to flat because we chose our variables to be correlated.\n",
    "So, in nutshell we had our eda as expected to be and it gave us the best features for a song to be at the top."
   ]
  },
  {
   "cell_type": "code",
   "execution_count": 47,
   "metadata": {},
   "outputs": [],
   "source": [
    "def create_joinplot(val1,val2,year,colr):\n",
    "    sns.jointplot(val1,val2, data=year,kind='reg',color=colr)"
   ]
  },
  {
   "cell_type": "code",
   "execution_count": 48,
   "metadata": {},
   "outputs": [
    {
     "data": {
      "image/png": "[encoded data removed]",
      "text/plain": [
       "<Figure size 432x432 with 3 Axes>"
      ]
     },
     "metadata": {
      "needs_background": "light"
     },
     "output_type": "display_data"
    },
    {
     "data": {
      "image/png": "[encoded data removed]",
      "text/plain": [
       "<Figure size 432x432 with 3 Axes>"
      ]
     },
     "metadata": {
      "needs_background": "light"
     },
     "output_type": "display_data"
    },
    {
     "data": {
      "image/png": "[encoded data removed]",
      "text/plain": [
       "<Figure size 432x432 with 3 Axes>"
      ]
     },
     "metadata": {
      "needs_background": "light"
     },
     "output_type": "display_data"
    },
    {
     "data": {
      "image/png": "[encoded data removed]",
      "text/plain": [
       "<Figure size 432x432 with 3 Axes>"
      ]
     },
     "metadata": {
      "needs_background": "light"
     },
     "output_type": "display_data"
    }
   ],
   "source": [
    "\n",
    "create_joinplot('loudness','energy',df,'r')\n",
    "create_joinplot('tempo','danceability',df,'b')\n",
    "create_joinplot('acousticness','energy',df,'y')\n",
    "create_joinplot('valence','energy',df,'b')"
   ]
  },
  {
   "cell_type": "markdown",
   "metadata": {},
   "source": [
    "from the corelation matrix we observe that  \n",
    "- there is a relation between  tempo and dancebility \n",
    "- there is a relation between  acounsticeness and energy \n",
    "- there is a relation between  tempo and acousticeness\n",
    "- there is a relation between  energy and loudness\n",
    "- there is a relation between  tempo and valence\n",
    "- there is a relation between  valence and dancebility \n",
    "- there is a relation between  valence and energy  "
   ]
  },
  {
   "cell_type": "markdown",
   "metadata": {},
   "source": [
    "### dist plot for feature details \n"
   ]
  },
  {
   "cell_type": "code",
   "execution_count": 49,
   "metadata": {},
   "outputs": [],
   "source": [
    "def feature_details(feature):\n",
    "    print(\"Mean value \", feature.mean())\n",
    "    sns.distplot(feature,color=\"r\")\n",
    "    plt.show()\n"
   ]
  },
  {
   "cell_type": "code",
   "execution_count": 50,
   "metadata": {},
   "outputs": [
    {
     "name": "stdout",
     "output_type": "stream",
     "text": [
      "Mean value  0.7194000000000002\n"
     ]
    },
    {
     "data": {
      "image/png": "[encoded data removed]",
      "text/plain": [
       "<Figure size 432x288 with 1 Axes>"
      ]
     },
     "metadata": {
      "needs_background": "light"
     },
     "output_type": "display_data"
    }
   ],
   "source": [
    "feature_details(df['danceability'])"
   ]
  },
  {
   "cell_type": "markdown",
   "metadata": {},
   "source": [
    "*Conclusion*: top songs have high dancebility.And people listen to those songs in which they can dance."
   ]
  },
  {
   "cell_type": "code",
   "execution_count": 51,
   "metadata": {},
   "outputs": [
    {
     "name": "stdout",
     "output_type": "stream",
     "text": [
      "Mean value  0.60462\n"
     ]
    },
    {
     "data": {
      "image/png": "[encoded data removed]",
      "text/plain": [
       "<Figure size 432x288 with 1 Axes>"
      ]
     },
     "metadata": {
      "needs_background": "light"
     },
     "output_type": "display_data"
    }
   ],
   "source": [
    "feature_details(df['energy'])"
   ]
  },
  {
   "cell_type": "markdown",
   "metadata": {},
   "source": [
    "*Conclusion*:people like energetic songs "
   ]
  },
  {
   "cell_type": "code",
   "execution_count": 52,
   "metadata": {},
   "outputs": [
    {
     "name": "stdout",
     "output_type": "stream",
     "text": [
      "Mean value  -6.22902\n"
     ]
    },
    {
     "data": {
      "image/png": "[encoded data removed]",
      "text/plain": [
       "<Figure size 432x288 with 1 Axes>"
      ]
     },
     "metadata": {
      "needs_background": "light"
     },
     "output_type": "display_data"
    }
   ],
   "source": [
    "feature_details(df['loudness'])"
   ]
  },
  {
   "cell_type": "markdown",
   "metadata": {},
   "source": [
    "*Conclusion*: more noice means more ranking "
   ]
  },
  {
   "cell_type": "code",
   "execution_count": 53,
   "metadata": {},
   "outputs": [
    {
     "name": "stdout",
     "output_type": "stream",
     "text": [
      "Mean value  0.2993606\n"
     ]
    },
    {
     "data": {
      "image/png": "[encoded data removed]",
      "text/plain": [
       "<Figure size 432x288 with 1 Axes>"
      ]
     },
     "metadata": {
      "needs_background": "light"
     },
     "output_type": "display_data"
    }
   ],
   "source": [
    "feature_details(df['acousticness'])"
   ]
  },
  {
   "cell_type": "markdown",
   "metadata": {},
   "source": [
    "*Conclusion*:people don't lisen more to the acoustics "
   ]
  },
  {
   "cell_type": "code",
   "execution_count": 54,
   "metadata": {},
   "outputs": [
    {
     "name": "stdout",
     "output_type": "stream",
     "text": [
      "Mean value  0.49042\n"
     ]
    },
    {
     "data": {
      "image/png": "[encoded data removed]",
      "text/plain": [
       "<Figure size 432x288 with 1 Axes>"
      ]
     },
     "metadata": {
      "needs_background": "light"
     },
     "output_type": "display_data"
    }
   ],
   "source": [
    "feature_details(df['valence'])"
   ]
  },
  {
   "cell_type": "markdown",
   "metadata": {},
   "source": [
    "*Conclusion*:songs are evenly distributed and totally depends upon the mood "
   ]
  },
  {
   "cell_type": "code",
   "execution_count": 55,
   "metadata": {},
   "outputs": [
    {
     "name": "stdout",
     "output_type": "stream",
     "text": [
      "Mean value  120.42562\n"
     ]
    },
    {
     "data": {
      "image/png": "[encoded data removed]",
      "text/plain": [
       "<Figure size 432x288 with 1 Axes>"
      ]
     },
     "metadata": {
      "needs_background": "light"
     },
     "output_type": "display_data"
    }
   ],
   "source": [
    "feature_details(df['tempo'])"
   ]
  },
  {
   "cell_type": "code",
   "execution_count": 56,
   "metadata": {},
   "outputs": [],
   "source": [
    "# store mean values of above features\n",
    "a=df['danceability'].mean()\n",
    "b=df['energy'].mean()\n",
    "c=df['loudness'].mean()\n",
    "d=df['acousticness'].mean()\n",
    "e=df['valence'].mean()\n",
    "f=df['tempo'].mean()"
   ]
  },
  {
   "cell_type": "markdown",
   "metadata": {},
   "source": [
    "*Conclusion*:people listen fast songs more "
   ]
  },
  {
   "cell_type": "markdown",
   "metadata": {},
   "source": [
    "### pca -important features "
   ]
  },
  {
   "cell_type": "code",
   "execution_count": 57,
   "metadata": {},
   "outputs": [],
   "source": [
    "def plot_pca_important_features():\n",
    "    feture_to_plot = [\"energy\", \"liveness\", \"tempo\", \"valence\",\"danceability\"]\n",
    "    text1 = df[\"artists\"] + \" - \" + df[\"name\"]\n",
    "    text2 = text1.values\n",
    "    X = df[feture_to_plot].values\n",
    "    y = df[\"danceability\"].values\n",
    "    min_maxscaler = MinMaxScaler()\n",
    "    X = min_maxscaler.fit_transform(X)\n",
    "    pca = PCA(n_components=3)\n",
    "    pca.fit(X)\n",
    "    X = pca.transform(X)\n",
    "\n",
    "    plot3d = go.Scatter3d(\n",
    "        x=X[:,0],\n",
    "        y=X[:,1],\n",
    "        z=X[:,2],\n",
    "        text=text2,\n",
    "        mode=\"markers\",\n",
    "        marker=dict(\n",
    "            size=8,\n",
    "            color=y\n",
    "        )\n",
    "    )\n",
    "\n",
    "    fig = go.Figure(data=[plot3d])\n",
    "    py.iplot(fig, filename=\"3d graph-2nd\")\n"
   ]
  },
  {
   "cell_type": "code",
   "execution_count": 58,
   "metadata": {},
   "outputs": [
    {
     "data": {
      "application/vnd.plotly.v1+json": {
       "config": {
        "linkText": "Export to plot.ly",
        "plotlyServerURL": "https://plot.ly",
        "showLink": false
       },
       "data": [
        {
         "marker": {
          "color": [
           0.759,
           0.701,
           0.755,
           0.778,
           0.878,
           0.7979999999999999,
           0.8290000000000001,
           0.501,
           0.737,
           0.5720000000000001,
           0.687,
           0.752,
           0.826,
           0.7170000000000001,
           0.8420000000000001,
           0.7190000000000001,
           0.741,
           0.905,
           0.907,
           0.9009999999999999,
           0.36700000000000005,
           0.64,
           0.825,
           0.726,
           0.8370000000000001,
           0.58,
           0.579,
           0.8420000000000001,
           0.745,
           0.35100000000000003,
           0.8340000000000001,
           0.889,
           0.674,
           0.61,
           0.8170000000000001,
           0.715,
           0.632,
           0.414,
           0.807,
           0.7859999999999999,
           0.691,
           0.747,
           0.599,
           0.677,
           0.802,
           0.68,
           0.795,
           0.767,
           0.652,
           0.585
          ],
          "size": 8
         },
         "mode": "markers",
         "text": [
          "Shawn Mendes - SeÃ±orita",
          "Billie Eilish - bad guy",
          "Post Malone - Sunflower - Spider-Man: Into the Spider-Verse",
          "Ariana Grande - 7 rings",
          "Lil Nas X - Old Town Road - Remix",
          "Ed Sheeran - I Don't Care (with Justin Bieber)",
          "Post Malone - Wow.",
          "Lewis Capaldi - Someone You Loved",
          "Daddy Yankee - Con Calma",
          "Lady Gaga - Shallow",
          "Marshmello - Happier",
          "Halsey - Without Me",
          "Pedro CapÃ³ - Calma - Remix",
          "Ariana Grande - thank u, next",
          "Jonas Brothers - Sucker",
          "Ava Max - Sweet but Psycho",
          "Sam Smith - Dancing With A Stranger (with Normani)",
          "Billie Eilish - bury a friend",
          "Lil Nas X - Old Town Road",
          "Khalid - Talk (feat. Disclosure)",
          "Billie Eilish - when the party's over",
          "Ed Sheeran - Beautiful People (feat. Khalid)",
          "Tones And I - Dance Monkey",
          "Ariana Grande - break up with your girlfriend, i'm bored",
          "J. Cole - MIDDLE CHILD",
          "Post Malone - Goodbyes (Feat. Young Thug)",
          "Panic! At The Disco - High Hopes",
          "DJ Snake - Taki Taki (feat. Selena Gomez, Ozuna & Cardi B)",
          "Lil Tecca - Ransom",
          "Billie Eilish - lovely (with Khalid)",
          "Travis Scott - SICKO MODE",
          "Meek Mill - Going Bad (feat. Drake)",
          "Mabel - Don't Call Me Up",
          "Bad Bunny - Callaita",
          "Bad Bunny - MIA (feat. Drake)",
          "Lizzo - Truth Hurts",
          "benny blanco - Eastside (with Halsey & Khalid)",
          "Queen - Bohemian Rhapsody - 2011 Mix",
          "Anuel AA - Secreto",
          "Anuel AA - China",
          "Shawn Mendes - If I Can't Have You",
          "Sech - Otro Trago",
          "Lauv - i'm so tired...",
          "MEDUZA - Piece Of Your Heart",
          "Avicii - SOS (feat. Aloe Blacc)",
          "Post Malone - Better Now",
          "Lunay - Soltera - Remix",
          "Paulo Londra - Adan y Eva",
          "Alec Benjamin - Let Me Down Slowly",
          "Post Malone - rockstar (feat. 21 Savage)"
         ],
         "type": "scatter3d",
         "x": [
          -0.23652488783422945,
          0.06570259779359183,
          -0.3914655617551256,
          0.2738485408507476,
          -0.26813046232560517,
          -0.4384253776331666,
          0.019605253171482408,
          0.33594087162571,
          -0.3411807722600374,
          0.4032578587670686,
          -0.25285549641157534,
          0.009505564016856411,
          -0.4259397708855795,
          0.029616953409747033,
          -0.5825299838125767,
          -0.1687889661984814,
          0.15966025128602981,
          0.22734583072659686,
          -0.1244046858445218,
          0.09579321389378889,
          0.827400845148083,
          -0.03062829902762313,
          -0.13618138038408434,
          0.18950823779956355,
          0.08860932928431599,
          0.38416429555829446,
          -0.2613226509758838,
          -0.3589221423156821,
          0.21751091689876093,
          0.8195570711217767,
          -0.11379965089367723,
          -0.13298120515010015,
          0.0783572041549014,
          0.34828948962687944,
          0.23049990587193675,
          0.08355182221755267,
          0.15775282248073097,
          0.6076842093987659,
          -0.4019387040835611,
          -0.3001840491829292,
          -0.4398598147462719,
          -0.16358403186374748,
          -0.010184429001391044,
          -0.17704225336727478,
          -0.008482653042970866,
          0.1972203622419417,
          -0.4229457924311822,
          -0.281438339012065,
          0.11022199105719002,
          0.5091359220370336
         ],
         "y": [
          0.010779798373904874,
          -0.12486584844438084,
          0.25394186388361784,
          -0.24976739311912982,
          -0.2049523289878227,
          0.13358784106890179,
          0.07591916766816952,
          0.1758170084032514,
          0.178358571778711,
          0.33071099625063566,
          0.23819920884945697,
          -0.16868444667397414,
          -0.06206767489646861,
          0.07747636699809198,
          -0.1605461623772914,
          -0.0596663749586565,
          0.17857589444326527,
          -0.1568083669245599,
          -0.24804683419191204,
          -0.29875691009221617,
          0.4256255780180366,
          0.23901309450811717,
          0.16596580977265984,
          -0.459050610666712,
          0.00878782769997347,
          -0.2396018544959569,
          0.3688993855758622,
          0.10729963242867166,
          -0.5989096406412499,
          0.15312431513249344,
          -0.361763858433091,
          0.2950009213949048,
          0.12156837843703827,
          -0.36273308137752125,
          0.06840305199647183,
          -0.3303944604673611,
          0.32390520335198075,
          0.6546143939865569,
          0.22462776904025725,
          0.07249589678005443,
          0.04264855755541307,
          -0.4750287095011466,
          0.30099662498842783,
          -0.0314020679574199,
          0.09895195942471734,
          -0.2051086109887439,
          0.4677422417545602,
          -0.46297667946134785,
          -0.2188062025961982,
          -0.3130992423110391
         ],
         "z": [
          -0.03221768262044514,
          -0.001717689219411499,
          -0.05100016010231381,
          0.19388634643431657,
          0.13052734580924627,
          -0.044529196142307326,
          0.1936398502907155,
          -0.1994800468573507,
          -0.2110470512649717,
          0.10254132443745911,
          -0.12086670003519376,
          0.03148083403230206,
          -0.003291109256450357,
          -0.03389424748696167,
          -0.061929386909043344,
          -0.059450635254953685,
          0.23408155949510193,
          0.40110204937025157,
          0.23304919950095318,
          0.281890678190246,
          -0.1541210673437379,
          -0.17470957045661575,
          0.2070955094612091,
          -0.016541107301981908,
          0.4549653247713094,
          -0.20086558955952902,
          -0.431800608536104,
          -0.023053038477822835,
          -0.07220288964128418,
          -0.2866918358411528,
          0.048390920373169576,
          0.45624839525364286,
          -0.18925366938301932,
          -0.0316091868929661,
          0.22893738812296546,
          -0.05248992860898623,
          -0.00876941771089263,
          0.013009892537530085,
          -0.001160798369515991,
          -0.0891501359869721,
          -0.2445096790712766,
          -0.1336287467941066,
          -0.08892127461523472,
          -0.23850651649194873,
          0.12276281834400557,
          -0.02967494659843562,
          0.3334624007208048,
          -0.17258034033131736,
          -0.10788309563198435,
          -0.099524488350946
         ]
        }
       ],
       "layout": {
        "template": {
         "data": {
          "bar": [
           {
            "error_x": {
             "color": "#2a3f5f"
            },
            "error_y": {
             "color": "#2a3f5f"
            },
            "marker": {
             "line": {
              "color": "#E5ECF6",
              "width": 0.5
             }
            },
            "type": "bar"
           }
          ],
          "barpolar": [
           {
            "marker": {
             "line": {
              "color": "#E5ECF6",
              "width": 0.5
             }
            },
            "type": "barpolar"
           }
          ],
          "carpet": [
           {
            "aaxis": {
             "endlinecolor": "#2a3f5f",
             "gridcolor": "white",
             "linecolor": "white",
             "minorgridcolor": "white",
             "startlinecolor": "#2a3f5f"
            },
            "baxis": {
             "endlinecolor": "#2a3f5f",
             "gridcolor": "white",
             "linecolor": "white",
             "minorgridcolor": "white",
             "startlinecolor": "#2a3f5f"
            },
            "type": "carpet"
           }
          ],
          "choropleth": [
           {
            "colorbar": {
             "outlinewidth": 0,
             "ticks": ""
            },
            "type": "choropleth"
           }
          ],
          "contour": [
           {
            "colorbar": {
             "outlinewidth": 0,
             "ticks": ""
            },
            "colorscale": [
             [
              0,
              "#0d0887"
             ],
             [
              0.1111111111111111,
              "#46039f"
             ],
             [
              0.2222222222222222,
              "#7201a8"
             ],
             [
              0.3333333333333333,
              "#9c179e"
             ],
             [
              0.4444444444444444,
              "#bd3786"
             ],
             [
              0.5555555555555556,
              "#d8576b"
             ],
             [
              0.6666666666666666,
              "#ed7953"
             ],
             [
              0.7777777777777778,
              "#fb9f3a"
             ],
             [
              0.8888888888888888,
              "#fdca26"
             ],
             [
              1,
              "#f0f921"
             ]
            ],
            "type": "contour"
           }
          ],
          "contourcarpet": [
           {
            "colorbar": {
             "outlinewidth": 0,
             "ticks": ""
            },
            "type": "contourcarpet"
           }
          ],
          "heatmap": [
           {
            "colorbar": {
             "outlinewidth": 0,
             "ticks": ""
            },
            "colorscale": [
             [
              0,
              "#0d0887"
             ],
             [
              0.1111111111111111,
              "#46039f"
             ],
             [
              0.2222222222222222,
              "#7201a8"
             ],
             [
              0.3333333333333333,
              "#9c179e"
             ],
             [
              0.4444444444444444,
              "#bd3786"
             ],
             [
              0.5555555555555556,
              "#d8576b"
             ],
             [
              0.6666666666666666,
              "#ed7953"
             ],
             [
              0.7777777777777778,
              "#fb9f3a"
             ],
             [
              0.8888888888888888,
              "#fdca26"
             ],
             [
              1,
              "#f0f921"
             ]
            ],
            "type": "heatmap"
           }
          ],
          "heatmapgl": [
           {
            "colorbar": {
             "outlinewidth": 0,
             "ticks": ""
            },
            "colorscale": [
             [
              0,
              "#0d0887"
             ],
             [
              0.1111111111111111,
              "#46039f"
             ],
             [
              0.2222222222222222,
              "#7201a8"
             ],
             [
              0.3333333333333333,
              "#9c179e"
             ],
             [
              0.4444444444444444,
              "#bd3786"
             ],
             [
              0.5555555555555556,
              "#d8576b"
             ],
             [
              0.6666666666666666,
              "#ed7953"
             ],
             [
              0.7777777777777778,
              "#fb9f3a"
             ],
             [
              0.8888888888888888,
              "#fdca26"
             ],
             [
              1,
              "#f0f921"
             ]
            ],
            "type": "heatmapgl"
           }
          ],
          "histogram": [
           {
            "marker": {
             "colorbar": {
              "outlinewidth": 0,
              "ticks": ""
             }
            },
            "type": "histogram"
           }
          ],
          "histogram2d": [
           {
            "colorbar": {
             "outlinewidth": 0,
             "ticks": ""
            },
            "colorscale": [
             [
              0,
              "#0d0887"
             ],
             [
              0.1111111111111111,
              "#46039f"
             ],
             [
              0.2222222222222222,
              "#7201a8"
             ],
             [
              0.3333333333333333,
              "#9c179e"
             ],
             [
              0.4444444444444444,
              "#bd3786"
             ],
             [
              0.5555555555555556,
              "#d8576b"
             ],
             [
              0.6666666666666666,
              "#ed7953"
             ],
             [
              0.7777777777777778,
              "#fb9f3a"
             ],
             [
              0.8888888888888888,
              "#fdca26"
             ],
             [
              1,
              "#f0f921"
             ]
            ],
            "type": "histogram2d"
           }
          ],
          "histogram2dcontour": [
           {
            "colorbar": {
             "outlinewidth": 0,
             "ticks": ""
            },
            "colorscale": [
             [
              0,
              "#0d0887"
             ],
             [
              0.1111111111111111,
              "#46039f"
             ],
             [
              0.2222222222222222,
              "#7201a8"
             ],
             [
              0.3333333333333333,
              "#9c179e"
             ],
             [
              0.4444444444444444,
              "#bd3786"
             ],
             [
              0.5555555555555556,
              "#d8576b"
             ],
             [
              0.6666666666666666,
              "#ed7953"
             ],
             [
              0.7777777777777778,
              "#fb9f3a"
             ],
             [
              0.8888888888888888,
              "#fdca26"
             ],
             [
              1,
              "#f0f921"
             ]
            ],
            "type": "histogram2dcontour"
           }
          ],
          "mesh3d": [
           {
            "colorbar": {
             "outlinewidth": 0,
             "ticks": ""
            },
            "type": "mesh3d"
           }
          ],
          "parcoords": [
           {
            "line": {
             "colorbar": {
              "outlinewidth": 0,
              "ticks": ""
             }
            },
            "type": "parcoords"
           }
          ],
          "pie": [
           {
            "automargin": true,
            "type": "pie"
           }
          ],
          "scatter": [
           {
            "marker": {
             "colorbar": {
              "outlinewidth": 0,
              "ticks": ""
             }
            },
            "type": "scatter"
           }
          ],
          "scatter3d": [
           {
            "line": {
             "colorbar": {
              "outlinewidth": 0,
              "ticks": ""
             }
            },
            "marker": {
             "colorbar": {
              "outlinewidth": 0,
              "ticks": ""
             }
            },
            "type": "scatter3d"
           }
          ],
          "scattercarpet": [
           {
            "marker": {
             "colorbar": {
              "outlinewidth": 0,
              "ticks": ""
             }
            },
            "type": "scattercarpet"
           }
          ],
          "scattergeo": [
           {
            "marker": {
             "colorbar": {
              "outlinewidth": 0,
              "ticks": ""
             }
            },
            "type": "scattergeo"
           }
          ],
          "scattergl": [
           {
            "marker": {
             "colorbar": {
              "outlinewidth": 0,
              "ticks": ""
             }
            },
            "type": "scattergl"
           }
          ],
          "scattermapbox": [
           {
            "marker": {
             "colorbar": {
              "outlinewidth": 0,
              "ticks": ""
             }
            },
            "type": "scattermapbox"
           }
          ],
          "scatterpolar": [
           {
            "marker": {
             "colorbar": {
              "outlinewidth": 0,
              "ticks": ""
             }
            },
            "type": "scatterpolar"
           }
          ],
          "scatterpolargl": [
           {
            "marker": {
             "colorbar": {
              "outlinewidth": 0,
              "ticks": ""
             }
            },
            "type": "scatterpolargl"
           }
          ],
          "scatterternary": [
           {
            "marker": {
             "colorbar": {
              "outlinewidth": 0,
              "ticks": ""
             }
            },
            "type": "scatterternary"
           }
          ],
          "surface": [
           {
            "colorbar": {
             "outlinewidth": 0,
             "ticks": ""
            },
            "colorscale": [
             [
              0,
              "#0d0887"
             ],
             [
              0.1111111111111111,
              "#46039f"
             ],
             [
              0.2222222222222222,
              "#7201a8"
             ],
             [
              0.3333333333333333,
              "#9c179e"
             ],
             [
              0.4444444444444444,
              "#bd3786"
             ],
             [
              0.5555555555555556,
              "#d8576b"
             ],
             [
              0.6666666666666666,
              "#ed7953"
             ],
             [
              0.7777777777777778,
              "#fb9f3a"
             ],
             [
              0.8888888888888888,
              "#fdca26"
             ],
             [
              1,
              "#f0f921"
             ]
            ],
            "type": "surface"
           }
          ],
          "table": [
           {
            "cells": {
             "fill": {
              "color": "#EBF0F8"
             },
             "line": {
              "color": "white"
             }
            },
            "header": {
             "fill": {
              "color": "#C8D4E3"
             },
             "line": {
              "color": "white"
             }
            },
            "type": "table"
           }
          ]
         },
         "layout": {
          "annotationdefaults": {
           "arrowcolor": "#2a3f5f",
           "arrowhead": 0,
           "arrowwidth": 1
          },
          "coloraxis": {
           "colorbar": {
            "outlinewidth": 0,
            "ticks": ""
           }
          },
          "colorscale": {
           "diverging": [
            [
             0,
             "#8e0152"
            ],
            [
             0.1,
             "#c51b7d"
            ],
            [
             0.2,
             "#de77ae"
            ],
            [
             0.3,
             "#f1b6da"
            ],
            [
             0.4,
             "#fde0ef"
            ],
            [
             0.5,
             "#f7f7f7"
            ],
            [
             0.6,
             "#e6f5d0"
            ],
            [
             0.7,
             "#b8e186"
            ],
            [
             0.8,
             "#7fbc41"
            ],
            [
             0.9,
             "#4d9221"
            ],
            [
             1,
             "#276419"
            ]
           ],
           "sequential": [
            [
             0,
             "#0d0887"
            ],
            [
             0.1111111111111111,
             "#46039f"
            ],
            [
             0.2222222222222222,
             "#7201a8"
            ],
            [
             0.3333333333333333,
             "#9c179e"
            ],
            [
             0.4444444444444444,
             "#bd3786"
            ],
            [
             0.5555555555555556,
             "#d8576b"
            ],
            [
             0.6666666666666666,
             "#ed7953"
            ],
            [
             0.7777777777777778,
             "#fb9f3a"
            ],
            [
             0.8888888888888888,
             "#fdca26"
            ],
            [
             1,
             "#f0f921"
            ]
           ],
           "sequentialminus": [
            [
             0,
             "#0d0887"
            ],
            [
             0.1111111111111111,
             "#46039f"
            ],
            [
             0.2222222222222222,
             "#7201a8"
            ],
            [
             0.3333333333333333,
             "#9c179e"
            ],
            [
             0.4444444444444444,
             "#bd3786"
            ],
            [
             0.5555555555555556,
             "#d8576b"
            ],
            [
             0.6666666666666666,
             "#ed7953"
            ],
            [
             0.7777777777777778,
             "#fb9f3a"
            ],
            [
             0.8888888888888888,
             "#fdca26"
            ],
            [
             1,
             "#f0f921"
            ]
           ]
          },
          "colorway": [
           "#636efa",
           "#EF553B",
           "#00cc96",
           "#ab63fa",
           "#FFA15A",
           "#19d3f3",
           "#FF6692",
           "#B6E880",
           "#FF97FF",
           "#FECB52"
          ],
          "font": {
           "color": "#2a3f5f"
          },
          "geo": {
           "bgcolor": "white",
           "lakecolor": "white",
           "landcolor": "#E5ECF6",
           "showlakes": true,
           "showland": true,
           "subunitcolor": "white"
          },
          "hoverlabel": {
           "align": "left"
          },
          "hovermode": "closest",
          "mapbox": {
           "style": "light"
          },
          "paper_bgcolor": "white",
          "plot_bgcolor": "#E5ECF6",
          "polar": {
           "angularaxis": {
            "gridcolor": "white",
            "linecolor": "white",
            "ticks": ""
           },
           "bgcolor": "#E5ECF6",
           "radialaxis": {
            "gridcolor": "white",
            "linecolor": "white",
            "ticks": ""
           }
          },
          "scene": {
           "xaxis": {
            "backgroundcolor": "#E5ECF6",
            "gridcolor": "white",
            "gridwidth": 2,
            "linecolor": "white",
            "showbackground": true,
            "ticks": "",
            "zerolinecolor": "white"
           },
           "yaxis": {
            "backgroundcolor": "#E5ECF6",
            "gridcolor": "white",
            "gridwidth": 2,
            "linecolor": "white",
            "showbackground": true,
            "ticks": "",
            "zerolinecolor": "white"
           },
           "zaxis": {
            "backgroundcolor": "#E5ECF6",
            "gridcolor": "white",
            "gridwidth": 2,
            "linecolor": "white",
            "showbackground": true,
            "ticks": "",
            "zerolinecolor": "white"
           }
          },
          "shapedefaults": {
           "line": {
            "color": "#2a3f5f"
           }
          },
          "ternary": {
           "aaxis": {
            "gridcolor": "white",
            "linecolor": "white",
            "ticks": ""
           },
           "baxis": {
            "gridcolor": "white",
            "linecolor": "white",
            "ticks": ""
           },
           "bgcolor": "#E5ECF6",
           "caxis": {
            "gridcolor": "white",
            "linecolor": "white",
            "ticks": ""
           }
          },
          "title": {
           "x": 0.05
          },
          "xaxis": {
           "automargin": true,
           "gridcolor": "white",
           "linecolor": "white",
           "ticks": "",
           "title": {
            "standoff": 15
           },
           "zerolinecolor": "white",
           "zerolinewidth": 2
          },
          "yaxis": {
           "automargin": true,
           "gridcolor": "white",
           "linecolor": "white",
           "ticks": "",
           "title": {
            "standoff": 15
           },
           "zerolinecolor": "white",
           "zerolinewidth": 2
          }
         }
        }
       }
      },
      "text/html": [
       "<div>\n",
       "        \n",
       "        \n",
       "            <div id=\"6bb855e6-27b2-466a-8d3b-b03a9eb18d6a\" class=\"plotly-graph-div\" style=\"height:525px; width:100%;\"></div>\n",
       "            <script type=\"text/javascript\">\n",
       "                require([\"plotly\"], function(Plotly) {\n",
       "                    window.PLOTLYENV=window.PLOTLYENV || {};\n",
       "                    \n",
       "                if (document.getElementById(\"6bb855e6-27b2-466a-8d3b-b03a9eb18d6a\")) {\n",
       "                    Plotly.newPlot(\n",
       "                        '6bb855e6-27b2-466a-8d3b-b03a9eb18d6a',\n",
       "                        [{\"marker\": {\"color\": [0.759, 0.701, 0.755, 0.778, 0.878, 0.7979999999999999, 0.8290000000000001, 0.501, 0.737, 0.5720000000000001, 0.687, 0.752, 0.826, 0.7170000000000001, 0.8420000000000001, 0.7190000000000001, 0.741, 0.905, 0.907, 0.9009999999999999, 0.36700000000000005, 0.64, 0.825, 0.726, 0.8370000000000001, 0.58, 0.579, 0.8420000000000001, 0.745, 0.35100000000000003, 0.8340000000000001, 0.889, 0.674, 0.61, 0.8170000000000001, 0.715, 0.632, 0.414, 0.807, 0.7859999999999999, 0.691, 0.747, 0.599, 0.677, 0.802, 0.68, 0.795, 0.767, 0.652, 0.585], \"size\": 8}, \"mode\": \"markers\", \"text\": [\"Shawn Mendes - Se\\u00c3\\u00b1orita\", \"Billie Eilish - bad guy\", \"Post Malone - Sunflower - Spider-Man: Into the Spider-Verse\", \"Ariana Grande - 7 rings\", \"Lil Nas X - Old Town Road - Remix\", \"Ed Sheeran - I Don't Care (with Justin Bieber)\", \"Post Malone - Wow.\", \"Lewis Capaldi - Someone You Loved\", \"Daddy Yankee - Con Calma\", \"Lady Gaga - Shallow\", \"Marshmello - Happier\", \"Halsey - Without Me\", \"Pedro Cap\\u00c3\\u00b3 - Calma - Remix\", \"Ariana Grande - thank u, next\", \"Jonas Brothers - Sucker\", \"Ava Max - Sweet but Psycho\", \"Sam Smith - Dancing With A Stranger (with Normani)\", \"Billie Eilish - bury a friend\", \"Lil Nas X - Old Town Road\", \"Khalid - Talk (feat. Disclosure)\", \"Billie Eilish - when the party's over\", \"Ed Sheeran - Beautiful People (feat. Khalid)\", \"Tones And I - Dance Monkey\", \"Ariana Grande - break up with your girlfriend, i'm bored\", \"J. Cole - MIDDLE CHILD\", \"Post Malone - Goodbyes (Feat. Young Thug)\", \"Panic! At The Disco - High Hopes\", \"DJ Snake - Taki Taki (feat. Selena Gomez, Ozuna & Cardi B)\", \"Lil Tecca - Ransom\", \"Billie Eilish - lovely (with Khalid)\", \"Travis Scott - SICKO MODE\", \"Meek Mill - Going Bad (feat. Drake)\", \"Mabel - Don't Call Me Up\", \"Bad Bunny - Callaita\", \"Bad Bunny - MIA (feat. Drake)\", \"Lizzo - Truth Hurts\", \"benny blanco - Eastside (with Halsey & Khalid)\", \"Queen - Bohemian Rhapsody - 2011 Mix\", \"Anuel AA - Secreto\", \"Anuel AA - China\", \"Shawn Mendes - If I Can't Have You\", \"Sech - Otro Trago\", \"Lauv - i'm so tired...\", \"MEDUZA - Piece Of Your Heart\", \"Avicii - SOS (feat. Aloe Blacc)\", \"Post Malone - Better Now\", \"Lunay - Soltera - Remix\", \"Paulo Londra - Adan y Eva\", \"Alec Benjamin - Let Me Down Slowly\", \"Post Malone - rockstar (feat. 21 Savage)\"], \"type\": \"scatter3d\", \"x\": [-0.23652488783422945, 0.06570259779359183, -0.3914655617551256, 0.2738485408507476, -0.26813046232560517, -0.4384253776331666, 0.019605253171482408, 0.33594087162571, -0.3411807722600374, 0.4032578587670686, -0.25285549641157534, 0.009505564016856411, -0.4259397708855795, 0.029616953409747033, -0.5825299838125767, -0.1687889661984814, 0.15966025128602981, 0.22734583072659686, -0.1244046858445218, 0.09579321389378889, 0.827400845148083, -0.03062829902762313, -0.13618138038408434, 0.18950823779956355, 0.08860932928431599, 0.38416429555829446, -0.2613226509758838, -0.3589221423156821, 0.21751091689876093, 0.8195570711217767, -0.11379965089367723, -0.13298120515010015, 0.0783572041549014, 0.34828948962687944, 0.23049990587193675, 0.08355182221755267, 0.15775282248073097, 0.6076842093987659, -0.4019387040835611, -0.3001840491829292, -0.4398598147462719, -0.16358403186374748, -0.010184429001391044, -0.17704225336727478, -0.008482653042970866, 0.1972203622419417, -0.4229457924311822, -0.281438339012065, 0.11022199105719002, 0.5091359220370336], \"y\": [0.010779798373904874, -0.12486584844438084, 0.25394186388361784, -0.24976739311912982, -0.2049523289878227, 0.13358784106890179, 0.07591916766816952, 0.1758170084032514, 0.178358571778711, 0.33071099625063566, 0.23819920884945697, -0.16868444667397414, -0.06206767489646861, 0.07747636699809198, -0.1605461623772914, -0.0596663749586565, 0.17857589444326527, -0.1568083669245599, -0.24804683419191204, -0.29875691009221617, 0.4256255780180366, 0.23901309450811717, 0.16596580977265984, -0.459050610666712, 0.00878782769997347, -0.2396018544959569, 0.3688993855758622, 0.10729963242867166, -0.5989096406412499, 0.15312431513249344, -0.361763858433091, 0.2950009213949048, 0.12156837843703827, -0.36273308137752125, 0.06840305199647183, -0.3303944604673611, 0.32390520335198075, 0.6546143939865569, 0.22462776904025725, 0.07249589678005443, 0.04264855755541307, -0.4750287095011466, 0.30099662498842783, -0.0314020679574199, 0.09895195942471734, -0.2051086109887439, 0.4677422417545602, -0.46297667946134785, -0.2188062025961982, -0.3130992423110391], \"z\": [-0.03221768262044514, -0.001717689219411499, -0.05100016010231381, 0.19388634643431657, 0.13052734580924627, -0.044529196142307326, 0.1936398502907155, -0.1994800468573507, -0.2110470512649717, 0.10254132443745911, -0.12086670003519376, 0.03148083403230206, -0.003291109256450357, -0.03389424748696167, -0.061929386909043344, -0.059450635254953685, 0.23408155949510193, 0.40110204937025157, 0.23304919950095318, 0.281890678190246, -0.1541210673437379, -0.17470957045661575, 0.2070955094612091, -0.016541107301981908, 0.4549653247713094, -0.20086558955952902, -0.431800608536104, -0.023053038477822835, -0.07220288964128418, -0.2866918358411528, 0.048390920373169576, 0.45624839525364286, -0.18925366938301932, -0.0316091868929661, 0.22893738812296546, -0.05248992860898623, -0.00876941771089263, 0.013009892537530085, -0.001160798369515991, -0.0891501359869721, -0.2445096790712766, -0.1336287467941066, -0.08892127461523472, -0.23850651649194873, 0.12276281834400557, -0.02967494659843562, 0.3334624007208048, -0.17258034033131736, -0.10788309563198435, -0.099524488350946]}],\n",
       "                        {\"template\": {\"data\": {\"bar\": [{\"error_x\": {\"color\": \"#2a3f5f\"}, \"error_y\": {\"color\": \"#2a3f5f\"}, \"marker\": {\"line\": {\"color\": \"#E5ECF6\", \"width\": 0.5}}, \"type\": \"bar\"}], \"barpolar\": [{\"marker\": {\"line\": {\"color\": \"#E5ECF6\", \"width\": 0.5}}, \"type\": \"barpolar\"}], \"carpet\": [{\"aaxis\": {\"endlinecolor\": \"#2a3f5f\", \"gridcolor\": \"white\", \"linecolor\": \"white\", \"minorgridcolor\": \"white\", \"startlinecolor\": \"#2a3f5f\"}, \"baxis\": {\"endlinecolor\": \"#2a3f5f\", \"gridcolor\": \"white\", \"linecolor\": \"white\", \"minorgridcolor\": \"white\", \"startlinecolor\": \"#2a3f5f\"}, \"type\": \"carpet\"}], \"choropleth\": [{\"colorbar\": {\"outlinewidth\": 0, \"ticks\": \"\"}, \"type\": \"choropleth\"}], \"contour\": [{\"colorbar\": {\"outlinewidth\": 0, \"ticks\": \"\"}, \"colorscale\": [[0.0, \"#0d0887\"], [0.1111111111111111, \"#46039f\"], [0.2222222222222222, \"#7201a8\"], [0.3333333333333333, \"#9c179e\"], [0.4444444444444444, \"#bd3786\"], [0.5555555555555556, \"#d8576b\"], [0.6666666666666666, \"#ed7953\"], [0.7777777777777778, \"#fb9f3a\"], [0.8888888888888888, \"#fdca26\"], [1.0, \"#f0f921\"]], \"type\": \"contour\"}], \"contourcarpet\": [{\"colorbar\": {\"outlinewidth\": 0, \"ticks\": \"\"}, \"type\": \"contourcarpet\"}], \"heatmap\": [{\"colorbar\": {\"outlinewidth\": 0, \"ticks\": \"\"}, \"colorscale\": [[0.0, \"#0d0887\"], [0.1111111111111111, \"#46039f\"], [0.2222222222222222, \"#7201a8\"], [0.3333333333333333, \"#9c179e\"], [0.4444444444444444, \"#bd3786\"], [0.5555555555555556, \"#d8576b\"], [0.6666666666666666, \"#ed7953\"], [0.7777777777777778, \"#fb9f3a\"], [0.8888888888888888, \"#fdca26\"], [1.0, \"#f0f921\"]], \"type\": \"heatmap\"}], \"heatmapgl\": [{\"colorbar\": {\"outlinewidth\": 0, \"ticks\": \"\"}, \"colorscale\": [[0.0, \"#0d0887\"], [0.1111111111111111, \"#46039f\"], [0.2222222222222222, \"#7201a8\"], [0.3333333333333333, \"#9c179e\"], [0.4444444444444444, \"#bd3786\"], [0.5555555555555556, \"#d8576b\"], [0.6666666666666666, \"#ed7953\"], [0.7777777777777778, \"#fb9f3a\"], [0.8888888888888888, \"#fdca26\"], [1.0, \"#f0f921\"]], \"type\": \"heatmapgl\"}], \"histogram\": [{\"marker\": {\"colorbar\": {\"outlinewidth\": 0, \"ticks\": \"\"}}, \"type\": \"histogram\"}], \"histogram2d\": [{\"colorbar\": {\"outlinewidth\": 0, \"ticks\": \"\"}, \"colorscale\": [[0.0, \"#0d0887\"], [0.1111111111111111, \"#46039f\"], [0.2222222222222222, \"#7201a8\"], [0.3333333333333333, \"#9c179e\"], [0.4444444444444444, \"#bd3786\"], [0.5555555555555556, \"#d8576b\"], [0.6666666666666666, \"#ed7953\"], [0.7777777777777778, \"#fb9f3a\"], [0.8888888888888888, \"#fdca26\"], [1.0, \"#f0f921\"]], \"type\": \"histogram2d\"}], \"histogram2dcontour\": [{\"colorbar\": {\"outlinewidth\": 0, \"ticks\": \"\"}, \"colorscale\": [[0.0, \"#0d0887\"], [0.1111111111111111, \"#46039f\"], [0.2222222222222222, \"#7201a8\"], [0.3333333333333333, \"#9c179e\"], [0.4444444444444444, \"#bd3786\"], [0.5555555555555556, \"#d8576b\"], [0.6666666666666666, \"#ed7953\"], [0.7777777777777778, \"#fb9f3a\"], [0.8888888888888888, \"#fdca26\"], [1.0, \"#f0f921\"]], \"type\": \"histogram2dcontour\"}], \"mesh3d\": [{\"colorbar\": {\"outlinewidth\": 0, \"ticks\": \"\"}, \"type\": \"mesh3d\"}], \"parcoords\": [{\"line\": {\"colorbar\": {\"outlinewidth\": 0, \"ticks\": \"\"}}, \"type\": \"parcoords\"}], \"pie\": [{\"automargin\": true, \"type\": \"pie\"}], \"scatter\": [{\"marker\": {\"colorbar\": {\"outlinewidth\": 0, \"ticks\": \"\"}}, \"type\": \"scatter\"}], \"scatter3d\": [{\"line\": {\"colorbar\": {\"outlinewidth\": 0, \"ticks\": \"\"}}, \"marker\": {\"colorbar\": {\"outlinewidth\": 0, \"ticks\": \"\"}}, \"type\": \"scatter3d\"}], \"scattercarpet\": [{\"marker\": {\"colorbar\": {\"outlinewidth\": 0, \"ticks\": \"\"}}, \"type\": \"scattercarpet\"}], \"scattergeo\": [{\"marker\": {\"colorbar\": {\"outlinewidth\": 0, \"ticks\": \"\"}}, \"type\": \"scattergeo\"}], \"scattergl\": [{\"marker\": {\"colorbar\": {\"outlinewidth\": 0, \"ticks\": \"\"}}, \"type\": \"scattergl\"}], \"scattermapbox\": [{\"marker\": {\"colorbar\": {\"outlinewidth\": 0, \"ticks\": \"\"}}, \"type\": \"scattermapbox\"}], \"scatterpolar\": [{\"marker\": {\"colorbar\": {\"outlinewidth\": 0, \"ticks\": \"\"}}, \"type\": \"scatterpolar\"}], \"scatterpolargl\": [{\"marker\": {\"colorbar\": {\"outlinewidth\": 0, \"ticks\": \"\"}}, \"type\": \"scatterpolargl\"}], \"scatterternary\": [{\"marker\": {\"colorbar\": {\"outlinewidth\": 0, \"ticks\": \"\"}}, \"type\": \"scatterternary\"}], \"surface\": [{\"colorbar\": {\"outlinewidth\": 0, \"ticks\": \"\"}, \"colorscale\": [[0.0, \"#0d0887\"], [0.1111111111111111, \"#46039f\"], [0.2222222222222222, \"#7201a8\"], [0.3333333333333333, \"#9c179e\"], [0.4444444444444444, \"#bd3786\"], [0.5555555555555556, \"#d8576b\"], [0.6666666666666666, \"#ed7953\"], [0.7777777777777778, \"#fb9f3a\"], [0.8888888888888888, \"#fdca26\"], [1.0, \"#f0f921\"]], \"type\": \"surface\"}], \"table\": [{\"cells\": {\"fill\": {\"color\": \"#EBF0F8\"}, \"line\": {\"color\": \"white\"}}, \"header\": {\"fill\": {\"color\": \"#C8D4E3\"}, \"line\": {\"color\": \"white\"}}, \"type\": \"table\"}]}, \"layout\": {\"annotationdefaults\": {\"arrowcolor\": \"#2a3f5f\", \"arrowhead\": 0, \"arrowwidth\": 1}, \"coloraxis\": {\"colorbar\": {\"outlinewidth\": 0, \"ticks\": \"\"}}, \"colorscale\": {\"diverging\": [[0, \"#8e0152\"], [0.1, \"#c51b7d\"], [0.2, \"#de77ae\"], [0.3, \"#f1b6da\"], [0.4, \"#fde0ef\"], [0.5, \"#f7f7f7\"], [0.6, \"#e6f5d0\"], [0.7, \"#b8e186\"], [0.8, \"#7fbc41\"], [0.9, \"#4d9221\"], [1, \"#276419\"]], \"sequential\": [[0.0, \"#0d0887\"], [0.1111111111111111, \"#46039f\"], [0.2222222222222222, \"#7201a8\"], [0.3333333333333333, \"#9c179e\"], [0.4444444444444444, \"#bd3786\"], [0.5555555555555556, \"#d8576b\"], [0.6666666666666666, \"#ed7953\"], [0.7777777777777778, \"#fb9f3a\"], [0.8888888888888888, \"#fdca26\"], [1.0, \"#f0f921\"]], \"sequentialminus\": [[0.0, \"#0d0887\"], [0.1111111111111111, \"#46039f\"], [0.2222222222222222, \"#7201a8\"], [0.3333333333333333, \"#9c179e\"], [0.4444444444444444, \"#bd3786\"], [0.5555555555555556, \"#d8576b\"], [0.6666666666666666, \"#ed7953\"], [0.7777777777777778, \"#fb9f3a\"], [0.8888888888888888, \"#fdca26\"], [1.0, \"#f0f921\"]]}, \"colorway\": [\"#636efa\", \"#EF553B\", \"#00cc96\", \"#ab63fa\", \"#FFA15A\", \"#19d3f3\", \"#FF6692\", \"#B6E880\", \"#FF97FF\", \"#FECB52\"], \"font\": {\"color\": \"#2a3f5f\"}, \"geo\": {\"bgcolor\": \"white\", \"lakecolor\": \"white\", \"landcolor\": \"#E5ECF6\", \"showlakes\": true, \"showland\": true, \"subunitcolor\": \"white\"}, \"hoverlabel\": {\"align\": \"left\"}, \"hovermode\": \"closest\", \"mapbox\": {\"style\": \"light\"}, \"paper_bgcolor\": \"white\", \"plot_bgcolor\": \"#E5ECF6\", \"polar\": {\"angularaxis\": {\"gridcolor\": \"white\", \"linecolor\": \"white\", \"ticks\": \"\"}, \"bgcolor\": \"#E5ECF6\", \"radialaxis\": {\"gridcolor\": \"white\", \"linecolor\": \"white\", \"ticks\": \"\"}}, \"scene\": {\"xaxis\": {\"backgroundcolor\": \"#E5ECF6\", \"gridcolor\": \"white\", \"gridwidth\": 2, \"linecolor\": \"white\", \"showbackground\": true, \"ticks\": \"\", \"zerolinecolor\": \"white\"}, \"yaxis\": {\"backgroundcolor\": \"#E5ECF6\", \"gridcolor\": \"white\", \"gridwidth\": 2, \"linecolor\": \"white\", \"showbackground\": true, \"ticks\": \"\", \"zerolinecolor\": \"white\"}, \"zaxis\": {\"backgroundcolor\": \"#E5ECF6\", \"gridcolor\": \"white\", \"gridwidth\": 2, \"linecolor\": \"white\", \"showbackground\": true, \"ticks\": \"\", \"zerolinecolor\": \"white\"}}, \"shapedefaults\": {\"line\": {\"color\": \"#2a3f5f\"}}, \"ternary\": {\"aaxis\": {\"gridcolor\": \"white\", \"linecolor\": \"white\", \"ticks\": \"\"}, \"baxis\": {\"gridcolor\": \"white\", \"linecolor\": \"white\", \"ticks\": \"\"}, \"bgcolor\": \"#E5ECF6\", \"caxis\": {\"gridcolor\": \"white\", \"linecolor\": \"white\", \"ticks\": \"\"}}, \"title\": {\"x\": 0.05}, \"xaxis\": {\"automargin\": true, \"gridcolor\": \"white\", \"linecolor\": \"white\", \"ticks\": \"\", \"title\": {\"standoff\": 15}, \"zerolinecolor\": \"white\", \"zerolinewidth\": 2}, \"yaxis\": {\"automargin\": true, \"gridcolor\": \"white\", \"linecolor\": \"white\", \"ticks\": \"\", \"title\": {\"standoff\": 15}, \"zerolinecolor\": \"white\", \"zerolinewidth\": 2}}}},\n",
       "                        {\"responsive\": true}\n",
       "                    ).then(function(){\n",
       "                            \n",
       "var gd = document.getElementById('6bb855e6-27b2-466a-8d3b-b03a9eb18d6a');\n",
       "var x = new MutationObserver(function (mutations, observer) {{\n",
       "        var display = window.getComputedStyle(gd).display;\n",
       "        if (!display || display === 'none') {{\n",
       "            console.log([gd, 'removed!']);\n",
       "            Plotly.purge(gd);\n",
       "            observer.disconnect();\n",
       "        }}\n",
       "}});\n",
       "\n",
       "// Listen for the removal of the full notebook cells\n",
       "var notebookContainer = gd.closest('#notebook-container');\n",
       "if (notebookContainer) {{\n",
       "    x.observe(notebookContainer, {childList: true});\n",
       "}}\n",
       "\n",
       "// Listen for the clearing of the current output cell\n",
       "var outputEl = gd.closest('.output');\n",
       "if (outputEl) {{\n",
       "    x.observe(outputEl, {childList: true});\n",
       "}}\n",
       "\n",
       "                        })\n",
       "                };\n",
       "                });\n",
       "            </script>\n",
       "        </div>"
      ]
     },
     "metadata": {},
     "output_type": "display_data"
    }
   ],
   "source": [
    "plot_pca_important_features()"
   ]
  },
  {
   "cell_type": "code",
   "execution_count": null,
   "metadata": {},
   "outputs": [],
   "source": []
  },
  {
   "cell_type": "markdown",
   "metadata": {},
   "source": [
    " # Create a popularity column"
   ]
  },
  {
   "cell_type": "markdown",
   "metadata": {},
   "source": [
    "So, now if u see we crearted a new feature a.ka popularity adn did our comuputation to device if popularity is 1 or 0 for a song.And for better outcomes we have a graph here in which you an see the distribution of data around meen .For popularity 0 the distribution is scattereed  but for popularity 1 cateogary we have the danceability data around mean and not scaterred too much.Similarly we did comparisions for other featurees."
   ]
  },
  {
   "cell_type": "code",
   "execution_count": 59,
   "metadata": {},
   "outputs": [],
   "source": [
    "## #dance ,valence , energy , liveliness\n",
    "\n",
    "def popularity_binary():\n",
    "    if  'popularity'  not in df.columns:\n",
    "         df[\"popularity\"]=\"\"\n",
    "         df.loc[(df['danceability']>=a) | (df['energy']>=b)| (df['loudness']>=c)| (df['acousticness']>=d)| \n",
    "                        (df['valence']>=e)| (df['tempo']>=f),'popularity']='1'\n",
    "         df.loc[(df['danceability']<a) & (df['energy']<b) & (df['loudness']<c),'popularity']='0'\n",
    "         df.head()\n",
    "\n",
    "         df.to_csv(new_dataframe_name,index=False)\n",
    "           \n",
    "    else:\n",
    "        pass\n",
    "        "
   ]
  },
  {
   "cell_type": "code",
   "execution_count": 60,
   "metadata": {},
   "outputs": [],
   "source": [
    "popularity_binary()"
   ]
  },
  {
   "cell_type": "code",
   "execution_count": 61,
   "metadata": {
    "scrolled": false
   },
   "outputs": [
    {
     "data": {
      "text/html": [
       "<div>\n",
       "<style scoped>\n",
       "    .dataframe tbody tr th:only-of-type {\n",
       "        vertical-align: middle;\n",
       "    }\n",
       "\n",
       "    .dataframe tbody tr th {\n",
       "        vertical-align: top;\n",
       "    }\n",
       "\n",
       "    .dataframe thead th {\n",
       "        text-align: right;\n",
       "    }\n",
       "</style>\n",
       "<table border=\"1\" class=\"dataframe\">\n",
       "  <thead>\n",
       "    <tr style=\"text-align: right;\">\n",
       "      <th></th>\n",
       "      <th>id</th>\n",
       "      <th>name</th>\n",
       "      <th>popularity</th>\n",
       "      <th>track.track_number</th>\n",
       "      <th>danceability</th>\n",
       "      <th>energy</th>\n",
       "      <th>key</th>\n",
       "      <th>loudness</th>\n",
       "      <th>mode</th>\n",
       "      <th>speechiness</th>\n",
       "      <th>acousticness</th>\n",
       "      <th>instrumentalness</th>\n",
       "      <th>liveness</th>\n",
       "      <th>valence</th>\n",
       "      <th>tempo</th>\n",
       "      <th>duration_ms</th>\n",
       "      <th>time_signature</th>\n",
       "      <th>artists</th>\n",
       "      <th>dancebility_new</th>\n",
       "      <th>tempo_rate</th>\n",
       "    </tr>\n",
       "  </thead>\n",
       "  <tbody>\n",
       "    <tr>\n",
       "      <th>0</th>\n",
       "      <td>6v3KW9xbzN5yKLt9YKDYA2</td>\n",
       "      <td>SeÃ±orita</td>\n",
       "      <td>83</td>\n",
       "      <td>1</td>\n",
       "      <td>0.759</td>\n",
       "      <td>0.548</td>\n",
       "      <td>9</td>\n",
       "      <td>-6.049</td>\n",
       "      <td>0</td>\n",
       "      <td>0.0290</td>\n",
       "      <td>0.0392</td>\n",
       "      <td>0.00</td>\n",
       "      <td>0.0828</td>\n",
       "      <td>0.749</td>\n",
       "      <td>116.967</td>\n",
       "      <td>190800</td>\n",
       "      <td>4</td>\n",
       "      <td>Shawn Mendes</td>\n",
       "      <td>1</td>\n",
       "      <td>fast</td>\n",
       "    </tr>\n",
       "    <tr>\n",
       "      <th>1</th>\n",
       "      <td>2Fxmhks0bxGSBdJ92vM42m</td>\n",
       "      <td>bad guy</td>\n",
       "      <td>90</td>\n",
       "      <td>2</td>\n",
       "      <td>0.701</td>\n",
       "      <td>0.425</td>\n",
       "      <td>7</td>\n",
       "      <td>-10.965</td>\n",
       "      <td>1</td>\n",
       "      <td>0.3750</td>\n",
       "      <td>0.3280</td>\n",
       "      <td>0.13</td>\n",
       "      <td>0.1000</td>\n",
       "      <td>0.562</td>\n",
       "      <td>135.128</td>\n",
       "      <td>194088</td>\n",
       "      <td>4</td>\n",
       "      <td>Billie Eilish</td>\n",
       "      <td>1</td>\n",
       "      <td>fast</td>\n",
       "    </tr>\n",
       "    <tr>\n",
       "      <th>2</th>\n",
       "      <td>0RiRZpuVRbi7oqRdSMwhQY</td>\n",
       "      <td>Sunflower - Spider-Man: Into the Spider-Verse</td>\n",
       "      <td>83</td>\n",
       "      <td>12</td>\n",
       "      <td>0.755</td>\n",
       "      <td>0.522</td>\n",
       "      <td>2</td>\n",
       "      <td>-4.368</td>\n",
       "      <td>1</td>\n",
       "      <td>0.0575</td>\n",
       "      <td>0.5330</td>\n",
       "      <td>0.00</td>\n",
       "      <td>0.0685</td>\n",
       "      <td>0.925</td>\n",
       "      <td>89.960</td>\n",
       "      <td>157560</td>\n",
       "      <td>4</td>\n",
       "      <td>Post Malone</td>\n",
       "      <td>1</td>\n",
       "      <td>moderate</td>\n",
       "    </tr>\n",
       "    <tr>\n",
       "      <th>3</th>\n",
       "      <td>6ocbgoVGwYJhOv1GgI9NsF</td>\n",
       "      <td>7 rings</td>\n",
       "      <td>86</td>\n",
       "      <td>10</td>\n",
       "      <td>0.778</td>\n",
       "      <td>0.317</td>\n",
       "      <td>1</td>\n",
       "      <td>-10.732</td>\n",
       "      <td>0</td>\n",
       "      <td>0.3340</td>\n",
       "      <td>0.5920</td>\n",
       "      <td>0.00</td>\n",
       "      <td>0.0881</td>\n",
       "      <td>0.327</td>\n",
       "      <td>140.048</td>\n",
       "      <td>178627</td>\n",
       "      <td>4</td>\n",
       "      <td>Ariana Grande</td>\n",
       "      <td>1</td>\n",
       "      <td>fast</td>\n",
       "    </tr>\n",
       "    <tr>\n",
       "      <th>4</th>\n",
       "      <td>2YpeDb67231RjR0MgVLzsG</td>\n",
       "      <td>Old Town Road - Remix</td>\n",
       "      <td>85</td>\n",
       "      <td>1</td>\n",
       "      <td>0.878</td>\n",
       "      <td>0.619</td>\n",
       "      <td>6</td>\n",
       "      <td>-5.560</td>\n",
       "      <td>1</td>\n",
       "      <td>0.1020</td>\n",
       "      <td>0.0533</td>\n",
       "      <td>0.00</td>\n",
       "      <td>0.1130</td>\n",
       "      <td>0.639</td>\n",
       "      <td>136.041</td>\n",
       "      <td>157067</td>\n",
       "      <td>4</td>\n",
       "      <td>Lil Nas X</td>\n",
       "      <td>1</td>\n",
       "      <td>fast</td>\n",
       "    </tr>\n",
       "  </tbody>\n",
       "</table>\n",
       "</div>"
      ],
      "text/plain": [
       "                       id                                           name  \\\n",
       "0  6v3KW9xbzN5yKLt9YKDYA2                                      SeÃ±orita   \n",
       "1  2Fxmhks0bxGSBdJ92vM42m                                        bad guy   \n",
       "2  0RiRZpuVRbi7oqRdSMwhQY  Sunflower - Spider-Man: Into the Spider-Verse   \n",
       "3  6ocbgoVGwYJhOv1GgI9NsF                                        7 rings   \n",
       "4  2YpeDb67231RjR0MgVLzsG                          Old Town Road - Remix   \n",
       "\n",
       "   popularity  track.track_number  danceability  energy  key  loudness  mode  \\\n",
       "0          83                   1         0.759   0.548    9    -6.049     0   \n",
       "1          90                   2         0.701   0.425    7   -10.965     1   \n",
       "2          83                  12         0.755   0.522    2    -4.368     1   \n",
       "3          86                  10         0.778   0.317    1   -10.732     0   \n",
       "4          85                   1         0.878   0.619    6    -5.560     1   \n",
       "\n",
       "   speechiness  acousticness  instrumentalness  liveness  valence    tempo  \\\n",
       "0       0.0290        0.0392              0.00    0.0828    0.749  116.967   \n",
       "1       0.3750        0.3280              0.13    0.1000    0.562  135.128   \n",
       "2       0.0575        0.5330              0.00    0.0685    0.925   89.960   \n",
       "3       0.3340        0.5920              0.00    0.0881    0.327  140.048   \n",
       "4       0.1020        0.0533              0.00    0.1130    0.639  136.041   \n",
       "\n",
       "   duration_ms  time_signature        artists dancebility_new tempo_rate  \n",
       "0       190800               4   Shawn Mendes               1       fast  \n",
       "1       194088               4  Billie Eilish               1       fast  \n",
       "2       157560               4    Post Malone               1   moderate  \n",
       "3       178627               4  Ariana Grande               1       fast  \n",
       "4       157067               4      Lil Nas X               1       fast  "
      ]
     },
     "execution_count": 61,
     "metadata": {},
     "output_type": "execute_result"
    }
   ],
   "source": [
    "df.head()"
   ]
  },
  {
   "cell_type": "code",
   "execution_count": null,
   "metadata": {},
   "outputs": [],
   "source": []
  },
  {
   "cell_type": "code",
   "execution_count": null,
   "metadata": {},
   "outputs": [],
   "source": []
  },
  {
   "cell_type": "code",
   "execution_count": null,
   "metadata": {},
   "outputs": [],
   "source": []
  },
  {
   "cell_type": "markdown",
   "metadata": {},
   "source": [
    "## correlation between features and popularity"
   ]
  },
  {
   "cell_type": "code",
   "execution_count": 62,
   "metadata": {},
   "outputs": [],
   "source": [
    "def draw(year,compare_col,color):\n",
    "    graph = sns.FacetGrid(df_new, col = \"popularity\")\n",
    "    graph.map(sns.distplot, compare_col, bins = 25,color=color)\n",
    "    return plt.show()"
   ]
  },
  {
   "cell_type": "code",
   "execution_count": 63,
   "metadata": {},
   "outputs": [
    {
     "data": {
      "image/png": "[encoded data removed]",
      "text/plain": [
       "<Figure size 432x216 with 2 Axes>"
      ]
     },
     "metadata": {
      "needs_background": "light"
     },
     "output_type": "display_data"
    },
    {
     "data": {
      "image/png": "[encoded data removed]",
      "text/plain": [
       "<Figure size 432x216 with 2 Axes>"
      ]
     },
     "metadata": {
      "needs_background": "light"
     },
     "output_type": "display_data"
    },
    {
     "data": {
      "image/png": "[encoded data removed]",
      "text/plain": [
       "<Figure size 432x216 with 2 Axes>"
      ]
     },
     "metadata": {
      "needs_background": "light"
     },
     "output_type": "display_data"
    },
    {
     "data": {
      "image/png": "[encoded data removed]",
      "text/plain": [
       "<Figure size 432x216 with 2 Axes>"
      ]
     },
     "metadata": {
      "needs_background": "light"
     },
     "output_type": "display_data"
    },
    {
     "data": {
      "image/png": "[encoded data removed]",
      "text/plain": [
       "<Figure size 432x216 with 2 Axes>"
      ]
     },
     "metadata": {
      "needs_background": "light"
     },
     "output_type": "display_data"
    }
   ],
   "source": [
    "draw(df_new,\"danceability\",\"b\")\n",
    "draw(df_new,\"acousticness\",\"r\")\n",
    "draw(df_new,\"loudness\",\"m\")\n",
    "draw(df_new,\"valence\",\"r\")\n",
    "draw(df_new,\"tempo\",\"y\")\n"
   ]
  },
  {
   "cell_type": "code",
   "execution_count": 64,
   "metadata": {},
   "outputs": [],
   "source": [
    "def concat_name_popularity():\n",
    "    popularity_data = pd.concat([df_new[\"name\"],df_new[\"popularity\"]],axis=1)\n",
    "    return popularity_data.head()"
   ]
  },
  {
   "cell_type": "code",
   "execution_count": 65,
   "metadata": {},
   "outputs": [
    {
     "data": {
      "text/html": [
       "<div>\n",
       "<style scoped>\n",
       "    .dataframe tbody tr th:only-of-type {\n",
       "        vertical-align: middle;\n",
       "    }\n",
       "\n",
       "    .dataframe tbody tr th {\n",
       "        vertical-align: top;\n",
       "    }\n",
       "\n",
       "    .dataframe thead th {\n",
       "        text-align: right;\n",
       "    }\n",
       "</style>\n",
       "<table border=\"1\" class=\"dataframe\">\n",
       "  <thead>\n",
       "    <tr style=\"text-align: right;\">\n",
       "      <th></th>\n",
       "      <th>name</th>\n",
       "      <th>popularity</th>\n",
       "    </tr>\n",
       "  </thead>\n",
       "  <tbody>\n",
       "    <tr>\n",
       "      <th>0</th>\n",
       "      <td>Señorita</td>\n",
       "      <td>1</td>\n",
       "    </tr>\n",
       "    <tr>\n",
       "      <th>1</th>\n",
       "      <td>bad guy</td>\n",
       "      <td>1</td>\n",
       "    </tr>\n",
       "    <tr>\n",
       "      <th>2</th>\n",
       "      <td>Sunflower - Spider-Man: Into the Spider-Verse</td>\n",
       "      <td>1</td>\n",
       "    </tr>\n",
       "    <tr>\n",
       "      <th>3</th>\n",
       "      <td>7 rings</td>\n",
       "      <td>1</td>\n",
       "    </tr>\n",
       "    <tr>\n",
       "      <th>4</th>\n",
       "      <td>Old Town Road - Remix</td>\n",
       "      <td>1</td>\n",
       "    </tr>\n",
       "  </tbody>\n",
       "</table>\n",
       "</div>"
      ],
      "text/plain": [
       "                                            name  popularity\n",
       "0                                       Señorita           1\n",
       "1                                        bad guy           1\n",
       "2  Sunflower - Spider-Man: Into the Spider-Verse           1\n",
       "3                                        7 rings           1\n",
       "4                          Old Town Road - Remix           1"
      ]
     },
     "execution_count": 65,
     "metadata": {},
     "output_type": "execute_result"
    }
   ],
   "source": [
    "concat_name_popularity()"
   ]
  },
  {
   "cell_type": "markdown",
   "metadata": {},
   "source": [
    "# calculating scores"
   ]
  },
  {
   "cell_type": "markdown",
   "metadata": {},
   "source": [
    "## data preparation "
   ]
  },
  {
   "cell_type": "code",
   "execution_count": 66,
   "metadata": {},
   "outputs": [],
   "source": [
    "df_final=df_new.copy()"
   ]
  },
  {
   "cell_type": "code",
   "execution_count": 67,
   "metadata": {},
   "outputs": [],
   "source": [
    "\n",
    "def drop():\n",
    "    \n",
    "    df_final.drop([\"id\",\"name\",\"artists\",\"tempo_rate\",\"dancebility_new\"],axis=1,inplace=True)\n",
    "    return df_final.columns\n"
   ]
  },
  {
   "cell_type": "code",
   "execution_count": 68,
   "metadata": {},
   "outputs": [
    {
     "data": {
      "text/plain": [
       "Index(['popularity', 'track.track_number', 'danceability', 'energy', 'key',\n",
       "       'loudness', 'mode', 'speechiness', 'acousticness', 'instrumentalness',\n",
       "       'liveness', 'valence', 'tempo', 'duration_ms', 'time_signature'],\n",
       "      dtype='object')"
      ]
     },
     "execution_count": 68,
     "metadata": {},
     "output_type": "execute_result"
    }
   ],
   "source": [
    "drop()"
   ]
  },
  {
   "cell_type": "code",
   "execution_count": 69,
   "metadata": {},
   "outputs": [],
   "source": [
    "def cateogarize_keys():\n",
    "    global df_final\n",
    "    df_final[\"key\"] = df_final[\"key\"].astype(\"category\")\n",
    "    df_final = pd.get_dummies(df_final, columns=[\"key\"])\n",
    "    return df_final.head()\n"
   ]
  },
  {
   "cell_type": "code",
   "execution_count": 70,
   "metadata": {},
   "outputs": [
    {
     "data": {
      "text/html": [
       "<div>\n",
       "<style scoped>\n",
       "    .dataframe tbody tr th:only-of-type {\n",
       "        vertical-align: middle;\n",
       "    }\n",
       "\n",
       "    .dataframe tbody tr th {\n",
       "        vertical-align: top;\n",
       "    }\n",
       "\n",
       "    .dataframe thead th {\n",
       "        text-align: right;\n",
       "    }\n",
       "</style>\n",
       "<table border=\"1\" class=\"dataframe\">\n",
       "  <thead>\n",
       "    <tr style=\"text-align: right;\">\n",
       "      <th></th>\n",
       "      <th>popularity</th>\n",
       "      <th>track.track_number</th>\n",
       "      <th>danceability</th>\n",
       "      <th>energy</th>\n",
       "      <th>loudness</th>\n",
       "      <th>mode</th>\n",
       "      <th>speechiness</th>\n",
       "      <th>acousticness</th>\n",
       "      <th>instrumentalness</th>\n",
       "      <th>liveness</th>\n",
       "      <th>...</th>\n",
       "      <th>key_1</th>\n",
       "      <th>key_2</th>\n",
       "      <th>key_4</th>\n",
       "      <th>key_5</th>\n",
       "      <th>key_6</th>\n",
       "      <th>key_7</th>\n",
       "      <th>key_8</th>\n",
       "      <th>key_9</th>\n",
       "      <th>key_10</th>\n",
       "      <th>key_11</th>\n",
       "    </tr>\n",
       "  </thead>\n",
       "  <tbody>\n",
       "    <tr>\n",
       "      <th>0</th>\n",
       "      <td>1</td>\n",
       "      <td>1</td>\n",
       "      <td>0.759</td>\n",
       "      <td>0.548</td>\n",
       "      <td>-6.049</td>\n",
       "      <td>0</td>\n",
       "      <td>0.0290</td>\n",
       "      <td>0.0392</td>\n",
       "      <td>0.00</td>\n",
       "      <td>0.0828</td>\n",
       "      <td>...</td>\n",
       "      <td>0</td>\n",
       "      <td>0</td>\n",
       "      <td>0</td>\n",
       "      <td>0</td>\n",
       "      <td>0</td>\n",
       "      <td>0</td>\n",
       "      <td>0</td>\n",
       "      <td>1</td>\n",
       "      <td>0</td>\n",
       "      <td>0</td>\n",
       "    </tr>\n",
       "    <tr>\n",
       "      <th>1</th>\n",
       "      <td>1</td>\n",
       "      <td>2</td>\n",
       "      <td>0.701</td>\n",
       "      <td>0.425</td>\n",
       "      <td>-10.965</td>\n",
       "      <td>1</td>\n",
       "      <td>0.3750</td>\n",
       "      <td>0.3280</td>\n",
       "      <td>0.13</td>\n",
       "      <td>0.1000</td>\n",
       "      <td>...</td>\n",
       "      <td>0</td>\n",
       "      <td>0</td>\n",
       "      <td>0</td>\n",
       "      <td>0</td>\n",
       "      <td>0</td>\n",
       "      <td>1</td>\n",
       "      <td>0</td>\n",
       "      <td>0</td>\n",
       "      <td>0</td>\n",
       "      <td>0</td>\n",
       "    </tr>\n",
       "    <tr>\n",
       "      <th>2</th>\n",
       "      <td>1</td>\n",
       "      <td>12</td>\n",
       "      <td>0.755</td>\n",
       "      <td>0.522</td>\n",
       "      <td>-4.368</td>\n",
       "      <td>1</td>\n",
       "      <td>0.0575</td>\n",
       "      <td>0.5330</td>\n",
       "      <td>0.00</td>\n",
       "      <td>0.0685</td>\n",
       "      <td>...</td>\n",
       "      <td>0</td>\n",
       "      <td>1</td>\n",
       "      <td>0</td>\n",
       "      <td>0</td>\n",
       "      <td>0</td>\n",
       "      <td>0</td>\n",
       "      <td>0</td>\n",
       "      <td>0</td>\n",
       "      <td>0</td>\n",
       "      <td>0</td>\n",
       "    </tr>\n",
       "    <tr>\n",
       "      <th>3</th>\n",
       "      <td>1</td>\n",
       "      <td>10</td>\n",
       "      <td>0.778</td>\n",
       "      <td>0.317</td>\n",
       "      <td>-10.732</td>\n",
       "      <td>0</td>\n",
       "      <td>0.3340</td>\n",
       "      <td>0.5920</td>\n",
       "      <td>0.00</td>\n",
       "      <td>0.0881</td>\n",
       "      <td>...</td>\n",
       "      <td>1</td>\n",
       "      <td>0</td>\n",
       "      <td>0</td>\n",
       "      <td>0</td>\n",
       "      <td>0</td>\n",
       "      <td>0</td>\n",
       "      <td>0</td>\n",
       "      <td>0</td>\n",
       "      <td>0</td>\n",
       "      <td>0</td>\n",
       "    </tr>\n",
       "    <tr>\n",
       "      <th>4</th>\n",
       "      <td>1</td>\n",
       "      <td>1</td>\n",
       "      <td>0.878</td>\n",
       "      <td>0.619</td>\n",
       "      <td>-5.560</td>\n",
       "      <td>1</td>\n",
       "      <td>0.1020</td>\n",
       "      <td>0.0533</td>\n",
       "      <td>0.00</td>\n",
       "      <td>0.1130</td>\n",
       "      <td>...</td>\n",
       "      <td>0</td>\n",
       "      <td>0</td>\n",
       "      <td>0</td>\n",
       "      <td>0</td>\n",
       "      <td>1</td>\n",
       "      <td>0</td>\n",
       "      <td>0</td>\n",
       "      <td>0</td>\n",
       "      <td>0</td>\n",
       "      <td>0</td>\n",
       "    </tr>\n",
       "  </tbody>\n",
       "</table>\n",
       "<p>5 rows × 25 columns</p>\n",
       "</div>"
      ],
      "text/plain": [
       "   popularity  track.track_number  danceability  energy  loudness  mode  \\\n",
       "0           1                   1         0.759   0.548    -6.049     0   \n",
       "1           1                   2         0.701   0.425   -10.965     1   \n",
       "2           1                  12         0.755   0.522    -4.368     1   \n",
       "3           1                  10         0.778   0.317   -10.732     0   \n",
       "4           1                   1         0.878   0.619    -5.560     1   \n",
       "\n",
       "   speechiness  acousticness  instrumentalness  liveness  ...  key_1  key_2  \\\n",
       "0       0.0290        0.0392              0.00    0.0828  ...      0      0   \n",
       "1       0.3750        0.3280              0.13    0.1000  ...      0      0   \n",
       "2       0.0575        0.5330              0.00    0.0685  ...      0      1   \n",
       "3       0.3340        0.5920              0.00    0.0881  ...      1      0   \n",
       "4       0.1020        0.0533              0.00    0.1130  ...      0      0   \n",
       "\n",
       "   key_4  key_5  key_6  key_7  key_8  key_9  key_10  key_11  \n",
       "0      0      0      0      0      0      1       0       0  \n",
       "1      0      0      0      1      0      0       0       0  \n",
       "2      0      0      0      0      0      0       0       0  \n",
       "3      0      0      0      0      0      0       0       0  \n",
       "4      0      0      1      0      0      0       0       0  \n",
       "\n",
       "[5 rows x 25 columns]"
      ]
     },
     "execution_count": 70,
     "metadata": {},
     "output_type": "execute_result"
    }
   ],
   "source": [
    "cateogarize_keys()"
   ]
  },
  {
   "cell_type": "code",
   "execution_count": 71,
   "metadata": {},
   "outputs": [],
   "source": [
    "def cateogarize_time():\n",
    "    global df_final\n",
    "    df_final[\"time_signature\"] = df_final[\"time_signature\"].astype(\"category\")\n",
    "    df_final = pd.get_dummies(df_final, columns=[\"time_signature\"])\n",
    "    return df_final.head()"
   ]
  },
  {
   "cell_type": "code",
   "execution_count": 72,
   "metadata": {},
   "outputs": [
    {
     "data": {
      "text/html": [
       "<div>\n",
       "<style scoped>\n",
       "    .dataframe tbody tr th:only-of-type {\n",
       "        vertical-align: middle;\n",
       "    }\n",
       "\n",
       "    .dataframe tbody tr th {\n",
       "        vertical-align: top;\n",
       "    }\n",
       "\n",
       "    .dataframe thead th {\n",
       "        text-align: right;\n",
       "    }\n",
       "</style>\n",
       "<table border=\"1\" class=\"dataframe\">\n",
       "  <thead>\n",
       "    <tr style=\"text-align: right;\">\n",
       "      <th></th>\n",
       "      <th>popularity</th>\n",
       "      <th>track.track_number</th>\n",
       "      <th>danceability</th>\n",
       "      <th>energy</th>\n",
       "      <th>loudness</th>\n",
       "      <th>mode</th>\n",
       "      <th>speechiness</th>\n",
       "      <th>acousticness</th>\n",
       "      <th>instrumentalness</th>\n",
       "      <th>liveness</th>\n",
       "      <th>...</th>\n",
       "      <th>key_2</th>\n",
       "      <th>key_4</th>\n",
       "      <th>key_5</th>\n",
       "      <th>key_6</th>\n",
       "      <th>key_7</th>\n",
       "      <th>key_8</th>\n",
       "      <th>key_9</th>\n",
       "      <th>key_10</th>\n",
       "      <th>key_11</th>\n",
       "      <th>time_signature_4</th>\n",
       "    </tr>\n",
       "  </thead>\n",
       "  <tbody>\n",
       "    <tr>\n",
       "      <th>0</th>\n",
       "      <td>1</td>\n",
       "      <td>1</td>\n",
       "      <td>0.759</td>\n",
       "      <td>0.548</td>\n",
       "      <td>-6.049</td>\n",
       "      <td>0</td>\n",
       "      <td>0.0290</td>\n",
       "      <td>0.0392</td>\n",
       "      <td>0.00</td>\n",
       "      <td>0.0828</td>\n",
       "      <td>...</td>\n",
       "      <td>0</td>\n",
       "      <td>0</td>\n",
       "      <td>0</td>\n",
       "      <td>0</td>\n",
       "      <td>0</td>\n",
       "      <td>0</td>\n",
       "      <td>1</td>\n",
       "      <td>0</td>\n",
       "      <td>0</td>\n",
       "      <td>1</td>\n",
       "    </tr>\n",
       "    <tr>\n",
       "      <th>1</th>\n",
       "      <td>1</td>\n",
       "      <td>2</td>\n",
       "      <td>0.701</td>\n",
       "      <td>0.425</td>\n",
       "      <td>-10.965</td>\n",
       "      <td>1</td>\n",
       "      <td>0.3750</td>\n",
       "      <td>0.3280</td>\n",
       "      <td>0.13</td>\n",
       "      <td>0.1000</td>\n",
       "      <td>...</td>\n",
       "      <td>0</td>\n",
       "      <td>0</td>\n",
       "      <td>0</td>\n",
       "      <td>0</td>\n",
       "      <td>1</td>\n",
       "      <td>0</td>\n",
       "      <td>0</td>\n",
       "      <td>0</td>\n",
       "      <td>0</td>\n",
       "      <td>1</td>\n",
       "    </tr>\n",
       "    <tr>\n",
       "      <th>2</th>\n",
       "      <td>1</td>\n",
       "      <td>12</td>\n",
       "      <td>0.755</td>\n",
       "      <td>0.522</td>\n",
       "      <td>-4.368</td>\n",
       "      <td>1</td>\n",
       "      <td>0.0575</td>\n",
       "      <td>0.5330</td>\n",
       "      <td>0.00</td>\n",
       "      <td>0.0685</td>\n",
       "      <td>...</td>\n",
       "      <td>1</td>\n",
       "      <td>0</td>\n",
       "      <td>0</td>\n",
       "      <td>0</td>\n",
       "      <td>0</td>\n",
       "      <td>0</td>\n",
       "      <td>0</td>\n",
       "      <td>0</td>\n",
       "      <td>0</td>\n",
       "      <td>1</td>\n",
       "    </tr>\n",
       "    <tr>\n",
       "      <th>3</th>\n",
       "      <td>1</td>\n",
       "      <td>10</td>\n",
       "      <td>0.778</td>\n",
       "      <td>0.317</td>\n",
       "      <td>-10.732</td>\n",
       "      <td>0</td>\n",
       "      <td>0.3340</td>\n",
       "      <td>0.5920</td>\n",
       "      <td>0.00</td>\n",
       "      <td>0.0881</td>\n",
       "      <td>...</td>\n",
       "      <td>0</td>\n",
       "      <td>0</td>\n",
       "      <td>0</td>\n",
       "      <td>0</td>\n",
       "      <td>0</td>\n",
       "      <td>0</td>\n",
       "      <td>0</td>\n",
       "      <td>0</td>\n",
       "      <td>0</td>\n",
       "      <td>1</td>\n",
       "    </tr>\n",
       "    <tr>\n",
       "      <th>4</th>\n",
       "      <td>1</td>\n",
       "      <td>1</td>\n",
       "      <td>0.878</td>\n",
       "      <td>0.619</td>\n",
       "      <td>-5.560</td>\n",
       "      <td>1</td>\n",
       "      <td>0.1020</td>\n",
       "      <td>0.0533</td>\n",
       "      <td>0.00</td>\n",
       "      <td>0.1130</td>\n",
       "      <td>...</td>\n",
       "      <td>0</td>\n",
       "      <td>0</td>\n",
       "      <td>0</td>\n",
       "      <td>1</td>\n",
       "      <td>0</td>\n",
       "      <td>0</td>\n",
       "      <td>0</td>\n",
       "      <td>0</td>\n",
       "      <td>0</td>\n",
       "      <td>1</td>\n",
       "    </tr>\n",
       "  </tbody>\n",
       "</table>\n",
       "<p>5 rows × 25 columns</p>\n",
       "</div>"
      ],
      "text/plain": [
       "   popularity  track.track_number  danceability  energy  loudness  mode  \\\n",
       "0           1                   1         0.759   0.548    -6.049     0   \n",
       "1           1                   2         0.701   0.425   -10.965     1   \n",
       "2           1                  12         0.755   0.522    -4.368     1   \n",
       "3           1                  10         0.778   0.317   -10.732     0   \n",
       "4           1                   1         0.878   0.619    -5.560     1   \n",
       "\n",
       "   speechiness  acousticness  instrumentalness  liveness  ...  key_2  key_4  \\\n",
       "0       0.0290        0.0392              0.00    0.0828  ...      0      0   \n",
       "1       0.3750        0.3280              0.13    0.1000  ...      0      0   \n",
       "2       0.0575        0.5330              0.00    0.0685  ...      1      0   \n",
       "3       0.3340        0.5920              0.00    0.0881  ...      0      0   \n",
       "4       0.1020        0.0533              0.00    0.1130  ...      0      0   \n",
       "\n",
       "   key_5  key_6  key_7  key_8  key_9  key_10  key_11  time_signature_4  \n",
       "0      0      0      0      0      1       0       0                 1  \n",
       "1      0      0      1      0      0       0       0                 1  \n",
       "2      0      0      0      0      0       0       0                 1  \n",
       "3      0      0      0      0      0       0       0                 1  \n",
       "4      0      1      0      0      0       0       0                 1  \n",
       "\n",
       "[5 rows x 25 columns]"
      ]
     },
     "execution_count": 72,
     "metadata": {},
     "output_type": "execute_result"
    }
   ],
   "source": [
    "cateogarize_time()"
   ]
  },
  {
   "cell_type": "code",
   "execution_count": 73,
   "metadata": {},
   "outputs": [],
   "source": [
    "# def change_datatype(var):\n",
    "#     df_final[var] = df_final[var].astype(int)\n",
    "    \n",
    "# columns= [\"key_1.0\",\"key_2.0\",\n",
    "#          \"key_3.0\",\"key_4.0\",\"key_5.0\",\"key_6.0\",\"key_7.0\",\"key_8.0\",\"key_9.0\",\"key_10.0\",\"key_11.0\",\"time_signature_3.0\",\"time_signature_4.0\"]\n",
    "# for column in columns:\n",
    "#     change_datatype(column)\n",
    "    "
   ]
  },
  {
   "cell_type": "code",
   "execution_count": 74,
   "metadata": {},
   "outputs": [],
   "source": [
    "def load_data():\n",
    "    \n",
    "    y = df_final[\"popularity\"].values\n",
    "    X = df_final.drop([\"popularity\"],axis=1)\n",
    "    return X,y\n",
    "X,y =load_data()\n",
    "\n",
    "feature_cols = X.columns.to_list()"
   ]
  },
  {
   "cell_type": "markdown",
   "metadata": {},
   "source": [
    "*NOTE*:There is not a great  linear correlations in our data So, Decision Tree algorithms will give  better results as compared to linear regression models. Therefore using  Random Forest \n",
    " "
   ]
  },
  {
   "cell_type": "code",
   "execution_count": 75,
   "metadata": {},
   "outputs": [
    {
     "name": "stdout",
     "output_type": "stream",
     "text": [
      "X_train:  (20, 24)\n",
      "X_test:  (30, 24)\n",
      "y_train:  (20,)\n",
      "y_test:  (30,)\n"
     ]
    }
   ],
   "source": [
    "\n",
    "#x_data=X\n",
    "X,y = load_data()\n",
    "X_train, X_test, y_train, y_test = train_test_split(X,y,test_size = 0.6)\n",
    "# X_train = X_train.T\n",
    "# X_test = X_test.T\n",
    "X_train=X_train[:None]\n",
    "X_test=X_test[:None]\n",
    "y_train = y_train.astype(int).T\n",
    "y_test = y_test.astype(int).T\n",
    "print(\"X_train: \",X_train.shape)\n",
    "print(\"X_test: \",X_test.shape)\n",
    "print(\"y_train: \",y_train.shape)\n",
    "print(\"y_test: \",y_test.shape)\n"
   ]
  },
  {
   "cell_type": "markdown",
   "metadata": {},
   "source": [
    "## xgb  top features -for validating  our  hypothesis"
   ]
  },
  {
   "cell_type": "markdown",
   "metadata": {},
   "source": [
    "So after our popularity distributiona and 3d modelling based on pca.Now further we diecided to .Test if our hypothesis features as top ranking as per our eda  are similar\n",
    "when compared to a very standard feature ranking algorithm like XGBoosting for feature engineering .And the outcome was we had our hypothesis prooved very accurate in terms of best features conributing for a song to  be in the top position. "
   ]
  },
  {
   "cell_type": "code",
   "execution_count": 76,
   "metadata": {},
   "outputs": [],
   "source": [
    "def plot_impfeature():\n",
    "    xgb = XGBClassifier()\n",
    "    xgb.fit(X_train, y_train)\n",
    "    ax = plot_importance(xgb,color=\"r\", height=0.15,\n",
    "                         title='  Features Importance ', xlabel='Feature score', ylabel='Features',\n",
    "                         importance_type='weight'\n",
    "                        )\n",
    "\n",
    "    return plt.show()\n",
    "\n",
    "\n"
   ]
  },
  {
   "cell_type": "code",
   "execution_count": 77,
   "metadata": {},
   "outputs": [
    {
     "data": {
      "image/png": "[encoded data removed]",
      "text/plain": [
       "<Figure size 432x288 with 1 Axes>"
      ]
     },
     "metadata": {
      "needs_background": "light"
     },
     "output_type": "display_data"
    }
   ],
   "source": [
    "plot_impfeature()"
   ]
  },
  {
   "cell_type": "markdown",
   "metadata": {},
   "source": [
    "##### The above graph assure that :\n",
    "-  Our proposed ranked features turned out to be  most important for this data  \n",
    "-  Example: we calculated features like :dancebility ,energy,loudness ets of most importance.And hence thus turned out true."
   ]
  },
  {
   "cell_type": "code",
   "execution_count": 78,
   "metadata": {},
   "outputs": [],
   "source": [
    "def calculate_scores():\n",
    "    rf=RandomForestClassifier(random_state = 3)\n",
    "    rf.fit(X_train,y_train)\n",
    "\n",
    "    print(\"Train accuracy \",rf.score(X_train,y_train))\n",
    "    print(\"Test accuracy \",rf.score(X_test,y_test))\n",
    "\n",
    "    RandomForestClassifier_score=rf.score(X_test,y_test)\n",
    "    y_pred=rf.predict(X_test)\n",
    "    t_true=y_test"
   ]
  },
  {
   "cell_type": "code",
   "execution_count": 79,
   "metadata": {},
   "outputs": [
    {
     "name": "stdout",
     "output_type": "stream",
     "text": [
      "Train accuracy  1.0\n",
      "Test accuracy  0.9666666666666667\n"
     ]
    }
   ],
   "source": [
    "calculate_scores()"
   ]
  },
  {
   "cell_type": "markdown",
   "metadata": {},
   "source": [
    "# validating model "
   ]
  },
  {
   "cell_type": "markdown",
   "metadata": {},
   "source": [
    "## plot loudness t-SNE"
   ]
  },
  {
   "cell_type": "code",
   "execution_count": null,
   "metadata": {},
   "outputs": [],
   "source": []
  },
  {
   "cell_type": "code",
   "execution_count": 80,
   "metadata": {},
   "outputs": [],
   "source": [
    "def plot_pca_scaler(y,dataframe):\n",
    "    features = [\"energy\", \"liveness\", \"tempo\", \"valence\", \"loudness\",\"danceability\"]\n",
    "\n",
    "    text1 = dataframe[\"artists\"] + \" - \" + dataframe[\"name\"]\n",
    "    text2 = text1.values\n",
    "    \n",
    "    X = dataframe[features].values\n",
    "    y = dataframe[y].values\n",
    "\n",
    "    minmaxscaler = MinMaxScaler()\n",
    "    X = minmaxscaler.fit_transform(X)\n",
    "\n",
    "    print('t-SNE starting.................')\n",
    "    tsne = TSNE(n_components=3, verbose=1, perplexity=40, n_iter=300)\n",
    "    tsne_results = tsne.fit_transform(X)\n",
    "\n",
    "    print('......................t-SNE done')\n",
    "\n",
    "    fig = {\n",
    "        \"data\": [\n",
    "            {\n",
    "                \"x\": tsne_results[:, 0],\n",
    "                \"y\": tsne_results[:, 1],\n",
    "                \"text\": text2,\n",
    "                \"mode\": \"markers\",\n",
    "                \"marker\": {\"size\": 8, \"color\": y}\n",
    "            }\n",
    "        ],\n",
    "        \"layout\": {\n",
    "            \"xaxis\": {\"title\": \"x-tsne\"},\n",
    "            \"yaxis\": {\"title\": \"y-tsne\"}\n",
    "        }\n",
    "    }\n",
    "\n",
    "    return py.iplot(fig, filename=\"amit\")"
   ]
  },
  {
   "cell_type": "code",
   "execution_count": 81,
   "metadata": {},
   "outputs": [
    {
     "name": "stdout",
     "output_type": "stream",
     "text": [
      "t-SNE starting.................\n",
      "[t-SNE] Computing 49 nearest neighbors...\n",
      "[t-SNE] Indexed 50 samples in 0.000s...\n",
      "[t-SNE] Computed neighbors for 50 samples in 0.001s...\n",
      "[t-SNE] Computed conditional probabilities for sample 50 / 50\n",
      "[t-SNE] Mean sigma: 0.646417\n",
      "[t-SNE] KL divergence after 250 iterations with early exaggeration: 72.859016\n",
      "[t-SNE] KL divergence after 300 iterations: 2.806260\n",
      "......................t-SNE done\n"
     ]
    },
    {
     "data": {
      "application/vnd.plotly.v1+json": {
       "config": {
        "linkText": "Export to plot.ly",
        "plotlyServerURL": "https://plot.ly",
        "showLink": false
       },
       "data": [
        {
         "marker": {
          "color": [
           -6.0489999999999995,
           -10.965,
           -4.368,
           -10.732000000000001,
           -5.56,
           -5.041,
           -7.359,
           -5.678999999999999,
           -2.6519999999999997,
           -6.362,
           -2.7489999999999997,
           -7.05,
           -4.218,
           -5.6339999999999995,
           -5.065,
           -4.724,
           -7.513,
           -14.505,
           -6.112,
           -8.575,
           -14.084000000000001,
           -8.113999999999999,
           -6.401,
           -5.29,
           -11.713,
           -3.818,
           -2.7289999999999996,
           -4.167,
           -6.257000000000001,
           -10.109,
           -3.714,
           -6.365,
           -2.853,
           -4.773,
           -6.349,
           -3.0460000000000003,
           -7.665,
           -9.927999999999999,
           -4.156000000000001,
           -3.702,
           -4.197,
           -4.669,
           -7.058,
           -6.806,
           -6.181,
           -5.803999999999999,
           -4.271,
           -4.47,
           -5.7139999999999995,
           -6.136
          ],
          "size": 8
         },
         "mode": "markers",
         "text": [
          "Shawn Mendes - SeÃ±orita",
          "Billie Eilish - bad guy",
          "Post Malone - Sunflower - Spider-Man: Into the Spider-Verse",
          "Ariana Grande - 7 rings",
          "Lil Nas X - Old Town Road - Remix",
          "Ed Sheeran - I Don't Care (with Justin Bieber)",
          "Post Malone - Wow.",
          "Lewis Capaldi - Someone You Loved",
          "Daddy Yankee - Con Calma",
          "Lady Gaga - Shallow",
          "Marshmello - Happier",
          "Halsey - Without Me",
          "Pedro CapÃ³ - Calma - Remix",
          "Ariana Grande - thank u, next",
          "Jonas Brothers - Sucker",
          "Ava Max - Sweet but Psycho",
          "Sam Smith - Dancing With A Stranger (with Normani)",
          "Billie Eilish - bury a friend",
          "Lil Nas X - Old Town Road",
          "Khalid - Talk (feat. Disclosure)",
          "Billie Eilish - when the party's over",
          "Ed Sheeran - Beautiful People (feat. Khalid)",
          "Tones And I - Dance Monkey",
          "Ariana Grande - break up with your girlfriend, i'm bored",
          "J. Cole - MIDDLE CHILD",
          "Post Malone - Goodbyes (Feat. Young Thug)",
          "Panic! At The Disco - High Hopes",
          "DJ Snake - Taki Taki (feat. Selena Gomez, Ozuna & Cardi B)",
          "Lil Tecca - Ransom",
          "Billie Eilish - lovely (with Khalid)",
          "Travis Scott - SICKO MODE",
          "Meek Mill - Going Bad (feat. Drake)",
          "Mabel - Don't Call Me Up",
          "Bad Bunny - Callaita",
          "Bad Bunny - MIA (feat. Drake)",
          "Lizzo - Truth Hurts",
          "benny blanco - Eastside (with Halsey & Khalid)",
          "Queen - Bohemian Rhapsody - 2011 Mix",
          "Anuel AA - Secreto",
          "Anuel AA - China",
          "Shawn Mendes - If I Can't Have You",
          "Sech - Otro Trago",
          "Lauv - i'm so tired...",
          "MEDUZA - Piece Of Your Heart",
          "Avicii - SOS (feat. Aloe Blacc)",
          "Post Malone - Better Now",
          "Lunay - Soltera - Remix",
          "Paulo Londra - Adan y Eva",
          "Alec Benjamin - Let Me Down Slowly",
          "Post Malone - rockstar (feat. 21 Savage)"
         ],
         "type": "scatter",
         "x": [
          77.2558364868164,
          -86.80612182617188,
          -1151.541259765625,
          93.19845581054688,
          -61.87322998046875,
          -383.02593994140625,
          -31.922319412231445,
          118.31820678710938,
          -32.84884262084961,
          71.99668884277344,
          66.29024505615234,
          9.290453910827637,
          -73.7568130493164,
          146.71766662597656,
          -25.50486946105957,
          -99.24280548095703,
          23.15589141845703,
          24.78072166442871,
          -65.49693298339844,
          -37.24183654785156,
          28.599109649658203,
          -198.43516540527344,
          57.85717010498047,
          121.49108123779297,
          -62.63191604614258,
          -39.4481086730957,
          -9.326189994812012,
          6.01373815536499,
          81.04918670654297,
          22.15044403076172,
          33.866268157958984,
          5.206876277923584,
          127.78539276123047,
          85.69207000732422,
          -35.598995208740234,
          -4.1918792724609375,
          -59.252342224121094,
          29.830596923828125,
          -4.642973899841309,
          -90.89604187011719,
          -10.121148109436035,
          -0.7742586135864258,
          -691.4647216796875,
          60.19216537475586,
          6.945554733276367,
          -3.1269538402557373,
          51.38004684448242,
          -8.194355010986328,
          525.205322265625,
          -96.08403015136719
         ],
         "y": [
          -711.7518310546875,
          -66.34842681884766,
          -430.9850158691406,
          -183.40101623535156,
          22.574026107788086,
          -153.21609497070312,
          -7.117488384246826,
          -65.63795471191406,
          67.21702575683594,
          14.414504051208496,
          -72.83434295654297,
          136.6329803466797,
          50.45195770263672,
          -22.086076736450195,
          -23.486183166503906,
          1479.677978515625,
          -12.098816871643066,
          -71.94284057617188,
          21.54622459411621,
          -18.346771240234375,
          13.0225191116333,
          43.05750274658203,
          -105.2216796875,
          -81.27590942382812,
          334.36737060546875,
          -3.094119071960449,
          124.843994140625,
          123.84943389892578,
          -7.17632532119751,
          -39.57477569580078,
          14.076184272766113,
          23.14373016357422,
          107.47864532470703,
          -207.6630096435547,
          263.40234375,
          43.541019439697266,
          -59.258148193359375,
          -138.50936889648438,
          37.4677848815918,
          59.913421630859375,
          -192.08786010742188,
          -25.509994506835938,
          -223.184814453125,
          -77.29268646240234,
          -31.343101501464844,
          514.1265258789062,
          -27.792919158935547,
          -106.69442749023438,
          1185.71533203125,
          0.3416413366794586
         ]
        }
       ],
       "layout": {
        "template": {
         "data": {
          "bar": [
           {
            "error_x": {
             "color": "#2a3f5f"
            },
            "error_y": {
             "color": "#2a3f5f"
            },
            "marker": {
             "line": {
              "color": "#E5ECF6",
              "width": 0.5
             }
            },
            "type": "bar"
           }
          ],
          "barpolar": [
           {
            "marker": {
             "line": {
              "color": "#E5ECF6",
              "width": 0.5
             }
            },
            "type": "barpolar"
           }
          ],
          "carpet": [
           {
            "aaxis": {
             "endlinecolor": "#2a3f5f",
             "gridcolor": "white",
             "linecolor": "white",
             "minorgridcolor": "white",
             "startlinecolor": "#2a3f5f"
            },
            "baxis": {
             "endlinecolor": "#2a3f5f",
             "gridcolor": "white",
             "linecolor": "white",
             "minorgridcolor": "white",
             "startlinecolor": "#2a3f5f"
            },
            "type": "carpet"
           }
          ],
          "choropleth": [
           {
            "colorbar": {
             "outlinewidth": 0,
             "ticks": ""
            },
            "type": "choropleth"
           }
          ],
          "contour": [
           {
            "colorbar": {
             "outlinewidth": 0,
             "ticks": ""
            },
            "colorscale": [
             [
              0,
              "#0d0887"
             ],
             [
              0.1111111111111111,
              "#46039f"
             ],
             [
              0.2222222222222222,
              "#7201a8"
             ],
             [
              0.3333333333333333,
              "#9c179e"
             ],
             [
              0.4444444444444444,
              "#bd3786"
             ],
             [
              0.5555555555555556,
              "#d8576b"
             ],
             [
              0.6666666666666666,
              "#ed7953"
             ],
             [
              0.7777777777777778,
              "#fb9f3a"
             ],
             [
              0.8888888888888888,
              "#fdca26"
             ],
             [
              1,
              "#f0f921"
             ]
            ],
            "type": "contour"
           }
          ],
          "contourcarpet": [
           {
            "colorbar": {
             "outlinewidth": 0,
             "ticks": ""
            },
            "type": "contourcarpet"
           }
          ],
          "heatmap": [
           {
            "colorbar": {
             "outlinewidth": 0,
             "ticks": ""
            },
            "colorscale": [
             [
              0,
              "#0d0887"
             ],
             [
              0.1111111111111111,
              "#46039f"
             ],
             [
              0.2222222222222222,
              "#7201a8"
             ],
             [
              0.3333333333333333,
              "#9c179e"
             ],
             [
              0.4444444444444444,
              "#bd3786"
             ],
             [
              0.5555555555555556,
              "#d8576b"
             ],
             [
              0.6666666666666666,
              "#ed7953"
             ],
             [
              0.7777777777777778,
              "#fb9f3a"
             ],
             [
              0.8888888888888888,
              "#fdca26"
             ],
             [
              1,
              "#f0f921"
             ]
            ],
            "type": "heatmap"
           }
          ],
          "heatmapgl": [
           {
            "colorbar": {
             "outlinewidth": 0,
             "ticks": ""
            },
            "colorscale": [
             [
              0,
              "#0d0887"
             ],
             [
              0.1111111111111111,
              "#46039f"
             ],
             [
              0.2222222222222222,
              "#7201a8"
             ],
             [
              0.3333333333333333,
              "#9c179e"
             ],
             [
              0.4444444444444444,
              "#bd3786"
             ],
             [
              0.5555555555555556,
              "#d8576b"
             ],
             [
              0.6666666666666666,
              "#ed7953"
             ],
             [
              0.7777777777777778,
              "#fb9f3a"
             ],
             [
              0.8888888888888888,
              "#fdca26"
             ],
             [
              1,
              "#f0f921"
             ]
            ],
            "type": "heatmapgl"
           }
          ],
          "histogram": [
           {
            "marker": {
             "colorbar": {
              "outlinewidth": 0,
              "ticks": ""
             }
            },
            "type": "histogram"
           }
          ],
          "histogram2d": [
           {
            "colorbar": {
             "outlinewidth": 0,
             "ticks": ""
            },
            "colorscale": [
             [
              0,
              "#0d0887"
             ],
             [
              0.1111111111111111,
              "#46039f"
             ],
             [
              0.2222222222222222,
              "#7201a8"
             ],
             [
              0.3333333333333333,
              "#9c179e"
             ],
             [
              0.4444444444444444,
              "#bd3786"
             ],
             [
              0.5555555555555556,
              "#d8576b"
             ],
             [
              0.6666666666666666,
              "#ed7953"
             ],
             [
              0.7777777777777778,
              "#fb9f3a"
             ],
             [
              0.8888888888888888,
              "#fdca26"
             ],
             [
              1,
              "#f0f921"
             ]
            ],
            "type": "histogram2d"
           }
          ],
          "histogram2dcontour": [
           {
            "colorbar": {
             "outlinewidth": 0,
             "ticks": ""
            },
            "colorscale": [
             [
              0,
              "#0d0887"
             ],
             [
              0.1111111111111111,
              "#46039f"
             ],
             [
              0.2222222222222222,
              "#7201a8"
             ],
             [
              0.3333333333333333,
              "#9c179e"
             ],
             [
              0.4444444444444444,
              "#bd3786"
             ],
             [
              0.5555555555555556,
              "#d8576b"
             ],
             [
              0.6666666666666666,
              "#ed7953"
             ],
             [
              0.7777777777777778,
              "#fb9f3a"
             ],
             [
              0.8888888888888888,
              "#fdca26"
             ],
             [
              1,
              "#f0f921"
             ]
            ],
            "type": "histogram2dcontour"
           }
          ],
          "mesh3d": [
           {
            "colorbar": {
             "outlinewidth": 0,
             "ticks": ""
            },
            "type": "mesh3d"
           }
          ],
          "parcoords": [
           {
            "line": {
             "colorbar": {
              "outlinewidth": 0,
              "ticks": ""
             }
            },
            "type": "parcoords"
           }
          ],
          "pie": [
           {
            "automargin": true,
            "type": "pie"
           }
          ],
          "scatter": [
           {
            "marker": {
             "colorbar": {
              "outlinewidth": 0,
              "ticks": ""
             }
            },
            "type": "scatter"
           }
          ],
          "scatter3d": [
           {
            "line": {
             "colorbar": {
              "outlinewidth": 0,
              "ticks": ""
             }
            },
            "marker": {
             "colorbar": {
              "outlinewidth": 0,
              "ticks": ""
             }
            },
            "type": "scatter3d"
           }
          ],
          "scattercarpet": [
           {
            "marker": {
             "colorbar": {
              "outlinewidth": 0,
              "ticks": ""
             }
            },
            "type": "scattercarpet"
           }
          ],
          "scattergeo": [
           {
            "marker": {
             "colorbar": {
              "outlinewidth": 0,
              "ticks": ""
             }
            },
            "type": "scattergeo"
           }
          ],
          "scattergl": [
           {
            "marker": {
             "colorbar": {
              "outlinewidth": 0,
              "ticks": ""
             }
            },
            "type": "scattergl"
           }
          ],
          "scattermapbox": [
           {
            "marker": {
             "colorbar": {
              "outlinewidth": 0,
              "ticks": ""
             }
            },
            "type": "scattermapbox"
           }
          ],
          "scatterpolar": [
           {
            "marker": {
             "colorbar": {
              "outlinewidth": 0,
              "ticks": ""
             }
            },
            "type": "scatterpolar"
           }
          ],
          "scatterpolargl": [
           {
            "marker": {
             "colorbar": {
              "outlinewidth": 0,
              "ticks": ""
             }
            },
            "type": "scatterpolargl"
           }
          ],
          "scatterternary": [
           {
            "marker": {
             "colorbar": {
              "outlinewidth": 0,
              "ticks": ""
             }
            },
            "type": "scatterternary"
           }
          ],
          "surface": [
           {
            "colorbar": {
             "outlinewidth": 0,
             "ticks": ""
            },
            "colorscale": [
             [
              0,
              "#0d0887"
             ],
             [
              0.1111111111111111,
              "#46039f"
             ],
             [
              0.2222222222222222,
              "#7201a8"
             ],
             [
              0.3333333333333333,
              "#9c179e"
             ],
             [
              0.4444444444444444,
              "#bd3786"
             ],
             [
              0.5555555555555556,
              "#d8576b"
             ],
             [
              0.6666666666666666,
              "#ed7953"
             ],
             [
              0.7777777777777778,
              "#fb9f3a"
             ],
             [
              0.8888888888888888,
              "#fdca26"
             ],
             [
              1,
              "#f0f921"
             ]
            ],
            "type": "surface"
           }
          ],
          "table": [
           {
            "cells": {
             "fill": {
              "color": "#EBF0F8"
             },
             "line": {
              "color": "white"
             }
            },
            "header": {
             "fill": {
              "color": "#C8D4E3"
             },
             "line": {
              "color": "white"
             }
            },
            "type": "table"
           }
          ]
         },
         "layout": {
          "annotationdefaults": {
           "arrowcolor": "#2a3f5f",
           "arrowhead": 0,
           "arrowwidth": 1
          },
          "coloraxis": {
           "colorbar": {
            "outlinewidth": 0,
            "ticks": ""
           }
          },
          "colorscale": {
           "diverging": [
            [
             0,
             "#8e0152"
            ],
            [
             0.1,
             "#c51b7d"
            ],
            [
             0.2,
             "#de77ae"
            ],
            [
             0.3,
             "#f1b6da"
            ],
            [
             0.4,
             "#fde0ef"
            ],
            [
             0.5,
             "#f7f7f7"
            ],
            [
             0.6,
             "#e6f5d0"
            ],
            [
             0.7,
             "#b8e186"
            ],
            [
             0.8,
             "#7fbc41"
            ],
            [
             0.9,
             "#4d9221"
            ],
            [
             1,
             "#276419"
            ]
           ],
           "sequential": [
            [
             0,
             "#0d0887"
            ],
            [
             0.1111111111111111,
             "#46039f"
            ],
            [
             0.2222222222222222,
             "#7201a8"
            ],
            [
             0.3333333333333333,
             "#9c179e"
            ],
            [
             0.4444444444444444,
             "#bd3786"
            ],
            [
             0.5555555555555556,
             "#d8576b"
            ],
            [
             0.6666666666666666,
             "#ed7953"
            ],
            [
             0.7777777777777778,
             "#fb9f3a"
            ],
            [
             0.8888888888888888,
             "#fdca26"
            ],
            [
             1,
             "#f0f921"
            ]
           ],
           "sequentialminus": [
            [
             0,
             "#0d0887"
            ],
            [
             0.1111111111111111,
             "#46039f"
            ],
            [
             0.2222222222222222,
             "#7201a8"
            ],
            [
             0.3333333333333333,
             "#9c179e"
            ],
            [
             0.4444444444444444,
             "#bd3786"
            ],
            [
             0.5555555555555556,
             "#d8576b"
            ],
            [
             0.6666666666666666,
             "#ed7953"
            ],
            [
             0.7777777777777778,
             "#fb9f3a"
            ],
            [
             0.8888888888888888,
             "#fdca26"
            ],
            [
             1,
             "#f0f921"
            ]
           ]
          },
          "colorway": [
           "#636efa",
           "#EF553B",
           "#00cc96",
           "#ab63fa",
           "#FFA15A",
           "#19d3f3",
           "#FF6692",
           "#B6E880",
           "#FF97FF",
           "#FECB52"
          ],
          "font": {
           "color": "#2a3f5f"
          },
          "geo": {
           "bgcolor": "white",
           "lakecolor": "white",
           "landcolor": "#E5ECF6",
           "showlakes": true,
           "showland": true,
           "subunitcolor": "white"
          },
          "hoverlabel": {
           "align": "left"
          },
          "hovermode": "closest",
          "mapbox": {
           "style": "light"
          },
          "paper_bgcolor": "white",
          "plot_bgcolor": "#E5ECF6",
          "polar": {
           "angularaxis": {
            "gridcolor": "white",
            "linecolor": "white",
            "ticks": ""
           },
           "bgcolor": "#E5ECF6",
           "radialaxis": {
            "gridcolor": "white",
            "linecolor": "white",
            "ticks": ""
           }
          },
          "scene": {
           "xaxis": {
            "backgroundcolor": "#E5ECF6",
            "gridcolor": "white",
            "gridwidth": 2,
            "linecolor": "white",
            "showbackground": true,
            "ticks": "",
            "zerolinecolor": "white"
           },
           "yaxis": {
            "backgroundcolor": "#E5ECF6",
            "gridcolor": "white",
            "gridwidth": 2,
            "linecolor": "white",
            "showbackground": true,
            "ticks": "",
            "zerolinecolor": "white"
           },
           "zaxis": {
            "backgroundcolor": "#E5ECF6",
            "gridcolor": "white",
            "gridwidth": 2,
            "linecolor": "white",
            "showbackground": true,
            "ticks": "",
            "zerolinecolor": "white"
           }
          },
          "shapedefaults": {
           "line": {
            "color": "#2a3f5f"
           }
          },
          "ternary": {
           "aaxis": {
            "gridcolor": "white",
            "linecolor": "white",
            "ticks": ""
           },
           "baxis": {
            "gridcolor": "white",
            "linecolor": "white",
            "ticks": ""
           },
           "bgcolor": "#E5ECF6",
           "caxis": {
            "gridcolor": "white",
            "linecolor": "white",
            "ticks": ""
           }
          },
          "title": {
           "x": 0.05
          },
          "xaxis": {
           "automargin": true,
           "gridcolor": "white",
           "linecolor": "white",
           "ticks": "",
           "title": {
            "standoff": 15
           },
           "zerolinecolor": "white",
           "zerolinewidth": 2
          },
          "yaxis": {
           "automargin": true,
           "gridcolor": "white",
           "linecolor": "white",
           "ticks": "",
           "title": {
            "standoff": 15
           },
           "zerolinecolor": "white",
           "zerolinewidth": 2
          }
         }
        },
        "xaxis": {
         "title": {
          "text": "x-tsne"
         }
        },
        "yaxis": {
         "title": {
          "text": "y-tsne"
         }
        }
       }
      },
      "text/html": [
       "<div>\n",
       "        \n",
       "        \n",
       "            <div id=\"f92f7fe9-e78d-496d-a5a4-8035158dd55b\" class=\"plotly-graph-div\" style=\"height:525px; width:100%;\"></div>\n",
       "            <script type=\"text/javascript\">\n",
       "                require([\"plotly\"], function(Plotly) {\n",
       "                    window.PLOTLYENV=window.PLOTLYENV || {};\n",
       "                    \n",
       "                if (document.getElementById(\"f92f7fe9-e78d-496d-a5a4-8035158dd55b\")) {\n",
       "                    Plotly.newPlot(\n",
       "                        'f92f7fe9-e78d-496d-a5a4-8035158dd55b',\n",
       "                        [{\"marker\": {\"color\": [-6.0489999999999995, -10.965, -4.368, -10.732000000000001, -5.56, -5.041, -7.359, -5.678999999999999, -2.6519999999999997, -6.362, -2.7489999999999997, -7.05, -4.218, -5.6339999999999995, -5.065, -4.724, -7.513, -14.505, -6.112, -8.575, -14.084000000000001, -8.113999999999999, -6.401, -5.29, -11.713, -3.818, -2.7289999999999996, -4.167, -6.257000000000001, -10.109, -3.714, -6.365, -2.853, -4.773, -6.349, -3.0460000000000003, -7.665, -9.927999999999999, -4.156000000000001, -3.702, -4.197, -4.669, -7.058, -6.806, -6.181, -5.803999999999999, -4.271, -4.47, -5.7139999999999995, -6.136], \"size\": 8}, \"mode\": \"markers\", \"text\": [\"Shawn Mendes - Se\\u00c3\\u00b1orita\", \"Billie Eilish - bad guy\", \"Post Malone - Sunflower - Spider-Man: Into the Spider-Verse\", \"Ariana Grande - 7 rings\", \"Lil Nas X - Old Town Road - Remix\", \"Ed Sheeran - I Don't Care (with Justin Bieber)\", \"Post Malone - Wow.\", \"Lewis Capaldi - Someone You Loved\", \"Daddy Yankee - Con Calma\", \"Lady Gaga - Shallow\", \"Marshmello - Happier\", \"Halsey - Without Me\", \"Pedro Cap\\u00c3\\u00b3 - Calma - Remix\", \"Ariana Grande - thank u, next\", \"Jonas Brothers - Sucker\", \"Ava Max - Sweet but Psycho\", \"Sam Smith - Dancing With A Stranger (with Normani)\", \"Billie Eilish - bury a friend\", \"Lil Nas X - Old Town Road\", \"Khalid - Talk (feat. Disclosure)\", \"Billie Eilish - when the party's over\", \"Ed Sheeran - Beautiful People (feat. Khalid)\", \"Tones And I - Dance Monkey\", \"Ariana Grande - break up with your girlfriend, i'm bored\", \"J. Cole - MIDDLE CHILD\", \"Post Malone - Goodbyes (Feat. Young Thug)\", \"Panic! At The Disco - High Hopes\", \"DJ Snake - Taki Taki (feat. Selena Gomez, Ozuna & Cardi B)\", \"Lil Tecca - Ransom\", \"Billie Eilish - lovely (with Khalid)\", \"Travis Scott - SICKO MODE\", \"Meek Mill - Going Bad (feat. Drake)\", \"Mabel - Don't Call Me Up\", \"Bad Bunny - Callaita\", \"Bad Bunny - MIA (feat. Drake)\", \"Lizzo - Truth Hurts\", \"benny blanco - Eastside (with Halsey & Khalid)\", \"Queen - Bohemian Rhapsody - 2011 Mix\", \"Anuel AA - Secreto\", \"Anuel AA - China\", \"Shawn Mendes - If I Can't Have You\", \"Sech - Otro Trago\", \"Lauv - i'm so tired...\", \"MEDUZA - Piece Of Your Heart\", \"Avicii - SOS (feat. Aloe Blacc)\", \"Post Malone - Better Now\", \"Lunay - Soltera - Remix\", \"Paulo Londra - Adan y Eva\", \"Alec Benjamin - Let Me Down Slowly\", \"Post Malone - rockstar (feat. 21 Savage)\"], \"type\": \"scatter\", \"x\": [77.2558364868164, -86.80612182617188, -1151.541259765625, 93.19845581054688, -61.87322998046875, -383.02593994140625, -31.922319412231445, 118.31820678710938, -32.84884262084961, 71.99668884277344, 66.29024505615234, 9.290453910827637, -73.7568130493164, 146.71766662597656, -25.50486946105957, -99.24280548095703, 23.15589141845703, 24.78072166442871, -65.49693298339844, -37.24183654785156, 28.599109649658203, -198.43516540527344, 57.85717010498047, 121.49108123779297, -62.63191604614258, -39.4481086730957, -9.326189994812012, 6.01373815536499, 81.04918670654297, 22.15044403076172, 33.866268157958984, 5.206876277923584, 127.78539276123047, 85.69207000732422, -35.598995208740234, -4.1918792724609375, -59.252342224121094, 29.830596923828125, -4.642973899841309, -90.89604187011719, -10.121148109436035, -0.7742586135864258, -691.4647216796875, 60.19216537475586, 6.945554733276367, -3.1269538402557373, 51.38004684448242, -8.194355010986328, 525.205322265625, -96.08403015136719], \"y\": [-711.7518310546875, -66.34842681884766, -430.9850158691406, -183.40101623535156, 22.574026107788086, -153.21609497070312, -7.117488384246826, -65.63795471191406, 67.21702575683594, 14.414504051208496, -72.83434295654297, 136.6329803466797, 50.45195770263672, -22.086076736450195, -23.486183166503906, 1479.677978515625, -12.098816871643066, -71.94284057617188, 21.54622459411621, -18.346771240234375, 13.0225191116333, 43.05750274658203, -105.2216796875, -81.27590942382812, 334.36737060546875, -3.094119071960449, 124.843994140625, 123.84943389892578, -7.17632532119751, -39.57477569580078, 14.076184272766113, 23.14373016357422, 107.47864532470703, -207.6630096435547, 263.40234375, 43.541019439697266, -59.258148193359375, -138.50936889648438, 37.4677848815918, 59.913421630859375, -192.08786010742188, -25.509994506835938, -223.184814453125, -77.29268646240234, -31.343101501464844, 514.1265258789062, -27.792919158935547, -106.69442749023438, 1185.71533203125, 0.3416413366794586]}],\n",
       "                        {\"template\": {\"data\": {\"bar\": [{\"error_x\": {\"color\": \"#2a3f5f\"}, \"error_y\": {\"color\": \"#2a3f5f\"}, \"marker\": {\"line\": {\"color\": \"#E5ECF6\", \"width\": 0.5}}, \"type\": \"bar\"}], \"barpolar\": [{\"marker\": {\"line\": {\"color\": \"#E5ECF6\", \"width\": 0.5}}, \"type\": \"barpolar\"}], \"carpet\": [{\"aaxis\": {\"endlinecolor\": \"#2a3f5f\", \"gridcolor\": \"white\", \"linecolor\": \"white\", \"minorgridcolor\": \"white\", \"startlinecolor\": \"#2a3f5f\"}, \"baxis\": {\"endlinecolor\": \"#2a3f5f\", \"gridcolor\": \"white\", \"linecolor\": \"white\", \"minorgridcolor\": \"white\", \"startlinecolor\": \"#2a3f5f\"}, \"type\": \"carpet\"}], \"choropleth\": [{\"colorbar\": {\"outlinewidth\": 0, \"ticks\": \"\"}, \"type\": \"choropleth\"}], \"contour\": [{\"colorbar\": {\"outlinewidth\": 0, \"ticks\": \"\"}, \"colorscale\": [[0.0, \"#0d0887\"], [0.1111111111111111, \"#46039f\"], [0.2222222222222222, \"#7201a8\"], [0.3333333333333333, \"#9c179e\"], [0.4444444444444444, \"#bd3786\"], [0.5555555555555556, \"#d8576b\"], [0.6666666666666666, \"#ed7953\"], [0.7777777777777778, \"#fb9f3a\"], [0.8888888888888888, \"#fdca26\"], [1.0, \"#f0f921\"]], \"type\": \"contour\"}], \"contourcarpet\": [{\"colorbar\": {\"outlinewidth\": 0, \"ticks\": \"\"}, \"type\": \"contourcarpet\"}], \"heatmap\": [{\"colorbar\": {\"outlinewidth\": 0, \"ticks\": \"\"}, \"colorscale\": [[0.0, \"#0d0887\"], [0.1111111111111111, \"#46039f\"], [0.2222222222222222, \"#7201a8\"], [0.3333333333333333, \"#9c179e\"], [0.4444444444444444, \"#bd3786\"], [0.5555555555555556, \"#d8576b\"], [0.6666666666666666, \"#ed7953\"], [0.7777777777777778, \"#fb9f3a\"], [0.8888888888888888, \"#fdca26\"], [1.0, \"#f0f921\"]], \"type\": \"heatmap\"}], \"heatmapgl\": [{\"colorbar\": {\"outlinewidth\": 0, \"ticks\": \"\"}, \"colorscale\": [[0.0, \"#0d0887\"], [0.1111111111111111, \"#46039f\"], [0.2222222222222222, \"#7201a8\"], [0.3333333333333333, \"#9c179e\"], [0.4444444444444444, \"#bd3786\"], [0.5555555555555556, \"#d8576b\"], [0.6666666666666666, \"#ed7953\"], [0.7777777777777778, \"#fb9f3a\"], [0.8888888888888888, \"#fdca26\"], [1.0, \"#f0f921\"]], \"type\": \"heatmapgl\"}], \"histogram\": [{\"marker\": {\"colorbar\": {\"outlinewidth\": 0, \"ticks\": \"\"}}, \"type\": \"histogram\"}], \"histogram2d\": [{\"colorbar\": {\"outlinewidth\": 0, \"ticks\": \"\"}, \"colorscale\": [[0.0, \"#0d0887\"], [0.1111111111111111, \"#46039f\"], [0.2222222222222222, \"#7201a8\"], [0.3333333333333333, \"#9c179e\"], [0.4444444444444444, \"#bd3786\"], [0.5555555555555556, \"#d8576b\"], [0.6666666666666666, \"#ed7953\"], [0.7777777777777778, \"#fb9f3a\"], [0.8888888888888888, \"#fdca26\"], [1.0, \"#f0f921\"]], \"type\": \"histogram2d\"}], \"histogram2dcontour\": [{\"colorbar\": {\"outlinewidth\": 0, \"ticks\": \"\"}, \"colorscale\": [[0.0, \"#0d0887\"], [0.1111111111111111, \"#46039f\"], [0.2222222222222222, \"#7201a8\"], [0.3333333333333333, \"#9c179e\"], [0.4444444444444444, \"#bd3786\"], [0.5555555555555556, \"#d8576b\"], [0.6666666666666666, \"#ed7953\"], [0.7777777777777778, \"#fb9f3a\"], [0.8888888888888888, \"#fdca26\"], [1.0, \"#f0f921\"]], \"type\": \"histogram2dcontour\"}], \"mesh3d\": [{\"colorbar\": {\"outlinewidth\": 0, \"ticks\": \"\"}, \"type\": \"mesh3d\"}], \"parcoords\": [{\"line\": {\"colorbar\": {\"outlinewidth\": 0, \"ticks\": \"\"}}, \"type\": \"parcoords\"}], \"pie\": [{\"automargin\": true, \"type\": \"pie\"}], \"scatter\": [{\"marker\": {\"colorbar\": {\"outlinewidth\": 0, \"ticks\": \"\"}}, \"type\": \"scatter\"}], \"scatter3d\": [{\"line\": {\"colorbar\": {\"outlinewidth\": 0, \"ticks\": \"\"}}, \"marker\": {\"colorbar\": {\"outlinewidth\": 0, \"ticks\": \"\"}}, \"type\": \"scatter3d\"}], \"scattercarpet\": [{\"marker\": {\"colorbar\": {\"outlinewidth\": 0, \"ticks\": \"\"}}, \"type\": \"scattercarpet\"}], \"scattergeo\": [{\"marker\": {\"colorbar\": {\"outlinewidth\": 0, \"ticks\": \"\"}}, \"type\": \"scattergeo\"}], \"scattergl\": [{\"marker\": {\"colorbar\": {\"outlinewidth\": 0, \"ticks\": \"\"}}, \"type\": \"scattergl\"}], \"scattermapbox\": [{\"marker\": {\"colorbar\": {\"outlinewidth\": 0, \"ticks\": \"\"}}, \"type\": \"scattermapbox\"}], \"scatterpolar\": [{\"marker\": {\"colorbar\": {\"outlinewidth\": 0, \"ticks\": \"\"}}, \"type\": \"scatterpolar\"}], \"scatterpolargl\": [{\"marker\": {\"colorbar\": {\"outlinewidth\": 0, \"ticks\": \"\"}}, \"type\": \"scatterpolargl\"}], \"scatterternary\": [{\"marker\": {\"colorbar\": {\"outlinewidth\": 0, \"ticks\": \"\"}}, \"type\": \"scatterternary\"}], \"surface\": [{\"colorbar\": {\"outlinewidth\": 0, \"ticks\": \"\"}, \"colorscale\": [[0.0, \"#0d0887\"], [0.1111111111111111, \"#46039f\"], [0.2222222222222222, \"#7201a8\"], [0.3333333333333333, \"#9c179e\"], [0.4444444444444444, \"#bd3786\"], [0.5555555555555556, \"#d8576b\"], [0.6666666666666666, \"#ed7953\"], [0.7777777777777778, \"#fb9f3a\"], [0.8888888888888888, \"#fdca26\"], [1.0, \"#f0f921\"]], \"type\": \"surface\"}], \"table\": [{\"cells\": {\"fill\": {\"color\": \"#EBF0F8\"}, \"line\": {\"color\": \"white\"}}, \"header\": {\"fill\": {\"color\": \"#C8D4E3\"}, \"line\": {\"color\": \"white\"}}, \"type\": \"table\"}]}, \"layout\": {\"annotationdefaults\": {\"arrowcolor\": \"#2a3f5f\", \"arrowhead\": 0, \"arrowwidth\": 1}, \"coloraxis\": {\"colorbar\": {\"outlinewidth\": 0, \"ticks\": \"\"}}, \"colorscale\": {\"diverging\": [[0, \"#8e0152\"], [0.1, \"#c51b7d\"], [0.2, \"#de77ae\"], [0.3, \"#f1b6da\"], [0.4, \"#fde0ef\"], [0.5, \"#f7f7f7\"], [0.6, \"#e6f5d0\"], [0.7, \"#b8e186\"], [0.8, \"#7fbc41\"], [0.9, \"#4d9221\"], [1, \"#276419\"]], \"sequential\": [[0.0, \"#0d0887\"], [0.1111111111111111, \"#46039f\"], [0.2222222222222222, \"#7201a8\"], [0.3333333333333333, \"#9c179e\"], [0.4444444444444444, \"#bd3786\"], [0.5555555555555556, \"#d8576b\"], [0.6666666666666666, \"#ed7953\"], [0.7777777777777778, \"#fb9f3a\"], [0.8888888888888888, \"#fdca26\"], [1.0, \"#f0f921\"]], \"sequentialminus\": [[0.0, \"#0d0887\"], [0.1111111111111111, \"#46039f\"], [0.2222222222222222, \"#7201a8\"], [0.3333333333333333, \"#9c179e\"], [0.4444444444444444, \"#bd3786\"], [0.5555555555555556, \"#d8576b\"], [0.6666666666666666, \"#ed7953\"], [0.7777777777777778, \"#fb9f3a\"], [0.8888888888888888, \"#fdca26\"], [1.0, \"#f0f921\"]]}, \"colorway\": [\"#636efa\", \"#EF553B\", \"#00cc96\", \"#ab63fa\", \"#FFA15A\", \"#19d3f3\", \"#FF6692\", \"#B6E880\", \"#FF97FF\", \"#FECB52\"], \"font\": {\"color\": \"#2a3f5f\"}, \"geo\": {\"bgcolor\": \"white\", \"lakecolor\": \"white\", \"landcolor\": \"#E5ECF6\", \"showlakes\": true, \"showland\": true, \"subunitcolor\": \"white\"}, \"hoverlabel\": {\"align\": \"left\"}, \"hovermode\": \"closest\", \"mapbox\": {\"style\": \"light\"}, \"paper_bgcolor\": \"white\", \"plot_bgcolor\": \"#E5ECF6\", \"polar\": {\"angularaxis\": {\"gridcolor\": \"white\", \"linecolor\": \"white\", \"ticks\": \"\"}, \"bgcolor\": \"#E5ECF6\", \"radialaxis\": {\"gridcolor\": \"white\", \"linecolor\": \"white\", \"ticks\": \"\"}}, \"scene\": {\"xaxis\": {\"backgroundcolor\": \"#E5ECF6\", \"gridcolor\": \"white\", \"gridwidth\": 2, \"linecolor\": \"white\", \"showbackground\": true, \"ticks\": \"\", \"zerolinecolor\": \"white\"}, \"yaxis\": {\"backgroundcolor\": \"#E5ECF6\", \"gridcolor\": \"white\", \"gridwidth\": 2, \"linecolor\": \"white\", \"showbackground\": true, \"ticks\": \"\", \"zerolinecolor\": \"white\"}, \"zaxis\": {\"backgroundcolor\": \"#E5ECF6\", \"gridcolor\": \"white\", \"gridwidth\": 2, \"linecolor\": \"white\", \"showbackground\": true, \"ticks\": \"\", \"zerolinecolor\": \"white\"}}, \"shapedefaults\": {\"line\": {\"color\": \"#2a3f5f\"}}, \"ternary\": {\"aaxis\": {\"gridcolor\": \"white\", \"linecolor\": \"white\", \"ticks\": \"\"}, \"baxis\": {\"gridcolor\": \"white\", \"linecolor\": \"white\", \"ticks\": \"\"}, \"bgcolor\": \"#E5ECF6\", \"caxis\": {\"gridcolor\": \"white\", \"linecolor\": \"white\", \"ticks\": \"\"}}, \"title\": {\"x\": 0.05}, \"xaxis\": {\"automargin\": true, \"gridcolor\": \"white\", \"linecolor\": \"white\", \"ticks\": \"\", \"title\": {\"standoff\": 15}, \"zerolinecolor\": \"white\", \"zerolinewidth\": 2}, \"yaxis\": {\"automargin\": true, \"gridcolor\": \"white\", \"linecolor\": \"white\", \"ticks\": \"\", \"title\": {\"standoff\": 15}, \"zerolinecolor\": \"white\", \"zerolinewidth\": 2}}}, \"xaxis\": {\"title\": {\"text\": \"x-tsne\"}}, \"yaxis\": {\"title\": {\"text\": \"y-tsne\"}}},\n",
       "                        {\"responsive\": true}\n",
       "                    ).then(function(){\n",
       "                            \n",
       "var gd = document.getElementById('f92f7fe9-e78d-496d-a5a4-8035158dd55b');\n",
       "var x = new MutationObserver(function (mutations, observer) {{\n",
       "        var display = window.getComputedStyle(gd).display;\n",
       "        if (!display || display === 'none') {{\n",
       "            console.log([gd, 'removed!']);\n",
       "            Plotly.purge(gd);\n",
       "            observer.disconnect();\n",
       "        }}\n",
       "}});\n",
       "\n",
       "// Listen for the removal of the full notebook cells\n",
       "var notebookContainer = gd.closest('#notebook-container');\n",
       "if (notebookContainer) {{\n",
       "    x.observe(notebookContainer, {childList: true});\n",
       "}}\n",
       "\n",
       "// Listen for the clearing of the current output cell\n",
       "var outputEl = gd.closest('.output');\n",
       "if (outputEl) {{\n",
       "    x.observe(outputEl, {childList: true});\n",
       "}}\n",
       "\n",
       "                        })\n",
       "                };\n",
       "                });\n",
       "            </script>\n",
       "        </div>"
      ]
     },
     "metadata": {},
     "output_type": "display_data"
    }
   ],
   "source": [
    "plot_pca_scaler(\"loudness\",df)"
   ]
  },
  {
   "cell_type": "markdown",
   "metadata": {},
   "source": [
    "## project the 'top' and 'bottom' songs (or 'not-top' songs) "
   ]
  },
  {
   "cell_type": "markdown",
   "metadata": {},
   "source": [
    "project into the t-SNE space and see if they cluster differently."
   ]
  },
  {
   "cell_type": "markdown",
   "metadata": {},
   "source": [
    "1. separate the songs on the basis of popularity--> o and 1 , here 0  are the not top songs and 1 are top songs\n",
    "\n",
    "- EXPECTED 1: Songs having popularity 1 should be tightly coupled  and \n",
    "\n",
    "- EXPECTED 2: Songs having popularity 0 should be loosely coupled  "
   ]
  },
  {
   "cell_type": "code",
   "execution_count": 82,
   "metadata": {},
   "outputs": [],
   "source": [
    "def top_songs(dataframe):\n",
    "    df1 = dataframe[dataframe['popularity'] == 1]\n",
    "    return plot_pca_scaler(\"loudness\",df1)"
   ]
  },
  {
   "cell_type": "code",
   "execution_count": 83,
   "metadata": {},
   "outputs": [
    {
     "name": "stdout",
     "output_type": "stream",
     "text": [
      "t-SNE starting.................\n",
      "[t-SNE] Computing 40 nearest neighbors...\n",
      "[t-SNE] Indexed 41 samples in 0.000s...\n",
      "[t-SNE] Computed neighbors for 41 samples in 0.001s...\n",
      "[t-SNE] Computed conditional probabilities for sample 41 / 41\n",
      "[t-SNE] Mean sigma: 10.921205\n",
      "[t-SNE] KL divergence after 250 iterations with early exaggeration: 82.176224\n",
      "[t-SNE] KL divergence after 300 iterations: 2.112491\n",
      "......................t-SNE done\n"
     ]
    },
    {
     "data": {
      "application/vnd.plotly.v1+json": {
       "config": {
        "linkText": "Export to plot.ly",
        "plotlyServerURL": "https://plot.ly",
        "showLink": false
       },
       "data": [
        {
         "marker": {
          "color": [
           -6.0489999999999995,
           -10.965,
           -4.368,
           -10.732000000000001,
           -5.56,
           -5.041,
           -7.359,
           -2.6519999999999997,
           -2.7489999999999997,
           -7.05,
           -4.218,
           -5.6339999999999995,
           -5.065,
           -4.724,
           -7.513,
           -14.505,
           -6.112,
           -8.575,
           -6.401,
           -5.29,
           -11.713,
           -3.818,
           -2.7289999999999996,
           -4.167,
           -6.257000000000001,
           -3.714,
           -6.365,
           -2.853,
           -4.773,
           -6.349,
           -3.0460000000000003,
           -7.665,
           -4.156000000000001,
           -3.702,
           -4.197,
           -4.669,
           -7.058,
           -6.806,
           -6.181,
           -4.271,
           -4.47
          ],
          "size": 8
         },
         "mode": "markers",
         "text": [
          "Shawn Mendes - Señorita",
          "Billie Eilish - bad guy",
          "Post Malone - Sunflower - Spider-Man: Into the Spider-Verse",
          "Ariana Grande - 7 rings",
          "Lil Nas X - Old Town Road - Remix",
          "Ed Sheeran - I Don't Care (with Justin Bieber)",
          "Post Malone - Wow.",
          "Daddy Yankee - Con Calma",
          "Marshmello - Happier",
          "Halsey - Without Me",
          "Pedro Capó - Calma - Remix",
          "Ariana Grande - thank u, next",
          "Jonas Brothers - Sucker",
          "Ava Max - Sweet but Psycho",
          "Sam Smith - Dancing With A Stranger (with Normani)",
          "Billie Eilish - bury a friend",
          "Lil Nas X - Old Town Road",
          "Khalid - Talk (feat. Disclosure)",
          "Tones And I - Dance Monkey",
          "Ariana Grande - break up with your girlfriend, i'm bored",
          "J. Cole - MIDDLE CHILD",
          "Post Malone - Goodbyes (Feat. Young Thug)",
          "Panic! At The Disco - High Hopes",
          "DJ Snake - Taki Taki (feat. Selena Gomez, Ozuna & Cardi B)",
          "Lil Tecca - Ransom",
          "Travis Scott - SICKO MODE",
          "Meek Mill - Going Bad (feat. Drake)",
          "Mabel - Don't Call Me Up",
          "Bad Bunny - Callaita",
          "Bad Bunny - MIA (feat. Drake)",
          "Lizzo - Truth Hurts",
          "benny blanco - Eastside (with Halsey & Khalid)",
          "Anuel AA - Secreto",
          "Anuel AA - China",
          "Shawn Mendes - If I Can't Have You",
          "Sech - Otro Trago",
          "Lauv - i'm so tired...",
          "MEDUZA - Piece Of Your Heart",
          "Avicii - SOS (feat. Aloe Blacc)",
          "Lunay - Soltera - Remix",
          "Paulo Londra - Adan y Eva"
         ],
         "type": "scatter",
         "x": [
          -109.1603012084961,
          2002.6759033203125,
          -30.70114517211914,
          -90.94115447998047,
          77.81356048583984,
          42.951087951660156,
          35.21879577636719,
          -49.7484245300293,
          -16.106836318969727,
          -22.1827335357666,
          -13.308768272399902,
          -34.483612060546875,
          102.37125396728516,
          -116.40862274169922,
          354.19256591796875,
          2.9637606143951416,
          37.38808822631836,
          -23.18671989440918,
          48.27833557128906,
          -302.5298767089844,
          -495.36151123046875,
          -87.9005355834961,
          76.07231140136719,
          -34.863441467285156,
          62.43191909790039,
          63.3280143737793,
          57.742027282714844,
          19.407997131347656,
          11.365859985351562,
          7.171475410461426,
          -4.261865615844727,
          -100.20849609375,
          21.860809326171875,
          1.3367549180984497,
          28.391523361206055,
          0.6070467233657837,
          138.5955047607422,
          -25.04071807861328,
          126.86071014404297,
          -1.4407060146331787,
          -64.60627746582031
         ],
         "y": [
          -10.37439250946045,
          24.682144165039062,
          0.3386065363883972,
          -3.4539737701416016,
          39.00810241699219,
          -39.58406448364258,
          34.51507568359375,
          143.42471313476562,
          56.516021728515625,
          26.100587844848633,
          26.68418312072754,
          184.15074157714844,
          73.14534759521484,
          -345.60113525390625,
          181.08717346191406,
          -97.06388854980469,
          8.885239601135254,
          8.51789379119873,
          -4.975033283233643,
          -188.98922729492188,
          -4.4783196449279785,
          -166.2244415283203,
          49.96636962890625,
          -16.00372886657715,
          -5.398617267608643,
          -4.0451979637146,
          28.557693481445312,
          38.841819763183594,
          67.18940734863281,
          -16.977108001708984,
          -7.324615478515625,
          -49.17520523071289,
          -6.926316738128662,
          -30.151973724365234,
          7.246515274047852,
          43.2929573059082,
          24.65418815612793,
          -51.79196548461914,
          140.12844848632812,
          -48.22328186035156,
          87.15692901611328
         ]
        }
       ],
       "layout": {
        "template": {
         "data": {
          "bar": [
           {
            "error_x": {
             "color": "#2a3f5f"
            },
            "error_y": {
             "color": "#2a3f5f"
            },
            "marker": {
             "line": {
              "color": "#E5ECF6",
              "width": 0.5
             }
            },
            "type": "bar"
           }
          ],
          "barpolar": [
           {
            "marker": {
             "line": {
              "color": "#E5ECF6",
              "width": 0.5
             }
            },
            "type": "barpolar"
           }
          ],
          "carpet": [
           {
            "aaxis": {
             "endlinecolor": "#2a3f5f",
             "gridcolor": "white",
             "linecolor": "white",
             "minorgridcolor": "white",
             "startlinecolor": "#2a3f5f"
            },
            "baxis": {
             "endlinecolor": "#2a3f5f",
             "gridcolor": "white",
             "linecolor": "white",
             "minorgridcolor": "white",
             "startlinecolor": "#2a3f5f"
            },
            "type": "carpet"
           }
          ],
          "choropleth": [
           {
            "colorbar": {
             "outlinewidth": 0,
             "ticks": ""
            },
            "type": "choropleth"
           }
          ],
          "contour": [
           {
            "colorbar": {
             "outlinewidth": 0,
             "ticks": ""
            },
            "colorscale": [
             [
              0,
              "#0d0887"
             ],
             [
              0.1111111111111111,
              "#46039f"
             ],
             [
              0.2222222222222222,
              "#7201a8"
             ],
             [
              0.3333333333333333,
              "#9c179e"
             ],
             [
              0.4444444444444444,
              "#bd3786"
             ],
             [
              0.5555555555555556,
              "#d8576b"
             ],
             [
              0.6666666666666666,
              "#ed7953"
             ],
             [
              0.7777777777777778,
              "#fb9f3a"
             ],
             [
              0.8888888888888888,
              "#fdca26"
             ],
             [
              1,
              "#f0f921"
             ]
            ],
            "type": "contour"
           }
          ],
          "contourcarpet": [
           {
            "colorbar": {
             "outlinewidth": 0,
             "ticks": ""
            },
            "type": "contourcarpet"
           }
          ],
          "heatmap": [
           {
            "colorbar": {
             "outlinewidth": 0,
             "ticks": ""
            },
            "colorscale": [
             [
              0,
              "#0d0887"
             ],
             [
              0.1111111111111111,
              "#46039f"
             ],
             [
              0.2222222222222222,
              "#7201a8"
             ],
             [
              0.3333333333333333,
              "#9c179e"
             ],
             [
              0.4444444444444444,
              "#bd3786"
             ],
             [
              0.5555555555555556,
              "#d8576b"
             ],
             [
              0.6666666666666666,
              "#ed7953"
             ],
             [
              0.7777777777777778,
              "#fb9f3a"
             ],
             [
              0.8888888888888888,
              "#fdca26"
             ],
             [
              1,
              "#f0f921"
             ]
            ],
            "type": "heatmap"
           }
          ],
          "heatmapgl": [
           {
            "colorbar": {
             "outlinewidth": 0,
             "ticks": ""
            },
            "colorscale": [
             [
              0,
              "#0d0887"
             ],
             [
              0.1111111111111111,
              "#46039f"
             ],
             [
              0.2222222222222222,
              "#7201a8"
             ],
             [
              0.3333333333333333,
              "#9c179e"
             ],
             [
              0.4444444444444444,
              "#bd3786"
             ],
             [
              0.5555555555555556,
              "#d8576b"
             ],
             [
              0.6666666666666666,
              "#ed7953"
             ],
             [
              0.7777777777777778,
              "#fb9f3a"
             ],
             [
              0.8888888888888888,
              "#fdca26"
             ],
             [
              1,
              "#f0f921"
             ]
            ],
            "type": "heatmapgl"
           }
          ],
          "histogram": [
           {
            "marker": {
             "colorbar": {
              "outlinewidth": 0,
              "ticks": ""
             }
            },
            "type": "histogram"
           }
          ],
          "histogram2d": [
           {
            "colorbar": {
             "outlinewidth": 0,
             "ticks": ""
            },
            "colorscale": [
             [
              0,
              "#0d0887"
             ],
             [
              0.1111111111111111,
              "#46039f"
             ],
             [
              0.2222222222222222,
              "#7201a8"
             ],
             [
              0.3333333333333333,
              "#9c179e"
             ],
             [
              0.4444444444444444,
              "#bd3786"
             ],
             [
              0.5555555555555556,
              "#d8576b"
             ],
             [
              0.6666666666666666,
              "#ed7953"
             ],
             [
              0.7777777777777778,
              "#fb9f3a"
             ],
             [
              0.8888888888888888,
              "#fdca26"
             ],
             [
              1,
              "#f0f921"
             ]
            ],
            "type": "histogram2d"
           }
          ],
          "histogram2dcontour": [
           {
            "colorbar": {
             "outlinewidth": 0,
             "ticks": ""
            },
            "colorscale": [
             [
              0,
              "#0d0887"
             ],
             [
              0.1111111111111111,
              "#46039f"
             ],
             [
              0.2222222222222222,
              "#7201a8"
             ],
             [
              0.3333333333333333,
              "#9c179e"
             ],
             [
              0.4444444444444444,
              "#bd3786"
             ],
             [
              0.5555555555555556,
              "#d8576b"
             ],
             [
              0.6666666666666666,
              "#ed7953"
             ],
             [
              0.7777777777777778,
              "#fb9f3a"
             ],
             [
              0.8888888888888888,
              "#fdca26"
             ],
             [
              1,
              "#f0f921"
             ]
            ],
            "type": "histogram2dcontour"
           }
          ],
          "mesh3d": [
           {
            "colorbar": {
             "outlinewidth": 0,
             "ticks": ""
            },
            "type": "mesh3d"
           }
          ],
          "parcoords": [
           {
            "line": {
             "colorbar": {
              "outlinewidth": 0,
              "ticks": ""
             }
            },
            "type": "parcoords"
           }
          ],
          "pie": [
           {
            "automargin": true,
            "type": "pie"
           }
          ],
          "scatter": [
           {
            "marker": {
             "colorbar": {
              "outlinewidth": 0,
              "ticks": ""
             }
            },
            "type": "scatter"
           }
          ],
          "scatter3d": [
           {
            "line": {
             "colorbar": {
              "outlinewidth": 0,
              "ticks": ""
             }
            },
            "marker": {
             "colorbar": {
              "outlinewidth": 0,
              "ticks": ""
             }
            },
            "type": "scatter3d"
           }
          ],
          "scattercarpet": [
           {
            "marker": {
             "colorbar": {
              "outlinewidth": 0,
              "ticks": ""
             }
            },
            "type": "scattercarpet"
           }
          ],
          "scattergeo": [
           {
            "marker": {
             "colorbar": {
              "outlinewidth": 0,
              "ticks": ""
             }
            },
            "type": "scattergeo"
           }
          ],
          "scattergl": [
           {
            "marker": {
             "colorbar": {
              "outlinewidth": 0,
              "ticks": ""
             }
            },
            "type": "scattergl"
           }
          ],
          "scattermapbox": [
           {
            "marker": {
             "colorbar": {
              "outlinewidth": 0,
              "ticks": ""
             }
            },
            "type": "scattermapbox"
           }
          ],
          "scatterpolar": [
           {
            "marker": {
             "colorbar": {
              "outlinewidth": 0,
              "ticks": ""
             }
            },
            "type": "scatterpolar"
           }
          ],
          "scatterpolargl": [
           {
            "marker": {
             "colorbar": {
              "outlinewidth": 0,
              "ticks": ""
             }
            },
            "type": "scatterpolargl"
           }
          ],
          "scatterternary": [
           {
            "marker": {
             "colorbar": {
              "outlinewidth": 0,
              "ticks": ""
             }
            },
            "type": "scatterternary"
           }
          ],
          "surface": [
           {
            "colorbar": {
             "outlinewidth": 0,
             "ticks": ""
            },
            "colorscale": [
             [
              0,
              "#0d0887"
             ],
             [
              0.1111111111111111,
              "#46039f"
             ],
             [
              0.2222222222222222,
              "#7201a8"
             ],
             [
              0.3333333333333333,
              "#9c179e"
             ],
             [
              0.4444444444444444,
              "#bd3786"
             ],
             [
              0.5555555555555556,
              "#d8576b"
             ],
             [
              0.6666666666666666,
              "#ed7953"
             ],
             [
              0.7777777777777778,
              "#fb9f3a"
             ],
             [
              0.8888888888888888,
              "#fdca26"
             ],
             [
              1,
              "#f0f921"
             ]
            ],
            "type": "surface"
           }
          ],
          "table": [
           {
            "cells": {
             "fill": {
              "color": "#EBF0F8"
             },
             "line": {
              "color": "white"
             }
            },
            "header": {
             "fill": {
              "color": "#C8D4E3"
             },
             "line": {
              "color": "white"
             }
            },
            "type": "table"
           }
          ]
         },
         "layout": {
          "annotationdefaults": {
           "arrowcolor": "#2a3f5f",
           "arrowhead": 0,
           "arrowwidth": 1
          },
          "coloraxis": {
           "colorbar": {
            "outlinewidth": 0,
            "ticks": ""
           }
          },
          "colorscale": {
           "diverging": [
            [
             0,
             "#8e0152"
            ],
            [
             0.1,
             "#c51b7d"
            ],
            [
             0.2,
             "#de77ae"
            ],
            [
             0.3,
             "#f1b6da"
            ],
            [
             0.4,
             "#fde0ef"
            ],
            [
             0.5,
             "#f7f7f7"
            ],
            [
             0.6,
             "#e6f5d0"
            ],
            [
             0.7,
             "#b8e186"
            ],
            [
             0.8,
             "#7fbc41"
            ],
            [
             0.9,
             "#4d9221"
            ],
            [
             1,
             "#276419"
            ]
           ],
           "sequential": [
            [
             0,
             "#0d0887"
            ],
            [
             0.1111111111111111,
             "#46039f"
            ],
            [
             0.2222222222222222,
             "#7201a8"
            ],
            [
             0.3333333333333333,
             "#9c179e"
            ],
            [
             0.4444444444444444,
             "#bd3786"
            ],
            [
             0.5555555555555556,
             "#d8576b"
            ],
            [
             0.6666666666666666,
             "#ed7953"
            ],
            [
             0.7777777777777778,
             "#fb9f3a"
            ],
            [
             0.8888888888888888,
             "#fdca26"
            ],
            [
             1,
             "#f0f921"
            ]
           ],
           "sequentialminus": [
            [
             0,
             "#0d0887"
            ],
            [
             0.1111111111111111,
             "#46039f"
            ],
            [
             0.2222222222222222,
             "#7201a8"
            ],
            [
             0.3333333333333333,
             "#9c179e"
            ],
            [
             0.4444444444444444,
             "#bd3786"
            ],
            [
             0.5555555555555556,
             "#d8576b"
            ],
            [
             0.6666666666666666,
             "#ed7953"
            ],
            [
             0.7777777777777778,
             "#fb9f3a"
            ],
            [
             0.8888888888888888,
             "#fdca26"
            ],
            [
             1,
             "#f0f921"
            ]
           ]
          },
          "colorway": [
           "#636efa",
           "#EF553B",
           "#00cc96",
           "#ab63fa",
           "#FFA15A",
           "#19d3f3",
           "#FF6692",
           "#B6E880",
           "#FF97FF",
           "#FECB52"
          ],
          "font": {
           "color": "#2a3f5f"
          },
          "geo": {
           "bgcolor": "white",
           "lakecolor": "white",
           "landcolor": "#E5ECF6",
           "showlakes": true,
           "showland": true,
           "subunitcolor": "white"
          },
          "hoverlabel": {
           "align": "left"
          },
          "hovermode": "closest",
          "mapbox": {
           "style": "light"
          },
          "paper_bgcolor": "white",
          "plot_bgcolor": "#E5ECF6",
          "polar": {
           "angularaxis": {
            "gridcolor": "white",
            "linecolor": "white",
            "ticks": ""
           },
           "bgcolor": "#E5ECF6",
           "radialaxis": {
            "gridcolor": "white",
            "linecolor": "white",
            "ticks": ""
           }
          },
          "scene": {
           "xaxis": {
            "backgroundcolor": "#E5ECF6",
            "gridcolor": "white",
            "gridwidth": 2,
            "linecolor": "white",
            "showbackground": true,
            "ticks": "",
            "zerolinecolor": "white"
           },
           "yaxis": {
            "backgroundcolor": "#E5ECF6",
            "gridcolor": "white",
            "gridwidth": 2,
            "linecolor": "white",
            "showbackground": true,
            "ticks": "",
            "zerolinecolor": "white"
           },
           "zaxis": {
            "backgroundcolor": "#E5ECF6",
            "gridcolor": "white",
            "gridwidth": 2,
            "linecolor": "white",
            "showbackground": true,
            "ticks": "",
            "zerolinecolor": "white"
           }
          },
          "shapedefaults": {
           "line": {
            "color": "#2a3f5f"
           }
          },
          "ternary": {
           "aaxis": {
            "gridcolor": "white",
            "linecolor": "white",
            "ticks": ""
           },
           "baxis": {
            "gridcolor": "white",
            "linecolor": "white",
            "ticks": ""
           },
           "bgcolor": "#E5ECF6",
           "caxis": {
            "gridcolor": "white",
            "linecolor": "white",
            "ticks": ""
           }
          },
          "title": {
           "x": 0.05
          },
          "xaxis": {
           "automargin": true,
           "gridcolor": "white",
           "linecolor": "white",
           "ticks": "",
           "title": {
            "standoff": 15
           },
           "zerolinecolor": "white",
           "zerolinewidth": 2
          },
          "yaxis": {
           "automargin": true,
           "gridcolor": "white",
           "linecolor": "white",
           "ticks": "",
           "title": {
            "standoff": 15
           },
           "zerolinecolor": "white",
           "zerolinewidth": 2
          }
         }
        },
        "xaxis": {
         "title": {
          "text": "x-tsne"
         }
        },
        "yaxis": {
         "title": {
          "text": "y-tsne"
         }
        }
       }
      },
      "text/html": [
       "<div>\n",
       "        \n",
       "        \n",
       "            <div id=\"ffa7aeb7-7c82-44fc-b87e-818f11dc19c2\" class=\"plotly-graph-div\" style=\"height:525px; width:100%;\"></div>\n",
       "            <script type=\"text/javascript\">\n",
       "                require([\"plotly\"], function(Plotly) {\n",
       "                    window.PLOTLYENV=window.PLOTLYENV || {};\n",
       "                    \n",
       "                if (document.getElementById(\"ffa7aeb7-7c82-44fc-b87e-818f11dc19c2\")) {\n",
       "                    Plotly.newPlot(\n",
       "                        'ffa7aeb7-7c82-44fc-b87e-818f11dc19c2',\n",
       "                        [{\"marker\": {\"color\": [-6.0489999999999995, -10.965, -4.368, -10.732000000000001, -5.56, -5.041, -7.359, -2.6519999999999997, -2.7489999999999997, -7.05, -4.218, -5.6339999999999995, -5.065, -4.724, -7.513, -14.505, -6.112, -8.575, -6.401, -5.29, -11.713, -3.818, -2.7289999999999996, -4.167, -6.257000000000001, -3.714, -6.365, -2.853, -4.773, -6.349, -3.0460000000000003, -7.665, -4.156000000000001, -3.702, -4.197, -4.669, -7.058, -6.806, -6.181, -4.271, -4.47], \"size\": 8}, \"mode\": \"markers\", \"text\": [\"Shawn Mendes - Se\\u00f1orita\", \"Billie Eilish - bad guy\", \"Post Malone - Sunflower - Spider-Man: Into the Spider-Verse\", \"Ariana Grande - 7 rings\", \"Lil Nas X - Old Town Road - Remix\", \"Ed Sheeran - I Don't Care (with Justin Bieber)\", \"Post Malone - Wow.\", \"Daddy Yankee - Con Calma\", \"Marshmello - Happier\", \"Halsey - Without Me\", \"Pedro Cap\\u00f3 - Calma - Remix\", \"Ariana Grande - thank u, next\", \"Jonas Brothers - Sucker\", \"Ava Max - Sweet but Psycho\", \"Sam Smith - Dancing With A Stranger (with Normani)\", \"Billie Eilish - bury a friend\", \"Lil Nas X - Old Town Road\", \"Khalid - Talk (feat. Disclosure)\", \"Tones And I - Dance Monkey\", \"Ariana Grande - break up with your girlfriend, i'm bored\", \"J. Cole - MIDDLE CHILD\", \"Post Malone - Goodbyes (Feat. Young Thug)\", \"Panic! At The Disco - High Hopes\", \"DJ Snake - Taki Taki (feat. Selena Gomez, Ozuna & Cardi B)\", \"Lil Tecca - Ransom\", \"Travis Scott - SICKO MODE\", \"Meek Mill - Going Bad (feat. Drake)\", \"Mabel - Don't Call Me Up\", \"Bad Bunny - Callaita\", \"Bad Bunny - MIA (feat. Drake)\", \"Lizzo - Truth Hurts\", \"benny blanco - Eastside (with Halsey & Khalid)\", \"Anuel AA - Secreto\", \"Anuel AA - China\", \"Shawn Mendes - If I Can't Have You\", \"Sech - Otro Trago\", \"Lauv - i'm so tired...\", \"MEDUZA - Piece Of Your Heart\", \"Avicii - SOS (feat. Aloe Blacc)\", \"Lunay - Soltera - Remix\", \"Paulo Londra - Adan y Eva\"], \"type\": \"scatter\", \"x\": [-109.1603012084961, 2002.6759033203125, -30.70114517211914, -90.94115447998047, 77.81356048583984, 42.951087951660156, 35.21879577636719, -49.7484245300293, -16.106836318969727, -22.1827335357666, -13.308768272399902, -34.483612060546875, 102.37125396728516, -116.40862274169922, 354.19256591796875, 2.9637606143951416, 37.38808822631836, -23.18671989440918, 48.27833557128906, -302.5298767089844, -495.36151123046875, -87.9005355834961, 76.07231140136719, -34.863441467285156, 62.43191909790039, 63.3280143737793, 57.742027282714844, 19.407997131347656, 11.365859985351562, 7.171475410461426, -4.261865615844727, -100.20849609375, 21.860809326171875, 1.3367549180984497, 28.391523361206055, 0.6070467233657837, 138.5955047607422, -25.04071807861328, 126.86071014404297, -1.4407060146331787, -64.60627746582031], \"y\": [-10.37439250946045, 24.682144165039062, 0.3386065363883972, -3.4539737701416016, 39.00810241699219, -39.58406448364258, 34.51507568359375, 143.42471313476562, 56.516021728515625, 26.100587844848633, 26.68418312072754, 184.15074157714844, 73.14534759521484, -345.60113525390625, 181.08717346191406, -97.06388854980469, 8.885239601135254, 8.51789379119873, -4.975033283233643, -188.98922729492188, -4.4783196449279785, -166.2244415283203, 49.96636962890625, -16.00372886657715, -5.398617267608643, -4.0451979637146, 28.557693481445312, 38.841819763183594, 67.18940734863281, -16.977108001708984, -7.324615478515625, -49.17520523071289, -6.926316738128662, -30.151973724365234, 7.246515274047852, 43.2929573059082, 24.65418815612793, -51.79196548461914, 140.12844848632812, -48.22328186035156, 87.15692901611328]}],\n",
       "                        {\"template\": {\"data\": {\"bar\": [{\"error_x\": {\"color\": \"#2a3f5f\"}, \"error_y\": {\"color\": \"#2a3f5f\"}, \"marker\": {\"line\": {\"color\": \"#E5ECF6\", \"width\": 0.5}}, \"type\": \"bar\"}], \"barpolar\": [{\"marker\": {\"line\": {\"color\": \"#E5ECF6\", \"width\": 0.5}}, \"type\": \"barpolar\"}], \"carpet\": [{\"aaxis\": {\"endlinecolor\": \"#2a3f5f\", \"gridcolor\": \"white\", \"linecolor\": \"white\", \"minorgridcolor\": \"white\", \"startlinecolor\": \"#2a3f5f\"}, \"baxis\": {\"endlinecolor\": \"#2a3f5f\", \"gridcolor\": \"white\", \"linecolor\": \"white\", \"minorgridcolor\": \"white\", \"startlinecolor\": \"#2a3f5f\"}, \"type\": \"carpet\"}], \"choropleth\": [{\"colorbar\": {\"outlinewidth\": 0, \"ticks\": \"\"}, \"type\": \"choropleth\"}], \"contour\": [{\"colorbar\": {\"outlinewidth\": 0, \"ticks\": \"\"}, \"colorscale\": [[0.0, \"#0d0887\"], [0.1111111111111111, \"#46039f\"], [0.2222222222222222, \"#7201a8\"], [0.3333333333333333, \"#9c179e\"], [0.4444444444444444, \"#bd3786\"], [0.5555555555555556, \"#d8576b\"], [0.6666666666666666, \"#ed7953\"], [0.7777777777777778, \"#fb9f3a\"], [0.8888888888888888, \"#fdca26\"], [1.0, \"#f0f921\"]], \"type\": \"contour\"}], \"contourcarpet\": [{\"colorbar\": {\"outlinewidth\": 0, \"ticks\": \"\"}, \"type\": \"contourcarpet\"}], \"heatmap\": [{\"colorbar\": {\"outlinewidth\": 0, \"ticks\": \"\"}, \"colorscale\": [[0.0, \"#0d0887\"], [0.1111111111111111, \"#46039f\"], [0.2222222222222222, \"#7201a8\"], [0.3333333333333333, \"#9c179e\"], [0.4444444444444444, \"#bd3786\"], [0.5555555555555556, \"#d8576b\"], [0.6666666666666666, \"#ed7953\"], [0.7777777777777778, \"#fb9f3a\"], [0.8888888888888888, \"#fdca26\"], [1.0, \"#f0f921\"]], \"type\": \"heatmap\"}], \"heatmapgl\": [{\"colorbar\": {\"outlinewidth\": 0, \"ticks\": \"\"}, \"colorscale\": [[0.0, \"#0d0887\"], [0.1111111111111111, \"#46039f\"], [0.2222222222222222, \"#7201a8\"], [0.3333333333333333, \"#9c179e\"], [0.4444444444444444, \"#bd3786\"], [0.5555555555555556, \"#d8576b\"], [0.6666666666666666, \"#ed7953\"], [0.7777777777777778, \"#fb9f3a\"], [0.8888888888888888, \"#fdca26\"], [1.0, \"#f0f921\"]], \"type\": \"heatmapgl\"}], \"histogram\": [{\"marker\": {\"colorbar\": {\"outlinewidth\": 0, \"ticks\": \"\"}}, \"type\": \"histogram\"}], \"histogram2d\": [{\"colorbar\": {\"outlinewidth\": 0, \"ticks\": \"\"}, \"colorscale\": [[0.0, \"#0d0887\"], [0.1111111111111111, \"#46039f\"], [0.2222222222222222, \"#7201a8\"], [0.3333333333333333, \"#9c179e\"], [0.4444444444444444, \"#bd3786\"], [0.5555555555555556, \"#d8576b\"], [0.6666666666666666, \"#ed7953\"], [0.7777777777777778, \"#fb9f3a\"], [0.8888888888888888, \"#fdca26\"], [1.0, \"#f0f921\"]], \"type\": \"histogram2d\"}], \"histogram2dcontour\": [{\"colorbar\": {\"outlinewidth\": 0, \"ticks\": \"\"}, \"colorscale\": [[0.0, \"#0d0887\"], [0.1111111111111111, \"#46039f\"], [0.2222222222222222, \"#7201a8\"], [0.3333333333333333, \"#9c179e\"], [0.4444444444444444, \"#bd3786\"], [0.5555555555555556, \"#d8576b\"], [0.6666666666666666, \"#ed7953\"], [0.7777777777777778, \"#fb9f3a\"], [0.8888888888888888, \"#fdca26\"], [1.0, \"#f0f921\"]], \"type\": \"histogram2dcontour\"}], \"mesh3d\": [{\"colorbar\": {\"outlinewidth\": 0, \"ticks\": \"\"}, \"type\": \"mesh3d\"}], \"parcoords\": [{\"line\": {\"colorbar\": {\"outlinewidth\": 0, \"ticks\": \"\"}}, \"type\": \"parcoords\"}], \"pie\": [{\"automargin\": true, \"type\": \"pie\"}], \"scatter\": [{\"marker\": {\"colorbar\": {\"outlinewidth\": 0, \"ticks\": \"\"}}, \"type\": \"scatter\"}], \"scatter3d\": [{\"line\": {\"colorbar\": {\"outlinewidth\": 0, \"ticks\": \"\"}}, \"marker\": {\"colorbar\": {\"outlinewidth\": 0, \"ticks\": \"\"}}, \"type\": \"scatter3d\"}], \"scattercarpet\": [{\"marker\": {\"colorbar\": {\"outlinewidth\": 0, \"ticks\": \"\"}}, \"type\": \"scattercarpet\"}], \"scattergeo\": [{\"marker\": {\"colorbar\": {\"outlinewidth\": 0, \"ticks\": \"\"}}, \"type\": \"scattergeo\"}], \"scattergl\": [{\"marker\": {\"colorbar\": {\"outlinewidth\": 0, \"ticks\": \"\"}}, \"type\": \"scattergl\"}], \"scattermapbox\": [{\"marker\": {\"colorbar\": {\"outlinewidth\": 0, \"ticks\": \"\"}}, \"type\": \"scattermapbox\"}], \"scatterpolar\": [{\"marker\": {\"colorbar\": {\"outlinewidth\": 0, \"ticks\": \"\"}}, \"type\": \"scatterpolar\"}], \"scatterpolargl\": [{\"marker\": {\"colorbar\": {\"outlinewidth\": 0, \"ticks\": \"\"}}, \"type\": \"scatterpolargl\"}], \"scatterternary\": [{\"marker\": {\"colorbar\": {\"outlinewidth\": 0, \"ticks\": \"\"}}, \"type\": \"scatterternary\"}], \"surface\": [{\"colorbar\": {\"outlinewidth\": 0, \"ticks\": \"\"}, \"colorscale\": [[0.0, \"#0d0887\"], [0.1111111111111111, \"#46039f\"], [0.2222222222222222, \"#7201a8\"], [0.3333333333333333, \"#9c179e\"], [0.4444444444444444, \"#bd3786\"], [0.5555555555555556, \"#d8576b\"], [0.6666666666666666, \"#ed7953\"], [0.7777777777777778, \"#fb9f3a\"], [0.8888888888888888, \"#fdca26\"], [1.0, \"#f0f921\"]], \"type\": \"surface\"}], \"table\": [{\"cells\": {\"fill\": {\"color\": \"#EBF0F8\"}, \"line\": {\"color\": \"white\"}}, \"header\": {\"fill\": {\"color\": \"#C8D4E3\"}, \"line\": {\"color\": \"white\"}}, \"type\": \"table\"}]}, \"layout\": {\"annotationdefaults\": {\"arrowcolor\": \"#2a3f5f\", \"arrowhead\": 0, \"arrowwidth\": 1}, \"coloraxis\": {\"colorbar\": {\"outlinewidth\": 0, \"ticks\": \"\"}}, \"colorscale\": {\"diverging\": [[0, \"#8e0152\"], [0.1, \"#c51b7d\"], [0.2, \"#de77ae\"], [0.3, \"#f1b6da\"], [0.4, \"#fde0ef\"], [0.5, \"#f7f7f7\"], [0.6, \"#e6f5d0\"], [0.7, \"#b8e186\"], [0.8, \"#7fbc41\"], [0.9, \"#4d9221\"], [1, \"#276419\"]], \"sequential\": [[0.0, \"#0d0887\"], [0.1111111111111111, \"#46039f\"], [0.2222222222222222, \"#7201a8\"], [0.3333333333333333, \"#9c179e\"], [0.4444444444444444, \"#bd3786\"], [0.5555555555555556, \"#d8576b\"], [0.6666666666666666, \"#ed7953\"], [0.7777777777777778, \"#fb9f3a\"], [0.8888888888888888, \"#fdca26\"], [1.0, \"#f0f921\"]], \"sequentialminus\": [[0.0, \"#0d0887\"], [0.1111111111111111, \"#46039f\"], [0.2222222222222222, \"#7201a8\"], [0.3333333333333333, \"#9c179e\"], [0.4444444444444444, \"#bd3786\"], [0.5555555555555556, \"#d8576b\"], [0.6666666666666666, \"#ed7953\"], [0.7777777777777778, \"#fb9f3a\"], [0.8888888888888888, \"#fdca26\"], [1.0, \"#f0f921\"]]}, \"colorway\": [\"#636efa\", \"#EF553B\", \"#00cc96\", \"#ab63fa\", \"#FFA15A\", \"#19d3f3\", \"#FF6692\", \"#B6E880\", \"#FF97FF\", \"#FECB52\"], \"font\": {\"color\": \"#2a3f5f\"}, \"geo\": {\"bgcolor\": \"white\", \"lakecolor\": \"white\", \"landcolor\": \"#E5ECF6\", \"showlakes\": true, \"showland\": true, \"subunitcolor\": \"white\"}, \"hoverlabel\": {\"align\": \"left\"}, \"hovermode\": \"closest\", \"mapbox\": {\"style\": \"light\"}, \"paper_bgcolor\": \"white\", \"plot_bgcolor\": \"#E5ECF6\", \"polar\": {\"angularaxis\": {\"gridcolor\": \"white\", \"linecolor\": \"white\", \"ticks\": \"\"}, \"bgcolor\": \"#E5ECF6\", \"radialaxis\": {\"gridcolor\": \"white\", \"linecolor\": \"white\", \"ticks\": \"\"}}, \"scene\": {\"xaxis\": {\"backgroundcolor\": \"#E5ECF6\", \"gridcolor\": \"white\", \"gridwidth\": 2, \"linecolor\": \"white\", \"showbackground\": true, \"ticks\": \"\", \"zerolinecolor\": \"white\"}, \"yaxis\": {\"backgroundcolor\": \"#E5ECF6\", \"gridcolor\": \"white\", \"gridwidth\": 2, \"linecolor\": \"white\", \"showbackground\": true, \"ticks\": \"\", \"zerolinecolor\": \"white\"}, \"zaxis\": {\"backgroundcolor\": \"#E5ECF6\", \"gridcolor\": \"white\", \"gridwidth\": 2, \"linecolor\": \"white\", \"showbackground\": true, \"ticks\": \"\", \"zerolinecolor\": \"white\"}}, \"shapedefaults\": {\"line\": {\"color\": \"#2a3f5f\"}}, \"ternary\": {\"aaxis\": {\"gridcolor\": \"white\", \"linecolor\": \"white\", \"ticks\": \"\"}, \"baxis\": {\"gridcolor\": \"white\", \"linecolor\": \"white\", \"ticks\": \"\"}, \"bgcolor\": \"#E5ECF6\", \"caxis\": {\"gridcolor\": \"white\", \"linecolor\": \"white\", \"ticks\": \"\"}}, \"title\": {\"x\": 0.05}, \"xaxis\": {\"automargin\": true, \"gridcolor\": \"white\", \"linecolor\": \"white\", \"ticks\": \"\", \"title\": {\"standoff\": 15}, \"zerolinecolor\": \"white\", \"zerolinewidth\": 2}, \"yaxis\": {\"automargin\": true, \"gridcolor\": \"white\", \"linecolor\": \"white\", \"ticks\": \"\", \"title\": {\"standoff\": 15}, \"zerolinecolor\": \"white\", \"zerolinewidth\": 2}}}, \"xaxis\": {\"title\": {\"text\": \"x-tsne\"}}, \"yaxis\": {\"title\": {\"text\": \"y-tsne\"}}},\n",
       "                        {\"responsive\": true}\n",
       "                    ).then(function(){\n",
       "                            \n",
       "var gd = document.getElementById('ffa7aeb7-7c82-44fc-b87e-818f11dc19c2');\n",
       "var x = new MutationObserver(function (mutations, observer) {{\n",
       "        var display = window.getComputedStyle(gd).display;\n",
       "        if (!display || display === 'none') {{\n",
       "            console.log([gd, 'removed!']);\n",
       "            Plotly.purge(gd);\n",
       "            observer.disconnect();\n",
       "        }}\n",
       "}});\n",
       "\n",
       "// Listen for the removal of the full notebook cells\n",
       "var notebookContainer = gd.closest('#notebook-container');\n",
       "if (notebookContainer) {{\n",
       "    x.observe(notebookContainer, {childList: true});\n",
       "}}\n",
       "\n",
       "// Listen for the clearing of the current output cell\n",
       "var outputEl = gd.closest('.output');\n",
       "if (outputEl) {{\n",
       "    x.observe(outputEl, {childList: true});\n",
       "}}\n",
       "\n",
       "                        })\n",
       "                };\n",
       "                });\n",
       "            </script>\n",
       "        </div>"
      ]
     },
     "metadata": {},
     "output_type": "display_data"
    }
   ],
   "source": [
    "top_songs(df_new)"
   ]
  },
  {
   "cell_type": "markdown",
   "metadata": {},
   "source": [
    "HENCE:assumption 1 prooved "
   ]
  },
  {
   "cell_type": "code",
   "execution_count": 84,
   "metadata": {},
   "outputs": [],
   "source": [
    "def not_top_songs(dataframe):\n",
    "    df2 = dataframe[dataframe['popularity'] ==0 ]\n",
    "    return plot_pca_scaler(\"loudness\",df2)"
   ]
  },
  {
   "cell_type": "code",
   "execution_count": 85,
   "metadata": {},
   "outputs": [
    {
     "name": "stdout",
     "output_type": "stream",
     "text": [
      "t-SNE starting.................\n",
      "[t-SNE] Computing 8 nearest neighbors...\n",
      "[t-SNE] Indexed 9 samples in 0.000s...\n",
      "[t-SNE] Computed neighbors for 9 samples in 0.001s...\n",
      "[t-SNE] Computed conditional probabilities for sample 9 / 9\n",
      "[t-SNE] Mean sigma: 1125899906842624.000000\n",
      "[t-SNE] KL divergence after 250 iterations with early exaggeration: 84.768501\n",
      "[t-SNE] KL divergence after 300 iterations: 1.180314\n",
      "......................t-SNE done\n"
     ]
    },
    {
     "data": {
      "application/vnd.plotly.v1+json": {
       "config": {
        "linkText": "Export to plot.ly",
        "plotlyServerURL": "https://plot.ly",
        "showLink": false
       },
       "data": [
        {
         "marker": {
          "color": [
           -5.678999999999999,
           -6.362,
           -14.084000000000001,
           -8.113999999999999,
           -10.109,
           -9.927999999999999,
           -5.803999999999999,
           -5.7139999999999995,
           -6.136
          ],
          "size": 8
         },
         "mode": "markers",
         "text": [
          "Lewis Capaldi - Someone You Loved",
          "Lady Gaga - Shallow",
          "Billie Eilish - when the party's over",
          "Ed Sheeran - Beautiful People (feat. Khalid)",
          "Billie Eilish - lovely (with Khalid)",
          "Queen - Bohemian Rhapsody - 2011 Mix",
          "Post Malone - Better Now",
          "Alec Benjamin - Let Me Down Slowly",
          "Post Malone - rockstar (feat. 21 Savage)"
         ],
         "type": "scatter",
         "x": [
          170.75588989257812,
          95.29097747802734,
          -38.85236358642578,
          22.756256103515625,
          120.5793685913086,
          -278.9832763671875,
          -249.2198486328125,
          -147.20120239257812,
          402.74468994140625
         ],
         "y": [
          101.4382553100586,
          -14.130513191223145,
          -15.349346160888672,
          75.49981689453125,
          -96.38729858398438,
          62.95942687988281,
          276.4427795410156,
          -80.21446228027344,
          -150.03179931640625
         ]
        }
       ],
       "layout": {
        "template": {
         "data": {
          "bar": [
           {
            "error_x": {
             "color": "#2a3f5f"
            },
            "error_y": {
             "color": "#2a3f5f"
            },
            "marker": {
             "line": {
              "color": "#E5ECF6",
              "width": 0.5
             }
            },
            "type": "bar"
           }
          ],
          "barpolar": [
           {
            "marker": {
             "line": {
              "color": "#E5ECF6",
              "width": 0.5
             }
            },
            "type": "barpolar"
           }
          ],
          "carpet": [
           {
            "aaxis": {
             "endlinecolor": "#2a3f5f",
             "gridcolor": "white",
             "linecolor": "white",
             "minorgridcolor": "white",
             "startlinecolor": "#2a3f5f"
            },
            "baxis": {
             "endlinecolor": "#2a3f5f",
             "gridcolor": "white",
             "linecolor": "white",
             "minorgridcolor": "white",
             "startlinecolor": "#2a3f5f"
            },
            "type": "carpet"
           }
          ],
          "choropleth": [
           {
            "colorbar": {
             "outlinewidth": 0,
             "ticks": ""
            },
            "type": "choropleth"
           }
          ],
          "contour": [
           {
            "colorbar": {
             "outlinewidth": 0,
             "ticks": ""
            },
            "colorscale": [
             [
              0,
              "#0d0887"
             ],
             [
              0.1111111111111111,
              "#46039f"
             ],
             [
              0.2222222222222222,
              "#7201a8"
             ],
             [
              0.3333333333333333,
              "#9c179e"
             ],
             [
              0.4444444444444444,
              "#bd3786"
             ],
             [
              0.5555555555555556,
              "#d8576b"
             ],
             [
              0.6666666666666666,
              "#ed7953"
             ],
             [
              0.7777777777777778,
              "#fb9f3a"
             ],
             [
              0.8888888888888888,
              "#fdca26"
             ],
             [
              1,
              "#f0f921"
             ]
            ],
            "type": "contour"
           }
          ],
          "contourcarpet": [
           {
            "colorbar": {
             "outlinewidth": 0,
             "ticks": ""
            },
            "type": "contourcarpet"
           }
          ],
          "heatmap": [
           {
            "colorbar": {
             "outlinewidth": 0,
             "ticks": ""
            },
            "colorscale": [
             [
              0,
              "#0d0887"
             ],
             [
              0.1111111111111111,
              "#46039f"
             ],
             [
              0.2222222222222222,
              "#7201a8"
             ],
             [
              0.3333333333333333,
              "#9c179e"
             ],
             [
              0.4444444444444444,
              "#bd3786"
             ],
             [
              0.5555555555555556,
              "#d8576b"
             ],
             [
              0.6666666666666666,
              "#ed7953"
             ],
             [
              0.7777777777777778,
              "#fb9f3a"
             ],
             [
              0.8888888888888888,
              "#fdca26"
             ],
             [
              1,
              "#f0f921"
             ]
            ],
            "type": "heatmap"
           }
          ],
          "heatmapgl": [
           {
            "colorbar": {
             "outlinewidth": 0,
             "ticks": ""
            },
            "colorscale": [
             [
              0,
              "#0d0887"
             ],
             [
              0.1111111111111111,
              "#46039f"
             ],
             [
              0.2222222222222222,
              "#7201a8"
             ],
             [
              0.3333333333333333,
              "#9c179e"
             ],
             [
              0.4444444444444444,
              "#bd3786"
             ],
             [
              0.5555555555555556,
              "#d8576b"
             ],
             [
              0.6666666666666666,
              "#ed7953"
             ],
             [
              0.7777777777777778,
              "#fb9f3a"
             ],
             [
              0.8888888888888888,
              "#fdca26"
             ],
             [
              1,
              "#f0f921"
             ]
            ],
            "type": "heatmapgl"
           }
          ],
          "histogram": [
           {
            "marker": {
             "colorbar": {
              "outlinewidth": 0,
              "ticks": ""
             }
            },
            "type": "histogram"
           }
          ],
          "histogram2d": [
           {
            "colorbar": {
             "outlinewidth": 0,
             "ticks": ""
            },
            "colorscale": [
             [
              0,
              "#0d0887"
             ],
             [
              0.1111111111111111,
              "#46039f"
             ],
             [
              0.2222222222222222,
              "#7201a8"
             ],
             [
              0.3333333333333333,
              "#9c179e"
             ],
             [
              0.4444444444444444,
              "#bd3786"
             ],
             [
              0.5555555555555556,
              "#d8576b"
             ],
             [
              0.6666666666666666,
              "#ed7953"
             ],
             [
              0.7777777777777778,
              "#fb9f3a"
             ],
             [
              0.8888888888888888,
              "#fdca26"
             ],
             [
              1,
              "#f0f921"
             ]
            ],
            "type": "histogram2d"
           }
          ],
          "histogram2dcontour": [
           {
            "colorbar": {
             "outlinewidth": 0,
             "ticks": ""
            },
            "colorscale": [
             [
              0,
              "#0d0887"
             ],
             [
              0.1111111111111111,
              "#46039f"
             ],
             [
              0.2222222222222222,
              "#7201a8"
             ],
             [
              0.3333333333333333,
              "#9c179e"
             ],
             [
              0.4444444444444444,
              "#bd3786"
             ],
             [
              0.5555555555555556,
              "#d8576b"
             ],
             [
              0.6666666666666666,
              "#ed7953"
             ],
             [
              0.7777777777777778,
              "#fb9f3a"
             ],
             [
              0.8888888888888888,
              "#fdca26"
             ],
             [
              1,
              "#f0f921"
             ]
            ],
            "type": "histogram2dcontour"
           }
          ],
          "mesh3d": [
           {
            "colorbar": {
             "outlinewidth": 0,
             "ticks": ""
            },
            "type": "mesh3d"
           }
          ],
          "parcoords": [
           {
            "line": {
             "colorbar": {
              "outlinewidth": 0,
              "ticks": ""
             }
            },
            "type": "parcoords"
           }
          ],
          "pie": [
           {
            "automargin": true,
            "type": "pie"
           }
          ],
          "scatter": [
           {
            "marker": {
             "colorbar": {
              "outlinewidth": 0,
              "ticks": ""
             }
            },
            "type": "scatter"
           }
          ],
          "scatter3d": [
           {
            "line": {
             "colorbar": {
              "outlinewidth": 0,
              "ticks": ""
             }
            },
            "marker": {
             "colorbar": {
              "outlinewidth": 0,
              "ticks": ""
             }
            },
            "type": "scatter3d"
           }
          ],
          "scattercarpet": [
           {
            "marker": {
             "colorbar": {
              "outlinewidth": 0,
              "ticks": ""
             }
            },
            "type": "scattercarpet"
           }
          ],
          "scattergeo": [
           {
            "marker": {
             "colorbar": {
              "outlinewidth": 0,
              "ticks": ""
             }
            },
            "type": "scattergeo"
           }
          ],
          "scattergl": [
           {
            "marker": {
             "colorbar": {
              "outlinewidth": 0,
              "ticks": ""
             }
            },
            "type": "scattergl"
           }
          ],
          "scattermapbox": [
           {
            "marker": {
             "colorbar": {
              "outlinewidth": 0,
              "ticks": ""
             }
            },
            "type": "scattermapbox"
           }
          ],
          "scatterpolar": [
           {
            "marker": {
             "colorbar": {
              "outlinewidth": 0,
              "ticks": ""
             }
            },
            "type": "scatterpolar"
           }
          ],
          "scatterpolargl": [
           {
            "marker": {
             "colorbar": {
              "outlinewidth": 0,
              "ticks": ""
             }
            },
            "type": "scatterpolargl"
           }
          ],
          "scatterternary": [
           {
            "marker": {
             "colorbar": {
              "outlinewidth": 0,
              "ticks": ""
             }
            },
            "type": "scatterternary"
           }
          ],
          "surface": [
           {
            "colorbar": {
             "outlinewidth": 0,
             "ticks": ""
            },
            "colorscale": [
             [
              0,
              "#0d0887"
             ],
             [
              0.1111111111111111,
              "#46039f"
             ],
             [
              0.2222222222222222,
              "#7201a8"
             ],
             [
              0.3333333333333333,
              "#9c179e"
             ],
             [
              0.4444444444444444,
              "#bd3786"
             ],
             [
              0.5555555555555556,
              "#d8576b"
             ],
             [
              0.6666666666666666,
              "#ed7953"
             ],
             [
              0.7777777777777778,
              "#fb9f3a"
             ],
             [
              0.8888888888888888,
              "#fdca26"
             ],
             [
              1,
              "#f0f921"
             ]
            ],
            "type": "surface"
           }
          ],
          "table": [
           {
            "cells": {
             "fill": {
              "color": "#EBF0F8"
             },
             "line": {
              "color": "white"
             }
            },
            "header": {
             "fill": {
              "color": "#C8D4E3"
             },
             "line": {
              "color": "white"
             }
            },
            "type": "table"
           }
          ]
         },
         "layout": {
          "annotationdefaults": {
           "arrowcolor": "#2a3f5f",
           "arrowhead": 0,
           "arrowwidth": 1
          },
          "coloraxis": {
           "colorbar": {
            "outlinewidth": 0,
            "ticks": ""
           }
          },
          "colorscale": {
           "diverging": [
            [
             0,
             "#8e0152"
            ],
            [
             0.1,
             "#c51b7d"
            ],
            [
             0.2,
             "#de77ae"
            ],
            [
             0.3,
             "#f1b6da"
            ],
            [
             0.4,
             "#fde0ef"
            ],
            [
             0.5,
             "#f7f7f7"
            ],
            [
             0.6,
             "#e6f5d0"
            ],
            [
             0.7,
             "#b8e186"
            ],
            [
             0.8,
             "#7fbc41"
            ],
            [
             0.9,
             "#4d9221"
            ],
            [
             1,
             "#276419"
            ]
           ],
           "sequential": [
            [
             0,
             "#0d0887"
            ],
            [
             0.1111111111111111,
             "#46039f"
            ],
            [
             0.2222222222222222,
             "#7201a8"
            ],
            [
             0.3333333333333333,
             "#9c179e"
            ],
            [
             0.4444444444444444,
             "#bd3786"
            ],
            [
             0.5555555555555556,
             "#d8576b"
            ],
            [
             0.6666666666666666,
             "#ed7953"
            ],
            [
             0.7777777777777778,
             "#fb9f3a"
            ],
            [
             0.8888888888888888,
             "#fdca26"
            ],
            [
             1,
             "#f0f921"
            ]
           ],
           "sequentialminus": [
            [
             0,
             "#0d0887"
            ],
            [
             0.1111111111111111,
             "#46039f"
            ],
            [
             0.2222222222222222,
             "#7201a8"
            ],
            [
             0.3333333333333333,
             "#9c179e"
            ],
            [
             0.4444444444444444,
             "#bd3786"
            ],
            [
             0.5555555555555556,
             "#d8576b"
            ],
            [
             0.6666666666666666,
             "#ed7953"
            ],
            [
             0.7777777777777778,
             "#fb9f3a"
            ],
            [
             0.8888888888888888,
             "#fdca26"
            ],
            [
             1,
             "#f0f921"
            ]
           ]
          },
          "colorway": [
           "#636efa",
           "#EF553B",
           "#00cc96",
           "#ab63fa",
           "#FFA15A",
           "#19d3f3",
           "#FF6692",
           "#B6E880",
           "#FF97FF",
           "#FECB52"
          ],
          "font": {
           "color": "#2a3f5f"
          },
          "geo": {
           "bgcolor": "white",
           "lakecolor": "white",
           "landcolor": "#E5ECF6",
           "showlakes": true,
           "showland": true,
           "subunitcolor": "white"
          },
          "hoverlabel": {
           "align": "left"
          },
          "hovermode": "closest",
          "mapbox": {
           "style": "light"
          },
          "paper_bgcolor": "white",
          "plot_bgcolor": "#E5ECF6",
          "polar": {
           "angularaxis": {
            "gridcolor": "white",
            "linecolor": "white",
            "ticks": ""
           },
           "bgcolor": "#E5ECF6",
           "radialaxis": {
            "gridcolor": "white",
            "linecolor": "white",
            "ticks": ""
           }
          },
          "scene": {
           "xaxis": {
            "backgroundcolor": "#E5ECF6",
            "gridcolor": "white",
            "gridwidth": 2,
            "linecolor": "white",
            "showbackground": true,
            "ticks": "",
            "zerolinecolor": "white"
           },
           "yaxis": {
            "backgroundcolor": "#E5ECF6",
            "gridcolor": "white",
            "gridwidth": 2,
            "linecolor": "white",
            "showbackground": true,
            "ticks": "",
            "zerolinecolor": "white"
           },
           "zaxis": {
            "backgroundcolor": "#E5ECF6",
            "gridcolor": "white",
            "gridwidth": 2,
            "linecolor": "white",
            "showbackground": true,
            "ticks": "",
            "zerolinecolor": "white"
           }
          },
          "shapedefaults": {
           "line": {
            "color": "#2a3f5f"
           }
          },
          "ternary": {
           "aaxis": {
            "gridcolor": "white",
            "linecolor": "white",
            "ticks": ""
           },
           "baxis": {
            "gridcolor": "white",
            "linecolor": "white",
            "ticks": ""
           },
           "bgcolor": "#E5ECF6",
           "caxis": {
            "gridcolor": "white",
            "linecolor": "white",
            "ticks": ""
           }
          },
          "title": {
           "x": 0.05
          },
          "xaxis": {
           "automargin": true,
           "gridcolor": "white",
           "linecolor": "white",
           "ticks": "",
           "title": {
            "standoff": 15
           },
           "zerolinecolor": "white",
           "zerolinewidth": 2
          },
          "yaxis": {
           "automargin": true,
           "gridcolor": "white",
           "linecolor": "white",
           "ticks": "",
           "title": {
            "standoff": 15
           },
           "zerolinecolor": "white",
           "zerolinewidth": 2
          }
         }
        },
        "xaxis": {
         "title": {
          "text": "x-tsne"
         }
        },
        "yaxis": {
         "title": {
          "text": "y-tsne"
         }
        }
       }
      },
      "text/html": [
       "<div>\n",
       "        \n",
       "        \n",
       "            <div id=\"07553dcc-de4c-40fa-b1c0-8ed501c2420e\" class=\"plotly-graph-div\" style=\"height:525px; width:100%;\"></div>\n",
       "            <script type=\"text/javascript\">\n",
       "                require([\"plotly\"], function(Plotly) {\n",
       "                    window.PLOTLYENV=window.PLOTLYENV || {};\n",
       "                    \n",
       "                if (document.getElementById(\"07553dcc-de4c-40fa-b1c0-8ed501c2420e\")) {\n",
       "                    Plotly.newPlot(\n",
       "                        '07553dcc-de4c-40fa-b1c0-8ed501c2420e',\n",
       "                        [{\"marker\": {\"color\": [-5.678999999999999, -6.362, -14.084000000000001, -8.113999999999999, -10.109, -9.927999999999999, -5.803999999999999, -5.7139999999999995, -6.136], \"size\": 8}, \"mode\": \"markers\", \"text\": [\"Lewis Capaldi - Someone You Loved\", \"Lady Gaga - Shallow\", \"Billie Eilish - when the party's over\", \"Ed Sheeran - Beautiful People (feat. Khalid)\", \"Billie Eilish - lovely (with Khalid)\", \"Queen - Bohemian Rhapsody - 2011 Mix\", \"Post Malone - Better Now\", \"Alec Benjamin - Let Me Down Slowly\", \"Post Malone - rockstar (feat. 21 Savage)\"], \"type\": \"scatter\", \"x\": [170.75588989257812, 95.29097747802734, -38.85236358642578, 22.756256103515625, 120.5793685913086, -278.9832763671875, -249.2198486328125, -147.20120239257812, 402.74468994140625], \"y\": [101.4382553100586, -14.130513191223145, -15.349346160888672, 75.49981689453125, -96.38729858398438, 62.95942687988281, 276.4427795410156, -80.21446228027344, -150.03179931640625]}],\n",
       "                        {\"template\": {\"data\": {\"bar\": [{\"error_x\": {\"color\": \"#2a3f5f\"}, \"error_y\": {\"color\": \"#2a3f5f\"}, \"marker\": {\"line\": {\"color\": \"#E5ECF6\", \"width\": 0.5}}, \"type\": \"bar\"}], \"barpolar\": [{\"marker\": {\"line\": {\"color\": \"#E5ECF6\", \"width\": 0.5}}, \"type\": \"barpolar\"}], \"carpet\": [{\"aaxis\": {\"endlinecolor\": \"#2a3f5f\", \"gridcolor\": \"white\", \"linecolor\": \"white\", \"minorgridcolor\": \"white\", \"startlinecolor\": \"#2a3f5f\"}, \"baxis\": {\"endlinecolor\": \"#2a3f5f\", \"gridcolor\": \"white\", \"linecolor\": \"white\", \"minorgridcolor\": \"white\", \"startlinecolor\": \"#2a3f5f\"}, \"type\": \"carpet\"}], \"choropleth\": [{\"colorbar\": {\"outlinewidth\": 0, \"ticks\": \"\"}, \"type\": \"choropleth\"}], \"contour\": [{\"colorbar\": {\"outlinewidth\": 0, \"ticks\": \"\"}, \"colorscale\": [[0.0, \"#0d0887\"], [0.1111111111111111, \"#46039f\"], [0.2222222222222222, \"#7201a8\"], [0.3333333333333333, \"#9c179e\"], [0.4444444444444444, \"#bd3786\"], [0.5555555555555556, \"#d8576b\"], [0.6666666666666666, \"#ed7953\"], [0.7777777777777778, \"#fb9f3a\"], [0.8888888888888888, \"#fdca26\"], [1.0, \"#f0f921\"]], \"type\": \"contour\"}], \"contourcarpet\": [{\"colorbar\": {\"outlinewidth\": 0, \"ticks\": \"\"}, \"type\": \"contourcarpet\"}], \"heatmap\": [{\"colorbar\": {\"outlinewidth\": 0, \"ticks\": \"\"}, \"colorscale\": [[0.0, \"#0d0887\"], [0.1111111111111111, \"#46039f\"], [0.2222222222222222, \"#7201a8\"], [0.3333333333333333, \"#9c179e\"], [0.4444444444444444, \"#bd3786\"], [0.5555555555555556, \"#d8576b\"], [0.6666666666666666, \"#ed7953\"], [0.7777777777777778, \"#fb9f3a\"], [0.8888888888888888, \"#fdca26\"], [1.0, \"#f0f921\"]], \"type\": \"heatmap\"}], \"heatmapgl\": [{\"colorbar\": {\"outlinewidth\": 0, \"ticks\": \"\"}, \"colorscale\": [[0.0, \"#0d0887\"], [0.1111111111111111, \"#46039f\"], [0.2222222222222222, \"#7201a8\"], [0.3333333333333333, \"#9c179e\"], [0.4444444444444444, \"#bd3786\"], [0.5555555555555556, \"#d8576b\"], [0.6666666666666666, \"#ed7953\"], [0.7777777777777778, \"#fb9f3a\"], [0.8888888888888888, \"#fdca26\"], [1.0, \"#f0f921\"]], \"type\": \"heatmapgl\"}], \"histogram\": [{\"marker\": {\"colorbar\": {\"outlinewidth\": 0, \"ticks\": \"\"}}, \"type\": \"histogram\"}], \"histogram2d\": [{\"colorbar\": {\"outlinewidth\": 0, \"ticks\": \"\"}, \"colorscale\": [[0.0, \"#0d0887\"], [0.1111111111111111, \"#46039f\"], [0.2222222222222222, \"#7201a8\"], [0.3333333333333333, \"#9c179e\"], [0.4444444444444444, \"#bd3786\"], [0.5555555555555556, \"#d8576b\"], [0.6666666666666666, \"#ed7953\"], [0.7777777777777778, \"#fb9f3a\"], [0.8888888888888888, \"#fdca26\"], [1.0, \"#f0f921\"]], \"type\": \"histogram2d\"}], \"histogram2dcontour\": [{\"colorbar\": {\"outlinewidth\": 0, \"ticks\": \"\"}, \"colorscale\": [[0.0, \"#0d0887\"], [0.1111111111111111, \"#46039f\"], [0.2222222222222222, \"#7201a8\"], [0.3333333333333333, \"#9c179e\"], [0.4444444444444444, \"#bd3786\"], [0.5555555555555556, \"#d8576b\"], [0.6666666666666666, \"#ed7953\"], [0.7777777777777778, \"#fb9f3a\"], [0.8888888888888888, \"#fdca26\"], [1.0, \"#f0f921\"]], \"type\": \"histogram2dcontour\"}], \"mesh3d\": [{\"colorbar\": {\"outlinewidth\": 0, \"ticks\": \"\"}, \"type\": \"mesh3d\"}], \"parcoords\": [{\"line\": {\"colorbar\": {\"outlinewidth\": 0, \"ticks\": \"\"}}, \"type\": \"parcoords\"}], \"pie\": [{\"automargin\": true, \"type\": \"pie\"}], \"scatter\": [{\"marker\": {\"colorbar\": {\"outlinewidth\": 0, \"ticks\": \"\"}}, \"type\": \"scatter\"}], \"scatter3d\": [{\"line\": {\"colorbar\": {\"outlinewidth\": 0, \"ticks\": \"\"}}, \"marker\": {\"colorbar\": {\"outlinewidth\": 0, \"ticks\": \"\"}}, \"type\": \"scatter3d\"}], \"scattercarpet\": [{\"marker\": {\"colorbar\": {\"outlinewidth\": 0, \"ticks\": \"\"}}, \"type\": \"scattercarpet\"}], \"scattergeo\": [{\"marker\": {\"colorbar\": {\"outlinewidth\": 0, \"ticks\": \"\"}}, \"type\": \"scattergeo\"}], \"scattergl\": [{\"marker\": {\"colorbar\": {\"outlinewidth\": 0, \"ticks\": \"\"}}, \"type\": \"scattergl\"}], \"scattermapbox\": [{\"marker\": {\"colorbar\": {\"outlinewidth\": 0, \"ticks\": \"\"}}, \"type\": \"scattermapbox\"}], \"scatterpolar\": [{\"marker\": {\"colorbar\": {\"outlinewidth\": 0, \"ticks\": \"\"}}, \"type\": \"scatterpolar\"}], \"scatterpolargl\": [{\"marker\": {\"colorbar\": {\"outlinewidth\": 0, \"ticks\": \"\"}}, \"type\": \"scatterpolargl\"}], \"scatterternary\": [{\"marker\": {\"colorbar\": {\"outlinewidth\": 0, \"ticks\": \"\"}}, \"type\": \"scatterternary\"}], \"surface\": [{\"colorbar\": {\"outlinewidth\": 0, \"ticks\": \"\"}, \"colorscale\": [[0.0, \"#0d0887\"], [0.1111111111111111, \"#46039f\"], [0.2222222222222222, \"#7201a8\"], [0.3333333333333333, \"#9c179e\"], [0.4444444444444444, \"#bd3786\"], [0.5555555555555556, \"#d8576b\"], [0.6666666666666666, \"#ed7953\"], [0.7777777777777778, \"#fb9f3a\"], [0.8888888888888888, \"#fdca26\"], [1.0, \"#f0f921\"]], \"type\": \"surface\"}], \"table\": [{\"cells\": {\"fill\": {\"color\": \"#EBF0F8\"}, \"line\": {\"color\": \"white\"}}, \"header\": {\"fill\": {\"color\": \"#C8D4E3\"}, \"line\": {\"color\": \"white\"}}, \"type\": \"table\"}]}, \"layout\": {\"annotationdefaults\": {\"arrowcolor\": \"#2a3f5f\", \"arrowhead\": 0, \"arrowwidth\": 1}, \"coloraxis\": {\"colorbar\": {\"outlinewidth\": 0, \"ticks\": \"\"}}, \"colorscale\": {\"diverging\": [[0, \"#8e0152\"], [0.1, \"#c51b7d\"], [0.2, \"#de77ae\"], [0.3, \"#f1b6da\"], [0.4, \"#fde0ef\"], [0.5, \"#f7f7f7\"], [0.6, \"#e6f5d0\"], [0.7, \"#b8e186\"], [0.8, \"#7fbc41\"], [0.9, \"#4d9221\"], [1, \"#276419\"]], \"sequential\": [[0.0, \"#0d0887\"], [0.1111111111111111, \"#46039f\"], [0.2222222222222222, \"#7201a8\"], [0.3333333333333333, \"#9c179e\"], [0.4444444444444444, \"#bd3786\"], [0.5555555555555556, \"#d8576b\"], [0.6666666666666666, \"#ed7953\"], [0.7777777777777778, \"#fb9f3a\"], [0.8888888888888888, \"#fdca26\"], [1.0, \"#f0f921\"]], \"sequentialminus\": [[0.0, \"#0d0887\"], [0.1111111111111111, \"#46039f\"], [0.2222222222222222, \"#7201a8\"], [0.3333333333333333, \"#9c179e\"], [0.4444444444444444, \"#bd3786\"], [0.5555555555555556, \"#d8576b\"], [0.6666666666666666, \"#ed7953\"], [0.7777777777777778, \"#fb9f3a\"], [0.8888888888888888, \"#fdca26\"], [1.0, \"#f0f921\"]]}, \"colorway\": [\"#636efa\", \"#EF553B\", \"#00cc96\", \"#ab63fa\", \"#FFA15A\", \"#19d3f3\", \"#FF6692\", \"#B6E880\", \"#FF97FF\", \"#FECB52\"], \"font\": {\"color\": \"#2a3f5f\"}, \"geo\": {\"bgcolor\": \"white\", \"lakecolor\": \"white\", \"landcolor\": \"#E5ECF6\", \"showlakes\": true, \"showland\": true, \"subunitcolor\": \"white\"}, \"hoverlabel\": {\"align\": \"left\"}, \"hovermode\": \"closest\", \"mapbox\": {\"style\": \"light\"}, \"paper_bgcolor\": \"white\", \"plot_bgcolor\": \"#E5ECF6\", \"polar\": {\"angularaxis\": {\"gridcolor\": \"white\", \"linecolor\": \"white\", \"ticks\": \"\"}, \"bgcolor\": \"#E5ECF6\", \"radialaxis\": {\"gridcolor\": \"white\", \"linecolor\": \"white\", \"ticks\": \"\"}}, \"scene\": {\"xaxis\": {\"backgroundcolor\": \"#E5ECF6\", \"gridcolor\": \"white\", \"gridwidth\": 2, \"linecolor\": \"white\", \"showbackground\": true, \"ticks\": \"\", \"zerolinecolor\": \"white\"}, \"yaxis\": {\"backgroundcolor\": \"#E5ECF6\", \"gridcolor\": \"white\", \"gridwidth\": 2, \"linecolor\": \"white\", \"showbackground\": true, \"ticks\": \"\", \"zerolinecolor\": \"white\"}, \"zaxis\": {\"backgroundcolor\": \"#E5ECF6\", \"gridcolor\": \"white\", \"gridwidth\": 2, \"linecolor\": \"white\", \"showbackground\": true, \"ticks\": \"\", \"zerolinecolor\": \"white\"}}, \"shapedefaults\": {\"line\": {\"color\": \"#2a3f5f\"}}, \"ternary\": {\"aaxis\": {\"gridcolor\": \"white\", \"linecolor\": \"white\", \"ticks\": \"\"}, \"baxis\": {\"gridcolor\": \"white\", \"linecolor\": \"white\", \"ticks\": \"\"}, \"bgcolor\": \"#E5ECF6\", \"caxis\": {\"gridcolor\": \"white\", \"linecolor\": \"white\", \"ticks\": \"\"}}, \"title\": {\"x\": 0.05}, \"xaxis\": {\"automargin\": true, \"gridcolor\": \"white\", \"linecolor\": \"white\", \"ticks\": \"\", \"title\": {\"standoff\": 15}, \"zerolinecolor\": \"white\", \"zerolinewidth\": 2}, \"yaxis\": {\"automargin\": true, \"gridcolor\": \"white\", \"linecolor\": \"white\", \"ticks\": \"\", \"title\": {\"standoff\": 15}, \"zerolinecolor\": \"white\", \"zerolinewidth\": 2}}}, \"xaxis\": {\"title\": {\"text\": \"x-tsne\"}}, \"yaxis\": {\"title\": {\"text\": \"y-tsne\"}}},\n",
       "                        {\"responsive\": true}\n",
       "                    ).then(function(){\n",
       "                            \n",
       "var gd = document.getElementById('07553dcc-de4c-40fa-b1c0-8ed501c2420e');\n",
       "var x = new MutationObserver(function (mutations, observer) {{\n",
       "        var display = window.getComputedStyle(gd).display;\n",
       "        if (!display || display === 'none') {{\n",
       "            console.log([gd, 'removed!']);\n",
       "            Plotly.purge(gd);\n",
       "            observer.disconnect();\n",
       "        }}\n",
       "}});\n",
       "\n",
       "// Listen for the removal of the full notebook cells\n",
       "var notebookContainer = gd.closest('#notebook-container');\n",
       "if (notebookContainer) {{\n",
       "    x.observe(notebookContainer, {childList: true});\n",
       "}}\n",
       "\n",
       "// Listen for the clearing of the current output cell\n",
       "var outputEl = gd.closest('.output');\n",
       "if (outputEl) {{\n",
       "    x.observe(outputEl, {childList: true});\n",
       "}}\n",
       "\n",
       "                        })\n",
       "                };\n",
       "                });\n",
       "            </script>\n",
       "        </div>"
      ]
     },
     "metadata": {},
     "output_type": "display_data"
    }
   ],
   "source": [
    "not_top_songs(df_new)"
   ]
  },
  {
   "cell_type": "markdown",
   "metadata": {},
   "source": [
    "HENCE:assumption 2 also prooved "
   ]
  }
 ],
 "metadata": {
  "kernelspec": {
   "display_name": "Python 3",
   "language": "python",
   "name": "python3"
  },
  "language_info": {
   "codemirror_mode": {
    "name": "ipython",
    "version": 3
   },
   "file_extension": ".py",
   "mimetype": "text/x-python",
   "name": "python",
   "nbconvert_exporter": "python",
   "pygments_lexer": "ipython3",
   "version": "3.8.2"
  },
  "toc": {
   "base_numbering": 1,
   "nav_menu": {},
   "number_sections": true,
   "sideBar": true,
   "skip_h1_title": false,
   "title_cell": "Table of Contents",
   "title_sidebar": "Contents",
   "toc_cell": false,
   "toc_position": {
    "height": "calc(100% - 180px)",
    "left": "10px",
    "top": "150px",
    "width": "307.2px"
   },
   "toc_section_display": true,
   "toc_window_display": true
  },
  "varInspector": {
   "cols": {
    "lenName": 16,
    "lenType": 16,
    "lenVar": 40
   },
   "kernels_config": {
    "python": {
     "delete_cmd_postfix": "",
     "delete_cmd_prefix": "del ",
     "library": "var_list.py",
     "varRefreshCmd": "print(var_dic_list())"
    },
    "r": {
     "delete_cmd_postfix": ") ",
     "delete_cmd_prefix": "rm(",
     "library": "var_list.r",
     "varRefreshCmd": "cat(var_dic_list()) "
    }
   },
   "types_to_exclude": [
    "module",
    "function",
    "builtin_function_or_method",
    "instance",
    "_Feature"
   ],
   "window_display": false
  }
 },
 "nbformat": 4,
 "nbformat_minor": 2
}
