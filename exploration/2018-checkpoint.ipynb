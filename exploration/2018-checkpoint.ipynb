{
 "cells": [
  {
   "cell_type": "code",
   "execution_count": 1,
   "metadata": {},
   "outputs": [
    {
     "data": {
      "text/html": [
       "        <script type=\"text/javascript\">\n",
       "        window.PlotlyConfig = {MathJaxConfig: 'local'};\n",
       "        if (window.MathJax) {MathJax.Hub.Config({SVG: {font: \"STIX-Web\"}});}\n",
       "        if (typeof require !== 'undefined') {\n",
       "        require.undef(\"plotly\");\n",
       "        requirejs.config({\n",
       "            paths: {\n",
       "                'plotly': ['https://cdn.plot.ly/plotly-latest.min']\n",
       "            }\n",
       "        });\n",
       "        require(['plotly'], function(Plotly) {\n",
       "            window._Plotly = Plotly;\n",
       "        });\n",
       "        }\n",
       "        </script>\n",
       "        "
      ]
     },
     "metadata": {},
     "output_type": "display_data"
    }
   ],
   "source": [
    "import pandas as pd\n",
    "import numpy as np\n",
    "import seaborn as sns\n",
    "from matplotlib import pyplot as plt\n",
    "%matplotlib inline\n",
    "from textblob import TextBlob\n",
    "from sklearn.model_selection import train_test_split\n",
    "\n",
    "from xgboost import XGBClassifier\n",
    "from sklearn.ensemble import RandomForestClassifier\n",
    "from xgboost import plot_importance\n",
    "from sklearn.preprocessing import MinMaxScaler\n",
    "from sklearn.decomposition import PCA\n",
    "\n",
    "import plotly.offline as py\n",
    "py.init_notebook_mode(connected=True)\n",
    "import plotly.graph_objs as go\n",
    "import plotly.tools as tls\n"
   ]
  },
  {
   "cell_type": "code",
   "execution_count": 2,
   "metadata": {},
   "outputs": [],
   "source": [
    "df_2017=pd.read_csv('../Data/datasets_top50-2017.csv')\n",
    "df_2018=pd.read_csv('../Data/datasets_top50-2018.csv')\n",
    "df_2019=pd.read_csv('../Data/datasets_top50-2019.csv',encoding='latin-1')\n"
   ]
  },
  {
   "cell_type": "code",
   "execution_count": 3,
   "metadata": {},
   "outputs": [],
   "source": [
    "def data_properties(year):\n",
    "    print(\"properties for year are as follows :\\n\")\n",
    "    print(\"column details:\\n\")\n",
    "    print(year.columns)\n",
    "    print(\"shape:\\n\")\n",
    "    print(year.shape)\n",
    "    print(\"info about dataset:\\n\")\n",
    "    print(year.info())\n",
    "    print(\"\\n\")\n"
   ]
  },
  {
   "cell_type": "code",
   "execution_count": 4,
   "metadata": {},
   "outputs": [
    {
     "name": "stdout",
     "output_type": "stream",
     "text": [
      "properties for year are as follows :\n",
      "\n",
      "column details:\n",
      "\n",
      "Index(['id', 'name', 'artists', 'danceability', 'energy', 'key', 'loudness',\n",
      "       'mode', 'speechiness', 'acousticness', 'instrumentalness', 'liveness',\n",
      "       'valence', 'tempo', 'duration_ms', 'time_signature'],\n",
      "      dtype='object')\n",
      "shape:\n",
      "\n",
      "(100, 16)\n",
      "info about dataset:\n",
      "\n",
      "<class 'pandas.core.frame.DataFrame'>\n",
      "RangeIndex: 100 entries, 0 to 99\n",
      "Data columns (total 16 columns):\n",
      "id                  100 non-null object\n",
      "name                100 non-null object\n",
      "artists             100 non-null object\n",
      "danceability        100 non-null float64\n",
      "energy              100 non-null float64\n",
      "key                 100 non-null float64\n",
      "loudness            100 non-null float64\n",
      "mode                100 non-null float64\n",
      "speechiness         100 non-null float64\n",
      "acousticness        100 non-null float64\n",
      "instrumentalness    100 non-null float64\n",
      "liveness            100 non-null float64\n",
      "valence             100 non-null float64\n",
      "tempo               100 non-null float64\n",
      "duration_ms         100 non-null float64\n",
      "time_signature      100 non-null float64\n",
      "dtypes: float64(13), object(3)\n",
      "memory usage: 12.6+ KB\n",
      "None\n",
      "\n",
      "\n",
      "properties for year are as follows :\n",
      "\n",
      "column details:\n",
      "\n",
      "Index(['Unnamed: 0', 'Track.Name', 'Artist.Name', 'Genre', 'Beats.Per.Minute',\n",
      "       'Energy', 'Danceability', 'Loudness..dB..', 'Liveness', 'Valence.',\n",
      "       'Length.', 'Acousticness..', 'Speechiness.', 'Popularity'],\n",
      "      dtype='object')\n",
      "shape:\n",
      "\n",
      "(50, 14)\n",
      "info about dataset:\n",
      "\n",
      "<class 'pandas.core.frame.DataFrame'>\n",
      "RangeIndex: 50 entries, 0 to 49\n",
      "Data columns (total 14 columns):\n",
      "Unnamed: 0          50 non-null int64\n",
      "Track.Name          50 non-null object\n",
      "Artist.Name         50 non-null object\n",
      "Genre               50 non-null object\n",
      "Beats.Per.Minute    50 non-null int64\n",
      "Energy              50 non-null int64\n",
      "Danceability        50 non-null int64\n",
      "Loudness..dB..      50 non-null int64\n",
      "Liveness            50 non-null int64\n",
      "Valence.            50 non-null int64\n",
      "Length.             50 non-null int64\n",
      "Acousticness..      50 non-null int64\n",
      "Speechiness.        50 non-null int64\n",
      "Popularity          50 non-null int64\n",
      "dtypes: int64(11), object(3)\n",
      "memory usage: 5.5+ KB\n",
      "None\n",
      "\n",
      "\n"
     ]
    }
   ],
   "source": [
    "data_properties(df_2017)\n",
    "#data_properties(df_2018)\n",
    "data_properties(df_2019)"
   ]
  },
  {
   "cell_type": "markdown",
   "metadata": {},
   "source": [
    "### as we can see2019 data is kind of different so we need to change the columsn name aililar to 2017 and 2018 data .... \n",
    "### will do it later"
   ]
  },
  {
   "cell_type": "code",
   "execution_count": 5,
   "metadata": {},
   "outputs": [],
   "source": [
    "def checkfornull(year):\n",
    "    print(\"cheking for null values......\")\n",
    "    print(year.columns[year.isnull().any()])\n",
    "    output=year.isnull().sum()\n",
    "    return output "
   ]
  },
  {
   "cell_type": "code",
   "execution_count": 6,
   "metadata": {},
   "outputs": [
    {
     "name": "stdout",
     "output_type": "stream",
     "text": [
      "cheking for null values......\n",
      "Index([], dtype='object')\n"
     ]
    },
    {
     "data": {
      "text/plain": [
       "id                  0\n",
       "name                0\n",
       "artists             0\n",
       "danceability        0\n",
       "energy              0\n",
       "key                 0\n",
       "loudness            0\n",
       "mode                0\n",
       "speechiness         0\n",
       "acousticness        0\n",
       "instrumentalness    0\n",
       "liveness            0\n",
       "valence             0\n",
       "tempo               0\n",
       "duration_ms         0\n",
       "time_signature      0\n",
       "dtype: int64"
      ]
     },
     "execution_count": 6,
     "metadata": {},
     "output_type": "execute_result"
    }
   ],
   "source": [
    "checkfornull(df_2017)"
   ]
  },
  {
   "cell_type": "code",
   "execution_count": 7,
   "metadata": {},
   "outputs": [],
   "source": [
    "# in the data we obsrve that all the data is not in float .So , in order to maintain a symetry,we will \n",
    "# convert the non float data to float data type\n",
    "\n",
    "def float_conversion(column,value):\n",
    "    column= pd.to_numeric(value, downcast=\"float\")\n",
    "    return column\n"
   ]
  },
  {
   "cell_type": "code",
   "execution_count": 8,
   "metadata": {},
   "outputs": [
    {
     "data": {
      "text/html": [
       "<div>\n",
       "<style scoped>\n",
       "    .dataframe tbody tr th:only-of-type {\n",
       "        vertical-align: middle;\n",
       "    }\n",
       "\n",
       "    .dataframe tbody tr th {\n",
       "        vertical-align: top;\n",
       "    }\n",
       "\n",
       "    .dataframe thead th {\n",
       "        text-align: right;\n",
       "    }\n",
       "</style>\n",
       "<table border=\"1\" class=\"dataframe\">\n",
       "  <thead>\n",
       "    <tr style=\"text-align: right;\">\n",
       "      <th></th>\n",
       "      <th>id</th>\n",
       "      <th>name</th>\n",
       "      <th>artists</th>\n",
       "      <th>danceability</th>\n",
       "      <th>energy</th>\n",
       "      <th>key</th>\n",
       "      <th>loudness</th>\n",
       "      <th>mode</th>\n",
       "      <th>speechiness</th>\n",
       "      <th>acousticness</th>\n",
       "      <th>instrumentalness</th>\n",
       "      <th>liveness</th>\n",
       "      <th>valence</th>\n",
       "      <th>tempo</th>\n",
       "      <th>duration_ms</th>\n",
       "      <th>time_signature</th>\n",
       "    </tr>\n",
       "  </thead>\n",
       "  <tbody>\n",
       "    <tr>\n",
       "      <th>0</th>\n",
       "      <td>7qiZfU4dY1lWllzX7mPBI</td>\n",
       "      <td>Shape of You</td>\n",
       "      <td>Ed Sheeran</td>\n",
       "      <td>0.825</td>\n",
       "      <td>0.652</td>\n",
       "      <td>1.0</td>\n",
       "      <td>-3.183</td>\n",
       "      <td>0.0</td>\n",
       "      <td>0.0802</td>\n",
       "      <td>0.5810</td>\n",
       "      <td>0.000000</td>\n",
       "      <td>0.0931</td>\n",
       "      <td>0.931</td>\n",
       "      <td>95.977</td>\n",
       "      <td>233713.0</td>\n",
       "      <td>4.0</td>\n",
       "    </tr>\n",
       "    <tr>\n",
       "      <th>1</th>\n",
       "      <td>5CtI0qwDJkDQGwXD1H1cL</td>\n",
       "      <td>Despacito - Remix</td>\n",
       "      <td>Luis Fonsi</td>\n",
       "      <td>0.694</td>\n",
       "      <td>0.815</td>\n",
       "      <td>2.0</td>\n",
       "      <td>-4.328</td>\n",
       "      <td>1.0</td>\n",
       "      <td>0.1200</td>\n",
       "      <td>0.2290</td>\n",
       "      <td>0.000000</td>\n",
       "      <td>0.0924</td>\n",
       "      <td>0.813</td>\n",
       "      <td>88.931</td>\n",
       "      <td>228827.0</td>\n",
       "      <td>4.0</td>\n",
       "    </tr>\n",
       "    <tr>\n",
       "      <th>2</th>\n",
       "      <td>4aWmUDTfIPGksMNLV2rQP</td>\n",
       "      <td>Despacito (Featuring Daddy Yankee)</td>\n",
       "      <td>Luis Fonsi</td>\n",
       "      <td>0.660</td>\n",
       "      <td>0.786</td>\n",
       "      <td>2.0</td>\n",
       "      <td>-4.757</td>\n",
       "      <td>1.0</td>\n",
       "      <td>0.1700</td>\n",
       "      <td>0.2090</td>\n",
       "      <td>0.000000</td>\n",
       "      <td>0.1120</td>\n",
       "      <td>0.846</td>\n",
       "      <td>177.833</td>\n",
       "      <td>228200.0</td>\n",
       "      <td>4.0</td>\n",
       "    </tr>\n",
       "    <tr>\n",
       "      <th>3</th>\n",
       "      <td>6RUKPb4LETWmmr3iAEQkt</td>\n",
       "      <td>Something Just Like This</td>\n",
       "      <td>The Chainsmokers</td>\n",
       "      <td>0.617</td>\n",
       "      <td>0.635</td>\n",
       "      <td>11.0</td>\n",
       "      <td>-6.769</td>\n",
       "      <td>0.0</td>\n",
       "      <td>0.0317</td>\n",
       "      <td>0.0498</td>\n",
       "      <td>0.000014</td>\n",
       "      <td>0.1640</td>\n",
       "      <td>0.446</td>\n",
       "      <td>103.019</td>\n",
       "      <td>247160.0</td>\n",
       "      <td>4.0</td>\n",
       "    </tr>\n",
       "    <tr>\n",
       "      <th>4</th>\n",
       "      <td>3DXncPQOG4VBw3QHh3S81</td>\n",
       "      <td>I'm the One</td>\n",
       "      <td>DJ Khaled</td>\n",
       "      <td>0.609</td>\n",
       "      <td>0.668</td>\n",
       "      <td>7.0</td>\n",
       "      <td>-4.284</td>\n",
       "      <td>1.0</td>\n",
       "      <td>0.0367</td>\n",
       "      <td>0.0552</td>\n",
       "      <td>0.000000</td>\n",
       "      <td>0.1670</td>\n",
       "      <td>0.811</td>\n",
       "      <td>80.924</td>\n",
       "      <td>288600.0</td>\n",
       "      <td>4.0</td>\n",
       "    </tr>\n",
       "  </tbody>\n",
       "</table>\n",
       "</div>"
      ],
      "text/plain": [
       "                      id                                name  \\\n",
       "0  7qiZfU4dY1lWllzX7mPBI                        Shape of You   \n",
       "1  5CtI0qwDJkDQGwXD1H1cL                   Despacito - Remix   \n",
       "2  4aWmUDTfIPGksMNLV2rQP  Despacito (Featuring Daddy Yankee)   \n",
       "3  6RUKPb4LETWmmr3iAEQkt            Something Just Like This   \n",
       "4  3DXncPQOG4VBw3QHh3S81                         I'm the One   \n",
       "\n",
       "            artists  danceability  energy   key  loudness  mode  speechiness  \\\n",
       "0        Ed Sheeran         0.825   0.652   1.0    -3.183   0.0       0.0802   \n",
       "1        Luis Fonsi         0.694   0.815   2.0    -4.328   1.0       0.1200   \n",
       "2        Luis Fonsi         0.660   0.786   2.0    -4.757   1.0       0.1700   \n",
       "3  The Chainsmokers         0.617   0.635  11.0    -6.769   0.0       0.0317   \n",
       "4         DJ Khaled         0.609   0.668   7.0    -4.284   1.0       0.0367   \n",
       "\n",
       "   acousticness  instrumentalness  liveness  valence    tempo  duration_ms  \\\n",
       "0        0.5810          0.000000    0.0931    0.931   95.977     233713.0   \n",
       "1        0.2290          0.000000    0.0924    0.813   88.931     228827.0   \n",
       "2        0.2090          0.000000    0.1120    0.846  177.833     228200.0   \n",
       "3        0.0498          0.000014    0.1640    0.446  103.019     247160.0   \n",
       "4        0.0552          0.000000    0.1670    0.811   80.924     288600.0   \n",
       "\n",
       "   time_signature  \n",
       "0             4.0  \n",
       "1             4.0  \n",
       "2             4.0  \n",
       "3             4.0  \n",
       "4             4.0  "
      ]
     },
     "execution_count": 8,
     "metadata": {},
     "output_type": "execute_result"
    }
   ],
   "source": [
    "float_conversion(df_2017.mode,df_2017[\"mode\"])\n",
    "float_conversion(df_2017.duration_ms,df_2017[\"duration_ms\"])\n",
    "float_conversion(df_2017.time_signature,df_2017[\"time_signature\"])\n",
    "\n",
    "df_2017.head()\n"
   ]
  },
  {
   "cell_type": "code",
   "execution_count": null,
   "metadata": {},
   "outputs": [],
   "source": []
  },
  {
   "cell_type": "code",
   "execution_count": 9,
   "metadata": {},
   "outputs": [],
   "source": [
    "#lets analyse  each  columns sequentially for better understanding of the data"
   ]
  },
  {
   "cell_type": "code",
   "execution_count": 10,
   "metadata": {},
   "outputs": [],
   "source": [
    "def understand_feature(feature):\n",
    "    return feature.describe()\n"
   ]
  },
  {
   "cell_type": "code",
   "execution_count": 11,
   "metadata": {},
   "outputs": [
    {
     "name": "stdout",
     "output_type": "stream",
     "text": [
      "overall danceability feature\n",
      "\n"
     ]
    },
    {
     "data": {
      "text/plain": [
       "count    100.00000\n",
       "mean       0.69682\n",
       "std        0.12508\n",
       "min        0.25800\n",
       "25%        0.63500\n",
       "50%        0.71400\n",
       "75%        0.77025\n",
       "max        0.92700\n",
       "Name: danceability, dtype: float64"
      ]
     },
     "execution_count": 11,
     "metadata": {},
     "output_type": "execute_result"
    }
   ],
   "source": [
    "#The higher the value, the easier it is to dance to this song.\n",
    "print(\"overall danceability feature\\n\")\n",
    "understand_feature(df_2017[\"danceability\"])\n"
   ]
  },
  {
   "cell_type": "code",
   "execution_count": 12,
   "metadata": {},
   "outputs": [
    {
     "name": "stdout",
     "output_type": "stream",
     "text": [
      "top 10  danceability feature\n",
      "\n"
     ]
    },
    {
     "data": {
      "text/plain": [
       "count    10.000000\n",
       "mean      0.726300\n",
       "std       0.103301\n",
       "min       0.609000\n",
       "25%       0.645000\n",
       "50%       0.710000\n",
       "75%       0.802500\n",
       "max       0.904000\n",
       "Name: danceability, dtype: float64"
      ]
     },
     "execution_count": 12,
     "metadata": {},
     "output_type": "execute_result"
    }
   ],
   "source": [
    "print(\"top 10  danceability feature\\n\")\n",
    "understand_feature(df_2017[\"danceability\"].head(10))\n",
    "\n"
   ]
  },
  {
   "cell_type": "code",
   "execution_count": 13,
   "metadata": {},
   "outputs": [
    {
     "name": "stdout",
     "output_type": "stream",
     "text": [
      "1    83\n",
      "0    17\n",
      "Name: dancebility_new, dtype: int64\n"
     ]
    }
   ],
   "source": [
    "#sorting out more danceble songs \n",
    "df_2017['dancebility_new']=df_2017['danceability']\n",
    "df_2017.loc[df_2017['danceability']>=0.6000,'dancebility_new']='1'\n",
    "df_2017.loc[(df_2017['danceability']<0.6000),'dancebility_new']='0'\n",
    "\n",
    "print(df_2017['dancebility_new'].value_counts())"
   ]
  },
  {
   "cell_type": "code",
   "execution_count": 14,
   "metadata": {},
   "outputs": [
    {
     "name": "stdout",
     "output_type": "stream",
     "text": [
      "top 10  energy  feature\n",
      "\n"
     ]
    },
    {
     "data": {
      "text/plain": [
       "count    10.00000\n",
       "mean      0.64800\n",
       "std       0.11705\n",
       "min       0.45100\n",
       "25%       0.57275\n",
       "50%       0.64350\n",
       "75%       0.74375\n",
       "max       0.81500\n",
       "Name: energy, dtype: float64"
      ]
     },
     "execution_count": 14,
     "metadata": {},
     "output_type": "execute_result"
    }
   ],
   "source": [
    "print(\"top 10  energy  feature\\n\")\n",
    "understand_feature(df_2017[\"energy\"].head(10))"
   ]
  },
  {
   "cell_type": "code",
   "execution_count": 15,
   "metadata": {},
   "outputs": [],
   "source": [
    "#understanding beats per minute i.e tempo of the song\n",
    "#here we do classification of the tempo on the bases of beats per min \n",
    "#REf:https://www.musical-u.com/learn/rhythm-tips-for-identifying-music-genres-by-ear/\n",
    "df_2017['tempo_rate']=df_2017['tempo']\n"
   ]
  },
  {
   "cell_type": "code",
   "execution_count": 16,
   "metadata": {},
   "outputs": [],
   "source": [
    "df_2017.loc[df_2017['tempo']<65,'tempo_rate']='very slow'\n",
    "df_2017.loc[(df_2017['tempo']>=66) & (df_2017['tempo']<=76),'tempo_rate']='slow'\n",
    "df_2017.loc[(df_2017['tempo']>=77) & (df_2017['tempo']<=108),'tempo_rate']='moderate'\n",
    "df_2017.loc[(df_2017['tempo']>=109) & (df_2017['tempo']<=168),'tempo_rate']='fast'\n",
    "df_2017.loc[df_2017['tempo']>168,'tempo_rate']='very fast'\n"
   ]
  },
  {
   "cell_type": "code",
   "execution_count": 17,
   "metadata": {},
   "outputs": [
    {
     "name": "stdout",
     "output_type": "stream",
     "text": [
      "Tempo Rate\tCount\n",
      "\n",
      "moderate     46\n",
      "fast         45\n",
      "very fast     7\n",
      "slow          2\n",
      "Name: tempo_rate, dtype: int64\n",
      "\n",
      "\n"
     ]
    },
    {
     "data": {
      "text/html": [
       "<div>\n",
       "<style scoped>\n",
       "    .dataframe tbody tr th:only-of-type {\n",
       "        vertical-align: middle;\n",
       "    }\n",
       "\n",
       "    .dataframe tbody tr th {\n",
       "        vertical-align: top;\n",
       "    }\n",
       "\n",
       "    .dataframe thead th {\n",
       "        text-align: right;\n",
       "    }\n",
       "</style>\n",
       "<table border=\"1\" class=\"dataframe\">\n",
       "  <thead>\n",
       "    <tr style=\"text-align: right;\">\n",
       "      <th></th>\n",
       "      <th>id</th>\n",
       "      <th>name</th>\n",
       "      <th>artists</th>\n",
       "      <th>danceability</th>\n",
       "      <th>energy</th>\n",
       "      <th>key</th>\n",
       "      <th>loudness</th>\n",
       "      <th>mode</th>\n",
       "      <th>speechiness</th>\n",
       "      <th>acousticness</th>\n",
       "      <th>instrumentalness</th>\n",
       "      <th>liveness</th>\n",
       "      <th>valence</th>\n",
       "      <th>tempo</th>\n",
       "      <th>duration_ms</th>\n",
       "      <th>time_signature</th>\n",
       "      <th>dancebility_new</th>\n",
       "      <th>tempo_rate</th>\n",
       "    </tr>\n",
       "  </thead>\n",
       "  <tbody>\n",
       "    <tr>\n",
       "      <th>0</th>\n",
       "      <td>7qiZfU4dY1lWllzX7mPBI</td>\n",
       "      <td>Shape of You</td>\n",
       "      <td>Ed Sheeran</td>\n",
       "      <td>0.825</td>\n",
       "      <td>0.652</td>\n",
       "      <td>1.0</td>\n",
       "      <td>-3.183</td>\n",
       "      <td>0.0</td>\n",
       "      <td>0.0802</td>\n",
       "      <td>0.5810</td>\n",
       "      <td>0.000000</td>\n",
       "      <td>0.0931</td>\n",
       "      <td>0.931</td>\n",
       "      <td>95.977</td>\n",
       "      <td>233713.0</td>\n",
       "      <td>4.0</td>\n",
       "      <td>1</td>\n",
       "      <td>moderate</td>\n",
       "    </tr>\n",
       "    <tr>\n",
       "      <th>1</th>\n",
       "      <td>5CtI0qwDJkDQGwXD1H1cL</td>\n",
       "      <td>Despacito - Remix</td>\n",
       "      <td>Luis Fonsi</td>\n",
       "      <td>0.694</td>\n",
       "      <td>0.815</td>\n",
       "      <td>2.0</td>\n",
       "      <td>-4.328</td>\n",
       "      <td>1.0</td>\n",
       "      <td>0.1200</td>\n",
       "      <td>0.2290</td>\n",
       "      <td>0.000000</td>\n",
       "      <td>0.0924</td>\n",
       "      <td>0.813</td>\n",
       "      <td>88.931</td>\n",
       "      <td>228827.0</td>\n",
       "      <td>4.0</td>\n",
       "      <td>1</td>\n",
       "      <td>moderate</td>\n",
       "    </tr>\n",
       "    <tr>\n",
       "      <th>2</th>\n",
       "      <td>4aWmUDTfIPGksMNLV2rQP</td>\n",
       "      <td>Despacito (Featuring Daddy Yankee)</td>\n",
       "      <td>Luis Fonsi</td>\n",
       "      <td>0.660</td>\n",
       "      <td>0.786</td>\n",
       "      <td>2.0</td>\n",
       "      <td>-4.757</td>\n",
       "      <td>1.0</td>\n",
       "      <td>0.1700</td>\n",
       "      <td>0.2090</td>\n",
       "      <td>0.000000</td>\n",
       "      <td>0.1120</td>\n",
       "      <td>0.846</td>\n",
       "      <td>177.833</td>\n",
       "      <td>228200.0</td>\n",
       "      <td>4.0</td>\n",
       "      <td>1</td>\n",
       "      <td>very fast</td>\n",
       "    </tr>\n",
       "    <tr>\n",
       "      <th>3</th>\n",
       "      <td>6RUKPb4LETWmmr3iAEQkt</td>\n",
       "      <td>Something Just Like This</td>\n",
       "      <td>The Chainsmokers</td>\n",
       "      <td>0.617</td>\n",
       "      <td>0.635</td>\n",
       "      <td>11.0</td>\n",
       "      <td>-6.769</td>\n",
       "      <td>0.0</td>\n",
       "      <td>0.0317</td>\n",
       "      <td>0.0498</td>\n",
       "      <td>0.000014</td>\n",
       "      <td>0.1640</td>\n",
       "      <td>0.446</td>\n",
       "      <td>103.019</td>\n",
       "      <td>247160.0</td>\n",
       "      <td>4.0</td>\n",
       "      <td>1</td>\n",
       "      <td>moderate</td>\n",
       "    </tr>\n",
       "    <tr>\n",
       "      <th>4</th>\n",
       "      <td>3DXncPQOG4VBw3QHh3S81</td>\n",
       "      <td>I'm the One</td>\n",
       "      <td>DJ Khaled</td>\n",
       "      <td>0.609</td>\n",
       "      <td>0.668</td>\n",
       "      <td>7.0</td>\n",
       "      <td>-4.284</td>\n",
       "      <td>1.0</td>\n",
       "      <td>0.0367</td>\n",
       "      <td>0.0552</td>\n",
       "      <td>0.000000</td>\n",
       "      <td>0.1670</td>\n",
       "      <td>0.811</td>\n",
       "      <td>80.924</td>\n",
       "      <td>288600.0</td>\n",
       "      <td>4.0</td>\n",
       "      <td>1</td>\n",
       "      <td>moderate</td>\n",
       "    </tr>\n",
       "  </tbody>\n",
       "</table>\n",
       "</div>"
      ],
      "text/plain": [
       "                      id                                name  \\\n",
       "0  7qiZfU4dY1lWllzX7mPBI                        Shape of You   \n",
       "1  5CtI0qwDJkDQGwXD1H1cL                   Despacito - Remix   \n",
       "2  4aWmUDTfIPGksMNLV2rQP  Despacito (Featuring Daddy Yankee)   \n",
       "3  6RUKPb4LETWmmr3iAEQkt            Something Just Like This   \n",
       "4  3DXncPQOG4VBw3QHh3S81                         I'm the One   \n",
       "\n",
       "            artists  danceability  energy   key  loudness  mode  speechiness  \\\n",
       "0        Ed Sheeran         0.825   0.652   1.0    -3.183   0.0       0.0802   \n",
       "1        Luis Fonsi         0.694   0.815   2.0    -4.328   1.0       0.1200   \n",
       "2        Luis Fonsi         0.660   0.786   2.0    -4.757   1.0       0.1700   \n",
       "3  The Chainsmokers         0.617   0.635  11.0    -6.769   0.0       0.0317   \n",
       "4         DJ Khaled         0.609   0.668   7.0    -4.284   1.0       0.0367   \n",
       "\n",
       "   acousticness  instrumentalness  liveness  valence    tempo  duration_ms  \\\n",
       "0        0.5810          0.000000    0.0931    0.931   95.977     233713.0   \n",
       "1        0.2290          0.000000    0.0924    0.813   88.931     228827.0   \n",
       "2        0.2090          0.000000    0.1120    0.846  177.833     228200.0   \n",
       "3        0.0498          0.000014    0.1640    0.446  103.019     247160.0   \n",
       "4        0.0552          0.000000    0.1670    0.811   80.924     288600.0   \n",
       "\n",
       "   time_signature dancebility_new tempo_rate  \n",
       "0             4.0               1   moderate  \n",
       "1             4.0               1   moderate  \n",
       "2             4.0               1  very fast  \n",
       "3             4.0               1   moderate  \n",
       "4             4.0               1   moderate  "
      ]
     },
     "execution_count": 17,
     "metadata": {},
     "output_type": "execute_result"
    }
   ],
   "source": [
    "print(\"Tempo Rate\\tCount\\n\")\n",
    "print(df_2017['tempo_rate'].value_counts())\n",
    "print(\"\\n\")\n",
    "df_2017.head()"
   ]
  },
  {
   "cell_type": "code",
   "execution_count": 18,
   "metadata": {},
   "outputs": [
    {
     "ename": "NameError",
     "evalue": "name 'plt' is not defined",
     "output_type": "error",
     "traceback": [
      "\u001b[1;31m---------------------------------------------------------------------------\u001b[0m",
      "\u001b[1;31mNameError\u001b[0m                                 Traceback (most recent call last)",
      "\u001b[1;32m<ipython-input-18-db696ecd3b65>\u001b[0m in \u001b[0;36m<module>\u001b[1;34m\u001b[0m\n\u001b[0;32m      2\u001b[0m             \u001b[0my\u001b[0m\u001b[1;33m=\u001b[0m\u001b[0mpd\u001b[0m\u001b[1;33m.\u001b[0m\u001b[0mDataFrame\u001b[0m\u001b[1;33m(\u001b[0m\u001b[0mdf_2017\u001b[0m\u001b[1;33m[\u001b[0m\u001b[1;34m'tempo_rate'\u001b[0m\u001b[1;33m]\u001b[0m\u001b[1;33m.\u001b[0m\u001b[0mvalue_counts\u001b[0m\u001b[1;33m(\u001b[0m\u001b[1;33m)\u001b[0m\u001b[1;33m)\u001b[0m\u001b[1;33m.\u001b[0m\u001b[0mindex\u001b[0m\u001b[1;33m\u001b[0m\u001b[1;33m\u001b[0m\u001b[0m\n\u001b[0;32m      3\u001b[0m            )\n\u001b[1;32m----> 4\u001b[1;33m \u001b[0mplt\u001b[0m\u001b[1;33m.\u001b[0m\u001b[0mtitle\u001b[0m\u001b[1;33m(\u001b[0m\u001b[1;34m'music tempo'\u001b[0m\u001b[1;33m)\u001b[0m\u001b[1;33m;\u001b[0m\u001b[1;33m\u001b[0m\u001b[1;33m\u001b[0m\u001b[0m\n\u001b[0m",
      "\u001b[1;31mNameError\u001b[0m: name 'plt' is not defined"
     ]
    },
    {
     "data": {
      "image/png": "[encoded data removed]",
      "text/plain": [
       "<Figure size 432x288 with 1 Axes>"
      ]
     },
     "metadata": {
      "needs_background": "light"
     },
     "output_type": "display_data"
    }
   ],
   "source": [
    "sns.barplot(x=pd.DataFrame(df_2017['tempo_rate'].value_counts()).tempo_rate, \n",
    "            y=pd.DataFrame(df_2017['tempo_rate'].value_counts()).index\n",
    "           )\n",
    "plt.title('music tempo');"
   ]
  },
  {
   "cell_type": "markdown",
   "metadata": {},
   "source": [
    "sort the songs on the bases of important parametes like :"
   ]
  },
  {
   "cell_type": "code",
   "execution_count": null,
   "metadata": {},
   "outputs": [],
   "source": [
    "df_2017[['name','artists','danceability','valence','tempo','tempo_rate','energy']].sort_values(by=[\"danceability\",\"energy\",\"valence\"],ascending=False).head(10)"
   ]
  },
  {
   "cell_type": "markdown",
   "metadata": {},
   "source": [
    "as we can see that these features collectively couldn't generate the sorted manner of artist as expected.We need to change our approach and include more features \n",
    "### Analysing top artists\n",
    "Analysing Top artists will give us a better idea about the feature importance "
   ]
  },
  {
   "cell_type": "code",
   "execution_count": null,
   "metadata": {},
   "outputs": [],
   "source": [
    "#count the value:in terms on songs per year for an  artist\n",
    "print(\"Artist\\t\\tSongs\\n\")\n",
    "print(df_2017[\"artists\"].value_counts().head(20))"
   ]
  },
  {
   "cell_type": "markdown",
   "metadata": {},
   "source": [
    "#### comparing  the  top artists based on our features \n",
    "lets start with top 5:\n",
    "\n",
    "- Ed Sheeran          4\n",
    "- The Chainsmokers    4\n",
    "- Drake               3\n",
    "- Martin Garrix       3\n",
    "- Kendrick Lamar      2"
   ]
  },
  {
   "cell_type": "code",
   "execution_count": 19,
   "metadata": {},
   "outputs": [
    {
     "name": "stdout",
     "output_type": "stream",
     "text": [
      "Ed sheeran:\n"
     ]
    },
    {
     "data": {
      "text/html": [
       "<div>\n",
       "<style scoped>\n",
       "    .dataframe tbody tr th:only-of-type {\n",
       "        vertical-align: middle;\n",
       "    }\n",
       "\n",
       "    .dataframe tbody tr th {\n",
       "        vertical-align: top;\n",
       "    }\n",
       "\n",
       "    .dataframe thead th {\n",
       "        text-align: right;\n",
       "    }\n",
       "</style>\n",
       "<table border=\"1\" class=\"dataframe\">\n",
       "  <thead>\n",
       "    <tr style=\"text-align: right;\">\n",
       "      <th></th>\n",
       "      <th>name</th>\n",
       "      <th>danceability</th>\n",
       "      <th>energy</th>\n",
       "      <th>loudness</th>\n",
       "      <th>valence</th>\n",
       "      <th>tempo</th>\n",
       "      <th>tempo_rate</th>\n",
       "    </tr>\n",
       "  </thead>\n",
       "  <tbody>\n",
       "    <tr>\n",
       "      <th>0</th>\n",
       "      <td>Shape of You</td>\n",
       "      <td>0.825</td>\n",
       "      <td>0.652</td>\n",
       "      <td>-3.183</td>\n",
       "      <td>0.931</td>\n",
       "      <td>95.977</td>\n",
       "      <td>moderate</td>\n",
       "    </tr>\n",
       "    <tr>\n",
       "      <th>17</th>\n",
       "      <td>Castle on the Hill</td>\n",
       "      <td>0.461</td>\n",
       "      <td>0.834</td>\n",
       "      <td>-4.868</td>\n",
       "      <td>0.471</td>\n",
       "      <td>135.007</td>\n",
       "      <td>fast</td>\n",
       "    </tr>\n",
       "    <tr>\n",
       "      <th>26</th>\n",
       "      <td>Galway Girl</td>\n",
       "      <td>0.624</td>\n",
       "      <td>0.876</td>\n",
       "      <td>-3.374</td>\n",
       "      <td>0.781</td>\n",
       "      <td>99.943</td>\n",
       "      <td>moderate</td>\n",
       "    </tr>\n",
       "    <tr>\n",
       "      <th>40</th>\n",
       "      <td>Perfect</td>\n",
       "      <td>0.599</td>\n",
       "      <td>0.448</td>\n",
       "      <td>-6.312</td>\n",
       "      <td>0.168</td>\n",
       "      <td>95.050</td>\n",
       "      <td>moderate</td>\n",
       "    </tr>\n",
       "  </tbody>\n",
       "</table>\n",
       "</div>"
      ],
      "text/plain": [
       "                  name  danceability  energy  loudness  valence    tempo  \\\n",
       "0         Shape of You         0.825   0.652    -3.183    0.931   95.977   \n",
       "17  Castle on the Hill         0.461   0.834    -4.868    0.471  135.007   \n",
       "26         Galway Girl         0.624   0.876    -3.374    0.781   99.943   \n",
       "40             Perfect         0.599   0.448    -6.312    0.168   95.050   \n",
       "\n",
       "   tempo_rate  \n",
       "0    moderate  \n",
       "17       fast  \n",
       "26   moderate  \n",
       "40   moderate  "
      ]
     },
     "execution_count": 19,
     "metadata": {},
     "output_type": "execute_result"
    }
   ],
   "source": [
    "EdSheeran=df_2017[df_2017['artists']=='Ed Sheeran']\n",
    "print(\"Ed sheeran:\")\n",
    "EdSheeran[['name','danceability','energy','loudness','valence','tempo','tempo_rate']]\n",
    "\n"
   ]
  },
  {
   "cell_type": "code",
   "execution_count": 20,
   "metadata": {},
   "outputs": [
    {
     "name": "stdout",
     "output_type": "stream",
     "text": [
      "The Chainsmokers:\n"
     ]
    },
    {
     "data": {
      "text/html": [
       "<div>\n",
       "<style scoped>\n",
       "    .dataframe tbody tr th:only-of-type {\n",
       "        vertical-align: middle;\n",
       "    }\n",
       "\n",
       "    .dataframe tbody tr th {\n",
       "        vertical-align: top;\n",
       "    }\n",
       "\n",
       "    .dataframe thead th {\n",
       "        text-align: right;\n",
       "    }\n",
       "</style>\n",
       "<table border=\"1\" class=\"dataframe\">\n",
       "  <thead>\n",
       "    <tr style=\"text-align: right;\">\n",
       "      <th></th>\n",
       "      <th>name</th>\n",
       "      <th>danceability</th>\n",
       "      <th>energy</th>\n",
       "      <th>loudness</th>\n",
       "      <th>valence</th>\n",
       "      <th>tempo</th>\n",
       "      <th>tempo_rate</th>\n",
       "    </tr>\n",
       "  </thead>\n",
       "  <tbody>\n",
       "    <tr>\n",
       "      <th>3</th>\n",
       "      <td>Something Just Like This</td>\n",
       "      <td>0.617</td>\n",
       "      <td>0.635</td>\n",
       "      <td>-6.769</td>\n",
       "      <td>0.446</td>\n",
       "      <td>103.019</td>\n",
       "      <td>moderate</td>\n",
       "    </tr>\n",
       "    <tr>\n",
       "      <th>11</th>\n",
       "      <td>Paris</td>\n",
       "      <td>0.653</td>\n",
       "      <td>0.658</td>\n",
       "      <td>-6.428</td>\n",
       "      <td>0.219</td>\n",
       "      <td>99.990</td>\n",
       "      <td>moderate</td>\n",
       "    </tr>\n",
       "    <tr>\n",
       "      <th>28</th>\n",
       "      <td>Closer</td>\n",
       "      <td>0.748</td>\n",
       "      <td>0.524</td>\n",
       "      <td>-5.599</td>\n",
       "      <td>0.661</td>\n",
       "      <td>95.010</td>\n",
       "      <td>moderate</td>\n",
       "    </tr>\n",
       "    <tr>\n",
       "      <th>96</th>\n",
       "      <td>Don't Let Me Down</td>\n",
       "      <td>0.542</td>\n",
       "      <td>0.859</td>\n",
       "      <td>-5.651</td>\n",
       "      <td>0.403</td>\n",
       "      <td>159.797</td>\n",
       "      <td>fast</td>\n",
       "    </tr>\n",
       "  </tbody>\n",
       "</table>\n",
       "</div>"
      ],
      "text/plain": [
       "                        name  danceability  energy  loudness  valence  \\\n",
       "3   Something Just Like This         0.617   0.635    -6.769    0.446   \n",
       "11                     Paris         0.653   0.658    -6.428    0.219   \n",
       "28                    Closer         0.748   0.524    -5.599    0.661   \n",
       "96         Don't Let Me Down         0.542   0.859    -5.651    0.403   \n",
       "\n",
       "      tempo tempo_rate  \n",
       "3   103.019   moderate  \n",
       "11   99.990   moderate  \n",
       "28   95.010   moderate  \n",
       "96  159.797       fast  "
      ]
     },
     "execution_count": 20,
     "metadata": {},
     "output_type": "execute_result"
    }
   ],
   "source": [
    "TheChainsmokers=df_2017[df_2017['artists']=='The Chainsmokers']\n",
    "print(\"The Chainsmokers:\")\n",
    "TheChainsmokers[['name','danceability','energy','loudness','valence','tempo','tempo_rate']]"
   ]
  },
  {
   "cell_type": "code",
   "execution_count": 21,
   "metadata": {},
   "outputs": [
    {
     "name": "stdout",
     "output_type": "stream",
     "text": [
      "Drake:\n"
     ]
    },
    {
     "data": {
      "text/html": [
       "<div>\n",
       "<style scoped>\n",
       "    .dataframe tbody tr th:only-of-type {\n",
       "        vertical-align: middle;\n",
       "    }\n",
       "\n",
       "    .dataframe tbody tr th {\n",
       "        vertical-align: top;\n",
       "    }\n",
       "\n",
       "    .dataframe thead th {\n",
       "        text-align: right;\n",
       "    }\n",
       "</style>\n",
       "<table border=\"1\" class=\"dataframe\">\n",
       "  <thead>\n",
       "    <tr style=\"text-align: right;\">\n",
       "      <th></th>\n",
       "      <th>name</th>\n",
       "      <th>danceability</th>\n",
       "      <th>energy</th>\n",
       "      <th>loudness</th>\n",
       "      <th>valence</th>\n",
       "      <th>tempo</th>\n",
       "      <th>tempo_rate</th>\n",
       "    </tr>\n",
       "  </thead>\n",
       "  <tbody>\n",
       "    <tr>\n",
       "      <th>36</th>\n",
       "      <td>Passionfruit</td>\n",
       "      <td>0.809</td>\n",
       "      <td>0.463</td>\n",
       "      <td>-11.377</td>\n",
       "      <td>0.364</td>\n",
       "      <td>111.980</td>\n",
       "      <td>fast</td>\n",
       "    </tr>\n",
       "    <tr>\n",
       "      <th>51</th>\n",
       "      <td>Fake Love</td>\n",
       "      <td>0.927</td>\n",
       "      <td>0.488</td>\n",
       "      <td>-9.433</td>\n",
       "      <td>0.605</td>\n",
       "      <td>133.987</td>\n",
       "      <td>fast</td>\n",
       "    </tr>\n",
       "    <tr>\n",
       "      <th>54</th>\n",
       "      <td>One Dance</td>\n",
       "      <td>0.791</td>\n",
       "      <td>0.619</td>\n",
       "      <td>-5.886</td>\n",
       "      <td>0.371</td>\n",
       "      <td>103.989</td>\n",
       "      <td>moderate</td>\n",
       "    </tr>\n",
       "  </tbody>\n",
       "</table>\n",
       "</div>"
      ],
      "text/plain": [
       "            name  danceability  energy  loudness  valence    tempo tempo_rate\n",
       "36  Passionfruit         0.809   0.463   -11.377    0.364  111.980       fast\n",
       "51     Fake Love         0.927   0.488    -9.433    0.605  133.987       fast\n",
       "54     One Dance         0.791   0.619    -5.886    0.371  103.989   moderate"
      ]
     },
     "execution_count": 21,
     "metadata": {},
     "output_type": "execute_result"
    }
   ],
   "source": [
    "Drake=df_2017[df_2017['artists']=='Drake']\n",
    "print(\"Drake:\")\n",
    "Drake[['name','danceability','energy','loudness','valence','tempo','tempo_rate']]"
   ]
  },
  {
   "cell_type": "code",
   "execution_count": 22,
   "metadata": {},
   "outputs": [
    {
     "name": "stdout",
     "output_type": "stream",
     "text": [
      "Martin Garrix  :\n"
     ]
    },
    {
     "data": {
      "text/html": [
       "<div>\n",
       "<style scoped>\n",
       "    .dataframe tbody tr th:only-of-type {\n",
       "        vertical-align: middle;\n",
       "    }\n",
       "\n",
       "    .dataframe tbody tr th {\n",
       "        vertical-align: top;\n",
       "    }\n",
       "\n",
       "    .dataframe thead th {\n",
       "        text-align: right;\n",
       "    }\n",
       "</style>\n",
       "<table border=\"1\" class=\"dataframe\">\n",
       "  <thead>\n",
       "    <tr style=\"text-align: right;\">\n",
       "      <th></th>\n",
       "      <th>name</th>\n",
       "      <th>danceability</th>\n",
       "      <th>energy</th>\n",
       "      <th>loudness</th>\n",
       "      <th>valence</th>\n",
       "      <th>tempo</th>\n",
       "      <th>tempo_rate</th>\n",
       "    </tr>\n",
       "  </thead>\n",
       "  <tbody>\n",
       "    <tr>\n",
       "      <th>27</th>\n",
       "      <td>Scared to Be Lonely</td>\n",
       "      <td>0.584</td>\n",
       "      <td>0.540</td>\n",
       "      <td>-7.786</td>\n",
       "      <td>0.195</td>\n",
       "      <td>137.972</td>\n",
       "      <td>fast</td>\n",
       "    </tr>\n",
       "    <tr>\n",
       "      <th>73</th>\n",
       "      <td>There for You</td>\n",
       "      <td>0.611</td>\n",
       "      <td>0.644</td>\n",
       "      <td>-7.607</td>\n",
       "      <td>0.130</td>\n",
       "      <td>105.969</td>\n",
       "      <td>moderate</td>\n",
       "    </tr>\n",
       "    <tr>\n",
       "      <th>86</th>\n",
       "      <td>In the Name of Love</td>\n",
       "      <td>0.490</td>\n",
       "      <td>0.485</td>\n",
       "      <td>-6.237</td>\n",
       "      <td>0.196</td>\n",
       "      <td>133.889</td>\n",
       "      <td>fast</td>\n",
       "    </tr>\n",
       "  </tbody>\n",
       "</table>\n",
       "</div>"
      ],
      "text/plain": [
       "                   name  danceability  energy  loudness  valence    tempo  \\\n",
       "27  Scared to Be Lonely         0.584   0.540    -7.786    0.195  137.972   \n",
       "73        There for You         0.611   0.644    -7.607    0.130  105.969   \n",
       "86  In the Name of Love         0.490   0.485    -6.237    0.196  133.889   \n",
       "\n",
       "   tempo_rate  \n",
       "27       fast  \n",
       "73   moderate  \n",
       "86       fast  "
      ]
     },
     "execution_count": 22,
     "metadata": {},
     "output_type": "execute_result"
    }
   ],
   "source": [
    "MartinGarrix  =df_2017[df_2017['artists']=='Martin Garrix']\n",
    "print(\"Martin Garrix  :\")\n",
    "MartinGarrix  [['name','danceability','energy','loudness','valence','tempo','tempo_rate']]"
   ]
  },
  {
   "cell_type": "code",
   "execution_count": 23,
   "metadata": {},
   "outputs": [
    {
     "name": "stdout",
     "output_type": "stream",
     "text": [
      "Kendrick Lamar   :\n"
     ]
    },
    {
     "data": {
      "text/html": [
       "<div>\n",
       "<style scoped>\n",
       "    .dataframe tbody tr th:only-of-type {\n",
       "        vertical-align: middle;\n",
       "    }\n",
       "\n",
       "    .dataframe tbody tr th {\n",
       "        vertical-align: top;\n",
       "    }\n",
       "\n",
       "    .dataframe thead th {\n",
       "        text-align: right;\n",
       "    }\n",
       "</style>\n",
       "<table border=\"1\" class=\"dataframe\">\n",
       "  <thead>\n",
       "    <tr style=\"text-align: right;\">\n",
       "      <th></th>\n",
       "      <th>name</th>\n",
       "      <th>danceability</th>\n",
       "      <th>energy</th>\n",
       "      <th>loudness</th>\n",
       "      <th>valence</th>\n",
       "      <th>tempo</th>\n",
       "      <th>tempo_rate</th>\n",
       "    </tr>\n",
       "  </thead>\n",
       "  <tbody>\n",
       "    <tr>\n",
       "      <th>5</th>\n",
       "      <td>HUMBLE.</td>\n",
       "      <td>0.904</td>\n",
       "      <td>0.611</td>\n",
       "      <td>-6.842</td>\n",
       "      <td>0.400</td>\n",
       "      <td>150.020</td>\n",
       "      <td>fast</td>\n",
       "    </tr>\n",
       "    <tr>\n",
       "      <th>60</th>\n",
       "      <td>DNA.</td>\n",
       "      <td>0.637</td>\n",
       "      <td>0.514</td>\n",
       "      <td>-6.763</td>\n",
       "      <td>0.402</td>\n",
       "      <td>139.931</td>\n",
       "      <td>fast</td>\n",
       "    </tr>\n",
       "  </tbody>\n",
       "</table>\n",
       "</div>"
      ],
      "text/plain": [
       "       name  danceability  energy  loudness  valence    tempo tempo_rate\n",
       "5   HUMBLE.         0.904   0.611    -6.842    0.400  150.020       fast\n",
       "60     DNA.         0.637   0.514    -6.763    0.402  139.931       fast"
      ]
     },
     "execution_count": 23,
     "metadata": {},
     "output_type": "execute_result"
    }
   ],
   "source": [
    "KendrickLamar   =df_2017[df_2017['artists']=='Kendrick Lamar']\n",
    "print(\"Kendrick Lamar   :\")\n",
    "KendrickLamar   [['name','danceability','energy','loudness','valence','tempo','tempo_rate']]"
   ]
  },
  {
   "cell_type": "markdown",
   "metadata": {},
   "source": [
    "## Here's the observation for the above  top 5 results:\n",
    "- dancebility:Range:0.49-->0.90+\n",
    "- energy:Range:0.48-->0.90+ , in general, the enegy in not very significant but  top songs have energy more than 0.48\n",
    "- loudness:more -ve loudness means more popular the song is \n",
    "- valence:Range:Not a very important criteria\n",
    "- tempo:Range:can not conclude about this, need more EDA\n",
    "- tempo rate:Range: fast and moderate are in top\n",
    "\n"
   ]
  },
  {
   "cell_type": "code",
   "execution_count": 24,
   "metadata": {},
   "outputs": [
    {
     "data": {
      "application/vnd.plotly.v1+json": {
       "config": {
        "linkText": "Export to plot.ly",
        "plotlyServerURL": "https://plot.ly",
        "showLink": false
       },
       "data": [
        {
         "marker": {
          "color": [
           0.825,
           0.6940000000000001,
           0.66,
           0.617,
           0.609,
           0.904,
           0.64,
           0.726,
           0.853,
           0.735,
           0.732,
           0.653,
           0.679,
           0.774,
           0.833,
           0.627,
           0.696,
           0.461,
           0.72,
           0.779,
           0.5429999999999999,
           0.6,
           0.358,
           0.857,
           0.7440000000000001,
           0.706,
           0.624,
           0.584,
           0.748,
           0.7070000000000001,
           0.768,
           0.6809999999999999,
           0.6709999999999999,
           0.736,
           0.7709999999999999,
           0.629,
           0.809,
           0.5770000000000001,
           0.8690000000000001,
           0.5479999999999999,
           0.599,
           0.6759999999999999,
           0.893,
           0.746,
           0.755,
           0.746,
           0.736,
           0.852,
           0.927,
           0.768,
           0.7440000000000001,
           0.927,
           0.47600000000000003,
           0.644,
           0.7909999999999999,
           0.684,
           0.703,
           0.7040000000000001,
           0.743,
           0.818,
           0.637,
           0.6829999999999999,
           0.8759999999999999,
           0.44799999999999995,
           0.741,
           0.775,
           0.314,
           0.7340000000000001,
           0.747,
           0.77,
           0.516,
           0.841,
           0.7979999999999999,
           0.611,
           0.6970000000000001,
           0.52,
           0.698,
           0.647,
           0.773,
           0.731,
           0.721,
           0.7609999999999999,
           0.6729999999999999,
           0.648,
           0.8320000000000001,
           0.752,
           0.49,
           0.608,
           0.573,
           0.544,
           0.789,
           0.855,
           0.708,
           0.7440000000000001,
           0.884,
           0.675,
           0.542,
           0.731,
           0.6579999999999999,
           0.258
          ],
          "size": 8
         },
         "mode": "markers",
         "text": [
          "Ed Sheeran - Shape of You",
          "Luis Fonsi - Despacito - Remix",
          "Luis Fonsi - Despacito (Featuring Daddy Yankee)",
          "The Chainsmokers - Something Just Like This",
          "DJ Khaled - I'm the One",
          "Kendrick Lamar - HUMBLE.",
          "Kygo - It Ain't Me (with Selena Gomez)",
          "French Montana - Unforgettable",
          "Bruno Mars - That's What I Like",
          "ZAYN - I Don’t Wanna Live Forever (Fifty Shades Darker) - From \"Fifty Shades Darker (Original Motion Picture Soundtrack)\"",
          "Lil Uzi Vert - XO TOUR Llif3",
          "The Chainsmokers - Paris",
          "Zedd - Stay (with Alessia Cara)",
          "Charlie Puth - Attention",
          "Future - Mask Off",
          "Post Malone - Congratulations",
          "Jason Derulo - Swalla (feat. Nicki Minaj & Ty Dolla $ign)",
          "Ed Sheeran - Castle on the Hill",
          "Clean Bandit - Rockabye (feat. Sean Paul & Anne-Marie)",
          "Imagine Dragons - Believer",
          "J Balvin - Mi Gente",
          "Imagine Dragons - Thunder",
          "James Arthur - Say You Won't Let Go",
          "Shawn Mendes - There's Nothing Holdin' Me Back",
          "Danny Ocean - Me Rehúso",
          "Julia Michaels - Issues",
          "Ed Sheeran - Galway Girl",
          "Martin Garrix - Scared to Be Lonely",
          "The Chainsmokers - Closer",
          "Clean Bandit - Symphony (feat. Zara Larsson)",
          "The Weeknd - I Feel It Coming",
          "The Weeknd - Starboy",
          "DJ Khaled - Wild Thoughts",
          "Calvin Harris - Slide",
          "Dua Lipa - New Rules",
          "Logic - 1-800-273-8255",
          "Drake - Passionfruit",
          "Post Malone - rockstar",
          "Liam Payne - Strip That Down",
          "David Guetta - 2U (feat. Justin Bieber)",
          "Ed Sheeran - Perfect",
          "Starley - Call On Me - Ryan Riback Extended Remix",
          "Calvin Harris - Feels",
          "Jonas Blue - Mama",
          "Maluma - Felices los 4",
          "KYLE - iSpy (feat. Lil Yachty)",
          "Khalid - Location",
          "Shakira - Chantaje",
          "Migos - Bad and Boujee (feat. Lil Uzi Vert)",
          "Camila Cabello - Havana",
          "Martin Jensen - Solo Dance",
          "Drake - Fake Love",
          "DJ Snake - Let Me Love You",
          "Axwell /\\ Ingrosso - More Than You Know",
          "Drake - One Dance",
          "Enrique Iglesias - SUBEME LA RADIO",
          "Maggie Lindemann - Pretty Girl - Cheat Codes X CADE Remix",
          "Demi Lovato - Sorry Not Sorry",
          "Childish Gambino - Redbone",
          "Bruno Mars - 24K Magic",
          "Kendrick Lamar - DNA.",
          "Nicky Jam - El Amante",
          "Jax Jones - You Don't Know Me - Radio Edit",
          "Katy Perry - Chained To The Rhythm",
          "Cheat Codes - No Promises (feat. Demi Lovato)",
          "Maroon 5 - Don't Wanna Know (feat. Kendrick Lamar)",
          "Alessia Cara - How Far I'll Go - From \"Moana\"",
          "Niall Horan - Slow Hands",
          "Wisin - Escápate Conmigo",
          "Big Sean - Bounce Back",
          "Harry Styles - Sign of the Times",
          "Travis Scott - goosebumps",
          "Khalid - Young Dumb & Broke",
          "Martin Garrix - There for You",
          "Maroon 5 - Cold (feat. Future)",
          "Marshmello - Silence",
          "Sam Smith - Too Good At Goodbyes",
          "Steve Aoki - Just Hold On",
          "Taylor Swift - Look What You Made Me Do",
          "Macklemore - Glorious (feat. Skylar Grey)",
          "Hailee Steinfeld - Starving",
          "CNCO - Reggaetón Lento (Bailemos)",
          "AJR - Weak",
          "Ariana Grande - Side To Side",
          "Zion & Lennox - Otra Vez (feat. J Balvin)",
          "Lauv - I Like Me Better",
          "Martin Garrix - In the Name of Love",
          "Major Lazer - Cold Water (feat. Justin Bieber & MØ)",
          "Miley Cyrus - Malibu",
          "The Vamps - All Night",
          "Alok - Hear Me Now",
          "Rita Ora - Your Song",
          "Chris Jeday - Ahora Dice",
          "Justin Bieber - Friends (with BloodPop®)",
          "21 Savage - Bank Account",
          "Machine Gun Kelly - Bad Things (with Camila Cabello)",
          "The Chainsmokers - Don't Let Me Down",
          "Sam Hunt - Body Like A Back Road",
          "Halsey - Now Or Never",
          "ZAYN - Dusk Till Dawn - Radio Edit"
         ],
         "type": "scatter3d",
         "x": [
          -0.4199333799687366,
          -0.41447302600778346,
          -0.175490911936707,
          0.04082356753853325,
          -0.37608595111910104,
          0.17426099030943693,
          0.12344516610463985,
          -0.29180651029355786,
          -0.21262973672090082,
          0.5084084814996155,
          0.18674568112054055,
          0.13003435600088123,
          -0.04873047830056304,
          -0.28767703341313333,
          0.8078597368251758,
          -0.25145012866911365,
          -0.4442349695747585,
          -0.10761275798636932,
          -0.37850738168086107,
          -0.3122304214625795,
          0.06795172482897686,
          -0.003904651078878778,
          0.2270499426498083,
          -0.5211067610531424,
          -0.10149812724563954,
          0.3442540202165259,
          -0.5353653059203669,
          0.4119806572536842,
          -0.05292144441339029,
          -0.02113247688671896,
          -0.17281204618984075,
          0.4054300430626641,
          -0.28782608924748376,
          -0.31539273450482347,
          -0.14444568781719253,
          0.22175099891420316,
          0.5070231430245863,
          0.5063807083837275,
          0.06533895155931066,
          0.028939539377679166,
          0.3496524716396876,
          -0.4629802669790076,
          -0.5403935618391991,
          -0.30324535565107447,
          -0.35963810646611805,
          0.04502770662123484,
          0.8388254177510528,
          -0.5689963723060402,
          0.25963843728605457,
          0.021430566433707256,
          -0.32491588309686403,
          0.5463156023501283,
          0.3045944467527556,
          -0.19379390252415654,
          0.0005348462997318411,
          -0.42602020280653635,
          -0.4235385151994006,
          0.01667836805165475,
          0.5421494731725467,
          -0.3521604007282666,
          0.5301483420591395,
          -0.08982213344787933,
          -0.08926081422966267,
          0.11765218902233696,
          -0.06030722222974868,
          0.02849531699234693,
          0.9555972273604778,
          -0.05032900628324004,
          -0.559011216745037,
          0.21343677350843532,
          0.15128027860508428,
          -0.19926016356364673,
          0.1801127875204033,
          0.30464130665170525,
          -0.023059316485979038,
          -0.027069136911462437,
          0.3315020818141105,
          -0.2921384027346482,
          0.07407590710500145,
          -0.07203590247177566,
          -0.07031374358731242,
          -0.5072467362938162,
          -0.18177202256254527,
          0.06425244739647831,
          -0.35400615109250166,
          0.40886288550137867,
          0.35941716092330545,
          -0.23502624996704735,
          0.06268168861701666,
          -0.142186914372898,
          0.3342405393376263,
          -0.3829712560838531,
          0.09844265831980745,
          -0.2952791056694114,
          0.595909421673168,
          0.1134855699431214,
          0.07622936266593526,
          0.11915106191086107,
          0.007083349972338977,
          0.6548226718921611
         ],
         "y": [
          0.6485210704897636,
          0.18974389807174644,
          -0.16557848592326233,
          -0.07118712301823091,
          0.08641567312619274,
          -0.1368981172420336,
          0.13393282024707287,
          0.0002744975972790836,
          0.08083937324458042,
          -0.12321940262039319,
          -0.3273810203721225,
          -0.1392414895974051,
          0.13112692995995318,
          0.1755396505920432,
          -0.07930375365467122,
          -0.17424093460708265,
          -0.04151621166092299,
          -0.4281277002449709,
          0.26206815224048263,
          -0.10964731534689588,
          -0.234134354419521,
          -0.6367176707027019,
          0.5481911219992567,
          0.3216872172336085,
          -0.11134815807719166,
          0.41106269926286443,
          -0.19198923876405297,
          -0.24763195264932275,
          0.48638215515702654,
          0.05403233955697426,
          0.31782696991855136,
          -0.18433832186740307,
          -0.03736002092199338,
          0.18958354175199754,
          -0.0676456310123188,
          0.4164104425903972,
          0.31428422181463656,
          -0.28504455423121305,
          0.34541291516704165,
          -0.1350623953752906,
          0.08298120006506822,
          -0.1267289842281501,
          0.1317639121976599,
          -0.01715371944058983,
          0.07752034905445143,
          0.4374170018491557,
          0.523186124514432,
          0.17886231461895538,
          -0.1287836194794616,
          0.15593647927118273,
          -0.31160073243396097,
          0.20060130964296144,
          -0.6658531308817941,
          -0.2559661286890008,
          -0.1470219946269386,
          -0.05042236846469983,
          -0.1113324589160663,
          -0.10769851477169126,
          0.1884868911450974,
          -0.08126706311604613,
          -0.13991448905320733,
          -0.12136093051961756,
          0.1106276898841124,
          -0.5824444328041664,
          -0.004606217603298509,
          0.31028281709601235,
          -0.3690961481042363,
          0.3559450583968493,
          -0.04639202329387838,
          0.11333733940206196,
          -0.27384898858032924,
          -0.16128318329990754,
          0.03968176986726562,
          -0.10959102978241392,
          0.0576012517098329,
          -0.29481169199052754,
          0.7474205750752864,
          -0.3641064864146274,
          0.04923158438489124,
          -0.31818627590499027,
          0.3265801722343353,
          0.23318909310787392,
          -0.017483215908592108,
          -0.3567287487652786,
          -0.07323286324161703,
          0.5771726264950563,
          -0.32725761690384614,
          -0.1219757094710678,
          -0.31310837564253385,
          -0.5196147902992742,
          0.5665889711191532,
          0.27232740674985473,
          -0.06758981350721172,
          -0.13786013069131375,
          0.3651254872430159,
          -0.22766129921442302,
          -0.3939906597032773,
          0.5602686693764224,
          -0.022485878584386908,
          -0.4793982178810282
         ],
         "z": [
          -0.05767647546164555,
          0.10257397167329088,
          0.22716759285069527,
          -0.1368878880370716,
          -0.010164628018362692,
          0.14351837745681506,
          -0.0900709325901573,
          0.2064947145898583,
          0.18350279199661745,
          -0.1451458808885741,
          0.3083160244186451,
          -0.2148653452593383,
          -0.14436523087240263,
          0.050219668116639374,
          0.6714804162629425,
          -0.17271329819834208,
          0.1693045880414221,
          -0.08013215000267342,
          -0.11666646778164141,
          0.19811596948768406,
          -0.12859434554797042,
          -0.17746321636215348,
          -0.5900713391011582,
          0.0774082973904536,
          0.0018239134055834973,
          -0.22735534878368696,
          0.1389241248592363,
          -0.20883607492600575,
          -0.19629183820869572,
          -0.17109110145596718,
          -0.023584492163397985,
          0.3430139218270991,
          0.002715232221603244,
          -0.24113511423922315,
          0.15660217804878163,
          -0.4133391843695081,
          -0.14119825718831572,
          -0.22627821764406636,
          -0.061323607864833325,
          -0.1580237191786439,
          -0.3814449899942952,
          0.012895361429681012,
          0.20493842454010103,
          -0.06009230227920837,
          0.20302294494348772,
          0.3291659712462677,
          0.45092268481577674,
          0.1799569404705653,
          0.29469964727160813,
          -0.18386557656449967,
          -0.07779882689221937,
          0.8117785064163656,
          -0.30815445627771293,
          -0.048002167635491,
          0.020861843667903703,
          0.02557271265416569,
          -0.04644246661273702,
          0.5215286462159048,
          0.024859945239459457,
          0.14717643629746358,
          0.4624369517083399,
          -0.049212570641201686,
          0.25496916657858326,
          0.018545916011140518,
          0.1607578983879067,
          -0.13503115503332447,
          0.13469646614703693,
          0.10201502112715918,
          0.10304316576536295,
          0.07020917811312477,
          -0.3161974887994923,
          -0.02135848464600079,
          -0.11733308228820682,
          -0.269021567380885,
          0.025191918238955512,
          -0.29322800288207496,
          -0.355725644842526,
          -0.05507270510827182,
          0.08666052933082424,
          -0.06124225375533921,
          -0.09468953950795175,
          -0.11220796243736969,
          -0.046542435433816344,
          0.38197338057092667,
          0.27290875151960503,
          0.0501921953159267,
          -0.28913509297316137,
          -0.11630648420104261,
          -0.17250508289830094,
          -0.10398870335880893,
          -0.3191904482470727,
          0.14945539941726016,
          -0.007769364540481178,
          0.08621024862567006,
          0.5473773707495098,
          -0.06507727597149582,
          0.059549680329739424,
          -0.2358639934765759,
          -0.16987663137473194,
          -0.5291041755950595
         ]
        }
       ],
       "layout": {
        "template": {
         "data": {
          "bar": [
           {
            "error_x": {
             "color": "#2a3f5f"
            },
            "error_y": {
             "color": "#2a3f5f"
            },
            "marker": {
             "line": {
              "color": "#E5ECF6",
              "width": 0.5
             }
            },
            "type": "bar"
           }
          ],
          "barpolar": [
           {
            "marker": {
             "line": {
              "color": "#E5ECF6",
              "width": 0.5
             }
            },
            "type": "barpolar"
           }
          ],
          "carpet": [
           {
            "aaxis": {
             "endlinecolor": "#2a3f5f",
             "gridcolor": "white",
             "linecolor": "white",
             "minorgridcolor": "white",
             "startlinecolor": "#2a3f5f"
            },
            "baxis": {
             "endlinecolor": "#2a3f5f",
             "gridcolor": "white",
             "linecolor": "white",
             "minorgridcolor": "white",
             "startlinecolor": "#2a3f5f"
            },
            "type": "carpet"
           }
          ],
          "choropleth": [
           {
            "colorbar": {
             "outlinewidth": 0,
             "ticks": ""
            },
            "type": "choropleth"
           }
          ],
          "contour": [
           {
            "colorbar": {
             "outlinewidth": 0,
             "ticks": ""
            },
            "colorscale": [
             [
              0,
              "#0d0887"
             ],
             [
              0.1111111111111111,
              "#46039f"
             ],
             [
              0.2222222222222222,
              "#7201a8"
             ],
             [
              0.3333333333333333,
              "#9c179e"
             ],
             [
              0.4444444444444444,
              "#bd3786"
             ],
             [
              0.5555555555555556,
              "#d8576b"
             ],
             [
              0.6666666666666666,
              "#ed7953"
             ],
             [
              0.7777777777777778,
              "#fb9f3a"
             ],
             [
              0.8888888888888888,
              "#fdca26"
             ],
             [
              1,
              "#f0f921"
             ]
            ],
            "type": "contour"
           }
          ],
          "contourcarpet": [
           {
            "colorbar": {
             "outlinewidth": 0,
             "ticks": ""
            },
            "type": "contourcarpet"
           }
          ],
          "heatmap": [
           {
            "colorbar": {
             "outlinewidth": 0,
             "ticks": ""
            },
            "colorscale": [
             [
              0,
              "#0d0887"
             ],
             [
              0.1111111111111111,
              "#46039f"
             ],
             [
              0.2222222222222222,
              "#7201a8"
             ],
             [
              0.3333333333333333,
              "#9c179e"
             ],
             [
              0.4444444444444444,
              "#bd3786"
             ],
             [
              0.5555555555555556,
              "#d8576b"
             ],
             [
              0.6666666666666666,
              "#ed7953"
             ],
             [
              0.7777777777777778,
              "#fb9f3a"
             ],
             [
              0.8888888888888888,
              "#fdca26"
             ],
             [
              1,
              "#f0f921"
             ]
            ],
            "type": "heatmap"
           }
          ],
          "heatmapgl": [
           {
            "colorbar": {
             "outlinewidth": 0,
             "ticks": ""
            },
            "colorscale": [
             [
              0,
              "#0d0887"
             ],
             [
              0.1111111111111111,
              "#46039f"
             ],
             [
              0.2222222222222222,
              "#7201a8"
             ],
             [
              0.3333333333333333,
              "#9c179e"
             ],
             [
              0.4444444444444444,
              "#bd3786"
             ],
             [
              0.5555555555555556,
              "#d8576b"
             ],
             [
              0.6666666666666666,
              "#ed7953"
             ],
             [
              0.7777777777777778,
              "#fb9f3a"
             ],
             [
              0.8888888888888888,
              "#fdca26"
             ],
             [
              1,
              "#f0f921"
             ]
            ],
            "type": "heatmapgl"
           }
          ],
          "histogram": [
           {
            "marker": {
             "colorbar": {
              "outlinewidth": 0,
              "ticks": ""
             }
            },
            "type": "histogram"
           }
          ],
          "histogram2d": [
           {
            "colorbar": {
             "outlinewidth": 0,
             "ticks": ""
            },
            "colorscale": [
             [
              0,
              "#0d0887"
             ],
             [
              0.1111111111111111,
              "#46039f"
             ],
             [
              0.2222222222222222,
              "#7201a8"
             ],
             [
              0.3333333333333333,
              "#9c179e"
             ],
             [
              0.4444444444444444,
              "#bd3786"
             ],
             [
              0.5555555555555556,
              "#d8576b"
             ],
             [
              0.6666666666666666,
              "#ed7953"
             ],
             [
              0.7777777777777778,
              "#fb9f3a"
             ],
             [
              0.8888888888888888,
              "#fdca26"
             ],
             [
              1,
              "#f0f921"
             ]
            ],
            "type": "histogram2d"
           }
          ],
          "histogram2dcontour": [
           {
            "colorbar": {
             "outlinewidth": 0,
             "ticks": ""
            },
            "colorscale": [
             [
              0,
              "#0d0887"
             ],
             [
              0.1111111111111111,
              "#46039f"
             ],
             [
              0.2222222222222222,
              "#7201a8"
             ],
             [
              0.3333333333333333,
              "#9c179e"
             ],
             [
              0.4444444444444444,
              "#bd3786"
             ],
             [
              0.5555555555555556,
              "#d8576b"
             ],
             [
              0.6666666666666666,
              "#ed7953"
             ],
             [
              0.7777777777777778,
              "#fb9f3a"
             ],
             [
              0.8888888888888888,
              "#fdca26"
             ],
             [
              1,
              "#f0f921"
             ]
            ],
            "type": "histogram2dcontour"
           }
          ],
          "mesh3d": [
           {
            "colorbar": {
             "outlinewidth": 0,
             "ticks": ""
            },
            "type": "mesh3d"
           }
          ],
          "parcoords": [
           {
            "line": {
             "colorbar": {
              "outlinewidth": 0,
              "ticks": ""
             }
            },
            "type": "parcoords"
           }
          ],
          "pie": [
           {
            "automargin": true,
            "type": "pie"
           }
          ],
          "scatter": [
           {
            "marker": {
             "colorbar": {
              "outlinewidth": 0,
              "ticks": ""
             }
            },
            "type": "scatter"
           }
          ],
          "scatter3d": [
           {
            "line": {
             "colorbar": {
              "outlinewidth": 0,
              "ticks": ""
             }
            },
            "marker": {
             "colorbar": {
              "outlinewidth": 0,
              "ticks": ""
             }
            },
            "type": "scatter3d"
           }
          ],
          "scattercarpet": [
           {
            "marker": {
             "colorbar": {
              "outlinewidth": 0,
              "ticks": ""
             }
            },
            "type": "scattercarpet"
           }
          ],
          "scattergeo": [
           {
            "marker": {
             "colorbar": {
              "outlinewidth": 0,
              "ticks": ""
             }
            },
            "type": "scattergeo"
           }
          ],
          "scattergl": [
           {
            "marker": {
             "colorbar": {
              "outlinewidth": 0,
              "ticks": ""
             }
            },
            "type": "scattergl"
           }
          ],
          "scattermapbox": [
           {
            "marker": {
             "colorbar": {
              "outlinewidth": 0,
              "ticks": ""
             }
            },
            "type": "scattermapbox"
           }
          ],
          "scatterpolar": [
           {
            "marker": {
             "colorbar": {
              "outlinewidth": 0,
              "ticks": ""
             }
            },
            "type": "scatterpolar"
           }
          ],
          "scatterpolargl": [
           {
            "marker": {
             "colorbar": {
              "outlinewidth": 0,
              "ticks": ""
             }
            },
            "type": "scatterpolargl"
           }
          ],
          "scatterternary": [
           {
            "marker": {
             "colorbar": {
              "outlinewidth": 0,
              "ticks": ""
             }
            },
            "type": "scatterternary"
           }
          ],
          "surface": [
           {
            "colorbar": {
             "outlinewidth": 0,
             "ticks": ""
            },
            "colorscale": [
             [
              0,
              "#0d0887"
             ],
             [
              0.1111111111111111,
              "#46039f"
             ],
             [
              0.2222222222222222,
              "#7201a8"
             ],
             [
              0.3333333333333333,
              "#9c179e"
             ],
             [
              0.4444444444444444,
              "#bd3786"
             ],
             [
              0.5555555555555556,
              "#d8576b"
             ],
             [
              0.6666666666666666,
              "#ed7953"
             ],
             [
              0.7777777777777778,
              "#fb9f3a"
             ],
             [
              0.8888888888888888,
              "#fdca26"
             ],
             [
              1,
              "#f0f921"
             ]
            ],
            "type": "surface"
           }
          ],
          "table": [
           {
            "cells": {
             "fill": {
              "color": "#EBF0F8"
             },
             "line": {
              "color": "white"
             }
            },
            "header": {
             "fill": {
              "color": "#C8D4E3"
             },
             "line": {
              "color": "white"
             }
            },
            "type": "table"
           }
          ]
         },
         "layout": {
          "annotationdefaults": {
           "arrowcolor": "#2a3f5f",
           "arrowhead": 0,
           "arrowwidth": 1
          },
          "coloraxis": {
           "colorbar": {
            "outlinewidth": 0,
            "ticks": ""
           }
          },
          "colorscale": {
           "diverging": [
            [
             0,
             "#8e0152"
            ],
            [
             0.1,
             "#c51b7d"
            ],
            [
             0.2,
             "#de77ae"
            ],
            [
             0.3,
             "#f1b6da"
            ],
            [
             0.4,
             "#fde0ef"
            ],
            [
             0.5,
             "#f7f7f7"
            ],
            [
             0.6,
             "#e6f5d0"
            ],
            [
             0.7,
             "#b8e186"
            ],
            [
             0.8,
             "#7fbc41"
            ],
            [
             0.9,
             "#4d9221"
            ],
            [
             1,
             "#276419"
            ]
           ],
           "sequential": [
            [
             0,
             "#0d0887"
            ],
            [
             0.1111111111111111,
             "#46039f"
            ],
            [
             0.2222222222222222,
             "#7201a8"
            ],
            [
             0.3333333333333333,
             "#9c179e"
            ],
            [
             0.4444444444444444,
             "#bd3786"
            ],
            [
             0.5555555555555556,
             "#d8576b"
            ],
            [
             0.6666666666666666,
             "#ed7953"
            ],
            [
             0.7777777777777778,
             "#fb9f3a"
            ],
            [
             0.8888888888888888,
             "#fdca26"
            ],
            [
             1,
             "#f0f921"
            ]
           ],
           "sequentialminus": [
            [
             0,
             "#0d0887"
            ],
            [
             0.1111111111111111,
             "#46039f"
            ],
            [
             0.2222222222222222,
             "#7201a8"
            ],
            [
             0.3333333333333333,
             "#9c179e"
            ],
            [
             0.4444444444444444,
             "#bd3786"
            ],
            [
             0.5555555555555556,
             "#d8576b"
            ],
            [
             0.6666666666666666,
             "#ed7953"
            ],
            [
             0.7777777777777778,
             "#fb9f3a"
            ],
            [
             0.8888888888888888,
             "#fdca26"
            ],
            [
             1,
             "#f0f921"
            ]
           ]
          },
          "colorway": [
           "#636efa",
           "#EF553B",
           "#00cc96",
           "#ab63fa",
           "#FFA15A",
           "#19d3f3",
           "#FF6692",
           "#B6E880",
           "#FF97FF",
           "#FECB52"
          ],
          "font": {
           "color": "#2a3f5f"
          },
          "geo": {
           "bgcolor": "white",
           "lakecolor": "white",
           "landcolor": "#E5ECF6",
           "showlakes": true,
           "showland": true,
           "subunitcolor": "white"
          },
          "hoverlabel": {
           "align": "left"
          },
          "hovermode": "closest",
          "mapbox": {
           "style": "light"
          },
          "paper_bgcolor": "white",
          "plot_bgcolor": "#E5ECF6",
          "polar": {
           "angularaxis": {
            "gridcolor": "white",
            "linecolor": "white",
            "ticks": ""
           },
           "bgcolor": "#E5ECF6",
           "radialaxis": {
            "gridcolor": "white",
            "linecolor": "white",
            "ticks": ""
           }
          },
          "scene": {
           "xaxis": {
            "backgroundcolor": "#E5ECF6",
            "gridcolor": "white",
            "gridwidth": 2,
            "linecolor": "white",
            "showbackground": true,
            "ticks": "",
            "zerolinecolor": "white"
           },
           "yaxis": {
            "backgroundcolor": "#E5ECF6",
            "gridcolor": "white",
            "gridwidth": 2,
            "linecolor": "white",
            "showbackground": true,
            "ticks": "",
            "zerolinecolor": "white"
           },
           "zaxis": {
            "backgroundcolor": "#E5ECF6",
            "gridcolor": "white",
            "gridwidth": 2,
            "linecolor": "white",
            "showbackground": true,
            "ticks": "",
            "zerolinecolor": "white"
           }
          },
          "shapedefaults": {
           "line": {
            "color": "#2a3f5f"
           }
          },
          "ternary": {
           "aaxis": {
            "gridcolor": "white",
            "linecolor": "white",
            "ticks": ""
           },
           "baxis": {
            "gridcolor": "white",
            "linecolor": "white",
            "ticks": ""
           },
           "bgcolor": "#E5ECF6",
           "caxis": {
            "gridcolor": "white",
            "linecolor": "white",
            "ticks": ""
           }
          },
          "title": {
           "x": 0.05
          },
          "xaxis": {
           "automargin": true,
           "gridcolor": "white",
           "linecolor": "white",
           "ticks": "",
           "title": {
            "standoff": 15
           },
           "zerolinecolor": "white",
           "zerolinewidth": 2
          },
          "yaxis": {
           "automargin": true,
           "gridcolor": "white",
           "linecolor": "white",
           "ticks": "",
           "title": {
            "standoff": 15
           },
           "zerolinecolor": "white",
           "zerolinewidth": 2
          }
         }
        }
       }
      },
      "text/html": [
       "<div>\n",
       "        \n",
       "        \n",
       "            <div id=\"98977c99-be13-4981-a219-1e4e1eb30442\" class=\"plotly-graph-div\" style=\"height:525px; width:100%;\"></div>\n",
       "            <script type=\"text/javascript\">\n",
       "                require([\"plotly\"], function(Plotly) {\n",
       "                    window.PLOTLYENV=window.PLOTLYENV || {};\n",
       "                    \n",
       "                if (document.getElementById(\"98977c99-be13-4981-a219-1e4e1eb30442\")) {\n",
       "                    Plotly.newPlot(\n",
       "                        '98977c99-be13-4981-a219-1e4e1eb30442',\n",
       "                        [{\"marker\": {\"color\": [0.825, 0.6940000000000001, 0.66, 0.617, 0.609, 0.904, 0.64, 0.726, 0.853, 0.735, 0.732, 0.653, 0.679, 0.774, 0.833, 0.627, 0.696, 0.461, 0.72, 0.779, 0.5429999999999999, 0.6, 0.358, 0.857, 0.7440000000000001, 0.706, 0.624, 0.584, 0.748, 0.7070000000000001, 0.768, 0.6809999999999999, 0.6709999999999999, 0.736, 0.7709999999999999, 0.629, 0.809, 0.5770000000000001, 0.8690000000000001, 0.5479999999999999, 0.599, 0.6759999999999999, 0.893, 0.746, 0.755, 0.746, 0.736, 0.852, 0.927, 0.768, 0.7440000000000001, 0.927, 0.47600000000000003, 0.644, 0.7909999999999999, 0.684, 0.703, 0.7040000000000001, 0.743, 0.818, 0.637, 0.6829999999999999, 0.8759999999999999, 0.44799999999999995, 0.741, 0.775, 0.314, 0.7340000000000001, 0.747, 0.77, 0.516, 0.841, 0.7979999999999999, 0.611, 0.6970000000000001, 0.52, 0.698, 0.647, 0.773, 0.731, 0.721, 0.7609999999999999, 0.6729999999999999, 0.648, 0.8320000000000001, 0.752, 0.49, 0.608, 0.573, 0.544, 0.789, 0.855, 0.708, 0.7440000000000001, 0.884, 0.675, 0.542, 0.731, 0.6579999999999999, 0.258], \"size\": 8}, \"mode\": \"markers\", \"text\": [\"Ed Sheeran - Shape of You\", \"Luis Fonsi - Despacito - Remix\", \"Luis Fonsi - Despacito (Featuring Daddy Yankee)\", \"The Chainsmokers - Something Just Like This\", \"DJ Khaled - I'm the One\", \"Kendrick Lamar - HUMBLE.\", \"Kygo - It Ain't Me (with Selena Gomez)\", \"French Montana - Unforgettable\", \"Bruno Mars - That's What I Like\", \"ZAYN - I Don\\u2019t Wanna Live Forever (Fifty Shades Darker) - From \\\"Fifty Shades Darker (Original Motion Picture Soundtrack)\\\"\", \"Lil Uzi Vert - XO TOUR Llif3\", \"The Chainsmokers - Paris\", \"Zedd - Stay (with Alessia Cara)\", \"Charlie Puth - Attention\", \"Future - Mask Off\", \"Post Malone - Congratulations\", \"Jason Derulo - Swalla (feat. Nicki Minaj & Ty Dolla $ign)\", \"Ed Sheeran - Castle on the Hill\", \"Clean Bandit - Rockabye (feat. Sean Paul & Anne-Marie)\", \"Imagine Dragons - Believer\", \"J Balvin - Mi Gente\", \"Imagine Dragons - Thunder\", \"James Arthur - Say You Won't Let Go\", \"Shawn Mendes - There's Nothing Holdin' Me Back\", \"Danny Ocean - Me Reh\\u00faso\", \"Julia Michaels - Issues\", \"Ed Sheeran - Galway Girl\", \"Martin Garrix - Scared to Be Lonely\", \"The Chainsmokers - Closer\", \"Clean Bandit - Symphony (feat. Zara Larsson)\", \"The Weeknd - I Feel It Coming\", \"The Weeknd - Starboy\", \"DJ Khaled - Wild Thoughts\", \"Calvin Harris - Slide\", \"Dua Lipa - New Rules\", \"Logic - 1-800-273-8255\", \"Drake - Passionfruit\", \"Post Malone - rockstar\", \"Liam Payne - Strip That Down\", \"David Guetta - 2U (feat. Justin Bieber)\", \"Ed Sheeran - Perfect\", \"Starley - Call On Me - Ryan Riback Extended Remix\", \"Calvin Harris - Feels\", \"Jonas Blue - Mama\", \"Maluma - Felices los 4\", \"KYLE - iSpy (feat. Lil Yachty)\", \"Khalid - Location\", \"Shakira - Chantaje\", \"Migos - Bad and Boujee (feat. Lil Uzi Vert)\", \"Camila Cabello - Havana\", \"Martin Jensen - Solo Dance\", \"Drake - Fake Love\", \"DJ Snake - Let Me Love You\", \"Axwell /\\\\ Ingrosso - More Than You Know\", \"Drake - One Dance\", \"Enrique Iglesias - SUBEME LA RADIO\", \"Maggie Lindemann - Pretty Girl - Cheat Codes X CADE Remix\", \"Demi Lovato - Sorry Not Sorry\", \"Childish Gambino - Redbone\", \"Bruno Mars - 24K Magic\", \"Kendrick Lamar - DNA.\", \"Nicky Jam - El Amante\", \"Jax Jones - You Don't Know Me - Radio Edit\", \"Katy Perry - Chained To The Rhythm\", \"Cheat Codes - No Promises (feat. Demi Lovato)\", \"Maroon 5 - Don't Wanna Know (feat. Kendrick Lamar)\", \"Alessia Cara - How Far I'll Go - From \\\"Moana\\\"\", \"Niall Horan - Slow Hands\", \"Wisin - Esc\\u00e1pate Conmigo\", \"Big Sean - Bounce Back\", \"Harry Styles - Sign of the Times\", \"Travis Scott - goosebumps\", \"Khalid - Young Dumb & Broke\", \"Martin Garrix - There for You\", \"Maroon 5 - Cold (feat. Future)\", \"Marshmello - Silence\", \"Sam Smith - Too Good At Goodbyes\", \"Steve Aoki - Just Hold On\", \"Taylor Swift - Look What You Made Me Do\", \"Macklemore - Glorious (feat. Skylar Grey)\", \"Hailee Steinfeld - Starving\", \"CNCO - Reggaet\\u00f3n Lento (Bailemos)\", \"AJR - Weak\", \"Ariana Grande - Side To Side\", \"Zion & Lennox - Otra Vez (feat. J Balvin)\", \"Lauv - I Like Me Better\", \"Martin Garrix - In the Name of Love\", \"Major Lazer - Cold Water (feat. Justin Bieber & M\\u00d8)\", \"Miley Cyrus - Malibu\", \"The Vamps - All Night\", \"Alok - Hear Me Now\", \"Rita Ora - Your Song\", \"Chris Jeday - Ahora Dice\", \"Justin Bieber - Friends (with BloodPop\\u00ae)\", \"21 Savage - Bank Account\", \"Machine Gun Kelly - Bad Things (with Camila Cabello)\", \"The Chainsmokers - Don't Let Me Down\", \"Sam Hunt - Body Like A Back Road\", \"Halsey - Now Or Never\", \"ZAYN - Dusk Till Dawn - Radio Edit\"], \"type\": \"scatter3d\", \"x\": [-0.4199333799687366, -0.41447302600778346, -0.175490911936707, 0.04082356753853325, -0.37608595111910104, 0.17426099030943693, 0.12344516610463985, -0.29180651029355786, -0.21262973672090082, 0.5084084814996155, 0.18674568112054055, 0.13003435600088123, -0.04873047830056304, -0.28767703341313333, 0.8078597368251758, -0.25145012866911365, -0.4442349695747585, -0.10761275798636932, -0.37850738168086107, -0.3122304214625795, 0.06795172482897686, -0.003904651078878778, 0.2270499426498083, -0.5211067610531424, -0.10149812724563954, 0.3442540202165259, -0.5353653059203669, 0.4119806572536842, -0.05292144441339029, -0.02113247688671896, -0.17281204618984075, 0.4054300430626641, -0.28782608924748376, -0.31539273450482347, -0.14444568781719253, 0.22175099891420316, 0.5070231430245863, 0.5063807083837275, 0.06533895155931066, 0.028939539377679166, 0.3496524716396876, -0.4629802669790076, -0.5403935618391991, -0.30324535565107447, -0.35963810646611805, 0.04502770662123484, 0.8388254177510528, -0.5689963723060402, 0.25963843728605457, 0.021430566433707256, -0.32491588309686403, 0.5463156023501283, 0.3045944467527556, -0.19379390252415654, 0.0005348462997318411, -0.42602020280653635, -0.4235385151994006, 0.01667836805165475, 0.5421494731725467, -0.3521604007282666, 0.5301483420591395, -0.08982213344787933, -0.08926081422966267, 0.11765218902233696, -0.06030722222974868, 0.02849531699234693, 0.9555972273604778, -0.05032900628324004, -0.559011216745037, 0.21343677350843532, 0.15128027860508428, -0.19926016356364673, 0.1801127875204033, 0.30464130665170525, -0.023059316485979038, -0.027069136911462437, 0.3315020818141105, -0.2921384027346482, 0.07407590710500145, -0.07203590247177566, -0.07031374358731242, -0.5072467362938162, -0.18177202256254527, 0.06425244739647831, -0.35400615109250166, 0.40886288550137867, 0.35941716092330545, -0.23502624996704735, 0.06268168861701666, -0.142186914372898, 0.3342405393376263, -0.3829712560838531, 0.09844265831980745, -0.2952791056694114, 0.595909421673168, 0.1134855699431214, 0.07622936266593526, 0.11915106191086107, 0.007083349972338977, 0.6548226718921611], \"y\": [0.6485210704897636, 0.18974389807174644, -0.16557848592326233, -0.07118712301823091, 0.08641567312619274, -0.1368981172420336, 0.13393282024707287, 0.0002744975972790836, 0.08083937324458042, -0.12321940262039319, -0.3273810203721225, -0.1392414895974051, 0.13112692995995318, 0.1755396505920432, -0.07930375365467122, -0.17424093460708265, -0.04151621166092299, -0.4281277002449709, 0.26206815224048263, -0.10964731534689588, -0.234134354419521, -0.6367176707027019, 0.5481911219992567, 0.3216872172336085, -0.11134815807719166, 0.41106269926286443, -0.19198923876405297, -0.24763195264932275, 0.48638215515702654, 0.05403233955697426, 0.31782696991855136, -0.18433832186740307, -0.03736002092199338, 0.18958354175199754, -0.0676456310123188, 0.4164104425903972, 0.31428422181463656, -0.28504455423121305, 0.34541291516704165, -0.1350623953752906, 0.08298120006506822, -0.1267289842281501, 0.1317639121976599, -0.01715371944058983, 0.07752034905445143, 0.4374170018491557, 0.523186124514432, 0.17886231461895538, -0.1287836194794616, 0.15593647927118273, -0.31160073243396097, 0.20060130964296144, -0.6658531308817941, -0.2559661286890008, -0.1470219946269386, -0.05042236846469983, -0.1113324589160663, -0.10769851477169126, 0.1884868911450974, -0.08126706311604613, -0.13991448905320733, -0.12136093051961756, 0.1106276898841124, -0.5824444328041664, -0.004606217603298509, 0.31028281709601235, -0.3690961481042363, 0.3559450583968493, -0.04639202329387838, 0.11333733940206196, -0.27384898858032924, -0.16128318329990754, 0.03968176986726562, -0.10959102978241392, 0.0576012517098329, -0.29481169199052754, 0.7474205750752864, -0.3641064864146274, 0.04923158438489124, -0.31818627590499027, 0.3265801722343353, 0.23318909310787392, -0.017483215908592108, -0.3567287487652786, -0.07323286324161703, 0.5771726264950563, -0.32725761690384614, -0.1219757094710678, -0.31310837564253385, -0.5196147902992742, 0.5665889711191532, 0.27232740674985473, -0.06758981350721172, -0.13786013069131375, 0.3651254872430159, -0.22766129921442302, -0.3939906597032773, 0.5602686693764224, -0.022485878584386908, -0.4793982178810282], \"z\": [-0.05767647546164555, 0.10257397167329088, 0.22716759285069527, -0.1368878880370716, -0.010164628018362692, 0.14351837745681506, -0.0900709325901573, 0.2064947145898583, 0.18350279199661745, -0.1451458808885741, 0.3083160244186451, -0.2148653452593383, -0.14436523087240263, 0.050219668116639374, 0.6714804162629425, -0.17271329819834208, 0.1693045880414221, -0.08013215000267342, -0.11666646778164141, 0.19811596948768406, -0.12859434554797042, -0.17746321636215348, -0.5900713391011582, 0.0774082973904536, 0.0018239134055834973, -0.22735534878368696, 0.1389241248592363, -0.20883607492600575, -0.19629183820869572, -0.17109110145596718, -0.023584492163397985, 0.3430139218270991, 0.002715232221603244, -0.24113511423922315, 0.15660217804878163, -0.4133391843695081, -0.14119825718831572, -0.22627821764406636, -0.061323607864833325, -0.1580237191786439, -0.3814449899942952, 0.012895361429681012, 0.20493842454010103, -0.06009230227920837, 0.20302294494348772, 0.3291659712462677, 0.45092268481577674, 0.1799569404705653, 0.29469964727160813, -0.18386557656449967, -0.07779882689221937, 0.8117785064163656, -0.30815445627771293, -0.048002167635491, 0.020861843667903703, 0.02557271265416569, -0.04644246661273702, 0.5215286462159048, 0.024859945239459457, 0.14717643629746358, 0.4624369517083399, -0.049212570641201686, 0.25496916657858326, 0.018545916011140518, 0.1607578983879067, -0.13503115503332447, 0.13469646614703693, 0.10201502112715918, 0.10304316576536295, 0.07020917811312477, -0.3161974887994923, -0.02135848464600079, -0.11733308228820682, -0.269021567380885, 0.025191918238955512, -0.29322800288207496, -0.355725644842526, -0.05507270510827182, 0.08666052933082424, -0.06124225375533921, -0.09468953950795175, -0.11220796243736969, -0.046542435433816344, 0.38197338057092667, 0.27290875151960503, 0.0501921953159267, -0.28913509297316137, -0.11630648420104261, -0.17250508289830094, -0.10398870335880893, -0.3191904482470727, 0.14945539941726016, -0.007769364540481178, 0.08621024862567006, 0.5473773707495098, -0.06507727597149582, 0.059549680329739424, -0.2358639934765759, -0.16987663137473194, -0.5291041755950595]}],\n",
       "                        {\"template\": {\"data\": {\"bar\": [{\"error_x\": {\"color\": \"#2a3f5f\"}, \"error_y\": {\"color\": \"#2a3f5f\"}, \"marker\": {\"line\": {\"color\": \"#E5ECF6\", \"width\": 0.5}}, \"type\": \"bar\"}], \"barpolar\": [{\"marker\": {\"line\": {\"color\": \"#E5ECF6\", \"width\": 0.5}}, \"type\": \"barpolar\"}], \"carpet\": [{\"aaxis\": {\"endlinecolor\": \"#2a3f5f\", \"gridcolor\": \"white\", \"linecolor\": \"white\", \"minorgridcolor\": \"white\", \"startlinecolor\": \"#2a3f5f\"}, \"baxis\": {\"endlinecolor\": \"#2a3f5f\", \"gridcolor\": \"white\", \"linecolor\": \"white\", \"minorgridcolor\": \"white\", \"startlinecolor\": \"#2a3f5f\"}, \"type\": \"carpet\"}], \"choropleth\": [{\"colorbar\": {\"outlinewidth\": 0, \"ticks\": \"\"}, \"type\": \"choropleth\"}], \"contour\": [{\"colorbar\": {\"outlinewidth\": 0, \"ticks\": \"\"}, \"colorscale\": [[0.0, \"#0d0887\"], [0.1111111111111111, \"#46039f\"], [0.2222222222222222, \"#7201a8\"], [0.3333333333333333, \"#9c179e\"], [0.4444444444444444, \"#bd3786\"], [0.5555555555555556, \"#d8576b\"], [0.6666666666666666, \"#ed7953\"], [0.7777777777777778, \"#fb9f3a\"], [0.8888888888888888, \"#fdca26\"], [1.0, \"#f0f921\"]], \"type\": \"contour\"}], \"contourcarpet\": [{\"colorbar\": {\"outlinewidth\": 0, \"ticks\": \"\"}, \"type\": \"contourcarpet\"}], \"heatmap\": [{\"colorbar\": {\"outlinewidth\": 0, \"ticks\": \"\"}, \"colorscale\": [[0.0, \"#0d0887\"], [0.1111111111111111, \"#46039f\"], [0.2222222222222222, \"#7201a8\"], [0.3333333333333333, \"#9c179e\"], [0.4444444444444444, \"#bd3786\"], [0.5555555555555556, \"#d8576b\"], [0.6666666666666666, \"#ed7953\"], [0.7777777777777778, \"#fb9f3a\"], [0.8888888888888888, \"#fdca26\"], [1.0, \"#f0f921\"]], \"type\": \"heatmap\"}], \"heatmapgl\": [{\"colorbar\": {\"outlinewidth\": 0, \"ticks\": \"\"}, \"colorscale\": [[0.0, \"#0d0887\"], [0.1111111111111111, \"#46039f\"], [0.2222222222222222, \"#7201a8\"], [0.3333333333333333, \"#9c179e\"], [0.4444444444444444, \"#bd3786\"], [0.5555555555555556, \"#d8576b\"], [0.6666666666666666, \"#ed7953\"], [0.7777777777777778, \"#fb9f3a\"], [0.8888888888888888, \"#fdca26\"], [1.0, \"#f0f921\"]], \"type\": \"heatmapgl\"}], \"histogram\": [{\"marker\": {\"colorbar\": {\"outlinewidth\": 0, \"ticks\": \"\"}}, \"type\": \"histogram\"}], \"histogram2d\": [{\"colorbar\": {\"outlinewidth\": 0, \"ticks\": \"\"}, \"colorscale\": [[0.0, \"#0d0887\"], [0.1111111111111111, \"#46039f\"], [0.2222222222222222, \"#7201a8\"], [0.3333333333333333, \"#9c179e\"], [0.4444444444444444, \"#bd3786\"], [0.5555555555555556, \"#d8576b\"], [0.6666666666666666, \"#ed7953\"], [0.7777777777777778, \"#fb9f3a\"], [0.8888888888888888, \"#fdca26\"], [1.0, \"#f0f921\"]], \"type\": \"histogram2d\"}], \"histogram2dcontour\": [{\"colorbar\": {\"outlinewidth\": 0, \"ticks\": \"\"}, \"colorscale\": [[0.0, \"#0d0887\"], [0.1111111111111111, \"#46039f\"], [0.2222222222222222, \"#7201a8\"], [0.3333333333333333, \"#9c179e\"], [0.4444444444444444, \"#bd3786\"], [0.5555555555555556, \"#d8576b\"], [0.6666666666666666, \"#ed7953\"], [0.7777777777777778, \"#fb9f3a\"], [0.8888888888888888, \"#fdca26\"], [1.0, \"#f0f921\"]], \"type\": \"histogram2dcontour\"}], \"mesh3d\": [{\"colorbar\": {\"outlinewidth\": 0, \"ticks\": \"\"}, \"type\": \"mesh3d\"}], \"parcoords\": [{\"line\": {\"colorbar\": {\"outlinewidth\": 0, \"ticks\": \"\"}}, \"type\": \"parcoords\"}], \"pie\": [{\"automargin\": true, \"type\": \"pie\"}], \"scatter\": [{\"marker\": {\"colorbar\": {\"outlinewidth\": 0, \"ticks\": \"\"}}, \"type\": \"scatter\"}], \"scatter3d\": [{\"line\": {\"colorbar\": {\"outlinewidth\": 0, \"ticks\": \"\"}}, \"marker\": {\"colorbar\": {\"outlinewidth\": 0, \"ticks\": \"\"}}, \"type\": \"scatter3d\"}], \"scattercarpet\": [{\"marker\": {\"colorbar\": {\"outlinewidth\": 0, \"ticks\": \"\"}}, \"type\": \"scattercarpet\"}], \"scattergeo\": [{\"marker\": {\"colorbar\": {\"outlinewidth\": 0, \"ticks\": \"\"}}, \"type\": \"scattergeo\"}], \"scattergl\": [{\"marker\": {\"colorbar\": {\"outlinewidth\": 0, \"ticks\": \"\"}}, \"type\": \"scattergl\"}], \"scattermapbox\": [{\"marker\": {\"colorbar\": {\"outlinewidth\": 0, \"ticks\": \"\"}}, \"type\": \"scattermapbox\"}], \"scatterpolar\": [{\"marker\": {\"colorbar\": {\"outlinewidth\": 0, \"ticks\": \"\"}}, \"type\": \"scatterpolar\"}], \"scatterpolargl\": [{\"marker\": {\"colorbar\": {\"outlinewidth\": 0, \"ticks\": \"\"}}, \"type\": \"scatterpolargl\"}], \"scatterternary\": [{\"marker\": {\"colorbar\": {\"outlinewidth\": 0, \"ticks\": \"\"}}, \"type\": \"scatterternary\"}], \"surface\": [{\"colorbar\": {\"outlinewidth\": 0, \"ticks\": \"\"}, \"colorscale\": [[0.0, \"#0d0887\"], [0.1111111111111111, \"#46039f\"], [0.2222222222222222, \"#7201a8\"], [0.3333333333333333, \"#9c179e\"], [0.4444444444444444, \"#bd3786\"], [0.5555555555555556, \"#d8576b\"], [0.6666666666666666, \"#ed7953\"], [0.7777777777777778, \"#fb9f3a\"], [0.8888888888888888, \"#fdca26\"], [1.0, \"#f0f921\"]], \"type\": \"surface\"}], \"table\": [{\"cells\": {\"fill\": {\"color\": \"#EBF0F8\"}, \"line\": {\"color\": \"white\"}}, \"header\": {\"fill\": {\"color\": \"#C8D4E3\"}, \"line\": {\"color\": \"white\"}}, \"type\": \"table\"}]}, \"layout\": {\"annotationdefaults\": {\"arrowcolor\": \"#2a3f5f\", \"arrowhead\": 0, \"arrowwidth\": 1}, \"coloraxis\": {\"colorbar\": {\"outlinewidth\": 0, \"ticks\": \"\"}}, \"colorscale\": {\"diverging\": [[0, \"#8e0152\"], [0.1, \"#c51b7d\"], [0.2, \"#de77ae\"], [0.3, \"#f1b6da\"], [0.4, \"#fde0ef\"], [0.5, \"#f7f7f7\"], [0.6, \"#e6f5d0\"], [0.7, \"#b8e186\"], [0.8, \"#7fbc41\"], [0.9, \"#4d9221\"], [1, \"#276419\"]], \"sequential\": [[0.0, \"#0d0887\"], [0.1111111111111111, \"#46039f\"], [0.2222222222222222, \"#7201a8\"], [0.3333333333333333, \"#9c179e\"], [0.4444444444444444, \"#bd3786\"], [0.5555555555555556, \"#d8576b\"], [0.6666666666666666, \"#ed7953\"], [0.7777777777777778, \"#fb9f3a\"], [0.8888888888888888, \"#fdca26\"], [1.0, \"#f0f921\"]], \"sequentialminus\": [[0.0, \"#0d0887\"], [0.1111111111111111, \"#46039f\"], [0.2222222222222222, \"#7201a8\"], [0.3333333333333333, \"#9c179e\"], [0.4444444444444444, \"#bd3786\"], [0.5555555555555556, \"#d8576b\"], [0.6666666666666666, \"#ed7953\"], [0.7777777777777778, \"#fb9f3a\"], [0.8888888888888888, \"#fdca26\"], [1.0, \"#f0f921\"]]}, \"colorway\": [\"#636efa\", \"#EF553B\", \"#00cc96\", \"#ab63fa\", \"#FFA15A\", \"#19d3f3\", \"#FF6692\", \"#B6E880\", \"#FF97FF\", \"#FECB52\"], \"font\": {\"color\": \"#2a3f5f\"}, \"geo\": {\"bgcolor\": \"white\", \"lakecolor\": \"white\", \"landcolor\": \"#E5ECF6\", \"showlakes\": true, \"showland\": true, \"subunitcolor\": \"white\"}, \"hoverlabel\": {\"align\": \"left\"}, \"hovermode\": \"closest\", \"mapbox\": {\"style\": \"light\"}, \"paper_bgcolor\": \"white\", \"plot_bgcolor\": \"#E5ECF6\", \"polar\": {\"angularaxis\": {\"gridcolor\": \"white\", \"linecolor\": \"white\", \"ticks\": \"\"}, \"bgcolor\": \"#E5ECF6\", \"radialaxis\": {\"gridcolor\": \"white\", \"linecolor\": \"white\", \"ticks\": \"\"}}, \"scene\": {\"xaxis\": {\"backgroundcolor\": \"#E5ECF6\", \"gridcolor\": \"white\", \"gridwidth\": 2, \"linecolor\": \"white\", \"showbackground\": true, \"ticks\": \"\", \"zerolinecolor\": \"white\"}, \"yaxis\": {\"backgroundcolor\": \"#E5ECF6\", \"gridcolor\": \"white\", \"gridwidth\": 2, \"linecolor\": \"white\", \"showbackground\": true, \"ticks\": \"\", \"zerolinecolor\": \"white\"}, \"zaxis\": {\"backgroundcolor\": \"#E5ECF6\", \"gridcolor\": \"white\", \"gridwidth\": 2, \"linecolor\": \"white\", \"showbackground\": true, \"ticks\": \"\", \"zerolinecolor\": \"white\"}}, \"shapedefaults\": {\"line\": {\"color\": \"#2a3f5f\"}}, \"ternary\": {\"aaxis\": {\"gridcolor\": \"white\", \"linecolor\": \"white\", \"ticks\": \"\"}, \"baxis\": {\"gridcolor\": \"white\", \"linecolor\": \"white\", \"ticks\": \"\"}, \"bgcolor\": \"#E5ECF6\", \"caxis\": {\"gridcolor\": \"white\", \"linecolor\": \"white\", \"ticks\": \"\"}}, \"title\": {\"x\": 0.05}, \"xaxis\": {\"automargin\": true, \"gridcolor\": \"white\", \"linecolor\": \"white\", \"ticks\": \"\", \"title\": {\"standoff\": 15}, \"zerolinecolor\": \"white\", \"zerolinewidth\": 2}, \"yaxis\": {\"automargin\": true, \"gridcolor\": \"white\", \"linecolor\": \"white\", \"ticks\": \"\", \"title\": {\"standoff\": 15}, \"zerolinecolor\": \"white\", \"zerolinewidth\": 2}}}},\n",
       "                        {\"responsive\": true}\n",
       "                    ).then(function(){\n",
       "                            \n",
       "var gd = document.getElementById('98977c99-be13-4981-a219-1e4e1eb30442');\n",
       "var x = new MutationObserver(function (mutations, observer) {{\n",
       "        var display = window.getComputedStyle(gd).display;\n",
       "        if (!display || display === 'none') {{\n",
       "            console.log([gd, 'removed!']);\n",
       "            Plotly.purge(gd);\n",
       "            observer.disconnect();\n",
       "        }}\n",
       "}});\n",
       "\n",
       "// Listen for the removal of the full notebook cells\n",
       "var notebookContainer = gd.closest('#notebook-container');\n",
       "if (notebookContainer) {{\n",
       "    x.observe(notebookContainer, {childList: true});\n",
       "}}\n",
       "\n",
       "// Listen for the clearing of the current output cell\n",
       "var outputEl = gd.closest('.output');\n",
       "if (outputEl) {{\n",
       "    x.observe(outputEl, {childList: true});\n",
       "}}\n",
       "\n",
       "                        })\n",
       "                };\n",
       "                });\n",
       "            </script>\n",
       "        </div>"
      ]
     },
     "metadata": {},
     "output_type": "display_data"
    }
   ],
   "source": [
    "\n",
    "feture_to_plot = [\"energy\", \"liveness\", \"tempo\", \"valence\", \"loudness\", \"speechiness\", \"acousticness\", \"danceability\", \"instrumentalness\"]\n",
    "text1 = df_2017[\"artists\"] + \" - \" + df_2017[\"name\"]\n",
    "text2 = text1.values\n",
    "X = df_2017[feture_to_plot].values\n",
    "y = df_2017[\"danceability\"].values\n",
    "min_maxscaler = MinMaxScaler()\n",
    "X = min_maxscaler.fit_transform(X)\n",
    "pca = PCA(n_components=3)\n",
    "pca.fit(X)\n",
    "X = pca.transform(X)\n",
    "\n",
    "plot3d = go.Scatter3d(\n",
    "    x=X[:,0],\n",
    "    y=X[:,1],\n",
    "    z=X[:,2],\n",
    "    text=text2,\n",
    "    mode=\"markers\",\n",
    "    marker=dict(\n",
    "        size=8,\n",
    "        color=y\n",
    "    )\n",
    ")\n",
    "\n",
    "fig = go.Figure(data=[plot3d])\n",
    "py.iplot(fig, filename=\"3d graph\")\n"
   ]
  },
  {
   "cell_type": "code",
   "execution_count": 28,
   "metadata": {},
   "outputs": [
    {
     "data": {
      "image/png": "[encoded data removed]",
      "text/plain": [
       "<Figure size 864x576 with 2 Axes>"
      ]
     },
     "metadata": {
      "needs_background": "light"
     },
     "output_type": "display_data"
    }
   ],
   "source": [
    "correlation = df_2017[['acousticness','danceability','energy','instrumentalness','liveness','tempo','valence',\n",
    "                       'loudness']]\n",
    "plt.figure(figsize=(12,8))\n",
    "sns.heatmap(correlation.corr(), annot=True,cmap=\"coolwarm\");"
   ]
  },
  {
   "cell_type": "markdown",
   "metadata": {},
   "source": [
    "##### We can observe that there is a correlation between the loudness and the perceived energy of the song. The jointplots indicate a correlation between these two. Lets understand  how much one feature si impacted by another feature "
   ]
  },
  {
   "cell_type": "code",
   "execution_count": 30,
   "metadata": {},
   "outputs": [],
   "source": [
    "def create_joinplot(val1,val2,year,colr):\n",
    "    sns.jointplot(val1,val2, data=year,kind='reg',color=colr)"
   ]
  },
  {
   "cell_type": "code",
   "execution_count": 31,
   "metadata": {},
   "outputs": [
    {
     "data": {
      "image/png": "[encoded data removed]",
      "text/plain": [
       "<Figure size 432x432 with 3 Axes>"
      ]
     },
     "metadata": {
      "needs_background": "light"
     },
     "output_type": "display_data"
    },
    {
     "data": {
      "image/png": "[encoded data removed]",
      "text/plain": [
       "<Figure size 432x432 with 3 Axes>"
      ]
     },
     "metadata": {
      "needs_background": "light"
     },
     "output_type": "display_data"
    },
    {
     "data": {
      "image/png": "[encoded data removed]",
      "text/plain": [
       "<Figure size 432x432 with 3 Axes>"
      ]
     },
     "metadata": {
      "needs_background": "light"
     },
     "output_type": "display_data"
    },
    {
     "data": {
      "image/png": "[encoded data removed]",
      "text/plain": [
       "<Figure size 432x432 with 3 Axes>"
      ]
     },
     "metadata": {
      "needs_background": "light"
     },
     "output_type": "display_data"
    }
   ],
   "source": [
    "\n",
    "create_joinplot('loudness','energy',df_2017,'r')\n",
    "create_joinplot('tempo','danceability',df_2017,'b')\n",
    "create_joinplot('acousticness','energy',df_2017,'y')\n",
    "create_joinplot('valence','energy',df_2017,'b')"
   ]
  },
  {
   "cell_type": "markdown",
   "metadata": {},
   "source": [
    "### from the corelation matrix we observe that  \n",
    "- there is a relation between  tempo and dancebility \n",
    "- there is a relation between  acounsticeness and energy \n",
    "- there is a relation between  tempo and acousticeness\n",
    "- there is a relation between  energy and loudness\n",
    "- there is a relation between  tempo and valence\n",
    "- there is a relation between  valence and dancebility \n",
    "- there is a relation between  valence and energy  "
   ]
  },
  {
   "cell_type": "markdown",
   "metadata": {},
   "source": [
    "#### understand these correlation features in more details ;\n"
   ]
  },
  {
   "cell_type": "code",
   "execution_count": null,
   "metadata": {},
   "outputs": [],
   "source": [
    "def feature_details(feature):\n",
    "    print(\"Mean value \", feature.mean())\n",
    "    sns.distplot(feature,color=\"r\")\n",
    "    plt.show()\n"
   ]
  },
  {
   "cell_type": "code",
   "execution_count": null,
   "metadata": {},
   "outputs": [],
   "source": [
    "feature_details(df_2017['danceability'])"
   ]
  },
  {
   "cell_type": "markdown",
   "metadata": {},
   "source": [
    "*Conclusion*: top songs have high dancebility.And people listen to those songs in which they can dance."
   ]
  },
  {
   "cell_type": "code",
   "execution_count": null,
   "metadata": {},
   "outputs": [],
   "source": [
    "feature_details(df_2017['energy'])"
   ]
  },
  {
   "cell_type": "markdown",
   "metadata": {},
   "source": [
    "*Conclusion*:people like energetic songs "
   ]
  },
  {
   "cell_type": "code",
   "execution_count": null,
   "metadata": {},
   "outputs": [],
   "source": [
    "feature_details(df_2017['loudness'])"
   ]
  },
  {
   "cell_type": "markdown",
   "metadata": {},
   "source": [
    "*Conclusion*: more noice means more ranking "
   ]
  },
  {
   "cell_type": "code",
   "execution_count": null,
   "metadata": {},
   "outputs": [],
   "source": [
    "feature_details(df_2017['acousticness'])"
   ]
  },
  {
   "cell_type": "markdown",
   "metadata": {},
   "source": [
    "*Conclusion*:people don't lisen more to the acoustics "
   ]
  },
  {
   "cell_type": "code",
   "execution_count": null,
   "metadata": {},
   "outputs": [],
   "source": [
    "feature_details(df_2017['valence'])"
   ]
  },
  {
   "cell_type": "markdown",
   "metadata": {},
   "source": [
    "*Conclusion*:songs are evenly distributed and totally depends upon the mood "
   ]
  },
  {
   "cell_type": "code",
   "execution_count": null,
   "metadata": {},
   "outputs": [],
   "source": [
    "feature_details(df_2017['tempo'])"
   ]
  },
  {
   "cell_type": "markdown",
   "metadata": {},
   "source": [
    "*Conclusion*:people listen fast songs more "
   ]
  },
  {
   "cell_type": "markdown",
   "metadata": {},
   "source": [
    "### Again construct a 3d graph  with out limited features for better understanding "
   ]
  },
  {
   "cell_type": "code",
   "execution_count": null,
   "metadata": {},
   "outputs": [],
   "source": [
    "\n",
    "feture_to_plot = [\"energy\", \"liveness\", \"tempo\", \"valence\",\"danceability\"]\n",
    "text1 = df_2017[\"artists\"] + \" - \" + df_2017[\"name\"]\n",
    "text2 = text1.values\n",
    "X = df_2017[feture_to_plot].values\n",
    "y = df_2017[\"danceability\"].values\n",
    "min_maxscaler = MinMaxScaler()\n",
    "X = min_maxscaler.fit_transform(X)\n",
    "pca = PCA(n_components=3)\n",
    "pca.fit(X)\n",
    "X = pca.transform(X)\n",
    "\n",
    "plot3d = go.Scatter3d(\n",
    "    x=X[:,0],\n",
    "    y=X[:,1],\n",
    "    z=X[:,2],\n",
    "    text=text2,\n",
    "    mode=\"markers\",\n",
    "    marker=dict(\n",
    "        size=8,\n",
    "        color=y\n",
    "    )\n",
    ")\n",
    "\n",
    "fig = go.Figure(data=[plot3d])\n",
    "py.iplot(fig, filename=\"3d graph-2nd\")\n"
   ]
  },
  {
   "cell_type": "code",
   "execution_count": null,
   "metadata": {},
   "outputs": [],
   "source": []
  },
  {
   "cell_type": "code",
   "execution_count": null,
   "metadata": {},
   "outputs": [],
   "source": []
  },
  {
   "cell_type": "markdown",
   "metadata": {},
   "source": [
    " ### create a popularity column depending on our matrices"
   ]
  },
  {
   "cell_type": "code",
   "execution_count": null,
   "metadata": {},
   "outputs": [],
   "source": [
    "df_2017[\"popularity\"]=\"\"\n",
    "df_2017.loc[(df_2017['danceability']>=0.69) | (df_2017['energy']>=0.66)| (df_2017['loudness']>=-5.6)| (df_2017['acousticness']>=0.16)| \n",
    "            (df_2017['valence']>=0.51)| (df_2017['tempo']>=119.0),'popularity']='1'\n",
    "df_2017.loc[(df_2017['danceability']<0.69) & (df_2017['energy']<0.66) & (df_2017['loudness']<-5.6),'popularity']='0'\n",
    "df_2017.head()\n",
    "\n",
    "df_2017.to_csv(\"./Data/df_2017_new.csv\",index=False)"
   ]
  },
  {
   "cell_type": "code",
   "execution_count": null,
   "metadata": {
    "scrolled": true
   },
   "outputs": [],
   "source": [
    "df_2017.head()"
   ]
  },
  {
   "cell_type": "code",
   "execution_count": null,
   "metadata": {},
   "outputs": [],
   "source": [
    "df_2017_new=pd.read_csv('./Data/df_2017_new.csv')\n"
   ]
  },
  {
   "cell_type": "markdown",
   "metadata": {},
   "source": [
    "## corelation between features and popularity"
   ]
  },
  {
   "cell_type": "code",
   "execution_count": null,
   "metadata": {},
   "outputs": [],
   "source": [
    "def draw(year,compare_col,color):\n",
    "    graph = sns.FacetGrid(df_2017_new, col = \"popularity\")\n",
    "    graph.map(sns.distplot, compare_col, bins = 25,color=color)\n",
    "    return plt.show()"
   ]
  },
  {
   "cell_type": "code",
   "execution_count": null,
   "metadata": {},
   "outputs": [],
   "source": [
    "draw(df_2017_new,\"danceability\",\"b\")\n",
    "draw(df_2017_new,\"acousticness\",\"r\")\n",
    "draw(df_2017_new,\"loudness\",\"m\")\n",
    "draw(df_2017_new,\"valence\",\"r\")\n",
    "draw(df_2017_new,\"tempo\",\"y\")\n"
   ]
  },
  {
   "cell_type": "code",
   "execution_count": null,
   "metadata": {},
   "outputs": [],
   "source": [
    "popularity_data = pd.concat([df_2017_new[\"name\"],df_2017_new[\"popularity\"]],axis=1)\n",
    "popularity_data.head()"
   ]
  },
  {
   "cell_type": "code",
   "execution_count": null,
   "metadata": {},
   "outputs": [],
   "source": [
    "df_2017_final=df_2017.copy()\n",
    "df_2017_final.drop([\"id\",\"name\",\"artists\",\"tempo_rate\",\"dancebility_new\"],axis=1,inplace=True)\n",
    "df_2017_final.columns\n"
   ]
  },
  {
   "cell_type": "code",
   "execution_count": null,
   "metadata": {},
   "outputs": [],
   "source": [
    "df_2017_final[\"key\"] = df_2017_final[\"key\"].astype(\"category\")\n",
    "df_2017_final = pd.get_dummies(df_2017_final, columns=[\"key\"])\n",
    "df_2017_final.head()"
   ]
  },
  {
   "cell_type": "code",
   "execution_count": null,
   "metadata": {},
   "outputs": [],
   "source": [
    "df_2017_final[\"time_signature\"] = df_2017_final[\"time_signature\"].astype(\"category\")\n",
    "df_2017_final = pd.get_dummies(df_2017_final, columns=[\"time_signature\"])\n",
    "df_2017_final.head()"
   ]
  },
  {
   "cell_type": "code",
   "execution_count": null,
   "metadata": {},
   "outputs": [],
   "source": [
    "def change_datatype(var):\n",
    "    df_2017_final[var] = df_2017_final[var].astype(int)\n",
    "    \n",
    "columns= [\"key_0.0\",\"key_1.0\",\"key_2.0\",\n",
    "         \"key_3.0\",\"key_4.0\",\"key_5.0\",\"key_6.0\",\"key_7.0\",\"key_8.0\",\"key_9.0\",\"key_10.0\",\"key_11.0\",\"time_signature_3.0\",\"time_signature_4.0\"]\n",
    "for column in columns:\n",
    "    change_datatype(column)\n",
    "    "
   ]
  },
  {
   "cell_type": "code",
   "execution_count": null,
   "metadata": {},
   "outputs": [],
   "source": [
    "def load_data():\n",
    "    \n",
    "    y = df_2017_final[\"popularity\"].values\n",
    "    X = df_2017_final.drop([\"popularity\"],axis=1)\n",
    "    return X,y\n",
    "X,y =load_data()\n",
    "\n",
    "feature_cols = X.columns.to_list()"
   ]
  },
  {
   "cell_type": "markdown",
   "metadata": {},
   "source": [
    "#### There is not a great  linear correlations in our data So, Decision Tree algorithms will give  better results as compared to linear regression models. Therfore using  Random Forest \n",
    " "
   ]
  },
  {
   "cell_type": "code",
   "execution_count": null,
   "metadata": {},
   "outputs": [],
   "source": [
    "\n",
    "#x_data=X\n",
    "X,y = load_data()\n",
    "X_train, X_test, y_train, y_test = train_test_split(X,y,test_size = 0.6)\n",
    "# X_train = X_train.T\n",
    "# X_test = X_test.T\n",
    "X_train=X_train[:None]\n",
    "X_test=X_test[:None]\n",
    "y_train = y_train.astype(int).T\n",
    "y_test = y_test.astype(int).T\n",
    "print(\"X_train: \",X_train.shape)\n",
    "print(\"X_test: \",X_test.shape)\n",
    "print(\"y_train: \",y_train.shape)\n",
    "print(\"y_test: \",y_test.shape)\n"
   ]
  },
  {
   "cell_type": "code",
   "execution_count": null,
   "metadata": {},
   "outputs": [],
   "source": [
    "def plot_impfeature():\n",
    "    xgb = XGBClassifier()\n",
    "    xgb.fit(X_train, y_train)\n",
    "    ax = plot_importance(xgb,color=\"r\", height=0.15,\n",
    "                         title='  Features Importance ', xlabel='Feature score', ylabel='Features',\n",
    "                         importance_type='weight'\n",
    "                        )\n",
    "\n",
    "    return pyplot.show()\n",
    "\n",
    "\n",
    "plot_impfeature()"
   ]
  },
  {
   "cell_type": "markdown",
   "metadata": {},
   "source": [
    "##### The above graph assure that :\n",
    "-  Our proposed ranked features turned out to be  most important for this data  \n",
    "-  Example: we calculated features like :dancebility ,energy,loudness ets of most importance.And hence thus turned out true."
   ]
  },
  {
   "cell_type": "code",
   "execution_count": null,
   "metadata": {},
   "outputs": [],
   "source": [
    "rf=RandomForestClassifier(random_state = 3)\n",
    "rf.fit(X_train,y_train)\n",
    "\n",
    "print(\"Train accuracy \",rf.score(X_train,y_train))\n",
    "print(\"Test accuracy \",rf.score(X_test,y_test))\n",
    "\n",
    "RandomForestClassifier_score=rf.score(X_test,y_test)\n",
    "y_pred=rf.predict(X_test)\n",
    "t_true=y_test"
   ]
  },
  {
   "cell_type": "code",
   "execution_count": null,
   "metadata": {},
   "outputs": [],
   "source": []
  }
 ],
 "metadata": {
  "kernelspec": {
   "display_name": "Python 3",
   "language": "python",
   "name": "python3"
  },
  "language_info": {
   "codemirror_mode": {
    "name": "ipython",
    "version": 3
   },
   "file_extension": ".py",
   "mimetype": "text/x-python",
   "name": "python",
   "nbconvert_exporter": "python",
   "pygments_lexer": "ipython3",
   "version": "3.7.3"
  }
 },
 "nbformat": 4,
 "nbformat_minor": 2
}
